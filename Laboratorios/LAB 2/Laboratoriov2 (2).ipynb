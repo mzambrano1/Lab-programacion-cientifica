{
  "nbformat": 4,
  "nbformat_minor": 0,
  "metadata": {
    "kernelspec": {
      "display_name": "Python 3",
      "language": "python",
      "name": "python3"
    },
    "language_info": {
      "codemirror_mode": {
        "name": "ipython",
        "version": 3
      },
      "file_extension": ".py",
      "mimetype": "text/x-python",
      "name": "python",
      "nbconvert_exporter": "python",
      "pygments_lexer": "ipython3",
      "version": "3.8.3"
    },
    "toc": {
      "base_numbering": 1,
      "nav_menu": {},
      "number_sections": true,
      "sideBar": true,
      "skip_h1_title": true,
      "title_cell": "Tabla de Contenidos",
      "title_sidebar": "Contenidos",
      "toc_cell": false,
      "toc_position": {
        "height": "calc(100% - 180px)",
        "left": "10px",
        "top": "150px",
        "width": "241.867px"
      },
      "toc_section_display": true,
      "toc_window_display": true
    },
    "varInspector": {
      "cols": {
        "lenName": 16,
        "lenType": 16,
        "lenVar": 40
      },
      "kernels_config": {
        "python": {
          "delete_cmd_postfix": "",
          "delete_cmd_prefix": "del ",
          "library": "var_list.py",
          "varRefreshCmd": "print(var_dic_list())"
        },
        "r": {
          "delete_cmd_postfix": ") ",
          "delete_cmd_prefix": "rm(",
          "library": "var_list.r",
          "varRefreshCmd": "cat(var_dic_list()) "
        }
      },
      "types_to_exclude": [
        "module",
        "function",
        "builtin_function_or_method",
        "instance",
        "_Feature"
      ],
      "window_display": false
    },
    "colab": {
      "name": "Laboratoriov2.ipynb",
      "provenance": [],
      "collapsed_sections": [],
      "toc_visible": true
    }
  },
  "cells": [
    {
      "cell_type": "markdown",
      "metadata": {
        "id": "XUZ1dFPHzAHl"
      },
      "source": [
        "<h1><center>Laboratorio 2: El Pandas no muerde 🐼</center></h1>\n",
        "\n",
        "<center><strong>MDS7202: Laboratorio de Programación Científica para Ciencia de Datos</strong></center>"
      ]
    },
    {
      "cell_type": "markdown",
      "metadata": {
        "id": "UD8X1uhGzAHq"
      },
      "source": [
        "### Cuerpo Docente:\n",
        "\n",
        "- Profesor: Pablo Badilla\n",
        "- Auxiliar: Ignacio Meza D.\n",
        "- Ayudante: Diego Irarrázaval"
      ]
    },
    {
      "cell_type": "markdown",
      "metadata": {
        "id": "tXflExjqzAHr"
      },
      "source": [
        "### Equipo: SUPER IMPORTANTE - notebooks sin nombre no serán revisados\n",
        "\n",
        "- Nombre de alumno 1: Joaquín Ortega Vásquez\n",
        "- Nombre de alumno 2: María José Zambrano\n"
      ]
    },
    {
      "cell_type": "markdown",
      "metadata": {
        "id": "AD-V0bbZzAHr"
      },
      "source": [
        "### **Link de repositorio de GitHub:** `https://github.com/mzambrano1/Lab-programacion-cientifica`"
      ]
    },
    {
      "cell_type": "markdown",
      "metadata": {
        "id": "EcnsiQMkzAHr"
      },
      "source": [
        "### Indice \n",
        "\n",
        "1. [Temas a tratar](#Temas-a-tratar:)\n",
        "3. [Descripcción del laboratorio](#Descripción-del-laboratorio.)\n",
        "4. [Desarrollo](#Desarrollo)"
      ]
    },
    {
      "cell_type": "markdown",
      "metadata": {
        "id": "6uBLPj1PzAHs"
      },
      "source": [
        "# Temas a tratar\n",
        "\n",
        "- Manejo de DataFrames con la libreria `pandas`.\n",
        "- Visualizaciones interactivas de los datos con `plotly`.\n",
        "\n",
        "## Reglas:\n",
        "\n",
        "- Fecha de entrega: TBD\n",
        "- **Grupos de 2 personas**\n",
        "- **Ausentes** deberán realizar la actividad solos. \n",
        "- Cualquier duda fuera del horario de clases al foro. Mensajes al equipo docente serán respondidos por este medio.\n",
        "- Prohibidas las copias. \n",
        "- Pueden usar cualquer material y segmentos de código del curso que estimen conveniente.\n",
        "\n",
        "### Objetivos principales del laboratorio\n",
        "\n",
        "- Aplicar y aprovechar las ventajas que nos ofrece la libreria `pandas`.\n",
        "- Utilizar `plotly` para obtener información gráfica del dataset.\n",
        "- Aplicar el **Análisis Exploratorio de Datos** a un caso en particular.\n",
        "\n",
        "\n",
        "El laboratorio deberá ser desarrollado **sin el uso indiscriminado de nativos de python** (aka \"for\", \"while\"). La idea es que aprendan a exprimir al máximo las funciones optimizadas que nos entrega `pandas`, las cuales vale mencionar, son bastante más eficientes que los iteradores nativos sobre DataFrames."
      ]
    },
    {
      "cell_type": "markdown",
      "metadata": {
        "id": "MhISwri4zAHy"
      },
      "source": [
        "#Importamos librerias utiles 😸"
      ]
    },
    {
      "cell_type": "code",
      "metadata": {
        "ExecuteTime": {
          "end_time": "2021-03-29T00:08:16.884674Z",
          "start_time": "2021-03-29T00:08:16.349846Z"
        },
        "id": "uyc33dKdzAHy"
      },
      "source": [
        "# Libreria Core del lab.\n",
        "import numpy as np\n",
        "import pandas as pd\n",
        "from IPython.display import display\n",
        "\n",
        "#Libreria para visualizar\n",
        "#!pip install --upgrade plotly\n",
        "import plotly.express as px"
      ],
      "execution_count": 1,
      "outputs": []
    },
    {
      "cell_type": "markdown",
      "metadata": {
        "id": "xpOTbQcxbSiy"
      },
      "source": [
        "# 1. Rendimiento en Estudiantes 📚"
      ]
    },
    {
      "cell_type": "markdown",
      "metadata": {
        "id": "3Q93vbNS25bM"
      },
      "source": [
        "\n",
        "<p align=\"center\">\n",
        "  <img src=\"https://drive.google.com/uc?export=view&id=1hZZaPQlZe4VupFOXt76_wjuUA5NpUhrw\" width=\"300\" height=\"300\">\n",
        "</p>"
      ]
    },
    {
      "cell_type": "markdown",
      "metadata": {
        "id": "jnmZfFpxTTYX"
      },
      "source": [
        "Para este laboratorio deberán realizar un Análisis Exploratorio de datos sobre el conjunto ```students_grades.csv```, el cual contiene una caracterización sobre el rendimiento y otros atributos de cada alumno de la *Universidad de la Cachaña* ."
      ]
    },
    {
      "cell_type": "code",
      "metadata": {
        "colab": {
          "base_uri": "https://localhost:8080/"
        },
        "id": "Jqq-s010Iwl1",
        "outputId": "8ea52bdd-472d-40d3-ec93-6d946f288e24"
      },
      "source": [
        "# Usar solamente si utilizan Collab.\n",
        "from google.colab import drive\n",
        "drive.mount(\"/content/drive\")\n",
        "dir = '//content//drive//My Drive//lab2//'"
      ],
      "execution_count": 2,
      "outputs": [
        {
          "output_type": "stream",
          "text": [
            "Drive already mounted at /content/drive; to attempt to forcibly remount, call drive.mount(\"/content/drive\", force_remount=True).\n"
          ],
          "name": "stdout"
        }
      ]
    },
    {
      "cell_type": "code",
      "metadata": {
        "id": "bED3w3tDbSCf"
      },
      "source": [
        "df_grades = pd.read_csv(dir+'students_grades.csv')\n"
      ],
      "execution_count": 3,
      "outputs": []
    },
    {
      "cell_type": "markdown",
      "metadata": {
        "id": "Y7sGYwOpN1VJ"
      },
      "source": [
        "## 1.1 Revisión de datos [1 punto]\n",
        "\n",
        "<p align=\"center\">\n",
        "  <img src=\"https://media2.giphy.com/media/4FQMuOKR6zQRO/giphy.gif?cid=ecf05e47ii9lhu9tc9tb31d6lafrysp2zyf6u8w3y348mk8t&rid=giphy.gif&ct=g\">\n",
        "</p>\n",
        "\n"
      ]
    },
    {
      "cell_type": "markdown",
      "metadata": {
        "id": "sgVJGeVMMshn"
      },
      "source": [
        "El Rector *Don Caguayo* le comenta que actualmente la Universidad posee un total de **1000** alumnos inscritos. Sin embargo, al revisar su *Excel*, no le cabe en la cabeza que hayan más de **1000** alumnos en la universidad. \n",
        "\n",
        "Consternado, el rector cree que se han realizado malas prácticas al inscribir tanto los registros de las notas como las notas como tal y les solicita a ustedes (aka, los expertos) que revisen los datos. \n",
        "\n",
        "Para esto, usted debe estar al tanto que las notas están en una escala que van del **0 al 100** (porcentaje de logro) y **no es posible que un alumno haya dado más de una vez el mismo examen**.\n",
        "\n",
        "Cree una función que le permita revisar si las diferentes variables que componen el dataset son coherentes y si es posible observar anomalías en estas.\n",
        "\n",
        "> ¿Sera necesario limpiar los datos?, comente esto en la celda ubicada debajo de **justificación**. (agregar si están bien el rango de notas)\n",
        "\n",
        "**To-Do**\n",
        "\n",
        "Crear la función que `analisis_exploratorio` que:\n",
        "- [ ] Imprima un extracto del Dataframe (usar `display` en vez de `print` para los DataFrames).\n",
        "- [ ] Imprima las dimensiones del DataFrame.\n",
        "- [ ] Describa los datos numéricos a través de ```.describe()```.\n",
        "- [ ] Imprima el total de filas repetidas (hint: Buscar el método```duplicated()```.).\n",
        "- [ ] Imprima la cantidad de valores nulos (`ìsna()`).\n",
        "- [ ] Imprima la cantidad de valores unicos.\n",
        "\n",
        "Además, genere visualizaciones (fuera de la función) que:\n",
        "- [ ] Muestre la distribución de las variables numericas.\n",
        "\n",
        "Por último, \n",
        "\n",
        "- [ ] Justifique si será necesario limpiar los datos y aplique los análisis univariado y/o bivariado vistos en clase.\n"
      ]
    },
    {
      "cell_type": "code",
      "metadata": {
        "id": "2C5Mjcj4Xiou"
      },
      "source": [
        "def analisis_preliminar_datos(df_grades):\n",
        "  print('Extracto del dataframe: ')\n",
        "  display(df_grades)\n",
        "  print('\\n')\n",
        "  print('dimensiones del dataframe: ',df_grades.shape,'\\n')\n",
        "  print('Datos númericos del dataframe: ')\n",
        "  display(df_grades.describe())\n",
        "  print('\\n')\n",
        "\n",
        "  print('filas duplicadas del dataframe: ')\n",
        "  display(df_grades[df_grades.duplicated()])\n",
        "  print('\\n')\n",
        "  print('cantidad de datos nulos por columna: ')\n",
        "  print(df_grades.isna().sum(),'\\n')\n",
        "  print('valores unicos: ')\n",
        "  print(df_grades.nunique())\n"
      ],
      "execution_count": 4,
      "outputs": []
    },
    {
      "cell_type": "code",
      "metadata": {
        "colab": {
          "base_uri": "https://localhost:8080/",
          "height": 1000
        },
        "id": "fnZrW6_ihEfh",
        "outputId": "24e284af-ea59-4b48-eb72-013db8541337"
      },
      "source": [
        "analisis_preliminar_datos(df_grades)"
      ],
      "execution_count": 5,
      "outputs": [
        {
          "output_type": "stream",
          "text": [
            "Extracto del dataframe: \n"
          ],
          "name": "stdout"
        },
        {
          "output_type": "display_data",
          "data": {
            "text/html": [
              "<div>\n",
              "<style scoped>\n",
              "    .dataframe tbody tr th:only-of-type {\n",
              "        vertical-align: middle;\n",
              "    }\n",
              "\n",
              "    .dataframe tbody tr th {\n",
              "        vertical-align: top;\n",
              "    }\n",
              "\n",
              "    .dataframe thead th {\n",
              "        text-align: right;\n",
              "    }\n",
              "</style>\n",
              "<table border=\"1\" class=\"dataframe\">\n",
              "  <thead>\n",
              "    <tr style=\"text-align: right;\">\n",
              "      <th></th>\n",
              "      <th>names</th>\n",
              "      <th>gender</th>\n",
              "      <th>race/ethnicity</th>\n",
              "      <th>parental level of education</th>\n",
              "      <th>lunch</th>\n",
              "      <th>test preparation course</th>\n",
              "      <th>math score</th>\n",
              "      <th>reading score</th>\n",
              "      <th>writing score</th>\n",
              "    </tr>\n",
              "  </thead>\n",
              "  <tbody>\n",
              "    <tr>\n",
              "      <th>0</th>\n",
              "      <td>Rita Courtney</td>\n",
              "      <td>female</td>\n",
              "      <td>group B</td>\n",
              "      <td>some high school</td>\n",
              "      <td>standard</td>\n",
              "      <td>none</td>\n",
              "      <td>37.0</td>\n",
              "      <td>46.0</td>\n",
              "      <td>46.0</td>\n",
              "    </tr>\n",
              "    <tr>\n",
              "      <th>1</th>\n",
              "      <td>Madeline Fuller</td>\n",
              "      <td>female</td>\n",
              "      <td>group C</td>\n",
              "      <td>some high school</td>\n",
              "      <td>standard</td>\n",
              "      <td>none</td>\n",
              "      <td>124.0</td>\n",
              "      <td>142.0</td>\n",
              "      <td>142.0</td>\n",
              "    </tr>\n",
              "    <tr>\n",
              "      <th>2</th>\n",
              "      <td>Daniel Rester</td>\n",
              "      <td>male</td>\n",
              "      <td>group E</td>\n",
              "      <td>associate's degree</td>\n",
              "      <td>standard</td>\n",
              "      <td>none</td>\n",
              "      <td>156.0</td>\n",
              "      <td>196.0</td>\n",
              "      <td>193.0</td>\n",
              "    </tr>\n",
              "    <tr>\n",
              "      <th>3</th>\n",
              "      <td>Charles Linstrom</td>\n",
              "      <td>male</td>\n",
              "      <td>group A</td>\n",
              "      <td>bachelor's degree</td>\n",
              "      <td>standard</td>\n",
              "      <td>completed</td>\n",
              "      <td>80.0</td>\n",
              "      <td>78.0</td>\n",
              "      <td>81.0</td>\n",
              "    </tr>\n",
              "    <tr>\n",
              "      <th>4</th>\n",
              "      <td>Geraldine Hale</td>\n",
              "      <td>female</td>\n",
              "      <td>group A</td>\n",
              "      <td>associate's degree</td>\n",
              "      <td>standard</td>\n",
              "      <td>none</td>\n",
              "      <td>131.0</td>\n",
              "      <td>166.0</td>\n",
              "      <td>166.0</td>\n",
              "    </tr>\n",
              "    <tr>\n",
              "      <th>...</th>\n",
              "      <td>...</td>\n",
              "      <td>...</td>\n",
              "      <td>...</td>\n",
              "      <td>...</td>\n",
              "      <td>...</td>\n",
              "      <td>...</td>\n",
              "      <td>...</td>\n",
              "      <td>...</td>\n",
              "      <td>...</td>\n",
              "    </tr>\n",
              "    <tr>\n",
              "      <th>1395</th>\n",
              "      <td>Alexander Dillon</td>\n",
              "      <td>male</td>\n",
              "      <td>group D</td>\n",
              "      <td>associate's degree</td>\n",
              "      <td>standard</td>\n",
              "      <td>none</td>\n",
              "      <td>193.0</td>\n",
              "      <td>142.0</td>\n",
              "      <td>193.0</td>\n",
              "    </tr>\n",
              "    <tr>\n",
              "      <th>1396</th>\n",
              "      <td>Marina Zeigler</td>\n",
              "      <td>female</td>\n",
              "      <td>group C</td>\n",
              "      <td>bachelor's degree</td>\n",
              "      <td>free/reduced</td>\n",
              "      <td>completed</td>\n",
              "      <td>66.0</td>\n",
              "      <td>74.0</td>\n",
              "      <td>81.0</td>\n",
              "    </tr>\n",
              "    <tr>\n",
              "      <th>1397</th>\n",
              "      <td>Laurie Carter</td>\n",
              "      <td>female</td>\n",
              "      <td>group B</td>\n",
              "      <td>some high school</td>\n",
              "      <td>standard</td>\n",
              "      <td>completed</td>\n",
              "      <td>54.0</td>\n",
              "      <td>61.0</td>\n",
              "      <td>62.0</td>\n",
              "    </tr>\n",
              "    <tr>\n",
              "      <th>1398</th>\n",
              "      <td>Joseph Mccoy</td>\n",
              "      <td>male</td>\n",
              "      <td>group D</td>\n",
              "      <td>some college</td>\n",
              "      <td>free/reduced</td>\n",
              "      <td>none</td>\n",
              "      <td>193.0</td>\n",
              "      <td>196.0</td>\n",
              "      <td>193.0</td>\n",
              "    </tr>\n",
              "    <tr>\n",
              "      <th>1399</th>\n",
              "      <td>Amanda Perez</td>\n",
              "      <td>female</td>\n",
              "      <td>group A</td>\n",
              "      <td>high school</td>\n",
              "      <td>standard</td>\n",
              "      <td>completed</td>\n",
              "      <td>68.0</td>\n",
              "      <td>80.0</td>\n",
              "      <td>76.0</td>\n",
              "    </tr>\n",
              "  </tbody>\n",
              "</table>\n",
              "<p>1400 rows × 9 columns</p>\n",
              "</div>"
            ],
            "text/plain": [
              "                 names  gender  ... reading score writing score\n",
              "0        Rita Courtney  female  ...          46.0          46.0\n",
              "1      Madeline Fuller  female  ...         142.0         142.0\n",
              "2        Daniel Rester    male  ...         196.0         193.0\n",
              "3     Charles Linstrom    male  ...          78.0          81.0\n",
              "4       Geraldine Hale  female  ...         166.0         166.0\n",
              "...                ...     ...  ...           ...           ...\n",
              "1395  Alexander Dillon    male  ...         142.0         193.0\n",
              "1396    Marina Zeigler  female  ...          74.0          81.0\n",
              "1397     Laurie Carter  female  ...          61.0          62.0\n",
              "1398      Joseph Mccoy    male  ...         196.0         193.0\n",
              "1399      Amanda Perez  female  ...          80.0          76.0\n",
              "\n",
              "[1400 rows x 9 columns]"
            ]
          },
          "metadata": {
            "tags": []
          }
        },
        {
          "output_type": "stream",
          "text": [
            "\n",
            "\n",
            "dimensiones del dataframe:  (1400, 9) \n",
            "\n",
            "Datos númericos del dataframe: \n"
          ],
          "name": "stdout"
        },
        {
          "output_type": "display_data",
          "data": {
            "text/html": [
              "<div>\n",
              "<style scoped>\n",
              "    .dataframe tbody tr th:only-of-type {\n",
              "        vertical-align: middle;\n",
              "    }\n",
              "\n",
              "    .dataframe tbody tr th {\n",
              "        vertical-align: top;\n",
              "    }\n",
              "\n",
              "    .dataframe thead th {\n",
              "        text-align: right;\n",
              "    }\n",
              "</style>\n",
              "<table border=\"1\" class=\"dataframe\">\n",
              "  <thead>\n",
              "    <tr style=\"text-align: right;\">\n",
              "      <th></th>\n",
              "      <th>math score</th>\n",
              "      <th>reading score</th>\n",
              "      <th>writing score</th>\n",
              "    </tr>\n",
              "  </thead>\n",
              "  <tbody>\n",
              "    <tr>\n",
              "      <th>count</th>\n",
              "      <td>1360.000000</td>\n",
              "      <td>1360.000000</td>\n",
              "      <td>1353.000000</td>\n",
              "    </tr>\n",
              "    <tr>\n",
              "      <th>mean</th>\n",
              "      <td>89.538971</td>\n",
              "      <td>93.086029</td>\n",
              "      <td>91.852919</td>\n",
              "    </tr>\n",
              "    <tr>\n",
              "      <th>std</th>\n",
              "      <td>47.152422</td>\n",
              "      <td>46.385775</td>\n",
              "      <td>47.043570</td>\n",
              "    </tr>\n",
              "    <tr>\n",
              "      <th>min</th>\n",
              "      <td>0.000000</td>\n",
              "      <td>17.000000</td>\n",
              "      <td>10.000000</td>\n",
              "    </tr>\n",
              "    <tr>\n",
              "      <th>25%</th>\n",
              "      <td>59.000000</td>\n",
              "      <td>63.000000</td>\n",
              "      <td>62.000000</td>\n",
              "    </tr>\n",
              "    <tr>\n",
              "      <th>50%</th>\n",
              "      <td>72.000000</td>\n",
              "      <td>76.000000</td>\n",
              "      <td>75.000000</td>\n",
              "    </tr>\n",
              "    <tr>\n",
              "      <th>75%</th>\n",
              "      <td>97.250000</td>\n",
              "      <td>100.000000</td>\n",
              "      <td>100.000000</td>\n",
              "    </tr>\n",
              "    <tr>\n",
              "      <th>max</th>\n",
              "      <td>196.000000</td>\n",
              "      <td>196.000000</td>\n",
              "      <td>196.000000</td>\n",
              "    </tr>\n",
              "  </tbody>\n",
              "</table>\n",
              "</div>"
            ],
            "text/plain": [
              "        math score  reading score  writing score\n",
              "count  1360.000000    1360.000000    1353.000000\n",
              "mean     89.538971      93.086029      91.852919\n",
              "std      47.152422      46.385775      47.043570\n",
              "min       0.000000      17.000000      10.000000\n",
              "25%      59.000000      63.000000      62.000000\n",
              "50%      72.000000      76.000000      75.000000\n",
              "75%      97.250000     100.000000     100.000000\n",
              "max     196.000000     196.000000     196.000000"
            ]
          },
          "metadata": {
            "tags": []
          }
        },
        {
          "output_type": "stream",
          "text": [
            "\n",
            "\n",
            "filas duplicadas del dataframe: \n"
          ],
          "name": "stdout"
        },
        {
          "output_type": "display_data",
          "data": {
            "text/html": [
              "<div>\n",
              "<style scoped>\n",
              "    .dataframe tbody tr th:only-of-type {\n",
              "        vertical-align: middle;\n",
              "    }\n",
              "\n",
              "    .dataframe tbody tr th {\n",
              "        vertical-align: top;\n",
              "    }\n",
              "\n",
              "    .dataframe thead th {\n",
              "        text-align: right;\n",
              "    }\n",
              "</style>\n",
              "<table border=\"1\" class=\"dataframe\">\n",
              "  <thead>\n",
              "    <tr style=\"text-align: right;\">\n",
              "      <th></th>\n",
              "      <th>names</th>\n",
              "      <th>gender</th>\n",
              "      <th>race/ethnicity</th>\n",
              "      <th>parental level of education</th>\n",
              "      <th>lunch</th>\n",
              "      <th>test preparation course</th>\n",
              "      <th>math score</th>\n",
              "      <th>reading score</th>\n",
              "      <th>writing score</th>\n",
              "    </tr>\n",
              "  </thead>\n",
              "  <tbody>\n",
              "    <tr>\n",
              "      <th>827</th>\n",
              "      <td>Justin Harris</td>\n",
              "      <td>male</td>\n",
              "      <td>group D</td>\n",
              "      <td>some college</td>\n",
              "      <td>standard</td>\n",
              "      <td>none</td>\n",
              "      <td>40.0</td>\n",
              "      <td>42.0</td>\n",
              "      <td>38.0</td>\n",
              "    </tr>\n",
              "    <tr>\n",
              "      <th>900</th>\n",
              "      <td>Anthony Malcomb</td>\n",
              "      <td>male</td>\n",
              "      <td>group C</td>\n",
              "      <td>some college</td>\n",
              "      <td>free/reduced</td>\n",
              "      <td>none</td>\n",
              "      <td>35.0</td>\n",
              "      <td>28.0</td>\n",
              "      <td>27.0</td>\n",
              "    </tr>\n",
              "    <tr>\n",
              "      <th>1223</th>\n",
              "      <td>Charles Jackson</td>\n",
              "      <td>male</td>\n",
              "      <td>group E</td>\n",
              "      <td>some high school</td>\n",
              "      <td>standard</td>\n",
              "      <td>none</td>\n",
              "      <td>30.0</td>\n",
              "      <td>26.0</td>\n",
              "      <td>22.0</td>\n",
              "    </tr>\n",
              "  </tbody>\n",
              "</table>\n",
              "</div>"
            ],
            "text/plain": [
              "                names gender  ... reading score writing score\n",
              "827     Justin Harris   male  ...          42.0          38.0\n",
              "900   Anthony Malcomb   male  ...          28.0          27.0\n",
              "1223  Charles Jackson   male  ...          26.0          22.0\n",
              "\n",
              "[3 rows x 9 columns]"
            ]
          },
          "metadata": {
            "tags": []
          }
        },
        {
          "output_type": "stream",
          "text": [
            "\n",
            "\n",
            "cantidad de datos nulos por columna: \n",
            "names                           0\n",
            "gender                          0\n",
            "race/ethnicity                  0\n",
            "parental level of education     0\n",
            "lunch                           0\n",
            "test preparation course         0\n",
            "math score                     40\n",
            "reading score                  40\n",
            "writing score                  47\n",
            "dtype: int64 \n",
            "\n",
            "valores unicos: \n",
            "names                          1153\n",
            "gender                            2\n",
            "race/ethnicity                    5\n",
            "parental level of education       6\n",
            "lunch                             2\n",
            "test preparation course           2\n",
            "math score                       96\n",
            "reading score                    88\n",
            "writing score                    92\n",
            "dtype: int64\n"
          ],
          "name": "stdout"
        }
      ]
    },
    {
      "cell_type": "markdown",
      "metadata": {
        "id": "p0qeqAQBkZ1H"
      },
      "source": [
        "> Utilice alguna visualización (gráfique) para observar el comportamiento de los datos numericos. ¿Estan todos los valores correctos?"
      ]
    },
    {
      "cell_type": "code",
      "metadata": {
        "colab": {
          "base_uri": "https://localhost:8080/",
          "height": 542
        },
        "id": "PiR7jGgFk_fI",
        "outputId": "4a00ca1a-61a3-425d-e6d1-be6c8f90b6de"
      },
      "source": [
        "# Group data together\n",
        "df2 = df_grades.dropna()\n",
        "import plotly.figure_factory as ff\n",
        "hist_data = [df2['math score'], df2['reading score'] , df2['writing score']]\n",
        "\n",
        "group_labels = ['math', 'reading', 'witring']\n",
        "\n",
        "# Create distplot with custom bin_size\n",
        "fig = ff.create_distplot(hist_data, group_labels, bin_size=.2)\n",
        "fig.show()"
      ],
      "execution_count": 6,
      "outputs": [
        {
          "output_type": "display_data",
          "data": {
            "text/html": [
              "<html>\n",
              "<head><meta charset=\"utf-8\" /></head>\n",
              "<body>\n",
              "    <div>            <script src=\"https://cdnjs.cloudflare.com/ajax/libs/mathjax/2.7.5/MathJax.js?config=TeX-AMS-MML_SVG\"></script><script type=\"text/javascript\">if (window.MathJax) {MathJax.Hub.Config({SVG: {font: \"STIX-Web\"}});}</script>                <script type=\"text/javascript\">window.PlotlyConfig = {MathJaxConfig: 'local'};</script>\n",
              "        <script src=\"https://cdn.plot.ly/plotly-latest.min.js\"></script>                <div id=\"5e2c7e5b-2057-401a-a68a-998fe467cd90\" class=\"plotly-graph-div\" style=\"height:525px; width:100%;\"></div>            <script type=\"text/javascript\">                                    window.PLOTLYENV=window.PLOTLYENV || {};                                    if (document.getElementById(\"5e2c7e5b-2057-401a-a68a-998fe467cd90\")) {                    Plotly.newPlot(                        \"5e2c7e5b-2057-401a-a68a-998fe467cd90\",                        [{\"autobinx\": false, \"histnorm\": \"probability density\", \"legendgroup\": \"math\", \"marker\": {\"color\": \"rgb(31, 119, 180)\"}, \"name\": \"math\", \"opacity\": 0.7, \"type\": \"histogram\", \"x\": [37.0, 124.0, 156.0, 80.0, 131.0, 73.0, 81.0, 94.0, 71.0, 75.0, 124.0, 188.0, 193.0, 34.0, 193.0, 63.0, 94.0, 65.0, 95.0, 52.0, 62.0, 74.0, 124.0, 62.0, 73.0, 46.0, 82.0, 124.0, 63.0, 64.0, 80.0, 131.0, 93.0, 69.0, 46.0, 86.0, 59.0, 84.0, 64.0, 73.0, 83.0, 131.0, 75.0, 69.0, 68.0, 193.0, 57.0, 66.0, 61.0, 40.0, 50.0, 48.0, 36.0, 78.0, 196.0, 57.0, 122.0, 69.0, 124.0, 40.0, 92.0, 188.0, 35.0, 63.0, 193.0, 73.0, 63.0, 52.0, 131.0, 73.0, 63.0, 124.0, 71.0, 45.0, 85.0, 80.0, 40.0, 82.0, 188.0, 77.0, 91.0, 196.0, 60.0, 63.0, 40.0, 174.0, 57.0, 58.0, 147.0, 188.0, 97.0, 81.0, 68.0, 59.0, 96.0, 87.0, 57.0, 193.0, 193.0, 142.0, 94.0, 97.0, 124.0, 65.0, 82.0, 72.0, 62.0, 44.0, 49.0, 82.0, 75.0, 193.0, 59.0, 75.0, 72.0, 68.0, 66.0, 196.0, 67.0, 93.0, 69.0, 142.0, 63.0, 46.0, 66.0, 193.0, 62.0, 182.0, 48.0, 71.0, 193.0, 147.0, 193.0, 54.0, 80.0, 55.0, 90.0, 94.0, 81.0, 34.0, 53.0, 124.0, 61.0, 75.0, 74.0, 62.0, 70.0, 60.0, 59.0, 193.0, 62.0, 53.0, 80.0, 69.0, 69.0, 69.0, 49.0, 43.0, 83.0, 65.0, 73.0, 68.0, 64.0, 54.0, 65.0, 193.0, 49.0, 58.0, 66.0, 65.0, 65.0, 193.0, 70.0, 79.0, 50.0, 193.0, 188.0, 64.0, 124.0, 68.0, 32.0, 68.0, 58.0, 19.0, 193.0, 69.0, 72.0, 53.0, 64.0, 61.0, 78.0, 53.0, 45.0, 44.0, 196.0, 83.0, 65.0, 88.0, 88.0, 91.0, 84.0, 51.0, 196.0, 196.0, 38.0, 193.0, 47.0, 66.0, 61.0, 60.0, 71.0, 45.0, 77.0, 53.0, 193.0, 193.0, 57.0, 124.0, 193.0, 131.0, 193.0, 72.0, 76.0, 45.0, 193.0, 99.0, 51.0, 64.0, 52.0, 80.0, 51.0, 193.0, 193.0, 196.0, 50.0, 64.0, 74.0, 196.0, 71.0, 57.0, 69.0, 77.0, 75.0, 196.0, 43.0, 80.0, 122.0, 59.0, 85.0, 55.0, 44.0, 42.0, 58.0, 61.0, 50.0, 88.0, 73.0, 95.0, 124.0, 174.0, 67.0, 97.0, 61.0, 62.0, 79.0, 54.0, 66.0, 193.0, 174.0, 174.0, 78.0, 193.0, 85.0, 84.0, 76.0, 44.0, 122.0, 81.0, 54.0, 58.0, 124.0, 81.0, 35.0, 72.0, 71.0, 61.0, 66.0, 71.0, 71.0, 89.0, 73.0, 81.0, 46.0, 22.0, 48.0, 124.0, 44.0, 79.0, 91.0, 76.0, 124.0, 54.0, 77.0, 62.0, 67.0, 131.0, 196.0, 86.0, 58.0, 53.0, 57.0, 182.0, 69.0, 76.0, 78.0, 69.0, 124.0, 62.0, 37.0, 196.0, 88.0, 90.0, 57.0, 193.0, 68.0, 65.0, 63.0, 124.0, 52.0, 48.0, 65.0, 54.0, 50.0, 124.0, 193.0, 122.0, 40.0, 29.0, 26.0, 70.0, 196.0, 75.0, 53.0, 64.0, 60.0, 98.0, 93.0, 59.0, 46.0, 76.0, 79.0, 28.0, 55.0, 61.0, 142.0, 193.0, 193.0, 35.0, 193.0, 94.0, 193.0, 46.0, 100.0, 67.0, 49.0, 193.0, 50.0, 79.0, 142.0, 71.0, 83.0, 55.0, 48.0, 76.0, 77.0, 79.0, 62.0, 56.0, 124.0, 68.0, 84.0, 124.0, 80.0, 62.0, 124.0, 60.0, 64.0, 29.0, 52.0, 53.0, 131.0, 67.0, 82.0, 56.0, 79.0, 142.0, 73.0, 66.0, 52.0, 52.0, 73.0, 66.0, 84.0, 82.0, 193.0, 74.0, 76.0, 81.0, 79.0, 124.0, 68.0, 63.0, 142.0, 50.0, 196.0, 72.0, 85.0, 196.0, 83.0, 84.0, 65.0, 85.0, 70.0, 58.0, 86.0, 64.0, 65.0, 124.0, 61.0, 49.0, 53.0, 97.0, 75.0, 72.0, 124.0, 74.0, 59.0, 68.0, 78.0, 53.0, 57.0, 72.0, 99.0, 79.0, 91.0, 83.0, 72.0, 142.0, 188.0, 61.0, 73.0, 59.0, 100.0, 61.0, 77.0, 71.0, 49.0, 62.0, 86.0, 75.0, 58.0, 47.0, 63.0, 69.0, 70.0, 68.0, 61.0, 71.0, 122.0, 124.0, 81.0, 100.0, 84.0, 77.0, 53.0, 71.0, 73.0, 65.0, 124.0, 193.0, 49.0, 52.0, 65.0, 59.0, 80.0, 193.0, 62.0, 57.0, 46.0, 58.0, 67.0, 73.0, 72.0, 40.0, 78.0, 63.0, 61.0, 79.0, 77.0, 70.0, 53.0, 156.0, 151.0, 76.0, 45.0, 40.0, 82.0, 124.0, 193.0, 78.0, 75.0, 70.0, 55.0, 39.0, 188.0, 70.0, 30.0, 75.0, 63.0, 82.0, 74.0, 54.0, 124.0, 71.0, 73.0, 77.0, 77.0, 87.0, 87.0, 74.0, 67.0, 43.0, 49.0, 42.0, 49.0, 193.0, 53.0, 64.0, 64.0, 196.0, 61.0, 79.0, 69.0, 54.0, 65.0, 77.0, 58.0, 49.0, 73.0, 124.0, 54.0, 142.0, 54.0, 64.0, 59.0, 76.0, 75.0, 85.0, 131.0, 97.0, 193.0, 188.0, 53.0, 52.0, 142.0, 77.0, 79.0, 57.0, 87.0, 66.0, 193.0, 193.0, 63.0, 65.0, 64.0, 124.0, 68.0, 55.0, 72.0, 86.0, 142.0, 35.0, 97.0, 124.0, 75.0, 52.0, 74.0, 70.0, 39.0, 61.0, 193.0, 44.0, 32.0, 193.0, 77.0, 49.0, 87.0, 193.0, 66.0, 68.0, 193.0, 65.0, 62.0, 81.0, 70.0, 124.0, 74.0, 94.0, 142.0, 193.0, 76.0, 59.0, 156.0, 68.0, 193.0, 193.0, 73.0, 193.0, 124.0, 100.0, 131.0, 8.0, 65.0, 40.0, 48.0, 89.0, 77.0, 65.0, 69.0, 68.0, 49.0, 62.0, 50.0, 56.0, 46.0, 38.0, 53.0, 142.0, 193.0, 60.0, 91.0, 90.0, 73.0, 70.0, 47.0, 65.0, 81.0, 55.0, 93.0, 142.0, 193.0, 124.0, 142.0, 65.0, 131.0, 62.0, 48.0, 196.0, 68.0, 66.0, 55.0, 42.0, 54.0, 74.0, 37.0, 66.0, 88.0, 69.0, 166.0, 61.0, 193.0, 39.0, 87.0, 142.0, 64.0, 44.0, 131.0, 59.0, 80.0, 33.0, 71.0, 76.0, 53.0, 78.0, 55.0, 70.0, 65.0, 193.0, 86.0, 47.0, 54.0, 41.0, 78.0, 83.0, 54.0, 90.0, 59.0, 65.0, 67.0, 193.0, 89.0, 59.0, 73.0, 74.0, 86.0, 55.0, 61.0, 57.0, 58.0, 42.0, 45.0, 63.0, 61.0, 81.0, 92.0, 193.0, 67.0, 94.0, 56.0, 62.0, 70.0, 142.0, 70.0, 76.0, 64.0, 47.0, 66.0, 86.0, 40.0, 66.0, 68.0, 51.0, 45.0, 88.0, 90.0, 52.0, 49.0, 53.0, 171.0, 193.0, 71.0, 50.0, 58.0, 42.0, 67.0, 39.0, 85.0, 62.0, 78.0, 73.0, 68.0, 89.0, 40.0, 82.0, 69.0, 77.0, 69.0, 79.0, 53.0, 43.0, 58.0, 76.0, 40.0, 88.0, 69.0, 49.0, 85.0, 69.0, 72.0, 57.0, 58.0, 62.0, 62.0, 142.0, 142.0, 75.0, 88.0, 81.0, 193.0, 193.0, 67.0, 142.0, 67.0, 166.0, 74.0, 188.0, 74.0, 95.0, 71.0, 193.0, 85.0, 193.0, 124.0, 131.0, 188.0, 142.0, 56.0, 82.0, 85.0, 60.0, 63.0, 51.0, 50.0, 81.0, 64.0, 87.0, 46.0, 58.0, 62.0, 76.0, 60.0, 50.0, 124.0, 193.0, 142.0, 77.0, 124.0, 64.0, 61.0, 60.0, 67.0, 64.0, 193.0, 196.0, 90.0, 59.0, 53.0, 48.0, 193.0, 35.0, 60.0, 82.0, 58.0, 60.0, 66.0, 85.0, 124.0, 49.0, 77.0, 67.0, 69.0, 131.0, 50.0, 62.0, 83.0, 81.0, 92.0, 70.0, 72.0, 92.0, 51.0, 156.0, 87.0, 71.0, 59.0, 124.0, 88.0, 61.0, 193.0, 82.0, 193.0, 71.0, 75.0, 43.0, 51.0, 62.0, 75.0, 63.0, 174.0, 71.0, 67.0, 71.0, 61.0, 56.0, 98.0, 82.0, 75.0, 59.0, 193.0, 71.0, 44.0, 77.0, 65.0, 196.0, 57.0, 60.0, 27.0, 58.0, 70.0, 38.0, 42.0, 100.0, 193.0, 89.0, 35.0, 74.0, 77.0, 62.0, 79.0, 124.0, 46.0, 74.0, 196.0, 59.0, 66.0, 124.0, 47.0, 142.0, 77.0, 78.0, 52.0, 70.0, 193.0, 58.0, 68.0, 69.0, 87.0, 52.0, 72.0, 85.0, 196.0, 41.0, 61.0, 67.0, 54.0, 75.0, 80.0, 63.0, 52.0, 62.0, 58.0, 62.0, 65.0, 74.0, 182.0, 142.0, 142.0, 79.0, 49.0, 68.0, 63.0, 52.0, 59.0, 55.0, 66.0, 38.0, 193.0, 193.0, 74.0, 91.0, 64.0, 74.0, 142.0, 81.0, 79.0, 90.0, 142.0, 124.0, 54.0, 78.0, 46.0, 193.0, 88.0, 62.0, 193.0, 80.0, 124.0, 142.0, 80.0, 71.0, 64.0, 75.0, 60.0, 68.0, 88.0, 55.0, 50.0, 97.0, 42.0, 188.0, 49.0, 69.0, 40.0, 122.0, 42.0, 58.0, 24.0, 48.0, 124.0, 67.0, 59.0, 193.0, 59.0, 96.0, 45.0, 88.0, 72.0, 166.0, 61.0, 81.0, 59.0, 73.0, 79.0, 68.0, 193.0, 47.0, 124.0, 64.0, 49.0, 124.0, 54.0, 71.0, 59.0, 89.0, 37.0, 59.0, 57.0, 47.0, 77.0, 62.0, 77.0, 51.0, 131.0, 69.0, 74.0, 60.0, 76.0, 51.0, 32.0, 124.0, 193.0, 73.0, 49.0, 76.0, 64.0, 62.0, 63.0, 156.0, 50.0, 44.0, 66.0, 67.0, 142.0, 142.0, 61.0, 75.0, 147.0, 69.0, 76.0, 65.0, 53.0, 87.0, 53.0, 66.0, 196.0, 49.0, 67.0, 55.0, 30.0, 73.0, 62.0, 79.0, 63.0, 52.0, 193.0, 58.0, 124.0, 142.0, 193.0, 78.0, 81.0, 142.0, 193.0, 74.0, 68.0, 82.0, 73.0, 35.0, 142.0, 59.0, 74.0, 62.0, 49.0, 84.0, 67.0, 81.0, 33.0, 142.0, 59.0, 87.0, 77.0, 58.0, 69.0, 65.0, 92.0, 87.0, 69.0, 73.0, 61.0, 55.0, 67.0, 69.0, 74.0, 64.0, 56.0, 36.0, 41.0, 124.0, 49.0, 59.0, 34.0, 142.0, 84.0, 76.0, 142.0, 61.0, 193.0, 62.0, 87.0, 67.0, 54.0, 59.0, 68.0, 67.0, 91.0, 142.0, 80.0, 96.0, 68.0, 193.0, 156.0, 30.0, 124.0, 74.0, 71.0, 35.0, 81.0, 53.0, 49.0, 147.0, 40.0, 80.0, 76.0, 142.0, 76.0, 196.0, 63.0, 57.0, 58.0, 72.0, 55.0, 53.0, 80.0, 41.0, 55.0, 51.0, 85.0, 81.0, 52.0, 18.0, 193.0, 73.0, 48.0, 56.0, 142.0, 63.0, 58.0, 32.0, 59.0, 142.0, 193.0, 63.0, 63.0, 80.0, 60.0, 64.0, 98.0, 59.0, 65.0, 193.0, 87.0, 66.0, 52.0, 193.0, 28.0, 174.0, 73.0, 87.0, 79.0, 60.0, 81.0, 74.0, 196.0, 69.0, 47.0, 47.0, 79.0, 82.0, 92.0, 57.0, 41.0, 49.0, 88.0, 79.0, 59.0, 71.0, 193.0, 81.0, 65.0, 82.0, 65.0, 40.0, 73.0, 156.0, 56.0, 69.0, 193.0, 67.0, 91.0, 67.0, 188.0, 87.0, 124.0, 65.0, 124.0, 58.0, 55.0, 48.0, 88.0, 53.0, 85.0, 193.0, 62.0, 65.0, 82.0, 62.0, 63.0, 84.0, 193.0, 131.0, 77.0, 50.0, 69.0, 0.0, 188.0, 193.0, 65.0, 79.0, 69.0, 193.0, 72.0, 100.0, 65.0, 47.0, 99.0, 51.0, 71.0, 82.0, 91.0, 55.0, 75.0, 66.0, 95.0, 72.0, 70.0, 57.0, 84.0, 193.0, 61.0, 45.0, 65.0, 27.0, 88.0, 65.0, 63.0, 78.0, 193.0, 65.0, 90.0, 100.0, 67.0, 74.0, 76.0, 193.0, 66.0, 59.0, 62.0, 41.0, 124.0, 29.0, 69.0, 124.0, 23.0, 193.0, 66.0, 54.0, 193.0, 68.0], \"xaxis\": \"x\", \"xbins\": {\"end\": 196.0, \"size\": 0.2, \"start\": 0.0}, \"yaxis\": \"y\"}, {\"autobinx\": false, \"histnorm\": \"probability density\", \"legendgroup\": \"reading\", \"marker\": {\"color\": \"rgb(255, 127, 14)\"}, \"name\": \"reading\", \"opacity\": 0.7, \"type\": \"histogram\", \"x\": [46.0, 142.0, 196.0, 78.0, 166.0, 66.0, 75.0, 86.0, 61.0, 68.0, 196.0, 131.0, 193.0, 48.0, 171.0, 61.0, 73.0, 78.0, 142.0, 76.0, 65.0, 74.0, 142.0, 57.0, 69.0, 42.0, 82.0, 193.0, 61.0, 73.0, 75.0, 97.0, 100.0, 76.0, 61.0, 81.0, 72.0, 83.0, 64.0, 76.0, 86.0, 124.0, 88.0, 74.0, 72.0, 142.0, 61.0, 64.0, 61.0, 59.0, 67.0, 62.0, 29.0, 79.0, 142.0, 67.0, 124.0, 58.0, 142.0, 55.0, 87.0, 193.0, 28.0, 67.0, 128.0, 74.0, 64.0, 59.0, 142.0, 79.0, 73.0, 196.0, 60.0, 59.0, 92.0, 76.0, 196.0, 85.0, 193.0, 94.0, 85.0, 142.0, 62.0, 48.0, 48.0, 193.0, 54.0, 54.0, 193.0, 188.0, 82.0, 82.0, 65.0, 71.0, 90.0, 84.0, 75.0, 193.0, 142.0, 193.0, 88.0, 93.0, 142.0, 81.0, 93.0, 57.0, 74.0, 54.0, 193.0, 84.0, 90.0, 193.0, 41.0, 73.0, 68.0, 78.0, 74.0, 124.0, 62.0, 90.0, 63.0, 124.0, 74.0, 64.0, 68.0, 124.0, 73.0, 142.0, 56.0, 70.0, 124.0, 124.0, 142.0, 72.0, 83.0, 59.0, 87.0, 99.0, 73.0, 42.0, 43.0, 64.0, 68.0, 85.0, 81.0, 72.0, 78.0, 70.0, 51.0, 188.0, 72.0, 50.0, 85.0, 66.0, 78.0, 77.0, 45.0, 60.0, 93.0, 61.0, 64.0, 83.0, 66.0, 61.0, 77.0, 171.0, 57.0, 67.0, 78.0, 70.0, 79.0, 142.0, 68.0, 81.0, 67.0, 193.0, 142.0, 54.0, 124.0, 60.0, 51.0, 51.0, 57.0, 38.0, 193.0, 77.0, 79.0, 58.0, 188.0, 51.0, 72.0, 62.0, 56.0, 51.0, 193.0, 83.0, 76.0, 78.0, 95.0, 89.0, 87.0, 66.0, 196.0, 193.0, 49.0, 193.0, 53.0, 57.0, 73.0, 68.0, 71.0, 63.0, 86.0, 58.0, 142.0, 124.0, 51.0, 151.0, 193.0, 171.0, 193.0, 64.0, 71.0, 48.0, 193.0, 93.0, 72.0, 60.0, 61.0, 73.0, 54.0, 128.0, 142.0, 124.0, 48.0, 73.0, 74.0, 95.0, 77.0, 74.0, 70.0, 90.0, 74.0, 124.0, 51.0, 68.0, 166.0, 72.0, 81.0, 76.0, 63.0, 62.0, 59.0, 47.0, 66.0, 74.0, 78.0, 193.0, 196.0, 142.0, 86.0, 100.0, 58.0, 64.0, 81.0, 63.0, 71.0, 142.0, 124.0, 124.0, 91.0, 196.0, 75.0, 84.0, 94.0, 61.0, 193.0, 84.0, 49.0, 63.0, 193.0, 82.0, 174.0, 81.0, 49.0, 42.0, 77.0, 76.0, 66.0, 88.0, 83.0, 81.0, 34.0, 39.0, 52.0, 147.0, 64.0, 82.0, 81.0, 80.0, 193.0, 59.0, 78.0, 72.0, 64.0, 188.0, 196.0, 81.0, 70.0, 52.0, 58.0, 124.0, 73.0, 70.0, 87.0, 64.0, 142.0, 66.0, 57.0, 193.0, 89.0, 75.0, 56.0, 124.0, 70.0, 75.0, 69.0, 193.0, 57.0, 43.0, 54.0, 54.0, 53.0, 193.0, 142.0, 193.0, 59.0, 41.0, 31.0, 75.0, 124.0, 74.0, 39.0, 124.0, 57.0, 87.0, 84.0, 54.0, 54.0, 64.0, 88.0, 23.0, 71.0, 57.0, 142.0, 64.0, 124.0, 53.0, 124.0, 85.0, 124.0, 58.0, 100.0, 80.0, 196.0, 124.0, 47.0, 84.0, 124.0, 81.0, 82.0, 64.0, 58.0, 73.0, 77.0, 79.0, 78.0, 68.0, 193.0, 86.0, 77.0, 49.0, 75.0, 70.0, 174.0, 66.0, 62.0, 40.0, 65.0, 61.0, 124.0, 61.0, 95.0, 79.0, 76.0, 196.0, 68.0, 74.0, 66.0, 67.0, 86.0, 65.0, 73.0, 75.0, 124.0, 77.0, 71.0, 72.0, 89.0, 124.0, 71.0, 78.0, 193.0, 56.0, 193.0, 65.0, 92.0, 142.0, 78.0, 95.0, 77.0, 86.0, 70.0, 63.0, 80.0, 82.0, 81.0, 193.0, 55.0, 51.0, 51.0, 97.0, 72.0, 73.0, 196.0, 79.0, 67.0, 68.0, 77.0, 58.0, 78.0, 57.0, 100.0, 89.0, 73.0, 72.0, 79.0, 156.0, 196.0, 62.0, 74.0, 54.0, 96.0, 66.0, 79.0, 67.0, 53.0, 61.0, 92.0, 81.0, 62.0, 59.0, 75.0, 67.0, 75.0, 63.0, 56.0, 66.0, 95.0, 156.0, 97.0, 100.0, 77.0, 90.0, 44.0, 83.0, 68.0, 82.0, 193.0, 171.0, 49.0, 59.0, 75.0, 60.0, 64.0, 142.0, 49.0, 43.0, 43.0, 73.0, 54.0, 66.0, 72.0, 43.0, 83.0, 65.0, 72.0, 74.0, 82.0, 84.0, 54.0, 196.0, 42.0, 62.0, 53.0, 58.0, 85.0, 64.0, 196.0, 72.0, 66.0, 64.0, 55.0, 42.0, 142.0, 89.0, 26.0, 84.0, 64.0, 82.0, 81.0, 59.0, 147.0, 84.0, 84.0, 88.0, 88.0, 84.0, 74.0, 73.0, 64.0, 62.0, 52.0, 193.0, 65.0, 193.0, 54.0, 53.0, 131.0, 193.0, 86.0, 92.0, 71.0, 52.0, 86.0, 91.0, 61.0, 63.0, 76.0, 193.0, 64.0, 188.0, 53.0, 58.0, 72.0, 74.0, 69.0, 84.0, 193.0, 92.0, 142.0, 193.0, 70.0, 55.0, 142.0, 76.0, 72.0, 77.0, 85.0, 69.0, 193.0, 124.0, 73.0, 85.0, 124.0, 193.0, 67.0, 58.0, 66.0, 76.0, 193.0, 55.0, 87.0, 124.0, 68.0, 49.0, 70.0, 82.0, 52.0, 74.0, 196.0, 50.0, 151.0, 193.0, 90.0, 193.0, 84.0, 193.0, 65.0, 77.0, 182.0, 67.0, 67.0, 66.0, 63.0, 193.0, 75.0, 90.0, 193.0, 196.0, 78.0, 70.0, 188.0, 68.0, 131.0, 193.0, 66.0, 196.0, 142.0, 100.0, 131.0, 24.0, 64.0, 65.0, 66.0, 84.0, 82.0, 73.0, 77.0, 72.0, 51.0, 69.0, 50.0, 68.0, 56.0, 142.0, 55.0, 147.0, 182.0, 51.0, 95.0, 90.0, 56.0, 72.0, 49.0, 65.0, 77.0, 46.0, 100.0, 196.0, 188.0, 193.0, 193.0, 70.0, 124.0, 61.0, 45.0, 193.0, 59.0, 69.0, 46.0, 55.0, 65.0, 77.0, 56.0, 63.0, 78.0, 77.0, 196.0, 71.0, 64.0, 64.0, 100.0, 124.0, 63.0, 41.0, 193.0, 78.0, 79.0, 142.0, 87.0, 87.0, 58.0, 81.0, 73.0, 70.0, 69.0, 131.0, 73.0, 49.0, 52.0, 51.0, 81.0, 80.0, 64.0, 90.0, 58.0, 81.0, 79.0, 64.0, 84.0, 63.0, 71.0, 90.0, 83.0, 56.0, 58.0, 78.0, 52.0, 193.0, 37.0, 63.0, 70.0, 91.0, 100.0, 142.0, 73.0, 87.0, 52.0, 66.0, 65.0, 122.0, 74.0, 83.0, 74.0, 54.0, 74.0, 85.0, 52.0, 74.0, 74.0, 31.0, 73.0, 84.0, 95.0, 57.0, 53.0, 52.0, 142.0, 156.0, 74.0, 48.0, 55.0, 52.0, 57.0, 39.0, 90.0, 61.0, 74.0, 78.0, 70.0, 100.0, 42.0, 67.0, 80.0, 85.0, 84.0, 86.0, 62.0, 45.0, 55.0, 85.0, 42.0, 77.0, 70.0, 50.0, 91.0, 60.0, 80.0, 50.0, 61.0, 67.0, 63.0, 142.0, 142.0, 77.0, 99.0, 91.0, 124.0, 142.0, 78.0, 193.0, 69.0, 147.0, 71.0, 193.0, 79.0, 81.0, 74.0, 193.0, 84.0, 193.0, 124.0, 166.0, 193.0, 142.0, 54.0, 62.0, 84.0, 64.0, 72.0, 52.0, 64.0, 75.0, 193.0, 85.0, 43.0, 68.0, 55.0, 72.0, 68.0, 42.0, 124.0, 196.0, 64.0, 89.0, 188.0, 50.0, 68.0, 59.0, 57.0, 73.0, 193.0, 193.0, 85.0, 73.0, 45.0, 56.0, 193.0, 28.0, 70.0, 90.0, 67.0, 75.0, 59.0, 95.0, 193.0, 52.0, 69.0, 76.0, 79.0, 131.0, 60.0, 56.0, 85.0, 71.0, 100.0, 56.0, 79.0, 100.0, 63.0, 156.0, 73.0, 70.0, 52.0, 142.0, 99.0, 64.0, 193.0, 93.0, 193.0, 69.0, 82.0, 53.0, 49.0, 55.0, 81.0, 55.0, 196.0, 83.0, 72.0, 83.0, 56.0, 61.0, 86.0, 84.0, 88.0, 62.0, 64.0, 75.0, 45.0, 68.0, 76.0, 142.0, 48.0, 60.0, 34.0, 50.0, 64.0, 43.0, 66.0, 92.0, 142.0, 76.0, 44.0, 72.0, 62.0, 64.0, 82.0, 156.0, 41.0, 64.0, 124.0, 70.0, 77.0, 193.0, 37.0, 142.0, 68.0, 77.0, 48.0, 71.0, 156.0, 57.0, 54.0, 72.0, 94.0, 53.0, 80.0, 89.0, 133.0, 39.0, 71.0, 89.0, 48.0, 81.0, 90.0, 63.0, 58.0, 55.0, 60.0, 67.0, 77.0, 88.0, 193.0, 193.0, 151.0, 73.0, 196.0, 68.0, 80.0, 70.0, 42.0, 47.0, 60.0, 60.0, 196.0, 42.0, 76.0, 86.0, 64.0, 63.0, 196.0, 74.0, 82.0, 78.0, 193.0, 193.0, 58.0, 82.0, 43.0, 196.0, 92.0, 67.0, 196.0, 86.0, 124.0, 193.0, 63.0, 79.0, 85.0, 86.0, 72.0, 60.0, 75.0, 61.0, 60.0, 166.0, 61.0, 124.0, 193.0, 75.0, 196.0, 142.0, 39.0, 75.0, 38.0, 51.0, 193.0, 84.0, 62.0, 142.0, 62.0, 96.0, 47.0, 85.0, 67.0, 171.0, 67.0, 80.0, 53.0, 76.0, 85.0, 75.0, 142.0, 62.0, 196.0, 79.0, 58.0, 193.0, 60.0, 71.0, 58.0, 87.0, 45.0, 85.0, 58.0, 43.0, 67.0, 68.0, 67.0, 58.0, 147.0, 77.0, 71.0, 63.0, 78.0, 60.0, 34.0, 193.0, 188.0, 78.0, 57.0, 62.0, 76.0, 64.0, 78.0, 156.0, 53.0, 51.0, 62.0, 84.0, 193.0, 156.0, 60.0, 58.0, 128.0, 84.0, 76.0, 73.0, 72.0, 90.0, 66.0, 83.0, 193.0, 65.0, 74.0, 72.0, 24.0, 92.0, 62.0, 60.0, 57.0, 65.0, 193.0, 76.0, 193.0, 142.0, 49.0, 90.0, 86.0, 193.0, 193.0, 89.0, 76.0, 97.0, 70.0, 124.0, 122.0, 66.0, 86.0, 68.0, 193.0, 83.0, 86.0, 88.0, 41.0, 147.0, 65.0, 95.0, 97.0, 51.0, 66.0, 66.0, 100.0, 74.0, 54.0, 67.0, 60.0, 59.0, 81.0, 90.0, 81.0, 60.0, 65.0, 53.0, 52.0, 193.0, 58.0, 69.0, 42.0, 196.0, 87.0, 83.0, 171.0, 72.0, 142.0, 67.0, 89.0, 75.0, 64.0, 63.0, 67.0, 84.0, 74.0, 188.0, 80.0, 100.0, 64.0, 124.0, 142.0, 26.0, 193.0, 75.0, 76.0, 61.0, 78.0, 37.0, 193.0, 193.0, 182.0, 76.0, 71.0, 188.0, 70.0, 196.0, 71.0, 68.0, 70.0, 66.0, 65.0, 71.0, 92.0, 55.0, 69.0, 56.0, 76.0, 92.0, 59.0, 32.0, 193.0, 79.0, 54.0, 58.0, 196.0, 67.0, 49.0, 39.0, 73.0, 156.0, 193.0, 60.0, 73.0, 90.0, 44.0, 56.0, 100.0, 71.0, 69.0, 49.0, 91.0, 76.0, 55.0, 124.0, 182.0, 193.0, 75.0, 84.0, 67.0, 72.0, 78.0, 79.0, 142.0, 60.0, 58.0, 46.0, 77.0, 80.0, 79.0, 69.0, 45.0, 58.0, 95.0, 78.0, 70.0, 62.0, 174.0, 81.0, 81.0, 78.0, 69.0, 46.0, 80.0, 188.0, 72.0, 58.0, 122.0, 72.0, 96.0, 75.0, 193.0, 100.0, 193.0, 74.0, 142.0, 59.0, 41.0, 58.0, 93.0, 61.0, 66.0, 142.0, 67.0, 84.0, 82.0, 70.0, 61.0, 80.0, 174.0, 142.0, 62.0, 64.0, 65.0, 17.0, 193.0, 196.0, 67.0, 86.0, 86.0, 193.0, 67.0, 100.0, 58.0, 57.0, 87.0, 51.0, 74.0, 82.0, 96.0, 65.0, 82.0, 66.0, 89.0, 72.0, 55.0, 56.0, 89.0, 196.0, 48.0, 52.0, 59.0, 34.0, 73.0, 82.0, 66.0, 81.0, 124.0, 72.0, 87.0, 97.0, 74.0, 75.0, 67.0, 147.0, 72.0, 64.0, 76.0, 46.0, 64.0, 29.0, 75.0, 193.0, 44.0, 142.0, 74.0, 61.0, 196.0, 80.0], \"xaxis\": \"x\", \"xbins\": {\"end\": 196.0, \"size\": 0.2, \"start\": 17.0}, \"yaxis\": \"y\"}, {\"autobinx\": false, \"histnorm\": \"probability density\", \"legendgroup\": \"witring\", \"marker\": {\"color\": \"rgb(44, 160, 44)\"}, \"name\": \"witring\", \"opacity\": 0.7, \"type\": \"histogram\", \"x\": [46.0, 142.0, 193.0, 81.0, 166.0, 63.0, 76.0, 87.0, 69.0, 64.0, 193.0, 193.0, 193.0, 41.0, 131.0, 61.0, 71.0, 82.0, 147.0, 70.0, 58.0, 72.0, 124.0, 62.0, 68.0, 46.0, 74.0, 193.0, 60.0, 68.0, 77.0, 124.0, 100.0, 74.0, 55.0, 80.0, 70.0, 75.0, 67.0, 78.0, 88.0, 124.0, 85.0, 74.0, 65.0, 124.0, 54.0, 62.0, 62.0, 54.0, 63.0, 60.0, 27.0, 76.0, 142.0, 72.0, 193.0, 57.0, 124.0, 53.0, 78.0, 142.0, 27.0, 70.0, 188.0, 61.0, 67.0, 65.0, 193.0, 79.0, 71.0, 196.0, 61.0, 64.0, 85.0, 65.0, 196.0, 87.0, 193.0, 95.0, 85.0, 196.0, 60.0, 47.0, 50.0, 182.0, 56.0, 52.0, 124.0, 142.0, 88.0, 82.0, 61.0, 65.0, 92.0, 86.0, 73.0, 196.0, 124.0, 193.0, 78.0, 91.0, 124.0, 81.0, 93.0, 58.0, 70.0, 53.0, 142.0, 78.0, 88.0, 193.0, 42.0, 74.0, 67.0, 77.0, 78.0, 142.0, 60.0, 83.0, 61.0, 196.0, 74.0, 66.0, 64.0, 193.0, 70.0, 193.0, 51.0, 70.0, 193.0, 196.0, 124.0, 59.0, 83.0, 54.0, 85.0, 100.0, 72.0, 151.0, 43.0, 193.0, 63.0, 82.0, 71.0, 65.0, 78.0, 74.0, 43.0, 188.0, 74.0, 60.0, 85.0, 61.0, 76.0, 77.0, 45.0, 58.0, 95.0, 71.0, 57.0, 78.0, 59.0, 58.0, 74.0, 193.0, 46.0, 62.0, 78.0, 74.0, 81.0, 193.0, 72.0, 82.0, 73.0, 128.0, 124.0, 50.0, 124.0, 59.0, 44.0, 57.0, 54.0, 32.0, 142.0, 73.0, 74.0, 57.0, 193.0, 52.0, 69.0, 53.0, 54.0, 48.0, 124.0, 90.0, 75.0, 83.0, 94.0, 92.0, 91.0, 62.0, 64.0, 124.0, 45.0, 193.0, 58.0, 52.0, 63.0, 60.0, 74.0, 59.0, 86.0, 55.0, 131.0, 142.0, 54.0, 193.0, 193.0, 196.0, 193.0, 63.0, 73.0, 46.0, 156.0, 90.0, 79.0, 58.0, 66.0, 72.0, 41.0, 122.0, 142.0, 193.0, 42.0, 70.0, 72.0, 131.0, 77.0, 76.0, 67.0, 85.0, 66.0, 142.0, 54.0, 72.0, 166.0, 68.0, 85.0, 76.0, 62.0, 60.0, 58.0, 56.0, 64.0, 75.0, 72.0, 193.0, 196.0, 196.0, 83.0, 100.0, 56.0, 66.0, 71.0, 67.0, 76.0, 142.0, 193.0, 124.0, 96.0, 188.0, 68.0, 80.0, 87.0, 52.0, 142.0, 82.0, 47.0, 65.0, 124.0, 84.0, 142.0, 79.0, 52.0, 41.0, 73.0, 83.0, 65.0, 82.0, 76.0, 79.0, 36.0, 33.0, 45.0, 193.0, 58.0, 80.0, 79.0, 73.0, 142.0, 62.0, 73.0, 70.0, 61.0, 196.0, 196.0, 75.0, 68.0, 49.0, 64.0, 124.0, 73.0, 68.0, 91.0, 68.0, 142.0, 68.0, 56.0, 193.0, 86.0, 69.0, 57.0, 142.0, 66.0, 70.0, 74.0, 128.0, 56.0, 45.0, 57.0, 45.0, 58.0, 193.0, 156.0, 193.0, 51.0, 47.0, 38.0, 78.0, 193.0, 69.0, 37.0, 124.0, 51.0, 90.0, 90.0, 51.0, 58.0, 66.0, 94.0, 19.0, 69.0, 56.0, 193.0, 193.0, 174.0, 46.0, 196.0, 82.0, 124.0, 57.0, 100.0, 81.0, 193.0, 131.0, 54.0, 91.0, 193.0, 80.0, 84.0, 70.0, 52.0, 68.0, 73.0, 78.0, 79.0, 70.0, 193.0, 84.0, 74.0, 193.0, 69.0, 75.0, 193.0, 70.0, 68.0, 44.0, 69.0, 68.0, 193.0, 68.0, 89.0, 72.0, 65.0, 196.0, 66.0, 69.0, 73.0, 72.0, 82.0, 69.0, 69.0, 77.0, 142.0, 73.0, 72.0, 77.0, 86.0, 142.0, 75.0, 80.0, 142.0, 54.0, 193.0, 68.0, 93.0, 193.0, 73.0, 92.0, 74.0, 98.0, 70.0, 73.0, 75.0, 77.0, 81.0, 124.0, 52.0, 51.0, 51.0, 96.0, 62.0, 74.0, 196.0, 75.0, 61.0, 67.0, 77.0, 44.0, 67.0, 62.0, 100.0, 89.0, 80.0, 78.0, 77.0, 124.0, 196.0, 61.0, 72.0, 67.0, 86.0, 61.0, 80.0, 67.0, 53.0, 55.0, 87.0, 71.0, 59.0, 50.0, 81.0, 69.0, 74.0, 54.0, 55.0, 60.0, 193.0, 196.0, 96.0, 93.0, 71.0, 91.0, 42.0, 83.0, 66.0, 81.0, 124.0, 147.0, 41.0, 56.0, 77.0, 58.0, 66.0, 124.0, 52.0, 47.0, 41.0, 68.0, 63.0, 62.0, 71.0, 39.0, 80.0, 61.0, 70.0, 72.0, 89.0, 81.0, 48.0, 193.0, 38.0, 60.0, 55.0, 54.0, 86.0, 124.0, 196.0, 70.0, 73.0, 72.0, 47.0, 38.0, 131.0, 88.0, 22.0, 80.0, 66.0, 80.0, 83.0, 50.0, 131.0, 87.0, 85.0, 87.0, 85.0, 87.0, 70.0, 67.0, 70.0, 61.0, 51.0, 142.0, 61.0, 193.0, 48.0, 57.0, 193.0, 147.0, 87.0, 89.0, 65.0, 52.0, 80.0, 88.0, 52.0, 56.0, 80.0, 193.0, 68.0, 156.0, 47.0, 51.0, 80.0, 73.0, 68.0, 89.0, 193.0, 86.0, 142.0, 142.0, 70.0, 57.0, 193.0, 77.0, 69.0, 80.0, 73.0, 63.0, 124.0, 124.0, 78.0, 76.0, 196.0, 193.0, 73.0, 52.0, 66.0, 74.0, 142.0, 60.0, 82.0, 193.0, 65.0, 46.0, 69.0, 76.0, 46.0, 72.0, 38.0, 51.0, 33.0, 142.0, 84.0, 193.0, 85.0, 193.0, 60.0, 80.0, 42.0, 65.0, 58.0, 64.0, 58.0, 131.0, 83.0, 91.0, 193.0, 97.0, 80.0, 66.0, 193.0, 64.0, 193.0, 193.0, 66.0, 124.0, 193.0, 100.0, 193.0, 23.0, 62.0, 64.0, 65.0, 82.0, 91.0, 75.0, 69.0, 64.0, 43.0, 69.0, 47.0, 74.0, 57.0, 193.0, 48.0, 147.0, 193.0, 56.0, 94.0, 91.0, 57.0, 76.0, 50.0, 63.0, 79.0, 44.0, 95.0, 193.0, 193.0, 193.0, 193.0, 71.0, 131.0, 57.0, 41.0, 193.0, 62.0, 68.0, 43.0, 54.0, 65.0, 76.0, 47.0, 64.0, 75.0, 78.0, 196.0, 73.0, 193.0, 57.0, 95.0, 131.0, 66.0, 38.0, 124.0, 76.0, 79.0, 182.0, 82.0, 85.0, 65.0, 86.0, 73.0, 65.0, 76.0, 124.0, 70.0, 49.0, 51.0, 48.0, 80.0, 73.0, 65.0, 82.0, 59.0, 73.0, 84.0, 142.0, 77.0, 75.0, 68.0, 88.0, 86.0, 51.0, 62.0, 79.0, 54.0, 193.0, 37.0, 62.0, 76.0, 89.0, 97.0, 124.0, 68.0, 92.0, 55.0, 68.0, 60.0, 171.0, 71.0, 88.0, 75.0, 53.0, 73.0, 91.0, 43.0, 81.0, 74.0, 36.0, 70.0, 75.0, 93.0, 50.0, 52.0, 42.0, 124.0, 156.0, 64.0, 53.0, 53.0, 51.0, 53.0, 34.0, 92.0, 58.0, 72.0, 76.0, 66.0, 100.0, 38.0, 61.0, 71.0, 87.0, 85.0, 92.0, 56.0, 50.0, 48.0, 82.0, 38.0, 77.0, 63.0, 52.0, 89.0, 54.0, 83.0, 54.0, 66.0, 69.0, 56.0, 188.0, 193.0, 83.0, 100.0, 87.0, 156.0, 188.0, 79.0, 124.0, 75.0, 171.0, 78.0, 193.0, 82.0, 84.0, 68.0, 196.0, 78.0, 142.0, 193.0, 166.0, 156.0, 142.0, 52.0, 62.0, 82.0, 74.0, 70.0, 44.0, 66.0, 78.0, 193.0, 93.0, 44.0, 61.0, 55.0, 71.0, 72.0, 48.0, 174.0, 193.0, 193.0, 98.0, 142.0, 43.0, 66.0, 54.0, 59.0, 71.0, 124.0, 196.0, 84.0, 72.0, 40.0, 58.0, 193.0, 27.0, 70.0, 94.0, 72.0, 74.0, 52.0, 100.0, 42.0, 54.0, 68.0, 75.0, 81.0, 193.0, 59.0, 53.0, 90.0, 73.0, 100.0, 51.0, 82.0, 100.0, 61.0, 124.0, 72.0, 76.0, 46.0, 193.0, 95.0, 62.0, 193.0, 93.0, 196.0, 68.0, 79.0, 53.0, 51.0, 49.0, 84.0, 63.0, 196.0, 78.0, 74.0, 77.0, 56.0, 60.0, 90.0, 82.0, 85.0, 64.0, 174.0, 70.0, 45.0, 69.0, 76.0, 193.0, 51.0, 60.0, 36.0, 45.0, 70.0, 43.0, 69.0, 97.0, 193.0, 74.0, 43.0, 72.0, 62.0, 64.0, 82.0, 64.0, 43.0, 60.0, 193.0, 65.0, 70.0, 193.0, 35.0, 193.0, 77.0, 80.0, 49.0, 74.0, 124.0, 53.0, 53.0, 77.0, 95.0, 49.0, 75.0, 95.0, 36.0, 34.0, 78.0, 82.0, 52.0, 74.0, 89.0, 60.0, 58.0, 54.0, 57.0, 67.0, 74.0, 90.0, 193.0, 124.0, 34.0, 67.0, 196.0, 61.0, 80.0, 62.0, 41.0, 44.0, 57.0, 50.0, 193.0, 142.0, 73.0, 84.0, 70.0, 57.0, 196.0, 71.0, 73.0, 81.0, 193.0, 124.0, 61.0, 79.0, 42.0, 142.0, 95.0, 62.0, 193.0, 83.0, 193.0, 188.0, 63.0, 71.0, 85.0, 79.0, 74.0, 53.0, 76.0, 54.0, 60.0, 196.0, 58.0, 142.0, 196.0, 78.0, 124.0, 128.0, 34.0, 77.0, 27.0, 46.0, 142.0, 86.0, 69.0, 193.0, 61.0, 99.0, 49.0, 76.0, 65.0, 128.0, 66.0, 76.0, 52.0, 78.0, 86.0, 81.0, 193.0, 66.0, 193.0, 77.0, 55.0, 193.0, 63.0, 80.0, 47.0, 79.0, 38.0, 80.0, 57.0, 41.0, 64.0, 75.0, 68.0, 54.0, 142.0, 77.0, 80.0, 59.0, 75.0, 58.0, 38.0, 196.0, 131.0, 74.0, 52.0, 66.0, 74.0, 55.0, 79.0, 193.0, 55.0, 55.0, 64.0, 81.0, 64.0, 193.0, 55.0, 62.0, 142.0, 82.0, 74.0, 68.0, 64.0, 88.0, 73.0, 83.0, 49.0, 55.0, 77.0, 79.0, 15.0, 84.0, 63.0, 65.0, 56.0, 61.0, 124.0, 78.0, 193.0, 124.0, 42.0, 93.0, 87.0, 193.0, 193.0, 84.0, 67.0, 96.0, 75.0, 193.0, 124.0, 67.0, 89.0, 68.0, 124.0, 78.0, 83.0, 90.0, 43.0, 193.0, 66.0, 86.0, 94.0, 52.0, 60.0, 62.0, 99.0, 76.0, 55.0, 59.0, 57.0, 59.0, 79.0, 88.0, 76.0, 74.0, 63.0, 43.0, 51.0, 193.0, 60.0, 65.0, 39.0, 40.0, 81.0, 79.0, 166.0, 70.0, 128.0, 61.0, 94.0, 70.0, 67.0, 64.0, 69.0, 84.0, 76.0, 193.0, 72.0, 100.0, 66.0, 124.0, 188.0, 22.0, 193.0, 82.0, 70.0, 54.0, 78.0, 40.0, 142.0, 193.0, 151.0, 64.0, 67.0, 147.0, 69.0, 182.0, 69.0, 73.0, 67.0, 72.0, 62.0, 67.0, 88.0, 51.0, 65.0, 53.0, 71.0, 91.0, 62.0, 28.0, 193.0, 84.0, 53.0, 64.0, 124.0, 67.0, 42.0, 33.0, 69.0, 193.0, 193.0, 57.0, 68.0, 82.0, 47.0, 52.0, 99.0, 70.0, 67.0, 193.0, 81.0, 68.0, 49.0, 124.0, 124.0, 193.0, 80.0, 76.0, 67.0, 68.0, 81.0, 80.0, 124.0, 63.0, 67.0, 42.0, 75.0, 77.0, 84.0, 68.0, 40.0, 60.0, 92.0, 77.0, 73.0, 50.0, 124.0, 84.0, 77.0, 74.0, 70.0, 50.0, 82.0, 193.0, 65.0, 53.0, 131.0, 67.0, 91.0, 72.0, 124.0, 100.0, 193.0, 77.0, 193.0, 66.0, 48.0, 54.0, 93.0, 62.0, 71.0, 196.0, 64.0, 84.0, 80.0, 72.0, 54.0, 80.0, 193.0, 193.0, 64.0, 59.0, 74.0, 10.0, 193.0, 142.0, 62.0, 81.0, 81.0, 193.0, 64.0, 100.0, 49.0, 44.0, 81.0, 54.0, 68.0, 88.0, 92.0, 62.0, 90.0, 59.0, 92.0, 74.0, 56.0, 54.0, 90.0, 193.0, 46.0, 49.0, 53.0, 32.0, 78.0, 78.0, 67.0, 82.0, 193.0, 74.0, 75.0, 99.0, 70.0, 79.0, 67.0, 131.0, 70.0, 75.0, 80.0, 43.0, 193.0, 30.0, 71.0, 49.0, 36.0, 193.0, 81.0, 62.0, 193.0, 76.0], \"xaxis\": \"x\", \"xbins\": {\"end\": 196.0, \"size\": 0.2, \"start\": 10.0}, \"yaxis\": \"y\"}, {\"legendgroup\": \"math\", \"marker\": {\"color\": \"rgb(31, 119, 180)\"}, \"mode\": \"lines\", \"name\": \"math\", \"showlegend\": false, \"type\": \"scatter\", \"x\": [0.0, 0.392, 0.784, 1.176, 1.568, 1.96, 2.352, 2.744, 3.136, 3.528, 3.92, 4.312, 4.704, 5.096, 5.488, 5.88, 6.272, 6.664, 7.056, 7.448, 7.84, 8.232, 8.624, 9.016, 9.408, 9.8, 10.192, 10.584, 10.976, 11.368, 11.76, 12.152, 12.544, 12.936, 13.328, 13.72, 14.112, 14.504, 14.896, 15.288, 15.68, 16.072, 16.464, 16.856, 17.248, 17.64, 18.032, 18.424, 18.816, 19.208, 19.6, 19.992, 20.384, 20.776, 21.168, 21.56, 21.952, 22.344, 22.736, 23.128, 23.52, 23.912, 24.304, 24.696, 25.088, 25.48, 25.872, 26.264, 26.656, 27.048, 27.44, 27.832, 28.224, 28.616, 29.008, 29.4, 29.792, 30.184, 30.576, 30.968, 31.36, 31.752, 32.144, 32.536, 32.928, 33.32, 33.712, 34.104, 34.496, 34.888, 35.28, 35.672, 36.064, 36.456, 36.848, 37.24, 37.632, 38.024, 38.416, 38.808, 39.2, 39.592, 39.984, 40.376, 40.768, 41.16, 41.552, 41.944, 42.336, 42.728, 43.12, 43.512, 43.904, 44.296, 44.688, 45.08, 45.472, 45.864, 46.256, 46.648, 47.04, 47.432, 47.824, 48.216, 48.608, 49.0, 49.392, 49.784, 50.176, 50.568, 50.96, 51.352, 51.744, 52.136, 52.528, 52.92, 53.312, 53.704, 54.096, 54.488, 54.88, 55.272, 55.664, 56.056, 56.448, 56.84, 57.232, 57.624, 58.016, 58.408, 58.8, 59.192, 59.584, 59.976, 60.368, 60.76, 61.152, 61.544, 61.936, 62.328, 62.72, 63.112, 63.504, 63.896, 64.288, 64.68, 65.072, 65.464, 65.856, 66.248, 66.64, 67.032, 67.424, 67.816, 68.208, 68.6, 68.992, 69.384, 69.776, 70.168, 70.56, 70.952, 71.344, 71.736, 72.128, 72.52, 72.912, 73.304, 73.696, 74.088, 74.48, 74.872, 75.264, 75.656, 76.048, 76.44, 76.832, 77.224, 77.616, 78.008, 78.4, 78.792, 79.184, 79.576, 79.968, 80.36, 80.752, 81.144, 81.536, 81.928, 82.32, 82.712, 83.104, 83.496, 83.888, 84.28, 84.672, 85.064, 85.456, 85.848, 86.24, 86.632, 87.024, 87.416, 87.808, 88.2, 88.592, 88.984, 89.376, 89.768, 90.16, 90.552, 90.944, 91.336, 91.728, 92.12, 92.512, 92.904, 93.296, 93.688, 94.08, 94.472, 94.864, 95.256, 95.648, 96.04, 96.432, 96.824, 97.216, 97.608, 98.0, 98.392, 98.784, 99.176, 99.568, 99.96, 100.352, 100.744, 101.136, 101.528, 101.92, 102.312, 102.704, 103.096, 103.488, 103.88, 104.272, 104.664, 105.056, 105.448, 105.84, 106.232, 106.624, 107.016, 107.408, 107.8, 108.192, 108.584, 108.976, 109.368, 109.76, 110.152, 110.544, 110.936, 111.328, 111.72, 112.112, 112.504, 112.896, 113.288, 113.68, 114.072, 114.464, 114.856, 115.248, 115.64, 116.032, 116.424, 116.816, 117.208, 117.6, 117.992, 118.384, 118.776, 119.168, 119.56, 119.952, 120.344, 120.736, 121.128, 121.52, 121.912, 122.304, 122.696, 123.088, 123.48, 123.872, 124.264, 124.656, 125.048, 125.44, 125.832, 126.224, 126.616, 127.008, 127.4, 127.792, 128.184, 128.576, 128.968, 129.36, 129.752, 130.144, 130.536, 130.928, 131.32, 131.712, 132.104, 132.496, 132.888, 133.28, 133.672, 134.064, 134.456, 134.848, 135.24, 135.632, 136.024, 136.416, 136.808, 137.2, 137.592, 137.984, 138.376, 138.768, 139.16, 139.552, 139.944, 140.336, 140.728, 141.12, 141.512, 141.904, 142.296, 142.688, 143.08, 143.472, 143.864, 144.256, 144.648, 145.04, 145.432, 145.824, 146.216, 146.608, 147.0, 147.392, 147.784, 148.176, 148.568, 148.96, 149.352, 149.744, 150.136, 150.528, 150.92, 151.312, 151.704, 152.096, 152.488, 152.88, 153.272, 153.664, 154.056, 154.448, 154.84, 155.232, 155.624, 156.016, 156.408, 156.8, 157.192, 157.584, 157.976, 158.368, 158.76, 159.152, 159.544, 159.936, 160.328, 160.72, 161.112, 161.504, 161.896, 162.288, 162.68, 163.072, 163.464, 163.856, 164.248, 164.64, 165.032, 165.424, 165.816, 166.208, 166.6, 166.992, 167.384, 167.776, 168.168, 168.56, 168.952, 169.344, 169.736, 170.128, 170.52, 170.912, 171.304, 171.696, 172.088, 172.48, 172.872, 173.264, 173.656, 174.048, 174.44, 174.832, 175.224, 175.616, 176.008, 176.4, 176.792, 177.184, 177.576, 177.968, 178.36, 178.752, 179.144, 179.536, 179.928, 180.32, 180.712, 181.104, 181.496, 181.888, 182.28, 182.672, 183.064, 183.456, 183.848, 184.24, 184.632, 185.024, 185.416, 185.808, 186.2, 186.592, 186.984, 187.376, 187.768, 188.16, 188.552, 188.944, 189.336, 189.728, 190.12, 190.512, 190.904, 191.296, 191.688, 192.08, 192.472, 192.864, 193.256, 193.648, 194.04, 194.432, 194.824, 195.216, 195.608], \"xaxis\": \"x\", \"y\": [8.543870373641726e-05, 8.906866268273396e-05, 9.287419066932142e-05, 9.686755116919472e-05, 0.0001010617911515877, 0.00010547076005725627, 0.00011010912718144646, 0.0001149923973904057, 0.000120136925108396, 0.00012555992652369543, 0.00013127948997393516, 0.00013731458448318576, 0.0001436850664353548, 0.00015041168438055614, 0.00015751608198303547, 0.00016502079913085395, 0.0001729492712387206, 0.0001813258267860016, 0.00019017568314190616, 0.00019952494073903972, 0.00020940057566482873, 0.00021983043074765918, 0.00023084320522084897, 0.00024246844305271544, 0.0002547365200349469, 0.00026767862972417014, 0.0002813267683330117, 0.0002957137186670151, 0.0003108730332025162, 0.00032683901639796295, 0.0003436467063272205, 0.0003613318557181367, 0.0003799309124730978, 0.0003994809997405155, 0.0004200198955972248, 0.0004415860123916827, 0.00046421837578674956, 0.00048795660352876825, 0.0005128408839567501, 0.0005389119542518272, 0.0005662110784128745, 0.000594780024929429, 0.0006246610441079268, 0.000655896844991923, 0.0006885305718015433, 0.0007226057798020737, 0.000758166410496468, 0.0007952567660218316, 0.0008339214826157528, 0.0008742055030048857, 0.0009161540475555796, 0.0009598125840147805, 0.0010052267956590533, 0.0010524425476605166, 0.0011015058514709409, 0.0011524628270193253, 0.0012053596625141044, 0.0012602425716388395, 0.0013171577479299565, 0.0013761513161268432, 0.0014372692802885674, 0.001500557468477581, 0.0015660614738191815, 0.0016338265917561145, 0.0017038977533306114, 0.0017763194543412586, 0.0018511356802393495, 0.0019283898266487368, 0.002008124615414487, 0.002090382006108784, 0.002175203102947295, 0.002262628057095487, 0.002352695964371875, 0.00244544475838372, 0.0025409110991599653, 0.002639130257376015, 0.0027401359942949063, 0.00284396043757937, 0.002950633953158792, 0.003060185013363955, 0.003172640061570319, 0.0032880233736173364, 0.0034063569162964343, 0.003527660203223811, 0.003651950148435743, 0.003779240918063631, 0.003909543780463219, 0.004042866955187558, 0.004179215461205838, 0.004318590964780744, 0.0044609916274251085, 0.004606411954364763, 0.00475484264393875, 0.004906270438370472, 0.005060677976344664, 0.005218043647825091, 0.005378341451547239, 0.005541540855619599, 0.005707606661666097, 0.005876498872942337, 0.00604817256685887, 0.00622257777234711, 0.006399659352507397, 0.006579356892984862, 0.006761604596527556, 0.006946331184192319, 0.007133459803678437, 0.007322907945285901, 0.007514587366015435, 0.007708404022350152, 0.007904258012284051, 0.008102043527190227, 0.008301648814150795, 0.008502956149400867, 0.008705841823569475, 0.008910176139430525, 0.009115823422905418, 0.00932264204808514, 0.009530484477062137, 0.009739197315379861, 0.009948621383919855, 0.010158591808050326, 0.01036893812485639, 0.010579484409258582, 0.010790049419801582, 0.011000446764859508, 0.011210485089954775, 0.01141996828682604, 0.011628695724804334, 0.011836462504966191, 0.012043059737428136, 0.012248274842027325, 0.012451891872500504, 0.012653691864126689, 0.012853453204640155, 0.013050952028049982, 0.01324596263082217, 0.013438257909691793, 0.013627609820177744, 0.01381378985467343, 0.013996569538785555, 0.01417572094439235, 0.014351017217694972, 0.014522233120343567, 0.014689145581535903, 0.014851534258813692, 0.01500918210512273, 0.015161875939560053, 0.01530940701910709, 0.01545157160854428, 0.01558817154566176, 0.0157190147988247, 0.01584391601392106, 0.015962697047716502, 0.016075187484665097, 0.01618122513427674, 0.01628065650622263, 0.016373337260467618, 0.016459132629852994, 0.016537917812713254, 0.016609578333294493, 0.016674010367948154, 0.01673112103529994, 0.016780828648837127, 0.016823062930615345, 0.016857765185055943, 0.016884888432083012, 0.016904397499133236, 0.016916269071857365, 0.016920491703617202, 0.01691706578416245, 0.01690600346814501, 0.01688732856439135, 0.01686107638710329, 0.016827293570392032, 0.016786037847766513, 0.01673737779839391, 0.0166813925621253, 0.01661817152543183, 0.01654781398052547, 0.016470428760042823, 0.016386133849750125, 0.016295055981782963, 0.016197330210965383, 0.01609309947676094, 0.015982514153393808, 0.015865731590642654, 0.015742915647754957, 0.015614236222856593, 0.015479868780143088, 0.015339993877035787, 0.015194796693372101, 0.015044466564574121, 0.014889196520608227, 0.014729182832410244, 0.014564624567309493, 0.014395723154842058, 0.014222681964200293, 0.014045705894424566, 0.013865000978304664, 0.013680774000824746, 0.013493232132857289, 0.013302582580689459, 0.01310903225185065, 0.012912787437602477, 0.012714053512352936, 0.0125130346501649, 0.01230993355844546, 0.012104951228826183, 0.011898286705175686, 0.011690136868623639, 0.01148069623941933, 0.011270156795397378, 0.011058707806777332, 0.010846535686982448, 0.010633823859124179, 0.010420752637762978, 0.010207499125522157, 0.009994237124098044, 0.009781137059177535, 0.009568365918741188, 0.009356087204197394, 0.009144460893758819, 0.008933643417437664, 0.008723787643000146, 0.008515042872183102, 0.008307554846437162, 0.008101465761421527, 0.007896914289435402, 0.0076940356089306135, 0.00749296144020995, 0.007293820086376736, 0.007096736478563006, 0.006901832224428358, 0.006709225658888882, 0.0065190318960064424, 0.006331362880944534, 0.006146327440877655, 0.005964031333728601, 0.005784577293602383, 0.005608065071787284, 0.005434591472204776, 0.00526425038020943, 0.0050971327836704895, 0.004933326785306581, 0.0047729176052970345, 0.004615987573255654, 0.004462616108727373, 0.004312879689454526, 0.0041668518067576, 0.004024602907485181, 0.003886200322109278, 0.0037517081786750694, 0.0036211873024571233, 0.003494695101327676, 0.003372285437004926, 0.0032540084825197794, 0.0031399105664170297, 0.003030034004390093, 0.002924416919235634, 0.0028230930502041248, 0.0027260915530126265, 0.002633436791975368, 0.002545148125893107, 0.0024612396895226673, 0.0023817201726201082, 0.002306592598713269, 0.0022358541059088167, 0.002169495732173348, 0.0021075022076451257, 0.0020498517566300565, 0.001996515912010387, 0.0019474593448450333, 0.0019026397119644518, 0.0018620075243585164, 0.0018255060391213522, 0.0017930711776512488, 0.0017646314727052597, 0.0017401080467763762, 0.001719414624095772, 0.0017024575783635462, 0.0016891360180791458, 0.0016793419110781487, 0.0016729602495867046, 0.0016698692567805242, 0.0016699406354842587, 0.00167303985927228, 0.0016790265058364952, 0.0016877546320747756, 0.0016990731899289267, 0.001712826481568516, 0.0017288546520811453, 0.0017469942173961583, 0.001767078624742586, 0.001788938842529086, 0.001812403976139105, 0.0018373019057643938, 0.0018634599420595135, 0.0018907054950947808, 0.001918866751820012, 0.0019477733570313202, 0.001977257092662303, 0.002007152550103064, 0.0020372977901887274, 0.0020675349854959346, 0.0020977110396430865, 0.002127678178408719, 0.002157294507662497, 0.0021864245333443172, 0.002214939639027205, 0.002242718516956679, 0.0022696475488698173, 0.0022956211333571047, 0.0023205419570345373, 0.002344321207336515, 0.0023668787253157317, 0.002388143097437347, 0.002408051685974134, 0.0024265505982389293, 0.002443594595522797, 0.0024591469432334516, 0.002473179204340515, 0.002485670978823954, 0.0024966095923816063, 0.0025059897381734986, 0.0025138130758576025, 0.0025200877925971796, 0.0025248281310881857, 0.0025280538899612186, 0.002529789902152054, 0.0025300654970047383, 0.002528913951969147, 0.0025263719397798203, 0.002522478976954482, 0.002517276879329955, 0.002510809230162145, 0.002503120866058381, 0.0024942573856886496, 0.0024842646858420484, 0.002473188528961778, 0.0024610741458127566, 0.00244796587641741, 0.0024339068518451743, 0.0024189387188675816, 0.002403101408901916, 0.0023864329520706207, 0.0023689693366094502, 0.002350744413273023, 0.002331789843819949, 0.0023121350921188463, 0.002291807455908338, 0.0022708321367752296, 0.0022492323454912123, 0.00222702943947477, 0.002204243088825783, 0.00218089146711868, 0.0021569914629385916, 0.0021325589080049977, 0.002107608817649372, 0.002082155639396884, 0.0020562135054457724, 0.002029796484939517, 0.002002918832083004, 0.001975595226360999, 0.0019478410013706307, 0.0019196723590743565, 0.0018911065666104003, 0.0018621621331579457, 0.0018328589647384425, 0.0018032184952355554, 0.0017732637923285072, 0.0017430196374501892, 0.0017125125792964745, 0.0016817709608204939, 0.0016508249200397342, 0.001619706365359541, 0.001588448926468966, 0.001557087882189957, 0.0015256600669549109, 0.001494203757847507, 0.0014627585443652898, 0.0014313651832477433, 0.0014000654408597077, 0.001368901925726197, 0.0013379179138812932, 0.001307157169721415, 0.001276663765043033, 0.0012464818988986684, 0.0012166557208245538, 0.001187229159881514, 0.001158245761809724, 0.001129748536431393, 0.0011017798172459812, 0.0010743811349537091, 0.0010475931064180568, 0.001021455340339979, 0.0009960063606691022, 0.0009712835485230228, 0.0009473231031283045, 0.000924160022038566, 0.0009018281006287264, 0.0008803599506125474, 0.0008597870370851949, 0.00084013973335556, 0.000821447392606296, 0.0008037384352043396, 0.0007870404502824544, 0.0007713803100240442, 0.0007567842949101438, 0.0007432782280296874, 0.0007308876164127684, 0.0007196377972218648, 0.0007095540865286457, 0.0007006619283142497, 0.0006929870412592975, 0.0006865555608367598, 0.0006813941741865227, 0.000677530245235597, 0.000674991927532756, 0.000673808262291597, 0.0006740092591820489, 0.0006756259574778132, 0.0006786904652566965, 0.0006832359744628237, 0.0006892967497748717, 0.0006969080893831843, 0.0007061062559613214, 0.0007169283763244889, 0.0007294123084984848, 0.0007435964751781292, 0.0007595196628333123, 0.0007772207860230209, 0.000796738616802159, 0.0008181114794512286, 0.0008413769111232704, 0.0008665712893839019, 0.0008937294280160368, 0.0009228841428683887, 0.0009540657899421354, 0.0009873017783301452, 0.0010226160610428622, 0.0010600286071705137, 0.0010995548592371827, 0.0011412051799936799, 0.001184984293267412, 0.0012308907238328711, 0.0012789162415805827, 0.0013290453155391274, 0.0013812545835388715, 0.0014355123434918807, 0.0014917780723944767, 0.0015500019792326844, 0.001610124597981735, 0.0016720764268349031, 0.0017357776196716258, 0.001801137735576716, 0.0018680555519511794, 0.0019364189464087464, 0.002006104852232019, 0.0020769792916688766, 0.002148897490785847, 0.0022217040789645143, 0.002295233375433343, 0.0023693097644767983, 0.002443748160163149, 0.002518354560588062, 0.0025929266907537434, 0.002667254732300094, 0.002741122137386467, 0.002814306523100742, 0.0028865806418565585, 0.0029577134223430046, 0.003027471074722932, 0.003095618252950633, 0.003161919266305804, 0.0032261393315310993, 0.0032880458563251773, 0.003347409744391351, 0.0034040067117833022, 0.003457618603931301, 0.0035080347024816325, 0.0035550530109443924, 0.003598481508123771, 0.003638139358403498, 0.003673858068179139, 0.003705482578067431, 0.0037328722809791123, 0.003755901956711375, 0.003774462614394185, 0.0037884622349038683, 0.0037978264062294644, 0.0038024988457327044, 0.003802441804269875, 0.0037976363482317404, 0.0037880825166929292, 0.0037737993520315064, 0.003754824803568658, 0.00373121550497328, 0.003703046427362494, 0.0036704104111921583], \"yaxis\": \"y\"}, {\"legendgroup\": \"reading\", \"marker\": {\"color\": \"rgb(255, 127, 14)\"}, \"mode\": \"lines\", \"name\": \"reading\", \"showlegend\": false, \"type\": \"scatter\", \"x\": [17.0, 17.358, 17.716, 18.074, 18.432, 18.79, 19.148, 19.506, 19.864, 20.222, 20.58, 20.938, 21.296, 21.654, 22.012, 22.37, 22.728, 23.086, 23.444, 23.802, 24.16, 24.518, 24.876, 25.234, 25.592, 25.95, 26.308, 26.666, 27.024, 27.381999999999998, 27.740000000000002, 28.098, 28.456, 28.814, 29.172, 29.53, 29.887999999999998, 30.246000000000002, 30.604, 30.962, 31.32, 31.678, 32.036, 32.394, 32.752, 33.11, 33.468, 33.826, 34.184, 34.542, 34.9, 35.257999999999996, 35.616, 35.974000000000004, 36.332, 36.69, 37.048, 37.406, 37.763999999999996, 38.122, 38.480000000000004, 38.838, 39.196, 39.554, 39.912, 40.269999999999996, 40.628, 40.986000000000004, 41.344, 41.702, 42.06, 42.418, 42.775999999999996, 43.134, 43.492000000000004, 43.85, 44.208, 44.566, 44.924, 45.282, 45.64, 45.998000000000005, 46.356, 46.714, 47.072, 47.43, 47.788, 48.146, 48.504000000000005, 48.861999999999995, 49.22, 49.578, 49.936, 50.294, 50.652, 51.01, 51.368, 51.726, 52.084, 52.442, 52.8, 53.158, 53.516, 53.874, 54.232, 54.59, 54.948, 55.306, 55.664, 56.022, 56.38, 56.738, 57.096, 57.454, 57.812, 58.17, 58.528, 58.886, 59.244, 59.602, 59.96, 60.318, 60.676, 61.034, 61.392, 61.75, 62.108, 62.466, 62.824, 63.182, 63.54, 63.898, 64.256, 64.614, 64.97200000000001, 65.33, 65.688, 66.04599999999999, 66.404, 66.762, 67.12, 67.47800000000001, 67.836, 68.194, 68.55199999999999, 68.91, 69.268, 69.626, 69.98400000000001, 70.342, 70.7, 71.05799999999999, 71.416, 71.774, 72.132, 72.49000000000001, 72.848, 73.206, 73.564, 73.922, 74.28, 74.638, 74.99600000000001, 75.354, 75.712, 76.07, 76.428, 76.786, 77.144, 77.50200000000001, 77.86, 78.218, 78.576, 78.934, 79.292, 79.65, 80.00800000000001, 80.366, 80.72399999999999, 81.082, 81.44, 81.798, 82.156, 82.514, 82.872, 83.23, 83.588, 83.946, 84.304, 84.662, 85.02, 85.378, 85.736, 86.094, 86.452, 86.81, 87.168, 87.526, 87.884, 88.242, 88.6, 88.958, 89.316, 89.674, 90.032, 90.39, 90.748, 91.106, 91.464, 91.822, 92.18, 92.538, 92.896, 93.254, 93.612, 93.97, 94.328, 94.686, 95.044, 95.402, 95.76, 96.118, 96.476, 96.834, 97.192, 97.55, 97.908, 98.266, 98.624, 98.982, 99.34, 99.698, 100.056, 100.414, 100.772, 101.13, 101.488, 101.846, 102.204, 102.562, 102.92, 103.278, 103.636, 103.994, 104.352, 104.71, 105.068, 105.426, 105.784, 106.142, 106.5, 106.858, 107.216, 107.574, 107.932, 108.29, 108.648, 109.006, 109.364, 109.722, 110.08, 110.438, 110.796, 111.154, 111.512, 111.87, 112.228, 112.586, 112.944, 113.302, 113.66, 114.018, 114.376, 114.734, 115.092, 115.45, 115.808, 116.166, 116.524, 116.882, 117.24, 117.598, 117.956, 118.314, 118.672, 119.03, 119.388, 119.746, 120.104, 120.462, 120.82, 121.178, 121.536, 121.894, 122.252, 122.61, 122.968, 123.326, 123.684, 124.042, 124.4, 124.758, 125.116, 125.474, 125.832, 126.19, 126.548, 126.906, 127.264, 127.622, 127.98, 128.338, 128.696, 129.054, 129.412, 129.76999999999998, 130.128, 130.486, 130.844, 131.202, 131.56, 131.918, 132.276, 132.63400000000001, 132.99200000000002, 133.35, 133.708, 134.066, 134.424, 134.78199999999998, 135.14, 135.498, 135.856, 136.214, 136.572, 136.93, 137.288, 137.64600000000002, 138.00400000000002, 138.362, 138.72, 139.078, 139.436, 139.79399999999998, 140.152, 140.51, 140.868, 141.226, 141.584, 141.942, 142.3, 142.65800000000002, 143.01600000000002, 143.374, 143.732, 144.09, 144.44799999999998, 144.80599999999998, 145.164, 145.522, 145.88, 146.238, 146.596, 146.954, 147.312, 147.67, 148.028, 148.386, 148.744, 149.102, 149.46, 149.818, 150.176, 150.534, 150.892, 151.25, 151.608, 151.966, 152.324, 152.682, 153.04, 153.398, 153.756, 154.114, 154.472, 154.83, 155.188, 155.546, 155.904, 156.262, 156.62, 156.978, 157.336, 157.694, 158.052, 158.41, 158.768, 159.126, 159.484, 159.842, 160.2, 160.558, 160.916, 161.274, 161.632, 161.99, 162.348, 162.706, 163.064, 163.422, 163.78, 164.138, 164.496, 164.854, 165.212, 165.57, 165.928, 166.286, 166.644, 167.002, 167.36, 167.718, 168.076, 168.434, 168.792, 169.15, 169.508, 169.866, 170.224, 170.582, 170.94, 171.298, 171.656, 172.014, 172.372, 172.73, 173.088, 173.446, 173.804, 174.162, 174.52, 174.878, 175.236, 175.594, 175.952, 176.31, 176.668, 177.026, 177.384, 177.742, 178.1, 178.458, 178.816, 179.174, 179.532, 179.89, 180.248, 180.606, 180.964, 181.322, 181.68, 182.038, 182.396, 182.754, 183.112, 183.47, 183.828, 184.186, 184.544, 184.902, 185.26, 185.618, 185.976, 186.334, 186.692, 187.05, 187.408, 187.766, 188.124, 188.482, 188.84, 189.198, 189.556, 189.914, 190.272, 190.63, 190.988, 191.346, 191.704, 192.062, 192.42, 192.778, 193.136, 193.494, 193.852, 194.21, 194.568, 194.926, 195.284, 195.642], \"xaxis\": \"x\", \"y\": [0.00039822528751567413, 0.00041729386122453234, 0.00043712120071703854, 0.0004577336524330354, 0.00047915849714200593, 0.0005014239728918853, 0.0005245592957419363, 0.000548594677986818, 0.000573561343580426, 0.0005994915404719774, 0.0006264185495731487, 0.0006543766900838615, 0.0006834013209155454, 0.0007135288379643115, 0.0007447966670023743, 0.0007772432519741358, 0.0008109080385034824, 0.0008458314524408222, 0.0008820548733020834, 0.0009196206024769954, 0.0009585718261103402, 0.0009989525725871656, 0.0010408076645809408, 0.0010841826656520623, 0.0011291238214126474, 0.0011756779953019203, 0.0012238925990444227, 0.0012738155178904842, 0.0013254950307645605, 0.0013789797254720145, 0.0014343184091383748, 0.0014915600140768628, 0.0015507534992999217, 0.0016119477479082955, 0.0016751914606070192, 0.0017405330456111143, 0.0018080205052150894, 0.0018777013193092633, 0.001949622326132659, 0.0020238296005567432, 0.0021003683301967164, 0.002179282689647589, 0.0022606157131409696, 0.002344409165915689, 0.002430703414591153, 0.002519537296826988, 0.0026109479905464996, 0.002704970882994538, 0.0028016394398935702, 0.0029009850749545135, 0.003003037019992175, 0.0031078221958889085, 0.003215365084644434, 0.0033256876027453384, 0.0034388089760843737, 0.003554745616657574, 0.0036735110012666963, 0.003795115552455455, 0.003919566521910585, 0.004046867876562941, 0.004177020187629565, 0.004310020522844907, 0.004445862342137843, 0.004584535397020864, 0.004726025633968444, 0.004870315102072907, 0.005017381865277793, 0.005167199919500507, 0.005319739114967552, 0.0054749650840964625, 0.005632839175268434, 0.005793318392844055, 0.005956355343781281, 0.0061218981912192025, 0.00628989061539331, 0.006460271782247101, 0.006632976320100905, 0.006807934304731518, 0.006985071253205303, 0.007164308126792616, 0.007345561343272839, 0.007528742798916613, 0.007713759900405319, 0.007900515606917255, 0.008088908482575648, 0.008278832759415669, 0.00847017841098629, 0.008662831236658255, 0.008856672956662443, 0.009051581317833238, 0.009247430209980359, 0.009444089792759576, 0.009641426632859607, 0.009839303851268256, 0.010037581280327572, 0.010236115630235082, 0.010434760664597097, 0.010633367384590824, 0.010831784221245783, 0.011029857235311642, 0.01122743032414016, 0.0114243454349733, 0.011620442783999103, 0.01181556108051087, 0.012009537755484682, 0.012202209193875426, 0.012393410969921885, 0.012582978084748201, 0.012770745205551012, 0.01295654690566975, 0.013140217904851285, 0.013321593309038824, 0.013500508849039718, 0.013676801117455202, 0.01385030780328895, 0.014020867923688354, 0.014188322052313053, 0.014352512543868847, 0.014513283754390512, 0.01467048225690462, 0.014823957052151233, 0.014973559774091896, 0.01511914488997944, 0.015260569894811726, 0.01539769550003709, 0.015530385816421839, 0.015658508531030575, 0.015781935078306688, 0.0159005408052733, 0.016014205130903892, 0.016122811699735645, 0.016226248529818323, 0.01632440815510545, 0.01641718776240419, 0.016504489323004197, 0.016586219719104914, 0.016662290865154795, 0.01673261982420531, 0.016797128919367493, 0.01685574584043946, 0.016908403745750426, 0.016955041359240402, 0.016995603062765874, 0.017030038983590456, 0.017058305076986753, 0.017080363203841816, 0.01709618120312437, 0.01710573295903796, 0.017108998462651105, 0.017105963867763807, 0.017096621540740212, 0.01708097010401017, 0.017059014472918597, 0.017030765885581365, 0.016996241925389982, 0.016955466535795813, 0.016908470026997236, 0.016855289074151122, 0.016795966706732963, 0.01673055228867825, 0.01665910148895125, 0.01658167624220613, 0.016498344699229454, 0.016409181166882125, 0.01631426603729263, 0.01621368570609206, 0.01610753247952378, 0.015995904470307513, 0.015878905482187088, 0.015756644883144422, 0.01562923746731761, 0.015496803305718343, 0.015359467585902913, 0.015217360440810686, 0.015070616767044312, 0.014919376032925608, 0.014763782076720513, 0.014603982895484365, 0.014440130425034689, 0.014272380311612745, 0.014100891675845792, 0.013925826869669658, 0.013747351226915349, 0.013565632808302962, 0.013380842141621592, 0.013193151957904381, 0.01300273692443302, 0.012809773375426216, 0.012614439041280718, 0.012416912777242318, 0.012217374292386729, 0.012016003879787289, 0.0118129821487369, 0.011608489759876642, 0.011402707164062333, 0.011195814345773297, 0.010987990571835252, 0.010779414146190946, 0.010570262171409337, 0.010360710317575626, 0.010150932599152071, 0.009941101160342471, 0.009731386069432581, 0.009521955122514858, 0.009312973656939028, 0.009104604374760695, 0.00889700717639004, 0.008690339004569586, 0.008484753698738553, 0.008280401859768104, 0.008077430724980354, 0.00787598405329368, 0.00767620202026817, 0.007478221122760131, 0.007282174092831243, 0.007088189820500511, 0.006896393284873015, 0.006706905493130552, 0.006519843426827065, 0.006335319994894493, 0.006153443992735034, 0.0059743200667529885, 0.005798048683663688, 0.005624726103910073, 0.005454444358516981, 0.005287291228722575, 0.005123350227742709, 0.00496270058404872, 0.004805417225572776, 0.004651570764295287, 0.004501227480717781, 0.004354449307780432, 0.0042112938138459816, 0.004071814184441184, 0.003936059202520962, 0.0038040732271007243, 0.0036758961701856925, 0.003551563472013508, 0.0034311060747159424, 0.003314550394596664, 0.003201918293313567, 0.0030932270483451656, 0.0029884893232096886, 0.0028877131379921625, 0.0027909018408170884, 0.002698054080981931, 0.002609163784537887, 0.00252422013316855, 0.0024432075472728804, 0.0023661056742055185, 0.0022928893826637798, 0.0022235287642363003, 0.0021579891431415853, 0.0020962310951862695, 0.0020382104769609243, 0.001983878466266213, 0.0019331816147234724, 0.001886061913471148, 0.0018424568727823866, 0.0018022996163590012, 0.0017655189909639806, 0.001732039691948846, 0.0017017824051139981, 0.0016746639652111196, 0.0016505975312570357, 0.00162949277867987, 0.0016112561081618603, 0.0015957908708803988, 0.001582997609681316, 0.00157277431554772, 0.0015650166985558382, 0.0015596184723379602, 0.001556471650903866, 0.0015554668565079708, 0.0015564936370918519, 0.0015594407916829267, 0.0015641967019917585, 0.0015706496683247605, 0.0015786882478178727, 0.0015882015929017548, 0.0015990797878319655, 0.0016112141810598539, 0.0016244977111828647, 0.0016388252241977257, 0.0016540937797874722, 0.0016702029444040825, 0.0016870550689630742, 0.001704555549044887, 0.0017226130655999953, 0.0017411398042801686, 0.001760051651666239, 0.0017792683668321908, 0.0017987137268750378, 0.0018183156452481668, 0.0018380062619607574, 0.0018577220049454503, 0.0018774036221481582, 0.0018969961841555168, 0.0019164490574437919, 0.0019357158486057158, 0.0019547543201852867, 0.001973526279022238, 0.0019919974382744403, 0.0020101372545447884, 0.0020279187417861916, 0.0020453182638910214, 0.0020623153080868745, 0.002078892241456263, 0.002095034053071004, 0.0021107280843806787, 0.0021259637506163462, 0.0021407322560640595, 0.002155026306126319, 0.0021688398191222016, 0.0021821676407780643, 0.002195005264329944, 0.002207348559096216, 0.002219193510285296, 0.0022305359726789197, 0.0022413714406781158, 0.002251694837018074, 0.002261500322251558, 0.0022707811268707747, 0.0022795294076870987, 0.0022877361298198305, 0.00229539097536217, 0.0023024822794981657, 0.0023089969945420175, 0.002314920682064241, 0.002320237532961448, 0.0023249304150215373, 0.0023289809472373042, 0.002332369599832637, 0.002335075818689539, 0.0023370781726047697, 0.002338354521564536, 0.002338882204007354, 0.0023386382408512184, 0.0023375995538936567, 0.0023357431960539473, 0.0023330465908170503, 0.002329487778159673, 0.0023250456641909995, 0.002319700271724177, 0.002313432989009502, 0.0023062268139058184, 0.002298066590842067, 0.002288939238024858, 0.0022788339624788025, 0.0022677424606622554, 0.0022556591025797816, 0.0022425810975117903, 0.0022285086396985772, 0.0022134450325477836, 0.0021973967901780145, 0.002180373715364103, 0.0021623889532080744, 0.0021434590201213307, 0.002123603807964845, 0.0021028465634521246, 0.002081213843171871, 0.0020587354448305347, 0.0020354443155470698, 0.0020113764382507916, 0.001986570697436087, 0.001961068725713155, 0.001934914732760313, 0.0019081553184293657, 0.0018808392718800597, 0.0018530173587221323, 0.0018247420982232254, 0.0017960675326980373, 0.0017670489912283824, 0.00173774284987581, 0.0017082062905386932, 0.0016784970605748179, 0.0016486732352598032, 0.0016187929850820062, 0.0015889143497875118, 0.0015590950209856027, 0.001529392135007394, 0.0014998620775799026, 0.0014705603017358183, 0.0014415411602282054, 0.0014128577535601396, 0.0013845617945741258, 0.001356703490376532, 0.0013293314421996875, 0.0013024925636304886, 0.0012762320174605328, 0.0012505931712405635, 0.0012256175714523683, 0.0012013449360455373, 0.0011778131649256868, 0.0011550583678256996, 0.0011331149088432445, 0.001112015466786842, 0.0010917911103398325, 0.0010724713869272688, 0.001054084424055381, 0.0010366570417873642, 0.0010202148749231077, 0.0010047825033643297, 0.0009903835890707282, 0.0009770410179474073, 0.0009647770449490832, 0.0009536134406427291, 0.0009435716374373989, 0.0009346728736682255, 0.0009269383337112042, 0.0009203892823063735, 0.0009150471912797757, 0.0009109338568790811, 0.0009080715059743565, 0.0009064828894241882, 0.0009061913609684823, 0.0009072209400828935, 0.0009095963573160773, 0.0009133430807299404, 0.0009184873221748178, 0.0009250560222559834, 0.0009330768129850525, 0.0009425779572594538, 0.0009535882644749562, 0.0009661369817498668, 0.0009802536604244295, 0.0009959679976944827, 0.0010133096534438804, 0.0010323080425544136, 0.001052992103194139, 0.0010753900418135449, 0.0010995290558127974, 0.0011254350350803847, 0.0011531322438425508, 0.0011826429845016057, 0.0012139872453777588, 0.0012471823345014197, 0.0012822425018282407, 0.0013191785524658468, 0.0013579974537059382, 0.0013987019388465981, 0.0014412901109639754, 0.0014857550499479428, 0.0015320844262503212, 0.0015802601249044045, 0.001630257883458294, 0.0016820469475205026, 0.0017355897476416038, 0.0017908416012492347, 0.0018477504433140792, 0.0019062565893496147, 0.0019662925342387233, 0.002027782790233748, 0.0020906437672945115, 0.0021547836987100806, 0.0022201026146960626, 0.00228649236637096, 0.0023538367021931792, 0.0024220113985879443, 0.0024908844461112092, 0.0025603162920900713, 0.002630160140247731, 0.002700262307370126, 0.002770462636604676, 0.0028405949665024797, 0.0029104876544293395, 0.0029799641524818087, 0.003048843633557313, 0.0031169416647470363, 0.003184070924752142, 0.0032500419615722116, 0.0033146639862853392, 0.003377745698336626, 0.003439096137380655, 0.0034985255563882824, 0.003555846310433148, 0.003610873755322659, 0.0036634271500347653, 0.003713330556769241, 0.0037604137323226437, 0.0038045130044516294, 0.0038454721269012187, 0.003883143106843834, 0.003917386998601755, 0.003948074657709182, 0.003975087449609662, 0.0039983179075786055, 0.004017670334805916, 0.004033061345968394, 0.0040444203440613375, 0.0040516899287398695, 0.004054826232938356, 0.00405379918508604, 0.00404859269481297, 0.0040392047606372505, 0.0040256474987361915, 0.004007947092524433, 0.003986143663384897, 0.003960291063517708, 0.003930456592481466], \"yaxis\": \"y\"}, {\"legendgroup\": \"witring\", \"marker\": {\"color\": \"rgb(44, 160, 44)\"}, \"mode\": \"lines\", \"name\": \"witring\", \"showlegend\": false, \"type\": \"scatter\", \"x\": [10.0, 10.372, 10.744, 11.116, 11.488, 11.86, 12.232, 12.604, 12.975999999999999, 13.347999999999999, 13.72, 14.091999999999999, 14.464, 14.836, 15.208, 15.58, 15.952, 16.323999999999998, 16.695999999999998, 17.067999999999998, 17.44, 17.812, 18.183999999999997, 18.555999999999997, 18.928, 19.3, 19.672, 20.044, 20.416, 20.788, 21.16, 21.532, 21.904, 22.276, 22.648, 23.02, 23.392, 23.764, 24.136, 24.508, 24.880000000000003, 25.252000000000002, 25.624000000000002, 25.996000000000002, 26.368, 26.74, 27.112, 27.484, 27.856, 28.228, 28.6, 28.972, 29.344, 29.716, 30.088, 30.46, 30.832, 31.204, 31.576, 31.948, 32.32, 32.692, 33.064, 33.436, 33.808, 34.18, 34.552, 34.924, 35.296, 35.668, 36.04, 36.412, 36.784, 37.156, 37.528, 37.9, 38.272, 38.644, 39.016, 39.388000000000005, 39.760000000000005, 40.132000000000005, 40.504000000000005, 40.876000000000005, 41.248000000000005, 41.620000000000005, 41.992000000000004, 42.364, 42.736, 43.108, 43.48, 43.852, 44.224, 44.596, 44.968, 45.34, 45.712, 46.084, 46.456, 46.828, 47.2, 47.572, 47.944, 48.316, 48.688, 49.06, 49.432, 49.804, 50.176, 50.548, 50.92, 51.292, 51.664, 52.036, 52.408, 52.78, 53.152, 53.524, 53.896, 54.268, 54.64, 55.012, 55.384, 55.756, 56.128, 56.5, 56.872, 57.244, 57.616, 57.988, 58.36, 58.732, 59.104, 59.476, 59.848, 60.22, 60.592, 60.964, 61.336, 61.708, 62.08, 62.452, 62.824, 63.196, 63.568, 63.94, 64.312, 64.684, 65.056, 65.428, 65.8, 66.172, 66.544, 66.916, 67.288, 67.66, 68.032, 68.404, 68.77600000000001, 69.148, 69.52000000000001, 69.892, 70.26400000000001, 70.636, 71.00800000000001, 71.38, 71.75200000000001, 72.124, 72.49600000000001, 72.868, 73.24000000000001, 73.612, 73.98400000000001, 74.356, 74.728, 75.1, 75.472, 75.844, 76.216, 76.588, 76.96, 77.332, 77.704, 78.076, 78.448, 78.82, 79.192, 79.564, 79.936, 80.308, 80.68, 81.052, 81.424, 81.796, 82.168, 82.54, 82.912, 83.284, 83.656, 84.028, 84.4, 84.772, 85.144, 85.516, 85.888, 86.26, 86.632, 87.004, 87.376, 87.748, 88.12, 88.492, 88.864, 89.236, 89.608, 89.98, 90.352, 90.724, 91.096, 91.468, 91.84, 92.212, 92.584, 92.956, 93.328, 93.7, 94.072, 94.444, 94.816, 95.188, 95.56, 95.932, 96.304, 96.676, 97.048, 97.42, 97.792, 98.164, 98.536, 98.908, 99.28, 99.652, 100.024, 100.396, 100.768, 101.14, 101.512, 101.884, 102.256, 102.628, 103.0, 103.372, 103.744, 104.116, 104.488, 104.86, 105.232, 105.604, 105.976, 106.348, 106.72, 107.092, 107.464, 107.836, 108.208, 108.58, 108.952, 109.324, 109.696, 110.068, 110.44, 110.812, 111.184, 111.556, 111.928, 112.3, 112.672, 113.044, 113.416, 113.788, 114.16, 114.532, 114.904, 115.276, 115.648, 116.02, 116.392, 116.764, 117.136, 117.508, 117.88, 118.252, 118.624, 118.996, 119.368, 119.74, 120.112, 120.484, 120.856, 121.228, 121.6, 121.972, 122.344, 122.716, 123.088, 123.46, 123.832, 124.204, 124.576, 124.948, 125.32, 125.692, 126.064, 126.436, 126.808, 127.18, 127.552, 127.924, 128.296, 128.668, 129.04000000000002, 129.412, 129.784, 130.156, 130.52800000000002, 130.9, 131.272, 131.644, 132.01600000000002, 132.388, 132.76, 133.132, 133.50400000000002, 133.876, 134.248, 134.62, 134.99200000000002, 135.364, 135.736, 136.108, 136.48000000000002, 136.852, 137.224, 137.596, 137.96800000000002, 138.34, 138.712, 139.084, 139.456, 139.828, 140.2, 140.572, 140.944, 141.316, 141.688, 142.06, 142.432, 142.804, 143.176, 143.548, 143.92, 144.292, 144.664, 145.036, 145.408, 145.78, 146.152, 146.524, 146.896, 147.268, 147.64, 148.012, 148.384, 148.756, 149.128, 149.5, 149.872, 150.244, 150.616, 150.988, 151.36, 151.732, 152.104, 152.476, 152.848, 153.22, 153.592, 153.964, 154.336, 154.708, 155.08, 155.452, 155.824, 156.196, 156.568, 156.94, 157.312, 157.684, 158.056, 158.428, 158.8, 159.172, 159.544, 159.916, 160.288, 160.66, 161.032, 161.404, 161.776, 162.148, 162.52, 162.892, 163.264, 163.636, 164.008, 164.38, 164.752, 165.124, 165.496, 165.868, 166.24, 166.612, 166.984, 167.356, 167.728, 168.1, 168.472, 168.844, 169.216, 169.588, 169.96, 170.332, 170.704, 171.076, 171.448, 171.82, 172.192, 172.564, 172.936, 173.308, 173.68, 174.052, 174.424, 174.796, 175.168, 175.54, 175.912, 176.284, 176.656, 177.028, 177.4, 177.772, 178.144, 178.516, 178.888, 179.26, 179.632, 180.004, 180.376, 180.748, 181.12, 181.492, 181.864, 182.236, 182.608, 182.98, 183.352, 183.724, 184.096, 184.468, 184.84, 185.212, 185.584, 185.956, 186.328, 186.7, 187.072, 187.444, 187.816, 188.188, 188.56, 188.932, 189.304, 189.676, 190.048, 190.42, 190.792, 191.164, 191.536, 191.908, 192.28, 192.652, 193.024, 193.396, 193.768, 194.14, 194.512, 194.884, 195.256, 195.628], \"xaxis\": \"x\", \"y\": [0.0002351581957062188, 0.00024677439592912006, 0.00025891439801858793, 0.00027160106562975034, 0.0002848581777291199, 0.00029871044467490534, 0.0003131835222736388, 0.00032830402361290977, 0.0003440995284692785, 0.00036059859009096617, 0.0003778307391567373, 0.00039582648471559335, 0.000414617311916541, 0.0004342356763438209, 0.00045471499478066615, 0.0004760896322338861, 0.0004983948850623999, 0.0005216669600652581, 0.000545942949398689, 0.0005712608012072519, 0.0005976592858712565, 0.0006251779577911146, 0.0006538571126491997, 0.0006837377401109641, 0.0007148614719494241, 0.0007472705256005304, 0.0007810076431812448, 0.0008161160260271965, 0.0008526392648324248, 0.0008906212654997231, 0.0009301061708363196, 0.0009711382782558187, 0.001013761953673317, 0.001058021541806141, 0.0011039612731175536, 0.0011516251676647875, 0.0012010569361356922, 0.0012522998783799423, 0.0013053967797608636, 0.0013603898056724394, 0.0014173203945826065, 0.0014762291499785776, 0.0015371557316022928, 0.0016001387463742283, 0.0016652156394115238, 0.0017324225855515798, 0.0018017943817950023, 0.0018733643410818713, 0.0019471641878128043, 0.00202322395552126, 0.0021015718870958694, 0.0021822343379415163, 0.0022652356824553045, 0.002350598224178789, 0.0024383421099706862, 0.002528485248525246, 0.002621043233540327, 0.002716029271816422, 0.0028134541165433656, 0.002913326006005609, 0.003015650607909673, 0.0031204309695092125, 0.0032276674736738124, 0.003337357801017758, 0.0034494968981744084, 0.003564076952270894, 0.0036810873716265576, 0.003800514772667249, 0.0039223429730161795, 0.004046552990690904, 0.004173123049304959, 0.004302028589142255, 0.004433242283942098, 0.0045667340632033595, 0.004702471139787422, 0.004840418042571587, 0.004980536653877437, 0.0051227862513726005, 0.005267123554119205, 0.005413502772418612, 0.005561875661079387, 0.005712191575714542, 0.005864397531654581, 0.006018438265045258, 0.006174256295683275, 0.006331791991129523, 0.006490983631628256, 0.006651767475351918, 0.006814077823485356, 0.006977847084660258, 0.007143005838251016, 0.007309482896046914, 0.0074772053618231095, 0.0076460986883442805, 0.007816086731350414, 0.00798709180009415, 0.008159034704023533, 0.008331834795233122, 0.008505410006340312, 0.00867967688348231, 0.008854550614172896, 0.009029945049806067, 0.009205772722646988, 0.009381944857207789, 0.009558371375967755, 0.009734960899462946, 0.009911620740839618, 0.010088256895038297, 0.010264774022850257, 0.010441075430165226, 0.010617063042807597, 0.010792637377437332, 0.010967697509070805, 0.01114214103585458, 0.011315864041801368, 0.0114887610582707, 0.011660725025046625, 0.011831647251929797, 0.012001417381821007, 0.012169923356326402, 0.01233705138496044, 0.012502685919060346, 0.012666709631554505, 0.012829003403746354, 0.012989446320283647, 0.01314791567348088, 0.013304286978148784, 0.013458433998059148, 0.013610228785135584, 0.013759541732411177, 0.013906241641731626, 0.014050195807108761, 0.014191270114543086, 0.014329329159037013, 0.014464236379412135, 0.01459585421142575, 0.014724044259553924, 0.01484866748767246, 0.014969584428723336, 0.015086655413304392, 0.01519974081696494, 0.015308701325831361, 0.015413398220025404, 0.01551369367417611, 0.015609451074164366, 0.01570053534907988, 0.015786813317214116, 0.015868154044761874, 0.01594442921575968, 0.01601551351165267, 0.016081284998754417, 0.016141625521747638, 0.016196421101269145, 0.016245562333530653, 0.016288944789849706, 0.0163264694139022, 0.016358042914461378, 0.01638357815135762, 0.01640299451238001, 0.01641621827884434, 0.016423182977573555, 0.016423829717075514, 0.01641810750575891, 0.016405973550101934, 0.01638739353077796, 0.01636234185484911, 0.016330801882260052, 0.016292766125000725, 0.01624823641745656, 0.016197224056627227, 0.016139749911068205, 0.016075844497593614, 0.01600554802497009, 0.015928910404031212, 0.015845991223845956, 0.015756859693783334, 0.01566159455152568, 0.015560283937294068, 0.015453025234759155, 0.015339924879317575, 0.015221098134616438, 0.015096668838404537, 0.014966769118977452, 0.014831539083662758, 0.014691126480960113, 0.014545686338107327, 0.01439538057598678, 0.014240377603415103, 0.014080851892972476, 0.013916983540624709, 0.013748957811471365, 0.013576964674015314, 0.01340119832539346, 0.013221856710034122, 0.013039141034214038, 0.012853255278976725, 0.012664405713844813, 0.01247280041371152, 0.01227864878123194, 0.012082161076953311, 0.011883547959326234, 0.0116830200366263, 0.01148078743268932, 0.011277059368224188, 0.011072043759316814, 0.010865946834577643, 0.010658972772215928, 0.01045132335814697, 0.010243197666056551, 0.010034791760160077, 0.00982629842120547, 0.009617906896079073, 0.00940980267118545, 0.009202167269585339, 0.008995178071694103, 0.008789008159166192, 0.008583826181421254, 0.008379796244106197, 0.008177077818635772, 0.007975825671812856, 0.007776189814400734, 0.007578315467403243, 0.007382343044705626, 0.007188408150641064, 0.0069966415909738944, 0.00680716939573283, 0.006620112852285073, 0.006435588547015475, 0.006253708413964548, 0.006074579788784253, 0.005898305466391024, 0.0057249837607318355, 0.005554708565129458, 0.005387569411738115, 0.005223651528719196, 0.005063035893837368, 0.004905799283280481, 0.004752014314620245, 0.004601749482953729, 0.004455069189398101, 0.004312033761250081, 0.004172699463267384, 0.0040371184996800995, 0.003905339006693856, 0.003777405035403384, 0.003653356525192432, 0.0035332292678528637, 0.003417054862811091, 0.003304860664002067, 0.003196669719078361, 0.0030925007017838977, 0.0029923678384562048, 0.0028962808297474728, 0.002804244768771345, 0.002716260056988196, 0.002632322319235912, 0.0025524223193944995, 0.002476545878240268, 0.0024046737950985035, 0.0023367817749409504, 0.0022728403625961657, 0.002212814885745883, 0.0021566654083686175, 0.002104346696262761, 0.0020558081962350574, 0.0020109940304764875, 0.001969843007566861, 0.0019322886514514638, 0.0018982592496190266, 0.0018676779215803145, 0.0018404627086016936, 0.0018165266854891728, 0.0017957780950466587, 0.0017781205056487857, 0.0017634529921753096, 0.0017516703403520192, 0.0017426632743344009, 0.0017363187071566283, 0.0017325200134517902, 0.0017311473236318248, 0.0017320778384994104, 0.0017351861630513533, 0.0017403446580260807, 0.0017474238075488866, 0.0017562926010399208, 0.0017668189273737079, 0.0017788699791174175, 0.001792312664530246, 0.001807014024879976, 0.001822841654526983, 0.0018396641211421, 0.0018573513833643894, 0.0018757752031691363, 0.001894809550206171, 0.0019143309953847712, 0.0019342190910240854, 0.0019543567349575523, 0.0019746305160758476, 0.001994931038914987, 0.0020151532250435172, 0.0020351965891741717, 0.0020549654881193216, 0.0020743693409245503, 0.0020933228187484405, 0.0021117460033070585, 0.0021295645129661574, 0.0021467095958399335, 0.0021631181895395094, 0.0021787329475040935, 0.002193502232139752, 0.0022073800752818104, 0.002220326106783836, 0.0022323054523155327, 0.0022432886017208363, 0.0022532512495426274, 0.0022621741095591027, 0.0022700427053960787, 0.00227684713947682, 0.002282581842744174, 0.002287245307736777, 0.0022908398077202486, 0.002293371104664273, 0.002294848148916243, 0.002295282773451187, 0.002294689385575711, 0.002293084658930903, 0.00229048722857601, 0.002286917391842292, 0.0022823968175258867, 0.002276948265841593, 0.0022705953213880614, 0.0022633621411812742, 0.002255273219599934, 0.00224635317185622, 0.0022366265373612586, 0.0022261176040997395, 0.0022148502548655865, 0.002202847835943663, 0.0021901330485546836, 0.002176727863114809, 0.0021626534561012363, 0.0021479301690634773, 0.0021325774890798435, 0.002116614049732814, 0.0021000576514677623, 0.0020829253000094164, 0.0020652332613413137, 0.002046997131607039, 0.0020282319201695956, 0.002008952143967811, 0.0019891719312369696, 0.001968905132615031, 0.0019481654376360593, 0.0019269664946181893, 0.0019053220319841632, 0.0018832459791069639, 0.0018607525848502243, 0.0018378565320711705, 0.0018145730464713171, 0.0017909179983145922, 0.001766907995682376, 0.0017425604680971853, 0.0017178937395195793, 0.0016929270899033347, 0.0016676808046799327, 0.0016421762117320386, 0.0016164357056048064, 0.0015904827588907545, 0.0015643419209067021, 0.0015380388039572194, 0.0015116000576466382, 0.001485053331858616, 0.0014584272291672396, 0.0014317512475748972, 0.0014050557145887043, 0.0013783717137477464, 0.001351731004797445, 0.0013251659387738639, 0.001298709369309875, 0.0012723945615063677, 0.001246255099725186, 0.0012203247956567892, 0.0011946375979946923, 0.0011692275050117617, 0.0011441284812806732, 0.0011193743797136403, 0.0010949988700155353, 0.0010710353745512797, 0.0010475170125236594, 0.0010244765532432948, 0.001001946379149147, 0.0009799584591075636, 0.0009585443323813427, 0.0009377351035194091, 0.0009175614482734224, 0.00089805363050168, 0.000879241529873945, 0.000861154680044997, 0.0008438223168205596, 0.0008272734356983473, 0.0008115368580300959, 0.0007966413049189139, 0.0007826154778408679, 0.0007694881448616062, 0.0007572882312086562, 0.0007460449128589571, 0.0007357877117096883, 0.0007265465908196127, 0.0007183520481384216, 0.000711235207083846, 0.0007052279022810523, 0.0007003627587468765, 0.0006966732627831166, 0.0006941938228391913, 0.0006929598186152444, 0.0006930076367028696, 0.0006943746911023256, 0.0006970994270128245, 0.0007012213063664693, 0.0007067807736668649, 0.0007138192008005187, 0.0007223788096128224, 0.0007325025711806615, 0.0007442340808702578, 0.0007576174084414401, 0.0007726969226475815, 0.0007895170899834366, 0.0008081222474500128, 0.0008285563494357589, 0.0008508626890551361, 0.0008750835945381397, 0.0009012601015255494, 0.0009294316023932128, 0.0009596354740021639, 0.0009919066855480967, 0.0010262773884607435, 0.001062776490579266, 0.0011014292171002559, 0.0011422566610584724, 0.001185275326353244, 0.0012304966665731766, 0.0012779266230947375, 0.0013275651661339696, 0.0013794058426111191, 0.001433435334843227, 0.001489633034205688, 0.0015479706339989016, 0.0016084117458160842, 0.0016709115437326552, 0.0017354164406222594, 0.0018018638008490643, 0.0018701816934879544, 0.0019402886900834434, 0.002012093710772853, 0.002085495922370294, 0.0021603846917348755, 0.0022366395974304657, 0.002314130502326215, 0.002392717689389434, 0.002472252062486652, 0.0025525754135388096, 0.0026335207568748843, 0.0027149127311002037, 0.002796568068243423, 0.002878296129377435, 0.002959899505326629, 0.0030411746804837776, 0.0031219127571686938, 0.0032019002373750824, 0.003280919858176573, 0.003358751476505292, 0.003435172998482071, 0.003509961347973046, 0.0035828934685787823, 0.003653747352835597, 0.0037223030920289332, 0.0037883439396917255, 0.003851657381590196, 0.003912036204790822, 0.003969279558256899, 0.0040231939973464125, 0.004073594504574504, 0.004120305479066806, 0.004163161687263676, 0.00420200916764064, 0.004236706082484697, 0.004267123510109328, 0.0042931461712987775, 0.004314673084241983, 0.0043316181427437185, 0.004343910613080285, 0.004351495545493731, 0.004354334096986075, 0.004352403762776543, 0.0043456985145133974, 0.0043342288440800835, 0.0043180217125953334, 0.004297120404971006, 0.004271584291151551, 0.004241488495907639], \"yaxis\": \"y\"}, {\"legendgroup\": \"math\", \"marker\": {\"color\": \"rgb(31, 119, 180)\", \"symbol\": \"line-ns-open\"}, \"mode\": \"markers\", \"name\": \"math\", \"showlegend\": false, \"type\": \"scatter\", \"x\": [37.0, 124.0, 156.0, 80.0, 131.0, 73.0, 81.0, 94.0, 71.0, 75.0, 124.0, 188.0, 193.0, 34.0, 193.0, 63.0, 94.0, 65.0, 95.0, 52.0, 62.0, 74.0, 124.0, 62.0, 73.0, 46.0, 82.0, 124.0, 63.0, 64.0, 80.0, 131.0, 93.0, 69.0, 46.0, 86.0, 59.0, 84.0, 64.0, 73.0, 83.0, 131.0, 75.0, 69.0, 68.0, 193.0, 57.0, 66.0, 61.0, 40.0, 50.0, 48.0, 36.0, 78.0, 196.0, 57.0, 122.0, 69.0, 124.0, 40.0, 92.0, 188.0, 35.0, 63.0, 193.0, 73.0, 63.0, 52.0, 131.0, 73.0, 63.0, 124.0, 71.0, 45.0, 85.0, 80.0, 40.0, 82.0, 188.0, 77.0, 91.0, 196.0, 60.0, 63.0, 40.0, 174.0, 57.0, 58.0, 147.0, 188.0, 97.0, 81.0, 68.0, 59.0, 96.0, 87.0, 57.0, 193.0, 193.0, 142.0, 94.0, 97.0, 124.0, 65.0, 82.0, 72.0, 62.0, 44.0, 49.0, 82.0, 75.0, 193.0, 59.0, 75.0, 72.0, 68.0, 66.0, 196.0, 67.0, 93.0, 69.0, 142.0, 63.0, 46.0, 66.0, 193.0, 62.0, 182.0, 48.0, 71.0, 193.0, 147.0, 193.0, 54.0, 80.0, 55.0, 90.0, 94.0, 81.0, 34.0, 53.0, 124.0, 61.0, 75.0, 74.0, 62.0, 70.0, 60.0, 59.0, 193.0, 62.0, 53.0, 80.0, 69.0, 69.0, 69.0, 49.0, 43.0, 83.0, 65.0, 73.0, 68.0, 64.0, 54.0, 65.0, 193.0, 49.0, 58.0, 66.0, 65.0, 65.0, 193.0, 70.0, 79.0, 50.0, 193.0, 188.0, 64.0, 124.0, 68.0, 32.0, 68.0, 58.0, 19.0, 193.0, 69.0, 72.0, 53.0, 64.0, 61.0, 78.0, 53.0, 45.0, 44.0, 196.0, 83.0, 65.0, 88.0, 88.0, 91.0, 84.0, 51.0, 196.0, 196.0, 38.0, 193.0, 47.0, 66.0, 61.0, 60.0, 71.0, 45.0, 77.0, 53.0, 193.0, 193.0, 57.0, 124.0, 193.0, 131.0, 193.0, 72.0, 76.0, 45.0, 193.0, 99.0, 51.0, 64.0, 52.0, 80.0, 51.0, 193.0, 193.0, 196.0, 50.0, 64.0, 74.0, 196.0, 71.0, 57.0, 69.0, 77.0, 75.0, 196.0, 43.0, 80.0, 122.0, 59.0, 85.0, 55.0, 44.0, 42.0, 58.0, 61.0, 50.0, 88.0, 73.0, 95.0, 124.0, 174.0, 67.0, 97.0, 61.0, 62.0, 79.0, 54.0, 66.0, 193.0, 174.0, 174.0, 78.0, 193.0, 85.0, 84.0, 76.0, 44.0, 122.0, 81.0, 54.0, 58.0, 124.0, 81.0, 35.0, 72.0, 71.0, 61.0, 66.0, 71.0, 71.0, 89.0, 73.0, 81.0, 46.0, 22.0, 48.0, 124.0, 44.0, 79.0, 91.0, 76.0, 124.0, 54.0, 77.0, 62.0, 67.0, 131.0, 196.0, 86.0, 58.0, 53.0, 57.0, 182.0, 69.0, 76.0, 78.0, 69.0, 124.0, 62.0, 37.0, 196.0, 88.0, 90.0, 57.0, 193.0, 68.0, 65.0, 63.0, 124.0, 52.0, 48.0, 65.0, 54.0, 50.0, 124.0, 193.0, 122.0, 40.0, 29.0, 26.0, 70.0, 196.0, 75.0, 53.0, 64.0, 60.0, 98.0, 93.0, 59.0, 46.0, 76.0, 79.0, 28.0, 55.0, 61.0, 142.0, 193.0, 193.0, 35.0, 193.0, 94.0, 193.0, 46.0, 100.0, 67.0, 49.0, 193.0, 50.0, 79.0, 142.0, 71.0, 83.0, 55.0, 48.0, 76.0, 77.0, 79.0, 62.0, 56.0, 124.0, 68.0, 84.0, 124.0, 80.0, 62.0, 124.0, 60.0, 64.0, 29.0, 52.0, 53.0, 131.0, 67.0, 82.0, 56.0, 79.0, 142.0, 73.0, 66.0, 52.0, 52.0, 73.0, 66.0, 84.0, 82.0, 193.0, 74.0, 76.0, 81.0, 79.0, 124.0, 68.0, 63.0, 142.0, 50.0, 196.0, 72.0, 85.0, 196.0, 83.0, 84.0, 65.0, 85.0, 70.0, 58.0, 86.0, 64.0, 65.0, 124.0, 61.0, 49.0, 53.0, 97.0, 75.0, 72.0, 124.0, 74.0, 59.0, 68.0, 78.0, 53.0, 57.0, 72.0, 99.0, 79.0, 91.0, 83.0, 72.0, 142.0, 188.0, 61.0, 73.0, 59.0, 100.0, 61.0, 77.0, 71.0, 49.0, 62.0, 86.0, 75.0, 58.0, 47.0, 63.0, 69.0, 70.0, 68.0, 61.0, 71.0, 122.0, 124.0, 81.0, 100.0, 84.0, 77.0, 53.0, 71.0, 73.0, 65.0, 124.0, 193.0, 49.0, 52.0, 65.0, 59.0, 80.0, 193.0, 62.0, 57.0, 46.0, 58.0, 67.0, 73.0, 72.0, 40.0, 78.0, 63.0, 61.0, 79.0, 77.0, 70.0, 53.0, 156.0, 151.0, 76.0, 45.0, 40.0, 82.0, 124.0, 193.0, 78.0, 75.0, 70.0, 55.0, 39.0, 188.0, 70.0, 30.0, 75.0, 63.0, 82.0, 74.0, 54.0, 124.0, 71.0, 73.0, 77.0, 77.0, 87.0, 87.0, 74.0, 67.0, 43.0, 49.0, 42.0, 49.0, 193.0, 53.0, 64.0, 64.0, 196.0, 61.0, 79.0, 69.0, 54.0, 65.0, 77.0, 58.0, 49.0, 73.0, 124.0, 54.0, 142.0, 54.0, 64.0, 59.0, 76.0, 75.0, 85.0, 131.0, 97.0, 193.0, 188.0, 53.0, 52.0, 142.0, 77.0, 79.0, 57.0, 87.0, 66.0, 193.0, 193.0, 63.0, 65.0, 64.0, 124.0, 68.0, 55.0, 72.0, 86.0, 142.0, 35.0, 97.0, 124.0, 75.0, 52.0, 74.0, 70.0, 39.0, 61.0, 193.0, 44.0, 32.0, 193.0, 77.0, 49.0, 87.0, 193.0, 66.0, 68.0, 193.0, 65.0, 62.0, 81.0, 70.0, 124.0, 74.0, 94.0, 142.0, 193.0, 76.0, 59.0, 156.0, 68.0, 193.0, 193.0, 73.0, 193.0, 124.0, 100.0, 131.0, 8.0, 65.0, 40.0, 48.0, 89.0, 77.0, 65.0, 69.0, 68.0, 49.0, 62.0, 50.0, 56.0, 46.0, 38.0, 53.0, 142.0, 193.0, 60.0, 91.0, 90.0, 73.0, 70.0, 47.0, 65.0, 81.0, 55.0, 93.0, 142.0, 193.0, 124.0, 142.0, 65.0, 131.0, 62.0, 48.0, 196.0, 68.0, 66.0, 55.0, 42.0, 54.0, 74.0, 37.0, 66.0, 88.0, 69.0, 166.0, 61.0, 193.0, 39.0, 87.0, 142.0, 64.0, 44.0, 131.0, 59.0, 80.0, 33.0, 71.0, 76.0, 53.0, 78.0, 55.0, 70.0, 65.0, 193.0, 86.0, 47.0, 54.0, 41.0, 78.0, 83.0, 54.0, 90.0, 59.0, 65.0, 67.0, 193.0, 89.0, 59.0, 73.0, 74.0, 86.0, 55.0, 61.0, 57.0, 58.0, 42.0, 45.0, 63.0, 61.0, 81.0, 92.0, 193.0, 67.0, 94.0, 56.0, 62.0, 70.0, 142.0, 70.0, 76.0, 64.0, 47.0, 66.0, 86.0, 40.0, 66.0, 68.0, 51.0, 45.0, 88.0, 90.0, 52.0, 49.0, 53.0, 171.0, 193.0, 71.0, 50.0, 58.0, 42.0, 67.0, 39.0, 85.0, 62.0, 78.0, 73.0, 68.0, 89.0, 40.0, 82.0, 69.0, 77.0, 69.0, 79.0, 53.0, 43.0, 58.0, 76.0, 40.0, 88.0, 69.0, 49.0, 85.0, 69.0, 72.0, 57.0, 58.0, 62.0, 62.0, 142.0, 142.0, 75.0, 88.0, 81.0, 193.0, 193.0, 67.0, 142.0, 67.0, 166.0, 74.0, 188.0, 74.0, 95.0, 71.0, 193.0, 85.0, 193.0, 124.0, 131.0, 188.0, 142.0, 56.0, 82.0, 85.0, 60.0, 63.0, 51.0, 50.0, 81.0, 64.0, 87.0, 46.0, 58.0, 62.0, 76.0, 60.0, 50.0, 124.0, 193.0, 142.0, 77.0, 124.0, 64.0, 61.0, 60.0, 67.0, 64.0, 193.0, 196.0, 90.0, 59.0, 53.0, 48.0, 193.0, 35.0, 60.0, 82.0, 58.0, 60.0, 66.0, 85.0, 124.0, 49.0, 77.0, 67.0, 69.0, 131.0, 50.0, 62.0, 83.0, 81.0, 92.0, 70.0, 72.0, 92.0, 51.0, 156.0, 87.0, 71.0, 59.0, 124.0, 88.0, 61.0, 193.0, 82.0, 193.0, 71.0, 75.0, 43.0, 51.0, 62.0, 75.0, 63.0, 174.0, 71.0, 67.0, 71.0, 61.0, 56.0, 98.0, 82.0, 75.0, 59.0, 193.0, 71.0, 44.0, 77.0, 65.0, 196.0, 57.0, 60.0, 27.0, 58.0, 70.0, 38.0, 42.0, 100.0, 193.0, 89.0, 35.0, 74.0, 77.0, 62.0, 79.0, 124.0, 46.0, 74.0, 196.0, 59.0, 66.0, 124.0, 47.0, 142.0, 77.0, 78.0, 52.0, 70.0, 193.0, 58.0, 68.0, 69.0, 87.0, 52.0, 72.0, 85.0, 196.0, 41.0, 61.0, 67.0, 54.0, 75.0, 80.0, 63.0, 52.0, 62.0, 58.0, 62.0, 65.0, 74.0, 182.0, 142.0, 142.0, 79.0, 49.0, 68.0, 63.0, 52.0, 59.0, 55.0, 66.0, 38.0, 193.0, 193.0, 74.0, 91.0, 64.0, 74.0, 142.0, 81.0, 79.0, 90.0, 142.0, 124.0, 54.0, 78.0, 46.0, 193.0, 88.0, 62.0, 193.0, 80.0, 124.0, 142.0, 80.0, 71.0, 64.0, 75.0, 60.0, 68.0, 88.0, 55.0, 50.0, 97.0, 42.0, 188.0, 49.0, 69.0, 40.0, 122.0, 42.0, 58.0, 24.0, 48.0, 124.0, 67.0, 59.0, 193.0, 59.0, 96.0, 45.0, 88.0, 72.0, 166.0, 61.0, 81.0, 59.0, 73.0, 79.0, 68.0, 193.0, 47.0, 124.0, 64.0, 49.0, 124.0, 54.0, 71.0, 59.0, 89.0, 37.0, 59.0, 57.0, 47.0, 77.0, 62.0, 77.0, 51.0, 131.0, 69.0, 74.0, 60.0, 76.0, 51.0, 32.0, 124.0, 193.0, 73.0, 49.0, 76.0, 64.0, 62.0, 63.0, 156.0, 50.0, 44.0, 66.0, 67.0, 142.0, 142.0, 61.0, 75.0, 147.0, 69.0, 76.0, 65.0, 53.0, 87.0, 53.0, 66.0, 196.0, 49.0, 67.0, 55.0, 30.0, 73.0, 62.0, 79.0, 63.0, 52.0, 193.0, 58.0, 124.0, 142.0, 193.0, 78.0, 81.0, 142.0, 193.0, 74.0, 68.0, 82.0, 73.0, 35.0, 142.0, 59.0, 74.0, 62.0, 49.0, 84.0, 67.0, 81.0, 33.0, 142.0, 59.0, 87.0, 77.0, 58.0, 69.0, 65.0, 92.0, 87.0, 69.0, 73.0, 61.0, 55.0, 67.0, 69.0, 74.0, 64.0, 56.0, 36.0, 41.0, 124.0, 49.0, 59.0, 34.0, 142.0, 84.0, 76.0, 142.0, 61.0, 193.0, 62.0, 87.0, 67.0, 54.0, 59.0, 68.0, 67.0, 91.0, 142.0, 80.0, 96.0, 68.0, 193.0, 156.0, 30.0, 124.0, 74.0, 71.0, 35.0, 81.0, 53.0, 49.0, 147.0, 40.0, 80.0, 76.0, 142.0, 76.0, 196.0, 63.0, 57.0, 58.0, 72.0, 55.0, 53.0, 80.0, 41.0, 55.0, 51.0, 85.0, 81.0, 52.0, 18.0, 193.0, 73.0, 48.0, 56.0, 142.0, 63.0, 58.0, 32.0, 59.0, 142.0, 193.0, 63.0, 63.0, 80.0, 60.0, 64.0, 98.0, 59.0, 65.0, 193.0, 87.0, 66.0, 52.0, 193.0, 28.0, 174.0, 73.0, 87.0, 79.0, 60.0, 81.0, 74.0, 196.0, 69.0, 47.0, 47.0, 79.0, 82.0, 92.0, 57.0, 41.0, 49.0, 88.0, 79.0, 59.0, 71.0, 193.0, 81.0, 65.0, 82.0, 65.0, 40.0, 73.0, 156.0, 56.0, 69.0, 193.0, 67.0, 91.0, 67.0, 188.0, 87.0, 124.0, 65.0, 124.0, 58.0, 55.0, 48.0, 88.0, 53.0, 85.0, 193.0, 62.0, 65.0, 82.0, 62.0, 63.0, 84.0, 193.0, 131.0, 77.0, 50.0, 69.0, 0.0, 188.0, 193.0, 65.0, 79.0, 69.0, 193.0, 72.0, 100.0, 65.0, 47.0, 99.0, 51.0, 71.0, 82.0, 91.0, 55.0, 75.0, 66.0, 95.0, 72.0, 70.0, 57.0, 84.0, 193.0, 61.0, 45.0, 65.0, 27.0, 88.0, 65.0, 63.0, 78.0, 193.0, 65.0, 90.0, 100.0, 67.0, 74.0, 76.0, 193.0, 66.0, 59.0, 62.0, 41.0, 124.0, 29.0, 69.0, 124.0, 23.0, 193.0, 66.0, 54.0, 193.0, 68.0], \"xaxis\": \"x\", \"y\": [\"math\", \"math\", \"math\", \"math\", \"math\", \"math\", \"math\", \"math\", \"math\", \"math\", \"math\", \"math\", \"math\", \"math\", \"math\", \"math\", \"math\", \"math\", \"math\", \"math\", \"math\", \"math\", \"math\", \"math\", \"math\", \"math\", \"math\", \"math\", \"math\", \"math\", \"math\", \"math\", \"math\", \"math\", \"math\", \"math\", \"math\", \"math\", \"math\", \"math\", \"math\", \"math\", \"math\", \"math\", \"math\", \"math\", \"math\", \"math\", \"math\", \"math\", \"math\", \"math\", \"math\", \"math\", \"math\", \"math\", \"math\", \"math\", \"math\", \"math\", \"math\", \"math\", \"math\", \"math\", \"math\", \"math\", \"math\", \"math\", \"math\", \"math\", \"math\", \"math\", \"math\", \"math\", \"math\", \"math\", \"math\", \"math\", \"math\", \"math\", \"math\", \"math\", \"math\", \"math\", \"math\", \"math\", \"math\", \"math\", \"math\", \"math\", \"math\", \"math\", \"math\", \"math\", \"math\", \"math\", \"math\", \"math\", \"math\", \"math\", \"math\", \"math\", \"math\", \"math\", \"math\", \"math\", \"math\", \"math\", \"math\", \"math\", \"math\", \"math\", \"math\", \"math\", \"math\", \"math\", \"math\", \"math\", \"math\", \"math\", \"math\", \"math\", \"math\", \"math\", \"math\", \"math\", \"math\", \"math\", \"math\", \"math\", \"math\", \"math\", \"math\", \"math\", \"math\", \"math\", \"math\", \"math\", \"math\", \"math\", \"math\", \"math\", \"math\", \"math\", \"math\", \"math\", \"math\", \"math\", \"math\", \"math\", \"math\", \"math\", \"math\", \"math\", \"math\", \"math\", \"math\", \"math\", \"math\", \"math\", \"math\", \"math\", \"math\", \"math\", \"math\", \"math\", \"math\", \"math\", \"math\", \"math\", \"math\", \"math\", \"math\", \"math\", \"math\", \"math\", \"math\", \"math\", \"math\", \"math\", \"math\", \"math\", \"math\", \"math\", \"math\", \"math\", \"math\", \"math\", \"math\", \"math\", \"math\", \"math\", \"math\", \"math\", \"math\", \"math\", \"math\", \"math\", \"math\", \"math\", \"math\", \"math\", \"math\", \"math\", \"math\", \"math\", \"math\", \"math\", \"math\", \"math\", \"math\", \"math\", \"math\", \"math\", \"math\", \"math\", \"math\", \"math\", \"math\", \"math\", \"math\", \"math\", \"math\", \"math\", \"math\", \"math\", \"math\", \"math\", \"math\", \"math\", \"math\", \"math\", \"math\", \"math\", \"math\", \"math\", \"math\", \"math\", \"math\", \"math\", \"math\", \"math\", \"math\", \"math\", \"math\", \"math\", \"math\", \"math\", \"math\", \"math\", \"math\", \"math\", \"math\", \"math\", \"math\", \"math\", \"math\", \"math\", \"math\", \"math\", \"math\", \"math\", \"math\", \"math\", \"math\", \"math\", \"math\", \"math\", \"math\", \"math\", \"math\", \"math\", \"math\", \"math\", \"math\", \"math\", \"math\", \"math\", \"math\", \"math\", \"math\", \"math\", \"math\", \"math\", \"math\", \"math\", \"math\", \"math\", \"math\", \"math\", \"math\", \"math\", \"math\", \"math\", \"math\", \"math\", \"math\", \"math\", \"math\", \"math\", \"math\", \"math\", \"math\", \"math\", \"math\", \"math\", \"math\", \"math\", \"math\", \"math\", \"math\", \"math\", \"math\", \"math\", \"math\", \"math\", \"math\", \"math\", \"math\", \"math\", \"math\", \"math\", \"math\", \"math\", \"math\", \"math\", \"math\", \"math\", \"math\", \"math\", \"math\", \"math\", \"math\", \"math\", \"math\", \"math\", \"math\", \"math\", \"math\", \"math\", \"math\", \"math\", \"math\", \"math\", \"math\", \"math\", \"math\", \"math\", \"math\", \"math\", \"math\", \"math\", \"math\", \"math\", \"math\", \"math\", \"math\", \"math\", \"math\", \"math\", \"math\", \"math\", \"math\", \"math\", \"math\", \"math\", \"math\", \"math\", \"math\", \"math\", \"math\", \"math\", \"math\", \"math\", \"math\", \"math\", \"math\", \"math\", \"math\", \"math\", \"math\", \"math\", \"math\", \"math\", \"math\", \"math\", \"math\", \"math\", \"math\", \"math\", \"math\", \"math\", \"math\", \"math\", \"math\", \"math\", \"math\", \"math\", \"math\", \"math\", \"math\", \"math\", \"math\", \"math\", \"math\", \"math\", \"math\", \"math\", \"math\", \"math\", \"math\", \"math\", \"math\", \"math\", \"math\", \"math\", \"math\", \"math\", \"math\", \"math\", \"math\", \"math\", \"math\", \"math\", \"math\", \"math\", \"math\", \"math\", \"math\", \"math\", \"math\", \"math\", \"math\", \"math\", \"math\", \"math\", \"math\", \"math\", \"math\", \"math\", \"math\", \"math\", \"math\", \"math\", \"math\", \"math\", \"math\", \"math\", \"math\", \"math\", \"math\", \"math\", \"math\", \"math\", \"math\", \"math\", \"math\", \"math\", \"math\", \"math\", \"math\", \"math\", \"math\", \"math\", \"math\", \"math\", \"math\", \"math\", \"math\", \"math\", \"math\", \"math\", \"math\", \"math\", \"math\", \"math\", \"math\", \"math\", \"math\", \"math\", \"math\", \"math\", \"math\", \"math\", \"math\", \"math\", \"math\", \"math\", \"math\", \"math\", \"math\", \"math\", \"math\", \"math\", \"math\", \"math\", \"math\", \"math\", \"math\", \"math\", \"math\", \"math\", \"math\", \"math\", \"math\", \"math\", \"math\", \"math\", \"math\", \"math\", \"math\", \"math\", \"math\", \"math\", \"math\", \"math\", \"math\", \"math\", \"math\", \"math\", \"math\", \"math\", \"math\", \"math\", \"math\", \"math\", \"math\", \"math\", \"math\", \"math\", \"math\", \"math\", \"math\", \"math\", \"math\", \"math\", \"math\", \"math\", \"math\", \"math\", \"math\", \"math\", \"math\", \"math\", \"math\", \"math\", \"math\", \"math\", \"math\", \"math\", \"math\", \"math\", \"math\", \"math\", \"math\", \"math\", \"math\", \"math\", \"math\", \"math\", \"math\", \"math\", \"math\", \"math\", \"math\", \"math\", \"math\", \"math\", \"math\", \"math\", \"math\", \"math\", \"math\", \"math\", \"math\", \"math\", \"math\", \"math\", \"math\", \"math\", \"math\", \"math\", \"math\", \"math\", \"math\", \"math\", \"math\", \"math\", \"math\", \"math\", \"math\", \"math\", \"math\", \"math\", \"math\", \"math\", \"math\", \"math\", \"math\", \"math\", \"math\", \"math\", \"math\", \"math\", \"math\", \"math\", \"math\", \"math\", \"math\", \"math\", \"math\", \"math\", \"math\", \"math\", \"math\", \"math\", \"math\", \"math\", \"math\", \"math\", \"math\", \"math\", \"math\", \"math\", \"math\", \"math\", \"math\", \"math\", \"math\", \"math\", \"math\", \"math\", \"math\", \"math\", \"math\", \"math\", \"math\", \"math\", \"math\", \"math\", \"math\", \"math\", \"math\", \"math\", \"math\", \"math\", \"math\", \"math\", \"math\", \"math\", \"math\", \"math\", \"math\", \"math\", \"math\", \"math\", \"math\", \"math\", \"math\", \"math\", \"math\", \"math\", \"math\", \"math\", \"math\", \"math\", \"math\", \"math\", \"math\", \"math\", \"math\", \"math\", \"math\", \"math\", \"math\", \"math\", \"math\", \"math\", \"math\", \"math\", \"math\", \"math\", \"math\", \"math\", \"math\", \"math\", \"math\", \"math\", \"math\", \"math\", \"math\", \"math\", \"math\", \"math\", \"math\", \"math\", \"math\", \"math\", \"math\", \"math\", \"math\", \"math\", \"math\", \"math\", \"math\", \"math\", \"math\", \"math\", \"math\", \"math\", \"math\", \"math\", \"math\", \"math\", \"math\", \"math\", \"math\", \"math\", \"math\", \"math\", \"math\", \"math\", \"math\", \"math\", \"math\", \"math\", \"math\", \"math\", \"math\", \"math\", \"math\", \"math\", \"math\", \"math\", \"math\", \"math\", \"math\", \"math\", \"math\", \"math\", \"math\", \"math\", \"math\", \"math\", \"math\", \"math\", \"math\", \"math\", \"math\", \"math\", \"math\", \"math\", \"math\", \"math\", \"math\", \"math\", \"math\", \"math\", \"math\", \"math\", \"math\", \"math\", \"math\", \"math\", \"math\", \"math\", \"math\", \"math\", \"math\", \"math\", \"math\", \"math\", \"math\", \"math\", \"math\", \"math\", \"math\", \"math\", \"math\", \"math\", \"math\", \"math\", \"math\", \"math\", \"math\", \"math\", \"math\", \"math\", \"math\", \"math\", \"math\", \"math\", \"math\", \"math\", \"math\", \"math\", \"math\", \"math\", \"math\", \"math\", \"math\", \"math\", \"math\", \"math\", \"math\", \"math\", \"math\", \"math\", \"math\", \"math\", \"math\", \"math\", \"math\", \"math\", \"math\", \"math\", \"math\", \"math\", \"math\", \"math\", \"math\", \"math\", \"math\", \"math\", \"math\", \"math\", \"math\", \"math\", \"math\", \"math\", \"math\", \"math\", \"math\", \"math\", \"math\", \"math\", \"math\", \"math\", \"math\", \"math\", \"math\", \"math\", \"math\", \"math\", \"math\", \"math\", \"math\", \"math\", \"math\", \"math\", \"math\", \"math\", \"math\", \"math\", \"math\", \"math\", \"math\", \"math\", \"math\", \"math\", \"math\", \"math\", \"math\", \"math\", \"math\", \"math\", \"math\", \"math\", \"math\", \"math\", \"math\", \"math\", \"math\", \"math\", \"math\", \"math\", \"math\", \"math\", \"math\", \"math\", \"math\", \"math\", \"math\", \"math\", \"math\", \"math\", \"math\", \"math\", \"math\", \"math\", \"math\", \"math\", \"math\", \"math\", \"math\", \"math\", \"math\", \"math\", \"math\", \"math\", \"math\", \"math\", \"math\", \"math\", \"math\", \"math\", \"math\", \"math\", \"math\", \"math\", \"math\", \"math\", \"math\", \"math\", \"math\", \"math\", \"math\", \"math\", \"math\", \"math\", \"math\", \"math\", \"math\", \"math\", \"math\", \"math\", \"math\", \"math\", \"math\", \"math\", \"math\", \"math\", \"math\", \"math\", \"math\", \"math\", \"math\", \"math\", \"math\", \"math\", \"math\", \"math\", \"math\", \"math\", \"math\", \"math\", \"math\", \"math\", \"math\", \"math\", \"math\", \"math\", \"math\", \"math\", \"math\", \"math\", \"math\", \"math\", \"math\", \"math\", \"math\", \"math\", \"math\", \"math\", \"math\", \"math\", \"math\", \"math\", \"math\", \"math\", \"math\", \"math\", \"math\", \"math\", \"math\", \"math\", \"math\", \"math\", \"math\", \"math\", \"math\", \"math\", \"math\", \"math\", \"math\", \"math\", \"math\", \"math\", \"math\", \"math\", \"math\", \"math\", \"math\", \"math\", \"math\", \"math\", \"math\", \"math\", \"math\", \"math\", \"math\", \"math\", \"math\", \"math\", \"math\", \"math\", \"math\", \"math\", \"math\", \"math\", \"math\", \"math\", \"math\", \"math\", \"math\", \"math\", \"math\", \"math\", \"math\", \"math\", \"math\", \"math\", \"math\", \"math\", \"math\", \"math\", \"math\", \"math\", \"math\", \"math\", \"math\", \"math\", \"math\", \"math\", \"math\", \"math\", \"math\", \"math\", \"math\", \"math\", \"math\", \"math\", \"math\", \"math\", \"math\", \"math\", \"math\", \"math\", \"math\", \"math\", \"math\", \"math\", \"math\", \"math\", \"math\", \"math\", \"math\", \"math\", \"math\", \"math\", \"math\", \"math\", \"math\", \"math\", \"math\", \"math\", \"math\", \"math\", \"math\", \"math\", \"math\", \"math\", \"math\", \"math\", \"math\", \"math\", \"math\", \"math\", \"math\", \"math\", \"math\", \"math\", \"math\", \"math\", \"math\", \"math\", \"math\", \"math\", \"math\", \"math\", \"math\", \"math\", \"math\", \"math\", \"math\", \"math\", \"math\", \"math\", \"math\", \"math\", \"math\", \"math\", \"math\", \"math\", \"math\", \"math\", \"math\", \"math\", \"math\", \"math\", \"math\", \"math\", \"math\", \"math\", \"math\", \"math\", \"math\", \"math\", \"math\", \"math\", \"math\", \"math\", \"math\", \"math\", \"math\", \"math\", \"math\", \"math\", \"math\", \"math\", \"math\", \"math\", \"math\", \"math\", \"math\", \"math\", \"math\", \"math\", \"math\", \"math\", \"math\", \"math\", \"math\", \"math\", \"math\", \"math\", \"math\", \"math\", \"math\", \"math\", \"math\", \"math\", \"math\", \"math\", \"math\", \"math\", \"math\", \"math\", \"math\", \"math\", \"math\", \"math\", \"math\", \"math\", \"math\", \"math\", \"math\", \"math\", \"math\", \"math\", \"math\", \"math\", \"math\", \"math\", \"math\", \"math\", \"math\", \"math\", \"math\", \"math\", \"math\", \"math\", \"math\", \"math\", \"math\", \"math\", \"math\", \"math\", \"math\", \"math\", \"math\", \"math\", \"math\", \"math\", \"math\", \"math\", \"math\", \"math\", \"math\", \"math\", \"math\", \"math\", \"math\", \"math\", \"math\", \"math\", \"math\", \"math\", \"math\", \"math\", \"math\", \"math\", \"math\", \"math\", \"math\", \"math\", \"math\", \"math\", \"math\", \"math\", \"math\", \"math\", \"math\", \"math\", \"math\", \"math\", \"math\", \"math\", \"math\", \"math\", \"math\", \"math\", \"math\", \"math\", \"math\", \"math\", \"math\", \"math\", \"math\", \"math\", \"math\", \"math\", \"math\", \"math\", \"math\", \"math\", \"math\", \"math\", \"math\", \"math\", \"math\", \"math\", \"math\", \"math\", \"math\", \"math\", \"math\", \"math\", \"math\", \"math\", \"math\", \"math\", \"math\", \"math\", \"math\", \"math\", \"math\", \"math\", \"math\", \"math\", \"math\", \"math\", \"math\", \"math\", \"math\", \"math\", \"math\", \"math\", \"math\", \"math\", \"math\", \"math\", \"math\", \"math\", \"math\", \"math\", \"math\", \"math\", \"math\", \"math\", \"math\", \"math\", \"math\", \"math\", \"math\", \"math\", \"math\", \"math\"], \"yaxis\": \"y2\"}, {\"legendgroup\": \"reading\", \"marker\": {\"color\": \"rgb(255, 127, 14)\", \"symbol\": \"line-ns-open\"}, \"mode\": \"markers\", \"name\": \"reading\", \"showlegend\": false, \"type\": \"scatter\", \"x\": [46.0, 142.0, 196.0, 78.0, 166.0, 66.0, 75.0, 86.0, 61.0, 68.0, 196.0, 131.0, 193.0, 48.0, 171.0, 61.0, 73.0, 78.0, 142.0, 76.0, 65.0, 74.0, 142.0, 57.0, 69.0, 42.0, 82.0, 193.0, 61.0, 73.0, 75.0, 97.0, 100.0, 76.0, 61.0, 81.0, 72.0, 83.0, 64.0, 76.0, 86.0, 124.0, 88.0, 74.0, 72.0, 142.0, 61.0, 64.0, 61.0, 59.0, 67.0, 62.0, 29.0, 79.0, 142.0, 67.0, 124.0, 58.0, 142.0, 55.0, 87.0, 193.0, 28.0, 67.0, 128.0, 74.0, 64.0, 59.0, 142.0, 79.0, 73.0, 196.0, 60.0, 59.0, 92.0, 76.0, 196.0, 85.0, 193.0, 94.0, 85.0, 142.0, 62.0, 48.0, 48.0, 193.0, 54.0, 54.0, 193.0, 188.0, 82.0, 82.0, 65.0, 71.0, 90.0, 84.0, 75.0, 193.0, 142.0, 193.0, 88.0, 93.0, 142.0, 81.0, 93.0, 57.0, 74.0, 54.0, 193.0, 84.0, 90.0, 193.0, 41.0, 73.0, 68.0, 78.0, 74.0, 124.0, 62.0, 90.0, 63.0, 124.0, 74.0, 64.0, 68.0, 124.0, 73.0, 142.0, 56.0, 70.0, 124.0, 124.0, 142.0, 72.0, 83.0, 59.0, 87.0, 99.0, 73.0, 42.0, 43.0, 64.0, 68.0, 85.0, 81.0, 72.0, 78.0, 70.0, 51.0, 188.0, 72.0, 50.0, 85.0, 66.0, 78.0, 77.0, 45.0, 60.0, 93.0, 61.0, 64.0, 83.0, 66.0, 61.0, 77.0, 171.0, 57.0, 67.0, 78.0, 70.0, 79.0, 142.0, 68.0, 81.0, 67.0, 193.0, 142.0, 54.0, 124.0, 60.0, 51.0, 51.0, 57.0, 38.0, 193.0, 77.0, 79.0, 58.0, 188.0, 51.0, 72.0, 62.0, 56.0, 51.0, 193.0, 83.0, 76.0, 78.0, 95.0, 89.0, 87.0, 66.0, 196.0, 193.0, 49.0, 193.0, 53.0, 57.0, 73.0, 68.0, 71.0, 63.0, 86.0, 58.0, 142.0, 124.0, 51.0, 151.0, 193.0, 171.0, 193.0, 64.0, 71.0, 48.0, 193.0, 93.0, 72.0, 60.0, 61.0, 73.0, 54.0, 128.0, 142.0, 124.0, 48.0, 73.0, 74.0, 95.0, 77.0, 74.0, 70.0, 90.0, 74.0, 124.0, 51.0, 68.0, 166.0, 72.0, 81.0, 76.0, 63.0, 62.0, 59.0, 47.0, 66.0, 74.0, 78.0, 193.0, 196.0, 142.0, 86.0, 100.0, 58.0, 64.0, 81.0, 63.0, 71.0, 142.0, 124.0, 124.0, 91.0, 196.0, 75.0, 84.0, 94.0, 61.0, 193.0, 84.0, 49.0, 63.0, 193.0, 82.0, 174.0, 81.0, 49.0, 42.0, 77.0, 76.0, 66.0, 88.0, 83.0, 81.0, 34.0, 39.0, 52.0, 147.0, 64.0, 82.0, 81.0, 80.0, 193.0, 59.0, 78.0, 72.0, 64.0, 188.0, 196.0, 81.0, 70.0, 52.0, 58.0, 124.0, 73.0, 70.0, 87.0, 64.0, 142.0, 66.0, 57.0, 193.0, 89.0, 75.0, 56.0, 124.0, 70.0, 75.0, 69.0, 193.0, 57.0, 43.0, 54.0, 54.0, 53.0, 193.0, 142.0, 193.0, 59.0, 41.0, 31.0, 75.0, 124.0, 74.0, 39.0, 124.0, 57.0, 87.0, 84.0, 54.0, 54.0, 64.0, 88.0, 23.0, 71.0, 57.0, 142.0, 64.0, 124.0, 53.0, 124.0, 85.0, 124.0, 58.0, 100.0, 80.0, 196.0, 124.0, 47.0, 84.0, 124.0, 81.0, 82.0, 64.0, 58.0, 73.0, 77.0, 79.0, 78.0, 68.0, 193.0, 86.0, 77.0, 49.0, 75.0, 70.0, 174.0, 66.0, 62.0, 40.0, 65.0, 61.0, 124.0, 61.0, 95.0, 79.0, 76.0, 196.0, 68.0, 74.0, 66.0, 67.0, 86.0, 65.0, 73.0, 75.0, 124.0, 77.0, 71.0, 72.0, 89.0, 124.0, 71.0, 78.0, 193.0, 56.0, 193.0, 65.0, 92.0, 142.0, 78.0, 95.0, 77.0, 86.0, 70.0, 63.0, 80.0, 82.0, 81.0, 193.0, 55.0, 51.0, 51.0, 97.0, 72.0, 73.0, 196.0, 79.0, 67.0, 68.0, 77.0, 58.0, 78.0, 57.0, 100.0, 89.0, 73.0, 72.0, 79.0, 156.0, 196.0, 62.0, 74.0, 54.0, 96.0, 66.0, 79.0, 67.0, 53.0, 61.0, 92.0, 81.0, 62.0, 59.0, 75.0, 67.0, 75.0, 63.0, 56.0, 66.0, 95.0, 156.0, 97.0, 100.0, 77.0, 90.0, 44.0, 83.0, 68.0, 82.0, 193.0, 171.0, 49.0, 59.0, 75.0, 60.0, 64.0, 142.0, 49.0, 43.0, 43.0, 73.0, 54.0, 66.0, 72.0, 43.0, 83.0, 65.0, 72.0, 74.0, 82.0, 84.0, 54.0, 196.0, 42.0, 62.0, 53.0, 58.0, 85.0, 64.0, 196.0, 72.0, 66.0, 64.0, 55.0, 42.0, 142.0, 89.0, 26.0, 84.0, 64.0, 82.0, 81.0, 59.0, 147.0, 84.0, 84.0, 88.0, 88.0, 84.0, 74.0, 73.0, 64.0, 62.0, 52.0, 193.0, 65.0, 193.0, 54.0, 53.0, 131.0, 193.0, 86.0, 92.0, 71.0, 52.0, 86.0, 91.0, 61.0, 63.0, 76.0, 193.0, 64.0, 188.0, 53.0, 58.0, 72.0, 74.0, 69.0, 84.0, 193.0, 92.0, 142.0, 193.0, 70.0, 55.0, 142.0, 76.0, 72.0, 77.0, 85.0, 69.0, 193.0, 124.0, 73.0, 85.0, 124.0, 193.0, 67.0, 58.0, 66.0, 76.0, 193.0, 55.0, 87.0, 124.0, 68.0, 49.0, 70.0, 82.0, 52.0, 74.0, 196.0, 50.0, 151.0, 193.0, 90.0, 193.0, 84.0, 193.0, 65.0, 77.0, 182.0, 67.0, 67.0, 66.0, 63.0, 193.0, 75.0, 90.0, 193.0, 196.0, 78.0, 70.0, 188.0, 68.0, 131.0, 193.0, 66.0, 196.0, 142.0, 100.0, 131.0, 24.0, 64.0, 65.0, 66.0, 84.0, 82.0, 73.0, 77.0, 72.0, 51.0, 69.0, 50.0, 68.0, 56.0, 142.0, 55.0, 147.0, 182.0, 51.0, 95.0, 90.0, 56.0, 72.0, 49.0, 65.0, 77.0, 46.0, 100.0, 196.0, 188.0, 193.0, 193.0, 70.0, 124.0, 61.0, 45.0, 193.0, 59.0, 69.0, 46.0, 55.0, 65.0, 77.0, 56.0, 63.0, 78.0, 77.0, 196.0, 71.0, 64.0, 64.0, 100.0, 124.0, 63.0, 41.0, 193.0, 78.0, 79.0, 142.0, 87.0, 87.0, 58.0, 81.0, 73.0, 70.0, 69.0, 131.0, 73.0, 49.0, 52.0, 51.0, 81.0, 80.0, 64.0, 90.0, 58.0, 81.0, 79.0, 64.0, 84.0, 63.0, 71.0, 90.0, 83.0, 56.0, 58.0, 78.0, 52.0, 193.0, 37.0, 63.0, 70.0, 91.0, 100.0, 142.0, 73.0, 87.0, 52.0, 66.0, 65.0, 122.0, 74.0, 83.0, 74.0, 54.0, 74.0, 85.0, 52.0, 74.0, 74.0, 31.0, 73.0, 84.0, 95.0, 57.0, 53.0, 52.0, 142.0, 156.0, 74.0, 48.0, 55.0, 52.0, 57.0, 39.0, 90.0, 61.0, 74.0, 78.0, 70.0, 100.0, 42.0, 67.0, 80.0, 85.0, 84.0, 86.0, 62.0, 45.0, 55.0, 85.0, 42.0, 77.0, 70.0, 50.0, 91.0, 60.0, 80.0, 50.0, 61.0, 67.0, 63.0, 142.0, 142.0, 77.0, 99.0, 91.0, 124.0, 142.0, 78.0, 193.0, 69.0, 147.0, 71.0, 193.0, 79.0, 81.0, 74.0, 193.0, 84.0, 193.0, 124.0, 166.0, 193.0, 142.0, 54.0, 62.0, 84.0, 64.0, 72.0, 52.0, 64.0, 75.0, 193.0, 85.0, 43.0, 68.0, 55.0, 72.0, 68.0, 42.0, 124.0, 196.0, 64.0, 89.0, 188.0, 50.0, 68.0, 59.0, 57.0, 73.0, 193.0, 193.0, 85.0, 73.0, 45.0, 56.0, 193.0, 28.0, 70.0, 90.0, 67.0, 75.0, 59.0, 95.0, 193.0, 52.0, 69.0, 76.0, 79.0, 131.0, 60.0, 56.0, 85.0, 71.0, 100.0, 56.0, 79.0, 100.0, 63.0, 156.0, 73.0, 70.0, 52.0, 142.0, 99.0, 64.0, 193.0, 93.0, 193.0, 69.0, 82.0, 53.0, 49.0, 55.0, 81.0, 55.0, 196.0, 83.0, 72.0, 83.0, 56.0, 61.0, 86.0, 84.0, 88.0, 62.0, 64.0, 75.0, 45.0, 68.0, 76.0, 142.0, 48.0, 60.0, 34.0, 50.0, 64.0, 43.0, 66.0, 92.0, 142.0, 76.0, 44.0, 72.0, 62.0, 64.0, 82.0, 156.0, 41.0, 64.0, 124.0, 70.0, 77.0, 193.0, 37.0, 142.0, 68.0, 77.0, 48.0, 71.0, 156.0, 57.0, 54.0, 72.0, 94.0, 53.0, 80.0, 89.0, 133.0, 39.0, 71.0, 89.0, 48.0, 81.0, 90.0, 63.0, 58.0, 55.0, 60.0, 67.0, 77.0, 88.0, 193.0, 193.0, 151.0, 73.0, 196.0, 68.0, 80.0, 70.0, 42.0, 47.0, 60.0, 60.0, 196.0, 42.0, 76.0, 86.0, 64.0, 63.0, 196.0, 74.0, 82.0, 78.0, 193.0, 193.0, 58.0, 82.0, 43.0, 196.0, 92.0, 67.0, 196.0, 86.0, 124.0, 193.0, 63.0, 79.0, 85.0, 86.0, 72.0, 60.0, 75.0, 61.0, 60.0, 166.0, 61.0, 124.0, 193.0, 75.0, 196.0, 142.0, 39.0, 75.0, 38.0, 51.0, 193.0, 84.0, 62.0, 142.0, 62.0, 96.0, 47.0, 85.0, 67.0, 171.0, 67.0, 80.0, 53.0, 76.0, 85.0, 75.0, 142.0, 62.0, 196.0, 79.0, 58.0, 193.0, 60.0, 71.0, 58.0, 87.0, 45.0, 85.0, 58.0, 43.0, 67.0, 68.0, 67.0, 58.0, 147.0, 77.0, 71.0, 63.0, 78.0, 60.0, 34.0, 193.0, 188.0, 78.0, 57.0, 62.0, 76.0, 64.0, 78.0, 156.0, 53.0, 51.0, 62.0, 84.0, 193.0, 156.0, 60.0, 58.0, 128.0, 84.0, 76.0, 73.0, 72.0, 90.0, 66.0, 83.0, 193.0, 65.0, 74.0, 72.0, 24.0, 92.0, 62.0, 60.0, 57.0, 65.0, 193.0, 76.0, 193.0, 142.0, 49.0, 90.0, 86.0, 193.0, 193.0, 89.0, 76.0, 97.0, 70.0, 124.0, 122.0, 66.0, 86.0, 68.0, 193.0, 83.0, 86.0, 88.0, 41.0, 147.0, 65.0, 95.0, 97.0, 51.0, 66.0, 66.0, 100.0, 74.0, 54.0, 67.0, 60.0, 59.0, 81.0, 90.0, 81.0, 60.0, 65.0, 53.0, 52.0, 193.0, 58.0, 69.0, 42.0, 196.0, 87.0, 83.0, 171.0, 72.0, 142.0, 67.0, 89.0, 75.0, 64.0, 63.0, 67.0, 84.0, 74.0, 188.0, 80.0, 100.0, 64.0, 124.0, 142.0, 26.0, 193.0, 75.0, 76.0, 61.0, 78.0, 37.0, 193.0, 193.0, 182.0, 76.0, 71.0, 188.0, 70.0, 196.0, 71.0, 68.0, 70.0, 66.0, 65.0, 71.0, 92.0, 55.0, 69.0, 56.0, 76.0, 92.0, 59.0, 32.0, 193.0, 79.0, 54.0, 58.0, 196.0, 67.0, 49.0, 39.0, 73.0, 156.0, 193.0, 60.0, 73.0, 90.0, 44.0, 56.0, 100.0, 71.0, 69.0, 49.0, 91.0, 76.0, 55.0, 124.0, 182.0, 193.0, 75.0, 84.0, 67.0, 72.0, 78.0, 79.0, 142.0, 60.0, 58.0, 46.0, 77.0, 80.0, 79.0, 69.0, 45.0, 58.0, 95.0, 78.0, 70.0, 62.0, 174.0, 81.0, 81.0, 78.0, 69.0, 46.0, 80.0, 188.0, 72.0, 58.0, 122.0, 72.0, 96.0, 75.0, 193.0, 100.0, 193.0, 74.0, 142.0, 59.0, 41.0, 58.0, 93.0, 61.0, 66.0, 142.0, 67.0, 84.0, 82.0, 70.0, 61.0, 80.0, 174.0, 142.0, 62.0, 64.0, 65.0, 17.0, 193.0, 196.0, 67.0, 86.0, 86.0, 193.0, 67.0, 100.0, 58.0, 57.0, 87.0, 51.0, 74.0, 82.0, 96.0, 65.0, 82.0, 66.0, 89.0, 72.0, 55.0, 56.0, 89.0, 196.0, 48.0, 52.0, 59.0, 34.0, 73.0, 82.0, 66.0, 81.0, 124.0, 72.0, 87.0, 97.0, 74.0, 75.0, 67.0, 147.0, 72.0, 64.0, 76.0, 46.0, 64.0, 29.0, 75.0, 193.0, 44.0, 142.0, 74.0, 61.0, 196.0, 80.0], \"xaxis\": \"x\", \"y\": [\"reading\", \"reading\", \"reading\", \"reading\", \"reading\", \"reading\", \"reading\", \"reading\", \"reading\", \"reading\", \"reading\", \"reading\", \"reading\", \"reading\", \"reading\", \"reading\", \"reading\", \"reading\", \"reading\", \"reading\", \"reading\", \"reading\", \"reading\", \"reading\", \"reading\", \"reading\", \"reading\", \"reading\", \"reading\", \"reading\", \"reading\", \"reading\", \"reading\", \"reading\", \"reading\", \"reading\", \"reading\", \"reading\", \"reading\", \"reading\", \"reading\", \"reading\", \"reading\", \"reading\", \"reading\", \"reading\", \"reading\", \"reading\", \"reading\", \"reading\", \"reading\", \"reading\", \"reading\", \"reading\", \"reading\", \"reading\", \"reading\", \"reading\", \"reading\", \"reading\", \"reading\", \"reading\", \"reading\", \"reading\", \"reading\", \"reading\", \"reading\", \"reading\", \"reading\", \"reading\", \"reading\", \"reading\", \"reading\", \"reading\", \"reading\", \"reading\", \"reading\", \"reading\", \"reading\", \"reading\", \"reading\", \"reading\", \"reading\", \"reading\", \"reading\", \"reading\", \"reading\", \"reading\", \"reading\", \"reading\", \"reading\", \"reading\", \"reading\", \"reading\", \"reading\", \"reading\", \"reading\", \"reading\", \"reading\", \"reading\", \"reading\", \"reading\", \"reading\", \"reading\", \"reading\", \"reading\", \"reading\", \"reading\", \"reading\", \"reading\", \"reading\", \"reading\", \"reading\", \"reading\", \"reading\", \"reading\", \"reading\", \"reading\", \"reading\", \"reading\", \"reading\", \"reading\", \"reading\", \"reading\", \"reading\", \"reading\", \"reading\", \"reading\", \"reading\", \"reading\", \"reading\", \"reading\", \"reading\", \"reading\", \"reading\", \"reading\", \"reading\", \"reading\", \"reading\", \"reading\", \"reading\", \"reading\", \"reading\", \"reading\", \"reading\", \"reading\", \"reading\", \"reading\", \"reading\", \"reading\", \"reading\", \"reading\", \"reading\", \"reading\", \"reading\", \"reading\", \"reading\", \"reading\", \"reading\", \"reading\", \"reading\", \"reading\", \"reading\", \"reading\", \"reading\", \"reading\", \"reading\", \"reading\", \"reading\", \"reading\", \"reading\", \"reading\", \"reading\", \"reading\", \"reading\", \"reading\", \"reading\", \"reading\", \"reading\", \"reading\", \"reading\", \"reading\", \"reading\", \"reading\", \"reading\", \"reading\", \"reading\", \"reading\", \"reading\", \"reading\", \"reading\", \"reading\", \"reading\", \"reading\", \"reading\", \"reading\", \"reading\", \"reading\", \"reading\", \"reading\", \"reading\", \"reading\", \"reading\", \"reading\", \"reading\", \"reading\", \"reading\", \"reading\", \"reading\", \"reading\", \"reading\", \"reading\", \"reading\", \"reading\", \"reading\", \"reading\", \"reading\", \"reading\", \"reading\", \"reading\", \"reading\", \"reading\", \"reading\", \"reading\", \"reading\", \"reading\", \"reading\", \"reading\", \"reading\", \"reading\", \"reading\", \"reading\", \"reading\", \"reading\", \"reading\", \"reading\", \"reading\", \"reading\", \"reading\", \"reading\", \"reading\", \"reading\", \"reading\", \"reading\", \"reading\", \"reading\", \"reading\", \"reading\", \"reading\", \"reading\", \"reading\", \"reading\", \"reading\", \"reading\", \"reading\", \"reading\", \"reading\", \"reading\", \"reading\", \"reading\", \"reading\", \"reading\", \"reading\", \"reading\", \"reading\", \"reading\", \"reading\", \"reading\", \"reading\", \"reading\", \"reading\", \"reading\", \"reading\", \"reading\", \"reading\", \"reading\", \"reading\", \"reading\", \"reading\", \"reading\", \"reading\", \"reading\", \"reading\", \"reading\", \"reading\", \"reading\", \"reading\", \"reading\", \"reading\", \"reading\", \"reading\", \"reading\", \"reading\", \"reading\", \"reading\", \"reading\", \"reading\", \"reading\", \"reading\", \"reading\", \"reading\", \"reading\", \"reading\", \"reading\", \"reading\", \"reading\", \"reading\", \"reading\", \"reading\", \"reading\", \"reading\", \"reading\", \"reading\", \"reading\", \"reading\", \"reading\", \"reading\", \"reading\", \"reading\", \"reading\", \"reading\", \"reading\", \"reading\", \"reading\", \"reading\", \"reading\", \"reading\", \"reading\", \"reading\", \"reading\", \"reading\", \"reading\", \"reading\", \"reading\", \"reading\", \"reading\", \"reading\", \"reading\", \"reading\", \"reading\", \"reading\", \"reading\", \"reading\", \"reading\", \"reading\", \"reading\", \"reading\", \"reading\", \"reading\", \"reading\", \"reading\", \"reading\", \"reading\", \"reading\", \"reading\", \"reading\", \"reading\", \"reading\", \"reading\", \"reading\", \"reading\", \"reading\", \"reading\", \"reading\", \"reading\", \"reading\", \"reading\", \"reading\", \"reading\", \"reading\", \"reading\", \"reading\", \"reading\", \"reading\", \"reading\", \"reading\", \"reading\", \"reading\", \"reading\", \"reading\", \"reading\", \"reading\", \"reading\", \"reading\", \"reading\", \"reading\", \"reading\", \"reading\", \"reading\", \"reading\", \"reading\", \"reading\", \"reading\", \"reading\", \"reading\", \"reading\", \"reading\", \"reading\", \"reading\", \"reading\", \"reading\", \"reading\", \"reading\", \"reading\", \"reading\", \"reading\", \"reading\", \"reading\", \"reading\", \"reading\", \"reading\", \"reading\", \"reading\", \"reading\", \"reading\", \"reading\", \"reading\", \"reading\", \"reading\", \"reading\", \"reading\", \"reading\", \"reading\", \"reading\", \"reading\", \"reading\", \"reading\", \"reading\", \"reading\", \"reading\", \"reading\", \"reading\", \"reading\", \"reading\", \"reading\", \"reading\", \"reading\", \"reading\", \"reading\", \"reading\", \"reading\", \"reading\", \"reading\", \"reading\", \"reading\", \"reading\", \"reading\", \"reading\", \"reading\", \"reading\", \"reading\", \"reading\", \"reading\", \"reading\", \"reading\", \"reading\", \"reading\", \"reading\", \"reading\", \"reading\", \"reading\", \"reading\", \"reading\", \"reading\", \"reading\", \"reading\", \"reading\", \"reading\", \"reading\", \"reading\", \"reading\", \"reading\", \"reading\", \"reading\", \"reading\", \"reading\", \"reading\", \"reading\", \"reading\", \"reading\", \"reading\", \"reading\", \"reading\", \"reading\", \"reading\", \"reading\", \"reading\", \"reading\", \"reading\", \"reading\", \"reading\", \"reading\", \"reading\", \"reading\", \"reading\", \"reading\", \"reading\", \"reading\", \"reading\", \"reading\", \"reading\", \"reading\", \"reading\", \"reading\", \"reading\", \"reading\", \"reading\", \"reading\", \"reading\", \"reading\", \"reading\", \"reading\", \"reading\", \"reading\", \"reading\", \"reading\", \"reading\", \"reading\", \"reading\", \"reading\", \"reading\", \"reading\", \"reading\", \"reading\", \"reading\", \"reading\", \"reading\", \"reading\", \"reading\", \"reading\", \"reading\", \"reading\", \"reading\", \"reading\", \"reading\", \"reading\", \"reading\", \"reading\", \"reading\", \"reading\", \"reading\", \"reading\", \"reading\", \"reading\", \"reading\", \"reading\", \"reading\", \"reading\", \"reading\", \"reading\", \"reading\", \"reading\", \"reading\", \"reading\", \"reading\", \"reading\", \"reading\", \"reading\", \"reading\", \"reading\", \"reading\", \"reading\", \"reading\", \"reading\", \"reading\", \"reading\", \"reading\", \"reading\", \"reading\", \"reading\", \"reading\", \"reading\", \"reading\", \"reading\", \"reading\", \"reading\", \"reading\", \"reading\", \"reading\", \"reading\", \"reading\", \"reading\", \"reading\", \"reading\", \"reading\", \"reading\", \"reading\", \"reading\", \"reading\", \"reading\", \"reading\", \"reading\", \"reading\", \"reading\", \"reading\", \"reading\", \"reading\", \"reading\", \"reading\", \"reading\", \"reading\", \"reading\", \"reading\", \"reading\", \"reading\", \"reading\", \"reading\", \"reading\", \"reading\", \"reading\", \"reading\", \"reading\", \"reading\", \"reading\", \"reading\", \"reading\", \"reading\", \"reading\", \"reading\", \"reading\", \"reading\", \"reading\", \"reading\", \"reading\", \"reading\", \"reading\", \"reading\", \"reading\", \"reading\", \"reading\", \"reading\", \"reading\", \"reading\", \"reading\", \"reading\", \"reading\", \"reading\", \"reading\", \"reading\", \"reading\", \"reading\", \"reading\", \"reading\", \"reading\", \"reading\", \"reading\", \"reading\", \"reading\", \"reading\", \"reading\", \"reading\", \"reading\", \"reading\", \"reading\", \"reading\", \"reading\", \"reading\", \"reading\", \"reading\", \"reading\", \"reading\", \"reading\", \"reading\", \"reading\", \"reading\", \"reading\", \"reading\", \"reading\", \"reading\", \"reading\", \"reading\", \"reading\", \"reading\", \"reading\", \"reading\", \"reading\", \"reading\", \"reading\", \"reading\", \"reading\", \"reading\", \"reading\", \"reading\", \"reading\", \"reading\", \"reading\", \"reading\", \"reading\", \"reading\", \"reading\", \"reading\", \"reading\", \"reading\", \"reading\", \"reading\", \"reading\", \"reading\", \"reading\", \"reading\", \"reading\", \"reading\", \"reading\", \"reading\", \"reading\", \"reading\", \"reading\", \"reading\", \"reading\", \"reading\", \"reading\", \"reading\", \"reading\", \"reading\", \"reading\", \"reading\", \"reading\", \"reading\", \"reading\", \"reading\", \"reading\", \"reading\", \"reading\", \"reading\", \"reading\", \"reading\", \"reading\", \"reading\", \"reading\", \"reading\", \"reading\", \"reading\", \"reading\", \"reading\", \"reading\", \"reading\", \"reading\", \"reading\", \"reading\", \"reading\", \"reading\", \"reading\", \"reading\", \"reading\", \"reading\", \"reading\", \"reading\", \"reading\", \"reading\", \"reading\", \"reading\", \"reading\", \"reading\", \"reading\", \"reading\", \"reading\", \"reading\", \"reading\", \"reading\", \"reading\", \"reading\", \"reading\", \"reading\", \"reading\", \"reading\", \"reading\", \"reading\", \"reading\", \"reading\", \"reading\", \"reading\", \"reading\", \"reading\", \"reading\", \"reading\", \"reading\", \"reading\", \"reading\", \"reading\", \"reading\", \"reading\", \"reading\", \"reading\", \"reading\", \"reading\", \"reading\", \"reading\", \"reading\", \"reading\", \"reading\", \"reading\", \"reading\", \"reading\", \"reading\", \"reading\", \"reading\", \"reading\", \"reading\", \"reading\", \"reading\", \"reading\", \"reading\", \"reading\", \"reading\", \"reading\", \"reading\", \"reading\", \"reading\", \"reading\", \"reading\", \"reading\", \"reading\", \"reading\", \"reading\", \"reading\", \"reading\", \"reading\", \"reading\", \"reading\", \"reading\", \"reading\", \"reading\", \"reading\", \"reading\", \"reading\", \"reading\", \"reading\", \"reading\", \"reading\", \"reading\", \"reading\", \"reading\", \"reading\", \"reading\", \"reading\", \"reading\", \"reading\", \"reading\", \"reading\", \"reading\", \"reading\", \"reading\", \"reading\", \"reading\", \"reading\", \"reading\", \"reading\", \"reading\", \"reading\", \"reading\", \"reading\", \"reading\", \"reading\", \"reading\", \"reading\", \"reading\", \"reading\", \"reading\", \"reading\", \"reading\", \"reading\", \"reading\", \"reading\", \"reading\", \"reading\", \"reading\", \"reading\", \"reading\", \"reading\", \"reading\", \"reading\", \"reading\", \"reading\", \"reading\", \"reading\", \"reading\", \"reading\", \"reading\", \"reading\", \"reading\", \"reading\", \"reading\", \"reading\", \"reading\", \"reading\", \"reading\", \"reading\", \"reading\", \"reading\", \"reading\", \"reading\", \"reading\", \"reading\", \"reading\", \"reading\", \"reading\", \"reading\", \"reading\", \"reading\", \"reading\", \"reading\", \"reading\", \"reading\", \"reading\", \"reading\", \"reading\", \"reading\", \"reading\", \"reading\", \"reading\", \"reading\", \"reading\", \"reading\", \"reading\", \"reading\", \"reading\", \"reading\", \"reading\", \"reading\", \"reading\", \"reading\", \"reading\", \"reading\", \"reading\", \"reading\", \"reading\", \"reading\", \"reading\", \"reading\", \"reading\", \"reading\", \"reading\", \"reading\", \"reading\", \"reading\", \"reading\", \"reading\", \"reading\", \"reading\", \"reading\", \"reading\", \"reading\", \"reading\", \"reading\", \"reading\", \"reading\", \"reading\", \"reading\", \"reading\", \"reading\", \"reading\", \"reading\", \"reading\", \"reading\", \"reading\", \"reading\", \"reading\", \"reading\", \"reading\", \"reading\", \"reading\", \"reading\", \"reading\", \"reading\", \"reading\", \"reading\", \"reading\", \"reading\", \"reading\", \"reading\", \"reading\", \"reading\", \"reading\", \"reading\", \"reading\", \"reading\", \"reading\", \"reading\", \"reading\", \"reading\", \"reading\", \"reading\", \"reading\", \"reading\", \"reading\", \"reading\", \"reading\", \"reading\", \"reading\", \"reading\", \"reading\", \"reading\", \"reading\", \"reading\", \"reading\", \"reading\", \"reading\", \"reading\", \"reading\", \"reading\", \"reading\", \"reading\", \"reading\", \"reading\", \"reading\", \"reading\", \"reading\", \"reading\", \"reading\", \"reading\", \"reading\", \"reading\", \"reading\", \"reading\", \"reading\", \"reading\", \"reading\", \"reading\", \"reading\", \"reading\", \"reading\", \"reading\", \"reading\", \"reading\", \"reading\", \"reading\", \"reading\", \"reading\", \"reading\", \"reading\", \"reading\", \"reading\", \"reading\", \"reading\", \"reading\", \"reading\", \"reading\", \"reading\", \"reading\", \"reading\", \"reading\", \"reading\", \"reading\", \"reading\", \"reading\", \"reading\", \"reading\", \"reading\", \"reading\", \"reading\", \"reading\", \"reading\", \"reading\", \"reading\", \"reading\", \"reading\", \"reading\", \"reading\", \"reading\", \"reading\", \"reading\", \"reading\", \"reading\", \"reading\", \"reading\", \"reading\", \"reading\", \"reading\", \"reading\", \"reading\", \"reading\", \"reading\", \"reading\", \"reading\", \"reading\", \"reading\", \"reading\", \"reading\", \"reading\", \"reading\", \"reading\", \"reading\", \"reading\", \"reading\", \"reading\", \"reading\", \"reading\", \"reading\", \"reading\", \"reading\", \"reading\", \"reading\", \"reading\", \"reading\", \"reading\", \"reading\", \"reading\", \"reading\", \"reading\", \"reading\", \"reading\", \"reading\", \"reading\", \"reading\", \"reading\", \"reading\", \"reading\", \"reading\", \"reading\", \"reading\", \"reading\", \"reading\", \"reading\", \"reading\", \"reading\", \"reading\", \"reading\", \"reading\", \"reading\", \"reading\", \"reading\", \"reading\", \"reading\", \"reading\", \"reading\", \"reading\", \"reading\", \"reading\", \"reading\", \"reading\", \"reading\", \"reading\", \"reading\", \"reading\", \"reading\", \"reading\", \"reading\", \"reading\", \"reading\", \"reading\", \"reading\", \"reading\", \"reading\", \"reading\", \"reading\", \"reading\", \"reading\", \"reading\", \"reading\", \"reading\", \"reading\", \"reading\", \"reading\", \"reading\", \"reading\", \"reading\", \"reading\", \"reading\", \"reading\", \"reading\", \"reading\", \"reading\", \"reading\", \"reading\", \"reading\", \"reading\", \"reading\", \"reading\", \"reading\", \"reading\", \"reading\", \"reading\", \"reading\", \"reading\", \"reading\", \"reading\", \"reading\", \"reading\", \"reading\", \"reading\", \"reading\", \"reading\", \"reading\", \"reading\", \"reading\", \"reading\", \"reading\", \"reading\", \"reading\", \"reading\", \"reading\", \"reading\", \"reading\", \"reading\", \"reading\", \"reading\", \"reading\", \"reading\", \"reading\", \"reading\", \"reading\", \"reading\", \"reading\", \"reading\", \"reading\", \"reading\", \"reading\", \"reading\", \"reading\", \"reading\", \"reading\", \"reading\", \"reading\", \"reading\", \"reading\", \"reading\", \"reading\", \"reading\", \"reading\", \"reading\", \"reading\", \"reading\", \"reading\", \"reading\", \"reading\", \"reading\", \"reading\", \"reading\", \"reading\", \"reading\", \"reading\", \"reading\", \"reading\", \"reading\", \"reading\", \"reading\", \"reading\", \"reading\", \"reading\", \"reading\", \"reading\", \"reading\", \"reading\", \"reading\", \"reading\", \"reading\", \"reading\", \"reading\", \"reading\", \"reading\", \"reading\", \"reading\", \"reading\", \"reading\", \"reading\", \"reading\", \"reading\", \"reading\", \"reading\", \"reading\", \"reading\", \"reading\", \"reading\", \"reading\", \"reading\", \"reading\", \"reading\", \"reading\", \"reading\", \"reading\", \"reading\", \"reading\", \"reading\", \"reading\", \"reading\", \"reading\", \"reading\", \"reading\", \"reading\", \"reading\", \"reading\", \"reading\", \"reading\", \"reading\", \"reading\", \"reading\", \"reading\", \"reading\", \"reading\", \"reading\", \"reading\", \"reading\", \"reading\", \"reading\", \"reading\", \"reading\", \"reading\", \"reading\", \"reading\"], \"yaxis\": \"y2\"}, {\"legendgroup\": \"witring\", \"marker\": {\"color\": \"rgb(44, 160, 44)\", \"symbol\": \"line-ns-open\"}, \"mode\": \"markers\", \"name\": \"witring\", \"showlegend\": false, \"type\": \"scatter\", \"x\": [46.0, 142.0, 193.0, 81.0, 166.0, 63.0, 76.0, 87.0, 69.0, 64.0, 193.0, 193.0, 193.0, 41.0, 131.0, 61.0, 71.0, 82.0, 147.0, 70.0, 58.0, 72.0, 124.0, 62.0, 68.0, 46.0, 74.0, 193.0, 60.0, 68.0, 77.0, 124.0, 100.0, 74.0, 55.0, 80.0, 70.0, 75.0, 67.0, 78.0, 88.0, 124.0, 85.0, 74.0, 65.0, 124.0, 54.0, 62.0, 62.0, 54.0, 63.0, 60.0, 27.0, 76.0, 142.0, 72.0, 193.0, 57.0, 124.0, 53.0, 78.0, 142.0, 27.0, 70.0, 188.0, 61.0, 67.0, 65.0, 193.0, 79.0, 71.0, 196.0, 61.0, 64.0, 85.0, 65.0, 196.0, 87.0, 193.0, 95.0, 85.0, 196.0, 60.0, 47.0, 50.0, 182.0, 56.0, 52.0, 124.0, 142.0, 88.0, 82.0, 61.0, 65.0, 92.0, 86.0, 73.0, 196.0, 124.0, 193.0, 78.0, 91.0, 124.0, 81.0, 93.0, 58.0, 70.0, 53.0, 142.0, 78.0, 88.0, 193.0, 42.0, 74.0, 67.0, 77.0, 78.0, 142.0, 60.0, 83.0, 61.0, 196.0, 74.0, 66.0, 64.0, 193.0, 70.0, 193.0, 51.0, 70.0, 193.0, 196.0, 124.0, 59.0, 83.0, 54.0, 85.0, 100.0, 72.0, 151.0, 43.0, 193.0, 63.0, 82.0, 71.0, 65.0, 78.0, 74.0, 43.0, 188.0, 74.0, 60.0, 85.0, 61.0, 76.0, 77.0, 45.0, 58.0, 95.0, 71.0, 57.0, 78.0, 59.0, 58.0, 74.0, 193.0, 46.0, 62.0, 78.0, 74.0, 81.0, 193.0, 72.0, 82.0, 73.0, 128.0, 124.0, 50.0, 124.0, 59.0, 44.0, 57.0, 54.0, 32.0, 142.0, 73.0, 74.0, 57.0, 193.0, 52.0, 69.0, 53.0, 54.0, 48.0, 124.0, 90.0, 75.0, 83.0, 94.0, 92.0, 91.0, 62.0, 64.0, 124.0, 45.0, 193.0, 58.0, 52.0, 63.0, 60.0, 74.0, 59.0, 86.0, 55.0, 131.0, 142.0, 54.0, 193.0, 193.0, 196.0, 193.0, 63.0, 73.0, 46.0, 156.0, 90.0, 79.0, 58.0, 66.0, 72.0, 41.0, 122.0, 142.0, 193.0, 42.0, 70.0, 72.0, 131.0, 77.0, 76.0, 67.0, 85.0, 66.0, 142.0, 54.0, 72.0, 166.0, 68.0, 85.0, 76.0, 62.0, 60.0, 58.0, 56.0, 64.0, 75.0, 72.0, 193.0, 196.0, 196.0, 83.0, 100.0, 56.0, 66.0, 71.0, 67.0, 76.0, 142.0, 193.0, 124.0, 96.0, 188.0, 68.0, 80.0, 87.0, 52.0, 142.0, 82.0, 47.0, 65.0, 124.0, 84.0, 142.0, 79.0, 52.0, 41.0, 73.0, 83.0, 65.0, 82.0, 76.0, 79.0, 36.0, 33.0, 45.0, 193.0, 58.0, 80.0, 79.0, 73.0, 142.0, 62.0, 73.0, 70.0, 61.0, 196.0, 196.0, 75.0, 68.0, 49.0, 64.0, 124.0, 73.0, 68.0, 91.0, 68.0, 142.0, 68.0, 56.0, 193.0, 86.0, 69.0, 57.0, 142.0, 66.0, 70.0, 74.0, 128.0, 56.0, 45.0, 57.0, 45.0, 58.0, 193.0, 156.0, 193.0, 51.0, 47.0, 38.0, 78.0, 193.0, 69.0, 37.0, 124.0, 51.0, 90.0, 90.0, 51.0, 58.0, 66.0, 94.0, 19.0, 69.0, 56.0, 193.0, 193.0, 174.0, 46.0, 196.0, 82.0, 124.0, 57.0, 100.0, 81.0, 193.0, 131.0, 54.0, 91.0, 193.0, 80.0, 84.0, 70.0, 52.0, 68.0, 73.0, 78.0, 79.0, 70.0, 193.0, 84.0, 74.0, 193.0, 69.0, 75.0, 193.0, 70.0, 68.0, 44.0, 69.0, 68.0, 193.0, 68.0, 89.0, 72.0, 65.0, 196.0, 66.0, 69.0, 73.0, 72.0, 82.0, 69.0, 69.0, 77.0, 142.0, 73.0, 72.0, 77.0, 86.0, 142.0, 75.0, 80.0, 142.0, 54.0, 193.0, 68.0, 93.0, 193.0, 73.0, 92.0, 74.0, 98.0, 70.0, 73.0, 75.0, 77.0, 81.0, 124.0, 52.0, 51.0, 51.0, 96.0, 62.0, 74.0, 196.0, 75.0, 61.0, 67.0, 77.0, 44.0, 67.0, 62.0, 100.0, 89.0, 80.0, 78.0, 77.0, 124.0, 196.0, 61.0, 72.0, 67.0, 86.0, 61.0, 80.0, 67.0, 53.0, 55.0, 87.0, 71.0, 59.0, 50.0, 81.0, 69.0, 74.0, 54.0, 55.0, 60.0, 193.0, 196.0, 96.0, 93.0, 71.0, 91.0, 42.0, 83.0, 66.0, 81.0, 124.0, 147.0, 41.0, 56.0, 77.0, 58.0, 66.0, 124.0, 52.0, 47.0, 41.0, 68.0, 63.0, 62.0, 71.0, 39.0, 80.0, 61.0, 70.0, 72.0, 89.0, 81.0, 48.0, 193.0, 38.0, 60.0, 55.0, 54.0, 86.0, 124.0, 196.0, 70.0, 73.0, 72.0, 47.0, 38.0, 131.0, 88.0, 22.0, 80.0, 66.0, 80.0, 83.0, 50.0, 131.0, 87.0, 85.0, 87.0, 85.0, 87.0, 70.0, 67.0, 70.0, 61.0, 51.0, 142.0, 61.0, 193.0, 48.0, 57.0, 193.0, 147.0, 87.0, 89.0, 65.0, 52.0, 80.0, 88.0, 52.0, 56.0, 80.0, 193.0, 68.0, 156.0, 47.0, 51.0, 80.0, 73.0, 68.0, 89.0, 193.0, 86.0, 142.0, 142.0, 70.0, 57.0, 193.0, 77.0, 69.0, 80.0, 73.0, 63.0, 124.0, 124.0, 78.0, 76.0, 196.0, 193.0, 73.0, 52.0, 66.0, 74.0, 142.0, 60.0, 82.0, 193.0, 65.0, 46.0, 69.0, 76.0, 46.0, 72.0, 38.0, 51.0, 33.0, 142.0, 84.0, 193.0, 85.0, 193.0, 60.0, 80.0, 42.0, 65.0, 58.0, 64.0, 58.0, 131.0, 83.0, 91.0, 193.0, 97.0, 80.0, 66.0, 193.0, 64.0, 193.0, 193.0, 66.0, 124.0, 193.0, 100.0, 193.0, 23.0, 62.0, 64.0, 65.0, 82.0, 91.0, 75.0, 69.0, 64.0, 43.0, 69.0, 47.0, 74.0, 57.0, 193.0, 48.0, 147.0, 193.0, 56.0, 94.0, 91.0, 57.0, 76.0, 50.0, 63.0, 79.0, 44.0, 95.0, 193.0, 193.0, 193.0, 193.0, 71.0, 131.0, 57.0, 41.0, 193.0, 62.0, 68.0, 43.0, 54.0, 65.0, 76.0, 47.0, 64.0, 75.0, 78.0, 196.0, 73.0, 193.0, 57.0, 95.0, 131.0, 66.0, 38.0, 124.0, 76.0, 79.0, 182.0, 82.0, 85.0, 65.0, 86.0, 73.0, 65.0, 76.0, 124.0, 70.0, 49.0, 51.0, 48.0, 80.0, 73.0, 65.0, 82.0, 59.0, 73.0, 84.0, 142.0, 77.0, 75.0, 68.0, 88.0, 86.0, 51.0, 62.0, 79.0, 54.0, 193.0, 37.0, 62.0, 76.0, 89.0, 97.0, 124.0, 68.0, 92.0, 55.0, 68.0, 60.0, 171.0, 71.0, 88.0, 75.0, 53.0, 73.0, 91.0, 43.0, 81.0, 74.0, 36.0, 70.0, 75.0, 93.0, 50.0, 52.0, 42.0, 124.0, 156.0, 64.0, 53.0, 53.0, 51.0, 53.0, 34.0, 92.0, 58.0, 72.0, 76.0, 66.0, 100.0, 38.0, 61.0, 71.0, 87.0, 85.0, 92.0, 56.0, 50.0, 48.0, 82.0, 38.0, 77.0, 63.0, 52.0, 89.0, 54.0, 83.0, 54.0, 66.0, 69.0, 56.0, 188.0, 193.0, 83.0, 100.0, 87.0, 156.0, 188.0, 79.0, 124.0, 75.0, 171.0, 78.0, 193.0, 82.0, 84.0, 68.0, 196.0, 78.0, 142.0, 193.0, 166.0, 156.0, 142.0, 52.0, 62.0, 82.0, 74.0, 70.0, 44.0, 66.0, 78.0, 193.0, 93.0, 44.0, 61.0, 55.0, 71.0, 72.0, 48.0, 174.0, 193.0, 193.0, 98.0, 142.0, 43.0, 66.0, 54.0, 59.0, 71.0, 124.0, 196.0, 84.0, 72.0, 40.0, 58.0, 193.0, 27.0, 70.0, 94.0, 72.0, 74.0, 52.0, 100.0, 42.0, 54.0, 68.0, 75.0, 81.0, 193.0, 59.0, 53.0, 90.0, 73.0, 100.0, 51.0, 82.0, 100.0, 61.0, 124.0, 72.0, 76.0, 46.0, 193.0, 95.0, 62.0, 193.0, 93.0, 196.0, 68.0, 79.0, 53.0, 51.0, 49.0, 84.0, 63.0, 196.0, 78.0, 74.0, 77.0, 56.0, 60.0, 90.0, 82.0, 85.0, 64.0, 174.0, 70.0, 45.0, 69.0, 76.0, 193.0, 51.0, 60.0, 36.0, 45.0, 70.0, 43.0, 69.0, 97.0, 193.0, 74.0, 43.0, 72.0, 62.0, 64.0, 82.0, 64.0, 43.0, 60.0, 193.0, 65.0, 70.0, 193.0, 35.0, 193.0, 77.0, 80.0, 49.0, 74.0, 124.0, 53.0, 53.0, 77.0, 95.0, 49.0, 75.0, 95.0, 36.0, 34.0, 78.0, 82.0, 52.0, 74.0, 89.0, 60.0, 58.0, 54.0, 57.0, 67.0, 74.0, 90.0, 193.0, 124.0, 34.0, 67.0, 196.0, 61.0, 80.0, 62.0, 41.0, 44.0, 57.0, 50.0, 193.0, 142.0, 73.0, 84.0, 70.0, 57.0, 196.0, 71.0, 73.0, 81.0, 193.0, 124.0, 61.0, 79.0, 42.0, 142.0, 95.0, 62.0, 193.0, 83.0, 193.0, 188.0, 63.0, 71.0, 85.0, 79.0, 74.0, 53.0, 76.0, 54.0, 60.0, 196.0, 58.0, 142.0, 196.0, 78.0, 124.0, 128.0, 34.0, 77.0, 27.0, 46.0, 142.0, 86.0, 69.0, 193.0, 61.0, 99.0, 49.0, 76.0, 65.0, 128.0, 66.0, 76.0, 52.0, 78.0, 86.0, 81.0, 193.0, 66.0, 193.0, 77.0, 55.0, 193.0, 63.0, 80.0, 47.0, 79.0, 38.0, 80.0, 57.0, 41.0, 64.0, 75.0, 68.0, 54.0, 142.0, 77.0, 80.0, 59.0, 75.0, 58.0, 38.0, 196.0, 131.0, 74.0, 52.0, 66.0, 74.0, 55.0, 79.0, 193.0, 55.0, 55.0, 64.0, 81.0, 64.0, 193.0, 55.0, 62.0, 142.0, 82.0, 74.0, 68.0, 64.0, 88.0, 73.0, 83.0, 49.0, 55.0, 77.0, 79.0, 15.0, 84.0, 63.0, 65.0, 56.0, 61.0, 124.0, 78.0, 193.0, 124.0, 42.0, 93.0, 87.0, 193.0, 193.0, 84.0, 67.0, 96.0, 75.0, 193.0, 124.0, 67.0, 89.0, 68.0, 124.0, 78.0, 83.0, 90.0, 43.0, 193.0, 66.0, 86.0, 94.0, 52.0, 60.0, 62.0, 99.0, 76.0, 55.0, 59.0, 57.0, 59.0, 79.0, 88.0, 76.0, 74.0, 63.0, 43.0, 51.0, 193.0, 60.0, 65.0, 39.0, 40.0, 81.0, 79.0, 166.0, 70.0, 128.0, 61.0, 94.0, 70.0, 67.0, 64.0, 69.0, 84.0, 76.0, 193.0, 72.0, 100.0, 66.0, 124.0, 188.0, 22.0, 193.0, 82.0, 70.0, 54.0, 78.0, 40.0, 142.0, 193.0, 151.0, 64.0, 67.0, 147.0, 69.0, 182.0, 69.0, 73.0, 67.0, 72.0, 62.0, 67.0, 88.0, 51.0, 65.0, 53.0, 71.0, 91.0, 62.0, 28.0, 193.0, 84.0, 53.0, 64.0, 124.0, 67.0, 42.0, 33.0, 69.0, 193.0, 193.0, 57.0, 68.0, 82.0, 47.0, 52.0, 99.0, 70.0, 67.0, 193.0, 81.0, 68.0, 49.0, 124.0, 124.0, 193.0, 80.0, 76.0, 67.0, 68.0, 81.0, 80.0, 124.0, 63.0, 67.0, 42.0, 75.0, 77.0, 84.0, 68.0, 40.0, 60.0, 92.0, 77.0, 73.0, 50.0, 124.0, 84.0, 77.0, 74.0, 70.0, 50.0, 82.0, 193.0, 65.0, 53.0, 131.0, 67.0, 91.0, 72.0, 124.0, 100.0, 193.0, 77.0, 193.0, 66.0, 48.0, 54.0, 93.0, 62.0, 71.0, 196.0, 64.0, 84.0, 80.0, 72.0, 54.0, 80.0, 193.0, 193.0, 64.0, 59.0, 74.0, 10.0, 193.0, 142.0, 62.0, 81.0, 81.0, 193.0, 64.0, 100.0, 49.0, 44.0, 81.0, 54.0, 68.0, 88.0, 92.0, 62.0, 90.0, 59.0, 92.0, 74.0, 56.0, 54.0, 90.0, 193.0, 46.0, 49.0, 53.0, 32.0, 78.0, 78.0, 67.0, 82.0, 193.0, 74.0, 75.0, 99.0, 70.0, 79.0, 67.0, 131.0, 70.0, 75.0, 80.0, 43.0, 193.0, 30.0, 71.0, 49.0, 36.0, 193.0, 81.0, 62.0, 193.0, 76.0], \"xaxis\": \"x\", \"y\": [\"witring\", \"witring\", \"witring\", \"witring\", \"witring\", \"witring\", \"witring\", \"witring\", \"witring\", \"witring\", \"witring\", \"witring\", \"witring\", \"witring\", \"witring\", \"witring\", \"witring\", \"witring\", \"witring\", \"witring\", \"witring\", \"witring\", \"witring\", \"witring\", \"witring\", \"witring\", \"witring\", \"witring\", \"witring\", \"witring\", \"witring\", \"witring\", \"witring\", \"witring\", \"witring\", \"witring\", \"witring\", \"witring\", \"witring\", \"witring\", \"witring\", \"witring\", \"witring\", \"witring\", \"witring\", \"witring\", \"witring\", \"witring\", \"witring\", \"witring\", \"witring\", \"witring\", \"witring\", \"witring\", \"witring\", \"witring\", \"witring\", \"witring\", \"witring\", \"witring\", \"witring\", \"witring\", \"witring\", \"witring\", \"witring\", \"witring\", \"witring\", \"witring\", \"witring\", \"witring\", \"witring\", \"witring\", \"witring\", \"witring\", \"witring\", \"witring\", \"witring\", \"witring\", \"witring\", \"witring\", \"witring\", \"witring\", \"witring\", \"witring\", \"witring\", \"witring\", \"witring\", \"witring\", \"witring\", \"witring\", \"witring\", \"witring\", \"witring\", \"witring\", \"witring\", \"witring\", \"witring\", \"witring\", \"witring\", \"witring\", \"witring\", \"witring\", \"witring\", \"witring\", \"witring\", \"witring\", \"witring\", \"witring\", \"witring\", \"witring\", \"witring\", \"witring\", \"witring\", \"witring\", \"witring\", \"witring\", \"witring\", \"witring\", \"witring\", \"witring\", \"witring\", \"witring\", \"witring\", \"witring\", \"witring\", \"witring\", \"witring\", \"witring\", \"witring\", \"witring\", \"witring\", \"witring\", \"witring\", \"witring\", \"witring\", \"witring\", \"witring\", \"witring\", \"witring\", \"witring\", \"witring\", \"witring\", \"witring\", \"witring\", \"witring\", \"witring\", \"witring\", \"witring\", \"witring\", \"witring\", \"witring\", \"witring\", \"witring\", \"witring\", \"witring\", \"witring\", \"witring\", \"witring\", \"witring\", \"witring\", \"witring\", \"witring\", \"witring\", \"witring\", \"witring\", \"witring\", \"witring\", \"witring\", \"witring\", \"witring\", \"witring\", \"witring\", \"witring\", \"witring\", \"witring\", \"witring\", \"witring\", \"witring\", \"witring\", \"witring\", \"witring\", \"witring\", \"witring\", \"witring\", \"witring\", \"witring\", \"witring\", \"witring\", \"witring\", \"witring\", \"witring\", \"witring\", \"witring\", \"witring\", \"witring\", \"witring\", \"witring\", \"witring\", \"witring\", \"witring\", \"witring\", \"witring\", \"witring\", \"witring\", \"witring\", \"witring\", \"witring\", \"witring\", \"witring\", \"witring\", \"witring\", \"witring\", \"witring\", \"witring\", \"witring\", \"witring\", \"witring\", \"witring\", \"witring\", \"witring\", \"witring\", \"witring\", \"witring\", \"witring\", \"witring\", \"witring\", \"witring\", \"witring\", \"witring\", \"witring\", \"witring\", \"witring\", \"witring\", \"witring\", \"witring\", \"witring\", \"witring\", \"witring\", \"witring\", \"witring\", \"witring\", \"witring\", \"witring\", \"witring\", \"witring\", \"witring\", \"witring\", \"witring\", \"witring\", \"witring\", \"witring\", \"witring\", \"witring\", \"witring\", \"witring\", \"witring\", \"witring\", \"witring\", \"witring\", \"witring\", \"witring\", \"witring\", \"witring\", \"witring\", \"witring\", \"witring\", \"witring\", \"witring\", \"witring\", \"witring\", \"witring\", \"witring\", \"witring\", \"witring\", \"witring\", \"witring\", \"witring\", \"witring\", \"witring\", \"witring\", \"witring\", \"witring\", \"witring\", \"witring\", \"witring\", \"witring\", \"witring\", \"witring\", \"witring\", \"witring\", \"witring\", \"witring\", \"witring\", \"witring\", \"witring\", \"witring\", \"witring\", \"witring\", \"witring\", \"witring\", \"witring\", \"witring\", \"witring\", \"witring\", \"witring\", \"witring\", \"witring\", \"witring\", \"witring\", \"witring\", \"witring\", \"witring\", \"witring\", \"witring\", \"witring\", \"witring\", \"witring\", \"witring\", \"witring\", \"witring\", \"witring\", \"witring\", \"witring\", \"witring\", \"witring\", \"witring\", \"witring\", \"witring\", \"witring\", \"witring\", \"witring\", \"witring\", \"witring\", \"witring\", \"witring\", \"witring\", \"witring\", \"witring\", \"witring\", \"witring\", \"witring\", \"witring\", \"witring\", \"witring\", \"witring\", \"witring\", \"witring\", \"witring\", \"witring\", \"witring\", \"witring\", \"witring\", \"witring\", \"witring\", \"witring\", \"witring\", \"witring\", \"witring\", \"witring\", \"witring\", \"witring\", \"witring\", \"witring\", \"witring\", \"witring\", \"witring\", \"witring\", \"witring\", \"witring\", \"witring\", \"witring\", \"witring\", \"witring\", \"witring\", \"witring\", \"witring\", \"witring\", \"witring\", \"witring\", \"witring\", \"witring\", \"witring\", \"witring\", \"witring\", \"witring\", \"witring\", \"witring\", \"witring\", \"witring\", \"witring\", \"witring\", \"witring\", \"witring\", \"witring\", \"witring\", \"witring\", \"witring\", \"witring\", \"witring\", \"witring\", \"witring\", \"witring\", \"witring\", \"witring\", \"witring\", \"witring\", \"witring\", \"witring\", \"witring\", \"witring\", \"witring\", \"witring\", \"witring\", \"witring\", \"witring\", \"witring\", \"witring\", \"witring\", \"witring\", \"witring\", \"witring\", \"witring\", \"witring\", \"witring\", \"witring\", \"witring\", \"witring\", \"witring\", \"witring\", \"witring\", \"witring\", \"witring\", \"witring\", \"witring\", \"witring\", \"witring\", \"witring\", \"witring\", \"witring\", \"witring\", \"witring\", \"witring\", \"witring\", \"witring\", \"witring\", \"witring\", \"witring\", \"witring\", \"witring\", \"witring\", \"witring\", \"witring\", \"witring\", \"witring\", \"witring\", \"witring\", \"witring\", \"witring\", \"witring\", \"witring\", \"witring\", \"witring\", \"witring\", \"witring\", \"witring\", \"witring\", \"witring\", \"witring\", \"witring\", \"witring\", \"witring\", \"witring\", \"witring\", \"witring\", \"witring\", \"witring\", \"witring\", \"witring\", \"witring\", \"witring\", \"witring\", \"witring\", \"witring\", \"witring\", \"witring\", \"witring\", \"witring\", \"witring\", \"witring\", \"witring\", \"witring\", \"witring\", \"witring\", \"witring\", \"witring\", \"witring\", \"witring\", \"witring\", \"witring\", \"witring\", \"witring\", \"witring\", \"witring\", \"witring\", \"witring\", \"witring\", \"witring\", \"witring\", \"witring\", \"witring\", \"witring\", \"witring\", \"witring\", \"witring\", \"witring\", \"witring\", \"witring\", \"witring\", \"witring\", \"witring\", \"witring\", \"witring\", \"witring\", \"witring\", \"witring\", \"witring\", \"witring\", \"witring\", \"witring\", \"witring\", \"witring\", \"witring\", \"witring\", \"witring\", \"witring\", \"witring\", \"witring\", \"witring\", \"witring\", \"witring\", \"witring\", \"witring\", \"witring\", \"witring\", \"witring\", \"witring\", \"witring\", \"witring\", \"witring\", \"witring\", \"witring\", \"witring\", \"witring\", \"witring\", \"witring\", \"witring\", \"witring\", \"witring\", \"witring\", \"witring\", \"witring\", \"witring\", \"witring\", \"witring\", \"witring\", \"witring\", \"witring\", \"witring\", \"witring\", \"witring\", \"witring\", \"witring\", \"witring\", \"witring\", \"witring\", \"witring\", \"witring\", \"witring\", \"witring\", \"witring\", \"witring\", \"witring\", \"witring\", \"witring\", \"witring\", \"witring\", \"witring\", \"witring\", \"witring\", \"witring\", \"witring\", \"witring\", \"witring\", \"witring\", \"witring\", \"witring\", \"witring\", \"witring\", \"witring\", \"witring\", \"witring\", \"witring\", \"witring\", \"witring\", \"witring\", \"witring\", \"witring\", \"witring\", \"witring\", \"witring\", \"witring\", \"witring\", \"witring\", \"witring\", \"witring\", \"witring\", \"witring\", \"witring\", \"witring\", \"witring\", \"witring\", \"witring\", \"witring\", \"witring\", \"witring\", \"witring\", \"witring\", \"witring\", \"witring\", \"witring\", \"witring\", \"witring\", \"witring\", \"witring\", \"witring\", \"witring\", \"witring\", \"witring\", \"witring\", \"witring\", \"witring\", \"witring\", \"witring\", \"witring\", \"witring\", \"witring\", \"witring\", \"witring\", \"witring\", \"witring\", \"witring\", \"witring\", \"witring\", \"witring\", \"witring\", \"witring\", \"witring\", \"witring\", \"witring\", \"witring\", \"witring\", \"witring\", \"witring\", \"witring\", \"witring\", \"witring\", \"witring\", \"witring\", \"witring\", \"witring\", \"witring\", \"witring\", \"witring\", \"witring\", \"witring\", \"witring\", \"witring\", \"witring\", \"witring\", \"witring\", \"witring\", \"witring\", \"witring\", \"witring\", \"witring\", \"witring\", \"witring\", \"witring\", \"witring\", \"witring\", \"witring\", \"witring\", \"witring\", \"witring\", \"witring\", \"witring\", \"witring\", \"witring\", \"witring\", \"witring\", \"witring\", \"witring\", \"witring\", \"witring\", \"witring\", \"witring\", \"witring\", \"witring\", \"witring\", \"witring\", \"witring\", \"witring\", \"witring\", \"witring\", \"witring\", \"witring\", \"witring\", \"witring\", \"witring\", \"witring\", \"witring\", \"witring\", \"witring\", \"witring\", \"witring\", \"witring\", \"witring\", \"witring\", \"witring\", \"witring\", \"witring\", \"witring\", \"witring\", \"witring\", \"witring\", \"witring\", \"witring\", \"witring\", \"witring\", \"witring\", \"witring\", \"witring\", \"witring\", \"witring\", \"witring\", \"witring\", \"witring\", \"witring\", \"witring\", \"witring\", \"witring\", \"witring\", \"witring\", \"witring\", \"witring\", \"witring\", \"witring\", \"witring\", \"witring\", \"witring\", \"witring\", \"witring\", \"witring\", \"witring\", \"witring\", \"witring\", \"witring\", \"witring\", \"witring\", \"witring\", \"witring\", \"witring\", \"witring\", \"witring\", \"witring\", \"witring\", \"witring\", \"witring\", \"witring\", \"witring\", \"witring\", \"witring\", \"witring\", \"witring\", \"witring\", \"witring\", \"witring\", \"witring\", \"witring\", \"witring\", \"witring\", \"witring\", \"witring\", \"witring\", \"witring\", \"witring\", \"witring\", \"witring\", \"witring\", \"witring\", \"witring\", \"witring\", \"witring\", \"witring\", \"witring\", \"witring\", \"witring\", \"witring\", \"witring\", \"witring\", \"witring\", \"witring\", \"witring\", \"witring\", \"witring\", \"witring\", \"witring\", \"witring\", \"witring\", \"witring\", \"witring\", \"witring\", \"witring\", \"witring\", \"witring\", \"witring\", \"witring\", \"witring\", \"witring\", \"witring\", \"witring\", \"witring\", \"witring\", \"witring\", \"witring\", \"witring\", \"witring\", \"witring\", \"witring\", \"witring\", \"witring\", \"witring\", \"witring\", \"witring\", \"witring\", \"witring\", \"witring\", \"witring\", \"witring\", \"witring\", \"witring\", \"witring\", \"witring\", \"witring\", \"witring\", \"witring\", \"witring\", \"witring\", \"witring\", \"witring\", \"witring\", \"witring\", \"witring\", \"witring\", \"witring\", \"witring\", \"witring\", \"witring\", \"witring\", \"witring\", \"witring\", \"witring\", \"witring\", \"witring\", \"witring\", \"witring\", \"witring\", \"witring\", \"witring\", \"witring\", \"witring\", \"witring\", \"witring\", \"witring\", \"witring\", \"witring\", \"witring\", \"witring\", \"witring\", \"witring\", \"witring\", \"witring\", \"witring\", \"witring\", \"witring\", \"witring\", \"witring\", \"witring\", \"witring\", \"witring\", \"witring\", \"witring\", \"witring\", \"witring\", \"witring\", \"witring\", \"witring\", \"witring\", \"witring\", \"witring\", \"witring\", \"witring\", \"witring\", \"witring\", \"witring\", \"witring\", \"witring\", \"witring\", \"witring\", \"witring\", \"witring\", \"witring\", \"witring\", \"witring\", \"witring\", \"witring\", \"witring\", \"witring\", \"witring\", \"witring\", \"witring\", \"witring\", \"witring\", \"witring\", \"witring\", \"witring\", \"witring\", \"witring\", \"witring\", \"witring\", \"witring\", \"witring\", \"witring\", \"witring\", \"witring\", \"witring\", \"witring\", \"witring\", \"witring\", \"witring\", \"witring\", \"witring\", \"witring\", \"witring\", \"witring\", \"witring\", \"witring\", \"witring\", \"witring\", \"witring\", \"witring\", \"witring\", \"witring\", \"witring\", \"witring\", \"witring\", \"witring\", \"witring\", \"witring\", \"witring\", \"witring\", \"witring\", \"witring\", \"witring\", \"witring\", \"witring\", \"witring\", \"witring\", \"witring\", \"witring\", \"witring\", \"witring\", \"witring\", \"witring\", \"witring\", \"witring\", \"witring\", \"witring\", \"witring\", \"witring\", \"witring\", \"witring\", \"witring\", \"witring\", \"witring\", \"witring\", \"witring\", \"witring\", \"witring\", \"witring\", \"witring\", \"witring\", \"witring\", \"witring\", \"witring\", \"witring\", \"witring\", \"witring\", \"witring\", \"witring\", \"witring\", \"witring\", \"witring\", \"witring\", \"witring\", \"witring\", \"witring\", \"witring\", \"witring\", \"witring\", \"witring\", \"witring\", \"witring\", \"witring\", \"witring\", \"witring\", \"witring\", \"witring\", \"witring\", \"witring\", \"witring\", \"witring\", \"witring\", \"witring\", \"witring\", \"witring\", \"witring\", \"witring\", \"witring\", \"witring\", \"witring\", \"witring\", \"witring\", \"witring\", \"witring\", \"witring\", \"witring\", \"witring\", \"witring\", \"witring\", \"witring\", \"witring\", \"witring\", \"witring\", \"witring\", \"witring\", \"witring\", \"witring\", \"witring\", \"witring\", \"witring\", \"witring\", \"witring\", \"witring\", \"witring\", \"witring\", \"witring\", \"witring\", \"witring\", \"witring\", \"witring\", \"witring\", \"witring\", \"witring\", \"witring\", \"witring\", \"witring\", \"witring\", \"witring\", \"witring\", \"witring\", \"witring\", \"witring\", \"witring\", \"witring\", \"witring\", \"witring\", \"witring\", \"witring\", \"witring\", \"witring\", \"witring\", \"witring\", \"witring\", \"witring\", \"witring\", \"witring\", \"witring\", \"witring\", \"witring\", \"witring\", \"witring\", \"witring\", \"witring\", \"witring\", \"witring\", \"witring\", \"witring\", \"witring\", \"witring\", \"witring\", \"witring\", \"witring\", \"witring\", \"witring\", \"witring\", \"witring\", \"witring\", \"witring\", \"witring\", \"witring\", \"witring\", \"witring\", \"witring\", \"witring\", \"witring\", \"witring\", \"witring\", \"witring\", \"witring\", \"witring\", \"witring\", \"witring\", \"witring\", \"witring\", \"witring\", \"witring\", \"witring\", \"witring\", \"witring\", \"witring\", \"witring\", \"witring\", \"witring\", \"witring\", \"witring\", \"witring\", \"witring\", \"witring\", \"witring\", \"witring\", \"witring\", \"witring\", \"witring\", \"witring\", \"witring\", \"witring\", \"witring\", \"witring\", \"witring\", \"witring\", \"witring\", \"witring\", \"witring\", \"witring\", \"witring\", \"witring\", \"witring\", \"witring\", \"witring\", \"witring\", \"witring\", \"witring\", \"witring\", \"witring\", \"witring\", \"witring\", \"witring\", \"witring\", \"witring\", \"witring\", \"witring\", \"witring\", \"witring\", \"witring\", \"witring\", \"witring\", \"witring\", \"witring\", \"witring\", \"witring\", \"witring\", \"witring\", \"witring\", \"witring\", \"witring\", \"witring\", \"witring\", \"witring\", \"witring\", \"witring\", \"witring\", \"witring\", \"witring\", \"witring\", \"witring\", \"witring\", \"witring\", \"witring\", \"witring\", \"witring\", \"witring\", \"witring\", \"witring\", \"witring\", \"witring\", \"witring\", \"witring\", \"witring\", \"witring\", \"witring\", \"witring\", \"witring\", \"witring\", \"witring\", \"witring\", \"witring\", \"witring\", \"witring\", \"witring\", \"witring\", \"witring\", \"witring\", \"witring\", \"witring\", \"witring\", \"witring\", \"witring\", \"witring\", \"witring\", \"witring\", \"witring\", \"witring\", \"witring\", \"witring\", \"witring\", \"witring\", \"witring\", \"witring\", \"witring\", \"witring\", \"witring\", \"witring\", \"witring\", \"witring\", \"witring\", \"witring\", \"witring\", \"witring\", \"witring\", \"witring\", \"witring\", \"witring\", \"witring\", \"witring\", \"witring\", \"witring\", \"witring\", \"witring\", \"witring\", \"witring\", \"witring\", \"witring\", \"witring\", \"witring\", \"witring\", \"witring\", \"witring\", \"witring\", \"witring\", \"witring\", \"witring\", \"witring\", \"witring\", \"witring\", \"witring\", \"witring\", \"witring\", \"witring\", \"witring\", \"witring\", \"witring\", \"witring\", \"witring\", \"witring\", \"witring\", \"witring\", \"witring\"], \"yaxis\": \"y2\"}],                        {\"barmode\": \"overlay\", \"hovermode\": \"closest\", \"legend\": {\"traceorder\": \"reversed\"}, \"template\": {\"data\": {\"bar\": [{\"error_x\": {\"color\": \"#2a3f5f\"}, \"error_y\": {\"color\": \"#2a3f5f\"}, \"marker\": {\"line\": {\"color\": \"#E5ECF6\", \"width\": 0.5}}, \"type\": \"bar\"}], \"barpolar\": [{\"marker\": {\"line\": {\"color\": \"#E5ECF6\", \"width\": 0.5}}, \"type\": \"barpolar\"}], \"carpet\": [{\"aaxis\": {\"endlinecolor\": \"#2a3f5f\", \"gridcolor\": \"white\", \"linecolor\": \"white\", \"minorgridcolor\": \"white\", \"startlinecolor\": \"#2a3f5f\"}, \"baxis\": {\"endlinecolor\": \"#2a3f5f\", \"gridcolor\": \"white\", \"linecolor\": \"white\", \"minorgridcolor\": \"white\", \"startlinecolor\": \"#2a3f5f\"}, \"type\": \"carpet\"}], \"choropleth\": [{\"colorbar\": {\"outlinewidth\": 0, \"ticks\": \"\"}, \"type\": \"choropleth\"}], \"contour\": [{\"colorbar\": {\"outlinewidth\": 0, \"ticks\": \"\"}, \"colorscale\": [[0.0, \"#0d0887\"], [0.1111111111111111, \"#46039f\"], [0.2222222222222222, \"#7201a8\"], [0.3333333333333333, \"#9c179e\"], [0.4444444444444444, \"#bd3786\"], [0.5555555555555556, \"#d8576b\"], [0.6666666666666666, \"#ed7953\"], [0.7777777777777778, \"#fb9f3a\"], [0.8888888888888888, \"#fdca26\"], [1.0, \"#f0f921\"]], \"type\": \"contour\"}], \"contourcarpet\": [{\"colorbar\": {\"outlinewidth\": 0, \"ticks\": \"\"}, \"type\": \"contourcarpet\"}], \"heatmap\": [{\"colorbar\": {\"outlinewidth\": 0, \"ticks\": \"\"}, \"colorscale\": [[0.0, \"#0d0887\"], [0.1111111111111111, \"#46039f\"], [0.2222222222222222, \"#7201a8\"], [0.3333333333333333, \"#9c179e\"], [0.4444444444444444, \"#bd3786\"], [0.5555555555555556, \"#d8576b\"], [0.6666666666666666, \"#ed7953\"], [0.7777777777777778, \"#fb9f3a\"], [0.8888888888888888, \"#fdca26\"], [1.0, \"#f0f921\"]], \"type\": \"heatmap\"}], \"heatmapgl\": [{\"colorbar\": {\"outlinewidth\": 0, \"ticks\": \"\"}, \"colorscale\": [[0.0, \"#0d0887\"], [0.1111111111111111, \"#46039f\"], [0.2222222222222222, \"#7201a8\"], [0.3333333333333333, \"#9c179e\"], [0.4444444444444444, \"#bd3786\"], [0.5555555555555556, \"#d8576b\"], [0.6666666666666666, \"#ed7953\"], [0.7777777777777778, \"#fb9f3a\"], [0.8888888888888888, \"#fdca26\"], [1.0, \"#f0f921\"]], \"type\": \"heatmapgl\"}], \"histogram\": [{\"marker\": {\"colorbar\": {\"outlinewidth\": 0, \"ticks\": \"\"}}, \"type\": \"histogram\"}], \"histogram2d\": [{\"colorbar\": {\"outlinewidth\": 0, \"ticks\": \"\"}, \"colorscale\": [[0.0, \"#0d0887\"], [0.1111111111111111, \"#46039f\"], [0.2222222222222222, \"#7201a8\"], [0.3333333333333333, \"#9c179e\"], [0.4444444444444444, \"#bd3786\"], [0.5555555555555556, \"#d8576b\"], [0.6666666666666666, \"#ed7953\"], [0.7777777777777778, \"#fb9f3a\"], [0.8888888888888888, \"#fdca26\"], [1.0, \"#f0f921\"]], \"type\": \"histogram2d\"}], \"histogram2dcontour\": [{\"colorbar\": {\"outlinewidth\": 0, \"ticks\": \"\"}, \"colorscale\": [[0.0, \"#0d0887\"], [0.1111111111111111, \"#46039f\"], [0.2222222222222222, \"#7201a8\"], [0.3333333333333333, \"#9c179e\"], [0.4444444444444444, \"#bd3786\"], [0.5555555555555556, \"#d8576b\"], [0.6666666666666666, \"#ed7953\"], [0.7777777777777778, \"#fb9f3a\"], [0.8888888888888888, \"#fdca26\"], [1.0, \"#f0f921\"]], \"type\": \"histogram2dcontour\"}], \"mesh3d\": [{\"colorbar\": {\"outlinewidth\": 0, \"ticks\": \"\"}, \"type\": \"mesh3d\"}], \"parcoords\": [{\"line\": {\"colorbar\": {\"outlinewidth\": 0, \"ticks\": \"\"}}, \"type\": \"parcoords\"}], \"pie\": [{\"automargin\": true, \"type\": \"pie\"}], \"scatter\": [{\"marker\": {\"colorbar\": {\"outlinewidth\": 0, \"ticks\": \"\"}}, \"type\": \"scatter\"}], \"scatter3d\": [{\"line\": {\"colorbar\": {\"outlinewidth\": 0, \"ticks\": \"\"}}, \"marker\": {\"colorbar\": {\"outlinewidth\": 0, \"ticks\": \"\"}}, \"type\": \"scatter3d\"}], \"scattercarpet\": [{\"marker\": {\"colorbar\": {\"outlinewidth\": 0, \"ticks\": \"\"}}, \"type\": \"scattercarpet\"}], \"scattergeo\": [{\"marker\": {\"colorbar\": {\"outlinewidth\": 0, \"ticks\": \"\"}}, \"type\": \"scattergeo\"}], \"scattergl\": [{\"marker\": {\"colorbar\": {\"outlinewidth\": 0, \"ticks\": \"\"}}, \"type\": \"scattergl\"}], \"scattermapbox\": [{\"marker\": {\"colorbar\": {\"outlinewidth\": 0, \"ticks\": \"\"}}, \"type\": \"scattermapbox\"}], \"scatterpolar\": [{\"marker\": {\"colorbar\": {\"outlinewidth\": 0, \"ticks\": \"\"}}, \"type\": \"scatterpolar\"}], \"scatterpolargl\": [{\"marker\": {\"colorbar\": {\"outlinewidth\": 0, \"ticks\": \"\"}}, \"type\": \"scatterpolargl\"}], \"scatterternary\": [{\"marker\": {\"colorbar\": {\"outlinewidth\": 0, \"ticks\": \"\"}}, \"type\": \"scatterternary\"}], \"surface\": [{\"colorbar\": {\"outlinewidth\": 0, \"ticks\": \"\"}, \"colorscale\": [[0.0, \"#0d0887\"], [0.1111111111111111, \"#46039f\"], [0.2222222222222222, \"#7201a8\"], [0.3333333333333333, \"#9c179e\"], [0.4444444444444444, \"#bd3786\"], [0.5555555555555556, \"#d8576b\"], [0.6666666666666666, \"#ed7953\"], [0.7777777777777778, \"#fb9f3a\"], [0.8888888888888888, \"#fdca26\"], [1.0, \"#f0f921\"]], \"type\": \"surface\"}], \"table\": [{\"cells\": {\"fill\": {\"color\": \"#EBF0F8\"}, \"line\": {\"color\": \"white\"}}, \"header\": {\"fill\": {\"color\": \"#C8D4E3\"}, \"line\": {\"color\": \"white\"}}, \"type\": \"table\"}]}, \"layout\": {\"annotationdefaults\": {\"arrowcolor\": \"#2a3f5f\", \"arrowhead\": 0, \"arrowwidth\": 1}, \"autotypenumbers\": \"strict\", \"coloraxis\": {\"colorbar\": {\"outlinewidth\": 0, \"ticks\": \"\"}}, \"colorscale\": {\"diverging\": [[0, \"#8e0152\"], [0.1, \"#c51b7d\"], [0.2, \"#de77ae\"], [0.3, \"#f1b6da\"], [0.4, \"#fde0ef\"], [0.5, \"#f7f7f7\"], [0.6, \"#e6f5d0\"], [0.7, \"#b8e186\"], [0.8, \"#7fbc41\"], [0.9, \"#4d9221\"], [1, \"#276419\"]], \"sequential\": [[0.0, \"#0d0887\"], [0.1111111111111111, \"#46039f\"], [0.2222222222222222, \"#7201a8\"], [0.3333333333333333, \"#9c179e\"], [0.4444444444444444, \"#bd3786\"], [0.5555555555555556, \"#d8576b\"], [0.6666666666666666, \"#ed7953\"], [0.7777777777777778, \"#fb9f3a\"], [0.8888888888888888, \"#fdca26\"], [1.0, \"#f0f921\"]], \"sequentialminus\": [[0.0, \"#0d0887\"], [0.1111111111111111, \"#46039f\"], [0.2222222222222222, \"#7201a8\"], [0.3333333333333333, \"#9c179e\"], [0.4444444444444444, \"#bd3786\"], [0.5555555555555556, \"#d8576b\"], [0.6666666666666666, \"#ed7953\"], [0.7777777777777778, \"#fb9f3a\"], [0.8888888888888888, \"#fdca26\"], [1.0, \"#f0f921\"]]}, \"colorway\": [\"#636efa\", \"#EF553B\", \"#00cc96\", \"#ab63fa\", \"#FFA15A\", \"#19d3f3\", \"#FF6692\", \"#B6E880\", \"#FF97FF\", \"#FECB52\"], \"font\": {\"color\": \"#2a3f5f\"}, \"geo\": {\"bgcolor\": \"white\", \"lakecolor\": \"white\", \"landcolor\": \"#E5ECF6\", \"showlakes\": true, \"showland\": true, \"subunitcolor\": \"white\"}, \"hoverlabel\": {\"align\": \"left\"}, \"hovermode\": \"closest\", \"mapbox\": {\"style\": \"light\"}, \"paper_bgcolor\": \"white\", \"plot_bgcolor\": \"#E5ECF6\", \"polar\": {\"angularaxis\": {\"gridcolor\": \"white\", \"linecolor\": \"white\", \"ticks\": \"\"}, \"bgcolor\": \"#E5ECF6\", \"radialaxis\": {\"gridcolor\": \"white\", \"linecolor\": \"white\", \"ticks\": \"\"}}, \"scene\": {\"xaxis\": {\"backgroundcolor\": \"#E5ECF6\", \"gridcolor\": \"white\", \"gridwidth\": 2, \"linecolor\": \"white\", \"showbackground\": true, \"ticks\": \"\", \"zerolinecolor\": \"white\"}, \"yaxis\": {\"backgroundcolor\": \"#E5ECF6\", \"gridcolor\": \"white\", \"gridwidth\": 2, \"linecolor\": \"white\", \"showbackground\": true, \"ticks\": \"\", \"zerolinecolor\": \"white\"}, \"zaxis\": {\"backgroundcolor\": \"#E5ECF6\", \"gridcolor\": \"white\", \"gridwidth\": 2, \"linecolor\": \"white\", \"showbackground\": true, \"ticks\": \"\", \"zerolinecolor\": \"white\"}}, \"shapedefaults\": {\"line\": {\"color\": \"#2a3f5f\"}}, \"ternary\": {\"aaxis\": {\"gridcolor\": \"white\", \"linecolor\": \"white\", \"ticks\": \"\"}, \"baxis\": {\"gridcolor\": \"white\", \"linecolor\": \"white\", \"ticks\": \"\"}, \"bgcolor\": \"#E5ECF6\", \"caxis\": {\"gridcolor\": \"white\", \"linecolor\": \"white\", \"ticks\": \"\"}}, \"title\": {\"x\": 0.05}, \"xaxis\": {\"automargin\": true, \"gridcolor\": \"white\", \"linecolor\": \"white\", \"ticks\": \"\", \"title\": {\"standoff\": 15}, \"zerolinecolor\": \"white\", \"zerolinewidth\": 2}, \"yaxis\": {\"automargin\": true, \"gridcolor\": \"white\", \"linecolor\": \"white\", \"ticks\": \"\", \"title\": {\"standoff\": 15}, \"zerolinecolor\": \"white\", \"zerolinewidth\": 2}}}, \"xaxis\": {\"anchor\": \"y2\", \"domain\": [0.0, 1.0], \"zeroline\": false}, \"yaxis\": {\"anchor\": \"free\", \"domain\": [0.35, 1], \"position\": 0.0}, \"yaxis2\": {\"anchor\": \"x\", \"domain\": [0, 0.25], \"dtick\": 1, \"showticklabels\": false}},                        {\"responsive\": true}                    ).then(function(){\n",
              "                            \n",
              "var gd = document.getElementById('5e2c7e5b-2057-401a-a68a-998fe467cd90');\n",
              "var x = new MutationObserver(function (mutations, observer) {{\n",
              "        var display = window.getComputedStyle(gd).display;\n",
              "        if (!display || display === 'none') {{\n",
              "            console.log([gd, 'removed!']);\n",
              "            Plotly.purge(gd);\n",
              "            observer.disconnect();\n",
              "        }}\n",
              "}});\n",
              "\n",
              "// Listen for the removal of the full notebook cells\n",
              "var notebookContainer = gd.closest('#notebook-container');\n",
              "if (notebookContainer) {{\n",
              "    x.observe(notebookContainer, {childList: true});\n",
              "}}\n",
              "\n",
              "// Listen for the clearing of the current output cell\n",
              "var outputEl = gd.closest('.output');\n",
              "if (outputEl) {{\n",
              "    x.observe(outputEl, {childList: true});\n",
              "}}\n",
              "\n",
              "                        })                };                            </script>        </div>\n",
              "</body>\n",
              "</html>"
            ]
          },
          "metadata": {
            "tags": []
          }
        }
      ]
    },
    {
      "cell_type": "markdown",
      "metadata": {
        "id": "nxRj-Hi2QUHQ"
      },
      "source": [
        "**Justificación:**"
      ]
    },
    {
      "cell_type": "markdown",
      "metadata": {
        "id": "CR2ZEOcbQW9X"
      },
      "source": [
        "\n",
        "Se evidencia que hay valores que no están buenos dado que fue necesario deshacerse de los valores nulos, mediante la función dropna. Con respecto la dsitribución se puede notar que los 3 puntajes tienen una distribuicón similar. \n",
        "\n",
        " Dado que las notas solo pueden ir de 0 a 100, existen muchos datos incorrectos, porque se pueden ver puntajes muy superiores al máximo.\n",
        "\n",
        "Es necesaria una  limpieza de los datos para eliiminar los nulos, datos repetidos y datos que no están correctos.\n"
      ]
    },
    {
      "cell_type": "markdown",
      "metadata": {
        "id": "YJfqPXFZjQiA"
      },
      "source": [
        "## 1.2 Limpieza de Datos [1 punto]\n",
        "\n",
        "<p align=\"center\">\n",
        "  <img src=\"https://media3.giphy.com/media/c09yGbnSyaFRS/giphy.gif?cid=ecf05e47d0ejjjnpfj0ywcbwz7zk7sw2rfdpis890gmdpvj2&rid=giphy.gif&ct=g\">\n",
        "</p>\n"
      ]
    },
    {
      "cell_type": "markdown",
      "metadata": {
        "id": "syO5lHKvv6Wt"
      },
      "source": [
        "En base a lo realizado anteriormente, tome la decisión (si es necesario) de limpiar el dataset. Asuma los supuestos que estime conveniente para limpiar el DataFrame y cree una función que le permita limpiar los datos, si estima que no es necesario realizar esto, omita esta parte.\n",
        "\n",
        "**To-Do:**\n",
        "\n",
        "- [ ] Decidir si realizar o no la limpieza.\n",
        "- [ ] Crear función que nos permita limpiar el dataset.\n",
        "- [ ] Justifique las asunciones realizadas para limpiar los datos.\n",
        "\n",
        "**Hint**\n",
        "\n",
        "En el caso que decida limpiar el dataset, puede que le sean de utilidad las funciones ```.drop_duplicates()``` y ```.dropna()```.\n"
      ]
    },
    {
      "cell_type": "code",
      "metadata": {
        "id": "D02Pc9VSXsAT"
      },
      "source": [
        "df_grades = df_grades.dropna() \n",
        "df_grades = df_grades.drop_duplicates()\n",
        "df_grades = df_grades[(df_grades['math score'] <= 100.0) & (df_grades['reading score'] <= 100.0) & (df_grades['writing score'] <= 100.0)]"
      ],
      "execution_count": 7,
      "outputs": []
    },
    {
      "cell_type": "code",
      "metadata": {
        "colab": {
          "base_uri": "https://localhost:8080/",
          "height": 1000
        },
        "id": "4YZ84N6MrzoY",
        "outputId": "25c43dac-4db3-4ac6-e0c0-0bdd070f5b77"
      },
      "source": [
        "analisis_preliminar_datos(df_grades)"
      ],
      "execution_count": 8,
      "outputs": [
        {
          "output_type": "stream",
          "text": [
            "Extracto del dataframe: \n"
          ],
          "name": "stdout"
        },
        {
          "output_type": "display_data",
          "data": {
            "text/html": [
              "<div>\n",
              "<style scoped>\n",
              "    .dataframe tbody tr th:only-of-type {\n",
              "        vertical-align: middle;\n",
              "    }\n",
              "\n",
              "    .dataframe tbody tr th {\n",
              "        vertical-align: top;\n",
              "    }\n",
              "\n",
              "    .dataframe thead th {\n",
              "        text-align: right;\n",
              "    }\n",
              "</style>\n",
              "<table border=\"1\" class=\"dataframe\">\n",
              "  <thead>\n",
              "    <tr style=\"text-align: right;\">\n",
              "      <th></th>\n",
              "      <th>names</th>\n",
              "      <th>gender</th>\n",
              "      <th>race/ethnicity</th>\n",
              "      <th>parental level of education</th>\n",
              "      <th>lunch</th>\n",
              "      <th>test preparation course</th>\n",
              "      <th>math score</th>\n",
              "      <th>reading score</th>\n",
              "      <th>writing score</th>\n",
              "    </tr>\n",
              "  </thead>\n",
              "  <tbody>\n",
              "    <tr>\n",
              "      <th>0</th>\n",
              "      <td>Rita Courtney</td>\n",
              "      <td>female</td>\n",
              "      <td>group B</td>\n",
              "      <td>some high school</td>\n",
              "      <td>standard</td>\n",
              "      <td>none</td>\n",
              "      <td>37.0</td>\n",
              "      <td>46.0</td>\n",
              "      <td>46.0</td>\n",
              "    </tr>\n",
              "    <tr>\n",
              "      <th>3</th>\n",
              "      <td>Charles Linstrom</td>\n",
              "      <td>male</td>\n",
              "      <td>group A</td>\n",
              "      <td>bachelor's degree</td>\n",
              "      <td>standard</td>\n",
              "      <td>completed</td>\n",
              "      <td>80.0</td>\n",
              "      <td>78.0</td>\n",
              "      <td>81.0</td>\n",
              "    </tr>\n",
              "    <tr>\n",
              "      <th>5</th>\n",
              "      <td>Brian Young</td>\n",
              "      <td>male</td>\n",
              "      <td>group C</td>\n",
              "      <td>some high school</td>\n",
              "      <td>standard</td>\n",
              "      <td>none</td>\n",
              "      <td>73.0</td>\n",
              "      <td>66.0</td>\n",
              "      <td>63.0</td>\n",
              "    </tr>\n",
              "    <tr>\n",
              "      <th>6</th>\n",
              "      <td>Howard Jimenez</td>\n",
              "      <td>male</td>\n",
              "      <td>group E</td>\n",
              "      <td>some high school</td>\n",
              "      <td>standard</td>\n",
              "      <td>completed</td>\n",
              "      <td>81.0</td>\n",
              "      <td>75.0</td>\n",
              "      <td>76.0</td>\n",
              "    </tr>\n",
              "    <tr>\n",
              "      <th>7</th>\n",
              "      <td>Wayne Wilson</td>\n",
              "      <td>male</td>\n",
              "      <td>group B</td>\n",
              "      <td>some high school</td>\n",
              "      <td>standard</td>\n",
              "      <td>completed</td>\n",
              "      <td>94.0</td>\n",
              "      <td>86.0</td>\n",
              "      <td>87.0</td>\n",
              "    </tr>\n",
              "    <tr>\n",
              "      <th>...</th>\n",
              "      <td>...</td>\n",
              "      <td>...</td>\n",
              "      <td>...</td>\n",
              "      <td>...</td>\n",
              "      <td>...</td>\n",
              "      <td>...</td>\n",
              "      <td>...</td>\n",
              "      <td>...</td>\n",
              "      <td>...</td>\n",
              "    </tr>\n",
              "    <tr>\n",
              "      <th>1392</th>\n",
              "      <td>Richard Young</td>\n",
              "      <td>male</td>\n",
              "      <td>group D</td>\n",
              "      <td>high school</td>\n",
              "      <td>standard</td>\n",
              "      <td>none</td>\n",
              "      <td>69.0</td>\n",
              "      <td>75.0</td>\n",
              "      <td>71.0</td>\n",
              "    </tr>\n",
              "    <tr>\n",
              "      <th>1394</th>\n",
              "      <td>Wanda Russell</td>\n",
              "      <td>female</td>\n",
              "      <td>group B</td>\n",
              "      <td>high school</td>\n",
              "      <td>free/reduced</td>\n",
              "      <td>completed</td>\n",
              "      <td>23.0</td>\n",
              "      <td>44.0</td>\n",
              "      <td>36.0</td>\n",
              "    </tr>\n",
              "    <tr>\n",
              "      <th>1396</th>\n",
              "      <td>Marina Zeigler</td>\n",
              "      <td>female</td>\n",
              "      <td>group C</td>\n",
              "      <td>bachelor's degree</td>\n",
              "      <td>free/reduced</td>\n",
              "      <td>completed</td>\n",
              "      <td>66.0</td>\n",
              "      <td>74.0</td>\n",
              "      <td>81.0</td>\n",
              "    </tr>\n",
              "    <tr>\n",
              "      <th>1397</th>\n",
              "      <td>Laurie Carter</td>\n",
              "      <td>female</td>\n",
              "      <td>group B</td>\n",
              "      <td>some high school</td>\n",
              "      <td>standard</td>\n",
              "      <td>completed</td>\n",
              "      <td>54.0</td>\n",
              "      <td>61.0</td>\n",
              "      <td>62.0</td>\n",
              "    </tr>\n",
              "    <tr>\n",
              "      <th>1399</th>\n",
              "      <td>Amanda Perez</td>\n",
              "      <td>female</td>\n",
              "      <td>group A</td>\n",
              "      <td>high school</td>\n",
              "      <td>standard</td>\n",
              "      <td>completed</td>\n",
              "      <td>68.0</td>\n",
              "      <td>80.0</td>\n",
              "      <td>76.0</td>\n",
              "    </tr>\n",
              "  </tbody>\n",
              "</table>\n",
              "<p>1000 rows × 9 columns</p>\n",
              "</div>"
            ],
            "text/plain": [
              "                 names  gender  ... reading score writing score\n",
              "0        Rita Courtney  female  ...          46.0          46.0\n",
              "3     Charles Linstrom    male  ...          78.0          81.0\n",
              "5          Brian Young    male  ...          66.0          63.0\n",
              "6       Howard Jimenez    male  ...          75.0          76.0\n",
              "7         Wayne Wilson    male  ...          86.0          87.0\n",
              "...                ...     ...  ...           ...           ...\n",
              "1392     Richard Young    male  ...          75.0          71.0\n",
              "1394     Wanda Russell  female  ...          44.0          36.0\n",
              "1396    Marina Zeigler  female  ...          74.0          81.0\n",
              "1397     Laurie Carter  female  ...          61.0          62.0\n",
              "1399      Amanda Perez  female  ...          80.0          76.0\n",
              "\n",
              "[1000 rows x 9 columns]"
            ]
          },
          "metadata": {
            "tags": []
          }
        },
        {
          "output_type": "stream",
          "text": [
            "\n",
            "\n",
            "dimensiones del dataframe:  (1000, 9) \n",
            "\n",
            "Datos númericos del dataframe: \n"
          ],
          "name": "stdout"
        },
        {
          "output_type": "display_data",
          "data": {
            "text/html": [
              "<div>\n",
              "<style scoped>\n",
              "    .dataframe tbody tr th:only-of-type {\n",
              "        vertical-align: middle;\n",
              "    }\n",
              "\n",
              "    .dataframe tbody tr th {\n",
              "        vertical-align: top;\n",
              "    }\n",
              "\n",
              "    .dataframe thead th {\n",
              "        text-align: right;\n",
              "    }\n",
              "</style>\n",
              "<table border=\"1\" class=\"dataframe\">\n",
              "  <thead>\n",
              "    <tr style=\"text-align: right;\">\n",
              "      <th></th>\n",
              "      <th>math score</th>\n",
              "      <th>reading score</th>\n",
              "      <th>writing score</th>\n",
              "    </tr>\n",
              "  </thead>\n",
              "  <tbody>\n",
              "    <tr>\n",
              "      <th>count</th>\n",
              "      <td>1000.00000</td>\n",
              "      <td>1000.000000</td>\n",
              "      <td>1000.000000</td>\n",
              "    </tr>\n",
              "    <tr>\n",
              "      <th>mean</th>\n",
              "      <td>66.08900</td>\n",
              "      <td>69.169000</td>\n",
              "      <td>68.054000</td>\n",
              "    </tr>\n",
              "    <tr>\n",
              "      <th>std</th>\n",
              "      <td>15.16308</td>\n",
              "      <td>14.600192</td>\n",
              "      <td>15.195657</td>\n",
              "    </tr>\n",
              "    <tr>\n",
              "      <th>min</th>\n",
              "      <td>0.00000</td>\n",
              "      <td>17.000000</td>\n",
              "      <td>10.000000</td>\n",
              "    </tr>\n",
              "    <tr>\n",
              "      <th>25%</th>\n",
              "      <td>57.00000</td>\n",
              "      <td>59.000000</td>\n",
              "      <td>57.750000</td>\n",
              "    </tr>\n",
              "    <tr>\n",
              "      <th>50%</th>\n",
              "      <td>66.00000</td>\n",
              "      <td>70.000000</td>\n",
              "      <td>69.000000</td>\n",
              "    </tr>\n",
              "    <tr>\n",
              "      <th>75%</th>\n",
              "      <td>77.00000</td>\n",
              "      <td>79.000000</td>\n",
              "      <td>79.000000</td>\n",
              "    </tr>\n",
              "    <tr>\n",
              "      <th>max</th>\n",
              "      <td>100.00000</td>\n",
              "      <td>100.000000</td>\n",
              "      <td>100.000000</td>\n",
              "    </tr>\n",
              "  </tbody>\n",
              "</table>\n",
              "</div>"
            ],
            "text/plain": [
              "       math score  reading score  writing score\n",
              "count  1000.00000    1000.000000    1000.000000\n",
              "mean     66.08900      69.169000      68.054000\n",
              "std      15.16308      14.600192      15.195657\n",
              "min       0.00000      17.000000      10.000000\n",
              "25%      57.00000      59.000000      57.750000\n",
              "50%      66.00000      70.000000      69.000000\n",
              "75%      77.00000      79.000000      79.000000\n",
              "max     100.00000     100.000000     100.000000"
            ]
          },
          "metadata": {
            "tags": []
          }
        },
        {
          "output_type": "stream",
          "text": [
            "\n",
            "\n",
            "filas duplicadas del dataframe: \n"
          ],
          "name": "stdout"
        },
        {
          "output_type": "display_data",
          "data": {
            "text/html": [
              "<div>\n",
              "<style scoped>\n",
              "    .dataframe tbody tr th:only-of-type {\n",
              "        vertical-align: middle;\n",
              "    }\n",
              "\n",
              "    .dataframe tbody tr th {\n",
              "        vertical-align: top;\n",
              "    }\n",
              "\n",
              "    .dataframe thead th {\n",
              "        text-align: right;\n",
              "    }\n",
              "</style>\n",
              "<table border=\"1\" class=\"dataframe\">\n",
              "  <thead>\n",
              "    <tr style=\"text-align: right;\">\n",
              "      <th></th>\n",
              "      <th>names</th>\n",
              "      <th>gender</th>\n",
              "      <th>race/ethnicity</th>\n",
              "      <th>parental level of education</th>\n",
              "      <th>lunch</th>\n",
              "      <th>test preparation course</th>\n",
              "      <th>math score</th>\n",
              "      <th>reading score</th>\n",
              "      <th>writing score</th>\n",
              "    </tr>\n",
              "  </thead>\n",
              "  <tbody>\n",
              "  </tbody>\n",
              "</table>\n",
              "</div>"
            ],
            "text/plain": [
              "Empty DataFrame\n",
              "Columns: [names, gender, race/ethnicity, parental level of education, lunch, test preparation course, math score, reading score, writing score]\n",
              "Index: []"
            ]
          },
          "metadata": {
            "tags": []
          }
        },
        {
          "output_type": "stream",
          "text": [
            "\n",
            "\n",
            "cantidad de datos nulos por columna: \n",
            "names                          0\n",
            "gender                         0\n",
            "race/ethnicity                 0\n",
            "parental level of education    0\n",
            "lunch                          0\n",
            "test preparation course        0\n",
            "math score                     0\n",
            "reading score                  0\n",
            "writing score                  0\n",
            "dtype: int64 \n",
            "\n",
            "valores unicos: \n",
            "names                          1000\n",
            "gender                            2\n",
            "race/ethnicity                    5\n",
            "parental level of education       6\n",
            "lunch                             2\n",
            "test preparation course           2\n",
            "math score                       81\n",
            "reading score                    72\n",
            "writing score                    77\n",
            "dtype: int64\n"
          ],
          "name": "stdout"
        }
      ]
    },
    {
      "cell_type": "code",
      "metadata": {
        "colab": {
          "base_uri": "https://localhost:8080/",
          "height": 542
        },
        "id": "Z-UGe0qCrd9Y",
        "outputId": "34cc3635-5d8f-4a3c-afe2-620d7903f571"
      },
      "source": [
        "df2 = df_grades.dropna()\n",
        "import plotly.figure_factory as ff\n",
        "hist_data = [df2['math score'], df2['reading score'] , df2['writing score']]\n",
        "\n",
        "group_labels = ['math', 'reading', 'witring']\n",
        "\n",
        "# Create distplot with custom bin_size\n",
        "fig = ff.create_distplot(hist_data, group_labels, bin_size=.2)\n",
        "fig.show()"
      ],
      "execution_count": 9,
      "outputs": [
        {
          "output_type": "display_data",
          "data": {
            "text/html": [
              "<html>\n",
              "<head><meta charset=\"utf-8\" /></head>\n",
              "<body>\n",
              "    <div>            <script src=\"https://cdnjs.cloudflare.com/ajax/libs/mathjax/2.7.5/MathJax.js?config=TeX-AMS-MML_SVG\"></script><script type=\"text/javascript\">if (window.MathJax) {MathJax.Hub.Config({SVG: {font: \"STIX-Web\"}});}</script>                <script type=\"text/javascript\">window.PlotlyConfig = {MathJaxConfig: 'local'};</script>\n",
              "        <script src=\"https://cdn.plot.ly/plotly-latest.min.js\"></script>                <div id=\"29969653-611a-4d5b-a274-1e9e256eeeb7\" class=\"plotly-graph-div\" style=\"height:525px; width:100%;\"></div>            <script type=\"text/javascript\">                                    window.PLOTLYENV=window.PLOTLYENV || {};                                    if (document.getElementById(\"29969653-611a-4d5b-a274-1e9e256eeeb7\")) {                    Plotly.newPlot(                        \"29969653-611a-4d5b-a274-1e9e256eeeb7\",                        [{\"autobinx\": false, \"histnorm\": \"probability density\", \"legendgroup\": \"math\", \"marker\": {\"color\": \"rgb(31, 119, 180)\"}, \"name\": \"math\", \"opacity\": 0.7, \"type\": \"histogram\", \"x\": [37.0, 80.0, 73.0, 81.0, 94.0, 71.0, 75.0, 34.0, 63.0, 94.0, 65.0, 52.0, 62.0, 74.0, 62.0, 73.0, 46.0, 82.0, 63.0, 64.0, 80.0, 93.0, 69.0, 46.0, 86.0, 59.0, 84.0, 64.0, 73.0, 83.0, 75.0, 69.0, 68.0, 57.0, 66.0, 61.0, 40.0, 50.0, 48.0, 36.0, 78.0, 57.0, 69.0, 40.0, 92.0, 35.0, 63.0, 73.0, 63.0, 52.0, 73.0, 63.0, 71.0, 45.0, 85.0, 80.0, 82.0, 77.0, 91.0, 60.0, 63.0, 40.0, 57.0, 58.0, 97.0, 81.0, 68.0, 59.0, 96.0, 87.0, 57.0, 94.0, 97.0, 65.0, 82.0, 72.0, 62.0, 44.0, 82.0, 75.0, 59.0, 75.0, 72.0, 68.0, 66.0, 67.0, 93.0, 69.0, 63.0, 46.0, 66.0, 62.0, 48.0, 71.0, 54.0, 80.0, 55.0, 90.0, 94.0, 81.0, 53.0, 61.0, 75.0, 74.0, 62.0, 70.0, 60.0, 59.0, 62.0, 53.0, 80.0, 69.0, 69.0, 69.0, 49.0, 43.0, 83.0, 65.0, 73.0, 68.0, 64.0, 54.0, 65.0, 49.0, 58.0, 66.0, 65.0, 65.0, 70.0, 79.0, 50.0, 64.0, 68.0, 32.0, 68.0, 58.0, 19.0, 69.0, 72.0, 53.0, 61.0, 78.0, 53.0, 45.0, 44.0, 83.0, 65.0, 88.0, 88.0, 91.0, 84.0, 51.0, 38.0, 47.0, 66.0, 61.0, 60.0, 71.0, 45.0, 77.0, 53.0, 57.0, 72.0, 76.0, 45.0, 99.0, 51.0, 64.0, 52.0, 80.0, 51.0, 50.0, 64.0, 74.0, 71.0, 57.0, 69.0, 77.0, 75.0, 43.0, 80.0, 59.0, 85.0, 55.0, 44.0, 42.0, 58.0, 61.0, 50.0, 88.0, 73.0, 67.0, 97.0, 61.0, 62.0, 79.0, 54.0, 66.0, 78.0, 85.0, 84.0, 76.0, 44.0, 81.0, 54.0, 58.0, 81.0, 72.0, 71.0, 61.0, 66.0, 71.0, 71.0, 89.0, 73.0, 81.0, 46.0, 22.0, 48.0, 44.0, 79.0, 91.0, 76.0, 54.0, 77.0, 62.0, 67.0, 86.0, 58.0, 53.0, 57.0, 69.0, 76.0, 78.0, 69.0, 62.0, 37.0, 88.0, 90.0, 57.0, 68.0, 65.0, 63.0, 52.0, 48.0, 65.0, 54.0, 50.0, 40.0, 29.0, 26.0, 70.0, 75.0, 53.0, 60.0, 98.0, 93.0, 59.0, 46.0, 76.0, 79.0, 28.0, 55.0, 61.0, 35.0, 94.0, 46.0, 100.0, 67.0, 50.0, 79.0, 71.0, 83.0, 55.0, 48.0, 76.0, 77.0, 79.0, 62.0, 56.0, 68.0, 84.0, 80.0, 62.0, 60.0, 64.0, 29.0, 52.0, 53.0, 67.0, 82.0, 56.0, 79.0, 73.0, 66.0, 52.0, 52.0, 73.0, 66.0, 84.0, 82.0, 74.0, 76.0, 81.0, 79.0, 68.0, 63.0, 50.0, 72.0, 85.0, 83.0, 84.0, 65.0, 85.0, 70.0, 58.0, 86.0, 64.0, 65.0, 61.0, 49.0, 53.0, 97.0, 75.0, 72.0, 74.0, 59.0, 68.0, 78.0, 53.0, 57.0, 72.0, 99.0, 79.0, 91.0, 83.0, 72.0, 61.0, 73.0, 59.0, 100.0, 61.0, 77.0, 71.0, 49.0, 62.0, 86.0, 75.0, 58.0, 47.0, 63.0, 69.0, 70.0, 68.0, 61.0, 71.0, 81.0, 100.0, 84.0, 77.0, 53.0, 71.0, 73.0, 65.0, 49.0, 52.0, 65.0, 59.0, 80.0, 62.0, 57.0, 46.0, 58.0, 67.0, 73.0, 72.0, 40.0, 78.0, 63.0, 61.0, 79.0, 77.0, 70.0, 53.0, 76.0, 45.0, 40.0, 82.0, 78.0, 75.0, 70.0, 55.0, 39.0, 70.0, 30.0, 75.0, 63.0, 82.0, 74.0, 54.0, 71.0, 73.0, 77.0, 77.0, 87.0, 87.0, 74.0, 67.0, 43.0, 49.0, 49.0, 53.0, 64.0, 61.0, 79.0, 69.0, 54.0, 65.0, 77.0, 58.0, 49.0, 73.0, 54.0, 54.0, 64.0, 59.0, 76.0, 75.0, 85.0, 97.0, 53.0, 52.0, 77.0, 79.0, 57.0, 87.0, 66.0, 63.0, 65.0, 68.0, 55.0, 72.0, 86.0, 35.0, 97.0, 75.0, 52.0, 74.0, 70.0, 39.0, 61.0, 44.0, 77.0, 87.0, 66.0, 68.0, 65.0, 62.0, 81.0, 70.0, 74.0, 94.0, 76.0, 59.0, 68.0, 73.0, 100.0, 8.0, 65.0, 40.0, 48.0, 89.0, 77.0, 65.0, 69.0, 68.0, 49.0, 62.0, 50.0, 56.0, 46.0, 53.0, 60.0, 91.0, 90.0, 73.0, 70.0, 47.0, 65.0, 81.0, 55.0, 93.0, 65.0, 62.0, 48.0, 68.0, 66.0, 55.0, 42.0, 54.0, 74.0, 37.0, 66.0, 88.0, 69.0, 61.0, 39.0, 87.0, 64.0, 44.0, 59.0, 80.0, 71.0, 76.0, 53.0, 78.0, 55.0, 70.0, 65.0, 86.0, 47.0, 54.0, 41.0, 78.0, 83.0, 54.0, 90.0, 59.0, 65.0, 67.0, 89.0, 59.0, 73.0, 74.0, 86.0, 55.0, 61.0, 57.0, 58.0, 45.0, 63.0, 61.0, 81.0, 92.0, 67.0, 94.0, 56.0, 62.0, 70.0, 70.0, 76.0, 64.0, 47.0, 66.0, 86.0, 40.0, 66.0, 68.0, 51.0, 45.0, 88.0, 90.0, 52.0, 49.0, 53.0, 71.0, 50.0, 58.0, 42.0, 67.0, 39.0, 85.0, 62.0, 78.0, 73.0, 68.0, 89.0, 40.0, 82.0, 69.0, 77.0, 69.0, 79.0, 53.0, 43.0, 58.0, 76.0, 88.0, 69.0, 49.0, 85.0, 69.0, 72.0, 57.0, 58.0, 62.0, 62.0, 75.0, 88.0, 81.0, 67.0, 67.0, 74.0, 74.0, 95.0, 71.0, 85.0, 56.0, 82.0, 85.0, 60.0, 63.0, 51.0, 50.0, 81.0, 87.0, 46.0, 58.0, 62.0, 76.0, 60.0, 50.0, 77.0, 64.0, 61.0, 60.0, 67.0, 64.0, 90.0, 59.0, 53.0, 48.0, 60.0, 82.0, 58.0, 60.0, 66.0, 85.0, 49.0, 77.0, 67.0, 69.0, 50.0, 62.0, 83.0, 81.0, 92.0, 70.0, 72.0, 92.0, 51.0, 87.0, 71.0, 59.0, 88.0, 61.0, 82.0, 71.0, 75.0, 43.0, 51.0, 62.0, 75.0, 63.0, 71.0, 67.0, 71.0, 61.0, 56.0, 98.0, 82.0, 75.0, 59.0, 71.0, 44.0, 77.0, 65.0, 57.0, 60.0, 27.0, 58.0, 70.0, 38.0, 42.0, 100.0, 89.0, 35.0, 74.0, 77.0, 62.0, 79.0, 46.0, 74.0, 59.0, 66.0, 47.0, 77.0, 78.0, 52.0, 70.0, 58.0, 68.0, 69.0, 87.0, 52.0, 72.0, 85.0, 41.0, 61.0, 67.0, 54.0, 75.0, 80.0, 63.0, 52.0, 62.0, 58.0, 62.0, 65.0, 74.0, 79.0, 68.0, 63.0, 52.0, 59.0, 55.0, 66.0, 38.0, 74.0, 91.0, 64.0, 74.0, 81.0, 79.0, 90.0, 54.0, 78.0, 46.0, 88.0, 62.0, 80.0, 80.0, 71.0, 64.0, 75.0, 60.0, 68.0, 88.0, 55.0, 50.0, 42.0, 69.0, 42.0, 58.0, 24.0, 48.0, 67.0, 59.0, 59.0, 96.0, 45.0, 88.0, 72.0, 61.0, 81.0, 59.0, 73.0, 79.0, 68.0, 47.0, 64.0, 49.0, 54.0, 71.0, 59.0, 89.0, 37.0, 59.0, 57.0, 47.0, 77.0, 62.0, 77.0, 51.0, 69.0, 74.0, 60.0, 76.0, 51.0, 32.0, 73.0, 49.0, 76.0, 64.0, 62.0, 63.0, 50.0, 44.0, 66.0, 67.0, 61.0, 75.0, 69.0, 76.0, 65.0, 53.0, 87.0, 53.0, 66.0, 49.0, 67.0, 55.0, 30.0, 73.0, 62.0, 79.0, 63.0, 52.0, 58.0, 78.0, 81.0, 74.0, 68.0, 82.0, 73.0, 59.0, 74.0, 62.0, 84.0, 67.0, 81.0, 33.0, 59.0, 87.0, 77.0, 58.0, 69.0, 65.0, 92.0, 87.0, 69.0, 73.0, 61.0, 55.0, 67.0, 69.0, 74.0, 64.0, 56.0, 36.0, 41.0, 49.0, 59.0, 34.0, 84.0, 76.0, 61.0, 62.0, 87.0, 67.0, 54.0, 59.0, 68.0, 67.0, 91.0, 80.0, 96.0, 68.0, 74.0, 71.0, 35.0, 81.0, 53.0, 80.0, 76.0, 76.0, 63.0, 57.0, 58.0, 72.0, 55.0, 53.0, 80.0, 41.0, 55.0, 51.0, 85.0, 81.0, 52.0, 18.0, 73.0, 48.0, 56.0, 63.0, 58.0, 32.0, 59.0, 63.0, 63.0, 80.0, 60.0, 64.0, 98.0, 59.0, 65.0, 87.0, 66.0, 52.0, 73.0, 87.0, 79.0, 60.0, 81.0, 74.0, 69.0, 47.0, 47.0, 79.0, 82.0, 92.0, 57.0, 41.0, 49.0, 88.0, 79.0, 59.0, 71.0, 81.0, 65.0, 82.0, 65.0, 40.0, 73.0, 56.0, 69.0, 67.0, 91.0, 67.0, 87.0, 65.0, 58.0, 55.0, 48.0, 88.0, 53.0, 85.0, 62.0, 65.0, 82.0, 62.0, 63.0, 84.0, 77.0, 50.0, 69.0, 0.0, 65.0, 79.0, 69.0, 72.0, 100.0, 65.0, 47.0, 99.0, 51.0, 71.0, 82.0, 91.0, 55.0, 75.0, 66.0, 95.0, 72.0, 70.0, 57.0, 84.0, 61.0, 45.0, 65.0, 27.0, 88.0, 65.0, 63.0, 78.0, 65.0, 90.0, 100.0, 67.0, 74.0, 76.0, 66.0, 59.0, 62.0, 41.0, 29.0, 69.0, 23.0, 66.0, 54.0, 68.0], \"xaxis\": \"x\", \"xbins\": {\"end\": 100.0, \"size\": 0.2, \"start\": 0.0}, \"yaxis\": \"y\"}, {\"autobinx\": false, \"histnorm\": \"probability density\", \"legendgroup\": \"reading\", \"marker\": {\"color\": \"rgb(255, 127, 14)\"}, \"name\": \"reading\", \"opacity\": 0.7, \"type\": \"histogram\", \"x\": [46.0, 78.0, 66.0, 75.0, 86.0, 61.0, 68.0, 48.0, 61.0, 73.0, 78.0, 76.0, 65.0, 74.0, 57.0, 69.0, 42.0, 82.0, 61.0, 73.0, 75.0, 100.0, 76.0, 61.0, 81.0, 72.0, 83.0, 64.0, 76.0, 86.0, 88.0, 74.0, 72.0, 61.0, 64.0, 61.0, 59.0, 67.0, 62.0, 29.0, 79.0, 67.0, 58.0, 55.0, 87.0, 28.0, 67.0, 74.0, 64.0, 59.0, 79.0, 73.0, 60.0, 59.0, 92.0, 76.0, 85.0, 94.0, 85.0, 62.0, 48.0, 48.0, 54.0, 54.0, 82.0, 82.0, 65.0, 71.0, 90.0, 84.0, 75.0, 88.0, 93.0, 81.0, 93.0, 57.0, 74.0, 54.0, 84.0, 90.0, 41.0, 73.0, 68.0, 78.0, 74.0, 62.0, 90.0, 63.0, 74.0, 64.0, 68.0, 73.0, 56.0, 70.0, 72.0, 83.0, 59.0, 87.0, 99.0, 73.0, 43.0, 68.0, 85.0, 81.0, 72.0, 78.0, 70.0, 51.0, 72.0, 50.0, 85.0, 66.0, 78.0, 77.0, 45.0, 60.0, 93.0, 61.0, 64.0, 83.0, 66.0, 61.0, 77.0, 57.0, 67.0, 78.0, 70.0, 79.0, 68.0, 81.0, 67.0, 54.0, 60.0, 51.0, 51.0, 57.0, 38.0, 77.0, 79.0, 58.0, 51.0, 72.0, 62.0, 56.0, 51.0, 83.0, 76.0, 78.0, 95.0, 89.0, 87.0, 66.0, 49.0, 53.0, 57.0, 73.0, 68.0, 71.0, 63.0, 86.0, 58.0, 51.0, 64.0, 71.0, 48.0, 93.0, 72.0, 60.0, 61.0, 73.0, 54.0, 48.0, 73.0, 74.0, 77.0, 74.0, 70.0, 90.0, 74.0, 51.0, 68.0, 72.0, 81.0, 76.0, 63.0, 62.0, 59.0, 47.0, 66.0, 74.0, 78.0, 86.0, 100.0, 58.0, 64.0, 81.0, 63.0, 71.0, 91.0, 75.0, 84.0, 94.0, 61.0, 84.0, 49.0, 63.0, 82.0, 81.0, 49.0, 42.0, 77.0, 76.0, 66.0, 88.0, 83.0, 81.0, 34.0, 39.0, 52.0, 64.0, 82.0, 81.0, 80.0, 59.0, 78.0, 72.0, 64.0, 81.0, 70.0, 52.0, 58.0, 73.0, 70.0, 87.0, 64.0, 66.0, 57.0, 89.0, 75.0, 56.0, 70.0, 75.0, 69.0, 57.0, 43.0, 54.0, 54.0, 53.0, 59.0, 41.0, 31.0, 75.0, 74.0, 39.0, 57.0, 87.0, 84.0, 54.0, 54.0, 64.0, 88.0, 23.0, 71.0, 57.0, 53.0, 85.0, 58.0, 100.0, 80.0, 47.0, 84.0, 81.0, 82.0, 64.0, 58.0, 73.0, 77.0, 79.0, 78.0, 68.0, 86.0, 77.0, 75.0, 70.0, 66.0, 62.0, 40.0, 65.0, 61.0, 61.0, 95.0, 79.0, 76.0, 68.0, 74.0, 66.0, 67.0, 86.0, 65.0, 73.0, 75.0, 77.0, 71.0, 72.0, 89.0, 71.0, 78.0, 56.0, 65.0, 92.0, 78.0, 95.0, 77.0, 86.0, 70.0, 63.0, 80.0, 82.0, 81.0, 55.0, 51.0, 51.0, 97.0, 72.0, 73.0, 79.0, 67.0, 68.0, 77.0, 58.0, 78.0, 57.0, 100.0, 89.0, 73.0, 72.0, 79.0, 62.0, 74.0, 54.0, 96.0, 66.0, 79.0, 67.0, 53.0, 61.0, 92.0, 81.0, 62.0, 59.0, 75.0, 67.0, 75.0, 63.0, 56.0, 66.0, 97.0, 100.0, 77.0, 90.0, 44.0, 83.0, 68.0, 82.0, 49.0, 59.0, 75.0, 60.0, 64.0, 49.0, 43.0, 43.0, 73.0, 54.0, 66.0, 72.0, 43.0, 83.0, 65.0, 72.0, 74.0, 82.0, 84.0, 54.0, 62.0, 53.0, 58.0, 85.0, 72.0, 66.0, 64.0, 55.0, 42.0, 89.0, 26.0, 84.0, 64.0, 82.0, 81.0, 59.0, 84.0, 84.0, 88.0, 88.0, 84.0, 74.0, 73.0, 64.0, 62.0, 52.0, 65.0, 54.0, 53.0, 86.0, 92.0, 71.0, 52.0, 86.0, 91.0, 61.0, 63.0, 76.0, 64.0, 53.0, 58.0, 72.0, 74.0, 69.0, 84.0, 92.0, 70.0, 55.0, 76.0, 72.0, 77.0, 85.0, 69.0, 73.0, 85.0, 67.0, 58.0, 66.0, 76.0, 55.0, 87.0, 68.0, 49.0, 70.0, 82.0, 52.0, 74.0, 50.0, 90.0, 84.0, 65.0, 77.0, 67.0, 67.0, 66.0, 63.0, 75.0, 90.0, 78.0, 70.0, 68.0, 66.0, 100.0, 24.0, 64.0, 65.0, 66.0, 84.0, 82.0, 73.0, 77.0, 72.0, 51.0, 69.0, 50.0, 68.0, 56.0, 55.0, 51.0, 95.0, 90.0, 56.0, 72.0, 49.0, 65.0, 77.0, 46.0, 100.0, 70.0, 61.0, 45.0, 59.0, 69.0, 46.0, 55.0, 65.0, 77.0, 56.0, 63.0, 78.0, 77.0, 71.0, 64.0, 100.0, 63.0, 41.0, 78.0, 79.0, 87.0, 87.0, 58.0, 81.0, 73.0, 70.0, 69.0, 73.0, 49.0, 52.0, 51.0, 81.0, 80.0, 64.0, 90.0, 58.0, 81.0, 79.0, 84.0, 63.0, 71.0, 90.0, 83.0, 56.0, 58.0, 78.0, 52.0, 37.0, 63.0, 70.0, 91.0, 100.0, 73.0, 87.0, 52.0, 66.0, 65.0, 74.0, 83.0, 74.0, 54.0, 74.0, 85.0, 52.0, 74.0, 74.0, 31.0, 73.0, 84.0, 95.0, 57.0, 53.0, 52.0, 74.0, 48.0, 55.0, 52.0, 57.0, 39.0, 90.0, 61.0, 74.0, 78.0, 70.0, 100.0, 42.0, 67.0, 80.0, 85.0, 84.0, 86.0, 62.0, 45.0, 55.0, 85.0, 77.0, 70.0, 50.0, 91.0, 60.0, 80.0, 50.0, 61.0, 67.0, 63.0, 77.0, 99.0, 91.0, 78.0, 69.0, 71.0, 79.0, 81.0, 74.0, 84.0, 54.0, 62.0, 84.0, 64.0, 72.0, 52.0, 64.0, 75.0, 85.0, 43.0, 68.0, 55.0, 72.0, 68.0, 42.0, 89.0, 50.0, 68.0, 59.0, 57.0, 73.0, 85.0, 73.0, 45.0, 56.0, 70.0, 90.0, 67.0, 75.0, 59.0, 95.0, 52.0, 69.0, 76.0, 79.0, 60.0, 56.0, 85.0, 71.0, 100.0, 56.0, 79.0, 100.0, 63.0, 73.0, 70.0, 52.0, 99.0, 64.0, 93.0, 69.0, 82.0, 53.0, 49.0, 55.0, 81.0, 55.0, 83.0, 72.0, 83.0, 56.0, 61.0, 86.0, 84.0, 88.0, 62.0, 75.0, 45.0, 68.0, 76.0, 48.0, 60.0, 34.0, 50.0, 64.0, 43.0, 66.0, 92.0, 76.0, 44.0, 72.0, 62.0, 64.0, 82.0, 41.0, 64.0, 70.0, 77.0, 37.0, 68.0, 77.0, 48.0, 71.0, 57.0, 54.0, 72.0, 94.0, 53.0, 80.0, 89.0, 39.0, 71.0, 89.0, 48.0, 81.0, 90.0, 63.0, 58.0, 55.0, 60.0, 67.0, 77.0, 88.0, 73.0, 68.0, 80.0, 70.0, 42.0, 47.0, 60.0, 60.0, 76.0, 86.0, 64.0, 63.0, 74.0, 82.0, 78.0, 58.0, 82.0, 43.0, 92.0, 67.0, 86.0, 63.0, 79.0, 85.0, 86.0, 72.0, 60.0, 75.0, 61.0, 60.0, 61.0, 75.0, 39.0, 75.0, 38.0, 51.0, 84.0, 62.0, 62.0, 96.0, 47.0, 85.0, 67.0, 67.0, 80.0, 53.0, 76.0, 85.0, 75.0, 62.0, 79.0, 58.0, 60.0, 71.0, 58.0, 87.0, 45.0, 85.0, 58.0, 43.0, 67.0, 68.0, 67.0, 58.0, 77.0, 71.0, 63.0, 78.0, 60.0, 34.0, 78.0, 57.0, 62.0, 76.0, 64.0, 78.0, 53.0, 51.0, 62.0, 84.0, 60.0, 58.0, 84.0, 76.0, 73.0, 72.0, 90.0, 66.0, 83.0, 65.0, 74.0, 72.0, 24.0, 92.0, 62.0, 60.0, 57.0, 65.0, 76.0, 90.0, 86.0, 89.0, 76.0, 97.0, 70.0, 66.0, 86.0, 68.0, 83.0, 86.0, 88.0, 41.0, 65.0, 95.0, 97.0, 51.0, 66.0, 66.0, 100.0, 74.0, 54.0, 67.0, 60.0, 59.0, 81.0, 90.0, 81.0, 60.0, 65.0, 53.0, 52.0, 58.0, 69.0, 42.0, 87.0, 83.0, 72.0, 67.0, 89.0, 75.0, 64.0, 63.0, 67.0, 84.0, 74.0, 80.0, 100.0, 64.0, 75.0, 76.0, 61.0, 78.0, 37.0, 76.0, 71.0, 70.0, 71.0, 68.0, 70.0, 66.0, 65.0, 71.0, 92.0, 55.0, 69.0, 56.0, 76.0, 92.0, 59.0, 32.0, 79.0, 54.0, 58.0, 67.0, 49.0, 39.0, 73.0, 60.0, 73.0, 90.0, 44.0, 56.0, 100.0, 71.0, 69.0, 91.0, 76.0, 55.0, 75.0, 84.0, 67.0, 72.0, 78.0, 79.0, 60.0, 58.0, 46.0, 77.0, 80.0, 79.0, 69.0, 45.0, 58.0, 95.0, 78.0, 70.0, 62.0, 81.0, 81.0, 78.0, 69.0, 46.0, 80.0, 72.0, 58.0, 72.0, 96.0, 75.0, 100.0, 74.0, 59.0, 41.0, 58.0, 93.0, 61.0, 66.0, 67.0, 84.0, 82.0, 70.0, 61.0, 80.0, 62.0, 64.0, 65.0, 17.0, 67.0, 86.0, 86.0, 67.0, 100.0, 58.0, 57.0, 87.0, 51.0, 74.0, 82.0, 96.0, 65.0, 82.0, 66.0, 89.0, 72.0, 55.0, 56.0, 89.0, 48.0, 52.0, 59.0, 34.0, 73.0, 82.0, 66.0, 81.0, 72.0, 87.0, 97.0, 74.0, 75.0, 67.0, 72.0, 64.0, 76.0, 46.0, 29.0, 75.0, 44.0, 74.0, 61.0, 80.0], \"xaxis\": \"x\", \"xbins\": {\"end\": 100.0, \"size\": 0.2, \"start\": 17.0}, \"yaxis\": \"y\"}, {\"autobinx\": false, \"histnorm\": \"probability density\", \"legendgroup\": \"witring\", \"marker\": {\"color\": \"rgb(44, 160, 44)\"}, \"name\": \"witring\", \"opacity\": 0.7, \"type\": \"histogram\", \"x\": [46.0, 81.0, 63.0, 76.0, 87.0, 69.0, 64.0, 41.0, 61.0, 71.0, 82.0, 70.0, 58.0, 72.0, 62.0, 68.0, 46.0, 74.0, 60.0, 68.0, 77.0, 100.0, 74.0, 55.0, 80.0, 70.0, 75.0, 67.0, 78.0, 88.0, 85.0, 74.0, 65.0, 54.0, 62.0, 62.0, 54.0, 63.0, 60.0, 27.0, 76.0, 72.0, 57.0, 53.0, 78.0, 27.0, 70.0, 61.0, 67.0, 65.0, 79.0, 71.0, 61.0, 64.0, 85.0, 65.0, 87.0, 95.0, 85.0, 60.0, 47.0, 50.0, 56.0, 52.0, 88.0, 82.0, 61.0, 65.0, 92.0, 86.0, 73.0, 78.0, 91.0, 81.0, 93.0, 58.0, 70.0, 53.0, 78.0, 88.0, 42.0, 74.0, 67.0, 77.0, 78.0, 60.0, 83.0, 61.0, 74.0, 66.0, 64.0, 70.0, 51.0, 70.0, 59.0, 83.0, 54.0, 85.0, 100.0, 72.0, 43.0, 63.0, 82.0, 71.0, 65.0, 78.0, 74.0, 43.0, 74.0, 60.0, 85.0, 61.0, 76.0, 77.0, 45.0, 58.0, 95.0, 71.0, 57.0, 78.0, 59.0, 58.0, 74.0, 46.0, 62.0, 78.0, 74.0, 81.0, 72.0, 82.0, 73.0, 50.0, 59.0, 44.0, 57.0, 54.0, 32.0, 73.0, 74.0, 57.0, 52.0, 69.0, 53.0, 54.0, 48.0, 90.0, 75.0, 83.0, 94.0, 92.0, 91.0, 62.0, 45.0, 58.0, 52.0, 63.0, 60.0, 74.0, 59.0, 86.0, 55.0, 54.0, 63.0, 73.0, 46.0, 90.0, 79.0, 58.0, 66.0, 72.0, 41.0, 42.0, 70.0, 72.0, 77.0, 76.0, 67.0, 85.0, 66.0, 54.0, 72.0, 68.0, 85.0, 76.0, 62.0, 60.0, 58.0, 56.0, 64.0, 75.0, 72.0, 83.0, 100.0, 56.0, 66.0, 71.0, 67.0, 76.0, 96.0, 68.0, 80.0, 87.0, 52.0, 82.0, 47.0, 65.0, 84.0, 79.0, 52.0, 41.0, 73.0, 83.0, 65.0, 82.0, 76.0, 79.0, 36.0, 33.0, 45.0, 58.0, 80.0, 79.0, 73.0, 62.0, 73.0, 70.0, 61.0, 75.0, 68.0, 49.0, 64.0, 73.0, 68.0, 91.0, 68.0, 68.0, 56.0, 86.0, 69.0, 57.0, 66.0, 70.0, 74.0, 56.0, 45.0, 57.0, 45.0, 58.0, 51.0, 47.0, 38.0, 78.0, 69.0, 37.0, 51.0, 90.0, 90.0, 51.0, 58.0, 66.0, 94.0, 19.0, 69.0, 56.0, 46.0, 82.0, 57.0, 100.0, 81.0, 54.0, 91.0, 80.0, 84.0, 70.0, 52.0, 68.0, 73.0, 78.0, 79.0, 70.0, 84.0, 74.0, 69.0, 75.0, 70.0, 68.0, 44.0, 69.0, 68.0, 68.0, 89.0, 72.0, 65.0, 66.0, 69.0, 73.0, 72.0, 82.0, 69.0, 69.0, 77.0, 73.0, 72.0, 77.0, 86.0, 75.0, 80.0, 54.0, 68.0, 93.0, 73.0, 92.0, 74.0, 98.0, 70.0, 73.0, 75.0, 77.0, 81.0, 52.0, 51.0, 51.0, 96.0, 62.0, 74.0, 75.0, 61.0, 67.0, 77.0, 44.0, 67.0, 62.0, 100.0, 89.0, 80.0, 78.0, 77.0, 61.0, 72.0, 67.0, 86.0, 61.0, 80.0, 67.0, 53.0, 55.0, 87.0, 71.0, 59.0, 50.0, 81.0, 69.0, 74.0, 54.0, 55.0, 60.0, 96.0, 93.0, 71.0, 91.0, 42.0, 83.0, 66.0, 81.0, 41.0, 56.0, 77.0, 58.0, 66.0, 52.0, 47.0, 41.0, 68.0, 63.0, 62.0, 71.0, 39.0, 80.0, 61.0, 70.0, 72.0, 89.0, 81.0, 48.0, 60.0, 55.0, 54.0, 86.0, 70.0, 73.0, 72.0, 47.0, 38.0, 88.0, 22.0, 80.0, 66.0, 80.0, 83.0, 50.0, 87.0, 85.0, 87.0, 85.0, 87.0, 70.0, 67.0, 70.0, 61.0, 51.0, 61.0, 48.0, 57.0, 87.0, 89.0, 65.0, 52.0, 80.0, 88.0, 52.0, 56.0, 80.0, 68.0, 47.0, 51.0, 80.0, 73.0, 68.0, 89.0, 86.0, 70.0, 57.0, 77.0, 69.0, 80.0, 73.0, 63.0, 78.0, 76.0, 73.0, 52.0, 66.0, 74.0, 60.0, 82.0, 65.0, 46.0, 69.0, 76.0, 46.0, 72.0, 51.0, 84.0, 85.0, 60.0, 80.0, 65.0, 58.0, 64.0, 58.0, 83.0, 91.0, 80.0, 66.0, 64.0, 66.0, 100.0, 23.0, 62.0, 64.0, 65.0, 82.0, 91.0, 75.0, 69.0, 64.0, 43.0, 69.0, 47.0, 74.0, 57.0, 48.0, 56.0, 94.0, 91.0, 57.0, 76.0, 50.0, 63.0, 79.0, 44.0, 95.0, 71.0, 57.0, 41.0, 62.0, 68.0, 43.0, 54.0, 65.0, 76.0, 47.0, 64.0, 75.0, 78.0, 73.0, 57.0, 95.0, 66.0, 38.0, 76.0, 79.0, 82.0, 85.0, 65.0, 86.0, 73.0, 65.0, 76.0, 70.0, 49.0, 51.0, 48.0, 80.0, 73.0, 65.0, 82.0, 59.0, 73.0, 84.0, 77.0, 75.0, 68.0, 88.0, 86.0, 51.0, 62.0, 79.0, 54.0, 37.0, 62.0, 76.0, 89.0, 97.0, 68.0, 92.0, 55.0, 68.0, 60.0, 71.0, 88.0, 75.0, 53.0, 73.0, 91.0, 43.0, 81.0, 74.0, 36.0, 70.0, 75.0, 93.0, 50.0, 52.0, 42.0, 64.0, 53.0, 53.0, 51.0, 53.0, 34.0, 92.0, 58.0, 72.0, 76.0, 66.0, 100.0, 38.0, 61.0, 71.0, 87.0, 85.0, 92.0, 56.0, 50.0, 48.0, 82.0, 77.0, 63.0, 52.0, 89.0, 54.0, 83.0, 54.0, 66.0, 69.0, 56.0, 83.0, 100.0, 87.0, 79.0, 75.0, 78.0, 82.0, 84.0, 68.0, 78.0, 52.0, 62.0, 82.0, 74.0, 70.0, 44.0, 66.0, 78.0, 93.0, 44.0, 61.0, 55.0, 71.0, 72.0, 48.0, 98.0, 43.0, 66.0, 54.0, 59.0, 71.0, 84.0, 72.0, 40.0, 58.0, 70.0, 94.0, 72.0, 74.0, 52.0, 100.0, 54.0, 68.0, 75.0, 81.0, 59.0, 53.0, 90.0, 73.0, 100.0, 51.0, 82.0, 100.0, 61.0, 72.0, 76.0, 46.0, 95.0, 62.0, 93.0, 68.0, 79.0, 53.0, 51.0, 49.0, 84.0, 63.0, 78.0, 74.0, 77.0, 56.0, 60.0, 90.0, 82.0, 85.0, 64.0, 70.0, 45.0, 69.0, 76.0, 51.0, 60.0, 36.0, 45.0, 70.0, 43.0, 69.0, 97.0, 74.0, 43.0, 72.0, 62.0, 64.0, 82.0, 43.0, 60.0, 65.0, 70.0, 35.0, 77.0, 80.0, 49.0, 74.0, 53.0, 53.0, 77.0, 95.0, 49.0, 75.0, 95.0, 34.0, 78.0, 82.0, 52.0, 74.0, 89.0, 60.0, 58.0, 54.0, 57.0, 67.0, 74.0, 90.0, 67.0, 61.0, 80.0, 62.0, 41.0, 44.0, 57.0, 50.0, 73.0, 84.0, 70.0, 57.0, 71.0, 73.0, 81.0, 61.0, 79.0, 42.0, 95.0, 62.0, 83.0, 63.0, 71.0, 85.0, 79.0, 74.0, 53.0, 76.0, 54.0, 60.0, 58.0, 78.0, 34.0, 77.0, 27.0, 46.0, 86.0, 69.0, 61.0, 99.0, 49.0, 76.0, 65.0, 66.0, 76.0, 52.0, 78.0, 86.0, 81.0, 66.0, 77.0, 55.0, 63.0, 80.0, 47.0, 79.0, 38.0, 80.0, 57.0, 41.0, 64.0, 75.0, 68.0, 54.0, 77.0, 80.0, 59.0, 75.0, 58.0, 38.0, 74.0, 52.0, 66.0, 74.0, 55.0, 79.0, 55.0, 55.0, 64.0, 81.0, 55.0, 62.0, 82.0, 74.0, 68.0, 64.0, 88.0, 73.0, 83.0, 55.0, 77.0, 79.0, 15.0, 84.0, 63.0, 65.0, 56.0, 61.0, 78.0, 93.0, 87.0, 84.0, 67.0, 96.0, 75.0, 67.0, 89.0, 68.0, 78.0, 83.0, 90.0, 43.0, 66.0, 86.0, 94.0, 52.0, 60.0, 62.0, 99.0, 76.0, 55.0, 59.0, 57.0, 59.0, 79.0, 88.0, 76.0, 74.0, 63.0, 43.0, 51.0, 60.0, 65.0, 39.0, 81.0, 79.0, 70.0, 61.0, 94.0, 70.0, 67.0, 64.0, 69.0, 84.0, 76.0, 72.0, 100.0, 66.0, 82.0, 70.0, 54.0, 78.0, 40.0, 64.0, 67.0, 69.0, 69.0, 73.0, 67.0, 72.0, 62.0, 67.0, 88.0, 51.0, 65.0, 53.0, 71.0, 91.0, 62.0, 28.0, 84.0, 53.0, 64.0, 67.0, 42.0, 33.0, 69.0, 57.0, 68.0, 82.0, 47.0, 52.0, 99.0, 70.0, 67.0, 81.0, 68.0, 49.0, 80.0, 76.0, 67.0, 68.0, 81.0, 80.0, 63.0, 67.0, 42.0, 75.0, 77.0, 84.0, 68.0, 40.0, 60.0, 92.0, 77.0, 73.0, 50.0, 84.0, 77.0, 74.0, 70.0, 50.0, 82.0, 65.0, 53.0, 67.0, 91.0, 72.0, 100.0, 77.0, 66.0, 48.0, 54.0, 93.0, 62.0, 71.0, 64.0, 84.0, 80.0, 72.0, 54.0, 80.0, 64.0, 59.0, 74.0, 10.0, 62.0, 81.0, 81.0, 64.0, 100.0, 49.0, 44.0, 81.0, 54.0, 68.0, 88.0, 92.0, 62.0, 90.0, 59.0, 92.0, 74.0, 56.0, 54.0, 90.0, 46.0, 49.0, 53.0, 32.0, 78.0, 78.0, 67.0, 82.0, 74.0, 75.0, 99.0, 70.0, 79.0, 67.0, 70.0, 75.0, 80.0, 43.0, 30.0, 71.0, 36.0, 81.0, 62.0, 76.0], \"xaxis\": \"x\", \"xbins\": {\"end\": 100.0, \"size\": 0.2, \"start\": 10.0}, \"yaxis\": \"y\"}, {\"legendgroup\": \"math\", \"marker\": {\"color\": \"rgb(31, 119, 180)\"}, \"mode\": \"lines\", \"name\": \"math\", \"showlegend\": false, \"type\": \"scatter\", \"x\": [0.0, 0.2, 0.4, 0.6, 0.8, 1.0, 1.2, 1.4, 1.6, 1.8, 2.0, 2.2, 2.4, 2.6, 2.8, 3.0, 3.2, 3.4, 3.6, 3.8, 4.0, 4.2, 4.4, 4.6, 4.8, 5.0, 5.2, 5.4, 5.6, 5.8, 6.0, 6.2, 6.4, 6.6, 6.8, 7.0, 7.2, 7.4, 7.6, 7.8, 8.0, 8.2, 8.4, 8.6, 8.8, 9.0, 9.2, 9.4, 9.6, 9.8, 10.0, 10.2, 10.4, 10.6, 10.8, 11.0, 11.2, 11.4, 11.6, 11.8, 12.0, 12.2, 12.4, 12.6, 12.8, 13.0, 13.2, 13.4, 13.6, 13.8, 14.0, 14.2, 14.4, 14.6, 14.8, 15.0, 15.2, 15.4, 15.6, 15.8, 16.0, 16.2, 16.4, 16.6, 16.8, 17.0, 17.2, 17.4, 17.6, 17.8, 18.0, 18.2, 18.4, 18.6, 18.8, 19.0, 19.2, 19.4, 19.6, 19.8, 20.0, 20.2, 20.4, 20.6, 20.8, 21.0, 21.2, 21.4, 21.6, 21.8, 22.0, 22.2, 22.4, 22.6, 22.8, 23.0, 23.2, 23.4, 23.6, 23.8, 24.0, 24.2, 24.4, 24.6, 24.8, 25.0, 25.2, 25.4, 25.6, 25.8, 26.0, 26.2, 26.4, 26.6, 26.8, 27.0, 27.2, 27.4, 27.6, 27.8, 28.0, 28.2, 28.4, 28.6, 28.8, 29.0, 29.2, 29.4, 29.6, 29.8, 30.0, 30.2, 30.4, 30.6, 30.8, 31.0, 31.2, 31.4, 31.6, 31.8, 32.0, 32.2, 32.4, 32.6, 32.8, 33.0, 33.2, 33.4, 33.6, 33.8, 34.0, 34.2, 34.4, 34.6, 34.8, 35.0, 35.2, 35.4, 35.6, 35.8, 36.0, 36.2, 36.4, 36.6, 36.8, 37.0, 37.2, 37.4, 37.6, 37.8, 38.0, 38.2, 38.4, 38.6, 38.8, 39.0, 39.2, 39.4, 39.6, 39.8, 40.0, 40.2, 40.4, 40.6, 40.8, 41.0, 41.2, 41.4, 41.6, 41.8, 42.0, 42.2, 42.4, 42.6, 42.8, 43.0, 43.2, 43.4, 43.6, 43.8, 44.0, 44.2, 44.4, 44.6, 44.8, 45.0, 45.2, 45.4, 45.6, 45.8, 46.0, 46.2, 46.4, 46.6, 46.8, 47.0, 47.2, 47.4, 47.6, 47.8, 48.0, 48.2, 48.4, 48.6, 48.8, 49.0, 49.2, 49.4, 49.6, 49.8, 50.0, 50.2, 50.4, 50.6, 50.8, 51.0, 51.2, 51.4, 51.6, 51.8, 52.0, 52.2, 52.4, 52.6, 52.8, 53.0, 53.2, 53.4, 53.6, 53.8, 54.0, 54.2, 54.4, 54.6, 54.8, 55.0, 55.2, 55.4, 55.6, 55.8, 56.0, 56.2, 56.4, 56.6, 56.8, 57.0, 57.2, 57.4, 57.6, 57.8, 58.0, 58.2, 58.4, 58.6, 58.8, 59.0, 59.2, 59.4, 59.6, 59.8, 60.0, 60.2, 60.4, 60.6, 60.8, 61.0, 61.2, 61.4, 61.6, 61.8, 62.0, 62.2, 62.4, 62.6, 62.8, 63.0, 63.2, 63.4, 63.6, 63.8, 64.0, 64.2, 64.4, 64.6, 64.8, 65.0, 65.2, 65.4, 65.6, 65.8, 66.0, 66.2, 66.4, 66.6, 66.8, 67.0, 67.2, 67.4, 67.6, 67.8, 68.0, 68.2, 68.4, 68.6, 68.8, 69.0, 69.2, 69.4, 69.6, 69.8, 70.0, 70.2, 70.4, 70.6, 70.8, 71.0, 71.2, 71.4, 71.6, 71.8, 72.0, 72.2, 72.4, 72.6, 72.8, 73.0, 73.2, 73.4, 73.6, 73.8, 74.0, 74.2, 74.4, 74.6, 74.8, 75.0, 75.2, 75.4, 75.6, 75.8, 76.0, 76.2, 76.4, 76.6, 76.8, 77.0, 77.2, 77.4, 77.6, 77.8, 78.0, 78.2, 78.4, 78.6, 78.8, 79.0, 79.2, 79.4, 79.6, 79.8, 80.0, 80.2, 80.4, 80.6, 80.8, 81.0, 81.2, 81.4, 81.6, 81.8, 82.0, 82.2, 82.4, 82.6, 82.8, 83.0, 83.2, 83.4, 83.6, 83.8, 84.0, 84.2, 84.4, 84.6, 84.8, 85.0, 85.2, 85.4, 85.6, 85.8, 86.0, 86.2, 86.4, 86.6, 86.8, 87.0, 87.2, 87.4, 87.6, 87.8, 88.0, 88.2, 88.4, 88.6, 88.8, 89.0, 89.2, 89.4, 89.6, 89.8, 90.0, 90.2, 90.4, 90.6, 90.8, 91.0, 91.2, 91.4, 91.6, 91.8, 92.0, 92.2, 92.4, 92.6, 92.8, 93.0, 93.2, 93.4, 93.6, 93.8, 94.0, 94.2, 94.4, 94.6, 94.8, 95.0, 95.2, 95.4, 95.6, 95.8, 96.0, 96.2, 96.4, 96.6, 96.8, 97.0, 97.2, 97.4, 97.6, 97.8, 98.0, 98.2, 98.4, 98.6, 98.8, 99.0, 99.2, 99.4, 99.6, 99.8], \"xaxis\": \"x\", \"y\": [0.00011628247548045416, 0.0001174663602848948, 0.00011847623857739751, 0.00011932001135507118, 0.00012000735801946884, 0.00012054955455918006, 0.00012095926044167587, 0.00012125027801350934, 0.00012143728889615153, 0.000121535572465542, 0.00012156071200036785, 0.00012152829446303821, 0.00012145361012697487, 0.00012135135837600037, 0.0001212353659714698, 0.00012111832390909964, 0.00012101154867254658, 0.00012092477324059595, 0.00012086597262868422, 0.00012084122805594757, 0.00012085463304148916, 0.0001209082438659924, 0.00012100207590709427, 0.00012113414639048227, 0.00012130056311582619, 0.00012149565774009962, 0.00012171216125303586, 0.00012194141838204311, 0.00012217363683715457, 0.0001223981665689192, 0.00012260380357963964, 0.000122779112314429, 0.00012291276027356899, 0.00012299385823879197, 0.0001230122993971968, 0.0001229590906780214, 0.00012282666978658465, 0.00012260920172039782, 0.00012230284897582909, 0.000121906010188298, 0.00012141952258105399, 0.00012084682431165104, 0.00012019407358440491, 0.00011947022222370197, 0.00011868704225891797, 0.00011785910493889149, 0.00011700371245489948, 0.00011614078348933924, 0.00011529269450755787, 0.00011448407945875996, 0.00011374159123673348, 0.00011309362886225679, 0.0001125700348784891, 0.00011220176789244053, 0.000112020555545771, 0.00011205853345456361, 0.0001123478758199709, 0.00011292042348090142, 0.00011380731515871192, 0.00011503862753585281, 0.00011664302962017334, 0.00011864745657947046, 0.00012107680789277681, 0.00012395367426218276, 0.00012729809726835193, 0.00013112736524124253, 0.00013545584826202224, 0.00014029487462006413, 0.0001456526504277458, 0.0001515342234532398, 0.00015794149157551105, 0.00016487325560451065, 0.00017232531555148, 0.0001802906087880269, 0.00018875938790703179, 0.00019771943550243095, 0.00020715631252745808, 0.0002170536363807624, 0.0002273933844154477, 0.0002381562181753842, 0.0002493218233433149, 0.00026086926014252417, 0.00027277731877313347, 0.00028502487438910397, 0.0002975912361348088, 0.0003104564848609991, 0.0003236017943278006, 0.00033700973097393984, 0.0003506645276819203, 0.00036455232739195803, 0.0003786613929053554, 0.0003929822797616289, 0.0004075079696632092, 0.0004222339625463737, 0.00043715832604637847, 0.00045228170176774815, 0.00046760726843675816, 0.00048314066267242893, 0.0004988898587556043, 0.0005148650093947343, 0.0005310782500746418, 0.0005475434701247079, 0.0005642760541505443, 0.0005812925979341414, 0.0005986106033183669, 0.0006162481569497809, 0.0006342235980565208, 0.0006525551806833337, 0.0006712607359912225, 0.0006903573403521019, 0.0007098609950263183, 0.0007297863231995089, 0.0007501462900712896, 0.0007709519515275765, 0.000792212236686872, 0.0008139337692846239, 0.0008361207324453907, 0.000858774780887645, 0.0008818950040095465, 0.0009054779426167452, 0.0009295176612783276, 0.0009540058774401213, 0.0009789321474943915, 0.001004284109013334, 0.001030047777315661, 0.0010562078934691823, 0.00108274831975854, 0.0011096524775896935, 0.0011369038217867754, 0.0011644863442891124, 0.0011923850994036346, 0.0012205867420369539, 0.0012490800697471617, 0.0012778565590403287, 0.0013069108861097235, 0.0013362414221917117, 0.0013658506939004567, 0.001395745799307749, 0.0014259387711519514, 0.0014564468793821967, 0.0014872928662552419, 0.001518505108381133, 0.001550117701433031, 0.0015821704646640099, 0.0016147088638735127, 0.0016477838529998458, 0.0016814516360424477, 0.0017157733524987195, 0.0017508146908962656, 0.0017866454362765497, 0.0018233389586086587, 0.0018609716500554384, 0.0018996223197587927, 0.0019393715553430908, 0.0019803010606497854, 0.0020224929793143612, 0.0020660292136878526, 0.002110990748305708, 0.002157456986638969, 0.0022055051092540203, 0.0022552094607888365, 0.002306640972359067, 0.0023598666251709406, 0.002414948960273202, 0.0024719456385580976, 0.002530909054349347, 0.0025918860052146706, 0.0026549174200282254, 0.002720038146793081, 0.002787276801317281, 0.0028566556775142223, 0.00292819071985582, 0.003001891558327405, 0.003077761606092344, 0.003155798219944486, 0.003235992923478318, 0.0033183316927096365, 0.003402795303605263, 0.0034893597406030355, 0.003577996664702866, 0.0036686739390719304, 0.0037613562093257447, 0.003856005534725227, 0.003952582065478895, 0.0040510447601809375, 0.004151352136180348, 0.004253463044401207, 0.00435733745886598, 0.004462937269961595, 0.004570227069386437, 0.004679174913779732, 0.00478975305331544, 0.004901938611090827, 0.005015714198997321, 0.005131068455962566, 0.005247996495021827, 0.005366500246625341, 0.005486588686915083, 0.005608277941394233, 0.005731591256437387, 0.005856558833407009, 0.005983217522698331, 0.00611161037776711, 0.006241786072029598, 0.006373798184384506, 0.0065077043619116105, 0.0066435653709697815, 0.006781444050371969, 0.0069214041824830555, 0.007063509299906207, 0.007207821446842757, 0.0073543999151896525, 0.0075032999759545495, 0.0076545716266117735, 0.007808258374600116, 0.007964396076299333, 0.008123011849551979, 0.008284123076173202, 0.008447736508973716, 0.00861384749568088, 0.008782439329856328, 0.008953482736553867, 0.009126935498117647, 0.00930274222326202, 0.009480834260470066, 0.0096611297548557, 0.009843533846001428, 0.010027939002944714, 0.01021422549145658, 0.010402261968040338, 0.010591906194661823, 0.01078300586807454, 0.0109753995576821, 0.011168917746127665, 0.011363383967150765, 0.011558616035633067, 0.011754427365086867, 0.01195062836804934, 0.012147027934855618, 0.012343434986010003, 0.012539660092802014, 0.012735517159881594, 0.012930825162193254, 0.013125409926968623, 0.013319105949408827, 0.013511758228293013, 0.013703224105088741, 0.013893375087298081, 0.014082098633851367, 0.014269299877478556, 0.01445490325627587, 0.014638854024282028, 0.01482111960892621, 0.015001690781846707, 0.015180582608935395, 0.015357835145655783, 0.01553351384480361, 0.015707709646003466, 0.015880538719398225, 0.016052141840200415, 0.01622268337600577, 0.016392349874951164, 0.016561348249831243, 0.016729903561028447, 0.01689825640938937, 0.01706665995879647, 0.01723537661691413, 0.017404674411194736, 0.01757482310546432, 0.01774609011002317, 0.01791873624495263, 0.01809301142199299, 0.018269150314750852, 0.018447368089938555, 0.01862785627371721, 0.01881077882692168, 0.018996268500952644, 0.01918442354244035, 0.01937530480947568, 0.019568933355377433, 0.019765288527774705, 0.01996430662142378, 0.020165880112881507, 0.020369857494177575, 0.0205760437112431, 0.020784201201349828, 0.020994051512481106, 0.021205277476673935, 0.021417525899206463, 0.021630410716298582, 0.021843516565956653, 0.022056402709901446, 0.02226860723930604, 0.022479651493428624, 0.02268904461820068, 0.022896288191425418, 0.02310088084241296, 0.0233023227965468, 0.02350012027932083, 0.023693789719659603, 0.023882861698660263, 0.024066884597076593, 0.024245427902697143, 0.024418085147032125, 0.024584476449202912, 0.024744250653411636, 0.024897087054654238, 0.025042696715244468, 0.025180823382070394, 0.025311244021164653, 0.025433768992017398, 0.02554824188899988, 0.025654539081235574, 0.025752568985211867, 0.025842271106360684, 0.025923614886762956, 0.025996598396088665, 0.026061246901932244, 0.026117611353920867, 0.02616576681345924, 0.026205810857838054, 0.02623786198379715, 0.026262058031626907, 0.02627855464664708, 0.026287523790554535, 0.026289152310814745, 0.026283640572111855, 0.02627120114998912, 0.02625205758331349, 0.026226443179179004, 0.026194599861402646, 0.02615677705192382, 0.026113230573235707, 0.026064221559474233, 0.02601001536396813, 0.025950880451888852, 0.025887087268090882, 0.02581890707223816, 0.02574661073579176, 0.025670467498292063, 0.025590743683496658, 0.025507701379216628, 0.025421597088003303, 0.025332680359050976, 0.025241192414674526, 0.025147364787377013, 0.025051417985734948, 0.02495356020900614, 0.024853986131430562, 0.02475287577759617, 0.024650393509946304, 0.024546687148506354, 0.024441887241222756, 0.02433610650097941, 0.024229439422450993, 0.024121962088557533, 0.02401373217250579, 0.02390478913736296, 0.023795154630937777, 0.023684833069584448, 0.023573812400533536, 0.02346206502862854, 0.02334954889003447, 0.02323620865269707, 0.023121977021164957, 0.023006776121913323, 0.022890518944574705, 0.022773110814510753, 0.02265445087293948, 0.022534433542330336, 0.022412949956929665, 0.02228988934099298, 0.02216514032046812, 0.022038592157364145, 0.021910135899713717, 0.021779665443741644, 0.02164707850843621, 0.021512277526036003, 0.021375170454853612, 0.021235671523236407, 0.021093701915211028, 0.0209491904093943, 0.02080207398303073, 0.02065229839251606, 0.020499818740503214, 0.02034460003770662, 0.02018661776490085, 0.02002585843745786, 0.019862320171213182, 0.019696013244649244, 0.01952696064850077, 0.01935519861009813, 0.019180777076249763, 0.01900376013539751, 0.018824226357320405, 0.01864226902695928, 0.018457996248103285, 0.018271530892813935, 0.0180830103736153, 0.017892586217672323, 0.01770042342539346, 0.017506699600068284, 0.017311603840192445, 0.01711533539190638, 0.016918102065318692, 0.01672011842520952, 0.016521603773503427, 0.016322779947742068, 0.016123868966344188, 0.015925090557489877, 0.0157266596137887, 0.01552878361929114, 0.015331660098707687, 0.015135474140767187, 0.014940396048373782, 0.014746579167547756, 0.014554157945038951, 0.014363246261010978, 0.014173936078379102, 0.013986296444357275, 0.013800372872682745, 0.013616187127024722, 0.013433737417460833, 0.013252999012854864, 0.013073925262740881, 0.012896449013162786, 0.012720484392086357, 0.012545928931730425, 0.012372665987676354, 0.012200567408104107, 0.012029496401134595, 0.011859310544158857, 0.011689864876295154, 0.011521015013783314, 0.011352620228209744, 0.011184546428922441, 0.011016668993771881, 0.01084887539629626, 0.010681067582519852, 0.010513164056492373, 0.01034510164038531, 0.010176836882184953, 0.010008347091585755, 0.009839630992393078, 0.009670708987401107, 0.009501623039141845, 0.009332436176942767, 0.009163231647243622, 0.00899411172998967, 0.008825196249049233, 0.008656620808932043, 0.008488534793573732, 0.008321099165589348, 0.008154484106193412, 0.007988866536969275, 0.007824427564895285, 0.007661349891561543, 0.007499815226415102, 0.00734000174223127, 0.007182081608909866, 0.00702621863921915, 0.00687256607733685, 0.006721264558041919, 0.006572440261256117, 0.006426203283379508, 0.006282646243555398, 0.006141843139673215, 0.00600384846560238, 0.005868696597863721, 0.005736401456699851, 0.005606956443309559, 0.0054803346518661755, 0.00535648935184861, 0.005235354733177934, 0.005116846903677488, 0.005000865125467931, 0.004887293274084067, 0.004776001501377573, 0.004666848080672768, 0.004559681410203947, 0.004454342148619667, 0.004350665454332131, 0.004248483298765596, 0.0041476268221614185, 0.004047928699576927, 0.003949225484114246, 0.0038513598942732544, 0.0037541830126745, 0.0036575563642660775, 0.0035613538435291217, 0.003465463462131968, 0.0033697888909422808, 0.003274250773266972, 0.0031787877896132404, 0.0030833574580997536, 0.0029879366588315905, 0.0028925218750108354, 0.002797129148202075, 0.002701793749916143, 0.0026065695764191416], \"yaxis\": \"y\"}, {\"legendgroup\": \"reading\", \"marker\": {\"color\": \"rgb(255, 127, 14)\"}, \"mode\": \"lines\", \"name\": \"reading\", \"showlegend\": false, \"type\": \"scatter\", \"x\": [17.0, 17.166, 17.332, 17.498, 17.664, 17.83, 17.996, 18.162, 18.328, 18.494, 18.66, 18.826, 18.992, 19.158, 19.323999999999998, 19.490000000000002, 19.656, 19.822, 19.988, 20.154, 20.32, 20.486, 20.652, 20.818, 20.984, 21.15, 21.316, 21.482, 21.648, 21.814, 21.98, 22.146, 22.312, 22.478, 22.644, 22.81, 22.976, 23.142, 23.308, 23.474, 23.64, 23.806, 23.972, 24.137999999999998, 24.304000000000002, 24.47, 24.636, 24.802, 24.968, 25.134, 25.3, 25.466, 25.631999999999998, 25.798000000000002, 25.964, 26.130000000000003, 26.296, 26.462, 26.628, 26.794, 26.96, 27.125999999999998, 27.292, 27.458, 27.624000000000002, 27.79, 27.956, 28.122, 28.288, 28.454, 28.619999999999997, 28.786, 28.951999999999998, 29.118000000000002, 29.284, 29.45, 29.616, 29.782, 29.948, 30.114, 30.28, 30.445999999999998, 30.612000000000002, 30.778, 30.944000000000003, 31.11, 31.276, 31.442, 31.608, 31.774, 31.939999999999998, 32.106, 32.272, 32.438, 32.604, 32.769999999999996, 32.936, 33.102000000000004, 33.268, 33.434, 33.6, 33.766, 33.932, 34.098, 34.263999999999996, 34.43, 34.596000000000004, 34.762, 34.928, 35.094, 35.260000000000005, 35.426, 35.592, 35.757999999999996, 35.924, 36.09, 36.256, 36.422, 36.588, 36.754000000000005, 36.92, 37.086, 37.251999999999995, 37.418, 37.584, 37.75, 37.916, 38.082, 38.248000000000005, 38.414, 38.58, 38.745999999999995, 38.912, 39.078, 39.244, 39.41, 39.576, 39.742000000000004, 39.908, 40.074, 40.239999999999995, 40.406, 40.572, 40.738, 40.903999999999996, 41.07, 41.236000000000004, 41.402, 41.568, 41.734, 41.9, 42.066, 42.232, 42.397999999999996, 42.564, 42.730000000000004, 42.896, 43.062, 43.228, 43.394, 43.56, 43.726, 43.891999999999996, 44.058, 44.224000000000004, 44.39, 44.556, 44.722, 44.888000000000005, 45.054, 45.22, 45.385999999999996, 45.552, 45.718, 45.884, 46.05, 46.216, 46.382000000000005, 46.548, 46.714, 46.879999999999995, 47.046, 47.212, 47.378, 47.544, 47.71, 47.876000000000005, 48.042, 48.208, 48.373999999999995, 48.54, 48.706, 48.872, 49.038, 49.204, 49.37, 49.536, 49.702, 49.868, 50.034, 50.2, 50.366, 50.532, 50.698, 50.864, 51.03, 51.196, 51.362, 51.528, 51.694, 51.86, 52.026, 52.192, 52.358, 52.524, 52.69, 52.856, 53.022, 53.188, 53.354, 53.52, 53.686, 53.852, 54.018, 54.184, 54.35, 54.516, 54.682, 54.848, 55.014, 55.18, 55.346, 55.512, 55.678, 55.844, 56.01, 56.176, 56.342, 56.508, 56.674, 56.84, 57.006, 57.172, 57.338, 57.504, 57.67, 57.836, 58.002, 58.168, 58.334, 58.5, 58.666, 58.832, 58.998, 59.164, 59.33, 59.496, 59.662, 59.828, 59.994, 60.16, 60.326, 60.492, 60.658, 60.824, 60.99, 61.156, 61.322, 61.488, 61.654, 61.82, 61.986, 62.152, 62.318, 62.484, 62.65, 62.816, 62.982, 63.148, 63.314, 63.48, 63.646, 63.812, 63.978, 64.144, 64.31, 64.476, 64.642, 64.80799999999999, 64.97399999999999, 65.14, 65.306, 65.47200000000001, 65.638, 65.804, 65.97, 66.136, 66.30199999999999, 66.468, 66.634, 66.8, 66.96600000000001, 67.132, 67.298, 67.464, 67.63, 67.79599999999999, 67.962, 68.128, 68.294, 68.46000000000001, 68.626, 68.792, 68.958, 69.124, 69.28999999999999, 69.456, 69.622, 69.788, 69.95400000000001, 70.12, 70.286, 70.452, 70.618, 70.78399999999999, 70.95, 71.116, 71.282, 71.44800000000001, 71.614, 71.78, 71.946, 72.112, 72.27799999999999, 72.444, 72.61, 72.77600000000001, 72.94200000000001, 73.108, 73.274, 73.44, 73.606, 73.77199999999999, 73.938, 74.104, 74.27000000000001, 74.436, 74.602, 74.768, 74.934, 75.1, 75.26599999999999, 75.432, 75.598, 75.76400000000001, 75.93, 76.096, 76.262, 76.428, 76.594, 76.75999999999999, 76.926, 77.092, 77.25800000000001, 77.424, 77.59, 77.756, 77.922, 78.088, 78.25399999999999, 78.42, 78.586, 78.75200000000001, 78.918, 79.084, 79.25, 79.416, 79.582, 79.74799999999999, 79.914, 80.08, 80.24600000000001, 80.412, 80.578, 80.744, 80.91, 81.076, 81.242, 81.408, 81.574, 81.74, 81.906, 82.072, 82.238, 82.404, 82.57, 82.736, 82.902, 83.068, 83.234, 83.4, 83.566, 83.732, 83.898, 84.064, 84.23, 84.396, 84.562, 84.728, 84.894, 85.06, 85.226, 85.392, 85.558, 85.724, 85.89, 86.056, 86.222, 86.388, 86.554, 86.72, 86.886, 87.052, 87.218, 87.384, 87.55, 87.716, 87.882, 88.048, 88.214, 88.38, 88.546, 88.712, 88.878, 89.044, 89.21, 89.376, 89.542, 89.708, 89.874, 90.04, 90.206, 90.372, 90.538, 90.704, 90.87, 91.036, 91.202, 91.368, 91.534, 91.7, 91.866, 92.032, 92.198, 92.364, 92.53, 92.696, 92.862, 93.028, 93.194, 93.36, 93.526, 93.692, 93.858, 94.024, 94.19, 94.356, 94.522, 94.688, 94.854, 95.02, 95.186, 95.352, 95.518, 95.684, 95.85, 96.016, 96.182, 96.348, 96.514, 96.68, 96.846, 97.012, 97.178, 97.344, 97.51, 97.676, 97.842, 98.008, 98.174, 98.34, 98.506, 98.672, 98.838, 99.004, 99.17, 99.336, 99.502, 99.668, 99.834], \"xaxis\": \"x\", \"y\": [0.0001802872080051649, 0.00018647014006922615, 0.00019283132167203902, 0.00019938271866134943, 0.00020613640546797877, 0.00021310440263503668, 0.0002202985071333118, 0.00022773011801257678, 0.00023541006011631476, 0.00024334840871811797, 0.0002515543180174094, 0.0002600358564568458, 0.00026879985179155977, 0.00027785174875026184, 0.00028719548198041247, 0.00029683336676571457, 0.0003067660097469211, 0.0003169922415705052, 0.00032750907303939655, 0.0003383116759521852, 0.00034939338939930315, 0.0003607457518449365, 0.00037235855887068783, 0.0003842199460005848, 0.00039631649557651024, 0.00040863336621805603, 0.00042115444299057925, 0.0004338625060287524, 0.00044673941502848665, 0.0004597663067351169, 0.0004729238023266336, 0.0004861922214226314, 0.0004995517993464279, 0.000512982904231836, 0.0005264662505983205, 0.0005399831061180643, 0.0005535154884637128, 0.0005670463493526495, 0.0005805597431875802, 0.0005940409780277628, 0.0006074767470030207, 0.0006208552386954634, 0.0006341662254525821, 0.0006474011290505655, 0.000660553063588483, 0.0006736168559525262, 0.000686589044635157, 0.000699467858117409, 0.0007122531744151803, 0.0007249464637441641, 0.000737550716566287, 0.0007500703595373211, 0.0007625111620761784, 0.0007748801364179708, 0.0007871854340933103, 0.0007994362417949129, 0.0008116426795500185, 0.0008238157040154641, 0.0008359670195544654, 0.0008481089995445155, 0.0008602546201093099, 0.000872417408170113, 0.0008846114053799634, 0.0008968511491444172, 0.0009091516715523846, 0.000921528516647194, 0.0009339977760687192, 0.0009465761426990829, 0.000959280981554044, 0.0009721304167858328, 0.0009851434333068483, 0.000998339991212427, 0.001011741150879454, 0.0010253692063498339, 0.0010392478243770196, 0.0010534021863225203, 0.0010678591299394507, 0.0010826472879731182, 0.0010977972204450632, 0.0011133415374670428, 0.0011293150094549207, 0.0011457546616785437, 0.001162699850191275, 0.001180192316330472, 0.0011982762171660606, 0.0012169981294962902, 0.0012364070252455916, 0.0012565542164064548, 0.0012774932679828113, 0.0012992798777333883, 0.0013219717218769219, 0.0013456282663034357, 0.0013703105432336287, 0.0013960808936780095, 0.0014230026764648928, 0.001451139945027833, 0.0014805570935642802, 0.0015113184745941478, 0.0015434879903552373, 0.001577128660867787, 0.0016123021718786597, 0.001649068406252565, 0.0016874849627092547, 0.0017276066661078091, 0.0017694850737485117, 0.0018131679823956103, 0.001858698940917693, 0.0019061167735934885, 0.001955455119237104, 0.002006741991356214, 0.00205999936456758, 0.002115242792455351, 0.0021724810619678557, 0.0022317158893075525, 0.002292941662076357, 0.002356145232194539, 0.0024213057638168074, 0.002488394640124257, 0.0025573754324771177, 0.0026282039349718803, 0.0027008282669591624, 0.002775189045547522, 0.0028512196295458763, 0.002928846435685774, 0.0030079893273177315, 0.0030885620750967877, 0.003170472888465355, 0.0032536250160110935, 0.003337917412029226, 0.003423245465858251, 0.003509501789792147, 0.003596577060608074, 0.0036843609089946177, 0.003772742850430158, 0.0038616132503536227, 0.003950864315800559, 0.0040403911050565155, 0.004130092546317901, 0.004219872455858833, 0.004309640545791264, 0.004399313411186297, 0.004488815486106382, 0.004578079957990638, 0.004667049629847306, 0.004755677719844863, 0.004843928588162635, 0.004931778381366142, 0.005019215585113886, 0.005106241476680264, 0.00519287046959134, 0.00527913034361096, 0.005365062354377036, 0.005450721218161511, 0.00553617496850077, 0.005621504682801379, 0.005706804078452719, 0.005792178979455426, 0.005877746656082378, 0.0059636350416070304, 0.006049981831640262, 0.006136933473089675, 0.0062246440511722154, 0.006313274084251051, 0.006402989237508974, 0.006493958967594739, 0.006586355111366677, 0.0066803504326938675, 0.006776117141945047, 0.006873825403287699, 0.006973641845225389, 0.0070757280899144195, 0.007180239316717663, 0.00728732287517434, 0.007397116962091132, 0.007509749376798895, 0.007625336367777408, 0.007743981582839718, 0.00786577513390018, 0.007990792786041988, 0.00811909527916744, 0.008250727788976857, 0.00838571953239969, 0.008524083520915186, 0.00866581646347228, 0.008810898818971308, 0.008959294996526458, 0.009110953700010506, 0.009265808411713698, 0.00942377800834919, 0.009584767501128064, 0.00974866889022777, 0.00991536212270669, 0.010084716141791173, 0.0102565900144947, 0.0104308341237346, 0.010607291410500628, 0.01078579865121047, 0.010966187755165098, 0.01114828706699619, 0.011331922659178111, 0.011516919600057214, 0.011703103183425337, 0.011890300106426086, 0.012078339583519008, 0.01226705438532732, 0.012456281792441305, 0.012645864455624116, 0.012835651155349478, 0.013025497455167099, 0.013215266245019208, 0.013404828172292396, 0.013594061960058136, 0.013782854613603986, 0.013971101517959635, 0.014158706430649723, 0.014345581375333706, 0.014531646443297354, 0.014716829510918294, 0.014901065882220536, 0.015084297866441797, 0.015266474301151592, 0.015447550031865381, 0.01562748535929738, 0.015806245465378795, 0.015983799828943126, 0.01616012164155334, 0.01633518723332758, 0.016508975517827738, 0.01668146746412688, 0.016852645603090778, 0.017022493573720727, 0.017190995714138107, 0.01735813670047504, 0.01752390123560115, 0.017688273788295437, 0.017851238382194372, 0.01801277843264437, 0.018172876628484193, 0.01833151485480901, 0.018488674151942677, 0.01864433470518913, 0.01879847585946111, 0.018951076152605904, 0.019102113361167742, 0.019251564552447233, 0.019399406137033583, 0.019545613916487226, 0.01969016312152479, 0.019833028436886193, 0.019974184010023495, 0.020113603441816792, 0.02025125975866495, 0.02038712536648825, 0.020521171988382634, 0.020653370588848786, 0.020783691288649483, 0.020912103275393955, 0.021038574715876477, 0.021163072676979436, 0.021285563062562265, 0.021406010574175044, 0.021524378703639453, 0.021640629765517276, 0.021754724977227004, 0.021866624594069985, 0.02197628810568851, 0.02208367449950659, 0.022188742595512165, 0.022291451455343718, 0.022391760867067418, 0.02248963190529946, 0.02258502756447447, 0.02267791346111809, 0.022768258598989868, 0.022856036188961294, 0.022941224513525697, 0.023023807823946103, 0.023103777256276676, 0.023181131750887936, 0.02325587895872534, 0.02332803611637668, 0.023397630871150474, 0.023464702036808904, 0.023529300260381875, 0.023591488580635193, 0.02365134285929272, 0.023708952067027892, 0.023764418407546842, 0.023817857264777968, 0.023869396960248312, 0.02391917831014395, 0.023967353974291963, 0.024014087592328513, 0.02405955270558833, 0.024103931466715627, 0.024147413142599015, 0.02419019241991392, 0.024232467526249274, 0.024274438183435047, 0.024316303413203427, 0.024358259218641053, 0.024400496167953853, 0.02444319690980534, 0.024486533651841686, 0.024530665635926884, 0.024575736645030193, 0.024621872577593885, 0.024669179125530575, 0.024717739591733647, 0.024767612882120607, 0.02481883170576597, 0.024871401014631166, 0.02492529671178361, 0.024980464653852574, 0.025036819969838225, 0.02509424671432863, 0.02515259786875076, 0.025211695699557436, 0.025271332477311805, 0.025331271555556197, 0.025391248803230904, 0.025450974379327786, 0.025510134833511163, 0.02556839551170008, 0.02562540324116304, 0.025680789265604322, 0.025734172397089305, 0.025785162348524442, 0.02583336320782641, 0.025878377012923844, 0.02591980738536311, 0.02595726317955177, 0.025990362104575903, 0.026018734276061446, 0.026042025656697533, 0.0260599013457705, 0.0260720486803324, 0.026078180113397888, 0.02607803583777277, 0.026071386127703794, 0.026058033374435054, 0.02603781379589202, 0.026010598805017306, 0.02597629602568135, 0.025934849949515837, 0.02588624223139971, 0.025830491625604628, 0.02576765356871877, 0.025697819419364228, 0.025621115368356616, 0.0255377010362892, 0.025447767778525334, 0.02535153672023045, 0.025249256546351784, 0.025141201073351764, 0.025027666631018824, 0.024908969283820335, 0.02478544192203754, 0.024657431253345786, 0.02452529472559359, 0.024389397411312557, 0.024250108883981086, 0.024107800115292278, 0.02396284042166675, 0.023815594487029988, 0.0236664194874647, 0.023515662341777707, 0.02336365711030739, 0.02321072256246464, 0.0230571599315644, 0.02290325087348388, 0.022749255643591773, 0.022595411504243382, 0.022441931372942415, 0.022289002719039778, 0.022136786714586836, 0.021985417642690734, 0.021835002564446458, 0.021685621243252032, 0.02153732632306219, 0.021390143754913403, 0.021244073463873418, 0.021099090246446354, 0.02095514488641506, 0.020812165475145823, 0.020670058920533033, 0.020528712627045344, 0.02038799632776928, 0.02024776404795325, 0.02010785617835446, 0.019968101635704977, 0.019828320086857986, 0.019688324212670458, 0.019547921987437183, 0.01940691894972643, 0.019265120440786425, 0.019122333787299866, 0.018978370406160145, 0.0188330478101228, 0.0186861914946402, 0.018537636687900275, 0.018387229948043062, 0.018234830593695593, 0.018080311956318356, 0.017923562445360024, 0.01776448641983551, 0.017603004862633782, 0.017439055856584885, 0.01727259486402475, 0.01710359481424718, 0.016932046005780358, 0.01675795583282617, 0.01658134834741468, 0.016402263670813048, 0.016220757269456397, 0.016036899112105946, 0.015850772726065797, 0.01566247417108369, 0.015472110950014582, 0.0152798008754324, 0.015085670911139097, 0.014889856006949958, 0.014692497944247105, 0.014493744208611277, 0.014293746904394715, 0.014092661724419194, 0.01389064698611025, 0.013687862743354791, 0.01348446998123761, 0.013280629898619285, 0.013076503281310445, 0.012872249966419572, 0.012668028396349592, 0.012463995258932008, 0.01226030520835623, 0.012057110659908074, 0.011854561650105415, 0.011652805752633883, 0.011451988039557675, 0.011252251076625034, 0.0110537349411057, 0.010856577250492964, 0.010660913190566569, 0.010466875531735411, 0.010274594623242813, 0.010084198355703174, 0.009895812083521896, 0.009709558500003625, 0.009525557459348796, 0.0093439257412427, 0.009164776755325114, 0.008988220184458804, 0.008814361567362346, 0.008643301822805045, 0.008475136719152032, 0.00830995629456943, 0.008147844234626908, 0.007988877215348836, 0.007833124220943398, 0.007680645846467388, 0.007531493596547075, 0.007385709191962759, 0.007243323896405888, 0.0071043578760278765, 0.006968819604513797, 0.006836705326330071, 0.006707998590513458, 0.006582669866889947, 0.006460676255941399, 0.006341961302679392, 0.0062264549238487035, 0.006114073456574413, 0.006004719835200275, 0.005898283901553451, 0.005794642852228588, 0.00569366182472908, 0.005595194622456054, 0.00549908457661755, 0.005405165541165766, 0.005313263014885883, 0.005223195382782962, 0.005134775266974398, 0.005047810975424265, 0.004962108035085168, 0.004877470794373655, 0.004793704078429334, 0.004710614879325286, 0.0046280140623373685, 0.004545718068568707, 0.004463550593686134, 0.004381344222277174, 0.004298941997393799, 0.004216198905222773, 0.004132983255515401, 0.004049177939420667, 0.0039646815476865145, 0.0038794093338100142, 0.0037932940086079854, 0.0037062863548177768, 0.003618355652691803], \"yaxis\": \"y\"}, {\"legendgroup\": \"witring\", \"marker\": {\"color\": \"rgb(44, 160, 44)\"}, \"mode\": \"lines\", \"name\": \"witring\", \"showlegend\": false, \"type\": \"scatter\", \"x\": [10.0, 10.18, 10.36, 10.54, 10.72, 10.9, 11.08, 11.26, 11.44, 11.620000000000001, 11.8, 11.98, 12.16, 12.34, 12.52, 12.7, 12.879999999999999, 13.06, 13.24, 13.42, 13.6, 13.78, 13.96, 14.14, 14.32, 14.5, 14.68, 14.86, 15.04, 15.219999999999999, 15.4, 15.58, 15.76, 15.940000000000001, 16.12, 16.3, 16.48, 16.66, 16.84, 17.02, 17.2, 17.38, 17.56, 17.740000000000002, 17.92, 18.1, 18.28, 18.46, 18.64, 18.82, 19.0, 19.18, 19.36, 19.54, 19.72, 19.9, 20.08, 20.259999999999998, 20.439999999999998, 20.619999999999997, 20.8, 20.98, 21.16, 21.34, 21.52, 21.7, 21.880000000000003, 22.060000000000002, 22.240000000000002, 22.42, 22.6, 22.78, 22.96, 23.14, 23.32, 23.5, 23.68, 23.86, 24.04, 24.22, 24.4, 24.58, 24.759999999999998, 24.939999999999998, 25.119999999999997, 25.3, 25.48, 25.66, 25.84, 26.02, 26.2, 26.38, 26.56, 26.74, 26.92, 27.1, 27.28, 27.46, 27.64, 27.82, 28.0, 28.18, 28.36, 28.54, 28.72, 28.9, 29.08, 29.26, 29.44, 29.62, 29.8, 29.98, 30.16, 30.34, 30.52, 30.7, 30.88, 31.06, 31.24, 31.42, 31.6, 31.78, 31.96, 32.14, 32.32, 32.5, 32.68, 32.86, 33.04, 33.22, 33.4, 33.58, 33.760000000000005, 33.94, 34.120000000000005, 34.3, 34.480000000000004, 34.66, 34.84, 35.019999999999996, 35.2, 35.379999999999995, 35.56, 35.739999999999995, 35.92, 36.1, 36.28, 36.46, 36.64, 36.82, 37.0, 37.18, 37.36, 37.54, 37.72, 37.9, 38.08, 38.260000000000005, 38.44, 38.620000000000005, 38.8, 38.980000000000004, 39.16, 39.34, 39.519999999999996, 39.7, 39.879999999999995, 40.06, 40.239999999999995, 40.42, 40.6, 40.78, 40.96, 41.14, 41.32, 41.5, 41.68, 41.86, 42.04, 42.22, 42.4, 42.58, 42.76, 42.94, 43.12, 43.3, 43.48, 43.66, 43.84, 44.02, 44.2, 44.38, 44.56, 44.74, 44.92, 45.1, 45.28, 45.46, 45.64, 45.82, 46.0, 46.18, 46.36, 46.54, 46.72, 46.9, 47.08, 47.26, 47.44, 47.62, 47.8, 47.98, 48.16, 48.34, 48.52, 48.7, 48.88, 49.06, 49.24, 49.42, 49.6, 49.78, 49.96, 50.14, 50.32, 50.5, 50.68, 50.86, 51.04, 51.22, 51.4, 51.58, 51.76, 51.94, 52.12, 52.3, 52.48, 52.66, 52.84, 53.02, 53.2, 53.38, 53.56, 53.74, 53.92, 54.1, 54.28, 54.46, 54.64, 54.82, 55.0, 55.18, 55.36, 55.54, 55.72, 55.9, 56.08, 56.26, 56.44, 56.62, 56.8, 56.98, 57.16, 57.34, 57.52, 57.7, 57.88, 58.06, 58.24, 58.42, 58.6, 58.78, 58.96, 59.14, 59.32, 59.5, 59.68, 59.86, 60.04, 60.22, 60.4, 60.58, 60.76, 60.94, 61.12, 61.3, 61.48, 61.66, 61.84, 62.02, 62.2, 62.38, 62.56, 62.74, 62.92, 63.1, 63.28, 63.46, 63.64, 63.82, 64.0, 64.18, 64.36, 64.53999999999999, 64.72, 64.9, 65.08, 65.25999999999999, 65.44, 65.62, 65.8, 65.97999999999999, 66.16, 66.34, 66.52000000000001, 66.7, 66.88, 67.06, 67.24000000000001, 67.42, 67.6, 67.78, 67.96000000000001, 68.14, 68.32, 68.5, 68.68, 68.86, 69.03999999999999, 69.22, 69.4, 69.58, 69.75999999999999, 69.94, 70.12, 70.3, 70.47999999999999, 70.66, 70.84, 71.02000000000001, 71.2, 71.38, 71.56, 71.74000000000001, 71.92, 72.1, 72.28, 72.46000000000001, 72.64, 72.82, 73.0, 73.18, 73.36, 73.53999999999999, 73.72, 73.9, 74.08, 74.26, 74.44, 74.62, 74.8, 74.98, 75.16, 75.34, 75.52, 75.7, 75.88, 76.06, 76.24, 76.42, 76.6, 76.78, 76.96, 77.14, 77.32, 77.5, 77.68, 77.86, 78.04, 78.22, 78.4, 78.58, 78.76, 78.94, 79.12, 79.3, 79.48, 79.66, 79.84, 80.02, 80.2, 80.38, 80.56, 80.74, 80.92, 81.1, 81.28, 81.46, 81.64, 81.82, 82.0, 82.18, 82.36, 82.54, 82.72, 82.9, 83.08, 83.26, 83.44, 83.62, 83.8, 83.98, 84.16, 84.34, 84.52, 84.7, 84.88, 85.06, 85.24, 85.42, 85.6, 85.78, 85.96, 86.14, 86.32, 86.5, 86.68, 86.86, 87.04, 87.22, 87.4, 87.58, 87.76, 87.94, 88.12, 88.3, 88.48, 88.66, 88.84, 89.02, 89.2, 89.38, 89.56, 89.74, 89.92, 90.1, 90.28, 90.46, 90.64, 90.82, 91.0, 91.18, 91.36, 91.54, 91.72, 91.9, 92.08, 92.26, 92.44, 92.62, 92.8, 92.98, 93.16, 93.34, 93.52, 93.7, 93.88, 94.06, 94.24, 94.42, 94.6, 94.78, 94.96, 95.14, 95.32, 95.5, 95.68, 95.86, 96.04, 96.22, 96.4, 96.58, 96.76, 96.94, 97.12, 97.3, 97.48, 97.66, 97.84, 98.02, 98.2, 98.38, 98.56, 98.74, 98.92, 99.1, 99.28, 99.46, 99.64, 99.82], \"xaxis\": \"x\", \"y\": [0.00015640114764033593, 0.0001599883560964786, 0.0001635020004943223, 0.0001669425072922129, 0.00017031117269209977, 0.00017361013573472775, 0.00017684234332056707, 0.00018001150798285833, 0.00018312205932784946, 0.00018617909012275197, 0.00018918829805340912, 0.00019215592419113774, 0.00019508868920234187, 0.0001979937283066469, 0.00020087852594140383, 0.00020375085102491885, 0.00020661869363057582, 0.0002094902037923304, 0.00021237363306227965, 0.00021527727933662237, 0.00021820943536075547, 0.00022117834122074807, 0.00022419214102998536, 0.00022725884392895115, 0.00023038628943506021, 0.00023358211710975042, 0.00023685374045272494, 0.0002402083248887448, 0.00024365276968055965, 0.0002471936935817458, 0.00025083742403419416, 0.0002545899897151399, 0.0002584571162459802, 0.0002624442248874928, 0.00026655643406111744, 0.000270798563551356, 0.00027517514125786457, 0.00027969041237544046, 0.0002843483508841718, 0.0002891526732292423, 0.0002941068540594952, 0.0002992141438756029, 0.0003044775884129005, 0.0003099000495514912, 0.00031548422750858087, 0.00032123268402707334, 0.0003271478662326227, 0.0003332321307913044, 0.0003394877679647449, 0.000345917025131952, 0.0003525221293301905, 0.00035930530836380994, 0.0003662688100423971, 0.0003734149191399615, 0.0003807459717164069, 0.00038826436651196215, 0.0003959725732143623, 0.0004038731375063781, 0.00041196868292586096, 0.0004202619097090122, 0.0004287555909364179, 0.000437452566456105, 0.0004463557352133441, 0.0004554680467675319, 0.0004647924929162462, 0.00047433210046933944, 0.0004840899263156418, 0.0004940690559956922, 0.0005042726070306482, 0.0005147037382555917, 0.0005253656663613486, 0.0005362616907602283, 0.00054739522775676, 0.0005587698548249132, 0.0005703893655704158, 0.0005822578356941352, 0.0005943796999751616, 0.000606759839966821, 0.0006194036817532956, 0.0006323173027579929, 0.000645507546237369, 0.0006589821417463595, 0.0006727498295350692, 0.0006868204865420544, 0.0007012052513982957, 0.0007159166456579222, 0.0007309686883360309, 0.0007463770007682743, 0.000762158898817258, 0.0007783334695413021, 0.0007949216296136354, 0.0008119461630341868, 0.0008294317360089882, 0.0008474048872785555, 0.0008658939926488588, 0.000884929203006861, 0.0009045423556752905, 0.0009247668595648008, 0.0009456375552011625, 0.0009671905513246905, 0.0009894630403624442, 0.0010124930956442741, 0.0010363194537554728, 0.001060981285876274, 0.0010865179623377366, 0.0011129688149122989, 0.0011403729015451614, 0.0011687687783117702, 0.0011981942833516183, 0.0012286863373768661, 0.0012602807650861766, 0.0012930121414329602, 0.0013269136662089351, 0.0013620170698173954, 0.001398352552437148, 0.0014359487580312782, 0.0014748327838503485, 0.0015150302252342864, 0.0015565652546496286, 0.001599460733027681, 0.0016437383506144022, 0.0016894187937233776, 0.001736521933018227, 0.001785067028258248, 0.001835072943837433, 0.0018865583689479195, 0.0019395420358171698, 0.001994042929215436, 0.002050080480314716, 0.00210767473800927, 0.0021668465109841166, 0.002227617474143339, 0.002290010233482318, 0.0023540483441033795, 0.0024197562768253117, 0.0024871593297144346, 0.0025562834818564206, 0.0026271551877790605, 0.0026998011121107312, 0.0027742478052982583, 0.0028505213224916132, 0.002928646789009117, 0.0030086479171032767, 0.003090546480029646, 0.003174361750655567, 0.0032601099130071414, 0.0033478034562177523, 0.003437450561285676, 0.0035290544918496255, 0.0036226130008283485, 0.0037181177652241475, 0.003815553861644375, 0.003914899295134632, 0.004016124593732889, 0.00411919248073668, 0.004224057636023674, 0.004330666556878975, 0.004438957527666452, 0.004548860706345128, 0.004660298334289423, 0.0047731850741417154, 0.004887428478530937, 0.00500292959045603, 0.0051195836739909234, 0.0052372810717485506, 0.0053559081832833646, 0.005475348556350819, 0.005595484080718709, 0.005716196272077441, 0.005837367631564988, 0.005958883064544602, 0.006080631340587421, 0.006202506575151456, 0.006324409712244754, 0.00644624998644179, 0.00656794634201097, 0.006689428786627221, 0.006810639657199577, 0.006931534775748655, 0.007052084474024786, 0.007172274466662374, 0.0072921065541102425, 0.007411599138348959, 0.007530787536483615, 0.007649724079662204, 0.0077684779873853915, 0.007887135010112253, 0.008005796836090609, 0.008124580261512426, 0.008243616126370533, 0.00836304802173082, 0.008483030777486364, 0.008603728742982535, 0.00872531387614601, 0.008847963659871066, 0.008971858867365545, 0.009097181200893737, 0.009224110830828877, 0.009352823864104902, 0.009483489772996206, 0.009616268816621436, 0.0097513094886311, 0.009888746025173121, 0.010028696007412593, 0.010171258092596657, 0.010316509906890453, 0.010464506131962741, 0.010615276815570455, 0.010768825934191154, 0.010925130233095711, 0.011084138366165966, 0.011245770354273307, 0.01140991737718396, 0.011576441909789783, 0.011745178209032966, 0.01191593315325703, 0.012088487430939956, 0.012262597070916356, 0.012437995301347982, 0.012614394719929495, 0.01279148975319775, 0.01296895937842272, 0.013146470077473403, 0.013323678988343803, 0.013500237216761352, 0.013675793267544152, 0.013849996553180076, 0.014022500935515636, 0.014192968255503298, 0.014361071805687759, 0.014526499700530297, 0.014688958100777909, 0.014848174249870593, 0.015003899282825054, 0.015155910771100796, 0.015304014970600523, 0.015448048744123265, 0.015587881134209816, 0.015723414567319776, 0.01585458567557555, 0.01598136572781198, 0.016103760667288206, 0.016221810759056484, 0.016335589855544466, 0.016445204294299735, 0.01655079144697703, 0.016652517943433087, 0.016750577599153323, 0.016845189078095704, 0.016936593326340205, 0.01702505081462419, 0.017110838629886216, 0.017194247457304922, 0.017275578494990666, 0.017355140343462794, 0.01743324591133553, 0.01751020937726197, 0.01758634324618391, 0.01766195553534969, 0.017737347122448538, 0.01781280928463256, 0.017888621453228278, 0.017965049204656806, 0.018042342503568468, 0.018120734209539933, 0.018200438853967896, 0.01828165168910976, 0.018364548006655653, 0.0184492827188492, 0.0185359901910844, 0.01862478431116479, 0.01871575877708169, 0.018808987582305915, 0.018904525675237073, 0.01900240976765025, 0.019102659265744833, 0.019205277296745454, 0.01931025180392943, 0.0194175566834462, 0.019527152937327548, 0.019638989818626523, 0.019753005946623294, 0.019869130372440372, 0.01998728357815554, 0.020107378395516927, 0.020229320833575443, 0.02035301080787544, 0.02047834276720432, 0.020605206217213626, 0.020733486143409873, 0.020863063338996277, 0.02099381464575735, 0.021125613118555025, 0.02125832812599177, 0.021391825401352284, 0.021525967059025534, 0.02166061159221497, 0.021795613867857673, 0.021930825134298775, 0.022066093056423233, 0.022201261791663155, 0.022336172118616673, 0.02247066162798641, 0.02260456498323267, 0.022737714255806386, 0.02286993933715552, 0.023001068426961813, 0.02313092859434304, 0.023259346406127174, 0.023386148613845647, 0.023511162888872856, 0.02363421859322328, 0.023755147571960285, 0.023873784952017873, 0.023989969931520597, 0.024103546543428934, 0.024214364377545646, 0.02432227924558686, 0.024427153775131043, 0.024528857919778733, 0.024627269374741054, 0.024722273889273942, 0.02481376546982222, 0.02490164647036524, 0.024985827569186825, 0.02506622763404985, 0.025142773480459783, 0.025215399530276066, 0.025284047380300583, 0.02534866529257283, 0.025409207619871636, 0.025465634181314752, 0.025517909603921737, 0.025566002646537536, 0.02560988552259056, 0.025649533237781783, 0.025684922957984416, 0.025716033421404504, 0.025742844407451494, 0.025765336272843904, 0.025783489563289345, 0.02579728470669736, 0.025806701791380067, 0.02581172043014631, 0.025812319708675573, 0.02580847821414492, 0.025800174137845907, 0.025787385443536016, 0.02577009009157706, 0.0257482663075706, 0.025721892883244116, 0.025690949496797552, 0.0256554170397989, 0.025615277938020743, 0.025570516454321936, 0.02552111896277463, 0.025467074184678546, 0.025408373378844044, 0.02534501048050543, 0.025276982185383226, 0.025204287977679075, 0.025126930103087464, 0.02504491349017304, 0.024958245625617992, 0.024866936390825357, 0.02477099786910667, 0.024670444134134016, 0.024565291031449166, 0.024455555965562856, 0.024341257705518232, 0.024222416221724927, 0.024099052566389636, 0.023971188808990674, 0.02383884803698636, 0.023702054430348403, 0.023560833416609563, 0.023415211910966252, 0.023265218643634684, 0.0231108845741905, 0.022952243390090856, 0.02278933208405171, 0.022622191602501212, 0.022450867555013635, 0.022275410972511595, 0.02209587910015827, 0.021912336209298243, 0.021724854411580584, 0.02153351445754607, 0.02133840650149851, 0.021139630814423792, 0.02093729842706569, 0.020731531686010336, 0.02052246470674898, 0.020310243709158737, 0.020095027222624438, 0.019876986150084746, 0.019656303682570368, 0.019433175058266885, 0.01920780716271936, 0.01898041796945211, 0.01875123582294324, 0.01852049856852384, 0.018288452536307478, 0.01805535138865676, 0.017821454842912005, 0.017587027283109055, 0.017352336276166395, 0.017117651009500672, 0.01688324066821777, 0.016649372770910664, 0.016416311483672272, 0.01618431593219994, 0.01595363853183833, 0.015724523355087908, 0.015497204555517452, 0.015271904866177584, 0.015048834189545541, 0.014828188294762026, 0.014610147636479272, 0.014394876308050674, 0.01418252114008749, 0.013973210953612723, 0.013767055975185169, 0.013564147419470974, 0.013364557242831119, 0.013168338069591288, 0.012975523290786111, 0.012786127333338242, 0.01260014609586064, 0.012417557545570584, 0.012238322469185587, 0.012062385369147595, 0.01188967549509626, 0.011720107999196743, 0.011553585202723789, 0.01138999796022252, 0.0112292271066078, 0.01107114497173924, 0.010915616946317777, 0.0107625030824036, 0.010611659711454096, 0.010462941062536774, 0.010316200863285717, 0.010171293906252868, 0.010028077563557888, 0.00988641323317261, 0.009746167700788164, 0.00960721440201175, 0.00946943457062375, 0.009332718259797722, 0.00919696522453984, 0.00906208565513788, 0.008928000753112909, 0.008794643143029189, 0.008661957115524239, 0.00852989869905202, 0.008398435560068484, 0.008267546733701005, 0.008137222189306544, 0.008007462237701145, 0.007878276789205343, 0.007749684473954145, 0.007621711638131499, 0.00749439123186371, 0.007367761606406834, 0.007241865239946531, 0.007116747412759549, 0.006992454853624495, 0.006869034380186421, 0.0067465315564428025, 0.006624989390607876, 0.006504447096307248, 0.006384938939348514, 0.006266493191199956, 0.006149131208796988, 0.0060328666583952025, 0.005917704898925513, 0.005803642537708585, 0.005690667168494444, 0.00557875729865379, 0.005467882469015287, 0.005358003566377969, 0.005249073325194327, 0.005141037011387338, 0.005033833277803648, 0.004927395177487745, 0.004821651317857464, 0.004716527136038163, 0.004611946273133301, 0.00450783202313073, 0.0044041088305145915, 0.00430070380951337, 0.004197548257294092, 0.004094579133330252, 0.003991740477632413, 0.003888984741531073, 0.0037862740062225716, 0.0036835810663018603, 0.0035808903579687443, 0.0034781987144564515], \"yaxis\": \"y\"}, {\"legendgroup\": \"math\", \"marker\": {\"color\": \"rgb(31, 119, 180)\", \"symbol\": \"line-ns-open\"}, \"mode\": \"markers\", \"name\": \"math\", \"showlegend\": false, \"type\": \"scatter\", \"x\": [37.0, 80.0, 73.0, 81.0, 94.0, 71.0, 75.0, 34.0, 63.0, 94.0, 65.0, 52.0, 62.0, 74.0, 62.0, 73.0, 46.0, 82.0, 63.0, 64.0, 80.0, 93.0, 69.0, 46.0, 86.0, 59.0, 84.0, 64.0, 73.0, 83.0, 75.0, 69.0, 68.0, 57.0, 66.0, 61.0, 40.0, 50.0, 48.0, 36.0, 78.0, 57.0, 69.0, 40.0, 92.0, 35.0, 63.0, 73.0, 63.0, 52.0, 73.0, 63.0, 71.0, 45.0, 85.0, 80.0, 82.0, 77.0, 91.0, 60.0, 63.0, 40.0, 57.0, 58.0, 97.0, 81.0, 68.0, 59.0, 96.0, 87.0, 57.0, 94.0, 97.0, 65.0, 82.0, 72.0, 62.0, 44.0, 82.0, 75.0, 59.0, 75.0, 72.0, 68.0, 66.0, 67.0, 93.0, 69.0, 63.0, 46.0, 66.0, 62.0, 48.0, 71.0, 54.0, 80.0, 55.0, 90.0, 94.0, 81.0, 53.0, 61.0, 75.0, 74.0, 62.0, 70.0, 60.0, 59.0, 62.0, 53.0, 80.0, 69.0, 69.0, 69.0, 49.0, 43.0, 83.0, 65.0, 73.0, 68.0, 64.0, 54.0, 65.0, 49.0, 58.0, 66.0, 65.0, 65.0, 70.0, 79.0, 50.0, 64.0, 68.0, 32.0, 68.0, 58.0, 19.0, 69.0, 72.0, 53.0, 61.0, 78.0, 53.0, 45.0, 44.0, 83.0, 65.0, 88.0, 88.0, 91.0, 84.0, 51.0, 38.0, 47.0, 66.0, 61.0, 60.0, 71.0, 45.0, 77.0, 53.0, 57.0, 72.0, 76.0, 45.0, 99.0, 51.0, 64.0, 52.0, 80.0, 51.0, 50.0, 64.0, 74.0, 71.0, 57.0, 69.0, 77.0, 75.0, 43.0, 80.0, 59.0, 85.0, 55.0, 44.0, 42.0, 58.0, 61.0, 50.0, 88.0, 73.0, 67.0, 97.0, 61.0, 62.0, 79.0, 54.0, 66.0, 78.0, 85.0, 84.0, 76.0, 44.0, 81.0, 54.0, 58.0, 81.0, 72.0, 71.0, 61.0, 66.0, 71.0, 71.0, 89.0, 73.0, 81.0, 46.0, 22.0, 48.0, 44.0, 79.0, 91.0, 76.0, 54.0, 77.0, 62.0, 67.0, 86.0, 58.0, 53.0, 57.0, 69.0, 76.0, 78.0, 69.0, 62.0, 37.0, 88.0, 90.0, 57.0, 68.0, 65.0, 63.0, 52.0, 48.0, 65.0, 54.0, 50.0, 40.0, 29.0, 26.0, 70.0, 75.0, 53.0, 60.0, 98.0, 93.0, 59.0, 46.0, 76.0, 79.0, 28.0, 55.0, 61.0, 35.0, 94.0, 46.0, 100.0, 67.0, 50.0, 79.0, 71.0, 83.0, 55.0, 48.0, 76.0, 77.0, 79.0, 62.0, 56.0, 68.0, 84.0, 80.0, 62.0, 60.0, 64.0, 29.0, 52.0, 53.0, 67.0, 82.0, 56.0, 79.0, 73.0, 66.0, 52.0, 52.0, 73.0, 66.0, 84.0, 82.0, 74.0, 76.0, 81.0, 79.0, 68.0, 63.0, 50.0, 72.0, 85.0, 83.0, 84.0, 65.0, 85.0, 70.0, 58.0, 86.0, 64.0, 65.0, 61.0, 49.0, 53.0, 97.0, 75.0, 72.0, 74.0, 59.0, 68.0, 78.0, 53.0, 57.0, 72.0, 99.0, 79.0, 91.0, 83.0, 72.0, 61.0, 73.0, 59.0, 100.0, 61.0, 77.0, 71.0, 49.0, 62.0, 86.0, 75.0, 58.0, 47.0, 63.0, 69.0, 70.0, 68.0, 61.0, 71.0, 81.0, 100.0, 84.0, 77.0, 53.0, 71.0, 73.0, 65.0, 49.0, 52.0, 65.0, 59.0, 80.0, 62.0, 57.0, 46.0, 58.0, 67.0, 73.0, 72.0, 40.0, 78.0, 63.0, 61.0, 79.0, 77.0, 70.0, 53.0, 76.0, 45.0, 40.0, 82.0, 78.0, 75.0, 70.0, 55.0, 39.0, 70.0, 30.0, 75.0, 63.0, 82.0, 74.0, 54.0, 71.0, 73.0, 77.0, 77.0, 87.0, 87.0, 74.0, 67.0, 43.0, 49.0, 49.0, 53.0, 64.0, 61.0, 79.0, 69.0, 54.0, 65.0, 77.0, 58.0, 49.0, 73.0, 54.0, 54.0, 64.0, 59.0, 76.0, 75.0, 85.0, 97.0, 53.0, 52.0, 77.0, 79.0, 57.0, 87.0, 66.0, 63.0, 65.0, 68.0, 55.0, 72.0, 86.0, 35.0, 97.0, 75.0, 52.0, 74.0, 70.0, 39.0, 61.0, 44.0, 77.0, 87.0, 66.0, 68.0, 65.0, 62.0, 81.0, 70.0, 74.0, 94.0, 76.0, 59.0, 68.0, 73.0, 100.0, 8.0, 65.0, 40.0, 48.0, 89.0, 77.0, 65.0, 69.0, 68.0, 49.0, 62.0, 50.0, 56.0, 46.0, 53.0, 60.0, 91.0, 90.0, 73.0, 70.0, 47.0, 65.0, 81.0, 55.0, 93.0, 65.0, 62.0, 48.0, 68.0, 66.0, 55.0, 42.0, 54.0, 74.0, 37.0, 66.0, 88.0, 69.0, 61.0, 39.0, 87.0, 64.0, 44.0, 59.0, 80.0, 71.0, 76.0, 53.0, 78.0, 55.0, 70.0, 65.0, 86.0, 47.0, 54.0, 41.0, 78.0, 83.0, 54.0, 90.0, 59.0, 65.0, 67.0, 89.0, 59.0, 73.0, 74.0, 86.0, 55.0, 61.0, 57.0, 58.0, 45.0, 63.0, 61.0, 81.0, 92.0, 67.0, 94.0, 56.0, 62.0, 70.0, 70.0, 76.0, 64.0, 47.0, 66.0, 86.0, 40.0, 66.0, 68.0, 51.0, 45.0, 88.0, 90.0, 52.0, 49.0, 53.0, 71.0, 50.0, 58.0, 42.0, 67.0, 39.0, 85.0, 62.0, 78.0, 73.0, 68.0, 89.0, 40.0, 82.0, 69.0, 77.0, 69.0, 79.0, 53.0, 43.0, 58.0, 76.0, 88.0, 69.0, 49.0, 85.0, 69.0, 72.0, 57.0, 58.0, 62.0, 62.0, 75.0, 88.0, 81.0, 67.0, 67.0, 74.0, 74.0, 95.0, 71.0, 85.0, 56.0, 82.0, 85.0, 60.0, 63.0, 51.0, 50.0, 81.0, 87.0, 46.0, 58.0, 62.0, 76.0, 60.0, 50.0, 77.0, 64.0, 61.0, 60.0, 67.0, 64.0, 90.0, 59.0, 53.0, 48.0, 60.0, 82.0, 58.0, 60.0, 66.0, 85.0, 49.0, 77.0, 67.0, 69.0, 50.0, 62.0, 83.0, 81.0, 92.0, 70.0, 72.0, 92.0, 51.0, 87.0, 71.0, 59.0, 88.0, 61.0, 82.0, 71.0, 75.0, 43.0, 51.0, 62.0, 75.0, 63.0, 71.0, 67.0, 71.0, 61.0, 56.0, 98.0, 82.0, 75.0, 59.0, 71.0, 44.0, 77.0, 65.0, 57.0, 60.0, 27.0, 58.0, 70.0, 38.0, 42.0, 100.0, 89.0, 35.0, 74.0, 77.0, 62.0, 79.0, 46.0, 74.0, 59.0, 66.0, 47.0, 77.0, 78.0, 52.0, 70.0, 58.0, 68.0, 69.0, 87.0, 52.0, 72.0, 85.0, 41.0, 61.0, 67.0, 54.0, 75.0, 80.0, 63.0, 52.0, 62.0, 58.0, 62.0, 65.0, 74.0, 79.0, 68.0, 63.0, 52.0, 59.0, 55.0, 66.0, 38.0, 74.0, 91.0, 64.0, 74.0, 81.0, 79.0, 90.0, 54.0, 78.0, 46.0, 88.0, 62.0, 80.0, 80.0, 71.0, 64.0, 75.0, 60.0, 68.0, 88.0, 55.0, 50.0, 42.0, 69.0, 42.0, 58.0, 24.0, 48.0, 67.0, 59.0, 59.0, 96.0, 45.0, 88.0, 72.0, 61.0, 81.0, 59.0, 73.0, 79.0, 68.0, 47.0, 64.0, 49.0, 54.0, 71.0, 59.0, 89.0, 37.0, 59.0, 57.0, 47.0, 77.0, 62.0, 77.0, 51.0, 69.0, 74.0, 60.0, 76.0, 51.0, 32.0, 73.0, 49.0, 76.0, 64.0, 62.0, 63.0, 50.0, 44.0, 66.0, 67.0, 61.0, 75.0, 69.0, 76.0, 65.0, 53.0, 87.0, 53.0, 66.0, 49.0, 67.0, 55.0, 30.0, 73.0, 62.0, 79.0, 63.0, 52.0, 58.0, 78.0, 81.0, 74.0, 68.0, 82.0, 73.0, 59.0, 74.0, 62.0, 84.0, 67.0, 81.0, 33.0, 59.0, 87.0, 77.0, 58.0, 69.0, 65.0, 92.0, 87.0, 69.0, 73.0, 61.0, 55.0, 67.0, 69.0, 74.0, 64.0, 56.0, 36.0, 41.0, 49.0, 59.0, 34.0, 84.0, 76.0, 61.0, 62.0, 87.0, 67.0, 54.0, 59.0, 68.0, 67.0, 91.0, 80.0, 96.0, 68.0, 74.0, 71.0, 35.0, 81.0, 53.0, 80.0, 76.0, 76.0, 63.0, 57.0, 58.0, 72.0, 55.0, 53.0, 80.0, 41.0, 55.0, 51.0, 85.0, 81.0, 52.0, 18.0, 73.0, 48.0, 56.0, 63.0, 58.0, 32.0, 59.0, 63.0, 63.0, 80.0, 60.0, 64.0, 98.0, 59.0, 65.0, 87.0, 66.0, 52.0, 73.0, 87.0, 79.0, 60.0, 81.0, 74.0, 69.0, 47.0, 47.0, 79.0, 82.0, 92.0, 57.0, 41.0, 49.0, 88.0, 79.0, 59.0, 71.0, 81.0, 65.0, 82.0, 65.0, 40.0, 73.0, 56.0, 69.0, 67.0, 91.0, 67.0, 87.0, 65.0, 58.0, 55.0, 48.0, 88.0, 53.0, 85.0, 62.0, 65.0, 82.0, 62.0, 63.0, 84.0, 77.0, 50.0, 69.0, 0.0, 65.0, 79.0, 69.0, 72.0, 100.0, 65.0, 47.0, 99.0, 51.0, 71.0, 82.0, 91.0, 55.0, 75.0, 66.0, 95.0, 72.0, 70.0, 57.0, 84.0, 61.0, 45.0, 65.0, 27.0, 88.0, 65.0, 63.0, 78.0, 65.0, 90.0, 100.0, 67.0, 74.0, 76.0, 66.0, 59.0, 62.0, 41.0, 29.0, 69.0, 23.0, 66.0, 54.0, 68.0], \"xaxis\": \"x\", \"y\": [\"math\", \"math\", \"math\", \"math\", \"math\", \"math\", \"math\", \"math\", \"math\", \"math\", \"math\", \"math\", \"math\", \"math\", \"math\", \"math\", \"math\", \"math\", \"math\", \"math\", \"math\", \"math\", \"math\", \"math\", \"math\", \"math\", \"math\", \"math\", \"math\", \"math\", \"math\", \"math\", \"math\", \"math\", \"math\", \"math\", \"math\", \"math\", \"math\", \"math\", \"math\", \"math\", \"math\", \"math\", \"math\", \"math\", \"math\", \"math\", \"math\", \"math\", \"math\", \"math\", \"math\", \"math\", \"math\", \"math\", \"math\", \"math\", \"math\", \"math\", \"math\", \"math\", \"math\", \"math\", \"math\", \"math\", \"math\", \"math\", \"math\", \"math\", \"math\", \"math\", \"math\", \"math\", \"math\", \"math\", \"math\", \"math\", \"math\", \"math\", \"math\", \"math\", \"math\", \"math\", \"math\", \"math\", \"math\", \"math\", \"math\", \"math\", \"math\", \"math\", \"math\", \"math\", \"math\", \"math\", \"math\", \"math\", \"math\", \"math\", \"math\", \"math\", \"math\", \"math\", \"math\", \"math\", \"math\", \"math\", \"math\", \"math\", \"math\", \"math\", \"math\", \"math\", \"math\", \"math\", \"math\", \"math\", \"math\", \"math\", \"math\", \"math\", \"math\", \"math\", \"math\", \"math\", \"math\", \"math\", \"math\", \"math\", \"math\", \"math\", \"math\", \"math\", \"math\", \"math\", \"math\", \"math\", \"math\", \"math\", \"math\", \"math\", \"math\", \"math\", \"math\", \"math\", \"math\", \"math\", \"math\", \"math\", \"math\", \"math\", \"math\", \"math\", \"math\", \"math\", \"math\", \"math\", \"math\", \"math\", \"math\", \"math\", \"math\", \"math\", \"math\", \"math\", \"math\", \"math\", \"math\", \"math\", \"math\", \"math\", \"math\", \"math\", \"math\", \"math\", \"math\", \"math\", \"math\", \"math\", \"math\", \"math\", \"math\", \"math\", \"math\", \"math\", \"math\", \"math\", \"math\", \"math\", \"math\", \"math\", \"math\", \"math\", \"math\", \"math\", \"math\", \"math\", \"math\", \"math\", \"math\", \"math\", \"math\", \"math\", \"math\", \"math\", \"math\", \"math\", \"math\", \"math\", \"math\", \"math\", \"math\", \"math\", \"math\", \"math\", \"math\", \"math\", \"math\", \"math\", \"math\", \"math\", \"math\", \"math\", \"math\", \"math\", \"math\", \"math\", \"math\", \"math\", \"math\", \"math\", \"math\", \"math\", \"math\", \"math\", \"math\", \"math\", \"math\", \"math\", \"math\", \"math\", \"math\", \"math\", \"math\", \"math\", \"math\", \"math\", \"math\", \"math\", \"math\", \"math\", \"math\", \"math\", \"math\", \"math\", \"math\", \"math\", \"math\", \"math\", \"math\", \"math\", \"math\", \"math\", \"math\", \"math\", \"math\", \"math\", \"math\", \"math\", \"math\", \"math\", \"math\", \"math\", \"math\", \"math\", \"math\", \"math\", \"math\", \"math\", \"math\", \"math\", \"math\", \"math\", \"math\", \"math\", \"math\", \"math\", \"math\", \"math\", \"math\", \"math\", \"math\", \"math\", \"math\", \"math\", \"math\", \"math\", \"math\", \"math\", \"math\", \"math\", \"math\", \"math\", \"math\", \"math\", \"math\", \"math\", \"math\", \"math\", \"math\", \"math\", \"math\", \"math\", \"math\", \"math\", \"math\", \"math\", \"math\", \"math\", \"math\", \"math\", \"math\", \"math\", \"math\", \"math\", \"math\", \"math\", \"math\", \"math\", \"math\", \"math\", \"math\", \"math\", \"math\", \"math\", \"math\", \"math\", \"math\", \"math\", \"math\", \"math\", \"math\", \"math\", \"math\", \"math\", \"math\", \"math\", \"math\", \"math\", \"math\", \"math\", \"math\", \"math\", \"math\", \"math\", \"math\", \"math\", \"math\", \"math\", \"math\", \"math\", \"math\", \"math\", \"math\", \"math\", \"math\", \"math\", \"math\", \"math\", \"math\", \"math\", \"math\", \"math\", \"math\", \"math\", \"math\", \"math\", \"math\", \"math\", \"math\", \"math\", \"math\", \"math\", \"math\", \"math\", \"math\", \"math\", \"math\", \"math\", \"math\", \"math\", \"math\", \"math\", \"math\", \"math\", \"math\", \"math\", \"math\", \"math\", \"math\", \"math\", \"math\", \"math\", \"math\", \"math\", \"math\", \"math\", \"math\", \"math\", \"math\", \"math\", \"math\", \"math\", \"math\", \"math\", \"math\", \"math\", \"math\", \"math\", \"math\", \"math\", \"math\", \"math\", \"math\", \"math\", \"math\", \"math\", \"math\", \"math\", \"math\", \"math\", \"math\", \"math\", \"math\", \"math\", \"math\", \"math\", \"math\", \"math\", \"math\", \"math\", \"math\", \"math\", \"math\", \"math\", \"math\", \"math\", \"math\", \"math\", \"math\", \"math\", \"math\", \"math\", \"math\", \"math\", \"math\", \"math\", \"math\", \"math\", \"math\", \"math\", \"math\", \"math\", \"math\", \"math\", \"math\", \"math\", \"math\", \"math\", \"math\", \"math\", \"math\", \"math\", \"math\", \"math\", \"math\", \"math\", \"math\", \"math\", \"math\", \"math\", \"math\", \"math\", \"math\", \"math\", \"math\", \"math\", \"math\", \"math\", \"math\", \"math\", \"math\", \"math\", \"math\", \"math\", \"math\", \"math\", \"math\", \"math\", \"math\", \"math\", \"math\", \"math\", \"math\", \"math\", \"math\", \"math\", \"math\", \"math\", \"math\", \"math\", \"math\", \"math\", \"math\", \"math\", \"math\", \"math\", \"math\", \"math\", \"math\", \"math\", \"math\", \"math\", \"math\", \"math\", \"math\", \"math\", \"math\", \"math\", \"math\", \"math\", \"math\", \"math\", \"math\", \"math\", \"math\", \"math\", \"math\", \"math\", \"math\", \"math\", \"math\", \"math\", \"math\", \"math\", \"math\", \"math\", \"math\", \"math\", \"math\", \"math\", \"math\", \"math\", \"math\", \"math\", \"math\", \"math\", \"math\", \"math\", \"math\", \"math\", \"math\", \"math\", \"math\", \"math\", \"math\", \"math\", \"math\", \"math\", \"math\", \"math\", \"math\", \"math\", \"math\", \"math\", \"math\", \"math\", \"math\", \"math\", \"math\", \"math\", \"math\", \"math\", \"math\", \"math\", \"math\", \"math\", \"math\", \"math\", \"math\", \"math\", \"math\", \"math\", \"math\", \"math\", \"math\", \"math\", \"math\", \"math\", \"math\", \"math\", \"math\", \"math\", \"math\", \"math\", \"math\", \"math\", \"math\", \"math\", \"math\", \"math\", \"math\", \"math\", \"math\", \"math\", \"math\", \"math\", \"math\", \"math\", \"math\", \"math\", \"math\", \"math\", \"math\", \"math\", \"math\", \"math\", \"math\", \"math\", \"math\", \"math\", \"math\", \"math\", \"math\", \"math\", \"math\", \"math\", \"math\", \"math\", \"math\", \"math\", \"math\", \"math\", \"math\", \"math\", \"math\", \"math\", \"math\", \"math\", \"math\", \"math\", \"math\", \"math\", \"math\", \"math\", \"math\", \"math\", \"math\", \"math\", \"math\", \"math\", \"math\", \"math\", \"math\", \"math\", \"math\", \"math\", \"math\", \"math\", \"math\", \"math\", \"math\", \"math\", \"math\", \"math\", \"math\", \"math\", \"math\", \"math\", \"math\", \"math\", \"math\", \"math\", \"math\", \"math\", \"math\", \"math\", \"math\", \"math\", \"math\", \"math\", \"math\", \"math\", \"math\", \"math\", \"math\", \"math\", \"math\", \"math\", \"math\", \"math\", \"math\", \"math\", \"math\", \"math\", \"math\", \"math\", \"math\", \"math\", \"math\", \"math\", \"math\", \"math\", \"math\", \"math\", \"math\", \"math\", \"math\", \"math\", \"math\", \"math\", \"math\", \"math\", \"math\", \"math\", \"math\", \"math\", \"math\", \"math\", \"math\", \"math\", \"math\", \"math\", \"math\", \"math\", \"math\", \"math\", \"math\", \"math\", \"math\", \"math\", \"math\", \"math\", \"math\", \"math\", \"math\", \"math\", \"math\", \"math\", \"math\", \"math\", \"math\", \"math\", \"math\", \"math\", \"math\", \"math\", \"math\", \"math\", \"math\", \"math\", \"math\", \"math\", \"math\", \"math\", \"math\", \"math\", \"math\", \"math\", \"math\", \"math\", \"math\", \"math\", \"math\", \"math\", \"math\", \"math\", \"math\", \"math\", \"math\", \"math\", \"math\", \"math\", \"math\", \"math\", \"math\", \"math\", \"math\", \"math\", \"math\", \"math\", \"math\", \"math\", \"math\", \"math\", \"math\", \"math\", \"math\", \"math\", \"math\", \"math\", \"math\", \"math\", \"math\", \"math\", \"math\", \"math\", \"math\", \"math\", \"math\", \"math\", \"math\", \"math\", \"math\", \"math\", \"math\", \"math\", \"math\", \"math\", \"math\", \"math\", \"math\", \"math\", \"math\", \"math\", \"math\", \"math\", \"math\", \"math\", \"math\", \"math\", \"math\", \"math\", \"math\", \"math\", \"math\", \"math\", \"math\", \"math\", \"math\", \"math\", \"math\", \"math\", \"math\", \"math\", \"math\", \"math\", \"math\", \"math\", \"math\", \"math\", \"math\", \"math\", \"math\", \"math\", \"math\", \"math\", \"math\", \"math\", \"math\", \"math\", \"math\", \"math\", \"math\", \"math\", \"math\", \"math\", \"math\", \"math\", \"math\", \"math\", \"math\", \"math\", \"math\", \"math\", \"math\", \"math\", \"math\", \"math\", \"math\", \"math\", \"math\", \"math\", \"math\", \"math\", \"math\", \"math\", \"math\", \"math\", \"math\", \"math\", \"math\", \"math\", \"math\", \"math\", \"math\", \"math\", \"math\", \"math\", \"math\", \"math\", \"math\", \"math\", \"math\", \"math\", \"math\", \"math\", \"math\", \"math\", \"math\", \"math\", \"math\", \"math\", \"math\", \"math\", \"math\", \"math\", \"math\", \"math\", \"math\", \"math\", \"math\", \"math\", \"math\", \"math\", \"math\", \"math\", \"math\", \"math\", \"math\", \"math\", \"math\", \"math\", \"math\", \"math\", \"math\", \"math\", \"math\", \"math\", \"math\", \"math\", \"math\", \"math\", \"math\", \"math\", \"math\", \"math\", \"math\", \"math\", \"math\", \"math\", \"math\", \"math\", \"math\", \"math\", \"math\", \"math\", \"math\", \"math\", \"math\", \"math\", \"math\", \"math\", \"math\", \"math\", \"math\", \"math\", \"math\", \"math\", \"math\", \"math\", \"math\", \"math\", \"math\", \"math\", \"math\", \"math\", \"math\", \"math\", \"math\", \"math\", \"math\", \"math\", \"math\", \"math\", \"math\", \"math\", \"math\", \"math\", \"math\", \"math\", \"math\", \"math\", \"math\", \"math\", \"math\", \"math\", \"math\", \"math\"], \"yaxis\": \"y2\"}, {\"legendgroup\": \"reading\", \"marker\": {\"color\": \"rgb(255, 127, 14)\", \"symbol\": \"line-ns-open\"}, \"mode\": \"markers\", \"name\": \"reading\", \"showlegend\": false, \"type\": \"scatter\", \"x\": [46.0, 78.0, 66.0, 75.0, 86.0, 61.0, 68.0, 48.0, 61.0, 73.0, 78.0, 76.0, 65.0, 74.0, 57.0, 69.0, 42.0, 82.0, 61.0, 73.0, 75.0, 100.0, 76.0, 61.0, 81.0, 72.0, 83.0, 64.0, 76.0, 86.0, 88.0, 74.0, 72.0, 61.0, 64.0, 61.0, 59.0, 67.0, 62.0, 29.0, 79.0, 67.0, 58.0, 55.0, 87.0, 28.0, 67.0, 74.0, 64.0, 59.0, 79.0, 73.0, 60.0, 59.0, 92.0, 76.0, 85.0, 94.0, 85.0, 62.0, 48.0, 48.0, 54.0, 54.0, 82.0, 82.0, 65.0, 71.0, 90.0, 84.0, 75.0, 88.0, 93.0, 81.0, 93.0, 57.0, 74.0, 54.0, 84.0, 90.0, 41.0, 73.0, 68.0, 78.0, 74.0, 62.0, 90.0, 63.0, 74.0, 64.0, 68.0, 73.0, 56.0, 70.0, 72.0, 83.0, 59.0, 87.0, 99.0, 73.0, 43.0, 68.0, 85.0, 81.0, 72.0, 78.0, 70.0, 51.0, 72.0, 50.0, 85.0, 66.0, 78.0, 77.0, 45.0, 60.0, 93.0, 61.0, 64.0, 83.0, 66.0, 61.0, 77.0, 57.0, 67.0, 78.0, 70.0, 79.0, 68.0, 81.0, 67.0, 54.0, 60.0, 51.0, 51.0, 57.0, 38.0, 77.0, 79.0, 58.0, 51.0, 72.0, 62.0, 56.0, 51.0, 83.0, 76.0, 78.0, 95.0, 89.0, 87.0, 66.0, 49.0, 53.0, 57.0, 73.0, 68.0, 71.0, 63.0, 86.0, 58.0, 51.0, 64.0, 71.0, 48.0, 93.0, 72.0, 60.0, 61.0, 73.0, 54.0, 48.0, 73.0, 74.0, 77.0, 74.0, 70.0, 90.0, 74.0, 51.0, 68.0, 72.0, 81.0, 76.0, 63.0, 62.0, 59.0, 47.0, 66.0, 74.0, 78.0, 86.0, 100.0, 58.0, 64.0, 81.0, 63.0, 71.0, 91.0, 75.0, 84.0, 94.0, 61.0, 84.0, 49.0, 63.0, 82.0, 81.0, 49.0, 42.0, 77.0, 76.0, 66.0, 88.0, 83.0, 81.0, 34.0, 39.0, 52.0, 64.0, 82.0, 81.0, 80.0, 59.0, 78.0, 72.0, 64.0, 81.0, 70.0, 52.0, 58.0, 73.0, 70.0, 87.0, 64.0, 66.0, 57.0, 89.0, 75.0, 56.0, 70.0, 75.0, 69.0, 57.0, 43.0, 54.0, 54.0, 53.0, 59.0, 41.0, 31.0, 75.0, 74.0, 39.0, 57.0, 87.0, 84.0, 54.0, 54.0, 64.0, 88.0, 23.0, 71.0, 57.0, 53.0, 85.0, 58.0, 100.0, 80.0, 47.0, 84.0, 81.0, 82.0, 64.0, 58.0, 73.0, 77.0, 79.0, 78.0, 68.0, 86.0, 77.0, 75.0, 70.0, 66.0, 62.0, 40.0, 65.0, 61.0, 61.0, 95.0, 79.0, 76.0, 68.0, 74.0, 66.0, 67.0, 86.0, 65.0, 73.0, 75.0, 77.0, 71.0, 72.0, 89.0, 71.0, 78.0, 56.0, 65.0, 92.0, 78.0, 95.0, 77.0, 86.0, 70.0, 63.0, 80.0, 82.0, 81.0, 55.0, 51.0, 51.0, 97.0, 72.0, 73.0, 79.0, 67.0, 68.0, 77.0, 58.0, 78.0, 57.0, 100.0, 89.0, 73.0, 72.0, 79.0, 62.0, 74.0, 54.0, 96.0, 66.0, 79.0, 67.0, 53.0, 61.0, 92.0, 81.0, 62.0, 59.0, 75.0, 67.0, 75.0, 63.0, 56.0, 66.0, 97.0, 100.0, 77.0, 90.0, 44.0, 83.0, 68.0, 82.0, 49.0, 59.0, 75.0, 60.0, 64.0, 49.0, 43.0, 43.0, 73.0, 54.0, 66.0, 72.0, 43.0, 83.0, 65.0, 72.0, 74.0, 82.0, 84.0, 54.0, 62.0, 53.0, 58.0, 85.0, 72.0, 66.0, 64.0, 55.0, 42.0, 89.0, 26.0, 84.0, 64.0, 82.0, 81.0, 59.0, 84.0, 84.0, 88.0, 88.0, 84.0, 74.0, 73.0, 64.0, 62.0, 52.0, 65.0, 54.0, 53.0, 86.0, 92.0, 71.0, 52.0, 86.0, 91.0, 61.0, 63.0, 76.0, 64.0, 53.0, 58.0, 72.0, 74.0, 69.0, 84.0, 92.0, 70.0, 55.0, 76.0, 72.0, 77.0, 85.0, 69.0, 73.0, 85.0, 67.0, 58.0, 66.0, 76.0, 55.0, 87.0, 68.0, 49.0, 70.0, 82.0, 52.0, 74.0, 50.0, 90.0, 84.0, 65.0, 77.0, 67.0, 67.0, 66.0, 63.0, 75.0, 90.0, 78.0, 70.0, 68.0, 66.0, 100.0, 24.0, 64.0, 65.0, 66.0, 84.0, 82.0, 73.0, 77.0, 72.0, 51.0, 69.0, 50.0, 68.0, 56.0, 55.0, 51.0, 95.0, 90.0, 56.0, 72.0, 49.0, 65.0, 77.0, 46.0, 100.0, 70.0, 61.0, 45.0, 59.0, 69.0, 46.0, 55.0, 65.0, 77.0, 56.0, 63.0, 78.0, 77.0, 71.0, 64.0, 100.0, 63.0, 41.0, 78.0, 79.0, 87.0, 87.0, 58.0, 81.0, 73.0, 70.0, 69.0, 73.0, 49.0, 52.0, 51.0, 81.0, 80.0, 64.0, 90.0, 58.0, 81.0, 79.0, 84.0, 63.0, 71.0, 90.0, 83.0, 56.0, 58.0, 78.0, 52.0, 37.0, 63.0, 70.0, 91.0, 100.0, 73.0, 87.0, 52.0, 66.0, 65.0, 74.0, 83.0, 74.0, 54.0, 74.0, 85.0, 52.0, 74.0, 74.0, 31.0, 73.0, 84.0, 95.0, 57.0, 53.0, 52.0, 74.0, 48.0, 55.0, 52.0, 57.0, 39.0, 90.0, 61.0, 74.0, 78.0, 70.0, 100.0, 42.0, 67.0, 80.0, 85.0, 84.0, 86.0, 62.0, 45.0, 55.0, 85.0, 77.0, 70.0, 50.0, 91.0, 60.0, 80.0, 50.0, 61.0, 67.0, 63.0, 77.0, 99.0, 91.0, 78.0, 69.0, 71.0, 79.0, 81.0, 74.0, 84.0, 54.0, 62.0, 84.0, 64.0, 72.0, 52.0, 64.0, 75.0, 85.0, 43.0, 68.0, 55.0, 72.0, 68.0, 42.0, 89.0, 50.0, 68.0, 59.0, 57.0, 73.0, 85.0, 73.0, 45.0, 56.0, 70.0, 90.0, 67.0, 75.0, 59.0, 95.0, 52.0, 69.0, 76.0, 79.0, 60.0, 56.0, 85.0, 71.0, 100.0, 56.0, 79.0, 100.0, 63.0, 73.0, 70.0, 52.0, 99.0, 64.0, 93.0, 69.0, 82.0, 53.0, 49.0, 55.0, 81.0, 55.0, 83.0, 72.0, 83.0, 56.0, 61.0, 86.0, 84.0, 88.0, 62.0, 75.0, 45.0, 68.0, 76.0, 48.0, 60.0, 34.0, 50.0, 64.0, 43.0, 66.0, 92.0, 76.0, 44.0, 72.0, 62.0, 64.0, 82.0, 41.0, 64.0, 70.0, 77.0, 37.0, 68.0, 77.0, 48.0, 71.0, 57.0, 54.0, 72.0, 94.0, 53.0, 80.0, 89.0, 39.0, 71.0, 89.0, 48.0, 81.0, 90.0, 63.0, 58.0, 55.0, 60.0, 67.0, 77.0, 88.0, 73.0, 68.0, 80.0, 70.0, 42.0, 47.0, 60.0, 60.0, 76.0, 86.0, 64.0, 63.0, 74.0, 82.0, 78.0, 58.0, 82.0, 43.0, 92.0, 67.0, 86.0, 63.0, 79.0, 85.0, 86.0, 72.0, 60.0, 75.0, 61.0, 60.0, 61.0, 75.0, 39.0, 75.0, 38.0, 51.0, 84.0, 62.0, 62.0, 96.0, 47.0, 85.0, 67.0, 67.0, 80.0, 53.0, 76.0, 85.0, 75.0, 62.0, 79.0, 58.0, 60.0, 71.0, 58.0, 87.0, 45.0, 85.0, 58.0, 43.0, 67.0, 68.0, 67.0, 58.0, 77.0, 71.0, 63.0, 78.0, 60.0, 34.0, 78.0, 57.0, 62.0, 76.0, 64.0, 78.0, 53.0, 51.0, 62.0, 84.0, 60.0, 58.0, 84.0, 76.0, 73.0, 72.0, 90.0, 66.0, 83.0, 65.0, 74.0, 72.0, 24.0, 92.0, 62.0, 60.0, 57.0, 65.0, 76.0, 90.0, 86.0, 89.0, 76.0, 97.0, 70.0, 66.0, 86.0, 68.0, 83.0, 86.0, 88.0, 41.0, 65.0, 95.0, 97.0, 51.0, 66.0, 66.0, 100.0, 74.0, 54.0, 67.0, 60.0, 59.0, 81.0, 90.0, 81.0, 60.0, 65.0, 53.0, 52.0, 58.0, 69.0, 42.0, 87.0, 83.0, 72.0, 67.0, 89.0, 75.0, 64.0, 63.0, 67.0, 84.0, 74.0, 80.0, 100.0, 64.0, 75.0, 76.0, 61.0, 78.0, 37.0, 76.0, 71.0, 70.0, 71.0, 68.0, 70.0, 66.0, 65.0, 71.0, 92.0, 55.0, 69.0, 56.0, 76.0, 92.0, 59.0, 32.0, 79.0, 54.0, 58.0, 67.0, 49.0, 39.0, 73.0, 60.0, 73.0, 90.0, 44.0, 56.0, 100.0, 71.0, 69.0, 91.0, 76.0, 55.0, 75.0, 84.0, 67.0, 72.0, 78.0, 79.0, 60.0, 58.0, 46.0, 77.0, 80.0, 79.0, 69.0, 45.0, 58.0, 95.0, 78.0, 70.0, 62.0, 81.0, 81.0, 78.0, 69.0, 46.0, 80.0, 72.0, 58.0, 72.0, 96.0, 75.0, 100.0, 74.0, 59.0, 41.0, 58.0, 93.0, 61.0, 66.0, 67.0, 84.0, 82.0, 70.0, 61.0, 80.0, 62.0, 64.0, 65.0, 17.0, 67.0, 86.0, 86.0, 67.0, 100.0, 58.0, 57.0, 87.0, 51.0, 74.0, 82.0, 96.0, 65.0, 82.0, 66.0, 89.0, 72.0, 55.0, 56.0, 89.0, 48.0, 52.0, 59.0, 34.0, 73.0, 82.0, 66.0, 81.0, 72.0, 87.0, 97.0, 74.0, 75.0, 67.0, 72.0, 64.0, 76.0, 46.0, 29.0, 75.0, 44.0, 74.0, 61.0, 80.0], \"xaxis\": \"x\", \"y\": [\"reading\", \"reading\", \"reading\", \"reading\", \"reading\", \"reading\", \"reading\", \"reading\", \"reading\", \"reading\", \"reading\", \"reading\", \"reading\", \"reading\", \"reading\", \"reading\", \"reading\", \"reading\", \"reading\", \"reading\", \"reading\", \"reading\", \"reading\", \"reading\", \"reading\", \"reading\", \"reading\", \"reading\", \"reading\", \"reading\", \"reading\", \"reading\", \"reading\", \"reading\", \"reading\", \"reading\", \"reading\", \"reading\", \"reading\", \"reading\", \"reading\", \"reading\", \"reading\", \"reading\", \"reading\", \"reading\", \"reading\", \"reading\", \"reading\", \"reading\", \"reading\", \"reading\", \"reading\", \"reading\", \"reading\", \"reading\", \"reading\", \"reading\", \"reading\", \"reading\", \"reading\", \"reading\", \"reading\", \"reading\", \"reading\", \"reading\", \"reading\", \"reading\", \"reading\", \"reading\", \"reading\", \"reading\", \"reading\", \"reading\", \"reading\", \"reading\", \"reading\", \"reading\", \"reading\", \"reading\", \"reading\", \"reading\", \"reading\", \"reading\", \"reading\", \"reading\", \"reading\", \"reading\", \"reading\", \"reading\", \"reading\", \"reading\", \"reading\", \"reading\", \"reading\", \"reading\", \"reading\", \"reading\", \"reading\", \"reading\", \"reading\", \"reading\", \"reading\", \"reading\", \"reading\", \"reading\", \"reading\", \"reading\", \"reading\", \"reading\", \"reading\", \"reading\", \"reading\", \"reading\", \"reading\", \"reading\", \"reading\", \"reading\", \"reading\", \"reading\", \"reading\", \"reading\", \"reading\", \"reading\", \"reading\", \"reading\", \"reading\", \"reading\", \"reading\", \"reading\", \"reading\", \"reading\", \"reading\", \"reading\", \"reading\", \"reading\", \"reading\", \"reading\", \"reading\", \"reading\", \"reading\", \"reading\", \"reading\", \"reading\", \"reading\", \"reading\", \"reading\", \"reading\", \"reading\", \"reading\", \"reading\", \"reading\", \"reading\", \"reading\", \"reading\", \"reading\", \"reading\", \"reading\", \"reading\", \"reading\", \"reading\", \"reading\", \"reading\", \"reading\", \"reading\", \"reading\", \"reading\", \"reading\", \"reading\", \"reading\", \"reading\", \"reading\", \"reading\", \"reading\", \"reading\", \"reading\", \"reading\", \"reading\", \"reading\", \"reading\", \"reading\", \"reading\", \"reading\", \"reading\", \"reading\", \"reading\", \"reading\", \"reading\", \"reading\", \"reading\", \"reading\", \"reading\", \"reading\", \"reading\", \"reading\", \"reading\", \"reading\", \"reading\", \"reading\", \"reading\", \"reading\", \"reading\", \"reading\", \"reading\", \"reading\", \"reading\", \"reading\", \"reading\", \"reading\", \"reading\", \"reading\", \"reading\", \"reading\", \"reading\", \"reading\", \"reading\", \"reading\", \"reading\", \"reading\", \"reading\", \"reading\", \"reading\", \"reading\", \"reading\", \"reading\", \"reading\", \"reading\", \"reading\", \"reading\", \"reading\", \"reading\", \"reading\", \"reading\", \"reading\", \"reading\", \"reading\", \"reading\", \"reading\", \"reading\", \"reading\", \"reading\", \"reading\", \"reading\", \"reading\", \"reading\", \"reading\", \"reading\", \"reading\", \"reading\", \"reading\", \"reading\", \"reading\", \"reading\", \"reading\", \"reading\", \"reading\", \"reading\", \"reading\", \"reading\", \"reading\", \"reading\", \"reading\", \"reading\", \"reading\", \"reading\", \"reading\", \"reading\", \"reading\", \"reading\", \"reading\", \"reading\", \"reading\", \"reading\", \"reading\", \"reading\", \"reading\", \"reading\", \"reading\", \"reading\", \"reading\", \"reading\", \"reading\", \"reading\", \"reading\", \"reading\", \"reading\", \"reading\", \"reading\", \"reading\", \"reading\", \"reading\", \"reading\", \"reading\", \"reading\", \"reading\", \"reading\", \"reading\", \"reading\", \"reading\", \"reading\", \"reading\", \"reading\", \"reading\", \"reading\", \"reading\", \"reading\", \"reading\", \"reading\", \"reading\", \"reading\", \"reading\", \"reading\", \"reading\", \"reading\", \"reading\", \"reading\", \"reading\", \"reading\", \"reading\", \"reading\", \"reading\", \"reading\", \"reading\", \"reading\", \"reading\", \"reading\", \"reading\", \"reading\", \"reading\", \"reading\", \"reading\", \"reading\", \"reading\", \"reading\", \"reading\", \"reading\", \"reading\", \"reading\", \"reading\", \"reading\", \"reading\", \"reading\", \"reading\", \"reading\", \"reading\", \"reading\", \"reading\", \"reading\", \"reading\", \"reading\", \"reading\", \"reading\", \"reading\", \"reading\", \"reading\", \"reading\", \"reading\", \"reading\", \"reading\", \"reading\", \"reading\", \"reading\", \"reading\", \"reading\", \"reading\", \"reading\", \"reading\", \"reading\", \"reading\", \"reading\", \"reading\", \"reading\", \"reading\", \"reading\", \"reading\", \"reading\", \"reading\", \"reading\", \"reading\", \"reading\", \"reading\", \"reading\", \"reading\", \"reading\", \"reading\", \"reading\", \"reading\", \"reading\", \"reading\", \"reading\", \"reading\", \"reading\", \"reading\", \"reading\", \"reading\", \"reading\", \"reading\", \"reading\", \"reading\", \"reading\", \"reading\", \"reading\", \"reading\", \"reading\", \"reading\", \"reading\", \"reading\", \"reading\", \"reading\", \"reading\", \"reading\", \"reading\", \"reading\", \"reading\", \"reading\", \"reading\", \"reading\", \"reading\", \"reading\", \"reading\", \"reading\", \"reading\", \"reading\", \"reading\", \"reading\", \"reading\", \"reading\", \"reading\", \"reading\", \"reading\", \"reading\", \"reading\", \"reading\", \"reading\", \"reading\", \"reading\", \"reading\", \"reading\", \"reading\", \"reading\", \"reading\", \"reading\", \"reading\", \"reading\", \"reading\", \"reading\", \"reading\", \"reading\", \"reading\", \"reading\", \"reading\", \"reading\", \"reading\", \"reading\", \"reading\", \"reading\", \"reading\", \"reading\", \"reading\", \"reading\", \"reading\", \"reading\", \"reading\", \"reading\", \"reading\", \"reading\", \"reading\", \"reading\", \"reading\", \"reading\", \"reading\", \"reading\", \"reading\", \"reading\", \"reading\", \"reading\", \"reading\", \"reading\", \"reading\", \"reading\", \"reading\", \"reading\", \"reading\", \"reading\", \"reading\", \"reading\", \"reading\", \"reading\", \"reading\", \"reading\", \"reading\", \"reading\", \"reading\", \"reading\", \"reading\", \"reading\", \"reading\", \"reading\", \"reading\", \"reading\", \"reading\", \"reading\", \"reading\", \"reading\", \"reading\", \"reading\", \"reading\", \"reading\", \"reading\", \"reading\", \"reading\", \"reading\", \"reading\", \"reading\", \"reading\", \"reading\", \"reading\", \"reading\", \"reading\", \"reading\", \"reading\", \"reading\", \"reading\", \"reading\", \"reading\", \"reading\", \"reading\", \"reading\", \"reading\", \"reading\", \"reading\", \"reading\", \"reading\", \"reading\", \"reading\", \"reading\", \"reading\", \"reading\", \"reading\", \"reading\", \"reading\", \"reading\", \"reading\", \"reading\", \"reading\", \"reading\", \"reading\", \"reading\", \"reading\", \"reading\", \"reading\", \"reading\", \"reading\", \"reading\", \"reading\", \"reading\", \"reading\", \"reading\", \"reading\", \"reading\", \"reading\", \"reading\", \"reading\", \"reading\", \"reading\", \"reading\", \"reading\", \"reading\", \"reading\", \"reading\", \"reading\", \"reading\", \"reading\", \"reading\", \"reading\", \"reading\", \"reading\", \"reading\", \"reading\", \"reading\", \"reading\", \"reading\", \"reading\", \"reading\", \"reading\", \"reading\", \"reading\", \"reading\", \"reading\", \"reading\", \"reading\", \"reading\", \"reading\", \"reading\", \"reading\", \"reading\", \"reading\", \"reading\", \"reading\", \"reading\", \"reading\", \"reading\", \"reading\", \"reading\", \"reading\", \"reading\", \"reading\", \"reading\", \"reading\", \"reading\", \"reading\", \"reading\", \"reading\", \"reading\", \"reading\", \"reading\", \"reading\", \"reading\", \"reading\", \"reading\", \"reading\", \"reading\", \"reading\", \"reading\", \"reading\", \"reading\", \"reading\", \"reading\", \"reading\", \"reading\", \"reading\", \"reading\", \"reading\", \"reading\", \"reading\", \"reading\", \"reading\", \"reading\", \"reading\", \"reading\", \"reading\", \"reading\", \"reading\", \"reading\", \"reading\", \"reading\", \"reading\", \"reading\", \"reading\", \"reading\", \"reading\", \"reading\", \"reading\", \"reading\", \"reading\", \"reading\", \"reading\", \"reading\", \"reading\", \"reading\", \"reading\", \"reading\", \"reading\", \"reading\", \"reading\", \"reading\", \"reading\", \"reading\", \"reading\", \"reading\", \"reading\", \"reading\", \"reading\", \"reading\", \"reading\", \"reading\", \"reading\", \"reading\", \"reading\", \"reading\", \"reading\", \"reading\", \"reading\", \"reading\", \"reading\", \"reading\", \"reading\", \"reading\", \"reading\", \"reading\", \"reading\", \"reading\", \"reading\", \"reading\", \"reading\", \"reading\", \"reading\", \"reading\", \"reading\", \"reading\", \"reading\", \"reading\", \"reading\", \"reading\", \"reading\", \"reading\", \"reading\", \"reading\", \"reading\", \"reading\", \"reading\", \"reading\", \"reading\", \"reading\", \"reading\", \"reading\", \"reading\", \"reading\", \"reading\", \"reading\", \"reading\", \"reading\", \"reading\", \"reading\", \"reading\", \"reading\", \"reading\", \"reading\", \"reading\", \"reading\", \"reading\", \"reading\", \"reading\", \"reading\", \"reading\", \"reading\", \"reading\", \"reading\", \"reading\", \"reading\", \"reading\", \"reading\", \"reading\", \"reading\", \"reading\", \"reading\", \"reading\", \"reading\", \"reading\", \"reading\", \"reading\", \"reading\", \"reading\", \"reading\", \"reading\", \"reading\", \"reading\", \"reading\", \"reading\", \"reading\", \"reading\", \"reading\", \"reading\", \"reading\", \"reading\", \"reading\", \"reading\", \"reading\", \"reading\", \"reading\", \"reading\", \"reading\", \"reading\", \"reading\", \"reading\", \"reading\", \"reading\", \"reading\", \"reading\", \"reading\", \"reading\", \"reading\", \"reading\", \"reading\", \"reading\", \"reading\", \"reading\", \"reading\", \"reading\", \"reading\", \"reading\", \"reading\", \"reading\", \"reading\", \"reading\", \"reading\", \"reading\", \"reading\", \"reading\", \"reading\", \"reading\", \"reading\", \"reading\", \"reading\", \"reading\", \"reading\", \"reading\", \"reading\", \"reading\", \"reading\", \"reading\", \"reading\", \"reading\", \"reading\", \"reading\", \"reading\", \"reading\", \"reading\", \"reading\", \"reading\", \"reading\", \"reading\", \"reading\", \"reading\", \"reading\", \"reading\", \"reading\", \"reading\", \"reading\", \"reading\", \"reading\", \"reading\", \"reading\", \"reading\", \"reading\", \"reading\", \"reading\", \"reading\", \"reading\", \"reading\", \"reading\", \"reading\", \"reading\", \"reading\", \"reading\", \"reading\", \"reading\", \"reading\", \"reading\", \"reading\", \"reading\", \"reading\", \"reading\", \"reading\", \"reading\", \"reading\", \"reading\", \"reading\", \"reading\", \"reading\", \"reading\", \"reading\", \"reading\", \"reading\", \"reading\", \"reading\", \"reading\", \"reading\", \"reading\", \"reading\", \"reading\", \"reading\", \"reading\", \"reading\", \"reading\", \"reading\", \"reading\", \"reading\", \"reading\", \"reading\", \"reading\", \"reading\", \"reading\", \"reading\", \"reading\", \"reading\", \"reading\", \"reading\", \"reading\", \"reading\", \"reading\", \"reading\", \"reading\", \"reading\", \"reading\", \"reading\", \"reading\", \"reading\", \"reading\", \"reading\", \"reading\", \"reading\", \"reading\", \"reading\", \"reading\", \"reading\", \"reading\", \"reading\", \"reading\", \"reading\", \"reading\", \"reading\", \"reading\", \"reading\", \"reading\", \"reading\", \"reading\", \"reading\", \"reading\", \"reading\", \"reading\", \"reading\", \"reading\", \"reading\", \"reading\", \"reading\", \"reading\", \"reading\", \"reading\", \"reading\", \"reading\", \"reading\", \"reading\", \"reading\", \"reading\", \"reading\", \"reading\", \"reading\", \"reading\", \"reading\", \"reading\", \"reading\", \"reading\", \"reading\", \"reading\", \"reading\", \"reading\", \"reading\", \"reading\", \"reading\", \"reading\", \"reading\", \"reading\", \"reading\", \"reading\", \"reading\", \"reading\", \"reading\", \"reading\", \"reading\", \"reading\", \"reading\", \"reading\", \"reading\", \"reading\", \"reading\", \"reading\", \"reading\", \"reading\", \"reading\", \"reading\", \"reading\", \"reading\", \"reading\", \"reading\", \"reading\", \"reading\", \"reading\", \"reading\", \"reading\", \"reading\", \"reading\", \"reading\", \"reading\", \"reading\", \"reading\", \"reading\", \"reading\", \"reading\", \"reading\", \"reading\", \"reading\", \"reading\", \"reading\", \"reading\", \"reading\", \"reading\", \"reading\", \"reading\", \"reading\"], \"yaxis\": \"y2\"}, {\"legendgroup\": \"witring\", \"marker\": {\"color\": \"rgb(44, 160, 44)\", \"symbol\": \"line-ns-open\"}, \"mode\": \"markers\", \"name\": \"witring\", \"showlegend\": false, \"type\": \"scatter\", \"x\": [46.0, 81.0, 63.0, 76.0, 87.0, 69.0, 64.0, 41.0, 61.0, 71.0, 82.0, 70.0, 58.0, 72.0, 62.0, 68.0, 46.0, 74.0, 60.0, 68.0, 77.0, 100.0, 74.0, 55.0, 80.0, 70.0, 75.0, 67.0, 78.0, 88.0, 85.0, 74.0, 65.0, 54.0, 62.0, 62.0, 54.0, 63.0, 60.0, 27.0, 76.0, 72.0, 57.0, 53.0, 78.0, 27.0, 70.0, 61.0, 67.0, 65.0, 79.0, 71.0, 61.0, 64.0, 85.0, 65.0, 87.0, 95.0, 85.0, 60.0, 47.0, 50.0, 56.0, 52.0, 88.0, 82.0, 61.0, 65.0, 92.0, 86.0, 73.0, 78.0, 91.0, 81.0, 93.0, 58.0, 70.0, 53.0, 78.0, 88.0, 42.0, 74.0, 67.0, 77.0, 78.0, 60.0, 83.0, 61.0, 74.0, 66.0, 64.0, 70.0, 51.0, 70.0, 59.0, 83.0, 54.0, 85.0, 100.0, 72.0, 43.0, 63.0, 82.0, 71.0, 65.0, 78.0, 74.0, 43.0, 74.0, 60.0, 85.0, 61.0, 76.0, 77.0, 45.0, 58.0, 95.0, 71.0, 57.0, 78.0, 59.0, 58.0, 74.0, 46.0, 62.0, 78.0, 74.0, 81.0, 72.0, 82.0, 73.0, 50.0, 59.0, 44.0, 57.0, 54.0, 32.0, 73.0, 74.0, 57.0, 52.0, 69.0, 53.0, 54.0, 48.0, 90.0, 75.0, 83.0, 94.0, 92.0, 91.0, 62.0, 45.0, 58.0, 52.0, 63.0, 60.0, 74.0, 59.0, 86.0, 55.0, 54.0, 63.0, 73.0, 46.0, 90.0, 79.0, 58.0, 66.0, 72.0, 41.0, 42.0, 70.0, 72.0, 77.0, 76.0, 67.0, 85.0, 66.0, 54.0, 72.0, 68.0, 85.0, 76.0, 62.0, 60.0, 58.0, 56.0, 64.0, 75.0, 72.0, 83.0, 100.0, 56.0, 66.0, 71.0, 67.0, 76.0, 96.0, 68.0, 80.0, 87.0, 52.0, 82.0, 47.0, 65.0, 84.0, 79.0, 52.0, 41.0, 73.0, 83.0, 65.0, 82.0, 76.0, 79.0, 36.0, 33.0, 45.0, 58.0, 80.0, 79.0, 73.0, 62.0, 73.0, 70.0, 61.0, 75.0, 68.0, 49.0, 64.0, 73.0, 68.0, 91.0, 68.0, 68.0, 56.0, 86.0, 69.0, 57.0, 66.0, 70.0, 74.0, 56.0, 45.0, 57.0, 45.0, 58.0, 51.0, 47.0, 38.0, 78.0, 69.0, 37.0, 51.0, 90.0, 90.0, 51.0, 58.0, 66.0, 94.0, 19.0, 69.0, 56.0, 46.0, 82.0, 57.0, 100.0, 81.0, 54.0, 91.0, 80.0, 84.0, 70.0, 52.0, 68.0, 73.0, 78.0, 79.0, 70.0, 84.0, 74.0, 69.0, 75.0, 70.0, 68.0, 44.0, 69.0, 68.0, 68.0, 89.0, 72.0, 65.0, 66.0, 69.0, 73.0, 72.0, 82.0, 69.0, 69.0, 77.0, 73.0, 72.0, 77.0, 86.0, 75.0, 80.0, 54.0, 68.0, 93.0, 73.0, 92.0, 74.0, 98.0, 70.0, 73.0, 75.0, 77.0, 81.0, 52.0, 51.0, 51.0, 96.0, 62.0, 74.0, 75.0, 61.0, 67.0, 77.0, 44.0, 67.0, 62.0, 100.0, 89.0, 80.0, 78.0, 77.0, 61.0, 72.0, 67.0, 86.0, 61.0, 80.0, 67.0, 53.0, 55.0, 87.0, 71.0, 59.0, 50.0, 81.0, 69.0, 74.0, 54.0, 55.0, 60.0, 96.0, 93.0, 71.0, 91.0, 42.0, 83.0, 66.0, 81.0, 41.0, 56.0, 77.0, 58.0, 66.0, 52.0, 47.0, 41.0, 68.0, 63.0, 62.0, 71.0, 39.0, 80.0, 61.0, 70.0, 72.0, 89.0, 81.0, 48.0, 60.0, 55.0, 54.0, 86.0, 70.0, 73.0, 72.0, 47.0, 38.0, 88.0, 22.0, 80.0, 66.0, 80.0, 83.0, 50.0, 87.0, 85.0, 87.0, 85.0, 87.0, 70.0, 67.0, 70.0, 61.0, 51.0, 61.0, 48.0, 57.0, 87.0, 89.0, 65.0, 52.0, 80.0, 88.0, 52.0, 56.0, 80.0, 68.0, 47.0, 51.0, 80.0, 73.0, 68.0, 89.0, 86.0, 70.0, 57.0, 77.0, 69.0, 80.0, 73.0, 63.0, 78.0, 76.0, 73.0, 52.0, 66.0, 74.0, 60.0, 82.0, 65.0, 46.0, 69.0, 76.0, 46.0, 72.0, 51.0, 84.0, 85.0, 60.0, 80.0, 65.0, 58.0, 64.0, 58.0, 83.0, 91.0, 80.0, 66.0, 64.0, 66.0, 100.0, 23.0, 62.0, 64.0, 65.0, 82.0, 91.0, 75.0, 69.0, 64.0, 43.0, 69.0, 47.0, 74.0, 57.0, 48.0, 56.0, 94.0, 91.0, 57.0, 76.0, 50.0, 63.0, 79.0, 44.0, 95.0, 71.0, 57.0, 41.0, 62.0, 68.0, 43.0, 54.0, 65.0, 76.0, 47.0, 64.0, 75.0, 78.0, 73.0, 57.0, 95.0, 66.0, 38.0, 76.0, 79.0, 82.0, 85.0, 65.0, 86.0, 73.0, 65.0, 76.0, 70.0, 49.0, 51.0, 48.0, 80.0, 73.0, 65.0, 82.0, 59.0, 73.0, 84.0, 77.0, 75.0, 68.0, 88.0, 86.0, 51.0, 62.0, 79.0, 54.0, 37.0, 62.0, 76.0, 89.0, 97.0, 68.0, 92.0, 55.0, 68.0, 60.0, 71.0, 88.0, 75.0, 53.0, 73.0, 91.0, 43.0, 81.0, 74.0, 36.0, 70.0, 75.0, 93.0, 50.0, 52.0, 42.0, 64.0, 53.0, 53.0, 51.0, 53.0, 34.0, 92.0, 58.0, 72.0, 76.0, 66.0, 100.0, 38.0, 61.0, 71.0, 87.0, 85.0, 92.0, 56.0, 50.0, 48.0, 82.0, 77.0, 63.0, 52.0, 89.0, 54.0, 83.0, 54.0, 66.0, 69.0, 56.0, 83.0, 100.0, 87.0, 79.0, 75.0, 78.0, 82.0, 84.0, 68.0, 78.0, 52.0, 62.0, 82.0, 74.0, 70.0, 44.0, 66.0, 78.0, 93.0, 44.0, 61.0, 55.0, 71.0, 72.0, 48.0, 98.0, 43.0, 66.0, 54.0, 59.0, 71.0, 84.0, 72.0, 40.0, 58.0, 70.0, 94.0, 72.0, 74.0, 52.0, 100.0, 54.0, 68.0, 75.0, 81.0, 59.0, 53.0, 90.0, 73.0, 100.0, 51.0, 82.0, 100.0, 61.0, 72.0, 76.0, 46.0, 95.0, 62.0, 93.0, 68.0, 79.0, 53.0, 51.0, 49.0, 84.0, 63.0, 78.0, 74.0, 77.0, 56.0, 60.0, 90.0, 82.0, 85.0, 64.0, 70.0, 45.0, 69.0, 76.0, 51.0, 60.0, 36.0, 45.0, 70.0, 43.0, 69.0, 97.0, 74.0, 43.0, 72.0, 62.0, 64.0, 82.0, 43.0, 60.0, 65.0, 70.0, 35.0, 77.0, 80.0, 49.0, 74.0, 53.0, 53.0, 77.0, 95.0, 49.0, 75.0, 95.0, 34.0, 78.0, 82.0, 52.0, 74.0, 89.0, 60.0, 58.0, 54.0, 57.0, 67.0, 74.0, 90.0, 67.0, 61.0, 80.0, 62.0, 41.0, 44.0, 57.0, 50.0, 73.0, 84.0, 70.0, 57.0, 71.0, 73.0, 81.0, 61.0, 79.0, 42.0, 95.0, 62.0, 83.0, 63.0, 71.0, 85.0, 79.0, 74.0, 53.0, 76.0, 54.0, 60.0, 58.0, 78.0, 34.0, 77.0, 27.0, 46.0, 86.0, 69.0, 61.0, 99.0, 49.0, 76.0, 65.0, 66.0, 76.0, 52.0, 78.0, 86.0, 81.0, 66.0, 77.0, 55.0, 63.0, 80.0, 47.0, 79.0, 38.0, 80.0, 57.0, 41.0, 64.0, 75.0, 68.0, 54.0, 77.0, 80.0, 59.0, 75.0, 58.0, 38.0, 74.0, 52.0, 66.0, 74.0, 55.0, 79.0, 55.0, 55.0, 64.0, 81.0, 55.0, 62.0, 82.0, 74.0, 68.0, 64.0, 88.0, 73.0, 83.0, 55.0, 77.0, 79.0, 15.0, 84.0, 63.0, 65.0, 56.0, 61.0, 78.0, 93.0, 87.0, 84.0, 67.0, 96.0, 75.0, 67.0, 89.0, 68.0, 78.0, 83.0, 90.0, 43.0, 66.0, 86.0, 94.0, 52.0, 60.0, 62.0, 99.0, 76.0, 55.0, 59.0, 57.0, 59.0, 79.0, 88.0, 76.0, 74.0, 63.0, 43.0, 51.0, 60.0, 65.0, 39.0, 81.0, 79.0, 70.0, 61.0, 94.0, 70.0, 67.0, 64.0, 69.0, 84.0, 76.0, 72.0, 100.0, 66.0, 82.0, 70.0, 54.0, 78.0, 40.0, 64.0, 67.0, 69.0, 69.0, 73.0, 67.0, 72.0, 62.0, 67.0, 88.0, 51.0, 65.0, 53.0, 71.0, 91.0, 62.0, 28.0, 84.0, 53.0, 64.0, 67.0, 42.0, 33.0, 69.0, 57.0, 68.0, 82.0, 47.0, 52.0, 99.0, 70.0, 67.0, 81.0, 68.0, 49.0, 80.0, 76.0, 67.0, 68.0, 81.0, 80.0, 63.0, 67.0, 42.0, 75.0, 77.0, 84.0, 68.0, 40.0, 60.0, 92.0, 77.0, 73.0, 50.0, 84.0, 77.0, 74.0, 70.0, 50.0, 82.0, 65.0, 53.0, 67.0, 91.0, 72.0, 100.0, 77.0, 66.0, 48.0, 54.0, 93.0, 62.0, 71.0, 64.0, 84.0, 80.0, 72.0, 54.0, 80.0, 64.0, 59.0, 74.0, 10.0, 62.0, 81.0, 81.0, 64.0, 100.0, 49.0, 44.0, 81.0, 54.0, 68.0, 88.0, 92.0, 62.0, 90.0, 59.0, 92.0, 74.0, 56.0, 54.0, 90.0, 46.0, 49.0, 53.0, 32.0, 78.0, 78.0, 67.0, 82.0, 74.0, 75.0, 99.0, 70.0, 79.0, 67.0, 70.0, 75.0, 80.0, 43.0, 30.0, 71.0, 36.0, 81.0, 62.0, 76.0], \"xaxis\": \"x\", \"y\": [\"witring\", \"witring\", \"witring\", \"witring\", \"witring\", \"witring\", \"witring\", \"witring\", \"witring\", \"witring\", \"witring\", \"witring\", \"witring\", \"witring\", \"witring\", \"witring\", \"witring\", \"witring\", \"witring\", \"witring\", \"witring\", \"witring\", \"witring\", \"witring\", \"witring\", \"witring\", \"witring\", \"witring\", \"witring\", \"witring\", \"witring\", \"witring\", \"witring\", \"witring\", \"witring\", \"witring\", \"witring\", \"witring\", \"witring\", \"witring\", \"witring\", \"witring\", \"witring\", \"witring\", \"witring\", \"witring\", \"witring\", \"witring\", \"witring\", \"witring\", \"witring\", \"witring\", \"witring\", \"witring\", \"witring\", \"witring\", \"witring\", \"witring\", \"witring\", \"witring\", \"witring\", \"witring\", \"witring\", \"witring\", \"witring\", \"witring\", \"witring\", \"witring\", \"witring\", \"witring\", \"witring\", \"witring\", \"witring\", \"witring\", \"witring\", \"witring\", \"witring\", \"witring\", \"witring\", \"witring\", \"witring\", \"witring\", \"witring\", \"witring\", \"witring\", \"witring\", \"witring\", \"witring\", \"witring\", \"witring\", \"witring\", \"witring\", \"witring\", \"witring\", \"witring\", \"witring\", \"witring\", \"witring\", \"witring\", \"witring\", \"witring\", \"witring\", \"witring\", \"witring\", \"witring\", \"witring\", \"witring\", \"witring\", \"witring\", \"witring\", \"witring\", \"witring\", \"witring\", \"witring\", \"witring\", \"witring\", \"witring\", \"witring\", \"witring\", \"witring\", \"witring\", \"witring\", \"witring\", \"witring\", \"witring\", \"witring\", \"witring\", \"witring\", \"witring\", \"witring\", \"witring\", \"witring\", \"witring\", \"witring\", \"witring\", \"witring\", \"witring\", \"witring\", \"witring\", \"witring\", \"witring\", \"witring\", \"witring\", \"witring\", \"witring\", \"witring\", \"witring\", \"witring\", \"witring\", \"witring\", \"witring\", \"witring\", \"witring\", \"witring\", \"witring\", \"witring\", \"witring\", \"witring\", \"witring\", \"witring\", \"witring\", \"witring\", \"witring\", \"witring\", \"witring\", \"witring\", \"witring\", \"witring\", \"witring\", \"witring\", \"witring\", \"witring\", \"witring\", \"witring\", \"witring\", \"witring\", \"witring\", \"witring\", \"witring\", \"witring\", \"witring\", \"witring\", \"witring\", \"witring\", \"witring\", \"witring\", \"witring\", \"witring\", \"witring\", \"witring\", \"witring\", \"witring\", \"witring\", \"witring\", \"witring\", \"witring\", \"witring\", \"witring\", \"witring\", \"witring\", \"witring\", \"witring\", \"witring\", \"witring\", \"witring\", \"witring\", \"witring\", \"witring\", \"witring\", \"witring\", \"witring\", \"witring\", \"witring\", \"witring\", \"witring\", \"witring\", \"witring\", \"witring\", \"witring\", \"witring\", \"witring\", \"witring\", \"witring\", \"witring\", \"witring\", \"witring\", \"witring\", \"witring\", \"witring\", \"witring\", \"witring\", \"witring\", \"witring\", \"witring\", \"witring\", \"witring\", \"witring\", \"witring\", \"witring\", \"witring\", \"witring\", \"witring\", \"witring\", \"witring\", \"witring\", \"witring\", \"witring\", \"witring\", \"witring\", \"witring\", \"witring\", \"witring\", \"witring\", \"witring\", \"witring\", \"witring\", \"witring\", \"witring\", \"witring\", \"witring\", \"witring\", \"witring\", \"witring\", \"witring\", \"witring\", \"witring\", \"witring\", \"witring\", \"witring\", \"witring\", \"witring\", \"witring\", \"witring\", \"witring\", \"witring\", \"witring\", \"witring\", \"witring\", \"witring\", \"witring\", \"witring\", \"witring\", \"witring\", \"witring\", \"witring\", \"witring\", \"witring\", \"witring\", \"witring\", \"witring\", \"witring\", \"witring\", \"witring\", \"witring\", \"witring\", \"witring\", \"witring\", \"witring\", \"witring\", \"witring\", \"witring\", \"witring\", \"witring\", \"witring\", \"witring\", \"witring\", \"witring\", \"witring\", \"witring\", \"witring\", \"witring\", \"witring\", \"witring\", \"witring\", \"witring\", \"witring\", \"witring\", \"witring\", \"witring\", \"witring\", \"witring\", \"witring\", \"witring\", \"witring\", \"witring\", \"witring\", \"witring\", \"witring\", \"witring\", \"witring\", \"witring\", \"witring\", \"witring\", \"witring\", \"witring\", \"witring\", \"witring\", \"witring\", \"witring\", \"witring\", \"witring\", \"witring\", \"witring\", \"witring\", \"witring\", \"witring\", \"witring\", \"witring\", \"witring\", \"witring\", \"witring\", \"witring\", \"witring\", \"witring\", \"witring\", \"witring\", \"witring\", \"witring\", \"witring\", \"witring\", \"witring\", \"witring\", \"witring\", \"witring\", \"witring\", \"witring\", \"witring\", \"witring\", \"witring\", \"witring\", \"witring\", \"witring\", \"witring\", \"witring\", \"witring\", \"witring\", \"witring\", \"witring\", \"witring\", \"witring\", \"witring\", \"witring\", \"witring\", \"witring\", \"witring\", \"witring\", \"witring\", \"witring\", \"witring\", \"witring\", \"witring\", \"witring\", \"witring\", \"witring\", \"witring\", \"witring\", \"witring\", \"witring\", \"witring\", \"witring\", \"witring\", \"witring\", \"witring\", \"witring\", \"witring\", \"witring\", \"witring\", \"witring\", \"witring\", \"witring\", \"witring\", \"witring\", \"witring\", \"witring\", \"witring\", \"witring\", \"witring\", \"witring\", \"witring\", \"witring\", \"witring\", \"witring\", \"witring\", \"witring\", \"witring\", \"witring\", \"witring\", \"witring\", \"witring\", \"witring\", \"witring\", \"witring\", \"witring\", \"witring\", \"witring\", \"witring\", \"witring\", \"witring\", \"witring\", \"witring\", \"witring\", \"witring\", \"witring\", \"witring\", \"witring\", \"witring\", \"witring\", \"witring\", \"witring\", \"witring\", \"witring\", \"witring\", \"witring\", \"witring\", \"witring\", \"witring\", \"witring\", \"witring\", \"witring\", \"witring\", \"witring\", \"witring\", \"witring\", \"witring\", \"witring\", \"witring\", \"witring\", \"witring\", \"witring\", \"witring\", \"witring\", \"witring\", \"witring\", \"witring\", \"witring\", \"witring\", \"witring\", \"witring\", \"witring\", \"witring\", \"witring\", \"witring\", \"witring\", \"witring\", \"witring\", \"witring\", \"witring\", \"witring\", \"witring\", \"witring\", \"witring\", \"witring\", \"witring\", \"witring\", \"witring\", \"witring\", \"witring\", \"witring\", \"witring\", \"witring\", \"witring\", \"witring\", \"witring\", \"witring\", \"witring\", \"witring\", \"witring\", \"witring\", \"witring\", \"witring\", \"witring\", \"witring\", \"witring\", \"witring\", \"witring\", \"witring\", \"witring\", \"witring\", \"witring\", \"witring\", \"witring\", \"witring\", \"witring\", \"witring\", \"witring\", \"witring\", \"witring\", \"witring\", \"witring\", \"witring\", \"witring\", \"witring\", \"witring\", \"witring\", \"witring\", \"witring\", \"witring\", \"witring\", \"witring\", \"witring\", \"witring\", \"witring\", \"witring\", \"witring\", \"witring\", \"witring\", \"witring\", \"witring\", \"witring\", \"witring\", \"witring\", \"witring\", \"witring\", \"witring\", \"witring\", \"witring\", \"witring\", \"witring\", \"witring\", \"witring\", \"witring\", \"witring\", \"witring\", \"witring\", \"witring\", \"witring\", \"witring\", \"witring\", \"witring\", \"witring\", \"witring\", \"witring\", \"witring\", \"witring\", \"witring\", \"witring\", \"witring\", \"witring\", \"witring\", \"witring\", \"witring\", \"witring\", \"witring\", \"witring\", \"witring\", \"witring\", \"witring\", \"witring\", \"witring\", \"witring\", \"witring\", \"witring\", \"witring\", \"witring\", \"witring\", \"witring\", \"witring\", \"witring\", \"witring\", \"witring\", \"witring\", \"witring\", \"witring\", \"witring\", \"witring\", \"witring\", \"witring\", \"witring\", \"witring\", \"witring\", \"witring\", \"witring\", \"witring\", \"witring\", \"witring\", \"witring\", \"witring\", \"witring\", \"witring\", \"witring\", \"witring\", \"witring\", \"witring\", \"witring\", \"witring\", \"witring\", \"witring\", \"witring\", \"witring\", \"witring\", \"witring\", \"witring\", \"witring\", \"witring\", \"witring\", \"witring\", \"witring\", \"witring\", \"witring\", \"witring\", \"witring\", \"witring\", \"witring\", \"witring\", \"witring\", \"witring\", \"witring\", \"witring\", \"witring\", \"witring\", \"witring\", \"witring\", \"witring\", \"witring\", \"witring\", \"witring\", \"witring\", \"witring\", \"witring\", \"witring\", \"witring\", \"witring\", \"witring\", \"witring\", \"witring\", \"witring\", \"witring\", \"witring\", \"witring\", \"witring\", \"witring\", \"witring\", \"witring\", \"witring\", \"witring\", \"witring\", \"witring\", \"witring\", \"witring\", \"witring\", \"witring\", \"witring\", \"witring\", \"witring\", \"witring\", \"witring\", \"witring\", \"witring\", \"witring\", \"witring\", \"witring\", \"witring\", \"witring\", \"witring\", \"witring\", \"witring\", \"witring\", \"witring\", \"witring\", \"witring\", \"witring\", \"witring\", \"witring\", \"witring\", \"witring\", \"witring\", \"witring\", \"witring\", \"witring\", \"witring\", \"witring\", \"witring\", \"witring\", \"witring\", \"witring\", \"witring\", \"witring\", \"witring\", \"witring\", \"witring\", \"witring\", \"witring\", \"witring\", \"witring\", \"witring\", \"witring\", \"witring\", \"witring\", \"witring\", \"witring\", \"witring\", \"witring\", \"witring\", \"witring\", \"witring\", \"witring\", \"witring\", \"witring\", \"witring\", \"witring\", \"witring\", \"witring\", \"witring\", \"witring\", \"witring\", \"witring\", \"witring\", \"witring\", \"witring\", \"witring\", \"witring\", \"witring\", \"witring\", \"witring\", \"witring\", \"witring\", \"witring\", \"witring\", \"witring\", \"witring\", \"witring\", \"witring\", \"witring\", \"witring\", \"witring\", \"witring\", \"witring\", \"witring\", \"witring\", \"witring\", \"witring\", \"witring\", \"witring\", \"witring\", \"witring\", \"witring\", \"witring\", \"witring\", \"witring\", \"witring\", \"witring\", \"witring\", \"witring\", \"witring\", \"witring\", \"witring\", \"witring\", \"witring\", \"witring\", \"witring\", \"witring\", \"witring\", \"witring\", \"witring\", \"witring\", \"witring\", \"witring\", \"witring\", \"witring\", \"witring\", \"witring\", \"witring\", \"witring\", \"witring\", \"witring\", \"witring\", \"witring\", \"witring\", \"witring\", \"witring\", \"witring\", \"witring\", \"witring\", \"witring\", \"witring\", \"witring\", \"witring\", \"witring\", \"witring\", \"witring\", \"witring\", \"witring\", \"witring\", \"witring\", \"witring\", \"witring\", \"witring\", \"witring\", \"witring\", \"witring\", \"witring\", \"witring\", \"witring\", \"witring\", \"witring\", \"witring\", \"witring\", \"witring\", \"witring\", \"witring\", \"witring\", \"witring\", \"witring\", \"witring\", \"witring\", \"witring\", \"witring\", \"witring\", \"witring\", \"witring\", \"witring\", \"witring\", \"witring\", \"witring\", \"witring\", \"witring\", \"witring\", \"witring\", \"witring\", \"witring\", \"witring\", \"witring\", \"witring\", \"witring\", \"witring\", \"witring\", \"witring\", \"witring\", \"witring\", \"witring\", \"witring\", \"witring\", \"witring\", \"witring\", \"witring\", \"witring\", \"witring\", \"witring\", \"witring\", \"witring\", \"witring\", \"witring\", \"witring\", \"witring\", \"witring\", \"witring\", \"witring\", \"witring\", \"witring\", \"witring\", \"witring\", \"witring\", \"witring\", \"witring\", \"witring\", \"witring\", \"witring\", \"witring\", \"witring\", \"witring\", \"witring\", \"witring\", \"witring\", \"witring\", \"witring\", \"witring\", \"witring\", \"witring\", \"witring\", \"witring\", \"witring\", \"witring\", \"witring\", \"witring\", \"witring\", \"witring\", \"witring\", \"witring\", \"witring\", \"witring\", \"witring\", \"witring\", \"witring\", \"witring\", \"witring\", \"witring\", \"witring\", \"witring\", \"witring\", \"witring\", \"witring\", \"witring\", \"witring\", \"witring\", \"witring\", \"witring\", \"witring\", \"witring\", \"witring\", \"witring\", \"witring\", \"witring\", \"witring\", \"witring\", \"witring\", \"witring\", \"witring\", \"witring\", \"witring\", \"witring\", \"witring\", \"witring\", \"witring\", \"witring\", \"witring\", \"witring\", \"witring\", \"witring\", \"witring\", \"witring\", \"witring\", \"witring\", \"witring\", \"witring\", \"witring\", \"witring\", \"witring\", \"witring\", \"witring\", \"witring\", \"witring\", \"witring\", \"witring\", \"witring\", \"witring\", \"witring\", \"witring\", \"witring\", \"witring\", \"witring\", \"witring\", \"witring\", \"witring\", \"witring\", \"witring\", \"witring\", \"witring\", \"witring\", \"witring\", \"witring\", \"witring\", \"witring\", \"witring\", \"witring\", \"witring\", \"witring\", \"witring\", \"witring\", \"witring\", \"witring\"], \"yaxis\": \"y2\"}],                        {\"barmode\": \"overlay\", \"hovermode\": \"closest\", \"legend\": {\"traceorder\": \"reversed\"}, \"template\": {\"data\": {\"bar\": [{\"error_x\": {\"color\": \"#2a3f5f\"}, \"error_y\": {\"color\": \"#2a3f5f\"}, \"marker\": {\"line\": {\"color\": \"#E5ECF6\", \"width\": 0.5}}, \"type\": \"bar\"}], \"barpolar\": [{\"marker\": {\"line\": {\"color\": \"#E5ECF6\", \"width\": 0.5}}, \"type\": \"barpolar\"}], \"carpet\": [{\"aaxis\": {\"endlinecolor\": \"#2a3f5f\", \"gridcolor\": \"white\", \"linecolor\": \"white\", \"minorgridcolor\": \"white\", \"startlinecolor\": \"#2a3f5f\"}, \"baxis\": {\"endlinecolor\": \"#2a3f5f\", \"gridcolor\": \"white\", \"linecolor\": \"white\", \"minorgridcolor\": \"white\", \"startlinecolor\": \"#2a3f5f\"}, \"type\": \"carpet\"}], \"choropleth\": [{\"colorbar\": {\"outlinewidth\": 0, \"ticks\": \"\"}, \"type\": \"choropleth\"}], \"contour\": [{\"colorbar\": {\"outlinewidth\": 0, \"ticks\": \"\"}, \"colorscale\": [[0.0, \"#0d0887\"], [0.1111111111111111, \"#46039f\"], [0.2222222222222222, \"#7201a8\"], [0.3333333333333333, \"#9c179e\"], [0.4444444444444444, \"#bd3786\"], [0.5555555555555556, \"#d8576b\"], [0.6666666666666666, \"#ed7953\"], [0.7777777777777778, \"#fb9f3a\"], [0.8888888888888888, \"#fdca26\"], [1.0, \"#f0f921\"]], \"type\": \"contour\"}], \"contourcarpet\": [{\"colorbar\": {\"outlinewidth\": 0, \"ticks\": \"\"}, \"type\": \"contourcarpet\"}], \"heatmap\": [{\"colorbar\": {\"outlinewidth\": 0, \"ticks\": \"\"}, \"colorscale\": [[0.0, \"#0d0887\"], [0.1111111111111111, \"#46039f\"], [0.2222222222222222, \"#7201a8\"], [0.3333333333333333, \"#9c179e\"], [0.4444444444444444, \"#bd3786\"], [0.5555555555555556, \"#d8576b\"], [0.6666666666666666, \"#ed7953\"], [0.7777777777777778, \"#fb9f3a\"], [0.8888888888888888, \"#fdca26\"], [1.0, \"#f0f921\"]], \"type\": \"heatmap\"}], \"heatmapgl\": [{\"colorbar\": {\"outlinewidth\": 0, \"ticks\": \"\"}, \"colorscale\": [[0.0, \"#0d0887\"], [0.1111111111111111, \"#46039f\"], [0.2222222222222222, \"#7201a8\"], [0.3333333333333333, \"#9c179e\"], [0.4444444444444444, \"#bd3786\"], [0.5555555555555556, \"#d8576b\"], [0.6666666666666666, \"#ed7953\"], [0.7777777777777778, \"#fb9f3a\"], [0.8888888888888888, \"#fdca26\"], [1.0, \"#f0f921\"]], \"type\": \"heatmapgl\"}], \"histogram\": [{\"marker\": {\"colorbar\": {\"outlinewidth\": 0, \"ticks\": \"\"}}, \"type\": \"histogram\"}], \"histogram2d\": [{\"colorbar\": {\"outlinewidth\": 0, \"ticks\": \"\"}, \"colorscale\": [[0.0, \"#0d0887\"], [0.1111111111111111, \"#46039f\"], [0.2222222222222222, \"#7201a8\"], [0.3333333333333333, \"#9c179e\"], [0.4444444444444444, \"#bd3786\"], [0.5555555555555556, \"#d8576b\"], [0.6666666666666666, \"#ed7953\"], [0.7777777777777778, \"#fb9f3a\"], [0.8888888888888888, \"#fdca26\"], [1.0, \"#f0f921\"]], \"type\": \"histogram2d\"}], \"histogram2dcontour\": [{\"colorbar\": {\"outlinewidth\": 0, \"ticks\": \"\"}, \"colorscale\": [[0.0, \"#0d0887\"], [0.1111111111111111, \"#46039f\"], [0.2222222222222222, \"#7201a8\"], [0.3333333333333333, \"#9c179e\"], [0.4444444444444444, \"#bd3786\"], [0.5555555555555556, \"#d8576b\"], [0.6666666666666666, \"#ed7953\"], [0.7777777777777778, \"#fb9f3a\"], [0.8888888888888888, \"#fdca26\"], [1.0, \"#f0f921\"]], \"type\": \"histogram2dcontour\"}], \"mesh3d\": [{\"colorbar\": {\"outlinewidth\": 0, \"ticks\": \"\"}, \"type\": \"mesh3d\"}], \"parcoords\": [{\"line\": {\"colorbar\": {\"outlinewidth\": 0, \"ticks\": \"\"}}, \"type\": \"parcoords\"}], \"pie\": [{\"automargin\": true, \"type\": \"pie\"}], \"scatter\": [{\"marker\": {\"colorbar\": {\"outlinewidth\": 0, \"ticks\": \"\"}}, \"type\": \"scatter\"}], \"scatter3d\": [{\"line\": {\"colorbar\": {\"outlinewidth\": 0, \"ticks\": \"\"}}, \"marker\": {\"colorbar\": {\"outlinewidth\": 0, \"ticks\": \"\"}}, \"type\": \"scatter3d\"}], \"scattercarpet\": [{\"marker\": {\"colorbar\": {\"outlinewidth\": 0, \"ticks\": \"\"}}, \"type\": \"scattercarpet\"}], \"scattergeo\": [{\"marker\": {\"colorbar\": {\"outlinewidth\": 0, \"ticks\": \"\"}}, \"type\": \"scattergeo\"}], \"scattergl\": [{\"marker\": {\"colorbar\": {\"outlinewidth\": 0, \"ticks\": \"\"}}, \"type\": \"scattergl\"}], \"scattermapbox\": [{\"marker\": {\"colorbar\": {\"outlinewidth\": 0, \"ticks\": \"\"}}, \"type\": \"scattermapbox\"}], \"scatterpolar\": [{\"marker\": {\"colorbar\": {\"outlinewidth\": 0, \"ticks\": \"\"}}, \"type\": \"scatterpolar\"}], \"scatterpolargl\": [{\"marker\": {\"colorbar\": {\"outlinewidth\": 0, \"ticks\": \"\"}}, \"type\": \"scatterpolargl\"}], \"scatterternary\": [{\"marker\": {\"colorbar\": {\"outlinewidth\": 0, \"ticks\": \"\"}}, \"type\": \"scatterternary\"}], \"surface\": [{\"colorbar\": {\"outlinewidth\": 0, \"ticks\": \"\"}, \"colorscale\": [[0.0, \"#0d0887\"], [0.1111111111111111, \"#46039f\"], [0.2222222222222222, \"#7201a8\"], [0.3333333333333333, \"#9c179e\"], [0.4444444444444444, \"#bd3786\"], [0.5555555555555556, \"#d8576b\"], [0.6666666666666666, \"#ed7953\"], [0.7777777777777778, \"#fb9f3a\"], [0.8888888888888888, \"#fdca26\"], [1.0, \"#f0f921\"]], \"type\": \"surface\"}], \"table\": [{\"cells\": {\"fill\": {\"color\": \"#EBF0F8\"}, \"line\": {\"color\": \"white\"}}, \"header\": {\"fill\": {\"color\": \"#C8D4E3\"}, \"line\": {\"color\": \"white\"}}, \"type\": \"table\"}]}, \"layout\": {\"annotationdefaults\": {\"arrowcolor\": \"#2a3f5f\", \"arrowhead\": 0, \"arrowwidth\": 1}, \"autotypenumbers\": \"strict\", \"coloraxis\": {\"colorbar\": {\"outlinewidth\": 0, \"ticks\": \"\"}}, \"colorscale\": {\"diverging\": [[0, \"#8e0152\"], [0.1, \"#c51b7d\"], [0.2, \"#de77ae\"], [0.3, \"#f1b6da\"], [0.4, \"#fde0ef\"], [0.5, \"#f7f7f7\"], [0.6, \"#e6f5d0\"], [0.7, \"#b8e186\"], [0.8, \"#7fbc41\"], [0.9, \"#4d9221\"], [1, \"#276419\"]], \"sequential\": [[0.0, \"#0d0887\"], [0.1111111111111111, \"#46039f\"], [0.2222222222222222, \"#7201a8\"], [0.3333333333333333, \"#9c179e\"], [0.4444444444444444, \"#bd3786\"], [0.5555555555555556, \"#d8576b\"], [0.6666666666666666, \"#ed7953\"], [0.7777777777777778, \"#fb9f3a\"], [0.8888888888888888, \"#fdca26\"], [1.0, \"#f0f921\"]], \"sequentialminus\": [[0.0, \"#0d0887\"], [0.1111111111111111, \"#46039f\"], [0.2222222222222222, \"#7201a8\"], [0.3333333333333333, \"#9c179e\"], [0.4444444444444444, \"#bd3786\"], [0.5555555555555556, \"#d8576b\"], [0.6666666666666666, \"#ed7953\"], [0.7777777777777778, \"#fb9f3a\"], [0.8888888888888888, \"#fdca26\"], [1.0, \"#f0f921\"]]}, \"colorway\": [\"#636efa\", \"#EF553B\", \"#00cc96\", \"#ab63fa\", \"#FFA15A\", \"#19d3f3\", \"#FF6692\", \"#B6E880\", \"#FF97FF\", \"#FECB52\"], \"font\": {\"color\": \"#2a3f5f\"}, \"geo\": {\"bgcolor\": \"white\", \"lakecolor\": \"white\", \"landcolor\": \"#E5ECF6\", \"showlakes\": true, \"showland\": true, \"subunitcolor\": \"white\"}, \"hoverlabel\": {\"align\": \"left\"}, \"hovermode\": \"closest\", \"mapbox\": {\"style\": \"light\"}, \"paper_bgcolor\": \"white\", \"plot_bgcolor\": \"#E5ECF6\", \"polar\": {\"angularaxis\": {\"gridcolor\": \"white\", \"linecolor\": \"white\", \"ticks\": \"\"}, \"bgcolor\": \"#E5ECF6\", \"radialaxis\": {\"gridcolor\": \"white\", \"linecolor\": \"white\", \"ticks\": \"\"}}, \"scene\": {\"xaxis\": {\"backgroundcolor\": \"#E5ECF6\", \"gridcolor\": \"white\", \"gridwidth\": 2, \"linecolor\": \"white\", \"showbackground\": true, \"ticks\": \"\", \"zerolinecolor\": \"white\"}, \"yaxis\": {\"backgroundcolor\": \"#E5ECF6\", \"gridcolor\": \"white\", \"gridwidth\": 2, \"linecolor\": \"white\", \"showbackground\": true, \"ticks\": \"\", \"zerolinecolor\": \"white\"}, \"zaxis\": {\"backgroundcolor\": \"#E5ECF6\", \"gridcolor\": \"white\", \"gridwidth\": 2, \"linecolor\": \"white\", \"showbackground\": true, \"ticks\": \"\", \"zerolinecolor\": \"white\"}}, \"shapedefaults\": {\"line\": {\"color\": \"#2a3f5f\"}}, \"ternary\": {\"aaxis\": {\"gridcolor\": \"white\", \"linecolor\": \"white\", \"ticks\": \"\"}, \"baxis\": {\"gridcolor\": \"white\", \"linecolor\": \"white\", \"ticks\": \"\"}, \"bgcolor\": \"#E5ECF6\", \"caxis\": {\"gridcolor\": \"white\", \"linecolor\": \"white\", \"ticks\": \"\"}}, \"title\": {\"x\": 0.05}, \"xaxis\": {\"automargin\": true, \"gridcolor\": \"white\", \"linecolor\": \"white\", \"ticks\": \"\", \"title\": {\"standoff\": 15}, \"zerolinecolor\": \"white\", \"zerolinewidth\": 2}, \"yaxis\": {\"automargin\": true, \"gridcolor\": \"white\", \"linecolor\": \"white\", \"ticks\": \"\", \"title\": {\"standoff\": 15}, \"zerolinecolor\": \"white\", \"zerolinewidth\": 2}}}, \"xaxis\": {\"anchor\": \"y2\", \"domain\": [0.0, 1.0], \"zeroline\": false}, \"yaxis\": {\"anchor\": \"free\", \"domain\": [0.35, 1], \"position\": 0.0}, \"yaxis2\": {\"anchor\": \"x\", \"domain\": [0, 0.25], \"dtick\": 1, \"showticklabels\": false}},                        {\"responsive\": true}                    ).then(function(){\n",
              "                            \n",
              "var gd = document.getElementById('29969653-611a-4d5b-a274-1e9e256eeeb7');\n",
              "var x = new MutationObserver(function (mutations, observer) {{\n",
              "        var display = window.getComputedStyle(gd).display;\n",
              "        if (!display || display === 'none') {{\n",
              "            console.log([gd, 'removed!']);\n",
              "            Plotly.purge(gd);\n",
              "            observer.disconnect();\n",
              "        }}\n",
              "}});\n",
              "\n",
              "// Listen for the removal of the full notebook cells\n",
              "var notebookContainer = gd.closest('#notebook-container');\n",
              "if (notebookContainer) {{\n",
              "    x.observe(notebookContainer, {childList: true});\n",
              "}}\n",
              "\n",
              "// Listen for the clearing of the current output cell\n",
              "var outputEl = gd.closest('.output');\n",
              "if (outputEl) {{\n",
              "    x.observe(outputEl, {childList: true});\n",
              "}}\n",
              "\n",
              "                        })                };                            </script>        </div>\n",
              "</body>\n",
              "</html>"
            ]
          },
          "metadata": {
            "tags": []
          }
        }
      ]
    },
    {
      "cell_type": "markdown",
      "metadata": {
        "id": "iAnb7kcRj9gJ"
      },
      "source": [
        "> Utilice la función creada en el punto 1.1 para verificar sus resultados."
      ]
    },
    {
      "cell_type": "markdown",
      "metadata": {
        "id": "mPmHNen3jZCX"
      },
      "source": [
        "**Justificación:**"
      ]
    },
    {
      "cell_type": "markdown",
      "metadata": {
        "id": "uCK_RZEajZHI"
      },
      "source": [
        "Luego de hacer la limpieza se obtiene un total de 1000 alumnos que corresponde con lo que esperaba el director. Se puede apreciar de mejor manera la distribución de los datos debido a que no están los datos erróneos."
      ]
    },
    {
      "cell_type": "markdown",
      "metadata": {
        "id": "2tnenh4uOF6k"
      },
      "source": [
        "## 1.3 Análisis exploratorio de datos\n",
        "\n",
        "\n",
        "\n",
        "<p align=\"center\">\n",
        "  <img src=\"https://media4.giphy.com/media/ko7twHhomhk8E/giphy.gif?cid=ecf05e47xmgfz8ftaom8saa4cwktxpb0fkui9yk3nakb4ff1&rid=giphy.gif&ct=g\">\n",
        "</p>\n"
      ]
    },
    {
      "cell_type": "markdown",
      "metadata": {
        "id": "Qecw0sKor_Au"
      },
      "source": [
        "### 1.3.1 Transformación de notas a \"Nota Chilena\" [0.5 punto]"
      ]
    },
    {
      "cell_type": "markdown",
      "metadata": {
        "id": "BfmD-9yi4PnX"
      },
      "source": [
        "En la ultima reunion con Don Caguayo este les comenta es complejo para el y su equipo entender la graduación de notas de 0 a 100. Por ende, le comenta que desde hace harto tiempo tienen la intención de *trnasformar* todas sus notas a la \"Escala Chilena\". Para esto les facilita la siguiente ecuación:\n",
        "\n",
        "$$Nota \\, Chilena= \\% \\, de \\, logro*0.06 + 1$$\n",
        "\n",
        "Utilizando la ecuación entregada, cree un función que le permita pasar a la escala Chilena las notas que se escapan del rango [1,7]. \n",
        "\n",
        "(No ocupe ningún tipo de ciclo).\n",
        "\n",
        "**To-Do**\n",
        "\n",
        "- [ ] Tranforme los valores a la escala chilena.\n",
        "- [ ] Asigne los valores transformados al DataFrame."
      ]
    },
    {
      "cell_type": "code",
      "metadata": {
        "id": "Rm-BVxoVXvVa"
      },
      "source": [
        "# en el gráfico de más arriba se ve que ninguna nota escapa del rango [1,7]\n",
        "df_grades['math score'] =  df_grades['math score']*0.06 + 1\n",
        "df_grades['reading score'] =  df_grades['reading score']*0.06 + 1\n",
        "df_grades['writing score'] =  df_grades['writing score']*0.06 + 1"
      ],
      "execution_count": 10,
      "outputs": []
    },
    {
      "cell_type": "code",
      "metadata": {
        "colab": {
          "base_uri": "https://localhost:8080/",
          "height": 606
        },
        "id": "MZInGYvYtjcX",
        "outputId": "ba399a72-181b-4d37-a591-a8644810603c"
      },
      "source": [
        "display(df_grades)"
      ],
      "execution_count": 11,
      "outputs": [
        {
          "output_type": "display_data",
          "data": {
            "text/html": [
              "<div>\n",
              "<style scoped>\n",
              "    .dataframe tbody tr th:only-of-type {\n",
              "        vertical-align: middle;\n",
              "    }\n",
              "\n",
              "    .dataframe tbody tr th {\n",
              "        vertical-align: top;\n",
              "    }\n",
              "\n",
              "    .dataframe thead th {\n",
              "        text-align: right;\n",
              "    }\n",
              "</style>\n",
              "<table border=\"1\" class=\"dataframe\">\n",
              "  <thead>\n",
              "    <tr style=\"text-align: right;\">\n",
              "      <th></th>\n",
              "      <th>names</th>\n",
              "      <th>gender</th>\n",
              "      <th>race/ethnicity</th>\n",
              "      <th>parental level of education</th>\n",
              "      <th>lunch</th>\n",
              "      <th>test preparation course</th>\n",
              "      <th>math score</th>\n",
              "      <th>reading score</th>\n",
              "      <th>writing score</th>\n",
              "    </tr>\n",
              "  </thead>\n",
              "  <tbody>\n",
              "    <tr>\n",
              "      <th>0</th>\n",
              "      <td>Rita Courtney</td>\n",
              "      <td>female</td>\n",
              "      <td>group B</td>\n",
              "      <td>some high school</td>\n",
              "      <td>standard</td>\n",
              "      <td>none</td>\n",
              "      <td>3.22</td>\n",
              "      <td>3.76</td>\n",
              "      <td>3.76</td>\n",
              "    </tr>\n",
              "    <tr>\n",
              "      <th>3</th>\n",
              "      <td>Charles Linstrom</td>\n",
              "      <td>male</td>\n",
              "      <td>group A</td>\n",
              "      <td>bachelor's degree</td>\n",
              "      <td>standard</td>\n",
              "      <td>completed</td>\n",
              "      <td>5.80</td>\n",
              "      <td>5.68</td>\n",
              "      <td>5.86</td>\n",
              "    </tr>\n",
              "    <tr>\n",
              "      <th>5</th>\n",
              "      <td>Brian Young</td>\n",
              "      <td>male</td>\n",
              "      <td>group C</td>\n",
              "      <td>some high school</td>\n",
              "      <td>standard</td>\n",
              "      <td>none</td>\n",
              "      <td>5.38</td>\n",
              "      <td>4.96</td>\n",
              "      <td>4.78</td>\n",
              "    </tr>\n",
              "    <tr>\n",
              "      <th>6</th>\n",
              "      <td>Howard Jimenez</td>\n",
              "      <td>male</td>\n",
              "      <td>group E</td>\n",
              "      <td>some high school</td>\n",
              "      <td>standard</td>\n",
              "      <td>completed</td>\n",
              "      <td>5.86</td>\n",
              "      <td>5.50</td>\n",
              "      <td>5.56</td>\n",
              "    </tr>\n",
              "    <tr>\n",
              "      <th>7</th>\n",
              "      <td>Wayne Wilson</td>\n",
              "      <td>male</td>\n",
              "      <td>group B</td>\n",
              "      <td>some high school</td>\n",
              "      <td>standard</td>\n",
              "      <td>completed</td>\n",
              "      <td>6.64</td>\n",
              "      <td>6.16</td>\n",
              "      <td>6.22</td>\n",
              "    </tr>\n",
              "    <tr>\n",
              "      <th>...</th>\n",
              "      <td>...</td>\n",
              "      <td>...</td>\n",
              "      <td>...</td>\n",
              "      <td>...</td>\n",
              "      <td>...</td>\n",
              "      <td>...</td>\n",
              "      <td>...</td>\n",
              "      <td>...</td>\n",
              "      <td>...</td>\n",
              "    </tr>\n",
              "    <tr>\n",
              "      <th>1392</th>\n",
              "      <td>Richard Young</td>\n",
              "      <td>male</td>\n",
              "      <td>group D</td>\n",
              "      <td>high school</td>\n",
              "      <td>standard</td>\n",
              "      <td>none</td>\n",
              "      <td>5.14</td>\n",
              "      <td>5.50</td>\n",
              "      <td>5.26</td>\n",
              "    </tr>\n",
              "    <tr>\n",
              "      <th>1394</th>\n",
              "      <td>Wanda Russell</td>\n",
              "      <td>female</td>\n",
              "      <td>group B</td>\n",
              "      <td>high school</td>\n",
              "      <td>free/reduced</td>\n",
              "      <td>completed</td>\n",
              "      <td>2.38</td>\n",
              "      <td>3.64</td>\n",
              "      <td>3.16</td>\n",
              "    </tr>\n",
              "    <tr>\n",
              "      <th>1396</th>\n",
              "      <td>Marina Zeigler</td>\n",
              "      <td>female</td>\n",
              "      <td>group C</td>\n",
              "      <td>bachelor's degree</td>\n",
              "      <td>free/reduced</td>\n",
              "      <td>completed</td>\n",
              "      <td>4.96</td>\n",
              "      <td>5.44</td>\n",
              "      <td>5.86</td>\n",
              "    </tr>\n",
              "    <tr>\n",
              "      <th>1397</th>\n",
              "      <td>Laurie Carter</td>\n",
              "      <td>female</td>\n",
              "      <td>group B</td>\n",
              "      <td>some high school</td>\n",
              "      <td>standard</td>\n",
              "      <td>completed</td>\n",
              "      <td>4.24</td>\n",
              "      <td>4.66</td>\n",
              "      <td>4.72</td>\n",
              "    </tr>\n",
              "    <tr>\n",
              "      <th>1399</th>\n",
              "      <td>Amanda Perez</td>\n",
              "      <td>female</td>\n",
              "      <td>group A</td>\n",
              "      <td>high school</td>\n",
              "      <td>standard</td>\n",
              "      <td>completed</td>\n",
              "      <td>5.08</td>\n",
              "      <td>5.80</td>\n",
              "      <td>5.56</td>\n",
              "    </tr>\n",
              "  </tbody>\n",
              "</table>\n",
              "<p>1000 rows × 9 columns</p>\n",
              "</div>"
            ],
            "text/plain": [
              "                 names  gender  ... reading score writing score\n",
              "0        Rita Courtney  female  ...          3.76          3.76\n",
              "3     Charles Linstrom    male  ...          5.68          5.86\n",
              "5          Brian Young    male  ...          4.96          4.78\n",
              "6       Howard Jimenez    male  ...          5.50          5.56\n",
              "7         Wayne Wilson    male  ...          6.16          6.22\n",
              "...                ...     ...  ...           ...           ...\n",
              "1392     Richard Young    male  ...          5.50          5.26\n",
              "1394     Wanda Russell  female  ...          3.64          3.16\n",
              "1396    Marina Zeigler  female  ...          5.44          5.86\n",
              "1397     Laurie Carter  female  ...          4.66          4.72\n",
              "1399      Amanda Perez  female  ...          5.80          5.56\n",
              "\n",
              "[1000 rows x 9 columns]"
            ]
          },
          "metadata": {
            "tags": []
          }
        }
      ]
    },
    {
      "cell_type": "markdown",
      "metadata": {
        "id": "QGe-Hb2UTAE1"
      },
      "source": [
        "### 1.3.2 Obtención de promedio de alumnos [0.5 puntos]"
      ]
    },
    {
      "cell_type": "markdown",
      "metadata": {
        "id": "AEkWI5K-OZgt"
      },
      "source": [
        "Con todas las notas adjuntadas, la prestigiosa *Universidad De la Cachaña* necesita obtener el promedio general de cada uno de los alumnos (Grade Point Average - GPA). Para esto se le solicita que calcule el promedio con cada una de las asignaturas y el promedio se anexe como una nueva columna al final del DataFrame original.\n",
        "\n",
        "**To-Do:**\n",
        "- [ ] Obtenga el promedio de cada uno de los alumnos.\n",
        "- [ ] Anexe esta información en el DataFrame original.\n"
      ]
    },
    {
      "cell_type": "code",
      "metadata": {
        "id": "eZEiDhk_Xyey"
      },
      "source": [
        "df_grades['promedio'] = (df_grades['writing score'] + df_grades['reading score'] + df_grades['math score'])/3"
      ],
      "execution_count": 12,
      "outputs": []
    },
    {
      "cell_type": "code",
      "metadata": {
        "colab": {
          "base_uri": "https://localhost:8080/",
          "height": 623
        },
        "id": "fFYVIT1Vue40",
        "outputId": "c232a612-d225-4fd0-aefa-22295cf80f5a"
      },
      "source": [
        "display(df_grades)"
      ],
      "execution_count": 13,
      "outputs": [
        {
          "output_type": "display_data",
          "data": {
            "text/html": [
              "<div>\n",
              "<style scoped>\n",
              "    .dataframe tbody tr th:only-of-type {\n",
              "        vertical-align: middle;\n",
              "    }\n",
              "\n",
              "    .dataframe tbody tr th {\n",
              "        vertical-align: top;\n",
              "    }\n",
              "\n",
              "    .dataframe thead th {\n",
              "        text-align: right;\n",
              "    }\n",
              "</style>\n",
              "<table border=\"1\" class=\"dataframe\">\n",
              "  <thead>\n",
              "    <tr style=\"text-align: right;\">\n",
              "      <th></th>\n",
              "      <th>names</th>\n",
              "      <th>gender</th>\n",
              "      <th>race/ethnicity</th>\n",
              "      <th>parental level of education</th>\n",
              "      <th>lunch</th>\n",
              "      <th>test preparation course</th>\n",
              "      <th>math score</th>\n",
              "      <th>reading score</th>\n",
              "      <th>writing score</th>\n",
              "      <th>promedio</th>\n",
              "    </tr>\n",
              "  </thead>\n",
              "  <tbody>\n",
              "    <tr>\n",
              "      <th>0</th>\n",
              "      <td>Rita Courtney</td>\n",
              "      <td>female</td>\n",
              "      <td>group B</td>\n",
              "      <td>some high school</td>\n",
              "      <td>standard</td>\n",
              "      <td>none</td>\n",
              "      <td>3.22</td>\n",
              "      <td>3.76</td>\n",
              "      <td>3.76</td>\n",
              "      <td>3.58</td>\n",
              "    </tr>\n",
              "    <tr>\n",
              "      <th>3</th>\n",
              "      <td>Charles Linstrom</td>\n",
              "      <td>male</td>\n",
              "      <td>group A</td>\n",
              "      <td>bachelor's degree</td>\n",
              "      <td>standard</td>\n",
              "      <td>completed</td>\n",
              "      <td>5.80</td>\n",
              "      <td>5.68</td>\n",
              "      <td>5.86</td>\n",
              "      <td>5.78</td>\n",
              "    </tr>\n",
              "    <tr>\n",
              "      <th>5</th>\n",
              "      <td>Brian Young</td>\n",
              "      <td>male</td>\n",
              "      <td>group C</td>\n",
              "      <td>some high school</td>\n",
              "      <td>standard</td>\n",
              "      <td>none</td>\n",
              "      <td>5.38</td>\n",
              "      <td>4.96</td>\n",
              "      <td>4.78</td>\n",
              "      <td>5.04</td>\n",
              "    </tr>\n",
              "    <tr>\n",
              "      <th>6</th>\n",
              "      <td>Howard Jimenez</td>\n",
              "      <td>male</td>\n",
              "      <td>group E</td>\n",
              "      <td>some high school</td>\n",
              "      <td>standard</td>\n",
              "      <td>completed</td>\n",
              "      <td>5.86</td>\n",
              "      <td>5.50</td>\n",
              "      <td>5.56</td>\n",
              "      <td>5.64</td>\n",
              "    </tr>\n",
              "    <tr>\n",
              "      <th>7</th>\n",
              "      <td>Wayne Wilson</td>\n",
              "      <td>male</td>\n",
              "      <td>group B</td>\n",
              "      <td>some high school</td>\n",
              "      <td>standard</td>\n",
              "      <td>completed</td>\n",
              "      <td>6.64</td>\n",
              "      <td>6.16</td>\n",
              "      <td>6.22</td>\n",
              "      <td>6.34</td>\n",
              "    </tr>\n",
              "    <tr>\n",
              "      <th>...</th>\n",
              "      <td>...</td>\n",
              "      <td>...</td>\n",
              "      <td>...</td>\n",
              "      <td>...</td>\n",
              "      <td>...</td>\n",
              "      <td>...</td>\n",
              "      <td>...</td>\n",
              "      <td>...</td>\n",
              "      <td>...</td>\n",
              "      <td>...</td>\n",
              "    </tr>\n",
              "    <tr>\n",
              "      <th>1392</th>\n",
              "      <td>Richard Young</td>\n",
              "      <td>male</td>\n",
              "      <td>group D</td>\n",
              "      <td>high school</td>\n",
              "      <td>standard</td>\n",
              "      <td>none</td>\n",
              "      <td>5.14</td>\n",
              "      <td>5.50</td>\n",
              "      <td>5.26</td>\n",
              "      <td>5.30</td>\n",
              "    </tr>\n",
              "    <tr>\n",
              "      <th>1394</th>\n",
              "      <td>Wanda Russell</td>\n",
              "      <td>female</td>\n",
              "      <td>group B</td>\n",
              "      <td>high school</td>\n",
              "      <td>free/reduced</td>\n",
              "      <td>completed</td>\n",
              "      <td>2.38</td>\n",
              "      <td>3.64</td>\n",
              "      <td>3.16</td>\n",
              "      <td>3.06</td>\n",
              "    </tr>\n",
              "    <tr>\n",
              "      <th>1396</th>\n",
              "      <td>Marina Zeigler</td>\n",
              "      <td>female</td>\n",
              "      <td>group C</td>\n",
              "      <td>bachelor's degree</td>\n",
              "      <td>free/reduced</td>\n",
              "      <td>completed</td>\n",
              "      <td>4.96</td>\n",
              "      <td>5.44</td>\n",
              "      <td>5.86</td>\n",
              "      <td>5.42</td>\n",
              "    </tr>\n",
              "    <tr>\n",
              "      <th>1397</th>\n",
              "      <td>Laurie Carter</td>\n",
              "      <td>female</td>\n",
              "      <td>group B</td>\n",
              "      <td>some high school</td>\n",
              "      <td>standard</td>\n",
              "      <td>completed</td>\n",
              "      <td>4.24</td>\n",
              "      <td>4.66</td>\n",
              "      <td>4.72</td>\n",
              "      <td>4.54</td>\n",
              "    </tr>\n",
              "    <tr>\n",
              "      <th>1399</th>\n",
              "      <td>Amanda Perez</td>\n",
              "      <td>female</td>\n",
              "      <td>group A</td>\n",
              "      <td>high school</td>\n",
              "      <td>standard</td>\n",
              "      <td>completed</td>\n",
              "      <td>5.08</td>\n",
              "      <td>5.80</td>\n",
              "      <td>5.56</td>\n",
              "      <td>5.48</td>\n",
              "    </tr>\n",
              "  </tbody>\n",
              "</table>\n",
              "<p>1000 rows × 10 columns</p>\n",
              "</div>"
            ],
            "text/plain": [
              "                 names  gender  ... writing score promedio\n",
              "0        Rita Courtney  female  ...          3.76     3.58\n",
              "3     Charles Linstrom    male  ...          5.86     5.78\n",
              "5          Brian Young    male  ...          4.78     5.04\n",
              "6       Howard Jimenez    male  ...          5.56     5.64\n",
              "7         Wayne Wilson    male  ...          6.22     6.34\n",
              "...                ...     ...  ...           ...      ...\n",
              "1392     Richard Young    male  ...          5.26     5.30\n",
              "1394     Wanda Russell  female  ...          3.16     3.06\n",
              "1396    Marina Zeigler  female  ...          5.86     5.42\n",
              "1397     Laurie Carter  female  ...          4.72     4.54\n",
              "1399      Amanda Perez  female  ...          5.56     5.48\n",
              "\n",
              "[1000 rows x 10 columns]"
            ]
          },
          "metadata": {
            "tags": []
          }
        }
      ]
    },
    {
      "cell_type": "markdown",
      "metadata": {
        "id": "uA0ZXAWyBoLX"
      },
      "source": [
        "### 1.3.3 Reprobados [1 punto]"
      ]
    },
    {
      "cell_type": "markdown",
      "metadata": {
        "id": "k1FKahC3_g5_"
      },
      "source": [
        "Contentos con su desempeño, la Universidad les solicita que obtengan los alumnos quienes han reprobado el año. Para esto se considerará que un alumno ha reprobado el año cuando el promedio de notas es inferior a 4.0 en la Escala Chilena.\n",
        "\n",
        "Cree una función que permita obtener dos Dataframes, el primero debe poseer solamente los alumnos que han reprobado en la prestigiosa universidad y el segundo debe entregar un DataFrame similar al original, pero marcado con una \"R\" el promedio de notas de los alumnos reprobados.\n",
        "\n",
        "**To-Do:**\n",
        "\n",
        "- [ ] Obtenga una máscara DataFrame con los alumnos que reprobaron el año.\n",
        "- [ ] Reemplaze todos los GPA reprobados con una **R**."
      ]
    },
    {
      "cell_type": "code",
      "metadata": {
        "id": "hHNzsREkX05X"
      },
      "source": [
        "def reprobados(df_grades):\n",
        "  df_reprobados = df_grades[df_grades['promedio'] < 4.0]\n",
        "  df_aprobados = df_grades.copy()\n",
        "  promedios = df_aprobados['promedio']\n",
        "  promedios = promedios.where(promedios >= 4.0, 'R')\n",
        "  df_aprobados['promedio'] = promedios\n",
        "  return df_aprobados, df_reprobados"
      ],
      "execution_count": 14,
      "outputs": []
    },
    {
      "cell_type": "code",
      "metadata": {
        "colab": {
          "base_uri": "https://localhost:8080/",
          "height": 623
        },
        "id": "I5bPed9waxzE",
        "outputId": "b3f6cebe-6a10-4939-c3a9-706c87111b92"
      },
      "source": [
        "aprobados, reprobados = reprobados(df_grades)\n",
        "display(aprobados)"
      ],
      "execution_count": 15,
      "outputs": [
        {
          "output_type": "display_data",
          "data": {
            "text/html": [
              "<div>\n",
              "<style scoped>\n",
              "    .dataframe tbody tr th:only-of-type {\n",
              "        vertical-align: middle;\n",
              "    }\n",
              "\n",
              "    .dataframe tbody tr th {\n",
              "        vertical-align: top;\n",
              "    }\n",
              "\n",
              "    .dataframe thead th {\n",
              "        text-align: right;\n",
              "    }\n",
              "</style>\n",
              "<table border=\"1\" class=\"dataframe\">\n",
              "  <thead>\n",
              "    <tr style=\"text-align: right;\">\n",
              "      <th></th>\n",
              "      <th>names</th>\n",
              "      <th>gender</th>\n",
              "      <th>race/ethnicity</th>\n",
              "      <th>parental level of education</th>\n",
              "      <th>lunch</th>\n",
              "      <th>test preparation course</th>\n",
              "      <th>math score</th>\n",
              "      <th>reading score</th>\n",
              "      <th>writing score</th>\n",
              "      <th>promedio</th>\n",
              "    </tr>\n",
              "  </thead>\n",
              "  <tbody>\n",
              "    <tr>\n",
              "      <th>0</th>\n",
              "      <td>Rita Courtney</td>\n",
              "      <td>female</td>\n",
              "      <td>group B</td>\n",
              "      <td>some high school</td>\n",
              "      <td>standard</td>\n",
              "      <td>none</td>\n",
              "      <td>3.22</td>\n",
              "      <td>3.76</td>\n",
              "      <td>3.76</td>\n",
              "      <td>R</td>\n",
              "    </tr>\n",
              "    <tr>\n",
              "      <th>3</th>\n",
              "      <td>Charles Linstrom</td>\n",
              "      <td>male</td>\n",
              "      <td>group A</td>\n",
              "      <td>bachelor's degree</td>\n",
              "      <td>standard</td>\n",
              "      <td>completed</td>\n",
              "      <td>5.80</td>\n",
              "      <td>5.68</td>\n",
              "      <td>5.86</td>\n",
              "      <td>5.78</td>\n",
              "    </tr>\n",
              "    <tr>\n",
              "      <th>5</th>\n",
              "      <td>Brian Young</td>\n",
              "      <td>male</td>\n",
              "      <td>group C</td>\n",
              "      <td>some high school</td>\n",
              "      <td>standard</td>\n",
              "      <td>none</td>\n",
              "      <td>5.38</td>\n",
              "      <td>4.96</td>\n",
              "      <td>4.78</td>\n",
              "      <td>5.04</td>\n",
              "    </tr>\n",
              "    <tr>\n",
              "      <th>6</th>\n",
              "      <td>Howard Jimenez</td>\n",
              "      <td>male</td>\n",
              "      <td>group E</td>\n",
              "      <td>some high school</td>\n",
              "      <td>standard</td>\n",
              "      <td>completed</td>\n",
              "      <td>5.86</td>\n",
              "      <td>5.50</td>\n",
              "      <td>5.56</td>\n",
              "      <td>5.64</td>\n",
              "    </tr>\n",
              "    <tr>\n",
              "      <th>7</th>\n",
              "      <td>Wayne Wilson</td>\n",
              "      <td>male</td>\n",
              "      <td>group B</td>\n",
              "      <td>some high school</td>\n",
              "      <td>standard</td>\n",
              "      <td>completed</td>\n",
              "      <td>6.64</td>\n",
              "      <td>6.16</td>\n",
              "      <td>6.22</td>\n",
              "      <td>6.34</td>\n",
              "    </tr>\n",
              "    <tr>\n",
              "      <th>...</th>\n",
              "      <td>...</td>\n",
              "      <td>...</td>\n",
              "      <td>...</td>\n",
              "      <td>...</td>\n",
              "      <td>...</td>\n",
              "      <td>...</td>\n",
              "      <td>...</td>\n",
              "      <td>...</td>\n",
              "      <td>...</td>\n",
              "      <td>...</td>\n",
              "    </tr>\n",
              "    <tr>\n",
              "      <th>1392</th>\n",
              "      <td>Richard Young</td>\n",
              "      <td>male</td>\n",
              "      <td>group D</td>\n",
              "      <td>high school</td>\n",
              "      <td>standard</td>\n",
              "      <td>none</td>\n",
              "      <td>5.14</td>\n",
              "      <td>5.50</td>\n",
              "      <td>5.26</td>\n",
              "      <td>5.3</td>\n",
              "    </tr>\n",
              "    <tr>\n",
              "      <th>1394</th>\n",
              "      <td>Wanda Russell</td>\n",
              "      <td>female</td>\n",
              "      <td>group B</td>\n",
              "      <td>high school</td>\n",
              "      <td>free/reduced</td>\n",
              "      <td>completed</td>\n",
              "      <td>2.38</td>\n",
              "      <td>3.64</td>\n",
              "      <td>3.16</td>\n",
              "      <td>R</td>\n",
              "    </tr>\n",
              "    <tr>\n",
              "      <th>1396</th>\n",
              "      <td>Marina Zeigler</td>\n",
              "      <td>female</td>\n",
              "      <td>group C</td>\n",
              "      <td>bachelor's degree</td>\n",
              "      <td>free/reduced</td>\n",
              "      <td>completed</td>\n",
              "      <td>4.96</td>\n",
              "      <td>5.44</td>\n",
              "      <td>5.86</td>\n",
              "      <td>5.42</td>\n",
              "    </tr>\n",
              "    <tr>\n",
              "      <th>1397</th>\n",
              "      <td>Laurie Carter</td>\n",
              "      <td>female</td>\n",
              "      <td>group B</td>\n",
              "      <td>some high school</td>\n",
              "      <td>standard</td>\n",
              "      <td>completed</td>\n",
              "      <td>4.24</td>\n",
              "      <td>4.66</td>\n",
              "      <td>4.72</td>\n",
              "      <td>4.54</td>\n",
              "    </tr>\n",
              "    <tr>\n",
              "      <th>1399</th>\n",
              "      <td>Amanda Perez</td>\n",
              "      <td>female</td>\n",
              "      <td>group A</td>\n",
              "      <td>high school</td>\n",
              "      <td>standard</td>\n",
              "      <td>completed</td>\n",
              "      <td>5.08</td>\n",
              "      <td>5.80</td>\n",
              "      <td>5.56</td>\n",
              "      <td>5.48</td>\n",
              "    </tr>\n",
              "  </tbody>\n",
              "</table>\n",
              "<p>1000 rows × 10 columns</p>\n",
              "</div>"
            ],
            "text/plain": [
              "                 names  gender  ... writing score promedio\n",
              "0        Rita Courtney  female  ...          3.76        R\n",
              "3     Charles Linstrom    male  ...          5.86     5.78\n",
              "5          Brian Young    male  ...          4.78     5.04\n",
              "6       Howard Jimenez    male  ...          5.56     5.64\n",
              "7         Wayne Wilson    male  ...          6.22     6.34\n",
              "...                ...     ...  ...           ...      ...\n",
              "1392     Richard Young    male  ...          5.26      5.3\n",
              "1394     Wanda Russell  female  ...          3.16        R\n",
              "1396    Marina Zeigler  female  ...          5.86     5.42\n",
              "1397     Laurie Carter  female  ...          4.72     4.54\n",
              "1399      Amanda Perez  female  ...          5.56     5.48\n",
              "\n",
              "[1000 rows x 10 columns]"
            ]
          },
          "metadata": {
            "tags": []
          }
        }
      ]
    },
    {
      "cell_type": "code",
      "metadata": {
        "colab": {
          "base_uri": "https://localhost:8080/",
          "height": 623
        },
        "id": "vtgEvNzScT_9",
        "outputId": "0cb5b36a-e6d8-4a75-f34f-9d0b0c453997"
      },
      "source": [
        "display(reprobados)"
      ],
      "execution_count": 16,
      "outputs": [
        {
          "output_type": "display_data",
          "data": {
            "text/html": [
              "<div>\n",
              "<style scoped>\n",
              "    .dataframe tbody tr th:only-of-type {\n",
              "        vertical-align: middle;\n",
              "    }\n",
              "\n",
              "    .dataframe tbody tr th {\n",
              "        vertical-align: top;\n",
              "    }\n",
              "\n",
              "    .dataframe thead th {\n",
              "        text-align: right;\n",
              "    }\n",
              "</style>\n",
              "<table border=\"1\" class=\"dataframe\">\n",
              "  <thead>\n",
              "    <tr style=\"text-align: right;\">\n",
              "      <th></th>\n",
              "      <th>names</th>\n",
              "      <th>gender</th>\n",
              "      <th>race/ethnicity</th>\n",
              "      <th>parental level of education</th>\n",
              "      <th>lunch</th>\n",
              "      <th>test preparation course</th>\n",
              "      <th>math score</th>\n",
              "      <th>reading score</th>\n",
              "      <th>writing score</th>\n",
              "      <th>promedio</th>\n",
              "    </tr>\n",
              "  </thead>\n",
              "  <tbody>\n",
              "    <tr>\n",
              "      <th>0</th>\n",
              "      <td>Rita Courtney</td>\n",
              "      <td>female</td>\n",
              "      <td>group B</td>\n",
              "      <td>some high school</td>\n",
              "      <td>standard</td>\n",
              "      <td>none</td>\n",
              "      <td>3.22</td>\n",
              "      <td>3.76</td>\n",
              "      <td>3.76</td>\n",
              "      <td>3.58</td>\n",
              "    </tr>\n",
              "    <tr>\n",
              "      <th>13</th>\n",
              "      <td>Mikki Amaya</td>\n",
              "      <td>female</td>\n",
              "      <td>group A</td>\n",
              "      <td>high school</td>\n",
              "      <td>free/reduced</td>\n",
              "      <td>completed</td>\n",
              "      <td>3.04</td>\n",
              "      <td>3.88</td>\n",
              "      <td>3.46</td>\n",
              "      <td>3.46</td>\n",
              "    </tr>\n",
              "    <tr>\n",
              "      <th>26</th>\n",
              "      <td>Samuel Dougal</td>\n",
              "      <td>male</td>\n",
              "      <td>group C</td>\n",
              "      <td>master's degree</td>\n",
              "      <td>free/reduced</td>\n",
              "      <td>completed</td>\n",
              "      <td>3.76</td>\n",
              "      <td>3.52</td>\n",
              "      <td>3.76</td>\n",
              "      <td>3.68</td>\n",
              "    </tr>\n",
              "    <tr>\n",
              "      <th>55</th>\n",
              "      <td>Rodger Talavera</td>\n",
              "      <td>male</td>\n",
              "      <td>group B</td>\n",
              "      <td>high school</td>\n",
              "      <td>free/reduced</td>\n",
              "      <td>none</td>\n",
              "      <td>3.16</td>\n",
              "      <td>2.74</td>\n",
              "      <td>2.62</td>\n",
              "      <td>2.84</td>\n",
              "    </tr>\n",
              "    <tr>\n",
              "      <th>63</th>\n",
              "      <td>Morris Johnson</td>\n",
              "      <td>male</td>\n",
              "      <td>group A</td>\n",
              "      <td>associate's degree</td>\n",
              "      <td>free/reduced</td>\n",
              "      <td>completed</td>\n",
              "      <td>3.40</td>\n",
              "      <td>4.30</td>\n",
              "      <td>4.18</td>\n",
              "      <td>3.96</td>\n",
              "    </tr>\n",
              "    <tr>\n",
              "      <th>...</th>\n",
              "      <td>...</td>\n",
              "      <td>...</td>\n",
              "      <td>...</td>\n",
              "      <td>...</td>\n",
              "      <td>...</td>\n",
              "      <td>...</td>\n",
              "      <td>...</td>\n",
              "      <td>...</td>\n",
              "      <td>...</td>\n",
              "      <td>...</td>\n",
              "    </tr>\n",
              "    <tr>\n",
              "      <th>1371</th>\n",
              "      <td>Charles Harian</td>\n",
              "      <td>male</td>\n",
              "      <td>group C</td>\n",
              "      <td>some high school</td>\n",
              "      <td>free/reduced</td>\n",
              "      <td>completed</td>\n",
              "      <td>3.70</td>\n",
              "      <td>4.12</td>\n",
              "      <td>3.94</td>\n",
              "      <td>3.92</td>\n",
              "    </tr>\n",
              "    <tr>\n",
              "      <th>1373</th>\n",
              "      <td>Wendy Gunnell</td>\n",
              "      <td>female</td>\n",
              "      <td>group D</td>\n",
              "      <td>some high school</td>\n",
              "      <td>free/reduced</td>\n",
              "      <td>none</td>\n",
              "      <td>2.62</td>\n",
              "      <td>3.04</td>\n",
              "      <td>2.92</td>\n",
              "      <td>2.86</td>\n",
              "    </tr>\n",
              "    <tr>\n",
              "      <th>1389</th>\n",
              "      <td>Diana Costa</td>\n",
              "      <td>female</td>\n",
              "      <td>group C</td>\n",
              "      <td>high school</td>\n",
              "      <td>free/reduced</td>\n",
              "      <td>none</td>\n",
              "      <td>3.46</td>\n",
              "      <td>3.76</td>\n",
              "      <td>3.58</td>\n",
              "      <td>3.60</td>\n",
              "    </tr>\n",
              "    <tr>\n",
              "      <th>1391</th>\n",
              "      <td>Amy Sieving</td>\n",
              "      <td>female</td>\n",
              "      <td>group C</td>\n",
              "      <td>high school</td>\n",
              "      <td>standard</td>\n",
              "      <td>none</td>\n",
              "      <td>2.74</td>\n",
              "      <td>2.74</td>\n",
              "      <td>2.80</td>\n",
              "      <td>2.76</td>\n",
              "    </tr>\n",
              "    <tr>\n",
              "      <th>1394</th>\n",
              "      <td>Wanda Russell</td>\n",
              "      <td>female</td>\n",
              "      <td>group B</td>\n",
              "      <td>high school</td>\n",
              "      <td>free/reduced</td>\n",
              "      <td>completed</td>\n",
              "      <td>2.38</td>\n",
              "      <td>3.64</td>\n",
              "      <td>3.16</td>\n",
              "      <td>3.06</td>\n",
              "    </tr>\n",
              "  </tbody>\n",
              "</table>\n",
              "<p>104 rows × 10 columns</p>\n",
              "</div>"
            ],
            "text/plain": [
              "                names  gender  ... writing score promedio\n",
              "0       Rita Courtney  female  ...          3.76     3.58\n",
              "13        Mikki Amaya  female  ...          3.46     3.46\n",
              "26      Samuel Dougal    male  ...          3.76     3.68\n",
              "55    Rodger Talavera    male  ...          2.62     2.84\n",
              "63     Morris Johnson    male  ...          4.18     3.96\n",
              "...               ...     ...  ...           ...      ...\n",
              "1371   Charles Harian    male  ...          3.94     3.92\n",
              "1373    Wendy Gunnell  female  ...          2.92     2.86\n",
              "1389      Diana Costa  female  ...          3.58     3.60\n",
              "1391      Amy Sieving  female  ...          2.80     2.76\n",
              "1394    Wanda Russell  female  ...          3.16     3.06\n",
              "\n",
              "[104 rows x 10 columns]"
            ]
          },
          "metadata": {
            "tags": []
          }
        }
      ]
    },
    {
      "cell_type": "markdown",
      "metadata": {
        "id": "nFP8X1L4B1v9"
      },
      "source": [
        "### 1.3.4 Información por Categorías [1 punto]"
      ]
    },
    {
      "cell_type": "markdown",
      "metadata": {
        "id": "XBhjYjJ0D8ar"
      },
      "source": [
        "Motivado por saber más sobre los datos, el Rector les solicita que genere una función que le permita comparar los promedios de diferentes **atributos categóricos** del DataFrame. Para esto su función deberá tener como entrada el DataFrame con todos los promedios (sin agregar las R's) y calcular el promedio **agrupando por etnias y el nivel educacional de los padres**.\n",
        "\n",
        "**To-Do:**\n",
        "\n",
        "- [ ] Hacer una función que nos permita obtener la comparación de promedios para dos atributos categóricos.\n",
        "- [ ] Cada uno de los grupos expuestos deben exponer el porcentaje de alumnos que representan en el colegio.\n",
        "- [ ] Comente lo que observa de los resultados.\n",
        "- [ ] Visualice los datos generados con [`px.sunburst`](https://plotly.com/python/sunburst-charts/ ).\n"
      ]
    },
    {
      "cell_type": "code",
      "metadata": {
        "id": "JUo0tXGLgpcr"
      },
      "source": [
        "def agrupar_etnias_padres(df_grades):\n",
        "  n = df_grades.shape[0]\n",
        "  grouped = df_grades.groupby(['race/ethnicity','parental level of education'])\n",
        "  promedio = grouped.mean()\n",
        "  promedio['porcentaje'] = grouped.count()['names'] * 100 / n\n",
        "  return promedio"
      ],
      "execution_count": 17,
      "outputs": []
    },
    {
      "cell_type": "code",
      "metadata": {
        "colab": {
          "base_uri": "https://localhost:8080/",
          "height": 1000
        },
        "id": "SuNNY0U-lbZk",
        "outputId": "2c4273f4-c03c-4ef4-a0ed-8371c759bcac"
      },
      "source": [
        "display(agrupar_etnias_padres(df_grades))"
      ],
      "execution_count": 18,
      "outputs": [
        {
          "output_type": "display_data",
          "data": {
            "text/html": [
              "<div>\n",
              "<style scoped>\n",
              "    .dataframe tbody tr th:only-of-type {\n",
              "        vertical-align: middle;\n",
              "    }\n",
              "\n",
              "    .dataframe tbody tr th {\n",
              "        vertical-align: top;\n",
              "    }\n",
              "\n",
              "    .dataframe thead th {\n",
              "        text-align: right;\n",
              "    }\n",
              "</style>\n",
              "<table border=\"1\" class=\"dataframe\">\n",
              "  <thead>\n",
              "    <tr style=\"text-align: right;\">\n",
              "      <th></th>\n",
              "      <th></th>\n",
              "      <th>math score</th>\n",
              "      <th>reading score</th>\n",
              "      <th>writing score</th>\n",
              "      <th>promedio</th>\n",
              "      <th>porcentaje</th>\n",
              "    </tr>\n",
              "    <tr>\n",
              "      <th>race/ethnicity</th>\n",
              "      <th>parental level of education</th>\n",
              "      <th></th>\n",
              "      <th></th>\n",
              "      <th></th>\n",
              "      <th></th>\n",
              "      <th></th>\n",
              "    </tr>\n",
              "  </thead>\n",
              "  <tbody>\n",
              "    <tr>\n",
              "      <th rowspan=\"6\" valign=\"top\">group A</th>\n",
              "      <th>associate's degree</th>\n",
              "      <td>4.660000</td>\n",
              "      <td>5.024286</td>\n",
              "      <td>4.814286</td>\n",
              "      <td>4.832857</td>\n",
              "      <td>1.4</td>\n",
              "    </tr>\n",
              "    <tr>\n",
              "      <th>bachelor's degree</th>\n",
              "      <td>5.030000</td>\n",
              "      <td>5.085000</td>\n",
              "      <td>5.100000</td>\n",
              "      <td>5.071667</td>\n",
              "      <td>1.2</td>\n",
              "    </tr>\n",
              "    <tr>\n",
              "      <th>high school</th>\n",
              "      <td>4.626667</td>\n",
              "      <td>4.773333</td>\n",
              "      <td>4.630000</td>\n",
              "      <td>4.676667</td>\n",
              "      <td>1.8</td>\n",
              "    </tr>\n",
              "    <tr>\n",
              "      <th>master's degree</th>\n",
              "      <td>4.460000</td>\n",
              "      <td>4.880000</td>\n",
              "      <td>5.060000</td>\n",
              "      <td>4.800000</td>\n",
              "      <td>0.3</td>\n",
              "    </tr>\n",
              "    <tr>\n",
              "      <th>some college</th>\n",
              "      <td>4.833333</td>\n",
              "      <td>4.946667</td>\n",
              "      <td>4.900000</td>\n",
              "      <td>4.893333</td>\n",
              "      <td>1.8</td>\n",
              "    </tr>\n",
              "    <tr>\n",
              "      <th>some high school</th>\n",
              "      <td>4.535000</td>\n",
              "      <td>4.725000</td>\n",
              "      <td>4.515000</td>\n",
              "      <td>4.591667</td>\n",
              "      <td>2.4</td>\n",
              "    </tr>\n",
              "    <tr>\n",
              "      <th rowspan=\"6\" valign=\"top\">group B</th>\n",
              "      <th>associate's degree</th>\n",
              "      <td>4.965854</td>\n",
              "      <td>5.175122</td>\n",
              "      <td>5.094634</td>\n",
              "      <td>5.078537</td>\n",
              "      <td>4.1</td>\n",
              "    </tr>\n",
              "    <tr>\n",
              "      <th>bachelor's degree</th>\n",
              "      <td>5.158000</td>\n",
              "      <td>5.377000</td>\n",
              "      <td>5.299000</td>\n",
              "      <td>5.278000</td>\n",
              "      <td>2.0</td>\n",
              "    </tr>\n",
              "    <tr>\n",
              "      <th>high school</th>\n",
              "      <td>4.587500</td>\n",
              "      <td>4.807500</td>\n",
              "      <td>4.675000</td>\n",
              "      <td>4.690000</td>\n",
              "      <td>4.8</td>\n",
              "    </tr>\n",
              "    <tr>\n",
              "      <th>master's degree</th>\n",
              "      <td>5.030000</td>\n",
              "      <td>5.810000</td>\n",
              "      <td>5.630000</td>\n",
              "      <td>5.490000</td>\n",
              "      <td>0.6</td>\n",
              "    </tr>\n",
              "    <tr>\n",
              "      <th>some college</th>\n",
              "      <td>4.791351</td>\n",
              "      <td>4.945405</td>\n",
              "      <td>4.851351</td>\n",
              "      <td>4.862703</td>\n",
              "      <td>3.7</td>\n",
              "    </tr>\n",
              "    <tr>\n",
              "      <th>some high school</th>\n",
              "      <td>4.708947</td>\n",
              "      <td>4.986842</td>\n",
              "      <td>4.876316</td>\n",
              "      <td>4.857368</td>\n",
              "      <td>3.8</td>\n",
              "    </tr>\n",
              "    <tr>\n",
              "      <th rowspan=\"6\" valign=\"top\">group C</th>\n",
              "      <th>associate's degree</th>\n",
              "      <td>5.003846</td>\n",
              "      <td>5.267692</td>\n",
              "      <td>5.216154</td>\n",
              "      <td>5.162564</td>\n",
              "      <td>7.8</td>\n",
              "    </tr>\n",
              "    <tr>\n",
              "      <th>bachelor's degree</th>\n",
              "      <td>5.089000</td>\n",
              "      <td>5.540500</td>\n",
              "      <td>5.554000</td>\n",
              "      <td>5.394500</td>\n",
              "      <td>4.0</td>\n",
              "    </tr>\n",
              "    <tr>\n",
              "      <th>high school</th>\n",
              "      <td>4.654375</td>\n",
              "      <td>4.865313</td>\n",
              "      <td>4.699375</td>\n",
              "      <td>4.739688</td>\n",
              "      <td>6.4</td>\n",
              "    </tr>\n",
              "    <tr>\n",
              "      <th>master's degree</th>\n",
              "      <td>5.023158</td>\n",
              "      <td>5.231579</td>\n",
              "      <td>5.171579</td>\n",
              "      <td>5.142105</td>\n",
              "      <td>1.9</td>\n",
              "    </tr>\n",
              "    <tr>\n",
              "      <th>some college</th>\n",
              "      <td>4.907826</td>\n",
              "      <td>5.165217</td>\n",
              "      <td>5.132174</td>\n",
              "      <td>5.068406</td>\n",
              "      <td>6.9</td>\n",
              "    </tr>\n",
              "    <tr>\n",
              "      <th>some high school</th>\n",
              "      <td>4.633061</td>\n",
              "      <td>4.937959</td>\n",
              "      <td>4.797143</td>\n",
              "      <td>4.789388</td>\n",
              "      <td>4.9</td>\n",
              "    </tr>\n",
              "    <tr>\n",
              "      <th rowspan=\"6\" valign=\"top\">group D</th>\n",
              "      <th>associate's degree</th>\n",
              "      <td>5.056000</td>\n",
              "      <td>5.232400</td>\n",
              "      <td>5.191600</td>\n",
              "      <td>5.160000</td>\n",
              "      <td>5.0</td>\n",
              "    </tr>\n",
              "    <tr>\n",
              "      <th>bachelor's degree</th>\n",
              "      <td>5.054286</td>\n",
              "      <td>5.208571</td>\n",
              "      <td>5.313571</td>\n",
              "      <td>5.192143</td>\n",
              "      <td>2.8</td>\n",
              "    </tr>\n",
              "    <tr>\n",
              "      <th>high school</th>\n",
              "      <td>4.771818</td>\n",
              "      <td>4.864545</td>\n",
              "      <td>4.789545</td>\n",
              "      <td>4.808636</td>\n",
              "      <td>4.4</td>\n",
              "    </tr>\n",
              "    <tr>\n",
              "      <th>master's degree</th>\n",
              "      <td>5.351304</td>\n",
              "      <td>5.630435</td>\n",
              "      <td>5.784348</td>\n",
              "      <td>5.588696</td>\n",
              "      <td>2.3</td>\n",
              "    </tr>\n",
              "    <tr>\n",
              "      <th>some college</th>\n",
              "      <td>5.123881</td>\n",
              "      <td>5.252836</td>\n",
              "      <td>5.302090</td>\n",
              "      <td>5.226269</td>\n",
              "      <td>6.7</td>\n",
              "    </tr>\n",
              "    <tr>\n",
              "      <th>some high school</th>\n",
              "      <td>5.005600</td>\n",
              "      <td>5.198800</td>\n",
              "      <td>5.146000</td>\n",
              "      <td>5.116800</td>\n",
              "      <td>5.0</td>\n",
              "    </tr>\n",
              "    <tr>\n",
              "      <th rowspan=\"6\" valign=\"top\">group E</th>\n",
              "      <th>associate's degree</th>\n",
              "      <td>5.493846</td>\n",
              "      <td>5.429231</td>\n",
              "      <td>5.392308</td>\n",
              "      <td>5.438462</td>\n",
              "      <td>3.9</td>\n",
              "    </tr>\n",
              "    <tr>\n",
              "      <th>bachelor's degree</th>\n",
              "      <td>5.593333</td>\n",
              "      <td>5.490000</td>\n",
              "      <td>5.523333</td>\n",
              "      <td>5.535556</td>\n",
              "      <td>1.8</td>\n",
              "    </tr>\n",
              "    <tr>\n",
              "      <th>high school</th>\n",
              "      <td>5.246364</td>\n",
              "      <td>5.219091</td>\n",
              "      <td>5.052727</td>\n",
              "      <td>5.172727</td>\n",
              "      <td>2.2</td>\n",
              "    </tr>\n",
              "    <tr>\n",
              "      <th>master's degree</th>\n",
              "      <td>5.477500</td>\n",
              "      <td>5.927500</td>\n",
              "      <td>5.830000</td>\n",
              "      <td>5.745000</td>\n",
              "      <td>0.8</td>\n",
              "    </tr>\n",
              "    <tr>\n",
              "      <th>some college</th>\n",
              "      <td>5.429714</td>\n",
              "      <td>5.357714</td>\n",
              "      <td>5.212000</td>\n",
              "      <td>5.333143</td>\n",
              "      <td>3.5</td>\n",
              "    </tr>\n",
              "    <tr>\n",
              "      <th>some high school</th>\n",
              "      <td>5.326667</td>\n",
              "      <td>5.173333</td>\n",
              "      <td>4.993333</td>\n",
              "      <td>5.164444</td>\n",
              "      <td>1.8</td>\n",
              "    </tr>\n",
              "  </tbody>\n",
              "</table>\n",
              "</div>"
            ],
            "text/plain": [
              "                                            math score  ...  porcentaje\n",
              "race/ethnicity parental level of education              ...            \n",
              "group A        associate's degree             4.660000  ...         1.4\n",
              "               bachelor's degree              5.030000  ...         1.2\n",
              "               high school                    4.626667  ...         1.8\n",
              "               master's degree                4.460000  ...         0.3\n",
              "               some college                   4.833333  ...         1.8\n",
              "               some high school               4.535000  ...         2.4\n",
              "group B        associate's degree             4.965854  ...         4.1\n",
              "               bachelor's degree              5.158000  ...         2.0\n",
              "               high school                    4.587500  ...         4.8\n",
              "               master's degree                5.030000  ...         0.6\n",
              "               some college                   4.791351  ...         3.7\n",
              "               some high school               4.708947  ...         3.8\n",
              "group C        associate's degree             5.003846  ...         7.8\n",
              "               bachelor's degree              5.089000  ...         4.0\n",
              "               high school                    4.654375  ...         6.4\n",
              "               master's degree                5.023158  ...         1.9\n",
              "               some college                   4.907826  ...         6.9\n",
              "               some high school               4.633061  ...         4.9\n",
              "group D        associate's degree             5.056000  ...         5.0\n",
              "               bachelor's degree              5.054286  ...         2.8\n",
              "               high school                    4.771818  ...         4.4\n",
              "               master's degree                5.351304  ...         2.3\n",
              "               some college                   5.123881  ...         6.7\n",
              "               some high school               5.005600  ...         5.0\n",
              "group E        associate's degree             5.493846  ...         3.9\n",
              "               bachelor's degree              5.593333  ...         1.8\n",
              "               high school                    5.246364  ...         2.2\n",
              "               master's degree                5.477500  ...         0.8\n",
              "               some college                   5.429714  ...         3.5\n",
              "               some high school               5.326667  ...         1.8\n",
              "\n",
              "[30 rows x 5 columns]"
            ]
          },
          "metadata": {
            "tags": []
          }
        }
      ]
    },
    {
      "cell_type": "markdown",
      "metadata": {
        "id": "fiKzYNbiYJft"
      },
      "source": [
        "**Repsuesta Esperada:**"
      ]
    },
    {
      "cell_type": "markdown",
      "metadata": {
        "id": "KVlklaVeZca7"
      },
      "source": [
        "| race/ethnicity | parental level of education | math score | reading score | writing score |  GPA | percentaje % |\n",
        "|---------------:|----------------------------:|-----------:|--------------:|--------------:|-----:|-------------:|\n",
        "|     group A    |      associate's degree     |       4.66 |          5.02 |          4.81 | 4.83 |          1.4 |\n",
        "|                |      bachelor's degree      |       5.03 |          5.08 |          5.10 | 5.07 |          1.2 |\n",
        "|                |         high school         |       4.63 |          4.77 |          4.63 | 4.68 |          1.8 |\n",
        "|                |       master's degree       |       4.46 |          4.88 |          5.06 | 4.80 |          0.3 |\n",
        "|                |         some college        |       4.83 |          4.95 |          4.90 | 4.89 |          1.8 |\n",
        "|                |       some high school      |       4.54 |          4.72 |          4.51 | 4.59 |          2.4 |\n",
        "|     group B    |      associate's degree     |       4.97 |          5.18 |          5.09 | 5.08 |          4.1 |\n",
        "|                |      bachelor's degree      |       5.16 |          5.38 |          5.30 | 5.28 |          2.0 |\n",
        "|                |         high school         |       4.59 |          4.81 |          4.68 | 4.69 |          4.8 |\n",
        "|                |       master's degree       |       5.03 |          5.81 |          5.63 | 5.49 |          0.6 |\n",
        "|                |         some college        |       4.79 |          4.95 |          4.85 | 4.86 |          3.7 |\n",
        "|                |       some high school      |       4.71 |          4.99 |          4.88 | 4.86 |          3.8 |\n",
        "|     group C    |      associate's degree     |       5.00 |          5.27 |          5.22 | 5.16 |          7.8 |\n",
        "|                |      bachelor's degree      |       5.09 |          5.54 |          5.55 | 5.39 |          4.0 |\n",
        "|                |         high school         |       4.65 |          4.87 |          4.70 | 4.74 |          6.4 |\n",
        "|                |       master's degree       |       5.02 |          5.23 |          5.17 | 5.14 |          1.9 |\n",
        "|                |         some college        |       4.91 |          5.17 |          5.13 | 5.07 |          6.9 |\n",
        "|                |       some high school      |       4.63 |          4.94 |          4.80 | 4.79 |          4.9 |\n",
        "|     group D    |      associate's degree     |       5.06 |          5.23 |          5.19 | 5.16 |          5.0 |\n",
        "|                |      bachelor's degree      |       5.05 |          5.21 |          5.31 | 5.19 |          2.8 |\n",
        "|                |         high school         |       4.77 |          4.86 |          4.79 | 4.81 |          4.4 |\n",
        "|                |       master's degree       |       5.35 |          5.63 |          5.78 | 5.59 |          2.3 |\n",
        "|                |         some college        |       5.12 |          5.25 |          5.30 | 5.23 |          6.7 |\n",
        "|                |       some high school      |       5.01 |          5.20 |          5.15 | 5.12 |          5.0 |\n",
        "|     group E    |      associate's degree     |       5.49 |          5.43 |          5.39 | 5.44 |          3.9 |\n",
        "|                |      bachelor's degree      |       5.59 |          5.49 |          5.52 | 5.54 |          1.8 |\n",
        "|                |         high school         |       5.25 |          5.22 |          5.05 | 5.17 |          2.2 |\n",
        "|                |       master's degree       |       5.48 |          5.93 |          5.83 | 5.74 |          0.8 |\n",
        "|                |         some college        |       5.43 |          5.36 |          5.21 | 5.33 |          3.5 |\n",
        "|                |       some high school      |       5.33 |          5.17 |          4.99 | 5.16 |          1.8 |"
      ]
    },
    {
      "cell_type": "markdown",
      "metadata": {
        "id": "l-lLgxXpKKYL"
      },
      "source": [
        "> Visualice utilizando [`px.sunburst`](https://plotly.com/python/sunburst-charts/ ) el DataFrame obtenido en esta sección. "
      ]
    },
    {
      "cell_type": "code",
      "metadata": {
        "id": "e1NYcBxNKUnN",
        "colab": {
          "base_uri": "https://localhost:8080/",
          "height": 542
        },
        "outputId": "104de522-dcb7-41c8-d410-dbc0303da361"
      },
      "source": [
        "df_agrupado = agrupar_etnias_padres(df_grades).reset_index()\n",
        "df_agrupado['promedio'] = df_agrupado['promedio'].round(decimals = 2)\n",
        "fig = px.sunburst(df_agrupado, path = ['parental level of education','promedio','race/ethnicity'], values = 'porcentaje')\n",
        "fig.show()"
      ],
      "execution_count": 59,
      "outputs": [
        {
          "output_type": "display_data",
          "data": {
            "text/html": [
              "<html>\n",
              "<head><meta charset=\"utf-8\" /></head>\n",
              "<body>\n",
              "    <div>            <script src=\"https://cdnjs.cloudflare.com/ajax/libs/mathjax/2.7.5/MathJax.js?config=TeX-AMS-MML_SVG\"></script><script type=\"text/javascript\">if (window.MathJax) {MathJax.Hub.Config({SVG: {font: \"STIX-Web\"}});}</script>                <script type=\"text/javascript\">window.PlotlyConfig = {MathJaxConfig: 'local'};</script>\n",
              "        <script src=\"https://cdn.plot.ly/plotly-latest.min.js\"></script>                <div id=\"c0fe7fac-ed9a-41d9-b361-83dc5c8f6872\" class=\"plotly-graph-div\" style=\"height:525px; width:100%;\"></div>            <script type=\"text/javascript\">                                    window.PLOTLYENV=window.PLOTLYENV || {};                                    if (document.getElementById(\"c0fe7fac-ed9a-41d9-b361-83dc5c8f6872\")) {                    Plotly.newPlot(                        \"c0fe7fac-ed9a-41d9-b361-83dc5c8f6872\",                        [{\"branchvalues\": \"total\", \"domain\": {\"x\": [0.0, 1.0], \"y\": [0.0, 1.0]}, \"hovertemplate\": \"labels=%{label}<br>porcentaje=%{value}<br>parent=%{parent}<br>id=%{id}<extra></extra>\", \"ids\": [\"some high school/4.59/group A\", \"high school/4.68/group A\", \"master's degree/4.8/group A\", \"associate's degree/4.83/group A\", \"some college/4.89/group A\", \"bachelor's degree/5.07/group A\", \"high school/4.69/group B\", \"some college/4.86/group B\", \"some high school/4.86/group B\", \"associate's degree/5.08/group B\", \"bachelor's degree/5.28/group B\", \"master's degree/5.49/group B\", \"high school/4.74/group C\", \"some high school/4.79/group C\", \"some college/5.07/group C\", \"master's degree/5.14/group C\", \"associate's degree/5.16/group C\", \"bachelor's degree/5.39/group C\", \"high school/4.81/group D\", \"some high school/5.12/group D\", \"associate's degree/5.16/group D\", \"bachelor's degree/5.19/group D\", \"some college/5.23/group D\", \"master's degree/5.59/group D\", \"some high school/5.16/group E\", \"high school/5.17/group E\", \"some college/5.33/group E\", \"associate's degree/5.44/group E\", \"bachelor's degree/5.54/group E\", \"master's degree/5.74/group E\", \"some high school/4.59\", \"high school/4.68\", \"high school/4.69\", \"high school/4.74\", \"some high school/4.79\", \"master's degree/4.8\", \"high school/4.81\", \"associate's degree/4.83\", \"some college/4.86\", \"some high school/4.86\", \"some college/4.89\", \"bachelor's degree/5.07\", \"some college/5.07\", \"associate's degree/5.08\", \"some high school/5.12\", \"master's degree/5.14\", \"associate's degree/5.16\", \"some high school/5.16\", \"high school/5.17\", \"bachelor's degree/5.19\", \"some college/5.23\", \"bachelor's degree/5.28\", \"some college/5.33\", \"bachelor's degree/5.39\", \"associate's degree/5.44\", \"master's degree/5.49\", \"bachelor's degree/5.54\", \"master's degree/5.59\", \"master's degree/5.74\", \"associate's degree\", \"bachelor's degree\", \"high school\", \"master's degree\", \"some college\", \"some high school\"], \"labels\": [\"group A\", \"group A\", \"group A\", \"group A\", \"group A\", \"group A\", \"group B\", \"group B\", \"group B\", \"group B\", \"group B\", \"group B\", \"group C\", \"group C\", \"group C\", \"group C\", \"group C\", \"group C\", \"group D\", \"group D\", \"group D\", \"group D\", \"group D\", \"group D\", \"group E\", \"group E\", \"group E\", \"group E\", \"group E\", \"group E\", \"4.59\", \"4.68\", \"4.69\", \"4.74\", \"4.79\", \"4.8\", \"4.81\", \"4.83\", \"4.86\", \"4.86\", \"4.89\", \"5.07\", \"5.07\", \"5.08\", \"5.12\", \"5.14\", \"5.16\", \"5.16\", \"5.17\", \"5.19\", \"5.23\", \"5.28\", \"5.33\", \"5.39\", \"5.44\", \"5.49\", \"5.54\", \"5.59\", \"5.74\", \"associate's degree\", \"bachelor's degree\", \"high school\", \"master's degree\", \"some college\", \"some high school\"], \"name\": \"\", \"parents\": [\"some high school/4.59\", \"high school/4.68\", \"master's degree/4.8\", \"associate's degree/4.83\", \"some college/4.89\", \"bachelor's degree/5.07\", \"high school/4.69\", \"some college/4.86\", \"some high school/4.86\", \"associate's degree/5.08\", \"bachelor's degree/5.28\", \"master's degree/5.49\", \"high school/4.74\", \"some high school/4.79\", \"some college/5.07\", \"master's degree/5.14\", \"associate's degree/5.16\", \"bachelor's degree/5.39\", \"high school/4.81\", \"some high school/5.12\", \"associate's degree/5.16\", \"bachelor's degree/5.19\", \"some college/5.23\", \"master's degree/5.59\", \"some high school/5.16\", \"high school/5.17\", \"some college/5.33\", \"associate's degree/5.44\", \"bachelor's degree/5.54\", \"master's degree/5.74\", \"some high school\", \"high school\", \"high school\", \"high school\", \"some high school\", \"master's degree\", \"high school\", \"associate's degree\", \"some college\", \"some high school\", \"some college\", \"bachelor's degree\", \"some college\", \"associate's degree\", \"some high school\", \"master's degree\", \"associate's degree\", \"some high school\", \"high school\", \"bachelor's degree\", \"some college\", \"bachelor's degree\", \"some college\", \"bachelor's degree\", \"associate's degree\", \"master's degree\", \"bachelor's degree\", \"master's degree\", \"master's degree\", \"\", \"\", \"\", \"\", \"\", \"\"], \"type\": \"sunburst\", \"values\": [2.4, 1.8, 0.3, 1.4, 1.8, 1.2, 4.8, 3.7, 3.8, 4.1, 2.0, 0.6, 6.4, 4.9, 6.9, 1.9, 7.8, 4.0, 4.4, 5.0, 5.0, 2.8, 6.7, 2.3, 1.8, 2.2, 3.5, 3.9, 1.8, 0.8, 2.4, 1.8, 4.8, 6.4, 4.9, 0.3, 4.4, 1.4, 3.7, 3.8, 1.8, 1.2, 6.9, 4.1, 5.0, 1.9, 12.8, 1.8, 2.2, 2.8, 6.7, 2.0, 3.5, 4.0, 3.9, 0.6, 1.8, 2.3, 0.8, 22.2, 11.8, 19.599999999999998, 5.8999999999999995, 22.6, 17.900000000000002]}],                        {\"legend\": {\"tracegroupgap\": 0}, \"margin\": {\"t\": 60}, \"template\": {\"data\": {\"bar\": [{\"error_x\": {\"color\": \"#2a3f5f\"}, \"error_y\": {\"color\": \"#2a3f5f\"}, \"marker\": {\"line\": {\"color\": \"#E5ECF6\", \"width\": 0.5}}, \"type\": \"bar\"}], \"barpolar\": [{\"marker\": {\"line\": {\"color\": \"#E5ECF6\", \"width\": 0.5}}, \"type\": \"barpolar\"}], \"carpet\": [{\"aaxis\": {\"endlinecolor\": \"#2a3f5f\", \"gridcolor\": \"white\", \"linecolor\": \"white\", \"minorgridcolor\": \"white\", \"startlinecolor\": \"#2a3f5f\"}, \"baxis\": {\"endlinecolor\": \"#2a3f5f\", \"gridcolor\": \"white\", \"linecolor\": \"white\", \"minorgridcolor\": \"white\", \"startlinecolor\": \"#2a3f5f\"}, \"type\": \"carpet\"}], \"choropleth\": [{\"colorbar\": {\"outlinewidth\": 0, \"ticks\": \"\"}, \"type\": \"choropleth\"}], \"contour\": [{\"colorbar\": {\"outlinewidth\": 0, \"ticks\": \"\"}, \"colorscale\": [[0.0, \"#0d0887\"], [0.1111111111111111, \"#46039f\"], [0.2222222222222222, \"#7201a8\"], [0.3333333333333333, \"#9c179e\"], [0.4444444444444444, \"#bd3786\"], [0.5555555555555556, \"#d8576b\"], [0.6666666666666666, \"#ed7953\"], [0.7777777777777778, \"#fb9f3a\"], [0.8888888888888888, \"#fdca26\"], [1.0, \"#f0f921\"]], \"type\": \"contour\"}], \"contourcarpet\": [{\"colorbar\": {\"outlinewidth\": 0, \"ticks\": \"\"}, \"type\": \"contourcarpet\"}], \"heatmap\": [{\"colorbar\": {\"outlinewidth\": 0, \"ticks\": \"\"}, \"colorscale\": [[0.0, \"#0d0887\"], [0.1111111111111111, \"#46039f\"], [0.2222222222222222, \"#7201a8\"], [0.3333333333333333, \"#9c179e\"], [0.4444444444444444, \"#bd3786\"], [0.5555555555555556, \"#d8576b\"], [0.6666666666666666, \"#ed7953\"], [0.7777777777777778, \"#fb9f3a\"], [0.8888888888888888, \"#fdca26\"], [1.0, \"#f0f921\"]], \"type\": \"heatmap\"}], \"heatmapgl\": [{\"colorbar\": {\"outlinewidth\": 0, \"ticks\": \"\"}, \"colorscale\": [[0.0, \"#0d0887\"], [0.1111111111111111, \"#46039f\"], [0.2222222222222222, \"#7201a8\"], [0.3333333333333333, \"#9c179e\"], [0.4444444444444444, \"#bd3786\"], [0.5555555555555556, \"#d8576b\"], [0.6666666666666666, \"#ed7953\"], [0.7777777777777778, \"#fb9f3a\"], [0.8888888888888888, \"#fdca26\"], [1.0, \"#f0f921\"]], \"type\": \"heatmapgl\"}], \"histogram\": [{\"marker\": {\"colorbar\": {\"outlinewidth\": 0, \"ticks\": \"\"}}, \"type\": \"histogram\"}], \"histogram2d\": [{\"colorbar\": {\"outlinewidth\": 0, \"ticks\": \"\"}, \"colorscale\": [[0.0, \"#0d0887\"], [0.1111111111111111, \"#46039f\"], [0.2222222222222222, \"#7201a8\"], [0.3333333333333333, \"#9c179e\"], [0.4444444444444444, \"#bd3786\"], [0.5555555555555556, \"#d8576b\"], [0.6666666666666666, \"#ed7953\"], [0.7777777777777778, \"#fb9f3a\"], [0.8888888888888888, \"#fdca26\"], [1.0, \"#f0f921\"]], \"type\": \"histogram2d\"}], \"histogram2dcontour\": [{\"colorbar\": {\"outlinewidth\": 0, \"ticks\": \"\"}, \"colorscale\": [[0.0, \"#0d0887\"], [0.1111111111111111, \"#46039f\"], [0.2222222222222222, \"#7201a8\"], [0.3333333333333333, \"#9c179e\"], [0.4444444444444444, \"#bd3786\"], [0.5555555555555556, \"#d8576b\"], [0.6666666666666666, \"#ed7953\"], [0.7777777777777778, \"#fb9f3a\"], [0.8888888888888888, \"#fdca26\"], [1.0, \"#f0f921\"]], \"type\": \"histogram2dcontour\"}], \"mesh3d\": [{\"colorbar\": {\"outlinewidth\": 0, \"ticks\": \"\"}, \"type\": \"mesh3d\"}], \"parcoords\": [{\"line\": {\"colorbar\": {\"outlinewidth\": 0, \"ticks\": \"\"}}, \"type\": \"parcoords\"}], \"pie\": [{\"automargin\": true, \"type\": \"pie\"}], \"scatter\": [{\"marker\": {\"colorbar\": {\"outlinewidth\": 0, \"ticks\": \"\"}}, \"type\": \"scatter\"}], \"scatter3d\": [{\"line\": {\"colorbar\": {\"outlinewidth\": 0, \"ticks\": \"\"}}, \"marker\": {\"colorbar\": {\"outlinewidth\": 0, \"ticks\": \"\"}}, \"type\": \"scatter3d\"}], \"scattercarpet\": [{\"marker\": {\"colorbar\": {\"outlinewidth\": 0, \"ticks\": \"\"}}, \"type\": \"scattercarpet\"}], \"scattergeo\": [{\"marker\": {\"colorbar\": {\"outlinewidth\": 0, \"ticks\": \"\"}}, \"type\": \"scattergeo\"}], \"scattergl\": [{\"marker\": {\"colorbar\": {\"outlinewidth\": 0, \"ticks\": \"\"}}, \"type\": \"scattergl\"}], \"scattermapbox\": [{\"marker\": {\"colorbar\": {\"outlinewidth\": 0, \"ticks\": \"\"}}, \"type\": \"scattermapbox\"}], \"scatterpolar\": [{\"marker\": {\"colorbar\": {\"outlinewidth\": 0, \"ticks\": \"\"}}, \"type\": \"scatterpolar\"}], \"scatterpolargl\": [{\"marker\": {\"colorbar\": {\"outlinewidth\": 0, \"ticks\": \"\"}}, \"type\": \"scatterpolargl\"}], \"scatterternary\": [{\"marker\": {\"colorbar\": {\"outlinewidth\": 0, \"ticks\": \"\"}}, \"type\": \"scatterternary\"}], \"surface\": [{\"colorbar\": {\"outlinewidth\": 0, \"ticks\": \"\"}, \"colorscale\": [[0.0, \"#0d0887\"], [0.1111111111111111, \"#46039f\"], [0.2222222222222222, \"#7201a8\"], [0.3333333333333333, \"#9c179e\"], [0.4444444444444444, \"#bd3786\"], [0.5555555555555556, \"#d8576b\"], [0.6666666666666666, \"#ed7953\"], [0.7777777777777778, \"#fb9f3a\"], [0.8888888888888888, \"#fdca26\"], [1.0, \"#f0f921\"]], \"type\": \"surface\"}], \"table\": [{\"cells\": {\"fill\": {\"color\": \"#EBF0F8\"}, \"line\": {\"color\": \"white\"}}, \"header\": {\"fill\": {\"color\": \"#C8D4E3\"}, \"line\": {\"color\": \"white\"}}, \"type\": \"table\"}]}, \"layout\": {\"annotationdefaults\": {\"arrowcolor\": \"#2a3f5f\", \"arrowhead\": 0, \"arrowwidth\": 1}, \"autotypenumbers\": \"strict\", \"coloraxis\": {\"colorbar\": {\"outlinewidth\": 0, \"ticks\": \"\"}}, \"colorscale\": {\"diverging\": [[0, \"#8e0152\"], [0.1, \"#c51b7d\"], [0.2, \"#de77ae\"], [0.3, \"#f1b6da\"], [0.4, \"#fde0ef\"], [0.5, \"#f7f7f7\"], [0.6, \"#e6f5d0\"], [0.7, \"#b8e186\"], [0.8, \"#7fbc41\"], [0.9, \"#4d9221\"], [1, \"#276419\"]], \"sequential\": [[0.0, \"#0d0887\"], [0.1111111111111111, \"#46039f\"], [0.2222222222222222, \"#7201a8\"], [0.3333333333333333, \"#9c179e\"], [0.4444444444444444, \"#bd3786\"], [0.5555555555555556, \"#d8576b\"], [0.6666666666666666, \"#ed7953\"], [0.7777777777777778, \"#fb9f3a\"], [0.8888888888888888, \"#fdca26\"], [1.0, \"#f0f921\"]], \"sequentialminus\": [[0.0, \"#0d0887\"], [0.1111111111111111, \"#46039f\"], [0.2222222222222222, \"#7201a8\"], [0.3333333333333333, \"#9c179e\"], [0.4444444444444444, \"#bd3786\"], [0.5555555555555556, \"#d8576b\"], [0.6666666666666666, \"#ed7953\"], [0.7777777777777778, \"#fb9f3a\"], [0.8888888888888888, \"#fdca26\"], [1.0, \"#f0f921\"]]}, \"colorway\": [\"#636efa\", \"#EF553B\", \"#00cc96\", \"#ab63fa\", \"#FFA15A\", \"#19d3f3\", \"#FF6692\", \"#B6E880\", \"#FF97FF\", \"#FECB52\"], \"font\": {\"color\": \"#2a3f5f\"}, \"geo\": {\"bgcolor\": \"white\", \"lakecolor\": \"white\", \"landcolor\": \"#E5ECF6\", \"showlakes\": true, \"showland\": true, \"subunitcolor\": \"white\"}, \"hoverlabel\": {\"align\": \"left\"}, \"hovermode\": \"closest\", \"mapbox\": {\"style\": \"light\"}, \"paper_bgcolor\": \"white\", \"plot_bgcolor\": \"#E5ECF6\", \"polar\": {\"angularaxis\": {\"gridcolor\": \"white\", \"linecolor\": \"white\", \"ticks\": \"\"}, \"bgcolor\": \"#E5ECF6\", \"radialaxis\": {\"gridcolor\": \"white\", \"linecolor\": \"white\", \"ticks\": \"\"}}, \"scene\": {\"xaxis\": {\"backgroundcolor\": \"#E5ECF6\", \"gridcolor\": \"white\", \"gridwidth\": 2, \"linecolor\": \"white\", \"showbackground\": true, \"ticks\": \"\", \"zerolinecolor\": \"white\"}, \"yaxis\": {\"backgroundcolor\": \"#E5ECF6\", \"gridcolor\": \"white\", \"gridwidth\": 2, \"linecolor\": \"white\", \"showbackground\": true, \"ticks\": \"\", \"zerolinecolor\": \"white\"}, \"zaxis\": {\"backgroundcolor\": \"#E5ECF6\", \"gridcolor\": \"white\", \"gridwidth\": 2, \"linecolor\": \"white\", \"showbackground\": true, \"ticks\": \"\", \"zerolinecolor\": \"white\"}}, \"shapedefaults\": {\"line\": {\"color\": \"#2a3f5f\"}}, \"ternary\": {\"aaxis\": {\"gridcolor\": \"white\", \"linecolor\": \"white\", \"ticks\": \"\"}, \"baxis\": {\"gridcolor\": \"white\", \"linecolor\": \"white\", \"ticks\": \"\"}, \"bgcolor\": \"#E5ECF6\", \"caxis\": {\"gridcolor\": \"white\", \"linecolor\": \"white\", \"ticks\": \"\"}}, \"title\": {\"x\": 0.05}, \"xaxis\": {\"automargin\": true, \"gridcolor\": \"white\", \"linecolor\": \"white\", \"ticks\": \"\", \"title\": {\"standoff\": 15}, \"zerolinecolor\": \"white\", \"zerolinewidth\": 2}, \"yaxis\": {\"automargin\": true, \"gridcolor\": \"white\", \"linecolor\": \"white\", \"ticks\": \"\", \"title\": {\"standoff\": 15}, \"zerolinecolor\": \"white\", \"zerolinewidth\": 2}}}},                        {\"responsive\": true}                    ).then(function(){\n",
              "                            \n",
              "var gd = document.getElementById('c0fe7fac-ed9a-41d9-b361-83dc5c8f6872');\n",
              "var x = new MutationObserver(function (mutations, observer) {{\n",
              "        var display = window.getComputedStyle(gd).display;\n",
              "        if (!display || display === 'none') {{\n",
              "            console.log([gd, 'removed!']);\n",
              "            Plotly.purge(gd);\n",
              "            observer.disconnect();\n",
              "        }}\n",
              "}});\n",
              "\n",
              "// Listen for the removal of the full notebook cells\n",
              "var notebookContainer = gd.closest('#notebook-container');\n",
              "if (notebookContainer) {{\n",
              "    x.observe(notebookContainer, {childList: true});\n",
              "}}\n",
              "\n",
              "// Listen for the clearing of the current output cell\n",
              "var outputEl = gd.closest('.output');\n",
              "if (outputEl) {{\n",
              "    x.observe(outputEl, {childList: true});\n",
              "}}\n",
              "\n",
              "                        })                };                            </script>        </div>\n",
              "</body>\n",
              "</html>"
            ]
          },
          "metadata": {
            "tags": []
          }
        }
      ]
    },
    {
      "cell_type": "code",
      "metadata": {
        "colab": {
          "base_uri": "https://localhost:8080/",
          "height": 542
        },
        "id": "h9qVsruWys4K",
        "outputId": "a5957b1c-ef40-4ec6-9a00-a57106534afb"
      },
      "source": [
        "fig = px.sunburst(df_agrupado, path = ['race/ethnicity','parental level of education','promedio'], values = 'promedio')\n",
        "fig.show()"
      ],
      "execution_count": 61,
      "outputs": [
        {
          "output_type": "display_data",
          "data": {
            "text/html": [
              "<html>\n",
              "<head><meta charset=\"utf-8\" /></head>\n",
              "<body>\n",
              "    <div>            <script src=\"https://cdnjs.cloudflare.com/ajax/libs/mathjax/2.7.5/MathJax.js?config=TeX-AMS-MML_SVG\"></script><script type=\"text/javascript\">if (window.MathJax) {MathJax.Hub.Config({SVG: {font: \"STIX-Web\"}});}</script>                <script type=\"text/javascript\">window.PlotlyConfig = {MathJaxConfig: 'local'};</script>\n",
              "        <script src=\"https://cdn.plot.ly/plotly-latest.min.js\"></script>                <div id=\"d620e531-5aaf-4500-bd37-16222ead7c2d\" class=\"plotly-graph-div\" style=\"height:525px; width:100%;\"></div>            <script type=\"text/javascript\">                                    window.PLOTLYENV=window.PLOTLYENV || {};                                    if (document.getElementById(\"d620e531-5aaf-4500-bd37-16222ead7c2d\")) {                    Plotly.newPlot(                        \"d620e531-5aaf-4500-bd37-16222ead7c2d\",                        [{\"branchvalues\": \"total\", \"domain\": {\"x\": [0.0, 1.0], \"y\": [0.0, 1.0]}, \"hovertemplate\": \"labels=%{label}<br>promedio=%{value}<br>parent=%{parent}<br>id=%{id}<extra></extra>\", \"ids\": [\"group A/some high school/4.59\", \"group A/high school/4.68\", \"group B/high school/4.69\", \"group C/high school/4.74\", \"group C/some high school/4.79\", \"group A/master's degree/4.8\", \"group D/high school/4.81\", \"group A/associate's degree/4.83\", \"group B/some college/4.86\", \"group B/some high school/4.86\", \"group A/some college/4.89\", \"group A/bachelor's degree/5.07\", \"group C/some college/5.07\", \"group B/associate's degree/5.08\", \"group D/some high school/5.12\", \"group C/master's degree/5.14\", \"group C/associate's degree/5.16\", \"group D/associate's degree/5.16\", \"group E/some high school/5.16\", \"group E/high school/5.17\", \"group D/bachelor's degree/5.19\", \"group D/some college/5.23\", \"group B/bachelor's degree/5.28\", \"group E/some college/5.33\", \"group C/bachelor's degree/5.39\", \"group E/associate's degree/5.44\", \"group B/master's degree/5.49\", \"group E/bachelor's degree/5.54\", \"group D/master's degree/5.59\", \"group E/master's degree/5.74\", \"group A/associate's degree\", \"group B/associate's degree\", \"group C/associate's degree\", \"group D/associate's degree\", \"group E/associate's degree\", \"group A/bachelor's degree\", \"group B/bachelor's degree\", \"group C/bachelor's degree\", \"group D/bachelor's degree\", \"group E/bachelor's degree\", \"group A/high school\", \"group B/high school\", \"group C/high school\", \"group D/high school\", \"group E/high school\", \"group A/master's degree\", \"group B/master's degree\", \"group C/master's degree\", \"group D/master's degree\", \"group E/master's degree\", \"group A/some college\", \"group B/some college\", \"group C/some college\", \"group D/some college\", \"group E/some college\", \"group A/some high school\", \"group B/some high school\", \"group C/some high school\", \"group D/some high school\", \"group E/some high school\", \"group A\", \"group B\", \"group C\", \"group D\", \"group E\"], \"labels\": [\"4.59\", \"4.68\", \"4.69\", \"4.74\", \"4.79\", \"4.8\", \"4.81\", \"4.83\", \"4.86\", \"4.86\", \"4.89\", \"5.07\", \"5.07\", \"5.08\", \"5.12\", \"5.14\", \"5.16\", \"5.16\", \"5.16\", \"5.17\", \"5.19\", \"5.23\", \"5.28\", \"5.33\", \"5.39\", \"5.44\", \"5.49\", \"5.54\", \"5.59\", \"5.74\", \"associate's degree\", \"associate's degree\", \"associate's degree\", \"associate's degree\", \"associate's degree\", \"bachelor's degree\", \"bachelor's degree\", \"bachelor's degree\", \"bachelor's degree\", \"bachelor's degree\", \"high school\", \"high school\", \"high school\", \"high school\", \"high school\", \"master's degree\", \"master's degree\", \"master's degree\", \"master's degree\", \"master's degree\", \"some college\", \"some college\", \"some college\", \"some college\", \"some college\", \"some high school\", \"some high school\", \"some high school\", \"some high school\", \"some high school\", \"group A\", \"group B\", \"group C\", \"group D\", \"group E\"], \"name\": \"\", \"parents\": [\"group A/some high school\", \"group A/high school\", \"group B/high school\", \"group C/high school\", \"group C/some high school\", \"group A/master's degree\", \"group D/high school\", \"group A/associate's degree\", \"group B/some college\", \"group B/some high school\", \"group A/some college\", \"group A/bachelor's degree\", \"group C/some college\", \"group B/associate's degree\", \"group D/some high school\", \"group C/master's degree\", \"group C/associate's degree\", \"group D/associate's degree\", \"group E/some high school\", \"group E/high school\", \"group D/bachelor's degree\", \"group D/some college\", \"group B/bachelor's degree\", \"group E/some college\", \"group C/bachelor's degree\", \"group E/associate's degree\", \"group B/master's degree\", \"group E/bachelor's degree\", \"group D/master's degree\", \"group E/master's degree\", \"group A\", \"group B\", \"group C\", \"group D\", \"group E\", \"group A\", \"group B\", \"group C\", \"group D\", \"group E\", \"group A\", \"group B\", \"group C\", \"group D\", \"group E\", \"group A\", \"group B\", \"group C\", \"group D\", \"group E\", \"group A\", \"group B\", \"group C\", \"group D\", \"group E\", \"group A\", \"group B\", \"group C\", \"group D\", \"group E\", \"\", \"\", \"\", \"\", \"\"], \"type\": \"sunburst\", \"values\": [4.59, 4.68, 4.69, 4.74, 4.79, 4.8, 4.81, 4.83, 4.86, 4.86, 4.89, 5.07, 5.07, 5.08, 5.12, 5.14, 5.16, 5.16, 5.16, 5.17, 5.19, 5.23, 5.28, 5.33, 5.39, 5.44, 5.49, 5.54, 5.59, 5.74, 4.83, 5.08, 5.16, 5.16, 5.44, 5.07, 5.28, 5.39, 5.19, 5.54, 4.68, 4.69, 4.74, 4.81, 5.17, 4.8, 5.49, 5.14, 5.59, 5.74, 4.89, 4.86, 5.07, 5.23, 5.33, 4.59, 4.86, 4.79, 5.12, 5.16, 28.86, 30.259999999999998, 30.29, 31.1, 32.379999999999995]}],                        {\"legend\": {\"tracegroupgap\": 0}, \"margin\": {\"t\": 60}, \"template\": {\"data\": {\"bar\": [{\"error_x\": {\"color\": \"#2a3f5f\"}, \"error_y\": {\"color\": \"#2a3f5f\"}, \"marker\": {\"line\": {\"color\": \"#E5ECF6\", \"width\": 0.5}}, \"type\": \"bar\"}], \"barpolar\": [{\"marker\": {\"line\": {\"color\": \"#E5ECF6\", \"width\": 0.5}}, \"type\": \"barpolar\"}], \"carpet\": [{\"aaxis\": {\"endlinecolor\": \"#2a3f5f\", \"gridcolor\": \"white\", \"linecolor\": \"white\", \"minorgridcolor\": \"white\", \"startlinecolor\": \"#2a3f5f\"}, \"baxis\": {\"endlinecolor\": \"#2a3f5f\", \"gridcolor\": \"white\", \"linecolor\": \"white\", \"minorgridcolor\": \"white\", \"startlinecolor\": \"#2a3f5f\"}, \"type\": \"carpet\"}], \"choropleth\": [{\"colorbar\": {\"outlinewidth\": 0, \"ticks\": \"\"}, \"type\": \"choropleth\"}], \"contour\": [{\"colorbar\": {\"outlinewidth\": 0, \"ticks\": \"\"}, \"colorscale\": [[0.0, \"#0d0887\"], [0.1111111111111111, \"#46039f\"], [0.2222222222222222, \"#7201a8\"], [0.3333333333333333, \"#9c179e\"], [0.4444444444444444, \"#bd3786\"], [0.5555555555555556, \"#d8576b\"], [0.6666666666666666, \"#ed7953\"], [0.7777777777777778, \"#fb9f3a\"], [0.8888888888888888, \"#fdca26\"], [1.0, \"#f0f921\"]], \"type\": \"contour\"}], \"contourcarpet\": [{\"colorbar\": {\"outlinewidth\": 0, \"ticks\": \"\"}, \"type\": \"contourcarpet\"}], \"heatmap\": [{\"colorbar\": {\"outlinewidth\": 0, \"ticks\": \"\"}, \"colorscale\": [[0.0, \"#0d0887\"], [0.1111111111111111, \"#46039f\"], [0.2222222222222222, \"#7201a8\"], [0.3333333333333333, \"#9c179e\"], [0.4444444444444444, \"#bd3786\"], [0.5555555555555556, \"#d8576b\"], [0.6666666666666666, \"#ed7953\"], [0.7777777777777778, \"#fb9f3a\"], [0.8888888888888888, \"#fdca26\"], [1.0, \"#f0f921\"]], \"type\": \"heatmap\"}], \"heatmapgl\": [{\"colorbar\": {\"outlinewidth\": 0, \"ticks\": \"\"}, \"colorscale\": [[0.0, \"#0d0887\"], [0.1111111111111111, \"#46039f\"], [0.2222222222222222, \"#7201a8\"], [0.3333333333333333, \"#9c179e\"], [0.4444444444444444, \"#bd3786\"], [0.5555555555555556, \"#d8576b\"], [0.6666666666666666, \"#ed7953\"], [0.7777777777777778, \"#fb9f3a\"], [0.8888888888888888, \"#fdca26\"], [1.0, \"#f0f921\"]], \"type\": \"heatmapgl\"}], \"histogram\": [{\"marker\": {\"colorbar\": {\"outlinewidth\": 0, \"ticks\": \"\"}}, \"type\": \"histogram\"}], \"histogram2d\": [{\"colorbar\": {\"outlinewidth\": 0, \"ticks\": \"\"}, \"colorscale\": [[0.0, \"#0d0887\"], [0.1111111111111111, \"#46039f\"], [0.2222222222222222, \"#7201a8\"], [0.3333333333333333, \"#9c179e\"], [0.4444444444444444, \"#bd3786\"], [0.5555555555555556, \"#d8576b\"], [0.6666666666666666, \"#ed7953\"], [0.7777777777777778, \"#fb9f3a\"], [0.8888888888888888, \"#fdca26\"], [1.0, \"#f0f921\"]], \"type\": \"histogram2d\"}], \"histogram2dcontour\": [{\"colorbar\": {\"outlinewidth\": 0, \"ticks\": \"\"}, \"colorscale\": [[0.0, \"#0d0887\"], [0.1111111111111111, \"#46039f\"], [0.2222222222222222, \"#7201a8\"], [0.3333333333333333, \"#9c179e\"], [0.4444444444444444, \"#bd3786\"], [0.5555555555555556, \"#d8576b\"], [0.6666666666666666, \"#ed7953\"], [0.7777777777777778, \"#fb9f3a\"], [0.8888888888888888, \"#fdca26\"], [1.0, \"#f0f921\"]], \"type\": \"histogram2dcontour\"}], \"mesh3d\": [{\"colorbar\": {\"outlinewidth\": 0, \"ticks\": \"\"}, \"type\": \"mesh3d\"}], \"parcoords\": [{\"line\": {\"colorbar\": {\"outlinewidth\": 0, \"ticks\": \"\"}}, \"type\": \"parcoords\"}], \"pie\": [{\"automargin\": true, \"type\": \"pie\"}], \"scatter\": [{\"marker\": {\"colorbar\": {\"outlinewidth\": 0, \"ticks\": \"\"}}, \"type\": \"scatter\"}], \"scatter3d\": [{\"line\": {\"colorbar\": {\"outlinewidth\": 0, \"ticks\": \"\"}}, \"marker\": {\"colorbar\": {\"outlinewidth\": 0, \"ticks\": \"\"}}, \"type\": \"scatter3d\"}], \"scattercarpet\": [{\"marker\": {\"colorbar\": {\"outlinewidth\": 0, \"ticks\": \"\"}}, \"type\": \"scattercarpet\"}], \"scattergeo\": [{\"marker\": {\"colorbar\": {\"outlinewidth\": 0, \"ticks\": \"\"}}, \"type\": \"scattergeo\"}], \"scattergl\": [{\"marker\": {\"colorbar\": {\"outlinewidth\": 0, \"ticks\": \"\"}}, \"type\": \"scattergl\"}], \"scattermapbox\": [{\"marker\": {\"colorbar\": {\"outlinewidth\": 0, \"ticks\": \"\"}}, \"type\": \"scattermapbox\"}], \"scatterpolar\": [{\"marker\": {\"colorbar\": {\"outlinewidth\": 0, \"ticks\": \"\"}}, \"type\": \"scatterpolar\"}], \"scatterpolargl\": [{\"marker\": {\"colorbar\": {\"outlinewidth\": 0, \"ticks\": \"\"}}, \"type\": \"scatterpolargl\"}], \"scatterternary\": [{\"marker\": {\"colorbar\": {\"outlinewidth\": 0, \"ticks\": \"\"}}, \"type\": \"scatterternary\"}], \"surface\": [{\"colorbar\": {\"outlinewidth\": 0, \"ticks\": \"\"}, \"colorscale\": [[0.0, \"#0d0887\"], [0.1111111111111111, \"#46039f\"], [0.2222222222222222, \"#7201a8\"], [0.3333333333333333, \"#9c179e\"], [0.4444444444444444, \"#bd3786\"], [0.5555555555555556, \"#d8576b\"], [0.6666666666666666, \"#ed7953\"], [0.7777777777777778, \"#fb9f3a\"], [0.8888888888888888, \"#fdca26\"], [1.0, \"#f0f921\"]], \"type\": \"surface\"}], \"table\": [{\"cells\": {\"fill\": {\"color\": \"#EBF0F8\"}, \"line\": {\"color\": \"white\"}}, \"header\": {\"fill\": {\"color\": \"#C8D4E3\"}, \"line\": {\"color\": \"white\"}}, \"type\": \"table\"}]}, \"layout\": {\"annotationdefaults\": {\"arrowcolor\": \"#2a3f5f\", \"arrowhead\": 0, \"arrowwidth\": 1}, \"autotypenumbers\": \"strict\", \"coloraxis\": {\"colorbar\": {\"outlinewidth\": 0, \"ticks\": \"\"}}, \"colorscale\": {\"diverging\": [[0, \"#8e0152\"], [0.1, \"#c51b7d\"], [0.2, \"#de77ae\"], [0.3, \"#f1b6da\"], [0.4, \"#fde0ef\"], [0.5, \"#f7f7f7\"], [0.6, \"#e6f5d0\"], [0.7, \"#b8e186\"], [0.8, \"#7fbc41\"], [0.9, \"#4d9221\"], [1, \"#276419\"]], \"sequential\": [[0.0, \"#0d0887\"], [0.1111111111111111, \"#46039f\"], [0.2222222222222222, \"#7201a8\"], [0.3333333333333333, \"#9c179e\"], [0.4444444444444444, \"#bd3786\"], [0.5555555555555556, \"#d8576b\"], [0.6666666666666666, \"#ed7953\"], [0.7777777777777778, \"#fb9f3a\"], [0.8888888888888888, \"#fdca26\"], [1.0, \"#f0f921\"]], \"sequentialminus\": [[0.0, \"#0d0887\"], [0.1111111111111111, \"#46039f\"], [0.2222222222222222, \"#7201a8\"], [0.3333333333333333, \"#9c179e\"], [0.4444444444444444, \"#bd3786\"], [0.5555555555555556, \"#d8576b\"], [0.6666666666666666, \"#ed7953\"], [0.7777777777777778, \"#fb9f3a\"], [0.8888888888888888, \"#fdca26\"], [1.0, \"#f0f921\"]]}, \"colorway\": [\"#636efa\", \"#EF553B\", \"#00cc96\", \"#ab63fa\", \"#FFA15A\", \"#19d3f3\", \"#FF6692\", \"#B6E880\", \"#FF97FF\", \"#FECB52\"], \"font\": {\"color\": \"#2a3f5f\"}, \"geo\": {\"bgcolor\": \"white\", \"lakecolor\": \"white\", \"landcolor\": \"#E5ECF6\", \"showlakes\": true, \"showland\": true, \"subunitcolor\": \"white\"}, \"hoverlabel\": {\"align\": \"left\"}, \"hovermode\": \"closest\", \"mapbox\": {\"style\": \"light\"}, \"paper_bgcolor\": \"white\", \"plot_bgcolor\": \"#E5ECF6\", \"polar\": {\"angularaxis\": {\"gridcolor\": \"white\", \"linecolor\": \"white\", \"ticks\": \"\"}, \"bgcolor\": \"#E5ECF6\", \"radialaxis\": {\"gridcolor\": \"white\", \"linecolor\": \"white\", \"ticks\": \"\"}}, \"scene\": {\"xaxis\": {\"backgroundcolor\": \"#E5ECF6\", \"gridcolor\": \"white\", \"gridwidth\": 2, \"linecolor\": \"white\", \"showbackground\": true, \"ticks\": \"\", \"zerolinecolor\": \"white\"}, \"yaxis\": {\"backgroundcolor\": \"#E5ECF6\", \"gridcolor\": \"white\", \"gridwidth\": 2, \"linecolor\": \"white\", \"showbackground\": true, \"ticks\": \"\", \"zerolinecolor\": \"white\"}, \"zaxis\": {\"backgroundcolor\": \"#E5ECF6\", \"gridcolor\": \"white\", \"gridwidth\": 2, \"linecolor\": \"white\", \"showbackground\": true, \"ticks\": \"\", \"zerolinecolor\": \"white\"}}, \"shapedefaults\": {\"line\": {\"color\": \"#2a3f5f\"}}, \"ternary\": {\"aaxis\": {\"gridcolor\": \"white\", \"linecolor\": \"white\", \"ticks\": \"\"}, \"baxis\": {\"gridcolor\": \"white\", \"linecolor\": \"white\", \"ticks\": \"\"}, \"bgcolor\": \"#E5ECF6\", \"caxis\": {\"gridcolor\": \"white\", \"linecolor\": \"white\", \"ticks\": \"\"}}, \"title\": {\"x\": 0.05}, \"xaxis\": {\"automargin\": true, \"gridcolor\": \"white\", \"linecolor\": \"white\", \"ticks\": \"\", \"title\": {\"standoff\": 15}, \"zerolinecolor\": \"white\", \"zerolinewidth\": 2}, \"yaxis\": {\"automargin\": true, \"gridcolor\": \"white\", \"linecolor\": \"white\", \"ticks\": \"\", \"title\": {\"standoff\": 15}, \"zerolinecolor\": \"white\", \"zerolinewidth\": 2}}}},                        {\"responsive\": true}                    ).then(function(){\n",
              "                            \n",
              "var gd = document.getElementById('d620e531-5aaf-4500-bd37-16222ead7c2d');\n",
              "var x = new MutationObserver(function (mutations, observer) {{\n",
              "        var display = window.getComputedStyle(gd).display;\n",
              "        if (!display || display === 'none') {{\n",
              "            console.log([gd, 'removed!']);\n",
              "            Plotly.purge(gd);\n",
              "            observer.disconnect();\n",
              "        }}\n",
              "}});\n",
              "\n",
              "// Listen for the removal of the full notebook cells\n",
              "var notebookContainer = gd.closest('#notebook-container');\n",
              "if (notebookContainer) {{\n",
              "    x.observe(notebookContainer, {childList: true});\n",
              "}}\n",
              "\n",
              "// Listen for the clearing of the current output cell\n",
              "var outputEl = gd.closest('.output');\n",
              "if (outputEl) {{\n",
              "    x.observe(outputEl, {childList: true});\n",
              "}}\n",
              "\n",
              "                        })                };                            </script>        </div>\n",
              "</body>\n",
              "</html>"
            ]
          },
          "metadata": {
            "tags": []
          }
        }
      ]
    },
    {
      "cell_type": "markdown",
      "metadata": {
        "id": "loUzspGXijp1"
      },
      "source": [
        "> Comente los resultados obtenidos. ¿Hay alguna diferencia entre los grupos graficados?, ¿Es útil esta visualización?"
      ]
    },
    {
      "cell_type": "markdown",
      "metadata": {
        "id": "jb9sjfJlwolM"
      },
      "source": [
        "**Justifique:**"
      ]
    },
    {
      "cell_type": "markdown",
      "metadata": {
        "id": "vDl7h7JbwrKh"
      },
      "source": [
        "De las visualizaciones anteriores se puede observar que los hijos de padres con grado de magister corresponden a un pequeño porcentaje del total. Además estos suelen tener mejores notas que el resto de los alumnos.\n",
        "\n",
        "En cuanto a los grupos A,B,C,D y E, el grupo A es el que tiene peores notas, mientras que el E tiene mejores."
      ]
    },
    {
      "cell_type": "markdown",
      "metadata": {
        "id": "PzF4GclNrwAt"
      },
      "source": [
        "### 1.3.5 Combinar Dataset [1 punto]"
      ]
    },
    {
      "cell_type": "markdown",
      "metadata": {
        "id": "8p4P1F9q06SP"
      },
      "source": [
        "Al notificarle los resultados obtenidos en la etapa de descubrimiento a Don Caguayo, este les informa que ha encontrado un Excel con nueva información, en esta se tienen los valores de dos asignaturas y desea que la unan con el dataset original (```students_grades.csv```).\n",
        "\n",
        "Busque la forma de unir ambos DataFrames, para esto deberá anexar las columnas de ```history score``` y ```science score``` al final del DataFrame original.\n",
        "\n",
        "**To-Do**\n",
        "\n",
        "- [ ] Unir DataFrame ```students_grades.csv``` y ```other_grades.csv```."
      ]
    },
    {
      "cell_type": "code",
      "metadata": {
        "id": "WKBJJqLJ0DXN"
      },
      "source": [
        "df_other_grades = pd.read_csv(dir+'other_grades.csv')"
      ],
      "execution_count": 62,
      "outputs": []
    },
    {
      "cell_type": "code",
      "metadata": {
        "id": "049S-To9X8_Q",
        "colab": {
          "base_uri": "https://localhost:8080/",
          "height": 643
        },
        "outputId": "93b10615-1172-45ec-c7e6-95a7eb5ac459"
      },
      "source": [
        "df_grades.merge(df_other_grades, right_on = 'names', left_on = 'names')"
      ],
      "execution_count": 64,
      "outputs": [
        {
          "output_type": "execute_result",
          "data": {
            "text/html": [
              "<div>\n",
              "<style scoped>\n",
              "    .dataframe tbody tr th:only-of-type {\n",
              "        vertical-align: middle;\n",
              "    }\n",
              "\n",
              "    .dataframe tbody tr th {\n",
              "        vertical-align: top;\n",
              "    }\n",
              "\n",
              "    .dataframe thead th {\n",
              "        text-align: right;\n",
              "    }\n",
              "</style>\n",
              "<table border=\"1\" class=\"dataframe\">\n",
              "  <thead>\n",
              "    <tr style=\"text-align: right;\">\n",
              "      <th></th>\n",
              "      <th>names</th>\n",
              "      <th>gender</th>\n",
              "      <th>race/ethnicity</th>\n",
              "      <th>parental level of education</th>\n",
              "      <th>lunch</th>\n",
              "      <th>test preparation course</th>\n",
              "      <th>math score</th>\n",
              "      <th>reading score</th>\n",
              "      <th>writing score</th>\n",
              "      <th>promedio</th>\n",
              "      <th>science score</th>\n",
              "      <th>history score</th>\n",
              "    </tr>\n",
              "  </thead>\n",
              "  <tbody>\n",
              "    <tr>\n",
              "      <th>0</th>\n",
              "      <td>Rita Courtney</td>\n",
              "      <td>female</td>\n",
              "      <td>group B</td>\n",
              "      <td>some high school</td>\n",
              "      <td>standard</td>\n",
              "      <td>none</td>\n",
              "      <td>3.22</td>\n",
              "      <td>3.76</td>\n",
              "      <td>3.76</td>\n",
              "      <td>3.58</td>\n",
              "      <td>25</td>\n",
              "      <td>3.8</td>\n",
              "    </tr>\n",
              "    <tr>\n",
              "      <th>1</th>\n",
              "      <td>Charles Linstrom</td>\n",
              "      <td>male</td>\n",
              "      <td>group A</td>\n",
              "      <td>bachelor's degree</td>\n",
              "      <td>standard</td>\n",
              "      <td>completed</td>\n",
              "      <td>5.80</td>\n",
              "      <td>5.68</td>\n",
              "      <td>5.86</td>\n",
              "      <td>5.78</td>\n",
              "      <td>56</td>\n",
              "      <td>5.2</td>\n",
              "    </tr>\n",
              "    <tr>\n",
              "      <th>2</th>\n",
              "      <td>Brian Young</td>\n",
              "      <td>male</td>\n",
              "      <td>group C</td>\n",
              "      <td>some high school</td>\n",
              "      <td>standard</td>\n",
              "      <td>none</td>\n",
              "      <td>5.38</td>\n",
              "      <td>4.96</td>\n",
              "      <td>4.78</td>\n",
              "      <td>5.04</td>\n",
              "      <td>58</td>\n",
              "      <td>3.8</td>\n",
              "    </tr>\n",
              "    <tr>\n",
              "      <th>3</th>\n",
              "      <td>Howard Jimenez</td>\n",
              "      <td>male</td>\n",
              "      <td>group E</td>\n",
              "      <td>some high school</td>\n",
              "      <td>standard</td>\n",
              "      <td>completed</td>\n",
              "      <td>5.86</td>\n",
              "      <td>5.50</td>\n",
              "      <td>5.56</td>\n",
              "      <td>5.64</td>\n",
              "      <td>72</td>\n",
              "      <td>5.0</td>\n",
              "    </tr>\n",
              "    <tr>\n",
              "      <th>4</th>\n",
              "      <td>Wayne Wilson</td>\n",
              "      <td>male</td>\n",
              "      <td>group B</td>\n",
              "      <td>some high school</td>\n",
              "      <td>standard</td>\n",
              "      <td>completed</td>\n",
              "      <td>6.64</td>\n",
              "      <td>6.16</td>\n",
              "      <td>6.22</td>\n",
              "      <td>6.34</td>\n",
              "      <td>94</td>\n",
              "      <td>4.6</td>\n",
              "    </tr>\n",
              "    <tr>\n",
              "      <th>...</th>\n",
              "      <td>...</td>\n",
              "      <td>...</td>\n",
              "      <td>...</td>\n",
              "      <td>...</td>\n",
              "      <td>...</td>\n",
              "      <td>...</td>\n",
              "      <td>...</td>\n",
              "      <td>...</td>\n",
              "      <td>...</td>\n",
              "      <td>...</td>\n",
              "      <td>...</td>\n",
              "      <td>...</td>\n",
              "    </tr>\n",
              "    <tr>\n",
              "      <th>995</th>\n",
              "      <td>Richard Young</td>\n",
              "      <td>male</td>\n",
              "      <td>group D</td>\n",
              "      <td>high school</td>\n",
              "      <td>standard</td>\n",
              "      <td>none</td>\n",
              "      <td>5.14</td>\n",
              "      <td>5.50</td>\n",
              "      <td>5.26</td>\n",
              "      <td>5.30</td>\n",
              "      <td>62</td>\n",
              "      <td>4.2</td>\n",
              "    </tr>\n",
              "    <tr>\n",
              "      <th>996</th>\n",
              "      <td>Wanda Russell</td>\n",
              "      <td>female</td>\n",
              "      <td>group B</td>\n",
              "      <td>high school</td>\n",
              "      <td>free/reduced</td>\n",
              "      <td>completed</td>\n",
              "      <td>2.38</td>\n",
              "      <td>3.64</td>\n",
              "      <td>3.16</td>\n",
              "      <td>3.06</td>\n",
              "      <td>16</td>\n",
              "      <td>3.6</td>\n",
              "    </tr>\n",
              "    <tr>\n",
              "      <th>997</th>\n",
              "      <td>Marina Zeigler</td>\n",
              "      <td>female</td>\n",
              "      <td>group C</td>\n",
              "      <td>bachelor's degree</td>\n",
              "      <td>free/reduced</td>\n",
              "      <td>completed</td>\n",
              "      <td>4.96</td>\n",
              "      <td>5.44</td>\n",
              "      <td>5.86</td>\n",
              "      <td>5.42</td>\n",
              "      <td>59</td>\n",
              "      <td>4.1</td>\n",
              "    </tr>\n",
              "    <tr>\n",
              "      <th>998</th>\n",
              "      <td>Laurie Carter</td>\n",
              "      <td>female</td>\n",
              "      <td>group B</td>\n",
              "      <td>some high school</td>\n",
              "      <td>standard</td>\n",
              "      <td>completed</td>\n",
              "      <td>4.24</td>\n",
              "      <td>4.66</td>\n",
              "      <td>4.72</td>\n",
              "      <td>4.54</td>\n",
              "      <td>43</td>\n",
              "      <td>4.3</td>\n",
              "    </tr>\n",
              "    <tr>\n",
              "      <th>999</th>\n",
              "      <td>Amanda Perez</td>\n",
              "      <td>female</td>\n",
              "      <td>group A</td>\n",
              "      <td>high school</td>\n",
              "      <td>standard</td>\n",
              "      <td>completed</td>\n",
              "      <td>5.08</td>\n",
              "      <td>5.80</td>\n",
              "      <td>5.56</td>\n",
              "      <td>5.48</td>\n",
              "      <td>61</td>\n",
              "      <td>5.3</td>\n",
              "    </tr>\n",
              "  </tbody>\n",
              "</table>\n",
              "<p>1000 rows × 12 columns</p>\n",
              "</div>"
            ],
            "text/plain": [
              "                names  gender  ... science score history score\n",
              "0       Rita Courtney  female  ...            25           3.8\n",
              "1    Charles Linstrom    male  ...            56           5.2\n",
              "2         Brian Young    male  ...            58           3.8\n",
              "3      Howard Jimenez    male  ...            72           5.0\n",
              "4        Wayne Wilson    male  ...            94           4.6\n",
              "..                ...     ...  ...           ...           ...\n",
              "995     Richard Young    male  ...            62           4.2\n",
              "996     Wanda Russell  female  ...            16           3.6\n",
              "997    Marina Zeigler  female  ...            59           4.1\n",
              "998     Laurie Carter  female  ...            43           4.3\n",
              "999      Amanda Perez  female  ...            61           5.3\n",
              "\n",
              "[1000 rows x 12 columns]"
            ]
          },
          "metadata": {
            "tags": []
          },
          "execution_count": 64
        }
      ]
    },
    {
      "cell_type": "markdown",
      "metadata": {
        "id": "gaLnb8Qfm_Od"
      },
      "source": [
        "> Explique (pensando en una operación de conjuntos) que hace la operación de combinación por defecto (`inner`).\n",
        "\n",
        "> Explique que hubiese sucedido si aplicaramos los siguientes merge en las variables anteriores:\n",
        "\n",
        "- `left`\n",
        "- `right`\n",
        "- `outer`"
      ]
    },
    {
      "cell_type": "markdown",
      "metadata": {
        "id": "Z3cHrefknWvm"
      },
      "source": [
        "**Justificación:**"
      ]
    },
    {
      "cell_type": "markdown",
      "metadata": {
        "id": "j_J_btAenZ8t"
      },
      "source": [
        "- La operación por defecto inner, se combinan los valores de la intersección entre dos conjuntos, en este caso los alumnos que estaban en ambos archivos de notas.\n",
        "\n",
        "- En caso de haber utilizado left, se combinan los valores de la intersección más los del conjunto de la izquierda que no estaban en la intersección, quedando estos últimos con valores none.\n",
        "\n",
        "- Rigth es lo mismo que left, solo que conservando los valores de la derecha.\n",
        "\n",
        "- Outer excluye la intersección entre los dos conjuntos, dejando solo los valores que no se repiten, quedando con none los valores faltantes."
      ]
    },
    {
      "cell_type": "markdown",
      "metadata": {
        "id": "pj7LOu6GTH5Q"
      },
      "source": [
        "## 1.4 Más visualizaciones [Bonus] [1 punto]\n",
        "\n",
        "\n",
        "**Desde aquí parte el bonus para el lab.**\n",
        "\n",
        "\n",
        "<p align=\"center\">\n",
        "  <img src=\"https://media4.giphy.com/media/xT5LMWNOjGqJzUfyve/giphy.gif?cid=ecf05e47phkhvg6vadqvcoobvxwj9bzxxk38jjvkcc6eak6t&rid=giphy.gif&ct=g\">\n",
        "</p>\n",
        "\n",
        "\n"
      ]
    },
    {
      "cell_type": "markdown",
      "metadata": {
        "id": "fUvSUj7Oswsf"
      },
      "source": [
        "### 1.4.1 Rendimiento por Asignatura"
      ]
    },
    {
      "cell_type": "markdown",
      "metadata": {
        "id": "C4fJhrgAViEk"
      },
      "source": [
        "Con el DataFrame de rendimiento para cada uno de los alumnos grafique como distribuyen los datos para cada uno de los puntajes obtenidos en cada una de las asignaturas.\n",
        "\n",
        "Para realizar esta tarea se les recomienda que utilicen el comando ```px.histogram``` de plotly. Para esto puede ser útil procesar los datos con un melt, agrupando en una columna las asignaturas y en otra columna la nota obtenida en dicha asignatura.\n",
        "\n",
        "Ejemplo del melt:\n",
        "\n",
        "|    Variable   | Value |\n",
        "|:-------------:|:-----:|\n",
        "| math score    | 6.4   |\n",
        "| math score    | 5.2   |\n",
        "| ...           | ...   |\n",
        "| writing score | 4.5   |\n",
        "\n",
        "**To-Do:**\n",
        "\n",
        "- [ ] Utilice `plotly` para visualizar el rendimiento para los diferentes grupos que componen el dataset.\n",
        "- [ ] Responder a la pregunta, ¿Cuál es la asignatura que más les cuesta a los alumnos de la universidad de la Cachaña?\n"
      ]
    },
    {
      "cell_type": "code",
      "metadata": {
        "colab": {
          "base_uri": "https://localhost:8080/",
          "height": 419
        },
        "id": "wGw73pMS8RiQ",
        "outputId": "2dbac26c-ae46-47b9-abf1-a1a0af060998"
      },
      "source": [
        "df_melt = pd.melt(df_grades, id_vars = ['names'], value_vars = ['math score', 'reading score','writing score'])\n",
        "display(df_melt)"
      ],
      "execution_count": 85,
      "outputs": [
        {
          "output_type": "display_data",
          "data": {
            "text/html": [
              "<div>\n",
              "<style scoped>\n",
              "    .dataframe tbody tr th:only-of-type {\n",
              "        vertical-align: middle;\n",
              "    }\n",
              "\n",
              "    .dataframe tbody tr th {\n",
              "        vertical-align: top;\n",
              "    }\n",
              "\n",
              "    .dataframe thead th {\n",
              "        text-align: right;\n",
              "    }\n",
              "</style>\n",
              "<table border=\"1\" class=\"dataframe\">\n",
              "  <thead>\n",
              "    <tr style=\"text-align: right;\">\n",
              "      <th></th>\n",
              "      <th>names</th>\n",
              "      <th>variable</th>\n",
              "      <th>value</th>\n",
              "    </tr>\n",
              "  </thead>\n",
              "  <tbody>\n",
              "    <tr>\n",
              "      <th>0</th>\n",
              "      <td>Rita Courtney</td>\n",
              "      <td>math score</td>\n",
              "      <td>3.22</td>\n",
              "    </tr>\n",
              "    <tr>\n",
              "      <th>1</th>\n",
              "      <td>Charles Linstrom</td>\n",
              "      <td>math score</td>\n",
              "      <td>5.80</td>\n",
              "    </tr>\n",
              "    <tr>\n",
              "      <th>2</th>\n",
              "      <td>Brian Young</td>\n",
              "      <td>math score</td>\n",
              "      <td>5.38</td>\n",
              "    </tr>\n",
              "    <tr>\n",
              "      <th>3</th>\n",
              "      <td>Howard Jimenez</td>\n",
              "      <td>math score</td>\n",
              "      <td>5.86</td>\n",
              "    </tr>\n",
              "    <tr>\n",
              "      <th>4</th>\n",
              "      <td>Wayne Wilson</td>\n",
              "      <td>math score</td>\n",
              "      <td>6.64</td>\n",
              "    </tr>\n",
              "    <tr>\n",
              "      <th>...</th>\n",
              "      <td>...</td>\n",
              "      <td>...</td>\n",
              "      <td>...</td>\n",
              "    </tr>\n",
              "    <tr>\n",
              "      <th>2995</th>\n",
              "      <td>Richard Young</td>\n",
              "      <td>writing score</td>\n",
              "      <td>5.26</td>\n",
              "    </tr>\n",
              "    <tr>\n",
              "      <th>2996</th>\n",
              "      <td>Wanda Russell</td>\n",
              "      <td>writing score</td>\n",
              "      <td>3.16</td>\n",
              "    </tr>\n",
              "    <tr>\n",
              "      <th>2997</th>\n",
              "      <td>Marina Zeigler</td>\n",
              "      <td>writing score</td>\n",
              "      <td>5.86</td>\n",
              "    </tr>\n",
              "    <tr>\n",
              "      <th>2998</th>\n",
              "      <td>Laurie Carter</td>\n",
              "      <td>writing score</td>\n",
              "      <td>4.72</td>\n",
              "    </tr>\n",
              "    <tr>\n",
              "      <th>2999</th>\n",
              "      <td>Amanda Perez</td>\n",
              "      <td>writing score</td>\n",
              "      <td>5.56</td>\n",
              "    </tr>\n",
              "  </tbody>\n",
              "</table>\n",
              "<p>3000 rows × 3 columns</p>\n",
              "</div>"
            ],
            "text/plain": [
              "                 names       variable  value\n",
              "0        Rita Courtney     math score   3.22\n",
              "1     Charles Linstrom     math score   5.80\n",
              "2          Brian Young     math score   5.38\n",
              "3       Howard Jimenez     math score   5.86\n",
              "4         Wayne Wilson     math score   6.64\n",
              "...                ...            ...    ...\n",
              "2995     Richard Young  writing score   5.26\n",
              "2996     Wanda Russell  writing score   3.16\n",
              "2997    Marina Zeigler  writing score   5.86\n",
              "2998     Laurie Carter  writing score   4.72\n",
              "2999      Amanda Perez  writing score   5.56\n",
              "\n",
              "[3000 rows x 3 columns]"
            ]
          },
          "metadata": {
            "tags": []
          }
        }
      ]
    },
    {
      "cell_type": "code",
      "metadata": {
        "colab": {
          "base_uri": "https://localhost:8080/",
          "height": 542
        },
        "id": "hbxpLLG48N4A",
        "outputId": "6eb56ab4-049f-4983-ac13-4009a91daa6c"
      },
      "source": [
        "fig = px.histogram(df_melt, x=\"value\", color=\"variable\", barmode = 'overlay')\n",
        "fig.show()"
      ],
      "execution_count": 91,
      "outputs": [
        {
          "output_type": "display_data",
          "data": {
            "text/html": [
              "<html>\n",
              "<head><meta charset=\"utf-8\" /></head>\n",
              "<body>\n",
              "    <div>            <script src=\"https://cdnjs.cloudflare.com/ajax/libs/mathjax/2.7.5/MathJax.js?config=TeX-AMS-MML_SVG\"></script><script type=\"text/javascript\">if (window.MathJax) {MathJax.Hub.Config({SVG: {font: \"STIX-Web\"}});}</script>                <script type=\"text/javascript\">window.PlotlyConfig = {MathJaxConfig: 'local'};</script>\n",
              "        <script src=\"https://cdn.plot.ly/plotly-latest.min.js\"></script>                <div id=\"11aae3e8-8d7c-416f-b4e5-ec0d9d11c665\" class=\"plotly-graph-div\" style=\"height:525px; width:100%;\"></div>            <script type=\"text/javascript\">                                    window.PLOTLYENV=window.PLOTLYENV || {};                                    if (document.getElementById(\"11aae3e8-8d7c-416f-b4e5-ec0d9d11c665\")) {                    Plotly.newPlot(                        \"11aae3e8-8d7c-416f-b4e5-ec0d9d11c665\",                        [{\"alignmentgroup\": \"True\", \"bingroup\": \"x\", \"hovertemplate\": \"variable=math score<br>value=%{x}<br>count=%{y}<extra></extra>\", \"legendgroup\": \"math score\", \"marker\": {\"color\": \"#636efa\", \"opacity\": 0.5}, \"name\": \"math score\", \"offsetgroup\": \"math score\", \"orientation\": \"v\", \"showlegend\": true, \"type\": \"histogram\", \"x\": [3.2199999999999998, 5.8, 5.38, 5.859999999999999, 6.64, 5.26, 5.5, 3.04, 4.779999999999999, 6.64, 4.9, 4.12, 4.72, 5.4399999999999995, 4.72, 5.38, 3.76, 5.92, 4.779999999999999, 4.84, 5.8, 6.58, 5.14, 3.76, 6.16, 4.54, 6.04, 4.84, 5.38, 5.9799999999999995, 5.5, 5.14, 5.08, 4.42, 4.96, 4.66, 3.4, 4.0, 3.88, 3.16, 5.68, 4.42, 5.14, 3.4, 6.52, 3.1, 4.779999999999999, 5.38, 4.779999999999999, 4.12, 5.38, 4.779999999999999, 5.26, 3.6999999999999997, 6.1, 5.8, 5.92, 5.62, 6.46, 4.6, 4.779999999999999, 3.4, 4.42, 4.48, 6.819999999999999, 5.859999999999999, 5.08, 4.54, 6.76, 6.22, 4.42, 6.64, 6.819999999999999, 4.9, 5.92, 5.32, 4.72, 3.6399999999999997, 5.92, 5.5, 4.54, 5.5, 5.32, 5.08, 4.96, 5.02, 6.58, 5.14, 4.779999999999999, 3.76, 4.96, 4.72, 3.88, 5.26, 4.24, 5.8, 4.3, 6.3999999999999995, 6.64, 5.859999999999999, 4.18, 4.66, 5.5, 5.4399999999999995, 4.72, 5.2, 4.6, 4.54, 4.72, 4.18, 5.8, 5.14, 5.14, 5.14, 3.94, 3.58, 5.9799999999999995, 4.9, 5.38, 5.08, 4.84, 4.24, 4.9, 3.94, 4.48, 4.96, 4.9, 4.9, 5.2, 5.74, 4.0, 4.84, 5.08, 2.92, 5.08, 4.48, 2.1399999999999997, 5.14, 5.32, 4.18, 4.66, 5.68, 4.18, 3.6999999999999997, 3.6399999999999997, 5.9799999999999995, 4.9, 6.279999999999999, 6.279999999999999, 6.46, 6.04, 4.0600000000000005, 3.28, 3.82, 4.96, 4.66, 4.6, 5.26, 3.6999999999999997, 5.62, 4.18, 4.42, 5.32, 5.56, 3.6999999999999997, 6.9399999999999995, 4.0600000000000005, 4.84, 4.12, 5.8, 4.0600000000000005, 4.0, 4.84, 5.4399999999999995, 5.26, 4.42, 5.14, 5.62, 5.5, 3.58, 5.8, 4.54, 6.1, 4.3, 3.6399999999999997, 3.52, 4.48, 4.66, 4.0, 6.279999999999999, 5.38, 5.02, 6.819999999999999, 4.66, 4.72, 5.74, 4.24, 4.96, 5.68, 6.1, 6.04, 5.56, 3.6399999999999997, 5.859999999999999, 4.24, 4.48, 5.859999999999999, 5.32, 5.26, 4.66, 4.96, 5.26, 5.26, 6.34, 5.38, 5.859999999999999, 3.76, 2.32, 3.88, 3.6399999999999997, 5.74, 6.46, 5.56, 4.24, 5.62, 4.72, 5.02, 6.16, 4.48, 4.18, 4.42, 5.14, 5.56, 5.68, 5.14, 4.72, 3.2199999999999998, 6.279999999999999, 6.3999999999999995, 4.42, 5.08, 4.9, 4.779999999999999, 4.12, 3.88, 4.9, 4.24, 4.0, 3.4, 2.74, 2.56, 5.2, 5.5, 4.18, 4.6, 6.88, 6.58, 4.54, 3.76, 5.56, 5.74, 2.6799999999999997, 4.3, 4.66, 3.1, 6.64, 3.76, 7.0, 5.02, 4.0, 5.74, 5.26, 5.9799999999999995, 4.3, 3.88, 5.56, 5.62, 5.74, 4.72, 4.359999999999999, 5.08, 6.04, 5.8, 4.72, 4.6, 4.84, 2.74, 4.12, 4.18, 5.02, 5.92, 4.359999999999999, 5.74, 5.38, 4.96, 4.12, 4.12, 5.38, 4.96, 6.04, 5.92, 5.4399999999999995, 5.56, 5.859999999999999, 5.74, 5.08, 4.779999999999999, 4.0, 5.32, 6.1, 5.9799999999999995, 6.04, 4.9, 6.1, 5.2, 4.48, 6.16, 4.84, 4.9, 4.66, 3.94, 4.18, 6.819999999999999, 5.5, 5.32, 5.4399999999999995, 4.54, 5.08, 5.68, 4.18, 4.42, 5.32, 6.9399999999999995, 5.74, 6.46, 5.9799999999999995, 5.32, 4.66, 5.38, 4.54, 7.0, 4.66, 5.62, 5.26, 3.94, 4.72, 6.16, 5.5, 4.48, 3.82, 4.779999999999999, 5.14, 5.2, 5.08, 4.66, 5.26, 5.859999999999999, 7.0, 6.04, 5.62, 4.18, 5.26, 5.38, 4.9, 3.94, 4.12, 4.9, 4.54, 5.8, 4.72, 4.42, 3.76, 4.48, 5.02, 5.38, 5.32, 3.4, 5.68, 4.779999999999999, 4.66, 5.74, 5.62, 5.2, 4.18, 5.56, 3.6999999999999997, 3.4, 5.92, 5.68, 5.5, 5.2, 4.3, 3.34, 5.2, 2.8, 5.5, 4.779999999999999, 5.92, 5.4399999999999995, 4.24, 5.26, 5.38, 5.62, 5.62, 6.22, 6.22, 5.4399999999999995, 5.02, 3.58, 3.94, 3.94, 4.18, 4.84, 4.66, 5.74, 5.14, 4.24, 4.9, 5.62, 4.48, 3.94, 5.38, 4.24, 4.24, 4.84, 4.54, 5.56, 5.5, 6.1, 6.819999999999999, 4.18, 4.12, 5.62, 5.74, 4.42, 6.22, 4.96, 4.779999999999999, 4.9, 5.08, 4.3, 5.32, 6.16, 3.1, 6.819999999999999, 5.5, 4.12, 5.4399999999999995, 5.2, 3.34, 4.66, 3.6399999999999997, 5.62, 6.22, 4.96, 5.08, 4.9, 4.72, 5.859999999999999, 5.2, 5.4399999999999995, 6.64, 5.56, 4.54, 5.08, 5.38, 7.0, 1.48, 4.9, 3.4, 3.88, 6.34, 5.62, 4.9, 5.14, 5.08, 3.94, 4.72, 4.0, 4.359999999999999, 3.76, 4.18, 4.6, 6.46, 6.3999999999999995, 5.38, 5.2, 3.82, 4.9, 5.859999999999999, 4.3, 6.58, 4.9, 4.72, 3.88, 5.08, 4.96, 4.3, 3.52, 4.24, 5.4399999999999995, 3.2199999999999998, 4.96, 6.279999999999999, 5.14, 4.66, 3.34, 6.22, 4.84, 3.6399999999999997, 4.54, 5.8, 5.26, 5.56, 4.18, 5.68, 4.3, 5.2, 4.9, 6.16, 3.82, 4.24, 3.46, 5.68, 5.9799999999999995, 4.24, 6.3999999999999995, 4.54, 4.9, 5.02, 6.34, 4.54, 5.38, 5.4399999999999995, 6.16, 4.3, 4.66, 4.42, 4.48, 3.6999999999999997, 4.779999999999999, 4.66, 5.859999999999999, 6.52, 5.02, 6.64, 4.359999999999999, 4.72, 5.2, 5.2, 5.56, 4.84, 3.82, 4.96, 6.16, 3.4, 4.96, 5.08, 4.0600000000000005, 3.6999999999999997, 6.279999999999999, 6.3999999999999995, 4.12, 3.94, 4.18, 5.26, 4.0, 4.48, 3.52, 5.02, 3.34, 6.1, 4.72, 5.68, 5.38, 5.08, 6.34, 3.4, 5.92, 5.14, 5.62, 5.14, 5.74, 4.18, 3.58, 4.48, 5.56, 6.279999999999999, 5.14, 3.94, 6.1, 5.14, 5.32, 4.42, 4.48, 4.72, 4.72, 5.5, 6.279999999999999, 5.859999999999999, 5.02, 5.02, 5.4399999999999995, 5.4399999999999995, 6.7, 5.26, 6.1, 4.359999999999999, 5.92, 6.1, 4.6, 4.779999999999999, 4.0600000000000005, 4.0, 5.859999999999999, 6.22, 3.76, 4.48, 4.72, 5.56, 4.6, 4.0, 5.62, 4.84, 4.66, 4.6, 5.02, 4.84, 6.3999999999999995, 4.54, 4.18, 3.88, 4.6, 5.92, 4.48, 4.6, 4.96, 6.1, 3.94, 5.62, 5.02, 5.14, 4.0, 4.72, 5.9799999999999995, 5.859999999999999, 6.52, 5.2, 5.32, 6.52, 4.0600000000000005, 6.22, 5.26, 4.54, 6.279999999999999, 4.66, 5.92, 5.26, 5.5, 3.58, 4.0600000000000005, 4.72, 5.5, 4.779999999999999, 5.26, 5.02, 5.26, 4.66, 4.359999999999999, 6.88, 5.92, 5.5, 4.54, 5.26, 3.6399999999999997, 5.62, 4.9, 4.42, 4.6, 2.62, 4.48, 5.2, 3.28, 3.52, 7.0, 6.34, 3.1, 5.4399999999999995, 5.62, 4.72, 5.74, 3.76, 5.4399999999999995, 4.54, 4.96, 3.82, 5.62, 5.68, 4.12, 5.2, 4.48, 5.08, 5.14, 6.22, 4.12, 5.32, 6.1, 3.46, 4.66, 5.02, 4.24, 5.5, 5.8, 4.779999999999999, 4.12, 4.72, 4.48, 4.72, 4.9, 5.4399999999999995, 5.74, 5.08, 4.779999999999999, 4.12, 4.54, 4.3, 4.96, 3.28, 5.4399999999999995, 6.46, 4.84, 5.4399999999999995, 5.859999999999999, 5.74, 6.3999999999999995, 4.24, 5.68, 3.76, 6.279999999999999, 4.72, 5.8, 5.8, 5.26, 4.84, 5.5, 4.6, 5.08, 6.279999999999999, 4.3, 4.0, 3.52, 5.14, 3.52, 4.48, 2.44, 3.88, 5.02, 4.54, 4.54, 6.76, 3.6999999999999997, 6.279999999999999, 5.32, 4.66, 5.859999999999999, 4.54, 5.38, 5.74, 5.08, 3.82, 4.84, 3.94, 4.24, 5.26, 4.54, 6.34, 3.2199999999999998, 4.54, 4.42, 3.82, 5.62, 4.72, 5.62, 4.0600000000000005, 5.14, 5.4399999999999995, 4.6, 5.56, 4.0600000000000005, 2.92, 5.38, 3.94, 5.56, 4.84, 4.72, 4.779999999999999, 4.0, 3.6399999999999997, 4.96, 5.02, 4.66, 5.5, 5.14, 5.56, 4.9, 4.18, 6.22, 4.18, 4.96, 3.94, 5.02, 4.3, 2.8, 5.38, 4.72, 5.74, 4.779999999999999, 4.12, 4.48, 5.68, 5.859999999999999, 5.4399999999999995, 5.08, 5.92, 5.38, 4.54, 5.4399999999999995, 4.72, 6.04, 5.02, 5.859999999999999, 2.98, 4.54, 6.22, 5.62, 4.48, 5.14, 4.9, 6.52, 6.22, 5.14, 5.38, 4.66, 4.3, 5.02, 5.14, 5.4399999999999995, 4.84, 4.359999999999999, 3.16, 3.46, 3.94, 4.54, 3.04, 6.04, 5.56, 4.66, 4.72, 6.22, 5.02, 4.24, 4.54, 5.08, 5.02, 6.46, 5.8, 6.76, 5.08, 5.4399999999999995, 5.26, 3.1, 5.859999999999999, 4.18, 5.8, 5.56, 5.56, 4.779999999999999, 4.42, 4.48, 5.32, 4.3, 4.18, 5.8, 3.46, 4.3, 4.0600000000000005, 6.1, 5.859999999999999, 4.12, 2.08, 5.38, 3.88, 4.359999999999999, 4.779999999999999, 4.48, 2.92, 4.54, 4.779999999999999, 4.779999999999999, 5.8, 4.6, 4.84, 6.88, 4.54, 4.9, 6.22, 4.96, 4.12, 5.38, 6.22, 5.74, 4.6, 5.859999999999999, 5.4399999999999995, 5.14, 3.82, 3.82, 5.74, 5.92, 6.52, 4.42, 3.46, 3.94, 6.279999999999999, 5.74, 4.54, 5.26, 5.859999999999999, 4.9, 5.92, 4.9, 3.4, 5.38, 4.359999999999999, 5.14, 5.02, 6.46, 5.02, 6.22, 4.9, 4.48, 4.3, 3.88, 6.279999999999999, 4.18, 6.1, 4.72, 4.9, 5.92, 4.72, 4.779999999999999, 6.04, 5.62, 4.0, 5.14, 1.0, 4.9, 5.74, 5.14, 5.32, 7.0, 4.9, 3.82, 6.9399999999999995, 4.0600000000000005, 5.26, 5.92, 6.46, 4.3, 5.5, 4.96, 6.7, 5.32, 5.2, 4.42, 6.04, 4.66, 3.6999999999999997, 4.9, 2.62, 6.279999999999999, 4.9, 4.779999999999999, 5.68, 4.9, 6.3999999999999995, 7.0, 5.02, 5.4399999999999995, 5.56, 4.96, 4.54, 4.72, 3.46, 2.74, 5.14, 2.38, 4.96, 4.24, 5.08], \"xaxis\": \"x\", \"yaxis\": \"y\"}, {\"alignmentgroup\": \"True\", \"bingroup\": \"x\", \"hovertemplate\": \"variable=reading score<br>value=%{x}<br>count=%{y}<extra></extra>\", \"legendgroup\": \"reading score\", \"marker\": {\"color\": \"#EF553B\", \"opacity\": 0.5}, \"name\": \"reading score\", \"offsetgroup\": \"reading score\", \"orientation\": \"v\", \"showlegend\": true, \"type\": \"histogram\", \"x\": [3.76, 5.68, 4.96, 5.5, 6.16, 4.66, 5.08, 3.88, 4.66, 5.38, 5.68, 5.56, 4.9, 5.4399999999999995, 4.42, 5.14, 3.52, 5.92, 4.66, 5.38, 5.5, 7.0, 5.56, 4.66, 5.859999999999999, 5.32, 5.9799999999999995, 4.84, 5.56, 6.16, 6.279999999999999, 5.4399999999999995, 5.32, 4.66, 4.84, 4.66, 4.54, 5.02, 4.72, 2.74, 5.74, 5.02, 4.48, 4.3, 6.22, 2.6799999999999997, 5.02, 5.4399999999999995, 4.84, 4.54, 5.74, 5.38, 4.6, 4.54, 6.52, 5.56, 6.1, 6.64, 6.1, 4.72, 3.88, 3.88, 4.24, 4.24, 5.92, 5.92, 4.9, 5.26, 6.3999999999999995, 6.04, 5.5, 6.279999999999999, 6.58, 5.859999999999999, 6.58, 4.42, 5.4399999999999995, 4.24, 6.04, 6.3999999999999995, 3.46, 5.38, 5.08, 5.68, 5.4399999999999995, 4.72, 6.3999999999999995, 4.779999999999999, 5.4399999999999995, 4.84, 5.08, 5.38, 4.359999999999999, 5.2, 5.32, 5.9799999999999995, 4.54, 6.22, 6.9399999999999995, 5.38, 3.58, 5.08, 6.1, 5.859999999999999, 5.32, 5.68, 5.2, 4.0600000000000005, 5.32, 4.0, 6.1, 4.96, 5.68, 5.62, 3.6999999999999997, 4.6, 6.58, 4.66, 4.84, 5.9799999999999995, 4.96, 4.66, 5.62, 4.42, 5.02, 5.68, 5.2, 5.74, 5.08, 5.859999999999999, 5.02, 4.24, 4.6, 4.0600000000000005, 4.0600000000000005, 4.42, 3.28, 5.62, 5.74, 4.48, 4.0600000000000005, 5.32, 4.72, 4.359999999999999, 4.0600000000000005, 5.9799999999999995, 5.56, 5.68, 6.7, 6.34, 6.22, 4.96, 3.94, 4.18, 4.42, 5.38, 5.08, 5.26, 4.779999999999999, 6.16, 4.48, 4.0600000000000005, 4.84, 5.26, 3.88, 6.58, 5.32, 4.6, 4.66, 5.38, 4.24, 3.88, 5.38, 5.4399999999999995, 5.62, 5.4399999999999995, 5.2, 6.3999999999999995, 5.4399999999999995, 4.0600000000000005, 5.08, 5.32, 5.859999999999999, 5.56, 4.779999999999999, 4.72, 4.54, 3.82, 4.96, 5.4399999999999995, 5.68, 6.16, 7.0, 4.48, 4.84, 5.859999999999999, 4.779999999999999, 5.26, 6.46, 5.5, 6.04, 6.64, 4.66, 6.04, 3.94, 4.779999999999999, 5.92, 5.859999999999999, 3.94, 3.52, 5.62, 5.56, 4.96, 6.279999999999999, 5.9799999999999995, 5.859999999999999, 3.04, 3.34, 4.12, 4.84, 5.92, 5.859999999999999, 5.8, 4.54, 5.68, 5.32, 4.84, 5.859999999999999, 5.2, 4.12, 4.48, 5.38, 5.2, 6.22, 4.84, 4.96, 4.42, 6.34, 5.5, 4.359999999999999, 5.2, 5.5, 5.14, 4.42, 3.58, 4.24, 4.24, 4.18, 4.54, 3.46, 2.86, 5.5, 5.4399999999999995, 3.34, 4.42, 6.22, 6.04, 4.24, 4.24, 4.84, 6.279999999999999, 2.38, 5.26, 4.42, 4.18, 6.1, 4.48, 7.0, 5.8, 3.82, 6.04, 5.859999999999999, 5.92, 4.84, 4.48, 5.38, 5.62, 5.74, 5.68, 5.08, 6.16, 5.62, 5.5, 5.2, 4.96, 4.72, 3.4, 4.9, 4.66, 4.66, 6.7, 5.74, 5.56, 5.08, 5.4399999999999995, 4.96, 5.02, 6.16, 4.9, 5.38, 5.5, 5.62, 5.26, 5.32, 6.34, 5.26, 5.68, 4.359999999999999, 4.9, 6.52, 5.68, 6.7, 5.62, 6.16, 5.2, 4.779999999999999, 5.8, 5.92, 5.859999999999999, 4.3, 4.0600000000000005, 4.0600000000000005, 6.819999999999999, 5.32, 5.38, 5.74, 5.02, 5.08, 5.62, 4.48, 5.68, 4.42, 7.0, 6.34, 5.38, 5.32, 5.74, 4.72, 5.4399999999999995, 4.24, 6.76, 4.96, 5.74, 5.02, 4.18, 4.66, 6.52, 5.859999999999999, 4.72, 4.54, 5.5, 5.02, 5.5, 4.779999999999999, 4.359999999999999, 4.96, 6.819999999999999, 7.0, 5.62, 6.3999999999999995, 3.6399999999999997, 5.9799999999999995, 5.08, 5.92, 3.94, 4.54, 5.5, 4.6, 4.84, 3.94, 3.58, 3.58, 5.38, 4.24, 4.96, 5.32, 3.58, 5.9799999999999995, 4.9, 5.32, 5.4399999999999995, 5.92, 6.04, 4.24, 4.72, 4.18, 4.48, 6.1, 5.32, 4.96, 4.84, 4.3, 3.52, 6.34, 2.56, 6.04, 4.84, 5.92, 5.859999999999999, 4.54, 6.04, 6.04, 6.279999999999999, 6.279999999999999, 6.04, 5.4399999999999995, 5.38, 4.84, 4.72, 4.12, 4.9, 4.24, 4.18, 6.16, 6.52, 5.26, 4.12, 6.16, 6.46, 4.66, 4.779999999999999, 5.56, 4.84, 4.18, 4.48, 5.32, 5.4399999999999995, 5.14, 6.04, 6.52, 5.2, 4.3, 5.56, 5.32, 5.62, 6.1, 5.14, 5.38, 6.1, 5.02, 4.48, 4.96, 5.56, 4.3, 6.22, 5.08, 3.94, 5.2, 5.92, 4.12, 5.4399999999999995, 4.0, 6.3999999999999995, 6.04, 4.9, 5.62, 5.02, 5.02, 4.96, 4.779999999999999, 5.5, 6.3999999999999995, 5.68, 5.2, 5.08, 4.96, 7.0, 2.44, 4.84, 4.9, 4.96, 6.04, 5.92, 5.38, 5.62, 5.32, 4.0600000000000005, 5.14, 4.0, 5.08, 4.359999999999999, 4.3, 4.0600000000000005, 6.7, 6.3999999999999995, 4.359999999999999, 5.32, 3.94, 4.9, 5.62, 3.76, 7.0, 5.2, 4.66, 3.6999999999999997, 4.54, 5.14, 3.76, 4.3, 4.9, 5.62, 4.359999999999999, 4.779999999999999, 5.68, 5.62, 5.26, 4.84, 7.0, 4.779999999999999, 3.46, 5.68, 5.74, 6.22, 6.22, 4.48, 5.859999999999999, 5.38, 5.2, 5.14, 5.38, 3.94, 4.12, 4.0600000000000005, 5.859999999999999, 5.8, 4.84, 6.3999999999999995, 4.48, 5.859999999999999, 5.74, 6.04, 4.779999999999999, 5.26, 6.3999999999999995, 5.9799999999999995, 4.359999999999999, 4.48, 5.68, 4.12, 3.2199999999999998, 4.779999999999999, 5.2, 6.46, 7.0, 5.38, 6.22, 4.12, 4.96, 4.9, 5.4399999999999995, 5.9799999999999995, 5.4399999999999995, 4.24, 5.4399999999999995, 6.1, 4.12, 5.4399999999999995, 5.4399999999999995, 2.86, 5.38, 6.04, 6.7, 4.42, 4.18, 4.12, 5.4399999999999995, 3.88, 4.3, 4.12, 4.42, 3.34, 6.3999999999999995, 4.66, 5.4399999999999995, 5.68, 5.2, 7.0, 3.52, 5.02, 5.8, 6.1, 6.04, 6.16, 4.72, 3.6999999999999997, 4.3, 6.1, 5.62, 5.2, 4.0, 6.46, 4.6, 5.8, 4.0, 4.66, 5.02, 4.779999999999999, 5.62, 6.9399999999999995, 6.46, 5.68, 5.14, 5.26, 5.74, 5.859999999999999, 5.4399999999999995, 6.04, 4.24, 4.72, 6.04, 4.84, 5.32, 4.12, 4.84, 5.5, 6.1, 3.58, 5.08, 4.3, 5.32, 5.08, 3.52, 6.34, 4.0, 5.08, 4.54, 4.42, 5.38, 6.1, 5.38, 3.6999999999999997, 4.359999999999999, 5.2, 6.3999999999999995, 5.02, 5.5, 4.54, 6.7, 4.12, 5.14, 5.56, 5.74, 4.6, 4.359999999999999, 6.1, 5.26, 7.0, 4.359999999999999, 5.74, 7.0, 4.779999999999999, 5.38, 5.2, 4.12, 6.9399999999999995, 4.84, 6.58, 5.14, 5.92, 4.18, 3.94, 4.3, 5.859999999999999, 4.3, 5.9799999999999995, 5.32, 5.9799999999999995, 4.359999999999999, 4.66, 6.16, 6.04, 6.279999999999999, 4.72, 5.5, 3.6999999999999997, 5.08, 5.56, 3.88, 4.6, 3.04, 4.0, 4.84, 3.58, 4.96, 6.52, 5.56, 3.6399999999999997, 5.32, 4.72, 4.84, 5.92, 3.46, 4.84, 5.2, 5.62, 3.2199999999999998, 5.08, 5.62, 3.88, 5.26, 4.42, 4.24, 5.32, 6.64, 4.18, 5.8, 6.34, 3.34, 5.26, 6.34, 3.88, 5.859999999999999, 6.3999999999999995, 4.779999999999999, 4.48, 4.3, 4.6, 5.02, 5.62, 6.279999999999999, 5.38, 5.08, 5.8, 5.2, 3.52, 3.82, 4.6, 4.6, 5.56, 6.16, 4.84, 4.779999999999999, 5.4399999999999995, 5.92, 5.68, 4.48, 5.92, 3.58, 6.52, 5.02, 6.16, 4.779999999999999, 5.74, 6.1, 6.16, 5.32, 4.6, 5.5, 4.66, 4.6, 4.66, 5.5, 3.34, 5.5, 3.28, 4.0600000000000005, 6.04, 4.72, 4.72, 6.76, 3.82, 6.1, 5.02, 5.02, 5.8, 4.18, 5.56, 6.1, 5.5, 4.72, 5.74, 4.48, 4.6, 5.26, 4.48, 6.22, 3.6999999999999997, 6.1, 4.48, 3.58, 5.02, 5.08, 5.02, 4.48, 5.62, 5.26, 4.779999999999999, 5.68, 4.6, 3.04, 5.68, 4.42, 4.72, 5.56, 4.84, 5.68, 4.18, 4.0600000000000005, 4.72, 6.04, 4.6, 4.48, 6.04, 5.56, 5.38, 5.32, 6.3999999999999995, 4.96, 5.9799999999999995, 4.9, 5.4399999999999995, 5.32, 2.44, 6.52, 4.72, 4.6, 4.42, 4.9, 5.56, 6.3999999999999995, 6.16, 6.34, 5.56, 6.819999999999999, 5.2, 4.96, 6.16, 5.08, 5.9799999999999995, 6.16, 6.279999999999999, 3.46, 4.9, 6.7, 6.819999999999999, 4.0600000000000005, 4.96, 4.96, 7.0, 5.4399999999999995, 4.24, 5.02, 4.6, 4.54, 5.859999999999999, 6.3999999999999995, 5.859999999999999, 4.6, 4.9, 4.18, 4.12, 4.48, 5.14, 3.52, 6.22, 5.9799999999999995, 5.32, 5.02, 6.34, 5.5, 4.84, 4.779999999999999, 5.02, 6.04, 5.4399999999999995, 5.8, 7.0, 4.84, 5.5, 5.56, 4.66, 5.68, 3.2199999999999998, 5.56, 5.26, 5.2, 5.26, 5.08, 5.2, 4.96, 4.9, 5.26, 6.52, 4.3, 5.14, 4.359999999999999, 5.56, 6.52, 4.54, 2.92, 5.74, 4.24, 4.48, 5.02, 3.94, 3.34, 5.38, 4.6, 5.38, 6.3999999999999995, 3.6399999999999997, 4.359999999999999, 7.0, 5.26, 5.14, 6.46, 5.56, 4.3, 5.5, 6.04, 5.02, 5.32, 5.68, 5.74, 4.6, 4.48, 3.76, 5.62, 5.8, 5.74, 5.14, 3.6999999999999997, 4.48, 6.7, 5.68, 5.2, 4.72, 5.859999999999999, 5.859999999999999, 5.68, 5.14, 3.76, 5.8, 5.32, 4.48, 5.32, 6.76, 5.5, 7.0, 5.4399999999999995, 4.54, 3.46, 4.48, 6.58, 4.66, 4.96, 5.02, 6.04, 5.92, 5.2, 4.66, 5.8, 4.72, 4.84, 4.9, 2.02, 5.02, 6.16, 6.16, 5.02, 7.0, 4.48, 4.42, 6.22, 4.0600000000000005, 5.4399999999999995, 5.92, 6.76, 4.9, 5.92, 4.96, 6.34, 5.32, 4.3, 4.359999999999999, 6.34, 3.88, 4.12, 4.54, 3.04, 5.38, 5.92, 4.96, 5.859999999999999, 5.32, 6.22, 6.819999999999999, 5.4399999999999995, 5.5, 5.02, 5.32, 4.84, 5.56, 3.76, 2.74, 5.5, 3.6399999999999997, 5.4399999999999995, 4.66, 5.8], \"xaxis\": \"x\", \"yaxis\": \"y\"}, {\"alignmentgroup\": \"True\", \"bingroup\": \"x\", \"hovertemplate\": \"variable=writing score<br>value=%{x}<br>count=%{y}<extra></extra>\", \"legendgroup\": \"writing score\", \"marker\": {\"color\": \"#00cc96\", \"opacity\": 0.5}, \"name\": \"writing score\", \"offsetgroup\": \"writing score\", \"orientation\": \"v\", \"showlegend\": true, \"type\": \"histogram\", \"x\": [3.76, 5.859999999999999, 4.779999999999999, 5.56, 6.22, 5.14, 4.84, 3.46, 4.66, 5.26, 5.92, 5.2, 4.48, 5.32, 4.72, 5.08, 3.76, 5.4399999999999995, 4.6, 5.08, 5.62, 7.0, 5.4399999999999995, 4.3, 5.8, 5.2, 5.5, 5.02, 5.68, 6.279999999999999, 6.1, 5.4399999999999995, 4.9, 4.24, 4.72, 4.72, 4.24, 4.779999999999999, 4.6, 2.62, 5.56, 5.32, 4.42, 4.18, 5.68, 2.62, 5.2, 4.66, 5.02, 4.9, 5.74, 5.26, 4.66, 4.84, 6.1, 4.9, 6.22, 6.7, 6.1, 4.6, 3.82, 4.0, 4.359999999999999, 4.12, 6.279999999999999, 5.92, 4.66, 4.9, 6.52, 6.16, 5.38, 5.68, 6.46, 5.859999999999999, 6.58, 4.48, 5.2, 4.18, 5.68, 6.279999999999999, 3.52, 5.4399999999999995, 5.02, 5.62, 5.68, 4.6, 5.9799999999999995, 4.66, 5.4399999999999995, 4.96, 4.84, 5.2, 4.0600000000000005, 5.2, 4.54, 5.9799999999999995, 4.24, 6.1, 7.0, 5.32, 3.58, 4.779999999999999, 5.92, 5.26, 4.9, 5.68, 5.4399999999999995, 3.58, 5.4399999999999995, 4.6, 6.1, 4.66, 5.56, 5.62, 3.6999999999999997, 4.48, 6.7, 5.26, 4.42, 5.68, 4.54, 4.48, 5.4399999999999995, 3.76, 4.72, 5.68, 5.4399999999999995, 5.859999999999999, 5.32, 5.92, 5.38, 4.0, 4.54, 3.6399999999999997, 4.42, 4.24, 2.92, 5.38, 5.4399999999999995, 4.42, 4.12, 5.14, 4.18, 4.24, 3.88, 6.3999999999999995, 5.5, 5.9799999999999995, 6.64, 6.52, 6.46, 4.72, 3.6999999999999997, 4.48, 4.12, 4.779999999999999, 4.6, 5.4399999999999995, 4.54, 6.16, 4.3, 4.24, 4.779999999999999, 5.38, 3.76, 6.3999999999999995, 5.74, 4.48, 4.96, 5.32, 3.46, 3.52, 5.2, 5.32, 5.62, 5.56, 5.02, 6.1, 4.96, 4.24, 5.32, 5.08, 6.1, 5.56, 4.72, 4.6, 4.48, 4.359999999999999, 4.84, 5.5, 5.32, 5.9799999999999995, 7.0, 4.359999999999999, 4.96, 5.26, 5.02, 5.56, 6.76, 5.08, 5.8, 6.22, 4.12, 5.92, 3.82, 4.9, 6.04, 5.74, 4.12, 3.46, 5.38, 5.9799999999999995, 4.9, 5.92, 5.56, 5.74, 3.16, 2.98, 3.6999999999999997, 4.48, 5.8, 5.74, 5.38, 4.72, 5.38, 5.2, 4.66, 5.5, 5.08, 3.94, 4.84, 5.38, 5.08, 6.46, 5.08, 5.08, 4.359999999999999, 6.16, 5.14, 4.42, 4.96, 5.2, 5.4399999999999995, 4.359999999999999, 3.6999999999999997, 4.42, 3.6999999999999997, 4.48, 4.0600000000000005, 3.82, 3.28, 5.68, 5.14, 3.2199999999999998, 4.0600000000000005, 6.3999999999999995, 6.3999999999999995, 4.0600000000000005, 4.48, 4.96, 6.64, 2.1399999999999997, 5.14, 4.359999999999999, 3.76, 5.92, 4.42, 7.0, 5.859999999999999, 4.24, 6.46, 5.8, 6.04, 5.2, 4.12, 5.08, 5.38, 5.68, 5.74, 5.2, 6.04, 5.4399999999999995, 5.14, 5.5, 5.2, 5.08, 3.6399999999999997, 5.14, 5.08, 5.08, 6.34, 5.32, 4.9, 4.96, 5.14, 5.38, 5.32, 5.92, 5.14, 5.14, 5.62, 5.38, 5.32, 5.62, 6.16, 5.5, 5.8, 4.24, 5.08, 6.58, 5.38, 6.52, 5.4399999999999995, 6.88, 5.2, 5.38, 5.5, 5.62, 5.859999999999999, 4.12, 4.0600000000000005, 4.0600000000000005, 6.76, 4.72, 5.4399999999999995, 5.5, 4.66, 5.02, 5.62, 3.6399999999999997, 5.02, 4.72, 7.0, 6.34, 5.8, 5.68, 5.62, 4.66, 5.32, 5.02, 6.16, 4.66, 5.8, 5.02, 4.18, 4.3, 6.22, 5.26, 4.54, 4.0, 5.859999999999999, 5.14, 5.4399999999999995, 4.24, 4.3, 4.6, 6.76, 6.58, 5.26, 6.46, 3.52, 5.9799999999999995, 4.96, 5.859999999999999, 3.46, 4.359999999999999, 5.62, 4.48, 4.96, 4.12, 3.82, 3.46, 5.08, 4.779999999999999, 4.72, 5.26, 3.34, 5.8, 4.66, 5.2, 5.32, 6.34, 5.859999999999999, 3.88, 4.6, 4.3, 4.24, 6.16, 5.2, 5.38, 5.32, 3.82, 3.28, 6.279999999999999, 2.32, 5.8, 4.96, 5.8, 5.9799999999999995, 4.0, 6.22, 6.1, 6.22, 6.1, 6.22, 5.2, 5.02, 5.2, 4.66, 4.0600000000000005, 4.66, 3.88, 4.42, 6.22, 6.34, 4.9, 4.12, 5.8, 6.279999999999999, 4.12, 4.359999999999999, 5.8, 5.08, 3.82, 4.0600000000000005, 5.8, 5.38, 5.08, 6.34, 6.16, 5.2, 4.42, 5.62, 5.14, 5.8, 5.38, 4.779999999999999, 5.68, 5.56, 5.38, 4.12, 4.96, 5.4399999999999995, 4.6, 5.92, 4.9, 3.76, 5.14, 5.56, 3.76, 5.32, 4.0600000000000005, 6.04, 6.1, 4.6, 5.8, 4.9, 4.48, 4.84, 4.48, 5.9799999999999995, 6.46, 5.8, 4.96, 4.84, 4.96, 7.0, 2.38, 4.72, 4.84, 4.9, 5.92, 6.46, 5.5, 5.14, 4.84, 3.58, 5.14, 3.82, 5.4399999999999995, 4.42, 3.88, 4.359999999999999, 6.64, 6.46, 4.42, 5.56, 4.0, 4.779999999999999, 5.74, 3.6399999999999997, 6.7, 5.26, 4.42, 3.46, 4.72, 5.08, 3.58, 4.24, 4.9, 5.56, 3.82, 4.84, 5.5, 5.68, 5.38, 4.42, 6.7, 4.96, 3.28, 5.56, 5.74, 5.92, 6.1, 4.9, 6.16, 5.38, 4.9, 5.56, 5.2, 3.94, 4.0600000000000005, 3.88, 5.8, 5.38, 4.9, 5.92, 4.54, 5.38, 6.04, 5.62, 5.5, 5.08, 6.279999999999999, 6.16, 4.0600000000000005, 4.72, 5.74, 4.24, 3.2199999999999998, 4.72, 5.56, 6.34, 6.819999999999999, 5.08, 6.52, 4.3, 5.08, 4.6, 5.26, 6.279999999999999, 5.5, 4.18, 5.38, 6.46, 3.58, 5.859999999999999, 5.4399999999999995, 3.16, 5.2, 5.5, 6.58, 4.0, 4.12, 3.52, 4.84, 4.18, 4.18, 4.0600000000000005, 4.18, 3.04, 6.52, 4.48, 5.32, 5.56, 4.96, 7.0, 3.28, 4.66, 5.26, 6.22, 6.1, 6.52, 4.359999999999999, 4.0, 3.88, 5.92, 5.62, 4.779999999999999, 4.12, 6.34, 4.24, 5.9799999999999995, 4.24, 4.96, 5.14, 4.359999999999999, 5.9799999999999995, 7.0, 6.22, 5.74, 5.5, 5.68, 5.92, 6.04, 5.08, 5.68, 4.12, 4.72, 5.92, 5.4399999999999995, 5.2, 3.6399999999999997, 4.96, 5.68, 6.58, 3.6399999999999997, 4.66, 4.3, 5.26, 5.32, 3.88, 6.88, 3.58, 4.96, 4.24, 4.54, 5.26, 6.04, 5.32, 3.4, 4.48, 5.2, 6.64, 5.32, 5.4399999999999995, 4.12, 7.0, 4.24, 5.08, 5.5, 5.859999999999999, 4.54, 4.18, 6.3999999999999995, 5.38, 7.0, 4.0600000000000005, 5.92, 7.0, 4.66, 5.32, 5.56, 3.76, 6.7, 4.72, 6.58, 5.08, 5.74, 4.18, 4.0600000000000005, 3.94, 6.04, 4.779999999999999, 5.68, 5.4399999999999995, 5.62, 4.359999999999999, 4.6, 6.3999999999999995, 5.92, 6.1, 4.84, 5.2, 3.6999999999999997, 5.14, 5.56, 4.0600000000000005, 4.6, 3.16, 3.6999999999999997, 5.2, 3.58, 5.14, 6.819999999999999, 5.4399999999999995, 3.58, 5.32, 4.72, 4.84, 5.92, 3.58, 4.6, 4.9, 5.2, 3.1, 5.62, 5.8, 3.94, 5.4399999999999995, 4.18, 4.18, 5.62, 6.7, 3.94, 5.5, 6.7, 3.04, 5.68, 5.92, 4.12, 5.4399999999999995, 6.34, 4.6, 4.48, 4.24, 4.42, 5.02, 5.4399999999999995, 6.3999999999999995, 5.02, 4.66, 5.8, 4.72, 3.46, 3.6399999999999997, 4.42, 4.0, 5.38, 6.04, 5.2, 4.42, 5.26, 5.38, 5.859999999999999, 4.66, 5.74, 3.52, 6.7, 4.72, 5.9799999999999995, 4.779999999999999, 5.26, 6.1, 5.74, 5.4399999999999995, 4.18, 5.56, 4.24, 4.6, 4.48, 5.68, 3.04, 5.62, 2.62, 3.76, 6.16, 5.14, 4.66, 6.9399999999999995, 3.94, 5.56, 4.9, 4.96, 5.56, 4.12, 5.68, 6.16, 5.859999999999999, 4.96, 5.62, 4.3, 4.779999999999999, 5.8, 3.82, 5.74, 3.28, 5.8, 4.42, 3.46, 4.84, 5.5, 5.08, 4.24, 5.62, 5.8, 4.54, 5.5, 4.48, 3.28, 5.4399999999999995, 4.12, 4.96, 5.4399999999999995, 4.3, 5.74, 4.3, 4.3, 4.84, 5.859999999999999, 4.3, 4.72, 5.92, 5.4399999999999995, 5.08, 4.84, 6.279999999999999, 5.38, 5.9799999999999995, 4.3, 5.62, 5.74, 1.9, 6.04, 4.779999999999999, 4.9, 4.359999999999999, 4.66, 5.68, 6.58, 6.22, 6.04, 5.02, 6.76, 5.5, 5.02, 6.34, 5.08, 5.68, 5.9799999999999995, 6.3999999999999995, 3.58, 4.96, 6.16, 6.64, 4.12, 4.6, 4.72, 6.9399999999999995, 5.56, 4.3, 4.54, 4.42, 4.54, 5.74, 6.279999999999999, 5.56, 5.4399999999999995, 4.779999999999999, 3.58, 4.0600000000000005, 4.6, 4.9, 3.34, 5.859999999999999, 5.74, 5.2, 4.66, 6.64, 5.2, 5.02, 4.84, 5.14, 6.04, 5.56, 5.32, 7.0, 4.96, 5.92, 5.2, 4.24, 5.68, 3.4, 4.84, 5.02, 5.14, 5.14, 5.38, 5.02, 5.32, 4.72, 5.02, 6.279999999999999, 4.0600000000000005, 4.9, 4.18, 5.26, 6.46, 4.72, 2.6799999999999997, 6.04, 4.18, 4.84, 5.02, 3.52, 2.98, 5.14, 4.42, 5.08, 5.92, 3.82, 4.12, 6.9399999999999995, 5.2, 5.02, 5.859999999999999, 5.08, 3.94, 5.8, 5.56, 5.02, 5.08, 5.859999999999999, 5.8, 4.779999999999999, 5.02, 3.52, 5.5, 5.62, 6.04, 5.08, 3.4, 4.6, 6.52, 5.62, 5.38, 4.0, 6.04, 5.62, 5.4399999999999995, 5.2, 4.0, 5.92, 4.9, 4.18, 5.02, 6.46, 5.32, 7.0, 5.62, 4.96, 3.88, 4.24, 6.58, 4.72, 5.26, 4.84, 6.04, 5.8, 5.32, 4.24, 5.8, 4.84, 4.54, 5.4399999999999995, 1.6, 4.72, 5.859999999999999, 5.859999999999999, 4.84, 7.0, 3.94, 3.6399999999999997, 5.859999999999999, 4.24, 5.08, 6.279999999999999, 6.52, 4.72, 6.3999999999999995, 4.54, 6.52, 5.4399999999999995, 4.359999999999999, 4.24, 6.3999999999999995, 3.76, 3.94, 4.18, 2.92, 5.68, 5.68, 5.02, 5.92, 5.4399999999999995, 5.5, 6.9399999999999995, 5.2, 5.74, 5.02, 5.2, 5.5, 5.8, 3.58, 2.8, 5.26, 3.16, 5.859999999999999, 4.72, 5.56], \"xaxis\": \"x\", \"yaxis\": \"y\"}],                        {\"barmode\": \"overlay\", \"legend\": {\"title\": {\"text\": \"variable\"}, \"tracegroupgap\": 0}, \"margin\": {\"t\": 60}, \"template\": {\"data\": {\"bar\": [{\"error_x\": {\"color\": \"#2a3f5f\"}, \"error_y\": {\"color\": \"#2a3f5f\"}, \"marker\": {\"line\": {\"color\": \"#E5ECF6\", \"width\": 0.5}}, \"type\": \"bar\"}], \"barpolar\": [{\"marker\": {\"line\": {\"color\": \"#E5ECF6\", \"width\": 0.5}}, \"type\": \"barpolar\"}], \"carpet\": [{\"aaxis\": {\"endlinecolor\": \"#2a3f5f\", \"gridcolor\": \"white\", \"linecolor\": \"white\", \"minorgridcolor\": \"white\", \"startlinecolor\": \"#2a3f5f\"}, \"baxis\": {\"endlinecolor\": \"#2a3f5f\", \"gridcolor\": \"white\", \"linecolor\": \"white\", \"minorgridcolor\": \"white\", \"startlinecolor\": \"#2a3f5f\"}, \"type\": \"carpet\"}], \"choropleth\": [{\"colorbar\": {\"outlinewidth\": 0, \"ticks\": \"\"}, \"type\": \"choropleth\"}], \"contour\": [{\"colorbar\": {\"outlinewidth\": 0, \"ticks\": \"\"}, \"colorscale\": [[0.0, \"#0d0887\"], [0.1111111111111111, \"#46039f\"], [0.2222222222222222, \"#7201a8\"], [0.3333333333333333, \"#9c179e\"], [0.4444444444444444, \"#bd3786\"], [0.5555555555555556, \"#d8576b\"], [0.6666666666666666, \"#ed7953\"], [0.7777777777777778, \"#fb9f3a\"], [0.8888888888888888, \"#fdca26\"], [1.0, \"#f0f921\"]], \"type\": \"contour\"}], \"contourcarpet\": [{\"colorbar\": {\"outlinewidth\": 0, \"ticks\": \"\"}, \"type\": \"contourcarpet\"}], \"heatmap\": [{\"colorbar\": {\"outlinewidth\": 0, \"ticks\": \"\"}, \"colorscale\": [[0.0, \"#0d0887\"], [0.1111111111111111, \"#46039f\"], [0.2222222222222222, \"#7201a8\"], [0.3333333333333333, \"#9c179e\"], [0.4444444444444444, \"#bd3786\"], [0.5555555555555556, \"#d8576b\"], [0.6666666666666666, \"#ed7953\"], [0.7777777777777778, \"#fb9f3a\"], [0.8888888888888888, \"#fdca26\"], [1.0, \"#f0f921\"]], \"type\": \"heatmap\"}], \"heatmapgl\": [{\"colorbar\": {\"outlinewidth\": 0, \"ticks\": \"\"}, \"colorscale\": [[0.0, \"#0d0887\"], [0.1111111111111111, \"#46039f\"], [0.2222222222222222, \"#7201a8\"], [0.3333333333333333, \"#9c179e\"], [0.4444444444444444, \"#bd3786\"], [0.5555555555555556, \"#d8576b\"], [0.6666666666666666, \"#ed7953\"], [0.7777777777777778, \"#fb9f3a\"], [0.8888888888888888, \"#fdca26\"], [1.0, \"#f0f921\"]], \"type\": \"heatmapgl\"}], \"histogram\": [{\"marker\": {\"colorbar\": {\"outlinewidth\": 0, \"ticks\": \"\"}}, \"type\": \"histogram\"}], \"histogram2d\": [{\"colorbar\": {\"outlinewidth\": 0, \"ticks\": \"\"}, \"colorscale\": [[0.0, \"#0d0887\"], [0.1111111111111111, \"#46039f\"], [0.2222222222222222, \"#7201a8\"], [0.3333333333333333, \"#9c179e\"], [0.4444444444444444, \"#bd3786\"], [0.5555555555555556, \"#d8576b\"], [0.6666666666666666, \"#ed7953\"], [0.7777777777777778, \"#fb9f3a\"], [0.8888888888888888, \"#fdca26\"], [1.0, \"#f0f921\"]], \"type\": \"histogram2d\"}], \"histogram2dcontour\": [{\"colorbar\": {\"outlinewidth\": 0, \"ticks\": \"\"}, \"colorscale\": [[0.0, \"#0d0887\"], [0.1111111111111111, \"#46039f\"], [0.2222222222222222, \"#7201a8\"], [0.3333333333333333, \"#9c179e\"], [0.4444444444444444, \"#bd3786\"], [0.5555555555555556, \"#d8576b\"], [0.6666666666666666, \"#ed7953\"], [0.7777777777777778, \"#fb9f3a\"], [0.8888888888888888, \"#fdca26\"], [1.0, \"#f0f921\"]], \"type\": \"histogram2dcontour\"}], \"mesh3d\": [{\"colorbar\": {\"outlinewidth\": 0, \"ticks\": \"\"}, \"type\": \"mesh3d\"}], \"parcoords\": [{\"line\": {\"colorbar\": {\"outlinewidth\": 0, \"ticks\": \"\"}}, \"type\": \"parcoords\"}], \"pie\": [{\"automargin\": true, \"type\": \"pie\"}], \"scatter\": [{\"marker\": {\"colorbar\": {\"outlinewidth\": 0, \"ticks\": \"\"}}, \"type\": \"scatter\"}], \"scatter3d\": [{\"line\": {\"colorbar\": {\"outlinewidth\": 0, \"ticks\": \"\"}}, \"marker\": {\"colorbar\": {\"outlinewidth\": 0, \"ticks\": \"\"}}, \"type\": \"scatter3d\"}], \"scattercarpet\": [{\"marker\": {\"colorbar\": {\"outlinewidth\": 0, \"ticks\": \"\"}}, \"type\": \"scattercarpet\"}], \"scattergeo\": [{\"marker\": {\"colorbar\": {\"outlinewidth\": 0, \"ticks\": \"\"}}, \"type\": \"scattergeo\"}], \"scattergl\": [{\"marker\": {\"colorbar\": {\"outlinewidth\": 0, \"ticks\": \"\"}}, \"type\": \"scattergl\"}], \"scattermapbox\": [{\"marker\": {\"colorbar\": {\"outlinewidth\": 0, \"ticks\": \"\"}}, \"type\": \"scattermapbox\"}], \"scatterpolar\": [{\"marker\": {\"colorbar\": {\"outlinewidth\": 0, \"ticks\": \"\"}}, \"type\": \"scatterpolar\"}], \"scatterpolargl\": [{\"marker\": {\"colorbar\": {\"outlinewidth\": 0, \"ticks\": \"\"}}, \"type\": \"scatterpolargl\"}], \"scatterternary\": [{\"marker\": {\"colorbar\": {\"outlinewidth\": 0, \"ticks\": \"\"}}, \"type\": \"scatterternary\"}], \"surface\": [{\"colorbar\": {\"outlinewidth\": 0, \"ticks\": \"\"}, \"colorscale\": [[0.0, \"#0d0887\"], [0.1111111111111111, \"#46039f\"], [0.2222222222222222, \"#7201a8\"], [0.3333333333333333, \"#9c179e\"], [0.4444444444444444, \"#bd3786\"], [0.5555555555555556, \"#d8576b\"], [0.6666666666666666, \"#ed7953\"], [0.7777777777777778, \"#fb9f3a\"], [0.8888888888888888, \"#fdca26\"], [1.0, \"#f0f921\"]], \"type\": \"surface\"}], \"table\": [{\"cells\": {\"fill\": {\"color\": \"#EBF0F8\"}, \"line\": {\"color\": \"white\"}}, \"header\": {\"fill\": {\"color\": \"#C8D4E3\"}, \"line\": {\"color\": \"white\"}}, \"type\": \"table\"}]}, \"layout\": {\"annotationdefaults\": {\"arrowcolor\": \"#2a3f5f\", \"arrowhead\": 0, \"arrowwidth\": 1}, \"autotypenumbers\": \"strict\", \"coloraxis\": {\"colorbar\": {\"outlinewidth\": 0, \"ticks\": \"\"}}, \"colorscale\": {\"diverging\": [[0, \"#8e0152\"], [0.1, \"#c51b7d\"], [0.2, \"#de77ae\"], [0.3, \"#f1b6da\"], [0.4, \"#fde0ef\"], [0.5, \"#f7f7f7\"], [0.6, \"#e6f5d0\"], [0.7, \"#b8e186\"], [0.8, \"#7fbc41\"], [0.9, \"#4d9221\"], [1, \"#276419\"]], \"sequential\": [[0.0, \"#0d0887\"], [0.1111111111111111, \"#46039f\"], [0.2222222222222222, \"#7201a8\"], [0.3333333333333333, \"#9c179e\"], [0.4444444444444444, \"#bd3786\"], [0.5555555555555556, \"#d8576b\"], [0.6666666666666666, \"#ed7953\"], [0.7777777777777778, \"#fb9f3a\"], [0.8888888888888888, \"#fdca26\"], [1.0, \"#f0f921\"]], \"sequentialminus\": [[0.0, \"#0d0887\"], [0.1111111111111111, \"#46039f\"], [0.2222222222222222, \"#7201a8\"], [0.3333333333333333, \"#9c179e\"], [0.4444444444444444, \"#bd3786\"], [0.5555555555555556, \"#d8576b\"], [0.6666666666666666, \"#ed7953\"], [0.7777777777777778, \"#fb9f3a\"], [0.8888888888888888, \"#fdca26\"], [1.0, \"#f0f921\"]]}, \"colorway\": [\"#636efa\", \"#EF553B\", \"#00cc96\", \"#ab63fa\", \"#FFA15A\", \"#19d3f3\", \"#FF6692\", \"#B6E880\", \"#FF97FF\", \"#FECB52\"], \"font\": {\"color\": \"#2a3f5f\"}, \"geo\": {\"bgcolor\": \"white\", \"lakecolor\": \"white\", \"landcolor\": \"#E5ECF6\", \"showlakes\": true, \"showland\": true, \"subunitcolor\": \"white\"}, \"hoverlabel\": {\"align\": \"left\"}, \"hovermode\": \"closest\", \"mapbox\": {\"style\": \"light\"}, \"paper_bgcolor\": \"white\", \"plot_bgcolor\": \"#E5ECF6\", \"polar\": {\"angularaxis\": {\"gridcolor\": \"white\", \"linecolor\": \"white\", \"ticks\": \"\"}, \"bgcolor\": \"#E5ECF6\", \"radialaxis\": {\"gridcolor\": \"white\", \"linecolor\": \"white\", \"ticks\": \"\"}}, \"scene\": {\"xaxis\": {\"backgroundcolor\": \"#E5ECF6\", \"gridcolor\": \"white\", \"gridwidth\": 2, \"linecolor\": \"white\", \"showbackground\": true, \"ticks\": \"\", \"zerolinecolor\": \"white\"}, \"yaxis\": {\"backgroundcolor\": \"#E5ECF6\", \"gridcolor\": \"white\", \"gridwidth\": 2, \"linecolor\": \"white\", \"showbackground\": true, \"ticks\": \"\", \"zerolinecolor\": \"white\"}, \"zaxis\": {\"backgroundcolor\": \"#E5ECF6\", \"gridcolor\": \"white\", \"gridwidth\": 2, \"linecolor\": \"white\", \"showbackground\": true, \"ticks\": \"\", \"zerolinecolor\": \"white\"}}, \"shapedefaults\": {\"line\": {\"color\": \"#2a3f5f\"}}, \"ternary\": {\"aaxis\": {\"gridcolor\": \"white\", \"linecolor\": \"white\", \"ticks\": \"\"}, \"baxis\": {\"gridcolor\": \"white\", \"linecolor\": \"white\", \"ticks\": \"\"}, \"bgcolor\": \"#E5ECF6\", \"caxis\": {\"gridcolor\": \"white\", \"linecolor\": \"white\", \"ticks\": \"\"}}, \"title\": {\"x\": 0.05}, \"xaxis\": {\"automargin\": true, \"gridcolor\": \"white\", \"linecolor\": \"white\", \"ticks\": \"\", \"title\": {\"standoff\": 15}, \"zerolinecolor\": \"white\", \"zerolinewidth\": 2}, \"yaxis\": {\"automargin\": true, \"gridcolor\": \"white\", \"linecolor\": \"white\", \"ticks\": \"\", \"title\": {\"standoff\": 15}, \"zerolinecolor\": \"white\", \"zerolinewidth\": 2}}}, \"xaxis\": {\"anchor\": \"y\", \"domain\": [0.0, 1.0], \"title\": {\"text\": \"value\"}}, \"yaxis\": {\"anchor\": \"x\", \"domain\": [0.0, 1.0], \"title\": {\"text\": \"count\"}}},                        {\"responsive\": true}                    ).then(function(){\n",
              "                            \n",
              "var gd = document.getElementById('11aae3e8-8d7c-416f-b4e5-ec0d9d11c665');\n",
              "var x = new MutationObserver(function (mutations, observer) {{\n",
              "        var display = window.getComputedStyle(gd).display;\n",
              "        if (!display || display === 'none') {{\n",
              "            console.log([gd, 'removed!']);\n",
              "            Plotly.purge(gd);\n",
              "            observer.disconnect();\n",
              "        }}\n",
              "}});\n",
              "\n",
              "// Listen for the removal of the full notebook cells\n",
              "var notebookContainer = gd.closest('#notebook-container');\n",
              "if (notebookContainer) {{\n",
              "    x.observe(notebookContainer, {childList: true});\n",
              "}}\n",
              "\n",
              "// Listen for the clearing of the current output cell\n",
              "var outputEl = gd.closest('.output');\n",
              "if (outputEl) {{\n",
              "    x.observe(outputEl, {childList: true});\n",
              "}}\n",
              "\n",
              "                        })                };                            </script>        </div>\n",
              "</body>\n",
              "</html>"
            ]
          },
          "metadata": {
            "tags": []
          }
        }
      ]
    },
    {
      "cell_type": "code",
      "metadata": {
        "colab": {
          "base_uri": "https://localhost:8080/",
          "height": 542
        },
        "id": "3KAHGlvF-G1P",
        "outputId": "e807a7bd-17ea-4d6b-ba66-a887219595b7"
      },
      "source": [
        "fig = px.histogram(df_melt, x=\"value\", color=\"variable\")\n",
        "fig.show()"
      ],
      "execution_count": 86,
      "outputs": [
        {
          "output_type": "display_data",
          "data": {
            "text/html": [
              "<html>\n",
              "<head><meta charset=\"utf-8\" /></head>\n",
              "<body>\n",
              "    <div>            <script src=\"https://cdnjs.cloudflare.com/ajax/libs/mathjax/2.7.5/MathJax.js?config=TeX-AMS-MML_SVG\"></script><script type=\"text/javascript\">if (window.MathJax) {MathJax.Hub.Config({SVG: {font: \"STIX-Web\"}});}</script>                <script type=\"text/javascript\">window.PlotlyConfig = {MathJaxConfig: 'local'};</script>\n",
              "        <script src=\"https://cdn.plot.ly/plotly-latest.min.js\"></script>                <div id=\"165305be-4388-4d3b-92df-97e24c717d97\" class=\"plotly-graph-div\" style=\"height:525px; width:100%;\"></div>            <script type=\"text/javascript\">                                    window.PLOTLYENV=window.PLOTLYENV || {};                                    if (document.getElementById(\"165305be-4388-4d3b-92df-97e24c717d97\")) {                    Plotly.newPlot(                        \"165305be-4388-4d3b-92df-97e24c717d97\",                        [{\"alignmentgroup\": \"True\", \"bingroup\": \"x\", \"hovertemplate\": \"variable=math score<br>value=%{x}<br>count=%{y}<extra></extra>\", \"legendgroup\": \"math score\", \"marker\": {\"color\": \"#636efa\"}, \"name\": \"math score\", \"offsetgroup\": \"math score\", \"orientation\": \"v\", \"showlegend\": true, \"type\": \"histogram\", \"x\": [3.2199999999999998, 5.8, 5.38, 5.859999999999999, 6.64, 5.26, 5.5, 3.04, 4.779999999999999, 6.64, 4.9, 4.12, 4.72, 5.4399999999999995, 4.72, 5.38, 3.76, 5.92, 4.779999999999999, 4.84, 5.8, 6.58, 5.14, 3.76, 6.16, 4.54, 6.04, 4.84, 5.38, 5.9799999999999995, 5.5, 5.14, 5.08, 4.42, 4.96, 4.66, 3.4, 4.0, 3.88, 3.16, 5.68, 4.42, 5.14, 3.4, 6.52, 3.1, 4.779999999999999, 5.38, 4.779999999999999, 4.12, 5.38, 4.779999999999999, 5.26, 3.6999999999999997, 6.1, 5.8, 5.92, 5.62, 6.46, 4.6, 4.779999999999999, 3.4, 4.42, 4.48, 6.819999999999999, 5.859999999999999, 5.08, 4.54, 6.76, 6.22, 4.42, 6.64, 6.819999999999999, 4.9, 5.92, 5.32, 4.72, 3.6399999999999997, 5.92, 5.5, 4.54, 5.5, 5.32, 5.08, 4.96, 5.02, 6.58, 5.14, 4.779999999999999, 3.76, 4.96, 4.72, 3.88, 5.26, 4.24, 5.8, 4.3, 6.3999999999999995, 6.64, 5.859999999999999, 4.18, 4.66, 5.5, 5.4399999999999995, 4.72, 5.2, 4.6, 4.54, 4.72, 4.18, 5.8, 5.14, 5.14, 5.14, 3.94, 3.58, 5.9799999999999995, 4.9, 5.38, 5.08, 4.84, 4.24, 4.9, 3.94, 4.48, 4.96, 4.9, 4.9, 5.2, 5.74, 4.0, 4.84, 5.08, 2.92, 5.08, 4.48, 2.1399999999999997, 5.14, 5.32, 4.18, 4.66, 5.68, 4.18, 3.6999999999999997, 3.6399999999999997, 5.9799999999999995, 4.9, 6.279999999999999, 6.279999999999999, 6.46, 6.04, 4.0600000000000005, 3.28, 3.82, 4.96, 4.66, 4.6, 5.26, 3.6999999999999997, 5.62, 4.18, 4.42, 5.32, 5.56, 3.6999999999999997, 6.9399999999999995, 4.0600000000000005, 4.84, 4.12, 5.8, 4.0600000000000005, 4.0, 4.84, 5.4399999999999995, 5.26, 4.42, 5.14, 5.62, 5.5, 3.58, 5.8, 4.54, 6.1, 4.3, 3.6399999999999997, 3.52, 4.48, 4.66, 4.0, 6.279999999999999, 5.38, 5.02, 6.819999999999999, 4.66, 4.72, 5.74, 4.24, 4.96, 5.68, 6.1, 6.04, 5.56, 3.6399999999999997, 5.859999999999999, 4.24, 4.48, 5.859999999999999, 5.32, 5.26, 4.66, 4.96, 5.26, 5.26, 6.34, 5.38, 5.859999999999999, 3.76, 2.32, 3.88, 3.6399999999999997, 5.74, 6.46, 5.56, 4.24, 5.62, 4.72, 5.02, 6.16, 4.48, 4.18, 4.42, 5.14, 5.56, 5.68, 5.14, 4.72, 3.2199999999999998, 6.279999999999999, 6.3999999999999995, 4.42, 5.08, 4.9, 4.779999999999999, 4.12, 3.88, 4.9, 4.24, 4.0, 3.4, 2.74, 2.56, 5.2, 5.5, 4.18, 4.6, 6.88, 6.58, 4.54, 3.76, 5.56, 5.74, 2.6799999999999997, 4.3, 4.66, 3.1, 6.64, 3.76, 7.0, 5.02, 4.0, 5.74, 5.26, 5.9799999999999995, 4.3, 3.88, 5.56, 5.62, 5.74, 4.72, 4.359999999999999, 5.08, 6.04, 5.8, 4.72, 4.6, 4.84, 2.74, 4.12, 4.18, 5.02, 5.92, 4.359999999999999, 5.74, 5.38, 4.96, 4.12, 4.12, 5.38, 4.96, 6.04, 5.92, 5.4399999999999995, 5.56, 5.859999999999999, 5.74, 5.08, 4.779999999999999, 4.0, 5.32, 6.1, 5.9799999999999995, 6.04, 4.9, 6.1, 5.2, 4.48, 6.16, 4.84, 4.9, 4.66, 3.94, 4.18, 6.819999999999999, 5.5, 5.32, 5.4399999999999995, 4.54, 5.08, 5.68, 4.18, 4.42, 5.32, 6.9399999999999995, 5.74, 6.46, 5.9799999999999995, 5.32, 4.66, 5.38, 4.54, 7.0, 4.66, 5.62, 5.26, 3.94, 4.72, 6.16, 5.5, 4.48, 3.82, 4.779999999999999, 5.14, 5.2, 5.08, 4.66, 5.26, 5.859999999999999, 7.0, 6.04, 5.62, 4.18, 5.26, 5.38, 4.9, 3.94, 4.12, 4.9, 4.54, 5.8, 4.72, 4.42, 3.76, 4.48, 5.02, 5.38, 5.32, 3.4, 5.68, 4.779999999999999, 4.66, 5.74, 5.62, 5.2, 4.18, 5.56, 3.6999999999999997, 3.4, 5.92, 5.68, 5.5, 5.2, 4.3, 3.34, 5.2, 2.8, 5.5, 4.779999999999999, 5.92, 5.4399999999999995, 4.24, 5.26, 5.38, 5.62, 5.62, 6.22, 6.22, 5.4399999999999995, 5.02, 3.58, 3.94, 3.94, 4.18, 4.84, 4.66, 5.74, 5.14, 4.24, 4.9, 5.62, 4.48, 3.94, 5.38, 4.24, 4.24, 4.84, 4.54, 5.56, 5.5, 6.1, 6.819999999999999, 4.18, 4.12, 5.62, 5.74, 4.42, 6.22, 4.96, 4.779999999999999, 4.9, 5.08, 4.3, 5.32, 6.16, 3.1, 6.819999999999999, 5.5, 4.12, 5.4399999999999995, 5.2, 3.34, 4.66, 3.6399999999999997, 5.62, 6.22, 4.96, 5.08, 4.9, 4.72, 5.859999999999999, 5.2, 5.4399999999999995, 6.64, 5.56, 4.54, 5.08, 5.38, 7.0, 1.48, 4.9, 3.4, 3.88, 6.34, 5.62, 4.9, 5.14, 5.08, 3.94, 4.72, 4.0, 4.359999999999999, 3.76, 4.18, 4.6, 6.46, 6.3999999999999995, 5.38, 5.2, 3.82, 4.9, 5.859999999999999, 4.3, 6.58, 4.9, 4.72, 3.88, 5.08, 4.96, 4.3, 3.52, 4.24, 5.4399999999999995, 3.2199999999999998, 4.96, 6.279999999999999, 5.14, 4.66, 3.34, 6.22, 4.84, 3.6399999999999997, 4.54, 5.8, 5.26, 5.56, 4.18, 5.68, 4.3, 5.2, 4.9, 6.16, 3.82, 4.24, 3.46, 5.68, 5.9799999999999995, 4.24, 6.3999999999999995, 4.54, 4.9, 5.02, 6.34, 4.54, 5.38, 5.4399999999999995, 6.16, 4.3, 4.66, 4.42, 4.48, 3.6999999999999997, 4.779999999999999, 4.66, 5.859999999999999, 6.52, 5.02, 6.64, 4.359999999999999, 4.72, 5.2, 5.2, 5.56, 4.84, 3.82, 4.96, 6.16, 3.4, 4.96, 5.08, 4.0600000000000005, 3.6999999999999997, 6.279999999999999, 6.3999999999999995, 4.12, 3.94, 4.18, 5.26, 4.0, 4.48, 3.52, 5.02, 3.34, 6.1, 4.72, 5.68, 5.38, 5.08, 6.34, 3.4, 5.92, 5.14, 5.62, 5.14, 5.74, 4.18, 3.58, 4.48, 5.56, 6.279999999999999, 5.14, 3.94, 6.1, 5.14, 5.32, 4.42, 4.48, 4.72, 4.72, 5.5, 6.279999999999999, 5.859999999999999, 5.02, 5.02, 5.4399999999999995, 5.4399999999999995, 6.7, 5.26, 6.1, 4.359999999999999, 5.92, 6.1, 4.6, 4.779999999999999, 4.0600000000000005, 4.0, 5.859999999999999, 6.22, 3.76, 4.48, 4.72, 5.56, 4.6, 4.0, 5.62, 4.84, 4.66, 4.6, 5.02, 4.84, 6.3999999999999995, 4.54, 4.18, 3.88, 4.6, 5.92, 4.48, 4.6, 4.96, 6.1, 3.94, 5.62, 5.02, 5.14, 4.0, 4.72, 5.9799999999999995, 5.859999999999999, 6.52, 5.2, 5.32, 6.52, 4.0600000000000005, 6.22, 5.26, 4.54, 6.279999999999999, 4.66, 5.92, 5.26, 5.5, 3.58, 4.0600000000000005, 4.72, 5.5, 4.779999999999999, 5.26, 5.02, 5.26, 4.66, 4.359999999999999, 6.88, 5.92, 5.5, 4.54, 5.26, 3.6399999999999997, 5.62, 4.9, 4.42, 4.6, 2.62, 4.48, 5.2, 3.28, 3.52, 7.0, 6.34, 3.1, 5.4399999999999995, 5.62, 4.72, 5.74, 3.76, 5.4399999999999995, 4.54, 4.96, 3.82, 5.62, 5.68, 4.12, 5.2, 4.48, 5.08, 5.14, 6.22, 4.12, 5.32, 6.1, 3.46, 4.66, 5.02, 4.24, 5.5, 5.8, 4.779999999999999, 4.12, 4.72, 4.48, 4.72, 4.9, 5.4399999999999995, 5.74, 5.08, 4.779999999999999, 4.12, 4.54, 4.3, 4.96, 3.28, 5.4399999999999995, 6.46, 4.84, 5.4399999999999995, 5.859999999999999, 5.74, 6.3999999999999995, 4.24, 5.68, 3.76, 6.279999999999999, 4.72, 5.8, 5.8, 5.26, 4.84, 5.5, 4.6, 5.08, 6.279999999999999, 4.3, 4.0, 3.52, 5.14, 3.52, 4.48, 2.44, 3.88, 5.02, 4.54, 4.54, 6.76, 3.6999999999999997, 6.279999999999999, 5.32, 4.66, 5.859999999999999, 4.54, 5.38, 5.74, 5.08, 3.82, 4.84, 3.94, 4.24, 5.26, 4.54, 6.34, 3.2199999999999998, 4.54, 4.42, 3.82, 5.62, 4.72, 5.62, 4.0600000000000005, 5.14, 5.4399999999999995, 4.6, 5.56, 4.0600000000000005, 2.92, 5.38, 3.94, 5.56, 4.84, 4.72, 4.779999999999999, 4.0, 3.6399999999999997, 4.96, 5.02, 4.66, 5.5, 5.14, 5.56, 4.9, 4.18, 6.22, 4.18, 4.96, 3.94, 5.02, 4.3, 2.8, 5.38, 4.72, 5.74, 4.779999999999999, 4.12, 4.48, 5.68, 5.859999999999999, 5.4399999999999995, 5.08, 5.92, 5.38, 4.54, 5.4399999999999995, 4.72, 6.04, 5.02, 5.859999999999999, 2.98, 4.54, 6.22, 5.62, 4.48, 5.14, 4.9, 6.52, 6.22, 5.14, 5.38, 4.66, 4.3, 5.02, 5.14, 5.4399999999999995, 4.84, 4.359999999999999, 3.16, 3.46, 3.94, 4.54, 3.04, 6.04, 5.56, 4.66, 4.72, 6.22, 5.02, 4.24, 4.54, 5.08, 5.02, 6.46, 5.8, 6.76, 5.08, 5.4399999999999995, 5.26, 3.1, 5.859999999999999, 4.18, 5.8, 5.56, 5.56, 4.779999999999999, 4.42, 4.48, 5.32, 4.3, 4.18, 5.8, 3.46, 4.3, 4.0600000000000005, 6.1, 5.859999999999999, 4.12, 2.08, 5.38, 3.88, 4.359999999999999, 4.779999999999999, 4.48, 2.92, 4.54, 4.779999999999999, 4.779999999999999, 5.8, 4.6, 4.84, 6.88, 4.54, 4.9, 6.22, 4.96, 4.12, 5.38, 6.22, 5.74, 4.6, 5.859999999999999, 5.4399999999999995, 5.14, 3.82, 3.82, 5.74, 5.92, 6.52, 4.42, 3.46, 3.94, 6.279999999999999, 5.74, 4.54, 5.26, 5.859999999999999, 4.9, 5.92, 4.9, 3.4, 5.38, 4.359999999999999, 5.14, 5.02, 6.46, 5.02, 6.22, 4.9, 4.48, 4.3, 3.88, 6.279999999999999, 4.18, 6.1, 4.72, 4.9, 5.92, 4.72, 4.779999999999999, 6.04, 5.62, 4.0, 5.14, 1.0, 4.9, 5.74, 5.14, 5.32, 7.0, 4.9, 3.82, 6.9399999999999995, 4.0600000000000005, 5.26, 5.92, 6.46, 4.3, 5.5, 4.96, 6.7, 5.32, 5.2, 4.42, 6.04, 4.66, 3.6999999999999997, 4.9, 2.62, 6.279999999999999, 4.9, 4.779999999999999, 5.68, 4.9, 6.3999999999999995, 7.0, 5.02, 5.4399999999999995, 5.56, 4.96, 4.54, 4.72, 3.46, 2.74, 5.14, 2.38, 4.96, 4.24, 5.08], \"xaxis\": \"x\", \"yaxis\": \"y\"}, {\"alignmentgroup\": \"True\", \"bingroup\": \"x\", \"hovertemplate\": \"variable=reading score<br>value=%{x}<br>count=%{y}<extra></extra>\", \"legendgroup\": \"reading score\", \"marker\": {\"color\": \"#EF553B\"}, \"name\": \"reading score\", \"offsetgroup\": \"reading score\", \"orientation\": \"v\", \"showlegend\": true, \"type\": \"histogram\", \"x\": [3.76, 5.68, 4.96, 5.5, 6.16, 4.66, 5.08, 3.88, 4.66, 5.38, 5.68, 5.56, 4.9, 5.4399999999999995, 4.42, 5.14, 3.52, 5.92, 4.66, 5.38, 5.5, 7.0, 5.56, 4.66, 5.859999999999999, 5.32, 5.9799999999999995, 4.84, 5.56, 6.16, 6.279999999999999, 5.4399999999999995, 5.32, 4.66, 4.84, 4.66, 4.54, 5.02, 4.72, 2.74, 5.74, 5.02, 4.48, 4.3, 6.22, 2.6799999999999997, 5.02, 5.4399999999999995, 4.84, 4.54, 5.74, 5.38, 4.6, 4.54, 6.52, 5.56, 6.1, 6.64, 6.1, 4.72, 3.88, 3.88, 4.24, 4.24, 5.92, 5.92, 4.9, 5.26, 6.3999999999999995, 6.04, 5.5, 6.279999999999999, 6.58, 5.859999999999999, 6.58, 4.42, 5.4399999999999995, 4.24, 6.04, 6.3999999999999995, 3.46, 5.38, 5.08, 5.68, 5.4399999999999995, 4.72, 6.3999999999999995, 4.779999999999999, 5.4399999999999995, 4.84, 5.08, 5.38, 4.359999999999999, 5.2, 5.32, 5.9799999999999995, 4.54, 6.22, 6.9399999999999995, 5.38, 3.58, 5.08, 6.1, 5.859999999999999, 5.32, 5.68, 5.2, 4.0600000000000005, 5.32, 4.0, 6.1, 4.96, 5.68, 5.62, 3.6999999999999997, 4.6, 6.58, 4.66, 4.84, 5.9799999999999995, 4.96, 4.66, 5.62, 4.42, 5.02, 5.68, 5.2, 5.74, 5.08, 5.859999999999999, 5.02, 4.24, 4.6, 4.0600000000000005, 4.0600000000000005, 4.42, 3.28, 5.62, 5.74, 4.48, 4.0600000000000005, 5.32, 4.72, 4.359999999999999, 4.0600000000000005, 5.9799999999999995, 5.56, 5.68, 6.7, 6.34, 6.22, 4.96, 3.94, 4.18, 4.42, 5.38, 5.08, 5.26, 4.779999999999999, 6.16, 4.48, 4.0600000000000005, 4.84, 5.26, 3.88, 6.58, 5.32, 4.6, 4.66, 5.38, 4.24, 3.88, 5.38, 5.4399999999999995, 5.62, 5.4399999999999995, 5.2, 6.3999999999999995, 5.4399999999999995, 4.0600000000000005, 5.08, 5.32, 5.859999999999999, 5.56, 4.779999999999999, 4.72, 4.54, 3.82, 4.96, 5.4399999999999995, 5.68, 6.16, 7.0, 4.48, 4.84, 5.859999999999999, 4.779999999999999, 5.26, 6.46, 5.5, 6.04, 6.64, 4.66, 6.04, 3.94, 4.779999999999999, 5.92, 5.859999999999999, 3.94, 3.52, 5.62, 5.56, 4.96, 6.279999999999999, 5.9799999999999995, 5.859999999999999, 3.04, 3.34, 4.12, 4.84, 5.92, 5.859999999999999, 5.8, 4.54, 5.68, 5.32, 4.84, 5.859999999999999, 5.2, 4.12, 4.48, 5.38, 5.2, 6.22, 4.84, 4.96, 4.42, 6.34, 5.5, 4.359999999999999, 5.2, 5.5, 5.14, 4.42, 3.58, 4.24, 4.24, 4.18, 4.54, 3.46, 2.86, 5.5, 5.4399999999999995, 3.34, 4.42, 6.22, 6.04, 4.24, 4.24, 4.84, 6.279999999999999, 2.38, 5.26, 4.42, 4.18, 6.1, 4.48, 7.0, 5.8, 3.82, 6.04, 5.859999999999999, 5.92, 4.84, 4.48, 5.38, 5.62, 5.74, 5.68, 5.08, 6.16, 5.62, 5.5, 5.2, 4.96, 4.72, 3.4, 4.9, 4.66, 4.66, 6.7, 5.74, 5.56, 5.08, 5.4399999999999995, 4.96, 5.02, 6.16, 4.9, 5.38, 5.5, 5.62, 5.26, 5.32, 6.34, 5.26, 5.68, 4.359999999999999, 4.9, 6.52, 5.68, 6.7, 5.62, 6.16, 5.2, 4.779999999999999, 5.8, 5.92, 5.859999999999999, 4.3, 4.0600000000000005, 4.0600000000000005, 6.819999999999999, 5.32, 5.38, 5.74, 5.02, 5.08, 5.62, 4.48, 5.68, 4.42, 7.0, 6.34, 5.38, 5.32, 5.74, 4.72, 5.4399999999999995, 4.24, 6.76, 4.96, 5.74, 5.02, 4.18, 4.66, 6.52, 5.859999999999999, 4.72, 4.54, 5.5, 5.02, 5.5, 4.779999999999999, 4.359999999999999, 4.96, 6.819999999999999, 7.0, 5.62, 6.3999999999999995, 3.6399999999999997, 5.9799999999999995, 5.08, 5.92, 3.94, 4.54, 5.5, 4.6, 4.84, 3.94, 3.58, 3.58, 5.38, 4.24, 4.96, 5.32, 3.58, 5.9799999999999995, 4.9, 5.32, 5.4399999999999995, 5.92, 6.04, 4.24, 4.72, 4.18, 4.48, 6.1, 5.32, 4.96, 4.84, 4.3, 3.52, 6.34, 2.56, 6.04, 4.84, 5.92, 5.859999999999999, 4.54, 6.04, 6.04, 6.279999999999999, 6.279999999999999, 6.04, 5.4399999999999995, 5.38, 4.84, 4.72, 4.12, 4.9, 4.24, 4.18, 6.16, 6.52, 5.26, 4.12, 6.16, 6.46, 4.66, 4.779999999999999, 5.56, 4.84, 4.18, 4.48, 5.32, 5.4399999999999995, 5.14, 6.04, 6.52, 5.2, 4.3, 5.56, 5.32, 5.62, 6.1, 5.14, 5.38, 6.1, 5.02, 4.48, 4.96, 5.56, 4.3, 6.22, 5.08, 3.94, 5.2, 5.92, 4.12, 5.4399999999999995, 4.0, 6.3999999999999995, 6.04, 4.9, 5.62, 5.02, 5.02, 4.96, 4.779999999999999, 5.5, 6.3999999999999995, 5.68, 5.2, 5.08, 4.96, 7.0, 2.44, 4.84, 4.9, 4.96, 6.04, 5.92, 5.38, 5.62, 5.32, 4.0600000000000005, 5.14, 4.0, 5.08, 4.359999999999999, 4.3, 4.0600000000000005, 6.7, 6.3999999999999995, 4.359999999999999, 5.32, 3.94, 4.9, 5.62, 3.76, 7.0, 5.2, 4.66, 3.6999999999999997, 4.54, 5.14, 3.76, 4.3, 4.9, 5.62, 4.359999999999999, 4.779999999999999, 5.68, 5.62, 5.26, 4.84, 7.0, 4.779999999999999, 3.46, 5.68, 5.74, 6.22, 6.22, 4.48, 5.859999999999999, 5.38, 5.2, 5.14, 5.38, 3.94, 4.12, 4.0600000000000005, 5.859999999999999, 5.8, 4.84, 6.3999999999999995, 4.48, 5.859999999999999, 5.74, 6.04, 4.779999999999999, 5.26, 6.3999999999999995, 5.9799999999999995, 4.359999999999999, 4.48, 5.68, 4.12, 3.2199999999999998, 4.779999999999999, 5.2, 6.46, 7.0, 5.38, 6.22, 4.12, 4.96, 4.9, 5.4399999999999995, 5.9799999999999995, 5.4399999999999995, 4.24, 5.4399999999999995, 6.1, 4.12, 5.4399999999999995, 5.4399999999999995, 2.86, 5.38, 6.04, 6.7, 4.42, 4.18, 4.12, 5.4399999999999995, 3.88, 4.3, 4.12, 4.42, 3.34, 6.3999999999999995, 4.66, 5.4399999999999995, 5.68, 5.2, 7.0, 3.52, 5.02, 5.8, 6.1, 6.04, 6.16, 4.72, 3.6999999999999997, 4.3, 6.1, 5.62, 5.2, 4.0, 6.46, 4.6, 5.8, 4.0, 4.66, 5.02, 4.779999999999999, 5.62, 6.9399999999999995, 6.46, 5.68, 5.14, 5.26, 5.74, 5.859999999999999, 5.4399999999999995, 6.04, 4.24, 4.72, 6.04, 4.84, 5.32, 4.12, 4.84, 5.5, 6.1, 3.58, 5.08, 4.3, 5.32, 5.08, 3.52, 6.34, 4.0, 5.08, 4.54, 4.42, 5.38, 6.1, 5.38, 3.6999999999999997, 4.359999999999999, 5.2, 6.3999999999999995, 5.02, 5.5, 4.54, 6.7, 4.12, 5.14, 5.56, 5.74, 4.6, 4.359999999999999, 6.1, 5.26, 7.0, 4.359999999999999, 5.74, 7.0, 4.779999999999999, 5.38, 5.2, 4.12, 6.9399999999999995, 4.84, 6.58, 5.14, 5.92, 4.18, 3.94, 4.3, 5.859999999999999, 4.3, 5.9799999999999995, 5.32, 5.9799999999999995, 4.359999999999999, 4.66, 6.16, 6.04, 6.279999999999999, 4.72, 5.5, 3.6999999999999997, 5.08, 5.56, 3.88, 4.6, 3.04, 4.0, 4.84, 3.58, 4.96, 6.52, 5.56, 3.6399999999999997, 5.32, 4.72, 4.84, 5.92, 3.46, 4.84, 5.2, 5.62, 3.2199999999999998, 5.08, 5.62, 3.88, 5.26, 4.42, 4.24, 5.32, 6.64, 4.18, 5.8, 6.34, 3.34, 5.26, 6.34, 3.88, 5.859999999999999, 6.3999999999999995, 4.779999999999999, 4.48, 4.3, 4.6, 5.02, 5.62, 6.279999999999999, 5.38, 5.08, 5.8, 5.2, 3.52, 3.82, 4.6, 4.6, 5.56, 6.16, 4.84, 4.779999999999999, 5.4399999999999995, 5.92, 5.68, 4.48, 5.92, 3.58, 6.52, 5.02, 6.16, 4.779999999999999, 5.74, 6.1, 6.16, 5.32, 4.6, 5.5, 4.66, 4.6, 4.66, 5.5, 3.34, 5.5, 3.28, 4.0600000000000005, 6.04, 4.72, 4.72, 6.76, 3.82, 6.1, 5.02, 5.02, 5.8, 4.18, 5.56, 6.1, 5.5, 4.72, 5.74, 4.48, 4.6, 5.26, 4.48, 6.22, 3.6999999999999997, 6.1, 4.48, 3.58, 5.02, 5.08, 5.02, 4.48, 5.62, 5.26, 4.779999999999999, 5.68, 4.6, 3.04, 5.68, 4.42, 4.72, 5.56, 4.84, 5.68, 4.18, 4.0600000000000005, 4.72, 6.04, 4.6, 4.48, 6.04, 5.56, 5.38, 5.32, 6.3999999999999995, 4.96, 5.9799999999999995, 4.9, 5.4399999999999995, 5.32, 2.44, 6.52, 4.72, 4.6, 4.42, 4.9, 5.56, 6.3999999999999995, 6.16, 6.34, 5.56, 6.819999999999999, 5.2, 4.96, 6.16, 5.08, 5.9799999999999995, 6.16, 6.279999999999999, 3.46, 4.9, 6.7, 6.819999999999999, 4.0600000000000005, 4.96, 4.96, 7.0, 5.4399999999999995, 4.24, 5.02, 4.6, 4.54, 5.859999999999999, 6.3999999999999995, 5.859999999999999, 4.6, 4.9, 4.18, 4.12, 4.48, 5.14, 3.52, 6.22, 5.9799999999999995, 5.32, 5.02, 6.34, 5.5, 4.84, 4.779999999999999, 5.02, 6.04, 5.4399999999999995, 5.8, 7.0, 4.84, 5.5, 5.56, 4.66, 5.68, 3.2199999999999998, 5.56, 5.26, 5.2, 5.26, 5.08, 5.2, 4.96, 4.9, 5.26, 6.52, 4.3, 5.14, 4.359999999999999, 5.56, 6.52, 4.54, 2.92, 5.74, 4.24, 4.48, 5.02, 3.94, 3.34, 5.38, 4.6, 5.38, 6.3999999999999995, 3.6399999999999997, 4.359999999999999, 7.0, 5.26, 5.14, 6.46, 5.56, 4.3, 5.5, 6.04, 5.02, 5.32, 5.68, 5.74, 4.6, 4.48, 3.76, 5.62, 5.8, 5.74, 5.14, 3.6999999999999997, 4.48, 6.7, 5.68, 5.2, 4.72, 5.859999999999999, 5.859999999999999, 5.68, 5.14, 3.76, 5.8, 5.32, 4.48, 5.32, 6.76, 5.5, 7.0, 5.4399999999999995, 4.54, 3.46, 4.48, 6.58, 4.66, 4.96, 5.02, 6.04, 5.92, 5.2, 4.66, 5.8, 4.72, 4.84, 4.9, 2.02, 5.02, 6.16, 6.16, 5.02, 7.0, 4.48, 4.42, 6.22, 4.0600000000000005, 5.4399999999999995, 5.92, 6.76, 4.9, 5.92, 4.96, 6.34, 5.32, 4.3, 4.359999999999999, 6.34, 3.88, 4.12, 4.54, 3.04, 5.38, 5.92, 4.96, 5.859999999999999, 5.32, 6.22, 6.819999999999999, 5.4399999999999995, 5.5, 5.02, 5.32, 4.84, 5.56, 3.76, 2.74, 5.5, 3.6399999999999997, 5.4399999999999995, 4.66, 5.8], \"xaxis\": \"x\", \"yaxis\": \"y\"}, {\"alignmentgroup\": \"True\", \"bingroup\": \"x\", \"hovertemplate\": \"variable=writing score<br>value=%{x}<br>count=%{y}<extra></extra>\", \"legendgroup\": \"writing score\", \"marker\": {\"color\": \"#00cc96\"}, \"name\": \"writing score\", \"offsetgroup\": \"writing score\", \"orientation\": \"v\", \"showlegend\": true, \"type\": \"histogram\", \"x\": [3.76, 5.859999999999999, 4.779999999999999, 5.56, 6.22, 5.14, 4.84, 3.46, 4.66, 5.26, 5.92, 5.2, 4.48, 5.32, 4.72, 5.08, 3.76, 5.4399999999999995, 4.6, 5.08, 5.62, 7.0, 5.4399999999999995, 4.3, 5.8, 5.2, 5.5, 5.02, 5.68, 6.279999999999999, 6.1, 5.4399999999999995, 4.9, 4.24, 4.72, 4.72, 4.24, 4.779999999999999, 4.6, 2.62, 5.56, 5.32, 4.42, 4.18, 5.68, 2.62, 5.2, 4.66, 5.02, 4.9, 5.74, 5.26, 4.66, 4.84, 6.1, 4.9, 6.22, 6.7, 6.1, 4.6, 3.82, 4.0, 4.359999999999999, 4.12, 6.279999999999999, 5.92, 4.66, 4.9, 6.52, 6.16, 5.38, 5.68, 6.46, 5.859999999999999, 6.58, 4.48, 5.2, 4.18, 5.68, 6.279999999999999, 3.52, 5.4399999999999995, 5.02, 5.62, 5.68, 4.6, 5.9799999999999995, 4.66, 5.4399999999999995, 4.96, 4.84, 5.2, 4.0600000000000005, 5.2, 4.54, 5.9799999999999995, 4.24, 6.1, 7.0, 5.32, 3.58, 4.779999999999999, 5.92, 5.26, 4.9, 5.68, 5.4399999999999995, 3.58, 5.4399999999999995, 4.6, 6.1, 4.66, 5.56, 5.62, 3.6999999999999997, 4.48, 6.7, 5.26, 4.42, 5.68, 4.54, 4.48, 5.4399999999999995, 3.76, 4.72, 5.68, 5.4399999999999995, 5.859999999999999, 5.32, 5.92, 5.38, 4.0, 4.54, 3.6399999999999997, 4.42, 4.24, 2.92, 5.38, 5.4399999999999995, 4.42, 4.12, 5.14, 4.18, 4.24, 3.88, 6.3999999999999995, 5.5, 5.9799999999999995, 6.64, 6.52, 6.46, 4.72, 3.6999999999999997, 4.48, 4.12, 4.779999999999999, 4.6, 5.4399999999999995, 4.54, 6.16, 4.3, 4.24, 4.779999999999999, 5.38, 3.76, 6.3999999999999995, 5.74, 4.48, 4.96, 5.32, 3.46, 3.52, 5.2, 5.32, 5.62, 5.56, 5.02, 6.1, 4.96, 4.24, 5.32, 5.08, 6.1, 5.56, 4.72, 4.6, 4.48, 4.359999999999999, 4.84, 5.5, 5.32, 5.9799999999999995, 7.0, 4.359999999999999, 4.96, 5.26, 5.02, 5.56, 6.76, 5.08, 5.8, 6.22, 4.12, 5.92, 3.82, 4.9, 6.04, 5.74, 4.12, 3.46, 5.38, 5.9799999999999995, 4.9, 5.92, 5.56, 5.74, 3.16, 2.98, 3.6999999999999997, 4.48, 5.8, 5.74, 5.38, 4.72, 5.38, 5.2, 4.66, 5.5, 5.08, 3.94, 4.84, 5.38, 5.08, 6.46, 5.08, 5.08, 4.359999999999999, 6.16, 5.14, 4.42, 4.96, 5.2, 5.4399999999999995, 4.359999999999999, 3.6999999999999997, 4.42, 3.6999999999999997, 4.48, 4.0600000000000005, 3.82, 3.28, 5.68, 5.14, 3.2199999999999998, 4.0600000000000005, 6.3999999999999995, 6.3999999999999995, 4.0600000000000005, 4.48, 4.96, 6.64, 2.1399999999999997, 5.14, 4.359999999999999, 3.76, 5.92, 4.42, 7.0, 5.859999999999999, 4.24, 6.46, 5.8, 6.04, 5.2, 4.12, 5.08, 5.38, 5.68, 5.74, 5.2, 6.04, 5.4399999999999995, 5.14, 5.5, 5.2, 5.08, 3.6399999999999997, 5.14, 5.08, 5.08, 6.34, 5.32, 4.9, 4.96, 5.14, 5.38, 5.32, 5.92, 5.14, 5.14, 5.62, 5.38, 5.32, 5.62, 6.16, 5.5, 5.8, 4.24, 5.08, 6.58, 5.38, 6.52, 5.4399999999999995, 6.88, 5.2, 5.38, 5.5, 5.62, 5.859999999999999, 4.12, 4.0600000000000005, 4.0600000000000005, 6.76, 4.72, 5.4399999999999995, 5.5, 4.66, 5.02, 5.62, 3.6399999999999997, 5.02, 4.72, 7.0, 6.34, 5.8, 5.68, 5.62, 4.66, 5.32, 5.02, 6.16, 4.66, 5.8, 5.02, 4.18, 4.3, 6.22, 5.26, 4.54, 4.0, 5.859999999999999, 5.14, 5.4399999999999995, 4.24, 4.3, 4.6, 6.76, 6.58, 5.26, 6.46, 3.52, 5.9799999999999995, 4.96, 5.859999999999999, 3.46, 4.359999999999999, 5.62, 4.48, 4.96, 4.12, 3.82, 3.46, 5.08, 4.779999999999999, 4.72, 5.26, 3.34, 5.8, 4.66, 5.2, 5.32, 6.34, 5.859999999999999, 3.88, 4.6, 4.3, 4.24, 6.16, 5.2, 5.38, 5.32, 3.82, 3.28, 6.279999999999999, 2.32, 5.8, 4.96, 5.8, 5.9799999999999995, 4.0, 6.22, 6.1, 6.22, 6.1, 6.22, 5.2, 5.02, 5.2, 4.66, 4.0600000000000005, 4.66, 3.88, 4.42, 6.22, 6.34, 4.9, 4.12, 5.8, 6.279999999999999, 4.12, 4.359999999999999, 5.8, 5.08, 3.82, 4.0600000000000005, 5.8, 5.38, 5.08, 6.34, 6.16, 5.2, 4.42, 5.62, 5.14, 5.8, 5.38, 4.779999999999999, 5.68, 5.56, 5.38, 4.12, 4.96, 5.4399999999999995, 4.6, 5.92, 4.9, 3.76, 5.14, 5.56, 3.76, 5.32, 4.0600000000000005, 6.04, 6.1, 4.6, 5.8, 4.9, 4.48, 4.84, 4.48, 5.9799999999999995, 6.46, 5.8, 4.96, 4.84, 4.96, 7.0, 2.38, 4.72, 4.84, 4.9, 5.92, 6.46, 5.5, 5.14, 4.84, 3.58, 5.14, 3.82, 5.4399999999999995, 4.42, 3.88, 4.359999999999999, 6.64, 6.46, 4.42, 5.56, 4.0, 4.779999999999999, 5.74, 3.6399999999999997, 6.7, 5.26, 4.42, 3.46, 4.72, 5.08, 3.58, 4.24, 4.9, 5.56, 3.82, 4.84, 5.5, 5.68, 5.38, 4.42, 6.7, 4.96, 3.28, 5.56, 5.74, 5.92, 6.1, 4.9, 6.16, 5.38, 4.9, 5.56, 5.2, 3.94, 4.0600000000000005, 3.88, 5.8, 5.38, 4.9, 5.92, 4.54, 5.38, 6.04, 5.62, 5.5, 5.08, 6.279999999999999, 6.16, 4.0600000000000005, 4.72, 5.74, 4.24, 3.2199999999999998, 4.72, 5.56, 6.34, 6.819999999999999, 5.08, 6.52, 4.3, 5.08, 4.6, 5.26, 6.279999999999999, 5.5, 4.18, 5.38, 6.46, 3.58, 5.859999999999999, 5.4399999999999995, 3.16, 5.2, 5.5, 6.58, 4.0, 4.12, 3.52, 4.84, 4.18, 4.18, 4.0600000000000005, 4.18, 3.04, 6.52, 4.48, 5.32, 5.56, 4.96, 7.0, 3.28, 4.66, 5.26, 6.22, 6.1, 6.52, 4.359999999999999, 4.0, 3.88, 5.92, 5.62, 4.779999999999999, 4.12, 6.34, 4.24, 5.9799999999999995, 4.24, 4.96, 5.14, 4.359999999999999, 5.9799999999999995, 7.0, 6.22, 5.74, 5.5, 5.68, 5.92, 6.04, 5.08, 5.68, 4.12, 4.72, 5.92, 5.4399999999999995, 5.2, 3.6399999999999997, 4.96, 5.68, 6.58, 3.6399999999999997, 4.66, 4.3, 5.26, 5.32, 3.88, 6.88, 3.58, 4.96, 4.24, 4.54, 5.26, 6.04, 5.32, 3.4, 4.48, 5.2, 6.64, 5.32, 5.4399999999999995, 4.12, 7.0, 4.24, 5.08, 5.5, 5.859999999999999, 4.54, 4.18, 6.3999999999999995, 5.38, 7.0, 4.0600000000000005, 5.92, 7.0, 4.66, 5.32, 5.56, 3.76, 6.7, 4.72, 6.58, 5.08, 5.74, 4.18, 4.0600000000000005, 3.94, 6.04, 4.779999999999999, 5.68, 5.4399999999999995, 5.62, 4.359999999999999, 4.6, 6.3999999999999995, 5.92, 6.1, 4.84, 5.2, 3.6999999999999997, 5.14, 5.56, 4.0600000000000005, 4.6, 3.16, 3.6999999999999997, 5.2, 3.58, 5.14, 6.819999999999999, 5.4399999999999995, 3.58, 5.32, 4.72, 4.84, 5.92, 3.58, 4.6, 4.9, 5.2, 3.1, 5.62, 5.8, 3.94, 5.4399999999999995, 4.18, 4.18, 5.62, 6.7, 3.94, 5.5, 6.7, 3.04, 5.68, 5.92, 4.12, 5.4399999999999995, 6.34, 4.6, 4.48, 4.24, 4.42, 5.02, 5.4399999999999995, 6.3999999999999995, 5.02, 4.66, 5.8, 4.72, 3.46, 3.6399999999999997, 4.42, 4.0, 5.38, 6.04, 5.2, 4.42, 5.26, 5.38, 5.859999999999999, 4.66, 5.74, 3.52, 6.7, 4.72, 5.9799999999999995, 4.779999999999999, 5.26, 6.1, 5.74, 5.4399999999999995, 4.18, 5.56, 4.24, 4.6, 4.48, 5.68, 3.04, 5.62, 2.62, 3.76, 6.16, 5.14, 4.66, 6.9399999999999995, 3.94, 5.56, 4.9, 4.96, 5.56, 4.12, 5.68, 6.16, 5.859999999999999, 4.96, 5.62, 4.3, 4.779999999999999, 5.8, 3.82, 5.74, 3.28, 5.8, 4.42, 3.46, 4.84, 5.5, 5.08, 4.24, 5.62, 5.8, 4.54, 5.5, 4.48, 3.28, 5.4399999999999995, 4.12, 4.96, 5.4399999999999995, 4.3, 5.74, 4.3, 4.3, 4.84, 5.859999999999999, 4.3, 4.72, 5.92, 5.4399999999999995, 5.08, 4.84, 6.279999999999999, 5.38, 5.9799999999999995, 4.3, 5.62, 5.74, 1.9, 6.04, 4.779999999999999, 4.9, 4.359999999999999, 4.66, 5.68, 6.58, 6.22, 6.04, 5.02, 6.76, 5.5, 5.02, 6.34, 5.08, 5.68, 5.9799999999999995, 6.3999999999999995, 3.58, 4.96, 6.16, 6.64, 4.12, 4.6, 4.72, 6.9399999999999995, 5.56, 4.3, 4.54, 4.42, 4.54, 5.74, 6.279999999999999, 5.56, 5.4399999999999995, 4.779999999999999, 3.58, 4.0600000000000005, 4.6, 4.9, 3.34, 5.859999999999999, 5.74, 5.2, 4.66, 6.64, 5.2, 5.02, 4.84, 5.14, 6.04, 5.56, 5.32, 7.0, 4.96, 5.92, 5.2, 4.24, 5.68, 3.4, 4.84, 5.02, 5.14, 5.14, 5.38, 5.02, 5.32, 4.72, 5.02, 6.279999999999999, 4.0600000000000005, 4.9, 4.18, 5.26, 6.46, 4.72, 2.6799999999999997, 6.04, 4.18, 4.84, 5.02, 3.52, 2.98, 5.14, 4.42, 5.08, 5.92, 3.82, 4.12, 6.9399999999999995, 5.2, 5.02, 5.859999999999999, 5.08, 3.94, 5.8, 5.56, 5.02, 5.08, 5.859999999999999, 5.8, 4.779999999999999, 5.02, 3.52, 5.5, 5.62, 6.04, 5.08, 3.4, 4.6, 6.52, 5.62, 5.38, 4.0, 6.04, 5.62, 5.4399999999999995, 5.2, 4.0, 5.92, 4.9, 4.18, 5.02, 6.46, 5.32, 7.0, 5.62, 4.96, 3.88, 4.24, 6.58, 4.72, 5.26, 4.84, 6.04, 5.8, 5.32, 4.24, 5.8, 4.84, 4.54, 5.4399999999999995, 1.6, 4.72, 5.859999999999999, 5.859999999999999, 4.84, 7.0, 3.94, 3.6399999999999997, 5.859999999999999, 4.24, 5.08, 6.279999999999999, 6.52, 4.72, 6.3999999999999995, 4.54, 6.52, 5.4399999999999995, 4.359999999999999, 4.24, 6.3999999999999995, 3.76, 3.94, 4.18, 2.92, 5.68, 5.68, 5.02, 5.92, 5.4399999999999995, 5.5, 6.9399999999999995, 5.2, 5.74, 5.02, 5.2, 5.5, 5.8, 3.58, 2.8, 5.26, 3.16, 5.859999999999999, 4.72, 5.56], \"xaxis\": \"x\", \"yaxis\": \"y\"}],                        {\"barmode\": \"relative\", \"legend\": {\"title\": {\"text\": \"variable\"}, \"tracegroupgap\": 0}, \"margin\": {\"t\": 60}, \"template\": {\"data\": {\"bar\": [{\"error_x\": {\"color\": \"#2a3f5f\"}, \"error_y\": {\"color\": \"#2a3f5f\"}, \"marker\": {\"line\": {\"color\": \"#E5ECF6\", \"width\": 0.5}}, \"type\": \"bar\"}], \"barpolar\": [{\"marker\": {\"line\": {\"color\": \"#E5ECF6\", \"width\": 0.5}}, \"type\": \"barpolar\"}], \"carpet\": [{\"aaxis\": {\"endlinecolor\": \"#2a3f5f\", \"gridcolor\": \"white\", \"linecolor\": \"white\", \"minorgridcolor\": \"white\", \"startlinecolor\": \"#2a3f5f\"}, \"baxis\": {\"endlinecolor\": \"#2a3f5f\", \"gridcolor\": \"white\", \"linecolor\": \"white\", \"minorgridcolor\": \"white\", \"startlinecolor\": \"#2a3f5f\"}, \"type\": \"carpet\"}], \"choropleth\": [{\"colorbar\": {\"outlinewidth\": 0, \"ticks\": \"\"}, \"type\": \"choropleth\"}], \"contour\": [{\"colorbar\": {\"outlinewidth\": 0, \"ticks\": \"\"}, \"colorscale\": [[0.0, \"#0d0887\"], [0.1111111111111111, \"#46039f\"], [0.2222222222222222, \"#7201a8\"], [0.3333333333333333, \"#9c179e\"], [0.4444444444444444, \"#bd3786\"], [0.5555555555555556, \"#d8576b\"], [0.6666666666666666, \"#ed7953\"], [0.7777777777777778, \"#fb9f3a\"], [0.8888888888888888, \"#fdca26\"], [1.0, \"#f0f921\"]], \"type\": \"contour\"}], \"contourcarpet\": [{\"colorbar\": {\"outlinewidth\": 0, \"ticks\": \"\"}, \"type\": \"contourcarpet\"}], \"heatmap\": [{\"colorbar\": {\"outlinewidth\": 0, \"ticks\": \"\"}, \"colorscale\": [[0.0, \"#0d0887\"], [0.1111111111111111, \"#46039f\"], [0.2222222222222222, \"#7201a8\"], [0.3333333333333333, \"#9c179e\"], [0.4444444444444444, \"#bd3786\"], [0.5555555555555556, \"#d8576b\"], [0.6666666666666666, \"#ed7953\"], [0.7777777777777778, \"#fb9f3a\"], [0.8888888888888888, \"#fdca26\"], [1.0, \"#f0f921\"]], \"type\": \"heatmap\"}], \"heatmapgl\": [{\"colorbar\": {\"outlinewidth\": 0, \"ticks\": \"\"}, \"colorscale\": [[0.0, \"#0d0887\"], [0.1111111111111111, \"#46039f\"], [0.2222222222222222, \"#7201a8\"], [0.3333333333333333, \"#9c179e\"], [0.4444444444444444, \"#bd3786\"], [0.5555555555555556, \"#d8576b\"], [0.6666666666666666, \"#ed7953\"], [0.7777777777777778, \"#fb9f3a\"], [0.8888888888888888, \"#fdca26\"], [1.0, \"#f0f921\"]], \"type\": \"heatmapgl\"}], \"histogram\": [{\"marker\": {\"colorbar\": {\"outlinewidth\": 0, \"ticks\": \"\"}}, \"type\": \"histogram\"}], \"histogram2d\": [{\"colorbar\": {\"outlinewidth\": 0, \"ticks\": \"\"}, \"colorscale\": [[0.0, \"#0d0887\"], [0.1111111111111111, \"#46039f\"], [0.2222222222222222, \"#7201a8\"], [0.3333333333333333, \"#9c179e\"], [0.4444444444444444, \"#bd3786\"], [0.5555555555555556, \"#d8576b\"], [0.6666666666666666, \"#ed7953\"], [0.7777777777777778, \"#fb9f3a\"], [0.8888888888888888, \"#fdca26\"], [1.0, \"#f0f921\"]], \"type\": \"histogram2d\"}], \"histogram2dcontour\": [{\"colorbar\": {\"outlinewidth\": 0, \"ticks\": \"\"}, \"colorscale\": [[0.0, \"#0d0887\"], [0.1111111111111111, \"#46039f\"], [0.2222222222222222, \"#7201a8\"], [0.3333333333333333, \"#9c179e\"], [0.4444444444444444, \"#bd3786\"], [0.5555555555555556, \"#d8576b\"], [0.6666666666666666, \"#ed7953\"], [0.7777777777777778, \"#fb9f3a\"], [0.8888888888888888, \"#fdca26\"], [1.0, \"#f0f921\"]], \"type\": \"histogram2dcontour\"}], \"mesh3d\": [{\"colorbar\": {\"outlinewidth\": 0, \"ticks\": \"\"}, \"type\": \"mesh3d\"}], \"parcoords\": [{\"line\": {\"colorbar\": {\"outlinewidth\": 0, \"ticks\": \"\"}}, \"type\": \"parcoords\"}], \"pie\": [{\"automargin\": true, \"type\": \"pie\"}], \"scatter\": [{\"marker\": {\"colorbar\": {\"outlinewidth\": 0, \"ticks\": \"\"}}, \"type\": \"scatter\"}], \"scatter3d\": [{\"line\": {\"colorbar\": {\"outlinewidth\": 0, \"ticks\": \"\"}}, \"marker\": {\"colorbar\": {\"outlinewidth\": 0, \"ticks\": \"\"}}, \"type\": \"scatter3d\"}], \"scattercarpet\": [{\"marker\": {\"colorbar\": {\"outlinewidth\": 0, \"ticks\": \"\"}}, \"type\": \"scattercarpet\"}], \"scattergeo\": [{\"marker\": {\"colorbar\": {\"outlinewidth\": 0, \"ticks\": \"\"}}, \"type\": \"scattergeo\"}], \"scattergl\": [{\"marker\": {\"colorbar\": {\"outlinewidth\": 0, \"ticks\": \"\"}}, \"type\": \"scattergl\"}], \"scattermapbox\": [{\"marker\": {\"colorbar\": {\"outlinewidth\": 0, \"ticks\": \"\"}}, \"type\": \"scattermapbox\"}], \"scatterpolar\": [{\"marker\": {\"colorbar\": {\"outlinewidth\": 0, \"ticks\": \"\"}}, \"type\": \"scatterpolar\"}], \"scatterpolargl\": [{\"marker\": {\"colorbar\": {\"outlinewidth\": 0, \"ticks\": \"\"}}, \"type\": \"scatterpolargl\"}], \"scatterternary\": [{\"marker\": {\"colorbar\": {\"outlinewidth\": 0, \"ticks\": \"\"}}, \"type\": \"scatterternary\"}], \"surface\": [{\"colorbar\": {\"outlinewidth\": 0, \"ticks\": \"\"}, \"colorscale\": [[0.0, \"#0d0887\"], [0.1111111111111111, \"#46039f\"], [0.2222222222222222, \"#7201a8\"], [0.3333333333333333, \"#9c179e\"], [0.4444444444444444, \"#bd3786\"], [0.5555555555555556, \"#d8576b\"], [0.6666666666666666, \"#ed7953\"], [0.7777777777777778, \"#fb9f3a\"], [0.8888888888888888, \"#fdca26\"], [1.0, \"#f0f921\"]], \"type\": \"surface\"}], \"table\": [{\"cells\": {\"fill\": {\"color\": \"#EBF0F8\"}, \"line\": {\"color\": \"white\"}}, \"header\": {\"fill\": {\"color\": \"#C8D4E3\"}, \"line\": {\"color\": \"white\"}}, \"type\": \"table\"}]}, \"layout\": {\"annotationdefaults\": {\"arrowcolor\": \"#2a3f5f\", \"arrowhead\": 0, \"arrowwidth\": 1}, \"autotypenumbers\": \"strict\", \"coloraxis\": {\"colorbar\": {\"outlinewidth\": 0, \"ticks\": \"\"}}, \"colorscale\": {\"diverging\": [[0, \"#8e0152\"], [0.1, \"#c51b7d\"], [0.2, \"#de77ae\"], [0.3, \"#f1b6da\"], [0.4, \"#fde0ef\"], [0.5, \"#f7f7f7\"], [0.6, \"#e6f5d0\"], [0.7, \"#b8e186\"], [0.8, \"#7fbc41\"], [0.9, \"#4d9221\"], [1, \"#276419\"]], \"sequential\": [[0.0, \"#0d0887\"], [0.1111111111111111, \"#46039f\"], [0.2222222222222222, \"#7201a8\"], [0.3333333333333333, \"#9c179e\"], [0.4444444444444444, \"#bd3786\"], [0.5555555555555556, \"#d8576b\"], [0.6666666666666666, \"#ed7953\"], [0.7777777777777778, \"#fb9f3a\"], [0.8888888888888888, \"#fdca26\"], [1.0, \"#f0f921\"]], \"sequentialminus\": [[0.0, \"#0d0887\"], [0.1111111111111111, \"#46039f\"], [0.2222222222222222, \"#7201a8\"], [0.3333333333333333, \"#9c179e\"], [0.4444444444444444, \"#bd3786\"], [0.5555555555555556, \"#d8576b\"], [0.6666666666666666, \"#ed7953\"], [0.7777777777777778, \"#fb9f3a\"], [0.8888888888888888, \"#fdca26\"], [1.0, \"#f0f921\"]]}, \"colorway\": [\"#636efa\", \"#EF553B\", \"#00cc96\", \"#ab63fa\", \"#FFA15A\", \"#19d3f3\", \"#FF6692\", \"#B6E880\", \"#FF97FF\", \"#FECB52\"], \"font\": {\"color\": \"#2a3f5f\"}, \"geo\": {\"bgcolor\": \"white\", \"lakecolor\": \"white\", \"landcolor\": \"#E5ECF6\", \"showlakes\": true, \"showland\": true, \"subunitcolor\": \"white\"}, \"hoverlabel\": {\"align\": \"left\"}, \"hovermode\": \"closest\", \"mapbox\": {\"style\": \"light\"}, \"paper_bgcolor\": \"white\", \"plot_bgcolor\": \"#E5ECF6\", \"polar\": {\"angularaxis\": {\"gridcolor\": \"white\", \"linecolor\": \"white\", \"ticks\": \"\"}, \"bgcolor\": \"#E5ECF6\", \"radialaxis\": {\"gridcolor\": \"white\", \"linecolor\": \"white\", \"ticks\": \"\"}}, \"scene\": {\"xaxis\": {\"backgroundcolor\": \"#E5ECF6\", \"gridcolor\": \"white\", \"gridwidth\": 2, \"linecolor\": \"white\", \"showbackground\": true, \"ticks\": \"\", \"zerolinecolor\": \"white\"}, \"yaxis\": {\"backgroundcolor\": \"#E5ECF6\", \"gridcolor\": \"white\", \"gridwidth\": 2, \"linecolor\": \"white\", \"showbackground\": true, \"ticks\": \"\", \"zerolinecolor\": \"white\"}, \"zaxis\": {\"backgroundcolor\": \"#E5ECF6\", \"gridcolor\": \"white\", \"gridwidth\": 2, \"linecolor\": \"white\", \"showbackground\": true, \"ticks\": \"\", \"zerolinecolor\": \"white\"}}, \"shapedefaults\": {\"line\": {\"color\": \"#2a3f5f\"}}, \"ternary\": {\"aaxis\": {\"gridcolor\": \"white\", \"linecolor\": \"white\", \"ticks\": \"\"}, \"baxis\": {\"gridcolor\": \"white\", \"linecolor\": \"white\", \"ticks\": \"\"}, \"bgcolor\": \"#E5ECF6\", \"caxis\": {\"gridcolor\": \"white\", \"linecolor\": \"white\", \"ticks\": \"\"}}, \"title\": {\"x\": 0.05}, \"xaxis\": {\"automargin\": true, \"gridcolor\": \"white\", \"linecolor\": \"white\", \"ticks\": \"\", \"title\": {\"standoff\": 15}, \"zerolinecolor\": \"white\", \"zerolinewidth\": 2}, \"yaxis\": {\"automargin\": true, \"gridcolor\": \"white\", \"linecolor\": \"white\", \"ticks\": \"\", \"title\": {\"standoff\": 15}, \"zerolinecolor\": \"white\", \"zerolinewidth\": 2}}}, \"xaxis\": {\"anchor\": \"y\", \"domain\": [0.0, 1.0], \"title\": {\"text\": \"value\"}}, \"yaxis\": {\"anchor\": \"x\", \"domain\": [0.0, 1.0], \"title\": {\"text\": \"count\"}}},                        {\"responsive\": true}                    ).then(function(){\n",
              "                            \n",
              "var gd = document.getElementById('165305be-4388-4d3b-92df-97e24c717d97');\n",
              "var x = new MutationObserver(function (mutations, observer) {{\n",
              "        var display = window.getComputedStyle(gd).display;\n",
              "        if (!display || display === 'none') {{\n",
              "            console.log([gd, 'removed!']);\n",
              "            Plotly.purge(gd);\n",
              "            observer.disconnect();\n",
              "        }}\n",
              "}});\n",
              "\n",
              "// Listen for the removal of the full notebook cells\n",
              "var notebookContainer = gd.closest('#notebook-container');\n",
              "if (notebookContainer) {{\n",
              "    x.observe(notebookContainer, {childList: true});\n",
              "}}\n",
              "\n",
              "// Listen for the clearing of the current output cell\n",
              "var outputEl = gd.closest('.output');\n",
              "if (outputEl) {{\n",
              "    x.observe(outputEl, {childList: true});\n",
              "}}\n",
              "\n",
              "                        })                };                            </script>        </div>\n",
              "</body>\n",
              "</html>"
            ]
          },
          "metadata": {
            "tags": []
          }
        }
      ]
    },
    {
      "cell_type": "markdown",
      "metadata": {
        "id": "5OK5ZBip0TCk"
      },
      "source": [
        "> ¿Cuál es la asignatura que más les cuesta a los alumnos de la universidad de la Cachaña?"
      ]
    },
    {
      "cell_type": "markdown",
      "metadata": {
        "id": "4TSEgQp-0Jza"
      },
      "source": [
        "**Comente:**"
      ]
    },
    {
      "cell_type": "markdown",
      "metadata": {
        "id": "sCy8Eda90MNO"
      },
      "source": [
        "La asignatura que más le cuesta a los alumnos es matemáticas, esto se puede ver al estudiar los hitogramas, notando que la distribución de 'math' está orrida un poco más a la izquierda que las demás."
      ]
    },
    {
      "cell_type": "markdown",
      "metadata": {
        "id": "PtnBYR8vs0e7"
      },
      "source": [
        "### 1.4.2 Otras Visualizaciones"
      ]
    },
    {
      "cell_type": "markdown",
      "metadata": {
        "id": "4f1PIBgMDt5H"
      },
      "source": [
        "Genere dos visualizaciones extras que encuentre interesantes con estos datos. Agrupe los atributos que estime convenientes.\n",
        "\n",
        "\n",
        "**To-Do:**\n",
        "- [ ] Generar dos nuevas visualizaciones con los datos."
      ]
    },
    {
      "cell_type": "code",
      "metadata": {
        "id": "zbmipI7AYAs7",
        "colab": {
          "base_uri": "https://localhost:8080/",
          "height": 419
        },
        "outputId": "ed3facc7-b060-4aea-a12c-f02d10ef5437"
      },
      "source": [
        "df_melt2 = pd.melt(df_grades, id_vars = ['names','gender'], value_vars = ['promedio'])\n",
        "display(df_melt2)"
      ],
      "execution_count": 94,
      "outputs": [
        {
          "output_type": "display_data",
          "data": {
            "text/html": [
              "<div>\n",
              "<style scoped>\n",
              "    .dataframe tbody tr th:only-of-type {\n",
              "        vertical-align: middle;\n",
              "    }\n",
              "\n",
              "    .dataframe tbody tr th {\n",
              "        vertical-align: top;\n",
              "    }\n",
              "\n",
              "    .dataframe thead th {\n",
              "        text-align: right;\n",
              "    }\n",
              "</style>\n",
              "<table border=\"1\" class=\"dataframe\">\n",
              "  <thead>\n",
              "    <tr style=\"text-align: right;\">\n",
              "      <th></th>\n",
              "      <th>names</th>\n",
              "      <th>gender</th>\n",
              "      <th>variable</th>\n",
              "      <th>value</th>\n",
              "    </tr>\n",
              "  </thead>\n",
              "  <tbody>\n",
              "    <tr>\n",
              "      <th>0</th>\n",
              "      <td>Rita Courtney</td>\n",
              "      <td>female</td>\n",
              "      <td>promedio</td>\n",
              "      <td>3.58</td>\n",
              "    </tr>\n",
              "    <tr>\n",
              "      <th>1</th>\n",
              "      <td>Charles Linstrom</td>\n",
              "      <td>male</td>\n",
              "      <td>promedio</td>\n",
              "      <td>5.78</td>\n",
              "    </tr>\n",
              "    <tr>\n",
              "      <th>2</th>\n",
              "      <td>Brian Young</td>\n",
              "      <td>male</td>\n",
              "      <td>promedio</td>\n",
              "      <td>5.04</td>\n",
              "    </tr>\n",
              "    <tr>\n",
              "      <th>3</th>\n",
              "      <td>Howard Jimenez</td>\n",
              "      <td>male</td>\n",
              "      <td>promedio</td>\n",
              "      <td>5.64</td>\n",
              "    </tr>\n",
              "    <tr>\n",
              "      <th>4</th>\n",
              "      <td>Wayne Wilson</td>\n",
              "      <td>male</td>\n",
              "      <td>promedio</td>\n",
              "      <td>6.34</td>\n",
              "    </tr>\n",
              "    <tr>\n",
              "      <th>...</th>\n",
              "      <td>...</td>\n",
              "      <td>...</td>\n",
              "      <td>...</td>\n",
              "      <td>...</td>\n",
              "    </tr>\n",
              "    <tr>\n",
              "      <th>995</th>\n",
              "      <td>Richard Young</td>\n",
              "      <td>male</td>\n",
              "      <td>promedio</td>\n",
              "      <td>5.30</td>\n",
              "    </tr>\n",
              "    <tr>\n",
              "      <th>996</th>\n",
              "      <td>Wanda Russell</td>\n",
              "      <td>female</td>\n",
              "      <td>promedio</td>\n",
              "      <td>3.06</td>\n",
              "    </tr>\n",
              "    <tr>\n",
              "      <th>997</th>\n",
              "      <td>Marina Zeigler</td>\n",
              "      <td>female</td>\n",
              "      <td>promedio</td>\n",
              "      <td>5.42</td>\n",
              "    </tr>\n",
              "    <tr>\n",
              "      <th>998</th>\n",
              "      <td>Laurie Carter</td>\n",
              "      <td>female</td>\n",
              "      <td>promedio</td>\n",
              "      <td>4.54</td>\n",
              "    </tr>\n",
              "    <tr>\n",
              "      <th>999</th>\n",
              "      <td>Amanda Perez</td>\n",
              "      <td>female</td>\n",
              "      <td>promedio</td>\n",
              "      <td>5.48</td>\n",
              "    </tr>\n",
              "  </tbody>\n",
              "</table>\n",
              "<p>1000 rows × 4 columns</p>\n",
              "</div>"
            ],
            "text/plain": [
              "                names  gender  variable  value\n",
              "0       Rita Courtney  female  promedio   3.58\n",
              "1    Charles Linstrom    male  promedio   5.78\n",
              "2         Brian Young    male  promedio   5.04\n",
              "3      Howard Jimenez    male  promedio   5.64\n",
              "4        Wayne Wilson    male  promedio   6.34\n",
              "..                ...     ...       ...    ...\n",
              "995     Richard Young    male  promedio   5.30\n",
              "996     Wanda Russell  female  promedio   3.06\n",
              "997    Marina Zeigler  female  promedio   5.42\n",
              "998     Laurie Carter  female  promedio   4.54\n",
              "999      Amanda Perez  female  promedio   5.48\n",
              "\n",
              "[1000 rows x 4 columns]"
            ]
          },
          "metadata": {
            "tags": []
          }
        }
      ]
    },
    {
      "cell_type": "code",
      "metadata": {
        "colab": {
          "base_uri": "https://localhost:8080/",
          "height": 542
        },
        "id": "0uH_nKLTCHL2",
        "outputId": "c5ae07eb-6a1a-48b0-9623-2c7a19738a03"
      },
      "source": [
        "fig = px.histogram(df_melt2, x=\"value\", color=\"gender\", barmode = 'overlay')\n",
        "fig.show()"
      ],
      "execution_count": 97,
      "outputs": [
        {
          "output_type": "display_data",
          "data": {
            "text/html": [
              "<html>\n",
              "<head><meta charset=\"utf-8\" /></head>\n",
              "<body>\n",
              "    <div>            <script src=\"https://cdnjs.cloudflare.com/ajax/libs/mathjax/2.7.5/MathJax.js?config=TeX-AMS-MML_SVG\"></script><script type=\"text/javascript\">if (window.MathJax) {MathJax.Hub.Config({SVG: {font: \"STIX-Web\"}});}</script>                <script type=\"text/javascript\">window.PlotlyConfig = {MathJaxConfig: 'local'};</script>\n",
              "        <script src=\"https://cdn.plot.ly/plotly-latest.min.js\"></script>                <div id=\"219c2cd7-9acb-48fd-92b5-718a8253ff6f\" class=\"plotly-graph-div\" style=\"height:525px; width:100%;\"></div>            <script type=\"text/javascript\">                                    window.PLOTLYENV=window.PLOTLYENV || {};                                    if (document.getElementById(\"219c2cd7-9acb-48fd-92b5-718a8253ff6f\")) {                    Plotly.newPlot(                        \"219c2cd7-9acb-48fd-92b5-718a8253ff6f\",                        [{\"alignmentgroup\": \"True\", \"bingroup\": \"x\", \"hovertemplate\": \"gender=female<br>value=%{x}<br>count=%{y}<extra></extra>\", \"legendgroup\": \"female\", \"marker\": {\"color\": \"#636efa\", \"opacity\": 0.5}, \"name\": \"female\", \"offsetgroup\": \"female\", \"orientation\": \"v\", \"showlegend\": true, \"type\": \"histogram\", \"x\": [3.5799999999999996, 3.4599999999999995, 5.5, 4.96, 5.1000000000000005, 6.859999999999999, 5.38, 4.24, 5.02, 5.539999999999999, 6.14, 5.96, 5.34, 4.0600000000000005, 4.6, 4.3999999999999995, 5.66, 4.92, 4.999999999999999, 4.88, 4.5200000000000005, 5.62, 5.14, 4.359999999999999, 6.239999999999999, 6.080000000000001, 6.32, 3.76, 4.8999999999999995, 5.1, 5.539999999999999, 6.359999999999999, 5.12, 6.06, 5.460000000000001, 5.359999999999999, 5.22, 4.5200000000000005, 5.1000000000000005, 4.1000000000000005, 5.22, 5.919999999999999, 6.859999999999999, 4.84, 5.84, 5.52, 5.52, 5.08, 5.16, 4.26, 6.0, 5.46, 5.46, 4.22, 6.420000000000001, 4.94, 5.580000000000001, 4.46, 5.319999999999999, 4.739999999999999, 5.44, 5.180000000000001, 5.5, 5.84, 4.8, 3.5400000000000005, 2.78, 5.38, 4.36, 4.359999999999999, 4.1, 6.12, 5.319999999999999, 6.539999999999999, 6.239999999999999, 4.58, 3.64, 4.16, 4.94, 5.319999999999999, 4.34, 5.98, 6.640000000000001, 5.04, 4.580000000000001, 5.14, 5.3999999999999995, 5.5, 5.14, 6.04, 3.9600000000000004, 4.98, 5.14, 4.38, 4.28, 4.6000000000000005, 5.72, 6.94, 4.84, 4.68, 5.260000000000001, 6.3, 6.14, 4.140000000000001, 5.94, 4.72, 5.640000000000001, 5.32, 5.599999999999999, 5.64, 2.8800000000000003, 4.32, 4.5, 5.079999999999999, 4.920000000000001, 4.58, 5.3, 6.12, 4.0, 5.2, 5.119999999999999, 4.3, 4.22, 4.000000000000001, 3.34, 2.9, 5.46, 4.16, 6.219999999999999, 4.8999999999999995, 3.6799999999999997, 4.22, 7.0, 5.56, 6.080000000000001, 5.640000000000001, 4.78, 4.16, 5.54, 5.38, 4.88, 5.760000000000001, 5.14, 4.92, 4.88, 3.26, 4.72, 4.64, 6.32, 5.14, 4.82, 4.82, 5.82, 5.0, 6.080000000000001, 5.28, 5.419999999999999, 4.2, 6.3999999999999995, 6.419999999999999, 5.319999999999999, 6.38, 4.88, 5.46, 5.539999999999999, 6.8, 4.739999999999999, 5.04, 6.9799999999999995, 6.140000000000001, 5.56, 4.6000000000000005, 5.72, 4.1, 6.3, 4.58, 4.12, 5.38, 6.4799999999999995, 6.16, 5.739999999999999, 5.56, 4.34, 5.340000000000001, 4.98, 5.3, 4.78, 5.06, 5.96, 5.699999999999999, 4.06, 4.04, 6.06, 5.12, 5.94, 5.78, 5.88, 5.760000000000001, 5.84, 5.84, 6.04, 6.0, 4.319999999999999, 4.5, 5.68, 6.2, 5.62, 6.12, 4.359999999999999, 5.579999999999999, 4.72, 5.22, 5.46, 4.86, 4.28, 5.28, 5.279999999999999, 5.5200000000000005, 5.159999999999999, 3.9999999999999996, 5.56, 3.7399999999999998, 5.14, 3.9, 6.02, 5.5, 5.640000000000001, 5.68, 4.8999999999999995, 2.1, 4.819999999999999, 4.38, 4.579999999999999, 6.0, 5.26, 5.0, 3.94, 4.96, 4.18, 6.6000000000000005, 6.419999999999999, 5.359999999999999, 3.92, 5.739999999999999, 6.760000000000001, 5.12, 5.06, 4.02, 4.680000000000001, 5.48, 4.2, 4.859999999999999, 5.259999999999999, 5.8, 5.96, 4.5200000000000005, 5.02, 5.2, 3.8000000000000003, 5.78, 4.66, 4.52, 5.38, 5.6000000000000005, 4.94, 6.039999999999999, 4.62, 5.28, 6.22, 6.78, 6.46, 4.26, 5.939999999999999, 5.26, 4.08, 5.260000000000001, 6.239999999999999, 5.419999999999999, 4.76, 6.56, 3.9, 6.339999999999999, 5.539999999999999, 5.08, 6.78, 5.3999999999999995, 5.98, 5.760000000000001, 6.140000000000001, 4.419999999999999, 5.859999999999999, 6.3, 5.7, 4.7, 5.7, 6.739999999999999, 6.18, 5.4799999999999995, 5.22, 5.7, 6.0200000000000005, 4.96, 5.1, 4.6000000000000005, 6.3, 4.74, 5.38, 5.0, 6.28, 4.8999999999999995, 5.16, 5.079999999999999, 4.239999999999999, 5.0, 6.32, 4.94, 5.18, 6.599999999999999, 4.1, 5.359999999999999, 5.579999999999999, 4.38, 6.16, 6.84, 5.66, 6.84, 4.5, 5.34, 6.640000000000001, 4.739999999999999, 6.359999999999999, 5.72, 3.98, 4.0200000000000005, 5.8, 5.640000000000001, 5.26, 5.62, 5.96, 4.699999999999999, 3.6799999999999997, 5.34, 3.48, 4.54, 6.78, 3.44, 5.359999999999999, 4.8, 4.88, 5.44, 5.3, 5.36, 6.52, 5.54, 6.38, 5.2, 5.760000000000001, 4.08, 6.18, 4.36, 4.919999999999999, 6.039999999999999, 5.46, 4.68, 3.9599999999999995, 5.46, 6.22, 4.96, 4.46, 5.78, 6.5, 4.819999999999999, 5.98, 5.68, 5.8, 5.12, 4.3999999999999995, 4.22, 5.44, 5.2, 2.78, 5.739999999999999, 4.8, 6.82, 5.539999999999999, 5.4799999999999995, 4.5, 5.3999999999999995, 4.24, 4.54, 5.44, 3.4, 5.4799999999999995, 4.44, 4.260000000000001, 3.08, 5.5, 4.159999999999999, 5.28, 5.3999999999999995, 4.16, 4.0, 5.64, 5.7, 5.52, 4.78, 4.84, 5.64, 4.38, 5.359999999999999, 5.12, 5.9799999999999995, 4.739999999999999, 4.56, 5.239999999999999, 6.22, 6.079999999999999, 5.94, 5.22, 6.5, 4.84, 5.9799999999999995, 4.96, 5.72, 6.18, 3.34, 6.359999999999999, 6.359999999999999, 6.82, 4.56, 5.539999999999999, 5.94, 5.62, 4.96, 4.68, 3.64, 3.2999999999999994, 5.06, 6.3999999999999995, 5.239999999999999, 4.7, 4.72, 5.08, 5.7, 6.919999999999999, 5.62, 5.34, 4.0, 4.96, 4.8999999999999995, 4.640000000000001, 4.819999999999999, 6.199999999999999, 3.94, 4.78, 6.28, 4.46, 2.56, 5.72, 4.1000000000000005, 4.56, 3.08, 5.02, 5.08, 6.04, 6.94, 5.0, 5.0200000000000005, 5.2, 5.56, 5.0, 5.659999999999999, 4.44, 5.78, 4.88, 3.5199999999999996, 4.34, 6.5, 5.04, 5.460000000000001, 5.08, 5.699999999999999, 4.86, 5.28, 6.739999999999999, 5.319999999999999, 4.66, 4.2, 6.4799999999999995, 4.52, 4.859999999999999, 5.66, 5.079999999999999, 4.46, 5.16, 1.54, 4.88, 5.919999999999999, 5.72, 7.0, 4.12, 4.640000000000001, 5.94, 6.52, 5.359999999999999, 2.86, 5.5, 5.22, 5.56, 5.16, 4.96, 5.359999999999999, 3.6, 2.7600000000000002, 3.06, 5.419999999999999, 4.54, 5.4799999999999995], \"xaxis\": \"x\", \"yaxis\": \"y\"}, {\"alignmentgroup\": \"True\", \"bingroup\": \"x\", \"hovertemplate\": \"gender=male<br>value=%{x}<br>count=%{y}<extra></extra>\", \"legendgroup\": \"male\", \"marker\": {\"color\": \"#EF553B\", \"opacity\": 0.5}, \"name\": \"male\", \"offsetgroup\": \"male\", \"orientation\": \"v\", \"showlegend\": true, \"type\": \"histogram\", \"x\": [5.78, 5.039999999999999, 5.64, 6.34, 5.0200000000000005, 5.14, 4.7, 5.760000000000001, 4.7, 5.3999999999999995, 4.62, 5.199999999999999, 3.6799999999999997, 5.760000000000001, 4.68, 5.640000000000001, 5.94, 5.84, 4.8999999999999995, 5.1000000000000005, 4.44, 4.84, 4.68, 2.84, 4.68, 3.9600000000000004, 6.14, 2.8000000000000003, 5.16, 4.84, 5.420000000000001, 6.22, 4.64, 4.159999999999999, 4.34, 4.28, 6.34, 5.8999999999999995, 4.88, 6.56, 6.14, 6.199999999999999, 6.62, 4.74, 4.02, 5.88, 3.84, 5.44, 5.14, 4.78, 6.32, 4.859999999999999, 4.96, 4.7, 4.36, 6.239999999999999, 5.52, 3.78, 4.98, 4.06, 4.920000000000001, 3.78, 4.88, 4.78, 4.04, 5.2, 4.36, 4.74, 4.5200000000000005, 4.38, 5.5, 4.28, 5.38, 3.86, 5.9799999999999995, 6.44, 4.5, 4.76, 4.32, 4.24, 4.9799999999999995, 5.3999999999999995, 3.78, 4.64, 5.5, 3.9200000000000004, 3.8000000000000003, 5.12, 5.3, 5.3999999999999995, 6.02, 4.5, 4.28, 5.739999999999999, 5.46, 4.5, 5.62, 5.56, 5.96, 4.0, 5.94, 4.44, 3.8800000000000003, 5.04, 6.18, 5.82, 3.3200000000000003, 3.9, 5.82, 6.02, 5.579999999999999, 5.56, 4.84, 5.84, 4.08, 5.28, 5.02, 4.919999999999999, 6.260000000000001, 5.68, 4.3999999999999995, 5.08, 3.72, 4.5200000000000005, 4.06, 5.359999999999999, 3.5799999999999996, 4.36, 6.5, 6.34, 4.28, 5.12, 2.4, 4.4799999999999995, 6.22, 4.0200000000000005, 5.98, 5.34, 5.72, 5.699999999999999, 5.48, 4.92, 5.400000000000001, 5.14, 5.18, 5.52, 5.68, 5.4799999999999995, 5.38, 5.6000000000000005, 5.1000000000000005, 5.68, 5.2, 5.82, 4.36, 4.0200000000000005, 4.1000000000000005, 5.18, 5.38, 5.56, 5.06, 5.640000000000001, 4.1000000000000005, 4.82, 5.88, 5.66, 4.68, 5.38, 6.640000000000001, 4.760000000000001, 5.1, 4.56, 5.539999999999999, 5.1000000000000005, 5.38, 4.7, 4.44, 4.9399999999999995, 6.859999999999999, 5.64, 3.78, 5.14, 3.78, 4.54, 5.2, 4.260000000000001, 3.94, 3.6, 4.68, 5.02, 3.44, 5.82, 5.5, 4.1000000000000005, 4.96, 5.3999999999999995, 5.28, 4.14, 3.3800000000000003, 2.56, 4.86, 4.26, 6.16, 5.62, 5.279999999999999, 5.02, 4.04, 4.1000000000000005, 4.4799999999999995, 5.1000000000000005, 4.16, 4.420000000000001, 4.08, 4.46, 5.239999999999999, 6.159999999999999, 6.5, 5.6000000000000005, 5.400000000000001, 5.8999999999999995, 4.96, 4.300000000000001, 5.08, 5.72, 6.32, 5.16, 3.94, 5.26, 6.12, 4.82, 4.94, 4.739999999999999, 5.22, 4.82, 6.5, 5.0, 5.1000000000000005, 7.0, 6.1000000000000005, 5.3, 5.08, 3.86, 4.12, 4.34, 4.72, 4.86, 3.9, 4.6000000000000005, 3.6799999999999997, 4.78, 3.8800000000000003, 5.539999999999999, 3.7999999999999994, 4.859999999999999, 5.82, 5.1000000000000005, 6.64, 3.4599999999999995, 5.760000000000001, 5.8999999999999995, 5.1000000000000005, 5.580000000000001, 3.9, 4.14, 5.72, 6.239999999999999, 6.0, 5.239999999999999, 6.1000000000000005, 4.239999999999999, 4.28, 3.3799999999999994, 4.76, 5.14, 5.16, 4.919999999999999, 4.8999999999999995, 5.3, 3.6999999999999997, 5.319999999999999, 3.36, 5.94, 4.18, 4.08, 3.94, 5.18, 4.02, 4.32, 4.54, 3.2399999999999998, 4.62, 5.4799999999999995, 3.4, 5.2, 3.76, 4.22, 5.84, 5.04, 4.0200000000000005, 4.66, 4.22, 4.96, 4.62, 5.46, 6.199999999999999, 5.26, 5.94, 4.239999999999999, 5.12, 3.94, 5.68, 3.66, 4.44, 3.8000000000000003, 4.14, 4.46, 4.66, 6.18, 3.76, 4.54, 5.28, 4.419999999999999, 5.5, 4.54, 5.64, 4.14, 5.159999999999999, 4.32, 4.619999999999999, 4.46, 4.54, 6.4799999999999995, 5.960000000000001, 5.319999999999999, 5.28, 4.12, 4.6, 2.94, 4.06, 5.079999999999999, 5.78, 5.02, 5.859999999999999, 3.6, 4.96, 5.260000000000001, 3.3800000000000003, 5.7, 3.9800000000000004, 4.36, 4.5, 4.079999999999999, 3.28, 5.599999999999999, 4.72, 4.419999999999999, 4.5, 5.319999999999999, 5.38, 4.94, 3.84, 3.9199999999999995, 4.66, 4.88, 5.52, 5.68, 5.9799999999999995, 3.6199999999999997, 5.12, 5.419999999999999, 4.62, 5.7799999999999985, 4.3999999999999995, 3.3000000000000003, 3.9, 4.64, 3.82, 5.9799999999999995, 5.08, 4.88, 5.739999999999999, 4.28, 6.0, 4.28, 6.1000000000000005, 3.6199999999999997, 5.16, 5.1000000000000005, 5.239999999999999, 5.46, 5.5, 4.64, 5.579999999999999, 4.38, 5.079999999999999, 4.62, 4.84, 4.52, 4.8999999999999995, 5.12, 6.3, 2.38, 5.08, 4.52, 5.359999999999999, 5.8999999999999995, 4.8, 4.22, 4.8999999999999995, 4.86, 5.739999999999999, 4.56, 4.9799999999999995, 4.46, 3.8800000000000003, 4.34, 4.859999999999999, 6.039999999999999, 5.759999999999999, 4.8, 5.82, 5.640000000000001, 4.96, 5.739999999999999, 3.5999999999999996, 5.3999999999999995, 5.28, 5.3, 5.06, 5.2, 4.2, 5.640000000000001, 4.9399999999999995, 3.9800000000000004, 4.6, 4.02, 4.44, 6.18, 4.12, 5.94, 5.26, 5.8, 4.84, 3.6999999999999997, 5.62, 6.1000000000000005, 5.68, 4.659999999999999, 5.919999999999999, 5.68, 3.72, 4.6000000000000005, 5.12, 6.56, 3.8800000000000003, 5.44, 5.88, 4.56, 5.88, 5.06, 5.06, 4.44, 3.9599999999999995, 6.339999999999999, 5.26, 6.039999999999999, 6.579999999999999, 4.82, 4.62, 4.34, 6.259999999999999, 4.1000000000000005, 3.92, 4.54, 5.7799999999999985, 4.92, 5.82, 6.039999999999999, 6.919999999999999, 5.22, 5.199999999999999, 5.3], \"xaxis\": \"x\", \"yaxis\": \"y\"}],                        {\"barmode\": \"overlay\", \"legend\": {\"title\": {\"text\": \"gender\"}, \"tracegroupgap\": 0}, \"margin\": {\"t\": 60}, \"template\": {\"data\": {\"bar\": [{\"error_x\": {\"color\": \"#2a3f5f\"}, \"error_y\": {\"color\": \"#2a3f5f\"}, \"marker\": {\"line\": {\"color\": \"#E5ECF6\", \"width\": 0.5}}, \"type\": \"bar\"}], \"barpolar\": [{\"marker\": {\"line\": {\"color\": \"#E5ECF6\", \"width\": 0.5}}, \"type\": \"barpolar\"}], \"carpet\": [{\"aaxis\": {\"endlinecolor\": \"#2a3f5f\", \"gridcolor\": \"white\", \"linecolor\": \"white\", \"minorgridcolor\": \"white\", \"startlinecolor\": \"#2a3f5f\"}, \"baxis\": {\"endlinecolor\": \"#2a3f5f\", \"gridcolor\": \"white\", \"linecolor\": \"white\", \"minorgridcolor\": \"white\", \"startlinecolor\": \"#2a3f5f\"}, \"type\": \"carpet\"}], \"choropleth\": [{\"colorbar\": {\"outlinewidth\": 0, \"ticks\": \"\"}, \"type\": \"choropleth\"}], \"contour\": [{\"colorbar\": {\"outlinewidth\": 0, \"ticks\": \"\"}, \"colorscale\": [[0.0, \"#0d0887\"], [0.1111111111111111, \"#46039f\"], [0.2222222222222222, \"#7201a8\"], [0.3333333333333333, \"#9c179e\"], [0.4444444444444444, \"#bd3786\"], [0.5555555555555556, \"#d8576b\"], [0.6666666666666666, \"#ed7953\"], [0.7777777777777778, \"#fb9f3a\"], [0.8888888888888888, \"#fdca26\"], [1.0, \"#f0f921\"]], \"type\": \"contour\"}], \"contourcarpet\": [{\"colorbar\": {\"outlinewidth\": 0, \"ticks\": \"\"}, \"type\": \"contourcarpet\"}], \"heatmap\": [{\"colorbar\": {\"outlinewidth\": 0, \"ticks\": \"\"}, \"colorscale\": [[0.0, \"#0d0887\"], [0.1111111111111111, \"#46039f\"], [0.2222222222222222, \"#7201a8\"], [0.3333333333333333, \"#9c179e\"], [0.4444444444444444, \"#bd3786\"], [0.5555555555555556, \"#d8576b\"], [0.6666666666666666, \"#ed7953\"], [0.7777777777777778, \"#fb9f3a\"], [0.8888888888888888, \"#fdca26\"], [1.0, \"#f0f921\"]], \"type\": \"heatmap\"}], \"heatmapgl\": [{\"colorbar\": {\"outlinewidth\": 0, \"ticks\": \"\"}, \"colorscale\": [[0.0, \"#0d0887\"], [0.1111111111111111, \"#46039f\"], [0.2222222222222222, \"#7201a8\"], [0.3333333333333333, \"#9c179e\"], [0.4444444444444444, \"#bd3786\"], [0.5555555555555556, \"#d8576b\"], [0.6666666666666666, \"#ed7953\"], [0.7777777777777778, \"#fb9f3a\"], [0.8888888888888888, \"#fdca26\"], [1.0, \"#f0f921\"]], \"type\": \"heatmapgl\"}], \"histogram\": [{\"marker\": {\"colorbar\": {\"outlinewidth\": 0, \"ticks\": \"\"}}, \"type\": \"histogram\"}], \"histogram2d\": [{\"colorbar\": {\"outlinewidth\": 0, \"ticks\": \"\"}, \"colorscale\": [[0.0, \"#0d0887\"], [0.1111111111111111, \"#46039f\"], [0.2222222222222222, \"#7201a8\"], [0.3333333333333333, \"#9c179e\"], [0.4444444444444444, \"#bd3786\"], [0.5555555555555556, \"#d8576b\"], [0.6666666666666666, \"#ed7953\"], [0.7777777777777778, \"#fb9f3a\"], [0.8888888888888888, \"#fdca26\"], [1.0, \"#f0f921\"]], \"type\": \"histogram2d\"}], \"histogram2dcontour\": [{\"colorbar\": {\"outlinewidth\": 0, \"ticks\": \"\"}, \"colorscale\": [[0.0, \"#0d0887\"], [0.1111111111111111, \"#46039f\"], [0.2222222222222222, \"#7201a8\"], [0.3333333333333333, \"#9c179e\"], [0.4444444444444444, \"#bd3786\"], [0.5555555555555556, \"#d8576b\"], [0.6666666666666666, \"#ed7953\"], [0.7777777777777778, \"#fb9f3a\"], [0.8888888888888888, \"#fdca26\"], [1.0, \"#f0f921\"]], \"type\": \"histogram2dcontour\"}], \"mesh3d\": [{\"colorbar\": {\"outlinewidth\": 0, \"ticks\": \"\"}, \"type\": \"mesh3d\"}], \"parcoords\": [{\"line\": {\"colorbar\": {\"outlinewidth\": 0, \"ticks\": \"\"}}, \"type\": \"parcoords\"}], \"pie\": [{\"automargin\": true, \"type\": \"pie\"}], \"scatter\": [{\"marker\": {\"colorbar\": {\"outlinewidth\": 0, \"ticks\": \"\"}}, \"type\": \"scatter\"}], \"scatter3d\": [{\"line\": {\"colorbar\": {\"outlinewidth\": 0, \"ticks\": \"\"}}, \"marker\": {\"colorbar\": {\"outlinewidth\": 0, \"ticks\": \"\"}}, \"type\": \"scatter3d\"}], \"scattercarpet\": [{\"marker\": {\"colorbar\": {\"outlinewidth\": 0, \"ticks\": \"\"}}, \"type\": \"scattercarpet\"}], \"scattergeo\": [{\"marker\": {\"colorbar\": {\"outlinewidth\": 0, \"ticks\": \"\"}}, \"type\": \"scattergeo\"}], \"scattergl\": [{\"marker\": {\"colorbar\": {\"outlinewidth\": 0, \"ticks\": \"\"}}, \"type\": \"scattergl\"}], \"scattermapbox\": [{\"marker\": {\"colorbar\": {\"outlinewidth\": 0, \"ticks\": \"\"}}, \"type\": \"scattermapbox\"}], \"scatterpolar\": [{\"marker\": {\"colorbar\": {\"outlinewidth\": 0, \"ticks\": \"\"}}, \"type\": \"scatterpolar\"}], \"scatterpolargl\": [{\"marker\": {\"colorbar\": {\"outlinewidth\": 0, \"ticks\": \"\"}}, \"type\": \"scatterpolargl\"}], \"scatterternary\": [{\"marker\": {\"colorbar\": {\"outlinewidth\": 0, \"ticks\": \"\"}}, \"type\": \"scatterternary\"}], \"surface\": [{\"colorbar\": {\"outlinewidth\": 0, \"ticks\": \"\"}, \"colorscale\": [[0.0, \"#0d0887\"], [0.1111111111111111, \"#46039f\"], [0.2222222222222222, \"#7201a8\"], [0.3333333333333333, \"#9c179e\"], [0.4444444444444444, \"#bd3786\"], [0.5555555555555556, \"#d8576b\"], [0.6666666666666666, \"#ed7953\"], [0.7777777777777778, \"#fb9f3a\"], [0.8888888888888888, \"#fdca26\"], [1.0, \"#f0f921\"]], \"type\": \"surface\"}], \"table\": [{\"cells\": {\"fill\": {\"color\": \"#EBF0F8\"}, \"line\": {\"color\": \"white\"}}, \"header\": {\"fill\": {\"color\": \"#C8D4E3\"}, \"line\": {\"color\": \"white\"}}, \"type\": \"table\"}]}, \"layout\": {\"annotationdefaults\": {\"arrowcolor\": \"#2a3f5f\", \"arrowhead\": 0, \"arrowwidth\": 1}, \"autotypenumbers\": \"strict\", \"coloraxis\": {\"colorbar\": {\"outlinewidth\": 0, \"ticks\": \"\"}}, \"colorscale\": {\"diverging\": [[0, \"#8e0152\"], [0.1, \"#c51b7d\"], [0.2, \"#de77ae\"], [0.3, \"#f1b6da\"], [0.4, \"#fde0ef\"], [0.5, \"#f7f7f7\"], [0.6, \"#e6f5d0\"], [0.7, \"#b8e186\"], [0.8, \"#7fbc41\"], [0.9, \"#4d9221\"], [1, \"#276419\"]], \"sequential\": [[0.0, \"#0d0887\"], [0.1111111111111111, \"#46039f\"], [0.2222222222222222, \"#7201a8\"], [0.3333333333333333, \"#9c179e\"], [0.4444444444444444, \"#bd3786\"], [0.5555555555555556, \"#d8576b\"], [0.6666666666666666, \"#ed7953\"], [0.7777777777777778, \"#fb9f3a\"], [0.8888888888888888, \"#fdca26\"], [1.0, \"#f0f921\"]], \"sequentialminus\": [[0.0, \"#0d0887\"], [0.1111111111111111, \"#46039f\"], [0.2222222222222222, \"#7201a8\"], [0.3333333333333333, \"#9c179e\"], [0.4444444444444444, \"#bd3786\"], [0.5555555555555556, \"#d8576b\"], [0.6666666666666666, \"#ed7953\"], [0.7777777777777778, \"#fb9f3a\"], [0.8888888888888888, \"#fdca26\"], [1.0, \"#f0f921\"]]}, \"colorway\": [\"#636efa\", \"#EF553B\", \"#00cc96\", \"#ab63fa\", \"#FFA15A\", \"#19d3f3\", \"#FF6692\", \"#B6E880\", \"#FF97FF\", \"#FECB52\"], \"font\": {\"color\": \"#2a3f5f\"}, \"geo\": {\"bgcolor\": \"white\", \"lakecolor\": \"white\", \"landcolor\": \"#E5ECF6\", \"showlakes\": true, \"showland\": true, \"subunitcolor\": \"white\"}, \"hoverlabel\": {\"align\": \"left\"}, \"hovermode\": \"closest\", \"mapbox\": {\"style\": \"light\"}, \"paper_bgcolor\": \"white\", \"plot_bgcolor\": \"#E5ECF6\", \"polar\": {\"angularaxis\": {\"gridcolor\": \"white\", \"linecolor\": \"white\", \"ticks\": \"\"}, \"bgcolor\": \"#E5ECF6\", \"radialaxis\": {\"gridcolor\": \"white\", \"linecolor\": \"white\", \"ticks\": \"\"}}, \"scene\": {\"xaxis\": {\"backgroundcolor\": \"#E5ECF6\", \"gridcolor\": \"white\", \"gridwidth\": 2, \"linecolor\": \"white\", \"showbackground\": true, \"ticks\": \"\", \"zerolinecolor\": \"white\"}, \"yaxis\": {\"backgroundcolor\": \"#E5ECF6\", \"gridcolor\": \"white\", \"gridwidth\": 2, \"linecolor\": \"white\", \"showbackground\": true, \"ticks\": \"\", \"zerolinecolor\": \"white\"}, \"zaxis\": {\"backgroundcolor\": \"#E5ECF6\", \"gridcolor\": \"white\", \"gridwidth\": 2, \"linecolor\": \"white\", \"showbackground\": true, \"ticks\": \"\", \"zerolinecolor\": \"white\"}}, \"shapedefaults\": {\"line\": {\"color\": \"#2a3f5f\"}}, \"ternary\": {\"aaxis\": {\"gridcolor\": \"white\", \"linecolor\": \"white\", \"ticks\": \"\"}, \"baxis\": {\"gridcolor\": \"white\", \"linecolor\": \"white\", \"ticks\": \"\"}, \"bgcolor\": \"#E5ECF6\", \"caxis\": {\"gridcolor\": \"white\", \"linecolor\": \"white\", \"ticks\": \"\"}}, \"title\": {\"x\": 0.05}, \"xaxis\": {\"automargin\": true, \"gridcolor\": \"white\", \"linecolor\": \"white\", \"ticks\": \"\", \"title\": {\"standoff\": 15}, \"zerolinecolor\": \"white\", \"zerolinewidth\": 2}, \"yaxis\": {\"automargin\": true, \"gridcolor\": \"white\", \"linecolor\": \"white\", \"ticks\": \"\", \"title\": {\"standoff\": 15}, \"zerolinecolor\": \"white\", \"zerolinewidth\": 2}}}, \"xaxis\": {\"anchor\": \"y\", \"domain\": [0.0, 1.0], \"title\": {\"text\": \"value\"}}, \"yaxis\": {\"anchor\": \"x\", \"domain\": [0.0, 1.0], \"title\": {\"text\": \"count\"}}},                        {\"responsive\": true}                    ).then(function(){\n",
              "                            \n",
              "var gd = document.getElementById('219c2cd7-9acb-48fd-92b5-718a8253ff6f');\n",
              "var x = new MutationObserver(function (mutations, observer) {{\n",
              "        var display = window.getComputedStyle(gd).display;\n",
              "        if (!display || display === 'none') {{\n",
              "            console.log([gd, 'removed!']);\n",
              "            Plotly.purge(gd);\n",
              "            observer.disconnect();\n",
              "        }}\n",
              "}});\n",
              "\n",
              "// Listen for the removal of the full notebook cells\n",
              "var notebookContainer = gd.closest('#notebook-container');\n",
              "if (notebookContainer) {{\n",
              "    x.observe(notebookContainer, {childList: true});\n",
              "}}\n",
              "\n",
              "// Listen for the clearing of the current output cell\n",
              "var outputEl = gd.closest('.output');\n",
              "if (outputEl) {{\n",
              "    x.observe(outputEl, {childList: true});\n",
              "}}\n",
              "\n",
              "                        })                };                            </script>        </div>\n",
              "</body>\n",
              "</html>"
            ]
          },
          "metadata": {
            "tags": []
          }
        }
      ]
    },
    {
      "cell_type": "markdown",
      "metadata": {
        "id": "8IHg5hwRC-WZ"
      },
      "source": [
        "En la visualización anterior se muestra la distribución de los promedios obtenidos por hombres y mujeres. En ella se puede observar, a priori, que a las mujeres les fue un poco mejor que a los hombres, debido a que el histograma está más corrido hacia la derecha."
      ]
    },
    {
      "cell_type": "code",
      "metadata": {
        "colab": {
          "base_uri": "https://localhost:8080/",
          "height": 542
        },
        "id": "kOcoRvHMC7GX",
        "outputId": "2491299f-f997-4012-fec6-4913a27aa25f"
      },
      "source": [
        "fig = px.box(df_grades, x=\"parental level of education\", y=\"promedio\", points=\"all\")\n",
        "fig.show()"
      ],
      "execution_count": 107,
      "outputs": [
        {
          "output_type": "display_data",
          "data": {
            "text/html": [
              "<html>\n",
              "<head><meta charset=\"utf-8\" /></head>\n",
              "<body>\n",
              "    <div>            <script src=\"https://cdnjs.cloudflare.com/ajax/libs/mathjax/2.7.5/MathJax.js?config=TeX-AMS-MML_SVG\"></script><script type=\"text/javascript\">if (window.MathJax) {MathJax.Hub.Config({SVG: {font: \"STIX-Web\"}});}</script>                <script type=\"text/javascript\">window.PlotlyConfig = {MathJaxConfig: 'local'};</script>\n",
              "        <script src=\"https://cdn.plot.ly/plotly-latest.min.js\"></script>                <div id=\"303e5327-0a13-48ea-b189-c5c246d55e52\" class=\"plotly-graph-div\" style=\"height:525px; width:100%;\"></div>            <script type=\"text/javascript\">                                    window.PLOTLYENV=window.PLOTLYENV || {};                                    if (document.getElementById(\"303e5327-0a13-48ea-b189-c5c246d55e52\")) {                    Plotly.newPlot(                        \"303e5327-0a13-48ea-b189-c5c246d55e52\",                        [{\"alignmentgroup\": \"True\", \"boxpoints\": \"all\", \"hovertemplate\": \"parental level of education=%{x}<br>promedio=%{y}<extra></extra>\", \"legendgroup\": \"\", \"marker\": {\"color\": \"#636efa\"}, \"name\": \"\", \"notched\": false, \"offsetgroup\": \"\", \"orientation\": \"v\", \"showlegend\": false, \"type\": \"box\", \"x\": [\"some high school\", \"bachelor's degree\", \"some high school\", \"some high school\", \"some high school\", \"some college\", \"associate's degree\", \"high school\", \"associate's degree\", \"high school\", \"some high school\", \"associate's degree\", \"associate's degree\", \"some high school\", \"some college\", \"high school\", \"master's degree\", \"master's degree\", \"some college\", \"associate's degree\", \"associate's degree\", \"bachelor's degree\", \"high school\", \"associate's degree\", \"high school\", \"bachelor's degree\", \"some high school\", \"high school\", \"associate's degree\", \"associate's degree\", \"some college\", \"some college\", \"some college\", \"some high school\", \"bachelor's degree\", \"some college\", \"master's degree\", \"high school\", \"high school\", \"high school\", \"bachelor's degree\", \"some high school\", \"bachelor's degree\", \"associate's degree\", \"some high school\", \"some college\", \"associate's degree\", \"some college\", \"some college\", \"some college\", \"some high school\", \"some college\", \"high school\", \"bachelor's degree\", \"associate's degree\", \"high school\", \"some college\", \"bachelor's degree\", \"master's degree\", \"some college\", \"high school\", \"associate's degree\", \"associate's degree\", \"associate's degree\", \"associate's degree\", \"associate's degree\", \"associate's degree\", \"high school\", \"bachelor's degree\", \"some college\", \"high school\", \"some high school\", \"associate's degree\", \"bachelor's degree\", \"associate's degree\", \"some college\", \"associate's degree\", \"some college\", \"associate's degree\", \"associate's degree\", \"some college\", \"bachelor's degree\", \"some high school\", \"some college\", \"high school\", \"associate's degree\", \"some college\", \"bachelor's degree\", \"some college\", \"some college\", \"some high school\", \"some college\", \"some high school\", \"bachelor's degree\", \"high school\", \"bachelor's degree\", \"bachelor's degree\", \"associate's degree\", \"master's degree\", \"associate's degree\", \"some college\", \"high school\", \"bachelor's degree\", \"high school\", \"bachelor's degree\", \"some college\", \"some high school\", \"some college\", \"bachelor's degree\", \"high school\", \"some high school\", \"some high school\", \"some college\", \"some college\", \"high school\", \"associate's degree\", \"bachelor's degree\", \"high school\", \"high school\", \"high school\", \"associate's degree\", \"associate's degree\", \"associate's degree\", \"some college\", \"some college\", \"some high school\", \"associate's degree\", \"bachelor's degree\", \"bachelor's degree\", \"bachelor's degree\", \"master's degree\", \"high school\", \"some college\", \"some high school\", \"some high school\", \"some college\", \"some college\", \"high school\", \"associate's degree\", \"some college\", \"some college\", \"some high school\", \"associate's degree\", \"master's degree\", \"high school\", \"some college\", \"some high school\", \"bachelor's degree\", \"some college\", \"associate's degree\", \"some college\", \"high school\", \"some high school\", \"associate's degree\", \"some college\", \"high school\", \"high school\", \"associate's degree\", \"high school\", \"some college\", \"bachelor's degree\", \"high school\", \"associate's degree\", \"some college\", \"high school\", \"high school\", \"bachelor's degree\", \"bachelor's degree\", \"bachelor's degree\", \"bachelor's degree\", \"some high school\", \"high school\", \"bachelor's degree\", \"some high school\", \"associate's degree\", \"associate's degree\", \"high school\", \"some high school\", \"high school\", \"bachelor's degree\", \"associate's degree\", \"high school\", \"some college\", \"associate's degree\", \"bachelor's degree\", \"high school\", \"some college\", \"some college\", \"high school\", \"some high school\", \"associate's degree\", \"bachelor's degree\", \"some high school\", \"associate's degree\", \"some high school\", \"master's degree\", \"some college\", \"high school\", \"master's degree\", \"some college\", \"some high school\", \"associate's degree\", \"high school\", \"high school\", \"bachelor's degree\", \"associate's degree\", \"some college\", \"some high school\", \"some college\", \"associate's degree\", \"associate's degree\", \"bachelor's degree\", \"high school\", \"some high school\", \"associate's degree\", \"associate's degree\", \"high school\", \"some college\", \"some high school\", \"some high school\", \"associate's degree\", \"bachelor's degree\", \"some high school\", \"high school\", \"associate's degree\", \"some college\", \"some high school\", \"high school\", \"high school\", \"high school\", \"high school\", \"some high school\", \"associate's degree\", \"some college\", \"some college\", \"some college\", \"associate's degree\", \"high school\", \"high school\", \"associate's degree\", \"high school\", \"some college\", \"high school\", \"high school\", \"associate's degree\", \"associate's degree\", \"some college\", \"master's degree\", \"associate's degree\", \"bachelor's degree\", \"associate's degree\", \"some college\", \"some high school\", \"some college\", \"high school\", \"associate's degree\", \"some college\", \"bachelor's degree\", \"high school\", \"some college\", \"associate's degree\", \"some college\", \"some college\", \"some high school\", \"high school\", \"associate's degree\", \"associate's degree\", \"bachelor's degree\", \"high school\", \"some college\", \"some college\", \"some college\", \"bachelor's degree\", \"master's degree\", \"some high school\", \"high school\", \"associate's degree\", \"some college\", \"bachelor's degree\", \"associate's degree\", \"associate's degree\", \"high school\", \"associate's degree\", \"master's degree\", \"some college\", \"high school\", \"some high school\", \"bachelor's degree\", \"master's degree\", \"bachelor's degree\", \"associate's degree\", \"bachelor's degree\", \"some high school\", \"high school\", \"high school\", \"associate's degree\", \"some high school\", \"some high school\", \"associate's degree\", \"high school\", \"associate's degree\", \"some college\", \"some college\", \"associate's degree\", \"some college\", \"some high school\", \"some college\", \"associate's degree\", \"high school\", \"some high school\", \"bachelor's degree\", \"associate's degree\", \"associate's degree\", \"some college\", \"high school\", \"some college\", \"some high school\", \"some college\", \"master's degree\", \"associate's degree\", \"associate's degree\", \"high school\", \"bachelor's degree\", \"some high school\", \"high school\", \"bachelor's degree\", \"some high school\", \"bachelor's degree\", \"associate's degree\", \"high school\", \"associate's degree\", \"associate's degree\", \"bachelor's degree\", \"bachelor's degree\", \"associate's degree\", \"associate's degree\", \"some high school\", \"some high school\", \"master's degree\", \"some high school\", \"some college\", \"bachelor's degree\", \"some high school\", \"master's degree\", \"associate's degree\", \"associate's degree\", \"bachelor's degree\", \"high school\", \"high school\", \"some high school\", \"bachelor's degree\", \"some college\", \"bachelor's degree\", \"some high school\", \"high school\", \"associate's degree\", \"some high school\", \"associate's degree\", \"some college\", \"some college\", \"some college\", \"some college\", \"associate's degree\", \"some high school\", \"some high school\", \"associate's degree\", \"associate's degree\", \"some college\", \"some college\", \"some high school\", \"high school\", \"associate's degree\", \"associate's degree\", \"associate's degree\", \"some high school\", \"some college\", \"some college\", \"some high school\", \"some college\", \"high school\", \"bachelor's degree\", \"high school\", \"associate's degree\", \"some high school\", \"high school\", \"some college\", \"master's degree\", \"associate's degree\", \"some college\", \"associate's degree\", \"some high school\", \"some college\", \"bachelor's degree\", \"some college\", \"some high school\", \"bachelor's degree\", \"bachelor's degree\", \"some high school\", \"associate's degree\", \"master's degree\", \"some high school\", \"some high school\", \"bachelor's degree\", \"high school\", \"bachelor's degree\", \"some college\", \"associate's degree\", \"some college\", \"bachelor's degree\", \"some college\", \"some college\", \"associate's degree\", \"some high school\", \"associate's degree\", \"bachelor's degree\", \"some high school\", \"high school\", \"some high school\", \"some high school\", \"high school\", \"some high school\", \"associate's degree\", \"high school\", \"associate's degree\", \"some high school\", \"some high school\", \"associate's degree\", \"high school\", \"master's degree\", \"associate's degree\", \"associate's degree\", \"associate's degree\", \"some high school\", \"master's degree\", \"associate's degree\", \"associate's degree\", \"high school\", \"bachelor's degree\", \"associate's degree\", \"associate's degree\", \"some college\", \"high school\", \"some college\", \"some high school\", \"some college\", \"some college\", \"high school\", \"high school\", \"some high school\", \"high school\", \"some high school\", \"some high school\", \"master's degree\", \"associate's degree\", \"some college\", \"associate's degree\", \"associate's degree\", \"high school\", \"high school\", \"some college\", \"associate's degree\", \"bachelor's degree\", \"some college\", \"associate's degree\", \"bachelor's degree\", \"some high school\", \"bachelor's degree\", \"high school\", \"high school\", \"some high school\", \"some high school\", \"master's degree\", \"master's degree\", \"bachelor's degree\", \"associate's degree\", \"some high school\", \"associate's degree\", \"some college\", \"high school\", \"high school\", \"associate's degree\", \"some college\", \"associate's degree\", \"associate's degree\", \"associate's degree\", \"bachelor's degree\", \"some college\", \"associate's degree\", \"associate's degree\", \"associate's degree\", \"bachelor's degree\", \"associate's degree\", \"some college\", \"some college\", \"high school\", \"some college\", \"some high school\", \"some high school\", \"some college\", \"associate's degree\", \"some college\", \"bachelor's degree\", \"associate's degree\", \"high school\", \"high school\", \"associate's degree\", \"associate's degree\", \"associate's degree\", \"master's degree\", \"associate's degree\", \"some college\", \"some high school\", \"high school\", \"some high school\", \"associate's degree\", \"some high school\", \"high school\", \"high school\", \"some high school\", \"some high school\", \"some high school\", \"some college\", \"associate's degree\", \"high school\", \"some college\", \"some college\", \"associate's degree\", \"some high school\", \"high school\", \"high school\", \"some high school\", \"high school\", \"high school\", \"some high school\", \"bachelor's degree\", \"high school\", \"bachelor's degree\", \"associate's degree\", \"high school\", \"some high school\", \"high school\", \"bachelor's degree\", \"high school\", \"some high school\", \"some high school\", \"associate's degree\", \"high school\", \"some high school\", \"high school\", \"high school\", \"some college\", \"some college\", \"some high school\", \"some college\", \"some college\", \"associate's degree\", \"bachelor's degree\", \"bachelor's degree\", \"some high school\", \"some college\", \"some high school\", \"master's degree\", \"associate's degree\", \"master's degree\", \"high school\", \"high school\", \"some college\", \"associate's degree\", \"high school\", \"associate's degree\", \"some high school\", \"some high school\", \"associate's degree\", \"associate's degree\", \"some college\", \"some college\", \"bachelor's degree\", \"some college\", \"some high school\", \"associate's degree\", \"bachelor's degree\", \"master's degree\", \"some college\", \"some college\", \"associate's degree\", \"bachelor's degree\", \"high school\", \"some college\", \"associate's degree\", \"some high school\", \"associate's degree\", \"some college\", \"high school\", \"high school\", \"some college\", \"some high school\", \"bachelor's degree\", \"some college\", \"high school\", \"master's degree\", \"high school\", \"bachelor's degree\", \"some high school\", \"master's degree\", \"master's degree\", \"bachelor's degree\", \"some high school\", \"some high school\", \"bachelor's degree\", \"associate's degree\", \"high school\", \"some college\", \"some high school\", \"some college\", \"associate's degree\", \"some college\", \"associate's degree\", \"high school\", \"high school\", \"some high school\", \"high school\", \"bachelor's degree\", \"associate's degree\", \"some high school\", \"some college\", \"some high school\", \"master's degree\", \"high school\", \"master's degree\", \"associate's degree\", \"associate's degree\", \"some college\", \"some high school\", \"some college\", \"some college\", \"associate's degree\", \"some college\", \"master's degree\", \"associate's degree\", \"associate's degree\", \"some college\", \"some college\", \"bachelor's degree\", \"associate's degree\", \"associate's degree\", \"associate's degree\", \"bachelor's degree\", \"high school\", \"some college\", \"master's degree\", \"some high school\", \"associate's degree\", \"some college\", \"high school\", \"master's degree\", \"some college\", \"associate's degree\", \"some high school\", \"high school\", \"some high school\", \"bachelor's degree\", \"high school\", \"some college\", \"some college\", \"associate's degree\", \"high school\", \"some high school\", \"some high school\", \"some high school\", \"some college\", \"high school\", \"high school\", \"some college\", \"some college\", \"some high school\", \"some high school\", \"associate's degree\", \"high school\", \"some college\", \"high school\", \"some college\", \"bachelor's degree\", \"some high school\", \"some college\", \"some college\", \"associate's degree\", \"some college\", \"high school\", \"some college\", \"high school\", \"associate's degree\", \"some high school\", \"some high school\", \"associate's degree\", \"high school\", \"associate's degree\", \"some college\", \"high school\", \"high school\", \"master's degree\", \"associate's degree\", \"some high school\", \"high school\", \"associate's degree\", \"high school\", \"high school\", \"associate's degree\", \"some college\", \"master's degree\", \"some high school\", \"some college\", \"some college\", \"some college\", \"some college\", \"some college\", \"high school\", \"some college\", \"some college\", \"some college\", \"associate's degree\", \"some college\", \"some college\", \"some college\", \"master's degree\", \"some high school\", \"some high school\", \"bachelor's degree\", \"high school\", \"high school\", \"associate's degree\", \"associate's degree\", \"some high school\", \"some college\", \"some high school\", \"associate's degree\", \"associate's degree\", \"bachelor's degree\", \"associate's degree\", \"associate's degree\", \"some college\", \"associate's degree\", \"associate's degree\", \"high school\", \"some college\", \"high school\", \"some college\", \"high school\", \"bachelor's degree\", \"associate's degree\", \"some high school\", \"associate's degree\", \"some high school\", \"high school\", \"high school\", \"some high school\", \"bachelor's degree\", \"associate's degree\", \"associate's degree\", \"some college\", \"associate's degree\", \"high school\", \"some college\", \"high school\", \"master's degree\", \"high school\", \"high school\", \"some college\", \"some high school\", \"bachelor's degree\", \"bachelor's degree\", \"some high school\", \"some high school\", \"master's degree\", \"some college\", \"high school\", \"high school\", \"bachelor's degree\", \"some high school\", \"high school\", \"some college\", \"associate's degree\", \"master's degree\", \"bachelor's degree\", \"some college\", \"some college\", \"bachelor's degree\", \"some college\", \"some college\", \"associate's degree\", \"some high school\", \"master's degree\", \"high school\", \"bachelor's degree\", \"associate's degree\", \"some high school\", \"some high school\", \"high school\", \"some high school\", \"associate's degree\", \"associate's degree\", \"high school\", \"bachelor's degree\", \"some college\", \"high school\", \"associate's degree\", \"high school\", \"bachelor's degree\", \"some college\", \"bachelor's degree\", \"some college\", \"some high school\", \"associate's degree\", \"high school\", \"high school\", \"high school\", \"high school\", \"high school\", \"master's degree\", \"master's degree\", \"bachelor's degree\", \"master's degree\", \"some college\", \"associate's degree\", \"some college\", \"master's degree\", \"associate's degree\", \"bachelor's degree\", \"master's degree\", \"some college\", \"some college\", \"bachelor's degree\", \"high school\", \"some college\", \"high school\", \"master's degree\", \"high school\", \"some college\", \"some high school\", \"bachelor's degree\", \"associate's degree\", \"some college\", \"some high school\", \"some college\", \"some high school\", \"some college\", \"some college\", \"some college\", \"some high school\", \"associate's degree\", \"high school\", \"high school\", \"bachelor's degree\", \"some high school\", \"high school\", \"some college\", \"some college\", \"bachelor's degree\", \"some high school\", \"some college\", \"some college\", \"master's degree\", \"some high school\", \"associate's degree\", \"some high school\", \"some college\", \"master's degree\", \"bachelor's degree\", \"high school\", \"some high school\", \"some college\", \"high school\", \"some high school\", \"some high school\", \"associate's degree\", \"associate's degree\", \"some high school\", \"bachelor's degree\", \"associate's degree\", \"some college\", \"master's degree\", \"associate's degree\", \"associate's degree\", \"some high school\", \"some high school\", \"some college\", \"some high school\", \"associate's degree\", \"master's degree\", \"associate's degree\", \"some high school\", \"bachelor's degree\", \"some high school\", \"some college\", \"some high school\", \"some college\", \"some college\", \"some high school\", \"some high school\", \"some high school\", \"some high school\", \"high school\", \"associate's degree\", \"some college\", \"some college\", \"high school\", \"high school\", \"high school\", \"associate's degree\", \"associate's degree\", \"some high school\", \"some college\", \"high school\", \"some college\", \"high school\", \"some college\", \"master's degree\", \"high school\", \"master's degree\", \"associate's degree\", \"associate's degree\", \"associate's degree\", \"high school\", \"some college\", \"some college\", \"master's degree\", \"bachelor's degree\", \"some high school\", \"master's degree\", \"some college\", \"associate's degree\", \"associate's degree\", \"high school\", \"some college\", \"master's degree\", \"high school\", \"associate's degree\", \"some college\", \"bachelor's degree\", \"master's degree\", \"some high school\", \"some college\", \"high school\", \"some high school\", \"some college\", \"associate's degree\", \"bachelor's degree\", \"high school\", \"associate's degree\", \"high school\", \"some college\", \"some college\", \"associate's degree\", \"some college\", \"some high school\", \"some college\", \"some high school\", \"bachelor's degree\", \"some college\", \"some high school\", \"high school\", \"associate's degree\", \"some college\", \"associate's degree\", \"some college\", \"associate's degree\", \"associate's degree\", \"some college\", \"bachelor's degree\", \"some high school\", \"associate's degree\", \"high school\", \"associate's degree\", \"bachelor's degree\", \"high school\", \"high school\", \"master's degree\", \"associate's degree\", \"some high school\", \"some high school\", \"some high school\", \"some college\", \"some high school\", \"bachelor's degree\", \"associate's degree\", \"bachelor's degree\", \"associate's degree\", \"some college\", \"some college\", \"some college\", \"some college\", \"high school\", \"bachelor's degree\", \"associate's degree\", \"high school\", \"high school\", \"high school\", \"high school\", \"bachelor's degree\", \"some high school\", \"high school\"], \"x0\": \" \", \"xaxis\": \"x\", \"y\": [3.5799999999999996, 5.78, 5.039999999999999, 5.64, 6.34, 5.0200000000000005, 5.14, 3.4599999999999995, 4.7, 5.760000000000001, 5.5, 4.96, 4.7, 5.3999999999999995, 4.62, 5.199999999999999, 3.6799999999999997, 5.760000000000001, 4.68, 5.1000000000000005, 5.640000000000001, 6.859999999999999, 5.38, 4.24, 5.94, 5.02, 5.84, 4.8999999999999995, 5.539999999999999, 6.14, 5.96, 5.34, 5.1000000000000005, 4.44, 4.84, 4.68, 4.0600000000000005, 4.6, 4.3999999999999995, 2.84, 5.66, 4.92, 4.68, 3.9600000000000004, 6.14, 2.8000000000000003, 4.999999999999999, 5.16, 4.88, 4.5200000000000005, 5.62, 5.14, 4.84, 4.359999999999999, 6.239999999999999, 5.420000000000001, 6.080000000000001, 6.32, 6.22, 4.64, 4.159999999999999, 3.76, 4.34, 4.28, 6.34, 5.8999999999999995, 4.88, 4.8999999999999995, 6.56, 6.14, 5.1, 6.199999999999999, 6.62, 5.539999999999999, 6.359999999999999, 4.74, 5.12, 4.02, 5.88, 6.06, 3.84, 5.44, 5.14, 5.460000000000001, 5.359999999999999, 4.78, 6.32, 4.859999999999999, 5.22, 4.5200000000000005, 4.96, 5.1000000000000005, 4.1000000000000005, 5.22, 4.7, 5.919999999999999, 4.36, 6.239999999999999, 6.859999999999999, 5.52, 3.78, 4.84, 5.84, 5.52, 4.98, 5.52, 5.08, 4.06, 5.16, 4.26, 6.0, 4.920000000000001, 5.46, 5.46, 3.78, 4.22, 6.420000000000001, 4.94, 4.88, 5.580000000000001, 4.78, 4.46, 5.319999999999999, 4.04, 4.739999999999999, 5.44, 5.180000000000001, 5.5, 5.2, 5.84, 4.8, 4.36, 4.74, 3.5400000000000005, 4.5200000000000005, 4.38, 2.78, 5.38, 5.5, 4.36, 4.28, 5.38, 4.359999999999999, 4.1, 3.86, 6.12, 5.319999999999999, 5.9799999999999995, 6.539999999999999, 6.44, 6.239999999999999, 4.58, 3.64, 4.16, 4.5, 4.94, 4.76, 5.319999999999999, 4.34, 5.98, 4.32, 4.24, 4.9799999999999995, 5.3999999999999995, 3.78, 6.640000000000001, 5.04, 4.64, 4.580000000000001, 5.5, 3.9200000000000004, 3.8000000000000003, 5.14, 5.3999999999999995, 5.5, 5.14, 5.12, 6.04, 5.3, 3.9600000000000004, 5.3999999999999995, 4.98, 6.02, 5.14, 4.38, 4.28, 4.5, 4.28, 4.6000000000000005, 5.739999999999999, 5.46, 5.72, 6.94, 4.5, 4.84, 5.62, 4.68, 5.260000000000001, 6.3, 5.56, 5.96, 6.14, 4.140000000000001, 5.94, 4.0, 4.72, 5.94, 5.640000000000001, 4.44, 3.8800000000000003, 5.32, 5.599999999999999, 5.04, 6.18, 5.64, 5.82, 3.3200000000000003, 2.8800000000000003, 3.9, 4.32, 5.82, 6.02, 5.579999999999999, 4.5, 5.56, 5.079999999999999, 4.84, 5.84, 4.920000000000001, 4.08, 4.58, 5.3, 5.28, 6.12, 5.02, 4.919999999999999, 4.0, 6.260000000000001, 5.68, 4.3999999999999995, 5.08, 5.2, 5.119999999999999, 4.3, 3.72, 4.5200000000000005, 4.06, 4.22, 4.000000000000001, 3.34, 2.9, 5.46, 5.359999999999999, 3.5799999999999996, 4.36, 6.5, 6.34, 4.28, 4.16, 5.12, 6.219999999999999, 2.4, 4.8999999999999995, 4.4799999999999995, 3.6799999999999997, 6.22, 4.22, 7.0, 5.56, 4.0200000000000005, 6.080000000000001, 5.640000000000001, 5.98, 4.78, 4.16, 5.34, 5.54, 5.72, 5.38, 4.88, 5.760000000000001, 5.699999999999999, 5.48, 5.14, 4.92, 4.88, 3.26, 4.72, 4.64, 4.92, 6.32, 5.14, 5.400000000000001, 5.14, 5.18, 4.82, 4.82, 5.82, 5.0, 5.52, 5.68, 5.4799999999999995, 5.38, 5.6000000000000005, 6.080000000000001, 5.28, 5.419999999999999, 4.2, 5.1000000000000005, 6.3999999999999995, 5.68, 6.419999999999999, 5.319999999999999, 6.38, 5.2, 4.88, 5.82, 5.46, 5.539999999999999, 4.36, 4.0200000000000005, 4.1000000000000005, 6.8, 5.18, 5.38, 5.56, 4.739999999999999, 5.06, 5.640000000000001, 4.1000000000000005, 5.04, 4.82, 6.9799999999999995, 6.140000000000001, 5.88, 5.66, 5.56, 4.68, 5.38, 4.6000000000000005, 6.640000000000001, 4.760000000000001, 5.72, 5.1, 4.1, 4.56, 6.3, 5.539999999999999, 4.58, 4.12, 5.38, 5.1000000000000005, 5.38, 4.7, 4.44, 4.9399999999999995, 6.4799999999999995, 6.859999999999999, 5.64, 6.16, 3.78, 5.739999999999999, 5.14, 5.56, 3.78, 4.34, 5.340000000000001, 4.54, 5.2, 4.260000000000001, 3.94, 3.6, 4.98, 4.68, 5.02, 5.3, 3.44, 5.82, 4.78, 5.06, 5.5, 5.96, 5.699999999999999, 4.1000000000000005, 4.96, 4.06, 4.04, 6.06, 5.3999999999999995, 5.28, 5.12, 4.14, 3.3800000000000003, 5.94, 2.56, 5.78, 4.86, 5.88, 5.760000000000001, 4.26, 5.84, 5.84, 6.04, 6.0, 6.16, 5.62, 5.279999999999999, 5.02, 4.319999999999999, 4.04, 4.5, 4.1000000000000005, 4.4799999999999995, 5.68, 6.2, 5.1000000000000005, 4.16, 5.62, 6.12, 4.420000000000001, 4.359999999999999, 5.579999999999999, 4.72, 4.08, 4.46, 5.22, 5.46, 5.239999999999999, 6.159999999999999, 6.5, 4.86, 4.28, 5.6000000000000005, 5.400000000000001, 5.28, 5.8999999999999995, 4.96, 5.279999999999999, 5.5200000000000005, 5.159999999999999, 4.300000000000001, 5.08, 5.72, 3.9999999999999996, 6.32, 5.16, 3.94, 5.26, 5.56, 3.7399999999999998, 5.14, 3.9, 6.02, 6.12, 4.82, 5.5, 4.94, 4.739999999999999, 5.22, 4.82, 5.640000000000001, 6.5, 5.68, 4.8999999999999995, 5.0, 5.1000000000000005, 7.0, 2.1, 4.819999999999999, 4.38, 4.579999999999999, 6.1000000000000005, 6.0, 5.26, 5.3, 5.08, 3.86, 5.0, 3.94, 4.96, 4.18, 4.12, 4.34, 6.6000000000000005, 6.419999999999999, 4.72, 5.359999999999999, 3.92, 4.86, 5.739999999999999, 3.9, 6.760000000000001, 5.12, 4.6000000000000005, 3.6799999999999997, 4.78, 5.06, 3.8800000000000003, 4.02, 4.680000000000001, 5.539999999999999, 3.7999999999999994, 4.859999999999999, 5.82, 5.48, 5.1000000000000005, 4.2, 6.64, 4.859999999999999, 3.4599999999999995, 5.259999999999999, 5.760000000000001, 5.8, 5.96, 4.5200000000000005, 5.8999999999999995, 5.02, 5.1000000000000005, 5.2, 5.580000000000001, 3.9, 4.14, 3.8000000000000003, 5.78, 5.72, 4.66, 6.239999999999999, 4.52, 5.38, 5.6000000000000005, 6.0, 4.94, 5.239999999999999, 6.039999999999999, 6.1000000000000005, 4.239999999999999, 4.62, 5.28, 4.28, 3.3799999999999994, 4.76, 5.14, 6.22, 6.78, 5.16, 6.46, 4.26, 4.919999999999999, 4.8999999999999995, 5.3, 5.939999999999999, 5.26, 4.08, 5.260000000000001, 6.239999999999999, 3.6999999999999997, 5.419999999999999, 5.319999999999999, 3.36, 4.76, 5.94, 6.56, 4.18, 4.08, 3.94, 5.18, 4.02, 4.32, 3.9, 4.54, 3.2399999999999998, 6.339999999999999, 4.62, 5.4799999999999995, 5.539999999999999, 5.08, 6.78, 3.4, 5.2, 5.3999999999999995, 5.98, 5.760000000000001, 6.140000000000001, 4.419999999999999, 3.76, 4.22, 5.859999999999999, 5.84, 5.04, 4.0200000000000005, 6.3, 4.66, 5.7, 4.22, 4.7, 4.96, 4.62, 5.7, 6.739999999999999, 6.18, 5.4799999999999995, 5.22, 5.46, 5.7, 6.199999999999999, 5.26, 5.94, 4.239999999999999, 5.12, 6.0200000000000005, 4.96, 5.1, 3.94, 4.6000000000000005, 5.68, 6.3, 3.66, 4.74, 4.44, 5.38, 5.0, 3.8000000000000003, 6.28, 4.14, 4.8999999999999995, 4.46, 4.66, 5.16, 6.18, 5.079999999999999, 3.76, 4.239999999999999, 5.0, 6.32, 4.94, 5.18, 4.54, 6.599999999999999, 4.1, 5.28, 5.359999999999999, 5.579999999999999, 4.38, 4.419999999999999, 6.16, 5.5, 6.84, 4.54, 5.66, 6.84, 4.5, 5.64, 5.34, 4.14, 6.640000000000001, 4.739999999999999, 6.359999999999999, 5.159999999999999, 5.72, 3.98, 4.0200000000000005, 4.32, 5.8, 4.619999999999999, 5.640000000000001, 5.26, 5.62, 4.46, 4.54, 6.4799999999999995, 5.960000000000001, 5.96, 4.699999999999999, 5.319999999999999, 3.6799999999999997, 5.28, 5.34, 4.12, 4.6, 2.94, 4.06, 5.079999999999999, 3.48, 4.54, 6.78, 5.78, 3.44, 5.359999999999999, 5.02, 4.8, 5.859999999999999, 3.6, 4.96, 4.88, 5.260000000000001, 3.3800000000000003, 5.44, 5.7, 3.9800000000000004, 5.3, 4.36, 4.5, 5.36, 6.52, 4.079999999999999, 5.54, 6.38, 3.28, 5.2, 5.760000000000001, 4.08, 5.599999999999999, 6.18, 4.72, 4.36, 4.419999999999999, 4.5, 4.919999999999999, 5.319999999999999, 6.039999999999999, 5.38, 4.94, 5.46, 4.68, 3.84, 3.9199999999999995, 4.66, 3.9599999999999995, 5.46, 6.22, 4.96, 4.88, 5.52, 5.68, 5.9799999999999995, 4.46, 5.78, 3.6199999999999997, 6.5, 4.819999999999999, 5.98, 5.12, 5.419999999999999, 5.68, 5.8, 5.12, 4.62, 5.7799999999999985, 4.3999999999999995, 4.3999999999999995, 4.22, 5.44, 3.3000000000000003, 5.2, 2.78, 3.9, 5.739999999999999, 4.8, 4.64, 6.82, 3.82, 5.9799999999999995, 5.08, 4.88, 5.739999999999999, 4.28, 5.539999999999999, 6.0, 5.4799999999999995, 4.5, 5.3999999999999995, 4.24, 4.54, 5.44, 4.28, 6.1000000000000005, 3.4, 5.4799999999999995, 4.44, 3.6199999999999997, 5.16, 5.1000000000000005, 5.239999999999999, 4.260000000000001, 5.46, 5.5, 4.64, 5.579999999999999, 4.38, 3.08, 5.5, 4.159999999999999, 5.079999999999999, 5.28, 4.62, 5.3999999999999995, 4.16, 4.0, 4.84, 5.64, 4.52, 4.8999999999999995, 5.7, 5.52, 5.12, 4.78, 6.3, 4.84, 5.64, 4.38, 5.359999999999999, 5.12, 2.38, 5.9799999999999995, 4.739999999999999, 5.08, 4.52, 4.56, 5.239999999999999, 6.22, 6.079999999999999, 5.94, 5.22, 6.5, 5.359999999999999, 4.84, 5.9799999999999995, 4.96, 5.8999999999999995, 5.72, 6.18, 3.34, 4.8, 6.359999999999999, 6.359999999999999, 4.22, 4.8999999999999995, 4.86, 6.82, 5.739999999999999, 4.56, 4.9799999999999995, 4.56, 4.46, 5.539999999999999, 5.94, 5.62, 4.96, 4.68, 3.64, 3.8800000000000003, 4.34, 4.859999999999999, 3.2999999999999994, 6.039999999999999, 5.759999999999999, 5.06, 4.8, 6.3999999999999995, 5.239999999999999, 4.7, 4.72, 5.08, 5.7, 5.82, 5.640000000000001, 6.919999999999999, 4.96, 5.62, 5.34, 4.0, 5.739999999999999, 3.5999999999999996, 5.3999999999999995, 5.28, 5.3, 5.06, 4.96, 4.8999999999999995, 5.2, 4.640000000000001, 4.819999999999999, 6.199999999999999, 3.94, 4.78, 4.2, 5.640000000000001, 6.28, 4.46, 2.56, 5.72, 4.1000000000000005, 4.56, 4.9399999999999995, 3.9800000000000004, 3.08, 5.02, 4.6, 5.08, 6.04, 4.02, 4.44, 6.94, 5.0, 5.0200000000000005, 6.18, 5.2, 4.12, 5.56, 5.94, 5.26, 5.0, 5.8, 5.659999999999999, 4.84, 4.44, 3.6999999999999997, 5.62, 5.78, 6.1000000000000005, 4.88, 3.5199999999999996, 4.34, 6.5, 5.68, 5.04, 4.659999999999999, 5.919999999999999, 5.460000000000001, 5.68, 5.08, 3.72, 5.699999999999999, 4.86, 4.6000000000000005, 5.12, 6.56, 5.28, 6.739999999999999, 5.319999999999999, 4.66, 3.8800000000000003, 4.2, 6.4799999999999995, 4.52, 5.44, 4.859999999999999, 5.66, 5.88, 5.079999999999999, 4.56, 5.88, 5.06, 4.46, 5.16, 1.54, 4.88, 5.919999999999999, 5.72, 5.06, 7.0, 4.44, 3.9599999999999995, 6.339999999999999, 4.12, 5.26, 6.039999999999999, 6.579999999999999, 4.640000000000001, 5.94, 4.82, 6.52, 5.359999999999999, 4.62, 4.34, 6.259999999999999, 4.1000000000000005, 3.92, 4.54, 2.86, 5.7799999999999985, 5.5, 4.92, 5.82, 5.22, 6.039999999999999, 6.919999999999999, 5.22, 5.56, 5.199999999999999, 5.16, 4.96, 5.359999999999999, 3.6, 2.7600000000000002, 5.3, 3.06, 5.419999999999999, 4.54, 5.4799999999999995], \"y0\": \" \", \"yaxis\": \"y\"}],                        {\"boxmode\": \"group\", \"legend\": {\"tracegroupgap\": 0}, \"margin\": {\"t\": 60}, \"template\": {\"data\": {\"bar\": [{\"error_x\": {\"color\": \"#2a3f5f\"}, \"error_y\": {\"color\": \"#2a3f5f\"}, \"marker\": {\"line\": {\"color\": \"#E5ECF6\", \"width\": 0.5}}, \"type\": \"bar\"}], \"barpolar\": [{\"marker\": {\"line\": {\"color\": \"#E5ECF6\", \"width\": 0.5}}, \"type\": \"barpolar\"}], \"carpet\": [{\"aaxis\": {\"endlinecolor\": \"#2a3f5f\", \"gridcolor\": \"white\", \"linecolor\": \"white\", \"minorgridcolor\": \"white\", \"startlinecolor\": \"#2a3f5f\"}, \"baxis\": {\"endlinecolor\": \"#2a3f5f\", \"gridcolor\": \"white\", \"linecolor\": \"white\", \"minorgridcolor\": \"white\", \"startlinecolor\": \"#2a3f5f\"}, \"type\": \"carpet\"}], \"choropleth\": [{\"colorbar\": {\"outlinewidth\": 0, \"ticks\": \"\"}, \"type\": \"choropleth\"}], \"contour\": [{\"colorbar\": {\"outlinewidth\": 0, \"ticks\": \"\"}, \"colorscale\": [[0.0, \"#0d0887\"], [0.1111111111111111, \"#46039f\"], [0.2222222222222222, \"#7201a8\"], [0.3333333333333333, \"#9c179e\"], [0.4444444444444444, \"#bd3786\"], [0.5555555555555556, \"#d8576b\"], [0.6666666666666666, \"#ed7953\"], [0.7777777777777778, \"#fb9f3a\"], [0.8888888888888888, \"#fdca26\"], [1.0, \"#f0f921\"]], \"type\": \"contour\"}], \"contourcarpet\": [{\"colorbar\": {\"outlinewidth\": 0, \"ticks\": \"\"}, \"type\": \"contourcarpet\"}], \"heatmap\": [{\"colorbar\": {\"outlinewidth\": 0, \"ticks\": \"\"}, \"colorscale\": [[0.0, \"#0d0887\"], [0.1111111111111111, \"#46039f\"], [0.2222222222222222, \"#7201a8\"], [0.3333333333333333, \"#9c179e\"], [0.4444444444444444, \"#bd3786\"], [0.5555555555555556, \"#d8576b\"], [0.6666666666666666, \"#ed7953\"], [0.7777777777777778, \"#fb9f3a\"], [0.8888888888888888, \"#fdca26\"], [1.0, \"#f0f921\"]], \"type\": \"heatmap\"}], \"heatmapgl\": [{\"colorbar\": {\"outlinewidth\": 0, \"ticks\": \"\"}, \"colorscale\": [[0.0, \"#0d0887\"], [0.1111111111111111, \"#46039f\"], [0.2222222222222222, \"#7201a8\"], [0.3333333333333333, \"#9c179e\"], [0.4444444444444444, \"#bd3786\"], [0.5555555555555556, \"#d8576b\"], [0.6666666666666666, \"#ed7953\"], [0.7777777777777778, \"#fb9f3a\"], [0.8888888888888888, \"#fdca26\"], [1.0, \"#f0f921\"]], \"type\": \"heatmapgl\"}], \"histogram\": [{\"marker\": {\"colorbar\": {\"outlinewidth\": 0, \"ticks\": \"\"}}, \"type\": \"histogram\"}], \"histogram2d\": [{\"colorbar\": {\"outlinewidth\": 0, \"ticks\": \"\"}, \"colorscale\": [[0.0, \"#0d0887\"], [0.1111111111111111, \"#46039f\"], [0.2222222222222222, \"#7201a8\"], [0.3333333333333333, \"#9c179e\"], [0.4444444444444444, \"#bd3786\"], [0.5555555555555556, \"#d8576b\"], [0.6666666666666666, \"#ed7953\"], [0.7777777777777778, \"#fb9f3a\"], [0.8888888888888888, \"#fdca26\"], [1.0, \"#f0f921\"]], \"type\": \"histogram2d\"}], \"histogram2dcontour\": [{\"colorbar\": {\"outlinewidth\": 0, \"ticks\": \"\"}, \"colorscale\": [[0.0, \"#0d0887\"], [0.1111111111111111, \"#46039f\"], [0.2222222222222222, \"#7201a8\"], [0.3333333333333333, \"#9c179e\"], [0.4444444444444444, \"#bd3786\"], [0.5555555555555556, \"#d8576b\"], [0.6666666666666666, \"#ed7953\"], [0.7777777777777778, \"#fb9f3a\"], [0.8888888888888888, \"#fdca26\"], [1.0, \"#f0f921\"]], \"type\": \"histogram2dcontour\"}], \"mesh3d\": [{\"colorbar\": {\"outlinewidth\": 0, \"ticks\": \"\"}, \"type\": \"mesh3d\"}], \"parcoords\": [{\"line\": {\"colorbar\": {\"outlinewidth\": 0, \"ticks\": \"\"}}, \"type\": \"parcoords\"}], \"pie\": [{\"automargin\": true, \"type\": \"pie\"}], \"scatter\": [{\"marker\": {\"colorbar\": {\"outlinewidth\": 0, \"ticks\": \"\"}}, \"type\": \"scatter\"}], \"scatter3d\": [{\"line\": {\"colorbar\": {\"outlinewidth\": 0, \"ticks\": \"\"}}, \"marker\": {\"colorbar\": {\"outlinewidth\": 0, \"ticks\": \"\"}}, \"type\": \"scatter3d\"}], \"scattercarpet\": [{\"marker\": {\"colorbar\": {\"outlinewidth\": 0, \"ticks\": \"\"}}, \"type\": \"scattercarpet\"}], \"scattergeo\": [{\"marker\": {\"colorbar\": {\"outlinewidth\": 0, \"ticks\": \"\"}}, \"type\": \"scattergeo\"}], \"scattergl\": [{\"marker\": {\"colorbar\": {\"outlinewidth\": 0, \"ticks\": \"\"}}, \"type\": \"scattergl\"}], \"scattermapbox\": [{\"marker\": {\"colorbar\": {\"outlinewidth\": 0, \"ticks\": \"\"}}, \"type\": \"scattermapbox\"}], \"scatterpolar\": [{\"marker\": {\"colorbar\": {\"outlinewidth\": 0, \"ticks\": \"\"}}, \"type\": \"scatterpolar\"}], \"scatterpolargl\": [{\"marker\": {\"colorbar\": {\"outlinewidth\": 0, \"ticks\": \"\"}}, \"type\": \"scatterpolargl\"}], \"scatterternary\": [{\"marker\": {\"colorbar\": {\"outlinewidth\": 0, \"ticks\": \"\"}}, \"type\": \"scatterternary\"}], \"surface\": [{\"colorbar\": {\"outlinewidth\": 0, \"ticks\": \"\"}, \"colorscale\": [[0.0, \"#0d0887\"], [0.1111111111111111, \"#46039f\"], [0.2222222222222222, \"#7201a8\"], [0.3333333333333333, \"#9c179e\"], [0.4444444444444444, \"#bd3786\"], [0.5555555555555556, \"#d8576b\"], [0.6666666666666666, \"#ed7953\"], [0.7777777777777778, \"#fb9f3a\"], [0.8888888888888888, \"#fdca26\"], [1.0, \"#f0f921\"]], \"type\": \"surface\"}], \"table\": [{\"cells\": {\"fill\": {\"color\": \"#EBF0F8\"}, \"line\": {\"color\": \"white\"}}, \"header\": {\"fill\": {\"color\": \"#C8D4E3\"}, \"line\": {\"color\": \"white\"}}, \"type\": \"table\"}]}, \"layout\": {\"annotationdefaults\": {\"arrowcolor\": \"#2a3f5f\", \"arrowhead\": 0, \"arrowwidth\": 1}, \"autotypenumbers\": \"strict\", \"coloraxis\": {\"colorbar\": {\"outlinewidth\": 0, \"ticks\": \"\"}}, \"colorscale\": {\"diverging\": [[0, \"#8e0152\"], [0.1, \"#c51b7d\"], [0.2, \"#de77ae\"], [0.3, \"#f1b6da\"], [0.4, \"#fde0ef\"], [0.5, \"#f7f7f7\"], [0.6, \"#e6f5d0\"], [0.7, \"#b8e186\"], [0.8, \"#7fbc41\"], [0.9, \"#4d9221\"], [1, \"#276419\"]], \"sequential\": [[0.0, \"#0d0887\"], [0.1111111111111111, \"#46039f\"], [0.2222222222222222, \"#7201a8\"], [0.3333333333333333, \"#9c179e\"], [0.4444444444444444, \"#bd3786\"], [0.5555555555555556, \"#d8576b\"], [0.6666666666666666, \"#ed7953\"], [0.7777777777777778, \"#fb9f3a\"], [0.8888888888888888, \"#fdca26\"], [1.0, \"#f0f921\"]], \"sequentialminus\": [[0.0, \"#0d0887\"], [0.1111111111111111, \"#46039f\"], [0.2222222222222222, \"#7201a8\"], [0.3333333333333333, \"#9c179e\"], [0.4444444444444444, \"#bd3786\"], [0.5555555555555556, \"#d8576b\"], [0.6666666666666666, \"#ed7953\"], [0.7777777777777778, \"#fb9f3a\"], [0.8888888888888888, \"#fdca26\"], [1.0, \"#f0f921\"]]}, \"colorway\": [\"#636efa\", \"#EF553B\", \"#00cc96\", \"#ab63fa\", \"#FFA15A\", \"#19d3f3\", \"#FF6692\", \"#B6E880\", \"#FF97FF\", \"#FECB52\"], \"font\": {\"color\": \"#2a3f5f\"}, \"geo\": {\"bgcolor\": \"white\", \"lakecolor\": \"white\", \"landcolor\": \"#E5ECF6\", \"showlakes\": true, \"showland\": true, \"subunitcolor\": \"white\"}, \"hoverlabel\": {\"align\": \"left\"}, \"hovermode\": \"closest\", \"mapbox\": {\"style\": \"light\"}, \"paper_bgcolor\": \"white\", \"plot_bgcolor\": \"#E5ECF6\", \"polar\": {\"angularaxis\": {\"gridcolor\": \"white\", \"linecolor\": \"white\", \"ticks\": \"\"}, \"bgcolor\": \"#E5ECF6\", \"radialaxis\": {\"gridcolor\": \"white\", \"linecolor\": \"white\", \"ticks\": \"\"}}, \"scene\": {\"xaxis\": {\"backgroundcolor\": \"#E5ECF6\", \"gridcolor\": \"white\", \"gridwidth\": 2, \"linecolor\": \"white\", \"showbackground\": true, \"ticks\": \"\", \"zerolinecolor\": \"white\"}, \"yaxis\": {\"backgroundcolor\": \"#E5ECF6\", \"gridcolor\": \"white\", \"gridwidth\": 2, \"linecolor\": \"white\", \"showbackground\": true, \"ticks\": \"\", \"zerolinecolor\": \"white\"}, \"zaxis\": {\"backgroundcolor\": \"#E5ECF6\", \"gridcolor\": \"white\", \"gridwidth\": 2, \"linecolor\": \"white\", \"showbackground\": true, \"ticks\": \"\", \"zerolinecolor\": \"white\"}}, \"shapedefaults\": {\"line\": {\"color\": \"#2a3f5f\"}}, \"ternary\": {\"aaxis\": {\"gridcolor\": \"white\", \"linecolor\": \"white\", \"ticks\": \"\"}, \"baxis\": {\"gridcolor\": \"white\", \"linecolor\": \"white\", \"ticks\": \"\"}, \"bgcolor\": \"#E5ECF6\", \"caxis\": {\"gridcolor\": \"white\", \"linecolor\": \"white\", \"ticks\": \"\"}}, \"title\": {\"x\": 0.05}, \"xaxis\": {\"automargin\": true, \"gridcolor\": \"white\", \"linecolor\": \"white\", \"ticks\": \"\", \"title\": {\"standoff\": 15}, \"zerolinecolor\": \"white\", \"zerolinewidth\": 2}, \"yaxis\": {\"automargin\": true, \"gridcolor\": \"white\", \"linecolor\": \"white\", \"ticks\": \"\", \"title\": {\"standoff\": 15}, \"zerolinecolor\": \"white\", \"zerolinewidth\": 2}}}, \"xaxis\": {\"anchor\": \"y\", \"domain\": [0.0, 1.0], \"title\": {\"text\": \"parental level of education\"}}, \"yaxis\": {\"anchor\": \"x\", \"domain\": [0.0, 1.0], \"title\": {\"text\": \"promedio\"}}},                        {\"responsive\": true}                    ).then(function(){\n",
              "                            \n",
              "var gd = document.getElementById('303e5327-0a13-48ea-b189-c5c246d55e52');\n",
              "var x = new MutationObserver(function (mutations, observer) {{\n",
              "        var display = window.getComputedStyle(gd).display;\n",
              "        if (!display || display === 'none') {{\n",
              "            console.log([gd, 'removed!']);\n",
              "            Plotly.purge(gd);\n",
              "            observer.disconnect();\n",
              "        }}\n",
              "}});\n",
              "\n",
              "// Listen for the removal of the full notebook cells\n",
              "var notebookContainer = gd.closest('#notebook-container');\n",
              "if (notebookContainer) {{\n",
              "    x.observe(notebookContainer, {childList: true});\n",
              "}}\n",
              "\n",
              "// Listen for the clearing of the current output cell\n",
              "var outputEl = gd.closest('.output');\n",
              "if (outputEl) {{\n",
              "    x.observe(outputEl, {childList: true});\n",
              "}}\n",
              "\n",
              "                        })                };                            </script>        </div>\n",
              "</body>\n",
              "</html>"
            ]
          },
          "metadata": {
            "tags": []
          }
        }
      ]
    },
    {
      "cell_type": "markdown",
      "metadata": {
        "id": "5LXIAxkRFYdy"
      },
      "source": [
        "En la visualización anterior se muestran gráficos de caja del promedio obtenido por los estudiantes, según el nivel educacional de sus padres. En ella se pude ver que los hijos de personas que no terminaron la escuela secundaria tienen mayor número de ocurrencias en notas bajas y una varianza mayor al resto de las categorías. Por el contrario los hijos de personas con grado de magister tienen mejores notas. Lo anterior no es concluyente, debido a que el número de personas de cada grupo está desbalanceado y por lo tanto no son comparables."
      ]
    },
    {
      "cell_type": "markdown",
      "metadata": {
        "id": "Rg4ZMq8ezAH6"
      },
      "source": [
        "# Conclusión\n",
        "Eso ha sido todo para el lab de hoy, recuerden que el laboratorio tiene un plazo de entrega de una semana y que **los días de atraso no se pueden utilizar para entregas de lab** solo para tareas. Cualquier duda del laboratorio, no duden en contactarnos por mail o U-cursos.\n",
        "\n",
        "<p align=\"center\">\n",
        "  <img src=\"https://media1.tenor.com/images/2f7df460196625edc45b8380d158e5ee/tenor.gif?itemid=16669403\">\n",
        "</p>"
      ]
    },
    {
      "cell_type": "markdown",
      "metadata": {
        "id": "wCL1lACBzAH7"
      },
      "source": [
        "<br>\n",
        "<center>\n",
        "<img src=\"https://i.kym-cdn.com/photos/images/original/001/194/195/b18.png\" width=100 height=50 />\n",
        "</center>\n",
        "<br>"
      ]
    }
  ]
}