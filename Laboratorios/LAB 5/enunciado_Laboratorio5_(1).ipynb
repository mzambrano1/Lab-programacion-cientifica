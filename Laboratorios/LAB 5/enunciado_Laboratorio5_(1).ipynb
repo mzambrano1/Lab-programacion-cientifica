{
  "nbformat": 4,
  "nbformat_minor": 0,
  "metadata": {
    "kernelspec": {
      "display_name": "Python 3",
      "language": "python",
      "name": "python3"
    },
    "language_info": {
      "codemirror_mode": {
        "name": "ipython",
        "version": 3
      },
      "file_extension": ".py",
      "mimetype": "text/x-python",
      "name": "python",
      "nbconvert_exporter": "python",
      "pygments_lexer": "ipython3",
      "version": "3.8.3"
    },
    "toc": {
      "base_numbering": 1,
      "nav_menu": {},
      "number_sections": true,
      "sideBar": true,
      "skip_h1_title": true,
      "title_cell": "Tabla de Contenidos",
      "title_sidebar": "Contenidos",
      "toc_cell": false,
      "toc_position": {
        "height": "calc(100% - 180px)",
        "left": "10px",
        "top": "150px",
        "width": "241.867px"
      },
      "toc_section_display": true,
      "toc_window_display": true
    },
    "varInspector": {
      "cols": {
        "lenName": 16,
        "lenType": 16,
        "lenVar": 40
      },
      "kernels_config": {
        "python": {
          "delete_cmd_postfix": "",
          "delete_cmd_prefix": "del ",
          "library": "var_list.py",
          "varRefreshCmd": "print(var_dic_list())"
        },
        "r": {
          "delete_cmd_postfix": ") ",
          "delete_cmd_prefix": "rm(",
          "library": "var_list.r",
          "varRefreshCmd": "cat(var_dic_list()) "
        }
      },
      "types_to_exclude": [
        "module",
        "function",
        "builtin_function_or_method",
        "instance",
        "_Feature"
      ],
      "window_display": false
    },
    "colab": {
      "name": "enunciado_Laboratorio5 (1).ipynb",
      "provenance": [],
      "collapsed_sections": [],
      "toc_visible": true
    }
  },
  "cells": [
    {
      "cell_type": "markdown",
      "metadata": {
        "id": "XUZ1dFPHzAHl"
      },
      "source": [
        "<h1><center>Laboratorio 5: Benchmark Bayesiano 🧮</center></h1>\n",
        "\n",
        "<center><strong>MDS7202: Laboratorio de Programación Científica para Ciencia de Datos</strong></center>"
      ]
    },
    {
      "cell_type": "markdown",
      "metadata": {
        "id": "UD8X1uhGzAHq"
      },
      "source": [
        "### Cuerpo Docente:\n",
        "\n",
        "- Profesor: Pablo Badilla\n",
        "- Auxiliar: Ignacio Meza D.\n",
        "- Ayudante: Diego Irarrázaval"
      ]
    },
    {
      "cell_type": "markdown",
      "metadata": {
        "id": "tXflExjqzAHr"
      },
      "source": [
        "### Equipo: SUPER IMPORTANTE - notebooks sin nombre no serán revisados\n",
        "\n",
        "- Nombre de alumno 1: Joaquín Ortega\n",
        "- Nombre de alumno 2: MAría José Zambrano\n"
      ]
    },
    {
      "cell_type": "markdown",
      "metadata": {
        "id": "AD-V0bbZzAHr"
      },
      "source": [
        "### **Link de repositorio de GitHub:** https://github.com/mzambrano1/Lab-programacion-cientifica"
      ]
    },
    {
      "cell_type": "markdown",
      "metadata": {
        "id": "EcnsiQMkzAHr"
      },
      "source": [
        "### Indice \n",
        "\n",
        "1. [Temas a tratar](#Temas-a-tratar:)\n",
        "3. [Descripcción del laboratorio](#Descripción-del-laboratorio.)\n",
        "4. [Objetivos principales del laboratorio](#Objetivos-principales-del-laboratorio)"
      ]
    },
    {
      "cell_type": "markdown",
      "metadata": {
        "id": "6uBLPj1PzAHs"
      },
      "source": [
        "# Temas a tratar\n",
        "\n",
        "- Optimización de Código en Python.\n",
        "- Utilización de librerías para medir el tiempo de ejecución de funciones.\n",
        "- Métodos para optimizar el rendimiento de las funciones.\n",
        "\n",
        "# Reglas:\n",
        "\n",
        "- Fecha de entrega: 4/06/2021\n",
        "- **Grupos de 2 personas**\n",
        "- **Ausentes** deberán realizar la actividad solos. \n",
        "- Cualquier duda fuera del horario de clases al foro. Mensajes al equipo docente serán respondidos por este medio.\n",
        "- Prohibidas las copias. \n",
        "- Pueden usar cualquer matrial del curso que estimen conveniente.\n",
        "\n",
        "# Objetivos principales del laboratorio\n",
        "\n",
        "- Obtener datos desde Reddit y visualizar cuales post son más probables que sean puntuados positivamente.\n",
        "- Aplicar un atajo bayesiano para obtener la mean posterior de datos.\n",
        "- Optimizar a través de librerías funciones."
      ]
    },
    {
      "cell_type": "markdown",
      "metadata": {
        "id": "MhISwri4zAHy"
      },
      "source": [
        "#Importamos librerias utiles 😸"
      ]
    },
    {
      "cell_type": "code",
      "metadata": {
        "id": "cO7AQ9ciQ59U"
      },
      "source": [
        "%%capture\n",
        "!pip install praw\n",
        "!pip install line_profiler\n",
        "!pip install memory_profiler\n",
        "import sys\n",
        "import praw\n",
        "import time\n",
        "import numpy as np\n",
        "import pandas as pd\n",
        "from numba import jit\n",
        "import plotly.express as px\n",
        "from functools import lru_cache\n",
        "from IPython.core.display import Image"
      ],
      "execution_count": 1,
      "outputs": []
    },
    {
      "cell_type": "markdown",
      "metadata": {
        "id": "xpOTbQcxbSiy"
      },
      "source": [
        "# 1. Recomendando Posts de Subreddit"
      ]
    },
    {
      "cell_type": "markdown",
      "metadata": {
        "id": "3Q93vbNS25bM"
      },
      "source": [
        "<p align=\"center\">\n",
        "  <img src=\"https://styles.redditmedia.com/t5_2rer8/styles/bannerBackgroundImage_6o2td1zc54671.jpg?width=4000&format=pjpg&s=600bcf8560dff264f1cc7c0785ba5f6d529e0c28\" width=\"10000\">\n",
        "</p>"
      ]
    },
    {
      "cell_type": "markdown",
      "metadata": {
        "id": "jnmZfFpxTTYX"
      },
      "source": [
        "Unos intrépidos alumnos del curso, quienes frecuentemente participan en subreddits y foros de reviews, se preguntan lo siguiente: ¿Podremos confiar que un post es bueno, si este tiene solamente 1 o 3 votos positivos?. los compañeros, creen que esto claramente no representa una opinión general, ya que estamos mucho menos seguros acerca de la verdadera proporción de votos a favor de los comentarios con pocos datos. ¿Pero cómo podemos obtener una representación más creíble para este problema?.\n",
        "\n",
        "Lo señalado forma parte de un problema Bayesiano, donde a través del cálculo de la posterior se puede conocer que tan probable es que un post sea bueno. Para efectos de este laboratorio, no se exige un conocimiento previo para resolver este problema, simplemente se deberá aplicar las ecuaciones presentadas más adelante (De igual forma si quedan interesados sobre el tema se les invita a tomar el ramo [CC6104](https://github.com/dccuchile/CC6104))."
      ]
    },
    {
      "cell_type": "markdown",
      "metadata": {
        "id": "xdbrb3AMi6EF"
      },
      "source": [
        "## 1.1 Obtención de Subrredits y Análisis"
      ]
    },
    {
      "cell_type": "markdown",
      "metadata": {
        "id": "YI-IRspcjPee"
      },
      "source": [
        "Para estudiar que tan probable es que un post sea positivo se comenzará cargando datos reales del subreddit chile desde reddit (si usted desea puede cambiar el subreddit a uno de su gusto). Para esto le proponemos la utilización de la función que aparece mas abajo, la que presenta un usuario ya creado por el equipo docente. Dese un tiempo para entender que hace cada parte de la función, visualizando que se obtiene de estas.\n",
        "\n",
        "Revisada la función, utilice un **perfilador** para monitorear el tiempo y memoria que les toma a las subfunciones ser ejecutadas (por linea de código, vean las clases). Señale cuales son los procesos que mas tiempo consumen en la ejecución del Código, comentando si es posible mejorar el desempeño de la función.\n",
        "\n",
        "**TO-DO:**\n",
        "- [ ] Estudiar la función propuesta por el equipo docente.\n",
        "- [ ] Estudiar los tiempos de ejecución del Código a través de un perfilador."
      ]
    },
    {
      "cell_type": "code",
      "metadata": {
        "id": "R4PQbceVPJzh"
      },
      "source": [
        "#%%file praw_reddit_module.py\n",
        "\n",
        "def praw_reddit(nombre_subreddit = 'chile', n_hot = 1000):\n",
        "  reddit = praw.Reddit(client_id='-w2hyFINxZ8T3g',\n",
        "                     client_secret='zGPCI4s3g6Ic6AsRi7vIpP0NoxbFdw',\n",
        "                     password='ClasesMDS7202',\n",
        "                     user_agent='Clases',\n",
        "                     username='DocenciaDataScience', check_for_async=False)\n",
        "  subreddit  = reddit.subreddit(nombre_subreddit)\n",
        "\n",
        "  votes, post, url = {}, {}, {}\n",
        "  top_submissions = list(subreddit.hot(limit = n_hot))\n",
        "  for it, top_n in enumerate(range(50, len(top_submissions),50)):\n",
        "    top_n_submissions = top_submissions[:top_n]\n",
        "    upvotes, downvotes, url[it], post[it] = [], [], [], []\n",
        "\n",
        "    for submission in top_n_submissions:\n",
        "        try:\n",
        "            ratio = submission.upvote_ratio\n",
        "            ups = int(round((ratio*submission.score)/(2*ratio - 1)) if ratio != 0.5 else round(submission.score/2))\n",
        "            upvotes.append(ups)\n",
        "            downvotes.append(ups - submission.score)\n",
        "            post[it].append(submission.title)\n",
        "            url[it].append(submission.url)\n",
        "        except Exception as e:\n",
        "            continue\n",
        "    votes[it] = np.array([upvotes, downvotes]).T\n",
        "  return votes, post, url"
      ],
      "execution_count": 6,
      "outputs": []
    },
    {
      "cell_type": "code",
      "metadata": {
        "colab": {
          "base_uri": "https://localhost:8080/"
        },
        "id": "whJ8tg8w87zB",
        "outputId": "cac940a4-c134-43a8-f524-1e973baa5fd8"
      },
      "source": [
        "%load_ext line_profiler"
      ],
      "execution_count": null,
      "outputs": [
        {
          "output_type": "stream",
          "text": [
            "The line_profiler extension is already loaded. To reload it, use:\n",
            "  %reload_ext line_profiler\n"
          ],
          "name": "stdout"
        }
      ]
    },
    {
      "cell_type": "code",
      "metadata": {
        "id": "8JZisW6fm0RB"
      },
      "source": [
        "%lprun -f praw_reddit praw_reddit()"
      ],
      "execution_count": null,
      "outputs": []
    },
    {
      "cell_type": "code",
      "metadata": {
        "colab": {
          "base_uri": "https://localhost:8080/"
        },
        "id": "fNh3IdGtBg4z",
        "outputId": "8c7de16f-d03c-4a36-9b92-63129726877e"
      },
      "source": [
        "!pip install line_profiler\n",
        "%load_ext line_profiler\n",
        "%lprun -f praw_reddit praw_reddit()"
      ],
      "execution_count": null,
      "outputs": [
        {
          "output_type": "stream",
          "text": [
            "Requirement already satisfied: line_profiler in /usr/local/lib/python3.7/dist-packages (3.3.0)\n",
            "Requirement already satisfied: IPython>=0.13; python_version >= \"3.7\" in /usr/local/lib/python3.7/dist-packages (from line_profiler) (5.5.0)\n",
            "Requirement already satisfied: pickleshare in /usr/local/lib/python3.7/dist-packages (from IPython>=0.13; python_version >= \"3.7\"->line_profiler) (0.7.5)\n",
            "Requirement already satisfied: pexpect; sys_platform != \"win32\" in /usr/local/lib/python3.7/dist-packages (from IPython>=0.13; python_version >= \"3.7\"->line_profiler) (4.8.0)\n",
            "Requirement already satisfied: traitlets>=4.2 in /usr/local/lib/python3.7/dist-packages (from IPython>=0.13; python_version >= \"3.7\"->line_profiler) (5.0.5)\n",
            "Requirement already satisfied: prompt-toolkit<2.0.0,>=1.0.4 in /usr/local/lib/python3.7/dist-packages (from IPython>=0.13; python_version >= \"3.7\"->line_profiler) (1.0.18)\n",
            "Requirement already satisfied: pygments in /usr/local/lib/python3.7/dist-packages (from IPython>=0.13; python_version >= \"3.7\"->line_profiler) (2.6.1)\n",
            "Requirement already satisfied: simplegeneric>0.8 in /usr/local/lib/python3.7/dist-packages (from IPython>=0.13; python_version >= \"3.7\"->line_profiler) (0.8.1)\n",
            "Requirement already satisfied: setuptools>=18.5 in /usr/local/lib/python3.7/dist-packages (from IPython>=0.13; python_version >= \"3.7\"->line_profiler) (57.0.0)\n",
            "Requirement already satisfied: decorator in /usr/local/lib/python3.7/dist-packages (from IPython>=0.13; python_version >= \"3.7\"->line_profiler) (4.4.2)\n",
            "Requirement already satisfied: ptyprocess>=0.5 in /usr/local/lib/python3.7/dist-packages (from pexpect; sys_platform != \"win32\"->IPython>=0.13; python_version >= \"3.7\"->line_profiler) (0.7.0)\n",
            "Requirement already satisfied: ipython-genutils in /usr/local/lib/python3.7/dist-packages (from traitlets>=4.2->IPython>=0.13; python_version >= \"3.7\"->line_profiler) (0.2.0)\n",
            "Requirement already satisfied: six>=1.9.0 in /usr/local/lib/python3.7/dist-packages (from prompt-toolkit<2.0.0,>=1.0.4->IPython>=0.13; python_version >= \"3.7\"->line_profiler) (1.15.0)\n",
            "Requirement already satisfied: wcwidth in /usr/local/lib/python3.7/dist-packages (from prompt-toolkit<2.0.0,>=1.0.4->IPython>=0.13; python_version >= \"3.7\"->line_profiler) (0.2.5)\n",
            "The line_profiler extension is already loaded. To reload it, use:\n",
            "  %reload_ext line_profiler\n"
          ],
          "name": "stdout"
        }
      ]
    },
    {
      "cell_type": "code",
      "metadata": {
        "id": "xMTnyMsNbiU0"
      },
      "source": [
        "!pip install memory_profiler\n",
        "%load_ext memory_profiler\n",
        "%mprun -f praw_reddit praw_reddit()"
      ],
      "execution_count": null,
      "outputs": []
    },
    {
      "cell_type": "markdown",
      "metadata": {
        "id": "-diI_GpXmzqS"
      },
      "source": [
        "\n",
        "**Respuesta:**"
      ]
    },
    {
      "cell_type": "markdown",
      "metadata": {
        "id": "6gdqQBi1m_cu"
      },
      "source": [
        "# Tiempo de ejecución\n",
        "\n",
        "Timer unit: 1e-06 s\n",
        "\n",
        "Total time: 14.3682 s\n",
        "File: <ipython-input-6-8fa850861273>\n",
        "Function: praw_reddit at line 3\n",
        "\n",
        "    Line #      Hits         Time  Per Hit   % Time  Line Contents\n",
        "\n",
        "     3                                           def praw_reddit(nombre_subreddit = 'chile', n_hot = 1000):\n",
        "     4         1          6.0      6.0      0.0    reddit = praw.Reddit(client_id='-w2hyFINxZ8T3g',\n",
        "     5         1          2.0      2.0      0.0                       client_secret='zGPCI4s3g6Ic6AsRi7vIpP0NoxbFdw',\n",
        "     6         1          3.0      3.0      0.0                       password='ClasesMDS7202',\n",
        "     7         1          1.0      1.0      0.0                       user_agent='Clases',\n",
        "     8         1       3711.0   3711.0      0.0                       username='DocenciaDataScience', check_for_async=False)\n",
        "     9         1         68.0     68.0      0.0    subreddit  = reddit.subreddit(nombre_subreddit)\n",
        "    10                                           \n",
        "    11         1          2.0      2.0      0.0    votes, post, url = {}, {}, {}\n",
        "    12         1   14258808.0 14258808.0     99.2    top_submissions = list(subreddit.hot(limit = n_hot))\n",
        "    13        20         56.0      2.8      0.0    for it, top_n in enumerate(range(50, len(top_submissions),50)):\n",
        "    14        19        463.0     24.4      0.0      top_n_submissions = top_submissions[:top_n]\n",
        "    15        19        148.0      7.8      0.0      upvotes, downvotes, url[it], post[it] = [], [], [], []\n",
        "    16                                           \n",
        "    17      9519       8944.0      0.9      0.1      for submission in top_n_submissions:\n",
        "    18      9500       7916.0      0.8      0.1          try:\n",
        "    19      9500      16619.0      1.7      0.1              ratio = submission.upvote_ratio\n",
        "    20      9500      18035.0      1.9      0.1              ups = int(round((ratio*submission.score)/(2*ratio - 1)) if ratio != 0.5 else round(submission.score/2))\n",
        "    21      9500       9427.0      1.0      0.1              upvotes.append(ups)\n",
        "    22      9500      10094.0      1.1      0.1              downvotes.append(ups - submission.score)\n",
        "    23      9500      14762.0      1.6      0.1              post[it].append(submission.title)\n",
        "    24      9500      16691.0      1.8      0.1              url[it].append(submission.url)\n",
        "    25                                                   except Exception as e:\n",
        "    26                                                       continue\n",
        "    27        19       2407.0    126.7      0.0      votes[it] = np.array([upvotes, downvotes]).T\n",
        "    28         1          1.0      1.0      0.0    return votes, post, url\n",
        "\n",
        "\n"
      ]
    },
    {
      "cell_type": "markdown",
      "metadata": {
        "id": "c9Ck6TP9J1dE"
      },
      "source": [
        "#Uso de memoria\n",
        "\n",
        "    Line   Mem usage    Increment  Occurences   Line Contents\n",
        "\n",
        "     4     67.3 MiB     67.3 MiB           1   def praw_reddit(nombre_subreddit = 'chile', n_hot = 1000):\n",
        "     5     67.4 MiB      0.1 MiB           2     reddit = praw.Reddit(client_id='-w2hyFINxZ8T3g',\n",
        "     6     67.3 MiB      0.0 MiB           1                        client_secret='zGPCI4s3g6Ic6AsRi7vIpP0NoxbFdw',\n",
        "     7     67.3 MiB      0.0 MiB           1                        password='ClasesMDS7202',\n",
        "     8     67.3 MiB      0.0 MiB           1                        user_agent='Clases',\n",
        "     9     67.3 MiB      0.0 MiB           1                        username='DocenciaDataScience', check_for_async=False)\n",
        "    10     67.4 MiB      0.0 MiB           1     subreddit  = reddit.subreddit(nombre_subreddit)\n",
        "    11                                         \n",
        "    12     67.4 MiB      0.0 MiB           1     votes, post, url = {}, {}, {}\n",
        "    13     88.2 MiB     20.7 MiB           1     top_submissions = list(subreddit.hot(limit = n_hot))\n",
        "    14     88.2 MiB      0.0 MiB          20     for it, top_n in enumerate(range(50, len(top_submissions),50)):\n",
        "    15     88.2 MiB      0.0 MiB          19       top_n_submissions = top_submissions[:top_n]\n",
        "    16     88.2 MiB      0.0 MiB          19       upvotes, downvotes, url[it], post[it] = [], [], [], []\n",
        "    17                                         \n",
        "    18     88.2 MiB      0.0 MiB        9519       for submission in top_n_submissions:\n",
        "    19     88.2 MiB      0.0 MiB        9500           try:\n",
        "    20     88.2 MiB      0.0 MiB        9500               ratio = submission.upvote_ratio\n",
        "    21     88.2 MiB      0.0 MiB        9500               ups = int(round((ratio*submission.score)/(2*ratio - 1)) if ratio != 0.5 else round(submission.score/2))\n",
        "    22     88.2 MiB      0.0 MiB        9500               upvotes.append(ups)\n",
        "    23     88.2 MiB      0.0 MiB        9500               downvotes.append(ups - submission.score)\n",
        "    24     88.2 MiB      0.0 MiB        9500               post[it].append(submission.title)\n",
        "    25     88.2 MiB      0.0 MiB        9500               url[it].append(submission.url)\n",
        "    26                                                 except Exception as e:\n",
        "    27                                                     continue\n",
        "    28     88.2 MiB      0.0 MiB          19       votes[it] = np.array([upvotes, downvotes]).T\n",
        "    29     88.2 MiB      0.0 MiB           1     return votes, post, url"
      ]
    },
    {
      "cell_type": "markdown",
      "metadata": {
        "id": "tNDS2OpFnMnH"
      },
      "source": [
        "## 1.2 Análisis de Tiempo con Cache"
      ]
    },
    {
      "cell_type": "markdown",
      "metadata": {
        "id": "i3nsxCbAna4t"
      },
      "source": [
        "Sin duda, un factor clave en la mejora del tiempo de ejecución de una aplicación es el uso eficiente de la memoria. Por lo que es importante, que ustedes respondan las siguientes preguntas:\n",
        "1.\t¿Qué es la memoria cache y a que se refiere las siglas LRU?\n",
        "2.\t¿Cuáles son los costos que tiene la aplicación de técnicas de Caching?\n",
        "3. ¿Cuál es la consecuencía de ocupar caching en la función anterior?.\n",
        "\n",
        "Respondidas las preguntas, se le solicita que aplique alguna técnica de caching para mejorar el desempeño de la función `praw_reddit`. Para esto compare solo el tiempo de ejecución del algoritmo con y sin caching, señalando el tiempo total de ejecución y el tiempo promedio que le toma ejecutar cada loop a la función. Con lo anterior, ¿es posible visualizar mejoras en este caso?.\n",
        "\n",
        "\n",
        "**TO-DO:**\n",
        "- [ ] Responder preguntas.\n",
        "- [ ] Mejorar el código con cache.\n"
      ]
    },
    {
      "cell_type": "markdown",
      "metadata": {
        "id": "fbQPpvYorOAF"
      },
      "source": [
        "**Respuestas Teóricas:**"
      ]
    },
    {
      "cell_type": "markdown",
      "metadata": {
        "id": "RKfLXDs_rO-w"
      },
      "source": [
        "1. La memoria caché es una memoria auxiliar que utiliza la CPU para almacenamiento temporal de datos recientemente procesados, para un rapido acceso.\n",
        "LRU se refiere al algoritmo de memoria menos usada recientemente (*Least Recently Used*), y tal como su nombre lo dice, es una forma de administrar la memoria almacenada en caché, eliminando los datos que han sido menos usados recientemente, reemplazandolos por los que se quieren usar en el momento.\n",
        "\n",
        "2. El costo que tiene usar estrategias de caching radica en el consumo de memoria, lo cual tiene un costo alto si la memoria está localizada en disco, ya que el acceso podría ser muy lento.\n",
        "\n",
        "3. El uso de caching puede mejorar el tiempo si es que se guardan los datos que retorna Reddit la primera vez que se llama a la función, y se usan las siguientes veces que se llama. Esto pues se evita rehacer una consulta, que como se demostró anteriormente, es lo que más cuesta."
      ]
    },
    {
      "cell_type": "code",
      "metadata": {
        "colab": {
          "base_uri": "https://localhost:8080/"
        },
        "id": "fqIs9K2M5EfT",
        "outputId": "36a3a70e-3cf9-4538-996c-9935be8e8b84"
      },
      "source": [
        "%timeit praw_reddit()"
      ],
      "execution_count": 7,
      "outputs": [
        {
          "output_type": "stream",
          "text": [
            "1 loop, best of 5: 19 s per loop\n"
          ],
          "name": "stdout"
        }
      ]
    },
    {
      "cell_type": "code",
      "metadata": {
        "id": "X0u4WU11rLJd"
      },
      "source": [
        "\n",
        "@lru_cache(maxsize=10000)\n",
        "def praw_reddit(nombre_subreddit = 'chile', n_hot = 1000):\n",
        "  reddit = praw.Reddit(client_id='-w2hyFINxZ8T3g',\n",
        "                     client_secret='zGPCI4s3g6Ic6AsRi7vIpP0NoxbFdw',\n",
        "                     password='ClasesMDS7202',\n",
        "                     user_agent='Clases',\n",
        "                     username='DocenciaDataScience', check_for_async=False)\n",
        "  subreddit  = reddit.subreddit(nombre_subreddit)\n",
        "\n",
        "  votes, post, url = {}, {}, {}\n",
        "  top_submissions = list(subreddit.hot(limit = n_hot))\n",
        "  for it, top_n in enumerate(range(50, len(top_submissions),50)):\n",
        "    top_n_submissions = top_submissions[:top_n]\n",
        "    upvotes, downvotes, url[it], post[it] = [], [], [], []\n",
        "\n",
        "    for submission in top_n_submissions:\n",
        "        try:\n",
        "            ratio = submission.upvote_ratio\n",
        "            ups = int(round((ratio*submission.score)/(2*ratio - 1)) if ratio != 0.5 else round(submission.score/2))\n",
        "            upvotes.append(ups)\n",
        "            downvotes.append(ups - submission.score)\n",
        "            post[it].append(submission.title)\n",
        "            url[it].append(submission.url)\n",
        "        except Exception as e:\n",
        "            continue\n",
        "    votes[it] = np.array([upvotes, downvotes]).T\n",
        "  return votes, post, url"
      ],
      "execution_count": 9,
      "outputs": []
    },
    {
      "cell_type": "code",
      "metadata": {
        "colab": {
          "base_uri": "https://localhost:8080/"
        },
        "id": "CWTxzE_q5GW-",
        "outputId": "1505a61c-18a1-489c-ca34-dc37b4367ee2"
      },
      "source": [
        "%timeit praw_reddit()"
      ],
      "execution_count": 13,
      "outputs": [
        {
          "output_type": "stream",
          "text": [
            "The slowest run took 30.96 times longer than the fastest. This could mean that an intermediate result is being cached.\n",
            "10000000 loops, best of 5: 75.6 ns per loop\n"
          ],
          "name": "stdout"
        }
      ]
    },
    {
      "cell_type": "code",
      "metadata": {
        "id": "zzpFYpuX8UJt"
      },
      "source": [
        "a = praw_reddit()"
      ],
      "execution_count": 14,
      "outputs": []
    },
    {
      "cell_type": "code",
      "metadata": {
        "colab": {
          "base_uri": "https://localhost:8080/"
        },
        "id": "zTuO1E7H8Xn1",
        "outputId": "fff1daa4-a734-41ea-915e-bdb3175ea0cc"
      },
      "source": [
        "a[0][1][:, 1]"
      ],
      "execution_count": 25,
      "outputs": [
        {
          "output_type": "execute_result",
          "data": {
            "text/plain": [
              "array([  0,   0,   4,   5,  23,   2,   3,   1,   7,   1,   1,   8,   2,\n",
              "         1,   1,   0,   6,  21,  52,   5,   1,   0,   0,   0,   6,   6,\n",
              "       149,   5,   0,  31,   4,  69,   0,  12,   1,  13,   9,   1,   0,\n",
              "        20,   2,   0,   2,  17,   5,   8,   3,   2,   2,   4,  11,   1,\n",
              "         0,   4,   2,   0,  11,  12,   4,   4,   3,   4,   0,   2,   4,\n",
              "        16,   7,   1,   2,   4,   5,   3,   1,   6,   0,   3,   8,   0,\n",
              "         1,  23,   4,   1,  14,   9,  13,   0,   0,  33,   1,   0,   5,\n",
              "         9,   1,   5,   0, 108,  27,   1,   5,  35])"
            ]
          },
          "metadata": {
            "tags": []
          },
          "execution_count": 25
        }
      ]
    },
    {
      "cell_type": "markdown",
      "metadata": {
        "id": "2pS26u-trdg6"
      },
      "source": [
        "## 1.3 Obtención de Mean Posterior y Standard Error\n",
        "\n",
        "Una forma de obtener la mean posterior y el Standard Error de los datos de reddit es aplicando un atajo de inferencia Bayesiana. Este atajo se define de la siguiente forma:\n",
        "\n",
        "Sea **a** los votos positivos y **b** los votos negativos del subreddit, tendremos que:\n",
        "\n",
        "$$a = 1+u$$\n",
        "$$b = 1+d$$\n",
        "\n",
        "$$\\sigma= \\dfrac{a}{a+b}+1.65\\sqrt(\\dfrac{ab}{(a + b)^2(a + b + 1)})$$\n",
        "\n",
        "$$\\mu = \\dfrac{a}{a+b}$$\n",
        "\n",
        "Donde $\\mu$ es la mean posterior y $\\sigma$ el standard error.\n",
        "\n",
        "Con lo anterior, genere dos funciones que tengan como salida $\\mu$ y $\\sigma$ de acuerdo a las ecuaciones señaladas. La primera función, deberá ser construida sin el uso de numpy, aplicando for y aplicando comandos nativos de Python. Por otro lado, deberá generar una segunda función con el uso exclusivo de numpy. **OJO** que las funciones deben tener como entrada solo un elemento del diccionario votes (por ejemplo `votes[1]`), por lo que estas no deben tener como entrada el conjunto completo de datos."
      ]
    },
    {
      "cell_type": "code",
      "metadata": {
        "colab": {
          "base_uri": "https://localhost:8080/"
        },
        "id": "wLbjYWsWBpfE",
        "outputId": "f4fe5fac-d7cb-4633-c176-dc4fe0782165"
      },
      "source": [
        "(a[0][1][2]) + 1"
      ],
      "execution_count": 56,
      "outputs": [
        {
          "output_type": "execute_result",
          "data": {
            "text/plain": [
              "array([382,   5])"
            ]
          },
          "metadata": {
            "tags": []
          },
          "execution_count": 56
        }
      ]
    },
    {
      "cell_type": "code",
      "metadata": {
        "colab": {
          "base_uri": "https://localhost:8080/"
        },
        "id": "ZTYSnNv-BcfY",
        "outputId": "76c5cfd4-e464-4c35-e0c8-04432829ba64"
      },
      "source": [
        "np.sqrt(a[0][1][2])"
      ],
      "execution_count": 34,
      "outputs": [
        {
          "output_type": "execute_result",
          "data": {
            "text/plain": [
              "array([19.5192213,  2.       ])"
            ]
          },
          "metadata": {
            "tags": []
          },
          "execution_count": 34
        }
      ]
    },
    {
      "cell_type": "code",
      "metadata": {
        "id": "ahzpJ-Sk0DOD"
      },
      "source": [
        "\n",
        "def intevalos(votos_positivos, votos_negativos):\n",
        "  mu = [] \n",
        "  sigma = []\n",
        "  for i in range(len(votos_positivos)):\n",
        "    a = votos_positivos[i]\n",
        "    b = votos_negativos[i]\n",
        "    m = a/(a+b)\n",
        "    mu.append(m)\n",
        "    s = m + 1.65*(a*b/(a+b)**2*(a+b+1))**(0.5)\n",
        "    \n",
        "\n",
        "\n",
        "def intervalos_numpy(votos_positivos, votos_negativos):\n",
        "  mu = (votos_positivos)/(votos_positivos + votos_negativos)\n",
        "  sigma = mu + 1.65*np.sqrt(votos_positivos*votos_negativos/(votos_positivos+votos_negativos)**2*(votos_positivos+votos_negativos+1))\n",
        "  return mu, sigma\n"
      ],
      "execution_count": 59,
      "outputs": []
    },
    {
      "cell_type": "markdown",
      "metadata": {
        "id": "VhHhiTRYwpGu"
      },
      "source": [
        "## 1.4 Comparación de rendimiento\n",
        "\n",
        "Creadas las funciones de la sección 1.3, de forma iterativa compare los diferentes batches de datos que contiene el diccionario `votes`. Para esto genere un gráfico utilizando plotly, donde se pueda observar las diferencias de tiempo que toma ejecutar las diferentes cantidades de datos. ¿es posible observar una diferencia? ¿a qué se deberá esto?.\n",
        "\n",
        "Aplique el compilador **Numba** sobre las funciones 1.3 y compare el tiempo de ejecución con los obtenidos sin el compilador. Grafique estos tiempos y observe comente los desempeños."
      ]
    },
    {
      "cell_type": "code",
      "metadata": {
        "id": "rIA-jR4pKtat"
      },
      "source": [
        "votes,post,url = praw_reddit()"
      ],
      "execution_count": null,
      "outputs": []
    },
    {
      "cell_type": "code",
      "metadata": {
        "id": "b02IokToxPpO"
      },
      "source": [
        "\n",
        "@jit(nopython=True)\n",
        "def intevalos_JIT(votos_positivos, votos negativos):\n",
        "  mu = [] \n",
        "  sigma = []\n",
        "  for i in range(len(votos_positivos)):\n",
        "    a = votos_positivos[i]\n",
        "    b = votos_negativos[i]\n",
        "    m = a/(a+b)\n",
        "    mu.append(m)\n",
        "    s = m + 1.65*(a*b/(a+b)**2*(a+b+1))**(0.5) \n",
        "\n",
        "@jit(nopython=True)\n",
        "def intevalos_numpy_JIT(votos_positivos, votos negativos):\n",
        "  mu = (votos_positivos)/(votos_positivos + votos_negativos)\n",
        "  sigma = mu + 1.65*np.sqrt(votos_positivos*votos_negativos/(votos_positivos+votos_negativos)**2*(votos_positivos+votos_negativos+1))\n",
        "  return mu, sigma\n"
      ],
      "execution_count": null,
      "outputs": []
    },
    {
      "cell_type": "markdown",
      "metadata": {
        "id": "DljdJw8m0gYC"
      },
      "source": [
        "## 1.5 Plot de Resultados Bayesianos"
      ]
    },
    {
      "cell_type": "markdown",
      "metadata": {
        "id": "cQAxOM5D08Hl"
      },
      "source": [
        "Llego la hora de visualizar los resultados obtenidos, para esto solo ejecute las siguientes celdas y observe lo que sucede :3. ¿Qué logra observar de los resultados?, ¿La solución resulta trivial?\n",
        "\n",
        "En esta sección esperamos que solo comenten con lo que logran visualizar de los dataframes."
      ]
    },
    {
      "cell_type": "code",
      "metadata": {
        "id": "mqJhjNpdCuaW"
      },
      "source": [
        "votes = a[0]\n",
        "post = a[1]\n",
        "url = a[2]"
      ],
      "execution_count": 49,
      "outputs": []
    },
    {
      "cell_type": "code",
      "metadata": {
        "colab": {
          "base_uri": "https://localhost:8080/"
        },
        "id": "QHFfav-8DJ0l",
        "outputId": "9151c4ed-69ec-4453-f673-a7e9ced1456f"
      },
      "source": [
        "votes[len(votes)-1]"
      ],
      "execution_count": 53,
      "outputs": [
        {
          "output_type": "execute_result",
          "data": {
            "text/plain": [
              "array([[  0,   0],\n",
              "       [107,   0],\n",
              "       [381,   4],\n",
              "       ...,\n",
              "       [ 37,   6],\n",
              "       [ 21,   2],\n",
              "       [ 56,   4]])"
            ]
          },
          "metadata": {
            "tags": []
          },
          "execution_count": 53
        }
      ]
    },
    {
      "cell_type": "code",
      "metadata": {
        "colab": {
          "base_uri": "https://localhost:8080/"
        },
        "id": "suIR1uleCnXe",
        "outputId": "3907aa57-742b-41f8-a7cb-daa7ae05c3b6"
      },
      "source": [
        "#yoo\n",
        "votos = votes[len(votes)-1]\n",
        "posteo = post[len(post)-1]\n",
        "print(\"lower bounds aproximados:\")\n",
        "posterior_mean, std_err = intervalos_numpy(votos[:, 0], votos[:, 1])\n",
        "lb = posterior_mean - std_err\n",
        "print(\"\\nTop 20 post ordenador por el limite inferior:\\n\")\n",
        "order = np.argsort(-lb)\n",
        "vote_post = {'Votos (+)':votos[order[:20], 0], 'Votos (-)':votos[order[:20], 1] ,'Post':np.array(posteo)[order[:20]], 'url': np.array(url[len(url)-1])[order[:20]]}\n",
        "df = pd.DataFrame(data=vote_post)\n",
        "ordered_post = df.Post"
      ],
      "execution_count": 60,
      "outputs": [
        {
          "output_type": "stream",
          "text": [
            "lower bounds aproximados:\n",
            "\n",
            "Top 20 post ordenador por el limite inferior:\n",
            "\n"
          ],
          "name": "stdout"
        },
        {
          "output_type": "stream",
          "text": [
            "/usr/local/lib/python3.7/dist-packages/ipykernel_launcher.py:15: RuntimeWarning:\n",
            "\n",
            "invalid value encountered in true_divide\n",
            "\n",
            "/usr/local/lib/python3.7/dist-packages/ipykernel_launcher.py:16: RuntimeWarning:\n",
            "\n",
            "invalid value encountered in true_divide\n",
            "\n"
          ],
          "name": "stderr"
        }
      ]
    },
    {
      "cell_type": "code",
      "metadata": {
        "colab": {
          "base_uri": "https://localhost:8080/",
          "height": 662
        },
        "id": "qkdWG43-ES-l",
        "outputId": "b30f6012-0a2c-4311-8746-4db10523531b"
      },
      "source": [
        "df.sort_values(by=['Votos (+)'], ascending=False)"
      ],
      "execution_count": 64,
      "outputs": [
        {
          "output_type": "execute_result",
          "data": {
            "text/html": [
              "<div>\n",
              "<style scoped>\n",
              "    .dataframe tbody tr th:only-of-type {\n",
              "        vertical-align: middle;\n",
              "    }\n",
              "\n",
              "    .dataframe tbody tr th {\n",
              "        vertical-align: top;\n",
              "    }\n",
              "\n",
              "    .dataframe thead th {\n",
              "        text-align: right;\n",
              "    }\n",
              "</style>\n",
              "<table border=\"1\" class=\"dataframe\">\n",
              "  <thead>\n",
              "    <tr style=\"text-align: right;\">\n",
              "      <th></th>\n",
              "      <th>Votos (+)</th>\n",
              "      <th>Votos (-)</th>\n",
              "      <th>Post</th>\n",
              "      <th>url</th>\n",
              "    </tr>\n",
              "  </thead>\n",
              "  <tbody>\n",
              "    <tr>\n",
              "      <th>4</th>\n",
              "      <td>718</td>\n",
              "      <td>0</td>\n",
              "      <td>Debate presidencial 2005, pregunta clave de Ma...</td>\n",
              "      <td>https://v.redd.it/xj4g8rc5sw671</td>\n",
              "    </tr>\n",
              "    <tr>\n",
              "      <th>8</th>\n",
              "      <td>498</td>\n",
              "      <td>0</td>\n",
              "      <td>Chile inaugurates Latin America's first thermo...</td>\n",
              "      <td>https://www.france24.com/en/live-news/20210608...</td>\n",
              "    </tr>\n",
              "    <tr>\n",
              "      <th>19</th>\n",
              "      <td>252</td>\n",
              "      <td>0</td>\n",
              "      <td>Con 99% de aprobación: Bomberos es la instituc...</td>\n",
              "      <td>https://www.24horas.cl/nacional/bomberos-aprob...</td>\n",
              "    </tr>\n",
              "    <tr>\n",
              "      <th>13</th>\n",
              "      <td>242</td>\n",
              "      <td>0</td>\n",
              "      <td>el arriero Don Jose catalán junto a dos sobrev...</td>\n",
              "      <td>https://i.redd.it/q2oftzqyvo671.jpg</td>\n",
              "    </tr>\n",
              "    <tr>\n",
              "      <th>12</th>\n",
              "      <td>149</td>\n",
              "      <td>0</td>\n",
              "      <td>Medidas medioambientales</td>\n",
              "      <td>https://i.redd.it/vmu9vuv4mq671.jpg</td>\n",
              "    </tr>\n",
              "    <tr>\n",
              "      <th>7</th>\n",
              "      <td>79</td>\n",
              "      <td>0</td>\n",
              "      <td>Germany and Chile sign accord to boost hydroge...</td>\n",
              "      <td>https://www.reuters.com/business/energy/german...</td>\n",
              "    </tr>\n",
              "    <tr>\n",
              "      <th>16</th>\n",
              "      <td>43</td>\n",
              "      <td>0</td>\n",
              "      <td>Por el colapso de la red hospitalaria, nuevame...</td>\n",
              "      <td>https://i.redd.it/t7quevfhig471.jpg</td>\n",
              "    </tr>\n",
              "    <tr>\n",
              "      <th>15</th>\n",
              "      <td>32</td>\n",
              "      <td>0</td>\n",
              "      <td>Subsecretaria Daza señala que si se determina ...</td>\n",
              "      <td>https://www.latercera.com/nacional/noticia/sub...</td>\n",
              "    </tr>\n",
              "    <tr>\n",
              "      <th>14</th>\n",
              "      <td>30</td>\n",
              "      <td>0</td>\n",
              "      <td>Constituyentes: continuidad del presidencialis...</td>\n",
              "      <td>https://www.biobiochile.cl/especial/una-consti...</td>\n",
              "    </tr>\n",
              "    <tr>\n",
              "      <th>9</th>\n",
              "      <td>29</td>\n",
              "      <td>0</td>\n",
              "      <td>170 años del primer viaje de un tren en tierra...</td>\n",
              "      <td>https://www.reddit.com/r/chile/comments/oamj2r...</td>\n",
              "    </tr>\n",
              "    <tr>\n",
              "      <th>5</th>\n",
              "      <td>27</td>\n",
              "      <td>0</td>\n",
              "      <td>Tribunal de Iquique condena a 7 años de presid...</td>\n",
              "      <td>https://www.radiopaulina.cl/2021/06/29/tarapac...</td>\n",
              "    </tr>\n",
              "    <tr>\n",
              "      <th>1</th>\n",
              "      <td>25</td>\n",
              "      <td>0</td>\n",
              "      <td>Casen: La Araucanía se mantiene como la región...</td>\n",
              "      <td>https://www.emol.com/noticias/Economia/2021/07...</td>\n",
              "    </tr>\n",
              "    <tr>\n",
              "      <th>3</th>\n",
              "      <td>23</td>\n",
              "      <td>0</td>\n",
              "      <td>Civiles con antecedentes penales, fallecidos y...</td>\n",
              "      <td>https://m.elmostrador.cl/dia/2021/06/23/civile...</td>\n",
              "    </tr>\n",
              "    <tr>\n",
              "      <th>6</th>\n",
              "      <td>22</td>\n",
              "      <td>0</td>\n",
              "      <td>SII: Rebaja de 50% del impuesto a los combusti...</td>\n",
              "      <td>https://www.df.cl/noticias/empresas/industria/...</td>\n",
              "    </tr>\n",
              "    <tr>\n",
              "      <th>17</th>\n",
              "      <td>14</td>\n",
              "      <td>0</td>\n",
              "      <td>Primer debate de asesores económicos de los pr...</td>\n",
              "      <td>https://youtu.be/_3dXOiVRzj0</td>\n",
              "    </tr>\n",
              "    <tr>\n",
              "      <th>0</th>\n",
              "      <td>14</td>\n",
              "      <td>0</td>\n",
              "      <td>Estudiar Diseño Gráfico en Chile</td>\n",
              "      <td>https://www.reddit.com/r/chile/comments/nxo9gy...</td>\n",
              "    </tr>\n",
              "    <tr>\n",
              "      <th>10</th>\n",
              "      <td>11</td>\n",
              "      <td>0</td>\n",
              "      <td>Alertas sísmicas en Chile: ¿Cuáles hay disponi...</td>\n",
              "      <td>https://pisapapeles.net/alertas-sismicas-en-ch...</td>\n",
              "    </tr>\n",
              "    <tr>\n",
              "      <th>11</th>\n",
              "      <td>7</td>\n",
              "      <td>0</td>\n",
              "      <td>Fonoinfancia de Fundación Integra: la tarea de...</td>\n",
              "      <td>http://www.lanacion.cl/fonoinfancia-de-fundaci...</td>\n",
              "    </tr>\n",
              "    <tr>\n",
              "      <th>18</th>\n",
              "      <td>6</td>\n",
              "      <td>0</td>\n",
              "      <td>Atribuciones de seguridad ciudadana municipal</td>\n",
              "      <td>https://www.reddit.com/r/chile/comments/o4ivye...</td>\n",
              "    </tr>\n",
              "    <tr>\n",
              "      <th>2</th>\n",
              "      <td>2</td>\n",
              "      <td>0</td>\n",
              "      <td>Estafa</td>\n",
              "      <td>https://www.reddit.com/r/chile/comments/odangp...</td>\n",
              "    </tr>\n",
              "  </tbody>\n",
              "</table>\n",
              "</div>"
            ],
            "text/plain": [
              "    Votos (+)  ...                                                url\n",
              "4         718  ...                    https://v.redd.it/xj4g8rc5sw671\n",
              "8         498  ...  https://www.france24.com/en/live-news/20210608...\n",
              "19        252  ...  https://www.24horas.cl/nacional/bomberos-aprob...\n",
              "13        242  ...                https://i.redd.it/q2oftzqyvo671.jpg\n",
              "12        149  ...                https://i.redd.it/vmu9vuv4mq671.jpg\n",
              "7          79  ...  https://www.reuters.com/business/energy/german...\n",
              "16         43  ...                https://i.redd.it/t7quevfhig471.jpg\n",
              "15         32  ...  https://www.latercera.com/nacional/noticia/sub...\n",
              "14         30  ...  https://www.biobiochile.cl/especial/una-consti...\n",
              "9          29  ...  https://www.reddit.com/r/chile/comments/oamj2r...\n",
              "5          27  ...  https://www.radiopaulina.cl/2021/06/29/tarapac...\n",
              "1          25  ...  https://www.emol.com/noticias/Economia/2021/07...\n",
              "3          23  ...  https://m.elmostrador.cl/dia/2021/06/23/civile...\n",
              "6          22  ...  https://www.df.cl/noticias/empresas/industria/...\n",
              "17         14  ...                       https://youtu.be/_3dXOiVRzj0\n",
              "0          14  ...  https://www.reddit.com/r/chile/comments/nxo9gy...\n",
              "10         11  ...  https://pisapapeles.net/alertas-sismicas-en-ch...\n",
              "11          7  ...  http://www.lanacion.cl/fonoinfancia-de-fundaci...\n",
              "18          6  ...  https://www.reddit.com/r/chile/comments/o4ivye...\n",
              "2           2  ...  https://www.reddit.com/r/chile/comments/odangp...\n",
              "\n",
              "[20 rows x 4 columns]"
            ]
          },
          "metadata": {
            "tags": []
          },
          "execution_count": 64
        }
      ]
    },
    {
      "cell_type": "code",
      "metadata": {
        "colab": {
          "base_uri": "https://localhost:8080/",
          "height": 737
        },
        "id": "N5E2mNYXaafI",
        "outputId": "36f8a568-fb8d-4a2b-ff8e-651f206fbe53"
      },
      "source": [
        "\n",
        "votos = votes[len(votes)-1]\n",
        "posteo = post[len(post)-1]\n",
        "print(\"lower bounds aproximados:\")\n",
        "posterior_mean, std_err = intervals_numpy(votos[:, 0], votos[:, 1])\n",
        "lb = posterior_mean - std_err\n",
        "print(\"\\nTop 20 post ordenador por el limite inferior:\\n\")\n",
        "order = np.argsort(-lb)\n",
        "vote_post = {'Votos (+)':votos[order[:20], 0], 'Votos (-)':votos[order[:20], 1] ,'Post':np.array(posteo)[order[:20]], 'url': np.array(url[len(url)-1])[order[:20]]}\n",
        "df = pd.DataFrame(data=vote_post)\n",
        "ordered_post = df.Post\n"
      ],
      "execution_count": null,
      "outputs": [
        {
          "output_type": "stream",
          "text": [
            "lower bounds aproximados:\n",
            "\n",
            "Top 20 post ordenador por el limite inferior:\n",
            "\n"
          ],
          "name": "stdout"
        },
        {
          "output_type": "execute_result",
          "data": {
            "text/html": [
              "<div>\n",
              "<style scoped>\n",
              "    .dataframe tbody tr th:only-of-type {\n",
              "        vertical-align: middle;\n",
              "    }\n",
              "\n",
              "    .dataframe tbody tr th {\n",
              "        vertical-align: top;\n",
              "    }\n",
              "\n",
              "    .dataframe thead th {\n",
              "        text-align: right;\n",
              "    }\n",
              "</style>\n",
              "<table border=\"1\" class=\"dataframe\">\n",
              "  <thead>\n",
              "    <tr style=\"text-align: right;\">\n",
              "      <th></th>\n",
              "      <th>Votos (+)</th>\n",
              "      <th>Votos (-)</th>\n",
              "      <th>Post</th>\n",
              "      <th>url</th>\n",
              "    </tr>\n",
              "  </thead>\n",
              "  <tbody>\n",
              "    <tr>\n",
              "      <th>0</th>\n",
              "      <td>798</td>\n",
              "      <td>0</td>\n",
              "      <td>Entrevista al covid</td>\n",
              "      <td>https://i.redd.it/tnuogzo7og371.jpg</td>\n",
              "    </tr>\n",
              "    <tr>\n",
              "      <th>1</th>\n",
              "      <td>765</td>\n",
              "      <td>0</td>\n",
              "      <td>1900 street scene mural in northern Chile</td>\n",
              "      <td>https://i.redd.it/5mmiiogzli371.jpg</td>\n",
              "    </tr>\n",
              "    <tr>\n",
              "      <th>2</th>\n",
              "      <td>713</td>\n",
              "      <td>0</td>\n",
              "      <td>Debate presidencial 2005, pregunta clave de Ma...</td>\n",
              "      <td>https://v.redd.it/xj4g8rc5sw671</td>\n",
              "    </tr>\n",
              "    <tr>\n",
              "      <th>3</th>\n",
              "      <td>509</td>\n",
              "      <td>0</td>\n",
              "      <td>Usuario de r/chile realiza pregunta a JC Rodrí...</td>\n",
              "      <td>https://v.redd.it/lkth8jvxrw371</td>\n",
              "    </tr>\n",
              "    <tr>\n",
              "      <th>4</th>\n",
              "      <td>499</td>\n",
              "      <td>0</td>\n",
              "      <td>Chile inaugurates Latin America's first thermo...</td>\n",
              "      <td>https://www.france24.com/en/live-news/20210608...</td>\n",
              "    </tr>\n",
              "    <tr>\n",
              "      <th>5</th>\n",
              "      <td>481</td>\n",
              "      <td>0</td>\n",
              "      <td>¿Qué hacer con Talca? Bueno...</td>\n",
              "      <td>https://i.redd.it/1tk589eq89771.png</td>\n",
              "    </tr>\n",
              "    <tr>\n",
              "      <th>6</th>\n",
              "      <td>455</td>\n",
              "      <td>0</td>\n",
              "      <td>El bombardero de Lo Prado: \"Se lo mando seco e...</td>\n",
              "      <td>https://v.redd.it/l6c86bhd2w571</td>\n",
              "    </tr>\n",
              "    <tr>\n",
              "      <th>7</th>\n",
              "      <td>444</td>\n",
              "      <td>0</td>\n",
              "      <td>Aysén hoy 2, no se subieron todas juntas (Bonu...</td>\n",
              "      <td>https://www.reddit.com/gallery/o6f7lr</td>\n",
              "    </tr>\n",
              "    <tr>\n",
              "      <th>8</th>\n",
              "      <td>435</td>\n",
              "      <td>0</td>\n",
              "      <td>Acá no ha pasado nada</td>\n",
              "      <td>https://i.redd.it/f5lvti7pva771.jpg</td>\n",
              "    </tr>\n",
              "    <tr>\n",
              "      <th>9</th>\n",
              "      <td>406</td>\n",
              "      <td>0</td>\n",
              "      <td>OP me concede un pedido de mapa. Se agradece. ...</td>\n",
              "      <td>https://i.redd.it/ha8v9ldtcx371.jpg</td>\n",
              "    </tr>\n",
              "    <tr>\n",
              "      <th>10</th>\n",
              "      <td>338</td>\n",
              "      <td>0</td>\n",
              "      <td>Avión Pingüino Rey de Aerovías DAP que vuela e...</td>\n",
              "      <td>https://i.redd.it/f82si2h743771.jpg</td>\n",
              "    </tr>\n",
              "    <tr>\n",
              "      <th>11</th>\n",
              "      <td>269</td>\n",
              "      <td>0</td>\n",
              "      <td>Cuando el chico Paris y Siches eran compañeros...</td>\n",
              "      <td>https://v.redd.it/nkfiwmwgma571</td>\n",
              "    </tr>\n",
              "    <tr>\n",
              "      <th>12</th>\n",
              "      <td>239</td>\n",
              "      <td>0</td>\n",
              "      <td>el arriero Don Jose catalán junto a dos sobrev...</td>\n",
              "      <td>https://i.redd.it/q2oftzqyvo671.jpg</td>\n",
              "    </tr>\n",
              "    <tr>\n",
              "      <th>13</th>\n",
              "      <td>1231</td>\n",
              "      <td>12</td>\n",
              "      <td>Juan Carlos Bodoque ganó un Copihue de oro en ...</td>\n",
              "      <td>https://v.redd.it/xiopuhpl4c371</td>\n",
              "    </tr>\n",
              "    <tr>\n",
              "      <th>14</th>\n",
              "      <td>1467</td>\n",
              "      <td>15</td>\n",
              "      <td>Soporte VTR</td>\n",
              "      <td>https://i.redd.it/l9e0jclp2r471.jpg</td>\n",
              "    </tr>\n",
              "    <tr>\n",
              "      <th>15</th>\n",
              "      <td>1375</td>\n",
              "      <td>14</td>\n",
              "      <td>los candidatos según twitter</td>\n",
              "      <td>https://i.redd.it/lyuu8s9v11571.jpg</td>\n",
              "    </tr>\n",
              "    <tr>\n",
              "      <th>16</th>\n",
              "      <td>1374</td>\n",
              "      <td>14</td>\n",
              "      <td>Oye mama te quedo medio raro el sandwich</td>\n",
              "      <td>https://i.redd.it/f878usnmx8371.png</td>\n",
              "    </tr>\n",
              "    <tr>\n",
              "      <th>17</th>\n",
              "      <td>1101</td>\n",
              "      <td>11</td>\n",
              "      <td>Parece minha prima</td>\n",
              "      <td>https://i.redd.it/ndugqyskua271.png</td>\n",
              "    </tr>\n",
              "    <tr>\n",
              "      <th>18</th>\n",
              "      <td>940</td>\n",
              "      <td>9</td>\n",
              "      <td>Oh no</td>\n",
              "      <td>https://i.redd.it/2niic4jkkq171.jpg</td>\n",
              "    </tr>\n",
              "    <tr>\n",
              "      <th>19</th>\n",
              "      <td>1168</td>\n",
              "      <td>12</td>\n",
              "      <td>Perritos rechonchos tomando sol en Puerto Varas</td>\n",
              "      <td>https://i.redd.it/03ottobv4b471.jpg</td>\n",
              "    </tr>\n",
              "  </tbody>\n",
              "</table>\n",
              "</div>"
            ],
            "text/plain": [
              "    Votos (+)  ...                                                url\n",
              "0         798  ...                https://i.redd.it/tnuogzo7og371.jpg\n",
              "1         765  ...                https://i.redd.it/5mmiiogzli371.jpg\n",
              "2         713  ...                    https://v.redd.it/xj4g8rc5sw671\n",
              "3         509  ...                    https://v.redd.it/lkth8jvxrw371\n",
              "4         499  ...  https://www.france24.com/en/live-news/20210608...\n",
              "5         481  ...                https://i.redd.it/1tk589eq89771.png\n",
              "6         455  ...                    https://v.redd.it/l6c86bhd2w571\n",
              "7         444  ...              https://www.reddit.com/gallery/o6f7lr\n",
              "8         435  ...                https://i.redd.it/f5lvti7pva771.jpg\n",
              "9         406  ...                https://i.redd.it/ha8v9ldtcx371.jpg\n",
              "10        338  ...                https://i.redd.it/f82si2h743771.jpg\n",
              "11        269  ...                    https://v.redd.it/nkfiwmwgma571\n",
              "12        239  ...                https://i.redd.it/q2oftzqyvo671.jpg\n",
              "13       1231  ...                    https://v.redd.it/xiopuhpl4c371\n",
              "14       1467  ...                https://i.redd.it/l9e0jclp2r471.jpg\n",
              "15       1375  ...                https://i.redd.it/lyuu8s9v11571.jpg\n",
              "16       1374  ...                https://i.redd.it/f878usnmx8371.png\n",
              "17       1101  ...                https://i.redd.it/ndugqyskua271.png\n",
              "18        940  ...                https://i.redd.it/2niic4jkkq171.jpg\n",
              "19       1168  ...                https://i.redd.it/03ottobv4b471.jpg\n",
              "\n",
              "[20 rows x 4 columns]"
            ]
          },
          "metadata": {
            "tags": []
          },
          "execution_count": 18
        }
      ]
    },
    {
      "cell_type": "code",
      "metadata": {
        "colab": {
          "base_uri": "https://localhost:8080/"
        },
        "id": "PeijaT0jLFrm",
        "outputId": "872c4ef3-8e28-4113-9513-c09acd5555fc"
      },
      "source": [
        "std_err[r_order]"
      ],
      "execution_count": 78,
      "outputs": [
        {
          "output_type": "execute_result",
          "data": {
            "text/plain": [
              "array([1., 1., 1., 1., 1., 1., 1., 1., 1., 1., 1., 1., 1., 1., 1., 1., 1.,\n",
              "       1., 1., 1.])"
            ]
          },
          "metadata": {
            "tags": []
          },
          "execution_count": 78
        }
      ]
    },
    {
      "cell_type": "code",
      "metadata": {
        "colab": {
          "base_uri": "https://localhost:8080/",
          "height": 542
        },
        "id": "3MmDzBsFKzXi",
        "outputId": "7fe1c7ba-3432-4dff-bc27-11d7d77eb066"
      },
      "source": [
        "r_order = order[::-1][-20:]\n",
        "data_dic = {'mean':posterior_mean[r_order], 'std_err':std_err[r_order], 'post':ordered_post[::-1]}\n",
        "df = pd.DataFrame(data=data_dic)\n",
        "fig = px.scatter(df, x=\"mean\", y=\"post\",\n",
        "                 error_x=\"std_err\")\n",
        "fig.show()"
      ],
      "execution_count": 65,
      "outputs": [
        {
          "output_type": "display_data",
          "data": {
            "text/html": [
              "<html>\n",
              "<head><meta charset=\"utf-8\" /></head>\n",
              "<body>\n",
              "    <div>\n",
              "            <script src=\"https://cdnjs.cloudflare.com/ajax/libs/mathjax/2.7.5/MathJax.js?config=TeX-AMS-MML_SVG\"></script><script type=\"text/javascript\">if (window.MathJax) {MathJax.Hub.Config({SVG: {font: \"STIX-Web\"}});}</script>\n",
              "                <script type=\"text/javascript\">window.PlotlyConfig = {MathJaxConfig: 'local'};</script>\n",
              "        <script src=\"https://cdn.plot.ly/plotly-latest.min.js\"></script>    \n",
              "            <div id=\"35cb4c44-f9c7-4a96-8455-5b13061f5567\" class=\"plotly-graph-div\" style=\"height:525px; width:100%;\"></div>\n",
              "            <script type=\"text/javascript\">\n",
              "                \n",
              "                    window.PLOTLYENV=window.PLOTLYENV || {};\n",
              "                    \n",
              "                if (document.getElementById(\"35cb4c44-f9c7-4a96-8455-5b13061f5567\")) {\n",
              "                    Plotly.newPlot(\n",
              "                        '35cb4c44-f9c7-4a96-8455-5b13061f5567',\n",
              "                        [{\"error_x\": {\"array\": [1.0, 1.0, 1.0, 1.0, 1.0, 1.0, 1.0, 1.0, 1.0, 1.0, 1.0, 1.0, 1.0, 1.0, 1.0, 1.0, 1.0, 1.0, 1.0, 1.0]}, \"hoverlabel\": {\"namelength\": 0}, \"hovertemplate\": \"mean=%{x}<br>post=%{y}\", \"legendgroup\": \"\", \"marker\": {\"color\": \"#636efa\", \"symbol\": \"circle\"}, \"mode\": \"markers\", \"name\": \"\", \"showlegend\": false, \"type\": \"scatter\", \"x\": [1.0, 1.0, 1.0, 1.0, 1.0, 1.0, 1.0, 1.0, 1.0, 1.0, 1.0, 1.0, 1.0, 1.0, 1.0, 1.0, 1.0, 1.0, 1.0, 1.0], \"xaxis\": \"x\", \"y\": [\"Con 99% de aprobaci\\u00f3n: Bomberos es la instituci\\u00f3n mejor evaluada de Chile seg\\u00fan Cadem\", \"Atribuciones de seguridad ciudadana municipal\", \"Primer debate de asesores econ\\u00f3micos de los precandidatos presidenciales: D\\u00eda 1\", \"Por el colapso de la red hospitalaria, nuevamente se suspenden las cirug\\u00edas electivas por 30 d\\u00edas\", \"Subsecretaria Daza se\\u00f1ala que si se determina una tercera dosis de vacuna, est\\u00e1 se har\\u00eda en septiembre\", \"Constituyentes: continuidad del presidencialismo une a la UDI y el PC\", \"el arriero Don Jose catal\\u00e1n junto a dos sobrevivientes de la ca\\u00edda del avi\\u00f3n uruguayo en la cordillera de los Andes 1972\", \"Medidas medioambientales\", \"Fonoinfancia de Fundaci\\u00f3n Integra: la tarea de brindar apoyo psicoemocional durante la pandemia\", \"Alertas s\\u00edsmicas en Chile: \\u00bfCu\\u00e1les hay disponible y c\\u00f3mo puedo obtenerlas?\", \"170 a\\u00f1os del primer viaje de un tren en tierra Chilena\", \"Chile inaugurates Latin America's first thermosolar plant\", \"Germany and Chile sign accord to boost hydrogen cooperation\", \"SII: Rebaja de 50% del impuesto a los combustibles le costar\\u00eda m\\u00e1s de US$ 1.200 millones en ingresos al Fisco\", \"Tribunal de Iquique condena a 7 a\\u00f1os de presidi\\u00f3 a guardia de seguridad por violacion reiterada\", \"Debate presidencial 2005, pregunta clave de Mauricio Hofmann\", \"Civiles con antecedentes penales, fallecidos y menores de edad con armas inscritas: los hallazgos de la Contralor\\u00eda en auditor\\u00eda a la Direcci\\u00f3n General de Movilizaci\\u00f3n Nacional\", \"Estafa\", \"Casen: La Araucan\\u00eda se mantiene como la regi\\u00f3n con mayor pobreza y Tarapac\\u00e1 es la m\\u00e1s golpeada por la pandemia\", \"Estudiar Dise\\u00f1o Gr\\u00e1fico en Chile\"], \"yaxis\": \"y\"}],\n",
              "                        {\"legend\": {\"tracegroupgap\": 0}, \"margin\": {\"t\": 60}, \"template\": {\"data\": {\"bar\": [{\"error_x\": {\"color\": \"#2a3f5f\"}, \"error_y\": {\"color\": \"#2a3f5f\"}, \"marker\": {\"line\": {\"color\": \"#E5ECF6\", \"width\": 0.5}}, \"type\": \"bar\"}], \"barpolar\": [{\"marker\": {\"line\": {\"color\": \"#E5ECF6\", \"width\": 0.5}}, \"type\": \"barpolar\"}], \"carpet\": [{\"aaxis\": {\"endlinecolor\": \"#2a3f5f\", \"gridcolor\": \"white\", \"linecolor\": \"white\", \"minorgridcolor\": \"white\", \"startlinecolor\": \"#2a3f5f\"}, \"baxis\": {\"endlinecolor\": \"#2a3f5f\", \"gridcolor\": \"white\", \"linecolor\": \"white\", \"minorgridcolor\": \"white\", \"startlinecolor\": \"#2a3f5f\"}, \"type\": \"carpet\"}], \"choropleth\": [{\"colorbar\": {\"outlinewidth\": 0, \"ticks\": \"\"}, \"type\": \"choropleth\"}], \"contour\": [{\"colorbar\": {\"outlinewidth\": 0, \"ticks\": \"\"}, \"colorscale\": [[0.0, \"#0d0887\"], [0.1111111111111111, \"#46039f\"], [0.2222222222222222, \"#7201a8\"], [0.3333333333333333, \"#9c179e\"], [0.4444444444444444, \"#bd3786\"], [0.5555555555555556, \"#d8576b\"], [0.6666666666666666, \"#ed7953\"], [0.7777777777777778, \"#fb9f3a\"], [0.8888888888888888, \"#fdca26\"], [1.0, \"#f0f921\"]], \"type\": \"contour\"}], \"contourcarpet\": [{\"colorbar\": {\"outlinewidth\": 0, \"ticks\": \"\"}, \"type\": \"contourcarpet\"}], \"heatmap\": [{\"colorbar\": {\"outlinewidth\": 0, \"ticks\": \"\"}, \"colorscale\": [[0.0, \"#0d0887\"], [0.1111111111111111, \"#46039f\"], [0.2222222222222222, \"#7201a8\"], [0.3333333333333333, \"#9c179e\"], [0.4444444444444444, \"#bd3786\"], [0.5555555555555556, \"#d8576b\"], [0.6666666666666666, \"#ed7953\"], [0.7777777777777778, \"#fb9f3a\"], [0.8888888888888888, \"#fdca26\"], [1.0, \"#f0f921\"]], \"type\": \"heatmap\"}], \"heatmapgl\": [{\"colorbar\": {\"outlinewidth\": 0, \"ticks\": \"\"}, \"colorscale\": [[0.0, \"#0d0887\"], [0.1111111111111111, \"#46039f\"], [0.2222222222222222, \"#7201a8\"], [0.3333333333333333, \"#9c179e\"], [0.4444444444444444, \"#bd3786\"], [0.5555555555555556, \"#d8576b\"], [0.6666666666666666, \"#ed7953\"], [0.7777777777777778, \"#fb9f3a\"], [0.8888888888888888, \"#fdca26\"], [1.0, \"#f0f921\"]], \"type\": \"heatmapgl\"}], \"histogram\": [{\"marker\": {\"colorbar\": {\"outlinewidth\": 0, \"ticks\": \"\"}}, \"type\": \"histogram\"}], \"histogram2d\": [{\"colorbar\": {\"outlinewidth\": 0, \"ticks\": \"\"}, \"colorscale\": [[0.0, \"#0d0887\"], [0.1111111111111111, \"#46039f\"], [0.2222222222222222, \"#7201a8\"], [0.3333333333333333, \"#9c179e\"], [0.4444444444444444, \"#bd3786\"], [0.5555555555555556, \"#d8576b\"], [0.6666666666666666, \"#ed7953\"], [0.7777777777777778, \"#fb9f3a\"], [0.8888888888888888, \"#fdca26\"], [1.0, \"#f0f921\"]], \"type\": \"histogram2d\"}], \"histogram2dcontour\": [{\"colorbar\": {\"outlinewidth\": 0, \"ticks\": \"\"}, \"colorscale\": [[0.0, \"#0d0887\"], [0.1111111111111111, \"#46039f\"], [0.2222222222222222, \"#7201a8\"], [0.3333333333333333, \"#9c179e\"], [0.4444444444444444, \"#bd3786\"], [0.5555555555555556, \"#d8576b\"], [0.6666666666666666, \"#ed7953\"], [0.7777777777777778, \"#fb9f3a\"], [0.8888888888888888, \"#fdca26\"], [1.0, \"#f0f921\"]], \"type\": \"histogram2dcontour\"}], \"mesh3d\": [{\"colorbar\": {\"outlinewidth\": 0, \"ticks\": \"\"}, \"type\": \"mesh3d\"}], \"parcoords\": [{\"line\": {\"colorbar\": {\"outlinewidth\": 0, \"ticks\": \"\"}}, \"type\": \"parcoords\"}], \"pie\": [{\"automargin\": true, \"type\": \"pie\"}], \"scatter\": [{\"marker\": {\"colorbar\": {\"outlinewidth\": 0, \"ticks\": \"\"}}, \"type\": \"scatter\"}], \"scatter3d\": [{\"line\": {\"colorbar\": {\"outlinewidth\": 0, \"ticks\": \"\"}}, \"marker\": {\"colorbar\": {\"outlinewidth\": 0, \"ticks\": \"\"}}, \"type\": \"scatter3d\"}], \"scattercarpet\": [{\"marker\": {\"colorbar\": {\"outlinewidth\": 0, \"ticks\": \"\"}}, \"type\": \"scattercarpet\"}], \"scattergeo\": [{\"marker\": {\"colorbar\": {\"outlinewidth\": 0, \"ticks\": \"\"}}, \"type\": \"scattergeo\"}], \"scattergl\": [{\"marker\": {\"colorbar\": {\"outlinewidth\": 0, \"ticks\": \"\"}}, \"type\": \"scattergl\"}], \"scattermapbox\": [{\"marker\": {\"colorbar\": {\"outlinewidth\": 0, \"ticks\": \"\"}}, \"type\": \"scattermapbox\"}], \"scatterpolar\": [{\"marker\": {\"colorbar\": {\"outlinewidth\": 0, \"ticks\": \"\"}}, \"type\": \"scatterpolar\"}], \"scatterpolargl\": [{\"marker\": {\"colorbar\": {\"outlinewidth\": 0, \"ticks\": \"\"}}, \"type\": \"scatterpolargl\"}], \"scatterternary\": [{\"marker\": {\"colorbar\": {\"outlinewidth\": 0, \"ticks\": \"\"}}, \"type\": \"scatterternary\"}], \"surface\": [{\"colorbar\": {\"outlinewidth\": 0, \"ticks\": \"\"}, \"colorscale\": [[0.0, \"#0d0887\"], [0.1111111111111111, \"#46039f\"], [0.2222222222222222, \"#7201a8\"], [0.3333333333333333, \"#9c179e\"], [0.4444444444444444, \"#bd3786\"], [0.5555555555555556, \"#d8576b\"], [0.6666666666666666, \"#ed7953\"], [0.7777777777777778, \"#fb9f3a\"], [0.8888888888888888, \"#fdca26\"], [1.0, \"#f0f921\"]], \"type\": \"surface\"}], \"table\": [{\"cells\": {\"fill\": {\"color\": \"#EBF0F8\"}, \"line\": {\"color\": \"white\"}}, \"header\": {\"fill\": {\"color\": \"#C8D4E3\"}, \"line\": {\"color\": \"white\"}}, \"type\": \"table\"}]}, \"layout\": {\"annotationdefaults\": {\"arrowcolor\": \"#2a3f5f\", \"arrowhead\": 0, \"arrowwidth\": 1}, \"coloraxis\": {\"colorbar\": {\"outlinewidth\": 0, \"ticks\": \"\"}}, \"colorscale\": {\"diverging\": [[0, \"#8e0152\"], [0.1, \"#c51b7d\"], [0.2, \"#de77ae\"], [0.3, \"#f1b6da\"], [0.4, \"#fde0ef\"], [0.5, \"#f7f7f7\"], [0.6, \"#e6f5d0\"], [0.7, \"#b8e186\"], [0.8, \"#7fbc41\"], [0.9, \"#4d9221\"], [1, \"#276419\"]], \"sequential\": [[0.0, \"#0d0887\"], [0.1111111111111111, \"#46039f\"], [0.2222222222222222, \"#7201a8\"], [0.3333333333333333, \"#9c179e\"], [0.4444444444444444, \"#bd3786\"], [0.5555555555555556, \"#d8576b\"], [0.6666666666666666, \"#ed7953\"], [0.7777777777777778, \"#fb9f3a\"], [0.8888888888888888, \"#fdca26\"], [1.0, \"#f0f921\"]], \"sequentialminus\": [[0.0, \"#0d0887\"], [0.1111111111111111, \"#46039f\"], [0.2222222222222222, \"#7201a8\"], [0.3333333333333333, \"#9c179e\"], [0.4444444444444444, \"#bd3786\"], [0.5555555555555556, \"#d8576b\"], [0.6666666666666666, \"#ed7953\"], [0.7777777777777778, \"#fb9f3a\"], [0.8888888888888888, \"#fdca26\"], [1.0, \"#f0f921\"]]}, \"colorway\": [\"#636efa\", \"#EF553B\", \"#00cc96\", \"#ab63fa\", \"#FFA15A\", \"#19d3f3\", \"#FF6692\", \"#B6E880\", \"#FF97FF\", \"#FECB52\"], \"font\": {\"color\": \"#2a3f5f\"}, \"geo\": {\"bgcolor\": \"white\", \"lakecolor\": \"white\", \"landcolor\": \"#E5ECF6\", \"showlakes\": true, \"showland\": true, \"subunitcolor\": \"white\"}, \"hoverlabel\": {\"align\": \"left\"}, \"hovermode\": \"closest\", \"mapbox\": {\"style\": \"light\"}, \"paper_bgcolor\": \"white\", \"plot_bgcolor\": \"#E5ECF6\", \"polar\": {\"angularaxis\": {\"gridcolor\": \"white\", \"linecolor\": \"white\", \"ticks\": \"\"}, \"bgcolor\": \"#E5ECF6\", \"radialaxis\": {\"gridcolor\": \"white\", \"linecolor\": \"white\", \"ticks\": \"\"}}, \"scene\": {\"xaxis\": {\"backgroundcolor\": \"#E5ECF6\", \"gridcolor\": \"white\", \"gridwidth\": 2, \"linecolor\": \"white\", \"showbackground\": true, \"ticks\": \"\", \"zerolinecolor\": \"white\"}, \"yaxis\": {\"backgroundcolor\": \"#E5ECF6\", \"gridcolor\": \"white\", \"gridwidth\": 2, \"linecolor\": \"white\", \"showbackground\": true, \"ticks\": \"\", \"zerolinecolor\": \"white\"}, \"zaxis\": {\"backgroundcolor\": \"#E5ECF6\", \"gridcolor\": \"white\", \"gridwidth\": 2, \"linecolor\": \"white\", \"showbackground\": true, \"ticks\": \"\", \"zerolinecolor\": \"white\"}}, \"shapedefaults\": {\"line\": {\"color\": \"#2a3f5f\"}}, \"ternary\": {\"aaxis\": {\"gridcolor\": \"white\", \"linecolor\": \"white\", \"ticks\": \"\"}, \"baxis\": {\"gridcolor\": \"white\", \"linecolor\": \"white\", \"ticks\": \"\"}, \"bgcolor\": \"#E5ECF6\", \"caxis\": {\"gridcolor\": \"white\", \"linecolor\": \"white\", \"ticks\": \"\"}}, \"title\": {\"x\": 0.05}, \"xaxis\": {\"automargin\": true, \"gridcolor\": \"white\", \"linecolor\": \"white\", \"ticks\": \"\", \"title\": {\"standoff\": 15}, \"zerolinecolor\": \"white\", \"zerolinewidth\": 2}, \"yaxis\": {\"automargin\": true, \"gridcolor\": \"white\", \"linecolor\": \"white\", \"ticks\": \"\", \"title\": {\"standoff\": 15}, \"zerolinecolor\": \"white\", \"zerolinewidth\": 2}}}, \"xaxis\": {\"anchor\": \"y\", \"domain\": [0.0, 1.0], \"title\": {\"text\": \"mean\"}}, \"yaxis\": {\"anchor\": \"x\", \"domain\": [0.0, 1.0], \"title\": {\"text\": \"post\"}}},\n",
              "                        {\"responsive\": true}\n",
              "                    ).then(function(){\n",
              "                            \n",
              "var gd = document.getElementById('35cb4c44-f9c7-4a96-8455-5b13061f5567');\n",
              "var x = new MutationObserver(function (mutations, observer) {{\n",
              "        var display = window.getComputedStyle(gd).display;\n",
              "        if (!display || display === 'none') {{\n",
              "            console.log([gd, 'removed!']);\n",
              "            Plotly.purge(gd);\n",
              "            observer.disconnect();\n",
              "        }}\n",
              "}});\n",
              "\n",
              "// Listen for the removal of the full notebook cells\n",
              "var notebookContainer = gd.closest('#notebook-container');\n",
              "if (notebookContainer) {{\n",
              "    x.observe(notebookContainer, {childList: true});\n",
              "}}\n",
              "\n",
              "// Listen for the clearing of the current output cell\n",
              "var outputEl = gd.closest('.output');\n",
              "if (outputEl) {{\n",
              "    x.observe(outputEl, {childList: true});\n",
              "}}\n",
              "\n",
              "                        })\n",
              "                };\n",
              "                \n",
              "            </script>\n",
              "        </div>\n",
              "</body>\n",
              "</html>"
            ]
          },
          "metadata": {
            "tags": []
          }
        }
      ]
    },
    {
      "cell_type": "code",
      "metadata": {
        "colab": {
          "base_uri": "https://localhost:8080/",
          "height": 542
        },
        "id": "ZZ-AY2XTuLa_",
        "outputId": "5e363e6a-701b-4c2e-eb51-f082a8c6d492"
      },
      "source": [
        "r_order = order[::-1][-20:]\n",
        "data_dic = {'mean':posterior_mean[r_order], 'std_err':std_err[r_order], 'post':ordered_post[::-1]}\n",
        "df = pd.DataFrame(data=data_dic)\n",
        "fig = px.scatter(df, x=\"mean\", y=\"post\",\n",
        "                 error_x=\"std_err\")\n",
        "fig.show()"
      ],
      "execution_count": null,
      "outputs": [
        {
          "output_type": "display_data",
          "data": {
            "text/html": [
              "<html>\n",
              "<head><meta charset=\"utf-8\" /></head>\n",
              "<body>\n",
              "    <div>\n",
              "            <script src=\"https://cdnjs.cloudflare.com/ajax/libs/mathjax/2.7.5/MathJax.js?config=TeX-AMS-MML_SVG\"></script><script type=\"text/javascript\">if (window.MathJax) {MathJax.Hub.Config({SVG: {font: \"STIX-Web\"}});}</script>\n",
              "                <script type=\"text/javascript\">window.PlotlyConfig = {MathJaxConfig: 'local'};</script>\n",
              "        <script src=\"https://cdn.plot.ly/plotly-latest.min.js\"></script>    \n",
              "            <div id=\"d28c9f4d-3c57-47fa-a8a4-65a4b5f55a09\" class=\"plotly-graph-div\" style=\"height:525px; width:100%;\"></div>\n",
              "            <script type=\"text/javascript\">\n",
              "                \n",
              "                    window.PLOTLYENV=window.PLOTLYENV || {};\n",
              "                    \n",
              "                if (document.getElementById(\"d28c9f4d-3c57-47fa-a8a4-65a4b5f55a09\")) {\n",
              "                    Plotly.newPlot(\n",
              "                        'd28c9f4d-3c57-47fa-a8a4-65a4b5f55a09',\n",
              "                        [{\"error_x\": {\"array\": [0.005003259481821132, 0.005454811718241544, 0.005100852202043115, 0.004570908814304796, 0.004567641846151265, 0.0044219093535585235, 0.004751520438290441, 0.006818123122470946, 0.006066135170788937, 0.0048386887486990176, 0.004034217711408382, 0.0037671134244782033, 0.0036912658892963067, 0.0036026114623861614, 0.0034090836025000228, 0.0032868460421458796, 0.0032226500791839117, 0.00230446701987202, 0.0021484356739940634, 0.002059923484315851]}, \"hoverlabel\": {\"namelength\": 0}, \"hovertemplate\": \"mean=%{x}<br>post=%{y}\", \"legendgroup\": \"\", \"marker\": {\"color\": \"#636efa\", \"symbol\": \"circle\"}, \"mode\": \"markers\", \"name\": \"\", \"showlegend\": false, \"type\": \"scatter\", \"x\": [0.9890016920473773, 0.9894847528916929, 0.9892280071813285, 0.9892086330935251, 0.9892163910855499, 0.9892183288409704, 0.989558232931727, 0.995850622406639, 0.996309963099631, 0.9970588235294118, 0.9975490196078431, 0.9977116704805492, 0.9977578475336323, 0.9978118161925602, 0.9979296066252588, 0.998003992015968, 0.9980430528375733, 0.9986013986013986, 0.9986962190352021, 0.99875], \"xaxis\": \"x\", \"y\": [\"Perritos rechonchos tomando sol en Puerto Varas\", \"Oh no\", \"Parece minha prima\", \"Oye mama te quedo medio raro el sandwich\", \"los candidatos seg\\u00fan twitter\", \"Soporte VTR\", \"Juan Carlos Bodoque gan\\u00f3 un Copihue de oro en la categor\\u00eda \\\"personaje de ficci\\u00f3n de la d\\u00e9cada\\\"\", \"el arriero Don Jose catal\\u00e1n junto a dos sobrevivientes de la ca\\u00edda del avi\\u00f3n uruguayo en la cordillera de los Andes 1972\", \"Cuando el chico Paris y Siches eran compa\\u00f1eros de lucha\", \"Avi\\u00f3n Ping\\u00fcino Rey de Aerov\\u00edas DAP que vuela entre Punta Arenas y la Ant\\u00e1rtica chilena\", \"OP me concede un pedido de mapa. Se agradece. (Hay m\\u00e1s habitantes en el \\u00e1rea roja que el resto del pa\\u00eds)\", \"Ac\\u00e1 no ha pasado nada\", \"Ays\\u00e9n hoy 2, no se subieron todas juntas (Bonus el Mocka).\", \"El bombardero de Lo Prado: \\\"Se lo mando seco en el hocico\\\"\", \"\\u00bfQu\\u00e9 hacer con Talca? Bueno...\", \"Chile inaugurates Latin America's first thermosolar plant\", \"Usuario de r/chile realiza pregunta a JC Rodr\\u00edguez.\", \"Debate presidencial 2005, pregunta clave de Mauricio Hofmann\", \"1900 street scene mural in northern Chile\", \"Entrevista al covid\"], \"yaxis\": \"y\"}],\n",
              "                        {\"legend\": {\"tracegroupgap\": 0}, \"margin\": {\"t\": 60}, \"template\": {\"data\": {\"bar\": [{\"error_x\": {\"color\": \"#2a3f5f\"}, \"error_y\": {\"color\": \"#2a3f5f\"}, \"marker\": {\"line\": {\"color\": \"#E5ECF6\", \"width\": 0.5}}, \"type\": \"bar\"}], \"barpolar\": [{\"marker\": {\"line\": {\"color\": \"#E5ECF6\", \"width\": 0.5}}, \"type\": \"barpolar\"}], \"carpet\": [{\"aaxis\": {\"endlinecolor\": \"#2a3f5f\", \"gridcolor\": \"white\", \"linecolor\": \"white\", \"minorgridcolor\": \"white\", \"startlinecolor\": \"#2a3f5f\"}, \"baxis\": {\"endlinecolor\": \"#2a3f5f\", \"gridcolor\": \"white\", \"linecolor\": \"white\", \"minorgridcolor\": \"white\", \"startlinecolor\": \"#2a3f5f\"}, \"type\": \"carpet\"}], \"choropleth\": [{\"colorbar\": {\"outlinewidth\": 0, \"ticks\": \"\"}, \"type\": \"choropleth\"}], \"contour\": [{\"colorbar\": {\"outlinewidth\": 0, \"ticks\": \"\"}, \"colorscale\": [[0.0, \"#0d0887\"], [0.1111111111111111, \"#46039f\"], [0.2222222222222222, \"#7201a8\"], [0.3333333333333333, \"#9c179e\"], [0.4444444444444444, \"#bd3786\"], [0.5555555555555556, \"#d8576b\"], [0.6666666666666666, \"#ed7953\"], [0.7777777777777778, \"#fb9f3a\"], [0.8888888888888888, \"#fdca26\"], [1.0, \"#f0f921\"]], \"type\": \"contour\"}], \"contourcarpet\": [{\"colorbar\": {\"outlinewidth\": 0, \"ticks\": \"\"}, \"type\": \"contourcarpet\"}], \"heatmap\": [{\"colorbar\": {\"outlinewidth\": 0, \"ticks\": \"\"}, \"colorscale\": [[0.0, \"#0d0887\"], [0.1111111111111111, \"#46039f\"], [0.2222222222222222, \"#7201a8\"], [0.3333333333333333, \"#9c179e\"], [0.4444444444444444, \"#bd3786\"], [0.5555555555555556, \"#d8576b\"], [0.6666666666666666, \"#ed7953\"], [0.7777777777777778, \"#fb9f3a\"], [0.8888888888888888, \"#fdca26\"], [1.0, \"#f0f921\"]], \"type\": \"heatmap\"}], \"heatmapgl\": [{\"colorbar\": {\"outlinewidth\": 0, \"ticks\": \"\"}, \"colorscale\": [[0.0, \"#0d0887\"], [0.1111111111111111, \"#46039f\"], [0.2222222222222222, \"#7201a8\"], [0.3333333333333333, \"#9c179e\"], [0.4444444444444444, \"#bd3786\"], [0.5555555555555556, \"#d8576b\"], [0.6666666666666666, \"#ed7953\"], [0.7777777777777778, \"#fb9f3a\"], [0.8888888888888888, \"#fdca26\"], [1.0, \"#f0f921\"]], \"type\": \"heatmapgl\"}], \"histogram\": [{\"marker\": {\"colorbar\": {\"outlinewidth\": 0, \"ticks\": \"\"}}, \"type\": \"histogram\"}], \"histogram2d\": [{\"colorbar\": {\"outlinewidth\": 0, \"ticks\": \"\"}, \"colorscale\": [[0.0, \"#0d0887\"], [0.1111111111111111, \"#46039f\"], [0.2222222222222222, \"#7201a8\"], [0.3333333333333333, \"#9c179e\"], [0.4444444444444444, \"#bd3786\"], [0.5555555555555556, \"#d8576b\"], [0.6666666666666666, \"#ed7953\"], [0.7777777777777778, \"#fb9f3a\"], [0.8888888888888888, \"#fdca26\"], [1.0, \"#f0f921\"]], \"type\": \"histogram2d\"}], \"histogram2dcontour\": [{\"colorbar\": {\"outlinewidth\": 0, \"ticks\": \"\"}, \"colorscale\": [[0.0, \"#0d0887\"], [0.1111111111111111, \"#46039f\"], [0.2222222222222222, \"#7201a8\"], [0.3333333333333333, \"#9c179e\"], [0.4444444444444444, \"#bd3786\"], [0.5555555555555556, \"#d8576b\"], [0.6666666666666666, \"#ed7953\"], [0.7777777777777778, \"#fb9f3a\"], [0.8888888888888888, \"#fdca26\"], [1.0, \"#f0f921\"]], \"type\": \"histogram2dcontour\"}], \"mesh3d\": [{\"colorbar\": {\"outlinewidth\": 0, \"ticks\": \"\"}, \"type\": \"mesh3d\"}], \"parcoords\": [{\"line\": {\"colorbar\": {\"outlinewidth\": 0, \"ticks\": \"\"}}, \"type\": \"parcoords\"}], \"pie\": [{\"automargin\": true, \"type\": \"pie\"}], \"scatter\": [{\"marker\": {\"colorbar\": {\"outlinewidth\": 0, \"ticks\": \"\"}}, \"type\": \"scatter\"}], \"scatter3d\": [{\"line\": {\"colorbar\": {\"outlinewidth\": 0, \"ticks\": \"\"}}, \"marker\": {\"colorbar\": {\"outlinewidth\": 0, \"ticks\": \"\"}}, \"type\": \"scatter3d\"}], \"scattercarpet\": [{\"marker\": {\"colorbar\": {\"outlinewidth\": 0, \"ticks\": \"\"}}, \"type\": \"scattercarpet\"}], \"scattergeo\": [{\"marker\": {\"colorbar\": {\"outlinewidth\": 0, \"ticks\": \"\"}}, \"type\": \"scattergeo\"}], \"scattergl\": [{\"marker\": {\"colorbar\": {\"outlinewidth\": 0, \"ticks\": \"\"}}, \"type\": \"scattergl\"}], \"scattermapbox\": [{\"marker\": {\"colorbar\": {\"outlinewidth\": 0, \"ticks\": \"\"}}, \"type\": \"scattermapbox\"}], \"scatterpolar\": [{\"marker\": {\"colorbar\": {\"outlinewidth\": 0, \"ticks\": \"\"}}, \"type\": \"scatterpolar\"}], \"scatterpolargl\": [{\"marker\": {\"colorbar\": {\"outlinewidth\": 0, \"ticks\": \"\"}}, \"type\": \"scatterpolargl\"}], \"scatterternary\": [{\"marker\": {\"colorbar\": {\"outlinewidth\": 0, \"ticks\": \"\"}}, \"type\": \"scatterternary\"}], \"surface\": [{\"colorbar\": {\"outlinewidth\": 0, \"ticks\": \"\"}, \"colorscale\": [[0.0, \"#0d0887\"], [0.1111111111111111, \"#46039f\"], [0.2222222222222222, \"#7201a8\"], [0.3333333333333333, \"#9c179e\"], [0.4444444444444444, \"#bd3786\"], [0.5555555555555556, \"#d8576b\"], [0.6666666666666666, \"#ed7953\"], [0.7777777777777778, \"#fb9f3a\"], [0.8888888888888888, \"#fdca26\"], [1.0, \"#f0f921\"]], \"type\": \"surface\"}], \"table\": [{\"cells\": {\"fill\": {\"color\": \"#EBF0F8\"}, \"line\": {\"color\": \"white\"}}, \"header\": {\"fill\": {\"color\": \"#C8D4E3\"}, \"line\": {\"color\": \"white\"}}, \"type\": \"table\"}]}, \"layout\": {\"annotationdefaults\": {\"arrowcolor\": \"#2a3f5f\", \"arrowhead\": 0, \"arrowwidth\": 1}, \"coloraxis\": {\"colorbar\": {\"outlinewidth\": 0, \"ticks\": \"\"}}, \"colorscale\": {\"diverging\": [[0, \"#8e0152\"], [0.1, \"#c51b7d\"], [0.2, \"#de77ae\"], [0.3, \"#f1b6da\"], [0.4, \"#fde0ef\"], [0.5, \"#f7f7f7\"], [0.6, \"#e6f5d0\"], [0.7, \"#b8e186\"], [0.8, \"#7fbc41\"], [0.9, \"#4d9221\"], [1, \"#276419\"]], \"sequential\": [[0.0, \"#0d0887\"], [0.1111111111111111, \"#46039f\"], [0.2222222222222222, \"#7201a8\"], [0.3333333333333333, \"#9c179e\"], [0.4444444444444444, \"#bd3786\"], [0.5555555555555556, \"#d8576b\"], [0.6666666666666666, \"#ed7953\"], [0.7777777777777778, \"#fb9f3a\"], [0.8888888888888888, \"#fdca26\"], [1.0, \"#f0f921\"]], \"sequentialminus\": [[0.0, \"#0d0887\"], [0.1111111111111111, \"#46039f\"], [0.2222222222222222, \"#7201a8\"], [0.3333333333333333, \"#9c179e\"], [0.4444444444444444, \"#bd3786\"], [0.5555555555555556, \"#d8576b\"], [0.6666666666666666, \"#ed7953\"], [0.7777777777777778, \"#fb9f3a\"], [0.8888888888888888, \"#fdca26\"], [1.0, \"#f0f921\"]]}, \"colorway\": [\"#636efa\", \"#EF553B\", \"#00cc96\", \"#ab63fa\", \"#FFA15A\", \"#19d3f3\", \"#FF6692\", \"#B6E880\", \"#FF97FF\", \"#FECB52\"], \"font\": {\"color\": \"#2a3f5f\"}, \"geo\": {\"bgcolor\": \"white\", \"lakecolor\": \"white\", \"landcolor\": \"#E5ECF6\", \"showlakes\": true, \"showland\": true, \"subunitcolor\": \"white\"}, \"hoverlabel\": {\"align\": \"left\"}, \"hovermode\": \"closest\", \"mapbox\": {\"style\": \"light\"}, \"paper_bgcolor\": \"white\", \"plot_bgcolor\": \"#E5ECF6\", \"polar\": {\"angularaxis\": {\"gridcolor\": \"white\", \"linecolor\": \"white\", \"ticks\": \"\"}, \"bgcolor\": \"#E5ECF6\", \"radialaxis\": {\"gridcolor\": \"white\", \"linecolor\": \"white\", \"ticks\": \"\"}}, \"scene\": {\"xaxis\": {\"backgroundcolor\": \"#E5ECF6\", \"gridcolor\": \"white\", \"gridwidth\": 2, \"linecolor\": \"white\", \"showbackground\": true, \"ticks\": \"\", \"zerolinecolor\": \"white\"}, \"yaxis\": {\"backgroundcolor\": \"#E5ECF6\", \"gridcolor\": \"white\", \"gridwidth\": 2, \"linecolor\": \"white\", \"showbackground\": true, \"ticks\": \"\", \"zerolinecolor\": \"white\"}, \"zaxis\": {\"backgroundcolor\": \"#E5ECF6\", \"gridcolor\": \"white\", \"gridwidth\": 2, \"linecolor\": \"white\", \"showbackground\": true, \"ticks\": \"\", \"zerolinecolor\": \"white\"}}, \"shapedefaults\": {\"line\": {\"color\": \"#2a3f5f\"}}, \"ternary\": {\"aaxis\": {\"gridcolor\": \"white\", \"linecolor\": \"white\", \"ticks\": \"\"}, \"baxis\": {\"gridcolor\": \"white\", \"linecolor\": \"white\", \"ticks\": \"\"}, \"bgcolor\": \"#E5ECF6\", \"caxis\": {\"gridcolor\": \"white\", \"linecolor\": \"white\", \"ticks\": \"\"}}, \"title\": {\"x\": 0.05}, \"xaxis\": {\"automargin\": true, \"gridcolor\": \"white\", \"linecolor\": \"white\", \"ticks\": \"\", \"title\": {\"standoff\": 15}, \"zerolinecolor\": \"white\", \"zerolinewidth\": 2}, \"yaxis\": {\"automargin\": true, \"gridcolor\": \"white\", \"linecolor\": \"white\", \"ticks\": \"\", \"title\": {\"standoff\": 15}, \"zerolinecolor\": \"white\", \"zerolinewidth\": 2}}}, \"xaxis\": {\"anchor\": \"y\", \"domain\": [0.0, 1.0], \"title\": {\"text\": \"mean\"}}, \"yaxis\": {\"anchor\": \"x\", \"domain\": [0.0, 1.0], \"title\": {\"text\": \"post\"}}},\n",
              "                        {\"responsive\": true}\n",
              "                    ).then(function(){\n",
              "                            \n",
              "var gd = document.getElementById('d28c9f4d-3c57-47fa-a8a4-65a4b5f55a09');\n",
              "var x = new MutationObserver(function (mutations, observer) {{\n",
              "        var display = window.getComputedStyle(gd).display;\n",
              "        if (!display || display === 'none') {{\n",
              "            console.log([gd, 'removed!']);\n",
              "            Plotly.purge(gd);\n",
              "            observer.disconnect();\n",
              "        }}\n",
              "}});\n",
              "\n",
              "// Listen for the removal of the full notebook cells\n",
              "var notebookContainer = gd.closest('#notebook-container');\n",
              "if (notebookContainer) {{\n",
              "    x.observe(notebookContainer, {childList: true});\n",
              "}}\n",
              "\n",
              "// Listen for the clearing of the current output cell\n",
              "var outputEl = gd.closest('.output');\n",
              "if (outputEl) {{\n",
              "    x.observe(outputEl, {childList: true});\n",
              "}}\n",
              "\n",
              "                        })\n",
              "                };\n",
              "                \n",
              "            </script>\n",
              "        </div>\n",
              "</body>\n",
              "</html>"
            ]
          },
          "metadata": {
            "tags": []
          }
        }
      ]
    },
    {
      "cell_type": "markdown",
      "metadata": {
        "id": "szOjXLKA1Rif"
      },
      "source": [
        "**Respuesta:**"
      ]
    },
    {
      "cell_type": "markdown",
      "metadata": {
        "id": "0F83QdD61Pd1"
      },
      "source": [
        ""
      ]
    },
    {
      "cell_type": "markdown",
      "metadata": {
        "id": "Rg4ZMq8ezAH6"
      },
      "source": [
        "# Conclusión\n",
        "Eso ha sido todo para el lab de hoy, recuerden que el laboratorio tiene un plazo de entrega de una semana y que **los días de atraso no se pueden utilizar para entregas de lab, solo para tareas**. Cualquier duda del laboratorio, no duden en contactarnos por mail o U-cursos.\n",
        "\n",
        "<p align=\"center\">\n",
        "  <img src=\"https://media1.tenor.com/images/fb5bf7cc5a4acb91b4177672886a88ba/tenor.gif?itemid=5591338\">\n",
        "</p>"
      ]
    }
  ]
}