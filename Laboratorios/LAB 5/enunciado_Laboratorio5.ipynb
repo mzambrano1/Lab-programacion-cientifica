{
  "nbformat": 4,
  "nbformat_minor": 0,
  "metadata": {
    "kernelspec": {
      "name": "python3",
      "display_name": "Python 3.9.2 64-bit"
    },
    "language_info": {
      "codemirror_mode": {
        "name": "ipython",
        "version": 3
      },
      "file_extension": ".py",
      "mimetype": "text/x-python",
      "name": "python",
      "nbconvert_exporter": "python",
      "pygments_lexer": "ipython3",
      "version": "3.9.2"
    },
    "toc": {
      "base_numbering": 1,
      "nav_menu": {},
      "number_sections": true,
      "sideBar": true,
      "skip_h1_title": true,
      "title_cell": "Tabla de Contenidos",
      "title_sidebar": "Contenidos",
      "toc_cell": false,
      "toc_position": {
        "height": "calc(100% - 180px)",
        "left": "10px",
        "top": "150px",
        "width": "241.867px"
      },
      "toc_section_display": true,
      "toc_window_display": true
    },
    "varInspector": {
      "cols": {
        "lenName": 16,
        "lenType": 16,
        "lenVar": 40
      },
      "kernels_config": {
        "python": {
          "delete_cmd_postfix": "",
          "delete_cmd_prefix": "del ",
          "library": "var_list.py",
          "varRefreshCmd": "print(var_dic_list())"
        },
        "r": {
          "delete_cmd_postfix": ") ",
          "delete_cmd_prefix": "rm(",
          "library": "var_list.r",
          "varRefreshCmd": "cat(var_dic_list()) "
        }
      },
      "types_to_exclude": [
        "module",
        "function",
        "builtin_function_or_method",
        "instance",
        "_Feature"
      ],
      "window_display": false
    },
    "colab": {
      "name": "enunciado_Laboratorio5 (1).ipynb",
      "provenance": [],
      "collapsed_sections": [],
      "toc_visible": true
    },
    "interpreter": {
      "hash": "a241bf0e0d5c0e217bd2608f8061809cfe7fa74dae8ed3cfbfafdab498c8dbce"
    }
  },
  "cells": [
    {
      "cell_type": "markdown",
      "metadata": {
        "id": "XUZ1dFPHzAHl"
      },
      "source": [
        "<h1><center>Laboratorio 5: Benchmark Bayesiano 🧮</center></h1>\n",
        "\n",
        "<center><strong>MDS7202: Laboratorio de Programación Científica para Ciencia de Datos</strong></center>"
      ]
    },
    {
      "cell_type": "markdown",
      "metadata": {
        "id": "UD8X1uhGzAHq"
      },
      "source": [
        "### Cuerpo Docente:\n",
        "\n",
        "- Profesor: Pablo Badilla\n",
        "- Auxiliar: Ignacio Meza D.\n",
        "- Ayudante: Diego Irarrázaval"
      ]
    },
    {
      "cell_type": "markdown",
      "metadata": {
        "id": "tXflExjqzAHr"
      },
      "source": [
        "### Equipo: SUPER IMPORTANTE - notebooks sin nombre no serán revisados\n",
        "\n",
        "- Nombre de alumno 1: Joaquín Ortega\n",
        "- Nombre de alumno 2: MAría José Zambrano\n"
      ]
    },
    {
      "cell_type": "markdown",
      "metadata": {
        "id": "AD-V0bbZzAHr"
      },
      "source": [
        "### **Link de repositorio de GitHub:** https://github.com/mzambrano1/Lab-programacion-cientifica"
      ]
    },
    {
      "cell_type": "markdown",
      "metadata": {
        "id": "EcnsiQMkzAHr"
      },
      "source": [
        "### Indice \n",
        "\n",
        "1. [Temas a tratar](#Temas-a-tratar:)\n",
        "3. [Descripcción del laboratorio](#Descripción-del-laboratorio.)\n",
        "4. [Objetivos principales del laboratorio](#Objetivos-principales-del-laboratorio)"
      ]
    },
    {
      "cell_type": "markdown",
      "metadata": {
        "id": "6uBLPj1PzAHs"
      },
      "source": [
        "# Temas a tratar\n",
        "\n",
        "- Optimización de Código en Python.\n",
        "- Utilización de librerías para medir el tiempo de ejecución de funciones.\n",
        "- Métodos para optimizar el rendimiento de las funciones.\n",
        "\n",
        "# Reglas:\n",
        "\n",
        "- Fecha de entrega: 4/06/2021\n",
        "- **Grupos de 2 personas**\n",
        "- **Ausentes** deberán realizar la actividad solos. \n",
        "- Cualquier duda fuera del horario de clases al foro. Mensajes al equipo docente serán respondidos por este medio.\n",
        "- Prohibidas las copias. \n",
        "- Pueden usar cualquer matrial del curso que estimen conveniente.\n",
        "\n",
        "# Objetivos principales del laboratorio\n",
        "\n",
        "- Obtener datos desde Reddit y visualizar cuales post son más probables que sean puntuados positivamente.\n",
        "- Aplicar un atajo bayesiano para obtener la mean posterior de datos.\n",
        "- Optimizar a través de librerías funciones."
      ]
    },
    {
      "cell_type": "markdown",
      "metadata": {
        "id": "MhISwri4zAHy"
      },
      "source": [
        "#Importamos librerias utiles 😸"
      ]
    },
    {
      "cell_type": "code",
      "metadata": {
        "id": "cO7AQ9ciQ59U"
      },
      "source": [
        "%%capture\n",
        "!pip install praw\n",
        "!pip install line_profiler\n",
        "!pip install memory_profiler\n",
        "import sys\n",
        "import praw\n",
        "import time\n",
        "import numpy as np\n",
        "import pandas as pd\n",
        "from numba import jit\n",
        "import plotly.express as px\n",
        "from functools import lru_cache\n",
        "from IPython.core.display import Image\n",
        "import plotly.graph_objects as go\n",
        "import timeit"
      ],
      "execution_count": 5,
      "outputs": []
    },
    {
      "cell_type": "markdown",
      "metadata": {
        "id": "xpOTbQcxbSiy"
      },
      "source": [
        "# 1. Recomendando Posts de Subreddit"
      ]
    },
    {
      "cell_type": "markdown",
      "metadata": {
        "id": "3Q93vbNS25bM"
      },
      "source": [
        "<p align=\"center\">\n",
        "  <img src=\"https://styles.redditmedia.com/t5_2rer8/styles/bannerBackgroundImage_6o2td1zc54671.jpg?width=4000&format=pjpg&s=600bcf8560dff264f1cc7c0785ba5f6d529e0c28\" width=\"10000\">\n",
        "</p>"
      ]
    },
    {
      "cell_type": "markdown",
      "metadata": {
        "id": "jnmZfFpxTTYX"
      },
      "source": [
        "Unos intrépidos alumnos del curso, quienes frecuentemente participan en subreddits y foros de reviews, se preguntan lo siguiente: ¿Podremos confiar que un post es bueno, si este tiene solamente 1 o 3 votos positivos?. los compañeros, creen que esto claramente no representa una opinión general, ya que estamos mucho menos seguros acerca de la verdadera proporción de votos a favor de los comentarios con pocos datos. ¿Pero cómo podemos obtener una representación más creíble para este problema?.\n",
        "\n",
        "Lo señalado forma parte de un problema Bayesiano, donde a través del cálculo de la posterior se puede conocer que tan probable es que un post sea bueno. Para efectos de este laboratorio, no se exige un conocimiento previo para resolver este problema, simplemente se deberá aplicar las ecuaciones presentadas más adelante (De igual forma si quedan interesados sobre el tema se les invita a tomar el ramo [CC6104](https://github.com/dccuchile/CC6104))."
      ]
    },
    {
      "cell_type": "markdown",
      "metadata": {
        "id": "xdbrb3AMi6EF"
      },
      "source": [
        "## 1.1 Obtención de Subrredits y Análisis"
      ]
    },
    {
      "cell_type": "markdown",
      "metadata": {
        "id": "YI-IRspcjPee"
      },
      "source": [
        "Para estudiar que tan probable es que un post sea positivo se comenzará cargando datos reales del subreddit chile desde reddit (si usted desea puede cambiar el subreddit a uno de su gusto). Para esto le proponemos la utilización de la función que aparece mas abajo, la que presenta un usuario ya creado por el equipo docente. Dese un tiempo para entender que hace cada parte de la función, visualizando que se obtiene de estas.\n",
        "\n",
        "Revisada la función, utilice un **perfilador** para monitorear el tiempo y memoria que les toma a las subfunciones ser ejecutadas (por linea de código, vean las clases). Señale cuales son los procesos que mas tiempo consumen en la ejecución del Código, comentando si es posible mejorar el desempeño de la función.\n",
        "\n",
        "**TO-DO:**\n",
        "- [ ] Estudiar la función propuesta por el equipo docente.\n",
        "- [ ] Estudiar los tiempos de ejecución del Código a través de un perfilador."
      ]
    },
    {
      "cell_type": "code",
      "metadata": {
        "id": "R4PQbceVPJzh"
      },
      "source": [
        "#%%file praw_reddit_module.py\n",
        "\n",
        "def praw_reddit(nombre_subreddit = 'chile', n_hot = 1000):\n",
        "  reddit = praw.Reddit(client_id='-w2hyFINxZ8T3g',\n",
        "                     client_secret='zGPCI4s3g6Ic6AsRi7vIpP0NoxbFdw',\n",
        "                     password='ClasesMDS7202',\n",
        "                     user_agent='Clases',\n",
        "                     username='DocenciaDataScience', check_for_async=False)\n",
        "  subreddit  = reddit.subreddit(nombre_subreddit)\n",
        "\n",
        "  votes, post, url = {}, {}, {}\n",
        "  top_submissions = list(subreddit.hot(limit = n_hot))\n",
        "  for it, top_n in enumerate(range(50, len(top_submissions),50)):\n",
        "    top_n_submissions = top_submissions[:top_n]\n",
        "    upvotes, downvotes, url[it], post[it] = [], [], [], []\n",
        "\n",
        "    for submission in top_n_submissions:\n",
        "        try:\n",
        "            ratio = submission.upvote_ratio\n",
        "            ups = int(round((ratio*submission.score)/(2*ratio - 1)) if ratio != 0.5 else round(submission.score/2))\n",
        "            upvotes.append(ups)\n",
        "            downvotes.append(ups - submission.score)\n",
        "            post[it].append(submission.title)\n",
        "            url[it].append(submission.url)\n",
        "        except Exception as e:\n",
        "            continue\n",
        "    votes[it] = np.array([upvotes, downvotes]).T\n",
        "  return votes, post, url"
      ],
      "execution_count": 6,
      "outputs": []
    },
    {
      "cell_type": "code",
      "metadata": {
        "colab": {
          "base_uri": "https://localhost:8080/"
        },
        "id": "whJ8tg8w87zB",
        "outputId": "cac940a4-c134-43a8-f524-1e973baa5fd8"
      },
      "source": [
        "%load_ext line_profiler"
      ],
      "execution_count": null,
      "outputs": [
        {
          "output_type": "stream",
          "text": [
            "The line_profiler extension is already loaded. To reload it, use:\n",
            "  %reload_ext line_profiler\n"
          ],
          "name": "stdout"
        }
      ]
    },
    {
      "cell_type": "code",
      "metadata": {
        "id": "8JZisW6fm0RB"
      },
      "source": [
        "%lprun -f praw_reddit praw_reddit()"
      ],
      "execution_count": null,
      "outputs": []
    },
    {
      "cell_type": "code",
      "metadata": {
        "colab": {
          "base_uri": "https://localhost:8080/"
        },
        "id": "fNh3IdGtBg4z",
        "outputId": "8c7de16f-d03c-4a36-9b92-63129726877e"
      },
      "source": [
        "!pip install line_profiler\n",
        "%load_ext line_profiler\n",
        "%lprun -f praw_reddit praw_reddit()"
      ],
      "execution_count": null,
      "outputs": [
        {
          "output_type": "stream",
          "text": [
            "Requirement already satisfied: line_profiler in /usr/local/lib/python3.7/dist-packages (3.3.0)\n",
            "Requirement already satisfied: IPython>=0.13; python_version >= \"3.7\" in /usr/local/lib/python3.7/dist-packages (from line_profiler) (5.5.0)\n",
            "Requirement already satisfied: pickleshare in /usr/local/lib/python3.7/dist-packages (from IPython>=0.13; python_version >= \"3.7\"->line_profiler) (0.7.5)\n",
            "Requirement already satisfied: pexpect; sys_platform != \"win32\" in /usr/local/lib/python3.7/dist-packages (from IPython>=0.13; python_version >= \"3.7\"->line_profiler) (4.8.0)\n",
            "Requirement already satisfied: traitlets>=4.2 in /usr/local/lib/python3.7/dist-packages (from IPython>=0.13; python_version >= \"3.7\"->line_profiler) (5.0.5)\n",
            "Requirement already satisfied: prompt-toolkit<2.0.0,>=1.0.4 in /usr/local/lib/python3.7/dist-packages (from IPython>=0.13; python_version >= \"3.7\"->line_profiler) (1.0.18)\n",
            "Requirement already satisfied: pygments in /usr/local/lib/python3.7/dist-packages (from IPython>=0.13; python_version >= \"3.7\"->line_profiler) (2.6.1)\n",
            "Requirement already satisfied: simplegeneric>0.8 in /usr/local/lib/python3.7/dist-packages (from IPython>=0.13; python_version >= \"3.7\"->line_profiler) (0.8.1)\n",
            "Requirement already satisfied: setuptools>=18.5 in /usr/local/lib/python3.7/dist-packages (from IPython>=0.13; python_version >= \"3.7\"->line_profiler) (57.0.0)\n",
            "Requirement already satisfied: decorator in /usr/local/lib/python3.7/dist-packages (from IPython>=0.13; python_version >= \"3.7\"->line_profiler) (4.4.2)\n",
            "Requirement already satisfied: ptyprocess>=0.5 in /usr/local/lib/python3.7/dist-packages (from pexpect; sys_platform != \"win32\"->IPython>=0.13; python_version >= \"3.7\"->line_profiler) (0.7.0)\n",
            "Requirement already satisfied: ipython-genutils in /usr/local/lib/python3.7/dist-packages (from traitlets>=4.2->IPython>=0.13; python_version >= \"3.7\"->line_profiler) (0.2.0)\n",
            "Requirement already satisfied: six>=1.9.0 in /usr/local/lib/python3.7/dist-packages (from prompt-toolkit<2.0.0,>=1.0.4->IPython>=0.13; python_version >= \"3.7\"->line_profiler) (1.15.0)\n",
            "Requirement already satisfied: wcwidth in /usr/local/lib/python3.7/dist-packages (from prompt-toolkit<2.0.0,>=1.0.4->IPython>=0.13; python_version >= \"3.7\"->line_profiler) (0.2.5)\n",
            "The line_profiler extension is already loaded. To reload it, use:\n",
            "  %reload_ext line_profiler\n"
          ],
          "name": "stdout"
        }
      ]
    },
    {
      "cell_type": "code",
      "metadata": {
        "id": "xMTnyMsNbiU0"
      },
      "source": [
        "from mod import praw_reddit #Trabjamos en colab y esta parte no nos funcionó :( la tuvimos que correr local\n",
        "!pip install memory_profiler #EL warning es por si no llegase a correr (en todo caso debería pero por si las moscas)\n",
        "%load_ext memory_profiler\n",
        "%mprun -f praw_reddit praw_reddit()"
      ],
      "execution_count": null,
      "outputs": []
    },
    {
      "cell_type": "markdown",
      "metadata": {
        "id": "6gdqQBi1m_cu"
      },
      "source": [
        "# Tiempo de ejecución\n",
        "\n",
        "Timer unit: 1e-06 s\n",
        "\n",
        "Total time: 14.3682 s\n",
        "File: <ipython-input-6-8fa850861273>\n",
        "Function: praw_reddit at line 3\n",
        "\n",
        "    Line #      Hits         Time  Per Hit   % Time  Line Contents\n",
        "\n",
        "     3                                           def praw_reddit(nombre_subreddit = 'chile', n_hot = 1000):\n",
        "     4         1          6.0      6.0      0.0    reddit = praw.Reddit(client_id='-w2hyFINxZ8T3g',\n",
        "     5         1          2.0      2.0      0.0                       client_secret='zGPCI4s3g6Ic6AsRi7vIpP0NoxbFdw',\n",
        "     6         1          3.0      3.0      0.0                       password='ClasesMDS7202',\n",
        "     7         1          1.0      1.0      0.0                       user_agent='Clases',\n",
        "     8         1       3711.0   3711.0      0.0                       username='DocenciaDataScience', check_for_async=False)\n",
        "     9         1         68.0     68.0      0.0    subreddit  = reddit.subreddit(nombre_subreddit)\n",
        "    10                                           \n",
        "    11         1          2.0      2.0      0.0    votes, post, url = {}, {}, {}\n",
        "    12         1   14258808.0 14258808.0     99.2    top_submissions = list(subreddit.hot(limit = n_hot))\n",
        "    13        20         56.0      2.8      0.0    for it, top_n in enumerate(range(50, len(top_submissions),50)):\n",
        "    14        19        463.0     24.4      0.0      top_n_submissions = top_submissions[:top_n]\n",
        "    15        19        148.0      7.8      0.0      upvotes, downvotes, url[it], post[it] = [], [], [], []\n",
        "    16                                           \n",
        "    17      9519       8944.0      0.9      0.1      for submission in top_n_submissions:\n",
        "    18      9500       7916.0      0.8      0.1          try:\n",
        "    19      9500      16619.0      1.7      0.1              ratio = submission.upvote_ratio\n",
        "    20      9500      18035.0      1.9      0.1              ups = int(round((ratio*submission.score)/(2*ratio - 1)) if ratio != 0.5 else round(submission.score/2))\n",
        "    21      9500       9427.0      1.0      0.1              upvotes.append(ups)\n",
        "    22      9500      10094.0      1.1      0.1              downvotes.append(ups - submission.score)\n",
        "    23      9500      14762.0      1.6      0.1              post[it].append(submission.title)\n",
        "    24      9500      16691.0      1.8      0.1              url[it].append(submission.url)\n",
        "    25                                                   except Exception as e:\n",
        "    26                                                       continue\n",
        "    27        19       2407.0    126.7      0.0      votes[it] = np.array([upvotes, downvotes]).T\n",
        "    28         1          1.0      1.0      0.0    return votes, post, url\n",
        "\n",
        "\n"
      ]
    },
    {
      "cell_type": "markdown",
      "metadata": {
        "id": "-diI_GpXmzqS"
      },
      "source": [
        "\n",
        "**Respuesta:** En cuanto al tiempo de ejecución es posible notar que este es considerable, 14 segundos. Observando el análisis línea por línea destaca la ejecución de \n",
        "\n",
        "```\n",
        "top_submissions = list(subreddit.hot(limit = n_hot))\n",
        "```\n",
        "esta instrucción se lleva aproximadamente un 99% del tiempo de ejecución de la función, es la parte más lenta que tiene esta función, lo cual tiene sentido y que es la parte encargada de realizar la request de los post a reddit.En caso de querer  querer optimizar la función lo más sensato sería partir por acá ya que es lo más lento que hay. \n",
        "\n",
        "Como esta parte depende de la respuesta de Reddit, no se tiene mucho control sobre el tiempo que demora, por lo que la mejor forma de optimzarla es guardar las respuestas en caché la primera vez que se ejecuta la función, de manera que las veces siguientes no se tenga que hacer la request y se tengan los resultados accesibles rapidamente\n",
        "\n",
        "Aparte de la línea ya mencionada, lo que va dentro del for:\n",
        "\n",
        "```\n",
        "for submission in top_n_submissions:\n",
        "        try:\n",
        "            ratio = submission.upvote_ratio\n",
        "            ups = int(round((ratio*submission.score)/(2*ratio - 1)) if ratio != 0.5 else round(submission.score/2))\n",
        "            upvotes.append(ups)\n",
        "            downvotes.append(ups - submission.score)\n",
        "            post[it].append(submission.title)\n",
        "            url[it].append(submission.url)\n",
        "        except Exception as e:\n",
        "            continue\n",
        "```\n",
        "es lo siguiente que más tiempo lleva. Estas son eperaciones que se repiten varias veces, el optimizar tan solo un poco estas línas podría tener un impacto notable en el tiempo de ejecución total.\n",
        "\n",
        "Una forma de optimizar estas instrucciones es el uso de arreglos de Numpy, los cuales son más eficientes que las listas de python, y también el uso de defaultdict, los cuales también son más eficientes que los diccionarios nativos de python.\n"
      ]
    },
    {
      "cell_type": "markdown",
      "metadata": {
        "id": "c9Ck6TP9J1dE"
      },
      "source": [
        "#Uso de memoria\n",
        "\n",
        "    Line   Mem usage    Increment  Occurences   Line Contents\n",
        "\n",
        "     4     67.3 MiB     67.3 MiB           1   def praw_reddit(nombre_subreddit = 'chile', n_hot = 1000):\n",
        "     5     67.4 MiB      0.1 MiB           2     reddit = praw.Reddit(client_id='-w2hyFINxZ8T3g',\n",
        "     6     67.3 MiB      0.0 MiB           1                        client_secret='zGPCI4s3g6Ic6AsRi7vIpP0NoxbFdw',\n",
        "     7     67.3 MiB      0.0 MiB           1                        password='ClasesMDS7202',\n",
        "     8     67.3 MiB      0.0 MiB           1                        user_agent='Clases',\n",
        "     9     67.3 MiB      0.0 MiB           1                        username='DocenciaDataScience', check_for_async=False)\n",
        "    10     67.4 MiB      0.0 MiB           1     subreddit  = reddit.subreddit(nombre_subreddit)\n",
        "    11                                         \n",
        "    12     67.4 MiB      0.0 MiB           1     votes, post, url = {}, {}, {}\n",
        "    13     88.2 MiB     20.7 MiB           1     top_submissions = list(subreddit.hot(limit = n_hot))\n",
        "    14     88.2 MiB      0.0 MiB          20     for it, top_n in enumerate(range(50, len(top_submissions),50)):\n",
        "    15     88.2 MiB      0.0 MiB          19       top_n_submissions = top_submissions[:top_n]\n",
        "    16     88.2 MiB      0.0 MiB          19       upvotes, downvotes, url[it], post[it] = [], [], [], []\n",
        "    17                                         \n",
        "    18     88.2 MiB      0.0 MiB        9519       for submission in top_n_submissions:\n",
        "    19     88.2 MiB      0.0 MiB        9500           try:\n",
        "    20     88.2 MiB      0.0 MiB        9500               ratio = submission.upvote_ratio\n",
        "    21     88.2 MiB      0.0 MiB        9500               ups = int(round((ratio*submission.score)/(2*ratio - 1)) if ratio != 0.5 else round(submission.score/2))\n",
        "    22     88.2 MiB      0.0 MiB        9500               upvotes.append(ups)\n",
        "    23     88.2 MiB      0.0 MiB        9500               downvotes.append(ups - submission.score)\n",
        "    24     88.2 MiB      0.0 MiB        9500               post[it].append(submission.title)\n",
        "    25     88.2 MiB      0.0 MiB        9500               url[it].append(submission.url)\n",
        "    26                                                 except Exception as e:\n",
        "    27                                                     continue\n",
        "    28     88.2 MiB      0.0 MiB          19       votes[it] = np.array([upvotes, downvotes]).T\n",
        "    29     88.2 MiB      0.0 MiB           1     return votes, post, url"
      ]
    },
    {
      "cell_type": "markdown",
      "metadata": {
        "id": "fKoCRNLKbG27"
      },
      "source": [
        "\n",
        "**Respuesta:** Con respecto al uso de memoria de la función es nuevamente nuestra querida línea \n",
        "\n",
        "```\n",
        "20.7 MiB           1     top_submissions = list(subreddit.hot(limit = n_hot))\n",
        "```\n",
        "La responsable de extraer la información desde Reddit, la que se lleva el premio por el mayor uso de memoria. El que esto sea así tiene bastante sentido, ya que sse están guardando los posts de Reddit en esa línea, por lo que se necesita usar memoria para hacerlo. Aparte de esta línea no se aprecia realmente el uso de memoria en el resto del código de la función, más que en la parte donde se define la misma, porque claro, la función tiene que guardarse an alguna parte.\n",
        "En caso de querer optimizar el uso de la memoria no hay mucho que hacer, ya que los datos deben ser guardados, si no la función pierde su gracia, la mejor opción para esto, al igual que en la parte anterior, es guardar los datos en el caché cosa de no tener que pedirls y guardarlos cada vez.\n",
        " "
      ]
    },
    {
      "cell_type": "markdown",
      "metadata": {
        "id": "tNDS2OpFnMnH"
      },
      "source": [
        "## 1.2 Análisis de Tiempo con Cache"
      ]
    },
    {
      "cell_type": "markdown",
      "metadata": {
        "id": "i3nsxCbAna4t"
      },
      "source": [
        "Sin duda, un factor clave en la mejora del tiempo de ejecución de una aplicación es el uso eficiente de la memoria. Por lo que es importante, que ustedes respondan las siguientes preguntas:\n",
        "1.\t¿Qué es la memoria cache y a que se refiere las siglas LRU?\n",
        "2.\t¿Cuáles son los costos que tiene la aplicación de técnicas de Caching?\n",
        "3. ¿Cuál es la consecuencía de ocupar caching en la función anterior?.\n",
        "\n",
        "Respondidas las preguntas, se le solicita que aplique alguna técnica de caching para mejorar el desempeño de la función `praw_reddit`. Para esto compare solo el tiempo de ejecución del algoritmo con y sin caching, señalando el tiempo total de ejecución y el tiempo promedio que le toma ejecutar cada loop a la función. Con lo anterior, ¿es posible visualizar mejoras en este caso?.\n",
        "\n",
        "\n",
        "**TO-DO:**\n",
        "- [ ] Responder preguntas.\n",
        "- [ ] Mejorar el código con cache.\n"
      ]
    },
    {
      "cell_type": "markdown",
      "metadata": {
        "id": "fbQPpvYorOAF"
      },
      "source": [
        "**Respuestas Teóricas:**"
      ]
    },
    {
      "cell_type": "markdown",
      "metadata": {
        "id": "RKfLXDs_rO-w"
      },
      "source": [
        "1. La memoria caché es una memoria auxiliar que utiliza la CPU para almacenamiento temporal de datos recientemente procesados, para un rapido acceso.\n",
        "LRU se refiere al algoritmo de memoria menos usada recientemente (*Least Recently Used*), y tal como su nombre lo dice, es una forma de administrar la memoria almacenada en caché, eliminando los datos que han sido menos usados recientemente, reemplazandolos por los que se quieren usar en el momento.\n",
        "\n",
        "2. El costo que tiene usar estrategias de caching radica en el consumo de memoria, lo cual tiene un costo alto si la memoria está localizada en disco, ya que el acceso podría ser muy lento.\n",
        "\n",
        "3. El uso de caching puede mejorar el tiempo si es que se guardan los datos que retorna Reddit la primera vez que se llama a la función, y se usan las siguientes veces que se llama. Esto pues se evita rehacer una consulta, que como se demostró anteriormente, es lo que más cuesta."
      ]
    },
    {
      "cell_type": "code",
      "metadata": {
        "colab": {
          "base_uri": "https://localhost:8080/"
        },
        "id": "fqIs9K2M5EfT",
        "outputId": "36a3a70e-3cf9-4538-996c-9935be8e8b84"
      },
      "source": [
        "%timeit praw_reddit()"
      ],
      "execution_count": 7,
      "outputs": [
        {
          "output_type": "stream",
          "name": "stdout",
          "text": [
            "38.9 s ± 18.2 s per loop (mean ± std. dev. of 7 runs, 1 loop each)\n"
          ]
        }
      ]
    },
    {
      "cell_type": "code",
      "metadata": {
        "id": "X0u4WU11rLJd"
      },
      "source": [
        "@lru_cache(maxsize=10000)\n",
        "def praw_reddit(nombre_subreddit = 'chile', n_hot = 1000):\n",
        "  reddit = praw.Reddit(client_id='-w2hyFINxZ8T3g',\n",
        "                     client_secret='zGPCI4s3g6Ic6AsRi7vIpP0NoxbFdw',\n",
        "                     password='ClasesMDS7202',\n",
        "                     user_agent='Clases',\n",
        "                     username='DocenciaDataScience', check_for_async=False)\n",
        "  subreddit  = reddit.subreddit(nombre_subreddit)\n",
        "\n",
        "  votes, post, url = {}, {}, {}\n",
        "  top_submissions = list(subreddit.hot(limit = n_hot))\n",
        "  for it, top_n in enumerate(range(50, len(top_submissions),50)):\n",
        "    top_n_submissions = top_submissions[:top_n]\n",
        "    upvotes, downvotes, url[it], post[it] = [], [], [], []\n",
        "\n",
        "    for submission in top_n_submissions:\n",
        "        try:\n",
        "            ratio = submission.upvote_ratio\n",
        "            ups = int(round((ratio*submission.score)/(2*ratio - 1)) if ratio != 0.5 else round(submission.score/2))\n",
        "            upvotes.append(ups)\n",
        "            downvotes.append(ups - submission.score)\n",
        "            post[it].append(submission.title)\n",
        "            url[it].append(submission.url)\n",
        "        except Exception as e:\n",
        "            continue\n",
        "    votes[it] = np.array([upvotes, downvotes]).T\n",
        "  return votes, post, url"
      ],
      "execution_count": 9,
      "outputs": []
    },
    {
      "cell_type": "code",
      "metadata": {
        "colab": {
          "base_uri": "https://localhost:8080/"
        },
        "id": "CWTxzE_q5GW-",
        "outputId": "894f8e95-932c-4c01-e61c-74529e25deda"
      },
      "source": [
        "%timeit praw_reddit()"
      ],
      "execution_count": 10,
      "outputs": [
        {
          "output_type": "stream",
          "name": "stdout",
          "text": [
            "The slowest run took 12.00 times longer than the fastest. This could mean that an intermediate result is being cached.\n329 ns ± 357 ns per loop (mean ± std. dev. of 7 runs, 1 loop each)\n"
          ]
        }
      ]
    },
    {
      "cell_type": "markdown",
      "metadata": {
        "id": "K4ZA2E3gjPPC"
      },
      "source": [
        "Al ejecutar la función sin utilizar son caching, se tiene un tiempo pomedio de 38.9 s por loop, mientras que al utilizar caching se tiene un tiempor promedio por loop de 329 ns. Esto muestra que al utilizar caching se tiene una siginificativa mejora en el tiempo de ejecución, ya que es unas $10^8$ veces más rápida al utilizarlo.\n",
        "\n",
        "Algo que vale la pena notar es que al utilizar caching la diferencia entre la ejecución más lenta y las más rápida es bastante grande, ya que la primera vez que se ejecuta la función es necesario que se ejecute normalmente y la las ejecuciones siguientes se aprovechan del guardado en cache de la ejecución anterior\n",
        "\n",
        "En conclusión, el uso de cahching, en este caso, es realmente efectivo en disminuir el tiempo de ejecución\n",
        "\n"
      ]
    },
    {
      "cell_type": "markdown",
      "metadata": {
        "id": "2pS26u-trdg6"
      },
      "source": [
        "## 1.3 Obtención de Mean Posterior y Standard Error\n",
        "\n",
        "Una forma de obtener la mean posterior y el Standard Error de los datos de reddit es aplicando un atajo de inferencia Bayesiana. Este atajo se define de la siguiente forma:\n",
        "\n",
        "Sea **u** los votos positivos y **d** los votos negativos del subreddit, tendremos que:\n",
        "\n",
        "$$a = 1+u$$\n",
        "$$b = 1+d$$\n",
        "\n",
        "$$\\sigma= 1.65\\sqrt(\\dfrac{ab}{(a + b)^2(a + b + 1)})$$\n",
        "\n",
        "$$\\mu = \\dfrac{a}{a+b}$$\n",
        "\n",
        "Donde $\\mu$ es la mean posterior y $\\sigma$ el standard error.\n",
        "\n",
        "Con lo anterior, genere dos funciones que tengan como salida $\\mu$ y $\\sigma$ de acuerdo a las ecuaciones señaladas. La primera función, deberá ser construida sin el uso de numpy, aplicando for y aplicando comandos nativos de Python. Por otro lado, deberá generar una segunda función con el uso exclusivo de numpy. **OJO** que las funciones deben tener como entrada solo un elemento del diccionario votes (por ejemplo `votes[1]`), por lo que estas no deben tener como entrada el conjunto completo de datos."
      ]
    },
    {
      "cell_type": "code",
      "metadata": {
        "id": "ahzpJ-Sk0DOD"
      },
      "source": [
        "\n",
        "def intervalos(votos_positivos, votos_negativos):\n",
        "  mu = [] \n",
        "  sigma = []\n",
        "  for i in range(len(votos_positivos)):\n",
        "    a = votos_positivos[i] + 1\n",
        "    b = votos_negativos[i] + 1\n",
        "    m = a/(a+b)\n",
        "    mu.append(m)\n",
        "    arriba = a*b\n",
        "    cuadrado = (a+b)**2\n",
        "    otro = a+b+1\n",
        "    abajo = cuadrado*otro\n",
        "    s =  1.65*((arriba/abajo)**(0.5))\n",
        "    sigma.append(s)\n",
        "  return mu,sigma\n",
        "    \n",
        "\n",
        "\n",
        "def intervalos_numpy(votos_positivos, votos_negativos):\n",
        "  votos_positivos = votos_positivos + 1 \n",
        "  votos_negativos = votos_negativos + 1\n",
        "  mu = (votos_positivos)/(votos_positivos + votos_negativos)\n",
        "  arriba = votos_positivos*votos_negativos\n",
        "  cuadrado = (votos_positivos+votos_negativos)**2\n",
        "  otro = votos_positivos+votos_negativos+1\n",
        "  abajo = cuadrado*otro\n",
        "  sigma = 1.65*np.sqrt(arriba/abajo)\n",
        "  return mu, sigma\n"
      ],
      "execution_count": 6,
      "outputs": []
    },
    {
      "cell_type": "markdown",
      "metadata": {
        "id": "VhHhiTRYwpGu"
      },
      "source": [
        "## 1.4 Comparación de rendimiento\n",
        "\n",
        "Creadas las funciones de la sección 1.3, de forma iterativa compare los diferentes batches de datos que contiene el diccionario `votes`. Para esto genere un gráfico utilizando plotly, donde se pueda observar las diferencias de tiempo que toma ejecutar las diferentes cantidades de datos. ¿es posible observar una diferencia? ¿a qué se deberá esto?.\n",
        "\n",
        "Aplique el compilador **Numba** sobre las funciones 1.3 y compare el tiempo de ejecución con los obtenidos sin el compilador. Grafique estos tiempos y observe comente los desempeños."
      ]
    },
    {
      "cell_type": "code",
      "metadata": {
        "id": "rIA-jR4pKtat"
      },
      "source": [
        "votes,post,url = praw_reddit()"
      ],
      "execution_count": 7,
      "outputs": []
    },
    {
      "cell_type": "code",
      "metadata": {
        "id": "bJmobNLw3ioI"
      },
      "source": [
        "#se obtienen los tiempos para cada elemento de votes\n",
        "t = []\n",
        "t_numpy = []\n",
        "for i in votes.values():\n",
        "  ts = t.append(timeit.timeit('[intervalos(i[:, 0], i[:, 1])]', globals=globals(),number=100)) \n",
        "  t_numpys = t_numpy.append(timeit.timeit('[intervalos_numpy(i[:, 0], i[:, 1])]', globals=globals(),number=100) )\n",
        "\n",
        "n = [i.shape[0] for i in votes.values()] # se guardan la cantidad de datos de cada uno"
      ],
      "execution_count": 19,
      "outputs": []
    },
    {
      "cell_type": "code",
      "metadata": {
        "colab": {
          "base_uri": "https://localhost:8080/",
          "height": 542
        },
        "id": "VhzyRaKXAFxp",
        "outputId": "e7043d6e-aa8b-4a41-b5bb-081edb0d0542"
      },
      "source": [
        "\n",
        "fig = go.Figure()\n",
        "fig.add_trace(go.Scatter(x=n, y=t,\n",
        "                    mode='lines+markers',\n",
        "                    name='Python puro'))\n",
        "fig.add_trace(go.Scatter(x=n, y=t_numpy,\n",
        "                    mode='lines+markers',\n",
        "                    name='Numpy'))\n",
        "fig.update_layout(title='Comparación del uso de Python solo y Numpy',\n",
        "                   xaxis_title='Cantidad de datos',\n",
        "                   yaxis_title='Tiempo [s]')\n",
        "\n",
        "fig.show()"
      ],
      "execution_count": 20,
      "outputs": [
        {
          "output_type": "display_data",
          "data": {
            "text/html": [
              "<html>\n",
              "<head><meta charset=\"utf-8\" /></head>\n",
              "<body>\n",
              "    <div>\n",
              "            <script src=\"https://cdnjs.cloudflare.com/ajax/libs/mathjax/2.7.5/MathJax.js?config=TeX-AMS-MML_SVG\"></script><script type=\"text/javascript\">if (window.MathJax) {MathJax.Hub.Config({SVG: {font: \"STIX-Web\"}});}</script>\n",
              "                <script type=\"text/javascript\">window.PlotlyConfig = {MathJaxConfig: 'local'};</script>\n",
              "        <script src=\"https://cdn.plot.ly/plotly-latest.min.js\"></script>    \n",
              "            <div id=\"61355da0-ee7e-4697-b83a-e6b767afd3d0\" class=\"plotly-graph-div\" style=\"height:525px; width:100%;\"></div>\n",
              "            <script type=\"text/javascript\">\n",
              "                \n",
              "                    window.PLOTLYENV=window.PLOTLYENV || {};\n",
              "                    \n",
              "                if (document.getElementById(\"61355da0-ee7e-4697-b83a-e6b767afd3d0\")) {\n",
              "                    Plotly.newPlot(\n",
              "                        '61355da0-ee7e-4697-b83a-e6b767afd3d0',\n",
              "                        [{\"mode\": \"lines+markers\", \"name\": \"Python puro\", \"type\": \"scatter\", \"x\": [50, 100, 150, 200, 250, 300, 350, 400, 450, 500, 550, 600, 650, 700, 750, 800, 850, 900, 950], \"y\": [0.019534671999281272, 0.034043900999677135, 0.044070883999665966, 0.05654689799848711, 0.06965467299960437, 0.083972836000612, 0.09738533099880442, 0.10995449799884227, 0.12601681700107292, 0.14643900000010035, 0.15228690599906258, 0.16595798799971817, 0.18119242999819107, 0.1945968649997667, 0.20958101200085366, 0.23267210999983945, 0.2369972519991279, 0.2487780629999179, 0.26595587400152]}, {\"mode\": \"lines+markers\", \"name\": \"Numpy\", \"type\": \"scatter\", \"x\": [50, 100, 150, 200, 250, 300, 350, 400, 450, 500, 550, 600, 650, 700, 750, 800, 850, 900, 950], \"y\": [0.0016025139993871562, 0.0017641940030443948, 0.0015484079995076172, 0.0016516030009370297, 0.0016913670006033499, 0.001743680000799941, 0.0017772279970813543, 0.0018607849997351877, 0.0018905730030382983, 0.0019576439990487415, 0.0021877060025872197, 0.0020766509987879544, 0.002179236998927081, 0.0022159320033097174, 0.002296526999998605, 0.002320782998140203, 0.0023896460006653797, 0.0024149710006895475, 0.0025145360013993923]}],\n",
              "                        {\"template\": {\"data\": {\"bar\": [{\"error_x\": {\"color\": \"#2a3f5f\"}, \"error_y\": {\"color\": \"#2a3f5f\"}, \"marker\": {\"line\": {\"color\": \"#E5ECF6\", \"width\": 0.5}}, \"type\": \"bar\"}], \"barpolar\": [{\"marker\": {\"line\": {\"color\": \"#E5ECF6\", \"width\": 0.5}}, \"type\": \"barpolar\"}], \"carpet\": [{\"aaxis\": {\"endlinecolor\": \"#2a3f5f\", \"gridcolor\": \"white\", \"linecolor\": \"white\", \"minorgridcolor\": \"white\", \"startlinecolor\": \"#2a3f5f\"}, \"baxis\": {\"endlinecolor\": \"#2a3f5f\", \"gridcolor\": \"white\", \"linecolor\": \"white\", \"minorgridcolor\": \"white\", \"startlinecolor\": \"#2a3f5f\"}, \"type\": \"carpet\"}], \"choropleth\": [{\"colorbar\": {\"outlinewidth\": 0, \"ticks\": \"\"}, \"type\": \"choropleth\"}], \"contour\": [{\"colorbar\": {\"outlinewidth\": 0, \"ticks\": \"\"}, \"colorscale\": [[0.0, \"#0d0887\"], [0.1111111111111111, \"#46039f\"], [0.2222222222222222, \"#7201a8\"], [0.3333333333333333, \"#9c179e\"], [0.4444444444444444, \"#bd3786\"], [0.5555555555555556, \"#d8576b\"], [0.6666666666666666, \"#ed7953\"], [0.7777777777777778, \"#fb9f3a\"], [0.8888888888888888, \"#fdca26\"], [1.0, \"#f0f921\"]], \"type\": \"contour\"}], \"contourcarpet\": [{\"colorbar\": {\"outlinewidth\": 0, \"ticks\": \"\"}, \"type\": \"contourcarpet\"}], \"heatmap\": [{\"colorbar\": {\"outlinewidth\": 0, \"ticks\": \"\"}, \"colorscale\": [[0.0, \"#0d0887\"], [0.1111111111111111, \"#46039f\"], [0.2222222222222222, \"#7201a8\"], [0.3333333333333333, \"#9c179e\"], [0.4444444444444444, \"#bd3786\"], [0.5555555555555556, \"#d8576b\"], [0.6666666666666666, \"#ed7953\"], [0.7777777777777778, \"#fb9f3a\"], [0.8888888888888888, \"#fdca26\"], [1.0, \"#f0f921\"]], \"type\": \"heatmap\"}], \"heatmapgl\": [{\"colorbar\": {\"outlinewidth\": 0, \"ticks\": \"\"}, \"colorscale\": [[0.0, \"#0d0887\"], [0.1111111111111111, \"#46039f\"], [0.2222222222222222, \"#7201a8\"], [0.3333333333333333, \"#9c179e\"], [0.4444444444444444, \"#bd3786\"], [0.5555555555555556, \"#d8576b\"], [0.6666666666666666, \"#ed7953\"], [0.7777777777777778, \"#fb9f3a\"], [0.8888888888888888, \"#fdca26\"], [1.0, \"#f0f921\"]], \"type\": \"heatmapgl\"}], \"histogram\": [{\"marker\": {\"colorbar\": {\"outlinewidth\": 0, \"ticks\": \"\"}}, \"type\": \"histogram\"}], \"histogram2d\": [{\"colorbar\": {\"outlinewidth\": 0, \"ticks\": \"\"}, \"colorscale\": [[0.0, \"#0d0887\"], [0.1111111111111111, \"#46039f\"], [0.2222222222222222, \"#7201a8\"], [0.3333333333333333, \"#9c179e\"], [0.4444444444444444, \"#bd3786\"], [0.5555555555555556, \"#d8576b\"], [0.6666666666666666, \"#ed7953\"], [0.7777777777777778, \"#fb9f3a\"], [0.8888888888888888, \"#fdca26\"], [1.0, \"#f0f921\"]], \"type\": \"histogram2d\"}], \"histogram2dcontour\": [{\"colorbar\": {\"outlinewidth\": 0, \"ticks\": \"\"}, \"colorscale\": [[0.0, \"#0d0887\"], [0.1111111111111111, \"#46039f\"], [0.2222222222222222, \"#7201a8\"], [0.3333333333333333, \"#9c179e\"], [0.4444444444444444, \"#bd3786\"], [0.5555555555555556, \"#d8576b\"], [0.6666666666666666, \"#ed7953\"], [0.7777777777777778, \"#fb9f3a\"], [0.8888888888888888, \"#fdca26\"], [1.0, \"#f0f921\"]], \"type\": \"histogram2dcontour\"}], \"mesh3d\": [{\"colorbar\": {\"outlinewidth\": 0, \"ticks\": \"\"}, \"type\": \"mesh3d\"}], \"parcoords\": [{\"line\": {\"colorbar\": {\"outlinewidth\": 0, \"ticks\": \"\"}}, \"type\": \"parcoords\"}], \"pie\": [{\"automargin\": true, \"type\": \"pie\"}], \"scatter\": [{\"marker\": {\"colorbar\": {\"outlinewidth\": 0, \"ticks\": \"\"}}, \"type\": \"scatter\"}], \"scatter3d\": [{\"line\": {\"colorbar\": {\"outlinewidth\": 0, \"ticks\": \"\"}}, \"marker\": {\"colorbar\": {\"outlinewidth\": 0, \"ticks\": \"\"}}, \"type\": \"scatter3d\"}], \"scattercarpet\": [{\"marker\": {\"colorbar\": {\"outlinewidth\": 0, \"ticks\": \"\"}}, \"type\": \"scattercarpet\"}], \"scattergeo\": [{\"marker\": {\"colorbar\": {\"outlinewidth\": 0, \"ticks\": \"\"}}, \"type\": \"scattergeo\"}], \"scattergl\": [{\"marker\": {\"colorbar\": {\"outlinewidth\": 0, \"ticks\": \"\"}}, \"type\": \"scattergl\"}], \"scattermapbox\": [{\"marker\": {\"colorbar\": {\"outlinewidth\": 0, \"ticks\": \"\"}}, \"type\": \"scattermapbox\"}], \"scatterpolar\": [{\"marker\": {\"colorbar\": {\"outlinewidth\": 0, \"ticks\": \"\"}}, \"type\": \"scatterpolar\"}], \"scatterpolargl\": [{\"marker\": {\"colorbar\": {\"outlinewidth\": 0, \"ticks\": \"\"}}, \"type\": \"scatterpolargl\"}], \"scatterternary\": [{\"marker\": {\"colorbar\": {\"outlinewidth\": 0, \"ticks\": \"\"}}, \"type\": \"scatterternary\"}], \"surface\": [{\"colorbar\": {\"outlinewidth\": 0, \"ticks\": \"\"}, \"colorscale\": [[0.0, \"#0d0887\"], [0.1111111111111111, \"#46039f\"], [0.2222222222222222, \"#7201a8\"], [0.3333333333333333, \"#9c179e\"], [0.4444444444444444, \"#bd3786\"], [0.5555555555555556, \"#d8576b\"], [0.6666666666666666, \"#ed7953\"], [0.7777777777777778, \"#fb9f3a\"], [0.8888888888888888, \"#fdca26\"], [1.0, \"#f0f921\"]], \"type\": \"surface\"}], \"table\": [{\"cells\": {\"fill\": {\"color\": \"#EBF0F8\"}, \"line\": {\"color\": \"white\"}}, \"header\": {\"fill\": {\"color\": \"#C8D4E3\"}, \"line\": {\"color\": \"white\"}}, \"type\": \"table\"}]}, \"layout\": {\"annotationdefaults\": {\"arrowcolor\": \"#2a3f5f\", \"arrowhead\": 0, \"arrowwidth\": 1}, \"coloraxis\": {\"colorbar\": {\"outlinewidth\": 0, \"ticks\": \"\"}}, \"colorscale\": {\"diverging\": [[0, \"#8e0152\"], [0.1, \"#c51b7d\"], [0.2, \"#de77ae\"], [0.3, \"#f1b6da\"], [0.4, \"#fde0ef\"], [0.5, \"#f7f7f7\"], [0.6, \"#e6f5d0\"], [0.7, \"#b8e186\"], [0.8, \"#7fbc41\"], [0.9, \"#4d9221\"], [1, \"#276419\"]], \"sequential\": [[0.0, \"#0d0887\"], [0.1111111111111111, \"#46039f\"], [0.2222222222222222, \"#7201a8\"], [0.3333333333333333, \"#9c179e\"], [0.4444444444444444, \"#bd3786\"], [0.5555555555555556, \"#d8576b\"], [0.6666666666666666, \"#ed7953\"], [0.7777777777777778, \"#fb9f3a\"], [0.8888888888888888, \"#fdca26\"], [1.0, \"#f0f921\"]], \"sequentialminus\": [[0.0, \"#0d0887\"], [0.1111111111111111, \"#46039f\"], [0.2222222222222222, \"#7201a8\"], [0.3333333333333333, \"#9c179e\"], [0.4444444444444444, \"#bd3786\"], [0.5555555555555556, \"#d8576b\"], [0.6666666666666666, \"#ed7953\"], [0.7777777777777778, \"#fb9f3a\"], [0.8888888888888888, \"#fdca26\"], [1.0, \"#f0f921\"]]}, \"colorway\": [\"#636efa\", \"#EF553B\", \"#00cc96\", \"#ab63fa\", \"#FFA15A\", \"#19d3f3\", \"#FF6692\", \"#B6E880\", \"#FF97FF\", \"#FECB52\"], \"font\": {\"color\": \"#2a3f5f\"}, \"geo\": {\"bgcolor\": \"white\", \"lakecolor\": \"white\", \"landcolor\": \"#E5ECF6\", \"showlakes\": true, \"showland\": true, \"subunitcolor\": \"white\"}, \"hoverlabel\": {\"align\": \"left\"}, \"hovermode\": \"closest\", \"mapbox\": {\"style\": \"light\"}, \"paper_bgcolor\": \"white\", \"plot_bgcolor\": \"#E5ECF6\", \"polar\": {\"angularaxis\": {\"gridcolor\": \"white\", \"linecolor\": \"white\", \"ticks\": \"\"}, \"bgcolor\": \"#E5ECF6\", \"radialaxis\": {\"gridcolor\": \"white\", \"linecolor\": \"white\", \"ticks\": \"\"}}, \"scene\": {\"xaxis\": {\"backgroundcolor\": \"#E5ECF6\", \"gridcolor\": \"white\", \"gridwidth\": 2, \"linecolor\": \"white\", \"showbackground\": true, \"ticks\": \"\", \"zerolinecolor\": \"white\"}, \"yaxis\": {\"backgroundcolor\": \"#E5ECF6\", \"gridcolor\": \"white\", \"gridwidth\": 2, \"linecolor\": \"white\", \"showbackground\": true, \"ticks\": \"\", \"zerolinecolor\": \"white\"}, \"zaxis\": {\"backgroundcolor\": \"#E5ECF6\", \"gridcolor\": \"white\", \"gridwidth\": 2, \"linecolor\": \"white\", \"showbackground\": true, \"ticks\": \"\", \"zerolinecolor\": \"white\"}}, \"shapedefaults\": {\"line\": {\"color\": \"#2a3f5f\"}}, \"ternary\": {\"aaxis\": {\"gridcolor\": \"white\", \"linecolor\": \"white\", \"ticks\": \"\"}, \"baxis\": {\"gridcolor\": \"white\", \"linecolor\": \"white\", \"ticks\": \"\"}, \"bgcolor\": \"#E5ECF6\", \"caxis\": {\"gridcolor\": \"white\", \"linecolor\": \"white\", \"ticks\": \"\"}}, \"title\": {\"x\": 0.05}, \"xaxis\": {\"automargin\": true, \"gridcolor\": \"white\", \"linecolor\": \"white\", \"ticks\": \"\", \"title\": {\"standoff\": 15}, \"zerolinecolor\": \"white\", \"zerolinewidth\": 2}, \"yaxis\": {\"automargin\": true, \"gridcolor\": \"white\", \"linecolor\": \"white\", \"ticks\": \"\", \"title\": {\"standoff\": 15}, \"zerolinecolor\": \"white\", \"zerolinewidth\": 2}}}, \"title\": {\"text\": \"Comparaci\\u00f3n del uso de Python solo y Numpy\"}, \"xaxis\": {\"title\": {\"text\": \"Cantidad de datos\"}}, \"yaxis\": {\"title\": {\"text\": \"Tiempo [s]\"}}},\n",
              "                        {\"responsive\": true}\n",
              "                    ).then(function(){\n",
              "                            \n",
              "var gd = document.getElementById('61355da0-ee7e-4697-b83a-e6b767afd3d0');\n",
              "var x = new MutationObserver(function (mutations, observer) {{\n",
              "        var display = window.getComputedStyle(gd).display;\n",
              "        if (!display || display === 'none') {{\n",
              "            console.log([gd, 'removed!']);\n",
              "            Plotly.purge(gd);\n",
              "            observer.disconnect();\n",
              "        }}\n",
              "}});\n",
              "\n",
              "// Listen for the removal of the full notebook cells\n",
              "var notebookContainer = gd.closest('#notebook-container');\n",
              "if (notebookContainer) {{\n",
              "    x.observe(notebookContainer, {childList: true});\n",
              "}}\n",
              "\n",
              "// Listen for the clearing of the current output cell\n",
              "var outputEl = gd.closest('.output');\n",
              "if (outputEl) {{\n",
              "    x.observe(outputEl, {childList: true});\n",
              "}}\n",
              "\n",
              "                        })\n",
              "                };\n",
              "                \n",
              "            </script>\n",
              "        </div>\n",
              "</body>\n",
              "</html>"
            ]
          },
          "metadata": {
            "tags": []
          }
        }
      ]
    },
    {
      "cell_type": "markdown",
      "metadata": {
        "id": "CG_o2vQ8jpdq"
      },
      "source": [
        "En el gráfico se puede observar la diferencia que existe, en tiempo de ejecución entre la función de python puro y la que utiliza numpy. Ambas empiezan con tiempos similares, pero la de python puro se comienza a disparar rápidamente a medida que se aumenta la cantidad de datos, mientras que la que utiliza numpy se mantiene casi constante a simple vista.\n",
        "\n",
        "Esto se debe a que la librería Numpy se preocupa de realizar las operaciones más eficientemente que python, además de esto no se itera por sobre el input agregando cada resultado a una lista final, si no que se realizan las opreciones directamente sobre los vectores de entrada, lo que ahorra tiempo."
      ]
    },
    {
      "cell_type": "code",
      "metadata": {
        "id": "b02IokToxPpO"
      },
      "source": [
        "\n",
        "@jit(nopython=True)\n",
        "def intervalos_JIT(votos_positivos, votos_negativos):\n",
        "  mu = [] \n",
        "  sigma = []\n",
        "  for i in range(len(votos_positivos)):\n",
        "    a = votos_positivos[i] + 1\n",
        "    b = votos_negativos[i] + 1\n",
        "    m = a/(a+b)\n",
        "    mu.append(m)\n",
        "    arriba = a*b\n",
        "    cuadrado = (a+b)**2\n",
        "    otro = a+b+1\n",
        "    abajo = cuadrado*otro\n",
        "    s =  1.65*((arriba/abajo)**(0.5))\n",
        "    sigma.append(s)\n",
        "    return mu,sigma\n",
        "\n",
        "@jit(nopython=True)\n",
        "def intervalos_numpy_JIT(votos_positivos, votos_negativos):\n",
        "  votos_positivos = votos_positivos + 1 \n",
        "  votos_negativos = votos_negativos + 1\n",
        "  mu = (votos_positivos)/(votos_positivos + votos_negativos)\n",
        "  arriba = votos_positivos*votos_negativos\n",
        "  cuadrado = (votos_positivos+votos_negativos)**2\n",
        "  otro = votos_positivos+votos_negativos+1\n",
        "  abajo = cuadrado*otro\n",
        "  sigma = 1.65*np.sqrt(arriba/abajo)\n",
        "  return mu, sigma"
      ],
      "execution_count": 21,
      "outputs": []
    },
    {
      "cell_type": "code",
      "metadata": {
        "id": "sxzsXdgaB35z"
      },
      "source": [
        "t_jit = []\n",
        "t_numpy_jit = []\n",
        "for i in votes.values():\n",
        "  ts = t_jit.append(timeit.timeit('[intervalos_JIT(i[:, 0], i[:, 1])]', globals=globals(),number=100)) \n",
        "  t_numpys = t_numpy_jit.append(timeit.timeit('[intervalos_numpy_JIT(i[:, 0], i[:, 1])]', globals=globals(),number=100) )"
      ],
      "execution_count": 22,
      "outputs": []
    },
    {
      "cell_type": "code",
      "metadata": {
        "colab": {
          "base_uri": "https://localhost:8080/",
          "height": 542
        },
        "id": "7vStdHjXE3WF",
        "outputId": "b3c2cffe-1bd5-4fc4-ff7d-aa846fef53d7"
      },
      "source": [
        "\n",
        "fig = go.Figure()\n",
        "fig.add_trace(go.Scatter(x=n, y=t,\n",
        "                    mode='lines+markers',\n",
        "                    name='Python puro'))\n",
        "fig.add_trace(go.Scatter(x=n[1:], y=t_numpy[1:],\n",
        "                    mode='lines+markers',\n",
        "                    name='Numpy'))\n",
        "\n",
        "fig.add_trace(go.Scatter(x=n[1:], y=t_jit[1:],\n",
        "                    mode='lines+markers',\n",
        "                    name='Python puro + Jit'))\n",
        "fig.add_trace(go.Scatter(x=n[1:], y=t_numpy_jit[1:],\n",
        "                    mode='lines+markers',\n",
        "                    name='Numpy + Jit'))\n",
        "\n",
        "fig.update_layout(title='Comparación de las funciones, con las mismas usando Jit',\n",
        "                   xaxis_title='Cantidad de datos',\n",
        "                   yaxis_title='Tiempo [s]')\n",
        "fig.show()"
      ],
      "execution_count": 23,
      "outputs": [
        {
          "output_type": "display_data",
          "data": {
            "text/html": [
              "<html>\n",
              "<head><meta charset=\"utf-8\" /></head>\n",
              "<body>\n",
              "    <div>\n",
              "            <script src=\"https://cdnjs.cloudflare.com/ajax/libs/mathjax/2.7.5/MathJax.js?config=TeX-AMS-MML_SVG\"></script><script type=\"text/javascript\">if (window.MathJax) {MathJax.Hub.Config({SVG: {font: \"STIX-Web\"}});}</script>\n",
              "                <script type=\"text/javascript\">window.PlotlyConfig = {MathJaxConfig: 'local'};</script>\n",
              "        <script src=\"https://cdn.plot.ly/plotly-latest.min.js\"></script>    \n",
              "            <div id=\"b7b44933-67b6-4572-8e0a-8bf7e727737b\" class=\"plotly-graph-div\" style=\"height:525px; width:100%;\"></div>\n",
              "            <script type=\"text/javascript\">\n",
              "                \n",
              "                    window.PLOTLYENV=window.PLOTLYENV || {};\n",
              "                    \n",
              "                if (document.getElementById(\"b7b44933-67b6-4572-8e0a-8bf7e727737b\")) {\n",
              "                    Plotly.newPlot(\n",
              "                        'b7b44933-67b6-4572-8e0a-8bf7e727737b',\n",
              "                        [{\"mode\": \"lines+markers\", \"name\": \"Python puro\", \"type\": \"scatter\", \"x\": [50, 100, 150, 200, 250, 300, 350, 400, 450, 500, 550, 600, 650, 700, 750, 800, 850, 900, 950], \"y\": [0.019534671999281272, 0.034043900999677135, 0.044070883999665966, 0.05654689799848711, 0.06965467299960437, 0.083972836000612, 0.09738533099880442, 0.10995449799884227, 0.12601681700107292, 0.14643900000010035, 0.15228690599906258, 0.16595798799971817, 0.18119242999819107, 0.1945968649997667, 0.20958101200085366, 0.23267210999983945, 0.2369972519991279, 0.2487780629999179, 0.26595587400152]}, {\"mode\": \"lines+markers\", \"name\": \"Numpy\", \"type\": \"scatter\", \"x\": [100, 150, 200, 250, 300, 350, 400, 450, 500, 550, 600, 650, 700, 750, 800, 850, 900, 950], \"y\": [0.0017641940030443948, 0.0015484079995076172, 0.0016516030009370297, 0.0016913670006033499, 0.001743680000799941, 0.0017772279970813543, 0.0018607849997351877, 0.0018905730030382983, 0.0019576439990487415, 0.0021877060025872197, 0.0020766509987879544, 0.002179236998927081, 0.0022159320033097174, 0.002296526999998605, 0.002320782998140203, 0.0023896460006653797, 0.0024149710006895475, 0.0025145360013993923]}, {\"mode\": \"lines+markers\", \"name\": \"Python puro + Jit\", \"type\": \"scatter\", \"x\": [100, 150, 200, 250, 300, 350, 400, 450, 500, 550, 600, 650, 700, 750, 800, 850, 900, 950], \"y\": [0.00015745599739602767, 0.00015994699788279831, 0.00016916899767238647, 0.00014578300033463165, 0.00014389900024980307, 0.00014286299847299233, 0.00015630400230293162, 0.00014350700075738132, 0.0001433649995306041, 0.000148630999319721, 0.00014893000115989707, 0.0001392049998685252, 0.00013984800170874223, 0.00014796699906582944, 0.00015492100283154286, 0.00015405100202769972, 0.0001567999970575329, 0.00014269499661168084]}, {\"mode\": \"lines+markers\", \"name\": \"Numpy + Jit\", \"type\": \"scatter\", \"x\": [100, 150, 200, 250, 300, 350, 400, 450, 500, 550, 600, 650, 700, 750, 800, 850, 900, 950], \"y\": [0.0003562040001270361, 0.000365936997695826, 0.00039792099778424017, 0.0004496590008784551, 0.0004931610019411892, 0.0005211970019445289, 0.0005296469971654005, 0.0005752159995608963, 0.0006293049991654698, 0.0006741249999322463, 0.0007162549991335254, 0.0007185100002971012, 0.0007693160005146638, 0.0008148990018526092, 0.0008316620005643927, 0.0008858479995978996, 0.0008791230029601138, 0.0009984089992940426]}],\n",
              "                        {\"template\": {\"data\": {\"bar\": [{\"error_x\": {\"color\": \"#2a3f5f\"}, \"error_y\": {\"color\": \"#2a3f5f\"}, \"marker\": {\"line\": {\"color\": \"#E5ECF6\", \"width\": 0.5}}, \"type\": \"bar\"}], \"barpolar\": [{\"marker\": {\"line\": {\"color\": \"#E5ECF6\", \"width\": 0.5}}, \"type\": \"barpolar\"}], \"carpet\": [{\"aaxis\": {\"endlinecolor\": \"#2a3f5f\", \"gridcolor\": \"white\", \"linecolor\": \"white\", \"minorgridcolor\": \"white\", \"startlinecolor\": \"#2a3f5f\"}, \"baxis\": {\"endlinecolor\": \"#2a3f5f\", \"gridcolor\": \"white\", \"linecolor\": \"white\", \"minorgridcolor\": \"white\", \"startlinecolor\": \"#2a3f5f\"}, \"type\": \"carpet\"}], \"choropleth\": [{\"colorbar\": {\"outlinewidth\": 0, \"ticks\": \"\"}, \"type\": \"choropleth\"}], \"contour\": [{\"colorbar\": {\"outlinewidth\": 0, \"ticks\": \"\"}, \"colorscale\": [[0.0, \"#0d0887\"], [0.1111111111111111, \"#46039f\"], [0.2222222222222222, \"#7201a8\"], [0.3333333333333333, \"#9c179e\"], [0.4444444444444444, \"#bd3786\"], [0.5555555555555556, \"#d8576b\"], [0.6666666666666666, \"#ed7953\"], [0.7777777777777778, \"#fb9f3a\"], [0.8888888888888888, \"#fdca26\"], [1.0, \"#f0f921\"]], \"type\": \"contour\"}], \"contourcarpet\": [{\"colorbar\": {\"outlinewidth\": 0, \"ticks\": \"\"}, \"type\": \"contourcarpet\"}], \"heatmap\": [{\"colorbar\": {\"outlinewidth\": 0, \"ticks\": \"\"}, \"colorscale\": [[0.0, \"#0d0887\"], [0.1111111111111111, \"#46039f\"], [0.2222222222222222, \"#7201a8\"], [0.3333333333333333, \"#9c179e\"], [0.4444444444444444, \"#bd3786\"], [0.5555555555555556, \"#d8576b\"], [0.6666666666666666, \"#ed7953\"], [0.7777777777777778, \"#fb9f3a\"], [0.8888888888888888, \"#fdca26\"], [1.0, \"#f0f921\"]], \"type\": \"heatmap\"}], \"heatmapgl\": [{\"colorbar\": {\"outlinewidth\": 0, \"ticks\": \"\"}, \"colorscale\": [[0.0, \"#0d0887\"], [0.1111111111111111, \"#46039f\"], [0.2222222222222222, \"#7201a8\"], [0.3333333333333333, \"#9c179e\"], [0.4444444444444444, \"#bd3786\"], [0.5555555555555556, \"#d8576b\"], [0.6666666666666666, \"#ed7953\"], [0.7777777777777778, \"#fb9f3a\"], [0.8888888888888888, \"#fdca26\"], [1.0, \"#f0f921\"]], \"type\": \"heatmapgl\"}], \"histogram\": [{\"marker\": {\"colorbar\": {\"outlinewidth\": 0, \"ticks\": \"\"}}, \"type\": \"histogram\"}], \"histogram2d\": [{\"colorbar\": {\"outlinewidth\": 0, \"ticks\": \"\"}, \"colorscale\": [[0.0, \"#0d0887\"], [0.1111111111111111, \"#46039f\"], [0.2222222222222222, \"#7201a8\"], [0.3333333333333333, \"#9c179e\"], [0.4444444444444444, \"#bd3786\"], [0.5555555555555556, \"#d8576b\"], [0.6666666666666666, \"#ed7953\"], [0.7777777777777778, \"#fb9f3a\"], [0.8888888888888888, \"#fdca26\"], [1.0, \"#f0f921\"]], \"type\": \"histogram2d\"}], \"histogram2dcontour\": [{\"colorbar\": {\"outlinewidth\": 0, \"ticks\": \"\"}, \"colorscale\": [[0.0, \"#0d0887\"], [0.1111111111111111, \"#46039f\"], [0.2222222222222222, \"#7201a8\"], [0.3333333333333333, \"#9c179e\"], [0.4444444444444444, \"#bd3786\"], [0.5555555555555556, \"#d8576b\"], [0.6666666666666666, \"#ed7953\"], [0.7777777777777778, \"#fb9f3a\"], [0.8888888888888888, \"#fdca26\"], [1.0, \"#f0f921\"]], \"type\": \"histogram2dcontour\"}], \"mesh3d\": [{\"colorbar\": {\"outlinewidth\": 0, \"ticks\": \"\"}, \"type\": \"mesh3d\"}], \"parcoords\": [{\"line\": {\"colorbar\": {\"outlinewidth\": 0, \"ticks\": \"\"}}, \"type\": \"parcoords\"}], \"pie\": [{\"automargin\": true, \"type\": \"pie\"}], \"scatter\": [{\"marker\": {\"colorbar\": {\"outlinewidth\": 0, \"ticks\": \"\"}}, \"type\": \"scatter\"}], \"scatter3d\": [{\"line\": {\"colorbar\": {\"outlinewidth\": 0, \"ticks\": \"\"}}, \"marker\": {\"colorbar\": {\"outlinewidth\": 0, \"ticks\": \"\"}}, \"type\": \"scatter3d\"}], \"scattercarpet\": [{\"marker\": {\"colorbar\": {\"outlinewidth\": 0, \"ticks\": \"\"}}, \"type\": \"scattercarpet\"}], \"scattergeo\": [{\"marker\": {\"colorbar\": {\"outlinewidth\": 0, \"ticks\": \"\"}}, \"type\": \"scattergeo\"}], \"scattergl\": [{\"marker\": {\"colorbar\": {\"outlinewidth\": 0, \"ticks\": \"\"}}, \"type\": \"scattergl\"}], \"scattermapbox\": [{\"marker\": {\"colorbar\": {\"outlinewidth\": 0, \"ticks\": \"\"}}, \"type\": \"scattermapbox\"}], \"scatterpolar\": [{\"marker\": {\"colorbar\": {\"outlinewidth\": 0, \"ticks\": \"\"}}, \"type\": \"scatterpolar\"}], \"scatterpolargl\": [{\"marker\": {\"colorbar\": {\"outlinewidth\": 0, \"ticks\": \"\"}}, \"type\": \"scatterpolargl\"}], \"scatterternary\": [{\"marker\": {\"colorbar\": {\"outlinewidth\": 0, \"ticks\": \"\"}}, \"type\": \"scatterternary\"}], \"surface\": [{\"colorbar\": {\"outlinewidth\": 0, \"ticks\": \"\"}, \"colorscale\": [[0.0, \"#0d0887\"], [0.1111111111111111, \"#46039f\"], [0.2222222222222222, \"#7201a8\"], [0.3333333333333333, \"#9c179e\"], [0.4444444444444444, \"#bd3786\"], [0.5555555555555556, \"#d8576b\"], [0.6666666666666666, \"#ed7953\"], [0.7777777777777778, \"#fb9f3a\"], [0.8888888888888888, \"#fdca26\"], [1.0, \"#f0f921\"]], \"type\": \"surface\"}], \"table\": [{\"cells\": {\"fill\": {\"color\": \"#EBF0F8\"}, \"line\": {\"color\": \"white\"}}, \"header\": {\"fill\": {\"color\": \"#C8D4E3\"}, \"line\": {\"color\": \"white\"}}, \"type\": \"table\"}]}, \"layout\": {\"annotationdefaults\": {\"arrowcolor\": \"#2a3f5f\", \"arrowhead\": 0, \"arrowwidth\": 1}, \"coloraxis\": {\"colorbar\": {\"outlinewidth\": 0, \"ticks\": \"\"}}, \"colorscale\": {\"diverging\": [[0, \"#8e0152\"], [0.1, \"#c51b7d\"], [0.2, \"#de77ae\"], [0.3, \"#f1b6da\"], [0.4, \"#fde0ef\"], [0.5, \"#f7f7f7\"], [0.6, \"#e6f5d0\"], [0.7, \"#b8e186\"], [0.8, \"#7fbc41\"], [0.9, \"#4d9221\"], [1, \"#276419\"]], \"sequential\": [[0.0, \"#0d0887\"], [0.1111111111111111, \"#46039f\"], [0.2222222222222222, \"#7201a8\"], [0.3333333333333333, \"#9c179e\"], [0.4444444444444444, \"#bd3786\"], [0.5555555555555556, \"#d8576b\"], [0.6666666666666666, \"#ed7953\"], [0.7777777777777778, \"#fb9f3a\"], [0.8888888888888888, \"#fdca26\"], [1.0, \"#f0f921\"]], \"sequentialminus\": [[0.0, \"#0d0887\"], [0.1111111111111111, \"#46039f\"], [0.2222222222222222, \"#7201a8\"], [0.3333333333333333, \"#9c179e\"], [0.4444444444444444, \"#bd3786\"], [0.5555555555555556, \"#d8576b\"], [0.6666666666666666, \"#ed7953\"], [0.7777777777777778, \"#fb9f3a\"], [0.8888888888888888, \"#fdca26\"], [1.0, \"#f0f921\"]]}, \"colorway\": [\"#636efa\", \"#EF553B\", \"#00cc96\", \"#ab63fa\", \"#FFA15A\", \"#19d3f3\", \"#FF6692\", \"#B6E880\", \"#FF97FF\", \"#FECB52\"], \"font\": {\"color\": \"#2a3f5f\"}, \"geo\": {\"bgcolor\": \"white\", \"lakecolor\": \"white\", \"landcolor\": \"#E5ECF6\", \"showlakes\": true, \"showland\": true, \"subunitcolor\": \"white\"}, \"hoverlabel\": {\"align\": \"left\"}, \"hovermode\": \"closest\", \"mapbox\": {\"style\": \"light\"}, \"paper_bgcolor\": \"white\", \"plot_bgcolor\": \"#E5ECF6\", \"polar\": {\"angularaxis\": {\"gridcolor\": \"white\", \"linecolor\": \"white\", \"ticks\": \"\"}, \"bgcolor\": \"#E5ECF6\", \"radialaxis\": {\"gridcolor\": \"white\", \"linecolor\": \"white\", \"ticks\": \"\"}}, \"scene\": {\"xaxis\": {\"backgroundcolor\": \"#E5ECF6\", \"gridcolor\": \"white\", \"gridwidth\": 2, \"linecolor\": \"white\", \"showbackground\": true, \"ticks\": \"\", \"zerolinecolor\": \"white\"}, \"yaxis\": {\"backgroundcolor\": \"#E5ECF6\", \"gridcolor\": \"white\", \"gridwidth\": 2, \"linecolor\": \"white\", \"showbackground\": true, \"ticks\": \"\", \"zerolinecolor\": \"white\"}, \"zaxis\": {\"backgroundcolor\": \"#E5ECF6\", \"gridcolor\": \"white\", \"gridwidth\": 2, \"linecolor\": \"white\", \"showbackground\": true, \"ticks\": \"\", \"zerolinecolor\": \"white\"}}, \"shapedefaults\": {\"line\": {\"color\": \"#2a3f5f\"}}, \"ternary\": {\"aaxis\": {\"gridcolor\": \"white\", \"linecolor\": \"white\", \"ticks\": \"\"}, \"baxis\": {\"gridcolor\": \"white\", \"linecolor\": \"white\", \"ticks\": \"\"}, \"bgcolor\": \"#E5ECF6\", \"caxis\": {\"gridcolor\": \"white\", \"linecolor\": \"white\", \"ticks\": \"\"}}, \"title\": {\"x\": 0.05}, \"xaxis\": {\"automargin\": true, \"gridcolor\": \"white\", \"linecolor\": \"white\", \"ticks\": \"\", \"title\": {\"standoff\": 15}, \"zerolinecolor\": \"white\", \"zerolinewidth\": 2}, \"yaxis\": {\"automargin\": true, \"gridcolor\": \"white\", \"linecolor\": \"white\", \"ticks\": \"\", \"title\": {\"standoff\": 15}, \"zerolinecolor\": \"white\", \"zerolinewidth\": 2}}}, \"title\": {\"text\": \"Comparaci\\u00f3n de las funciones, con las mismas usando Jit\"}, \"xaxis\": {\"title\": {\"text\": \"Cantidad de datos\"}}, \"yaxis\": {\"title\": {\"text\": \"Tiempo [s]\"}}},\n",
              "                        {\"responsive\": true}\n",
              "                    ).then(function(){\n",
              "                            \n",
              "var gd = document.getElementById('b7b44933-67b6-4572-8e0a-8bf7e727737b');\n",
              "var x = new MutationObserver(function (mutations, observer) {{\n",
              "        var display = window.getComputedStyle(gd).display;\n",
              "        if (!display || display === 'none') {{\n",
              "            console.log([gd, 'removed!']);\n",
              "            Plotly.purge(gd);\n",
              "            observer.disconnect();\n",
              "        }}\n",
              "}});\n",
              "\n",
              "// Listen for the removal of the full notebook cells\n",
              "var notebookContainer = gd.closest('#notebook-container');\n",
              "if (notebookContainer) {{\n",
              "    x.observe(notebookContainer, {childList: true});\n",
              "}}\n",
              "\n",
              "// Listen for the clearing of the current output cell\n",
              "var outputEl = gd.closest('.output');\n",
              "if (outputEl) {{\n",
              "    x.observe(outputEl, {childList: true});\n",
              "}}\n",
              "\n",
              "                        })\n",
              "                };\n",
              "                \n",
              "            </script>\n",
              "        </div>\n",
              "</body>\n",
              "</html>"
            ]
          },
          "metadata": {
            "tags": []
          }
        }
      ]
    },
    {
      "cell_type": "markdown",
      "metadata": {
        "id": "v0SR9COJlXuH"
      },
      "source": [
        "En el gráfico anterior se muestran las comparaciones en tiempo de ejecución de las funciones ya implemantadas, comparandolas con ellas mismas, pero usando el compilador de Numba. Es posible notar como la función solo con Numpy tiene tiempo mucho mayores al resto, las cuales se encuentran muy juntas cercanas al cero y no se disintguen bien, por lo que se hace un 'Zoom':\n"
      ]
    },
    {
      "cell_type": "code",
      "metadata": {
        "colab": {
          "base_uri": "https://localhost:8080/",
          "height": 542
        },
        "id": "al3RO5qQCInt",
        "outputId": "e6f305ca-8b11-439e-f2b1-40bafc218473"
      },
      "source": [
        "\n",
        "fig = go.Figure()\n",
        "fig.add_trace(go.Scatter(x=n[1:], y=t_numpy[1:],\n",
        "                    mode='lines+markers',\n",
        "                    name='Numpy'))\n",
        "\n",
        "fig.add_trace(go.Scatter(x=n[1:], y=t_jit[1:],\n",
        "                    mode='lines+markers',\n",
        "                    name='Python + Jit'))\n",
        "fig.add_trace(go.Scatter(x=n[1:], y=t_numpy_jit[1:],\n",
        "                    mode='lines+markers',\n",
        "                    name='Numpy + Jit'))\n",
        "\n",
        "fig.update_layout(title='Acercamiento a la comparación del uso de Jit',\n",
        "                   xaxis_title='Cantidad de datos',\n",
        "                   yaxis_title='Tiempo [s]')\n",
        "fig.show()"
      ],
      "execution_count": 24,
      "outputs": [
        {
          "output_type": "display_data",
          "data": {
            "text/html": [
              "<html>\n",
              "<head><meta charset=\"utf-8\" /></head>\n",
              "<body>\n",
              "    <div>\n",
              "            <script src=\"https://cdnjs.cloudflare.com/ajax/libs/mathjax/2.7.5/MathJax.js?config=TeX-AMS-MML_SVG\"></script><script type=\"text/javascript\">if (window.MathJax) {MathJax.Hub.Config({SVG: {font: \"STIX-Web\"}});}</script>\n",
              "                <script type=\"text/javascript\">window.PlotlyConfig = {MathJaxConfig: 'local'};</script>\n",
              "        <script src=\"https://cdn.plot.ly/plotly-latest.min.js\"></script>    \n",
              "            <div id=\"30eb39a0-e71a-455a-aab1-e289f1a503e7\" class=\"plotly-graph-div\" style=\"height:525px; width:100%;\"></div>\n",
              "            <script type=\"text/javascript\">\n",
              "                \n",
              "                    window.PLOTLYENV=window.PLOTLYENV || {};\n",
              "                    \n",
              "                if (document.getElementById(\"30eb39a0-e71a-455a-aab1-e289f1a503e7\")) {\n",
              "                    Plotly.newPlot(\n",
              "                        '30eb39a0-e71a-455a-aab1-e289f1a503e7',\n",
              "                        [{\"mode\": \"lines+markers\", \"name\": \"Numpy\", \"type\": \"scatter\", \"x\": [100, 150, 200, 250, 300, 350, 400, 450, 500, 550, 600, 650, 700, 750, 800, 850, 900, 950], \"y\": [0.0017641940030443948, 0.0015484079995076172, 0.0016516030009370297, 0.0016913670006033499, 0.001743680000799941, 0.0017772279970813543, 0.0018607849997351877, 0.0018905730030382983, 0.0019576439990487415, 0.0021877060025872197, 0.0020766509987879544, 0.002179236998927081, 0.0022159320033097174, 0.002296526999998605, 0.002320782998140203, 0.0023896460006653797, 0.0024149710006895475, 0.0025145360013993923]}, {\"mode\": \"lines+markers\", \"name\": \"Python + Jit\", \"type\": \"scatter\", \"x\": [100, 150, 200, 250, 300, 350, 400, 450, 500, 550, 600, 650, 700, 750, 800, 850, 900, 950], \"y\": [0.00015745599739602767, 0.00015994699788279831, 0.00016916899767238647, 0.00014578300033463165, 0.00014389900024980307, 0.00014286299847299233, 0.00015630400230293162, 0.00014350700075738132, 0.0001433649995306041, 0.000148630999319721, 0.00014893000115989707, 0.0001392049998685252, 0.00013984800170874223, 0.00014796699906582944, 0.00015492100283154286, 0.00015405100202769972, 0.0001567999970575329, 0.00014269499661168084]}, {\"mode\": \"lines+markers\", \"name\": \"Numpy + Jit\", \"type\": \"scatter\", \"x\": [100, 150, 200, 250, 300, 350, 400, 450, 500, 550, 600, 650, 700, 750, 800, 850, 900, 950], \"y\": [0.0003562040001270361, 0.000365936997695826, 0.00039792099778424017, 0.0004496590008784551, 0.0004931610019411892, 0.0005211970019445289, 0.0005296469971654005, 0.0005752159995608963, 0.0006293049991654698, 0.0006741249999322463, 0.0007162549991335254, 0.0007185100002971012, 0.0007693160005146638, 0.0008148990018526092, 0.0008316620005643927, 0.0008858479995978996, 0.0008791230029601138, 0.0009984089992940426]}],\n",
              "                        {\"template\": {\"data\": {\"bar\": [{\"error_x\": {\"color\": \"#2a3f5f\"}, \"error_y\": {\"color\": \"#2a3f5f\"}, \"marker\": {\"line\": {\"color\": \"#E5ECF6\", \"width\": 0.5}}, \"type\": \"bar\"}], \"barpolar\": [{\"marker\": {\"line\": {\"color\": \"#E5ECF6\", \"width\": 0.5}}, \"type\": \"barpolar\"}], \"carpet\": [{\"aaxis\": {\"endlinecolor\": \"#2a3f5f\", \"gridcolor\": \"white\", \"linecolor\": \"white\", \"minorgridcolor\": \"white\", \"startlinecolor\": \"#2a3f5f\"}, \"baxis\": {\"endlinecolor\": \"#2a3f5f\", \"gridcolor\": \"white\", \"linecolor\": \"white\", \"minorgridcolor\": \"white\", \"startlinecolor\": \"#2a3f5f\"}, \"type\": \"carpet\"}], \"choropleth\": [{\"colorbar\": {\"outlinewidth\": 0, \"ticks\": \"\"}, \"type\": \"choropleth\"}], \"contour\": [{\"colorbar\": {\"outlinewidth\": 0, \"ticks\": \"\"}, \"colorscale\": [[0.0, \"#0d0887\"], [0.1111111111111111, \"#46039f\"], [0.2222222222222222, \"#7201a8\"], [0.3333333333333333, \"#9c179e\"], [0.4444444444444444, \"#bd3786\"], [0.5555555555555556, \"#d8576b\"], [0.6666666666666666, \"#ed7953\"], [0.7777777777777778, \"#fb9f3a\"], [0.8888888888888888, \"#fdca26\"], [1.0, \"#f0f921\"]], \"type\": \"contour\"}], \"contourcarpet\": [{\"colorbar\": {\"outlinewidth\": 0, \"ticks\": \"\"}, \"type\": \"contourcarpet\"}], \"heatmap\": [{\"colorbar\": {\"outlinewidth\": 0, \"ticks\": \"\"}, \"colorscale\": [[0.0, \"#0d0887\"], [0.1111111111111111, \"#46039f\"], [0.2222222222222222, \"#7201a8\"], [0.3333333333333333, \"#9c179e\"], [0.4444444444444444, \"#bd3786\"], [0.5555555555555556, \"#d8576b\"], [0.6666666666666666, \"#ed7953\"], [0.7777777777777778, \"#fb9f3a\"], [0.8888888888888888, \"#fdca26\"], [1.0, \"#f0f921\"]], \"type\": \"heatmap\"}], \"heatmapgl\": [{\"colorbar\": {\"outlinewidth\": 0, \"ticks\": \"\"}, \"colorscale\": [[0.0, \"#0d0887\"], [0.1111111111111111, \"#46039f\"], [0.2222222222222222, \"#7201a8\"], [0.3333333333333333, \"#9c179e\"], [0.4444444444444444, \"#bd3786\"], [0.5555555555555556, \"#d8576b\"], [0.6666666666666666, \"#ed7953\"], [0.7777777777777778, \"#fb9f3a\"], [0.8888888888888888, \"#fdca26\"], [1.0, \"#f0f921\"]], \"type\": \"heatmapgl\"}], \"histogram\": [{\"marker\": {\"colorbar\": {\"outlinewidth\": 0, \"ticks\": \"\"}}, \"type\": \"histogram\"}], \"histogram2d\": [{\"colorbar\": {\"outlinewidth\": 0, \"ticks\": \"\"}, \"colorscale\": [[0.0, \"#0d0887\"], [0.1111111111111111, \"#46039f\"], [0.2222222222222222, \"#7201a8\"], [0.3333333333333333, \"#9c179e\"], [0.4444444444444444, \"#bd3786\"], [0.5555555555555556, \"#d8576b\"], [0.6666666666666666, \"#ed7953\"], [0.7777777777777778, \"#fb9f3a\"], [0.8888888888888888, \"#fdca26\"], [1.0, \"#f0f921\"]], \"type\": \"histogram2d\"}], \"histogram2dcontour\": [{\"colorbar\": {\"outlinewidth\": 0, \"ticks\": \"\"}, \"colorscale\": [[0.0, \"#0d0887\"], [0.1111111111111111, \"#46039f\"], [0.2222222222222222, \"#7201a8\"], [0.3333333333333333, \"#9c179e\"], [0.4444444444444444, \"#bd3786\"], [0.5555555555555556, \"#d8576b\"], [0.6666666666666666, \"#ed7953\"], [0.7777777777777778, \"#fb9f3a\"], [0.8888888888888888, \"#fdca26\"], [1.0, \"#f0f921\"]], \"type\": \"histogram2dcontour\"}], \"mesh3d\": [{\"colorbar\": {\"outlinewidth\": 0, \"ticks\": \"\"}, \"type\": \"mesh3d\"}], \"parcoords\": [{\"line\": {\"colorbar\": {\"outlinewidth\": 0, \"ticks\": \"\"}}, \"type\": \"parcoords\"}], \"pie\": [{\"automargin\": true, \"type\": \"pie\"}], \"scatter\": [{\"marker\": {\"colorbar\": {\"outlinewidth\": 0, \"ticks\": \"\"}}, \"type\": \"scatter\"}], \"scatter3d\": [{\"line\": {\"colorbar\": {\"outlinewidth\": 0, \"ticks\": \"\"}}, \"marker\": {\"colorbar\": {\"outlinewidth\": 0, \"ticks\": \"\"}}, \"type\": \"scatter3d\"}], \"scattercarpet\": [{\"marker\": {\"colorbar\": {\"outlinewidth\": 0, \"ticks\": \"\"}}, \"type\": \"scattercarpet\"}], \"scattergeo\": [{\"marker\": {\"colorbar\": {\"outlinewidth\": 0, \"ticks\": \"\"}}, \"type\": \"scattergeo\"}], \"scattergl\": [{\"marker\": {\"colorbar\": {\"outlinewidth\": 0, \"ticks\": \"\"}}, \"type\": \"scattergl\"}], \"scattermapbox\": [{\"marker\": {\"colorbar\": {\"outlinewidth\": 0, \"ticks\": \"\"}}, \"type\": \"scattermapbox\"}], \"scatterpolar\": [{\"marker\": {\"colorbar\": {\"outlinewidth\": 0, \"ticks\": \"\"}}, \"type\": \"scatterpolar\"}], \"scatterpolargl\": [{\"marker\": {\"colorbar\": {\"outlinewidth\": 0, \"ticks\": \"\"}}, \"type\": \"scatterpolargl\"}], \"scatterternary\": [{\"marker\": {\"colorbar\": {\"outlinewidth\": 0, \"ticks\": \"\"}}, \"type\": \"scatterternary\"}], \"surface\": [{\"colorbar\": {\"outlinewidth\": 0, \"ticks\": \"\"}, \"colorscale\": [[0.0, \"#0d0887\"], [0.1111111111111111, \"#46039f\"], [0.2222222222222222, \"#7201a8\"], [0.3333333333333333, \"#9c179e\"], [0.4444444444444444, \"#bd3786\"], [0.5555555555555556, \"#d8576b\"], [0.6666666666666666, \"#ed7953\"], [0.7777777777777778, \"#fb9f3a\"], [0.8888888888888888, \"#fdca26\"], [1.0, \"#f0f921\"]], \"type\": \"surface\"}], \"table\": [{\"cells\": {\"fill\": {\"color\": \"#EBF0F8\"}, \"line\": {\"color\": \"white\"}}, \"header\": {\"fill\": {\"color\": \"#C8D4E3\"}, \"line\": {\"color\": \"white\"}}, \"type\": \"table\"}]}, \"layout\": {\"annotationdefaults\": {\"arrowcolor\": \"#2a3f5f\", \"arrowhead\": 0, \"arrowwidth\": 1}, \"coloraxis\": {\"colorbar\": {\"outlinewidth\": 0, \"ticks\": \"\"}}, \"colorscale\": {\"diverging\": [[0, \"#8e0152\"], [0.1, \"#c51b7d\"], [0.2, \"#de77ae\"], [0.3, \"#f1b6da\"], [0.4, \"#fde0ef\"], [0.5, \"#f7f7f7\"], [0.6, \"#e6f5d0\"], [0.7, \"#b8e186\"], [0.8, \"#7fbc41\"], [0.9, \"#4d9221\"], [1, \"#276419\"]], \"sequential\": [[0.0, \"#0d0887\"], [0.1111111111111111, \"#46039f\"], [0.2222222222222222, \"#7201a8\"], [0.3333333333333333, \"#9c179e\"], [0.4444444444444444, \"#bd3786\"], [0.5555555555555556, \"#d8576b\"], [0.6666666666666666, \"#ed7953\"], [0.7777777777777778, \"#fb9f3a\"], [0.8888888888888888, \"#fdca26\"], [1.0, \"#f0f921\"]], \"sequentialminus\": [[0.0, \"#0d0887\"], [0.1111111111111111, \"#46039f\"], [0.2222222222222222, \"#7201a8\"], [0.3333333333333333, \"#9c179e\"], [0.4444444444444444, \"#bd3786\"], [0.5555555555555556, \"#d8576b\"], [0.6666666666666666, \"#ed7953\"], [0.7777777777777778, \"#fb9f3a\"], [0.8888888888888888, \"#fdca26\"], [1.0, \"#f0f921\"]]}, \"colorway\": [\"#636efa\", \"#EF553B\", \"#00cc96\", \"#ab63fa\", \"#FFA15A\", \"#19d3f3\", \"#FF6692\", \"#B6E880\", \"#FF97FF\", \"#FECB52\"], \"font\": {\"color\": \"#2a3f5f\"}, \"geo\": {\"bgcolor\": \"white\", \"lakecolor\": \"white\", \"landcolor\": \"#E5ECF6\", \"showlakes\": true, \"showland\": true, \"subunitcolor\": \"white\"}, \"hoverlabel\": {\"align\": \"left\"}, \"hovermode\": \"closest\", \"mapbox\": {\"style\": \"light\"}, \"paper_bgcolor\": \"white\", \"plot_bgcolor\": \"#E5ECF6\", \"polar\": {\"angularaxis\": {\"gridcolor\": \"white\", \"linecolor\": \"white\", \"ticks\": \"\"}, \"bgcolor\": \"#E5ECF6\", \"radialaxis\": {\"gridcolor\": \"white\", \"linecolor\": \"white\", \"ticks\": \"\"}}, \"scene\": {\"xaxis\": {\"backgroundcolor\": \"#E5ECF6\", \"gridcolor\": \"white\", \"gridwidth\": 2, \"linecolor\": \"white\", \"showbackground\": true, \"ticks\": \"\", \"zerolinecolor\": \"white\"}, \"yaxis\": {\"backgroundcolor\": \"#E5ECF6\", \"gridcolor\": \"white\", \"gridwidth\": 2, \"linecolor\": \"white\", \"showbackground\": true, \"ticks\": \"\", \"zerolinecolor\": \"white\"}, \"zaxis\": {\"backgroundcolor\": \"#E5ECF6\", \"gridcolor\": \"white\", \"gridwidth\": 2, \"linecolor\": \"white\", \"showbackground\": true, \"ticks\": \"\", \"zerolinecolor\": \"white\"}}, \"shapedefaults\": {\"line\": {\"color\": \"#2a3f5f\"}}, \"ternary\": {\"aaxis\": {\"gridcolor\": \"white\", \"linecolor\": \"white\", \"ticks\": \"\"}, \"baxis\": {\"gridcolor\": \"white\", \"linecolor\": \"white\", \"ticks\": \"\"}, \"bgcolor\": \"#E5ECF6\", \"caxis\": {\"gridcolor\": \"white\", \"linecolor\": \"white\", \"ticks\": \"\"}}, \"title\": {\"x\": 0.05}, \"xaxis\": {\"automargin\": true, \"gridcolor\": \"white\", \"linecolor\": \"white\", \"ticks\": \"\", \"title\": {\"standoff\": 15}, \"zerolinecolor\": \"white\", \"zerolinewidth\": 2}, \"yaxis\": {\"automargin\": true, \"gridcolor\": \"white\", \"linecolor\": \"white\", \"ticks\": \"\", \"title\": {\"standoff\": 15}, \"zerolinecolor\": \"white\", \"zerolinewidth\": 2}}}, \"title\": {\"text\": \"Acercamiento a la comparaci\\u00f3n del uso de Jit\"}, \"xaxis\": {\"title\": {\"text\": \"Cantidad de datos\"}}, \"yaxis\": {\"title\": {\"text\": \"Tiempo [s]\"}}},\n",
              "                        {\"responsive\": true}\n",
              "                    ).then(function(){\n",
              "                            \n",
              "var gd = document.getElementById('30eb39a0-e71a-455a-aab1-e289f1a503e7');\n",
              "var x = new MutationObserver(function (mutations, observer) {{\n",
              "        var display = window.getComputedStyle(gd).display;\n",
              "        if (!display || display === 'none') {{\n",
              "            console.log([gd, 'removed!']);\n",
              "            Plotly.purge(gd);\n",
              "            observer.disconnect();\n",
              "        }}\n",
              "}});\n",
              "\n",
              "// Listen for the removal of the full notebook cells\n",
              "var notebookContainer = gd.closest('#notebook-container');\n",
              "if (notebookContainer) {{\n",
              "    x.observe(notebookContainer, {childList: true});\n",
              "}}\n",
              "\n",
              "// Listen for the clearing of the current output cell\n",
              "var outputEl = gd.closest('.output');\n",
              "if (outputEl) {{\n",
              "    x.observe(outputEl, {childList: true});\n",
              "}}\n",
              "\n",
              "                        })\n",
              "                };\n",
              "                \n",
              "            </script>\n",
              "        </div>\n",
              "</body>\n",
              "</html>"
            ]
          },
          "metadata": {
            "tags": []
          }
        }
      ]
    },
    {
      "cell_type": "markdown",
      "metadata": {
        "id": "tsAYEx7WmSLz"
      },
      "source": [
        "Acá se pueden apreciar de mejor manera la diferencia entre usar la función implementada con Numpy y las dos implementaciones con el compilador de Numba.\n",
        "\n",
        "Estas últimas tienen tiempos de ejecución bastante menores, para todas las cantidades de datos, que la función que utiliza solo Numpy (y por transitividad también son mucho menores que la de python puro).\n",
        "\n",
        "Esto muestra que la utilización del compilador es una buena de disminuir el tiempo que toma ejecutar ciertos códigos.\n",
        "\n",
        "Una cosa interesante a notar es que el usar Jit optimiza de mejor manera el tiempo de ejecución de la función con python puro que la con numpy, siendo que se pensaría que esta última\n",
        "siempre sería más eficiente que python puro."
      ]
    },
    {
      "cell_type": "markdown",
      "metadata": {
        "id": "DljdJw8m0gYC"
      },
      "source": [
        "## 1.5 Plot de Resultados Bayesianos"
      ]
    },
    {
      "cell_type": "markdown",
      "metadata": {
        "id": "cQAxOM5D08Hl"
      },
      "source": [
        "Llego la hora de visualizar los resultados obtenidos, para esto solo ejecute las siguientes celdas y observe lo que sucede :3. ¿Qué logra observar de los resultados?, ¿La solución resulta trivial?\n",
        "\n",
        "En esta sección esperamos que solo comenten con lo que logran visualizar de los dataframes."
      ]
    },
    {
      "cell_type": "code",
      "metadata": {
        "colab": {
          "base_uri": "https://localhost:8080/",
          "height": 737
        },
        "id": "suIR1uleCnXe",
        "outputId": "a8958815-86c6-45e9-ed92-c0305aa1fc68"
      },
      "source": [
        "votos = votes[len(votes)-1]\n",
        "posteo = post[len(post)-1]\n",
        "print(\"lower bounds aproximados:\")\n",
        "posterior_mean, std_err = intervalos_numpy(votos[:, 0], votos[:, 1])\n",
        "lb = posterior_mean - std_err\n",
        "print(\"\\nTop 20 post ordenador por el limite inferior:\\n\")\n",
        "order = np.argsort(-lb)\n",
        "vote_post = {'Votos (+)':votos[order[:20], 0], 'Votos (-)':votos[order[:20], 1] ,'Post':np.array(posteo)[order[:20]], 'url': np.array(url[len(url)-1])[order[:20]]}\n",
        "df = pd.DataFrame(data=vote_post)\n",
        "display(df)\n",
        "ordered_post = df.Post"
      ],
      "execution_count": 31,
      "outputs": [
        {
          "output_type": "stream",
          "text": [
            "lower bounds aproximados:\n",
            "\n",
            "Top 20 post ordenador por el limite inferior:\n",
            "\n"
          ],
          "name": "stdout"
        },
        {
          "output_type": "display_data",
          "data": {
            "text/html": [
              "<div>\n",
              "<style scoped>\n",
              "    .dataframe tbody tr th:only-of-type {\n",
              "        vertical-align: middle;\n",
              "    }\n",
              "\n",
              "    .dataframe tbody tr th {\n",
              "        vertical-align: top;\n",
              "    }\n",
              "\n",
              "    .dataframe thead th {\n",
              "        text-align: right;\n",
              "    }\n",
              "</style>\n",
              "<table border=\"1\" class=\"dataframe\">\n",
              "  <thead>\n",
              "    <tr style=\"text-align: right;\">\n",
              "      <th></th>\n",
              "      <th>Votos (+)</th>\n",
              "      <th>Votos (-)</th>\n",
              "      <th>Post</th>\n",
              "      <th>url</th>\n",
              "    </tr>\n",
              "  </thead>\n",
              "  <tbody>\n",
              "    <tr>\n",
              "      <th>0</th>\n",
              "      <td>936</td>\n",
              "      <td>0</td>\n",
              "      <td>Gato andino extremadmente raro mirando una cám...</td>\n",
              "      <td>https://v.redd.it/k2r2bhlh0h971</td>\n",
              "    </tr>\n",
              "    <tr>\n",
              "      <th>1</th>\n",
              "      <td>720</td>\n",
              "      <td>0</td>\n",
              "      <td>Debate presidencial 2005, pregunta clave de Ma...</td>\n",
              "      <td>https://v.redd.it/xj4g8rc5sw671</td>\n",
              "    </tr>\n",
              "    <tr>\n",
              "      <th>2</th>\n",
              "      <td>525</td>\n",
              "      <td>0</td>\n",
              "      <td>¿Qué hacer con Talca? Bueno...</td>\n",
              "      <td>https://i.redd.it/1tk589eq89771.png</td>\n",
              "    </tr>\n",
              "    <tr>\n",
              "      <th>3</th>\n",
              "      <td>460</td>\n",
              "      <td>0</td>\n",
              "      <td>El bombardero de Lo Prado: \"Se lo mando seco e...</td>\n",
              "      <td>https://v.redd.it/l6c86bhd2w571</td>\n",
              "    </tr>\n",
              "    <tr>\n",
              "      <th>4</th>\n",
              "      <td>448</td>\n",
              "      <td>0</td>\n",
              "      <td>Aysén hoy 2, no se subieron todas juntas (Bonu...</td>\n",
              "      <td>https://www.reddit.com/gallery/o6f7lr</td>\n",
              "    </tr>\n",
              "    <tr>\n",
              "      <th>5</th>\n",
              "      <td>402</td>\n",
              "      <td>0</td>\n",
              "      <td>Juan Carlos Bodoque, This Charming Man (Video ...</td>\n",
              "      <td>https://v.redd.it/wf0yqt92tv771</td>\n",
              "    </tr>\n",
              "    <tr>\n",
              "      <th>6</th>\n",
              "      <td>358</td>\n",
              "      <td>0</td>\n",
              "      <td>Fotografía de un vendedor ambulante en la Plaz...</td>\n",
              "      <td>https://www.reddit.com/gallery/oc0qzt</td>\n",
              "    </tr>\n",
              "    <tr>\n",
              "      <th>7</th>\n",
              "      <td>345</td>\n",
              "      <td>0</td>\n",
              "      <td>Avión Pingüino Rey de Aerovías DAP que vuela e...</td>\n",
              "      <td>https://i.redd.it/f82si2h743771.jpg</td>\n",
              "    </tr>\n",
              "    <tr>\n",
              "      <th>8</th>\n",
              "      <td>271</td>\n",
              "      <td>0</td>\n",
              "      <td>Cuando el chico Paris y Siches eran compañeros...</td>\n",
              "      <td>https://v.redd.it/nkfiwmwgma571</td>\n",
              "    </tr>\n",
              "    <tr>\n",
              "      <th>9</th>\n",
              "      <td>250</td>\n",
              "      <td>0</td>\n",
              "      <td>Con 99% de aprobación: Bomberos es la instituc...</td>\n",
              "      <td>https://www.24horas.cl/nacional/bomberos-aprob...</td>\n",
              "    </tr>\n",
              "    <tr>\n",
              "      <th>10</th>\n",
              "      <td>244</td>\n",
              "      <td>0</td>\n",
              "      <td>el arriero Don Jose catalán junto a dos sobrev...</td>\n",
              "      <td>https://i.redd.it/q2oftzqyvo671.jpg</td>\n",
              "    </tr>\n",
              "    <tr>\n",
              "      <th>11</th>\n",
              "      <td>210</td>\n",
              "      <td>0</td>\n",
              "      <td>#AlertaT13 | Gobierno reconoce que padre de be...</td>\n",
              "      <td>https://twitter.com/T13/status/141246215675128...</td>\n",
              "    </tr>\n",
              "    <tr>\n",
              "      <th>12</th>\n",
              "      <td>1531</td>\n",
              "      <td>15</td>\n",
              "      <td>Soporte VTR</td>\n",
              "      <td>https://i.redd.it/l9e0jclp2r471.jpg</td>\n",
              "    </tr>\n",
              "    <tr>\n",
              "      <th>13</th>\n",
              "      <td>1410</td>\n",
              "      <td>14</td>\n",
              "      <td>los candidatos según twitter</td>\n",
              "      <td>https://i.redd.it/lyuu8s9v11571.jpg</td>\n",
              "    </tr>\n",
              "    <tr>\n",
              "      <th>14</th>\n",
              "      <td>164</td>\n",
              "      <td>0</td>\n",
              "      <td>primera bomba de bencina, puente alto año 1936</td>\n",
              "      <td>https://i.redd.it/x1dvjg4wgj871.jpg</td>\n",
              "    </tr>\n",
              "    <tr>\n",
              "      <th>15</th>\n",
              "      <td>161</td>\n",
              "      <td>0</td>\n",
              "      <td>[Video] \"Una pena\": Concejal se encontró con \"...</td>\n",
              "      <td>https://www.cooperativa.cl/noticias/pais/polit...</td>\n",
              "    </tr>\n",
              "    <tr>\n",
              "      <th>16</th>\n",
              "      <td>990</td>\n",
              "      <td>10</td>\n",
              "      <td>Odio Talca</td>\n",
              "      <td>https://i.redd.it/5n5cy3f079771.jpg</td>\n",
              "    </tr>\n",
              "    <tr>\n",
              "      <th>17</th>\n",
              "      <td>914</td>\n",
              "      <td>9</td>\n",
              "      <td>Piñera es inútil</td>\n",
              "      <td>https://i.redd.it/8wo4lqzv51671.jpg</td>\n",
              "    </tr>\n",
              "    <tr>\n",
              "      <th>18</th>\n",
              "      <td>913</td>\n",
              "      <td>9</td>\n",
              "      <td>El delivery de reineta en Concón</td>\n",
              "      <td>https://i.redd.it/cganma3a5o571.jpg</td>\n",
              "    </tr>\n",
              "    <tr>\n",
              "      <th>19</th>\n",
              "      <td>977</td>\n",
              "      <td>10</td>\n",
              "      <td>POV: Entraste a la bodega de la Municipalidad ...</td>\n",
              "      <td>https://v.redd.it/znweln68xv971</td>\n",
              "    </tr>\n",
              "  </tbody>\n",
              "</table>\n",
              "</div>"
            ],
            "text/plain": [
              "    Votos (+)  ...                                                url\n",
              "0         936  ...                    https://v.redd.it/k2r2bhlh0h971\n",
              "1         720  ...                    https://v.redd.it/xj4g8rc5sw671\n",
              "2         525  ...                https://i.redd.it/1tk589eq89771.png\n",
              "3         460  ...                    https://v.redd.it/l6c86bhd2w571\n",
              "4         448  ...              https://www.reddit.com/gallery/o6f7lr\n",
              "5         402  ...                    https://v.redd.it/wf0yqt92tv771\n",
              "6         358  ...              https://www.reddit.com/gallery/oc0qzt\n",
              "7         345  ...                https://i.redd.it/f82si2h743771.jpg\n",
              "8         271  ...                    https://v.redd.it/nkfiwmwgma571\n",
              "9         250  ...  https://www.24horas.cl/nacional/bomberos-aprob...\n",
              "10        244  ...                https://i.redd.it/q2oftzqyvo671.jpg\n",
              "11        210  ...  https://twitter.com/T13/status/141246215675128...\n",
              "12       1531  ...                https://i.redd.it/l9e0jclp2r471.jpg\n",
              "13       1410  ...                https://i.redd.it/lyuu8s9v11571.jpg\n",
              "14        164  ...                https://i.redd.it/x1dvjg4wgj871.jpg\n",
              "15        161  ...  https://www.cooperativa.cl/noticias/pais/polit...\n",
              "16        990  ...                https://i.redd.it/5n5cy3f079771.jpg\n",
              "17        914  ...                https://i.redd.it/8wo4lqzv51671.jpg\n",
              "18        913  ...                https://i.redd.it/cganma3a5o571.jpg\n",
              "19        977  ...                    https://v.redd.it/znweln68xv971\n",
              "\n",
              "[20 rows x 4 columns]"
            ]
          },
          "metadata": {
            "tags": []
          }
        }
      ]
    },
    {
      "cell_type": "code",
      "metadata": {
        "colab": {
          "base_uri": "https://localhost:8080/",
          "height": 542
        },
        "id": "3MmDzBsFKzXi",
        "outputId": "97f0f36a-5b99-426c-a01e-e929faabaa24"
      },
      "source": [
        "r_order = order[::-1][-20:]\n",
        "data_dic = {'mean':posterior_mean[r_order], 'std_err':std_err[r_order], 'post':ordered_post[::-1]}\n",
        "df = pd.DataFrame(data=data_dic)\n",
        "fig = px.scatter(df, x=\"mean\", y=\"post\",\n",
        "                 error_x=\"std_err\")\n",
        "fig.show()"
      ],
      "execution_count": 32,
      "outputs": [
        {
          "output_type": "display_data",
          "data": {
            "text/html": [
              "<html>\n",
              "<head><meta charset=\"utf-8\" /></head>\n",
              "<body>\n",
              "    <div>\n",
              "            <script src=\"https://cdnjs.cloudflare.com/ajax/libs/mathjax/2.7.5/MathJax.js?config=TeX-AMS-MML_SVG\"></script><script type=\"text/javascript\">if (window.MathJax) {MathJax.Hub.Config({SVG: {font: \"STIX-Web\"}});}</script>\n",
              "                <script type=\"text/javascript\">window.PlotlyConfig = {MathJaxConfig: 'local'};</script>\n",
              "        <script src=\"https://cdn.plot.ly/plotly-latest.min.js\"></script>    \n",
              "            <div id=\"445a1378-1a54-4533-9d3d-63ef6447d04d\" class=\"plotly-graph-div\" style=\"height:525px; width:100%;\"></div>\n",
              "            <script type=\"text/javascript\">\n",
              "                \n",
              "                    window.PLOTLYENV=window.PLOTLYENV || {};\n",
              "                    \n",
              "                if (document.getElementById(\"445a1378-1a54-4533-9d3d-63ef6447d04d\")) {\n",
              "                    Plotly.newPlot(\n",
              "                        '445a1378-1a54-4533-9d3d-63ef6447d04d',\n",
              "                        [{\"error_x\": {\"array\": [0.005499659796393823, 0.00561324766652, 0.005607215728161521, 0.00542873854516573, 0.01006078627123602, 0.009880060243683436, 0.004456168132661604, 0.004240105405856489, 0.007746392693527312, 0.006680106749738469, 0.006521687781190601, 0.006021857410387971, 0.004741359621662275, 0.004570619485448697, 0.004074061593433958, 0.003658527551931034, 0.0035637065546717844, 0.003124994374007012, 0.002282155487370207, 0.0017571874998226953]}, \"hoverlabel\": {\"namelength\": 0}, \"hovertemplate\": \"mean=%{x}<br>post=%{y}\", \"legendgroup\": \"\", \"marker\": {\"color\": \"#636efa\", \"symbol\": \"circle\"}, \"mode\": \"markers\", \"name\": \"\", \"showlegend\": false, \"type\": \"scatter\", \"x\": [0.9888776541961577, 0.9891774891774892, 0.9891891891891892, 0.9890219560878244, 0.9938650306748467, 0.9939759036144579, 0.9894810659186536, 0.9896640826873385, 0.9952830188679245, 0.9959349593495935, 0.996031746031746, 0.9963369963369964, 0.9971181556195965, 0.9972222222222222, 0.9975247524752475, 0.9977777777777778, 0.9978354978354979, 0.9981024667931688, 0.9986149584487535, 0.9989339019189766], \"xaxis\": \"x\", \"y\": [\"POV: Entraste a la bodega de la Municipalidad de Maip\\u00fa\", \"El delivery de reineta en Conc\\u00f3n\", \"Pi\\u00f1era es in\\u00fatil\", \"Odio Talca\", \"[Video] \\\"Una pena\\\": Concejal se encontr\\u00f3 con \\\"bodegas repletas de peluches\\\" en Maip\\u00fa\", \"primera bomba de bencina, puente alto a\\u00f1o 1936\", \"los candidatos seg\\u00fan twitter\", \"Soporte VTR\", \"#AlertaT13 | Gobierno reconoce que padre de beb\\u00e9 con cepa Delta no fue invitado a EEUU por La Casa Blanca, como inform\\u00f3 un d\\u00eda antes la subsecretaria Daza. Viajero es cu\\u00f1ado del jefe de gabinete del ministro Delgado.\", \"el arriero Don Jose catal\\u00e1n junto a dos sobrevivientes de la ca\\u00edda del avi\\u00f3n uruguayo en la cordillera de los Andes 1972\", \"Con 99% de aprobaci\\u00f3n: Bomberos es la instituci\\u00f3n mejor evaluada de Chile seg\\u00fan Cadem\", \"Cuando el chico Paris y Siches eran compa\\u00f1eros de lucha\", \"Avi\\u00f3n Ping\\u00fcino Rey de Aerov\\u00edas DAP que vuela entre Punta Arenas y la Ant\\u00e1rtica chilena\", \"Fotograf\\u00eda de un vendedor ambulante en la Plaza de la Rep\\u00fablica, Valdivia. 1941 Colorizada por mi.\", \"Juan Carlos Bodoque, This Charming Man (Video oficial por Lonsoo.mp4)\", \"Ays\\u00e9n hoy 2, no se subieron todas juntas (Bonus el Mocka).\", \"El bombardero de Lo Prado: \\\"Se lo mando seco en el hocico\\\"\", \"\\u00bfQu\\u00e9 hacer con Talca? Bueno...\", \"Debate presidencial 2005, pregunta clave de Mauricio Hofmann\", \"Gato andino extremadmente raro mirando una c\\u00e1mara en la naturaleza (no supe qu\\u00e9 flair ponerle)\"], \"yaxis\": \"y\"}],\n",
              "                        {\"legend\": {\"tracegroupgap\": 0}, \"margin\": {\"t\": 60}, \"template\": {\"data\": {\"bar\": [{\"error_x\": {\"color\": \"#2a3f5f\"}, \"error_y\": {\"color\": \"#2a3f5f\"}, \"marker\": {\"line\": {\"color\": \"#E5ECF6\", \"width\": 0.5}}, \"type\": \"bar\"}], \"barpolar\": [{\"marker\": {\"line\": {\"color\": \"#E5ECF6\", \"width\": 0.5}}, \"type\": \"barpolar\"}], \"carpet\": [{\"aaxis\": {\"endlinecolor\": \"#2a3f5f\", \"gridcolor\": \"white\", \"linecolor\": \"white\", \"minorgridcolor\": \"white\", \"startlinecolor\": \"#2a3f5f\"}, \"baxis\": {\"endlinecolor\": \"#2a3f5f\", \"gridcolor\": \"white\", \"linecolor\": \"white\", \"minorgridcolor\": \"white\", \"startlinecolor\": \"#2a3f5f\"}, \"type\": \"carpet\"}], \"choropleth\": [{\"colorbar\": {\"outlinewidth\": 0, \"ticks\": \"\"}, \"type\": \"choropleth\"}], \"contour\": [{\"colorbar\": {\"outlinewidth\": 0, \"ticks\": \"\"}, \"colorscale\": [[0.0, \"#0d0887\"], [0.1111111111111111, \"#46039f\"], [0.2222222222222222, \"#7201a8\"], [0.3333333333333333, \"#9c179e\"], [0.4444444444444444, \"#bd3786\"], [0.5555555555555556, \"#d8576b\"], [0.6666666666666666, \"#ed7953\"], [0.7777777777777778, \"#fb9f3a\"], [0.8888888888888888, \"#fdca26\"], [1.0, \"#f0f921\"]], \"type\": \"contour\"}], \"contourcarpet\": [{\"colorbar\": {\"outlinewidth\": 0, \"ticks\": \"\"}, \"type\": \"contourcarpet\"}], \"heatmap\": [{\"colorbar\": {\"outlinewidth\": 0, \"ticks\": \"\"}, \"colorscale\": [[0.0, \"#0d0887\"], [0.1111111111111111, \"#46039f\"], [0.2222222222222222, \"#7201a8\"], [0.3333333333333333, \"#9c179e\"], [0.4444444444444444, \"#bd3786\"], [0.5555555555555556, \"#d8576b\"], [0.6666666666666666, \"#ed7953\"], [0.7777777777777778, \"#fb9f3a\"], [0.8888888888888888, \"#fdca26\"], [1.0, \"#f0f921\"]], \"type\": \"heatmap\"}], \"heatmapgl\": [{\"colorbar\": {\"outlinewidth\": 0, \"ticks\": \"\"}, \"colorscale\": [[0.0, \"#0d0887\"], [0.1111111111111111, \"#46039f\"], [0.2222222222222222, \"#7201a8\"], [0.3333333333333333, \"#9c179e\"], [0.4444444444444444, \"#bd3786\"], [0.5555555555555556, \"#d8576b\"], [0.6666666666666666, \"#ed7953\"], [0.7777777777777778, \"#fb9f3a\"], [0.8888888888888888, \"#fdca26\"], [1.0, \"#f0f921\"]], \"type\": \"heatmapgl\"}], \"histogram\": [{\"marker\": {\"colorbar\": {\"outlinewidth\": 0, \"ticks\": \"\"}}, \"type\": \"histogram\"}], \"histogram2d\": [{\"colorbar\": {\"outlinewidth\": 0, \"ticks\": \"\"}, \"colorscale\": [[0.0, \"#0d0887\"], [0.1111111111111111, \"#46039f\"], [0.2222222222222222, \"#7201a8\"], [0.3333333333333333, \"#9c179e\"], [0.4444444444444444, \"#bd3786\"], [0.5555555555555556, \"#d8576b\"], [0.6666666666666666, \"#ed7953\"], [0.7777777777777778, \"#fb9f3a\"], [0.8888888888888888, \"#fdca26\"], [1.0, \"#f0f921\"]], \"type\": \"histogram2d\"}], \"histogram2dcontour\": [{\"colorbar\": {\"outlinewidth\": 0, \"ticks\": \"\"}, \"colorscale\": [[0.0, \"#0d0887\"], [0.1111111111111111, \"#46039f\"], [0.2222222222222222, \"#7201a8\"], [0.3333333333333333, \"#9c179e\"], [0.4444444444444444, \"#bd3786\"], [0.5555555555555556, \"#d8576b\"], [0.6666666666666666, \"#ed7953\"], [0.7777777777777778, \"#fb9f3a\"], [0.8888888888888888, \"#fdca26\"], [1.0, \"#f0f921\"]], \"type\": \"histogram2dcontour\"}], \"mesh3d\": [{\"colorbar\": {\"outlinewidth\": 0, \"ticks\": \"\"}, \"type\": \"mesh3d\"}], \"parcoords\": [{\"line\": {\"colorbar\": {\"outlinewidth\": 0, \"ticks\": \"\"}}, \"type\": \"parcoords\"}], \"pie\": [{\"automargin\": true, \"type\": \"pie\"}], \"scatter\": [{\"marker\": {\"colorbar\": {\"outlinewidth\": 0, \"ticks\": \"\"}}, \"type\": \"scatter\"}], \"scatter3d\": [{\"line\": {\"colorbar\": {\"outlinewidth\": 0, \"ticks\": \"\"}}, \"marker\": {\"colorbar\": {\"outlinewidth\": 0, \"ticks\": \"\"}}, \"type\": \"scatter3d\"}], \"scattercarpet\": [{\"marker\": {\"colorbar\": {\"outlinewidth\": 0, \"ticks\": \"\"}}, \"type\": \"scattercarpet\"}], \"scattergeo\": [{\"marker\": {\"colorbar\": {\"outlinewidth\": 0, \"ticks\": \"\"}}, \"type\": \"scattergeo\"}], \"scattergl\": [{\"marker\": {\"colorbar\": {\"outlinewidth\": 0, \"ticks\": \"\"}}, \"type\": \"scattergl\"}], \"scattermapbox\": [{\"marker\": {\"colorbar\": {\"outlinewidth\": 0, \"ticks\": \"\"}}, \"type\": \"scattermapbox\"}], \"scatterpolar\": [{\"marker\": {\"colorbar\": {\"outlinewidth\": 0, \"ticks\": \"\"}}, \"type\": \"scatterpolar\"}], \"scatterpolargl\": [{\"marker\": {\"colorbar\": {\"outlinewidth\": 0, \"ticks\": \"\"}}, \"type\": \"scatterpolargl\"}], \"scatterternary\": [{\"marker\": {\"colorbar\": {\"outlinewidth\": 0, \"ticks\": \"\"}}, \"type\": \"scatterternary\"}], \"surface\": [{\"colorbar\": {\"outlinewidth\": 0, \"ticks\": \"\"}, \"colorscale\": [[0.0, \"#0d0887\"], [0.1111111111111111, \"#46039f\"], [0.2222222222222222, \"#7201a8\"], [0.3333333333333333, \"#9c179e\"], [0.4444444444444444, \"#bd3786\"], [0.5555555555555556, \"#d8576b\"], [0.6666666666666666, \"#ed7953\"], [0.7777777777777778, \"#fb9f3a\"], [0.8888888888888888, \"#fdca26\"], [1.0, \"#f0f921\"]], \"type\": \"surface\"}], \"table\": [{\"cells\": {\"fill\": {\"color\": \"#EBF0F8\"}, \"line\": {\"color\": \"white\"}}, \"header\": {\"fill\": {\"color\": \"#C8D4E3\"}, \"line\": {\"color\": \"white\"}}, \"type\": \"table\"}]}, \"layout\": {\"annotationdefaults\": {\"arrowcolor\": \"#2a3f5f\", \"arrowhead\": 0, \"arrowwidth\": 1}, \"coloraxis\": {\"colorbar\": {\"outlinewidth\": 0, \"ticks\": \"\"}}, \"colorscale\": {\"diverging\": [[0, \"#8e0152\"], [0.1, \"#c51b7d\"], [0.2, \"#de77ae\"], [0.3, \"#f1b6da\"], [0.4, \"#fde0ef\"], [0.5, \"#f7f7f7\"], [0.6, \"#e6f5d0\"], [0.7, \"#b8e186\"], [0.8, \"#7fbc41\"], [0.9, \"#4d9221\"], [1, \"#276419\"]], \"sequential\": [[0.0, \"#0d0887\"], [0.1111111111111111, \"#46039f\"], [0.2222222222222222, \"#7201a8\"], [0.3333333333333333, \"#9c179e\"], [0.4444444444444444, \"#bd3786\"], [0.5555555555555556, \"#d8576b\"], [0.6666666666666666, \"#ed7953\"], [0.7777777777777778, \"#fb9f3a\"], [0.8888888888888888, \"#fdca26\"], [1.0, \"#f0f921\"]], \"sequentialminus\": [[0.0, \"#0d0887\"], [0.1111111111111111, \"#46039f\"], [0.2222222222222222, \"#7201a8\"], [0.3333333333333333, \"#9c179e\"], [0.4444444444444444, \"#bd3786\"], [0.5555555555555556, \"#d8576b\"], [0.6666666666666666, \"#ed7953\"], [0.7777777777777778, \"#fb9f3a\"], [0.8888888888888888, \"#fdca26\"], [1.0, \"#f0f921\"]]}, \"colorway\": [\"#636efa\", \"#EF553B\", \"#00cc96\", \"#ab63fa\", \"#FFA15A\", \"#19d3f3\", \"#FF6692\", \"#B6E880\", \"#FF97FF\", \"#FECB52\"], \"font\": {\"color\": \"#2a3f5f\"}, \"geo\": {\"bgcolor\": \"white\", \"lakecolor\": \"white\", \"landcolor\": \"#E5ECF6\", \"showlakes\": true, \"showland\": true, \"subunitcolor\": \"white\"}, \"hoverlabel\": {\"align\": \"left\"}, \"hovermode\": \"closest\", \"mapbox\": {\"style\": \"light\"}, \"paper_bgcolor\": \"white\", \"plot_bgcolor\": \"#E5ECF6\", \"polar\": {\"angularaxis\": {\"gridcolor\": \"white\", \"linecolor\": \"white\", \"ticks\": \"\"}, \"bgcolor\": \"#E5ECF6\", \"radialaxis\": {\"gridcolor\": \"white\", \"linecolor\": \"white\", \"ticks\": \"\"}}, \"scene\": {\"xaxis\": {\"backgroundcolor\": \"#E5ECF6\", \"gridcolor\": \"white\", \"gridwidth\": 2, \"linecolor\": \"white\", \"showbackground\": true, \"ticks\": \"\", \"zerolinecolor\": \"white\"}, \"yaxis\": {\"backgroundcolor\": \"#E5ECF6\", \"gridcolor\": \"white\", \"gridwidth\": 2, \"linecolor\": \"white\", \"showbackground\": true, \"ticks\": \"\", \"zerolinecolor\": \"white\"}, \"zaxis\": {\"backgroundcolor\": \"#E5ECF6\", \"gridcolor\": \"white\", \"gridwidth\": 2, \"linecolor\": \"white\", \"showbackground\": true, \"ticks\": \"\", \"zerolinecolor\": \"white\"}}, \"shapedefaults\": {\"line\": {\"color\": \"#2a3f5f\"}}, \"ternary\": {\"aaxis\": {\"gridcolor\": \"white\", \"linecolor\": \"white\", \"ticks\": \"\"}, \"baxis\": {\"gridcolor\": \"white\", \"linecolor\": \"white\", \"ticks\": \"\"}, \"bgcolor\": \"#E5ECF6\", \"caxis\": {\"gridcolor\": \"white\", \"linecolor\": \"white\", \"ticks\": \"\"}}, \"title\": {\"x\": 0.05}, \"xaxis\": {\"automargin\": true, \"gridcolor\": \"white\", \"linecolor\": \"white\", \"ticks\": \"\", \"title\": {\"standoff\": 15}, \"zerolinecolor\": \"white\", \"zerolinewidth\": 2}, \"yaxis\": {\"automargin\": true, \"gridcolor\": \"white\", \"linecolor\": \"white\", \"ticks\": \"\", \"title\": {\"standoff\": 15}, \"zerolinecolor\": \"white\", \"zerolinewidth\": 2}}}, \"xaxis\": {\"anchor\": \"y\", \"domain\": [0.0, 1.0], \"title\": {\"text\": \"mean\"}}, \"yaxis\": {\"anchor\": \"x\", \"domain\": [0.0, 1.0], \"title\": {\"text\": \"post\"}}},\n",
              "                        {\"responsive\": true}\n",
              "                    ).then(function(){\n",
              "                            \n",
              "var gd = document.getElementById('445a1378-1a54-4533-9d3d-63ef6447d04d');\n",
              "var x = new MutationObserver(function (mutations, observer) {{\n",
              "        var display = window.getComputedStyle(gd).display;\n",
              "        if (!display || display === 'none') {{\n",
              "            console.log([gd, 'removed!']);\n",
              "            Plotly.purge(gd);\n",
              "            observer.disconnect();\n",
              "        }}\n",
              "}});\n",
              "\n",
              "// Listen for the removal of the full notebook cells\n",
              "var notebookContainer = gd.closest('#notebook-container');\n",
              "if (notebookContainer) {{\n",
              "    x.observe(notebookContainer, {childList: true});\n",
              "}}\n",
              "\n",
              "// Listen for the clearing of the current output cell\n",
              "var outputEl = gd.closest('.output');\n",
              "if (outputEl) {{\n",
              "    x.observe(outputEl, {childList: true});\n",
              "}}\n",
              "\n",
              "                        })\n",
              "                };\n",
              "                \n",
              "            </script>\n",
              "        </div>\n",
              "</body>\n",
              "</html>"
            ]
          },
          "metadata": {
            "tags": []
          }
        }
      ]
    },
    {
      "cell_type": "markdown",
      "metadata": {
        "id": "szOjXLKA1Rif"
      },
      "source": [
        "**Respuesta:**"
      ]
    },
    {
      "cell_type": "markdown",
      "metadata": {
        "id": "0F83QdD61Pd1"
      },
      "source": [
        "En los resultados se muestran los posts que cuentan con mayor proporción de valoraciones positivas, osea los que podrían ser considerados como mejor valorados por los usuarios.\n",
        "\n",
        "La manera en que se muestran los posts en el gráfico da a entender que están ordenados de los \"más positivos\" a los \"menos positivos\", con una descviación estándar creciente hasta cirte punto, luego comienza a ser más variable.\n",
        "\n",
        "Esta desviación estándar parece estar relacionada con que tan cargado haacia un lado (positivo o negativo) está cada post.\n",
        "\n",
        "Los resultados obtenidos no son triviales, ya que no resulta intuitivo el hecho que los posts con votos más cargados hacia un lado tengan la menor desviación, se tienede a pensar que mientras más variados sean los resultados mayor es la desviación.\n"
      ]
    },
    {
      "cell_type": "markdown",
      "metadata": {
        "id": "Rg4ZMq8ezAH6"
      },
      "source": [
        "# Conclusión\n",
        "Eso ha sido todo para el lab de hoy, recuerden que el laboratorio tiene un plazo de entrega de una semana y que **los días de atraso no se pueden utilizar para entregas de lab, solo para tareas**. Cualquier duda del laboratorio, no duden en contactarnos por mail o U-cursos.\n",
        "\n",
        "<p align=\"center\">\n",
        "  <img src=\"https://media1.tenor.com/images/fb5bf7cc5a4acb91b4177672886a88ba/tenor.gif?itemid=5591338\">\n",
        "</p>"
      ]
    }
  ]
}