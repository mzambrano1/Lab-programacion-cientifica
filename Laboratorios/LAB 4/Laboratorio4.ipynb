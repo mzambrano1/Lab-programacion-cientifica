{
  "nbformat": 4,
  "nbformat_minor": 0,
  "metadata": {
    "kernelspec": {
      "display_name": "Python 3",
      "language": "python",
      "name": "python3"
    },
    "language_info": {
      "codemirror_mode": {
        "name": "ipython",
        "version": 3
      },
      "file_extension": ".py",
      "mimetype": "text/x-python",
      "name": "python",
      "nbconvert_exporter": "python",
      "pygments_lexer": "ipython3",
      "version": "3.8.3"
    },
    "toc": {
      "base_numbering": 1,
      "nav_menu": {},
      "number_sections": true,
      "sideBar": true,
      "skip_h1_title": true,
      "title_cell": "Tabla de Contenidos",
      "title_sidebar": "Contenidos",
      "toc_cell": false,
      "toc_position": {
        "height": "calc(100% - 180px)",
        "left": "10px",
        "top": "150px",
        "width": "241.867px"
      },
      "toc_section_display": true,
      "toc_window_display": true
    },
    "varInspector": {
      "cols": {
        "lenName": 16,
        "lenType": 16,
        "lenVar": 40
      },
      "kernels_config": {
        "python": {
          "delete_cmd_postfix": "",
          "delete_cmd_prefix": "del ",
          "library": "var_list.py",
          "varRefreshCmd": "print(var_dic_list())"
        },
        "r": {
          "delete_cmd_postfix": ") ",
          "delete_cmd_prefix": "rm(",
          "library": "var_list.r",
          "varRefreshCmd": "cat(var_dic_list()) "
        }
      },
      "types_to_exclude": [
        "module",
        "function",
        "builtin_function_or_method",
        "instance",
        "_Feature"
      ],
      "window_display": false
    },
    "colab": {
      "name": "Laboratorio4.ipynb",
      "provenance": [],
      "collapsed_sections": [],
      "toc_visible": true
    }
  },
  "cells": [
    {
      "cell_type": "markdown",
      "metadata": {
        "id": "XUZ1dFPHzAHl"
      },
      "source": [
        "<h1><center>Laboratorio 4: ¿Superhéroe o Villano? 🦸</center></h1>\n",
        "\n",
        "<center><strong>MDS7202: Laboratorio de Programación Científica para Ciencia de Datos</strong></center>"
      ]
    },
    {
      "cell_type": "markdown",
      "metadata": {
        "id": "UD8X1uhGzAHq"
      },
      "source": [
        "### Cuerpo Docente:\n",
        "\n",
        "- Profesor: Pablo Badilla\n",
        "- Auxiliar: Ignacio Meza D.\n",
        "- Ayudante: Diego Irarrázaval"
      ]
    },
    {
      "cell_type": "markdown",
      "metadata": {
        "id": "tXflExjqzAHr"
      },
      "source": [
        "### Equipo: SUPER IMPORTANTE - notebooks sin nombre no serán revisados\n",
        "\n",
        "- Nombre de alumno 1: Joaquin Ortega\n",
        "- Nombre de alumno 2: María José Zambrano\n"
      ]
    },
    {
      "cell_type": "markdown",
      "metadata": {
        "id": "AD-V0bbZzAHr"
      },
      "source": [
        "### **Link de repositorio de GitHub:** `http://....`"
      ]
    },
    {
      "cell_type": "markdown",
      "metadata": {
        "id": "EcnsiQMkzAHr"
      },
      "source": [
        "### Indice \n",
        "\n",
        "1. [Temas a tratar](#Temas-a-tratar:)\n",
        "3. [Descripcción del laboratorio](#Descripción-del-laboratorio.)\n",
        "4. [Desarrollo](#Desarrollo)"
      ]
    },
    {
      "cell_type": "markdown",
      "metadata": {
        "id": "6uBLPj1PzAHs"
      },
      "source": [
        "# Temas a tratar\n",
        "\n",
        "- Clasificación con texto.\n",
        "- Clasificación en `scikit-learn`.\n",
        "- Modelos a través del uso de `pipeline`.\n",
        "- Optimización de modelos usando `GridSearchCV`.\n",
        "\n",
        "## Reglas:\n",
        "\n",
        "- Fecha de entrega: 4/06/2021\n",
        "- **Grupos de 2 personas**\n",
        "- **Ausentes** deberán realizar la actividad solos. \n",
        "- Cualquier duda fuera del horario de clases al foro. Mensajes al equipo docente serán respondidos por este medio.\n",
        "- Prohibidas las copias. \n",
        "- Pueden usar cualquer matrial del curso que estimen conveniente.\n",
        "\n",
        "### Objetivos principales del laboratorio\n",
        "\n",
        "- Aplicar las ventajas que nos ofrece crear un pipeline.\n",
        "- Obtener caracteristicas desde texto.\n",
        "- Crear modelos de clasificación de texto.\n",
        "- Optimizar la clasificación de texto usando wordclouds.\n",
        "- Usar herramientas de visualización de texto como las wordclouds.\n",
        "\n",
        "El laboratorio deberá ser desarrollado sin el uso indiscriminado de iteradores nativos de python (aka \"for\", \"while\"). La idea es que aprendan a exprimir al máximo las funciones optimizadas que nos entrega `pandas`, las cuales vale mencionar, son bastante más eficientes que los iteradores nativos sobre DataFrames."
      ]
    },
    {
      "cell_type": "markdown",
      "metadata": {
        "id": "MhISwri4zAHy"
      },
      "source": [
        "#Importamos librerias utiles 😸"
      ]
    },
    {
      "cell_type": "code",
      "metadata": {
        "ExecuteTime": {
          "end_time": "2021-03-29T00:08:16.884674Z",
          "start_time": "2021-03-29T00:08:16.349846Z"
        },
        "id": "uyc33dKdzAHy",
        "colab": {
          "base_uri": "https://localhost:8080/"
        },
        "outputId": "320f17b5-ae87-4213-9131-578fd89e4662"
      },
      "source": [
        "# Librería Core del lab.\n",
        "import numpy as np\n",
        "import pandas as pd\n",
        "from sklearn.pipeline import Pipeline\n",
        "\n",
        "from sklearn.model_selection import train_test_split \n",
        "\n",
        "# Pre-procesamiento\n",
        "from sklearn.decomposition import PCA\n",
        "from sklearn.compose import ColumnTransformer\n",
        "from sklearn.decomposition import TruncatedSVD\n",
        "from sklearn.preprocessing import MinMaxScaler\n",
        "from sklearn.feature_extraction.text import CountVectorizer\n",
        "\n",
        "# Clasifación\n",
        "from sklearn.svm import SVC\n",
        "from sklearn.naive_bayes import MultinomialNB\n",
        "from sklearn.tree import DecisionTreeClassifier\n",
        "from sklearn.model_selection import GridSearchCV\n",
        "from sklearn.ensemble import RandomForestClassifier\n",
        "from sklearn.linear_model import LogisticRegression\n",
        "from imblearn.over_sampling import RandomOverSampler\n",
        "from imblearn.under_sampling import RandomUnderSampler\n",
        "\n",
        "# Metricas de evaluación\n",
        "from sklearn.metrics import classification_report\n",
        "from sklearn.metrics import accuracy_score\n",
        "from sklearn.metrics import f1_score\n",
        "from sklearn.metrics import cohen_kappa_score\n",
        "\n",
        "# Librería para plotear\n",
        "!pip install --upgrade plotly\n",
        "import plotly.express as px\n",
        "from plotly.subplots import make_subplots\n",
        "import plotly.graph_objects as go\n",
        "\n",
        "# Proyecciones en baja dimensionalidad: UMAP\n",
        "!pip install umap-learn\n",
        "\n",
        "# Librería para NLP\n",
        "!pip install nltk\n",
        "import nltk\n",
        "from nltk.corpus import stopwords\n",
        "from nltk import word_tokenize  \n",
        "from nltk.stem import PorterStemmer\n",
        "nltk.download('punkt')\n",
        "nltk.download('stopwords')\n",
        "nltk.download('averaged_perceptron_tagger')"
      ],
      "execution_count": 1,
      "outputs": [
        {
          "output_type": "stream",
          "text": [
            "/usr/local/lib/python3.7/dist-packages/sklearn/externals/six.py:31: FutureWarning: The module is deprecated in version 0.21 and will be removed in version 0.23 since we've dropped support for Python 2.7. Please rely on the official version of six (https://pypi.org/project/six/).\n",
            "  \"(https://pypi.org/project/six/).\", FutureWarning)\n",
            "/usr/local/lib/python3.7/dist-packages/sklearn/utils/deprecation.py:144: FutureWarning: The sklearn.neighbors.base module is  deprecated in version 0.22 and will be removed in version 0.24. The corresponding classes / functions should instead be imported from sklearn.neighbors. Anything that cannot be imported from sklearn.neighbors is now part of the private API.\n",
            "  warnings.warn(message, FutureWarning)\n"
          ],
          "name": "stderr"
        },
        {
          "output_type": "stream",
          "text": [
            "Collecting plotly\n",
            "\u001b[?25l  Downloading https://files.pythonhosted.org/packages/1f/f6/bd3c17c8003b6641df1228e80e1acac97ed8402635e46c2571f8e1ef63af/plotly-4.14.3-py2.py3-none-any.whl (13.2MB)\n",
            "\u001b[K     |████████████████████████████████| 13.2MB 290kB/s \n",
            "\u001b[?25hRequirement already satisfied, skipping upgrade: retrying>=1.3.3 in /usr/local/lib/python3.7/dist-packages (from plotly) (1.3.3)\n",
            "Requirement already satisfied, skipping upgrade: six in /usr/local/lib/python3.7/dist-packages (from plotly) (1.15.0)\n",
            "Installing collected packages: plotly\n",
            "  Found existing installation: plotly 4.4.1\n",
            "    Uninstalling plotly-4.4.1:\n",
            "      Successfully uninstalled plotly-4.4.1\n",
            "Successfully installed plotly-4.14.3\n",
            "Collecting umap-learn\n",
            "\u001b[?25l  Downloading https://files.pythonhosted.org/packages/75/69/85e7f950bb75792ad5d666d86c5f3e62eedbb942848e7e3126513af9999c/umap-learn-0.5.1.tar.gz (80kB)\n",
            "\u001b[K     |████████████████████████████████| 81kB 7.0MB/s \n",
            "\u001b[?25hRequirement already satisfied: numpy>=1.17 in /usr/local/lib/python3.7/dist-packages (from umap-learn) (1.19.5)\n",
            "Requirement already satisfied: scikit-learn>=0.22 in /usr/local/lib/python3.7/dist-packages (from umap-learn) (0.22.2.post1)\n",
            "Requirement already satisfied: scipy>=1.0 in /usr/local/lib/python3.7/dist-packages (from umap-learn) (1.4.1)\n",
            "Requirement already satisfied: numba>=0.49 in /usr/local/lib/python3.7/dist-packages (from umap-learn) (0.51.2)\n",
            "Collecting pynndescent>=0.5\n",
            "\u001b[?25l  Downloading https://files.pythonhosted.org/packages/af/65/8189298dd3a05bbad716ee8e249764ff8800e365d8dc652ad2192ca01b4a/pynndescent-0.5.2.tar.gz (1.1MB)\n",
            "\u001b[K     |████████████████████████████████| 1.2MB 20.1MB/s \n",
            "\u001b[?25hRequirement already satisfied: joblib>=0.11 in /usr/local/lib/python3.7/dist-packages (from scikit-learn>=0.22->umap-learn) (1.0.1)\n",
            "Requirement already satisfied: llvmlite<0.35,>=0.34.0.dev0 in /usr/local/lib/python3.7/dist-packages (from numba>=0.49->umap-learn) (0.34.0)\n",
            "Requirement already satisfied: setuptools in /usr/local/lib/python3.7/dist-packages (from numba>=0.49->umap-learn) (57.0.0)\n",
            "Building wheels for collected packages: umap-learn, pynndescent\n",
            "  Building wheel for umap-learn (setup.py) ... \u001b[?25l\u001b[?25hdone\n",
            "  Created wheel for umap-learn: filename=umap_learn-0.5.1-cp37-none-any.whl size=76569 sha256=906c4716b1b1bb900a8084e70f9ed0bf6a0b83af01e6f3b08731e2a1454c51f0\n",
            "  Stored in directory: /root/.cache/pip/wheels/ad/df/d5/a3691296ff779f25cd1cf415a3af954b987fb53111e3392cf4\n",
            "  Building wheel for pynndescent (setup.py) ... \u001b[?25l\u001b[?25hdone\n",
            "  Created wheel for pynndescent: filename=pynndescent-0.5.2-cp37-none-any.whl size=51362 sha256=31b96fb5abac9d99ff5e25d71e4685ca2148841410a16cd008ac42b5685c16c5\n",
            "  Stored in directory: /root/.cache/pip/wheels/ba/52/4e/4c28d04d144a28f89e2575fb63628df6e6d49b56c5ddd0c74e\n",
            "Successfully built umap-learn pynndescent\n",
            "Installing collected packages: pynndescent, umap-learn\n",
            "Successfully installed pynndescent-0.5.2 umap-learn-0.5.1\n",
            "Requirement already satisfied: nltk in /usr/local/lib/python3.7/dist-packages (3.2.5)\n",
            "Requirement already satisfied: six in /usr/local/lib/python3.7/dist-packages (from nltk) (1.15.0)\n",
            "[nltk_data] Downloading package punkt to /root/nltk_data...\n",
            "[nltk_data]   Unzipping tokenizers/punkt.zip.\n",
            "[nltk_data] Downloading package stopwords to /root/nltk_data...\n",
            "[nltk_data]   Unzipping corpora/stopwords.zip.\n",
            "[nltk_data] Downloading package averaged_perceptron_tagger to\n",
            "[nltk_data]     /root/nltk_data...\n",
            "[nltk_data]   Unzipping taggers/averaged_perceptron_tagger.zip.\n"
          ],
          "name": "stdout"
        },
        {
          "output_type": "execute_result",
          "data": {
            "text/plain": [
              "True"
            ]
          },
          "metadata": {
            "tags": []
          },
          "execution_count": 1
        }
      ]
    },
    {
      "cell_type": "code",
      "metadata": {
        "colab": {
          "base_uri": "https://localhost:8080/"
        },
        "id": "btuUrZu5vQm6",
        "outputId": "04abb7d5-d5a9-45c8-fcf4-1e7aa7430ac8"
      },
      "source": [
        "from google.colab import drive\n",
        "drive.mount('/content/drive')"
      ],
      "execution_count": 2,
      "outputs": [
        {
          "output_type": "stream",
          "text": [
            "Mounted at /content/drive\n"
          ],
          "name": "stdout"
        }
      ]
    },
    {
      "cell_type": "markdown",
      "metadata": {
        "id": "xpOTbQcxbSiy"
      },
      "source": [
        "# 1. ¿Quien es Bat Cow?"
      ]
    },
    {
      "cell_type": "markdown",
      "metadata": {
        "id": "3Q93vbNS25bM"
      },
      "source": [
        "<p align=\"center\">\n",
        "  <img src=\"https://static.wikia.nocookie.net/p__/images/a/a2/Bat-Cow.jpg/revision/latest?cb=20180108185037&path-prefix=protagonist\" width=\"350\">\n",
        "</p>"
      ]
    },
    {
      "cell_type": "markdown",
      "metadata": {
        "id": "jnmZfFpxTTYX"
      },
      "source": [
        "En vez de estar oprotunamente desarrollando las tareas y las evaluaciones correspondientes al curso, su profesor de catedra y su auxiliar discuten acerca la alineación del personaje de ficción *Bat-Cow*. \n",
        "\n",
        "El cuerpo docente, no logra ponerse de acuerdo acerca de la alineación del personaje, es decir, si lucha junto a las fuerzas del bien, si neutral a cualquier eventualidad o derechamente es un villano.\n",
        "El auxiliar plantea (de forma superficial) que *Bat-cow* posee una siniestra mirada, común característica de los personajes malvados. \n",
        "Por otra parte, extendiendo las ideas de Rousseau, el profesor (*se cree filósofo... y*) plantea que tal como los humanos no nacen malos, no existe motivo por el cual un rumiante humanizado con superpoderes deba serlo.\n",
        "\n",
        "Sin embargo, ambos concuerdan en es difícil estimar la alineación solo usando los atributos físicos, por lo que creen el análisis debe ser complementado aún más antes de comunicarle los resultados a su estudiantado. Buscando más información, ambos sujetos se percatan de la existencia de un excelente antecedente para estimar la alineación: la historia personal de cada superhéroe o villano.\n",
        "\n",
        "Es por esto le solicitan que construya y optimice un clasificador basado en texto el cual analice la alineación de cada personaje basado en su historia personal.\n",
        "\n",
        "Para este laboratorio deben trabajar con los datos `df_comics.csv` y `comics_no_label.csv` subidos a u-cursos. El primero es un conjunto de datos que les servirá para entrenar un modelo de clasificación, mientras que el segundo es un dataset con personajes de ficción no etiquetados a predecir (sí, aquí está la misteriosa Batcow).\n",
        "\n",
        "Para iniciar este laboratorio, cargue los dataset señalados y visualice a través de la función `head` los atributos que poseen cada uno de los dataset.\n"
      ]
    },
    {
      "cell_type": "code",
      "metadata": {
        "colab": {
          "base_uri": "https://localhost:8080/"
        },
        "id": "Jqq-s010Iwl1",
        "outputId": "6ce48a3d-37a3-4177-f2d7-f8c63309f3d9"
      },
      "source": [
        "# Usar solamente si utilizan Collab.\n",
        "from google.colab import drive\n",
        "drive.mount(\"/content/drive\") \n",
        "dir = '/content/drive/MyDrive/LAB4//'"
      ],
      "execution_count": 3,
      "outputs": [
        {
          "output_type": "stream",
          "text": [
            "Drive already mounted at /content/drive; to attempt to forcibly remount, call drive.mount(\"/content/drive\", force_remount=True).\n"
          ],
          "name": "stdout"
        }
      ]
    },
    {
      "cell_type": "code",
      "metadata": {
        "id": "bED3w3tDbSCf"
      },
      "source": [
        "df_comics = pd.read_csv(dir+'df_comics.csv')\n",
        "df_comics_no_label = pd.read_csv(dir+'comics_no_label.csv')"
      ],
      "execution_count": 4,
      "outputs": []
    },
    {
      "cell_type": "code",
      "metadata": {
        "colab": {
          "base_uri": "https://localhost:8080/"
        },
        "id": "PNKHhnH8xb5P",
        "outputId": "acaeace5-9428-4cec-f2b5-ffc4b2122893"
      },
      "source": [
        "print(df_comics.shape)\n",
        "print(df_comics_no_label.shape)"
      ],
      "execution_count": 10,
      "outputs": [
        {
          "output_type": "stream",
          "text": [
            "(1367, 82)\n",
            "(84, 82)\n"
          ],
          "name": "stdout"
        }
      ]
    },
    {
      "cell_type": "code",
      "metadata": {
        "colab": {
          "base_uri": "https://localhost:8080/",
          "height": 323
        },
        "id": "Ldgy37pswwfB",
        "outputId": "d54bf924-398a-46ec-ff75-0a0e69e457b4"
      },
      "source": [
        "df_comics.head(2)"
      ],
      "execution_count": 12,
      "outputs": [
        {
          "output_type": "execute_result",
          "data": {
            "text/html": [
              "<div>\n",
              "<style scoped>\n",
              "    .dataframe tbody tr th:only-of-type {\n",
              "        vertical-align: middle;\n",
              "    }\n",
              "\n",
              "    .dataframe tbody tr th {\n",
              "        vertical-align: top;\n",
              "    }\n",
              "\n",
              "    .dataframe thead th {\n",
              "        text-align: right;\n",
              "    }\n",
              "</style>\n",
              "<table border=\"1\" class=\"dataframe\">\n",
              "  <thead>\n",
              "    <tr style=\"text-align: right;\">\n",
              "      <th></th>\n",
              "      <th>Unnamed: 0</th>\n",
              "      <th>name</th>\n",
              "      <th>real_name</th>\n",
              "      <th>full_name</th>\n",
              "      <th>overall_score</th>\n",
              "      <th>history_text</th>\n",
              "      <th>powers_text</th>\n",
              "      <th>intelligence_score</th>\n",
              "      <th>strength_score</th>\n",
              "      <th>speed_score</th>\n",
              "      <th>durability_score</th>\n",
              "      <th>power_score</th>\n",
              "      <th>combat_score</th>\n",
              "      <th>superpowers</th>\n",
              "      <th>alter_egos</th>\n",
              "      <th>aliases</th>\n",
              "      <th>place_of_birth</th>\n",
              "      <th>first_appearance</th>\n",
              "      <th>creator</th>\n",
              "      <th>alignment</th>\n",
              "      <th>occupation</th>\n",
              "      <th>base</th>\n",
              "      <th>teams</th>\n",
              "      <th>relatives</th>\n",
              "      <th>gender</th>\n",
              "      <th>type_race</th>\n",
              "      <th>height</th>\n",
              "      <th>weight</th>\n",
              "      <th>eye_color</th>\n",
              "      <th>hair_color</th>\n",
              "      <th>skin_color</th>\n",
              "      <th>img</th>\n",
              "      <th>has_electrokinesis</th>\n",
              "      <th>has_energy_constructs</th>\n",
              "      <th>has_mind_control_resistance</th>\n",
              "      <th>has_matter_manipulation</th>\n",
              "      <th>has_telepathy_resistance</th>\n",
              "      <th>has_mind_control</th>\n",
              "      <th>has_enhanced_hearing</th>\n",
              "      <th>has_dimensional_travel</th>\n",
              "      <th>...</th>\n",
              "      <th>has_fire_resistance</th>\n",
              "      <th>has_fire_control</th>\n",
              "      <th>has_dexterity</th>\n",
              "      <th>has_reality_warping</th>\n",
              "      <th>has_illusions</th>\n",
              "      <th>has_energy_beams</th>\n",
              "      <th>has_peak_human_condition</th>\n",
              "      <th>has_shapeshifting</th>\n",
              "      <th>has_heat_resistance</th>\n",
              "      <th>has_jump</th>\n",
              "      <th>has_self-sustenance</th>\n",
              "      <th>has_energy_absorption</th>\n",
              "      <th>has_cold_resistance</th>\n",
              "      <th>has_magic</th>\n",
              "      <th>has_telekinesis</th>\n",
              "      <th>has_toxin_and_disease_resistance</th>\n",
              "      <th>has_telepathy</th>\n",
              "      <th>has_regeneration</th>\n",
              "      <th>has_immortality</th>\n",
              "      <th>has_teleportation</th>\n",
              "      <th>has_force_fields</th>\n",
              "      <th>has_energy_manipulation</th>\n",
              "      <th>has_endurance</th>\n",
              "      <th>has_longevity</th>\n",
              "      <th>has_weapon-based_powers</th>\n",
              "      <th>has_energy_blasts</th>\n",
              "      <th>has_enhanced_senses</th>\n",
              "      <th>has_invulnerability</th>\n",
              "      <th>has_stealth</th>\n",
              "      <th>has_marksmanship</th>\n",
              "      <th>has_flight</th>\n",
              "      <th>has_accelerated_healing</th>\n",
              "      <th>has_weapons_master</th>\n",
              "      <th>has_intelligence</th>\n",
              "      <th>has_reflexes</th>\n",
              "      <th>has_super_speed</th>\n",
              "      <th>has_durability</th>\n",
              "      <th>has_stamina</th>\n",
              "      <th>has_agility</th>\n",
              "      <th>has_super_strength</th>\n",
              "    </tr>\n",
              "  </thead>\n",
              "  <tbody>\n",
              "    <tr>\n",
              "      <th>0</th>\n",
              "      <td>0</td>\n",
              "      <td>3-D Man</td>\n",
              "      <td>Delroy Garrett, Jr.</td>\n",
              "      <td>Delroy Garrett, Jr.</td>\n",
              "      <td>6</td>\n",
              "      <td>Delroy Garrett, Jr. grew up to become a track ...</td>\n",
              "      <td>NaN</td>\n",
              "      <td>85</td>\n",
              "      <td>30</td>\n",
              "      <td>60</td>\n",
              "      <td>60</td>\n",
              "      <td>40</td>\n",
              "      <td>70</td>\n",
              "      <td>['Super Speed', 'Super Strength']</td>\n",
              "      <td>[]</td>\n",
              "      <td>['']</td>\n",
              "      <td>NaN</td>\n",
              "      <td>NaN</td>\n",
              "      <td>Marvel Comics</td>\n",
              "      <td>Good</td>\n",
              "      <td>NaN</td>\n",
              "      <td>NaN</td>\n",
              "      <td>['Annihilators', 'Asgardians', 'Avengers', 'Ne...</td>\n",
              "      <td>NaN</td>\n",
              "      <td>Male</td>\n",
              "      <td>Human</td>\n",
              "      <td>-</td>\n",
              "      <td>-</td>\n",
              "      <td>NaN</td>\n",
              "      <td>NaN</td>\n",
              "      <td>NaN</td>\n",
              "      <td>/pictures2/portraits/11/050/10038.jpg?v=156096...</td>\n",
              "      <td>0.0</td>\n",
              "      <td>0.0</td>\n",
              "      <td>0.0</td>\n",
              "      <td>0.0</td>\n",
              "      <td>0.0</td>\n",
              "      <td>0.0</td>\n",
              "      <td>0.0</td>\n",
              "      <td>0.0</td>\n",
              "      <td>...</td>\n",
              "      <td>0.0</td>\n",
              "      <td>0.0</td>\n",
              "      <td>0.0</td>\n",
              "      <td>0.0</td>\n",
              "      <td>0.0</td>\n",
              "      <td>0.0</td>\n",
              "      <td>0.0</td>\n",
              "      <td>0.0</td>\n",
              "      <td>0.0</td>\n",
              "      <td>0.0</td>\n",
              "      <td>0.0</td>\n",
              "      <td>0.0</td>\n",
              "      <td>0.0</td>\n",
              "      <td>0.0</td>\n",
              "      <td>0.0</td>\n",
              "      <td>0.0</td>\n",
              "      <td>0.0</td>\n",
              "      <td>0.0</td>\n",
              "      <td>0.0</td>\n",
              "      <td>0.0</td>\n",
              "      <td>0.0</td>\n",
              "      <td>0.0</td>\n",
              "      <td>0.0</td>\n",
              "      <td>0.0</td>\n",
              "      <td>0.0</td>\n",
              "      <td>0.0</td>\n",
              "      <td>0.0</td>\n",
              "      <td>0.0</td>\n",
              "      <td>0.0</td>\n",
              "      <td>0.0</td>\n",
              "      <td>0.0</td>\n",
              "      <td>0.0</td>\n",
              "      <td>0.0</td>\n",
              "      <td>0.0</td>\n",
              "      <td>0.0</td>\n",
              "      <td>1.0</td>\n",
              "      <td>0.0</td>\n",
              "      <td>0.0</td>\n",
              "      <td>0.0</td>\n",
              "      <td>1.0</td>\n",
              "    </tr>\n",
              "    <tr>\n",
              "      <th>1</th>\n",
              "      <td>2</td>\n",
              "      <td>A-Bomb</td>\n",
              "      <td>Richard Milhouse Jones</td>\n",
              "      <td>Richard Milhouse Jones</td>\n",
              "      <td>20</td>\n",
              "      <td>Richard \"Rick\" Jones was orphaned at a young ...</td>\n",
              "      <td>On rare occasions, and through unusual circu...</td>\n",
              "      <td>80</td>\n",
              "      <td>100</td>\n",
              "      <td>80</td>\n",
              "      <td>100</td>\n",
              "      <td>100</td>\n",
              "      <td>80</td>\n",
              "      <td>['Accelerated Healing', 'Agility', 'Berserk Mo...</td>\n",
              "      <td>[]</td>\n",
              "      <td>['Rick Jones']</td>\n",
              "      <td>Scarsdale, Arizona</td>\n",
              "      <td>Hulk Vol 2 #2 (April, 2008) (as A-Bomb)</td>\n",
              "      <td>Marvel Comics</td>\n",
              "      <td>Good</td>\n",
              "      <td>Musician, adventurer, author; formerly talk sh...</td>\n",
              "      <td>NaN</td>\n",
              "      <td>['Teen Brigade', 'Ultimate Fantastic Four', 'U...</td>\n",
              "      <td>Marlo Chandler-Jones (wife); Polly (aunt); Mrs...</td>\n",
              "      <td>Male</td>\n",
              "      <td>Human</td>\n",
              "      <td>6'8 • 203 cm</td>\n",
              "      <td>980 lb • 441 kg</td>\n",
              "      <td>Yellow</td>\n",
              "      <td>No Hair</td>\n",
              "      <td>NaN</td>\n",
              "      <td>/pictures2/portraits/10/050/10060.jpg?v=158233...</td>\n",
              "      <td>0.0</td>\n",
              "      <td>0.0</td>\n",
              "      <td>0.0</td>\n",
              "      <td>0.0</td>\n",
              "      <td>1.0</td>\n",
              "      <td>0.0</td>\n",
              "      <td>0.0</td>\n",
              "      <td>0.0</td>\n",
              "      <td>...</td>\n",
              "      <td>1.0</td>\n",
              "      <td>0.0</td>\n",
              "      <td>0.0</td>\n",
              "      <td>0.0</td>\n",
              "      <td>0.0</td>\n",
              "      <td>0.0</td>\n",
              "      <td>0.0</td>\n",
              "      <td>1.0</td>\n",
              "      <td>1.0</td>\n",
              "      <td>1.0</td>\n",
              "      <td>1.0</td>\n",
              "      <td>0.0</td>\n",
              "      <td>1.0</td>\n",
              "      <td>0.0</td>\n",
              "      <td>0.0</td>\n",
              "      <td>1.0</td>\n",
              "      <td>0.0</td>\n",
              "      <td>1.0</td>\n",
              "      <td>0.0</td>\n",
              "      <td>0.0</td>\n",
              "      <td>0.0</td>\n",
              "      <td>0.0</td>\n",
              "      <td>1.0</td>\n",
              "      <td>1.0</td>\n",
              "      <td>0.0</td>\n",
              "      <td>0.0</td>\n",
              "      <td>1.0</td>\n",
              "      <td>1.0</td>\n",
              "      <td>1.0</td>\n",
              "      <td>0.0</td>\n",
              "      <td>0.0</td>\n",
              "      <td>1.0</td>\n",
              "      <td>0.0</td>\n",
              "      <td>0.0</td>\n",
              "      <td>1.0</td>\n",
              "      <td>1.0</td>\n",
              "      <td>1.0</td>\n",
              "      <td>1.0</td>\n",
              "      <td>1.0</td>\n",
              "      <td>1.0</td>\n",
              "    </tr>\n",
              "  </tbody>\n",
              "</table>\n",
              "<p>2 rows × 82 columns</p>\n",
              "</div>"
            ],
            "text/plain": [
              "   Unnamed: 0     name  ... has_agility has_super_strength\n",
              "0           0  3-D Man  ...         0.0                1.0\n",
              "1           2   A-Bomb  ...         1.0                1.0\n",
              "\n",
              "[2 rows x 82 columns]"
            ]
          },
          "metadata": {
            "tags": []
          },
          "execution_count": 12
        }
      ]
    },
    {
      "cell_type": "code",
      "metadata": {
        "colab": {
          "base_uri": "https://localhost:8080/",
          "height": 323
        },
        "id": "CgpSxrTDx337",
        "outputId": "3e082805-931b-4ad9-c7b7-d6bfa976916a"
      },
      "source": [
        "df_comics_no_label.head(2)"
      ],
      "execution_count": 13,
      "outputs": [
        {
          "output_type": "execute_result",
          "data": {
            "text/html": [
              "<div>\n",
              "<style scoped>\n",
              "    .dataframe tbody tr th:only-of-type {\n",
              "        vertical-align: middle;\n",
              "    }\n",
              "\n",
              "    .dataframe tbody tr th {\n",
              "        vertical-align: top;\n",
              "    }\n",
              "\n",
              "    .dataframe thead th {\n",
              "        text-align: right;\n",
              "    }\n",
              "</style>\n",
              "<table border=\"1\" class=\"dataframe\">\n",
              "  <thead>\n",
              "    <tr style=\"text-align: right;\">\n",
              "      <th></th>\n",
              "      <th>Unnamed: 0</th>\n",
              "      <th>name</th>\n",
              "      <th>real_name</th>\n",
              "      <th>full_name</th>\n",
              "      <th>overall_score</th>\n",
              "      <th>history_text</th>\n",
              "      <th>powers_text</th>\n",
              "      <th>intelligence_score</th>\n",
              "      <th>strength_score</th>\n",
              "      <th>speed_score</th>\n",
              "      <th>durability_score</th>\n",
              "      <th>power_score</th>\n",
              "      <th>combat_score</th>\n",
              "      <th>superpowers</th>\n",
              "      <th>alter_egos</th>\n",
              "      <th>aliases</th>\n",
              "      <th>place_of_birth</th>\n",
              "      <th>first_appearance</th>\n",
              "      <th>creator</th>\n",
              "      <th>alignment</th>\n",
              "      <th>occupation</th>\n",
              "      <th>base</th>\n",
              "      <th>teams</th>\n",
              "      <th>relatives</th>\n",
              "      <th>gender</th>\n",
              "      <th>type_race</th>\n",
              "      <th>height</th>\n",
              "      <th>weight</th>\n",
              "      <th>eye_color</th>\n",
              "      <th>hair_color</th>\n",
              "      <th>skin_color</th>\n",
              "      <th>img</th>\n",
              "      <th>has_electrokinesis</th>\n",
              "      <th>has_energy_constructs</th>\n",
              "      <th>has_mind_control_resistance</th>\n",
              "      <th>has_matter_manipulation</th>\n",
              "      <th>has_telepathy_resistance</th>\n",
              "      <th>has_mind_control</th>\n",
              "      <th>has_enhanced_hearing</th>\n",
              "      <th>has_dimensional_travel</th>\n",
              "      <th>...</th>\n",
              "      <th>has_fire_resistance</th>\n",
              "      <th>has_fire_control</th>\n",
              "      <th>has_dexterity</th>\n",
              "      <th>has_reality_warping</th>\n",
              "      <th>has_illusions</th>\n",
              "      <th>has_energy_beams</th>\n",
              "      <th>has_peak_human_condition</th>\n",
              "      <th>has_shapeshifting</th>\n",
              "      <th>has_heat_resistance</th>\n",
              "      <th>has_jump</th>\n",
              "      <th>has_self-sustenance</th>\n",
              "      <th>has_energy_absorption</th>\n",
              "      <th>has_cold_resistance</th>\n",
              "      <th>has_magic</th>\n",
              "      <th>has_telekinesis</th>\n",
              "      <th>has_toxin_and_disease_resistance</th>\n",
              "      <th>has_telepathy</th>\n",
              "      <th>has_regeneration</th>\n",
              "      <th>has_immortality</th>\n",
              "      <th>has_teleportation</th>\n",
              "      <th>has_force_fields</th>\n",
              "      <th>has_energy_manipulation</th>\n",
              "      <th>has_endurance</th>\n",
              "      <th>has_longevity</th>\n",
              "      <th>has_weapon-based_powers</th>\n",
              "      <th>has_energy_blasts</th>\n",
              "      <th>has_enhanced_senses</th>\n",
              "      <th>has_invulnerability</th>\n",
              "      <th>has_stealth</th>\n",
              "      <th>has_marksmanship</th>\n",
              "      <th>has_flight</th>\n",
              "      <th>has_accelerated_healing</th>\n",
              "      <th>has_weapons_master</th>\n",
              "      <th>has_intelligence</th>\n",
              "      <th>has_reflexes</th>\n",
              "      <th>has_super_speed</th>\n",
              "      <th>has_durability</th>\n",
              "      <th>has_stamina</th>\n",
              "      <th>has_agility</th>\n",
              "      <th>has_super_strength</th>\n",
              "    </tr>\n",
              "  </thead>\n",
              "  <tbody>\n",
              "    <tr>\n",
              "      <th>0</th>\n",
              "      <td>1</td>\n",
              "      <td>514A (Gotham)</td>\n",
              "      <td>Bruce Wayne</td>\n",
              "      <td>NaN</td>\n",
              "      <td>10</td>\n",
              "      <td>He was one of the many prisoners of Indian Hil...</td>\n",
              "      <td>NaN</td>\n",
              "      <td>100</td>\n",
              "      <td>20</td>\n",
              "      <td>30</td>\n",
              "      <td>50</td>\n",
              "      <td>35</td>\n",
              "      <td>100</td>\n",
              "      <td>['Durability', 'Reflexes', 'Super Strength']</td>\n",
              "      <td>['Batgod', 'Batman', 'Batman (1966)', 'Batman ...</td>\n",
              "      <td>['Subject 514A', 'Bruce Wayne', 'Bruce 2']</td>\n",
              "      <td>NaN</td>\n",
              "      <td>NaN</td>\n",
              "      <td>DC Comics</td>\n",
              "      <td>NaN</td>\n",
              "      <td>NaN</td>\n",
              "      <td>NaN</td>\n",
              "      <td>[]</td>\n",
              "      <td>Bruce Wayne (genetic template)</td>\n",
              "      <td>NaN</td>\n",
              "      <td>NaN</td>\n",
              "      <td>-</td>\n",
              "      <td>-</td>\n",
              "      <td>NaN</td>\n",
              "      <td>NaN</td>\n",
              "      <td>NaN</td>\n",
              "      <td>NaN</td>\n",
              "      <td>0.0</td>\n",
              "      <td>0.0</td>\n",
              "      <td>0.0</td>\n",
              "      <td>0.0</td>\n",
              "      <td>0.0</td>\n",
              "      <td>0.0</td>\n",
              "      <td>0.0</td>\n",
              "      <td>0.0</td>\n",
              "      <td>...</td>\n",
              "      <td>0.0</td>\n",
              "      <td>0.0</td>\n",
              "      <td>0.0</td>\n",
              "      <td>0.0</td>\n",
              "      <td>0.0</td>\n",
              "      <td>0.0</td>\n",
              "      <td>0.0</td>\n",
              "      <td>0.0</td>\n",
              "      <td>0.0</td>\n",
              "      <td>0.0</td>\n",
              "      <td>0.0</td>\n",
              "      <td>0.0</td>\n",
              "      <td>0.0</td>\n",
              "      <td>0.0</td>\n",
              "      <td>0.0</td>\n",
              "      <td>0.0</td>\n",
              "      <td>0.0</td>\n",
              "      <td>0.0</td>\n",
              "      <td>0.0</td>\n",
              "      <td>0.0</td>\n",
              "      <td>0.0</td>\n",
              "      <td>0.0</td>\n",
              "      <td>0.0</td>\n",
              "      <td>0.0</td>\n",
              "      <td>0.0</td>\n",
              "      <td>0.0</td>\n",
              "      <td>0.0</td>\n",
              "      <td>0.0</td>\n",
              "      <td>0.0</td>\n",
              "      <td>0.0</td>\n",
              "      <td>0.0</td>\n",
              "      <td>0.0</td>\n",
              "      <td>0.0</td>\n",
              "      <td>0.0</td>\n",
              "      <td>1.0</td>\n",
              "      <td>0.0</td>\n",
              "      <td>1.0</td>\n",
              "      <td>0.0</td>\n",
              "      <td>0.0</td>\n",
              "      <td>1.0</td>\n",
              "    </tr>\n",
              "    <tr>\n",
              "      <th>1</th>\n",
              "      <td>14</td>\n",
              "      <td>Ace Morgan</td>\n",
              "      <td>Kyle Morgan</td>\n",
              "      <td>NaN</td>\n",
              "      <td>7</td>\n",
              "      <td>NaN</td>\n",
              "      <td>Aviation:  Ace is an extremely skilled pilot, ...</td>\n",
              "      <td>85</td>\n",
              "      <td>20</td>\n",
              "      <td>65</td>\n",
              "      <td>55</td>\n",
              "      <td>80</td>\n",
              "      <td>90</td>\n",
              "      <td>['Agility', 'Banish', 'Energy Blasts', 'Enhanc...</td>\n",
              "      <td>[]</td>\n",
              "      <td>['']</td>\n",
              "      <td>NaN</td>\n",
              "      <td>NaN</td>\n",
              "      <td>DC Comics</td>\n",
              "      <td>NaN</td>\n",
              "      <td>NaN</td>\n",
              "      <td>NaN</td>\n",
              "      <td>['Challengers of the Unknown']</td>\n",
              "      <td>NaN</td>\n",
              "      <td>NaN</td>\n",
              "      <td>NaN</td>\n",
              "      <td>-</td>\n",
              "      <td>-</td>\n",
              "      <td>NaN</td>\n",
              "      <td>NaN</td>\n",
              "      <td>NaN</td>\n",
              "      <td>/pictures2/portraits/11/050/11545.jpg?v=156107...</td>\n",
              "      <td>0.0</td>\n",
              "      <td>0.0</td>\n",
              "      <td>0.0</td>\n",
              "      <td>0.0</td>\n",
              "      <td>0.0</td>\n",
              "      <td>0.0</td>\n",
              "      <td>0.0</td>\n",
              "      <td>0.0</td>\n",
              "      <td>...</td>\n",
              "      <td>0.0</td>\n",
              "      <td>0.0</td>\n",
              "      <td>0.0</td>\n",
              "      <td>0.0</td>\n",
              "      <td>0.0</td>\n",
              "      <td>0.0</td>\n",
              "      <td>1.0</td>\n",
              "      <td>0.0</td>\n",
              "      <td>0.0</td>\n",
              "      <td>0.0</td>\n",
              "      <td>0.0</td>\n",
              "      <td>0.0</td>\n",
              "      <td>0.0</td>\n",
              "      <td>1.0</td>\n",
              "      <td>0.0</td>\n",
              "      <td>0.0</td>\n",
              "      <td>0.0</td>\n",
              "      <td>0.0</td>\n",
              "      <td>0.0</td>\n",
              "      <td>0.0</td>\n",
              "      <td>0.0</td>\n",
              "      <td>0.0</td>\n",
              "      <td>0.0</td>\n",
              "      <td>0.0</td>\n",
              "      <td>1.0</td>\n",
              "      <td>1.0</td>\n",
              "      <td>0.0</td>\n",
              "      <td>0.0</td>\n",
              "      <td>0.0</td>\n",
              "      <td>1.0</td>\n",
              "      <td>0.0</td>\n",
              "      <td>0.0</td>\n",
              "      <td>1.0</td>\n",
              "      <td>1.0</td>\n",
              "      <td>1.0</td>\n",
              "      <td>0.0</td>\n",
              "      <td>0.0</td>\n",
              "      <td>1.0</td>\n",
              "      <td>1.0</td>\n",
              "      <td>0.0</td>\n",
              "    </tr>\n",
              "  </tbody>\n",
              "</table>\n",
              "<p>2 rows × 82 columns</p>\n",
              "</div>"
            ],
            "text/plain": [
              "   Unnamed: 0           name  ... has_agility has_super_strength\n",
              "0           1  514A (Gotham)  ...         0.0                1.0\n",
              "1          14     Ace Morgan  ...         1.0                0.0\n",
              "\n",
              "[2 rows x 82 columns]"
            ]
          },
          "metadata": {
            "tags": []
          },
          "execution_count": 13
        }
      ]
    },
    {
      "cell_type": "markdown",
      "metadata": {
        "id": "i4tFPrFA4_O5"
      },
      "source": [
        "## 1.1 Obtención de Features [2 puntos]\n",
        "\n",
        "<p align=\"center\">\n",
        "  <img src=\"https://media0.giphy.com/media/eIUpSyzwGp0YhAMTKr/200.gif\" width=\"300\">\n",
        "</p>"
      ]
    },
    {
      "cell_type": "markdown",
      "metadata": {
        "id": "f_4NF0_V5XZ-"
      },
      "source": [
        "Su primera tarea consiste en generar un vector de características para el atributo `history_text`. En este atributo se presenta una breve descripción de la historia de cada uno de los personajes de ficción presentes en el dataset (si un personaje tiene este atributo nulo, elimínelo). Luego, para obtener características de texto aplique el modelo de conteo `bag of words` de la siguiente forma:\n",
        "\n",
        "- Utilice `CountVectorized` junto al tokenizador (que le proveemos) `LemmaTokenizer`.\n",
        "- Obtenga caracteristicas de los 1-gramas y 2-gramas del texto (ver clase).\n",
        "- Fijar un maximo de 10.000 caracteristicas para el vector de salida.\n",
        "\n",
        "Finalmente, aplique `MinMaxScaler()` sobre `atributos_de_interes` y concatene el valor obtenido con el matriz de caracteristicas obtenidas con bag of words.\n",
        "\n",
        "```python\n",
        "atributos_de_interes = ['intelligence_score', 'strength_score', 'speed_score', 'durability_score', 'power_score', 'combat_score']\n",
        "```\n",
        "\n",
        "No es necesario que obtenga un dataframe en concreto con las características solicitadas. Se le recomienda generar un `ColumnTransformer()` para aplicar las transformaciones solicitadas en un pipeline.\n",
        "\n",
        "**To-Do:**\n",
        "- [ ] Obtener a traves de bag of words caracteristicas del resumen de historia de cada personaje.\n",
        "- [ ] Aplicar MinMaxScaler sobre los atributos de interes."
      ]
    },
    {
      "cell_type": "code",
      "metadata": {
        "id": "ay080DunHcOS"
      },
      "source": [
        " df_comics = df_comics[df_comics.history_text.notna()]"
      ],
      "execution_count": 15,
      "outputs": []
    },
    {
      "cell_type": "code",
      "metadata": {
        "id": "ixmI9S6poGDm"
      },
      "source": [
        "stop_words = stopwords.words('english')\n",
        "\n",
        "class LemmaTokenizer:\n",
        "    def __init__(self):\n",
        "        self.ps = PorterStemmer()\n",
        "    def __call__(self, doc):\n",
        "        doc_tok = word_tokenize(doc)\n",
        "        doc_tok = [t for t in doc_tok if t not in stop_words]\n",
        "        return [self.ps.stem(t) for t in doc_tok]"
      ],
      "execution_count": 35,
      "outputs": []
    },
    {
      "cell_type": "code",
      "metadata": {
        "id": "VYDmrwmx1Xqt"
      },
      "source": [
        "preprocessing_transformer = ColumnTransformer(transformers=[('scaler',MinMaxScaler(), ['intelligence_score', 'strength_score', \n",
        "                                                                       'speed_score', 'durability_score', 'power_score', 'combat_score']),\n",
        "                                                            ('bow', CountVectorizer(tokenizer = LemmaTokenizer(), ngram_range= (1,2), max_features=10000), 'history_text')])\n"
      ],
      "execution_count": 63,
      "outputs": []
    },
    {
      "cell_type": "markdown",
      "metadata": {
        "id": "stHncQ-A-j4I"
      },
      "source": [
        "## 1.2 Diseño de Pipeline y  Primer Entrenamiento [1.5 puntos]\n",
        "\n",
        "\n",
        "<p align=\"center\">\n",
        "  <img src=\"https://pa1.narvii.com/6374/9eaec1b7bf9157334151452a669516f9a78b954c_hq.gif\" width=\"300\">\n",
        "</p>\n"
      ]
    },
    {
      "cell_type": "markdown",
      "metadata": {
        "id": "NeMiptpQ_EWb"
      },
      "source": [
        "A continuación, genere un Pipeline con las caracteristicas solicitadas en la sección 1.1, añadiendo un reductor de dimensionalidad llamado `TruncatedSVD()` ajustando el número de componentes en 1000 (este reducto de dimensionalidad es similar al PCA pero funciona para vectores dispersos) y un clasificador `MultinomialNB()` por defecto.  Luego, separe el conjunto de datos en un conjunto de entrenamiento y prueba, donde el etiquetado vendrá dado por el atributo `alignment`. Finalmente entrene el modelo y reporte el desempeño con un `classification_report`. ¿ Nos recomendaría predecir la alineación de BatCow con este clasificador?.\n",
        "\n",
        "**Nota:** Debido al desbalance que existe entre las clases, puede ser util aplicar método de [`imbalanced-learn`](https://github.com/scikit-learn-contrib/imbalanced-learn) como RandomOverSampler sobre los datos de entrenamiento. \n",
        "\n",
        "**To-DO:**\n",
        "- [ ] Realizar un pipeline con las caracteristicas solicitadas en 1.1,aplicar un reductor de dimensionalidad `TruncatedSVD` y aplicar un clasificador  `MultinomialNB()`.\n",
        "- [ ] Entrenar el pipeline.\n",
        "- [ ] (Opcional - **0.5 bonus**) Utilizar técnicas de Sampling para balancear los datos de entrenamiento.\n"
      ]
    },
    {
      "cell_type": "code",
      "metadata": {
        "id": "_hHpPDooPafy"
      },
      "source": [
        "pipeline = Pipeline([('Preprocessing', preprocessing_transformer),('clf', MultinomialNB())])"
      ],
      "execution_count": 64,
      "outputs": []
    },
    {
      "cell_type": "code",
      "metadata": {
        "id": "5NFk18MnA1vI"
      },
      "source": [
        "X , y = df_comics, df_comics['alignment']\n",
        "X_train, X_test, y_train, y_test = train_test_split(X, y,random_state = 1)\n",
        "pipeline.fit(X_train,y_train)\n",
        "y_pred = pipeline.predict(X_test)"
      ],
      "execution_count": 89,
      "outputs": []
    },
    {
      "cell_type": "code",
      "metadata": {
        "colab": {
          "base_uri": "https://localhost:8080/"
        },
        "id": "PpawjbIfBkaL",
        "outputId": "f32a67c5-da3f-4a85-fb3c-71c9d6c0171d"
      },
      "source": [
        "print(classification_report(y_test,y_pred))"
      ],
      "execution_count": 90,
      "outputs": [
        {
          "output_type": "stream",
          "text": [
            "              precision    recall  f1-score   support\n",
            "\n",
            "         Bad       0.45      0.54      0.49       102\n",
            "        Good       0.72      0.68      0.70       192\n",
            "     Neutral       0.25      0.14      0.18        28\n",
            "\n",
            "    accuracy                           0.59       322\n",
            "   macro avg       0.47      0.45      0.46       322\n",
            "weighted avg       0.59      0.59      0.59       322\n",
            "\n"
          ],
          "name": "stdout"
        }
      ]
    },
    {
      "cell_type": "code",
      "metadata": {
        "colab": {
          "base_uri": "https://localhost:8080/"
        },
        "id": "UWMgg2BjCD7A",
        "outputId": "51d9d6ba-85f5-4c22-eaf4-16b5c85e3967"
      },
      "source": [
        "df_comics['alignment'].value_counts()"
      ],
      "execution_count": 74,
      "outputs": [
        {
          "output_type": "execute_result",
          "data": {
            "text/plain": [
              "Good       743\n",
              "Bad        429\n",
              "Neutral    113\n",
              "Name: alignment, dtype: int64"
            ]
          },
          "metadata": {
            "tags": []
          },
          "execution_count": 74
        }
      ]
    },
    {
      "cell_type": "code",
      "metadata": {
        "id": "7lktZPiiF1Gb"
      },
      "source": [
        "X_train, X_test, y_train, y_test = train_test_split(X, y,random_state = 1,stratify=y)\n",
        "pipeline.fit(X_train,y_train)\n",
        "y_pred = pipeline.predict(X_test)"
      ],
      "execution_count": 91,
      "outputs": []
    },
    {
      "cell_type": "code",
      "metadata": {
        "colab": {
          "base_uri": "https://localhost:8080/"
        },
        "id": "8qysyGUuF7aW",
        "outputId": "c46a5eba-d1f2-4d59-ccee-5ebe4e0b9475"
      },
      "source": [
        "print(classification_report(y_test,y_pred))"
      ],
      "execution_count": 92,
      "outputs": [
        {
          "output_type": "stream",
          "text": [
            "              precision    recall  f1-score   support\n",
            "\n",
            "         Bad       0.53      0.61      0.57       108\n",
            "        Good       0.76      0.67      0.71       186\n",
            "     Neutral       0.15      0.18      0.16        28\n",
            "\n",
            "    accuracy                           0.61       322\n",
            "   macro avg       0.48      0.49      0.48       322\n",
            "weighted avg       0.63      0.61      0.61       322\n",
            "\n"
          ],
          "name": "stdout"
        }
      ]
    },
    {
      "cell_type": "markdown",
      "metadata": {
        "id": "pfm7I2B7_rfB"
      },
      "source": [
        "## 1.3 Entrenamiento con Grid Search [2 Puntos]\n",
        "\n",
        "<p align=\"center\">\n",
        "  <img src=\"https://media1.tenor.com/images/70fdfeea52a8e2e4505498c230a0d2f9/tenor.gif?itemid=5134219\" width=\"250\">\n",
        "</p>"
      ]
    },
    {
      "cell_type": "markdown",
      "metadata": {
        "id": "14siiavzK67p"
      },
      "source": [
        "No conformes con el rendimiento obtenido en la sección 1.2, el cuerpo docente les pide que realicen una búsqueda de grilla de los mejores hiperparámetros utilizando `GridSearchCV`. \n",
        "\n",
        "Para esto, se le solicita que defina al menos 3 configuraciones de hiperparámetros e intente obtener mejores resultados que los obtenidos en la sección anterior. \n",
        "\n",
        "A continuación, un ejemplo de parametros para GridSearch:\n",
        "\n",
        "```python\n",
        "params = [\n",
        "  # esta es la configuración de una busqueda en particular\n",
        "  # con el clasificador classificator1.\n",
        "  # en este caso se entrenará el clasificador 1 con combinaciones de todos los \n",
        "  # parámetros de bow__max_features, bow__ngram_range, clf__n_estimators \n",
        "  # y se seleccionará la mejor combinación.\n",
        "  {\n",
        "  'bow__max_features': [5000, 10000, ...],\n",
        "  'bow__ngram_range': [(1, 1), (1, 2), (1,3)],\n",
        "  ...,\n",
        "  'clf': [classificator1()],\n",
        "  'clf__n_estimators': [200]\n",
        "  },\n",
        "  # esta es la configuración de una busqueda en particular\n",
        "  # con el clasificador classificator2:\n",
        "  {'clf': [classificator2()],\n",
        "   'clf__penalty': ['ovr'],\n",
        "   'clf__multi_class': ['liblinear']\n",
        "  },\n",
        "  # esta es la configuración de una busqueda en particular\n",
        "  # con el clasificador classificator3:\n",
        "  {'clf': [classificator3()]\n",
        "  }\n",
        "             ]\n",
        "```\n",
        "\n",
        "Además, note que puede obtener todos los parámetros configurables de un pipeline invocando sobre este el método `.get_params()`.\n",
        "\n",
        "**Nota:** El GridSearch puede tomar tiempos de búsqueda exorbitantes, por lo que se le recomienda dejar corriendo el código y tomarse un tecito."
      ]
    },
    {
      "cell_type": "code",
      "metadata": {
        "id": "oNvHOHELUoIv"
      },
      "source": [
        "#### Código aquí ####"
      ],
      "execution_count": null,
      "outputs": []
    },
    {
      "cell_type": "markdown",
      "metadata": {
        "id": "A9TXQK3Hi0Kz"
      },
      "source": [
        "#### 1.3.1 Mejor configuración [0.5]\n",
        "\n",
        "Comente cual fue la mejor configuración obtenida por Grid Search y por qué cree que esta fue la mejor."
      ]
    },
    {
      "cell_type": "markdown",
      "metadata": {
        "id": "IzMu7kU_jJsB"
      },
      "source": [
        "Responda aquí"
      ]
    },
    {
      "cell_type": "markdown",
      "metadata": {
        "id": "OmQUw2aZ_6z2"
      },
      "source": [
        "## 1.4 Predicción del datos sin etiquetado\n",
        "\n",
        "<p align=\"center\">\n",
        "  <img src=\"https://pbs.twimg.com/media/DolotxUUYAAbg7f.jpg\" width=\"350\">\n",
        "</p>\n"
      ]
    },
    {
      "cell_type": "markdown",
      "metadata": {
        "id": "Cj0ERBgTBFWN"
      },
      "source": [
        "Llego el momento de predecir cual es la verdadera alineación de `Batcow`. Para esto, deben escoger el mejor pipeline obtenido en las secciones anteriores y predecir la alineación de todos los datos presentes en `df_comics_no_label`.Luego, anexen las alineaciones obtenidas a su correspondiente columna  del dataframe original (atributo `alignment`) y busquen a los flamantes personajes `Batcow`, `Vergil`, y `Gorilla Girl'. Presente los resultados en un `Dataframe`.\n",
        "\n",
        "**Nota:** Recuerde que pueden existir campos vacios en `history_text`, por lo que se les recomienda borrar los nan."
      ]
    },
    {
      "cell_type": "code",
      "metadata": {
        "id": "w-mizeQZaLUY"
      },
      "source": [
        "#### Código aquí ####"
      ],
      "execution_count": null,
      "outputs": []
    },
    {
      "cell_type": "markdown",
      "metadata": {
        "id": "9BF1beoqllTj"
      },
      "source": [
        "### Wordclouds [Opcional- 0,5] \n",
        "\n",
        "Una buena pero informal forma de comunicar los resultados del trabajo con texto es generar Wordclouds. Este tipo de visualizaciones nos informan de forma gráfica cuales son las palabras más frecuentes según el tamaño de estas al ser posicionadas en un lienzo.\n",
        "<center>\n",
        "<img alt='Ejemplo de una Wordcloud de Starwars' src='https://amueller.github.io/word_cloud/_images/sphx_glr_a_new_hope_001.png' width=400/>\n",
        "\n",
        "Ejemplo de una Wordcloud de Starwars\n",
        "\n",
        "</center>\n",
        "Dicho esto, como equipo docente nos encantaría conocer cuales son las palabras que caracterizan tanto a heroes como neutrales y a villanos y cuales son sus principales diferencias. Por esta razón, les pedimos como última tarea generar una wordcloud con las historias de cada personaje según cada alineamiento (clase). Pueden ocupar el dataset completo para esto. \n",
        "\n",
        "\n",
        "**Nota:** Recuerde eliminar las stopwords. Guías completas para generar las wordclouds, eliminar las stopwords y configurar los parámetros de las nubes creadas pueden ser encontradas en su [documentación oficial](https://amueller.github.io/word_cloud/) y en [datacamp](https://www.datacamp.com/community/tutorials/wordcloud-python).\n",
        "\n",
        "\n",
        "\n"
      ]
    },
    {
      "cell_type": "code",
      "metadata": {
        "id": "NBdONTJZnLbd"
      },
      "source": [
        "#### Wordcloud para heroes ####"
      ],
      "execution_count": null,
      "outputs": []
    },
    {
      "cell_type": "code",
      "metadata": {
        "id": "A-IiZ7PXnLfS"
      },
      "source": [
        "#### Wordcloud para neutrales ####"
      ],
      "execution_count": null,
      "outputs": []
    },
    {
      "cell_type": "code",
      "metadata": {
        "id": "jVV1M-osnLnj"
      },
      "source": [
        "#### Wordcloud para villanos ####"
      ],
      "execution_count": null,
      "outputs": []
    },
    {
      "cell_type": "markdown",
      "metadata": {
        "id": "HljnDhRcoK83"
      },
      "source": [
        "Comente las principales diferencias entre las tres wordclouds.\n",
        "¿Hay palabras que caracterizen a los grupos y que no aparezcan en los otros?"
      ]
    },
    {
      "cell_type": "markdown",
      "metadata": {
        "id": "tM1jthVRoY93"
      },
      "source": [
        "---> Comente aquí <---"
      ]
    },
    {
      "cell_type": "markdown",
      "metadata": {
        "id": "Rg4ZMq8ezAH6"
      },
      "source": [
        "# Conclusión\n",
        "Eso ha sido todo para el lab de hoy, recuerden que el laboratorio tiene un plazo de entrega de una semana y que **los días de atraso no se pueden utilizar para entregas de lab, solo para tareas**. Cualquier duda del laboratorio, no duden en contactarnos por mail o U-cursos.\n",
        "\n",
        "<p align=\"center\">\n",
        "  <img src=\"https://media1.tenor.com/images/fb5bf7cc5a4acb91b4177672886a88ba/tenor.gif?itemid=5591338\">\n",
        "</p>"
      ]
    }
  ]
}