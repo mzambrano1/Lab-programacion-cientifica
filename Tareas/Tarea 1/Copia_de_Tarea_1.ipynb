{
  "nbformat": 4,
  "nbformat_minor": 0,
  "metadata": {
    "kernelspec": {
      "display_name": "Python 3",
      "language": "python",
      "name": "python3"
    },
    "language_info": {
      "codemirror_mode": {
        "name": "ipython",
        "version": 3
      },
      "file_extension": ".py",
      "mimetype": "text/x-python",
      "name": "python",
      "nbconvert_exporter": "python",
      "pygments_lexer": "ipython3",
      "version": "3.8.3"
    },
    "toc": {
      "base_numbering": 1,
      "nav_menu": {},
      "number_sections": true,
      "sideBar": true,
      "skip_h1_title": true,
      "title_cell": "Tabla de Contenidos",
      "title_sidebar": "Contenidos",
      "toc_cell": false,
      "toc_position": {
        "height": "calc(100% - 180px)",
        "left": "10px",
        "top": "150px",
        "width": "241.867px"
      },
      "toc_section_display": true,
      "toc_window_display": true
    },
    "varInspector": {
      "cols": {
        "lenName": 16,
        "lenType": 16,
        "lenVar": 40
      },
      "kernels_config": {
        "python": {
          "delete_cmd_postfix": "",
          "delete_cmd_prefix": "del ",
          "library": "var_list.py",
          "varRefreshCmd": "print(var_dic_list())"
        },
        "r": {
          "delete_cmd_postfix": ") ",
          "delete_cmd_prefix": "rm(",
          "library": "var_list.r",
          "varRefreshCmd": "cat(var_dic_list()) "
        }
      },
      "types_to_exclude": [
        "module",
        "function",
        "builtin_function_or_method",
        "instance",
        "_Feature"
      ],
      "window_display": false
    },
    "colab": {
      "name": "Copia de Tarea_1.ipynb",
      "provenance": [],
      "collapsed_sections": [],
      "toc_visible": true
    }
  },
  "cells": [
    {
      "cell_type": "markdown",
      "metadata": {
        "id": "XUZ1dFPHzAHl"
      },
      "source": [
        "<h1><center>Tarea 1: Roja o Azul</center></h1>\n",
        "\n",
        "<center><strong>MDS7202: Laboratorio de Programación Científica para Ciencia de Datos</strong></center>"
      ]
    },
    {
      "cell_type": "markdown",
      "metadata": {
        "id": "UD8X1uhGzAHq"
      },
      "source": [
        "### Cuerpo Docente:\n",
        "\n",
        "- Profesor: Pablo Badilla\n",
        "- Auxiliar: Ignacio Meza D.\n",
        "- Ayudante: Diego Irarrázaval"
      ]
    },
    {
      "cell_type": "markdown",
      "metadata": {
        "id": "tXflExjqzAHr"
      },
      "source": [
        "### Equipo: SUPER IMPORTANTE - notebooks sin nombre no serán revisados\n",
        "\n",
        "- Nombre de alumno 1: Joaquín Ortega \n",
        "- Nombre de alumno 2: María José Zambrano\n"
      ]
    },
    {
      "cell_type": "markdown",
      "metadata": {
        "id": "AD-V0bbZzAHr"
      },
      "source": [
        "### **Link de repositorio de GitHub:** [https://github.com/mzambrano1/Lab-programacion-cientifica](https://github.com/mzambrano1/Lab-programacion-cientifica)\n",
        "\n",
        "\n",
        "\n",
        "\n"
      ]
    },
    {
      "cell_type": "markdown",
      "metadata": {
        "id": "6uBLPj1PzAHs"
      },
      "source": [
        "# Temas a tratar\n",
        "\n",
        "- Programación orientada a objetos.\n",
        "- Manejo de datos en arreglos/tensores con `Numpy`.\n",
        "- Análisis exploratorio de datos con `Pandas`\n",
        "- Preprocesamiento con `Scikit-learn`.\n",
        "- Composición de preprocesadores con Pipelines.\n",
        "\n",
        "## Reglas:\n",
        "\n",
        "- Fecha de entrega: Descrita en U-cursos\n",
        "- **Grupos de 2 personas**\n",
        "- Cualquier duda fuera del horario de clases al foro. Mensajes al equipo docente serán respondidos por este medio.\n",
        "- Prohibidas las copias. \n",
        "- Pueden usar cualquier material del curso que estimen conveniente.\n",
        "\n"
      ]
    },
    {
      "cell_type": "markdown",
      "metadata": {
        "id": "wrG4gYabzAHs"
      },
      "source": [
        "# Descripción del tarea (LEER ESTO).\n",
        "\n",
        "En el presente notebook se presentan dos problemas, uno de **Segmentación de clientes en tiendas de retail** y otro enfocado en el **Análisis de temperaturas**. Producto de la larga extensión que podría significar la realización de los dos problemas, para efectos de esta tarea deben escoger **SOLAMENTE UNA** sección para desarrollar. Si desea puede borrar la pregunta que no realizará.\n",
        "\n",
        "<p align=\"center\">\n",
        "  <img src=\"https://media1.giphy.com/media/ikwWGan6JZMo7bbf5L/giphy.gif?cid=790b761140b82e1c3d6754790ef49d96e8406bdac2f36d6f&rid=giphy.gif&ct=g\">\n",
        "</p>\n",
        "\n",
        "\n"
      ]
    },
    {
      "cell_type": "markdown",
      "metadata": {
        "id": "MhISwri4zAHy"
      },
      "source": [
        "#Importamos librerias utiles 😸"
      ]
    },
    {
      "cell_type": "code",
      "metadata": {
        "ExecuteTime": {
          "end_time": "2021-03-29T00:08:16.884674Z",
          "start_time": "2021-03-29T00:08:16.349846Z"
        },
        "id": "uyc33dKdzAHy"
      },
      "source": [
        "# Libreria Core del lab.\n",
        "import numpy as np\n",
        "import pandas as pd\n",
        "import datetime\n",
        "from IPython.display import HTML\n",
        "\n",
        "# Libreria para plotear (En colab esta desactualizado plotly)\n",
        "!pip install --upgrade plotly\n",
        "import plotly.express as px\n",
        "\n",
        "# Librerias utiles\n",
        "from sklearn.preprocessing import StandardScaler\n",
        "from sklearn.cluster import KMeans\n",
        "from sklearn.base import BaseEstimator, TransformerMixin\n",
        "from sklearn.tree import DecisionTreeRegressor\n",
        "from sklearn.model_selection import train_test_split \n",
        "from sklearn.metrics import r2_score \n",
        "from sklearn.pipeline import Pipeline\n",
        "from sklearn.compose import ColumnTransformer\n",
        "from sklearn.preprocessing import MinMaxScaler\n",
        "from sklearn.preprocessing import FunctionTransformer\n",
        "from sklearn.preprocessing import PowerTransformer\n",
        "from sklearn.preprocessing import OneHotEncoder"
      ],
      "execution_count": null,
      "outputs": []
    },
    {
      "cell_type": "markdown",
      "metadata": {
        "id": "QDwIXTh7bK_A"
      },
      "source": [
        "----\n",
        "\n",
        "# 1 Segmentación de Clientes en Tienda de Retail 🛍️"
      ]
    },
    {
      "cell_type": "code",
      "metadata": {
        "colab": {
          "base_uri": "https://localhost:8080/",
          "height": 352
        },
        "id": "kUWamMFJ4CV1",
        "outputId": "925b195e-e582-45b6-f290-ac02ddbd73db"
      },
      "source": [
        "HTML('<p align=\"center\"><iframe width=\"560\" height=\"315\" src=\"https://www.youtube.com/embed/MW4d8_LLYp8?rel=0&amp;controls=0&amp;showinfo=0\" frameborder=\"1\" allowfullscreen></iframe></p>')"
      ],
      "execution_count": null,
      "outputs": [
        {
          "output_type": "execute_result",
          "data": {
            "text/html": [
              "<p align=\"center\"><iframe width=\"560\" height=\"315\" src=\"https://www.youtube.com/embed/MW4d8_LLYp8?rel=0&amp;controls=0&amp;showinfo=0\" frameborder=\"1\" allowfullscreen></iframe></p>"
            ],
            "text/plain": [
              "<IPython.core.display.HTML object>"
            ]
          },
          "metadata": {
            "tags": []
          },
          "execution_count": 8
        }
      ]
    },
    {
      "cell_type": "markdown",
      "metadata": {
        "id": "x5-jr3vQ4SaC"
      },
      "source": [
        "## 1.1 Cargar Dataset [Sin puntos]\n",
        "\n",
        "<p align=\"center\">\n",
        "  <img width=300 src=\"https://s1.eestatic.com/2018/04/14/social/la_jungla_-_social_299733421_73842361_854x640.jpg\">\n",
        "</p>\n"
      ]
    },
    {
      "cell_type": "markdown",
      "metadata": {
        "id": "crOqRI265hjo"
      },
      "source": [
        "*Mr. Lepin Mora* quien es el gerente de una cotizada tienda de retail en Europa, les solicita si pueden analizar los datos de algunas de sus tiendas y si es posible extraer los diferenciar los tipos de clientes que posee el retail. \n",
        "\n",
        "Para esto, el área de ventas les entrega el archivo ```online_retail_II.xlsx``` con el que se les pide que cargue y visualicen algunas de las filas que componen el Dataset.\n",
        "\n",
        "De la primera visualización de los datos, señale los atributos que componen el dataset."
      ]
    },
    {
      "cell_type": "code",
      "metadata": {
        "id": "neidILFbuh-4"
      },
      "source": [
        "#########################\n",
        "    Código Aquí\n",
        "#########################"
      ],
      "execution_count": null,
      "outputs": []
    },
    {
      "cell_type": "markdown",
      "metadata": {
        "id": "Rcjs-dd1V-1u"
      },
      "source": [
        "## 1.2 Análisis Exploratorio de Datos [1 Punto]\n",
        "\n",
        "En base a la primera visualización del dataset, *Don Mora* le solicita que realicen un análisis exploratorio de los datos, para esto les da **total libertad** para la revisión. De la revisión, ustedes deben explicar potenciales anomalías visualizadas y señalar si existe la necesidad de realizar una limpieza de datos.\n"
      ]
    },
    {
      "cell_type": "code",
      "metadata": {
        "id": "f2fAIsmIv8jP"
      },
      "source": [
        "#########################\n",
        "    Código Aquí\n",
        "#########################"
      ],
      "execution_count": null,
      "outputs": []
    },
    {
      "cell_type": "markdown",
      "metadata": {
        "id": "ZH69XTVXcWOA"
      },
      "source": [
        "**Justifique:**"
      ]
    },
    {
      "cell_type": "markdown",
      "metadata": {
        "id": "drBazVljcYGA"
      },
      "source": [
        "```\n",
        "Escriba aquí su justificación\n",
        "```"
      ]
    },
    {
      "cell_type": "markdown",
      "metadata": {
        "id": "n1NZTGiDy2Ye"
      },
      "source": [
        "## 1.3 Primeras Visualizaciones [0,5 Puntos]"
      ]
    },
    {
      "cell_type": "markdown",
      "metadata": {
        "id": "dkyp81nkBghF"
      },
      "source": [
        "### 1.3.1 Obtención de TOPs "
      ]
    },
    {
      "cell_type": "markdown",
      "metadata": {
        "id": "FqWpKnmn6W0y"
      },
      "source": [
        "Sin considerar los comentarios realizados en la sección 1.2, se les pide obtener el **Top de 30 productos más vendidos** y el **Top de 30 productos que generan más ganancias** para la tienda de retail. Deben considerar todo el registro temporal presente en el dataset y entregar la información en un gráfico de barras (Utilice `plotly`). ¿Los artículos más vendidos son los mismos que generan más ganancias?, Comente."
      ]
    },
    {
      "cell_type": "code",
      "metadata": {
        "id": "ukR80TJTyG1j"
      },
      "source": [
        "#########################\n",
        "    Código Aquí\n",
        "#########################"
      ],
      "execution_count": null,
      "outputs": []
    },
    {
      "cell_type": "markdown",
      "metadata": {
        "id": "ZVVkZ5wCzrWh"
      },
      "source": [
        "**Justifique:**"
      ]
    },
    {
      "cell_type": "markdown",
      "metadata": {
        "id": "dy4iNwEIzsG2"
      },
      "source": [
        "```\n",
        "Escriba aquí su justificación\n",
        "```"
      ]
    },
    {
      "cell_type": "markdown",
      "metadata": {
        "id": "L2bnF6f0yOnC"
      },
      "source": [
        "### 1.3.2 Visualización del registro temporal "
      ]
    },
    {
      "cell_type": "markdown",
      "metadata": {
        "id": "wco_JAO1f7T_"
      },
      "source": [
        "El dueño del retail en su afán por saber más sobre los datos de su firma les solicita que grafiquen las ventas respecto al tiempo. Con esto les aclara que durante el día tienen muchas variaciones en sus ventas, por lo que les recomienda que consideren el registro temporal como `año-mes-día`. ¿Es posible observar datos extraños?, Comente lo que observa del gráfico.\n",
        "\n",
        "**Hint**: Para realizar esta task generen una función (quizás en el futuro les sea necesario 😮)."
      ]
    },
    {
      "cell_type": "code",
      "metadata": {
        "id": "SBr7gQOAkmGV"
      },
      "source": [
        "#########################\n",
        "    Código Aquí\n",
        "#########################"
      ],
      "execution_count": null,
      "outputs": []
    },
    {
      "cell_type": "markdown",
      "metadata": {
        "id": "zAqfng3Zz--G"
      },
      "source": [
        "**Justifique:**"
      ]
    },
    {
      "cell_type": "markdown",
      "metadata": {
        "id": "WRXqC9hcz_0T"
      },
      "source": [
        "```\n",
        "Escriba aquí su justificación\n",
        "```"
      ]
    },
    {
      "cell_type": "markdown",
      "metadata": {
        "id": "THmFfYs1AhAW"
      },
      "source": [
        "## 1.4 Limpieza de Datos [1,5 Puntos]\n",
        "Como pudo ver en 1.1, 1.2 y 1.3 los datos presentan valores \"extraños\", es por esto que se le solicita que realice una **función** que permita **limpiar el dataset**. Realice esta función en base observaciones propias y justifique su elección.\n",
        "\n",
        "Una vez realizada la función, **grafique nuevamente** el registro de ventas en el tiempo. ¿Es posible ver cambios?, Comente que observa."
      ]
    },
    {
      "cell_type": "code",
      "metadata": {
        "id": "6P9mTl4c2ent"
      },
      "source": [
        "#########################\n",
        "    Código Aquí\n",
        "#########################"
      ],
      "execution_count": null,
      "outputs": []
    },
    {
      "cell_type": "markdown",
      "metadata": {
        "id": "3OTtXZlP04VH"
      },
      "source": [
        "**Justificación de la limpieza:**"
      ]
    },
    {
      "cell_type": "markdown",
      "metadata": {
        "id": "rS3oGrlX06E3"
      },
      "source": [
        "```\n",
        "Escriba aquí su justificación\n",
        "```"
      ]
    },
    {
      "cell_type": "markdown",
      "metadata": {
        "id": "auJeF2YfGhZJ"
      },
      "source": [
        "**Comentarios sobre el gráfico:**"
      ]
    },
    {
      "cell_type": "markdown",
      "metadata": {
        "id": "3WTMfG9-Gl53"
      },
      "source": [
        "```\n",
        "Escriba aquí su justificación\n",
        "```"
      ]
    },
    {
      "cell_type": "markdown",
      "metadata": {
        "id": "wBirPKzpmLTF"
      },
      "source": [
        "### 1.4.1 Gráfico"
      ]
    },
    {
      "cell_type": "markdown",
      "metadata": {
        "id": "HnubWVrJ0bEI"
      },
      "source": [
        "**Justifique:**"
      ]
    },
    {
      "cell_type": "markdown",
      "metadata": {
        "id": "c6_j0KAal_Pz"
      },
      "source": [
        "```\n",
        "Escriba aquí su justificación\n",
        "```"
      ]
    },
    {
      "cell_type": "markdown",
      "metadata": {
        "id": "glCueKKBBSio"
      },
      "source": [
        "## 1.5 Creación de nuevas Caracteristicas [1.5 Puntos] "
      ]
    },
    {
      "cell_type": "markdown",
      "metadata": {
        "id": "O4ULhIsLaI2I"
      },
      "source": [
        "El area de ventas le comenta que existe una metodologia especial para realizar la segmentación de clientes, esta recive como nombre **LRMFP** y cada una de sus siglas se define como:\n",
        "\n",
        "- Length (L): Intervalo de tiempo, en días, entre la primera y la última visita del cliente. Mientras mas grande sea el valor, mas fiel es el cliente.\n",
        "- Recency (R): Indica la actualidad de la interacción de un cliente con la empresa, y da información sobre la tendencia a repetir la compra. Se define como: \n",
        "$$Recency(n)=\\dfrac{1}{n} \\sum^n_{i=1} date\\_diff(t_{fecha final}, t_{m-i+1})$$\n",
        "\n",
        " Donde $date\\_diff$ representa la diferencia en días entre la fecha de finalización del periodo de observación ($t_{fecha final}$), y la fecha de una visita del cliente cercana a $t_{fecha final}$, t_{m-i+1}; t_{m} es la última visita del cliente; y n es el número de visitas recientes del cliente consideradas.\n",
        "\n",
        "- Monetary (M): El término \"monetario\" se refiere a la cantidad media de dinero gastada por cada visita del cliente durante el período de observación y refleja la contribución del cliente a los ingresos de la empresa.\n",
        "\n",
        "- Frequency (F): Se refiere al número total de visitas del cliente durante el periodo de observación. Cuanto mayor sea la frecuencia, mayor será la fidelidad del cliente. \n",
        "\n",
        "- Periodicity (P): Representa si los clientes visitan las tiendas con regularidad.\n",
        "\n",
        "$$Periodicity(n)=std(IVT_1, ..., IVT_n)$$\n",
        "\n",
        "&nbsp;&nbsp; &nbsp;&nbsp;&nbsp;&nbsp;&nbsp;&nbsp;Donde $IVT$ denota el tiempo entre visitas y n representa el número de valores de tiempo entre visitas de un cliente.\n",
        " \n",
        "\n",
        "$$IVT_i=date\\_diff(t_{i+1},t)$$\n",
        "\n",
        "Diseñe una función que permita obtener las caracteristicas **LRMFP**. Para esto, no estará permitido el uso de iteradores, utilice todas las herramientas que les ofrece `pandas` para realizar esto. \n",
        "\n",
        "Una referencia interesante es [documento original](https://www.researchgate.net/publication/315979555_LRFMP_model_for_customer_segmentation_in_the_grocery_retail_industry_a_case_study) en donde se propone este método.\n"
      ]
    },
    {
      "cell_type": "code",
      "metadata": {
        "id": "cYRgTSCoa0Gi"
      },
      "source": [
        "#########################\n",
        "    Código Aquí\n",
        "#########################"
      ],
      "execution_count": null,
      "outputs": []
    },
    {
      "cell_type": "markdown",
      "metadata": {
        "id": "c1LR0it1crcQ"
      },
      "source": [
        "**Ejemplo de resultado Esperado:**"
      ]
    },
    {
      "cell_type": "markdown",
      "metadata": {
        "id": "a3UCIgqa2CNd"
      },
      "source": [
        "| Customer ID | Length | Recency | Frequency | Monetary | Periodicity |\n",
        "|------------:|-------:|--------:|----------:|---------:|------------:|\n",
        "|   12346.0   |    294 |      67 |        46 |   -64.68 |        37.0 |\n",
        "|   12347.0   |     37 |       3 |        71 |  1323.32 |         0.0 |\n",
        "|   12349.0   |    327 |      43 |       107 |  2646.99 |        78.0 |\n",
        "|   12352.0   |     16 |      11 |        18 |   343.80 |         0.0 |\n",
        "|   12356.0   |     44 |      16 |        84 |  3562.25 |        12.0 |"
      ]
    },
    {
      "cell_type": "markdown",
      "metadata": {
        "id": "wd-pwJA2c6ms"
      },
      "source": [
        "## 1.5.1 Visualización de información y Outliers [0,5]"
      ]
    },
    {
      "cell_type": "markdown",
      "metadata": {
        "id": "jwK2V3FSnIaG"
      },
      "source": [
        "Visualice las diferenes caracteristicas obtenidas y comente que observa de ellas. ¿Es posible observar valores anómalos?. Proponga un mecanísmo sencillo para solucionar este problema (NO LO IMPLEMENTE)."
      ]
    },
    {
      "cell_type": "markdown",
      "metadata": {
        "id": "sToo8VyV6lDm"
      },
      "source": [
        "**Justifique:**"
      ]
    },
    {
      "cell_type": "markdown",
      "metadata": {
        "id": "ccx4QbZD6mL1"
      },
      "source": [
        "```\n",
        "Escriba aquí su justificación\n",
        "```"
      ]
    },
    {
      "cell_type": "markdown",
      "metadata": {
        "id": "f03gxgZ_6cOm"
      },
      "source": [
        "### 1.5.1.1 Implementación del filtro de outliers [Bonus - 0,5 puntos]\n",
        "\n",
        "Implemente el filtro de outliers como un [Transformer](https://scikit-learn.org/stable/modules/generated/sklearn.preprocessing.FunctionTransformer.html) de `Scikit-learn`."
      ]
    },
    {
      "cell_type": "code",
      "metadata": {
        "id": "Up53HXvi6fDS"
      },
      "source": [
        "#########################\n",
        "    Código Aquí\n",
        "#########################"
      ],
      "execution_count": null,
      "outputs": []
    },
    {
      "cell_type": "markdown",
      "metadata": {
        "id": "TrKqpDimBqwL"
      },
      "source": [
        "## 1.6 Segmentación [1 Punto]\n",
        "\n"
      ]
    },
    {
      "cell_type": "markdown",
      "metadata": {
        "id": "ib3am9JA7nMQ"
      },
      "source": [
        "Finalmente *Don Mora* le pregunta si seria posible realizar una segmentación de los clientes con los nuevos datos generados, a lo que usted responde que **sí** y propone la utilización de Clusters para la segmentación.\n",
        "\n",
        "A continuación siga los pasos requeridos para obtener la segmentación de clientes."
      ]
    },
    {
      "cell_type": "markdown",
      "metadata": {
        "id": "LtaCIrvAgvxL"
      },
      "source": [
        "### 1.6.1 Estandarizar Caracteristicas"
      ]
    },
    {
      "cell_type": "markdown",
      "metadata": {
        "id": "s09o1ew8cDc3"
      },
      "source": [
        "Construya una función que nos permita estandarizar los atributos generados anteriormente. Para esto recuerde que una estandarización basica es:\n",
        "\n",
        "$$Z = \\dfrac{x-\\mu}{s}$$\n",
        "\n",
        "Con esto buscamos que cada atributo tenga un $\\mu$ igual a 0 y una $\\sigma$ igual a 1 (compruebe esto)."
      ]
    },
    {
      "cell_type": "code",
      "metadata": {
        "id": "C9Tc6dnSdX1l"
      },
      "source": [
        "#########################\n",
        "    Código Aquí\n",
        "#########################"
      ],
      "execution_count": null,
      "outputs": []
    },
    {
      "cell_type": "markdown",
      "metadata": {
        "id": "uITz_RYLnZJl"
      },
      "source": [
        "**Comprobación:**"
      ]
    },
    {
      "cell_type": "code",
      "metadata": {
        "colab": {
          "base_uri": "https://localhost:8080/"
        },
        "id": "gK-1zCz1hpQw",
        "outputId": "955c02dd-d10f-440c-99f1-1719683124f8"
      },
      "source": [
        "print(\"Promedio: \\n\",ccustomers.mean(),\"\\n\")\n",
        "print(\"Desviación estandar: \\n\",ccustomers.std())"
      ],
      "execution_count": null,
      "outputs": [
        {
          "output_type": "stream",
          "text": [
            "Promedio: \n",
            " Length         6.770260e-17\n",
            "Recency        2.733733e-17\n",
            "Frequency     -1.794012e-17\n",
            "Monetary       3.467400e-16\n",
            "Periodicity   -8.144246e-17\n",
            "dtype: float64 \n",
            "\n",
            "Desviación estandar: \n",
            " Length         1.0\n",
            "Recency        1.0\n",
            "Frequency      1.0\n",
            "Monetary       1.0\n",
            "Periodicity    1.0\n",
            "dtype: float64\n"
          ],
          "name": "stdout"
        }
      ]
    },
    {
      "cell_type": "markdown",
      "metadata": {
        "id": "RvG6MecDiDg_"
      },
      "source": [
        "### 1.6.2 Clustering"
      ]
    },
    {
      "cell_type": "markdown",
      "metadata": {
        "id": "mc8uvmpF8MiK"
      },
      "source": [
        "Estandarizados los datos un compañero de trabajo les facilita un Código para evaluar la cantidad de cluster óptimos para separar los datos. (Otra forma seria revisando la Silhoutte).\n",
        "\n",
        "En esta parte solo se le pedirá reemplazar la variable ```ccustomers``` por la del dataframe estandarizado."
      ]
    },
    {
      "cell_type": "code",
      "metadata": {
        "id": "WeuMq-j4HqCw",
        "colab": {
          "base_uri": "https://localhost:8080/",
          "height": 542
        },
        "outputId": "7e7be34a-7f19-41c3-f3f0-2075af76c7d0"
      },
      "source": [
        "# Usamos metodo del codo para escoger el k que mejor ajusta el cluster.\n",
        "elbow = pd.DataFrame(columns=['SSE','k'])\n",
        "for k in range(1, 21):\n",
        "    kmeans = KMeans(n_clusters=k, random_state=42)\n",
        "    kmeans.fit(ccustomers)\n",
        "    elbow = elbow.append({'SSE': kmeans.inertia_, 'k': k}, ignore_index=True)\n",
        "\n",
        "# Son ploteados los Resultados\n",
        "fig = go.Figure(data=[\n",
        "    go.Scatter(x = elbow.k, y=elbow.SSE, mode='lines'),\n",
        "    go.Scatter(x = elbow.k, y=elbow.SSE, mode='markers')\n",
        "])\n",
        "\n",
        "fig.update_layout(title=\"Evaluación de los Clusters (Metodo del Codo):\",\n",
        "                 xaxis_title = \"Numero de Clusters:\",\n",
        "                 yaxis_title = \"SSE\",\n",
        "                 showlegend=False)\n",
        "fig.show()"
      ],
      "execution_count": null,
      "outputs": [
        {
          "output_type": "display_data",
          "data": {
            "text/html": [
              "<html>\n",
              "<head><meta charset=\"utf-8\" /></head>\n",
              "<body>\n",
              "    <div>            <script src=\"https://cdnjs.cloudflare.com/ajax/libs/mathjax/2.7.5/MathJax.js?config=TeX-AMS-MML_SVG\"></script><script type=\"text/javascript\">if (window.MathJax) {MathJax.Hub.Config({SVG: {font: \"STIX-Web\"}});}</script>                <script type=\"text/javascript\">window.PlotlyConfig = {MathJaxConfig: 'local'};</script>\n",
              "        <script src=\"https://cdn.plot.ly/plotly-latest.min.js\"></script>                <div id=\"58ca0bb1-dd7f-4ee8-847e-057bb306c465\" class=\"plotly-graph-div\" style=\"height:525px; width:100%;\"></div>            <script type=\"text/javascript\">                                    window.PLOTLYENV=window.PLOTLYENV || {};                                    if (document.getElementById(\"58ca0bb1-dd7f-4ee8-847e-057bb306c465\")) {                    Plotly.newPlot(                        \"58ca0bb1-dd7f-4ee8-847e-057bb306c465\",                        [{\"mode\": \"lines\", \"type\": \"scatter\", \"x\": [1.0, 2.0, 3.0, 4.0, 5.0, 6.0, 7.0, 8.0, 9.0, 10.0, 11.0, 12.0, 13.0, 14.0, 15.0, 16.0, 17.0, 18.0, 19.0, 20.0], \"y\": [15590.00000000001, 11506.753807355582, 8818.543189661917, 7360.414198696613, 5771.158279759606, 4738.408100848937, 4135.546760865216, 3697.505226557867, 3360.8953235896197, 3056.866551513167, 2822.779137793811, 2617.8286667595667, 2456.5156542136065, 2329.845668118756, 2228.0534331632525, 2100.6216860843415, 2009.2215112402969, 1888.1678911239708, 1803.2954264525383, 1702.6260733104805]}, {\"mode\": \"markers\", \"type\": \"scatter\", \"x\": [1.0, 2.0, 3.0, 4.0, 5.0, 6.0, 7.0, 8.0, 9.0, 10.0, 11.0, 12.0, 13.0, 14.0, 15.0, 16.0, 17.0, 18.0, 19.0, 20.0], \"y\": [15590.00000000001, 11506.753807355582, 8818.543189661917, 7360.414198696613, 5771.158279759606, 4738.408100848937, 4135.546760865216, 3697.505226557867, 3360.8953235896197, 3056.866551513167, 2822.779137793811, 2617.8286667595667, 2456.5156542136065, 2329.845668118756, 2228.0534331632525, 2100.6216860843415, 2009.2215112402969, 1888.1678911239708, 1803.2954264525383, 1702.6260733104805]}],                        {\"showlegend\": false, \"template\": {\"data\": {\"bar\": [{\"error_x\": {\"color\": \"#2a3f5f\"}, \"error_y\": {\"color\": \"#2a3f5f\"}, \"marker\": {\"line\": {\"color\": \"#E5ECF6\", \"width\": 0.5}}, \"type\": \"bar\"}], \"barpolar\": [{\"marker\": {\"line\": {\"color\": \"#E5ECF6\", \"width\": 0.5}}, \"type\": \"barpolar\"}], \"carpet\": [{\"aaxis\": {\"endlinecolor\": \"#2a3f5f\", \"gridcolor\": \"white\", \"linecolor\": \"white\", \"minorgridcolor\": \"white\", \"startlinecolor\": \"#2a3f5f\"}, \"baxis\": {\"endlinecolor\": \"#2a3f5f\", \"gridcolor\": \"white\", \"linecolor\": \"white\", \"minorgridcolor\": \"white\", \"startlinecolor\": \"#2a3f5f\"}, \"type\": \"carpet\"}], \"choropleth\": [{\"colorbar\": {\"outlinewidth\": 0, \"ticks\": \"\"}, \"type\": \"choropleth\"}], \"contour\": [{\"colorbar\": {\"outlinewidth\": 0, \"ticks\": \"\"}, \"colorscale\": [[0.0, \"#0d0887\"], [0.1111111111111111, \"#46039f\"], [0.2222222222222222, \"#7201a8\"], [0.3333333333333333, \"#9c179e\"], [0.4444444444444444, \"#bd3786\"], [0.5555555555555556, \"#d8576b\"], [0.6666666666666666, \"#ed7953\"], [0.7777777777777778, \"#fb9f3a\"], [0.8888888888888888, \"#fdca26\"], [1.0, \"#f0f921\"]], \"type\": \"contour\"}], \"contourcarpet\": [{\"colorbar\": {\"outlinewidth\": 0, \"ticks\": \"\"}, \"type\": \"contourcarpet\"}], \"heatmap\": [{\"colorbar\": {\"outlinewidth\": 0, \"ticks\": \"\"}, \"colorscale\": [[0.0, \"#0d0887\"], [0.1111111111111111, \"#46039f\"], [0.2222222222222222, \"#7201a8\"], [0.3333333333333333, \"#9c179e\"], [0.4444444444444444, \"#bd3786\"], [0.5555555555555556, \"#d8576b\"], [0.6666666666666666, \"#ed7953\"], [0.7777777777777778, \"#fb9f3a\"], [0.8888888888888888, \"#fdca26\"], [1.0, \"#f0f921\"]], \"type\": \"heatmap\"}], \"heatmapgl\": [{\"colorbar\": {\"outlinewidth\": 0, \"ticks\": \"\"}, \"colorscale\": [[0.0, \"#0d0887\"], [0.1111111111111111, \"#46039f\"], [0.2222222222222222, \"#7201a8\"], [0.3333333333333333, \"#9c179e\"], [0.4444444444444444, \"#bd3786\"], [0.5555555555555556, \"#d8576b\"], [0.6666666666666666, \"#ed7953\"], [0.7777777777777778, \"#fb9f3a\"], [0.8888888888888888, \"#fdca26\"], [1.0, \"#f0f921\"]], \"type\": \"heatmapgl\"}], \"histogram\": [{\"marker\": {\"colorbar\": {\"outlinewidth\": 0, \"ticks\": \"\"}}, \"type\": \"histogram\"}], \"histogram2d\": [{\"colorbar\": {\"outlinewidth\": 0, \"ticks\": \"\"}, \"colorscale\": [[0.0, \"#0d0887\"], [0.1111111111111111, \"#46039f\"], [0.2222222222222222, \"#7201a8\"], [0.3333333333333333, \"#9c179e\"], [0.4444444444444444, \"#bd3786\"], [0.5555555555555556, \"#d8576b\"], [0.6666666666666666, \"#ed7953\"], [0.7777777777777778, \"#fb9f3a\"], [0.8888888888888888, \"#fdca26\"], [1.0, \"#f0f921\"]], \"type\": \"histogram2d\"}], \"histogram2dcontour\": [{\"colorbar\": {\"outlinewidth\": 0, \"ticks\": \"\"}, \"colorscale\": [[0.0, \"#0d0887\"], [0.1111111111111111, \"#46039f\"], [0.2222222222222222, \"#7201a8\"], [0.3333333333333333, \"#9c179e\"], [0.4444444444444444, \"#bd3786\"], [0.5555555555555556, \"#d8576b\"], [0.6666666666666666, \"#ed7953\"], [0.7777777777777778, \"#fb9f3a\"], [0.8888888888888888, \"#fdca26\"], [1.0, \"#f0f921\"]], \"type\": \"histogram2dcontour\"}], \"mesh3d\": [{\"colorbar\": {\"outlinewidth\": 0, \"ticks\": \"\"}, \"type\": \"mesh3d\"}], \"parcoords\": [{\"line\": {\"colorbar\": {\"outlinewidth\": 0, \"ticks\": \"\"}}, \"type\": \"parcoords\"}], \"pie\": [{\"automargin\": true, \"type\": \"pie\"}], \"scatter\": [{\"marker\": {\"colorbar\": {\"outlinewidth\": 0, \"ticks\": \"\"}}, \"type\": \"scatter\"}], \"scatter3d\": [{\"line\": {\"colorbar\": {\"outlinewidth\": 0, \"ticks\": \"\"}}, \"marker\": {\"colorbar\": {\"outlinewidth\": 0, \"ticks\": \"\"}}, \"type\": \"scatter3d\"}], \"scattercarpet\": [{\"marker\": {\"colorbar\": {\"outlinewidth\": 0, \"ticks\": \"\"}}, \"type\": \"scattercarpet\"}], \"scattergeo\": [{\"marker\": {\"colorbar\": {\"outlinewidth\": 0, \"ticks\": \"\"}}, \"type\": \"scattergeo\"}], \"scattergl\": [{\"marker\": {\"colorbar\": {\"outlinewidth\": 0, \"ticks\": \"\"}}, \"type\": \"scattergl\"}], \"scattermapbox\": [{\"marker\": {\"colorbar\": {\"outlinewidth\": 0, \"ticks\": \"\"}}, \"type\": \"scattermapbox\"}], \"scatterpolar\": [{\"marker\": {\"colorbar\": {\"outlinewidth\": 0, \"ticks\": \"\"}}, \"type\": \"scatterpolar\"}], \"scatterpolargl\": [{\"marker\": {\"colorbar\": {\"outlinewidth\": 0, \"ticks\": \"\"}}, \"type\": \"scatterpolargl\"}], \"scatterternary\": [{\"marker\": {\"colorbar\": {\"outlinewidth\": 0, \"ticks\": \"\"}}, \"type\": \"scatterternary\"}], \"surface\": [{\"colorbar\": {\"outlinewidth\": 0, \"ticks\": \"\"}, \"colorscale\": [[0.0, \"#0d0887\"], [0.1111111111111111, \"#46039f\"], [0.2222222222222222, \"#7201a8\"], [0.3333333333333333, \"#9c179e\"], [0.4444444444444444, \"#bd3786\"], [0.5555555555555556, \"#d8576b\"], [0.6666666666666666, \"#ed7953\"], [0.7777777777777778, \"#fb9f3a\"], [0.8888888888888888, \"#fdca26\"], [1.0, \"#f0f921\"]], \"type\": \"surface\"}], \"table\": [{\"cells\": {\"fill\": {\"color\": \"#EBF0F8\"}, \"line\": {\"color\": \"white\"}}, \"header\": {\"fill\": {\"color\": \"#C8D4E3\"}, \"line\": {\"color\": \"white\"}}, \"type\": \"table\"}]}, \"layout\": {\"annotationdefaults\": {\"arrowcolor\": \"#2a3f5f\", \"arrowhead\": 0, \"arrowwidth\": 1}, \"autotypenumbers\": \"strict\", \"coloraxis\": {\"colorbar\": {\"outlinewidth\": 0, \"ticks\": \"\"}}, \"colorscale\": {\"diverging\": [[0, \"#8e0152\"], [0.1, \"#c51b7d\"], [0.2, \"#de77ae\"], [0.3, \"#f1b6da\"], [0.4, \"#fde0ef\"], [0.5, \"#f7f7f7\"], [0.6, \"#e6f5d0\"], [0.7, \"#b8e186\"], [0.8, \"#7fbc41\"], [0.9, \"#4d9221\"], [1, \"#276419\"]], \"sequential\": [[0.0, \"#0d0887\"], [0.1111111111111111, \"#46039f\"], [0.2222222222222222, \"#7201a8\"], [0.3333333333333333, \"#9c179e\"], [0.4444444444444444, \"#bd3786\"], [0.5555555555555556, \"#d8576b\"], [0.6666666666666666, \"#ed7953\"], [0.7777777777777778, \"#fb9f3a\"], [0.8888888888888888, \"#fdca26\"], [1.0, \"#f0f921\"]], \"sequentialminus\": [[0.0, \"#0d0887\"], [0.1111111111111111, \"#46039f\"], [0.2222222222222222, \"#7201a8\"], [0.3333333333333333, \"#9c179e\"], [0.4444444444444444, \"#bd3786\"], [0.5555555555555556, \"#d8576b\"], [0.6666666666666666, \"#ed7953\"], [0.7777777777777778, \"#fb9f3a\"], [0.8888888888888888, \"#fdca26\"], [1.0, \"#f0f921\"]]}, \"colorway\": [\"#636efa\", \"#EF553B\", \"#00cc96\", \"#ab63fa\", \"#FFA15A\", \"#19d3f3\", \"#FF6692\", \"#B6E880\", \"#FF97FF\", \"#FECB52\"], \"font\": {\"color\": \"#2a3f5f\"}, \"geo\": {\"bgcolor\": \"white\", \"lakecolor\": \"white\", \"landcolor\": \"#E5ECF6\", \"showlakes\": true, \"showland\": true, \"subunitcolor\": \"white\"}, \"hoverlabel\": {\"align\": \"left\"}, \"hovermode\": \"closest\", \"mapbox\": {\"style\": \"light\"}, \"paper_bgcolor\": \"white\", \"plot_bgcolor\": \"#E5ECF6\", \"polar\": {\"angularaxis\": {\"gridcolor\": \"white\", \"linecolor\": \"white\", \"ticks\": \"\"}, \"bgcolor\": \"#E5ECF6\", \"radialaxis\": {\"gridcolor\": \"white\", \"linecolor\": \"white\", \"ticks\": \"\"}}, \"scene\": {\"xaxis\": {\"backgroundcolor\": \"#E5ECF6\", \"gridcolor\": \"white\", \"gridwidth\": 2, \"linecolor\": \"white\", \"showbackground\": true, \"ticks\": \"\", \"zerolinecolor\": \"white\"}, \"yaxis\": {\"backgroundcolor\": \"#E5ECF6\", \"gridcolor\": \"white\", \"gridwidth\": 2, \"linecolor\": \"white\", \"showbackground\": true, \"ticks\": \"\", \"zerolinecolor\": \"white\"}, \"zaxis\": {\"backgroundcolor\": \"#E5ECF6\", \"gridcolor\": \"white\", \"gridwidth\": 2, \"linecolor\": \"white\", \"showbackground\": true, \"ticks\": \"\", \"zerolinecolor\": \"white\"}}, \"shapedefaults\": {\"line\": {\"color\": \"#2a3f5f\"}}, \"ternary\": {\"aaxis\": {\"gridcolor\": \"white\", \"linecolor\": \"white\", \"ticks\": \"\"}, \"baxis\": {\"gridcolor\": \"white\", \"linecolor\": \"white\", \"ticks\": \"\"}, \"bgcolor\": \"#E5ECF6\", \"caxis\": {\"gridcolor\": \"white\", \"linecolor\": \"white\", \"ticks\": \"\"}}, \"title\": {\"x\": 0.05}, \"xaxis\": {\"automargin\": true, \"gridcolor\": \"white\", \"linecolor\": \"white\", \"ticks\": \"\", \"title\": {\"standoff\": 15}, \"zerolinecolor\": \"white\", \"zerolinewidth\": 2}, \"yaxis\": {\"automargin\": true, \"gridcolor\": \"white\", \"linecolor\": \"white\", \"ticks\": \"\", \"title\": {\"standoff\": 15}, \"zerolinecolor\": \"white\", \"zerolinewidth\": 2}}}, \"title\": {\"text\": \"Evaluaci\\u00f3n de los Clusters (Metodo del Codo):\"}, \"xaxis\": {\"title\": {\"text\": \"Numero de Clusters:\"}}, \"yaxis\": {\"title\": {\"text\": \"SSE\"}}},                        {\"responsive\": true}                    ).then(function(){\n",
              "                            \n",
              "var gd = document.getElementById('58ca0bb1-dd7f-4ee8-847e-057bb306c465');\n",
              "var x = new MutationObserver(function (mutations, observer) {{\n",
              "        var display = window.getComputedStyle(gd).display;\n",
              "        if (!display || display === 'none') {{\n",
              "            console.log([gd, 'removed!']);\n",
              "            Plotly.purge(gd);\n",
              "            observer.disconnect();\n",
              "        }}\n",
              "}});\n",
              "\n",
              "// Listen for the removal of the full notebook cells\n",
              "var notebookContainer = gd.closest('#notebook-container');\n",
              "if (notebookContainer) {{\n",
              "    x.observe(notebookContainer, {childList: true});\n",
              "}}\n",
              "\n",
              "// Listen for the clearing of the current output cell\n",
              "var outputEl = gd.closest('.output');\n",
              "if (outputEl) {{\n",
              "    x.observe(outputEl, {childList: true});\n",
              "}}\n",
              "\n",
              "                        })                };                            </script>        </div>\n",
              "</body>\n",
              "</html>"
            ]
          },
          "metadata": {
            "tags": []
          }
        }
      ]
    },
    {
      "cell_type": "markdown",
      "metadata": {
        "id": "orJ_Ab_lnXdF"
      },
      "source": [
        "### 1.6.3 Segmentación de Clientes 🎁"
      ]
    },
    {
      "cell_type": "markdown",
      "metadata": {
        "id": "eX_aDjLSmkWm"
      },
      "source": [
        "En base al gráfico anterior escoja un valor que encuentren correcto. Para esto cambie el valor de \"k\" en el codigo de mas abajo."
      ]
    },
    {
      "cell_type": "code",
      "metadata": {
        "colab": {
          "base_uri": "https://localhost:8080/"
        },
        "id": "1jVeBGzLF-KH",
        "outputId": "f80f617c-f41c-4482-92a8-595afb2ab350"
      },
      "source": [
        "k=6\n",
        "model = KMeans(n_clusters=k, random_state=80)\n",
        "model.fit(ccustomers)"
      ],
      "execution_count": null,
      "outputs": [
        {
          "output_type": "execute_result",
          "data": {
            "text/plain": [
              "KMeans(algorithm='auto', copy_x=True, init='k-means++', max_iter=300,\n",
              "       n_clusters=6, n_init=10, n_jobs=None, precompute_distances='auto',\n",
              "       random_state=80, tol=0.0001, verbose=0)"
            ]
          },
          "metadata": {
            "tags": []
          },
          "execution_count": 280
        }
      ]
    },
    {
      "cell_type": "markdown",
      "metadata": {
        "id": "uO-Q30uOn3_0"
      },
      "source": [
        "Genere una tabla con los promedios (o medianas) para cada uno de los atributos, agrupando estos por el clúster que pertenecen. ¿Es posible observar agrupaciones coherentes?, ¿Qué tipo de clientes posee el retail?, Justifique.\n"
      ]
    },
    {
      "cell_type": "code",
      "metadata": {
        "id": "fEclmCNRn1br"
      },
      "source": [
        "customers[\"Cluster\"] = model.labels_\n",
        "#########################\n",
        "    Código Aquí\n",
        "#########################"
      ],
      "execution_count": null,
      "outputs": []
    },
    {
      "cell_type": "markdown",
      "metadata": {
        "id": "qL3Bsm2eA-q2"
      },
      "source": [
        "**Justifique:**"
      ]
    },
    {
      "cell_type": "markdown",
      "metadata": {
        "id": "LZCmRoR9A-NH"
      },
      "source": [
        "```\n",
        "Escriba aquí su justificación\n",
        "```"
      ]
    },
    {
      "cell_type": "markdown",
      "metadata": {
        "id": "uV9HFAPSAr_c"
      },
      "source": [
        "\n",
        "**Respuesta Esperada:**"
      ]
    },
    {
      "cell_type": "markdown",
      "metadata": {
        "id": "95mazLVwASwy"
      },
      "source": [
        "|         | Length  | Recency   | Frequency | Monetary | Periodicity |       |\n",
        "|---------|---------|-----------|----------|-------------|-------|-------|\n",
        "|         | mean    | mean      | mean     | mean        | mean  | count |\n",
        "| Cluster |         |           |          |             |       |       |\n",
        "|    0    |   258.8 |      45.2 |     76.1 |      1107.7 | 107.6 |   449 |\n",
        "|    1    |    76.1 |     217.6 |     45.5 |       791.7 |  14.1 |   466 |\n",
        "|    2    |   368.5 |       4.8 |   2715.0 |    226621.6 |   4.2 |     4 |\n",
        "|    3    |    85.3 |      45.7 |     65.8 |      1047.0 |  10.5 |   987 |\n",
        "|    4    |   347.2 |      15.9 |   1658.0 |     35829.3 |   8.0 |    25 |\n",
        "|    5    |   298.0 |      29.8 |    183.8 |      3639.9 |  32.0 |  1188 |"
      ]
    },
    {
      "cell_type": "markdown",
      "metadata": {
        "id": "JytFvpuws1Kn"
      },
      "source": [
        "--------------------------------------------------------------------------------"
      ]
    },
    {
      "cell_type": "markdown",
      "metadata": {
        "id": "4I2Hb9hfe-SF"
      },
      "source": [
        "# 2 Clima Chileno ☀️"
      ]
    },
    {
      "cell_type": "code",
      "metadata": {
        "colab": {
          "base_uri": "https://localhost:8080/",
          "height": 348
        },
        "id": "ifKPsvVNxLVP",
        "outputId": "1e98d93c-2387-4ef8-dbae-556261572068"
      },
      "source": [
        "HTML('<p align=\"center\"><iframe width=\"560\" height=\"315\" src=\"https://www.youtube.com/embed/fGr-njYF_U0?rel=0&amp;controls=0&amp;showinfo=0\" frameborder=\"0\" allowfullscreen></iframe></p>')"
      ],
      "execution_count": null,
      "outputs": [
        {
          "output_type": "execute_result",
          "data": {
            "text/html": [
              "<p align=\"center\"><iframe width=\"560\" height=\"315\" src=\"https://www.youtube.com/embed/fGr-njYF_U0?rel=0&amp;controls=0&amp;showinfo=0\" frameborder=\"0\" allowfullscreen></iframe></p>"
            ],
            "text/plain": [
              "<IPython.core.display.HTML object>"
            ]
          },
          "metadata": {
            "tags": []
          },
          "execution_count": 11
        }
      ]
    },
    {
      "cell_type": "markdown",
      "metadata": {
        "id": "ksE6CSjyeF5w"
      },
      "source": [
        "## 2.1 Cargar Dataset"
      ]
    },
    {
      "cell_type": "markdown",
      "metadata": {
        "id": "acxRjVJTa87u"
      },
      "source": [
        "<p align=\"center\">\n",
        "  <img src=\"https://cdn.worldvectorlogo.com/logos/kiwi-3.svg\" width='150px'>\n",
        "</p>"
      ]
    },
    {
      "cell_type": "markdown",
      "metadata": {
        "id": "w_T3L2PrZgUV"
      },
      "source": [
        "`Kiguix`, Una prestigiosa empresa de software esta interesada en ingresar al mundo de la predicción del tiempo, por lo que se ha puesto en contacto con ustedes (unos expertos en Data Science) para analizar los datos.\n",
        "\n",
        "Para comenzar el administrador de ```Kiguix``` les entrega el dataset llamado ```cr2_tasDaily_2018.csv``` el que posee un gran registro de temperaturas obtenidas en mas de **300 estaciones metereologicas*** de Chile. Con esto les solicita si pueden explorar este dataset y ver si es posible observar caracteristicas relevantes de los datos.\n",
        "\n",
        "Como **primera Task** se le solicita cargar el archivo y mostrar una pequeña muestra del dataset a estudiar."
      ]
    },
    {
      "cell_type": "code",
      "metadata": {
        "id": "j_7aTixBd_t0"
      },
      "source": [
        "#########################\n",
        "    Código Aquí\n",
        "#########################"
      ],
      "execution_count": null,
      "outputs": []
    },
    {
      "cell_type": "markdown",
      "metadata": {
        "id": "VRdHpm219s8h"
      },
      "source": [
        "## 2.2 Exploración y limpieza de datos"
      ]
    },
    {
      "cell_type": "markdown",
      "metadata": {
        "id": "SKjUL_zMeih6"
      },
      "source": [
        "Cargado los datos, el administrador les consulta si es posible realizar un analisis de los datos en el estado que se encuentran. ¿Es posible observar información relevante al realizar un analisis exploratorio de los datos?. Recuerde justificar su respuesta en la casilla **Justifique**, utilice como argumento lo visto en la exploración de datos realizada."
      ]
    },
    {
      "cell_type": "markdown",
      "metadata": {
        "id": "PRmXl1Kk9zfL"
      },
      "source": [
        "### 2.2.1 ¿Es Posible Realizar en Este Estado un Análisis Exploratorio de los Datos? [0,5]\n"
      ]
    },
    {
      "cell_type": "code",
      "metadata": {
        "id": "GVDmdsRCgUl9"
      },
      "source": [
        "#########################\n",
        "    Código Aquí\n",
        "#########################"
      ],
      "execution_count": null,
      "outputs": []
    },
    {
      "cell_type": "markdown",
      "metadata": {
        "id": "P_HBa_GFgVVh"
      },
      "source": [
        "**Justificación**"
      ]
    },
    {
      "cell_type": "markdown",
      "metadata": {
        "id": "ulO-U75ygXPH"
      },
      "source": [
        "```\n",
        "Escriba aqui su respuesta\n",
        "```"
      ]
    },
    {
      "cell_type": "markdown",
      "metadata": {
        "id": "YD-7QdOu-OOd"
      },
      "source": [
        "### 2.2.2 Limpieza de datos [1 Punto]"
      ]
    },
    {
      "cell_type": "markdown",
      "metadata": {
        "id": "nBpkj9wViGzr"
      },
      "source": [
        "Omitiendo su respuesta anterior, el jefe de ```Kiguix``` les comenta que está interesado en generar un Dataset \"ordenado\" para las estaciones meteorológicas que llevan por **Nombre**:\n",
        "\n",
        "- 'Pichoy Valdivia Ad.'\n",
        "- 'Pudahuel Santiago'\n",
        "- 'Santo Domingo Ad.'\n",
        "- 'Juan Fernandez Estacion Meteorologica'\n",
        "- 'Futaleufu Ad.'\n",
        "- 'Santa Juana'\n",
        "- 'Lautaro Embalse'\n",
        "\n",
        "Con esto les solicita que creen un DataFrame con columnas que contengan (1) el año en que fue tomada la muestra, (2) el mes en que se tomó la muestra, (3) la fecha del año y mes en que se tomó la muestra, (4) altura a nivel del mar que se encuentra la estación, (5) latitud y (6) longitud de la estación, (7) el nombre de la estación meteorológica y (8) la temperatura promedio del mes. Su jefe es crítico en señalar que necesita las columnas en este orden y que deja en usted el cargo de tomar las asunciones de que valores omitir en el DataFrame. En caso de ser necesario justifique asunciones.\n",
        "\n"
      ]
    },
    {
      "cell_type": "markdown",
      "metadata": {
        "id": "soNbuUiFhMx3"
      },
      "source": [
        "**Ejemplo de tabla solicitada:**\n",
        "\n",
        "|      |   Year | Month     | Dates               |   altura |   latitud |   longitud | station                               |      Temp |\n",
        "|-----:|-------:|:----------|:--------------------|---------:|----------:|-----------:|:--------------------------------------|----------:|\n",
        "|    0 |   1961 | August    | 1961-08-01 00:00:00 |      347 |  -43.1889 |   -71.8525 | Futaleufu Ad.                         |  6.2      |\n",
        "|    1 |   1961 | December  | 1961-12-01 00:00:00 |      347 |  -43.1889 |   -71.8525 | Futaleufu Ad.                         | 13        |\n",
        "|    2 |   1963 | April     | 1963-04-01 00:00:00 |       35 |  -33.6367 |   -78.835  | Juan Fernandez Estacion Meteorologica | 17.9      |\n",
        "|    3 |   1965 | January   | 1965-01-01 00:00:00 |      560 |  -28.6672 |   -70.6625 | Santa Juana                           | 18.0818   |\n",
        "|    4 |   1965 | February  | 1965-02-01 00:00:00 |      347 |  -43.1889 |   -71.8525 | Futaleufu Ad.                         | 14.8      |\n",
        "|    5 |   1965 | February  | 1965-02-01 00:00:00 |      560 |  -28.6672 |   -70.6625 | Santa Juana                           | 21.8214   |\n",
        "|    6 |   1965 | March     | 1965-03-01 00:00:00 |      560 |  -28.6672 |   -70.6625 | Santa Juana                           | 20.7759   |\n",
        "|    7 |   1965 | April     | 1965-04-01 00:00:00 |      560 |  -28.6672 |   -70.6625 | Santa Juana                           | 18.244    |\n",
        "|    8 |   1965 | May       | 1965-05-01 00:00:00 |      560 |  -28.6672 |   -70.6625 | Santa Juana                           | 15.7233   |\n",
        "|    9 |   1965 | June      | 1965-06-01 00:00:00 |      560 |  -28.6672 |   -70.6625 | Santa Juana                           | 16.1467   |\n",
        "|   10 |   1965 | July      | 1965-07-01 00:00:00 |      560 |  -28.6672 |   -70.6625 | Santa Juana                           | 14.4516   |"
      ]
    },
    {
      "cell_type": "code",
      "metadata": {
        "id": "wTy9fzhmQnff"
      },
      "source": [
        "#########################\n",
        "    Código Aquí\n",
        "#########################"
      ],
      "execution_count": null,
      "outputs": []
    },
    {
      "cell_type": "markdown",
      "metadata": {
        "id": "5j2IHQ2ansyC"
      },
      "source": [
        "**Justifique:**"
      ]
    },
    {
      "cell_type": "markdown",
      "metadata": {
        "id": "mEylav_Bn0YQ"
      },
      "source": [
        "```\n",
        " Escriba aqui su respuesta\n",
        "```"
      ]
    },
    {
      "cell_type": "markdown",
      "metadata": {
        "id": "Z3tTEX6ynWfS"
      },
      "source": [
        "### 2.2.3 Nueva exploración de datos [1 Punto]"
      ]
    },
    {
      "cell_type": "markdown",
      "metadata": {
        "id": "FcNa0J7ZnmrJ"
      },
      "source": [
        "Visto que el nuevo DataFrame entrega una estructura mas ordenada de los datos se decide hacer una nueva exploración de los datos, para esto se les pide que:\n",
        "\n",
        "- Aplicar las 3 técnicas de EDA que usted estime conveniente.\n",
        "- Realicen un Box-plot temporal de los Datos utilizando plotly.\n",
        "- Graficar tendencia de la temperatura para cada uno de los meses del año.\n",
        "\n",
        "Comente que puede observar de los datos. ¿Es posible observar alguna tendencia o patron?. Justifique."
      ]
    },
    {
      "cell_type": "code",
      "metadata": {
        "colab": {
          "base_uri": "https://localhost:8080/",
          "height": 542
        },
        "id": "7CV0WkvzYysq",
        "outputId": "6815ffd8-98d8-42ca-a9d2-068da6bbc52a"
      },
      "source": [
        "#########################\n",
        "    Código Aquí\n",
        "#########################"
      ],
      "execution_count": null,
      "outputs": [
        {
          "output_type": "display_data",
          "data": {
            "text/html": [
              "<html>\n",
              "<head><meta charset=\"utf-8\" /></head>\n",
              "<body>\n",
              "    <div>            <script src=\"https://cdnjs.cloudflare.com/ajax/libs/mathjax/2.7.5/MathJax.js?config=TeX-AMS-MML_SVG\"></script><script type=\"text/javascript\">if (window.MathJax) {MathJax.Hub.Config({SVG: {font: \"STIX-Web\"}});}</script>                <script type=\"text/javascript\">window.PlotlyConfig = {MathJaxConfig: 'local'};</script>\n",
              "        <script src=\"https://cdn.plot.ly/plotly-latest.min.js\"></script>                <div id=\"6b385063-0543-48a6-88a9-6812b4db13d9\" class=\"plotly-graph-div\" style=\"height:525px; width:100%;\"></div>            <script type=\"text/javascript\">                                    window.PLOTLYENV=window.PLOTLYENV || {};                                    if (document.getElementById(\"6b385063-0543-48a6-88a9-6812b4db13d9\")) {                    Plotly.newPlot(                        \"6b385063-0543-48a6-88a9-6812b4db13d9\",                        [{\"alignmentgroup\": \"True\", \"hovertemplate\": \"Month=%{x}<br>Temp=%{y}<extra></extra>\", \"legendgroup\": \"\", \"marker\": {\"color\": \"#636efa\"}, \"name\": \"\", \"notched\": false, \"offsetgroup\": \"\", \"orientation\": \"v\", \"showlegend\": false, \"type\": \"box\", \"x\": [\"January\", \"February\", \"March\", \"April\", \"May\", \"June\", \"July\", \"August\", \"September\", \"October\", \"November\", \"December\", \"January\", \"February\", \"March\", \"April\", \"May\", \"June\", \"July\", \"August\", \"September\", \"October\", \"November\", \"December\", \"January\", \"February\", \"March\", \"April\", \"May\", \"June\", \"July\", \"August\", \"September\", \"October\", \"November\", \"February\", \"March\", \"April\", \"May\", \"June\", \"July\", \"August\", \"September\", \"October\", \"November\", \"December\", \"January\", \"February\", \"March\", \"April\", \"May\", \"June\", \"July\", \"August\", \"September\", \"October\", \"November\", \"December\", \"January\", \"February\", \"March\", \"April\", \"May\", \"June\", \"July\", \"August\", \"September\", \"October\", \"November\", \"December\", \"January\", \"February\", \"March\", \"April\", \"May\", \"June\", \"July\", \"August\", \"September\", \"October\", \"November\", \"December\", \"January\", \"February\", \"March\", \"April\", \"May\", \"June\", \"July\", \"August\", \"September\", \"October\", \"November\", \"December\", \"January\", \"February\", \"March\", \"April\", \"May\", \"June\", \"July\", \"August\", \"September\", \"October\", \"November\", \"December\", \"January\", \"February\", \"March\", \"April\", \"May\", \"June\", \"July\", \"August\", \"September\", \"October\", \"November\", \"December\", \"January\", \"February\", \"March\", \"April\", \"May\", \"June\", \"July\", \"August\", \"September\", \"October\", \"November\", \"December\", \"January\", \"February\", \"March\", \"April\", \"May\", \"June\", \"July\", \"August\", \"September\", \"October\", \"November\", \"December\", \"January\", \"February\", \"March\", \"April\", \"May\", \"June\", \"July\", \"August\", \"September\", \"October\", \"November\", \"December\", \"January\", \"February\", \"March\", \"April\", \"May\", \"June\", \"July\", \"August\", \"September\", \"October\", \"November\", \"December\", \"January\", \"February\", \"March\", \"April\", \"May\", \"June\", \"July\", \"August\", \"September\", \"October\", \"November\", \"December\", \"January\", \"February\", \"March\", \"April\", \"May\", \"June\", \"July\", \"August\", \"September\", \"October\", \"November\", \"December\", \"January\", \"February\", \"March\", \"April\", \"May\", \"June\", \"July\", \"August\", \"September\", \"October\", \"November\", \"December\", \"January\", \"February\", \"March\", \"April\", \"May\", \"June\", \"July\", \"August\", \"September\", \"October\", \"November\", \"December\", \"January\", \"February\", \"March\", \"April\", \"May\", \"June\", \"July\", \"August\", \"September\", \"October\", \"November\", \"December\", \"January\", \"February\", \"March\", \"April\", \"May\", \"June\", \"July\", \"August\", \"September\", \"October\", \"November\", \"December\", \"January\", \"February\", \"March\", \"April\", \"May\", \"June\", \"July\", \"August\", \"September\", \"October\", \"November\", \"December\", \"January\", \"February\", \"March\", \"April\", \"May\", \"June\", \"July\", \"August\", \"September\", \"October\", \"November\", \"December\", \"January\", \"February\", \"March\", \"April\", \"May\", \"June\", \"July\", \"August\", \"September\", \"October\", \"November\", \"December\", \"January\", \"February\", \"March\", \"April\", \"May\", \"June\", \"July\", \"August\", \"September\", \"October\", \"November\", \"December\", \"January\", \"February\", \"March\", \"April\", \"May\", \"June\", \"July\", \"August\", \"September\", \"October\", \"November\", \"December\", \"January\", \"February\", \"March\", \"April\", \"May\", \"June\", \"July\", \"August\", \"September\", \"October\", \"November\", \"December\", \"January\", \"February\", \"March\", \"April\", \"May\", \"June\", \"July\", \"August\", \"September\", \"October\", \"November\", \"December\", \"January\", \"February\", \"March\", \"April\", \"May\", \"June\", \"July\", \"August\", \"September\", \"October\", \"November\", \"December\", \"January\", \"February\", \"March\", \"April\", \"May\", \"June\", \"July\", \"August\", \"September\", \"October\", \"November\", \"December\", \"January\", \"February\", \"March\", \"April\", \"May\", \"June\", \"July\", \"August\", \"September\", \"October\", \"November\", \"December\", \"January\", \"February\", \"March\", \"April\", \"May\", \"June\", \"July\", \"August\", \"September\", \"October\", \"November\", \"December\", \"January\", \"February\", \"March\", \"April\", \"May\", \"June\", \"July\", \"August\", \"September\", \"October\", \"November\", \"December\", \"January\", \"February\", \"March\", \"April\", \"May\", \"June\", \"July\", \"August\", \"September\", \"October\", \"November\", \"December\", \"January\", \"February\", \"March\", \"April\", \"May\", \"June\", \"July\", \"August\", \"September\", \"October\", \"November\", \"December\", \"January\", \"February\", \"March\", \"April\", \"May\", \"June\", \"July\", \"August\", \"September\", \"October\", \"November\", \"December\", \"January\", \"February\", \"March\", \"April\", \"May\", \"June\", \"July\", \"August\", \"September\", \"October\", \"November\", \"December\", \"January\", \"February\", \"March\", \"April\", \"May\", \"June\", \"July\", \"August\", \"September\", \"October\", \"November\", \"December\", \"January\", \"February\", \"March\", \"April\", \"May\", \"June\", \"July\", \"August\", \"September\", \"October\", \"November\", \"December\", \"January\", \"February\", \"March\", \"April\", \"May\", \"June\", \"July\", \"August\", \"September\", \"October\", \"November\", \"December\", \"January\", \"February\", \"March\", \"April\", \"May\", \"June\", \"July\", \"August\", \"September\", \"October\", \"November\", \"December\", \"January\", \"February\", \"March\", \"April\", \"May\", \"June\", \"July\", \"August\", \"September\", \"October\", \"November\", \"December\", \"January\", \"February\", \"March\", \"April\", \"May\", \"June\", \"July\", \"August\", \"September\", \"October\", \"November\", \"December\", \"January\", \"February\", \"March\", \"April\", \"May\", \"June\", \"July\", \"August\", \"September\", \"October\", \"November\", \"December\", \"January\", \"February\", \"March\", \"April\", \"May\", \"June\", \"July\", \"August\", \"September\", \"October\", \"November\", \"December\", \"January\", \"February\", \"March\", \"April\", \"May\", \"June\", \"July\", \"August\", \"September\", \"October\", \"November\", \"December\", \"January\", \"February\", \"March\", \"April\", \"May\", \"June\", \"July\", \"August\", \"September\", \"October\", \"November\", \"December\", \"January\", \"February\", \"March\", \"April\", \"May\", \"June\", \"July\", \"August\", \"September\", \"October\", \"November\", \"December\", \"January\", \"February\", \"March\", \"April\", \"May\", \"June\", \"July\", \"August\", \"September\", \"October\", \"November\", \"December\", \"January\", \"February\", \"March\", \"April\", \"May\", \"June\", \"July\", \"August\", \"September\", \"October\", \"November\", \"December\", \"January\", \"February\", \"March\", \"April\", \"May\", \"June\", \"July\", \"August\", \"September\", \"October\", \"November\", \"December\", \"January\", \"February\", \"March\", \"April\", \"May\", \"June\", \"July\", \"August\", \"September\", \"October\", \"November\", \"December\", \"January\", \"February\", \"March\"], \"x0\": \" \", \"xaxis\": \"x\", \"y\": [18.65, 18.341176470588238, 16.761290322580642, 13.940000000000003, 10.670967741935485, 5.03103448275862, 5.693333333333333, 7.678571428571429, 9.258620689655173, 13.374193548387096, 16.223333333333333, 19.63, 20.806896551724137, 19.662068965517243, 16.19354838709678, 12.321739130434784, 10.364516129032257, 8.096666666666666, 7.993333333333334, 9.883333333333331, 11.676666666666666, 13.399999999999999, 17.59, 18.66896551724138, 20.858064516129033, 18.514285714285712, 15.886666666666665, 13.527586206896551, 10.622580645161289, 8.176666666666666, 8.669999999999998, 9.747999999999998, 11.583333333333337, 12.741935483870966, 15.79655172413793, 19.457142857142856, 17.041935483870965, 13.957142857142859, 10.151612903225807, 5.916666666666667, 6.845161290322583, 8.264516129032256, 10.746666666666668, 13.222580645161292, 16.120689655172413, 17.989655172413794, 18.479310344827585, 17.95925925925926, 15.648387096774192, 11.840000000000002, 10.42903225806452, 6.583333333333334, 9.02258064516129, 8.266666666666667, 10.375862068965516, 13.975862068965519, 18.463333333333335, 18.726666666666667, 21.196774193548386, 19.782142857142855, 16.85483870967742, 12.792857142857143, 11.339999999999998, 10.0, 6.164516129032258, 9.310000000000002, 11.528571428571425, 12.517857142857144, 15.653571428571427, 20.62962962962963, 21.412903225806456, 18.714285714285715, 16.725806451612904, 13.38, 10.896774193548387, 7.706666666666667, 7.6096774193548375, 8.245161290322581, 10.003333333333332, 12.651612903225805, 16.620689655172416, 18.216129032258063, 20.20645161290323, 17.760714285714286, 16.42258064516129, 12.156666666666666, 10.016129032258064, 6.746666666666666, 5.703225806451614, 8.309677419354838, 9.8, 13.390322580645156, 15.483333333333333, 17.60967741935484, 19.44193548387097, 18.139285714285712, 15.454838709677423, 12.663333333333334, 9.509677419354837, 7.400000000000001, 6.396774193548388, 7.429032258064517, 9.130000000000003, 12.709677419354843, 15.180000000000001, 18.81935483870968, 19.81935483870968, 18.17241379310345, 14.80322580645161, 11.041379310344823, 8.27741935483871, 7.023333333333335, 6.500000000000001, 8.061290322580648, 10.07333333333333, 13.470967741935484, 17.353333333333335, 19.380645161290325, 20.57741935483871, 18.96428571428571, 16.880645161290328, 14.056666666666668, 11.283870967741937, 7.773333333333335, 6.73548387096774, 8.258064516129032, 11.126666666666669, 13.387096774193548, 16.996666666666666, 18.65666666666667, 19.496774193548383, 18.896428571428572, 15.729032258064517, 12.466666666666665, 10.429032258064519, 7.9, 9.935483870967744, 7.529032258064517, 10.666666666666668, 14.393548387096772, 17.049999999999997, 19.532258064516128, 19.84193548387097, 18.417857142857144, 16.261290322580646, 12.516666666666667, 10.841935483870968, 5.556666666666668, 8.061290322580646, 10.348387096774196, 10.003333333333334, 13.538709677419359, 16.063333333333336, 19.196774193548393, 21.293548387096777, 20.106896551724134, 18.619354838709675, 13.533333333333335, 10.8, 7.996666666666666, 6.812903225806452, 8.196774193548388, 9.936666666666667, 13.058064516129031, 15.51333333333333, 18.890322580645165, 19.390322580645165, 19.45357142857143, 16.725806451612907, 13.713333333333333, 11.651612903225804, 7.309999999999999, 6.880645161290323, 9.119354838709677, 10.360000000000001, 12.512903225806454, 15.93, 18.693548387096783, 19.470967741935482, 18.639285714285712, 16.835483870967746, 13.073333333333329, 9.6, 8.95, 8.861290322580645, 9.458064516129031, 11.599999999999998, 13.07096774193548, 15.53, 19.59, 20.206451612903226, 20.15, 16.83870967741936, 13.790000000000001, 9.141935483870967, 5.7566666666666695, 6.090322580645163, 7.980645161290323, 9.23, 14.264516129032259, 17.340000000000007, 19.22580645161291, 20.425806451612903, 18.29310344827586, 16.690322580645162, 12.773333333333332, 7.951612903225804, 6.706666666666668, 7.370967741935484, 7.6258064516129025, 11.330000000000002, 14.374193548387096, 15.473333333333333, 18.687096774193545, 19.56774193548387, 19.45714285714286, 16.670967741935485, 12.386666666666665, 10.019354838709678, 8.98, 7.225806451612904, 7.716129032258063, 11.469999999999997, 13.764516129032259, 16.930000000000003, 18.803225806451614, 19.83225806451613, 19.310714285714283, 16.79032258064516, 13.096666666666668, 11.432258064516128, 8.923333333333336, 8.274193548387096, 9.593548387096773, 10.796666666666665, 15.525806451612903, 15.939999999999998, 20.51290322580645, 20.599999999999998, 20.43214285714286, 18.522580645161295, 13.846666666666666, 9.616129032258062, 8.65, 8.087096774193549, 9.203225806451615, 10.996666666666668, 14.49677419354839, 18.166666666666668, 19.796666666666667, 19.61612903225806, 19.84137931034483, 17.364516129032253, 13.683333333333335, 8.803225806451614, 7.103333333333333, 6.880645161290323, 8.535483870967742, 9.979999999999999, 14.541935483870969, 17.713333333333335, 19.46129032258065, 20.938709677419357, 20.671428571428574, 16.609677419354846, 13.726666666666668, 9.280645161290325, 7.556666666666664, 7.041935483870968, 9.222580645161292, 10.27, 13.545161290322584, 17.56, 19.664516129032254, 20.548387096774196, 18.960714285714285, 16.361290322580643, 13.333333333333332, 9.14838709677419, 7.633333333333335, 6.1645161290322585, 9.641935483870968, 11.083333333333334, 13.306451612903224, 16.729999999999997, 19.203225806451613, 19.880645161290325, 19.660714285714285, 17.064516129032267, 14.233333333333333, 12.203225806451611, 8.973333333333333, 7.52258064516129, 7.264516129032257, 11.97, 13.20967741935484, 16.536666666666665, 18.241935483870968, 20.66774193548387, 18.924137931034487, 17.751612903225805, 13.140000000000002, 10.351612903225805, 7.363333333333334, 6.1096774193548375, 8.867741935483872, 10.92, 14.212903225806452, 16.486666666666665, 18.79666666666667, 20.80645161290322, 19.83928571428572, 18.216129032258067, 13.83, 8.912903225806454, 8.806666666666667, 5.658064516129032, 8.261290322580646, 10.03, 13.580645161290322, 16.386666666666667, 19.209677419354836, 20.00967741935484, 18.724999999999998, 17.03548387096774, 14.36666666666667, 10.370967741935484, 9.050000000000002, 7.3838709677419345, 7.751612903225806, 12.336666666666666, 13.94838709677419, 17.29666666666667, 20.03870967741936, 20.493548387096773, 18.839285714285715, 17.129032258064516, 14.503333333333329, 11.725806451612904, 9.613333333333335, 6.803225806451613, 7.77741935483871, 11.460000000000003, 14.161290322580639, 16.836666666666666, 19.441935483870967, 19.49032258064516, 19.365517241379308, 17.625806451612906, 12.246666666666666, 9.564516129032256, 7.3933333333333335, 8.519354838709676, 8.938709677419356, 11.129999999999999, 14.251612903225809, 18.18333333333333, 19.348387096774196, 21.232258064516127, 19.971428571428568, 17.83225806451613, 15.196666666666665, 11.461290322580643, 9.229999999999999, 8.716129032258063, 10.490322580645161, 12.046666666666669, 12.874193548387098, 16.60333333333333, 18.74516129032259, 21.11290322580645, 18.925, 17.493548387096773, 13.903333333333334, 11.438709677419356, 8.623333333333333, 7.096774193548386, 8.632258064516128, 11.08, 15.932258064516128, 16.733333333333334, 20.1, 19.583870967741937, 19.98928571428571, 16.687096774193545, 13.606666666666667, 10.935483870967744, 8.79, 7.083870967741937, 9.261290322580642, 10.73, 13.596774193548386, 16.723333333333333, 18.85483870967742, 20.125806451612906, 18.775862068965516, 16.862068965517246, 13.44333333333333, 9.880645161290321, 8.649999999999999, 7.548387096774195, 9.19032258064516, 10.636666666666668, 14.000000000000002, 17.156666666666663, 20.05483870967742, 20.125806451612902, 20.921428571428578, 17.816129032258065, 13.370000000000001, 10.029032258064515, 7.326666666666668, 9.161290322580646, 9.748387096774193, 10.136666666666663, 14.519354838709676, 16.29666666666667, 20.51612903225806, 20.46451612903226, 19.614285714285717, 18.190322580645162, 12.96666666666667, 11.038709677419357, 7.209999999999999, 7.967741935483872, 9.85806451612903, 11.499999999999998, 13.729032258064517, 16.236666666666668, 18.687096774193545, 21.112903225806452, 19.360714285714288, 17.583870967741937, 13.630000000000003, 9.574193548387095, 10.226666666666665, 7.0032258064516135, 9.006451612903227, 11.956666666666667, 15.77741935483871, 18.14333333333333, 18.735483870967744, 20.535483870967745, 19.155172413793103, 18.15806451612903, 14.226666666666661, 9.180645161290323, 8.370000000000001, 8.158064516129032, 9.025806451612905, 11.896666666666665, 14.122580645161294, 16.836666666666662, 19.883870967741935, 20.43870967741936, 20.010714285714283, 18.0741935483871, 14.156666666666668, 9.94516129032258, 10.666666666666668, 8.296774193548387, 10.483870967741934, 10.393333333333333, 13.361290322580645, 17.33333333333334, 18.68387096774193, 21.07741935483871, 19.950000000000006, 16.858064516129033, 14.003333333333332, 11.335483870967742, 9.763333333333332, 9.674193548387096, 10.180645161290322, 12.356666666666666, 14.425806451612903, 16.886666666666667, 19.36774193548387, 20.623333333333335, 18.7, 17.599999999999998, 13.056666666666667, 8.8, 6.053333333333333, 6.983870967741933, 6.496774193548389, 10.266666666666664, 14.258064516129036, 17.466666666666665, 19.083870967741934, 21.26, 20.36896551724138, 18.151612903225807, 14.51, 11.08709677419355, 7.616666666666665, 8.290322580645164, 9.103225806451611, 11.633333333333331, 14.477419354838712, 18.3, 20.006451612903227, 21.613333333333333, 20.40714285714285, 19.25483870967742, 15.739999999999998, 12.01290322580645, 8.676666666666666, 7.974193548387095, 10.04193548387097, 10.309999999999999, 15.054838709677421, 16.389999999999997, 19.90322580645161, 21.660000000000004, 19.70714285714286, 18.56129032258064, 13.500000000000002, 11.164516129032261, 8.19, 5.796774193548386, 8.551612903225807, 11.583333333333332, 14.148387096774192, 17.51379310344828, 18.03225806451613, 21.218518518518522, 20.142857142857146, 17.812903225806448, 14.179999999999998, 10.406451612903227, 7.400000000000001, 6.719354838709677, 8.33548387096774, 12.906666666666666, 14.851612903225806, 17.833333333333332, 20.625806451612902, 21.112903225806456, 21.741379310344822, 20.125806451612902, 14.906666666666663, 12.429032258064519, 10.00666666666667, 7.567741935483871, 8.858064516129032, 12.086666666666666, 13.603225806451613, 18.080000000000002, 19.493548387096773, 21.254838709677422, 21.385714285714293, 18.103225806451615, 14.363333333333332, 10.767741935483869, 8.796666666666663, 7.823333333333332, 8.93225806451613, 11.376666666666665, 14.8741935483871, 17.353333333333335, 20.490322580645167, 21.806451612903224, 19.8, 17.78064516129032, 13.726666666666663, 11.63548387096774, 7.513333333333333, 8.780645161290325, 10.112903225806454, 11.473333333333333, 16.24838709677419, 17.51666666666667, 19.24838709677419, 21.825806451612902, 20.74285714285714, 20.129032258064516, 16.096666666666664, 11.751612903225807, 8.913333333333332, 8.738709677419356, 11.180645161290322, 12.513333333333334, 13.683870967741937, 16.81333333333333, 20.264516129032263, 21.299999999999994, 21.42068965517241, 18.59677419354839, 14.096666666666668, 12.27096774193548, 8.043333333333333, 8.716129032258063, 10.435483870967742, 13.150000000000002, 15.329032258064517, 19.143333333333334, 20.012903225806454, 23.71612903225807, 21.6, 18.719354838709677, 15.046666666666669, 10.706451612903226, 7.866666666666666, 7.9967741935483865, 8.838709677419354, 11.599999999999998, 14.132258064516131, 18.363333333333333, 21.022580645161295, 21.287096774193547, 20.960714285714285, 19.655555555555555], \"y0\": \" \", \"yaxis\": \"y\"}],                        {\"boxmode\": \"group\", \"legend\": {\"tracegroupgap\": 0}, \"margin\": {\"t\": 60}, \"template\": {\"data\": {\"bar\": [{\"error_x\": {\"color\": \"#2a3f5f\"}, \"error_y\": {\"color\": \"#2a3f5f\"}, \"marker\": {\"line\": {\"color\": \"#E5ECF6\", \"width\": 0.5}}, \"type\": \"bar\"}], \"barpolar\": [{\"marker\": {\"line\": {\"color\": \"#E5ECF6\", \"width\": 0.5}}, \"type\": \"barpolar\"}], \"carpet\": [{\"aaxis\": {\"endlinecolor\": \"#2a3f5f\", \"gridcolor\": \"white\", \"linecolor\": \"white\", \"minorgridcolor\": \"white\", \"startlinecolor\": \"#2a3f5f\"}, \"baxis\": {\"endlinecolor\": \"#2a3f5f\", \"gridcolor\": \"white\", \"linecolor\": \"white\", \"minorgridcolor\": \"white\", \"startlinecolor\": \"#2a3f5f\"}, \"type\": \"carpet\"}], \"choropleth\": [{\"colorbar\": {\"outlinewidth\": 0, \"ticks\": \"\"}, \"type\": \"choropleth\"}], \"contour\": [{\"colorbar\": {\"outlinewidth\": 0, \"ticks\": \"\"}, \"colorscale\": [[0.0, \"#0d0887\"], [0.1111111111111111, \"#46039f\"], [0.2222222222222222, \"#7201a8\"], [0.3333333333333333, \"#9c179e\"], [0.4444444444444444, \"#bd3786\"], [0.5555555555555556, \"#d8576b\"], [0.6666666666666666, \"#ed7953\"], [0.7777777777777778, \"#fb9f3a\"], [0.8888888888888888, \"#fdca26\"], [1.0, \"#f0f921\"]], \"type\": \"contour\"}], \"contourcarpet\": [{\"colorbar\": {\"outlinewidth\": 0, \"ticks\": \"\"}, \"type\": \"contourcarpet\"}], \"heatmap\": [{\"colorbar\": {\"outlinewidth\": 0, \"ticks\": \"\"}, \"colorscale\": [[0.0, \"#0d0887\"], [0.1111111111111111, \"#46039f\"], [0.2222222222222222, \"#7201a8\"], [0.3333333333333333, \"#9c179e\"], [0.4444444444444444, \"#bd3786\"], [0.5555555555555556, \"#d8576b\"], [0.6666666666666666, \"#ed7953\"], [0.7777777777777778, \"#fb9f3a\"], [0.8888888888888888, \"#fdca26\"], [1.0, \"#f0f921\"]], \"type\": \"heatmap\"}], \"heatmapgl\": [{\"colorbar\": {\"outlinewidth\": 0, \"ticks\": \"\"}, \"colorscale\": [[0.0, \"#0d0887\"], [0.1111111111111111, \"#46039f\"], [0.2222222222222222, \"#7201a8\"], [0.3333333333333333, \"#9c179e\"], [0.4444444444444444, \"#bd3786\"], [0.5555555555555556, \"#d8576b\"], [0.6666666666666666, \"#ed7953\"], [0.7777777777777778, \"#fb9f3a\"], [0.8888888888888888, \"#fdca26\"], [1.0, \"#f0f921\"]], \"type\": \"heatmapgl\"}], \"histogram\": [{\"marker\": {\"colorbar\": {\"outlinewidth\": 0, \"ticks\": \"\"}}, \"type\": \"histogram\"}], \"histogram2d\": [{\"colorbar\": {\"outlinewidth\": 0, \"ticks\": \"\"}, \"colorscale\": [[0.0, \"#0d0887\"], [0.1111111111111111, \"#46039f\"], [0.2222222222222222, \"#7201a8\"], [0.3333333333333333, \"#9c179e\"], [0.4444444444444444, \"#bd3786\"], [0.5555555555555556, \"#d8576b\"], [0.6666666666666666, \"#ed7953\"], [0.7777777777777778, \"#fb9f3a\"], [0.8888888888888888, \"#fdca26\"], [1.0, \"#f0f921\"]], \"type\": \"histogram2d\"}], \"histogram2dcontour\": [{\"colorbar\": {\"outlinewidth\": 0, \"ticks\": \"\"}, \"colorscale\": [[0.0, \"#0d0887\"], [0.1111111111111111, \"#46039f\"], [0.2222222222222222, \"#7201a8\"], [0.3333333333333333, \"#9c179e\"], [0.4444444444444444, \"#bd3786\"], [0.5555555555555556, \"#d8576b\"], [0.6666666666666666, \"#ed7953\"], [0.7777777777777778, \"#fb9f3a\"], [0.8888888888888888, \"#fdca26\"], [1.0, \"#f0f921\"]], \"type\": \"histogram2dcontour\"}], \"mesh3d\": [{\"colorbar\": {\"outlinewidth\": 0, \"ticks\": \"\"}, \"type\": \"mesh3d\"}], \"parcoords\": [{\"line\": {\"colorbar\": {\"outlinewidth\": 0, \"ticks\": \"\"}}, \"type\": \"parcoords\"}], \"pie\": [{\"automargin\": true, \"type\": \"pie\"}], \"scatter\": [{\"marker\": {\"colorbar\": {\"outlinewidth\": 0, \"ticks\": \"\"}}, \"type\": \"scatter\"}], \"scatter3d\": [{\"line\": {\"colorbar\": {\"outlinewidth\": 0, \"ticks\": \"\"}}, \"marker\": {\"colorbar\": {\"outlinewidth\": 0, \"ticks\": \"\"}}, \"type\": \"scatter3d\"}], \"scattercarpet\": [{\"marker\": {\"colorbar\": {\"outlinewidth\": 0, \"ticks\": \"\"}}, \"type\": \"scattercarpet\"}], \"scattergeo\": [{\"marker\": {\"colorbar\": {\"outlinewidth\": 0, \"ticks\": \"\"}}, \"type\": \"scattergeo\"}], \"scattergl\": [{\"marker\": {\"colorbar\": {\"outlinewidth\": 0, \"ticks\": \"\"}}, \"type\": \"scattergl\"}], \"scattermapbox\": [{\"marker\": {\"colorbar\": {\"outlinewidth\": 0, \"ticks\": \"\"}}, \"type\": \"scattermapbox\"}], \"scatterpolar\": [{\"marker\": {\"colorbar\": {\"outlinewidth\": 0, \"ticks\": \"\"}}, \"type\": \"scatterpolar\"}], \"scatterpolargl\": [{\"marker\": {\"colorbar\": {\"outlinewidth\": 0, \"ticks\": \"\"}}, \"type\": \"scatterpolargl\"}], \"scatterternary\": [{\"marker\": {\"colorbar\": {\"outlinewidth\": 0, \"ticks\": \"\"}}, \"type\": \"scatterternary\"}], \"surface\": [{\"colorbar\": {\"outlinewidth\": 0, \"ticks\": \"\"}, \"colorscale\": [[0.0, \"#0d0887\"], [0.1111111111111111, \"#46039f\"], [0.2222222222222222, \"#7201a8\"], [0.3333333333333333, \"#9c179e\"], [0.4444444444444444, \"#bd3786\"], [0.5555555555555556, \"#d8576b\"], [0.6666666666666666, \"#ed7953\"], [0.7777777777777778, \"#fb9f3a\"], [0.8888888888888888, \"#fdca26\"], [1.0, \"#f0f921\"]], \"type\": \"surface\"}], \"table\": [{\"cells\": {\"fill\": {\"color\": \"#EBF0F8\"}, \"line\": {\"color\": \"white\"}}, \"header\": {\"fill\": {\"color\": \"#C8D4E3\"}, \"line\": {\"color\": \"white\"}}, \"type\": \"table\"}]}, \"layout\": {\"annotationdefaults\": {\"arrowcolor\": \"#2a3f5f\", \"arrowhead\": 0, \"arrowwidth\": 1}, \"autotypenumbers\": \"strict\", \"coloraxis\": {\"colorbar\": {\"outlinewidth\": 0, \"ticks\": \"\"}}, \"colorscale\": {\"diverging\": [[0, \"#8e0152\"], [0.1, \"#c51b7d\"], [0.2, \"#de77ae\"], [0.3, \"#f1b6da\"], [0.4, \"#fde0ef\"], [0.5, \"#f7f7f7\"], [0.6, \"#e6f5d0\"], [0.7, \"#b8e186\"], [0.8, \"#7fbc41\"], [0.9, \"#4d9221\"], [1, \"#276419\"]], \"sequential\": [[0.0, \"#0d0887\"], [0.1111111111111111, \"#46039f\"], [0.2222222222222222, \"#7201a8\"], [0.3333333333333333, \"#9c179e\"], [0.4444444444444444, \"#bd3786\"], [0.5555555555555556, \"#d8576b\"], [0.6666666666666666, \"#ed7953\"], [0.7777777777777778, \"#fb9f3a\"], [0.8888888888888888, \"#fdca26\"], [1.0, \"#f0f921\"]], \"sequentialminus\": [[0.0, \"#0d0887\"], [0.1111111111111111, \"#46039f\"], [0.2222222222222222, \"#7201a8\"], [0.3333333333333333, \"#9c179e\"], [0.4444444444444444, \"#bd3786\"], [0.5555555555555556, \"#d8576b\"], [0.6666666666666666, \"#ed7953\"], [0.7777777777777778, \"#fb9f3a\"], [0.8888888888888888, \"#fdca26\"], [1.0, \"#f0f921\"]]}, \"colorway\": [\"#636efa\", \"#EF553B\", \"#00cc96\", \"#ab63fa\", \"#FFA15A\", \"#19d3f3\", \"#FF6692\", \"#B6E880\", \"#FF97FF\", \"#FECB52\"], \"font\": {\"color\": \"#2a3f5f\"}, \"geo\": {\"bgcolor\": \"white\", \"lakecolor\": \"white\", \"landcolor\": \"#E5ECF6\", \"showlakes\": true, \"showland\": true, \"subunitcolor\": \"white\"}, \"hoverlabel\": {\"align\": \"left\"}, \"hovermode\": \"closest\", \"mapbox\": {\"style\": \"light\"}, \"paper_bgcolor\": \"white\", \"plot_bgcolor\": \"#E5ECF6\", \"polar\": {\"angularaxis\": {\"gridcolor\": \"white\", \"linecolor\": \"white\", \"ticks\": \"\"}, \"bgcolor\": \"#E5ECF6\", \"radialaxis\": {\"gridcolor\": \"white\", \"linecolor\": \"white\", \"ticks\": \"\"}}, \"scene\": {\"xaxis\": {\"backgroundcolor\": \"#E5ECF6\", \"gridcolor\": \"white\", \"gridwidth\": 2, \"linecolor\": \"white\", \"showbackground\": true, \"ticks\": \"\", \"zerolinecolor\": \"white\"}, \"yaxis\": {\"backgroundcolor\": \"#E5ECF6\", \"gridcolor\": \"white\", \"gridwidth\": 2, \"linecolor\": \"white\", \"showbackground\": true, \"ticks\": \"\", \"zerolinecolor\": \"white\"}, \"zaxis\": {\"backgroundcolor\": \"#E5ECF6\", \"gridcolor\": \"white\", \"gridwidth\": 2, \"linecolor\": \"white\", \"showbackground\": true, \"ticks\": \"\", \"zerolinecolor\": \"white\"}}, \"shapedefaults\": {\"line\": {\"color\": \"#2a3f5f\"}}, \"ternary\": {\"aaxis\": {\"gridcolor\": \"white\", \"linecolor\": \"white\", \"ticks\": \"\"}, \"baxis\": {\"gridcolor\": \"white\", \"linecolor\": \"white\", \"ticks\": \"\"}, \"bgcolor\": \"#E5ECF6\", \"caxis\": {\"gridcolor\": \"white\", \"linecolor\": \"white\", \"ticks\": \"\"}}, \"title\": {\"x\": 0.05}, \"xaxis\": {\"automargin\": true, \"gridcolor\": \"white\", \"linecolor\": \"white\", \"ticks\": \"\", \"title\": {\"standoff\": 15}, \"zerolinecolor\": \"white\", \"zerolinewidth\": 2}, \"yaxis\": {\"automargin\": true, \"gridcolor\": \"white\", \"linecolor\": \"white\", \"ticks\": \"\", \"title\": {\"standoff\": 15}, \"zerolinecolor\": \"white\", \"zerolinewidth\": 2}}}, \"title\": {\"text\": \"BoxPlot de Temperaturas medias.\"}, \"xaxis\": {\"anchor\": \"y\", \"domain\": [0.0, 1.0], \"title\": {\"text\": \"Month\"}}, \"yaxis\": {\"anchor\": \"x\", \"domain\": [0.0, 1.0], \"title\": {\"text\": \"Temp\"}}},                        {\"responsive\": true}                    ).then(function(){\n",
              "                            \n",
              "var gd = document.getElementById('6b385063-0543-48a6-88a9-6812b4db13d9');\n",
              "var x = new MutationObserver(function (mutations, observer) {{\n",
              "        var display = window.getComputedStyle(gd).display;\n",
              "        if (!display || display === 'none') {{\n",
              "            console.log([gd, 'removed!']);\n",
              "            Plotly.purge(gd);\n",
              "            observer.disconnect();\n",
              "        }}\n",
              "}});\n",
              "\n",
              "// Listen for the removal of the full notebook cells\n",
              "var notebookContainer = gd.closest('#notebook-container');\n",
              "if (notebookContainer) {{\n",
              "    x.observe(notebookContainer, {childList: true});\n",
              "}}\n",
              "\n",
              "// Listen for the clearing of the current output cell\n",
              "var outputEl = gd.closest('.output');\n",
              "if (outputEl) {{\n",
              "    x.observe(outputEl, {childList: true});\n",
              "}}\n",
              "\n",
              "                        })                };                            </script>        </div>\n",
              "</body>\n",
              "</html>"
            ]
          },
          "metadata": {
            "tags": []
          }
        }
      ]
    },
    {
      "cell_type": "code",
      "metadata": {
        "colab": {
          "base_uri": "https://localhost:8080/",
          "height": 542
        },
        "id": "kmG_H7Yk_LtK",
        "outputId": "b98e2551-d647-40ff-c0c1-b56195a83b7c"
      },
      "source": [
        "#########################\n",
        "    Código Aquí\n",
        "#########################"
      ],
      "execution_count": null,
      "outputs": [
        {
          "output_type": "display_data",
          "data": {
            "text/html": [
              "<html>\n",
              "<head><meta charset=\"utf-8\" /></head>\n",
              "<body>\n",
              "    <div>            <script src=\"https://cdnjs.cloudflare.com/ajax/libs/mathjax/2.7.5/MathJax.js?config=TeX-AMS-MML_SVG\"></script><script type=\"text/javascript\">if (window.MathJax) {MathJax.Hub.Config({SVG: {font: \"STIX-Web\"}});}</script>                <script type=\"text/javascript\">window.PlotlyConfig = {MathJaxConfig: 'local'};</script>\n",
              "        <script src=\"https://cdn.plot.ly/plotly-latest.min.js\"></script>                <div id=\"965e627c-e109-4ea4-9c2a-526225067f29\" class=\"plotly-graph-div\" style=\"height:525px; width:100%;\"></div>            <script type=\"text/javascript\">                                    window.PLOTLYENV=window.PLOTLYENV || {};                                    if (document.getElementById(\"965e627c-e109-4ea4-9c2a-526225067f29\")) {                    Plotly.newPlot(                        \"965e627c-e109-4ea4-9c2a-526225067f29\",                        [{\"hovertemplate\": \"Month=January<br>Year=%{x}<br>Temp=%{y}<extra></extra>\", \"legendgroup\": \"\", \"line\": {\"color\": \"#636efa\", \"dash\": \"solid\"}, \"mode\": \"lines\", \"name\": \"\", \"orientation\": \"v\", \"showlegend\": false, \"type\": \"scatter\", \"x\": [1967, 1968, 1969, 1971, 1972, 1973, 1974, 1975, 1976, 1977, 1978, 1979, 1980, 1981, 1982, 1983, 1984, 1985, 1986, 1987, 1988, 1989, 1990, 1991, 1992, 1993, 1994, 1995, 1996, 1997, 1998, 1999, 2000, 2001, 2002, 2003, 2004, 2005, 2006, 2007, 2008, 2009, 2010, 2011, 2012, 2013, 2014, 2015, 2016, 2017, 2018], \"xaxis\": \"x9\", \"y\": [18.65, 20.806896551724137, 20.858064516129033, 18.479310344827585, 21.196774193548386, 21.412903225806456, 20.20645161290323, 19.44193548387097, 19.81935483870968, 20.57741935483871, 19.496774193548383, 19.84193548387097, 21.293548387096777, 19.390322580645165, 19.470967741935482, 20.206451612903226, 20.425806451612903, 19.56774193548387, 19.83225806451613, 20.599999999999998, 19.61612903225806, 20.938709677419357, 20.548387096774196, 19.880645161290325, 20.66774193548387, 20.80645161290322, 20.00967741935484, 20.493548387096773, 19.49032258064516, 21.232258064516127, 21.11290322580645, 19.583870967741937, 20.125806451612906, 20.125806451612902, 20.46451612903226, 21.112903225806452, 20.535483870967745, 20.43870967741936, 21.07741935483871, 20.623333333333335, 21.26, 21.613333333333333, 21.660000000000004, 21.218518518518522, 21.112903225806456, 21.254838709677422, 21.806451612903224, 21.825806451612902, 21.299999999999994, 23.71612903225807, 21.287096774193547], \"yaxis\": \"y9\"}, {\"hovertemplate\": \"Month=February<br>Year=%{x}<br>Temp=%{y}<extra></extra>\", \"legendgroup\": \"\", \"line\": {\"color\": \"#636efa\", \"dash\": \"solid\"}, \"mode\": \"lines\", \"name\": \"\", \"orientation\": \"v\", \"showlegend\": false, \"type\": \"scatter\", \"x\": [1967, 1968, 1969, 1970, 1971, 1972, 1973, 1974, 1975, 1976, 1977, 1978, 1979, 1980, 1981, 1982, 1983, 1984, 1985, 1986, 1987, 1988, 1989, 1990, 1991, 1992, 1993, 1994, 1995, 1996, 1997, 1998, 1999, 2000, 2001, 2002, 2003, 2004, 2005, 2006, 2007, 2008, 2009, 2010, 2011, 2012, 2013, 2014, 2015, 2016, 2017, 2018], \"xaxis\": \"x10\", \"y\": [18.341176470588238, 19.662068965517243, 18.514285714285712, 19.457142857142856, 17.95925925925926, 19.782142857142855, 18.714285714285715, 17.760714285714286, 18.139285714285712, 18.17241379310345, 18.96428571428571, 18.896428571428572, 18.417857142857144, 20.106896551724134, 19.45357142857143, 18.639285714285712, 20.15, 18.29310344827586, 19.45714285714286, 19.310714285714283, 20.43214285714286, 19.84137931034483, 20.671428571428574, 18.960714285714285, 19.660714285714285, 18.924137931034487, 19.83928571428572, 18.724999999999998, 18.839285714285715, 19.365517241379308, 19.971428571428568, 18.925, 19.98928571428571, 18.775862068965516, 20.921428571428578, 19.614285714285717, 19.360714285714288, 19.155172413793103, 20.010714285714283, 19.950000000000006, 18.7, 20.36896551724138, 20.40714285714285, 19.70714285714286, 20.142857142857146, 21.741379310344822, 21.385714285714293, 19.8, 20.74285714285714, 21.42068965517241, 21.6, 20.960714285714285], \"yaxis\": \"y10\"}, {\"hovertemplate\": \"Month=March<br>Year=%{x}<br>Temp=%{y}<extra></extra>\", \"legendgroup\": \"\", \"line\": {\"color\": \"#636efa\", \"dash\": \"solid\"}, \"mode\": \"lines\", \"name\": \"\", \"orientation\": \"v\", \"showlegend\": false, \"type\": \"scatter\", \"x\": [1967, 1968, 1969, 1970, 1971, 1972, 1973, 1974, 1975, 1976, 1977, 1978, 1979, 1980, 1981, 1982, 1983, 1984, 1985, 1986, 1987, 1988, 1989, 1990, 1991, 1992, 1993, 1994, 1995, 1996, 1997, 1998, 1999, 2000, 2001, 2002, 2003, 2004, 2005, 2006, 2007, 2008, 2009, 2010, 2011, 2012, 2013, 2014, 2015, 2016, 2017, 2018], \"xaxis\": \"x11\", \"y\": [16.761290322580642, 16.19354838709678, 15.886666666666665, 17.041935483870965, 15.648387096774192, 16.85483870967742, 16.725806451612904, 16.42258064516129, 15.454838709677423, 14.80322580645161, 16.880645161290328, 15.729032258064517, 16.261290322580646, 18.619354838709675, 16.725806451612907, 16.835483870967746, 16.83870967741936, 16.690322580645162, 16.670967741935485, 16.79032258064516, 18.522580645161295, 17.364516129032253, 16.609677419354846, 16.361290322580643, 17.064516129032267, 17.751612903225805, 18.216129032258067, 17.03548387096774, 17.129032258064516, 17.625806451612906, 17.83225806451613, 17.493548387096773, 16.687096774193545, 16.862068965517246, 17.816129032258065, 18.190322580645162, 17.583870967741937, 18.15806451612903, 18.0741935483871, 16.858064516129033, 17.599999999999998, 18.151612903225807, 19.25483870967742, 18.56129032258064, 17.812903225806448, 20.125806451612902, 18.103225806451615, 17.78064516129032, 20.129032258064516, 18.59677419354839, 18.719354838709677, 19.655555555555555], \"yaxis\": \"y11\"}, {\"hovertemplate\": \"Month=April<br>Year=%{x}<br>Temp=%{y}<extra></extra>\", \"legendgroup\": \"\", \"line\": {\"color\": \"#636efa\", \"dash\": \"solid\"}, \"mode\": \"lines\", \"name\": \"\", \"orientation\": \"v\", \"showlegend\": false, \"type\": \"scatter\", \"x\": [1967, 1968, 1969, 1970, 1971, 1972, 1973, 1974, 1975, 1976, 1977, 1978, 1979, 1980, 1981, 1982, 1983, 1984, 1985, 1986, 1987, 1988, 1989, 1990, 1991, 1992, 1993, 1994, 1995, 1996, 1997, 1998, 1999, 2000, 2001, 2002, 2003, 2004, 2005, 2006, 2007, 2008, 2009, 2010, 2011, 2012, 2013, 2014, 2015, 2016, 2017], \"xaxis\": \"x12\", \"y\": [13.940000000000003, 12.321739130434784, 13.527586206896551, 13.957142857142859, 11.840000000000002, 12.792857142857143, 13.38, 12.156666666666666, 12.663333333333334, 11.041379310344823, 14.056666666666668, 12.466666666666665, 12.516666666666667, 13.533333333333335, 13.713333333333333, 13.073333333333329, 13.790000000000001, 12.773333333333332, 12.386666666666665, 13.096666666666668, 13.846666666666666, 13.683333333333335, 13.726666666666668, 13.333333333333332, 14.233333333333333, 13.140000000000002, 13.83, 14.36666666666667, 14.503333333333329, 12.246666666666666, 15.196666666666665, 13.903333333333334, 13.606666666666667, 13.44333333333333, 13.370000000000001, 12.96666666666667, 13.630000000000003, 14.226666666666661, 14.156666666666668, 14.003333333333332, 13.056666666666667, 14.51, 15.739999999999998, 13.500000000000002, 14.179999999999998, 14.906666666666663, 14.363333333333332, 13.726666666666663, 16.096666666666664, 14.096666666666668, 15.046666666666669], \"yaxis\": \"y12\"}, {\"hovertemplate\": \"Month=May<br>Year=%{x}<br>Temp=%{y}<extra></extra>\", \"legendgroup\": \"\", \"line\": {\"color\": \"#636efa\", \"dash\": \"solid\"}, \"mode\": \"lines\", \"name\": \"\", \"orientation\": \"v\", \"showlegend\": false, \"type\": \"scatter\", \"x\": [1967, 1968, 1969, 1970, 1971, 1972, 1973, 1974, 1975, 1976, 1977, 1978, 1979, 1980, 1981, 1982, 1983, 1984, 1985, 1986, 1987, 1988, 1989, 1990, 1991, 1992, 1993, 1994, 1995, 1996, 1997, 1998, 1999, 2000, 2001, 2002, 2003, 2004, 2005, 2006, 2007, 2008, 2009, 2010, 2011, 2012, 2013, 2014, 2015, 2016, 2017], \"xaxis\": \"x5\", \"y\": [10.670967741935485, 10.364516129032257, 10.622580645161289, 10.151612903225807, 10.42903225806452, 11.339999999999998, 10.896774193548387, 10.016129032258064, 9.509677419354837, 8.27741935483871, 11.283870967741937, 10.429032258064519, 10.841935483870968, 10.8, 11.651612903225804, 9.6, 9.141935483870967, 7.951612903225804, 10.019354838709678, 11.432258064516128, 9.616129032258062, 8.803225806451614, 9.280645161290325, 9.14838709677419, 12.203225806451611, 10.351612903225805, 8.912903225806454, 10.370967741935484, 11.725806451612904, 9.564516129032256, 11.461290322580643, 11.438709677419356, 10.935483870967744, 9.880645161290321, 10.029032258064515, 11.038709677419357, 9.574193548387095, 9.180645161290323, 9.94516129032258, 11.335483870967742, 8.8, 11.08709677419355, 12.01290322580645, 11.164516129032261, 10.406451612903227, 12.429032258064519, 10.767741935483869, 11.63548387096774, 11.751612903225807, 12.27096774193548, 10.706451612903226], \"yaxis\": \"y5\"}, {\"hovertemplate\": \"Month=June<br>Year=%{x}<br>Temp=%{y}<extra></extra>\", \"legendgroup\": \"\", \"line\": {\"color\": \"#636efa\", \"dash\": \"solid\"}, \"mode\": \"lines\", \"name\": \"\", \"orientation\": \"v\", \"showlegend\": false, \"type\": \"scatter\", \"x\": [1967, 1968, 1969, 1970, 1971, 1972, 1973, 1974, 1975, 1976, 1977, 1978, 1979, 1980, 1981, 1982, 1983, 1984, 1985, 1986, 1987, 1988, 1989, 1990, 1991, 1992, 1993, 1994, 1995, 1996, 1997, 1998, 1999, 2000, 2001, 2002, 2003, 2004, 2005, 2006, 2007, 2008, 2009, 2010, 2011, 2012, 2013, 2014, 2015, 2016, 2017], \"xaxis\": \"x6\", \"y\": [5.03103448275862, 8.096666666666666, 8.176666666666666, 5.916666666666667, 6.583333333333334, 10.0, 7.706666666666667, 6.746666666666666, 7.400000000000001, 7.023333333333335, 7.773333333333335, 7.9, 5.556666666666668, 7.996666666666666, 7.309999999999999, 8.95, 5.7566666666666695, 6.706666666666668, 8.98, 8.923333333333336, 8.65, 7.103333333333333, 7.556666666666664, 7.633333333333335, 8.973333333333333, 7.363333333333334, 8.806666666666667, 9.050000000000002, 9.613333333333335, 7.3933333333333335, 9.229999999999999, 8.623333333333333, 8.79, 8.649999999999999, 7.326666666666668, 7.209999999999999, 10.226666666666665, 8.370000000000001, 10.666666666666668, 9.763333333333332, 6.053333333333333, 7.616666666666665, 8.676666666666666, 8.19, 7.400000000000001, 10.00666666666667, 8.796666666666663, 7.513333333333333, 8.913333333333332, 8.043333333333333, 7.866666666666666], \"yaxis\": \"y6\"}, {\"hovertemplate\": \"Month=July<br>Year=%{x}<br>Temp=%{y}<extra></extra>\", \"legendgroup\": \"\", \"line\": {\"color\": \"#636efa\", \"dash\": \"solid\"}, \"mode\": \"lines\", \"name\": \"\", \"orientation\": \"v\", \"showlegend\": false, \"type\": \"scatter\", \"x\": [1967, 1968, 1969, 1970, 1971, 1972, 1973, 1974, 1975, 1976, 1977, 1978, 1979, 1980, 1981, 1982, 1983, 1984, 1985, 1986, 1987, 1988, 1989, 1990, 1991, 1992, 1993, 1994, 1995, 1996, 1997, 1998, 1999, 2000, 2001, 2002, 2003, 2004, 2005, 2006, 2007, 2008, 2009, 2010, 2011, 2012, 2013, 2014, 2015, 2016, 2017], \"xaxis\": \"x7\", \"y\": [5.693333333333333, 7.993333333333334, 8.669999999999998, 6.845161290322583, 9.02258064516129, 6.164516129032258, 7.6096774193548375, 5.703225806451614, 6.396774193548388, 6.500000000000001, 6.73548387096774, 9.935483870967744, 8.061290322580646, 6.812903225806452, 6.880645161290323, 8.861290322580645, 6.090322580645163, 7.370967741935484, 7.225806451612904, 8.274193548387096, 8.087096774193549, 6.880645161290323, 7.041935483870968, 6.1645161290322585, 7.52258064516129, 6.1096774193548375, 5.658064516129032, 7.3838709677419345, 6.803225806451613, 8.519354838709676, 8.716129032258063, 7.096774193548386, 7.083870967741937, 7.548387096774195, 9.161290322580646, 7.967741935483872, 7.0032258064516135, 8.158064516129032, 8.296774193548387, 9.674193548387096, 6.983870967741933, 8.290322580645164, 7.974193548387095, 5.796774193548386, 6.719354838709677, 7.567741935483871, 7.823333333333332, 8.780645161290325, 8.738709677419356, 8.716129032258063, 7.9967741935483865], \"yaxis\": \"y7\"}, {\"hovertemplate\": \"Month=August<br>Year=%{x}<br>Temp=%{y}<extra></extra>\", \"legendgroup\": \"\", \"line\": {\"color\": \"#636efa\", \"dash\": \"solid\"}, \"mode\": \"lines\", \"name\": \"\", \"orientation\": \"v\", \"showlegend\": false, \"type\": \"scatter\", \"x\": [1967, 1968, 1969, 1970, 1971, 1972, 1973, 1974, 1975, 1976, 1977, 1978, 1979, 1980, 1981, 1982, 1983, 1984, 1985, 1986, 1987, 1988, 1989, 1990, 1991, 1992, 1993, 1994, 1995, 1996, 1997, 1998, 1999, 2000, 2001, 2002, 2003, 2004, 2005, 2006, 2007, 2008, 2009, 2010, 2011, 2012, 2013, 2014, 2015, 2016, 2017], \"xaxis\": \"x8\", \"y\": [7.678571428571429, 9.883333333333331, 9.747999999999998, 8.264516129032256, 8.266666666666667, 9.310000000000002, 8.245161290322581, 8.309677419354838, 7.429032258064517, 8.061290322580648, 8.258064516129032, 7.529032258064517, 10.348387096774196, 8.196774193548388, 9.119354838709677, 9.458064516129031, 7.980645161290323, 7.6258064516129025, 7.716129032258063, 9.593548387096773, 9.203225806451615, 8.535483870967742, 9.222580645161292, 9.641935483870968, 7.264516129032257, 8.867741935483872, 8.261290322580646, 7.751612903225806, 7.77741935483871, 8.938709677419356, 10.490322580645161, 8.632258064516128, 9.261290322580642, 9.19032258064516, 9.748387096774193, 9.85806451612903, 9.006451612903227, 9.025806451612905, 10.483870967741934, 10.180645161290322, 6.496774193548389, 9.103225806451611, 10.04193548387097, 8.551612903225807, 8.33548387096774, 8.858064516129032, 8.93225806451613, 10.112903225806454, 11.180645161290322, 10.435483870967742, 8.838709677419354], \"yaxis\": \"y8\"}, {\"hovertemplate\": \"Month=September<br>Year=%{x}<br>Temp=%{y}<extra></extra>\", \"legendgroup\": \"\", \"line\": {\"color\": \"#636efa\", \"dash\": \"solid\"}, \"mode\": \"lines\", \"name\": \"\", \"orientation\": \"v\", \"showlegend\": false, \"type\": \"scatter\", \"x\": [1967, 1968, 1969, 1970, 1971, 1972, 1973, 1974, 1975, 1976, 1977, 1978, 1979, 1980, 1981, 1982, 1983, 1984, 1985, 1986, 1987, 1988, 1989, 1990, 1991, 1992, 1993, 1994, 1995, 1996, 1997, 1998, 1999, 2000, 2001, 2002, 2003, 2004, 2005, 2006, 2007, 2008, 2009, 2010, 2011, 2012, 2013, 2014, 2015, 2016, 2017], \"xaxis\": \"x\", \"y\": [9.258620689655173, 11.676666666666666, 11.583333333333337, 10.746666666666668, 10.375862068965516, 11.528571428571425, 10.003333333333332, 9.8, 9.130000000000003, 10.07333333333333, 11.126666666666669, 10.666666666666668, 10.003333333333334, 9.936666666666667, 10.360000000000001, 11.599999999999998, 9.23, 11.330000000000002, 11.469999999999997, 10.796666666666665, 10.996666666666668, 9.979999999999999, 10.27, 11.083333333333334, 11.97, 10.92, 10.03, 12.336666666666666, 11.460000000000003, 11.129999999999999, 12.046666666666669, 11.08, 10.73, 10.636666666666668, 10.136666666666663, 11.499999999999998, 11.956666666666667, 11.896666666666665, 10.393333333333333, 12.356666666666666, 10.266666666666664, 11.633333333333331, 10.309999999999999, 11.583333333333332, 12.906666666666666, 12.086666666666666, 11.376666666666665, 11.473333333333333, 12.513333333333334, 13.150000000000002, 11.599999999999998], \"yaxis\": \"y\"}, {\"hovertemplate\": \"Month=October<br>Year=%{x}<br>Temp=%{y}<extra></extra>\", \"legendgroup\": \"\", \"line\": {\"color\": \"#636efa\", \"dash\": \"solid\"}, \"mode\": \"lines\", \"name\": \"\", \"orientation\": \"v\", \"showlegend\": false, \"type\": \"scatter\", \"x\": [1967, 1968, 1969, 1970, 1971, 1972, 1973, 1974, 1975, 1976, 1977, 1978, 1979, 1980, 1981, 1982, 1983, 1984, 1985, 1986, 1987, 1988, 1989, 1990, 1991, 1992, 1993, 1994, 1995, 1996, 1997, 1998, 1999, 2000, 2001, 2002, 2003, 2004, 2005, 2006, 2007, 2008, 2009, 2010, 2011, 2012, 2013, 2014, 2015, 2016, 2017], \"xaxis\": \"x2\", \"y\": [13.374193548387096, 13.399999999999999, 12.741935483870966, 13.222580645161292, 13.975862068965519, 12.517857142857144, 12.651612903225805, 13.390322580645156, 12.709677419354843, 13.470967741935484, 13.387096774193548, 14.393548387096772, 13.538709677419359, 13.058064516129031, 12.512903225806454, 13.07096774193548, 14.264516129032259, 14.374193548387096, 13.764516129032259, 15.525806451612903, 14.49677419354839, 14.541935483870969, 13.545161290322584, 13.306451612903224, 13.20967741935484, 14.212903225806452, 13.580645161290322, 13.94838709677419, 14.161290322580639, 14.251612903225809, 12.874193548387098, 15.932258064516128, 13.596774193548386, 14.000000000000002, 14.519354838709676, 13.729032258064517, 15.77741935483871, 14.122580645161294, 13.361290322580645, 14.425806451612903, 14.258064516129036, 14.477419354838712, 15.054838709677421, 14.148387096774192, 14.851612903225806, 13.603225806451613, 14.8741935483871, 16.24838709677419, 13.683870967741937, 15.329032258064517, 14.132258064516131], \"yaxis\": \"y2\"}, {\"hovertemplate\": \"Month=November<br>Year=%{x}<br>Temp=%{y}<extra></extra>\", \"legendgroup\": \"\", \"line\": {\"color\": \"#636efa\", \"dash\": \"solid\"}, \"mode\": \"lines\", \"name\": \"\", \"orientation\": \"v\", \"showlegend\": false, \"type\": \"scatter\", \"x\": [1967, 1968, 1969, 1970, 1971, 1972, 1973, 1974, 1975, 1976, 1977, 1978, 1979, 1980, 1981, 1982, 1983, 1984, 1985, 1986, 1987, 1988, 1989, 1990, 1991, 1992, 1993, 1994, 1995, 1996, 1997, 1998, 1999, 2000, 2001, 2002, 2003, 2004, 2005, 2006, 2007, 2008, 2009, 2010, 2011, 2012, 2013, 2014, 2015, 2016, 2017], \"xaxis\": \"x3\", \"y\": [16.223333333333333, 17.59, 15.79655172413793, 16.120689655172413, 18.463333333333335, 15.653571428571427, 16.620689655172416, 15.483333333333333, 15.180000000000001, 17.353333333333335, 16.996666666666666, 17.049999999999997, 16.063333333333336, 15.51333333333333, 15.93, 15.53, 17.340000000000007, 15.473333333333333, 16.930000000000003, 15.939999999999998, 18.166666666666668, 17.713333333333335, 17.56, 16.729999999999997, 16.536666666666665, 16.486666666666665, 16.386666666666667, 17.29666666666667, 16.836666666666666, 18.18333333333333, 16.60333333333333, 16.733333333333334, 16.723333333333333, 17.156666666666663, 16.29666666666667, 16.236666666666668, 18.14333333333333, 16.836666666666662, 17.33333333333334, 16.886666666666667, 17.466666666666665, 18.3, 16.389999999999997, 17.51379310344828, 17.833333333333332, 18.080000000000002, 17.353333333333335, 17.51666666666667, 16.81333333333333, 19.143333333333334, 18.363333333333333], \"yaxis\": \"y3\"}, {\"hovertemplate\": \"Month=December<br>Year=%{x}<br>Temp=%{y}<extra></extra>\", \"legendgroup\": \"\", \"line\": {\"color\": \"#636efa\", \"dash\": \"solid\"}, \"mode\": \"lines\", \"name\": \"\", \"orientation\": \"v\", \"showlegend\": false, \"type\": \"scatter\", \"x\": [1967, 1968, 1970, 1971, 1972, 1973, 1974, 1975, 1976, 1977, 1978, 1979, 1980, 1981, 1982, 1983, 1984, 1985, 1986, 1987, 1988, 1989, 1990, 1991, 1992, 1993, 1994, 1995, 1996, 1997, 1998, 1999, 2000, 2001, 2002, 2003, 2004, 2005, 2006, 2007, 2008, 2009, 2010, 2011, 2012, 2013, 2014, 2015, 2016, 2017], \"xaxis\": \"x4\", \"y\": [19.63, 18.66896551724138, 17.989655172413794, 18.726666666666667, 20.62962962962963, 18.216129032258063, 17.60967741935484, 18.81935483870968, 19.380645161290325, 18.65666666666667, 19.532258064516128, 19.196774193548393, 18.890322580645165, 18.693548387096783, 19.59, 19.22580645161291, 18.687096774193545, 18.803225806451614, 20.51290322580645, 19.796666666666667, 19.46129032258065, 19.664516129032254, 19.203225806451613, 18.241935483870968, 18.79666666666667, 19.209677419354836, 20.03870967741936, 19.441935483870967, 19.348387096774196, 18.74516129032259, 20.1, 18.85483870967742, 20.05483870967742, 20.51612903225806, 18.687096774193545, 18.735483870967744, 19.883870967741935, 18.68387096774193, 19.36774193548387, 19.083870967741934, 20.006451612903227, 19.90322580645161, 18.03225806451613, 20.625806451612902, 19.493548387096773, 20.490322580645167, 19.24838709677419, 20.264516129032263, 20.012903225806454, 21.022580645161295], \"yaxis\": \"y4\"}],                        {\"annotations\": [{\"font\": {}, \"showarrow\": false, \"text\": \"Month=September\", \"x\": 0.1175, \"xanchor\": \"center\", \"xref\": \"paper\", \"y\": 0.2866666666666666, \"yanchor\": \"bottom\", \"yref\": \"paper\"}, {\"font\": {}, \"showarrow\": false, \"text\": \"Month=October\", \"x\": 0.3725, \"xanchor\": \"center\", \"xref\": \"paper\", \"y\": 0.2866666666666666, \"yanchor\": \"bottom\", \"yref\": \"paper\"}, {\"font\": {}, \"showarrow\": false, \"text\": \"Month=November\", \"x\": 0.6275, \"xanchor\": \"center\", \"xref\": \"paper\", \"y\": 0.2866666666666666, \"yanchor\": \"bottom\", \"yref\": \"paper\"}, {\"font\": {}, \"showarrow\": false, \"text\": \"Month=December\", \"x\": 0.8824999999999998, \"xanchor\": \"center\", \"xref\": \"paper\", \"y\": 0.2866666666666666, \"yanchor\": \"bottom\", \"yref\": \"paper\"}, {\"font\": {}, \"showarrow\": false, \"text\": \"Month=May\", \"x\": 0.1175, \"xanchor\": \"center\", \"xref\": \"paper\", \"y\": 0.6433333333333333, \"yanchor\": \"bottom\", \"yref\": \"paper\"}, {\"font\": {}, \"showarrow\": false, \"text\": \"Month=June\", \"x\": 0.3725, \"xanchor\": \"center\", \"xref\": \"paper\", \"y\": 0.6433333333333333, \"yanchor\": \"bottom\", \"yref\": \"paper\"}, {\"font\": {}, \"showarrow\": false, \"text\": \"Month=July\", \"x\": 0.6275, \"xanchor\": \"center\", \"xref\": \"paper\", \"y\": 0.6433333333333333, \"yanchor\": \"bottom\", \"yref\": \"paper\"}, {\"font\": {}, \"showarrow\": false, \"text\": \"Month=August\", \"x\": 0.8824999999999998, \"xanchor\": \"center\", \"xref\": \"paper\", \"y\": 0.6433333333333333, \"yanchor\": \"bottom\", \"yref\": \"paper\"}, {\"font\": {}, \"showarrow\": false, \"text\": \"Month=January\", \"x\": 0.1175, \"xanchor\": \"center\", \"xref\": \"paper\", \"y\": 0.9999999999999999, \"yanchor\": \"bottom\", \"yref\": \"paper\"}, {\"font\": {}, \"showarrow\": false, \"text\": \"Month=February\", \"x\": 0.3725, \"xanchor\": \"center\", \"xref\": \"paper\", \"y\": 0.9999999999999999, \"yanchor\": \"bottom\", \"yref\": \"paper\"}, {\"font\": {}, \"showarrow\": false, \"text\": \"Month=March\", \"x\": 0.6275, \"xanchor\": \"center\", \"xref\": \"paper\", \"y\": 0.9999999999999999, \"yanchor\": \"bottom\", \"yref\": \"paper\"}, {\"font\": {}, \"showarrow\": false, \"text\": \"Month=April\", \"x\": 0.8824999999999998, \"xanchor\": \"center\", \"xref\": \"paper\", \"y\": 0.9999999999999999, \"yanchor\": \"bottom\", \"yref\": \"paper\"}], \"legend\": {\"tracegroupgap\": 0}, \"margin\": {\"t\": 60}, \"template\": {\"data\": {\"bar\": [{\"error_x\": {\"color\": \"#2a3f5f\"}, \"error_y\": {\"color\": \"#2a3f5f\"}, \"marker\": {\"line\": {\"color\": \"#E5ECF6\", \"width\": 0.5}}, \"type\": \"bar\"}], \"barpolar\": [{\"marker\": {\"line\": {\"color\": \"#E5ECF6\", \"width\": 0.5}}, \"type\": \"barpolar\"}], \"carpet\": [{\"aaxis\": {\"endlinecolor\": \"#2a3f5f\", \"gridcolor\": \"white\", \"linecolor\": \"white\", \"minorgridcolor\": \"white\", \"startlinecolor\": \"#2a3f5f\"}, \"baxis\": {\"endlinecolor\": \"#2a3f5f\", \"gridcolor\": \"white\", \"linecolor\": \"white\", \"minorgridcolor\": \"white\", \"startlinecolor\": \"#2a3f5f\"}, \"type\": \"carpet\"}], \"choropleth\": [{\"colorbar\": {\"outlinewidth\": 0, \"ticks\": \"\"}, \"type\": \"choropleth\"}], \"contour\": [{\"colorbar\": {\"outlinewidth\": 0, \"ticks\": \"\"}, \"colorscale\": [[0.0, \"#0d0887\"], [0.1111111111111111, \"#46039f\"], [0.2222222222222222, \"#7201a8\"], [0.3333333333333333, \"#9c179e\"], [0.4444444444444444, \"#bd3786\"], [0.5555555555555556, \"#d8576b\"], [0.6666666666666666, \"#ed7953\"], [0.7777777777777778, \"#fb9f3a\"], [0.8888888888888888, \"#fdca26\"], [1.0, \"#f0f921\"]], \"type\": \"contour\"}], \"contourcarpet\": [{\"colorbar\": {\"outlinewidth\": 0, \"ticks\": \"\"}, \"type\": \"contourcarpet\"}], \"heatmap\": [{\"colorbar\": {\"outlinewidth\": 0, \"ticks\": \"\"}, \"colorscale\": [[0.0, \"#0d0887\"], [0.1111111111111111, \"#46039f\"], [0.2222222222222222, \"#7201a8\"], [0.3333333333333333, \"#9c179e\"], [0.4444444444444444, \"#bd3786\"], [0.5555555555555556, \"#d8576b\"], [0.6666666666666666, \"#ed7953\"], [0.7777777777777778, \"#fb9f3a\"], [0.8888888888888888, \"#fdca26\"], [1.0, \"#f0f921\"]], \"type\": \"heatmap\"}], \"heatmapgl\": [{\"colorbar\": {\"outlinewidth\": 0, \"ticks\": \"\"}, \"colorscale\": [[0.0, \"#0d0887\"], [0.1111111111111111, \"#46039f\"], [0.2222222222222222, \"#7201a8\"], [0.3333333333333333, \"#9c179e\"], [0.4444444444444444, \"#bd3786\"], [0.5555555555555556, \"#d8576b\"], [0.6666666666666666, \"#ed7953\"], [0.7777777777777778, \"#fb9f3a\"], [0.8888888888888888, \"#fdca26\"], [1.0, \"#f0f921\"]], \"type\": \"heatmapgl\"}], \"histogram\": [{\"marker\": {\"colorbar\": {\"outlinewidth\": 0, \"ticks\": \"\"}}, \"type\": \"histogram\"}], \"histogram2d\": [{\"colorbar\": {\"outlinewidth\": 0, \"ticks\": \"\"}, \"colorscale\": [[0.0, \"#0d0887\"], [0.1111111111111111, \"#46039f\"], [0.2222222222222222, \"#7201a8\"], [0.3333333333333333, \"#9c179e\"], [0.4444444444444444, \"#bd3786\"], [0.5555555555555556, \"#d8576b\"], [0.6666666666666666, \"#ed7953\"], [0.7777777777777778, \"#fb9f3a\"], [0.8888888888888888, \"#fdca26\"], [1.0, \"#f0f921\"]], \"type\": \"histogram2d\"}], \"histogram2dcontour\": [{\"colorbar\": {\"outlinewidth\": 0, \"ticks\": \"\"}, \"colorscale\": [[0.0, \"#0d0887\"], [0.1111111111111111, \"#46039f\"], [0.2222222222222222, \"#7201a8\"], [0.3333333333333333, \"#9c179e\"], [0.4444444444444444, \"#bd3786\"], [0.5555555555555556, \"#d8576b\"], [0.6666666666666666, \"#ed7953\"], [0.7777777777777778, \"#fb9f3a\"], [0.8888888888888888, \"#fdca26\"], [1.0, \"#f0f921\"]], \"type\": \"histogram2dcontour\"}], \"mesh3d\": [{\"colorbar\": {\"outlinewidth\": 0, \"ticks\": \"\"}, \"type\": \"mesh3d\"}], \"parcoords\": [{\"line\": {\"colorbar\": {\"outlinewidth\": 0, \"ticks\": \"\"}}, \"type\": \"parcoords\"}], \"pie\": [{\"automargin\": true, \"type\": \"pie\"}], \"scatter\": [{\"marker\": {\"colorbar\": {\"outlinewidth\": 0, \"ticks\": \"\"}}, \"type\": \"scatter\"}], \"scatter3d\": [{\"line\": {\"colorbar\": {\"outlinewidth\": 0, \"ticks\": \"\"}}, \"marker\": {\"colorbar\": {\"outlinewidth\": 0, \"ticks\": \"\"}}, \"type\": \"scatter3d\"}], \"scattercarpet\": [{\"marker\": {\"colorbar\": {\"outlinewidth\": 0, \"ticks\": \"\"}}, \"type\": \"scattercarpet\"}], \"scattergeo\": [{\"marker\": {\"colorbar\": {\"outlinewidth\": 0, \"ticks\": \"\"}}, \"type\": \"scattergeo\"}], \"scattergl\": [{\"marker\": {\"colorbar\": {\"outlinewidth\": 0, \"ticks\": \"\"}}, \"type\": \"scattergl\"}], \"scattermapbox\": [{\"marker\": {\"colorbar\": {\"outlinewidth\": 0, \"ticks\": \"\"}}, \"type\": \"scattermapbox\"}], \"scatterpolar\": [{\"marker\": {\"colorbar\": {\"outlinewidth\": 0, \"ticks\": \"\"}}, \"type\": \"scatterpolar\"}], \"scatterpolargl\": [{\"marker\": {\"colorbar\": {\"outlinewidth\": 0, \"ticks\": \"\"}}, \"type\": \"scatterpolargl\"}], \"scatterternary\": [{\"marker\": {\"colorbar\": {\"outlinewidth\": 0, \"ticks\": \"\"}}, \"type\": \"scatterternary\"}], \"surface\": [{\"colorbar\": {\"outlinewidth\": 0, \"ticks\": \"\"}, \"colorscale\": [[0.0, \"#0d0887\"], [0.1111111111111111, \"#46039f\"], [0.2222222222222222, \"#7201a8\"], [0.3333333333333333, \"#9c179e\"], [0.4444444444444444, \"#bd3786\"], [0.5555555555555556, \"#d8576b\"], [0.6666666666666666, \"#ed7953\"], [0.7777777777777778, \"#fb9f3a\"], [0.8888888888888888, \"#fdca26\"], [1.0, \"#f0f921\"]], \"type\": \"surface\"}], \"table\": [{\"cells\": {\"fill\": {\"color\": \"#EBF0F8\"}, \"line\": {\"color\": \"white\"}}, \"header\": {\"fill\": {\"color\": \"#C8D4E3\"}, \"line\": {\"color\": \"white\"}}, \"type\": \"table\"}]}, \"layout\": {\"annotationdefaults\": {\"arrowcolor\": \"#2a3f5f\", \"arrowhead\": 0, \"arrowwidth\": 1}, \"autotypenumbers\": \"strict\", \"coloraxis\": {\"colorbar\": {\"outlinewidth\": 0, \"ticks\": \"\"}}, \"colorscale\": {\"diverging\": [[0, \"#8e0152\"], [0.1, \"#c51b7d\"], [0.2, \"#de77ae\"], [0.3, \"#f1b6da\"], [0.4, \"#fde0ef\"], [0.5, \"#f7f7f7\"], [0.6, \"#e6f5d0\"], [0.7, \"#b8e186\"], [0.8, \"#7fbc41\"], [0.9, \"#4d9221\"], [1, \"#276419\"]], \"sequential\": [[0.0, \"#0d0887\"], [0.1111111111111111, \"#46039f\"], [0.2222222222222222, \"#7201a8\"], [0.3333333333333333, \"#9c179e\"], [0.4444444444444444, \"#bd3786\"], [0.5555555555555556, \"#d8576b\"], [0.6666666666666666, \"#ed7953\"], [0.7777777777777778, \"#fb9f3a\"], [0.8888888888888888, \"#fdca26\"], [1.0, \"#f0f921\"]], \"sequentialminus\": [[0.0, \"#0d0887\"], [0.1111111111111111, \"#46039f\"], [0.2222222222222222, \"#7201a8\"], [0.3333333333333333, \"#9c179e\"], [0.4444444444444444, \"#bd3786\"], [0.5555555555555556, \"#d8576b\"], [0.6666666666666666, \"#ed7953\"], [0.7777777777777778, \"#fb9f3a\"], [0.8888888888888888, \"#fdca26\"], [1.0, \"#f0f921\"]]}, \"colorway\": [\"#636efa\", \"#EF553B\", \"#00cc96\", \"#ab63fa\", \"#FFA15A\", \"#19d3f3\", \"#FF6692\", \"#B6E880\", \"#FF97FF\", \"#FECB52\"], \"font\": {\"color\": \"#2a3f5f\"}, \"geo\": {\"bgcolor\": \"white\", \"lakecolor\": \"white\", \"landcolor\": \"#E5ECF6\", \"showlakes\": true, \"showland\": true, \"subunitcolor\": \"white\"}, \"hoverlabel\": {\"align\": \"left\"}, \"hovermode\": \"closest\", \"mapbox\": {\"style\": \"light\"}, \"paper_bgcolor\": \"white\", \"plot_bgcolor\": \"#E5ECF6\", \"polar\": {\"angularaxis\": {\"gridcolor\": \"white\", \"linecolor\": \"white\", \"ticks\": \"\"}, \"bgcolor\": \"#E5ECF6\", \"radialaxis\": {\"gridcolor\": \"white\", \"linecolor\": \"white\", \"ticks\": \"\"}}, \"scene\": {\"xaxis\": {\"backgroundcolor\": \"#E5ECF6\", \"gridcolor\": \"white\", \"gridwidth\": 2, \"linecolor\": \"white\", \"showbackground\": true, \"ticks\": \"\", \"zerolinecolor\": \"white\"}, \"yaxis\": {\"backgroundcolor\": \"#E5ECF6\", \"gridcolor\": \"white\", \"gridwidth\": 2, \"linecolor\": \"white\", \"showbackground\": true, \"ticks\": \"\", \"zerolinecolor\": \"white\"}, \"zaxis\": {\"backgroundcolor\": \"#E5ECF6\", \"gridcolor\": \"white\", \"gridwidth\": 2, \"linecolor\": \"white\", \"showbackground\": true, \"ticks\": \"\", \"zerolinecolor\": \"white\"}}, \"shapedefaults\": {\"line\": {\"color\": \"#2a3f5f\"}}, \"ternary\": {\"aaxis\": {\"gridcolor\": \"white\", \"linecolor\": \"white\", \"ticks\": \"\"}, \"baxis\": {\"gridcolor\": \"white\", \"linecolor\": \"white\", \"ticks\": \"\"}, \"bgcolor\": \"#E5ECF6\", \"caxis\": {\"gridcolor\": \"white\", \"linecolor\": \"white\", \"ticks\": \"\"}}, \"title\": {\"x\": 0.05}, \"xaxis\": {\"automargin\": true, \"gridcolor\": \"white\", \"linecolor\": \"white\", \"ticks\": \"\", \"title\": {\"standoff\": 15}, \"zerolinecolor\": \"white\", \"zerolinewidth\": 2}, \"yaxis\": {\"automargin\": true, \"gridcolor\": \"white\", \"linecolor\": \"white\", \"ticks\": \"\", \"title\": {\"standoff\": 15}, \"zerolinecolor\": \"white\", \"zerolinewidth\": 2}}}, \"title\": {\"text\": \"Monthly temprature throught history:\"}, \"xaxis\": {\"anchor\": \"y\", \"domain\": [0.0, 0.235], \"title\": {\"text\": \"Year\"}}, \"xaxis10\": {\"anchor\": \"y10\", \"domain\": [0.255, 0.49], \"matches\": \"x\", \"showticklabels\": false}, \"xaxis11\": {\"anchor\": \"y11\", \"domain\": [0.51, 0.745], \"matches\": \"x\", \"showticklabels\": false}, \"xaxis12\": {\"anchor\": \"y12\", \"domain\": [0.7649999999999999, 0.9999999999999999], \"matches\": \"x\", \"showticklabels\": false}, \"xaxis2\": {\"anchor\": \"y2\", \"domain\": [0.255, 0.49], \"matches\": \"x\", \"title\": {\"text\": \"Year\"}}, \"xaxis3\": {\"anchor\": \"y3\", \"domain\": [0.51, 0.745], \"matches\": \"x\", \"title\": {\"text\": \"Year\"}}, \"xaxis4\": {\"anchor\": \"y4\", \"domain\": [0.7649999999999999, 0.9999999999999999], \"matches\": \"x\", \"title\": {\"text\": \"Year\"}}, \"xaxis5\": {\"anchor\": \"y5\", \"domain\": [0.0, 0.235], \"matches\": \"x\", \"showticklabels\": false}, \"xaxis6\": {\"anchor\": \"y6\", \"domain\": [0.255, 0.49], \"matches\": \"x\", \"showticklabels\": false}, \"xaxis7\": {\"anchor\": \"y7\", \"domain\": [0.51, 0.745], \"matches\": \"x\", \"showticklabels\": false}, \"xaxis8\": {\"anchor\": \"y8\", \"domain\": [0.7649999999999999, 0.9999999999999999], \"matches\": \"x\", \"showticklabels\": false}, \"xaxis9\": {\"anchor\": \"y9\", \"domain\": [0.0, 0.235], \"matches\": \"x\", \"showticklabels\": false}, \"yaxis\": {\"anchor\": \"x\", \"domain\": [0.0, 0.2866666666666666], \"title\": {\"text\": \"Temp\"}}, \"yaxis10\": {\"anchor\": \"x10\", \"domain\": [0.7133333333333333, 0.9999999999999999], \"matches\": \"y\", \"showticklabels\": false}, \"yaxis11\": {\"anchor\": \"x11\", \"domain\": [0.7133333333333333, 0.9999999999999999], \"matches\": \"y\", \"showticklabels\": false}, \"yaxis12\": {\"anchor\": \"x12\", \"domain\": [0.7133333333333333, 0.9999999999999999], \"matches\": \"y\", \"showticklabels\": false}, \"yaxis2\": {\"anchor\": \"x2\", \"domain\": [0.0, 0.2866666666666666], \"matches\": \"y\", \"showticklabels\": false}, \"yaxis3\": {\"anchor\": \"x3\", \"domain\": [0.0, 0.2866666666666666], \"matches\": \"y\", \"showticklabels\": false}, \"yaxis4\": {\"anchor\": \"x4\", \"domain\": [0.0, 0.2866666666666666], \"matches\": \"y\", \"showticklabels\": false}, \"yaxis5\": {\"anchor\": \"x5\", \"domain\": [0.35666666666666663, 0.6433333333333333], \"matches\": \"y\", \"title\": {\"text\": \"Temp\"}}, \"yaxis6\": {\"anchor\": \"x6\", \"domain\": [0.35666666666666663, 0.6433333333333333], \"matches\": \"y\", \"showticklabels\": false}, \"yaxis7\": {\"anchor\": \"x7\", \"domain\": [0.35666666666666663, 0.6433333333333333], \"matches\": \"y\", \"showticklabels\": false}, \"yaxis8\": {\"anchor\": \"x8\", \"domain\": [0.35666666666666663, 0.6433333333333333], \"matches\": \"y\", \"showticklabels\": false}, \"yaxis9\": {\"anchor\": \"x9\", \"domain\": [0.7133333333333333, 0.9999999999999999], \"matches\": \"y\", \"title\": {\"text\": \"Temp\"}}},                        {\"responsive\": true}                    ).then(function(){\n",
              "                            \n",
              "var gd = document.getElementById('965e627c-e109-4ea4-9c2a-526225067f29');\n",
              "var x = new MutationObserver(function (mutations, observer) {{\n",
              "        var display = window.getComputedStyle(gd).display;\n",
              "        if (!display || display === 'none') {{\n",
              "            console.log([gd, 'removed!']);\n",
              "            Plotly.purge(gd);\n",
              "            observer.disconnect();\n",
              "        }}\n",
              "}});\n",
              "\n",
              "// Listen for the removal of the full notebook cells\n",
              "var notebookContainer = gd.closest('#notebook-container');\n",
              "if (notebookContainer) {{\n",
              "    x.observe(notebookContainer, {childList: true});\n",
              "}}\n",
              "\n",
              "// Listen for the clearing of the current output cell\n",
              "var outputEl = gd.closest('.output');\n",
              "if (outputEl) {{\n",
              "    x.observe(outputEl, {childList: true});\n",
              "}}\n",
              "\n",
              "                        })                };                            </script>        </div>\n",
              "</body>\n",
              "</html>"
            ]
          },
          "metadata": {
            "tags": []
          }
        }
      ]
    },
    {
      "cell_type": "markdown",
      "metadata": {
        "id": "K2E0pVxXpeeP"
      },
      "source": [
        "**Justifique:**"
      ]
    },
    {
      "cell_type": "markdown",
      "metadata": {
        "id": "pYz7VnY-pgzE"
      },
      "source": [
        "```\n",
        " Escriba aqui su respuesta\n",
        "```"
      ]
    },
    {
      "cell_type": "markdown",
      "metadata": {
        "id": "8Ura8MkBpEBs"
      },
      "source": [
        "### 2.2.3.1 Representación interesante [Bonus - 0,5 Puntos]\n",
        "\n",
        "\n",
        "Implemente la siguiente visualización y proponga otra que considere útil.\n",
        "Visite la referencia de [plotly](https://plotly.com/python) y [px.line](https://plotly.com/python/line-charts/) para mayor información."
      ]
    },
    {
      "cell_type": "code",
      "metadata": {
        "colab": {
          "base_uri": "https://localhost:8080/",
          "height": 542
        },
        "id": "_cH3NNWsMJ5K",
        "outputId": "266b26ff-4194-421c-b32d-d6ffbce0f2c9"
      },
      "source": [
        "#########################\n",
        "    Código Aquí\n",
        "#########################"
      ],
      "execution_count": null,
      "outputs": [
        {
          "output_type": "display_data",
          "data": {
            "text/html": [
              "<html>\n",
              "<head><meta charset=\"utf-8\" /></head>\n",
              "<body>\n",
              "    <div>            <script src=\"https://cdnjs.cloudflare.com/ajax/libs/mathjax/2.7.5/MathJax.js?config=TeX-AMS-MML_SVG\"></script><script type=\"text/javascript\">if (window.MathJax) {MathJax.Hub.Config({SVG: {font: \"STIX-Web\"}});}</script>                <script type=\"text/javascript\">window.PlotlyConfig = {MathJaxConfig: 'local'};</script>\n",
              "        <script src=\"https://cdn.plot.ly/plotly-latest.min.js\"></script>                <div id=\"65039a75-7471-4508-bd7a-dbd02fbbce22\" class=\"plotly-graph-div\" style=\"height:525px; width:100%;\"></div>            <script type=\"text/javascript\">                                    window.PLOTLYENV=window.PLOTLYENV || {};                                    if (document.getElementById(\"65039a75-7471-4508-bd7a-dbd02fbbce22\")) {                    Plotly.newPlot(                        \"65039a75-7471-4508-bd7a-dbd02fbbce22\",                        [{\"hovertemplate\": \"Year=1967<br>Month=%{x}<br>Temp=%{y}<extra></extra>\", \"legendgroup\": \"\", \"line\": {\"color\": \"#636efa\", \"dash\": \"solid\"}, \"mode\": \"lines\", \"name\": \"\", \"orientation\": \"v\", \"showlegend\": false, \"type\": \"scatter\", \"x\": [\"January\", \"February\", \"March\", \"April\", \"May\", \"June\", \"July\", \"August\", \"September\", \"October\", \"November\", \"December\"], \"xaxis\": \"x\", \"y\": [18.65, 18.341176470588238, 16.761290322580642, 13.940000000000003, 10.670967741935485, 5.03103448275862, 5.693333333333333, 7.678571428571429, 9.258620689655173, 13.374193548387096, 16.223333333333333, 19.63], \"yaxis\": \"y\"}],                        {\"legend\": {\"tracegroupgap\": 0}, \"margin\": {\"t\": 60}, \"sliders\": [{\"active\": 0, \"currentvalue\": {\"prefix\": \"Year=\"}, \"len\": 0.9, \"pad\": {\"b\": 10, \"t\": 60}, \"steps\": [{\"args\": [[\"1967\"], {\"frame\": {\"duration\": 0, \"redraw\": false}, \"fromcurrent\": true, \"mode\": \"immediate\", \"transition\": {\"duration\": 0, \"easing\": \"linear\"}}], \"label\": \"1967\", \"method\": \"animate\"}, {\"args\": [[\"1968\"], {\"frame\": {\"duration\": 0, \"redraw\": false}, \"fromcurrent\": true, \"mode\": \"immediate\", \"transition\": {\"duration\": 0, \"easing\": \"linear\"}}], \"label\": \"1968\", \"method\": \"animate\"}, {\"args\": [[\"1969\"], {\"frame\": {\"duration\": 0, \"redraw\": false}, \"fromcurrent\": true, \"mode\": \"immediate\", \"transition\": {\"duration\": 0, \"easing\": \"linear\"}}], \"label\": \"1969\", \"method\": \"animate\"}, {\"args\": [[\"1970\"], {\"frame\": {\"duration\": 0, \"redraw\": false}, \"fromcurrent\": true, \"mode\": \"immediate\", \"transition\": {\"duration\": 0, \"easing\": \"linear\"}}], \"label\": \"1970\", \"method\": \"animate\"}, {\"args\": [[\"1971\"], {\"frame\": {\"duration\": 0, \"redraw\": false}, \"fromcurrent\": true, \"mode\": \"immediate\", \"transition\": {\"duration\": 0, \"easing\": \"linear\"}}], \"label\": \"1971\", \"method\": \"animate\"}, {\"args\": [[\"1972\"], {\"frame\": {\"duration\": 0, \"redraw\": false}, \"fromcurrent\": true, \"mode\": \"immediate\", \"transition\": {\"duration\": 0, \"easing\": \"linear\"}}], \"label\": \"1972\", \"method\": \"animate\"}, {\"args\": [[\"1973\"], {\"frame\": {\"duration\": 0, \"redraw\": false}, \"fromcurrent\": true, \"mode\": \"immediate\", \"transition\": {\"duration\": 0, \"easing\": \"linear\"}}], \"label\": \"1973\", \"method\": \"animate\"}, {\"args\": [[\"1974\"], {\"frame\": {\"duration\": 0, \"redraw\": false}, \"fromcurrent\": true, \"mode\": \"immediate\", \"transition\": {\"duration\": 0, \"easing\": \"linear\"}}], \"label\": \"1974\", \"method\": \"animate\"}, {\"args\": [[\"1975\"], {\"frame\": {\"duration\": 0, \"redraw\": false}, \"fromcurrent\": true, \"mode\": \"immediate\", \"transition\": {\"duration\": 0, \"easing\": \"linear\"}}], \"label\": \"1975\", \"method\": \"animate\"}, {\"args\": [[\"1976\"], {\"frame\": {\"duration\": 0, \"redraw\": false}, \"fromcurrent\": true, \"mode\": \"immediate\", \"transition\": {\"duration\": 0, \"easing\": \"linear\"}}], \"label\": \"1976\", \"method\": \"animate\"}, {\"args\": [[\"1977\"], {\"frame\": {\"duration\": 0, \"redraw\": false}, \"fromcurrent\": true, \"mode\": \"immediate\", \"transition\": {\"duration\": 0, \"easing\": \"linear\"}}], \"label\": \"1977\", \"method\": \"animate\"}, {\"args\": [[\"1978\"], {\"frame\": {\"duration\": 0, \"redraw\": false}, \"fromcurrent\": true, \"mode\": \"immediate\", \"transition\": {\"duration\": 0, \"easing\": \"linear\"}}], \"label\": \"1978\", \"method\": \"animate\"}, {\"args\": [[\"1979\"], {\"frame\": {\"duration\": 0, \"redraw\": false}, \"fromcurrent\": true, \"mode\": \"immediate\", \"transition\": {\"duration\": 0, \"easing\": \"linear\"}}], \"label\": \"1979\", \"method\": \"animate\"}, {\"args\": [[\"1980\"], {\"frame\": {\"duration\": 0, \"redraw\": false}, \"fromcurrent\": true, \"mode\": \"immediate\", \"transition\": {\"duration\": 0, \"easing\": \"linear\"}}], \"label\": \"1980\", \"method\": \"animate\"}, {\"args\": [[\"1981\"], {\"frame\": {\"duration\": 0, \"redraw\": false}, \"fromcurrent\": true, \"mode\": \"immediate\", \"transition\": {\"duration\": 0, \"easing\": \"linear\"}}], \"label\": \"1981\", \"method\": \"animate\"}, {\"args\": [[\"1982\"], {\"frame\": {\"duration\": 0, \"redraw\": false}, \"fromcurrent\": true, \"mode\": \"immediate\", \"transition\": {\"duration\": 0, \"easing\": \"linear\"}}], \"label\": \"1982\", \"method\": \"animate\"}, {\"args\": [[\"1983\"], {\"frame\": {\"duration\": 0, \"redraw\": false}, \"fromcurrent\": true, \"mode\": \"immediate\", \"transition\": {\"duration\": 0, \"easing\": \"linear\"}}], \"label\": \"1983\", \"method\": \"animate\"}, {\"args\": [[\"1984\"], {\"frame\": {\"duration\": 0, \"redraw\": false}, \"fromcurrent\": true, \"mode\": \"immediate\", \"transition\": {\"duration\": 0, \"easing\": \"linear\"}}], \"label\": \"1984\", \"method\": \"animate\"}, {\"args\": [[\"1985\"], {\"frame\": {\"duration\": 0, \"redraw\": false}, \"fromcurrent\": true, \"mode\": \"immediate\", \"transition\": {\"duration\": 0, \"easing\": \"linear\"}}], \"label\": \"1985\", \"method\": \"animate\"}, {\"args\": [[\"1986\"], {\"frame\": {\"duration\": 0, \"redraw\": false}, \"fromcurrent\": true, \"mode\": \"immediate\", \"transition\": {\"duration\": 0, \"easing\": \"linear\"}}], \"label\": \"1986\", \"method\": \"animate\"}, {\"args\": [[\"1987\"], {\"frame\": {\"duration\": 0, \"redraw\": false}, \"fromcurrent\": true, \"mode\": \"immediate\", \"transition\": {\"duration\": 0, \"easing\": \"linear\"}}], \"label\": \"1987\", \"method\": \"animate\"}, {\"args\": [[\"1988\"], {\"frame\": {\"duration\": 0, \"redraw\": false}, \"fromcurrent\": true, \"mode\": \"immediate\", \"transition\": {\"duration\": 0, \"easing\": \"linear\"}}], \"label\": \"1988\", \"method\": \"animate\"}, {\"args\": [[\"1989\"], {\"frame\": {\"duration\": 0, \"redraw\": false}, \"fromcurrent\": true, \"mode\": \"immediate\", \"transition\": {\"duration\": 0, \"easing\": \"linear\"}}], \"label\": \"1989\", \"method\": \"animate\"}, {\"args\": [[\"1990\"], {\"frame\": {\"duration\": 0, \"redraw\": false}, \"fromcurrent\": true, \"mode\": \"immediate\", \"transition\": {\"duration\": 0, \"easing\": \"linear\"}}], \"label\": \"1990\", \"method\": \"animate\"}, {\"args\": [[\"1991\"], {\"frame\": {\"duration\": 0, \"redraw\": false}, \"fromcurrent\": true, \"mode\": \"immediate\", \"transition\": {\"duration\": 0, \"easing\": \"linear\"}}], \"label\": \"1991\", \"method\": \"animate\"}, {\"args\": [[\"1992\"], {\"frame\": {\"duration\": 0, \"redraw\": false}, \"fromcurrent\": true, \"mode\": \"immediate\", \"transition\": {\"duration\": 0, \"easing\": \"linear\"}}], \"label\": \"1992\", \"method\": \"animate\"}, {\"args\": [[\"1993\"], {\"frame\": {\"duration\": 0, \"redraw\": false}, \"fromcurrent\": true, \"mode\": \"immediate\", \"transition\": {\"duration\": 0, \"easing\": \"linear\"}}], \"label\": \"1993\", \"method\": \"animate\"}, {\"args\": [[\"1994\"], {\"frame\": {\"duration\": 0, \"redraw\": false}, \"fromcurrent\": true, \"mode\": \"immediate\", \"transition\": {\"duration\": 0, \"easing\": \"linear\"}}], \"label\": \"1994\", \"method\": \"animate\"}, {\"args\": [[\"1995\"], {\"frame\": {\"duration\": 0, \"redraw\": false}, \"fromcurrent\": true, \"mode\": \"immediate\", \"transition\": {\"duration\": 0, \"easing\": \"linear\"}}], \"label\": \"1995\", \"method\": \"animate\"}, {\"args\": [[\"1996\"], {\"frame\": {\"duration\": 0, \"redraw\": false}, \"fromcurrent\": true, \"mode\": \"immediate\", \"transition\": {\"duration\": 0, \"easing\": \"linear\"}}], \"label\": \"1996\", \"method\": \"animate\"}, {\"args\": [[\"1997\"], {\"frame\": {\"duration\": 0, \"redraw\": false}, \"fromcurrent\": true, \"mode\": \"immediate\", \"transition\": {\"duration\": 0, \"easing\": \"linear\"}}], \"label\": \"1997\", \"method\": \"animate\"}, {\"args\": [[\"1998\"], {\"frame\": {\"duration\": 0, \"redraw\": false}, \"fromcurrent\": true, \"mode\": \"immediate\", \"transition\": {\"duration\": 0, \"easing\": \"linear\"}}], \"label\": \"1998\", \"method\": \"animate\"}, {\"args\": [[\"1999\"], {\"frame\": {\"duration\": 0, \"redraw\": false}, \"fromcurrent\": true, \"mode\": \"immediate\", \"transition\": {\"duration\": 0, \"easing\": \"linear\"}}], \"label\": \"1999\", \"method\": \"animate\"}, {\"args\": [[\"2000\"], {\"frame\": {\"duration\": 0, \"redraw\": false}, \"fromcurrent\": true, \"mode\": \"immediate\", \"transition\": {\"duration\": 0, \"easing\": \"linear\"}}], \"label\": \"2000\", \"method\": \"animate\"}, {\"args\": [[\"2001\"], {\"frame\": {\"duration\": 0, \"redraw\": false}, \"fromcurrent\": true, \"mode\": \"immediate\", \"transition\": {\"duration\": 0, \"easing\": \"linear\"}}], \"label\": \"2001\", \"method\": \"animate\"}, {\"args\": [[\"2002\"], {\"frame\": {\"duration\": 0, \"redraw\": false}, \"fromcurrent\": true, \"mode\": \"immediate\", \"transition\": {\"duration\": 0, \"easing\": \"linear\"}}], \"label\": \"2002\", \"method\": \"animate\"}, {\"args\": [[\"2003\"], {\"frame\": {\"duration\": 0, \"redraw\": false}, \"fromcurrent\": true, \"mode\": \"immediate\", \"transition\": {\"duration\": 0, \"easing\": \"linear\"}}], \"label\": \"2003\", \"method\": \"animate\"}, {\"args\": [[\"2004\"], {\"frame\": {\"duration\": 0, \"redraw\": false}, \"fromcurrent\": true, \"mode\": \"immediate\", \"transition\": {\"duration\": 0, \"easing\": \"linear\"}}], \"label\": \"2004\", \"method\": \"animate\"}, {\"args\": [[\"2005\"], {\"frame\": {\"duration\": 0, \"redraw\": false}, \"fromcurrent\": true, \"mode\": \"immediate\", \"transition\": {\"duration\": 0, \"easing\": \"linear\"}}], \"label\": \"2005\", \"method\": \"animate\"}, {\"args\": [[\"2006\"], {\"frame\": {\"duration\": 0, \"redraw\": false}, \"fromcurrent\": true, \"mode\": \"immediate\", \"transition\": {\"duration\": 0, \"easing\": \"linear\"}}], \"label\": \"2006\", \"method\": \"animate\"}, {\"args\": [[\"2007\"], {\"frame\": {\"duration\": 0, \"redraw\": false}, \"fromcurrent\": true, \"mode\": \"immediate\", \"transition\": {\"duration\": 0, \"easing\": \"linear\"}}], \"label\": \"2007\", \"method\": \"animate\"}, {\"args\": [[\"2008\"], {\"frame\": {\"duration\": 0, \"redraw\": false}, \"fromcurrent\": true, \"mode\": \"immediate\", \"transition\": {\"duration\": 0, \"easing\": \"linear\"}}], \"label\": \"2008\", \"method\": \"animate\"}, {\"args\": [[\"2009\"], {\"frame\": {\"duration\": 0, \"redraw\": false}, \"fromcurrent\": true, \"mode\": \"immediate\", \"transition\": {\"duration\": 0, \"easing\": \"linear\"}}], \"label\": \"2009\", \"method\": \"animate\"}, {\"args\": [[\"2010\"], {\"frame\": {\"duration\": 0, \"redraw\": false}, \"fromcurrent\": true, \"mode\": \"immediate\", \"transition\": {\"duration\": 0, \"easing\": \"linear\"}}], \"label\": \"2010\", \"method\": \"animate\"}, {\"args\": [[\"2011\"], {\"frame\": {\"duration\": 0, \"redraw\": false}, \"fromcurrent\": true, \"mode\": \"immediate\", \"transition\": {\"duration\": 0, \"easing\": \"linear\"}}], \"label\": \"2011\", \"method\": \"animate\"}, {\"args\": [[\"2012\"], {\"frame\": {\"duration\": 0, \"redraw\": false}, \"fromcurrent\": true, \"mode\": \"immediate\", \"transition\": {\"duration\": 0, \"easing\": \"linear\"}}], \"label\": \"2012\", \"method\": \"animate\"}, {\"args\": [[\"2013\"], {\"frame\": {\"duration\": 0, \"redraw\": false}, \"fromcurrent\": true, \"mode\": \"immediate\", \"transition\": {\"duration\": 0, \"easing\": \"linear\"}}], \"label\": \"2013\", \"method\": \"animate\"}, {\"args\": [[\"2014\"], {\"frame\": {\"duration\": 0, \"redraw\": false}, \"fromcurrent\": true, \"mode\": \"immediate\", \"transition\": {\"duration\": 0, \"easing\": \"linear\"}}], \"label\": \"2014\", \"method\": \"animate\"}, {\"args\": [[\"2015\"], {\"frame\": {\"duration\": 0, \"redraw\": false}, \"fromcurrent\": true, \"mode\": \"immediate\", \"transition\": {\"duration\": 0, \"easing\": \"linear\"}}], \"label\": \"2015\", \"method\": \"animate\"}, {\"args\": [[\"2016\"], {\"frame\": {\"duration\": 0, \"redraw\": false}, \"fromcurrent\": true, \"mode\": \"immediate\", \"transition\": {\"duration\": 0, \"easing\": \"linear\"}}], \"label\": \"2016\", \"method\": \"animate\"}, {\"args\": [[\"2017\"], {\"frame\": {\"duration\": 0, \"redraw\": false}, \"fromcurrent\": true, \"mode\": \"immediate\", \"transition\": {\"duration\": 0, \"easing\": \"linear\"}}], \"label\": \"2017\", \"method\": \"animate\"}, {\"args\": [[\"2018\"], {\"frame\": {\"duration\": 0, \"redraw\": false}, \"fromcurrent\": true, \"mode\": \"immediate\", \"transition\": {\"duration\": 0, \"easing\": \"linear\"}}], \"label\": \"2018\", \"method\": \"animate\"}], \"x\": 0.1, \"xanchor\": \"left\", \"y\": 0, \"yanchor\": \"top\"}], \"template\": {\"data\": {\"bar\": [{\"error_x\": {\"color\": \"#2a3f5f\"}, \"error_y\": {\"color\": \"#2a3f5f\"}, \"marker\": {\"line\": {\"color\": \"#E5ECF6\", \"width\": 0.5}}, \"type\": \"bar\"}], \"barpolar\": [{\"marker\": {\"line\": {\"color\": \"#E5ECF6\", \"width\": 0.5}}, \"type\": \"barpolar\"}], \"carpet\": [{\"aaxis\": {\"endlinecolor\": \"#2a3f5f\", \"gridcolor\": \"white\", \"linecolor\": \"white\", \"minorgridcolor\": \"white\", \"startlinecolor\": \"#2a3f5f\"}, \"baxis\": {\"endlinecolor\": \"#2a3f5f\", \"gridcolor\": \"white\", \"linecolor\": \"white\", \"minorgridcolor\": \"white\", \"startlinecolor\": \"#2a3f5f\"}, \"type\": \"carpet\"}], \"choropleth\": [{\"colorbar\": {\"outlinewidth\": 0, \"ticks\": \"\"}, \"type\": \"choropleth\"}], \"contour\": [{\"colorbar\": {\"outlinewidth\": 0, \"ticks\": \"\"}, \"colorscale\": [[0.0, \"#0d0887\"], [0.1111111111111111, \"#46039f\"], [0.2222222222222222, \"#7201a8\"], [0.3333333333333333, \"#9c179e\"], [0.4444444444444444, \"#bd3786\"], [0.5555555555555556, \"#d8576b\"], [0.6666666666666666, \"#ed7953\"], [0.7777777777777778, \"#fb9f3a\"], [0.8888888888888888, \"#fdca26\"], [1.0, \"#f0f921\"]], \"type\": \"contour\"}], \"contourcarpet\": [{\"colorbar\": {\"outlinewidth\": 0, \"ticks\": \"\"}, \"type\": \"contourcarpet\"}], \"heatmap\": [{\"colorbar\": {\"outlinewidth\": 0, \"ticks\": \"\"}, \"colorscale\": [[0.0, \"#0d0887\"], [0.1111111111111111, \"#46039f\"], [0.2222222222222222, \"#7201a8\"], [0.3333333333333333, \"#9c179e\"], [0.4444444444444444, \"#bd3786\"], [0.5555555555555556, \"#d8576b\"], [0.6666666666666666, \"#ed7953\"], [0.7777777777777778, \"#fb9f3a\"], [0.8888888888888888, \"#fdca26\"], [1.0, \"#f0f921\"]], \"type\": \"heatmap\"}], \"heatmapgl\": [{\"colorbar\": {\"outlinewidth\": 0, \"ticks\": \"\"}, \"colorscale\": [[0.0, \"#0d0887\"], [0.1111111111111111, \"#46039f\"], [0.2222222222222222, \"#7201a8\"], [0.3333333333333333, \"#9c179e\"], [0.4444444444444444, \"#bd3786\"], [0.5555555555555556, \"#d8576b\"], [0.6666666666666666, \"#ed7953\"], [0.7777777777777778, \"#fb9f3a\"], [0.8888888888888888, \"#fdca26\"], [1.0, \"#f0f921\"]], \"type\": \"heatmapgl\"}], \"histogram\": [{\"marker\": {\"colorbar\": {\"outlinewidth\": 0, \"ticks\": \"\"}}, \"type\": \"histogram\"}], \"histogram2d\": [{\"colorbar\": {\"outlinewidth\": 0, \"ticks\": \"\"}, \"colorscale\": [[0.0, \"#0d0887\"], [0.1111111111111111, \"#46039f\"], [0.2222222222222222, \"#7201a8\"], [0.3333333333333333, \"#9c179e\"], [0.4444444444444444, \"#bd3786\"], [0.5555555555555556, \"#d8576b\"], [0.6666666666666666, \"#ed7953\"], [0.7777777777777778, \"#fb9f3a\"], [0.8888888888888888, \"#fdca26\"], [1.0, \"#f0f921\"]], \"type\": \"histogram2d\"}], \"histogram2dcontour\": [{\"colorbar\": {\"outlinewidth\": 0, \"ticks\": \"\"}, \"colorscale\": [[0.0, \"#0d0887\"], [0.1111111111111111, \"#46039f\"], [0.2222222222222222, \"#7201a8\"], [0.3333333333333333, \"#9c179e\"], [0.4444444444444444, \"#bd3786\"], [0.5555555555555556, \"#d8576b\"], [0.6666666666666666, \"#ed7953\"], [0.7777777777777778, \"#fb9f3a\"], [0.8888888888888888, \"#fdca26\"], [1.0, \"#f0f921\"]], \"type\": \"histogram2dcontour\"}], \"mesh3d\": [{\"colorbar\": {\"outlinewidth\": 0, \"ticks\": \"\"}, \"type\": \"mesh3d\"}], \"parcoords\": [{\"line\": {\"colorbar\": {\"outlinewidth\": 0, \"ticks\": \"\"}}, \"type\": \"parcoords\"}], \"pie\": [{\"automargin\": true, \"type\": \"pie\"}], \"scatter\": [{\"marker\": {\"colorbar\": {\"outlinewidth\": 0, \"ticks\": \"\"}}, \"type\": \"scatter\"}], \"scatter3d\": [{\"line\": {\"colorbar\": {\"outlinewidth\": 0, \"ticks\": \"\"}}, \"marker\": {\"colorbar\": {\"outlinewidth\": 0, \"ticks\": \"\"}}, \"type\": \"scatter3d\"}], \"scattercarpet\": [{\"marker\": {\"colorbar\": {\"outlinewidth\": 0, \"ticks\": \"\"}}, \"type\": \"scattercarpet\"}], \"scattergeo\": [{\"marker\": {\"colorbar\": {\"outlinewidth\": 0, \"ticks\": \"\"}}, \"type\": \"scattergeo\"}], \"scattergl\": [{\"marker\": {\"colorbar\": {\"outlinewidth\": 0, \"ticks\": \"\"}}, \"type\": \"scattergl\"}], \"scattermapbox\": [{\"marker\": {\"colorbar\": {\"outlinewidth\": 0, \"ticks\": \"\"}}, \"type\": \"scattermapbox\"}], \"scatterpolar\": [{\"marker\": {\"colorbar\": {\"outlinewidth\": 0, \"ticks\": \"\"}}, \"type\": \"scatterpolar\"}], \"scatterpolargl\": [{\"marker\": {\"colorbar\": {\"outlinewidth\": 0, \"ticks\": \"\"}}, \"type\": \"scatterpolargl\"}], \"scatterternary\": [{\"marker\": {\"colorbar\": {\"outlinewidth\": 0, \"ticks\": \"\"}}, \"type\": \"scatterternary\"}], \"surface\": [{\"colorbar\": {\"outlinewidth\": 0, \"ticks\": \"\"}, \"colorscale\": [[0.0, \"#0d0887\"], [0.1111111111111111, \"#46039f\"], [0.2222222222222222, \"#7201a8\"], [0.3333333333333333, \"#9c179e\"], [0.4444444444444444, \"#bd3786\"], [0.5555555555555556, \"#d8576b\"], [0.6666666666666666, \"#ed7953\"], [0.7777777777777778, \"#fb9f3a\"], [0.8888888888888888, \"#fdca26\"], [1.0, \"#f0f921\"]], \"type\": \"surface\"}], \"table\": [{\"cells\": {\"fill\": {\"color\": \"#EBF0F8\"}, \"line\": {\"color\": \"white\"}}, \"header\": {\"fill\": {\"color\": \"#C8D4E3\"}, \"line\": {\"color\": \"white\"}}, \"type\": \"table\"}]}, \"layout\": {\"annotationdefaults\": {\"arrowcolor\": \"#2a3f5f\", \"arrowhead\": 0, \"arrowwidth\": 1}, \"autotypenumbers\": \"strict\", \"coloraxis\": {\"colorbar\": {\"outlinewidth\": 0, \"ticks\": \"\"}}, \"colorscale\": {\"diverging\": [[0, \"#8e0152\"], [0.1, \"#c51b7d\"], [0.2, \"#de77ae\"], [0.3, \"#f1b6da\"], [0.4, \"#fde0ef\"], [0.5, \"#f7f7f7\"], [0.6, \"#e6f5d0\"], [0.7, \"#b8e186\"], [0.8, \"#7fbc41\"], [0.9, \"#4d9221\"], [1, \"#276419\"]], \"sequential\": [[0.0, \"#0d0887\"], [0.1111111111111111, \"#46039f\"], [0.2222222222222222, \"#7201a8\"], [0.3333333333333333, \"#9c179e\"], [0.4444444444444444, \"#bd3786\"], [0.5555555555555556, \"#d8576b\"], [0.6666666666666666, \"#ed7953\"], [0.7777777777777778, \"#fb9f3a\"], [0.8888888888888888, \"#fdca26\"], [1.0, \"#f0f921\"]], \"sequentialminus\": [[0.0, \"#0d0887\"], [0.1111111111111111, \"#46039f\"], [0.2222222222222222, \"#7201a8\"], [0.3333333333333333, \"#9c179e\"], [0.4444444444444444, \"#bd3786\"], [0.5555555555555556, \"#d8576b\"], [0.6666666666666666, \"#ed7953\"], [0.7777777777777778, \"#fb9f3a\"], [0.8888888888888888, \"#fdca26\"], [1.0, \"#f0f921\"]]}, \"colorway\": [\"#636efa\", \"#EF553B\", \"#00cc96\", \"#ab63fa\", \"#FFA15A\", \"#19d3f3\", \"#FF6692\", \"#B6E880\", \"#FF97FF\", \"#FECB52\"], \"font\": {\"color\": \"#2a3f5f\"}, \"geo\": {\"bgcolor\": \"white\", \"lakecolor\": \"white\", \"landcolor\": \"#E5ECF6\", \"showlakes\": true, \"showland\": true, \"subunitcolor\": \"white\"}, \"hoverlabel\": {\"align\": \"left\"}, \"hovermode\": \"closest\", \"mapbox\": {\"style\": \"light\"}, \"paper_bgcolor\": \"white\", \"plot_bgcolor\": \"#E5ECF6\", \"polar\": {\"angularaxis\": {\"gridcolor\": \"white\", \"linecolor\": \"white\", \"ticks\": \"\"}, \"bgcolor\": \"#E5ECF6\", \"radialaxis\": {\"gridcolor\": \"white\", \"linecolor\": \"white\", \"ticks\": \"\"}}, \"scene\": {\"xaxis\": {\"backgroundcolor\": \"#E5ECF6\", \"gridcolor\": \"white\", \"gridwidth\": 2, \"linecolor\": \"white\", \"showbackground\": true, \"ticks\": \"\", \"zerolinecolor\": \"white\"}, \"yaxis\": {\"backgroundcolor\": \"#E5ECF6\", \"gridcolor\": \"white\", \"gridwidth\": 2, \"linecolor\": \"white\", \"showbackground\": true, \"ticks\": \"\", \"zerolinecolor\": \"white\"}, \"zaxis\": {\"backgroundcolor\": \"#E5ECF6\", \"gridcolor\": \"white\", \"gridwidth\": 2, \"linecolor\": \"white\", \"showbackground\": true, \"ticks\": \"\", \"zerolinecolor\": \"white\"}}, \"shapedefaults\": {\"line\": {\"color\": \"#2a3f5f\"}}, \"ternary\": {\"aaxis\": {\"gridcolor\": \"white\", \"linecolor\": \"white\", \"ticks\": \"\"}, \"baxis\": {\"gridcolor\": \"white\", \"linecolor\": \"white\", \"ticks\": \"\"}, \"bgcolor\": \"#E5ECF6\", \"caxis\": {\"gridcolor\": \"white\", \"linecolor\": \"white\", \"ticks\": \"\"}}, \"title\": {\"x\": 0.05}, \"xaxis\": {\"automargin\": true, \"gridcolor\": \"white\", \"linecolor\": \"white\", \"ticks\": \"\", \"title\": {\"standoff\": 15}, \"zerolinecolor\": \"white\", \"zerolinewidth\": 2}, \"yaxis\": {\"automargin\": true, \"gridcolor\": \"white\", \"linecolor\": \"white\", \"ticks\": \"\", \"title\": {\"standoff\": 15}, \"zerolinecolor\": \"white\", \"zerolinewidth\": 2}}}, \"updatemenus\": [{\"buttons\": [{\"args\": [null, {\"frame\": {\"duration\": 500, \"redraw\": false}, \"fromcurrent\": true, \"mode\": \"immediate\", \"transition\": {\"duration\": 500, \"easing\": \"linear\"}}], \"label\": \"&#9654;\", \"method\": \"animate\"}, {\"args\": [[null], {\"frame\": {\"duration\": 0, \"redraw\": false}, \"fromcurrent\": true, \"mode\": \"immediate\", \"transition\": {\"duration\": 0, \"easing\": \"linear\"}}], \"label\": \"&#9724;\", \"method\": \"animate\"}], \"direction\": \"left\", \"pad\": {\"r\": 10, \"t\": 70}, \"showactive\": false, \"type\": \"buttons\", \"x\": 0.1, \"xanchor\": \"right\", \"y\": 0, \"yanchor\": \"top\"}], \"xaxis\": {\"anchor\": \"y\", \"domain\": [0.0, 1.0], \"title\": {\"text\": \"Month\"}}, \"yaxis\": {\"anchor\": \"x\", \"domain\": [0.0, 1.0], \"title\": {\"text\": \"Temp\"}}},                        {\"responsive\": true}                    ).then(function(){\n",
              "                            Plotly.addFrames('65039a75-7471-4508-bd7a-dbd02fbbce22', [{\"data\": [{\"hovertemplate\": \"Year=1967<br>Month=%{x}<br>Temp=%{y}<extra></extra>\", \"legendgroup\": \"\", \"line\": {\"color\": \"#636efa\", \"dash\": \"solid\"}, \"mode\": \"lines\", \"name\": \"\", \"orientation\": \"v\", \"showlegend\": false, \"x\": [\"January\", \"February\", \"March\", \"April\", \"May\", \"June\", \"July\", \"August\", \"September\", \"October\", \"November\", \"December\"], \"xaxis\": \"x\", \"y\": [18.65, 18.341176470588238, 16.761290322580642, 13.940000000000003, 10.670967741935485, 5.03103448275862, 5.693333333333333, 7.678571428571429, 9.258620689655173, 13.374193548387096, 16.223333333333333, 19.63], \"yaxis\": \"y\", \"type\": \"scatter\"}], \"name\": \"1967\"}, {\"data\": [{\"hovertemplate\": \"Year=1968<br>Month=%{x}<br>Temp=%{y}<extra></extra>\", \"legendgroup\": \"\", \"line\": {\"color\": \"#636efa\", \"dash\": \"solid\"}, \"mode\": \"lines\", \"name\": \"\", \"orientation\": \"v\", \"showlegend\": false, \"x\": [\"January\", \"February\", \"March\", \"April\", \"May\", \"June\", \"July\", \"August\", \"September\", \"October\", \"November\", \"December\"], \"xaxis\": \"x\", \"y\": [20.806896551724137, 19.662068965517243, 16.19354838709678, 12.321739130434784, 10.364516129032257, 8.096666666666666, 7.993333333333334, 9.883333333333331, 11.676666666666666, 13.399999999999999, 17.59, 18.66896551724138], \"yaxis\": \"y\", \"type\": \"scatter\"}], \"name\": \"1968\"}, {\"data\": [{\"hovertemplate\": \"Year=1969<br>Month=%{x}<br>Temp=%{y}<extra></extra>\", \"legendgroup\": \"\", \"line\": {\"color\": \"#636efa\", \"dash\": \"solid\"}, \"mode\": \"lines\", \"name\": \"\", \"orientation\": \"v\", \"showlegend\": false, \"x\": [\"January\", \"February\", \"March\", \"April\", \"May\", \"June\", \"July\", \"August\", \"September\", \"October\", \"November\"], \"xaxis\": \"x\", \"y\": [20.858064516129033, 18.514285714285712, 15.886666666666665, 13.527586206896551, 10.622580645161289, 8.176666666666666, 8.669999999999998, 9.747999999999998, 11.583333333333337, 12.741935483870966, 15.79655172413793], \"yaxis\": \"y\", \"type\": \"scatter\"}], \"name\": \"1969\"}, {\"data\": [{\"hovertemplate\": \"Year=1970<br>Month=%{x}<br>Temp=%{y}<extra></extra>\", \"legendgroup\": \"\", \"line\": {\"color\": \"#636efa\", \"dash\": \"solid\"}, \"mode\": \"lines\", \"name\": \"\", \"orientation\": \"v\", \"showlegend\": false, \"x\": [\"February\", \"March\", \"April\", \"May\", \"June\", \"July\", \"August\", \"September\", \"October\", \"November\", \"December\"], \"xaxis\": \"x\", \"y\": [19.457142857142856, 17.041935483870965, 13.957142857142859, 10.151612903225807, 5.916666666666667, 6.845161290322583, 8.264516129032256, 10.746666666666668, 13.222580645161292, 16.120689655172413, 17.989655172413794], \"yaxis\": \"y\", \"type\": \"scatter\"}], \"name\": \"1970\"}, {\"data\": [{\"hovertemplate\": \"Year=1971<br>Month=%{x}<br>Temp=%{y}<extra></extra>\", \"legendgroup\": \"\", \"line\": {\"color\": \"#636efa\", \"dash\": \"solid\"}, \"mode\": \"lines\", \"name\": \"\", \"orientation\": \"v\", \"showlegend\": false, \"x\": [\"January\", \"February\", \"March\", \"April\", \"May\", \"June\", \"July\", \"August\", \"September\", \"October\", \"November\", \"December\"], \"xaxis\": \"x\", \"y\": [18.479310344827585, 17.95925925925926, 15.648387096774192, 11.840000000000002, 10.42903225806452, 6.583333333333334, 9.02258064516129, 8.266666666666667, 10.375862068965516, 13.975862068965519, 18.463333333333335, 18.726666666666667], \"yaxis\": \"y\", \"type\": \"scatter\"}], \"name\": \"1971\"}, {\"data\": [{\"hovertemplate\": \"Year=1972<br>Month=%{x}<br>Temp=%{y}<extra></extra>\", \"legendgroup\": \"\", \"line\": {\"color\": \"#636efa\", \"dash\": \"solid\"}, \"mode\": \"lines\", \"name\": \"\", \"orientation\": \"v\", \"showlegend\": false, \"x\": [\"January\", \"February\", \"March\", \"April\", \"May\", \"June\", \"July\", \"August\", \"September\", \"October\", \"November\", \"December\"], \"xaxis\": \"x\", \"y\": [21.196774193548386, 19.782142857142855, 16.85483870967742, 12.792857142857143, 11.339999999999998, 10.0, 6.164516129032258, 9.310000000000002, 11.528571428571425, 12.517857142857144, 15.653571428571427, 20.62962962962963], \"yaxis\": \"y\", \"type\": \"scatter\"}], \"name\": \"1972\"}, {\"data\": [{\"hovertemplate\": \"Year=1973<br>Month=%{x}<br>Temp=%{y}<extra></extra>\", \"legendgroup\": \"\", \"line\": {\"color\": \"#636efa\", \"dash\": \"solid\"}, \"mode\": \"lines\", \"name\": \"\", \"orientation\": \"v\", \"showlegend\": false, \"x\": [\"January\", \"February\", \"March\", \"April\", \"May\", \"June\", \"July\", \"August\", \"September\", \"October\", \"November\", \"December\"], \"xaxis\": \"x\", \"y\": [21.412903225806456, 18.714285714285715, 16.725806451612904, 13.38, 10.896774193548387, 7.706666666666667, 7.6096774193548375, 8.245161290322581, 10.003333333333332, 12.651612903225805, 16.620689655172416, 18.216129032258063], \"yaxis\": \"y\", \"type\": \"scatter\"}], \"name\": \"1973\"}, {\"data\": [{\"hovertemplate\": \"Year=1974<br>Month=%{x}<br>Temp=%{y}<extra></extra>\", \"legendgroup\": \"\", \"line\": {\"color\": \"#636efa\", \"dash\": \"solid\"}, \"mode\": \"lines\", \"name\": \"\", \"orientation\": \"v\", \"showlegend\": false, \"x\": [\"January\", \"February\", \"March\", \"April\", \"May\", \"June\", \"July\", \"August\", \"September\", \"October\", \"November\", \"December\"], \"xaxis\": \"x\", \"y\": [20.20645161290323, 17.760714285714286, 16.42258064516129, 12.156666666666666, 10.016129032258064, 6.746666666666666, 5.703225806451614, 8.309677419354838, 9.8, 13.390322580645156, 15.483333333333333, 17.60967741935484], \"yaxis\": \"y\", \"type\": \"scatter\"}], \"name\": \"1974\"}, {\"data\": [{\"hovertemplate\": \"Year=1975<br>Month=%{x}<br>Temp=%{y}<extra></extra>\", \"legendgroup\": \"\", \"line\": {\"color\": \"#636efa\", \"dash\": \"solid\"}, \"mode\": \"lines\", \"name\": \"\", \"orientation\": \"v\", \"showlegend\": false, \"x\": [\"January\", \"February\", \"March\", \"April\", \"May\", \"June\", \"July\", \"August\", \"September\", \"October\", \"November\", \"December\"], \"xaxis\": \"x\", \"y\": [19.44193548387097, 18.139285714285712, 15.454838709677423, 12.663333333333334, 9.509677419354837, 7.400000000000001, 6.396774193548388, 7.429032258064517, 9.130000000000003, 12.709677419354843, 15.180000000000001, 18.81935483870968], \"yaxis\": \"y\", \"type\": \"scatter\"}], \"name\": \"1975\"}, {\"data\": [{\"hovertemplate\": \"Year=1976<br>Month=%{x}<br>Temp=%{y}<extra></extra>\", \"legendgroup\": \"\", \"line\": {\"color\": \"#636efa\", \"dash\": \"solid\"}, \"mode\": \"lines\", \"name\": \"\", \"orientation\": \"v\", \"showlegend\": false, \"x\": [\"January\", \"February\", \"March\", \"April\", \"May\", \"June\", \"July\", \"August\", \"September\", \"October\", \"November\", \"December\"], \"xaxis\": \"x\", \"y\": [19.81935483870968, 18.17241379310345, 14.80322580645161, 11.041379310344823, 8.27741935483871, 7.023333333333335, 6.500000000000001, 8.061290322580648, 10.07333333333333, 13.470967741935484, 17.353333333333335, 19.380645161290325], \"yaxis\": \"y\", \"type\": \"scatter\"}], \"name\": \"1976\"}, {\"data\": [{\"hovertemplate\": \"Year=1977<br>Month=%{x}<br>Temp=%{y}<extra></extra>\", \"legendgroup\": \"\", \"line\": {\"color\": \"#636efa\", \"dash\": \"solid\"}, \"mode\": \"lines\", \"name\": \"\", \"orientation\": \"v\", \"showlegend\": false, \"x\": [\"January\", \"February\", \"March\", \"April\", \"May\", \"June\", \"July\", \"August\", \"September\", \"October\", \"November\", \"December\"], \"xaxis\": \"x\", \"y\": [20.57741935483871, 18.96428571428571, 16.880645161290328, 14.056666666666668, 11.283870967741937, 7.773333333333335, 6.73548387096774, 8.258064516129032, 11.126666666666669, 13.387096774193548, 16.996666666666666, 18.65666666666667], \"yaxis\": \"y\", \"type\": \"scatter\"}], \"name\": \"1977\"}, {\"data\": [{\"hovertemplate\": \"Year=1978<br>Month=%{x}<br>Temp=%{y}<extra></extra>\", \"legendgroup\": \"\", \"line\": {\"color\": \"#636efa\", \"dash\": \"solid\"}, \"mode\": \"lines\", \"name\": \"\", \"orientation\": \"v\", \"showlegend\": false, \"x\": [\"January\", \"February\", \"March\", \"April\", \"May\", \"June\", \"July\", \"August\", \"September\", \"October\", \"November\", \"December\"], \"xaxis\": \"x\", \"y\": [19.496774193548383, 18.896428571428572, 15.729032258064517, 12.466666666666665, 10.429032258064519, 7.9, 9.935483870967744, 7.529032258064517, 10.666666666666668, 14.393548387096772, 17.049999999999997, 19.532258064516128], \"yaxis\": \"y\", \"type\": \"scatter\"}], \"name\": \"1978\"}, {\"data\": [{\"hovertemplate\": \"Year=1979<br>Month=%{x}<br>Temp=%{y}<extra></extra>\", \"legendgroup\": \"\", \"line\": {\"color\": \"#636efa\", \"dash\": \"solid\"}, \"mode\": \"lines\", \"name\": \"\", \"orientation\": \"v\", \"showlegend\": false, \"x\": [\"January\", \"February\", \"March\", \"April\", \"May\", \"June\", \"July\", \"August\", \"September\", \"October\", \"November\", \"December\"], \"xaxis\": \"x\", \"y\": [19.84193548387097, 18.417857142857144, 16.261290322580646, 12.516666666666667, 10.841935483870968, 5.556666666666668, 8.061290322580646, 10.348387096774196, 10.003333333333334, 13.538709677419359, 16.063333333333336, 19.196774193548393], \"yaxis\": \"y\", \"type\": \"scatter\"}], \"name\": \"1979\"}, {\"data\": [{\"hovertemplate\": \"Year=1980<br>Month=%{x}<br>Temp=%{y}<extra></extra>\", \"legendgroup\": \"\", \"line\": {\"color\": \"#636efa\", \"dash\": \"solid\"}, \"mode\": \"lines\", \"name\": \"\", \"orientation\": \"v\", \"showlegend\": false, \"x\": [\"January\", \"February\", \"March\", \"April\", \"May\", \"June\", \"July\", \"August\", \"September\", \"October\", \"November\", \"December\"], \"xaxis\": \"x\", \"y\": [21.293548387096777, 20.106896551724134, 18.619354838709675, 13.533333333333335, 10.8, 7.996666666666666, 6.812903225806452, 8.196774193548388, 9.936666666666667, 13.058064516129031, 15.51333333333333, 18.890322580645165], \"yaxis\": \"y\", \"type\": \"scatter\"}], \"name\": \"1980\"}, {\"data\": [{\"hovertemplate\": \"Year=1981<br>Month=%{x}<br>Temp=%{y}<extra></extra>\", \"legendgroup\": \"\", \"line\": {\"color\": \"#636efa\", \"dash\": \"solid\"}, \"mode\": \"lines\", \"name\": \"\", \"orientation\": \"v\", \"showlegend\": false, \"x\": [\"January\", \"February\", \"March\", \"April\", \"May\", \"June\", \"July\", \"August\", \"September\", \"October\", \"November\", \"December\"], \"xaxis\": \"x\", \"y\": [19.390322580645165, 19.45357142857143, 16.725806451612907, 13.713333333333333, 11.651612903225804, 7.309999999999999, 6.880645161290323, 9.119354838709677, 10.360000000000001, 12.512903225806454, 15.93, 18.693548387096783], \"yaxis\": \"y\", \"type\": \"scatter\"}], \"name\": \"1981\"}, {\"data\": [{\"hovertemplate\": \"Year=1982<br>Month=%{x}<br>Temp=%{y}<extra></extra>\", \"legendgroup\": \"\", \"line\": {\"color\": \"#636efa\", \"dash\": \"solid\"}, \"mode\": \"lines\", \"name\": \"\", \"orientation\": \"v\", \"showlegend\": false, \"x\": [\"January\", \"February\", \"March\", \"April\", \"May\", \"June\", \"July\", \"August\", \"September\", \"October\", \"November\", \"December\"], \"xaxis\": \"x\", \"y\": [19.470967741935482, 18.639285714285712, 16.835483870967746, 13.073333333333329, 9.6, 8.95, 8.861290322580645, 9.458064516129031, 11.599999999999998, 13.07096774193548, 15.53, 19.59], \"yaxis\": \"y\", \"type\": \"scatter\"}], \"name\": \"1982\"}, {\"data\": [{\"hovertemplate\": \"Year=1983<br>Month=%{x}<br>Temp=%{y}<extra></extra>\", \"legendgroup\": \"\", \"line\": {\"color\": \"#636efa\", \"dash\": \"solid\"}, \"mode\": \"lines\", \"name\": \"\", \"orientation\": \"v\", \"showlegend\": false, \"x\": [\"January\", \"February\", \"March\", \"April\", \"May\", \"June\", \"July\", \"August\", \"September\", \"October\", \"November\", \"December\"], \"xaxis\": \"x\", \"y\": [20.206451612903226, 20.15, 16.83870967741936, 13.790000000000001, 9.141935483870967, 5.7566666666666695, 6.090322580645163, 7.980645161290323, 9.23, 14.264516129032259, 17.340000000000007, 19.22580645161291], \"yaxis\": \"y\", \"type\": \"scatter\"}], \"name\": \"1983\"}, {\"data\": [{\"hovertemplate\": \"Year=1984<br>Month=%{x}<br>Temp=%{y}<extra></extra>\", \"legendgroup\": \"\", \"line\": {\"color\": \"#636efa\", \"dash\": \"solid\"}, \"mode\": \"lines\", \"name\": \"\", \"orientation\": \"v\", \"showlegend\": false, \"x\": [\"January\", \"February\", \"March\", \"April\", \"May\", \"June\", \"July\", \"August\", \"September\", \"October\", \"November\", \"December\"], \"xaxis\": \"x\", \"y\": [20.425806451612903, 18.29310344827586, 16.690322580645162, 12.773333333333332, 7.951612903225804, 6.706666666666668, 7.370967741935484, 7.6258064516129025, 11.330000000000002, 14.374193548387096, 15.473333333333333, 18.687096774193545], \"yaxis\": \"y\", \"type\": \"scatter\"}], \"name\": \"1984\"}, {\"data\": [{\"hovertemplate\": \"Year=1985<br>Month=%{x}<br>Temp=%{y}<extra></extra>\", \"legendgroup\": \"\", \"line\": {\"color\": \"#636efa\", \"dash\": \"solid\"}, \"mode\": \"lines\", \"name\": \"\", \"orientation\": \"v\", \"showlegend\": false, \"x\": [\"January\", \"February\", \"March\", \"April\", \"May\", \"June\", \"July\", \"August\", \"September\", \"October\", \"November\", \"December\"], \"xaxis\": \"x\", \"y\": [19.56774193548387, 19.45714285714286, 16.670967741935485, 12.386666666666665, 10.019354838709678, 8.98, 7.225806451612904, 7.716129032258063, 11.469999999999997, 13.764516129032259, 16.930000000000003, 18.803225806451614], \"yaxis\": \"y\", \"type\": \"scatter\"}], \"name\": \"1985\"}, {\"data\": [{\"hovertemplate\": \"Year=1986<br>Month=%{x}<br>Temp=%{y}<extra></extra>\", \"legendgroup\": \"\", \"line\": {\"color\": \"#636efa\", \"dash\": \"solid\"}, \"mode\": \"lines\", \"name\": \"\", \"orientation\": \"v\", \"showlegend\": false, \"x\": [\"January\", \"February\", \"March\", \"April\", \"May\", \"June\", \"July\", \"August\", \"September\", \"October\", \"November\", \"December\"], \"xaxis\": \"x\", \"y\": [19.83225806451613, 19.310714285714283, 16.79032258064516, 13.096666666666668, 11.432258064516128, 8.923333333333336, 8.274193548387096, 9.593548387096773, 10.796666666666665, 15.525806451612903, 15.939999999999998, 20.51290322580645], \"yaxis\": \"y\", \"type\": \"scatter\"}], \"name\": \"1986\"}, {\"data\": [{\"hovertemplate\": \"Year=1987<br>Month=%{x}<br>Temp=%{y}<extra></extra>\", \"legendgroup\": \"\", \"line\": {\"color\": \"#636efa\", \"dash\": \"solid\"}, \"mode\": \"lines\", \"name\": \"\", \"orientation\": \"v\", \"showlegend\": false, \"x\": [\"January\", \"February\", \"March\", \"April\", \"May\", \"June\", \"July\", \"August\", \"September\", \"October\", \"November\", \"December\"], \"xaxis\": \"x\", \"y\": [20.599999999999998, 20.43214285714286, 18.522580645161295, 13.846666666666666, 9.616129032258062, 8.65, 8.087096774193549, 9.203225806451615, 10.996666666666668, 14.49677419354839, 18.166666666666668, 19.796666666666667], \"yaxis\": \"y\", \"type\": \"scatter\"}], \"name\": \"1987\"}, {\"data\": [{\"hovertemplate\": \"Year=1988<br>Month=%{x}<br>Temp=%{y}<extra></extra>\", \"legendgroup\": \"\", \"line\": {\"color\": \"#636efa\", \"dash\": \"solid\"}, \"mode\": \"lines\", \"name\": \"\", \"orientation\": \"v\", \"showlegend\": false, \"x\": [\"January\", \"February\", \"March\", \"April\", \"May\", \"June\", \"July\", \"August\", \"September\", \"October\", \"November\", \"December\"], \"xaxis\": \"x\", \"y\": [19.61612903225806, 19.84137931034483, 17.364516129032253, 13.683333333333335, 8.803225806451614, 7.103333333333333, 6.880645161290323, 8.535483870967742, 9.979999999999999, 14.541935483870969, 17.713333333333335, 19.46129032258065], \"yaxis\": \"y\", \"type\": \"scatter\"}], \"name\": \"1988\"}, {\"data\": [{\"hovertemplate\": \"Year=1989<br>Month=%{x}<br>Temp=%{y}<extra></extra>\", \"legendgroup\": \"\", \"line\": {\"color\": \"#636efa\", \"dash\": \"solid\"}, \"mode\": \"lines\", \"name\": \"\", \"orientation\": \"v\", \"showlegend\": false, \"x\": [\"January\", \"February\", \"March\", \"April\", \"May\", \"June\", \"July\", \"August\", \"September\", \"October\", \"November\", \"December\"], \"xaxis\": \"x\", \"y\": [20.938709677419357, 20.671428571428574, 16.609677419354846, 13.726666666666668, 9.280645161290325, 7.556666666666664, 7.041935483870968, 9.222580645161292, 10.27, 13.545161290322584, 17.56, 19.664516129032254], \"yaxis\": \"y\", \"type\": \"scatter\"}], \"name\": \"1989\"}, {\"data\": [{\"hovertemplate\": \"Year=1990<br>Month=%{x}<br>Temp=%{y}<extra></extra>\", \"legendgroup\": \"\", \"line\": {\"color\": \"#636efa\", \"dash\": \"solid\"}, \"mode\": \"lines\", \"name\": \"\", \"orientation\": \"v\", \"showlegend\": false, \"x\": [\"January\", \"February\", \"March\", \"April\", \"May\", \"June\", \"July\", \"August\", \"September\", \"October\", \"November\", \"December\"], \"xaxis\": \"x\", \"y\": [20.548387096774196, 18.960714285714285, 16.361290322580643, 13.333333333333332, 9.14838709677419, 7.633333333333335, 6.1645161290322585, 9.641935483870968, 11.083333333333334, 13.306451612903224, 16.729999999999997, 19.203225806451613], \"yaxis\": \"y\", \"type\": \"scatter\"}], \"name\": \"1990\"}, {\"data\": [{\"hovertemplate\": \"Year=1991<br>Month=%{x}<br>Temp=%{y}<extra></extra>\", \"legendgroup\": \"\", \"line\": {\"color\": \"#636efa\", \"dash\": \"solid\"}, \"mode\": \"lines\", \"name\": \"\", \"orientation\": \"v\", \"showlegend\": false, \"x\": [\"January\", \"February\", \"March\", \"April\", \"May\", \"June\", \"July\", \"August\", \"September\", \"October\", \"November\", \"December\"], \"xaxis\": \"x\", \"y\": [19.880645161290325, 19.660714285714285, 17.064516129032267, 14.233333333333333, 12.203225806451611, 8.973333333333333, 7.52258064516129, 7.264516129032257, 11.97, 13.20967741935484, 16.536666666666665, 18.241935483870968], \"yaxis\": \"y\", \"type\": \"scatter\"}], \"name\": \"1991\"}, {\"data\": [{\"hovertemplate\": \"Year=1992<br>Month=%{x}<br>Temp=%{y}<extra></extra>\", \"legendgroup\": \"\", \"line\": {\"color\": \"#636efa\", \"dash\": \"solid\"}, \"mode\": \"lines\", \"name\": \"\", \"orientation\": \"v\", \"showlegend\": false, \"x\": [\"January\", \"February\", \"March\", \"April\", \"May\", \"June\", \"July\", \"August\", \"September\", \"October\", \"November\", \"December\"], \"xaxis\": \"x\", \"y\": [20.66774193548387, 18.924137931034487, 17.751612903225805, 13.140000000000002, 10.351612903225805, 7.363333333333334, 6.1096774193548375, 8.867741935483872, 10.92, 14.212903225806452, 16.486666666666665, 18.79666666666667], \"yaxis\": \"y\", \"type\": \"scatter\"}], \"name\": \"1992\"}, {\"data\": [{\"hovertemplate\": \"Year=1993<br>Month=%{x}<br>Temp=%{y}<extra></extra>\", \"legendgroup\": \"\", \"line\": {\"color\": \"#636efa\", \"dash\": \"solid\"}, \"mode\": \"lines\", \"name\": \"\", \"orientation\": \"v\", \"showlegend\": false, \"x\": [\"January\", \"February\", \"March\", \"April\", \"May\", \"June\", \"July\", \"August\", \"September\", \"October\", \"November\", \"December\"], \"xaxis\": \"x\", \"y\": [20.80645161290322, 19.83928571428572, 18.216129032258067, 13.83, 8.912903225806454, 8.806666666666667, 5.658064516129032, 8.261290322580646, 10.03, 13.580645161290322, 16.386666666666667, 19.209677419354836], \"yaxis\": \"y\", \"type\": \"scatter\"}], \"name\": \"1993\"}, {\"data\": [{\"hovertemplate\": \"Year=1994<br>Month=%{x}<br>Temp=%{y}<extra></extra>\", \"legendgroup\": \"\", \"line\": {\"color\": \"#636efa\", \"dash\": \"solid\"}, \"mode\": \"lines\", \"name\": \"\", \"orientation\": \"v\", \"showlegend\": false, \"x\": [\"January\", \"February\", \"March\", \"April\", \"May\", \"June\", \"July\", \"August\", \"September\", \"October\", \"November\", \"December\"], \"xaxis\": \"x\", \"y\": [20.00967741935484, 18.724999999999998, 17.03548387096774, 14.36666666666667, 10.370967741935484, 9.050000000000002, 7.3838709677419345, 7.751612903225806, 12.336666666666666, 13.94838709677419, 17.29666666666667, 20.03870967741936], \"yaxis\": \"y\", \"type\": \"scatter\"}], \"name\": \"1994\"}, {\"data\": [{\"hovertemplate\": \"Year=1995<br>Month=%{x}<br>Temp=%{y}<extra></extra>\", \"legendgroup\": \"\", \"line\": {\"color\": \"#636efa\", \"dash\": \"solid\"}, \"mode\": \"lines\", \"name\": \"\", \"orientation\": \"v\", \"showlegend\": false, \"x\": [\"January\", \"February\", \"March\", \"April\", \"May\", \"June\", \"July\", \"August\", \"September\", \"October\", \"November\", \"December\"], \"xaxis\": \"x\", \"y\": [20.493548387096773, 18.839285714285715, 17.129032258064516, 14.503333333333329, 11.725806451612904, 9.613333333333335, 6.803225806451613, 7.77741935483871, 11.460000000000003, 14.161290322580639, 16.836666666666666, 19.441935483870967], \"yaxis\": \"y\", \"type\": \"scatter\"}], \"name\": \"1995\"}, {\"data\": [{\"hovertemplate\": \"Year=1996<br>Month=%{x}<br>Temp=%{y}<extra></extra>\", \"legendgroup\": \"\", \"line\": {\"color\": \"#636efa\", \"dash\": \"solid\"}, \"mode\": \"lines\", \"name\": \"\", \"orientation\": \"v\", \"showlegend\": false, \"x\": [\"January\", \"February\", \"March\", \"April\", \"May\", \"June\", \"July\", \"August\", \"September\", \"October\", \"November\", \"December\"], \"xaxis\": \"x\", \"y\": [19.49032258064516, 19.365517241379308, 17.625806451612906, 12.246666666666666, 9.564516129032256, 7.3933333333333335, 8.519354838709676, 8.938709677419356, 11.129999999999999, 14.251612903225809, 18.18333333333333, 19.348387096774196], \"yaxis\": \"y\", \"type\": \"scatter\"}], \"name\": \"1996\"}, {\"data\": [{\"hovertemplate\": \"Year=1997<br>Month=%{x}<br>Temp=%{y}<extra></extra>\", \"legendgroup\": \"\", \"line\": {\"color\": \"#636efa\", \"dash\": \"solid\"}, \"mode\": \"lines\", \"name\": \"\", \"orientation\": \"v\", \"showlegend\": false, \"x\": [\"January\", \"February\", \"March\", \"April\", \"May\", \"June\", \"July\", \"August\", \"September\", \"October\", \"November\", \"December\"], \"xaxis\": \"x\", \"y\": [21.232258064516127, 19.971428571428568, 17.83225806451613, 15.196666666666665, 11.461290322580643, 9.229999999999999, 8.716129032258063, 10.490322580645161, 12.046666666666669, 12.874193548387098, 16.60333333333333, 18.74516129032259], \"yaxis\": \"y\", \"type\": \"scatter\"}], \"name\": \"1997\"}, {\"data\": [{\"hovertemplate\": \"Year=1998<br>Month=%{x}<br>Temp=%{y}<extra></extra>\", \"legendgroup\": \"\", \"line\": {\"color\": \"#636efa\", \"dash\": \"solid\"}, \"mode\": \"lines\", \"name\": \"\", \"orientation\": \"v\", \"showlegend\": false, \"x\": [\"January\", \"February\", \"March\", \"April\", \"May\", \"June\", \"July\", \"August\", \"September\", \"October\", \"November\", \"December\"], \"xaxis\": \"x\", \"y\": [21.11290322580645, 18.925, 17.493548387096773, 13.903333333333334, 11.438709677419356, 8.623333333333333, 7.096774193548386, 8.632258064516128, 11.08, 15.932258064516128, 16.733333333333334, 20.1], \"yaxis\": \"y\", \"type\": \"scatter\"}], \"name\": \"1998\"}, {\"data\": [{\"hovertemplate\": \"Year=1999<br>Month=%{x}<br>Temp=%{y}<extra></extra>\", \"legendgroup\": \"\", \"line\": {\"color\": \"#636efa\", \"dash\": \"solid\"}, \"mode\": \"lines\", \"name\": \"\", \"orientation\": \"v\", \"showlegend\": false, \"x\": [\"January\", \"February\", \"March\", \"April\", \"May\", \"June\", \"July\", \"August\", \"September\", \"October\", \"November\", \"December\"], \"xaxis\": \"x\", \"y\": [19.583870967741937, 19.98928571428571, 16.687096774193545, 13.606666666666667, 10.935483870967744, 8.79, 7.083870967741937, 9.261290322580642, 10.73, 13.596774193548386, 16.723333333333333, 18.85483870967742], \"yaxis\": \"y\", \"type\": \"scatter\"}], \"name\": \"1999\"}, {\"data\": [{\"hovertemplate\": \"Year=2000<br>Month=%{x}<br>Temp=%{y}<extra></extra>\", \"legendgroup\": \"\", \"line\": {\"color\": \"#636efa\", \"dash\": \"solid\"}, \"mode\": \"lines\", \"name\": \"\", \"orientation\": \"v\", \"showlegend\": false, \"x\": [\"January\", \"February\", \"March\", \"April\", \"May\", \"June\", \"July\", \"August\", \"September\", \"October\", \"November\", \"December\"], \"xaxis\": \"x\", \"y\": [20.125806451612906, 18.775862068965516, 16.862068965517246, 13.44333333333333, 9.880645161290321, 8.649999999999999, 7.548387096774195, 9.19032258064516, 10.636666666666668, 14.000000000000002, 17.156666666666663, 20.05483870967742], \"yaxis\": \"y\", \"type\": \"scatter\"}], \"name\": \"2000\"}, {\"data\": [{\"hovertemplate\": \"Year=2001<br>Month=%{x}<br>Temp=%{y}<extra></extra>\", \"legendgroup\": \"\", \"line\": {\"color\": \"#636efa\", \"dash\": \"solid\"}, \"mode\": \"lines\", \"name\": \"\", \"orientation\": \"v\", \"showlegend\": false, \"x\": [\"January\", \"February\", \"March\", \"April\", \"May\", \"June\", \"July\", \"August\", \"September\", \"October\", \"November\", \"December\"], \"xaxis\": \"x\", \"y\": [20.125806451612902, 20.921428571428578, 17.816129032258065, 13.370000000000001, 10.029032258064515, 7.326666666666668, 9.161290322580646, 9.748387096774193, 10.136666666666663, 14.519354838709676, 16.29666666666667, 20.51612903225806], \"yaxis\": \"y\", \"type\": \"scatter\"}], \"name\": \"2001\"}, {\"data\": [{\"hovertemplate\": \"Year=2002<br>Month=%{x}<br>Temp=%{y}<extra></extra>\", \"legendgroup\": \"\", \"line\": {\"color\": \"#636efa\", \"dash\": \"solid\"}, \"mode\": \"lines\", \"name\": \"\", \"orientation\": \"v\", \"showlegend\": false, \"x\": [\"January\", \"February\", \"March\", \"April\", \"May\", \"June\", \"July\", \"August\", \"September\", \"October\", \"November\", \"December\"], \"xaxis\": \"x\", \"y\": [20.46451612903226, 19.614285714285717, 18.190322580645162, 12.96666666666667, 11.038709677419357, 7.209999999999999, 7.967741935483872, 9.85806451612903, 11.499999999999998, 13.729032258064517, 16.236666666666668, 18.687096774193545], \"yaxis\": \"y\", \"type\": \"scatter\"}], \"name\": \"2002\"}, {\"data\": [{\"hovertemplate\": \"Year=2003<br>Month=%{x}<br>Temp=%{y}<extra></extra>\", \"legendgroup\": \"\", \"line\": {\"color\": \"#636efa\", \"dash\": \"solid\"}, \"mode\": \"lines\", \"name\": \"\", \"orientation\": \"v\", \"showlegend\": false, \"x\": [\"January\", \"February\", \"March\", \"April\", \"May\", \"June\", \"July\", \"August\", \"September\", \"October\", \"November\", \"December\"], \"xaxis\": \"x\", \"y\": [21.112903225806452, 19.360714285714288, 17.583870967741937, 13.630000000000003, 9.574193548387095, 10.226666666666665, 7.0032258064516135, 9.006451612903227, 11.956666666666667, 15.77741935483871, 18.14333333333333, 18.735483870967744], \"yaxis\": \"y\", \"type\": \"scatter\"}], \"name\": \"2003\"}, {\"data\": [{\"hovertemplate\": \"Year=2004<br>Month=%{x}<br>Temp=%{y}<extra></extra>\", \"legendgroup\": \"\", \"line\": {\"color\": \"#636efa\", \"dash\": \"solid\"}, \"mode\": \"lines\", \"name\": \"\", \"orientation\": \"v\", \"showlegend\": false, \"x\": [\"January\", \"February\", \"March\", \"April\", \"May\", \"June\", \"July\", \"August\", \"September\", \"October\", \"November\", \"December\"], \"xaxis\": \"x\", \"y\": [20.535483870967745, 19.155172413793103, 18.15806451612903, 14.226666666666661, 9.180645161290323, 8.370000000000001, 8.158064516129032, 9.025806451612905, 11.896666666666665, 14.122580645161294, 16.836666666666662, 19.883870967741935], \"yaxis\": \"y\", \"type\": \"scatter\"}], \"name\": \"2004\"}, {\"data\": [{\"hovertemplate\": \"Year=2005<br>Month=%{x}<br>Temp=%{y}<extra></extra>\", \"legendgroup\": \"\", \"line\": {\"color\": \"#636efa\", \"dash\": \"solid\"}, \"mode\": \"lines\", \"name\": \"\", \"orientation\": \"v\", \"showlegend\": false, \"x\": [\"January\", \"February\", \"March\", \"April\", \"May\", \"June\", \"July\", \"August\", \"September\", \"October\", \"November\", \"December\"], \"xaxis\": \"x\", \"y\": [20.43870967741936, 20.010714285714283, 18.0741935483871, 14.156666666666668, 9.94516129032258, 10.666666666666668, 8.296774193548387, 10.483870967741934, 10.393333333333333, 13.361290322580645, 17.33333333333334, 18.68387096774193], \"yaxis\": \"y\", \"type\": \"scatter\"}], \"name\": \"2005\"}, {\"data\": [{\"hovertemplate\": \"Year=2006<br>Month=%{x}<br>Temp=%{y}<extra></extra>\", \"legendgroup\": \"\", \"line\": {\"color\": \"#636efa\", \"dash\": \"solid\"}, \"mode\": \"lines\", \"name\": \"\", \"orientation\": \"v\", \"showlegend\": false, \"x\": [\"January\", \"February\", \"March\", \"April\", \"May\", \"June\", \"July\", \"August\", \"September\", \"October\", \"November\", \"December\"], \"xaxis\": \"x\", \"y\": [21.07741935483871, 19.950000000000006, 16.858064516129033, 14.003333333333332, 11.335483870967742, 9.763333333333332, 9.674193548387096, 10.180645161290322, 12.356666666666666, 14.425806451612903, 16.886666666666667, 19.36774193548387], \"yaxis\": \"y\", \"type\": \"scatter\"}], \"name\": \"2006\"}, {\"data\": [{\"hovertemplate\": \"Year=2007<br>Month=%{x}<br>Temp=%{y}<extra></extra>\", \"legendgroup\": \"\", \"line\": {\"color\": \"#636efa\", \"dash\": \"solid\"}, \"mode\": \"lines\", \"name\": \"\", \"orientation\": \"v\", \"showlegend\": false, \"x\": [\"January\", \"February\", \"March\", \"April\", \"May\", \"June\", \"July\", \"August\", \"September\", \"October\", \"November\", \"December\"], \"xaxis\": \"x\", \"y\": [20.623333333333335, 18.7, 17.599999999999998, 13.056666666666667, 8.8, 6.053333333333333, 6.983870967741933, 6.496774193548389, 10.266666666666664, 14.258064516129036, 17.466666666666665, 19.083870967741934], \"yaxis\": \"y\", \"type\": \"scatter\"}], \"name\": \"2007\"}, {\"data\": [{\"hovertemplate\": \"Year=2008<br>Month=%{x}<br>Temp=%{y}<extra></extra>\", \"legendgroup\": \"\", \"line\": {\"color\": \"#636efa\", \"dash\": \"solid\"}, \"mode\": \"lines\", \"name\": \"\", \"orientation\": \"v\", \"showlegend\": false, \"x\": [\"January\", \"February\", \"March\", \"April\", \"May\", \"June\", \"July\", \"August\", \"September\", \"October\", \"November\", \"December\"], \"xaxis\": \"x\", \"y\": [21.26, 20.36896551724138, 18.151612903225807, 14.51, 11.08709677419355, 7.616666666666665, 8.290322580645164, 9.103225806451611, 11.633333333333331, 14.477419354838712, 18.3, 20.006451612903227], \"yaxis\": \"y\", \"type\": \"scatter\"}], \"name\": \"2008\"}, {\"data\": [{\"hovertemplate\": \"Year=2009<br>Month=%{x}<br>Temp=%{y}<extra></extra>\", \"legendgroup\": \"\", \"line\": {\"color\": \"#636efa\", \"dash\": \"solid\"}, \"mode\": \"lines\", \"name\": \"\", \"orientation\": \"v\", \"showlegend\": false, \"x\": [\"January\", \"February\", \"March\", \"April\", \"May\", \"June\", \"July\", \"August\", \"September\", \"October\", \"November\", \"December\"], \"xaxis\": \"x\", \"y\": [21.613333333333333, 20.40714285714285, 19.25483870967742, 15.739999999999998, 12.01290322580645, 8.676666666666666, 7.974193548387095, 10.04193548387097, 10.309999999999999, 15.054838709677421, 16.389999999999997, 19.90322580645161], \"yaxis\": \"y\", \"type\": \"scatter\"}], \"name\": \"2009\"}, {\"data\": [{\"hovertemplate\": \"Year=2010<br>Month=%{x}<br>Temp=%{y}<extra></extra>\", \"legendgroup\": \"\", \"line\": {\"color\": \"#636efa\", \"dash\": \"solid\"}, \"mode\": \"lines\", \"name\": \"\", \"orientation\": \"v\", \"showlegend\": false, \"x\": [\"January\", \"February\", \"March\", \"April\", \"May\", \"June\", \"July\", \"August\", \"September\", \"October\", \"November\", \"December\"], \"xaxis\": \"x\", \"y\": [21.660000000000004, 19.70714285714286, 18.56129032258064, 13.500000000000002, 11.164516129032261, 8.19, 5.796774193548386, 8.551612903225807, 11.583333333333332, 14.148387096774192, 17.51379310344828, 18.03225806451613], \"yaxis\": \"y\", \"type\": \"scatter\"}], \"name\": \"2010\"}, {\"data\": [{\"hovertemplate\": \"Year=2011<br>Month=%{x}<br>Temp=%{y}<extra></extra>\", \"legendgroup\": \"\", \"line\": {\"color\": \"#636efa\", \"dash\": \"solid\"}, \"mode\": \"lines\", \"name\": \"\", \"orientation\": \"v\", \"showlegend\": false, \"x\": [\"January\", \"February\", \"March\", \"April\", \"May\", \"June\", \"July\", \"August\", \"September\", \"October\", \"November\", \"December\"], \"xaxis\": \"x\", \"y\": [21.218518518518522, 20.142857142857146, 17.812903225806448, 14.179999999999998, 10.406451612903227, 7.400000000000001, 6.719354838709677, 8.33548387096774, 12.906666666666666, 14.851612903225806, 17.833333333333332, 20.625806451612902], \"yaxis\": \"y\", \"type\": \"scatter\"}], \"name\": \"2011\"}, {\"data\": [{\"hovertemplate\": \"Year=2012<br>Month=%{x}<br>Temp=%{y}<extra></extra>\", \"legendgroup\": \"\", \"line\": {\"color\": \"#636efa\", \"dash\": \"solid\"}, \"mode\": \"lines\", \"name\": \"\", \"orientation\": \"v\", \"showlegend\": false, \"x\": [\"January\", \"February\", \"March\", \"April\", \"May\", \"June\", \"July\", \"August\", \"September\", \"October\", \"November\", \"December\"], \"xaxis\": \"x\", \"y\": [21.112903225806456, 21.741379310344822, 20.125806451612902, 14.906666666666663, 12.429032258064519, 10.00666666666667, 7.567741935483871, 8.858064516129032, 12.086666666666666, 13.603225806451613, 18.080000000000002, 19.493548387096773], \"yaxis\": \"y\", \"type\": \"scatter\"}], \"name\": \"2012\"}, {\"data\": [{\"hovertemplate\": \"Year=2013<br>Month=%{x}<br>Temp=%{y}<extra></extra>\", \"legendgroup\": \"\", \"line\": {\"color\": \"#636efa\", \"dash\": \"solid\"}, \"mode\": \"lines\", \"name\": \"\", \"orientation\": \"v\", \"showlegend\": false, \"x\": [\"January\", \"February\", \"March\", \"April\", \"May\", \"June\", \"July\", \"August\", \"September\", \"October\", \"November\", \"December\"], \"xaxis\": \"x\", \"y\": [21.254838709677422, 21.385714285714293, 18.103225806451615, 14.363333333333332, 10.767741935483869, 8.796666666666663, 7.823333333333332, 8.93225806451613, 11.376666666666665, 14.8741935483871, 17.353333333333335, 20.490322580645167], \"yaxis\": \"y\", \"type\": \"scatter\"}], \"name\": \"2013\"}, {\"data\": [{\"hovertemplate\": \"Year=2014<br>Month=%{x}<br>Temp=%{y}<extra></extra>\", \"legendgroup\": \"\", \"line\": {\"color\": \"#636efa\", \"dash\": \"solid\"}, \"mode\": \"lines\", \"name\": \"\", \"orientation\": \"v\", \"showlegend\": false, \"x\": [\"January\", \"February\", \"March\", \"April\", \"May\", \"June\", \"July\", \"August\", \"September\", \"October\", \"November\", \"December\"], \"xaxis\": \"x\", \"y\": [21.806451612903224, 19.8, 17.78064516129032, 13.726666666666663, 11.63548387096774, 7.513333333333333, 8.780645161290325, 10.112903225806454, 11.473333333333333, 16.24838709677419, 17.51666666666667, 19.24838709677419], \"yaxis\": \"y\", \"type\": \"scatter\"}], \"name\": \"2014\"}, {\"data\": [{\"hovertemplate\": \"Year=2015<br>Month=%{x}<br>Temp=%{y}<extra></extra>\", \"legendgroup\": \"\", \"line\": {\"color\": \"#636efa\", \"dash\": \"solid\"}, \"mode\": \"lines\", \"name\": \"\", \"orientation\": \"v\", \"showlegend\": false, \"x\": [\"January\", \"February\", \"March\", \"April\", \"May\", \"June\", \"July\", \"August\", \"September\", \"October\", \"November\", \"December\"], \"xaxis\": \"x\", \"y\": [21.825806451612902, 20.74285714285714, 20.129032258064516, 16.096666666666664, 11.751612903225807, 8.913333333333332, 8.738709677419356, 11.180645161290322, 12.513333333333334, 13.683870967741937, 16.81333333333333, 20.264516129032263], \"yaxis\": \"y\", \"type\": \"scatter\"}], \"name\": \"2015\"}, {\"data\": [{\"hovertemplate\": \"Year=2016<br>Month=%{x}<br>Temp=%{y}<extra></extra>\", \"legendgroup\": \"\", \"line\": {\"color\": \"#636efa\", \"dash\": \"solid\"}, \"mode\": \"lines\", \"name\": \"\", \"orientation\": \"v\", \"showlegend\": false, \"x\": [\"January\", \"February\", \"March\", \"April\", \"May\", \"June\", \"July\", \"August\", \"September\", \"October\", \"November\", \"December\"], \"xaxis\": \"x\", \"y\": [21.299999999999994, 21.42068965517241, 18.59677419354839, 14.096666666666668, 12.27096774193548, 8.043333333333333, 8.716129032258063, 10.435483870967742, 13.150000000000002, 15.329032258064517, 19.143333333333334, 20.012903225806454], \"yaxis\": \"y\", \"type\": \"scatter\"}], \"name\": \"2016\"}, {\"data\": [{\"hovertemplate\": \"Year=2017<br>Month=%{x}<br>Temp=%{y}<extra></extra>\", \"legendgroup\": \"\", \"line\": {\"color\": \"#636efa\", \"dash\": \"solid\"}, \"mode\": \"lines\", \"name\": \"\", \"orientation\": \"v\", \"showlegend\": false, \"x\": [\"January\", \"February\", \"March\", \"April\", \"May\", \"June\", \"July\", \"August\", \"September\", \"October\", \"November\", \"December\"], \"xaxis\": \"x\", \"y\": [23.71612903225807, 21.6, 18.719354838709677, 15.046666666666669, 10.706451612903226, 7.866666666666666, 7.9967741935483865, 8.838709677419354, 11.599999999999998, 14.132258064516131, 18.363333333333333, 21.022580645161295], \"yaxis\": \"y\", \"type\": \"scatter\"}], \"name\": \"2017\"}, {\"data\": [{\"hovertemplate\": \"Year=2018<br>Month=%{x}<br>Temp=%{y}<extra></extra>\", \"legendgroup\": \"\", \"line\": {\"color\": \"#636efa\", \"dash\": \"solid\"}, \"mode\": \"lines\", \"name\": \"\", \"orientation\": \"v\", \"showlegend\": false, \"x\": [\"January\", \"February\", \"March\"], \"xaxis\": \"x\", \"y\": [21.287096774193547, 20.960714285714285, 19.655555555555555], \"yaxis\": \"y\", \"type\": \"scatter\"}], \"name\": \"2018\"}]);\n",
              "                        }).then(function(){\n",
              "                            \n",
              "var gd = document.getElementById('65039a75-7471-4508-bd7a-dbd02fbbce22');\n",
              "var x = new MutationObserver(function (mutations, observer) {{\n",
              "        var display = window.getComputedStyle(gd).display;\n",
              "        if (!display || display === 'none') {{\n",
              "            console.log([gd, 'removed!']);\n",
              "            Plotly.purge(gd);\n",
              "            observer.disconnect();\n",
              "        }}\n",
              "}});\n",
              "\n",
              "// Listen for the removal of the full notebook cells\n",
              "var notebookContainer = gd.closest('#notebook-container');\n",
              "if (notebookContainer) {{\n",
              "    x.observe(notebookContainer, {childList: true});\n",
              "}}\n",
              "\n",
              "// Listen for the clearing of the current output cell\n",
              "var outputEl = gd.closest('.output');\n",
              "if (outputEl) {{\n",
              "    x.observe(outputEl, {childList: true});\n",
              "}}\n",
              "\n",
              "                        })                };                            </script>        </div>\n",
              "</body>\n",
              "</html>"
            ]
          },
          "metadata": {
            "tags": []
          }
        }
      ]
    },
    {
      "cell_type": "markdown",
      "metadata": {
        "id": "hAD3KT1ZjWoB"
      },
      "source": [
        "## 2.3 Pipeline y Predicción"
      ]
    },
    {
      "cell_type": "markdown",
      "metadata": {
        "id": "yAmW7t_cr2mx"
      },
      "source": [
        "### 2.3.1 Encoding [2 Puntos]"
      ]
    },
    {
      "cell_type": "markdown",
      "metadata": {
        "id": "vTWbZqEuqBfN"
      },
      "source": [
        "Contentos con su desempeño ```Kiguix``` les pide realizar su tarea más ambiciosa, la que consiste en crear un pipeline para predecir temperaturas futuras. Para esto les señala que desea realizar el siguiente encoding para las columnas del DataFrame creado en la sección ```2.2.2```:\n",
        "\n",
        "- Codificar el atributo categórico ```station```.\n",
        "- Obtener el MinMaxScaler de los atributos ```latitud```, ```longitud``` y ```altura```.\n",
        "- Realizar una codificación cíclica de ```Year``` y ```Month``` ([referencia de ayuda](https://stats.stackexchange.com/questions/311494/best-practice-for-encoding-datetime-in-machine-learning)).\n",
        "\n",
        "Para el caso de la codificación cíclica deberá crear una clase ```class CyclicalEncoding(BaseEstimator, TransformerMixin)``` para la codificación cíclica, por lo que se recomienda ver la [documentación](https://sklearn-template.readthedocs.io/en/latest/user_guide.html).\n",
        "\n",
        "\n"
      ]
    },
    {
      "cell_type": "code",
      "metadata": {
        "id": "rp7sVUopKc9h"
      },
      "source": [
        "#########################\n",
        "    Código Aquí\n",
        "#########################"
      ],
      "execution_count": null,
      "outputs": []
    },
    {
      "cell_type": "markdown",
      "metadata": {
        "id": "sqZvW1FFsKMN"
      },
      "source": [
        "### 2.3.2 Pipeline! [1 Punto]"
      ]
    },
    {
      "cell_type": "markdown",
      "metadata": {
        "id": "SkPF1JRcseXP"
      },
      "source": [
        "Realizado el encoding añadan este a un pipeline, anexando como último paso un modelo de regresión. Para el modelo de regresión puede escoger uno de su preferencia o escoger un ```DecisionTreeRegressor()``` o ```LogisticRegression()```. \n",
        "\n",
        "Hecho esto, ```Kiguix``` en su rol de querer saber fehacientemente el desempeño de este modelo le sugiere utilizar R2 score, el cual es un estadístico que nos permite visualizar que tan bien predice un modelo de regresión. ¿Que tal le va a la regresión?, ¿Sera coherente utilizar solo estos atributos para predicciones?, Justifique su respuesta."
      ]
    },
    {
      "cell_type": "code",
      "metadata": {
        "id": "bqOsLQF4jief"
      },
      "source": [
        "X_train, X_test, y_train, y_test = train_test_split(\n",
        "        dataset.drop(columns='Temp'),\n",
        "        dataset.Temp,\n",
        "        shuffle=True,\n",
        "        test_size=0.3,\n",
        "        random_state=42)\n",
        "\n",
        "##############################\n",
        "    Código Aquí Pipeline\n",
        "##############################\n",
        "\n",
        "pipeline.fit(X_train, y_train)\n",
        "predicted_regression = pipeline.predict(X_test)\n",
        "\n",
        "# Metrica util para medir regresiones\n",
        "R2score = r2_score(y_test, predicted_regression)"
      ],
      "execution_count": null,
      "outputs": []
    },
    {
      "cell_type": "markdown",
      "metadata": {
        "id": "IVV1D6ecx_Oy"
      },
      "source": [
        "**Justifique:**"
      ]
    },
    {
      "cell_type": "markdown",
      "metadata": {
        "id": "KFG73eoGyAqs"
      },
      "source": [
        "```\n",
        " Escriba aqui su respuesta\n",
        "```"
      ]
    },
    {
      "cell_type": "markdown",
      "metadata": {
        "id": "LCEygFAwsqFY"
      },
      "source": [
        "### 2.3.3 Predicción del Futuro 🔮 [0,5 Puntos]"
      ]
    },
    {
      "cell_type": "markdown",
      "metadata": {
        "id": "p94cskNzyanI"
      },
      "source": [
        "En su afán por el proyecto, el don *Dimadon Vallejos, CEO de `Kiguix`* les entrega el siguiente codigo para visualizar las predicciones. ¿Es coherente lo realizado?, comente."
      ]
    },
    {
      "cell_type": "code",
      "metadata": {
        "colab": {
          "base_uri": "https://localhost:8080/",
          "height": 421
        },
        "id": "6KdfGYXuKx1n",
        "outputId": "c8511e32-f455-4d45-c8d0-7ea0cd4f6188"
      },
      "source": [
        "# Filtramos ciudad\n",
        "data_santiago = dataframe_train[dataframe['station']=='Pudahuel Santiago']\n",
        "\n",
        "# Creamos Información para predecir los proximos años\n",
        "Prox_anho = data_santiago[data_santiago['Year']==2017][['Year', 'Month','Dates', 'altura', 'latitud',\t'longitud', 'station']]\n",
        "Prox_anho.Year.replace(2017,2018, inplace=True)\n",
        "\n",
        "# Definimos el regresor entrenado anteriormente\n",
        "rgr = regressor\n",
        "\n",
        "# Predecimos\n",
        "temp_2018 = rgr.predict(Prox_anho)\n",
        "\n",
        "# Generamos el nuevo DataFrame\n",
        "temp_2018 = {'Month':data_santiago['Month'].unique(), 'Temp':temp_2018}\n",
        "temp_2018=pd.DataFrame(temp_2018)\n",
        "temp_2018['Year'] = 2018\n",
        "temp_2018"
      ],
      "execution_count": null,
      "outputs": [
        {
          "output_type": "execute_result",
          "data": {
            "text/html": [
              "<div>\n",
              "<style scoped>\n",
              "    .dataframe tbody tr th:only-of-type {\n",
              "        vertical-align: middle;\n",
              "    }\n",
              "\n",
              "    .dataframe tbody tr th {\n",
              "        vertical-align: top;\n",
              "    }\n",
              "\n",
              "    .dataframe thead th {\n",
              "        text-align: right;\n",
              "    }\n",
              "</style>\n",
              "<table border=\"1\" class=\"dataframe\">\n",
              "  <thead>\n",
              "    <tr style=\"text-align: right;\">\n",
              "      <th></th>\n",
              "      <th>Month</th>\n",
              "      <th>Temp</th>\n",
              "      <th>Year</th>\n",
              "    </tr>\n",
              "  </thead>\n",
              "  <tbody>\n",
              "    <tr>\n",
              "      <th>0</th>\n",
              "      <td>1</td>\n",
              "      <td>17.654839</td>\n",
              "      <td>2018</td>\n",
              "    </tr>\n",
              "    <tr>\n",
              "      <th>1</th>\n",
              "      <td>2</td>\n",
              "      <td>17.879641</td>\n",
              "      <td>2018</td>\n",
              "    </tr>\n",
              "    <tr>\n",
              "      <th>2</th>\n",
              "      <td>3</td>\n",
              "      <td>14.263447</td>\n",
              "      <td>2018</td>\n",
              "    </tr>\n",
              "    <tr>\n",
              "      <th>3</th>\n",
              "      <td>4</td>\n",
              "      <td>11.925578</td>\n",
              "      <td>2018</td>\n",
              "    </tr>\n",
              "    <tr>\n",
              "      <th>4</th>\n",
              "      <td>5</td>\n",
              "      <td>9.131106</td>\n",
              "      <td>2018</td>\n",
              "    </tr>\n",
              "    <tr>\n",
              "      <th>5</th>\n",
              "      <td>6</td>\n",
              "      <td>7.234667</td>\n",
              "      <td>2018</td>\n",
              "    </tr>\n",
              "    <tr>\n",
              "      <th>6</th>\n",
              "      <td>7</td>\n",
              "      <td>9.131106</td>\n",
              "      <td>2018</td>\n",
              "    </tr>\n",
              "    <tr>\n",
              "      <th>7</th>\n",
              "      <td>8</td>\n",
              "      <td>11.925578</td>\n",
              "      <td>2018</td>\n",
              "    </tr>\n",
              "    <tr>\n",
              "      <th>8</th>\n",
              "      <td>9</td>\n",
              "      <td>14.263447</td>\n",
              "      <td>2018</td>\n",
              "    </tr>\n",
              "    <tr>\n",
              "      <th>9</th>\n",
              "      <td>11</td>\n",
              "      <td>17.654839</td>\n",
              "      <td>2018</td>\n",
              "    </tr>\n",
              "    <tr>\n",
              "      <th>10</th>\n",
              "      <td>10</td>\n",
              "      <td>17.879641</td>\n",
              "      <td>2018</td>\n",
              "    </tr>\n",
              "    <tr>\n",
              "      <th>11</th>\n",
              "      <td>12</td>\n",
              "      <td>19.136448</td>\n",
              "      <td>2018</td>\n",
              "    </tr>\n",
              "  </tbody>\n",
              "</table>\n",
              "</div>"
            ],
            "text/plain": [
              "    Month       Temp  Year\n",
              "0       1  17.654839  2018\n",
              "1       2  17.879641  2018\n",
              "2       3  14.263447  2018\n",
              "3       4  11.925578  2018\n",
              "4       5   9.131106  2018\n",
              "5       6   7.234667  2018\n",
              "6       7   9.131106  2018\n",
              "7       8  11.925578  2018\n",
              "8       9  14.263447  2018\n",
              "9      11  17.654839  2018\n",
              "10     10  17.879641  2018\n",
              "11     12  19.136448  2018"
            ]
          },
          "metadata": {
            "tags": []
          },
          "execution_count": 211
        }
      ]
    },
    {
      "cell_type": "code",
      "metadata": {
        "colab": {
          "base_uri": "https://localhost:8080/",
          "height": 542
        },
        "id": "WuiKknUEy-Dr",
        "outputId": "98683246-7e21-4dee-f129-72403ef48db3"
      },
      "source": [
        "import plotly.graph_objects as go\n",
        "\n",
        "forecasted_temp = pd.concat([data_santiago,temp_2018], sort=False).groupby(by='Year')['Temp'].mean().reset_index()\n",
        "fig = go.Figure(data=[\n",
        "    go.Scatter(x=forecasted_temp['Year'], y=forecasted_temp['Temp'], mode='lines'),\n",
        "    go.Scatter(x=forecasted_temp ['Year'], y=forecasted_temp['Temp'], mode='markers')\n",
        "])\n",
        "fig.update_layout(title='Temperatura predicha en el tiempo:',\n",
        "                 xaxis_title='Time', yaxis_title='Grados Celcius')\n",
        "fig.show()"
      ],
      "execution_count": null,
      "outputs": [
        {
          "output_type": "display_data",
          "data": {
            "text/html": [
              "<html>\n",
              "<head><meta charset=\"utf-8\" /></head>\n",
              "<body>\n",
              "    <div>            <script src=\"https://cdnjs.cloudflare.com/ajax/libs/mathjax/2.7.5/MathJax.js?config=TeX-AMS-MML_SVG\"></script><script type=\"text/javascript\">if (window.MathJax) {MathJax.Hub.Config({SVG: {font: \"STIX-Web\"}});}</script>                <script type=\"text/javascript\">window.PlotlyConfig = {MathJaxConfig: 'local'};</script>\n",
              "        <script src=\"https://cdn.plot.ly/plotly-latest.min.js\"></script>                <div id=\"ae0ea2f5-1c4f-4437-8006-2ea9bd7bb9fb\" class=\"plotly-graph-div\" style=\"height:525px; width:100%;\"></div>            <script type=\"text/javascript\">                                    window.PLOTLYENV=window.PLOTLYENV || {};                                    if (document.getElementById(\"ae0ea2f5-1c4f-4437-8006-2ea9bd7bb9fb\")) {                    Plotly.newPlot(                        \"ae0ea2f5-1c4f-4437-8006-2ea9bd7bb9fb\",                        [{\"mode\": \"lines\", \"type\": \"scatter\", \"x\": [1967, 1968, 1969, 1970, 1971, 1972, 1973, 1974, 1975, 1976, 1977, 1978, 1979, 1980, 1981, 1982, 1983, 1984, 1985, 1986, 1987, 1988, 1989, 1990, 1991, 1992, 1993, 1994, 1995, 1996, 1997, 1998, 1999, 2000, 2001, 2002, 2003, 2004, 2005, 2006, 2007, 2008, 2009, 2010, 2011, 2012, 2013, 2014, 2015, 2016, 2017, 2018], \"y\": [12.937710112595278, 13.88814455675388, 13.284151905195289, 12.701251847892562, 13.314191145168158, 13.980896555157308, 13.51525332379893, 12.800453789042498, 12.689492447516642, 12.831391360771226, 13.72473886328725, 13.668743599590373, 13.387348310291861, 13.729822024471636, 13.478424859190989, 13.723282770097285, 13.334587813620075, 13.141853602768508, 13.582629288274449, 14.169055939580131, 14.367884664618535, 13.627050426399704, 13.840665642601126, 13.50957565284178, 13.896762032770098, 13.63267457669015, 13.628148361495137, 14.026142473118279, 14.065406426011265, 13.838130021010999, 14.533309011776751, 14.255954301075265, 13.820209293394777, 13.860383141762453, 14.163963133640555, 13.9552585765489, 14.342577444956476, 14.129140711902116, 14.320382104454687, 14.656612903225806, 13.282437275985664, 14.567091212458287, 14.78158986175115, 14.03409233363349, 14.369415713716789, 15.0009751575825, 14.626802355350746, 14.63690860215054, 15.221143113159242, 15.209609442590533, 14.967410394265235, 15.332246844358487]}, {\"mode\": \"markers\", \"type\": \"scatter\", \"x\": [1967, 1968, 1969, 1970, 1971, 1972, 1973, 1974, 1975, 1976, 1977, 1978, 1979, 1980, 1981, 1982, 1983, 1984, 1985, 1986, 1987, 1988, 1989, 1990, 1991, 1992, 1993, 1994, 1995, 1996, 1997, 1998, 1999, 2000, 2001, 2002, 2003, 2004, 2005, 2006, 2007, 2008, 2009, 2010, 2011, 2012, 2013, 2014, 2015, 2016, 2017, 2018], \"y\": [12.937710112595278, 13.88814455675388, 13.284151905195289, 12.701251847892562, 13.314191145168158, 13.980896555157308, 13.51525332379893, 12.800453789042498, 12.689492447516642, 12.831391360771226, 13.72473886328725, 13.668743599590373, 13.387348310291861, 13.729822024471636, 13.478424859190989, 13.723282770097285, 13.334587813620075, 13.141853602768508, 13.582629288274449, 14.169055939580131, 14.367884664618535, 13.627050426399704, 13.840665642601126, 13.50957565284178, 13.896762032770098, 13.63267457669015, 13.628148361495137, 14.026142473118279, 14.065406426011265, 13.838130021010999, 14.533309011776751, 14.255954301075265, 13.820209293394777, 13.860383141762453, 14.163963133640555, 13.9552585765489, 14.342577444956476, 14.129140711902116, 14.320382104454687, 14.656612903225806, 13.282437275985664, 14.567091212458287, 14.78158986175115, 14.03409233363349, 14.369415713716789, 15.0009751575825, 14.626802355350746, 14.63690860215054, 15.221143113159242, 15.209609442590533, 14.967410394265235, 15.332246844358487]}],                        {\"template\": {\"data\": {\"bar\": [{\"error_x\": {\"color\": \"#2a3f5f\"}, \"error_y\": {\"color\": \"#2a3f5f\"}, \"marker\": {\"line\": {\"color\": \"#E5ECF6\", \"width\": 0.5}}, \"type\": \"bar\"}], \"barpolar\": [{\"marker\": {\"line\": {\"color\": \"#E5ECF6\", \"width\": 0.5}}, \"type\": \"barpolar\"}], \"carpet\": [{\"aaxis\": {\"endlinecolor\": \"#2a3f5f\", \"gridcolor\": \"white\", \"linecolor\": \"white\", \"minorgridcolor\": \"white\", \"startlinecolor\": \"#2a3f5f\"}, \"baxis\": {\"endlinecolor\": \"#2a3f5f\", \"gridcolor\": \"white\", \"linecolor\": \"white\", \"minorgridcolor\": \"white\", \"startlinecolor\": \"#2a3f5f\"}, \"type\": \"carpet\"}], \"choropleth\": [{\"colorbar\": {\"outlinewidth\": 0, \"ticks\": \"\"}, \"type\": \"choropleth\"}], \"contour\": [{\"colorbar\": {\"outlinewidth\": 0, \"ticks\": \"\"}, \"colorscale\": [[0.0, \"#0d0887\"], [0.1111111111111111, \"#46039f\"], [0.2222222222222222, \"#7201a8\"], [0.3333333333333333, \"#9c179e\"], [0.4444444444444444, \"#bd3786\"], [0.5555555555555556, \"#d8576b\"], [0.6666666666666666, \"#ed7953\"], [0.7777777777777778, \"#fb9f3a\"], [0.8888888888888888, \"#fdca26\"], [1.0, \"#f0f921\"]], \"type\": \"contour\"}], \"contourcarpet\": [{\"colorbar\": {\"outlinewidth\": 0, \"ticks\": \"\"}, \"type\": \"contourcarpet\"}], \"heatmap\": [{\"colorbar\": {\"outlinewidth\": 0, \"ticks\": \"\"}, \"colorscale\": [[0.0, \"#0d0887\"], [0.1111111111111111, \"#46039f\"], [0.2222222222222222, \"#7201a8\"], [0.3333333333333333, \"#9c179e\"], [0.4444444444444444, \"#bd3786\"], [0.5555555555555556, \"#d8576b\"], [0.6666666666666666, \"#ed7953\"], [0.7777777777777778, \"#fb9f3a\"], [0.8888888888888888, \"#fdca26\"], [1.0, \"#f0f921\"]], \"type\": \"heatmap\"}], \"heatmapgl\": [{\"colorbar\": {\"outlinewidth\": 0, \"ticks\": \"\"}, \"colorscale\": [[0.0, \"#0d0887\"], [0.1111111111111111, \"#46039f\"], [0.2222222222222222, \"#7201a8\"], [0.3333333333333333, \"#9c179e\"], [0.4444444444444444, \"#bd3786\"], [0.5555555555555556, \"#d8576b\"], [0.6666666666666666, \"#ed7953\"], [0.7777777777777778, \"#fb9f3a\"], [0.8888888888888888, \"#fdca26\"], [1.0, \"#f0f921\"]], \"type\": \"heatmapgl\"}], \"histogram\": [{\"marker\": {\"colorbar\": {\"outlinewidth\": 0, \"ticks\": \"\"}}, \"type\": \"histogram\"}], \"histogram2d\": [{\"colorbar\": {\"outlinewidth\": 0, \"ticks\": \"\"}, \"colorscale\": [[0.0, \"#0d0887\"], [0.1111111111111111, \"#46039f\"], [0.2222222222222222, \"#7201a8\"], [0.3333333333333333, \"#9c179e\"], [0.4444444444444444, \"#bd3786\"], [0.5555555555555556, \"#d8576b\"], [0.6666666666666666, \"#ed7953\"], [0.7777777777777778, \"#fb9f3a\"], [0.8888888888888888, \"#fdca26\"], [1.0, \"#f0f921\"]], \"type\": \"histogram2d\"}], \"histogram2dcontour\": [{\"colorbar\": {\"outlinewidth\": 0, \"ticks\": \"\"}, \"colorscale\": [[0.0, \"#0d0887\"], [0.1111111111111111, \"#46039f\"], [0.2222222222222222, \"#7201a8\"], [0.3333333333333333, \"#9c179e\"], [0.4444444444444444, \"#bd3786\"], [0.5555555555555556, \"#d8576b\"], [0.6666666666666666, \"#ed7953\"], [0.7777777777777778, \"#fb9f3a\"], [0.8888888888888888, \"#fdca26\"], [1.0, \"#f0f921\"]], \"type\": \"histogram2dcontour\"}], \"mesh3d\": [{\"colorbar\": {\"outlinewidth\": 0, \"ticks\": \"\"}, \"type\": \"mesh3d\"}], \"parcoords\": [{\"line\": {\"colorbar\": {\"outlinewidth\": 0, \"ticks\": \"\"}}, \"type\": \"parcoords\"}], \"pie\": [{\"automargin\": true, \"type\": \"pie\"}], \"scatter\": [{\"marker\": {\"colorbar\": {\"outlinewidth\": 0, \"ticks\": \"\"}}, \"type\": \"scatter\"}], \"scatter3d\": [{\"line\": {\"colorbar\": {\"outlinewidth\": 0, \"ticks\": \"\"}}, \"marker\": {\"colorbar\": {\"outlinewidth\": 0, \"ticks\": \"\"}}, \"type\": \"scatter3d\"}], \"scattercarpet\": [{\"marker\": {\"colorbar\": {\"outlinewidth\": 0, \"ticks\": \"\"}}, \"type\": \"scattercarpet\"}], \"scattergeo\": [{\"marker\": {\"colorbar\": {\"outlinewidth\": 0, \"ticks\": \"\"}}, \"type\": \"scattergeo\"}], \"scattergl\": [{\"marker\": {\"colorbar\": {\"outlinewidth\": 0, \"ticks\": \"\"}}, \"type\": \"scattergl\"}], \"scattermapbox\": [{\"marker\": {\"colorbar\": {\"outlinewidth\": 0, \"ticks\": \"\"}}, \"type\": \"scattermapbox\"}], \"scatterpolar\": [{\"marker\": {\"colorbar\": {\"outlinewidth\": 0, \"ticks\": \"\"}}, \"type\": \"scatterpolar\"}], \"scatterpolargl\": [{\"marker\": {\"colorbar\": {\"outlinewidth\": 0, \"ticks\": \"\"}}, \"type\": \"scatterpolargl\"}], \"scatterternary\": [{\"marker\": {\"colorbar\": {\"outlinewidth\": 0, \"ticks\": \"\"}}, \"type\": \"scatterternary\"}], \"surface\": [{\"colorbar\": {\"outlinewidth\": 0, \"ticks\": \"\"}, \"colorscale\": [[0.0, \"#0d0887\"], [0.1111111111111111, \"#46039f\"], [0.2222222222222222, \"#7201a8\"], [0.3333333333333333, \"#9c179e\"], [0.4444444444444444, \"#bd3786\"], [0.5555555555555556, \"#d8576b\"], [0.6666666666666666, \"#ed7953\"], [0.7777777777777778, \"#fb9f3a\"], [0.8888888888888888, \"#fdca26\"], [1.0, \"#f0f921\"]], \"type\": \"surface\"}], \"table\": [{\"cells\": {\"fill\": {\"color\": \"#EBF0F8\"}, \"line\": {\"color\": \"white\"}}, \"header\": {\"fill\": {\"color\": \"#C8D4E3\"}, \"line\": {\"color\": \"white\"}}, \"type\": \"table\"}]}, \"layout\": {\"annotationdefaults\": {\"arrowcolor\": \"#2a3f5f\", \"arrowhead\": 0, \"arrowwidth\": 1}, \"autotypenumbers\": \"strict\", \"coloraxis\": {\"colorbar\": {\"outlinewidth\": 0, \"ticks\": \"\"}}, \"colorscale\": {\"diverging\": [[0, \"#8e0152\"], [0.1, \"#c51b7d\"], [0.2, \"#de77ae\"], [0.3, \"#f1b6da\"], [0.4, \"#fde0ef\"], [0.5, \"#f7f7f7\"], [0.6, \"#e6f5d0\"], [0.7, \"#b8e186\"], [0.8, \"#7fbc41\"], [0.9, \"#4d9221\"], [1, \"#276419\"]], \"sequential\": [[0.0, \"#0d0887\"], [0.1111111111111111, \"#46039f\"], [0.2222222222222222, \"#7201a8\"], [0.3333333333333333, \"#9c179e\"], [0.4444444444444444, \"#bd3786\"], [0.5555555555555556, \"#d8576b\"], [0.6666666666666666, \"#ed7953\"], [0.7777777777777778, \"#fb9f3a\"], [0.8888888888888888, \"#fdca26\"], [1.0, \"#f0f921\"]], \"sequentialminus\": [[0.0, \"#0d0887\"], [0.1111111111111111, \"#46039f\"], [0.2222222222222222, \"#7201a8\"], [0.3333333333333333, \"#9c179e\"], [0.4444444444444444, \"#bd3786\"], [0.5555555555555556, \"#d8576b\"], [0.6666666666666666, \"#ed7953\"], [0.7777777777777778, \"#fb9f3a\"], [0.8888888888888888, \"#fdca26\"], [1.0, \"#f0f921\"]]}, \"colorway\": [\"#636efa\", \"#EF553B\", \"#00cc96\", \"#ab63fa\", \"#FFA15A\", \"#19d3f3\", \"#FF6692\", \"#B6E880\", \"#FF97FF\", \"#FECB52\"], \"font\": {\"color\": \"#2a3f5f\"}, \"geo\": {\"bgcolor\": \"white\", \"lakecolor\": \"white\", \"landcolor\": \"#E5ECF6\", \"showlakes\": true, \"showland\": true, \"subunitcolor\": \"white\"}, \"hoverlabel\": {\"align\": \"left\"}, \"hovermode\": \"closest\", \"mapbox\": {\"style\": \"light\"}, \"paper_bgcolor\": \"white\", \"plot_bgcolor\": \"#E5ECF6\", \"polar\": {\"angularaxis\": {\"gridcolor\": \"white\", \"linecolor\": \"white\", \"ticks\": \"\"}, \"bgcolor\": \"#E5ECF6\", \"radialaxis\": {\"gridcolor\": \"white\", \"linecolor\": \"white\", \"ticks\": \"\"}}, \"scene\": {\"xaxis\": {\"backgroundcolor\": \"#E5ECF6\", \"gridcolor\": \"white\", \"gridwidth\": 2, \"linecolor\": \"white\", \"showbackground\": true, \"ticks\": \"\", \"zerolinecolor\": \"white\"}, \"yaxis\": {\"backgroundcolor\": \"#E5ECF6\", \"gridcolor\": \"white\", \"gridwidth\": 2, \"linecolor\": \"white\", \"showbackground\": true, \"ticks\": \"\", \"zerolinecolor\": \"white\"}, \"zaxis\": {\"backgroundcolor\": \"#E5ECF6\", \"gridcolor\": \"white\", \"gridwidth\": 2, \"linecolor\": \"white\", \"showbackground\": true, \"ticks\": \"\", \"zerolinecolor\": \"white\"}}, \"shapedefaults\": {\"line\": {\"color\": \"#2a3f5f\"}}, \"ternary\": {\"aaxis\": {\"gridcolor\": \"white\", \"linecolor\": \"white\", \"ticks\": \"\"}, \"baxis\": {\"gridcolor\": \"white\", \"linecolor\": \"white\", \"ticks\": \"\"}, \"bgcolor\": \"#E5ECF6\", \"caxis\": {\"gridcolor\": \"white\", \"linecolor\": \"white\", \"ticks\": \"\"}}, \"title\": {\"x\": 0.05}, \"xaxis\": {\"automargin\": true, \"gridcolor\": \"white\", \"linecolor\": \"white\", \"ticks\": \"\", \"title\": {\"standoff\": 15}, \"zerolinecolor\": \"white\", \"zerolinewidth\": 2}, \"yaxis\": {\"automargin\": true, \"gridcolor\": \"white\", \"linecolor\": \"white\", \"ticks\": \"\", \"title\": {\"standoff\": 15}, \"zerolinecolor\": \"white\", \"zerolinewidth\": 2}}}, \"title\": {\"text\": \"Temperatura predicha en el tiempo:\"}, \"xaxis\": {\"title\": {\"text\": \"Time\"}}, \"yaxis\": {\"title\": {\"text\": \"Grados Celcius\"}}},                        {\"responsive\": true}                    ).then(function(){\n",
              "                            \n",
              "var gd = document.getElementById('ae0ea2f5-1c4f-4437-8006-2ea9bd7bb9fb');\n",
              "var x = new MutationObserver(function (mutations, observer) {{\n",
              "        var display = window.getComputedStyle(gd).display;\n",
              "        if (!display || display === 'none') {{\n",
              "            console.log([gd, 'removed!']);\n",
              "            Plotly.purge(gd);\n",
              "            observer.disconnect();\n",
              "        }}\n",
              "}});\n",
              "\n",
              "// Listen for the removal of the full notebook cells\n",
              "var notebookContainer = gd.closest('#notebook-container');\n",
              "if (notebookContainer) {{\n",
              "    x.observe(notebookContainer, {childList: true});\n",
              "}}\n",
              "\n",
              "// Listen for the clearing of the current output cell\n",
              "var outputEl = gd.closest('.output');\n",
              "if (outputEl) {{\n",
              "    x.observe(outputEl, {childList: true});\n",
              "}}\n",
              "\n",
              "                        })                };                            </script>        </div>\n",
              "</body>\n",
              "</html>"
            ]
          },
          "metadata": {
            "tags": []
          }
        }
      ]
    },
    {
      "cell_type": "markdown",
      "metadata": {
        "id": "jkZsqaXBzNTq"
      },
      "source": [
        "**Justifique:**"
      ]
    },
    {
      "cell_type": "markdown",
      "metadata": {
        "id": "AvaH_6ZFzQMD"
      },
      "source": [
        "```\n",
        " Escriba aqui su respuesta\n",
        "```"
      ]
    },
    {
      "cell_type": "markdown",
      "metadata": {
        "id": "Rg4ZMq8ezAH6"
      },
      "source": [
        "# Cierre\n",
        "Recuerden que la tarea tiene un plazo de entrega de dos semanas y que **los días de atraso son válidos para las tareas**. Cualquier duda de la tarea, no duden en contactarnos por mail o U-cursos.\n",
        "\n",
        "\n",
        "\n",
        "<p align=\"center\">\n",
        "  <img src=\"https://i.pinimg.com/originals/65/ae/27/65ae270df87c3c4adcea997e48f60852.gif\">\n",
        "</p>"
      ]
    }
  ]
}