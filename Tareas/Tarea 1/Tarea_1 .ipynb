{
  "nbformat": 4,
  "nbformat_minor": 0,
  "metadata": {
    "kernelspec": {
      "display_name": "Python 3",
      "language": "python",
      "name": "python3"
    },
    "language_info": {
      "codemirror_mode": {
        "name": "ipython",
        "version": 3
      },
      "file_extension": ".py",
      "mimetype": "text/x-python",
      "name": "python",
      "nbconvert_exporter": "python",
      "pygments_lexer": "ipython3",
      "version": "3.8.3"
    },
    "toc": {
      "base_numbering": 1,
      "nav_menu": {},
      "number_sections": true,
      "sideBar": true,
      "skip_h1_title": true,
      "title_cell": "Tabla de Contenidos",
      "title_sidebar": "Contenidos",
      "toc_cell": false,
      "toc_position": {
        "height": "calc(100% - 180px)",
        "left": "10px",
        "top": "150px",
        "width": "241.867px"
      },
      "toc_section_display": true,
      "toc_window_display": true
    },
    "varInspector": {
      "cols": {
        "lenName": 16,
        "lenType": 16,
        "lenVar": 40
      },
      "kernels_config": {
        "python": {
          "delete_cmd_postfix": "",
          "delete_cmd_prefix": "del ",
          "library": "var_list.py",
          "varRefreshCmd": "print(var_dic_list())"
        },
        "r": {
          "delete_cmd_postfix": ") ",
          "delete_cmd_prefix": "rm(",
          "library": "var_list.r",
          "varRefreshCmd": "cat(var_dic_list()) "
        }
      },
      "types_to_exclude": [
        "module",
        "function",
        "builtin_function_or_method",
        "instance",
        "_Feature"
      ],
      "window_display": false
    },
    "colab": {
      "name": "Copia de Tarea_1.ipynb",
      "provenance": [],
      "collapsed_sections": []
    }
  },
  "cells": [
    {
      "cell_type": "markdown",
      "metadata": {
        "id": "XUZ1dFPHzAHl"
      },
      "source": [
        "<h1><center>Tarea 1: Roja o Azul</center></h1>\n",
        "\n",
        "<center><strong>MDS7202: Laboratorio de Programación Científica para Ciencia de Datos</strong></center>"
      ]
    },
    {
      "cell_type": "markdown",
      "metadata": {
        "id": "UD8X1uhGzAHq"
      },
      "source": [
        "### Cuerpo Docente:\n",
        "\n",
        "- Profesor: Pablo Badilla\n",
        "- Auxiliar: Ignacio Meza D.\n",
        "- Ayudante: Diego Irarrázaval"
      ]
    },
    {
      "cell_type": "markdown",
      "metadata": {
        "id": "tXflExjqzAHr"
      },
      "source": [
        "### Equipo: SUPER IMPORTANTE - notebooks sin nombre no serán revisados\n",
        "\n",
        "- Nombre de alumno 1: Joaquín Ortega \n",
        "- Nombre de alumno 2: María José Zambrano\n"
      ]
    },
    {
      "cell_type": "markdown",
      "metadata": {
        "id": "AD-V0bbZzAHr"
      },
      "source": [
        "### **Link de repositorio de GitHub:** [https://github.com/mzambrano1/Lab-programacion-cientifica](https://github.com/mzambrano1/Lab-programacion-cientifica)\n",
        "\n",
        "\n",
        "\n",
        "\n"
      ]
    },
    {
      "cell_type": "markdown",
      "metadata": {
        "id": "6uBLPj1PzAHs"
      },
      "source": [
        "# Temas a tratar\n",
        "\n",
        "- Programación orientada a objetos.\n",
        "- Manejo de datos en arreglos/tensores con `Numpy`.\n",
        "- Análisis exploratorio de datos con `Pandas`\n",
        "- Preprocesamiento con `Scikit-learn`.\n",
        "- Composición de preprocesadores con Pipelines.\n",
        "\n",
        "## Reglas:\n",
        "\n",
        "- Fecha de entrega: Descrita en U-cursos\n",
        "- **Grupos de 2 personas**\n",
        "- Cualquier duda fuera del horario de clases al foro. Mensajes al equipo docente serán respondidos por este medio.\n",
        "- Prohibidas las copias. \n",
        "- Pueden usar cualquier material del curso que estimen conveniente.\n",
        "\n"
      ]
    },
    {
      "cell_type": "markdown",
      "metadata": {
        "id": "wrG4gYabzAHs"
      },
      "source": [
        "# Descripción del tarea (LEER ESTO).\n",
        "\n",
        "En el presente notebook se presentan dos problemas, uno de **Segmentación de clientes en tiendas de retail** y otro enfocado en el **Análisis de temperaturas**. Producto de la larga extensión que podría significar la realización de los dos problemas, para efectos de esta tarea deben escoger **SOLAMENTE UNA** sección para desarrollar. Si desea puede borrar la pregunta que no realizará.\n",
        "\n",
        "<p align=\"center\">\n",
        "  <img src=\"https://media1.giphy.com/media/ikwWGan6JZMo7bbf5L/giphy.gif?cid=790b761140b82e1c3d6754790ef49d96e8406bdac2f36d6f&rid=giphy.gif&ct=g\">\n",
        "</p>\n",
        "\n",
        "\n"
      ]
    },
    {
      "cell_type": "markdown",
      "metadata": {
        "id": "MhISwri4zAHy"
      },
      "source": [
        "#Importamos librerias utiles 😸"
      ]
    },
    {
      "cell_type": "code",
      "metadata": {
        "ExecuteTime": {
          "end_time": "2021-03-29T00:08:16.884674Z",
          "start_time": "2021-03-29T00:08:16.349846Z"
        },
        "id": "uyc33dKdzAHy",
        "colab": {
          "base_uri": "https://localhost:8080/"
        },
        "outputId": "a5487a80-821d-48e8-ab41-09151bd405a1"
      },
      "source": [
        "# Libreria Core del lab.\n",
        "import numpy as np\n",
        "import pandas as pd\n",
        "import datetime\n",
        "from IPython.display import HTML\n",
        "\n",
        "# Libreria para plotear (En colab esta desactualizado plotly)\n",
        "!pip install --upgrade plotly\n",
        "import plotly.express as px\n",
        "\n",
        "# Librerias utiles\n",
        "from sklearn.preprocessing import StandardScaler\n",
        "from sklearn.cluster import KMeans\n",
        "from sklearn.base import BaseEstimator, TransformerMixin\n",
        "from sklearn.tree import DecisionTreeRegressor\n",
        "from sklearn.model_selection import train_test_split \n",
        "from sklearn.metrics import r2_score \n",
        "from sklearn.pipeline import Pipeline\n",
        "from sklearn.compose import ColumnTransformer\n",
        "from sklearn.preprocessing import MinMaxScaler\n",
        "from sklearn.preprocessing import FunctionTransformer\n",
        "from sklearn.preprocessing import PowerTransformer\n",
        "from sklearn.preprocessing import OneHotEncoder\n"
      ],
      "execution_count": 1,
      "outputs": [
        {
          "output_type": "stream",
          "text": [
            "Collecting plotly\n",
            "\u001b[?25l  Downloading https://files.pythonhosted.org/packages/1f/f6/bd3c17c8003b6641df1228e80e1acac97ed8402635e46c2571f8e1ef63af/plotly-4.14.3-py2.py3-none-any.whl (13.2MB)\n",
            "\u001b[K     |████████████████████████████████| 13.2MB 272kB/s \n",
            "\u001b[?25hRequirement already satisfied, skipping upgrade: six in /usr/local/lib/python3.7/dist-packages (from plotly) (1.15.0)\n",
            "Requirement already satisfied, skipping upgrade: retrying>=1.3.3 in /usr/local/lib/python3.7/dist-packages (from plotly) (1.3.3)\n",
            "Installing collected packages: plotly\n",
            "  Found existing installation: plotly 4.4.1\n",
            "    Uninstalling plotly-4.4.1:\n",
            "      Successfully uninstalled plotly-4.4.1\n",
            "Successfully installed plotly-4.14.3\n"
          ],
          "name": "stdout"
        }
      ]
    },
    {
      "cell_type": "markdown",
      "metadata": {
        "id": "QDwIXTh7bK_A"
      },
      "source": [
        "----\n",
        "\n",
        "# 1 Segmentación de Clientes en Tienda de Retail 🛍️"
      ]
    },
    {
      "cell_type": "code",
      "metadata": {
        "colab": {
          "base_uri": "https://localhost:8080/",
          "height": 352
        },
        "id": "kUWamMFJ4CV1",
        "outputId": "925b195e-e582-45b6-f290-ac02ddbd73db"
      },
      "source": [
        "HTML('<p align=\"center\"><iframe width=\"560\" height=\"315\" src=\"https://www.youtube.com/embed/MW4d8_LLYp8?rel=0&amp;controls=0&amp;showinfo=0\" frameborder=\"1\" allowfullscreen></iframe></p>')"
      ],
      "execution_count": null,
      "outputs": [
        {
          "output_type": "execute_result",
          "data": {
            "text/html": [
              "<p align=\"center\"><iframe width=\"560\" height=\"315\" src=\"https://www.youtube.com/embed/MW4d8_LLYp8?rel=0&amp;controls=0&amp;showinfo=0\" frameborder=\"1\" allowfullscreen></iframe></p>"
            ],
            "text/plain": [
              "<IPython.core.display.HTML object>"
            ]
          },
          "metadata": {
            "tags": []
          },
          "execution_count": 8
        }
      ]
    },
    {
      "cell_type": "markdown",
      "metadata": {
        "id": "x5-jr3vQ4SaC"
      },
      "source": [
        "## 1.1 Cargar Dataset [Sin puntos]\n",
        "\n",
        "<p align=\"center\">\n",
        "  <img width=300 src=\"https://s1.eestatic.com/2018/04/14/social/la_jungla_-_social_299733421_73842361_854x640.jpg\">\n",
        "</p>\n"
      ]
    },
    {
      "cell_type": "markdown",
      "metadata": {
        "id": "crOqRI265hjo"
      },
      "source": [
        "*Mr. Lepin Mora* quien es el gerente de una cotizada tienda de retail en Europa, les solicita si pueden analizar los datos de algunas de sus tiendas y si es posible extraer los diferenciar los tipos de clientes que posee el retail. \n",
        "\n",
        "Para esto, el área de ventas les entrega el archivo ```online_retail_II.xlsx``` con el que se les pide que cargue y visualicen algunas de las filas que componen el Dataset.\n",
        "\n",
        "De la primera visualización de los datos, señale los atributos que componen el dataset."
      ]
    },
    {
      "cell_type": "code",
      "metadata": {
        "colab": {
          "base_uri": "https://localhost:8080/"
        },
        "id": "f3O0tkkm6XyM",
        "outputId": "c0b3be6c-f49b-4c36-ccea-3513d3acd135"
      },
      "source": [
        "from google.colab import drive\n",
        "drive.mount('/content/drive')"
      ],
      "execution_count": 2,
      "outputs": [
        {
          "output_type": "stream",
          "text": [
            "Mounted at /content/drive\n"
          ],
          "name": "stdout"
        }
      ]
    },
    {
      "cell_type": "code",
      "metadata": {
        "id": "neidILFbuh-4"
      },
      "source": [
        "#########################\n",
        "df_2009 = pd.read_excel('/content/drive/MyDrive/Tarea1_lab/online_retail_II.xlsx',sheet_name=0)\n",
        "df_2011 = pd.read_excel('/content/drive/MyDrive/Tarea1_lab/online_retail_II.xlsx',sheet_name=1)\n",
        "\n",
        "#########################"
      ],
      "execution_count": 4,
      "outputs": []
    },
    {
      "cell_type": "code",
      "metadata": {
        "id": "a9_Dzm2s-P_-"
      },
      "source": [
        "df = df_2009.append(df_2011,ignore_index = True)"
      ],
      "execution_count": 8,
      "outputs": []
    },
    {
      "cell_type": "code",
      "metadata": {
        "colab": {
          "base_uri": "https://localhost:8080/",
          "height": 331
        },
        "id": "2nu0KI8u_SC8",
        "outputId": "4d7d54e7-dbf2-4950-91ab-7f0dd3fafc01"
      },
      "source": [
        "df.head()"
      ],
      "execution_count": 14,
      "outputs": [
        {
          "output_type": "execute_result",
          "data": {
            "text/html": [
              "<div>\n",
              "<style scoped>\n",
              "    .dataframe tbody tr th:only-of-type {\n",
              "        vertical-align: middle;\n",
              "    }\n",
              "\n",
              "    .dataframe tbody tr th {\n",
              "        vertical-align: top;\n",
              "    }\n",
              "\n",
              "    .dataframe thead th {\n",
              "        text-align: right;\n",
              "    }\n",
              "</style>\n",
              "<table border=\"1\" class=\"dataframe\">\n",
              "  <thead>\n",
              "    <tr style=\"text-align: right;\">\n",
              "      <th></th>\n",
              "      <th>Invoice</th>\n",
              "      <th>StockCode</th>\n",
              "      <th>Description</th>\n",
              "      <th>Quantity</th>\n",
              "      <th>InvoiceDate</th>\n",
              "      <th>Price</th>\n",
              "      <th>Customer ID</th>\n",
              "      <th>Country</th>\n",
              "    </tr>\n",
              "  </thead>\n",
              "  <tbody>\n",
              "    <tr>\n",
              "      <th>0</th>\n",
              "      <td>489434</td>\n",
              "      <td>85048</td>\n",
              "      <td>15CM CHRISTMAS GLASS BALL 20 LIGHTS</td>\n",
              "      <td>12</td>\n",
              "      <td>2009-12-01 07:45:00</td>\n",
              "      <td>6.95</td>\n",
              "      <td>13085.0</td>\n",
              "      <td>United Kingdom</td>\n",
              "    </tr>\n",
              "    <tr>\n",
              "      <th>1</th>\n",
              "      <td>489434</td>\n",
              "      <td>79323P</td>\n",
              "      <td>PINK CHERRY LIGHTS</td>\n",
              "      <td>12</td>\n",
              "      <td>2009-12-01 07:45:00</td>\n",
              "      <td>6.75</td>\n",
              "      <td>13085.0</td>\n",
              "      <td>United Kingdom</td>\n",
              "    </tr>\n",
              "    <tr>\n",
              "      <th>2</th>\n",
              "      <td>489434</td>\n",
              "      <td>79323W</td>\n",
              "      <td>WHITE CHERRY LIGHTS</td>\n",
              "      <td>12</td>\n",
              "      <td>2009-12-01 07:45:00</td>\n",
              "      <td>6.75</td>\n",
              "      <td>13085.0</td>\n",
              "      <td>United Kingdom</td>\n",
              "    </tr>\n",
              "    <tr>\n",
              "      <th>3</th>\n",
              "      <td>489434</td>\n",
              "      <td>22041</td>\n",
              "      <td>RECORD FRAME 7\" SINGLE SIZE</td>\n",
              "      <td>48</td>\n",
              "      <td>2009-12-01 07:45:00</td>\n",
              "      <td>2.10</td>\n",
              "      <td>13085.0</td>\n",
              "      <td>United Kingdom</td>\n",
              "    </tr>\n",
              "    <tr>\n",
              "      <th>4</th>\n",
              "      <td>489434</td>\n",
              "      <td>21232</td>\n",
              "      <td>STRAWBERRY CERAMIC TRINKET BOX</td>\n",
              "      <td>24</td>\n",
              "      <td>2009-12-01 07:45:00</td>\n",
              "      <td>1.25</td>\n",
              "      <td>13085.0</td>\n",
              "      <td>United Kingdom</td>\n",
              "    </tr>\n",
              "  </tbody>\n",
              "</table>\n",
              "</div>"
            ],
            "text/plain": [
              "  Invoice StockCode  ... Customer ID         Country\n",
              "0  489434     85048  ...     13085.0  United Kingdom\n",
              "1  489434    79323P  ...     13085.0  United Kingdom\n",
              "2  489434    79323W  ...     13085.0  United Kingdom\n",
              "3  489434     22041  ...     13085.0  United Kingdom\n",
              "4  489434     21232  ...     13085.0  United Kingdom\n",
              "\n",
              "[5 rows x 8 columns]"
            ]
          },
          "metadata": {
            "tags": []
          },
          "execution_count": 14
        }
      ]
    },
    {
      "cell_type": "code",
      "metadata": {
        "colab": {
          "base_uri": "https://localhost:8080/"
        },
        "id": "wpjEkr-zAiVz",
        "outputId": "c3c90695-c2b2-4e25-dc0f-f79241c2106e"
      },
      "source": [
        "for col in df.columns:\n",
        "  print(col)"
      ],
      "execution_count": 15,
      "outputs": [
        {
          "output_type": "stream",
          "text": [
            "Invoice\n",
            "StockCode\n",
            "Description\n",
            "Quantity\n",
            "InvoiceDate\n",
            "Price\n",
            "Customer ID\n",
            "Country\n"
          ],
          "name": "stdout"
        }
      ]
    },
    {
      "cell_type": "markdown",
      "metadata": {
        "id": "Rcjs-dd1V-1u"
      },
      "source": [
        "## 1.2 Análisis Exploratorio de Datos [1 Punto]\n",
        "\n",
        "En base a la primera visualización del dataset, *Don Mora* le solicita que realicen un análisis exploratorio de los datos, para esto les da **total libertad** para la revisión. De la revisión, ustedes deben explicar potenciales anomalías visualizadas y señalar si existe la necesidad de realizar una limpieza de datos.\n"
      ]
    },
    {
      "cell_type": "code",
      "metadata": {
        "colab": {
          "base_uri": "https://localhost:8080/"
        },
        "id": "cmcF8-nYDRHq",
        "outputId": "65f6f5a2-6dca-4cd5-f516-9986370fbd79"
      },
      "source": [
        "df.shape"
      ],
      "execution_count": 20,
      "outputs": [
        {
          "output_type": "execute_result",
          "data": {
            "text/plain": [
              "(1067371, 8)"
            ]
          },
          "metadata": {
            "tags": []
          },
          "execution_count": 20
        }
      ]
    },
    {
      "cell_type": "code",
      "metadata": {
        "colab": {
          "base_uri": "https://localhost:8080/"
        },
        "id": "gGry__4MIbhZ",
        "outputId": "6dd98cc1-fc9d-4b8d-d350-5d33350d3195"
      },
      "source": [
        "df.nunique()"
      ],
      "execution_count": 45,
      "outputs": [
        {
          "output_type": "execute_result",
          "data": {
            "text/plain": [
              "Invoice        53628\n",
              "StockCode       5305\n",
              "Description     5698\n",
              "Quantity        1057\n",
              "InvoiceDate    47635\n",
              "Price           2807\n",
              "Customer ID     5942\n",
              "Country           43\n",
              "dtype: int64"
            ]
          },
          "metadata": {
            "tags": []
          },
          "execution_count": 45
        }
      ]
    },
    {
      "cell_type": "code",
      "metadata": {
        "id": "f2fAIsmIv8jP",
        "colab": {
          "base_uri": "https://localhost:8080/",
          "height": 287
        },
        "outputId": "6a14b4c1-0e3d-48e3-cc4c-b88f4da6238d"
      },
      "source": [
        "df.describe()"
      ],
      "execution_count": 16,
      "outputs": [
        {
          "output_type": "execute_result",
          "data": {
            "text/html": [
              "<div>\n",
              "<style scoped>\n",
              "    .dataframe tbody tr th:only-of-type {\n",
              "        vertical-align: middle;\n",
              "    }\n",
              "\n",
              "    .dataframe tbody tr th {\n",
              "        vertical-align: top;\n",
              "    }\n",
              "\n",
              "    .dataframe thead th {\n",
              "        text-align: right;\n",
              "    }\n",
              "</style>\n",
              "<table border=\"1\" class=\"dataframe\">\n",
              "  <thead>\n",
              "    <tr style=\"text-align: right;\">\n",
              "      <th></th>\n",
              "      <th>Quantity</th>\n",
              "      <th>Price</th>\n",
              "      <th>Customer ID</th>\n",
              "    </tr>\n",
              "  </thead>\n",
              "  <tbody>\n",
              "    <tr>\n",
              "      <th>count</th>\n",
              "      <td>1.067371e+06</td>\n",
              "      <td>1.067371e+06</td>\n",
              "      <td>824364.000000</td>\n",
              "    </tr>\n",
              "    <tr>\n",
              "      <th>mean</th>\n",
              "      <td>9.938898e+00</td>\n",
              "      <td>4.649388e+00</td>\n",
              "      <td>15324.638504</td>\n",
              "    </tr>\n",
              "    <tr>\n",
              "      <th>std</th>\n",
              "      <td>1.727058e+02</td>\n",
              "      <td>1.235531e+02</td>\n",
              "      <td>1697.464450</td>\n",
              "    </tr>\n",
              "    <tr>\n",
              "      <th>min</th>\n",
              "      <td>-8.099500e+04</td>\n",
              "      <td>-5.359436e+04</td>\n",
              "      <td>12346.000000</td>\n",
              "    </tr>\n",
              "    <tr>\n",
              "      <th>25%</th>\n",
              "      <td>1.000000e+00</td>\n",
              "      <td>1.250000e+00</td>\n",
              "      <td>13975.000000</td>\n",
              "    </tr>\n",
              "    <tr>\n",
              "      <th>50%</th>\n",
              "      <td>3.000000e+00</td>\n",
              "      <td>2.100000e+00</td>\n",
              "      <td>15255.000000</td>\n",
              "    </tr>\n",
              "    <tr>\n",
              "      <th>75%</th>\n",
              "      <td>1.000000e+01</td>\n",
              "      <td>4.150000e+00</td>\n",
              "      <td>16797.000000</td>\n",
              "    </tr>\n",
              "    <tr>\n",
              "      <th>max</th>\n",
              "      <td>8.099500e+04</td>\n",
              "      <td>3.897000e+04</td>\n",
              "      <td>18287.000000</td>\n",
              "    </tr>\n",
              "  </tbody>\n",
              "</table>\n",
              "</div>"
            ],
            "text/plain": [
              "           Quantity         Price    Customer ID\n",
              "count  1.067371e+06  1.067371e+06  824364.000000\n",
              "mean   9.938898e+00  4.649388e+00   15324.638504\n",
              "std    1.727058e+02  1.235531e+02    1697.464450\n",
              "min   -8.099500e+04 -5.359436e+04   12346.000000\n",
              "25%    1.000000e+00  1.250000e+00   13975.000000\n",
              "50%    3.000000e+00  2.100000e+00   15255.000000\n",
              "75%    1.000000e+01  4.150000e+00   16797.000000\n",
              "max    8.099500e+04  3.897000e+04   18287.000000"
            ]
          },
          "metadata": {
            "tags": []
          },
          "execution_count": 16
        }
      ]
    },
    {
      "cell_type": "code",
      "metadata": {
        "colab": {
          "base_uri": "https://localhost:8080/"
        },
        "id": "lUIb8xG3ISMj",
        "outputId": "be7a6681-e66d-477b-9f3f-f022258f6018"
      },
      "source": [
        "df['Country'].unique()"
      ],
      "execution_count": 44,
      "outputs": [
        {
          "output_type": "execute_result",
          "data": {
            "text/plain": [
              "array(['United Kingdom', 'France', 'USA', 'Belgium', 'Australia', 'EIRE',\n",
              "       'Germany', 'Portugal', 'Japan', 'Denmark', 'Nigeria',\n",
              "       'Netherlands', 'Poland', 'Spain', 'Channel Islands', 'Italy',\n",
              "       'Cyprus', 'Greece', 'Norway', 'Austria', 'Sweden',\n",
              "       'United Arab Emirates', 'Finland', 'Switzerland', 'Unspecified',\n",
              "       'Malta', 'Bahrain', 'RSA', 'Bermuda', 'Hong Kong', 'Singapore',\n",
              "       'Thailand', 'Israel', 'Lithuania', 'West Indies', 'Lebanon',\n",
              "       'Korea', 'Brazil', 'Canada', 'Iceland', 'Saudi Arabia',\n",
              "       'Czech Republic', 'European Community'], dtype=object)"
            ]
          },
          "metadata": {
            "tags": []
          },
          "execution_count": 44
        }
      ]
    },
    {
      "cell_type": "code",
      "metadata": {
        "colab": {
          "base_uri": "https://localhost:8080/"
        },
        "id": "81stDfS9FMi6",
        "outputId": "17222fab-d8fc-46c3-8821-3ec08ed24147"
      },
      "source": [
        "df.isna().sum()"
      ],
      "execution_count": 29,
      "outputs": [
        {
          "output_type": "execute_result",
          "data": {
            "text/plain": [
              "Invoice             0\n",
              "StockCode           0\n",
              "Description      4382\n",
              "Quantity            0\n",
              "InvoiceDate         0\n",
              "Price               0\n",
              "Customer ID    243007\n",
              "Country             0\n",
              "dtype: int64"
            ]
          },
          "metadata": {
            "tags": []
          },
          "execution_count": 29
        }
      ]
    },
    {
      "cell_type": "code",
      "metadata": {
        "colab": {
          "base_uri": "https://localhost:8080/",
          "height": 673
        },
        "id": "cgfv8zwQGsfK",
        "outputId": "74363e8e-5f04-482f-d175-ce7f0d33284c"
      },
      "source": [
        "df[df.isna().any(axis=1)]"
      ],
      "execution_count": 39,
      "outputs": [
        {
          "output_type": "execute_result",
          "data": {
            "text/html": [
              "<div>\n",
              "<style scoped>\n",
              "    .dataframe tbody tr th:only-of-type {\n",
              "        vertical-align: middle;\n",
              "    }\n",
              "\n",
              "    .dataframe tbody tr th {\n",
              "        vertical-align: top;\n",
              "    }\n",
              "\n",
              "    .dataframe thead th {\n",
              "        text-align: right;\n",
              "    }\n",
              "</style>\n",
              "<table border=\"1\" class=\"dataframe\">\n",
              "  <thead>\n",
              "    <tr style=\"text-align: right;\">\n",
              "      <th></th>\n",
              "      <th>Invoice</th>\n",
              "      <th>StockCode</th>\n",
              "      <th>Description</th>\n",
              "      <th>Quantity</th>\n",
              "      <th>InvoiceDate</th>\n",
              "      <th>Price</th>\n",
              "      <th>Customer ID</th>\n",
              "      <th>Country</th>\n",
              "    </tr>\n",
              "  </thead>\n",
              "  <tbody>\n",
              "    <tr>\n",
              "      <th>263</th>\n",
              "      <td>489464</td>\n",
              "      <td>21733</td>\n",
              "      <td>85123a mixed</td>\n",
              "      <td>-96</td>\n",
              "      <td>2009-12-01 10:52:00</td>\n",
              "      <td>0.00</td>\n",
              "      <td>NaN</td>\n",
              "      <td>United Kingdom</td>\n",
              "    </tr>\n",
              "    <tr>\n",
              "      <th>283</th>\n",
              "      <td>489463</td>\n",
              "      <td>71477</td>\n",
              "      <td>short</td>\n",
              "      <td>-240</td>\n",
              "      <td>2009-12-01 10:52:00</td>\n",
              "      <td>0.00</td>\n",
              "      <td>NaN</td>\n",
              "      <td>United Kingdom</td>\n",
              "    </tr>\n",
              "    <tr>\n",
              "      <th>284</th>\n",
              "      <td>489467</td>\n",
              "      <td>85123A</td>\n",
              "      <td>21733 mixed</td>\n",
              "      <td>-192</td>\n",
              "      <td>2009-12-01 10:53:00</td>\n",
              "      <td>0.00</td>\n",
              "      <td>NaN</td>\n",
              "      <td>United Kingdom</td>\n",
              "    </tr>\n",
              "    <tr>\n",
              "      <th>470</th>\n",
              "      <td>489521</td>\n",
              "      <td>21646</td>\n",
              "      <td>NaN</td>\n",
              "      <td>-50</td>\n",
              "      <td>2009-12-01 11:44:00</td>\n",
              "      <td>0.00</td>\n",
              "      <td>NaN</td>\n",
              "      <td>United Kingdom</td>\n",
              "    </tr>\n",
              "    <tr>\n",
              "      <th>577</th>\n",
              "      <td>489525</td>\n",
              "      <td>85226C</td>\n",
              "      <td>BLUE PULL BACK RACING CAR</td>\n",
              "      <td>1</td>\n",
              "      <td>2009-12-01 11:49:00</td>\n",
              "      <td>0.55</td>\n",
              "      <td>NaN</td>\n",
              "      <td>United Kingdom</td>\n",
              "    </tr>\n",
              "    <tr>\n",
              "      <th>...</th>\n",
              "      <td>...</td>\n",
              "      <td>...</td>\n",
              "      <td>...</td>\n",
              "      <td>...</td>\n",
              "      <td>...</td>\n",
              "      <td>...</td>\n",
              "      <td>...</td>\n",
              "      <td>...</td>\n",
              "    </tr>\n",
              "    <tr>\n",
              "      <th>1066997</th>\n",
              "      <td>581498</td>\n",
              "      <td>85099B</td>\n",
              "      <td>JUMBO BAG RED RETROSPOT</td>\n",
              "      <td>5</td>\n",
              "      <td>2011-12-09 10:26:00</td>\n",
              "      <td>4.13</td>\n",
              "      <td>NaN</td>\n",
              "      <td>United Kingdom</td>\n",
              "    </tr>\n",
              "    <tr>\n",
              "      <th>1066998</th>\n",
              "      <td>581498</td>\n",
              "      <td>85099C</td>\n",
              "      <td>JUMBO  BAG BAROQUE BLACK WHITE</td>\n",
              "      <td>4</td>\n",
              "      <td>2011-12-09 10:26:00</td>\n",
              "      <td>4.13</td>\n",
              "      <td>NaN</td>\n",
              "      <td>United Kingdom</td>\n",
              "    </tr>\n",
              "    <tr>\n",
              "      <th>1066999</th>\n",
              "      <td>581498</td>\n",
              "      <td>85150</td>\n",
              "      <td>LADIES &amp; GENTLEMEN METAL SIGN</td>\n",
              "      <td>1</td>\n",
              "      <td>2011-12-09 10:26:00</td>\n",
              "      <td>4.96</td>\n",
              "      <td>NaN</td>\n",
              "      <td>United Kingdom</td>\n",
              "    </tr>\n",
              "    <tr>\n",
              "      <th>1067000</th>\n",
              "      <td>581498</td>\n",
              "      <td>85174</td>\n",
              "      <td>S/4 CACTI CANDLES</td>\n",
              "      <td>1</td>\n",
              "      <td>2011-12-09 10:26:00</td>\n",
              "      <td>10.79</td>\n",
              "      <td>NaN</td>\n",
              "      <td>United Kingdom</td>\n",
              "    </tr>\n",
              "    <tr>\n",
              "      <th>1067001</th>\n",
              "      <td>581498</td>\n",
              "      <td>DOT</td>\n",
              "      <td>DOTCOM POSTAGE</td>\n",
              "      <td>1</td>\n",
              "      <td>2011-12-09 10:26:00</td>\n",
              "      <td>1714.17</td>\n",
              "      <td>NaN</td>\n",
              "      <td>United Kingdom</td>\n",
              "    </tr>\n",
              "  </tbody>\n",
              "</table>\n",
              "<p>243007 rows × 8 columns</p>\n",
              "</div>"
            ],
            "text/plain": [
              "        Invoice StockCode  ... Customer ID         Country\n",
              "263      489464     21733  ...         NaN  United Kingdom\n",
              "283      489463     71477  ...         NaN  United Kingdom\n",
              "284      489467    85123A  ...         NaN  United Kingdom\n",
              "470      489521     21646  ...         NaN  United Kingdom\n",
              "577      489525    85226C  ...         NaN  United Kingdom\n",
              "...         ...       ...  ...         ...             ...\n",
              "1066997  581498    85099B  ...         NaN  United Kingdom\n",
              "1066998  581498    85099C  ...         NaN  United Kingdom\n",
              "1066999  581498     85150  ...         NaN  United Kingdom\n",
              "1067000  581498     85174  ...         NaN  United Kingdom\n",
              "1067001  581498       DOT  ...         NaN  United Kingdom\n",
              "\n",
              "[243007 rows x 8 columns]"
            ]
          },
          "metadata": {
            "tags": []
          },
          "execution_count": 39
        }
      ]
    },
    {
      "cell_type": "code",
      "metadata": {
        "id": "7BI2KQuYHaca"
      },
      "source": [
        "descrptions_nan = df[df['Description'].isnull()]"
      ],
      "execution_count": 41,
      "outputs": []
    },
    {
      "cell_type": "code",
      "metadata": {
        "colab": {
          "base_uri": "https://localhost:8080/",
          "height": 590
        },
        "id": "9opMNnMvItf5",
        "outputId": "71b6a418-cad6-4743-ea81-a6c7519a8c95"
      },
      "source": [
        "descrptions_nan "
      ],
      "execution_count": 46,
      "outputs": [
        {
          "output_type": "execute_result",
          "data": {
            "text/html": [
              "<div>\n",
              "<style scoped>\n",
              "    .dataframe tbody tr th:only-of-type {\n",
              "        vertical-align: middle;\n",
              "    }\n",
              "\n",
              "    .dataframe tbody tr th {\n",
              "        vertical-align: top;\n",
              "    }\n",
              "\n",
              "    .dataframe thead th {\n",
              "        text-align: right;\n",
              "    }\n",
              "</style>\n",
              "<table border=\"1\" class=\"dataframe\">\n",
              "  <thead>\n",
              "    <tr style=\"text-align: right;\">\n",
              "      <th></th>\n",
              "      <th>Invoice</th>\n",
              "      <th>StockCode</th>\n",
              "      <th>Description</th>\n",
              "      <th>Quantity</th>\n",
              "      <th>InvoiceDate</th>\n",
              "      <th>Price</th>\n",
              "      <th>Customer ID</th>\n",
              "      <th>Country</th>\n",
              "    </tr>\n",
              "  </thead>\n",
              "  <tbody>\n",
              "    <tr>\n",
              "      <th>470</th>\n",
              "      <td>489521</td>\n",
              "      <td>21646</td>\n",
              "      <td>NaN</td>\n",
              "      <td>-50</td>\n",
              "      <td>2009-12-01 11:44:00</td>\n",
              "      <td>0.0</td>\n",
              "      <td>NaN</td>\n",
              "      <td>United Kingdom</td>\n",
              "    </tr>\n",
              "    <tr>\n",
              "      <th>3114</th>\n",
              "      <td>489655</td>\n",
              "      <td>20683</td>\n",
              "      <td>NaN</td>\n",
              "      <td>-44</td>\n",
              "      <td>2009-12-01 17:26:00</td>\n",
              "      <td>0.0</td>\n",
              "      <td>NaN</td>\n",
              "      <td>United Kingdom</td>\n",
              "    </tr>\n",
              "    <tr>\n",
              "      <th>3161</th>\n",
              "      <td>489659</td>\n",
              "      <td>21350</td>\n",
              "      <td>NaN</td>\n",
              "      <td>230</td>\n",
              "      <td>2009-12-01 17:39:00</td>\n",
              "      <td>0.0</td>\n",
              "      <td>NaN</td>\n",
              "      <td>United Kingdom</td>\n",
              "    </tr>\n",
              "    <tr>\n",
              "      <th>3731</th>\n",
              "      <td>489781</td>\n",
              "      <td>84292</td>\n",
              "      <td>NaN</td>\n",
              "      <td>17</td>\n",
              "      <td>2009-12-02 11:45:00</td>\n",
              "      <td>0.0</td>\n",
              "      <td>NaN</td>\n",
              "      <td>United Kingdom</td>\n",
              "    </tr>\n",
              "    <tr>\n",
              "      <th>4296</th>\n",
              "      <td>489806</td>\n",
              "      <td>18010</td>\n",
              "      <td>NaN</td>\n",
              "      <td>-770</td>\n",
              "      <td>2009-12-02 12:42:00</td>\n",
              "      <td>0.0</td>\n",
              "      <td>NaN</td>\n",
              "      <td>United Kingdom</td>\n",
              "    </tr>\n",
              "    <tr>\n",
              "      <th>...</th>\n",
              "      <td>...</td>\n",
              "      <td>...</td>\n",
              "      <td>...</td>\n",
              "      <td>...</td>\n",
              "      <td>...</td>\n",
              "      <td>...</td>\n",
              "      <td>...</td>\n",
              "      <td>...</td>\n",
              "    </tr>\n",
              "    <tr>\n",
              "      <th>1060783</th>\n",
              "      <td>581199</td>\n",
              "      <td>84581</td>\n",
              "      <td>NaN</td>\n",
              "      <td>-2</td>\n",
              "      <td>2011-12-07 18:26:00</td>\n",
              "      <td>0.0</td>\n",
              "      <td>NaN</td>\n",
              "      <td>United Kingdom</td>\n",
              "    </tr>\n",
              "    <tr>\n",
              "      <th>1060787</th>\n",
              "      <td>581203</td>\n",
              "      <td>23406</td>\n",
              "      <td>NaN</td>\n",
              "      <td>15</td>\n",
              "      <td>2011-12-07 18:31:00</td>\n",
              "      <td>0.0</td>\n",
              "      <td>NaN</td>\n",
              "      <td>United Kingdom</td>\n",
              "    </tr>\n",
              "    <tr>\n",
              "      <th>1060793</th>\n",
              "      <td>581209</td>\n",
              "      <td>21620</td>\n",
              "      <td>NaN</td>\n",
              "      <td>6</td>\n",
              "      <td>2011-12-07 18:35:00</td>\n",
              "      <td>0.0</td>\n",
              "      <td>NaN</td>\n",
              "      <td>United Kingdom</td>\n",
              "    </tr>\n",
              "    <tr>\n",
              "      <th>1062442</th>\n",
              "      <td>581234</td>\n",
              "      <td>72817</td>\n",
              "      <td>NaN</td>\n",
              "      <td>27</td>\n",
              "      <td>2011-12-08 10:33:00</td>\n",
              "      <td>0.0</td>\n",
              "      <td>NaN</td>\n",
              "      <td>United Kingdom</td>\n",
              "    </tr>\n",
              "    <tr>\n",
              "      <th>1064015</th>\n",
              "      <td>581408</td>\n",
              "      <td>85175</td>\n",
              "      <td>NaN</td>\n",
              "      <td>20</td>\n",
              "      <td>2011-12-08 14:06:00</td>\n",
              "      <td>0.0</td>\n",
              "      <td>NaN</td>\n",
              "      <td>United Kingdom</td>\n",
              "    </tr>\n",
              "  </tbody>\n",
              "</table>\n",
              "<p>4382 rows × 8 columns</p>\n",
              "</div>"
            ],
            "text/plain": [
              "        Invoice StockCode Description  ...  Price Customer ID         Country\n",
              "470      489521     21646         NaN  ...    0.0         NaN  United Kingdom\n",
              "3114     489655     20683         NaN  ...    0.0         NaN  United Kingdom\n",
              "3161     489659     21350         NaN  ...    0.0         NaN  United Kingdom\n",
              "3731     489781     84292         NaN  ...    0.0         NaN  United Kingdom\n",
              "4296     489806     18010         NaN  ...    0.0         NaN  United Kingdom\n",
              "...         ...       ...         ...  ...    ...         ...             ...\n",
              "1060783  581199     84581         NaN  ...    0.0         NaN  United Kingdom\n",
              "1060787  581203     23406         NaN  ...    0.0         NaN  United Kingdom\n",
              "1060793  581209     21620         NaN  ...    0.0         NaN  United Kingdom\n",
              "1062442  581234     72817         NaN  ...    0.0         NaN  United Kingdom\n",
              "1064015  581408     85175         NaN  ...    0.0         NaN  United Kingdom\n",
              "\n",
              "[4382 rows x 8 columns]"
            ]
          },
          "metadata": {
            "tags": []
          },
          "execution_count": 46
        }
      ]
    },
    {
      "cell_type": "code",
      "metadata": {
        "colab": {
          "base_uri": "https://localhost:8080/",
          "height": 590
        },
        "id": "cv4VbkRXHrKI",
        "outputId": "f7ea92ab-47d1-499e-9a5d-30c3d83f0c15"
      },
      "source": [
        "descrptions_nan[descrptions_nan['Customer ID'].isnull()]\n",
        "\n"
      ],
      "execution_count": 42,
      "outputs": [
        {
          "output_type": "execute_result",
          "data": {
            "text/html": [
              "<div>\n",
              "<style scoped>\n",
              "    .dataframe tbody tr th:only-of-type {\n",
              "        vertical-align: middle;\n",
              "    }\n",
              "\n",
              "    .dataframe tbody tr th {\n",
              "        vertical-align: top;\n",
              "    }\n",
              "\n",
              "    .dataframe thead th {\n",
              "        text-align: right;\n",
              "    }\n",
              "</style>\n",
              "<table border=\"1\" class=\"dataframe\">\n",
              "  <thead>\n",
              "    <tr style=\"text-align: right;\">\n",
              "      <th></th>\n",
              "      <th>Invoice</th>\n",
              "      <th>StockCode</th>\n",
              "      <th>Description</th>\n",
              "      <th>Quantity</th>\n",
              "      <th>InvoiceDate</th>\n",
              "      <th>Price</th>\n",
              "      <th>Customer ID</th>\n",
              "      <th>Country</th>\n",
              "    </tr>\n",
              "  </thead>\n",
              "  <tbody>\n",
              "    <tr>\n",
              "      <th>470</th>\n",
              "      <td>489521</td>\n",
              "      <td>21646</td>\n",
              "      <td>NaN</td>\n",
              "      <td>-50</td>\n",
              "      <td>2009-12-01 11:44:00</td>\n",
              "      <td>0.0</td>\n",
              "      <td>NaN</td>\n",
              "      <td>United Kingdom</td>\n",
              "    </tr>\n",
              "    <tr>\n",
              "      <th>3114</th>\n",
              "      <td>489655</td>\n",
              "      <td>20683</td>\n",
              "      <td>NaN</td>\n",
              "      <td>-44</td>\n",
              "      <td>2009-12-01 17:26:00</td>\n",
              "      <td>0.0</td>\n",
              "      <td>NaN</td>\n",
              "      <td>United Kingdom</td>\n",
              "    </tr>\n",
              "    <tr>\n",
              "      <th>3161</th>\n",
              "      <td>489659</td>\n",
              "      <td>21350</td>\n",
              "      <td>NaN</td>\n",
              "      <td>230</td>\n",
              "      <td>2009-12-01 17:39:00</td>\n",
              "      <td>0.0</td>\n",
              "      <td>NaN</td>\n",
              "      <td>United Kingdom</td>\n",
              "    </tr>\n",
              "    <tr>\n",
              "      <th>3731</th>\n",
              "      <td>489781</td>\n",
              "      <td>84292</td>\n",
              "      <td>NaN</td>\n",
              "      <td>17</td>\n",
              "      <td>2009-12-02 11:45:00</td>\n",
              "      <td>0.0</td>\n",
              "      <td>NaN</td>\n",
              "      <td>United Kingdom</td>\n",
              "    </tr>\n",
              "    <tr>\n",
              "      <th>4296</th>\n",
              "      <td>489806</td>\n",
              "      <td>18010</td>\n",
              "      <td>NaN</td>\n",
              "      <td>-770</td>\n",
              "      <td>2009-12-02 12:42:00</td>\n",
              "      <td>0.0</td>\n",
              "      <td>NaN</td>\n",
              "      <td>United Kingdom</td>\n",
              "    </tr>\n",
              "    <tr>\n",
              "      <th>...</th>\n",
              "      <td>...</td>\n",
              "      <td>...</td>\n",
              "      <td>...</td>\n",
              "      <td>...</td>\n",
              "      <td>...</td>\n",
              "      <td>...</td>\n",
              "      <td>...</td>\n",
              "      <td>...</td>\n",
              "    </tr>\n",
              "    <tr>\n",
              "      <th>1060783</th>\n",
              "      <td>581199</td>\n",
              "      <td>84581</td>\n",
              "      <td>NaN</td>\n",
              "      <td>-2</td>\n",
              "      <td>2011-12-07 18:26:00</td>\n",
              "      <td>0.0</td>\n",
              "      <td>NaN</td>\n",
              "      <td>United Kingdom</td>\n",
              "    </tr>\n",
              "    <tr>\n",
              "      <th>1060787</th>\n",
              "      <td>581203</td>\n",
              "      <td>23406</td>\n",
              "      <td>NaN</td>\n",
              "      <td>15</td>\n",
              "      <td>2011-12-07 18:31:00</td>\n",
              "      <td>0.0</td>\n",
              "      <td>NaN</td>\n",
              "      <td>United Kingdom</td>\n",
              "    </tr>\n",
              "    <tr>\n",
              "      <th>1060793</th>\n",
              "      <td>581209</td>\n",
              "      <td>21620</td>\n",
              "      <td>NaN</td>\n",
              "      <td>6</td>\n",
              "      <td>2011-12-07 18:35:00</td>\n",
              "      <td>0.0</td>\n",
              "      <td>NaN</td>\n",
              "      <td>United Kingdom</td>\n",
              "    </tr>\n",
              "    <tr>\n",
              "      <th>1062442</th>\n",
              "      <td>581234</td>\n",
              "      <td>72817</td>\n",
              "      <td>NaN</td>\n",
              "      <td>27</td>\n",
              "      <td>2011-12-08 10:33:00</td>\n",
              "      <td>0.0</td>\n",
              "      <td>NaN</td>\n",
              "      <td>United Kingdom</td>\n",
              "    </tr>\n",
              "    <tr>\n",
              "      <th>1064015</th>\n",
              "      <td>581408</td>\n",
              "      <td>85175</td>\n",
              "      <td>NaN</td>\n",
              "      <td>20</td>\n",
              "      <td>2011-12-08 14:06:00</td>\n",
              "      <td>0.0</td>\n",
              "      <td>NaN</td>\n",
              "      <td>United Kingdom</td>\n",
              "    </tr>\n",
              "  </tbody>\n",
              "</table>\n",
              "<p>4382 rows × 8 columns</p>\n",
              "</div>"
            ],
            "text/plain": [
              "        Invoice StockCode Description  ...  Price Customer ID         Country\n",
              "470      489521     21646         NaN  ...    0.0         NaN  United Kingdom\n",
              "3114     489655     20683         NaN  ...    0.0         NaN  United Kingdom\n",
              "3161     489659     21350         NaN  ...    0.0         NaN  United Kingdom\n",
              "3731     489781     84292         NaN  ...    0.0         NaN  United Kingdom\n",
              "4296     489806     18010         NaN  ...    0.0         NaN  United Kingdom\n",
              "...         ...       ...         ...  ...    ...         ...             ...\n",
              "1060783  581199     84581         NaN  ...    0.0         NaN  United Kingdom\n",
              "1060787  581203     23406         NaN  ...    0.0         NaN  United Kingdom\n",
              "1060793  581209     21620         NaN  ...    0.0         NaN  United Kingdom\n",
              "1062442  581234     72817         NaN  ...    0.0         NaN  United Kingdom\n",
              "1064015  581408     85175         NaN  ...    0.0         NaN  United Kingdom\n",
              "\n",
              "[4382 rows x 8 columns]"
            ]
          },
          "metadata": {
            "tags": []
          },
          "execution_count": 42
        }
      ]
    },
    {
      "cell_type": "code",
      "metadata": {
        "colab": {
          "base_uri": "https://localhost:8080/",
          "height": 486
        },
        "id": "Ne8_EytFBgNR",
        "outputId": "dc3afda0-37f7-4d6d-efef-5c9eca3365f1"
      },
      "source": [
        "df_group_invoice = df.groupby('Invoice')"
      ],
      "execution_count": 19,
      "outputs": [
        {
          "output_type": "execute_result",
          "data": {
            "text/html": [
              "<div>\n",
              "<style scoped>\n",
              "    .dataframe tbody tr th:only-of-type {\n",
              "        vertical-align: middle;\n",
              "    }\n",
              "\n",
              "    .dataframe tbody tr th {\n",
              "        vertical-align: top;\n",
              "    }\n",
              "\n",
              "    .dataframe thead tr th {\n",
              "        text-align: left;\n",
              "    }\n",
              "\n",
              "    .dataframe thead tr:last-of-type th {\n",
              "        text-align: right;\n",
              "    }\n",
              "</style>\n",
              "<table border=\"1\" class=\"dataframe\">\n",
              "  <thead>\n",
              "    <tr>\n",
              "      <th></th>\n",
              "      <th colspan=\"8\" halign=\"left\">Quantity</th>\n",
              "      <th colspan=\"8\" halign=\"left\">Price</th>\n",
              "      <th colspan=\"8\" halign=\"left\">Customer ID</th>\n",
              "    </tr>\n",
              "    <tr>\n",
              "      <th></th>\n",
              "      <th>count</th>\n",
              "      <th>mean</th>\n",
              "      <th>std</th>\n",
              "      <th>min</th>\n",
              "      <th>25%</th>\n",
              "      <th>50%</th>\n",
              "      <th>75%</th>\n",
              "      <th>max</th>\n",
              "      <th>count</th>\n",
              "      <th>mean</th>\n",
              "      <th>std</th>\n",
              "      <th>min</th>\n",
              "      <th>25%</th>\n",
              "      <th>50%</th>\n",
              "      <th>75%</th>\n",
              "      <th>max</th>\n",
              "      <th>count</th>\n",
              "      <th>mean</th>\n",
              "      <th>std</th>\n",
              "      <th>min</th>\n",
              "      <th>25%</th>\n",
              "      <th>50%</th>\n",
              "      <th>75%</th>\n",
              "      <th>max</th>\n",
              "    </tr>\n",
              "    <tr>\n",
              "      <th>Invoice</th>\n",
              "      <th></th>\n",
              "      <th></th>\n",
              "      <th></th>\n",
              "      <th></th>\n",
              "      <th></th>\n",
              "      <th></th>\n",
              "      <th></th>\n",
              "      <th></th>\n",
              "      <th></th>\n",
              "      <th></th>\n",
              "      <th></th>\n",
              "      <th></th>\n",
              "      <th></th>\n",
              "      <th></th>\n",
              "      <th></th>\n",
              "      <th></th>\n",
              "      <th></th>\n",
              "      <th></th>\n",
              "      <th></th>\n",
              "      <th></th>\n",
              "      <th></th>\n",
              "      <th></th>\n",
              "      <th></th>\n",
              "      <th></th>\n",
              "    </tr>\n",
              "  </thead>\n",
              "  <tbody>\n",
              "    <tr>\n",
              "      <th>489434</th>\n",
              "      <td>8.0</td>\n",
              "      <td>20.750000</td>\n",
              "      <td>12.646287</td>\n",
              "      <td>10.0</td>\n",
              "      <td>12.00</td>\n",
              "      <td>18.0</td>\n",
              "      <td>24.00</td>\n",
              "      <td>48.0</td>\n",
              "      <td>8.0</td>\n",
              "      <td>4.081250</td>\n",
              "      <td>2.721205</td>\n",
              "      <td>1.25</td>\n",
              "      <td>1.550</td>\n",
              "      <td>4.025</td>\n",
              "      <td>6.75</td>\n",
              "      <td>6.95</td>\n",
              "      <td>8.0</td>\n",
              "      <td>13085.0</td>\n",
              "      <td>0.0</td>\n",
              "      <td>13085.0</td>\n",
              "      <td>13085.0</td>\n",
              "      <td>13085.0</td>\n",
              "      <td>13085.0</td>\n",
              "      <td>13085.0</td>\n",
              "    </tr>\n",
              "    <tr>\n",
              "      <th>489435</th>\n",
              "      <td>4.0</td>\n",
              "      <td>15.000000</td>\n",
              "      <td>6.000000</td>\n",
              "      <td>12.0</td>\n",
              "      <td>12.00</td>\n",
              "      <td>12.0</td>\n",
              "      <td>15.00</td>\n",
              "      <td>24.0</td>\n",
              "      <td>4.0</td>\n",
              "      <td>2.625000</td>\n",
              "      <td>0.861684</td>\n",
              "      <td>1.65</td>\n",
              "      <td>2.325</td>\n",
              "      <td>2.550</td>\n",
              "      <td>2.85</td>\n",
              "      <td>3.75</td>\n",
              "      <td>4.0</td>\n",
              "      <td>13085.0</td>\n",
              "      <td>0.0</td>\n",
              "      <td>13085.0</td>\n",
              "      <td>13085.0</td>\n",
              "      <td>13085.0</td>\n",
              "      <td>13085.0</td>\n",
              "      <td>13085.0</td>\n",
              "    </tr>\n",
              "    <tr>\n",
              "      <th>489436</th>\n",
              "      <td>19.0</td>\n",
              "      <td>10.157895</td>\n",
              "      <td>5.899747</td>\n",
              "      <td>2.0</td>\n",
              "      <td>5.00</td>\n",
              "      <td>12.0</td>\n",
              "      <td>12.00</td>\n",
              "      <td>24.0</td>\n",
              "      <td>19.0</td>\n",
              "      <td>3.730526</td>\n",
              "      <td>2.215269</td>\n",
              "      <td>1.25</td>\n",
              "      <td>1.670</td>\n",
              "      <td>3.390</td>\n",
              "      <td>5.70</td>\n",
              "      <td>8.50</td>\n",
              "      <td>19.0</td>\n",
              "      <td>13078.0</td>\n",
              "      <td>0.0</td>\n",
              "      <td>13078.0</td>\n",
              "      <td>13078.0</td>\n",
              "      <td>13078.0</td>\n",
              "      <td>13078.0</td>\n",
              "      <td>13078.0</td>\n",
              "    </tr>\n",
              "    <tr>\n",
              "      <th>489437</th>\n",
              "      <td>23.0</td>\n",
              "      <td>6.304348</td>\n",
              "      <td>4.149861</td>\n",
              "      <td>1.0</td>\n",
              "      <td>3.00</td>\n",
              "      <td>6.0</td>\n",
              "      <td>12.00</td>\n",
              "      <td>12.0</td>\n",
              "      <td>23.0</td>\n",
              "      <td>3.628261</td>\n",
              "      <td>2.697424</td>\n",
              "      <td>0.65</td>\n",
              "      <td>1.250</td>\n",
              "      <td>2.950</td>\n",
              "      <td>4.95</td>\n",
              "      <td>9.95</td>\n",
              "      <td>23.0</td>\n",
              "      <td>15362.0</td>\n",
              "      <td>0.0</td>\n",
              "      <td>15362.0</td>\n",
              "      <td>15362.0</td>\n",
              "      <td>15362.0</td>\n",
              "      <td>15362.0</td>\n",
              "      <td>15362.0</td>\n",
              "    </tr>\n",
              "    <tr>\n",
              "      <th>489438</th>\n",
              "      <td>17.0</td>\n",
              "      <td>48.588235</td>\n",
              "      <td>14.013649</td>\n",
              "      <td>28.0</td>\n",
              "      <td>32.00</td>\n",
              "      <td>56.0</td>\n",
              "      <td>60.00</td>\n",
              "      <td>60.0</td>\n",
              "      <td>17.0</td>\n",
              "      <td>2.591176</td>\n",
              "      <td>1.540588</td>\n",
              "      <td>0.98</td>\n",
              "      <td>1.900</td>\n",
              "      <td>2.400</td>\n",
              "      <td>2.50</td>\n",
              "      <td>6.40</td>\n",
              "      <td>17.0</td>\n",
              "      <td>18102.0</td>\n",
              "      <td>0.0</td>\n",
              "      <td>18102.0</td>\n",
              "      <td>18102.0</td>\n",
              "      <td>18102.0</td>\n",
              "      <td>18102.0</td>\n",
              "      <td>18102.0</td>\n",
              "    </tr>\n",
              "    <tr>\n",
              "      <th>...</th>\n",
              "      <td>...</td>\n",
              "      <td>...</td>\n",
              "      <td>...</td>\n",
              "      <td>...</td>\n",
              "      <td>...</td>\n",
              "      <td>...</td>\n",
              "      <td>...</td>\n",
              "      <td>...</td>\n",
              "      <td>...</td>\n",
              "      <td>...</td>\n",
              "      <td>...</td>\n",
              "      <td>...</td>\n",
              "      <td>...</td>\n",
              "      <td>...</td>\n",
              "      <td>...</td>\n",
              "      <td>...</td>\n",
              "      <td>...</td>\n",
              "      <td>...</td>\n",
              "      <td>...</td>\n",
              "      <td>...</td>\n",
              "      <td>...</td>\n",
              "      <td>...</td>\n",
              "      <td>...</td>\n",
              "      <td>...</td>\n",
              "    </tr>\n",
              "    <tr>\n",
              "      <th>C581484</th>\n",
              "      <td>1.0</td>\n",
              "      <td>-80995.000000</td>\n",
              "      <td>NaN</td>\n",
              "      <td>-80995.0</td>\n",
              "      <td>-80995.00</td>\n",
              "      <td>-80995.0</td>\n",
              "      <td>-80995.00</td>\n",
              "      <td>-80995.0</td>\n",
              "      <td>1.0</td>\n",
              "      <td>2.080000</td>\n",
              "      <td>NaN</td>\n",
              "      <td>2.08</td>\n",
              "      <td>2.080</td>\n",
              "      <td>2.080</td>\n",
              "      <td>2.08</td>\n",
              "      <td>2.08</td>\n",
              "      <td>1.0</td>\n",
              "      <td>16446.0</td>\n",
              "      <td>NaN</td>\n",
              "      <td>16446.0</td>\n",
              "      <td>16446.0</td>\n",
              "      <td>16446.0</td>\n",
              "      <td>16446.0</td>\n",
              "      <td>16446.0</td>\n",
              "    </tr>\n",
              "    <tr>\n",
              "      <th>C581490</th>\n",
              "      <td>2.0</td>\n",
              "      <td>-11.500000</td>\n",
              "      <td>0.707107</td>\n",
              "      <td>-12.0</td>\n",
              "      <td>-11.75</td>\n",
              "      <td>-11.5</td>\n",
              "      <td>-11.25</td>\n",
              "      <td>-11.0</td>\n",
              "      <td>2.0</td>\n",
              "      <td>1.390000</td>\n",
              "      <td>0.791960</td>\n",
              "      <td>0.83</td>\n",
              "      <td>1.110</td>\n",
              "      <td>1.390</td>\n",
              "      <td>1.67</td>\n",
              "      <td>1.95</td>\n",
              "      <td>2.0</td>\n",
              "      <td>14397.0</td>\n",
              "      <td>0.0</td>\n",
              "      <td>14397.0</td>\n",
              "      <td>14397.0</td>\n",
              "      <td>14397.0</td>\n",
              "      <td>14397.0</td>\n",
              "      <td>14397.0</td>\n",
              "    </tr>\n",
              "    <tr>\n",
              "      <th>C581499</th>\n",
              "      <td>1.0</td>\n",
              "      <td>-1.000000</td>\n",
              "      <td>NaN</td>\n",
              "      <td>-1.0</td>\n",
              "      <td>-1.00</td>\n",
              "      <td>-1.0</td>\n",
              "      <td>-1.00</td>\n",
              "      <td>-1.0</td>\n",
              "      <td>1.0</td>\n",
              "      <td>224.690000</td>\n",
              "      <td>NaN</td>\n",
              "      <td>224.69</td>\n",
              "      <td>224.690</td>\n",
              "      <td>224.690</td>\n",
              "      <td>224.69</td>\n",
              "      <td>224.69</td>\n",
              "      <td>1.0</td>\n",
              "      <td>15498.0</td>\n",
              "      <td>NaN</td>\n",
              "      <td>15498.0</td>\n",
              "      <td>15498.0</td>\n",
              "      <td>15498.0</td>\n",
              "      <td>15498.0</td>\n",
              "      <td>15498.0</td>\n",
              "    </tr>\n",
              "    <tr>\n",
              "      <th>C581568</th>\n",
              "      <td>1.0</td>\n",
              "      <td>-5.000000</td>\n",
              "      <td>NaN</td>\n",
              "      <td>-5.0</td>\n",
              "      <td>-5.00</td>\n",
              "      <td>-5.0</td>\n",
              "      <td>-5.00</td>\n",
              "      <td>-5.0</td>\n",
              "      <td>1.0</td>\n",
              "      <td>10.950000</td>\n",
              "      <td>NaN</td>\n",
              "      <td>10.95</td>\n",
              "      <td>10.950</td>\n",
              "      <td>10.950</td>\n",
              "      <td>10.95</td>\n",
              "      <td>10.95</td>\n",
              "      <td>1.0</td>\n",
              "      <td>15311.0</td>\n",
              "      <td>NaN</td>\n",
              "      <td>15311.0</td>\n",
              "      <td>15311.0</td>\n",
              "      <td>15311.0</td>\n",
              "      <td>15311.0</td>\n",
              "      <td>15311.0</td>\n",
              "    </tr>\n",
              "    <tr>\n",
              "      <th>C581569</th>\n",
              "      <td>2.0</td>\n",
              "      <td>-3.000000</td>\n",
              "      <td>2.828427</td>\n",
              "      <td>-5.0</td>\n",
              "      <td>-4.00</td>\n",
              "      <td>-3.0</td>\n",
              "      <td>-2.00</td>\n",
              "      <td>-1.0</td>\n",
              "      <td>2.0</td>\n",
              "      <td>1.250000</td>\n",
              "      <td>0.000000</td>\n",
              "      <td>1.25</td>\n",
              "      <td>1.250</td>\n",
              "      <td>1.250</td>\n",
              "      <td>1.25</td>\n",
              "      <td>1.25</td>\n",
              "      <td>2.0</td>\n",
              "      <td>17315.0</td>\n",
              "      <td>0.0</td>\n",
              "      <td>17315.0</td>\n",
              "      <td>17315.0</td>\n",
              "      <td>17315.0</td>\n",
              "      <td>17315.0</td>\n",
              "      <td>17315.0</td>\n",
              "    </tr>\n",
              "  </tbody>\n",
              "</table>\n",
              "<p>53628 rows × 24 columns</p>\n",
              "</div>"
            ],
            "text/plain": [
              "        Quantity                           ... Customer ID                  \n",
              "           count          mean        std  ...         50%      75%      max\n",
              "Invoice                                    ...                              \n",
              "489434       8.0     20.750000  12.646287  ...     13085.0  13085.0  13085.0\n",
              "489435       4.0     15.000000   6.000000  ...     13085.0  13085.0  13085.0\n",
              "489436      19.0     10.157895   5.899747  ...     13078.0  13078.0  13078.0\n",
              "489437      23.0      6.304348   4.149861  ...     15362.0  15362.0  15362.0\n",
              "489438      17.0     48.588235  14.013649  ...     18102.0  18102.0  18102.0\n",
              "...          ...           ...        ...  ...         ...      ...      ...\n",
              "C581484      1.0 -80995.000000        NaN  ...     16446.0  16446.0  16446.0\n",
              "C581490      2.0    -11.500000   0.707107  ...     14397.0  14397.0  14397.0\n",
              "C581499      1.0     -1.000000        NaN  ...     15498.0  15498.0  15498.0\n",
              "C581568      1.0     -5.000000        NaN  ...     15311.0  15311.0  15311.0\n",
              "C581569      2.0     -3.000000   2.828427  ...     17315.0  17315.0  17315.0\n",
              "\n",
              "[53628 rows x 24 columns]"
            ]
          },
          "metadata": {
            "tags": []
          },
          "execution_count": 19
        }
      ]
    },
    {
      "cell_type": "code",
      "metadata": {
        "id": "k_0hau0aET-q"
      },
      "source": [
        "df_group_client = df.groupby('Customer ID')"
      ],
      "execution_count": 22,
      "outputs": []
    },
    {
      "cell_type": "code",
      "metadata": {
        "colab": {
          "base_uri": "https://localhost:8080/",
          "height": 503
        },
        "id": "puV0XBniEj8_",
        "outputId": "c6c84f53-a115-4953-d6a8-c235d5cee783"
      },
      "source": [
        "df_group_client.describe()"
      ],
      "execution_count": 24,
      "outputs": [
        {
          "output_type": "execute_result",
          "data": {
            "text/html": [
              "<div>\n",
              "<style scoped>\n",
              "    .dataframe tbody tr th:only-of-type {\n",
              "        vertical-align: middle;\n",
              "    }\n",
              "\n",
              "    .dataframe tbody tr th {\n",
              "        vertical-align: top;\n",
              "    }\n",
              "\n",
              "    .dataframe thead tr th {\n",
              "        text-align: left;\n",
              "    }\n",
              "\n",
              "    .dataframe thead tr:last-of-type th {\n",
              "        text-align: right;\n",
              "    }\n",
              "</style>\n",
              "<table border=\"1\" class=\"dataframe\">\n",
              "  <thead>\n",
              "    <tr>\n",
              "      <th></th>\n",
              "      <th colspan=\"8\" halign=\"left\">Quantity</th>\n",
              "      <th colspan=\"8\" halign=\"left\">Price</th>\n",
              "    </tr>\n",
              "    <tr>\n",
              "      <th></th>\n",
              "      <th>count</th>\n",
              "      <th>mean</th>\n",
              "      <th>std</th>\n",
              "      <th>min</th>\n",
              "      <th>25%</th>\n",
              "      <th>50%</th>\n",
              "      <th>75%</th>\n",
              "      <th>max</th>\n",
              "      <th>count</th>\n",
              "      <th>mean</th>\n",
              "      <th>std</th>\n",
              "      <th>min</th>\n",
              "      <th>25%</th>\n",
              "      <th>50%</th>\n",
              "      <th>75%</th>\n",
              "      <th>max</th>\n",
              "    </tr>\n",
              "    <tr>\n",
              "      <th>Customer ID</th>\n",
              "      <th></th>\n",
              "      <th></th>\n",
              "      <th></th>\n",
              "      <th></th>\n",
              "      <th></th>\n",
              "      <th></th>\n",
              "      <th></th>\n",
              "      <th></th>\n",
              "      <th></th>\n",
              "      <th></th>\n",
              "      <th></th>\n",
              "      <th></th>\n",
              "      <th></th>\n",
              "      <th></th>\n",
              "      <th></th>\n",
              "      <th></th>\n",
              "    </tr>\n",
              "  </thead>\n",
              "  <tbody>\n",
              "    <tr>\n",
              "      <th>12346.0</th>\n",
              "      <td>48.0</td>\n",
              "      <td>1.083333</td>\n",
              "      <td>15309.385753</td>\n",
              "      <td>-74215.0</td>\n",
              "      <td>-1.0</td>\n",
              "      <td>1.0</td>\n",
              "      <td>1.0</td>\n",
              "      <td>74215.0</td>\n",
              "      <td>48.0</td>\n",
              "      <td>12.092500</td>\n",
              "      <td>24.301570</td>\n",
              "      <td>1.00</td>\n",
              "      <td>4.5000</td>\n",
              "      <td>7.49</td>\n",
              "      <td>7.4900</td>\n",
              "      <td>142.31</td>\n",
              "    </tr>\n",
              "    <tr>\n",
              "      <th>12347.0</th>\n",
              "      <td>253.0</td>\n",
              "      <td>12.988142</td>\n",
              "      <td>16.477614</td>\n",
              "      <td>2.0</td>\n",
              "      <td>6.0</td>\n",
              "      <td>12.0</td>\n",
              "      <td>12.0</td>\n",
              "      <td>240.0</td>\n",
              "      <td>253.0</td>\n",
              "      <td>2.546087</td>\n",
              "      <td>2.156269</td>\n",
              "      <td>0.25</td>\n",
              "      <td>1.2500</td>\n",
              "      <td>1.95</td>\n",
              "      <td>3.7500</td>\n",
              "      <td>12.75</td>\n",
              "    </tr>\n",
              "    <tr>\n",
              "      <th>12348.0</th>\n",
              "      <td>51.0</td>\n",
              "      <td>53.215686</td>\n",
              "      <td>48.700848</td>\n",
              "      <td>1.0</td>\n",
              "      <td>22.0</td>\n",
              "      <td>24.0</td>\n",
              "      <td>88.0</td>\n",
              "      <td>144.0</td>\n",
              "      <td>51.0</td>\n",
              "      <td>3.786275</td>\n",
              "      <td>10.677136</td>\n",
              "      <td>0.29</td>\n",
              "      <td>0.3550</td>\n",
              "      <td>0.55</td>\n",
              "      <td>1.2500</td>\n",
              "      <td>40.00</td>\n",
              "    </tr>\n",
              "    <tr>\n",
              "      <th>12349.0</th>\n",
              "      <td>180.0</td>\n",
              "      <td>8.994444</td>\n",
              "      <td>7.846643</td>\n",
              "      <td>-1.0</td>\n",
              "      <td>3.0</td>\n",
              "      <td>6.0</td>\n",
              "      <td>12.0</td>\n",
              "      <td>48.0</td>\n",
              "      <td>180.0</td>\n",
              "      <td>8.358833</td>\n",
              "      <td>32.363722</td>\n",
              "      <td>0.42</td>\n",
              "      <td>1.4900</td>\n",
              "      <td>2.55</td>\n",
              "      <td>6.2750</td>\n",
              "      <td>300.00</td>\n",
              "    </tr>\n",
              "    <tr>\n",
              "      <th>12350.0</th>\n",
              "      <td>17.0</td>\n",
              "      <td>11.588235</td>\n",
              "      <td>4.345383</td>\n",
              "      <td>1.0</td>\n",
              "      <td>12.0</td>\n",
              "      <td>12.0</td>\n",
              "      <td>12.0</td>\n",
              "      <td>24.0</td>\n",
              "      <td>17.0</td>\n",
              "      <td>3.841176</td>\n",
              "      <td>9.334751</td>\n",
              "      <td>0.85</td>\n",
              "      <td>1.2500</td>\n",
              "      <td>1.65</td>\n",
              "      <td>2.1000</td>\n",
              "      <td>40.00</td>\n",
              "    </tr>\n",
              "    <tr>\n",
              "      <th>...</th>\n",
              "      <td>...</td>\n",
              "      <td>...</td>\n",
              "      <td>...</td>\n",
              "      <td>...</td>\n",
              "      <td>...</td>\n",
              "      <td>...</td>\n",
              "      <td>...</td>\n",
              "      <td>...</td>\n",
              "      <td>...</td>\n",
              "      <td>...</td>\n",
              "      <td>...</td>\n",
              "      <td>...</td>\n",
              "      <td>...</td>\n",
              "      <td>...</td>\n",
              "      <td>...</td>\n",
              "      <td>...</td>\n",
              "    </tr>\n",
              "    <tr>\n",
              "      <th>18283.0</th>\n",
              "      <td>986.0</td>\n",
              "      <td>1.757606</td>\n",
              "      <td>1.525774</td>\n",
              "      <td>1.0</td>\n",
              "      <td>1.0</td>\n",
              "      <td>1.0</td>\n",
              "      <td>2.0</td>\n",
              "      <td>13.0</td>\n",
              "      <td>986.0</td>\n",
              "      <td>1.744168</td>\n",
              "      <td>1.344169</td>\n",
              "      <td>0.21</td>\n",
              "      <td>0.8500</td>\n",
              "      <td>1.65</td>\n",
              "      <td>2.0800</td>\n",
              "      <td>15.95</td>\n",
              "    </tr>\n",
              "    <tr>\n",
              "      <th>18284.0</th>\n",
              "      <td>29.0</td>\n",
              "      <td>17.000000</td>\n",
              "      <td>14.992855</td>\n",
              "      <td>-1.0</td>\n",
              "      <td>6.0</td>\n",
              "      <td>12.0</td>\n",
              "      <td>25.0</td>\n",
              "      <td>50.0</td>\n",
              "      <td>29.0</td>\n",
              "      <td>4.003103</td>\n",
              "      <td>9.933401</td>\n",
              "      <td>0.21</td>\n",
              "      <td>0.4200</td>\n",
              "      <td>1.25</td>\n",
              "      <td>2.5500</td>\n",
              "      <td>50.00</td>\n",
              "    </tr>\n",
              "    <tr>\n",
              "      <th>18285.0</th>\n",
              "      <td>12.0</td>\n",
              "      <td>12.083333</td>\n",
              "      <td>21.760926</td>\n",
              "      <td>1.0</td>\n",
              "      <td>3.5</td>\n",
              "      <td>5.0</td>\n",
              "      <td>12.0</td>\n",
              "      <td>80.0</td>\n",
              "      <td>12.0</td>\n",
              "      <td>8.350000</td>\n",
              "      <td>13.785780</td>\n",
              "      <td>0.65</td>\n",
              "      <td>1.4000</td>\n",
              "      <td>3.75</td>\n",
              "      <td>8.0875</td>\n",
              "      <td>50.00</td>\n",
              "    </tr>\n",
              "    <tr>\n",
              "      <th>18286.0</th>\n",
              "      <td>70.0</td>\n",
              "      <td>8.457143</td>\n",
              "      <td>7.224527</td>\n",
              "      <td>-8.0</td>\n",
              "      <td>4.0</td>\n",
              "      <td>7.0</td>\n",
              "      <td>12.0</td>\n",
              "      <td>36.0</td>\n",
              "      <td>70.0</td>\n",
              "      <td>4.379286</td>\n",
              "      <td>6.814194</td>\n",
              "      <td>0.21</td>\n",
              "      <td>1.2500</td>\n",
              "      <td>2.10</td>\n",
              "      <td>5.8250</td>\n",
              "      <td>50.00</td>\n",
              "    </tr>\n",
              "    <tr>\n",
              "      <th>18287.0</th>\n",
              "      <td>156.0</td>\n",
              "      <td>19.301282</td>\n",
              "      <td>14.882516</td>\n",
              "      <td>-2.0</td>\n",
              "      <td>8.0</td>\n",
              "      <td>12.0</td>\n",
              "      <td>24.0</td>\n",
              "      <td>60.0</td>\n",
              "      <td>156.0</td>\n",
              "      <td>2.236474</td>\n",
              "      <td>4.196032</td>\n",
              "      <td>0.21</td>\n",
              "      <td>1.2025</td>\n",
              "      <td>1.65</td>\n",
              "      <td>2.5500</td>\n",
              "      <td>50.00</td>\n",
              "    </tr>\n",
              "  </tbody>\n",
              "</table>\n",
              "<p>5942 rows × 16 columns</p>\n",
              "</div>"
            ],
            "text/plain": [
              "            Quantity                           ... Price                \n",
              "               count       mean           std  ...   50%     75%     max\n",
              "Customer ID                                    ...                      \n",
              "12346.0         48.0   1.083333  15309.385753  ...  7.49  7.4900  142.31\n",
              "12347.0        253.0  12.988142     16.477614  ...  1.95  3.7500   12.75\n",
              "12348.0         51.0  53.215686     48.700848  ...  0.55  1.2500   40.00\n",
              "12349.0        180.0   8.994444      7.846643  ...  2.55  6.2750  300.00\n",
              "12350.0         17.0  11.588235      4.345383  ...  1.65  2.1000   40.00\n",
              "...              ...        ...           ...  ...   ...     ...     ...\n",
              "18283.0        986.0   1.757606      1.525774  ...  1.65  2.0800   15.95\n",
              "18284.0         29.0  17.000000     14.992855  ...  1.25  2.5500   50.00\n",
              "18285.0         12.0  12.083333     21.760926  ...  3.75  8.0875   50.00\n",
              "18286.0         70.0   8.457143      7.224527  ...  2.10  5.8250   50.00\n",
              "18287.0        156.0  19.301282     14.882516  ...  1.65  2.5500   50.00\n",
              "\n",
              "[5942 rows x 16 columns]"
            ]
          },
          "metadata": {
            "tags": []
          },
          "execution_count": 24
        }
      ]
    },
    {
      "cell_type": "markdown",
      "metadata": {
        "id": "ZH69XTVXcWOA"
      },
      "source": [
        "**Justifique:**"
      ]
    },
    {
      "cell_type": "markdown",
      "metadata": {
        "id": "drBazVljcYGA"
      },
      "source": [
        "Luego de realizar la exploración inicial se encontraron algunas anomalías. Primero se tienen cantidades de negativas de algunos objetos comprados al igual que se tienen precios negativos, cosas que resultan extrañas considerando que son tiendas que venden productos. También se encontraron valores NaN en las descripciones y en los id de los clientes. Se comprobó que todas las filas con NaN en la descripción, también tienen el id del cliente en NaN."
      ]
    },
    {
      "cell_type": "markdown",
      "metadata": {
        "id": "n1NZTGiDy2Ye"
      },
      "source": [
        "## 1.3 Primeras Visualizaciones [0,5 Puntos]"
      ]
    },
    {
      "cell_type": "markdown",
      "metadata": {
        "id": "dkyp81nkBghF"
      },
      "source": [
        "### 1.3.1 Obtención de TOPs "
      ]
    },
    {
      "cell_type": "markdown",
      "metadata": {
        "id": "FqWpKnmn6W0y"
      },
      "source": [
        "Sin considerar los comentarios realizados en la sección 1.2, se les pide obtener el **Top de 30 productos más vendidos** y el **Top de 30 productos que generan más ganancias** para la tienda de retail. Deben considerar todo el registro temporal presente en el dataset y entregar la información en un gráfico de barras (Utilice `plotly`). ¿Los artículos más vendidos son los mismos que generan más ganancias?, Comente."
      ]
    },
    {
      "cell_type": "code",
      "metadata": {
        "id": "3Zz96rYYY2z-"
      },
      "source": [
        "df['ganancia'] = df['Quantity']*df['Price']"
      ],
      "execution_count": 124,
      "outputs": []
    },
    {
      "cell_type": "code",
      "metadata": {
        "id": "ukR80TJTyG1j"
      },
      "source": [
        "df_product_grouped = df.groupby('StockCode')"
      ],
      "execution_count": 125,
      "outputs": []
    },
    {
      "cell_type": "code",
      "metadata": {
        "id": "ZemafJfhQEoS"
      },
      "source": [
        "sum = df_product_grouped.sum().reset_index()\n",
        "sum['StockCode'] = sum['StockCode'].astype(str)\n",
        "sum = sum.sort_values('Quantity')"
      ],
      "execution_count": 126,
      "outputs": []
    },
    {
      "cell_type": "code",
      "metadata": {
        "colab": {
          "base_uri": "https://localhost:8080/",
          "height": 542
        },
        "id": "0cqlfnbJR5QU",
        "outputId": "c3cfd8ce-b022-44db-879a-c79fa8d79879"
      },
      "source": [
        "fig = px.bar(sum, x='StockCode', y='Quantity')\n",
        "fig.show()"
      ],
      "execution_count": 127,
      "outputs": [
        {
          "output_type": "display_data",
          "data": {
            "text/html": [
              "<html>\n",
              "<head><meta charset=\"utf-8\" /></head>\n",
              "<body>\n",
              "    <div>            <script src=\"https://cdnjs.cloudflare.com/ajax/libs/mathjax/2.7.5/MathJax.js?config=TeX-AMS-MML_SVG\"></script><script type=\"text/javascript\">if (window.MathJax) {MathJax.Hub.Config({SVG: {font: \"STIX-Web\"}});}</script>                <script type=\"text/javascript\">window.PlotlyConfig = {MathJaxConfig: 'local'};</script>\n",
              "        <script src=\"https://cdn.plot.ly/plotly-latest.min.js\"></script>                <div id=\"475a61b6-d4e4-4f26-9d6d-9c7dbfdc09db\" class=\"plotly-graph-div\" style=\"height:525px; width:100%;\"></div>            <script type=\"text/javascript\">                                    window.PLOTLYENV=window.PLOTLYENV || {};                                    if (document.getElementById(\"475a61b6-d4e4-4f26-9d6d-9c7dbfdc09db\")) {                    Plotly.newPlot(                        \"475a61b6-d4e4-4f26-9d6d-9c7dbfdc09db\",                        [{\"alignmentgroup\": \"True\", \"hovertemplate\": \"StockCode=%{x}<br>Quantity=%{y}<extra></extra>\", \"legendgroup\": \"\", \"marker\": {\"color\": \"#636efa\"}, \"name\": \"\", \"offsetgroup\": \"\", \"orientation\": \"v\", \"showlegend\": false, \"textposition\": \"auto\", \"type\": \"bar\", \"x\": [\"20852\", \"22126\", \"23005\", \"23003\", \"10120\", \"72140F\", \"C3\", \"72024HC\", \"16235\", \"79323W\", \"D\", \"47504G\", \"47504F\", \"23059\", \"35015\", \"79323GR\", \"84016\", \"79323B\", \"79323LP\", \"23270\", \"22433\", \"22351\", \"23116\", \"23117\", \"23114\", \"23115\", \"84934\", \"23113\", \"79342B\", \"17061\", \"35610A\", \"22618\", \"35956\", \"35610C\", \"15002\", \"85036C\", \"79341\", \"18010\", \"85036B\", \"16050\", \"17013C\", \"23269\", \"79323P\", \"47420\", \"85073\", \"79323S\", \"37479P\", \"20715\", \"21493\", \"21620\", \"84614A\", \"17108D\", \"35610B\", \"20951\", \"84925D\", \"21502\", \"35643\", \"84613A\", \"10138\", \"16256C\", \"72038B\", \"84454\", \"35983\", \"84195\", \"21496\", \"21134\", \"17129D\", \"37353\", \"23055\", \"20937\", \"35611B\", \"35004S\", \"84711A\", \"20821\", \"35071\", \"17027A\", \"37365Y\", \"17010S\", \"85231K\", \"84612B\", \"84611B\", \"20820\", \"85223\", \"84613C\", \"21697\", \"85226B\", \"37350\", \"85219\", \"85074\", \"84571\", \"75149N\", \"35631A\", \"90037D\", \"35605A\", \"21353\", \"35993\", \"20938\", \"72754D\", \"72226D\", \"35950\", \"S\", \"35976B\", \"84718\", \"21701\", \"85186B\", \"90096\", \"71406B\", \"85193S\", \"16215\", \"47504J\", \"21102\", \"16255\", \"72740B\", \"37379A\", \"35630B\", \"20824\", \"90190B\", \"20968\", \"45016\", \"84224\", \"72084B\", \"35949\", \"72234\", \"35955\", \"16169H\", \"20958\", \"90110\", \"21639\", \"84614C\", \"71431\", \"85192S\", \"84439B\", \"85231A\", \"35908C\", \"18096C\", \"79023B\", \"DCGSLGIRL\", \"20879\", \"17013E\", \"82577\", \"84841\", \"90005A\", \"84858A\", \"84641\", \"82553\", \"21646\", \"17084F\", \"16169G\", \"84855\", \"21583\", \"90107\", \"20753\", \"90092\", \"17014B\", \"84389\", \"84751B\", \"79030A\", \"72752D\", \"17084G\", \"17013A\", \"37493D\", \"21699\", \"79071A\", \"45007B\", \"20683\", \"BANK CHARGES\", \"21585\", \"84340\", \"84706E\", \"16240\", \"37490D\", \"90025B\", \"84010\", \"90102\", \"85142\", \"71101A\", \"37493B\", \"84630\", \"84782B\", \"84681\", \"37493C\", \"84519D\", \"51012L\", \"35763\", \"79140\", \"84877D\", \"85017D\", \"20883\", \"AMAZONFEE\", \"85185E\", \"35632A\", \"35840\", \"17160\", \"21020\", \"85086B\", \"35631B\", \"72697A\", \"84743C\", \"20620\", \"79142\", \"85085A\", \"35992\", \"84875A\", \"85190\", \"84444C\", \"84809B\", \"35900\", \"22022\", \"90027A\", \"21450\", \"20904\", \"20965\", \"20944\", \"16243A\", \"90188\", \"35940\", \"35941\", \"37452A\", \"21019\", \"21778\", \"20858\", \"72752C\", \"84250M\", \"84546\", \"85120\", \"21177\", \"72755B\", \"90117\", \"16161N\", \"16201C\", \"35471B\", \"35975A\", \"90095\", \"84721\", \"20877\", \"SP1002\", \"35608A\", \"35978\", \"85037\", \"84440B\", \"35839\", \"90109\", \"84200\", \"35650\", \"35608C\", \"72751C\", \"72751D\", \"84402C\", \"20680\", \"84966A\", \"84765\", \"21024\", \"90191\", \"16210\", \"90172\", \"21838\", \"90111\", \"90002E\", \"20885\", \"18098A\", \"20882\", \"47361\", \"20895\", \"35537\", \"37477D\", \"21008\", \"35925\", \"17011B\", \"72752B\", \"21182\", \"90026A\", \"90194\", \"35604B\", \"84248B\", \"35948\", \"72752A\", \"90025C\", \"47581A\", \"21254\", \"47565\", \"DCGSLBOY\", \"20710\", \"72225D\", \"84597A\", \"CRUK\", \"35918B\", \"37445C\", \"21225\", \"84250H\", \"21113\", \"21290\", \"84600A\", \"37452B\", \"84608\", \"72331R\", \"84575B\", \"84849C\", \"21514\", \"21858\", \"20822\", \"84511\", \"35980B\", \"84871\", \"84867A\", \"21295\", \"35837\", \"72751B\", \"46775B\", \"84866\", \"71265\", \"35813A\", \"84814A\", \"72801H\", \"79301\", \"16249B\", \"84896C\", \"84449\", \"90011B\", \"16156A\", \"84248F\", \"84876C\", \"20900\", \"79053D\", \"84311\", \"71434B\", \"84394\", \"90005B\", \"DCGS0067\", \"82595\", \"21036\", \"84622\", \"84476A\", \"90080\", \"90197C\", \"84448\", \"47284V\", \"21602\", \"84868A\", \"47285B\", \"21023\", \"21021\", \"21335\", \"21342\", \"85090\", \"20881\", \"72719\", \"90025D\", \"21347\", \"21022\", \"35935\", \"37445D\", \"35973\", \"35823P\", \"72751A\", \"37408\", \"84548\", \"21776\", \"21512\", \"21005\", \"47595B\", \"48169\", \"84775\", \"72806\", \"72754C\", \"20946\", \"GIFT\", \"84599\", \"82609\", \"90128C\", \"35591G\", \"72798A\", \"84344\", \"35930\", \"DCGS0059\", \"35591T\", \"DCGS0068\", \"35794\", \"84845B\", \"84868B\", \"21057\", \"16132\", \"15060A\", \"21053\", \"20812\", \"21083\", \"84898E\", \"85207B\", \"47559\", \"84867B\", \"47569\", \"21510\", \"72671B\", \"21406\", \"21236\", \"72768\", \"79003B\", \"17091F\", \"84904\", \"35926\", \"DCGS0057\", \"20955\", \"72140D\", \"21176\", \"21772\", \"DCGS0070\", \"90065A\", \"90012A\", \"37490C\", \"72620A\", \"20860\", \"45008L\", \"37477C\", \"84897A\", \"20939\", \"35001C\", \"84933D\", \"85069\", \"10124C\", \"21104\", \"16155H\", \"90000C\", \"35974\", \"35995\", \"90011D\", \"85148\", \"90171\", \"21120\", \"72348B\", \"90025A\", \"21909\", \"16245A\", \"84395\", \"35442\", \"DCGS0073\", \"21133\", \"21170\", \"44276\", \"85104\", \"84942\", \"20906\", \"35960\", \"84873B\", \"18097A\", \"DCGS0056\", \"78027\", \"82039C\", \"21315\", \"20844\", \"20791\", \"84750C\", \"20779\", \"79315B\", \"79340W\", \"79070B\", \"90013E\", \"21227\", \"16200A\", \"DCGS0066P\", \"35597A\", \"18096B\", \"16248A\", \"47554\", \"21489\", \"72796C\", \"62097B\", \"20690\", \"84938\", \"20942\", \"84460A\", \"90128D\", \"85105\", \"75132\", \"84810C\", \"84247D\", \"35473\", \"70037L\", \"DCGS0060\", \"21325\", \"21766\", \"84825\", \"84341A\", \"35232\", \"37438\", \"79340P\", \"84705E\", \"21048\", \"21525\", \"21685\", \"84494B\", \"85056\", \"21601\", \"84672A\", \"20988\", \"72798B\", \"17017\", \"DCGS0071\", \"85051\", \"18033\", \"37504\", \"79057B\", \"21183\", \"79303A\", \"16065A\", \"16245B\", \"79082C\", \"84642\", \"21301\", \"84585L\", \"21920\", \"44266F\", \"47563B\", \"84752B\", \"21273\", \"79065B\", \"72809\", \"21753\", \"DCGS0053\", \"16222B\", \"84699\", \"90197A\", \"20905\", \"84626\", \"72045A\", \"21855\", \"37112\", \"85043\", \"DCGS0036\", \"DCGS0039\", \"DCGS0016\", \"DCGS0027\", \"79302C\", \"79064C\", \"35638A\", \"84845A\", \"17120\", \"90197D\", \"72755A\", \"DCGS0006\", \"16192\", \"79302J\", \"20954\", \"37445A\", \"21835\", \"21475\", \"21854\", \"84706B\", \"85077\", \"18094A\", \"21052\", \"82096\", \"79333\", \"47340A\", \"20720\", \"90097\", \"85057\", \"84925C\", \"DCGS0055\", \"84972M\", \"16131\", \"21081\", \"84874A\", \"84248E\", \"90065B\", \"21345\", \"72748\", \"82576\", \"21047\", \"21346\", \"85171\", \"72796A\", \"DCGS0074\", \"20787\", \"21862\", \"48173A\", \"21863\", \"47567\", \"10109\", \"DCGS0069\", \"84648\", \"22003\", \"21266\", \"DCGS0062\", \"37326\", \"72759\", \"DCGS0037\", \"23595\", \"22850\", \"72732\", \"35818C\", \"84967A\", \"23843\", \"21853\", \"18098B\", \"90187A\", \"84572\", \"85159b\", \"47593a\", \"46776b\", \"47594a\", \"84985b\", \"44217M\", \"85160b\", \"47590a\", \"16195\", \"85024A\", \"72529w\", \"85049c\", \"51014c\", \"71028A\", \"72802c\", \"85164b\", \"79051a\", \"DCGS0041\", \"85184A\", \"85123b\", \"DCGS0044\", \"46037A\", \"79053B\", \"46138D\", \"47503J \", \"22213\", \"85098A\", \"85184d\", \"46776e\", \"20743\", \"79070b\", \"84031b\", \"84899A\", \"23643\", \"84877C\", \"90121A\", \"90100\", \"84867a\", \"84864A\", \"85157\", \"21860\", \"21859\", \"21857\", \"90142B\", \"90142C\", \"84962\", \"23664\", \"84928\", \"37409\", \"90184c\", \"45014\", \"90183c\", \"48172\", \"84661b\", \"84031a\", \"72778\", \"23602\", \"79165\", \"20870\", \"84596l\", \"84510b\", \"84811A\", \"84795D\", \"23630\", \"23609\", \"35004s\", \"85231e\", \"37482b\", \"85232d\", \"90001C\", \"20739\", \"21505\", \"79309A\", \"35600A\", \"90024A\", \"35004p\", \"DCGS0075\", \"30086C\", \"79342b\", \"85034b\", \"84030b\", \"17014C\", \"84029c\", \"21148\", \"23628\", \"21097\", \"TEST002\", \"21767\", \"84796b\", \"23617\", \"21487\", \"84661a\", \"21267\", \"72483\", \"85049d\", \"84912a\", \"37482p\", \"84661c\", \"20721\", \"84671A\", \"85232a\", \"84967C\", \"85036a\", \"35945\", \"21409\", \"37484\", \"84705b\", \"20737\", \"35990\", \"84205C\", \"84596j\", \"20911\", \"84559d\", \"23649\", \"84406b\", \"84968b\", \"90068\", \"84867b\", \"84927C\", \"90127B\", \"72803b\", \"21029\", \"23652\", \"85179a\", \"90060B\", \"47347A\", \"16169A\", \"84558B\", \"84653\", \"DCGS0004\", \"84968f\", \"21119\", \"23638\", \"85124b\", \"84509g\", \"84509e\", \"84971l\", \"90038B\", \"DCGS0072\", \"85034a\", \"82011E\", \"82613a\", \"23610\", \"90004A\", \"90011E\", \"90126B\", \"90018C\", \"47567b\", \"20995\", \"84816\", \"84731\", \"20693\", \"84623\", \"90060C\", \"85232C\", \"23633\", \"84366\", \"85124c\", \"23635\", \"78056\", \"85035c\", \"47009\", \"90185B\", \"85036b\", \"37451\", \"ADJUST2\", \"90189B\", \"21492\", \"35821P\", \"84255A\", \"35592T\", \"90136\", \"90066A\", \"35001P\", \"79302m\", \"84968d\", \"23619\", \"37494a\", \"90035C\", \"85035a\", \"85231b\", \"37477B\", \"47340B\", \"23624\", \"10002R\", \"23650\", \"23639\", \"90176E\", \"85132c\", \"21362\", \"20678\", \"71409B\", \"84570B\", \"DCGS0066N\", \"23604\", \"47591c\", \"85049b\", \"37432\", \"85039b\", \"35994\", \"85070\", \"23615\", \"47556b\", \"23608\", \"23605\", \"ADJUST\", \"90181C\", \"23612\", \"90021\", \"21919\", \"84596g\", \"90176B\", \"15060b\", \"84562B\", \"23644\", \"20959\", \"84509b\", \"90142A\", \"21594\", \"23634\", \"23654\", \"m\", \"21343\", \"79157B\", \"85231D\", \"79065A\", \"21310\", \"46776a\", \"85184B\", \"79157V\", \"85136B\", \"90001B\", \"85025A\", \"90011A\", \"84534b\", \"85231g\", \"84705A\", \"85115B\", \"44265\", \"85184c\", \"90077\", \"90182B\", \"90034\", \"84971s\", \"85083\", \"62097A\", \"21852\", \"84986b\", \"47593b\", \"90020\", \"85035b\", \"35975B\", \"23621\", \"B\", \"DCGS0003\", \"17028J\", \"90141D\", \"46776f\", \"90041\", \"23627\", \"82072\", \"72801e\", \"21760\", \"90026D\", \"90091\", \"84857A\", \"84705F\", \"90082C\", \"84482\", \"35598C\", \"84660a\", \"90052\", \"90002C\", \"72805\", \"90152A\", \"37491B\", \"84968a\", \"90152B\", \"35977B\", \"84964A\", \"90152C\", \"85040b\", \"37348\", \"35654\", \"90025E\", \"84660b\", \"23623\", \"23607\", \"47591b\", \"47016\", \"47556\", \"20816\", \"90026C\", \"90026B\", \"90024F\", \"85160a\", \"23616\", \"90025F\", \"85018A\", \"90132\", \"18096c\", \"23646\", \"20884\", \"84387A\", \"90176C\", \"18097B\", \"84567\", \"90074\", \"72655C\", \"23601\", \"81953B\", \"23636\", \"35980A\", \"23640\", \"23625\", \"40046C\", \"84206B\", \"90050\", \"90176A\", \"47570b\", \"23645\", \"90078\", \"79053A\", \"47518f\", \"72802a\", \"90182A\", \"84575A\", \"72807a\", \"90135\", \"90176D\", \"72801g\", \"85124a\", \"85132b\", \"72785B\", \"35265\", \"90039A\", \"84201C\", \"84206C\", \"90196A\", \"84951b\", \"84247J\", \"90140\", \"90131\", \"84989b\", \"72038P\", \"90055\", \"21596\", \"90043\", \"23620\", \"47552A\", \"90141E\", \"84940\", \"84985a\", \"90075\", \"90189A\", \"84030B\", \"20987\", \"90053\", \"90042B\", \"21950\", \"90001A\", \"20673\", \"90076\", \"90069\", \"90179B\", \"90046\", \"35809a\", \"23637\", \"84247B\", \"90135A\", \"90142D\", \"84757\", \"84986A\", \"35233\", \"84529B\", \"84617\", \"84582\", \"35085E\", \"23613\", \"23449\", \"82069\", \"gift_0001_90\", \"81985A\", \"85079\", \"35979\", \"22016\", \"79151B\", \"90012B\", \"90180A\", \"gift_0001_80\", \"84914A\", \"90024C\", \"21337\", \"90179A\", \"85132a\", \"21764\", \"84807\", \"gift_0001_70\", \"47590b\", \"84564\", \"84795E\", \"82613c\", \"90049\", \"90182C\", \"gift_0001_60\", \"85018B\", \"21595\", \"79172D\", \"84679\", \"84596b\", \"84536b\", \"23463\", \"90183C\", \"90163B\", \"90027B\", \"90214U\", \"90177A\", \"90130D\", \"90150\", \"35936\", \"90027D\", \"84964B\", \"90141B\", \"72777\", \"84510e\", \"22206\", \"84632\", \"90181A\", \"90010B\", \"82613b\", \"79069A\", \"90127A\", \"90027C\", \"44242A\", \"78026\", \"20859\", \"35645\", \"72785A\", \"23632\", \"84586L\", \"84732D\", \"90024D\", \"47583B\", \"90035A\", \"85023C\", \"84550\", \"44092B\", \"71496B\", \"90206A\", \"90019C\", \"84292B\", \"84705D\", \"85168A\", \"22828\", \"84415A\", \"84450A\", \"90024E\", \"90178B\", \"84601A\", \"35909B\", \"90141C\", \"90011C\", \"35443\", \"78034B\", \"90067B\", \"35652\", \"47503G\", \"84968e\", \"85099c\", \"72798C\", \"90051\", \"84893\", \"84886\", \"90016C\", \"84415B\", \"84690\", \"20880\", \"PADS\", \"84963B\", \"84030C\", \"37481\", \"90125E\", \"84965A\", \"84529A\", \"DCGS0076\", \"23464\", \"90139\", \"gift_0001_40\", \"35598A\", \"84797a\", \"90202B\", \"48179\", \"90180B\", \"37489C\", \"84798C\", \"21300\", \"35644\", \"20892\", \"23468\", \"84425A\", \"90038C\", \"90054\", \"85225\", \"gift_0001_50\", \"84967B\", \"84596f\", \"90214W\", \"90179C\", \"84795b\", \"90063B\", \"46137D\", \"84706F\", \"84313A\", \"90126A\", \"20691\", \"22929\", \"90064B\", \"90064A\", \"90056\", \"84993b\", \"90196B\", \"84656\", \"23603\", \"35909A\", \"20896\", \"21752\", \"90079\", \"84533B\", \"90014C\", \"90151\", \"84593\", \"84797b\", \"21689\", \"90126C\", \"84447\", \"90141A\", \"20994\", \"90048\", \"90063A\", \"90001D\", \"90185D\", \"84427B\", \"16201B\", \"20964\", \"84966B\", \"90187B\", \"37491D\", \"85161\", \"90124C\", \"90039B\", \"90002B\", \"90029\", \"90199D\", \"72740A\", \"23441\", \"45013\", \"47341A\", \"21298\", \"90000B\", \"90121B\", \"84086B\", \"21759\", \"84558a\", \"90033\", \"90177E\", \"84902\", \"23629\", \"90024B\", \"90199A\", \"21763\", \"90039C\", \"84891B\", \"90185A\", \"84371\", \"84306\", \"72083A\", \"21339\", \"84559D\", \"84965B\", \"90164A\", \"44092C\", \"90195A\", \"23448\", \"37489B\", \"85232b\", \"84963A\", \"84456\", \"90156\", \"84536a\", \"90202A\", \"90059B\", \"90040D\", \"90138\", \"85023A\", \"90037A\", \"90130C\", \"81953P\", \"90036F\", \"23614\", \"20953\", \"72807b\", \"84899E\", \"84621\", \"90148\", \"90202C\", \"90137\", \"90036B\", \"79066k\", \"90036A\", \"84555A\", \"35004c\", \"90037C\", \"84465\", \"90181B\", \"90123C\", \"79413\", \"82545A\", \"90037B\", \"35001B\", \"21309\", \"84746\", \"35751D\", \"84796a\", \"90212C\", \"84732B\", \"90123B\", \"90130A\", \"23462\", \"35999\", \"35910B\", \"90183B\", \"17014F\", \"23465\", \"90016A\", \"90123D\", \"90162D\", \"37491A\", \"23143\", \"90155\", \"90124A\", \"90003B\", \"35838B\", \"84255B\", \"90099\", \"90060F\", \"45008C\", \"37399\", \"23459\", \"90178A\", \"20848\", \"90211A\", \"90036C\", \"90003E\", \"72796B\", \"90199B\", \"84873A\", \"35603C\", \"84881\", \"90177B\", \"21511\", \"84877A\", \"81950V\", \"84030c\", \"35051B\", \"90028\", \"23467\", \"22823\", \"90214Z\", \"79149B\", \"90023\", \"90000A\", \"84559b\", \"17191A\", \"84824\", \"20887\", \"37506\", \"90067A\", \"90019B\", \"84660c\", \"90013D\", \"90177C\", \"20861\", \"90185C\", \"23015\", \"84966C\", \"20660\", \"23410\", \"90036E\", \"37489D\", \"90014B\", \"90175B\", \"22656\", \"40005B\", \"84720\", \"84596e\", \"17174\", \"84845D\", \"21674\", \"90022\", \"84762A\", \"72753C\", \"90118\", \"90038A\", \"90169\", \"23430\", \"90112\", \"90059C\", \"47574B\", \"90123A\", \"90214O\", \"90211B\", \"16010\", \"48103\", \"90168\", \"90035B\", \"37474\", \"90016B\", \"85014a\", \"90163A\", \"90159\", \"20940\", \"47344B\", \"10124G\", \"72739C\", \"62074B\", \"48175\", \"90036D\", \"44091A\", \"37488A\", \"90146\", \"71263G\", \"84201B\", \"90174\", \"84551\", \"90040C\", \"84711B\", \"90175C\", \"72793\", \"23611\", \"47581B\", \"44089A\", \"20833\", \"90124B\", \"20667\", \"90166\", \"90003C\", \"84532B\", \"90203\", \"72351a\", \"90214V\", \"90162A\", \"35932\", \"84629\", \"22827\", \"90128B\", \"85166A\", \"90018B\", \"90212B\", \"84782C\", \"23442\", \"17007B\", \"90202D\", \"90177D\", \"84857B\", \"90059F\", \"72771B\", \"90205A\", \"90162C\", \"90165A\", \"DCGS0058\", \"90014A\", \"82587\", \"23626\", \"72225C\", \"72783\", \"35751C\", \"84226\", \"90081A\", \"21560\", \"90039D\", \"90072\", \"90190A\", \"23038\", \"35809B\", \"90040A\", \"90125B\", \"90103\", \"20697\", \"16151A\", \"90160A\", \"84838\", \"85014b\", \"82607E\", \"90122B\", \"84424A\", \"23458\", \"16202E\", \"85147\", \"79026B\", \"90214F\", \"23429\", \"85205A\", \"21118\", \"90133\", \"90204\", \"90184A\", \"90101\", \"85018C\", \"85230C\", \"47341B\", \"90183A\", \"85230D\", \"20899\", \"82607C\", \"90128A\", \"90032\", \"22761\", \"84680\", \"72779\", \"84367\", \"37489A\", \"21387\", \"47351B\", \"72771C\", \"84709A\", \"15056p\", \"90003D\", \"23692\", \"90059E\", \"23018\", \"90173\", \"84993a\", \"85040a\", \"71050\", \"90081C\", \"84805A\", \"47369A\", \"17013F\", \"90073\", \"90083\", \"90165B\", \"44236\", \"90031\", \"20694\", \"84845C\", \"gift_0001_20\", \"37487B\", \"90042A\", \"21686\", \"35910A\", \"90144\", \"90088\", \"90164B\", \"44241C\", \"21277\", \"90000D\", \"23466\", \"90108\", \"90122C\", \"72821\", \"22826\", \"90070\", \"90157\", \"84455\", \"84723\", \"90162B\", \"84770\", \"82585\", \"TEST001\", \"gift_0001_10\", \"85151\", \"84616\", \"85114a\", \"35603B\", \"72715\", \"85114b\", \"21370\", \"90010E\", \"84884a\", \"90084\", \"90122A\", \"21341\", \"90214T\", \"20818\", \"21663\", \"72129\", \"47369B\", \"90190C\", \"35793\", \"90214I\", \"85014C\", \"90186B\", \"82011A\", \"23047\", \"84925E\", \"46138B\", \"90195B\", \"35596\", \"90154\", \"84559a\", \"23472\", \"90059D\", \"85080\", \"62043B\", \"84510c\", \"84865\", \"23578\", \"72807c\", \"90082B\", \"90175D\", \"72781\", \"21761\", \"20827\", \"20855\", \"90082A\", \"21303\", \"20672\", \"23151\", \"72801c\", \"40002\", \"75172\", \"22824\", \"90149\", \"23057\", \"84007\", \"21734\", \"79161A\", \"35922\", \"21004\", \"47583A\", \"84529C\", \"84872a\", \"90197B\", \"16202C\", \"84619\", \"90040B\", \"84921\", \"37509\", \"23303\", \"84414B\", \"20664\", \"23471\", \"23017\", \"90130B\", \"37333\", \"85050\", \"84906\", \"90081B\", \"72369A\", \"84899F\", \"85039a\", \"84882\", \"44089C\", \"84926B\", \"85081\", \"90010A\", \"85121B\", \"90129D\", \"90214Y\", \"37492A\", \"85185C\", \"90019A\", \"90184B\", \"23487\", \"22655\", \"90160B\", \"20845\", \"23304\", \"23016\", \"84627\", \"21228\", \"37467\", \"79329\", \"90116\", \"84509c\", \"84705B\", \"90161A\", \"85168B\", \"21757\", \"84745A\", \"84539\", \"84292\", \"37508\", \"47592B\", \"90214P\", \"84549\", \"90143\", \"90160D\", \"90184C\", \"84706C\", \"84989a\", \"23428\", \"16169D\", \"23492\", \"84510a\", \"84458\", \"90145\", \"90186A\", \"37464\", \"gift_0001_30\", \"84249A\", \"84388\", \"84707B\", \"21270\", \"85136A\", \"90205C\", \"37491C\", \"22803\", \"48173c\", \"84874B\", \"21461\", \"35833G\", \"21553\", \"90002A\", \"90018A\", \"21304\", \"84206A\", \"84472\", \"35597B\", \"22888\", \"21582\", \"84527\", \"23141\", \"90158\", \"90030A\", \"84741C\", \"90214B\", \"20847\", \"23043\", \"85121C\", \"16201A\", \"72724\", \"23019\", \"20835\", \"90192\", \"85089\", \"85185F\", \"90206C\", \"84247H\", \"22879\", \"90120A\", \"84782A\", \"23305\", \"90214N\", \"90060D\", \"84576\", \"20786\", \"85165\", \"46775A\", \"85044\", \"23137\", \"84745B\", \"35815B\", \"17090D\", \"84288B\", \"17011E\", \"84803A\", \"84464\", \"84814B\", \"90129F\", \"84508C\", \"44228\", \"DCGSSBOY\", \"90030C\", \"84873a\", \"90214H\", \"23149\", \"46775E\", \"85135A\", \"20784\", \"84926C\", \"84450B\", \"90210A\", \"21321\", \"20901\", \"23069\", \"21193\", \"90115\", \"79331\", \"72799D\", \"90082D\", \"85112\", \"72708\", \"90059A\", \"90147\", \"84974\", \"47598\", \"90013C\", \"84402B\", \"79303D\", \"90071\", \"23477\", \"90125C\", \"84762C\", \"22486\", \"22887\", \"23042\", \"35963\", \"72709\", \"84247C\", \"85017C\", \"84870B\", \"84537B\", \"22825\", \"79192A\", \"82095\", \"20910\", \"90214R\", \"90214G\", \"35240\", \"90160C\", \"23045\", \"22886\", \"90119\", \"21132\", \"85145\", \"85024C\", \"20796\", \"47570\", \"84870C\", \"84804A\", \"84081\", \"21632\", \"90085\", \"84462\", \"35637C\", \"90175A\", \"84985B\", \"84675\", \"84919\", \"84251J\", \"72750D\", \"72801d\", \"21659\", \"23460\", \"85185D\", \"90214D\", \"20781\", \"85163A\", \"79303B\", \"23702\", \"90199C\", \"47348A\", \"35913B\", \"23044\", \"84600\", \"21729\", \"35600D\", \"72812\", \"90013A\", \"35594\", \"21460\", \"84029D\", \"85126\", \"82011C\", \"90198B\", \"84901\", \"90210B\", \"84830\", \"21331\", \"20698\", \"22770\", \"90013B\", \"21185\", \"90120B\", \"44242B\", \"21269\", \"21003\", \"22883\", \"85135B\", \"84671B\", \"90210C\", \"90129C\", \"46307\", \"84520b\", \"35822P\", \"77079\", \"84762B\", \"90120C\", \"23537\", \"84429A\", \"85097B\", \"23496\", \"84803B\", \"22881\", \"22885\", \"35916B\", \"23574\", \"84509a\", \"90201C\", \"22884\", \"84247K\", \"72753D\", \"23457\", \"62086A\", \"84609\", \"85163B\", \"22880\", \"35916A\", \"23479\", \"84192\", \"35597D\", \"90210D\", \"85049g\", \"84405A\", \"85179C\", \"72133\", \"90120D\", \"84823\", \"79534\", \"90089\", \"37475\", \"23580\", \"23104\", \"47347B\", \"35004P\", \"35638B\", \"23142\", \"84802A\", \"16020C\", \"85167A\", \"85072\", \"84625B\", \"22802\", \"22876\", \"22873\", \"85195\", \"23180\", \"23021\", \"35816B\", \"21420\", \"84563B\", \"21308\", \"84358\", \"21129\", \"84801A\", \"84898F\", \"84800M\", \"20695\", \"85164B\", \"22875\", \"21769\", \"82001s\", \"22877\", \"79191D\", \"22868\", \"22878\", \"37485\", \"20783\", \"35607B\", \"90002D\", \"15056bl\", \"85146\", \"90201A\", \"22874\", \"22882\", \"72754B\", \"16248B\", \"22871\", \"90134\", \"44091C\", \"84725\", \"85007\", \"35916C\", \"22503\", \"21696\", \"84933B\", \"84563A\", \"20795\", \"90042C\", \"84030e\", \"21758\", \"23099\", \"35821B\", \"21128\", \"17178\", \"84933A\", \"84707A\", \"22657\", \"84927A\", \"37468\", \"84706A\", \"23416\", \"21543\", \"90129E\", \"84798A\", \"90201D\", \"23136\", \"90098\", \"21369\", \"84968B\", \"90125D\", \"22872\", \"90125A\", \"23414\", \"84708B\", \"84452\", \"20785\", \"82093\", \"10124A\", \"84461\", \"84924A\", \"47013C\", \"21375\", \"47013A\", \"90170\", \"85135C\", \"85136C\", \"84933C\", \"90030B\", \"90161D\", \"46775D\", \"23064\", \"21476\", \"35817B\", \"21038\", \"90214E\", \"78033\", \"90201B\", \"23073\", \"72807B\", \"21554\", \"84596I\", \"20865\", \"35815P\", \"21031\", \"90198A\", \"79071B\", \"23417\", \"90214M\", \"23150\", \"47589\", \"84766\", \"20934\", \"84510E\", \"22769\", \"21001\", \"84219\", \"90129B\", \"23094\", \"23540\", \"84661C\", \"47591A\", \"35911B\", \"84859C\", \"21552\", \"21839\", \"21893\", \"90161B\", \"84437A\", \"21299\", \"46776D\", \"35751A\", \"84872A\", \"20696\", \"21473\", \"20903\", \"20823\", \"90104\", \"85096\", \"90208\", \"23456\", \"85128\", \"90129A\", \"35931\", \"90214J\", \"35937\", \"23446\", \"84925A\", \"84522\", \"22870\", \"21252\", \"90214K\", \"84352\", \"21372\", \"23447\", \"84984D\", \"84029C\", \"21551\", \"44242C\", \"84809A\", \"23070\", \"21274\", \"82011B\", \"21344\", \"20814\", \"84509E\", \"23421\", \"21630\", \"84620\", \"20913\", \"23544\", \"21628\", \"21627\", \"85179B\", \"23440\", \"90209A\", \"20782\", \"22869\", \"85027L\", \"23413\", \"84562A\", \"84531A\", \"20837\", \"23420\", \"72789\", \"72803B\", \"84952A\", \"23520\", \"84744\", \"20957\", \"84705C\", \"84801B\", \"20997\", \"16212\", \"90214C\", \"23020\", \"23561\", \"90161C\", \"23140\", \"82081\", \"84578\", \"47579\", \"90214L\", \"47559b\", \"84932B\", \"90094\", \"72807A\", \"21275\", \"23560\", \"23317\", \"21633\", \"44230\", \"85095\", \"23339\", \"84657\", \"84917\", \"84592\", \"17129C\", \"85141\", \"20799\", \"71510\", \"84664\", \"23454\", \"71403\", \"37476\", \"35824C\", \"23056\", \"47562\", \"85030\", \"84920\", \"23071\", \"21359\", \"90200C\", \"21780\", \"84997a\", \"71215\", \"16162M\", \"23579\", \"51012C\", \"21196\", \"23575\", \"15056n\", \"21629\", \"23337\", \"84531B\", \"75011\", \"72606A\", \"46000R\", \"85033G\", \"90200A\", \"84773\", \"90200B\", \"35921\", \"22764\", \"77081\", \"84798B\", \"90093\", \"22832\", \"84767\", \"90214S\", \"23484\", \"23036\", \"84753A\", \"37462B\", \"35966\", \"20826\", \"37422\", \"21376\", \"84595B\", \"85114c\", \"22889\", \"84665\", \"DCGSSGIRL\", \"35833P\", \"17014E\", \"16206B\", \"21418\", \"84918\", \"79532\", \"22833\", \"81950B\", \"16244A\", \"79315W\", \"23039\", \"21536\", \"47343A\", \"20857\", \"84615\", \"84909A\", \"84597B\", \"21474\", \"84715\", \"35972\", \"22762\", \"20794\", \"21388\", \"21740\", \"23037\", \"84857C\", \"21027\", \"84313B\", \"23181\", \"23576\", \"84247N\", \"22797\", \"90200E\", \"23661\", \"21338\", \"72814\", \"20836\", \"17011A\", \"22790\", \"23001\", \"23315\", \"90062\", \"35819P\", \"79403\", \"21368\", \"17011D\", \"47586A\", \"23476\", \"23455\", \"90114\", \"46776E\", \"20980\", \"23409\", \"72051S\", \"84931A\", \"20902\", \"23532\", \"23567\", \"17013B\", \"84760S\", \"23072\", \"16243B\", \"84856L\", \"23422\", \"21032\", \"85099f\", \"84709B\", \"90214A\", \"23423\", \"62094B\", \"84837\", \"21367\", \"84706D\", \"17090A\", \"23533\", \"22936\", \"84497\", \"47566b\", \"84360\", \"23183\", \"22164\", \"21836\", \"72140E\", \"72349b\", \"85023B\", \"37462E\", \"90086\", \"85179A\", \"84726\", \"37494A\", \"23470\", \"21691\", \"84666\", \"21631\", \"37330\", \"72024U\", \"84661A\", \"21661\", \"71406C\", \"21681\", \"84932D\", \"84932A\", \"71495A\", \"84984C\", \"23519\", \"84227\", \"21332\", \"20856\", \"23495\", \"21837\", \"46000U\", \"23336\", \"79072\", \"23411\", \"84840\", \"72801F\", \"21664\", \"46000P\", \"23491\", \"23481\", \"85063\", \"20819\", \"35096B\", \"84584\", \"85113\", \"72754A\", \"21412\", \"84231\", \"84658\", \"85129B\", \"20864\", \"23427\", \"84972L\", \"84916\", \"85033S\", \"71279\", \"22395\", \"72815\", \"20863\", \"23079\", \"22330\", \"16202A\", \"85103\", \"85205B\", \"84915\", \"85008\", \"20830\", \"72750C\", \"21256\", \"22954\", \"47503H\", \"21312\", \"84661B\", \"23485\", \"23074\", \"62096B\", \"84805B\", \"84569C\", \"23597\", \"84948\", \"84712B\", \"22786\", \"21459\", \"23066\", \"47367B\", \"22447\", \"22829\", \"21366\", \"84795A\", \"21087\", \"23539\", \"84970l\", \"21443\", \"23041\", \"85222\", \"84932C\", \"84923\", \"20780\", \"84796A\", \"21736\", \"84251B\", \"23060\", \"21030\", \"23316\", \"35822B\", \"21226\", \"85020\", \"85144\", \"22987\", \"85125\", \"23405\", \"23562\", \"21173\", \"23024\", \"23040\", \"37345\", \"84631\", \"22782\", \"22799\", \"21662\", \"20825\", \"23253\", \"85028L\", \"84846A\", \"21480\", \"16119\", \"35838A\", \"20618\", \"23153\", \"79406\", \"20935\", \"71496A\", \"23065\", \"84218\", \"84761\", \"46776C\", \"35914\", \"35241\", \"84968F\", \"85211\", \"21657\", \"23486\", \"20793\", \"84877B\", \"23009\", \"23407\", \"62095B\", \"84984A\", \"84905\", \"82076\", \"81952B\", \"20763\", \"21477\", \"37492C\", \"90090\", \"35633B\", \"23425\", \"72739B\", \"21127\", \"16207B\", \"84804B\", \"84682\", \"82605\", \"20705\", \"84499\", \"84799\", \"84977\", \"48195\", \"35915A\", \"21131\", \"35599B\", \"20893\", \"84931B\", \"20894\", \"16207A\", \"84510C\", \"23444\", \"23451\", \"85117\", \"84509C\", \"23106\", \"17014A\", \"21444\", \"84843\", \"17091B\", \"85019C\", \"84859B\", \"37483\", \"17012E\", \"23023\", \"84251F\", \"23478\", \"20699\", \"85232A\", \"85170B\", \"23475\", \"47505\", \"21784\", \"21322\", \"22461\", \"20616\", \"79308B\", \"85127\", \"20898\", \"17011C\", \"23111\", \"84869\", \"21779\", \"21728\", \"35912B\", \"47591d\", \"23660\", \"21320\", \"85098B\", \"21261\", \"21550\", \"84797B\", \"84457\", \"22177\", \"84859A\", \"35933\", \"46126A\", \"22928\", \"22415\", \"21667\", \"23027\", \"23054\", \"23408\", \"23402\", \"23067\", \"35816P\", \"23516\", \"85049e\", \"84927E\", \"35824P\", \"20700\", \"72799B\", \"47597\", \"84689\", \"20897\", \"90087\", \"47592A\", \"21265\", \"22124\", \"22641\", \"21263\", \"20851\", \"22861\", \"84086C\", \"71495B\", \"84795B\", \"21410\", \"72529W\", \"62096A\", \"20659\", \"23341\", \"84687\", \"84802B\", \"22830\", \"71143\", \"21750\", \"23474\", \"84858B\", \"79144C\", \"23010\", \"72753A\", \"21793\", \"21025\", \"84968E\", \"21153\", \"82616A\", \"22108\", \"20804\", \"20932\", \"47593A\", \"35471A\", \"21089\", \"17181\", \"21690\", \"84820\", \"84806A\", \"84876D\", \"84854\", \"35810B\", \"20998\", \"23185\", \"47594A\", \"20701\", \"23415\", \"23179\", \"47578A\", \"23453\", \"21028\", \"23178\", \"22510\", \"90209C\", \"20888\", \"37492D\", \"85091\", \"22391\", \"72750A\", \"47481\", \"84795C\", \"23469\", \"47503J\", \"84927F\", \"23412\", \"22912\", \"20936\", \"18098c\", \"23538\", \"21054\", \"35818B\", \"84508B\", \"17107D\", \"23517\", \"21924\", \"21117\", \"90200D\", \"20862\", \"22765\", \"16244B\", \"21282\", \"79323G\", \"16239\", \"72134\", \"84791\", \"21293\", \"22054\", \"22394\", \"47563A\", \"84597C\", \"21253\", \"85088\", \"23025\", \"72267\", \"85124A\", \"85119\", \"21438\", \"21847\", \"23046\", \"21018\", \"23557\", \"22760\", \"84228\", \"21796\", \"35609A\", \"84876B\", \"35653\", \"23522\", \"23523\", \"35004G\", \"84997c\", \"23518\", \"20704\", \"20943\", \"21317\", \"85092\", \"23107\", \"84875B\", \"84686\", \"85124B\", \"85129C\", \"22194\", \"79144B\", \"21722\", \"20989\", \"20670\", \"21415\", \"85162A\", \"22504\", \"23051\", \"20798\", \"23324\", \"23053\", \"23272\", \"84907\", \"20854\", \"85180B\", \"23335\", \"72127\", \"22640\", \"22168\", \"23085\", \"17011F\", \"15058B\", \"22172\", \"21692\", \"22184\", \"79030D\", \"20688\", \"85055\", \"20621\", \"85129A\", \"22848\", \"84922\", \"21923\", \"23342\", \"46118\", \"21765\", \"22509\", \"40046A\", \"84952C\", \"23694\", \"35817P\", \"21841\", \"10123C\", \"84595E\", \"84402D\", \"18094C\", \"71270\", \"23218\", \"21255\", \"72755D\", \"84908B\", \"84638\", \"84858C\", \"15059A\", \"22143\", \"84688\", \"16161C\", \"21635\", \"71028B\", \"21711\", \"21247\", \"21264\", \"47594B\", \"84970s\", \"23268\", \"84908A\", \"84997d\", \"23391\", \"22806\", \"72772\", \"90209B\", \"84396\", \"84984B\", \"22512\", \"23022\", \"84800S\", \"84663A\", \"22106\", \"22849\", \"21737\", \"22794\", \"21440\", \"40018E\", \"21649\", \"20654\", \"21055\", \"49031B\", \"85026B\", \"21815\", \"17084J\", \"85087\", \"22407\", \"23139\", \"35599D\", \"21371\", \"23314\", \"15030\", \"22796\", \"21250\", \"84910A\", \"84569B\", \"23565\", \"35811A\", \"84520D\", \"20703\", \"85208\", \"22511\", \"46776A\", \"22257\", \"21735\", \"22808\", \"35911A\", \"17084A\", \"84750A\", \"21360\", \"23521\", \"22638\", \"23527\", \"23558\", \"21478\", \"23482\", \"21462\", \"84993B\", \"22785\", \"85099b\", \"85028S\", \"20655\", \"72753B\", \"35271S\", \"23554\", \"82494l\", \"84952B\", \"23555\", \"21850\", \"84813\", \"21816\", \"23338\", \"20952\", \"22903\", \"23008\", \"23598\", \"21002\", \"84507C\", \"20662\", \"23219\", \"46776B\", \"72750B\", \"84685\", \"20838\", \"21364\", \"47471\", \"85124C\", \"15058C\", \"22927\", \"21319\", \"23394\", \"23556\", \"84789\", \"84913B\", \"23400\", \"22777\", \"21687\", \"20769\", \"21742\", \"23075\", \"21529\", \"23325\", \"72811\", \"21268\", \"21197\", \"22166\", \"23128\", \"21795\", \"35991\", \"85131C\", \"20765\", \"23406\", \"35651\", \"15058A\", \"84806B\", \"85159A\", \"20689\", \"22105\", \"23049\", \"23357\", \"21350\", \"84800L\", \"79191B\", \"23401\", \"23697\", \"84971L\", \"35607A\", \"22913\", \"23125\", \"84926F\", \"84674\", \"84849A\", \"20762\", \"21147\", \"72755C\", \"23424\", \"20617\", \"81952V\", \"84797A\", \"22981\", \"20761\", \"85031A\", \"84856S\", \"84569A\", \"84581\", \"35969\", \"21144\", \"72799C\", \"37492B\", \"23514\", \"21349\", \"23419\", \"23397\", \"21374\", \"20831\", \"84251G\", \"21425\", \"22643\", \"23524\", \"17014D\", \"21365\", \"21056\", \"21792\", \"22788\", \"85067\", \"23081\", \"84033\", \"23528\", \"22925\", \"21417\", \"85187\", \"84924F\", \"72780\", \"35819B\", \"21223\", \"85169B\", \"85031C\", \"20736\", \"85045\", \"46776F\", \"22428\", \"23058\", \"22783\", \"23007\", \"21017\", \"84875D\", \"85169C\", \"20666\", \"21283\", \"22281\", \"85166B\", \"23050\", \"20933\", \"21095\", \"16202B\", \"84968A\", \"75178\", \"85049a\", \"21768\", \"82613A\", \"23542\", \"85031B\", \"21427\", \"84673A\", \"23512\", \"84986B\", \"20686\", \"21377\", \"85214\", \"16161E\", \"72487\", \"35001G\", \"84760L\", \"20684\", \"84673B\", \"84493\", \"21739\", \"85017A\", \"22058\", \"22990\", \"22201\", \"23112\", \"22703\", \"23092\", \"47574A\", \"21549\", \"79338\", \"23452\", \"21610\", \"75013B\", \"84927D\", \"35824B\", \"85169D\", \"20766\", \"22204\", \"17012D\", \"23216\", \"21895\", \"23152\", \"20869\", \"72800A\", \"21842\", \"84251C\", \"21738\", \"22526\", \"20976\", \"21698\", \"21464\", \"84997b\", \"90058A\", \"79328\", \"84313C\", \"23026\", \"85039C\", \"21580\", \"23490\", \"21490\", \"20661\", \"85170C\", \"23048\", \"22214\", \"22376\", \"35637A\", \"47502\", \"84913A\", \"85036A\", \"21361\", \"84683\", \"20663\", \"79063C\", \"16256B\", \"85086A\", \"23358\", \"21221\", \"21026\", \"72023F\", \"23418\", \"22389\", \"22852\", \"23513\", \"21378\", \"20839\", \"72132\", \"21682\", \"22282\", \"35647\", \"35818P\", \"21849\", \"84750B\", \"35915B\", \"17165B\", \"84951B\", \"72801D\", \"22894\", \"23124\", \"22182\", \"23511\", \"84247E\", \"23553\", \"85035A\", \"85185B\", \"85025B\", \"21194\", \"35962\", \"23091\", \"85215\", \"72045D\", \"23252\", \"84796B\", \"84526\", \"20890\", \"23164\", \"23525\", \"84925F\", \"46115B\", \"22320\", \"23515\", \"84678\", \"21694\", \"22839\", \"21678\", \"84985A\", \"20619\", \"21781\", \"10134\", \"84637\", \"22934\", \"37482P\", \"72122\", \"82615\", \"84684\", \"21613\", \"22500\", \"22259\", \"22843\", \"85065\", \"20622\", \"84625D\", \"22317\", \"22056\", \"85231E\", \"21943\", \"22914\", \"22513\", \"84976\", \"21820\", \"85123a\", \"10080\", \"37471\", \"20891\", \"16051\", \"21251\", \"72802A\", \"84951A\", \"84469\", \"22860\", \"82616B\", \"22137\", \"22183\", \"17012F\", \"22323\", \"21065\", \"22822\", \"21482\", \"23398\", \"21708\", \"82607A\", \"85180A\", \"22691\", \"22375\", \"22372\", \"20889\", \"22446\", \"85159B\", \"23536\", \"84596K\", \"21437\", \"20771\", \"23403\", \"85130A\", \"21688\", \"21373\", \"21946\", \"21043\", \"22408\", \"84659A\", \"85019A\", \"21804\", \"72799A\", \"23568\", \"21222\", \"21262\", \"22125\", \"21814\", \"72800D\", \"23529\", \"82616C\", \"20840\", \"22123\", \"85084\", \"84968C\", \"22853\", \"22471\", \"85025C\", \"21904\", \"23392\", \"23564\", \"21851\", \"21612\", \"35646\", \"21548\", \"21618\", \"35915C\", \"21246\", \"20931\", \"23110\", \"23559\", \"20615\", \"79190D\", \"21276\", \"84509B\", \"21695\", \"23052\", \"22891\", \"85188B\", \"21000\", \"21647\", \"17012B\", \"22325\", \"21379\", \"22308\", \"35965\", \"20671\", \"23396\", \"22167\", \"22701\", \"21205\", \"72800C\", \"21555\", \"22290\", \"21306\", \"85106\", \"22270\", \"21545\", \"21468\", \"22763\", \"21316\", \"35968\", \"22324\", \"84926A\", \"20950\", \"21160\", \"21562\", \"84625C\", \"85167B\", \"23473\", \"21825\", \"85130C\", \"21220\", \"21311\", \"79302M\", \"72803A\", \"21457\", \"84968D\", \"84534B\", \"20764\", \"22926\", \"85059\", \"21157\", \"20849\", \"22443\", \"22060\", \"22939\", \"22220\", \"72801C\", \"22935\", \"21709\", \"72801E\", \"21130\", \"35981C\", \"84422\", \"85170A\", \"21307\", \"17012A\", \"84660C\", \"21611\", \"85019B\", \"20878\", \"17109A\", \"72819\", \"21794\", \"21547\", \"21408\", \"23502\", \"C2\", \"84466\", \"85170D\", \"21710\", \"23033\", \"16161M\", \"21821\", \"23224\", \"23127\", \"23235\", \"21323\", \"21051\", \"22223\", \"23395\", \"22496\", \"72128\", \"84356\", \"21576\", \"22363\", \"78124\", \"85232D\", \"21456\", \"21741\", \"35980C\", \"21416\", \"84660B\", \"72131\", \"47310M\", \"23494\", \"23390\", \"21076\", \"22448\", \"21146\", \"23146\", \"22862\", \"82613C\", \"22864\", \"85129D\", \"20669\", \"84051\", \"85094\", \"23118\", \"23695\", \"22841\", \"22289\", \"21458\", \"21016\", \"22313\", \"20768\", \"22450\", \"79190A\", \"84842\", \"23222\", \"71101E\", \"84926D\", \"21348\", \"85018D\", \"85231L\", \"16169F\", \"23133\", \"22831\", \"37441\", \"22475\", \"22784\", \"21010\", \"23393\", \"85132B\", \"21827\", \"22890\", \"22393\", \"37501\", \"85034A\", \"23223\", \"84676\", \"22263\", \"21465\", \"23214\", \"85024B\", \"85130D\", \"23088\", \"22933\", \"47591C\", \"22838\", \"17136A\", \"23249\", \"17165D\", \"21106\", \"20702\", \"84467\", \"84509G\", \"21202\", \"84625A\", \"37461\", \"21190\", \"21812\", \"16258B\", \"21898\", \"20767\", \"23282\", \"82613B\", \"23068\", \"72130\", \"21189\", \"22517\", \"22116\", \"20850\", \"21040\", \"72800F\", \"21652\", \"22118\", \"16043\", \"20772\", \"44235\", \"22842\", \"23239\", \"23388\", \"21625\", \"22039\", \"23347\", \"21813\", \"23435\", \"22362\", \"22846\", \"35096A\", \"22856\", \"85162C\", \"22062\", \"22473\", \"22390\", \"22781\", \"17012C\", \"84031B\", \"22953\", \"72802B\", \"22932\", \"22425\", \"20747\", \"79336\", \"20692\", \"22453\", \"21542\", \"23014\", \"84660A\", \"21665\", \"16168S\", \"23087\", \"22516\", \"23461\", \"85047\", \"21617\", \"21424\", \"22442\", \"21723\", \"22911\", \"22626\", \"21719\", \"23184\", \"21693\", \"21865\", \"35001W\", \"21396\", \"71038\", \"20867\", \"84519B\", \"21432\", \"23138\", \"22688\", \"37500\", \"84596J\", \"21528\", \"23566\", \"21775\", \"22233\", \"21318\", \"85032C\", \"40003\", \"20868\", \"21188\", \"37444C\", \"21352\", \"22280\", \"21455\", \"22660\", \"84535A\", \"21351\", \"72807C\", \"23541\", \"85071D\", \"16254\", \"22221\", \"17033\", \"48197\", \"22687\", \"21064\", \"22931\", \"47518F\", \"85054\", \"21744\", \"21530\", \"21897\", \"22611\", \"84989B\", \"22253\", \"47570B\", \"47591B\", \"84819\", \"85060\", \"21537\", \"85130B\", \"23489\", \"21009\", \"85188A\", \"23013\", \"21683\", \"23131\", \"20941\", \"21426\", \"22497\", \"21472\", \"22180\", \"84279B\", \"23244\", \"21454\", \"84815\", \"21732\", \"23123\", \"21448\", \"22256\", \"22119\", \"21534\", \"20866\", \"21466\", \"21724\", \"21248\", \"23093\", \"21441\", \"21336\", \"22946\", \"79160\", \"21288\", \"84969\", \"21324\", \"79051A\", \"23129\", \"16156L\", \"22495\", \"85068\", \"47021G\", \"23130\", \"21557\", \"22229\", \"84327A\", \"84596E\", \"22474\", \"21645\", \"23569\", \"84078A\", \"22202\", \"35598B\", \"85035B\", \"21285\", \"22092\", \"22778\", \"35967\", \"23273\", \"15044C\", \"22252\", \"35958\", \"22165\", \"22236\", \"20990\", \"21656\", \"21808\", \"16161G\", \"35648\", \"21442\", \"18098C\", \"20800\", \"23531\", \"22032\", \"22767\", \"85131B\", \"22275\", \"23220\", \"21363\", \"72728\", \"21926\", \"23034\", \"21195\", \"22069\", \"21636\", \"84569D\", \"85200\", \"23359\", \"21520\", \"85032B\", \"22612\", \"22248\", \"23526\", \"21286\", \"79320\", \"21486\", \"22642\", \"72800B\", \"85226C\", \"85162B\", \"23283\", \"22606\", \"77101A\", \"23255\", \"21638\", \"23299\", \"21707\", \"22120\", \"22937\", \"22689\", \"79062D\", \"22845\", \"16015\", \"22742\", \"85173\", \"84817\", \"22684\", \"22947\", \"22481\", \"20802\", \"22100\", \"22721\", \"23404\", \"21467\", \"47504H\", \"21579\", \"21219\", \"40018F\", \"23132\", \"23061\", \"22307\", \"22283\", \"21333\", \"37444B\", \"22232\", \"22215\", \"23237\", \"21910\", \"22811\", \"17013D\", \"17084P\", \"21208\", \"84912B\", \"22374\", \"20871\", \"82597\", \"21644\", \"22647\", \"21619\", \"22278\", \"20770\", \"23096\", \"20967\", \"20803\", \"21972\", \"37379B\", \"35920\", \"23250\", \"84247L\", \"22515\", \"22977\", \"85189\", \"21726\", \"23530\", \"21882\", \"23509\", \"21400\", \"23012\", \"23080\", \"84510F\", \"21391\", \"20801\", \"21589\", \"21720\", \"84559B\", \"47585A\", \"20735\", \"23548\", \"37343\", \"21062\", \"16258A\", \"90058B\", \"84580\", \"72799F\", \"21777\", \"22685\", \"22905\", \"84279P\", \"84827\", \"22485\", \"23126\", \"22246\", \"21518\", \"22514\", \"16054\", \"21653\", \"22930\", \"23369\", \"21991\", \"22162\", \"84926E\", \"21470\", \"21828\", \"22163\", \"23389\", \"37482B\", \"22472\", \"84748\", \"21822\", \"21469\", \"22847\", \"22031\", \"22068\", \"35809A\", \"21869\", \"84031A\", \"22854\", \"35810A\", \"22858\", \"22102\", \"84924D\", \"22982\", \"17109D\", \"21109\", \"22863\", \"21721\", \"22683\", \"21358\", \"22942\", \"22968\", \"22038\", \"20714\", \"16169C\", \"22967\", \"51020B\", \"22498\", \"21913\", \"23267\", \"21725\", \"82567\", \"22314\", \"22768\", \"22122\", \"21615\", \"21616\", \"22176\", \"22723\", \"21581\", \"84912A\", \"47422\", \"22682\", \"35004B\", \"75131\", \"23134\", \"22255\", \"22218\", \"22034\", \"23691\", \"84459A\", \"82613D\", \"22681\", \"23274\", \"21867\", \"22107\", \"79337\", \"23360\", \"22247\", \"22104\", \"10123G\", \"35964\", \"22800\", \"84510B\", \"22414\", \"85034B\", \"22857\", \"21386\", \"21654\", \"22976\", \"22459\", \"21925\", \"23226\", \"85202\", \"21637\", \"47469\", \"84847\", \"35400\", \"22756\", \"23505\", \"21198\", \"84519A\", \"23433\", \"37502\", \"23086\", \"21676\", \"21655\", \"21593\", \"23379\", \"22844\", \"21446\", \"21927\", \"21743\", \"22859\", \"85204\", \"21463\", \"21382\", \"21730\", \"85196\", \"23169\", \"22449\", \"23543\", \"22673\", \"22071\", \"22591\", \"44234\", \"22541\", \"72598\", \"23189\", \"21419\", \"22924\", \"20681\", \"20986\", \"72799E\", \"21199\", \"22445\", \"17038\", \"21115\", \"85114C\", \"85132A\", \"23426\", \"22316\", \"85169A\", \"23225\", \"22789\", \"23031\", \"21540\", \"23432\", \"23281\", \"22103\", \"22451\", \"22272\", \"23102\", \"22679\", \"21060\", \"22258\", \"85071C\", \"20665\", \"22312\", \"22452\", \"21407\", \"84558A\", \"48189\", \"85034C\", \"21039\", \"23029\", \"23549\", \"35951\", \"22200\", \"23217\", \"21894\", \"23499\", \"22346\", \"22288\", \"22145\", \"21532\", \"84821\", \"22309\", \"23483\", \"23028\", \"22975\", \"22426\", \"21538\", \"22840\", \"22700\", \"23535\", \"21706\", \"22801\", \"21330\", \"72801G\", \"79191C\", \"22287\", \"79030G\", \"22254\", \"20956\", \"51020A\", \"21881\", \"23377\", \"85226A\", \"23228\", \"21187\", \"22476\", \"23375\", \"85032D\", \"85035C\", \"22410\", \"21431\", \"85186C\", \"84559A\", \"85093\", \"70007\", \"84507B\", \"22820\", \"85231G\", \"22359\", \"22680\", \"22589\", \"16156N\", \"23372\", \"22146\", \"21116\", \"23534\", \"37444A\", \"17129F\", \"15060B\", \"22430\", \"85174\", \"22518\", \"72816\", \"21200\", \"22192\", \"22807\", \"21111\", \"22216\", \"22203\", \"22973\", \"22209\", \"22021\", \"85114A\", \"22279\", \"23162\", \"79066K\", \"22686\", \"21471\", \"22519\", \"22678\", \"21061\", \"23312\", \"90057\", \"21922\", \"22190\", \"21289\", \"22181\", \"22664\", \"21203\", \"21445\", \"23431\", \"21145\", \"37495\", \"21209\", \"22277\", \"85078\", \"21401\", \"22538\", \"72800E\", \"85032A\", \"23242\", \"20716\", \"20652\", \"20738\", \"21626\", \"21884\", \"23160\", \"85039A\", \"22345\", \"84459B\", \"85131D\", \"23197\", \"23348\", \"85203\", \"22267\", \"23323\", \"20846\", \"21614\", \"22458\", \"22454\", \"23221\", \"85213\", \"21651\", \"47421\", \"21257\", \"84763\", \"20752\", \"21634\", \"22121\", \"22033\", \"84839\", \"47587A\", \"22696\", \"79190B\", \"21042\", \"21063\", \"22211\", \"16052\", \"22923\", \"22306\", \"22222\", \"79067\", \"21110\", \"84993A\", \"22735\", \"85206B\", \"22269\", \"35923\", \"21284\", \"22695\", \"22438\", \"22744\", \"85183A\", \"84199\", \"23302\", \"37342\", \"21609\", \"20658\", \"23381\", \"84247G\", \"85224\", \"21643\", \"22070\", \"85006\", \"22424\", \"21717\", \"84509A\", \"37327\", \"84596L\", \"22250\", \"18097C\", \"16225\", \"35832\", \"22743\", \"20748\", \"85186A\", \"85218\", \"21258\", \"72817\", \"22081\", \"21191\", \"22617\", \"21402\", \"21278\", \"23370\", \"22260\", \"21204\", \"22487\", \"22036\", \"22635\", \"84849D\", \"23547\", \"21503\", \"23681\", \"21879\", \"22199\", \"22559\", \"90167\", \"21414\", \"15044D\", \"22702\", \"35160\", \"72802C\", \"22677\", \"23331\", \"22344\", \"21059\", \"21556\", \"22230\", \"22210\", \"22318\", \"23373\", \"20707\", \"22101\", \"23289\", \"84341B\", \"84818\", \"22636\", \"22322\", \"22042\", \"21846\", \"21905\", \"21356\", \"21973\", \"23291\", \"21641\", \"22627\", \"22776\", \"22634\", \"23500\", \"85197\", \"16008\", \"22955\", \"23227\", \"22135\", \"16169P\", \"85016\", \"22795\", \"21773\", \"22191\", \"23135\", \"23120\", \"23498\", \"15044B\", \"23156\", \"22249\", \"85039B\", \"23251\", \"22405\", \"20733\", \"22096\", \"21756\", \"72760B\", \"47580\", \"21942\", \"20832\", \"35954\", \"85107\", \"21249\", \"23213\", \"20734\", \"21684\", \"22639\", \"85230G\", \"21817\", \"85064\", \"22409\", \"23006\", \"23254\", \"22228\", \"22821\", \"23190\", \"37479B\", \"23161\", \"22157\", \"21947\", \"23371\", \"21340\", \"22671\", \"21015\", \"22468\", \"21171\", \"84012\", \"84884A\", \"47480\", \"22403\", \"22628\", \"23327\", \"22974\", \"85194S\", \"20886\", \"23271\", \"85183B\", \"21774\", \"22957\", \"84944\", \"21826\", \"22044\", \"16168M\", \"21624\", \"85071A\", \"21541\", \"35598D\", \"21666\", \"23265\", \"72586\", \"22902\", \"23329\", \"84249D\", \"22342\", \"23163\", \"21906\", \"23480\", \"84937\", \"35649\", \"85194L\", \"84880\", \"22310\", \"20960\", \"23352\", \"22583\", \"22598\", \"22921\", \"21944\", \"23330\", \"16053\", \"23194\", \"21007\", \"22340\", \"35095A\", \"22650\", \"22780\", \"21675\", \"72484\", \"22919\", \"23501\", \"23438\", \"84754\", \"21011\", \"23004\", \"22605\", \"22922\", \"85177\", \"23287\", \"22175\", \"23551\", \"23238\", \"21357\", \"22965\", \"22265\", \"23147\", \"23550\", \"85041\", \"21214\", \"23229\", \"23382\", \"23365\", \"22251\", \"23552\", \"22676\", \"20657\", \"21785\", \"23083\", \"21384\", \"22371\", \"23196\", \"22276\", \"21439\", \"21014\", \"85118\", \"22067\", \"22361\", \"17001\", \"22483\", \"23090\", \"85014D\", \"22193\", \"22524\", \"21945\", \"22525\", \"22396\", \"21279\", \"21452\", \"23193\", \"22286\", \"23399\", \"22186\", \"21747\", \"23234\", \"21864\", \"17164D\", \"22897\", \"23504\", \"23437\", \"20730\", \"85132C\", \"22117\", \"22479\", \"21564\", \"84849B\", \"84006\", \"85053\", \"22085\", \"22918\", \"35095B\", \"23436\", \"23264\", \"35924\", \"22972\", \"21327\", \"22416\", \"23186\", \"22136\", \"23155\", \"85049F\", \"35971\", \"21873\", \"20653\", \"85230A\", \"22916\", \"22779\", \"22592\", \"22920\", \"21159\", \"22550\", \"16169N\", \"22949\", \"85116\", \"21161\", \"72349B\", \"23002\", \"22692\", \"22604\", \"23280\", \"23256\", \"22917\", \"21070\", \"22264\", \"21112\", \"23101\", \"22547\", \"85017B\", \"22262\", \"22293\", \"21421\", \"85040A\", \"22586\", \"85230B\", \"23266\", \"22179\", \"16169M\", \"22187\", \"22357\", \"22231\", \"22364\", \"47568\", \"85049B\", \"85131A\", \"23145\", \"21192\", \"22061\", \"23332\", \"85114B\", \"16169K\", \"22747\", \"85049H\", \"84989A\", \"22896\", \"22073\", \"22097\", \"22305\", \"22523\", \"21280\", \"23434\", \"23333\", \"21397\", \"21329\", \"22522\", \"21281\", \"22261\", \"22420\", \"23176\", \"21411\", \"21241\", \"22948\", \"22099\", \"22565\", \"23148\", \"23035\", \"47567B\", \"21677\", \"37449\", \"22311\", \"85231B\", \"22587\", \"21578\", \"10125\", \"22074\", \"21125\", \"21658\", \"84596G\", \"22707\", \"23108\", \"21206\", \"23247\", \"23292\", \"21399\", \"22994\", \"23100\", \"21383\", \"16259\", \"85109\", \"21272\", \"23241\", \"22043\", \"22217\", \"37450\", \"79164\", \"84975\", \"22315\", \"23159\", \"21224\", \"22520\", \"21587\", \"21866\", \"22521\", \"40001\", \"22675\", \"22304\", \"21294\", \"23191\", \"22169\", \"85230E\", \"21805\", \"21143\", \"22334\", \"23032\", \"84030E\", \"22354\", \"23187\", \"23212\", \"15056P\", \"22580\", \"23119\", \"23122\", \"85049D\", \"23366\", \"84792\", \"22810\", \"21702\", \"21066\", \"21640\", \"23334\", \"22649\", \"21389\", \"85206A\", \"35471D\", \"85221\", \"22623\", \"82599\", \"47566B\", \"22980\", \"22341\", \"21398\", \"37503\", \"85184C\", \"22170\", \"22429\", \"23082\", \"23109\", \"85172\", \"22482\", \"23211\", \"21100\", \"23380\", \"21948\", \"22063\", \"22805\", \"21162\", \"22751\", \"21403\", \"22093\", \"85216\", \"21126\", \"21259\", \"16016\", \"23089\", \"22995\", \"17091A\", \"20985\", \"72818\", \"21201\", \"22365\", \"21896\", \"21012\", \"22134\", \"85042\", \"21488\", \"47593B\", \"22753\", \"21823\", \"23311\", \"23368\", \"23356\", \"22412\", \"22208\", \"22224\", \"22669\", \"22674\", \"22978\", \"22076\", \"51008\", \"22480\", \"21211\", \"21058\", \"21883\", \"22268\", \"22971\", \"84510A\", \"47504K\", \"23290\", \"22072\", \"22717\", \"22798\", \"23374\", \"22477\", \"21167\", \"84929\", \"22758\", \"85071B\", \"22400\", \"23345\", \"22360\", \"21292\", \"22956\", \"21107\", \"22582\", \"21291\", \"22529\", \"22406\", \"21845\", \"23236\", \"17039\", \"23545\", \"21648\", \"22284\", \"22773\", \"84828\", \"21990\", \"22607\", \"21880\", \"22133\", \"22588\", \"23121\", \"22337\", \"23340\", \"23177\", \"21158\", \"22997\", \"23510\", \"16238\", \"21705\", \"22725\", \"21911\", \"21354\", \"21328\", \"21041\", \"22266\", \"20970\", \"22366\", \"23497\", \"22690\", \"22943\", \"85217\", \"22349\", \"21586\", \"22434\", \"23158\", \"21577\", \"21245\", \"22501\", \"85232B\", \"22321\", \"22736\", \"21539\", \"22809\", \"85040B\", \"23346\", \"23508\", \"21949\", \"22358\", \"22941\", \"22654\", \"16236\", \"22285\", \"84535B\", \"22127\", \"23320\", \"22718\", \"21713\", \"85048\", \"23445\", \"85111\", \"23154\", \"21163\", \"21824\", \"84691\", \"21447\", \"23350\", \"22347\", \"23210\", \"22893\", \"22441\", \"22625\", \"21745\", \"23173\", \"22757\", \"79029\", \"22715\", \"21123\", \"21393\", \"22110\", \"23306\", \"23506\", \"85230F\", \"79063D\", \"84509F\", \"85176\", \"22422\", \"22292\", \"16049\", \"22709\", \"21806\", \"23570\", \"22478\", \"23157\", \"22814\", \"35957\", \"21563\", \"22989\", \"17084N\", \"22494\", \"22040\", \"22048\", \"20966\", \"22098\", \"21491\", \"22899\", \"23328\", \"22964\", \"21428\", \"22672\", \"37447\", \"21789\", \"23571\", \"22350\", \"21217\", \"85212\", \"85049C\", \"23507\", \"21090\", \"22895\", \"21993\", \"22566\", \"21077\", \"20751\", \"22508\", \"21084\", \"85038\", \"21622\", \"21680\", \"22115\", \"21770\", \"22532\", \"21395\", \"22051\", \"85015\", \"47503K\", \"DOT\", \"82001S\", \"22719\", \"22774\", \"22999\", \"22319\", \"22665\", \"22746\", \"23174\", \"22575\", \"16012\", \"22057\", \"21809\", \"23322\", \"35004C\", \"23313\", \"21561\", \"37424\", \"20969\", \"22653\", \"23165\", \"17109C\", \"22731\", \"23376\", \"85066\", \"23175\", \"22613\", \"21527\", \"22353\", \"22729\", \"37423\", \"20682\", \"22327\", \"22207\", \"22599\", \"21207\", \"48129\", \"23000\", \"20749\", \"21422\", \"22091\", \"22148\", \"22427\", \"22915\", \"21413\", \"22991\", \"22291\", \"22622\", \"22050\", \"23349\", \"22904\", \"22750\", \"21650\", \"37446\", \"23168\", \"22129\", \"22651\", \"20776\", \"22898\", \"22624\", \"85199L\", \"23367\", \"22343\", \"22095\", \"23546\", \"22171\", \"23198\", \"51014L\", \"22543\", \"16219\", \"20773\", \"22576\", \"21788\", \"22670\", \"85160B\", \"21807\", \"22572\", \"22132\", \"21533\", \"21355\", \"84032B\", \"17021\", \"22109\", \"22339\", \"47599B\", \"22075\", \"22737\", \"21588\", \"22892\", \"22819\", \"23583\", \"84032A\", \"21832\", \"22431\", \"21890\", \"22906\", \"22984\", \"48116\", \"22817\", \"21888\", \"22545\", \"22402\", \"21590\", \"23326\", \"23351\", \"21992\", \"23215\", \"20674\", \"22066\", \"22052\", \"23188\", \"21903\", \"16048\", \"22049\", \"22089\", \"22499\", \"84536B\", \"20774\", \"22733\", \"22094\", \"17164B\", \"22548\", \"85227\", \"20775\", \"21260\", \"23192\", \"21715\", \"22815\", \"22668\", \"23166\", \"22792\", \"22752\", \"22377\", \"20977\", \"85049G\", \"20778\", \"20961\", \"23319\", \"22940\", \"20963\", \"23318\", \"23503\", \"20777\", \"22581\", \"85198\", \"22080\", \"79163\", \"23275\", \"21801\", \"23354\", \"22938\", \"22331\", \"84508A\", \"22332\", \"21912\", \"72351A\", \"46000M\", \"21716\", \"84990\", \"20829\", \"20750\", \"22274\", \"23182\", \"22378\", \"23172\", \"10133\", \"22141\", \"72756\", \"22775\", \"21591\", \"22505\", \"22078\", \"22730\", \"22755\", \"22963\", \"23263\", \"21584\", \"22615\", \"21932\", \"22732\", \"22035\", \"22705\", \"21392\", \"22749\", \"35953\", \"16011\", \"21955\", \"22837\", \"22439\", \"22299\", \"21216\", \"21819\", \"21494\", \"22128\", \"22564\", \"22502\", \"22185\", \"23493\", \"21937\", \"22300\", \"22025\", \"22754\", \"21558\", \"21394\", \"23353\", \"21718\", \"23378\", \"22979\", \"22562\", \"21642\", \"23439\", \"22813\", \"85062\", \"16216\", \"48173C\", \"23103\", \"22026\", \"21679\", \"21082\", \"22739\", \"22399\", \"47504E\", \"11001\", \"22212\", \"51014C\", \"22745\", \"17091J\", \"85184D\", \"21531\", \"16169E\", \"21933\", \"21287\", \"23240\", \"20978\", \"20731\", \"21033\", \"22603\", \"21034\", \"22706\", \"21179\", \"22398\", \"22619\", \"22748\", \"21714\", \"10135\", \"22436\", \"23297\", \"48111\", \"21135\", \"22088\", \"21818\", \"21068\", \"22142\", \"22970\", \"22241\", \"21071\", \"22546\", \"22535\", \"23294\", \"17109B\", \"22766\", \"21069\", \"20828\", \"16162L\", \"22435\", \"21215\", \"21380\", \"70006\", \"22637\", \"22456\", \"37448\", \"22738\", \"22992\", \"22336\", \"22245\", \"23288\", \"22465\", \"21381\", \"22493\", \"22053\", \"22962\", \"37352\", \"84670\", \"22772\", \"22944\", \"21934\", \"22271\", \"22533\", \"46000S\", \"21430\", \"M\", \"22597\", \"22302\", \"16218\", \"22804\", \"47590A\", \"85014A\", \"23243\", \"23582\", \"23321\", \"20981\", \"85160A\", \"22244\", \"84596F\", \"21067\", \"22242\", \"21802\", \"16045\", \"22985\", \"22421\", \"48184\", \"22996\", \"82486\", \"23285\", \"22460\", \"82483\", \"21504\", \"20729\", \"22667\", \"21803\", \"22812\", \"22301\", \"22055\", \"20982\", \"22574\", \"23581\", \"71053\", \"22600\", \"22173\", \"84997A\", \"23296\", \"22380\", \"22694\", \"15044A\", \"21749\", \"21484\", \"48188\", \"22644\", \"23286\", \"72232\", \"22855\", \"22594\", \"22079\", \"22059\", \"21902\", \"23144\", \"21700\", \"21244\", \"22303\", \"21872\", \"15039\", \"47559B\", \"22584\", \"22023\", \"16044\", \"22573\", \"22329\", \"47503F\", \"22851\", \"23233\", \"22835\", \"84536A\", \"20755\", \"21907\", \"22568\", \"21878\", \"20754\", \"20758\", \"22714\", \"20757\", \"21218\", \"22195\", \"23284\", \"21186\", \"22131\", \"22569\", \"22570\", \"22716\", \"23167\", \"85178\", \"21524\", \"82551\", \"22708\", \"22711\", \"22024\", \"22174\", \"22144\", \"16047\", \"37351\", \"20760\", \"21844\", \"22601\", \"16046\", \"82578\", \"22593\", \"20756\", \"21843\", \"20759\", \"47503A\", \"47590B\", \"21876\", \"21243\", \"22908\", \"23205\", \"22507\", \"72351B\", \"21114\", \"21755\", \"22608\", \"23355\", \"22539\", \"22567\", \"22614\", \"22153\", \"22663\", \"47599A\", \"20679\", \"22645\", \"22528\", \"22986\", \"20984\", \"22466\", \"21035\", \"22537\", \"22273\", \"21746\", \"22722\", \"22113\", \"21592\", \"22571\", \"22563\", \"21830\", \"85061W\", \"21164\", \"22338\", \"37370\", \"21544\", \"22156\", \"82582\", \"48185\", \"22227\", \"23295\", \"84971S\", \"85199S\", \"21987\", \"22155\", \"21901\", \"23171\", \"23308\", \"23170\", \"22900\", \"22152\", \"85014B\", \"18007\", \"17096\", \"47556B\", \"21811\", \"21983\", \"20717\", \"20992\", \"22713\", \"84596B\", \"21833\", \"23245\", \"23208\", \"37413\", \"22028\", \"21870\", \"22540\", \"85049A\", \"22631\", \"22728\", \"20983\", \"20996\", \"22596\", \"22046\", \"21429\", \"21155\", \"22138\", \"85110\", \"21621\", \"21874\", \"85049E\", \"21535\", \"20675\", \"22818\", \"51014A\", \"22437\", \"22064\", \"22602\", \"84406B\", \"22196\", \"82552\", \"23300\", \"22549\", \"72008\", \"21313\", \"22983\", \"21899\", \"22161\", \"23078\", \"21875\", \"21508\", \"47503E\", \"21974\", \"22413\", \"84832\", \"22488\", \"21810\", \"21078\", \"21900\", \"20991\", \"22945\", \"22609\", \"23200\", \"22419\", \"21242\", \"21935\", \"22710\", \"21523\", \"22037\", \"22352\", \"22579\", \"21623\", \"22150\", \"23231\", \"21988\", \"22720\", \"21479\", \"21519\", \"22712\", \"22491\", \"22816\", \"22834\", \"84520B\", \"48187\", \"23207\", \"21239\", \"22082\", \"22198\", \"21172\", \"84029G\", \"21240\", \"22243\", \"21786\", \"22950\", \"21936\", \"22771\", \"22432\", \"21481\", \"84375\", \"22464\", \"22154\", \"23204\", \"10002\", \"21754\", \"22041\", \"20979\", \"48194\", \"21892\", \"22726\", \"21485\", \"20677\", \"22698\", \"84950\", \"23230\", \"82581\", \"21154\", \"21989\", \"22553\", \"84997C\", \"22047\", \"21917\", \"23076\", \"84987\", \"23343\", \"22367\", \"85150\", \"23309\", \"22335\", \"22087\", \"35970\", \"21507\", \"22661\", \"21559\", \"22531\", \"22620\", \"21098\", \"22966\", \"23293\", \"22130\", \"22907\", \"23298\", \"23232\", \"22440\", \"22084\", \"37340\", \"22295\", \"22621\", \"23301\", \"22065\", \"21670\", \"21169\", \"21509\", \"22704\", \"15034\", \"22333\", \"21096\", \"22960\", \"21868\", \"21165\", \"22158\", \"22646\", \"22959\", \"22219\", \"21671\", \"84997B\", \"22759\", \"22734\", \"47591D\", \"21156\", \"22381\", \"21238\", \"22633\", \"85220\", \"22544\", \"21088\", \"22988\", \"22727\", \"15056BL\", \"62018\", \"22791\", \"79000\", \"21174\", \"21908\", \"20685\", \"22697\", \"22296\", \"21108\", \"22652\", \"22111\", \"16161U\", \"22662\", \"21124\", \"23344\", \"20973\", \"22536\", \"POST\", \"48138\", \"21136\", \"21673\", \"84050\", \"22530\", \"84997D\", \"22139\", \"84380\", \"22467\", \"21668\", \"23077\", \"15056N\", \"20676\", \"22557\", \"21669\", \"22741\", \"22666\", \"23202\", \"21871\", \"22444\", \"16237\", \"20993\", \"21385\", \"21916\", \"21390\", \"22951\", \"82484\", \"21672\", \"22632\", \"22027\", \"21506\", \"84988\", \"22561\", \"22112\", \"35961\", \"21314\", \"84378\", \"84029E\", \"84949\", \"22555\", \"23307\", \"23310\", \"21891\", \"23206\", \"17084R\", \"22147\", \"22578\", \"22149\", \"16033\", \"22030\", \"22114\", \"22998\", \"82583\", \"82600\", \"22348\", \"20711\", \"21495\", \"22418\", \"85175\", \"22188\", \"71477\", \"22993\", \"22595\", \"21829\", \"21122\", \"22740\", \"22610\", \"23201\", \"21092\", \"22699\", \"22534\", \"21877\", \"20974\", \"16161P\", \"21889\", \"75049L\", \"82580\", \"21914\", \"84347\", \"21099\", \"23209\", \"22867\", \"20718\", \"22083\", \"21986\", \"22866\", \"22554\", \"21930\", \"22556\", \"21091\", \"22297\", \"21085\", \"40016\", \"22577\", \"22328\", \"22558\", \"23199\", \"84826\", \"21918\", \"22045\", \"21703\", \"21787\", \"82494L\", \"21976\", \"21210\", \"22969\", \"21499\", \"22560\", \"22865\", \"21967\", \"22551\", \"22326\", \"22457\", \"21121\", \"21086\", \"22379\", \"21500\", \"84947\", \"85152\", \"22090\", \"16156S\", \"22659\", \"21704\", \"79321\", \"82482\", \"22385\", \"22294\", \"20975\", \"84598\", \"22909\", \"22077\", \"20712\", \"21733\", \"21791\", \"84970L\", \"21497\", \"22489\", \"22961\", \"22693\", \"22029\", \"84270\", \"22585\", \"22470\", \"22630\", \"21175\", \"22189\", \"21326\", \"20723\", \"20914\", \"20713\", \"20971\", \"22910\", \"20972\", \"84692\", \"21231\", \"21094\", \"22356\", \"72741\", \"21166\", \"21137\", \"23203\", \"84836\", \"22382\", \"22384\", \"20668\", \"84978\", \"22629\", \"20726\", \"22417\", \"84945\", \"20728\", \"21928\", \"84212\", \"20719\", \"21181\", \"21929\", \"22383\", \"37410\", \"21984\", \"21985\", \"22423\", \"20727\", \"21981\", \"84970S\", \"21498\", \"22151\", \"47566\", \"22411\", \"21790\", \"22469\", \"21731\", \"21931\", \"16014\", \"23084\", \"85099C\", \"21080\", \"21980\", \"21975\", \"20724\", \"21982\", \"22355\", \"71459\", \"22952\", \"84992\", \"85099F\", \"22086\", \"21915\", \"84946\", \"84568\", \"21232\", \"22386\", \"22178\", \"20725\", \"84755\", \"22616\", \"21213\", \"15036\", \"22492\", \"84991\", \"21977\", \"17003\", \"22197\", \"84879\", \"21212\", \"85099B\", \"85123A\", \"84077\"], \"xaxis\": \"x\", \"y\": [-18800, -16400, -14418, -8516, -8350, -5193, -4999, -3669, -3190, -3050, -2872, -2850, -2388, -2376, -2291, -2014, -1959, -1803, -1651, -1607, -1397, -1385, -1362, -1348, -1294, -1285, -1256, -1232, -1197, -1146, -1133, -1070, -1043, -1027, -1000, -859, -763, -708, -701, -692, -686, -654, -633, -627, -599, -589, -480, -455, -437, -394, -373, -364, -362, -352, -325, -296, -283, -281, -260, -250, -244, -239, -215, -201, -200, -199, -197, -179, -172, -170, -169, -166, -161, -155, -150, -150, -148, -146, -145, -142, -139, -132, -129, -127, -127, -125, -121, -121, -120, -120, -120, -119, -117, -117, -116, -115, -109, -106, -106, -100, -98, -96, -95, -94, -91, -89, -81, -80, -78, -78, -76, -76, -75, -75, -75, -74, -73, -72, -71, -69, -69, -67, -66, -65, -64, -63, -61, -61, -61, -60, -60, -60, -60, -59, -58, -57, -57, -56, -56, -54, -54, -53, -52, -51, -51, -50, -50, -50, -50, -50, -48, -48, -48, -48, -47, -47, -46, -46, -45, -45, -44, -44, -43, -43, -42, -42, -41, -40, -40, -40, -40, -39, -38, -38, -38, -37, -37, -36, -36, -36, -36, -36, -36, -36, -36, -36, -36, -35, -35, -35, -34, -34, -34, -33, -33, -33, -32, -32, -31, -30, -30, -30, -29, -29, -29, -28, -28, -28, -27, -27, -27, -27, -26, -26, -25, -25, -25, -25, -25, -25, -24, -24, -24, -24, -24, -24, -23, -23, -23, -23, -23, -23, -22, -22, -22, -22, -22, -22, -21, -21, -21, -21, -21, -21, -21, -20, -20, -20, -20, -20, -20, -20, -20, -20, -20, -20, -19, -19, -19, -19, -19, -19, -18, -18, -18, -18, -18, -18, -18, -18, -18, -18, -17, -17, -17, -17, -17, -16, -16, -16, -16, -16, -16, -16, -16, -16, -16, -15, -15, -15, -15, -15, -15, -14, -14, -14, -14, -14, -14, -14, -14, -13, -13, -13, -13, -13, -12, -12, -12, -12, -12, -12, -12, -12, -12, -12, -12, -12, -12, -12, -12, -11, -11, -11, -11, -11, -11, -11, -11, -11, -11, -11, -11, -11, -11, -11, -11, -11, -10, -10, -10, -10, -10, -10, -10, -10, -10, -10, -10, -10, -10, -10, -10, -10, -10, -10, -9, -9, -9, -9, -9, -9, -9, -9, -9, -9, -9, -9, -9, -9, -8, -8, -8, -8, -8, -8, -8, -8, -8, -8, -8, -8, -7, -7, -7, -7, -7, -7, -7, -7, -7, -7, -7, -6, -6, -6, -6, -6, -6, -6, -6, -6, -6, -6, -6, -5, -5, -5, -5, -5, -5, -5, -5, -5, -5, -5, -5, -5, -5, -5, -5, -5, -5, -4, -4, -4, -4, -4, -4, -4, -4, -4, -4, -4, -4, -4, -4, -4, -4, -4, -4, -4, -4, -4, -4, -4, -4, -4, -3, -3, -3, -3, -3, -3, -3, -3, -3, -3, -3, -3, -3, -3, -3, -3, -3, -3, -3, -3, -3, -3, -3, -3, -3, -3, -3, -3, -3, -2, -2, -2, -2, -2, -2, -2, -2, -2, -2, -2, -2, -2, -2, -2, -2, -2, -2, -2, -2, -2, -2, -2, -2, -2, -2, -2, -2, -2, -2, -2, -2, -2, -2, -2, -2, -2, -2, -2, -2, -2, -2, -2, -2, -2, -1, -1, -1, -1, -1, -1, -1, -1, -1, -1, -1, -1, -1, -1, -1, -1, -1, -1, -1, -1, -1, -1, -1, -1, -1, -1, -1, -1, -1, -1, -1, -1, -1, -1, -1, -1, -1, -1, -1, -1, -1, -1, -1, -1, -1, -1, -1, -1, -1, -1, -1, -1, -1, -1, 0, 0, 0, 0, 0, 0, 0, 0, 0, 0, 0, 0, 0, 0, 0, 0, 0, 0, 0, 1, 1, 1, 1, 1, 1, 1, 1, 1, 1, 1, 1, 1, 1, 1, 1, 1, 1, 1, 1, 1, 1, 1, 1, 1, 1, 1, 1, 1, 1, 1, 1, 1, 1, 1, 1, 1, 1, 1, 1, 1, 1, 1, 1, 1, 1, 1, 1, 1, 1, 1, 1, 1, 1, 1, 1, 1, 1, 1, 1, 1, 1, 1, 1, 1, 1, 1, 1, 1, 1, 1, 1, 1, 1, 1, 1, 1, 1, 1, 1, 1, 1, 1, 1, 1, 2, 2, 2, 2, 2, 2, 2, 2, 2, 2, 2, 2, 2, 2, 2, 2, 2, 2, 2, 2, 2, 2, 2, 2, 2, 2, 2, 2, 2, 2, 2, 2, 2, 2, 2, 2, 2, 2, 2, 2, 2, 2, 2, 2, 2, 2, 2, 2, 2, 2, 2, 2, 2, 3, 3, 3, 3, 3, 3, 3, 3, 3, 3, 3, 3, 3, 3, 3, 3, 3, 3, 3, 3, 3, 3, 3, 3, 3, 3, 3, 3, 3, 4, 4, 4, 4, 4, 4, 4, 4, 4, 4, 4, 4, 4, 4, 4, 4, 4, 4, 4, 4, 4, 4, 4, 4, 4, 4, 4, 4, 4, 4, 4, 4, 4, 4, 4, 4, 4, 4, 5, 5, 5, 5, 5, 5, 5, 5, 5, 5, 5, 5, 5, 5, 5, 5, 5, 5, 5, 5, 5, 5, 5, 5, 5, 5, 5, 5, 5, 6, 6, 6, 6, 6, 6, 6, 6, 6, 6, 6, 6, 6, 6, 6, 6, 6, 6, 6, 6, 6, 6, 7, 7, 7, 7, 7, 7, 7, 7, 7, 7, 7, 7, 7, 7, 7, 7, 7, 7, 7, 7, 7, 7, 7, 7, 7, 7, 7, 7, 7, 8, 8, 8, 8, 8, 8, 8, 8, 8, 8, 8, 8, 8, 8, 8, 8, 8, 8, 8, 8, 8, 8, 8, 8, 8, 8, 9, 9, 9, 9, 9, 9, 9, 9, 9, 9, 9, 9, 9, 9, 9, 9, 9, 9, 10, 10, 10, 10, 10, 10, 10, 10, 10, 10, 10, 10, 10, 10, 10, 10, 10, 10, 10, 10, 10, 10, 10, 10, 10, 11, 11, 11, 11, 11, 11, 11, 11, 11, 11, 11, 11, 11, 11, 11, 11, 11, 11, 11, 11, 11, 11, 11, 11, 11, 12, 12, 12, 12, 12, 12, 12, 12, 12, 12, 12, 12, 12, 12, 12, 12, 13, 13, 13, 13, 13, 13, 13, 13, 13, 13, 13, 13, 13, 13, 13, 13, 13, 13, 13, 13, 13, 13, 13, 13, 13, 14, 14, 14, 14, 14, 14, 14, 14, 14, 14, 14, 14, 14, 14, 14, 15, 15, 15, 15, 15, 15, 15, 15, 15, 15, 15, 15, 15, 16, 16, 16, 16, 16, 16, 16, 16, 16, 16, 16, 16, 16, 16, 16, 16, 16, 17, 17, 17, 17, 17, 17, 17, 17, 17, 17, 17, 17, 17, 18, 18, 18, 18, 18, 18, 18, 18, 18, 18, 18, 18, 18, 18, 18, 18, 18, 18, 18, 19, 19, 19, 19, 19, 19, 19, 19, 19, 19, 19, 19, 20, 20, 20, 20, 20, 20, 20, 20, 20, 20, 20, 20, 20, 20, 20, 20, 21, 21, 21, 21, 21, 21, 21, 21, 21, 21, 21, 21, 21, 21, 21, 21, 22, 22, 22, 22, 22, 22, 22, 22, 22, 22, 22, 22, 22, 22, 22, 22, 23, 23, 23, 23, 23, 23, 23, 23, 23, 24, 24, 24, 24, 24, 24, 24, 24, 24, 24, 25, 25, 25, 25, 25, 25, 25, 25, 25, 25, 25, 25, 25, 25, 25, 25, 25, 25, 26, 26, 26, 26, 26, 26, 26, 26, 26, 26, 26, 26, 26, 27, 27, 27, 27, 27, 27, 27, 27, 27, 27, 28, 28, 28, 28, 28, 28, 28, 28, 28, 28, 28, 29, 29, 29, 29, 29, 29, 29, 30, 30, 30, 30, 30, 30, 30, 30, 30, 30, 30, 30, 30, 30, 31, 31, 31, 31, 31, 31, 31, 31, 31, 31, 31, 31, 32, 32, 32, 32, 32, 32, 32, 32, 32, 33, 33, 33, 33, 33, 33, 33, 33, 34, 34, 34, 34, 34, 34, 34, 34, 35, 35, 35, 35, 35, 35, 35, 35, 35, 36, 36, 36, 36, 36, 36, 36, 36, 36, 36, 36, 36, 37, 37, 37, 37, 37, 37, 37, 37, 37, 37, 37, 37, 38, 38, 38, 38, 38, 38, 39, 39, 39, 39, 39, 39, 39, 39, 39, 39, 39, 39, 39, 40, 40, 40, 40, 40, 40, 40, 40, 40, 40, 40, 41, 41, 41, 41, 41, 41, 41, 41, 41, 41, 42, 42, 42, 42, 42, 42, 42, 42, 42, 42, 43, 43, 43, 43, 43, 43, 43, 43, 43, 43, 44, 44, 44, 44, 44, 44, 44, 44, 44, 45, 45, 45, 45, 46, 46, 46, 46, 46, 47, 47, 47, 47, 47, 47, 47, 47, 47, 47, 47, 48, 48, 48, 48, 48, 48, 48, 48, 49, 49, 49, 50, 50, 50, 50, 50, 50, 50, 50, 50, 51, 51, 51, 51, 51, 51, 51, 51, 52, 52, 52, 52, 52, 52, 52, 53, 53, 53, 53, 53, 53, 53, 53, 53, 53, 54, 54, 54, 54, 54, 54, 54, 54, 54, 54, 55, 55, 55, 55, 55, 55, 55, 56, 56, 56, 56, 56, 56, 56, 56, 56, 56, 56, 57, 57, 57, 58, 58, 58, 58, 58, 58, 58, 58, 58, 58, 58, 58, 58, 58, 59, 59, 59, 59, 59, 59, 59, 59, 60, 60, 60, 60, 60, 60, 60, 60, 60, 61, 61, 62, 62, 62, 62, 62, 62, 63, 63, 63, 63, 63, 63, 64, 64, 64, 64, 64, 65, 65, 65, 65, 65, 66, 66, 66, 66, 66, 66, 67, 67, 67, 67, 67, 67, 68, 68, 68, 69, 69, 69, 69, 69, 69, 69, 70, 71, 71, 71, 71, 71, 71, 71, 71, 72, 72, 72, 72, 73, 73, 73, 73, 74, 74, 74, 74, 74, 74, 74, 75, 75, 75, 75, 75, 75, 75, 76, 76, 76, 76, 76, 77, 77, 77, 77, 77, 77, 78, 78, 78, 78, 78, 78, 78, 78, 78, 78, 78, 78, 79, 79, 79, 79, 79, 79, 79, 79, 79, 79, 79, 80, 80, 81, 81, 81, 81, 81, 81, 81, 81, 82, 82, 82, 82, 82, 82, 82, 82, 83, 83, 83, 83, 83, 83, 83, 85, 85, 85, 85, 85, 86, 86, 86, 87, 87, 87, 87, 88, 88, 88, 88, 88, 88, 89, 89, 89, 89, 90, 90, 90, 90, 90, 90, 90, 90, 90, 90, 90, 91, 91, 91, 91, 91, 91, 92, 92, 92, 92, 92, 92, 93, 94, 94, 95, 95, 95, 96, 96, 97, 97, 97, 97, 97, 98, 98, 98, 98, 98, 98, 98, 99, 99, 99, 99, 99, 99, 100, 100, 100, 100, 100, 101, 101, 102, 102, 102, 103, 103, 103, 103, 103, 104, 104, 104, 104, 104, 104, 104, 104, 105, 105, 105, 105, 105, 105, 105, 105, 105, 106, 106, 106, 106, 107, 107, 107, 107, 108, 108, 108, 109, 109, 109, 109, 109, 109, 109, 110, 110, 110, 111, 111, 111, 111, 111, 112, 112, 112, 112, 112, 112, 112, 112, 113, 113, 113, 113, 113, 113, 113, 113, 114, 114, 114, 114, 115, 115, 115, 115, 115, 116, 116, 116, 117, 117, 117, 117, 117, 118, 118, 118, 118, 119, 119, 120, 120, 120, 121, 121, 121, 121, 121, 121, 121, 122, 122, 122, 122, 122, 122, 122, 122, 123, 124, 124, 124, 125, 125, 125, 125, 125, 126, 126, 126, 126, 126, 126, 126, 126, 126, 126, 126, 127, 127, 127, 127, 127, 127, 127, 127, 128, 128, 128, 128, 128, 128, 129, 129, 129, 129, 129, 129, 130, 130, 130, 132, 132, 132, 133, 133, 134, 134, 135, 135, 135, 135, 136, 136, 137, 137, 137, 137, 137, 138, 138, 138, 139, 139, 139, 139, 139, 139, 139, 140, 140, 141, 141, 142, 142, 142, 142, 142, 143, 143, 143, 144, 144, 144, 144, 145, 146, 146, 146, 146, 146, 147, 147, 148, 148, 148, 148, 149, 149, 150, 150, 150, 150, 150, 150, 151, 151, 151, 152, 152, 152, 152, 152, 152, 153, 153, 153, 155, 155, 155, 155, 155, 156, 156, 156, 156, 156, 157, 157, 157, 157, 157, 157, 157, 157, 158, 158, 159, 160, 160, 160, 160, 160, 161, 161, 161, 161, 161, 162, 162, 163, 163, 163, 163, 163, 164, 164, 164, 164, 165, 165, 165, 165, 165, 165, 165, 166, 166, 167, 168, 169, 169, 170, 170, 170, 170, 170, 170, 170, 170, 170, 170, 171, 171, 171, 171, 172, 172, 172, 173, 173, 174, 174, 175, 175, 175, 175, 175, 175, 175, 176, 176, 177, 177, 177, 177, 177, 177, 177, 177, 177, 178, 178, 178, 178, 178, 178, 178, 178, 179, 179, 179, 179, 180, 180, 180, 180, 181, 181, 181, 181, 181, 181, 182, 182, 182, 183, 183, 183, 183, 184, 185, 185, 185, 185, 185, 186, 186, 187, 188, 188, 188, 188, 189, 191, 191, 191, 192, 192, 192, 192, 192, 193, 193, 193, 193, 193, 193, 194, 194, 194, 194, 195, 195, 195, 195, 195, 196, 196, 196, 196, 197, 197, 197, 198, 198, 198, 198, 199, 199, 199, 200, 200, 200, 200, 201, 202, 203, 203, 203, 204, 204, 205, 207, 207, 207, 208, 208, 209, 209, 209, 210, 210, 211, 212, 212, 212, 212, 213, 213, 213, 213, 213, 214, 214, 214, 215, 215, 215, 215, 216, 216, 217, 217, 218, 218, 218, 218, 218, 219, 219, 219, 219, 219, 219, 220, 220, 221, 221, 221, 222, 222, 222, 223, 223, 223, 223, 224, 224, 224, 224, 224, 224, 225, 225, 226, 226, 226, 226, 227, 227, 227, 227, 227, 228, 228, 229, 229, 229, 229, 230, 230, 230, 231, 234, 234, 234, 234, 235, 236, 236, 237, 238, 238, 239, 239, 240, 241, 241, 241, 241, 241, 242, 242, 242, 243, 243, 244, 244, 244, 244, 244, 245, 245, 245, 245, 245, 245, 245, 245, 246, 246, 247, 247, 247, 247, 247, 247, 248, 248, 248, 248, 248, 249, 249, 249, 249, 250, 250, 250, 250, 251, 251, 252, 252, 253, 253, 253, 253, 253, 253, 254, 254, 254, 255, 255, 256, 257, 257, 257, 258, 258, 259, 259, 259, 259, 260, 260, 260, 260, 260, 260, 260, 261, 261, 262, 262, 262, 262, 263, 263, 264, 264, 264, 264, 265, 265, 265, 265, 265, 267, 268, 268, 269, 270, 270, 272, 272, 272, 273, 273, 273, 274, 275, 276, 276, 276, 276, 276, 276, 277, 278, 278, 278, 279, 279, 279, 280, 281, 282, 282, 283, 283, 284, 284, 285, 285, 285, 285, 285, 286, 286, 286, 286, 286, 287, 287, 287, 287, 288, 288, 289, 290, 290, 290, 290, 290, 290, 291, 292, 292, 292, 293, 293, 293, 293, 294, 295, 295, 295, 295, 296, 296, 297, 297, 297, 297, 298, 298, 298, 298, 299, 300, 300, 302, 302, 303, 303, 303, 303, 304, 304, 305, 305, 306, 306, 306, 307, 307, 307, 308, 308, 310, 310, 310, 312, 312, 312, 313, 313, 313, 313, 314, 315, 315, 316, 316, 316, 317, 318, 318, 318, 318, 318, 319, 319, 320, 321, 321, 321, 322, 322, 323, 323, 324, 324, 324, 324, 325, 325, 325, 326, 326, 326, 327, 327, 328, 328, 328, 328, 330, 330, 332, 332, 332, 332, 333, 333, 333, 334, 334, 334, 334, 335, 335, 336, 336, 336, 340, 340, 340, 341, 341, 341, 343, 343, 343, 343, 343, 344, 345, 345, 346, 348, 348, 349, 349, 350, 351, 351, 352, 352, 353, 353, 354, 354, 355, 356, 356, 357, 357, 357, 358, 359, 359, 359, 360, 360, 360, 360, 360, 360, 361, 361, 361, 362, 363, 364, 364, 364, 364, 364, 365, 365, 366, 366, 367, 368, 368, 368, 368, 369, 369, 370, 370, 370, 371, 372, 373, 373, 373, 373, 374, 374, 375, 375, 375, 375, 376, 376, 376, 376, 376, 377, 378, 378, 379, 380, 381, 382, 382, 383, 383, 383, 383, 384, 384, 385, 385, 386, 386, 387, 387, 388, 389, 390, 390, 390, 390, 391, 391, 391, 391, 392, 392, 393, 394, 395, 397, 397, 398, 398, 399, 400, 400, 400, 400, 402, 402, 403, 403, 403, 403, 404, 404, 404, 404, 404, 405, 405, 405, 406, 406, 407, 407, 408, 408, 408, 408, 409, 409, 410, 412, 413, 413, 414, 414, 418, 418, 418, 418, 418, 418, 419, 420, 421, 422, 422, 424, 424, 424, 424, 424, 425, 425, 425, 427, 427, 428, 428, 429, 429, 430, 430, 432, 434, 434, 434, 435, 435, 435, 436, 436, 437, 438, 438, 439, 441, 441, 442, 442, 442, 442, 443, 444, 444, 445, 445, 445, 446, 446, 446, 447, 447, 447, 448, 448, 449, 450, 451, 452, 452, 453, 453, 453, 453, 453, 456, 456, 457, 457, 458, 459, 461, 461, 461, 462, 464, 464, 465, 466, 466, 466, 466, 466, 468, 468, 468, 470, 470, 470, 471, 471, 472, 473, 473, 474, 474, 474, 474, 474, 474, 475, 475, 476, 477, 477, 477, 478, 478, 479, 479, 480, 480, 481, 481, 482, 482, 483, 483, 485, 485, 486, 487, 488, 490, 491, 493, 494, 494, 494, 495, 495, 496, 496, 496, 497, 498, 498, 499, 499, 499, 500, 500, 500, 501, 501, 501, 501, 502, 502, 503, 503, 505, 506, 506, 506, 509, 509, 510, 510, 510, 512, 512, 512, 514, 515, 515, 515, 516, 516, 517, 518, 518, 519, 520, 521, 521, 524, 524, 525, 528, 528, 530, 530, 531, 531, 533, 536, 538, 539, 539, 539, 540, 540, 541, 543, 544, 545, 545, 546, 546, 548, 548, 549, 551, 551, 553, 554, 554, 554, 555, 555, 555, 556, 557, 557, 557, 558, 558, 558, 559, 560, 560, 561, 562, 562, 563, 563, 563, 563, 564, 565, 565, 565, 565, 566, 567, 567, 567, 568, 568, 569, 570, 571, 571, 571, 571, 571, 571, 572, 574, 575, 575, 575, 577, 577, 577, 578, 579, 579, 579, 580, 581, 582, 584, 584, 585, 586, 586, 586, 587, 588, 588, 588, 589, 589, 589, 589, 590, 590, 590, 592, 592, 593, 593, 595, 595, 595, 596, 597, 597, 598, 599, 599, 599, 599, 600, 602, 602, 604, 604, 604, 605, 606, 606, 606, 606, 609, 610, 611, 614, 619, 619, 620, 620, 620, 620, 622, 622, 623, 623, 623, 624, 624, 624, 625, 626, 627, 627, 627, 628, 628, 629, 629, 629, 629, 631, 634, 637, 637, 637, 637, 639, 640, 640, 641, 641, 643, 643, 644, 645, 646, 647, 647, 648, 649, 649, 649, 651, 652, 652, 652, 653, 653, 653, 653, 655, 655, 655, 656, 656, 656, 656, 657, 657, 658, 658, 660, 661, 662, 662, 662, 663, 666, 666, 666, 670, 670, 670, 672, 672, 673, 673, 673, 674, 678, 678, 678, 679, 680, 684, 684, 685, 686, 686, 686, 687, 687, 688, 691, 692, 693, 693, 693, 694, 694, 695, 698, 699, 700, 704, 704, 704, 704, 704, 705, 705, 706, 706, 709, 710, 710, 710, 713, 714, 714, 714, 716, 719, 720, 720, 720, 723, 723, 724, 724, 725, 726, 727, 727, 728, 730, 730, 731, 734, 735, 737, 737, 737, 738, 739, 739, 747, 747, 747, 748, 750, 751, 751, 751, 751, 753, 754, 756, 759, 759, 761, 762, 763, 765, 767, 768, 768, 770, 771, 771, 772, 774, 775, 775, 776, 777, 777, 778, 779, 779, 781, 782, 783, 783, 785, 786, 786, 788, 788, 788, 789, 790, 791, 791, 792, 793, 794, 794, 794, 795, 795, 796, 797, 797, 798, 799, 799, 801, 803, 803, 806, 806, 807, 808, 809, 809, 810, 812, 812, 812, 813, 813, 814, 814, 815, 817, 817, 820, 820, 821, 821, 821, 824, 824, 825, 825, 825, 825, 825, 826, 827, 827, 829, 829, 831, 832, 833, 835, 836, 836, 839, 840, 842, 842, 842, 843, 845, 845, 847, 847, 848, 848, 849, 850, 851, 852, 853, 853, 853, 853, 854, 856, 859, 859, 860, 860, 861, 861, 862, 862, 865, 866, 867, 870, 870, 872, 872, 874, 874, 875, 878, 879, 879, 879, 880, 882, 882, 882, 883, 883, 883, 884, 884, 885, 886, 887, 887, 890, 890, 893, 895, 896, 897, 899, 900, 902, 903, 903, 904, 904, 905, 905, 907, 908, 908, 909, 910, 910, 911, 912, 913, 915, 918, 919, 923, 924, 924, 925, 925, 926, 927, 927, 927, 927, 930, 930, 930, 930, 931, 931, 931, 937, 937, 937, 938, 938, 941, 942, 945, 945, 946, 946, 948, 948, 949, 950, 950, 952, 952, 953, 955, 955, 956, 956, 958, 958, 959, 960, 960, 961, 963, 964, 964, 965, 965, 965, 968, 968, 969, 971, 972, 973, 974, 975, 975, 976, 978, 979, 979, 979, 980, 980, 980, 981, 982, 983, 984, 985, 985, 986, 986, 986, 988, 989, 993, 993, 994, 994, 995, 996, 997, 997, 999, 1000, 1000, 1001, 1002, 1004, 1004, 1005, 1006, 1007, 1007, 1010, 1011, 1011, 1012, 1012, 1013, 1014, 1015, 1016, 1016, 1016, 1016, 1017, 1019, 1021, 1022, 1023, 1026, 1027, 1027, 1028, 1029, 1030, 1030, 1031, 1032, 1033, 1035, 1035, 1036, 1037, 1039, 1039, 1039, 1041, 1042, 1042, 1043, 1044, 1044, 1044, 1044, 1045, 1045, 1046, 1047, 1048, 1052, 1054, 1055, 1056, 1058, 1058, 1059, 1060, 1062, 1062, 1062, 1064, 1065, 1066, 1066, 1068, 1069, 1069, 1070, 1070, 1070, 1072, 1073, 1074, 1075, 1077, 1078, 1079, 1082, 1082, 1085, 1086, 1086, 1090, 1093, 1093, 1096, 1098, 1100, 1100, 1101, 1102, 1102, 1104, 1105, 1106, 1107, 1108, 1112, 1118, 1119, 1120, 1121, 1121, 1122, 1123, 1123, 1123, 1125, 1125, 1126, 1126, 1126, 1126, 1127, 1128, 1130, 1131, 1131, 1133, 1135, 1136, 1138, 1145, 1146, 1148, 1149, 1150, 1150, 1150, 1151, 1152, 1153, 1153, 1154, 1157, 1157, 1159, 1159, 1160, 1161, 1164, 1165, 1167, 1168, 1169, 1169, 1170, 1171, 1172, 1173, 1173, 1174, 1175, 1175, 1176, 1178, 1179, 1180, 1182, 1185, 1187, 1187, 1189, 1191, 1192, 1192, 1195, 1195, 1195, 1195, 1196, 1196, 1198, 1198, 1199, 1199, 1199, 1201, 1201, 1201, 1202, 1202, 1205, 1207, 1208, 1208, 1211, 1212, 1212, 1212, 1213, 1217, 1220, 1223, 1227, 1227, 1228, 1228, 1228, 1231, 1232, 1232, 1235, 1236, 1237, 1237, 1241, 1243, 1243, 1244, 1247, 1248, 1248, 1249, 1250, 1250, 1251, 1253, 1257, 1259, 1259, 1261, 1262, 1263, 1271, 1272, 1272, 1272, 1275, 1276, 1277, 1278, 1280, 1281, 1285, 1286, 1288, 1288, 1288, 1290, 1291, 1293, 1294, 1295, 1296, 1299, 1300, 1302, 1303, 1304, 1305, 1307, 1308, 1309, 1312, 1315, 1316, 1316, 1317, 1317, 1318, 1318, 1318, 1319, 1321, 1323, 1324, 1324, 1324, 1328, 1330, 1331, 1331, 1334, 1335, 1335, 1337, 1339, 1344, 1344, 1345, 1346, 1347, 1348, 1349, 1350, 1351, 1351, 1353, 1354, 1355, 1356, 1359, 1360, 1361, 1362, 1363, 1365, 1365, 1366, 1371, 1372, 1375, 1379, 1380, 1381, 1383, 1384, 1385, 1386, 1393, 1394, 1395, 1397, 1400, 1402, 1402, 1403, 1403, 1404, 1406, 1407, 1410, 1411, 1412, 1412, 1414, 1415, 1418, 1421, 1421, 1423, 1424, 1427, 1427, 1429, 1433, 1434, 1434, 1437, 1438, 1439, 1439, 1440, 1441, 1443, 1444, 1446, 1447, 1448, 1449, 1450, 1453, 1454, 1455, 1455, 1456, 1463, 1465, 1466, 1466, 1467, 1469, 1469, 1470, 1470, 1471, 1474, 1475, 1478, 1479, 1480, 1480, 1481, 1482, 1483, 1483, 1483, 1484, 1485, 1485, 1486, 1486, 1487, 1487, 1488, 1489, 1490, 1492, 1493, 1494, 1495, 1495, 1498, 1499, 1499, 1499, 1500, 1501, 1501, 1502, 1503, 1503, 1506, 1508, 1508, 1508, 1509, 1509, 1511, 1512, 1513, 1514, 1515, 1515, 1516, 1522, 1522, 1522, 1525, 1526, 1530, 1532, 1533, 1536, 1536, 1538, 1540, 1542, 1543, 1544, 1546, 1550, 1552, 1554, 1560, 1560, 1562, 1563, 1569, 1571, 1575, 1576, 1577, 1579, 1581, 1585, 1588, 1589, 1589, 1591, 1592, 1594, 1595, 1596, 1596, 1597, 1601, 1602, 1603, 1606, 1608, 1609, 1609, 1610, 1610, 1613, 1616, 1619, 1620, 1622, 1622, 1623, 1625, 1625, 1625, 1628, 1628, 1630, 1631, 1631, 1633, 1634, 1636, 1638, 1639, 1640, 1640, 1640, 1641, 1642, 1644, 1644, 1645, 1648, 1650, 1654, 1655, 1661, 1661, 1662, 1663, 1663, 1664, 1665, 1666, 1667, 1670, 1670, 1671, 1671, 1672, 1673, 1680, 1684, 1686, 1686, 1686, 1690, 1694, 1695, 1700, 1702, 1703, 1710, 1711, 1712, 1714, 1716, 1718, 1720, 1720, 1721, 1721, 1722, 1724, 1725, 1726, 1728, 1731, 1732, 1734, 1740, 1747, 1752, 1753, 1753, 1753, 1757, 1759, 1762, 1763, 1763, 1764, 1769, 1773, 1773, 1775, 1775, 1775, 1777, 1779, 1781, 1781, 1783, 1787, 1789, 1789, 1790, 1791, 1792, 1793, 1794, 1796, 1798, 1799, 1802, 1811, 1812, 1813, 1816, 1817, 1817, 1820, 1821, 1823, 1823, 1825, 1826, 1827, 1833, 1833, 1837, 1840, 1841, 1843, 1846, 1851, 1852, 1853, 1855, 1855, 1856, 1857, 1858, 1858, 1859, 1860, 1864, 1865, 1867, 1869, 1870, 1875, 1875, 1875, 1880, 1881, 1884, 1884, 1885, 1887, 1889, 1890, 1891, 1891, 1893, 1894, 1902, 1902, 1905, 1905, 1909, 1910, 1917, 1922, 1923, 1924, 1925, 1925, 1929, 1932, 1934, 1937, 1947, 1948, 1952, 1956, 1957, 1959, 1959, 1960, 1961, 1963, 1964, 1964, 1965, 1966, 1967, 1967, 1967, 1970, 1974, 1980, 1985, 1986, 1988, 1992, 1992, 1994, 1998, 1999, 1999, 2001, 2007, 2008, 2010, 2010, 2011, 2013, 2017, 2017, 2021, 2022, 2027, 2030, 2033, 2036, 2036, 2037, 2039, 2040, 2041, 2042, 2042, 2046, 2048, 2048, 2052, 2058, 2060, 2061, 2061, 2061, 2064, 2065, 2068, 2069, 2073, 2073, 2074, 2074, 2074, 2075, 2076, 2076, 2078, 2078, 2079, 2081, 2082, 2089, 2090, 2095, 2098, 2102, 2106, 2106, 2111, 2115, 2117, 2122, 2123, 2125, 2125, 2128, 2128, 2131, 2136, 2138, 2140, 2141, 2144, 2145, 2147, 2148, 2151, 2153, 2154, 2156, 2156, 2157, 2157, 2159, 2160, 2161, 2164, 2167, 2168, 2171, 2172, 2173, 2177, 2177, 2179, 2183, 2187, 2191, 2195, 2196, 2197, 2197, 2198, 2200, 2202, 2203, 2205, 2210, 2210, 2211, 2215, 2216, 2219, 2220, 2230, 2231, 2236, 2237, 2239, 2239, 2240, 2241, 2242, 2247, 2250, 2252, 2253, 2256, 2256, 2259, 2269, 2269, 2271, 2274, 2274, 2275, 2276, 2276, 2279, 2282, 2283, 2285, 2287, 2288, 2293, 2296, 2296, 2302, 2305, 2305, 2306, 2306, 2307, 2307, 2308, 2310, 2311, 2317, 2323, 2326, 2326, 2328, 2329, 2329, 2335, 2338, 2340, 2340, 2348, 2351, 2353, 2354, 2358, 2360, 2360, 2362, 2362, 2364, 2367, 2370, 2373, 2375, 2376, 2377, 2378, 2380, 2382, 2384, 2385, 2390, 2392, 2395, 2401, 2410, 2410, 2413, 2413, 2415, 2418, 2427, 2427, 2429, 2432, 2434, 2440, 2442, 2445, 2446, 2446, 2446, 2448, 2448, 2455, 2461, 2463, 2463, 2466, 2467, 2470, 2473, 2476, 2476, 2480, 2480, 2481, 2482, 2483, 2485, 2488, 2489, 2495, 2496, 2501, 2506, 2509, 2512, 2515, 2516, 2517, 2522, 2525, 2527, 2528, 2532, 2534, 2535, 2538, 2539, 2544, 2546, 2549, 2552, 2553, 2554, 2556, 2564, 2569, 2575, 2577, 2585, 2599, 2599, 2607, 2610, 2613, 2614, 2617, 2626, 2629, 2630, 2633, 2634, 2635, 2638, 2648, 2649, 2650, 2655, 2655, 2655, 2657, 2668, 2670, 2671, 2674, 2676, 2678, 2680, 2697, 2700, 2702, 2711, 2717, 2718, 2718, 2718, 2720, 2727, 2731, 2737, 2738, 2744, 2745, 2747, 2748, 2750, 2757, 2760, 2763, 2770, 2772, 2774, 2774, 2782, 2782, 2782, 2783, 2783, 2783, 2791, 2798, 2809, 2815, 2815, 2821, 2821, 2832, 2835, 2837, 2839, 2845, 2853, 2858, 2858, 2859, 2863, 2863, 2872, 2872, 2884, 2891, 2892, 2895, 2896, 2898, 2903, 2903, 2905, 2905, 2906, 2911, 2912, 2913, 2919, 2922, 2925, 2925, 2928, 2938, 2945, 2952, 2953, 2957, 2958, 2964, 2967, 2969, 2969, 2973, 2976, 2982, 2982, 2984, 2984, 2986, 2998, 3005, 3014, 3016, 3019, 3027, 3027, 3040, 3042, 3055, 3056, 3059, 3070, 3079, 3080, 3093, 3102, 3111, 3129, 3130, 3132, 3143, 3144, 3147, 3157, 3164, 3167, 3174, 3175, 3175, 3181, 3200, 3207, 3210, 3227, 3234, 3235, 3238, 3240, 3253, 3259, 3262, 3264, 3268, 3269, 3270, 3272, 3275, 3281, 3282, 3289, 3300, 3310, 3317, 3328, 3331, 3332, 3333, 3336, 3348, 3349, 3352, 3352, 3352, 3358, 3360, 3361, 3362, 3372, 3372, 3373, 3377, 3379, 3385, 3389, 3397, 3398, 3398, 3408, 3410, 3417, 3419, 3434, 3435, 3436, 3439, 3443, 3443, 3444, 3447, 3447, 3448, 3450, 3459, 3460, 3462, 3475, 3479, 3496, 3499, 3505, 3506, 3506, 3513, 3519, 3523, 3527, 3530, 3530, 3531, 3532, 3537, 3539, 3547, 3555, 3563, 3576, 3597, 3599, 3613, 3623, 3627, 3636, 3643, 3644, 3650, 3651, 3660, 3666, 3668, 3672, 3682, 3683, 3686, 3704, 3714, 3720, 3727, 3728, 3735, 3740, 3745, 3755, 3757, 3760, 3763, 3768, 3769, 3780, 3782, 3782, 3793, 3803, 3807, 3809, 3816, 3821, 3842, 3846, 3849, 3854, 3855, 3856, 3856, 3858, 3869, 3875, 3882, 3882, 3883, 3889, 3902, 3906, 3919, 3924, 3928, 3933, 3946, 3957, 3964, 3964, 3966, 3967, 3969, 3974, 3989, 3991, 3992, 3995, 4003, 4006, 4013, 4021, 4027, 4038, 4040, 4048, 4048, 4052, 4054, 4055, 4060, 4069, 4070, 4071, 4073, 4074, 4079, 4084, 4086, 4098, 4113, 4125, 4130, 4134, 4136, 4145, 4194, 4204, 4212, 4214, 4222, 4236, 4239, 4241, 4242, 4254, 4262, 4269, 4277, 4296, 4296, 4296, 4304, 4309, 4337, 4351, 4361, 4382, 4383, 4397, 4407, 4409, 4412, 4437, 4451, 4456, 4456, 4462, 4475, 4480, 4486, 4490, 4495, 4496, 4520, 4528, 4537, 4544, 4546, 4546, 4548, 4551, 4552, 4554, 4565, 4565, 4569, 4587, 4587, 4588, 4596, 4597, 4607, 4623, 4623, 4632, 4633, 4641, 4657, 4688, 4694, 4698, 4703, 4714, 4720, 4727, 4730, 4730, 4737, 4745, 4772, 4773, 4786, 4787, 4793, 4805, 4808, 4809, 4829, 4829, 4833, 4835, 4847, 4878, 4899, 4899, 4906, 4913, 4925, 4933, 4950, 4950, 4954, 4955, 4956, 4967, 4970, 4972, 4987, 4989, 4999, 5002, 5004, 5010, 5019, 5019, 5039, 5045, 5059, 5060, 5086, 5090, 5092, 5094, 5094, 5100, 5112, 5127, 5141, 5142, 5143, 5150, 5158, 5160, 5162, 5166, 5174, 5175, 5183, 5196, 5207, 5215, 5223, 5260, 5264, 5294, 5301, 5302, 5315, 5318, 5322, 5327, 5337, 5346, 5350, 5352, 5352, 5357, 5358, 5363, 5376, 5386, 5395, 5401, 5450, 5502, 5524, 5575, 5583, 5600, 5609, 5622, 5643, 5652, 5667, 5668, 5670, 5694, 5723, 5725, 5729, 5745, 5746, 5747, 5750, 5752, 5759, 5782, 5791, 5797, 5816, 5820, 5823, 5837, 5884, 5902, 5910, 5912, 5928, 5931, 5967, 5981, 6009, 6014, 6024, 6036, 6059, 6085, 6107, 6109, 6113, 6115, 6118, 6127, 6130, 6132, 6137, 6139, 6148, 6150, 6151, 6151, 6161, 6167, 6184, 6190, 6195, 6196, 6200, 6203, 6217, 6224, 6237, 6253, 6263, 6267, 6269, 6271, 6274, 6275, 6283, 6286, 6300, 6309, 6311, 6329, 6331, 6341, 6370, 6390, 6402, 6446, 6451, 6460, 6496, 6524, 6525, 6526, 6563, 6572, 6574, 6591, 6595, 6665, 6673, 6675, 6687, 6719, 6731, 6735, 6739, 6754, 6783, 6789, 6790, 6807, 6874, 6879, 6888, 6905, 6920, 6940, 6949, 6950, 6969, 7021, 7037, 7057, 7073, 7084, 7084, 7087, 7122, 7128, 7152, 7181, 7205, 7277, 7279, 7286, 7340, 7366, 7370, 7374, 7374, 7389, 7392, 7393, 7403, 7405, 7477, 7482, 7513, 7533, 7590, 7637, 7666, 7677, 7690, 7732, 7747, 7756, 7768, 7768, 7782, 7790, 7790, 7808, 7819, 7829, 7834, 7838, 7882, 7888, 7894, 7895, 7921, 7926, 7936, 7959, 7960, 7988, 8032, 8050, 8061, 8072, 8084, 8110, 8123, 8221, 8244, 8261, 8276, 8289, 8298, 8303, 8312, 8314, 8339, 8418, 8437, 8454, 8455, 8501, 8534, 8575, 8622, 8639, 8666, 8668, 8676, 8711, 8753, 8779, 8784, 8793, 8803, 8818, 8844, 8916, 9057, 9072, 9170, 9200, 9205, 9251, 9261, 9276, 9279, 9301, 9303, 9307, 9326, 9419, 9432, 9447, 9447, 9454, 9475, 9489, 9500, 9523, 9570, 9686, 9716, 9805, 9833, 9889, 9925, 9946, 9946, 9998, 10001, 10001, 10001, 10044, 10044, 10074, 10075, 10108, 10126, 10155, 10160, 10166, 10226, 10230, 10294, 10309, 10320, 10329, 10355, 10515, 10530, 10540, 10626, 10670, 10736, 10820, 10822, 10840, 10847, 10853, 10907, 10929, 10950, 10992, 10999, 11068, 11075, 11231, 11242, 11340, 11357, 11401, 11562, 11573, 11679, 11706, 11761, 11865, 11975, 12050, 12063, 12124, 12137, 12191, 12210, 12252, 12282, 12304, 12312, 12313, 12363, 12410, 12456, 12489, 12490, 12506, 12539, 12544, 12553, 12604, 12656, 12663, 12668, 12669, 12721, 12785, 12802, 12842, 12893, 12911, 12947, 13053, 13077, 13093, 13105, 13110, 13148, 13202, 13249, 13275, 13431, 13479, 13512, 13581, 13629, 13651, 13678, 13688, 13706, 13713, 13734, 13764, 13893, 14118, 14197, 14225, 14371, 14562, 14626, 14667, 14689, 14763, 14909, 14947, 14968, 15051, 15375, 15410, 15492, 15632, 15646, 15676, 15874, 16008, 16150, 16185, 16225, 16335, 16505, 16528, 16602, 16651, 16685, 16814, 17020, 17046, 17223, 17236, 17343, 17467, 17479, 17513, 17569, 17625, 17738, 17743, 17827, 17835, 17876, 17941, 18030, 18089, 18152, 18162, 18254, 18298, 18532, 18741, 18762, 19162, 19264, 19287, 19353, 19399, 19661, 19717, 19876, 19906, 20013, 20149, 20206, 20755, 20873, 21142, 21152, 21329, 21527, 22460, 23604, 24490, 24729, 24813, 25142, 25210, 25274, 25327, 25373, 25600, 25764, 25915, 26321, 26719, 26767, 26982, 27291, 27292, 27739, 28596, 28869, 29115, 30370, 30646, 30936, 31172, 31335, 31456, 32176, 32195, 32524, 32965, 33234, 35028, 35853, 35925, 37141, 37611, 37709, 38033, 39358, 39738, 40011, 40110, 40295, 40644, 42556, 45384, 54366, 56575, 70700, 79363, 80705, 95450, 95739, 96066, 108545], \"yaxis\": \"y\"}],                        {\"barmode\": \"relative\", \"legend\": {\"tracegroupgap\": 0}, \"margin\": {\"t\": 60}, \"template\": {\"data\": {\"bar\": [{\"error_x\": {\"color\": \"#2a3f5f\"}, \"error_y\": {\"color\": \"#2a3f5f\"}, \"marker\": {\"line\": {\"color\": \"#E5ECF6\", \"width\": 0.5}}, \"type\": \"bar\"}], \"barpolar\": [{\"marker\": {\"line\": {\"color\": \"#E5ECF6\", \"width\": 0.5}}, \"type\": \"barpolar\"}], \"carpet\": [{\"aaxis\": {\"endlinecolor\": \"#2a3f5f\", \"gridcolor\": \"white\", \"linecolor\": \"white\", \"minorgridcolor\": \"white\", \"startlinecolor\": \"#2a3f5f\"}, \"baxis\": {\"endlinecolor\": \"#2a3f5f\", \"gridcolor\": \"white\", \"linecolor\": \"white\", \"minorgridcolor\": \"white\", \"startlinecolor\": \"#2a3f5f\"}, \"type\": \"carpet\"}], \"choropleth\": [{\"colorbar\": {\"outlinewidth\": 0, \"ticks\": \"\"}, \"type\": \"choropleth\"}], \"contour\": [{\"colorbar\": {\"outlinewidth\": 0, \"ticks\": \"\"}, \"colorscale\": [[0.0, \"#0d0887\"], [0.1111111111111111, \"#46039f\"], [0.2222222222222222, \"#7201a8\"], [0.3333333333333333, \"#9c179e\"], [0.4444444444444444, \"#bd3786\"], [0.5555555555555556, \"#d8576b\"], [0.6666666666666666, \"#ed7953\"], [0.7777777777777778, \"#fb9f3a\"], [0.8888888888888888, \"#fdca26\"], [1.0, \"#f0f921\"]], \"type\": \"contour\"}], \"contourcarpet\": [{\"colorbar\": {\"outlinewidth\": 0, \"ticks\": \"\"}, \"type\": \"contourcarpet\"}], \"heatmap\": [{\"colorbar\": {\"outlinewidth\": 0, \"ticks\": \"\"}, \"colorscale\": [[0.0, \"#0d0887\"], [0.1111111111111111, \"#46039f\"], [0.2222222222222222, \"#7201a8\"], [0.3333333333333333, \"#9c179e\"], [0.4444444444444444, \"#bd3786\"], [0.5555555555555556, \"#d8576b\"], [0.6666666666666666, \"#ed7953\"], [0.7777777777777778, \"#fb9f3a\"], [0.8888888888888888, \"#fdca26\"], [1.0, \"#f0f921\"]], \"type\": \"heatmap\"}], \"heatmapgl\": [{\"colorbar\": {\"outlinewidth\": 0, \"ticks\": \"\"}, \"colorscale\": [[0.0, \"#0d0887\"], [0.1111111111111111, \"#46039f\"], [0.2222222222222222, \"#7201a8\"], [0.3333333333333333, \"#9c179e\"], [0.4444444444444444, \"#bd3786\"], [0.5555555555555556, \"#d8576b\"], [0.6666666666666666, \"#ed7953\"], [0.7777777777777778, \"#fb9f3a\"], [0.8888888888888888, \"#fdca26\"], [1.0, \"#f0f921\"]], \"type\": \"heatmapgl\"}], \"histogram\": [{\"marker\": {\"colorbar\": {\"outlinewidth\": 0, \"ticks\": \"\"}}, \"type\": \"histogram\"}], \"histogram2d\": [{\"colorbar\": {\"outlinewidth\": 0, \"ticks\": \"\"}, \"colorscale\": [[0.0, \"#0d0887\"], [0.1111111111111111, \"#46039f\"], [0.2222222222222222, \"#7201a8\"], [0.3333333333333333, \"#9c179e\"], [0.4444444444444444, \"#bd3786\"], [0.5555555555555556, \"#d8576b\"], [0.6666666666666666, \"#ed7953\"], [0.7777777777777778, \"#fb9f3a\"], [0.8888888888888888, \"#fdca26\"], [1.0, \"#f0f921\"]], \"type\": \"histogram2d\"}], \"histogram2dcontour\": [{\"colorbar\": {\"outlinewidth\": 0, \"ticks\": \"\"}, \"colorscale\": [[0.0, \"#0d0887\"], [0.1111111111111111, \"#46039f\"], [0.2222222222222222, \"#7201a8\"], [0.3333333333333333, \"#9c179e\"], [0.4444444444444444, \"#bd3786\"], [0.5555555555555556, \"#d8576b\"], [0.6666666666666666, \"#ed7953\"], [0.7777777777777778, \"#fb9f3a\"], [0.8888888888888888, \"#fdca26\"], [1.0, \"#f0f921\"]], \"type\": \"histogram2dcontour\"}], \"mesh3d\": [{\"colorbar\": {\"outlinewidth\": 0, \"ticks\": \"\"}, \"type\": \"mesh3d\"}], \"parcoords\": [{\"line\": {\"colorbar\": {\"outlinewidth\": 0, \"ticks\": \"\"}}, \"type\": \"parcoords\"}], \"pie\": [{\"automargin\": true, \"type\": \"pie\"}], \"scatter\": [{\"marker\": {\"colorbar\": {\"outlinewidth\": 0, \"ticks\": \"\"}}, \"type\": \"scatter\"}], \"scatter3d\": [{\"line\": {\"colorbar\": {\"outlinewidth\": 0, \"ticks\": \"\"}}, \"marker\": {\"colorbar\": {\"outlinewidth\": 0, \"ticks\": \"\"}}, \"type\": \"scatter3d\"}], \"scattercarpet\": [{\"marker\": {\"colorbar\": {\"outlinewidth\": 0, \"ticks\": \"\"}}, \"type\": \"scattercarpet\"}], \"scattergeo\": [{\"marker\": {\"colorbar\": {\"outlinewidth\": 0, \"ticks\": \"\"}}, \"type\": \"scattergeo\"}], \"scattergl\": [{\"marker\": {\"colorbar\": {\"outlinewidth\": 0, \"ticks\": \"\"}}, \"type\": \"scattergl\"}], \"scattermapbox\": [{\"marker\": {\"colorbar\": {\"outlinewidth\": 0, \"ticks\": \"\"}}, \"type\": \"scattermapbox\"}], \"scatterpolar\": [{\"marker\": {\"colorbar\": {\"outlinewidth\": 0, \"ticks\": \"\"}}, \"type\": \"scatterpolar\"}], \"scatterpolargl\": [{\"marker\": {\"colorbar\": {\"outlinewidth\": 0, \"ticks\": \"\"}}, \"type\": \"scatterpolargl\"}], \"scatterternary\": [{\"marker\": {\"colorbar\": {\"outlinewidth\": 0, \"ticks\": \"\"}}, \"type\": \"scatterternary\"}], \"surface\": [{\"colorbar\": {\"outlinewidth\": 0, \"ticks\": \"\"}, \"colorscale\": [[0.0, \"#0d0887\"], [0.1111111111111111, \"#46039f\"], [0.2222222222222222, \"#7201a8\"], [0.3333333333333333, \"#9c179e\"], [0.4444444444444444, \"#bd3786\"], [0.5555555555555556, \"#d8576b\"], [0.6666666666666666, \"#ed7953\"], [0.7777777777777778, \"#fb9f3a\"], [0.8888888888888888, \"#fdca26\"], [1.0, \"#f0f921\"]], \"type\": \"surface\"}], \"table\": [{\"cells\": {\"fill\": {\"color\": \"#EBF0F8\"}, \"line\": {\"color\": \"white\"}}, \"header\": {\"fill\": {\"color\": \"#C8D4E3\"}, \"line\": {\"color\": \"white\"}}, \"type\": \"table\"}]}, \"layout\": {\"annotationdefaults\": {\"arrowcolor\": \"#2a3f5f\", \"arrowhead\": 0, \"arrowwidth\": 1}, \"autotypenumbers\": \"strict\", \"coloraxis\": {\"colorbar\": {\"outlinewidth\": 0, \"ticks\": \"\"}}, \"colorscale\": {\"diverging\": [[0, \"#8e0152\"], [0.1, \"#c51b7d\"], [0.2, \"#de77ae\"], [0.3, \"#f1b6da\"], [0.4, \"#fde0ef\"], [0.5, \"#f7f7f7\"], [0.6, \"#e6f5d0\"], [0.7, \"#b8e186\"], [0.8, \"#7fbc41\"], [0.9, \"#4d9221\"], [1, \"#276419\"]], \"sequential\": [[0.0, \"#0d0887\"], [0.1111111111111111, \"#46039f\"], [0.2222222222222222, \"#7201a8\"], [0.3333333333333333, \"#9c179e\"], [0.4444444444444444, \"#bd3786\"], [0.5555555555555556, \"#d8576b\"], [0.6666666666666666, \"#ed7953\"], [0.7777777777777778, \"#fb9f3a\"], [0.8888888888888888, \"#fdca26\"], [1.0, \"#f0f921\"]], \"sequentialminus\": [[0.0, \"#0d0887\"], [0.1111111111111111, \"#46039f\"], [0.2222222222222222, \"#7201a8\"], [0.3333333333333333, \"#9c179e\"], [0.4444444444444444, \"#bd3786\"], [0.5555555555555556, \"#d8576b\"], [0.6666666666666666, \"#ed7953\"], [0.7777777777777778, \"#fb9f3a\"], [0.8888888888888888, \"#fdca26\"], [1.0, \"#f0f921\"]]}, \"colorway\": [\"#636efa\", \"#EF553B\", \"#00cc96\", \"#ab63fa\", \"#FFA15A\", \"#19d3f3\", \"#FF6692\", \"#B6E880\", \"#FF97FF\", \"#FECB52\"], \"font\": {\"color\": \"#2a3f5f\"}, \"geo\": {\"bgcolor\": \"white\", \"lakecolor\": \"white\", \"landcolor\": \"#E5ECF6\", \"showlakes\": true, \"showland\": true, \"subunitcolor\": \"white\"}, \"hoverlabel\": {\"align\": \"left\"}, \"hovermode\": \"closest\", \"mapbox\": {\"style\": \"light\"}, \"paper_bgcolor\": \"white\", \"plot_bgcolor\": \"#E5ECF6\", \"polar\": {\"angularaxis\": {\"gridcolor\": \"white\", \"linecolor\": \"white\", \"ticks\": \"\"}, \"bgcolor\": \"#E5ECF6\", \"radialaxis\": {\"gridcolor\": \"white\", \"linecolor\": \"white\", \"ticks\": \"\"}}, \"scene\": {\"xaxis\": {\"backgroundcolor\": \"#E5ECF6\", \"gridcolor\": \"white\", \"gridwidth\": 2, \"linecolor\": \"white\", \"showbackground\": true, \"ticks\": \"\", \"zerolinecolor\": \"white\"}, \"yaxis\": {\"backgroundcolor\": \"#E5ECF6\", \"gridcolor\": \"white\", \"gridwidth\": 2, \"linecolor\": \"white\", \"showbackground\": true, \"ticks\": \"\", \"zerolinecolor\": \"white\"}, \"zaxis\": {\"backgroundcolor\": \"#E5ECF6\", \"gridcolor\": \"white\", \"gridwidth\": 2, \"linecolor\": \"white\", \"showbackground\": true, \"ticks\": \"\", \"zerolinecolor\": \"white\"}}, \"shapedefaults\": {\"line\": {\"color\": \"#2a3f5f\"}}, \"ternary\": {\"aaxis\": {\"gridcolor\": \"white\", \"linecolor\": \"white\", \"ticks\": \"\"}, \"baxis\": {\"gridcolor\": \"white\", \"linecolor\": \"white\", \"ticks\": \"\"}, \"bgcolor\": \"#E5ECF6\", \"caxis\": {\"gridcolor\": \"white\", \"linecolor\": \"white\", \"ticks\": \"\"}}, \"title\": {\"x\": 0.05}, \"xaxis\": {\"automargin\": true, \"gridcolor\": \"white\", \"linecolor\": \"white\", \"ticks\": \"\", \"title\": {\"standoff\": 15}, \"zerolinecolor\": \"white\", \"zerolinewidth\": 2}, \"yaxis\": {\"automargin\": true, \"gridcolor\": \"white\", \"linecolor\": \"white\", \"ticks\": \"\", \"title\": {\"standoff\": 15}, \"zerolinecolor\": \"white\", \"zerolinewidth\": 2}}}, \"xaxis\": {\"anchor\": \"y\", \"domain\": [0.0, 1.0], \"title\": {\"text\": \"StockCode\"}}, \"yaxis\": {\"anchor\": \"x\", \"domain\": [0.0, 1.0], \"title\": {\"text\": \"Quantity\"}}},                        {\"responsive\": true}                    ).then(function(){\n",
              "                            \n",
              "var gd = document.getElementById('475a61b6-d4e4-4f26-9d6d-9c7dbfdc09db');\n",
              "var x = new MutationObserver(function (mutations, observer) {{\n",
              "        var display = window.getComputedStyle(gd).display;\n",
              "        if (!display || display === 'none') {{\n",
              "            console.log([gd, 'removed!']);\n",
              "            Plotly.purge(gd);\n",
              "            observer.disconnect();\n",
              "        }}\n",
              "}});\n",
              "\n",
              "// Listen for the removal of the full notebook cells\n",
              "var notebookContainer = gd.closest('#notebook-container');\n",
              "if (notebookContainer) {{\n",
              "    x.observe(notebookContainer, {childList: true});\n",
              "}}\n",
              "\n",
              "// Listen for the clearing of the current output cell\n",
              "var outputEl = gd.closest('.output');\n",
              "if (outputEl) {{\n",
              "    x.observe(outputEl, {childList: true});\n",
              "}}\n",
              "\n",
              "                        })                };                            </script>        </div>\n",
              "</body>\n",
              "</html>"
            ]
          },
          "metadata": {
            "tags": []
          }
        }
      ]
    },
    {
      "cell_type": "code",
      "metadata": {
        "id": "1OBDO6nkVSE1"
      },
      "source": [
        "best_30 = sum.tail(30)"
      ],
      "execution_count": 128,
      "outputs": []
    },
    {
      "cell_type": "code",
      "metadata": {
        "colab": {
          "base_uri": "https://localhost:8080/",
          "height": 542
        },
        "id": "O5aN274wVomn",
        "outputId": "cd0d1aea-96d7-41db-e3a5-8822c45de1cd"
      },
      "source": [
        "fig = px.bar(best_30 , x='StockCode', y='Quantity')\n",
        "fig.show()"
      ],
      "execution_count": 129,
      "outputs": [
        {
          "output_type": "display_data",
          "data": {
            "text/html": [
              "<html>\n",
              "<head><meta charset=\"utf-8\" /></head>\n",
              "<body>\n",
              "    <div>            <script src=\"https://cdnjs.cloudflare.com/ajax/libs/mathjax/2.7.5/MathJax.js?config=TeX-AMS-MML_SVG\"></script><script type=\"text/javascript\">if (window.MathJax) {MathJax.Hub.Config({SVG: {font: \"STIX-Web\"}});}</script>                <script type=\"text/javascript\">window.PlotlyConfig = {MathJaxConfig: 'local'};</script>\n",
              "        <script src=\"https://cdn.plot.ly/plotly-latest.min.js\"></script>                <div id=\"0e26056e-d68e-4a04-984d-1ac84052a1ff\" class=\"plotly-graph-div\" style=\"height:525px; width:100%;\"></div>            <script type=\"text/javascript\">                                    window.PLOTLYENV=window.PLOTLYENV || {};                                    if (document.getElementById(\"0e26056e-d68e-4a04-984d-1ac84052a1ff\")) {                    Plotly.newPlot(                        \"0e26056e-d68e-4a04-984d-1ac84052a1ff\",                        [{\"alignmentgroup\": \"True\", \"hovertemplate\": \"StockCode=%{x}<br>Quantity=%{y}<extra></extra>\", \"legendgroup\": \"\", \"marker\": {\"color\": \"#636efa\"}, \"name\": \"\", \"offsetgroup\": \"\", \"orientation\": \"v\", \"showlegend\": false, \"textposition\": \"auto\", \"type\": \"bar\", \"x\": [\"21975\", \"20724\", \"21982\", \"22355\", \"71459\", \"22952\", \"84992\", \"85099F\", \"22086\", \"21915\", \"84946\", \"84568\", \"21232\", \"22386\", \"22178\", \"20725\", \"84755\", \"22616\", \"21213\", \"15036\", \"22492\", \"84991\", \"21977\", \"17003\", \"22197\", \"84879\", \"21212\", \"85099B\", \"85123A\", \"84077\"], \"xaxis\": \"x\", \"y\": [31456, 32176, 32195, 32524, 32965, 33234, 35028, 35853, 35925, 37141, 37611, 37709, 38033, 39358, 39738, 40011, 40110, 40295, 40644, 42556, 45384, 54366, 56575, 70700, 79363, 80705, 95450, 95739, 96066, 108545], \"yaxis\": \"y\"}],                        {\"barmode\": \"relative\", \"legend\": {\"tracegroupgap\": 0}, \"margin\": {\"t\": 60}, \"template\": {\"data\": {\"bar\": [{\"error_x\": {\"color\": \"#2a3f5f\"}, \"error_y\": {\"color\": \"#2a3f5f\"}, \"marker\": {\"line\": {\"color\": \"#E5ECF6\", \"width\": 0.5}}, \"type\": \"bar\"}], \"barpolar\": [{\"marker\": {\"line\": {\"color\": \"#E5ECF6\", \"width\": 0.5}}, \"type\": \"barpolar\"}], \"carpet\": [{\"aaxis\": {\"endlinecolor\": \"#2a3f5f\", \"gridcolor\": \"white\", \"linecolor\": \"white\", \"minorgridcolor\": \"white\", \"startlinecolor\": \"#2a3f5f\"}, \"baxis\": {\"endlinecolor\": \"#2a3f5f\", \"gridcolor\": \"white\", \"linecolor\": \"white\", \"minorgridcolor\": \"white\", \"startlinecolor\": \"#2a3f5f\"}, \"type\": \"carpet\"}], \"choropleth\": [{\"colorbar\": {\"outlinewidth\": 0, \"ticks\": \"\"}, \"type\": \"choropleth\"}], \"contour\": [{\"colorbar\": {\"outlinewidth\": 0, \"ticks\": \"\"}, \"colorscale\": [[0.0, \"#0d0887\"], [0.1111111111111111, \"#46039f\"], [0.2222222222222222, \"#7201a8\"], [0.3333333333333333, \"#9c179e\"], [0.4444444444444444, \"#bd3786\"], [0.5555555555555556, \"#d8576b\"], [0.6666666666666666, \"#ed7953\"], [0.7777777777777778, \"#fb9f3a\"], [0.8888888888888888, \"#fdca26\"], [1.0, \"#f0f921\"]], \"type\": \"contour\"}], \"contourcarpet\": [{\"colorbar\": {\"outlinewidth\": 0, \"ticks\": \"\"}, \"type\": \"contourcarpet\"}], \"heatmap\": [{\"colorbar\": {\"outlinewidth\": 0, \"ticks\": \"\"}, \"colorscale\": [[0.0, \"#0d0887\"], [0.1111111111111111, \"#46039f\"], [0.2222222222222222, \"#7201a8\"], [0.3333333333333333, \"#9c179e\"], [0.4444444444444444, \"#bd3786\"], [0.5555555555555556, \"#d8576b\"], [0.6666666666666666, \"#ed7953\"], [0.7777777777777778, \"#fb9f3a\"], [0.8888888888888888, \"#fdca26\"], [1.0, \"#f0f921\"]], \"type\": \"heatmap\"}], \"heatmapgl\": [{\"colorbar\": {\"outlinewidth\": 0, \"ticks\": \"\"}, \"colorscale\": [[0.0, \"#0d0887\"], [0.1111111111111111, \"#46039f\"], [0.2222222222222222, \"#7201a8\"], [0.3333333333333333, \"#9c179e\"], [0.4444444444444444, \"#bd3786\"], [0.5555555555555556, \"#d8576b\"], [0.6666666666666666, \"#ed7953\"], [0.7777777777777778, \"#fb9f3a\"], [0.8888888888888888, \"#fdca26\"], [1.0, \"#f0f921\"]], \"type\": \"heatmapgl\"}], \"histogram\": [{\"marker\": {\"colorbar\": {\"outlinewidth\": 0, \"ticks\": \"\"}}, \"type\": \"histogram\"}], \"histogram2d\": [{\"colorbar\": {\"outlinewidth\": 0, \"ticks\": \"\"}, \"colorscale\": [[0.0, \"#0d0887\"], [0.1111111111111111, \"#46039f\"], [0.2222222222222222, \"#7201a8\"], [0.3333333333333333, \"#9c179e\"], [0.4444444444444444, \"#bd3786\"], [0.5555555555555556, \"#d8576b\"], [0.6666666666666666, \"#ed7953\"], [0.7777777777777778, \"#fb9f3a\"], [0.8888888888888888, \"#fdca26\"], [1.0, \"#f0f921\"]], \"type\": \"histogram2d\"}], \"histogram2dcontour\": [{\"colorbar\": {\"outlinewidth\": 0, \"ticks\": \"\"}, \"colorscale\": [[0.0, \"#0d0887\"], [0.1111111111111111, \"#46039f\"], [0.2222222222222222, \"#7201a8\"], [0.3333333333333333, \"#9c179e\"], [0.4444444444444444, \"#bd3786\"], [0.5555555555555556, \"#d8576b\"], [0.6666666666666666, \"#ed7953\"], [0.7777777777777778, \"#fb9f3a\"], [0.8888888888888888, \"#fdca26\"], [1.0, \"#f0f921\"]], \"type\": \"histogram2dcontour\"}], \"mesh3d\": [{\"colorbar\": {\"outlinewidth\": 0, \"ticks\": \"\"}, \"type\": \"mesh3d\"}], \"parcoords\": [{\"line\": {\"colorbar\": {\"outlinewidth\": 0, \"ticks\": \"\"}}, \"type\": \"parcoords\"}], \"pie\": [{\"automargin\": true, \"type\": \"pie\"}], \"scatter\": [{\"marker\": {\"colorbar\": {\"outlinewidth\": 0, \"ticks\": \"\"}}, \"type\": \"scatter\"}], \"scatter3d\": [{\"line\": {\"colorbar\": {\"outlinewidth\": 0, \"ticks\": \"\"}}, \"marker\": {\"colorbar\": {\"outlinewidth\": 0, \"ticks\": \"\"}}, \"type\": \"scatter3d\"}], \"scattercarpet\": [{\"marker\": {\"colorbar\": {\"outlinewidth\": 0, \"ticks\": \"\"}}, \"type\": \"scattercarpet\"}], \"scattergeo\": [{\"marker\": {\"colorbar\": {\"outlinewidth\": 0, \"ticks\": \"\"}}, \"type\": \"scattergeo\"}], \"scattergl\": [{\"marker\": {\"colorbar\": {\"outlinewidth\": 0, \"ticks\": \"\"}}, \"type\": \"scattergl\"}], \"scattermapbox\": [{\"marker\": {\"colorbar\": {\"outlinewidth\": 0, \"ticks\": \"\"}}, \"type\": \"scattermapbox\"}], \"scatterpolar\": [{\"marker\": {\"colorbar\": {\"outlinewidth\": 0, \"ticks\": \"\"}}, \"type\": \"scatterpolar\"}], \"scatterpolargl\": [{\"marker\": {\"colorbar\": {\"outlinewidth\": 0, \"ticks\": \"\"}}, \"type\": \"scatterpolargl\"}], \"scatterternary\": [{\"marker\": {\"colorbar\": {\"outlinewidth\": 0, \"ticks\": \"\"}}, \"type\": \"scatterternary\"}], \"surface\": [{\"colorbar\": {\"outlinewidth\": 0, \"ticks\": \"\"}, \"colorscale\": [[0.0, \"#0d0887\"], [0.1111111111111111, \"#46039f\"], [0.2222222222222222, \"#7201a8\"], [0.3333333333333333, \"#9c179e\"], [0.4444444444444444, \"#bd3786\"], [0.5555555555555556, \"#d8576b\"], [0.6666666666666666, \"#ed7953\"], [0.7777777777777778, \"#fb9f3a\"], [0.8888888888888888, \"#fdca26\"], [1.0, \"#f0f921\"]], \"type\": \"surface\"}], \"table\": [{\"cells\": {\"fill\": {\"color\": \"#EBF0F8\"}, \"line\": {\"color\": \"white\"}}, \"header\": {\"fill\": {\"color\": \"#C8D4E3\"}, \"line\": {\"color\": \"white\"}}, \"type\": \"table\"}]}, \"layout\": {\"annotationdefaults\": {\"arrowcolor\": \"#2a3f5f\", \"arrowhead\": 0, \"arrowwidth\": 1}, \"autotypenumbers\": \"strict\", \"coloraxis\": {\"colorbar\": {\"outlinewidth\": 0, \"ticks\": \"\"}}, \"colorscale\": {\"diverging\": [[0, \"#8e0152\"], [0.1, \"#c51b7d\"], [0.2, \"#de77ae\"], [0.3, \"#f1b6da\"], [0.4, \"#fde0ef\"], [0.5, \"#f7f7f7\"], [0.6, \"#e6f5d0\"], [0.7, \"#b8e186\"], [0.8, \"#7fbc41\"], [0.9, \"#4d9221\"], [1, \"#276419\"]], \"sequential\": [[0.0, \"#0d0887\"], [0.1111111111111111, \"#46039f\"], [0.2222222222222222, \"#7201a8\"], [0.3333333333333333, \"#9c179e\"], [0.4444444444444444, \"#bd3786\"], [0.5555555555555556, \"#d8576b\"], [0.6666666666666666, \"#ed7953\"], [0.7777777777777778, \"#fb9f3a\"], [0.8888888888888888, \"#fdca26\"], [1.0, \"#f0f921\"]], \"sequentialminus\": [[0.0, \"#0d0887\"], [0.1111111111111111, \"#46039f\"], [0.2222222222222222, \"#7201a8\"], [0.3333333333333333, \"#9c179e\"], [0.4444444444444444, \"#bd3786\"], [0.5555555555555556, \"#d8576b\"], [0.6666666666666666, \"#ed7953\"], [0.7777777777777778, \"#fb9f3a\"], [0.8888888888888888, \"#fdca26\"], [1.0, \"#f0f921\"]]}, \"colorway\": [\"#636efa\", \"#EF553B\", \"#00cc96\", \"#ab63fa\", \"#FFA15A\", \"#19d3f3\", \"#FF6692\", \"#B6E880\", \"#FF97FF\", \"#FECB52\"], \"font\": {\"color\": \"#2a3f5f\"}, \"geo\": {\"bgcolor\": \"white\", \"lakecolor\": \"white\", \"landcolor\": \"#E5ECF6\", \"showlakes\": true, \"showland\": true, \"subunitcolor\": \"white\"}, \"hoverlabel\": {\"align\": \"left\"}, \"hovermode\": \"closest\", \"mapbox\": {\"style\": \"light\"}, \"paper_bgcolor\": \"white\", \"plot_bgcolor\": \"#E5ECF6\", \"polar\": {\"angularaxis\": {\"gridcolor\": \"white\", \"linecolor\": \"white\", \"ticks\": \"\"}, \"bgcolor\": \"#E5ECF6\", \"radialaxis\": {\"gridcolor\": \"white\", \"linecolor\": \"white\", \"ticks\": \"\"}}, \"scene\": {\"xaxis\": {\"backgroundcolor\": \"#E5ECF6\", \"gridcolor\": \"white\", \"gridwidth\": 2, \"linecolor\": \"white\", \"showbackground\": true, \"ticks\": \"\", \"zerolinecolor\": \"white\"}, \"yaxis\": {\"backgroundcolor\": \"#E5ECF6\", \"gridcolor\": \"white\", \"gridwidth\": 2, \"linecolor\": \"white\", \"showbackground\": true, \"ticks\": \"\", \"zerolinecolor\": \"white\"}, \"zaxis\": {\"backgroundcolor\": \"#E5ECF6\", \"gridcolor\": \"white\", \"gridwidth\": 2, \"linecolor\": \"white\", \"showbackground\": true, \"ticks\": \"\", \"zerolinecolor\": \"white\"}}, \"shapedefaults\": {\"line\": {\"color\": \"#2a3f5f\"}}, \"ternary\": {\"aaxis\": {\"gridcolor\": \"white\", \"linecolor\": \"white\", \"ticks\": \"\"}, \"baxis\": {\"gridcolor\": \"white\", \"linecolor\": \"white\", \"ticks\": \"\"}, \"bgcolor\": \"#E5ECF6\", \"caxis\": {\"gridcolor\": \"white\", \"linecolor\": \"white\", \"ticks\": \"\"}}, \"title\": {\"x\": 0.05}, \"xaxis\": {\"automargin\": true, \"gridcolor\": \"white\", \"linecolor\": \"white\", \"ticks\": \"\", \"title\": {\"standoff\": 15}, \"zerolinecolor\": \"white\", \"zerolinewidth\": 2}, \"yaxis\": {\"automargin\": true, \"gridcolor\": \"white\", \"linecolor\": \"white\", \"ticks\": \"\", \"title\": {\"standoff\": 15}, \"zerolinecolor\": \"white\", \"zerolinewidth\": 2}}}, \"xaxis\": {\"anchor\": \"y\", \"domain\": [0.0, 1.0], \"title\": {\"text\": \"StockCode\"}}, \"yaxis\": {\"anchor\": \"x\", \"domain\": [0.0, 1.0], \"title\": {\"text\": \"Quantity\"}}},                        {\"responsive\": true}                    ).then(function(){\n",
              "                            \n",
              "var gd = document.getElementById('0e26056e-d68e-4a04-984d-1ac84052a1ff');\n",
              "var x = new MutationObserver(function (mutations, observer) {{\n",
              "        var display = window.getComputedStyle(gd).display;\n",
              "        if (!display || display === 'none') {{\n",
              "            console.log([gd, 'removed!']);\n",
              "            Plotly.purge(gd);\n",
              "            observer.disconnect();\n",
              "        }}\n",
              "}});\n",
              "\n",
              "// Listen for the removal of the full notebook cells\n",
              "var notebookContainer = gd.closest('#notebook-container');\n",
              "if (notebookContainer) {{\n",
              "    x.observe(notebookContainer, {childList: true});\n",
              "}}\n",
              "\n",
              "// Listen for the clearing of the current output cell\n",
              "var outputEl = gd.closest('.output');\n",
              "if (outputEl) {{\n",
              "    x.observe(outputEl, {childList: true});\n",
              "}}\n",
              "\n",
              "                        })                };                            </script>        </div>\n",
              "</body>\n",
              "</html>"
            ]
          },
          "metadata": {
            "tags": []
          }
        }
      ]
    },
    {
      "cell_type": "code",
      "metadata": {
        "id": "OeAqRQgPXkPn"
      },
      "source": [
        "sum = sum.sort_values('ganancia')"
      ],
      "execution_count": 130,
      "outputs": []
    },
    {
      "cell_type": "code",
      "metadata": {
        "colab": {
          "base_uri": "https://localhost:8080/",
          "height": 542
        },
        "id": "GgcvXQoJZuPX",
        "outputId": "63122708-b125-488f-f577-da3bab74ebae"
      },
      "source": [
        "fig = px.bar(sum, x='StockCode', y='ganancia')\n",
        "fig.show()"
      ],
      "execution_count": 131,
      "outputs": [
        {
          "output_type": "display_data",
          "data": {
            "text/html": [
              "<html>\n",
              "<head><meta charset=\"utf-8\" /></head>\n",
              "<body>\n",
              "    <div>            <script src=\"https://cdnjs.cloudflare.com/ajax/libs/mathjax/2.7.5/MathJax.js?config=TeX-AMS-MML_SVG\"></script><script type=\"text/javascript\">if (window.MathJax) {MathJax.Hub.Config({SVG: {font: \"STIX-Web\"}});}</script>                <script type=\"text/javascript\">window.PlotlyConfig = {MathJaxConfig: 'local'};</script>\n",
              "        <script src=\"https://cdn.plot.ly/plotly-latest.min.js\"></script>                <div id=\"943d166d-f486-426f-802e-28d991498009\" class=\"plotly-graph-div\" style=\"height:525px; width:100%;\"></div>            <script type=\"text/javascript\">                                    window.PLOTLYENV=window.PLOTLYENV || {};                                    if (document.getElementById(\"943d166d-f486-426f-802e-28d991498009\")) {                    Plotly.newPlot(                        \"943d166d-f486-426f-802e-28d991498009\",                        [{\"alignmentgroup\": \"True\", \"hovertemplate\": \"StockCode=%{x}<br>ganancia=%{y}<extra></extra>\", \"legendgroup\": \"\", \"marker\": {\"color\": \"#636efa\"}, \"name\": \"\", \"offsetgroup\": \"\", \"orientation\": \"v\", \"showlegend\": false, \"textposition\": \"auto\", \"type\": \"bar\", \"x\": [\"AMAZONFEE\", \"B\", \"M\", \"BANK CHARGES\", \"D\", \"CRUK\", \"S\", \"20879\", \"22003\", \"85069\", \"79340W\", \"PADS\", \"21766\", \"35603B\", \"21701\", \"79301\", \"21315\", \"79340P\", \"20779\", \"35976B\", \"47567\", \"21254\", \"35001C\", \"85043\", \"21346\", \"85219\", \"21053\", \"37451\", \"85083\", \"35631B\", \"84897A\", \"DCGS0057\", \"DCGS0073\", \"20955\", \"35442\", \"84395\", \"72331R\", \"72140D\", \"21909\", \"72348B\", \"85148\", \"16155H\", \"21104\", \"84849C\", \"10124C\", \"21176\", \"37490C\", \"21514\", \"20822\", \"84933D\", \"72620A\", \"45008L\", \"21170\", \"84873B\", \"35960\", \"84825\", \"84250H\", \"21325\", \"DCGS0060\", \"70037L\", \"35473\", \"84247D\", \"84810C\", \"75132\", \"85105\", \"21113\", \"84460A\", \"84938\", \"44276\", \"20690\", \"16248A\", \"18096B\", \"DCGS0066P\", \"16200A\", \"21227\", \"79070B\", \"37452B\", \"79315B\", \"84750C\", \"20791\", \"20844\", \"82039C\", \"DCGS0056\", \"84600A\", \"35926\", \"35813A\", \"79003B\", \"35935\", \"21022\", \"72719\", \"21342\", \"21021\", \"21023\", \"47285B\", \"21602\", \"47284V\", \"84448\", \"90197C\", \"90080\", \"84871\", \"37445D\", \"84476A\", \"DCGS0067\", \"90005B\", \"84394\", \"79053D\", \"20900\", \"84248F\", \"16156A\", \"84449\", \"21295\", \"84896C\", \"16249B\", \"84866\", \"72801H\", \"82595\", \"21776\", \"21512\", \"21005\", \"71265\", \"21236\", \"72671B\", \"21510\", \"47569\", \"84867B\", \"47559\", \"85207B\", \"84341A\", \"84511\", \"84898E\", \"21083\", \"15060A\", \"16132\", \"21057\", \"84845B\", \"35794\", \"DCGS0059\", \"84344\", \"72798A\", \"35591G\", \"82609\", \"GIFT\", \"20946\", \"72754C\", \"72806\", \"84775\", \"48169\", \"47595B\", \"84904\", \"72768\", \"20852\", \"84705E\", \"84927C\", \"20911\", \"35990\", \"84671A\", \"72483\", \"21487\", \"21148\", \"35600A\", \"79309A\", \"21505\", \"84811A\", \"79165\", \"72778\", \"48172\", \"84928\", \"21859\", \"90121A\", \"84877C\", \"84899A\", \"20743\", \"85098A\", \"22213\", \"79053B\", \"85184A\", \"71028A\", \"16195\", \"44217M\", \"23843\", \"72732\", \"21029\", \"47347A\", \"84558B\", \"20995\", \"49031B\", \"23001\", \"44242C\", \"35751A\", \"20691\", \"20880\", \"20859\", \"79069A\", \"72777\", \"gift_0001_60\", \"gift_0001_80\", \"gift_0001_90\", \"84986A\", \"84247B\", \"23595\", \"84940\", \"35980A\", \"72655C\", \"35977B\", \"35975B\", \"85025A\", \"85231D\", \"20959\", \"35994\", \"71409B\", \"21362\", \"47340B\", \"35592T\", \"21492\", \"47009\", \"79053A\", \"72759\", \"21863\", \"21862\", \"84699\", \"16222B\", \"DCGS0053\", \"21753\", \"72809\", \"79065B\", \"21273\", \"84752B\", \"44266F\", \"21920\", \"84585L\", \"21301\", \"84642\", \"79082C\", \"90197A\", \"16245B\", \"21183\", \"79057B\", \"37504\", \"18033\", \"85051\", \"DCGS0071\", \"17017\", \"72798B\", \"37445C\", \"21601\", \"85056\", \"84494B\", \"21525\", \"21048\", \"16065A\", \"35232\", \"72045A\", \"DCGS0036\", \"DCGS0074\", \"21047\", \"82576\", \"72748\", \"21345\", \"84248E\", \"84874A\", \"16131\", \"84972M\", \"DCGS0055\", \"85057\", \"90097\", \"20720\", \"47340A\", \"21855\", \"79333\", \"21052\", \"18094A\", \"21475\", \"21835\", \"37445A\", \"79302J\", \"DCGS0006\", \"72755A\", \"17120\", \"79064C\", \"79302C\", \"DCGS0027\", \"DCGS0016\", \"DCGS0039\", \"82096\", \"84672A\", \"71263G\", \"84597A\", \"85017D\", \"84519D\", \"37493C\", \"85073\", \"84681\", \"37493B\", \"84010\", \"37490D\", \"16240\", \"84706E\", \"45007B\", \"79071A\", \"20715\", \"37493D\", \"17013A\", \"72752D\", \"84389\", \"17014B\", \"90107\", \"20883\", \"21583\", \"35632A\", \"21020\", \"21778\", \"21019\", \"37452A\", \"35941\", \"35940\", \"16243A\", \"20944\", \"20965\", \"20904\", \"35956\", \"22022\", \"35900\", \"84444C\", \"15002\", \"35992\", \"85085A\", \"79142\", \"72697A\", \"85086B\", \"17160\", \"72752C\", \"17084F\", \"84641\", \"84718\", \"35983\", \"72226D\", \"84195\", \"20938\", \"35993\", \"35605A\", \"21496\", \"35631A\", \"84571\", \"85074\", \"37350\", \"85226B\", \"85223\", \"85231K\", \"17010S\", \"37365Y\", \"37353\", \"20937\", \"72038B\", \"21646\", \"71406B\", \"16255\", \"84841\", \"82577\", \"17013E\", \"DCGSLGIRL\", \"79023B\", \"35908C\", \"85231A\", \"84439B\", \"71431\", \"20951\", \"90110\", \"21502\", \"16169H\", \"72234\", \"35949\", \"84224\", \"35643\", \"20824\", \"35630B\", \"85193S\", \"85120\", \"35763\", \"21182\", \"37477D\", \"47565\", \"35925\", \"72024HC\", \"47581A\", \"C3\", \"35975A\", \"22126\", \"35948\", \"35839\", \"35608A\", \"84248B\", \"35978\", \"84440B\", \"23059\", \"90109\", \"DCGSLBOY\", \"84200\", \"21024\", \"84402C\", \"21177\", \"72751D\", \"16210\", \"90172\", \"72755B\", \"35608C\", \"90117\", \"16161N\", \"20710\", \"16201C\", \"20885\", \"47361\", \"35471B\", \"85037\", \"35604B\", \"22850\", \"84205C\", \"35930\", \"51014c\", \"20721\", \"TEST002\", \"35950\", \"84845A\", \"35980B\", \"21585\", \"23664\", \"85024A\", \"72796C\", \"85231e\", \"10109\", \"72754D\", \"20737\", \"30086C\", \"35837\", \"84206B\", \"84201C\", \"84206C\", \"84814A\", \"35945\", \"46138D\", \"85192S\", \"17061\", \"84510b\", \"84596l\", \"85049c\", \"23630\", \"90127B\", \"21290\", \"21225\", \"47593a\", \"21008\", \"DCGS0062\", \"17028J\", \"90091\", \"35999\", \"47556\", \"20881\", \"85171\", \"47554\", \"21036\", \"DCGS0044\", \"90183c\", \"23628\", \"23602\", \"23609\", \"84985b\", \"20683\", \"23643\", \"84559d\", \"21081\", \"35818C\", \"35001P\", \"84731\", \"40046C\", \"35974\", \"90004A\", \"35995\", \"72084B\", \"37432\", \"46776e\", \"46776b\", \"84255A\", \"47594a\", \"72752A\", \"79157V\", \"79157B\", \"21409\", \"72529w\", \"81953B\", \"45014\", \"90214U\", \"85049d\", \"84971l\", \"85232C\", \"84661b\", \"47593b\", \"23649\", \"84596j\", \"20877\", \"79151B\", \"72740B\", \"DCGS0041\", \"84942\", \"90142C\", \"90142B\", \"71434B\", \"71101A\", \"21854\", \"21860\", \"16215\", \"16010\", \"35751D\", \"21838\", \"35537\", \"23617\", \"23652\", \"23638\", \"37326\", \"85186B\", \"35051B\", \"35823P\", \"35821P\", \"18098A\", \"79303A\", \"85184d\", \"72751B\", \"85077\", \"72751A\", \"72751C\", \"85123b\", \"79051a\", \"23610\", \"37408\", \"20673\", \"20942\", \"82072\", \"79140\", \"20884\", \"85231b\", \"20678\", \"20858\", \"23604\", \"85185E\", \"48173A\", \"37484\", \"37409\", \"84705b\", \"85230D\", \"85230C\", \"84201B\", \"23633\", \"82613a\", \"46037A\", \"37438\", \"82011E\", \"90025A\", \"84029c\", \"85034b\", \"72802c\", \"23612\", \"90111\", \"44091A\", \"84030b\", \"90126B\", \"84572\", \"90013E\", \"20739\", \"21406\", \"71496B\", \"18098B\", \"35598C\", \"20882\", \"62097A\", \"90184c\", \"72708\", \"23441\", \"81953P\", \"85231g\", \"85049b\", \"84971s\", \"84534b\", \"23650\", \"23615\", \"23619\", \"23624\", \"84661a\", \"84661c\", \"90214W\", \"85232d\", \"20939\", \"85124b\", \"21857\", \"21858\", \"16169A\", \"16169G\", \"17084G\", \"84536b\", \"84732D\", \"72785B\", \"47590a\", \"17011B\", \"35918B\", \"51012L\", \"84366\", \"79070b\", \"90025B\", \"23608\", \"23605\", \"85179a\", \"22206\", \"44242A\", \"90000C\", \"84596g\", \"23654\", \"23635\", \"84743C\", \"35751C\", \"35004p\", \"85157\", \"DCGS0075\", \"DCGS0037\", \"84648\", \"21772\", \"72752B\", \"44092B\", \"20812\", \"84247J\", \"84989b\", \"78056\", \"16192\", \"35004s\", \"85159b\", \"23607\", \"23639\", \"62097B\", \"79149B\", \"85039b\", \"84867a\", \"79342b\", \"35443\", \"84814B\", \"35936\", \"35597A\", \"16245A\", \"84406b\", \"21852\", \"84868A\", \"23634\", \"90011D\", \"SP1002\", \"84567\", \"35650\", \"84509g\", \"23621\", \"90068\", \"23449\", \"84206A\", \"m\", \"17174\", \"85124c\", \"84509e\", \"79323B\", \"37481\", \"21853\", \"21560\", \"84912a\", \"35932\", \"84250M\", \"84630\", \"62074B\", \"90102\", \"47503J \", \"85160b\", \"10124G\", \"85036a\", \"84031a\", \"84031b\", \"23644\", \"44089A\", \"72785A\", \"21511\", \"37488A\", \"47591c\", \"72805\", \"72803b\", \"84993b\", \"DCGS0068\", \"84796b\", \"DCGS0066N\", \"37482b\", \"90077\", \"23627\", \"90182B\", \"72801e\", \"18097B\", \"84614C\", \"71050\", \"21450\", \"84986b\", \"84311\", \"72796A\", \"84732B\", \"90025D\", \"84030B\", \"81950V\", \"79062D\", \"20680\", \"37487B\", \"84570B\", \"23646\", \"90127A\", \"23601\", \"23616\", \"90082C\", \"84536a\", \"85232a\", \"79172D\", \"10002R\", \"46776a\", \"DCGS0072\", \"84868B\", \"23692\", \"21387\", \"44092C\", \"84387A\", \"35652\", \"47552A\", \"90214Z\", \"23645\", \"23640\", \"90189B\", \"85225\", \"84450A\", \"37477C\", \"90025C\", \"90095\", \"84456\", \"23623\", \"85040b\", \"90011E\", \"47556b\", \"17014F\", \"90128D\", \"79302m\", \"84575B\", \"84611B\", \"37494a\", \"35596\", \"35633B\", \"84550\", \"85034a\", \"23620\", \"35591T\", \"72801g\", \"21594\", \"35597D\", \"90055\", \"85036b\", \"85035c\", \"DCGS0070\", \"90142A\", \"20954\", \"90041\", \"85164b\", \"10124A\", \"90182A\", \"90214Y\", \"23636\", \"84876C\", \"90025E\", \"17013F\", \"23702\", \"90187A\", \"84867b\", \"23613\", \"23637\", \"90128B\", \"90128C\", \"17091F\", \"90053\", \"21097\", \"44089C\", \"46776f\", \"10138\", \"90027A\", \"35598A\", \"40005B\", \"84985a\", \"22351\", \"79065A\", \"21685\", \"21767\", \"37489C\", \"90176E\", \"47563B\", \"37491B\", \"18010\", \"90025F\", \"90076\", \"21919\", \"37348\", \"44091C\", \"37489D\", \"84745A\", \"78034B\", \"23632\", \"84608\", \"20952\", \"90214O\", \"90214V\", \"37489B\", \"82613c\", \"DCGS0003\", \"84596b\", \"85079\", \"47591b\", \"90066A\", \"85035a\", \"21120\", \"44265\", \"35955\", \"84546\", \"90081B\", \"37482p\", \"DCGS0058\", \"82613b\", \"84510e\", \"79063D\", \"90011C\", \"85184c\", \"47504J\", \"84745B\", \"90037D\", \"90141D\", \"17014E\", \"16162M\", \"72715\", \"84251J\", \"90126A\", \"84509b\", \"37112\", \"79413\", \"90039A\", \"85115B\", \"90176B\", \"47518f\", \"90177A\", \"90182C\", \"90183C\", \"90027B\", \"90130D\", \"85184B\", \"47567b\", \"82545A\", \"47013C\", \"90214F\", \"35963\", \"47013A\", \"20994\", \"37468\", \"90152A\", \"90136\", \"90132\", \"44228\", \"84798C\", \"21119\", \"18096c\", \"90027C\", \"90152B\", \"23448\", \"90059B\", \"90060B\", \"90060C\", \"90152C\", \"15060b\", \"20860\", \"72771C\", \"90126C\", \"90024A\", \"21596\", \"84993a\", \"84857B\", \"23038\", \"35822P\", \"90042B\", \"79063C\", \"17014C\", \"35815B\", \"90125E\", \"90084\", \"35085E\", \"84586L\", \"90011A\", \"79066k\", \"72796B\", \"90197D\", \"90135\", \"23625\", \"35233\", \"72724\", \"16161C\", \"35809a\", \"35611B\", \"84626\", \"85132c\", \"72024U\", \"47341A\", \"16050\", \"84705F\", \"90001A\", \"20988\", \"84596f\", \"90181C\", \"84227\", \"90067B\", \"37462E\", \"35909B\", \"20895\", \"85081\", \"21347\", \"90083\", \"90054\", \"35603C\", \"18097A\", \"84845C\", \"35644\", \"84537B\", \"17013C\", \"90052\", \"72129\", \"23603\", \"90141E\", \"72083A\", \"37489A\", \"85124a\", \"85035b\", \"90001B\", \"90001C\", \"84968b\", \"84968f\", \"84612B\", \"20964\", \"35071\", \"90128A\", \"84845D\", \"84951b\", \"37491A\", \"20870\", \"84660a\", \"84030C\", \"90202B\", \"35001B\", \"85023A\", \"84402B\", \"20953\", \"90046\", \"90043\", \"90142D\", \"90135A\", \"72798C\", \"85151\", \"90214I\", \"84559b\", \"22657\", \"46115B\", \"90214T\", \"84803B\", \"85023C\", \"47344B\", \"85080\", \"37477B\", \"90002E\", \"35821B\", \"35816B\", \"21343\", \"84226\", \"90033\", \"81985A\", \"17129C\", \"35909A\", \"90011B\", \"35654\", \"44241C\", \"gift_0001_70\", \"90171\", \"90021\", \"84292B\", \"23629\", \"90059C\", \"84875A\", \"90034\", \"84660b\", \"35910B\", \"40002\", \"35817B\", \"90214P\", \"20620\", \"72771B\", \"90176C\", \"35607B\", \"84529B\", \"90050\", \"37491D\", \"20905\", \"90188\", \"85018A\", \"85018B\", \"84582\", \"35973\", \"79534\", \"47348A\", \"84551\", \"90092\", \"16256C\", \"47016\", \"90179B\", \"90088\", \"79406\", \"84493\", \"84340\", \"79329\", \"17136A\", \"85072\", \"90037A\", \"35819P\", \"72045D\", \"47341B\", \"84926B\", \"90212C\", \"90024F\", \"90078\", \"84864A\", \"90026B\", \"90026C\", \"84086B\", \"DCGS0004\", \"90177E\", \"90121B\", \"84857A\", \"90176A\", \"71215\", \"90037C\", \"72140F\", \"20820\", \"90131\", \"84705A\", \"90059F\", \"90141B\", \"90205A\", \"20958\", \"47420\", \"90179A\", \"90037B\", \"84415A\", \"84925C\", \"35937\", \"90038C\", \"21950\", \"90031\", \"90027D\", \"84427B\", \"16151A\", \"84899E\", \"90202A\", \"84447\", \"79331\", \"15030\", \"90074\", \"90187B\", \"62043B\", \"90012A\", \"21267\", \"84757\", \"72807a\", \"72802a\", \"37399\", \"90064B\", \"16161E\", \"90176D\", \"90140\", \"84746\", \"35815P\", \"90020\", \"37509\", \"90100\", \"90130C\", \"84425A\", \"84247H\", \"84593\", \"90202C\", \"90214B\", \"90060D\", \"35931\", \"72709\", \"84455\", \"84251C\", \"90064A\", \"90038B\", \"84548\", \"84795E\", \"90125B\", \"90049\", \"90206A\", \"90214N\", \"DCGS0069\", \"17011E\", \"84596I\", \"16201B\", \"35610C\", \"90214H\", \"21699\", \"90069\", \"90130A\", \"90189A\", \"90002B\", \"90039B\", \"72779\", \"22016\", \"90141C\", \"84251F\", \"84251B\", \"84450B\", \"81952B\", \"16051\", \"46775B\", \"17027A\", \"90183B\", \"35838B\", \"90026D\", \"90059E\", \"85099c\", \"84454\", \"90012B\", \"84424A\", \"23614\", \"37462B\", \"35265\", \"35822B\", \"23442\", \"84415B\", \"71495A\", \"84721\", \"90214G\", \"84596e\", \"35638A\", \"90162D\", \"90162A\", \"47598\", \"90001D\", \"35271S\", \"20816\", \"23574\", \"72783\", \"90039C\", \"79026B\", \"84388\", \"84437A\", \"90169\", \"90112\", \"20660\", \"90177B\", \"90118\", \"84753A\", \"90075\", \"17084A\", \"84575A\", \"90214D\", \"90026A\", \"21595\", \"72606A\", \"84967A\", \"71406C\", \"84891B\", \"35594\", \"72821\", \"35913B\", \"90089\", \"85132b\", \"17007B\", \"90067A\", \"84679\", \"16161G\", \"90150\", \"84613A\", \"84705D\", \"20835\", \"90174\", \"90163B\", \"90059D\", \"21266\", \"84559a\", \"23464\", \"90214R\", \"10123G\", \"84465\", \"23611\", \"78027\", \"90177C\", \"75172\", \"84968d\", \"20861\", \"85050\", \"17084J\", \"72369A\", \"90125C\", \"90024C\", \"16248B\", \"35910A\", \"21337\", \"21118\", \"90079\", \"16169D\", \"84458\", \"84867A\", \"22987\", \"72038P\", \"35840\", \"90165A\", \"84562B\", \"20697\", \"23626\", \"35096B\", \"72753C\", \"35610A\", \"20667\", \"90168\", \"84751B\", \"85185F\", \"90048\", \"82069\", \"90141A\", \"90103\", \"35966\", \"71510\", \"84539\", \"90104\", \"44236\", \"16043\", \"90179C\", \"84249A\", \"84705B\", \"90030A\", \"21089\", \"17090D\", \"90018C\", \"20698\", \"84765\", \"84462\", \"20848\", \"90071\", \"90108\", \"84921\", \"23185\", \"16206B\", \"71495B\", \"90003E\", \"23151\", \"90002C\", \"84288B\", \"35824C\", \"84510E\", \"20896\", \"90139\", \"20887\", \"90101\", \"35607A\", \"85190\", \"84199\", \"90051\", \"79532\", \"23467\", \"35916B\", \"44242B\", \"35916A\", \"90205C\", \"79308B\", \"21228\", \"23477\", \"17191A\", \"90202D\", \"90162C\", \"90177D\", \"84614A\", \"82607E\", \"23578\", \"16053\", \"81950B\", \"gift_0001_10\", \"84367\", \"23303\", \"16168S\", \"85018C\", \"84782B\", \"90024D\", \"84559D\", \"84251G\", \"90181A\", \"84858A\", \"85160a\", \"10080\", \"84886\", \"37471\", \"90190A\", \"20899\", \"84925E\", \"16119\", \"22888\", \"84656\", \"90138\", \"72133\", \"35933\", \"90165B\", \"47592B\", \"45013\", \"79191D\", \"90137\", \"90190B\", \"46137D\", \"35609A\", \"35980C\", \"84555A\", \"35015\", \"22879\", \"16020C\", \"77079\", \"17011D\", \"90038A\", \"90024E\", \"90023\", \"90022\", \"35824P\", \"72134\", \"90214E\", \"84558a\", \"84549\", \"90156\", \"35816P\", \"72754B\", \"23304\", \"90199D\", \"23463\", \"10120\", \"78026\", \"90040C\", \"90194\", \"84617\", \"47590b\", \"90183A\", \"72740A\", \"21102\", \"79192A\", \"90036B\", \"90003B\", \"84874B\", \"90093\", \"35610B\", \"90016C\", \"46138B\", \"16054\", \"90002A\", \"84510c\", \"84622\", \"84720\", \"90214M\", \"47351B\", \"84709A\", \"90040D\", \"17108D\", \"21310\", \"84527\", \"90042C\", \"79161A\", \"90059A\", \"84927A\", \"16202E\", \"90199A\", \"84989a\", \"47518F\", \"84723\", \"72801c\", \"23496\", \"84924F\", \"90099\", \"90212B\", \"85166A\", \"47369A\", \"20664\", \"84914A\", \"17178\", \"72140E\", \"23468\", \"90030C\", \"84228\", \"23417\", \"21489\", \"20693\", \"37379A\", \"82587\", \"48175\", \"90204\", \"90214L\", \"22864\", \"90125A\", \"90214J\", \"23305\", \"84599\", \"81952V\", \"22887\", \"21353\", \"90123C\", \"90042A\", \"90214K\", \"71496A\", \"90162B\", \"21461\", \"85024C\", \"90214C\", \"47369B\", \"23694\", \"90185C\", \"gift_0001_40\", \"90129D\", \"84231\", \"90039D\", \"90123B\", \"72351a\", \"21087\", \"85205A\", \"90065B\", \"90166\", \"37491C\", \"85040a\", \"37479P\", \"90063B\", \"90190C\", \"84706C\", \"84706B\", \"35916C\", \"85185C\", \"90186B\", \"90123D\", \"75011\", \"84452\", \"90003C\", \"90018B\", \"17014A\", \"90019B\", \"22886\", \"84927D\", \"84564\", \"82607C\", \"84968a\", \"90072\", \"85132a\", \"84531B\", \"90000B\", \"90060F\", \"90013D\", \"90063A\", \"90151\", \"17011A\", \"84661C\", \"84962\", \"90180B\", \"47347B\", \"35818B\", \"21031\", \"22330\", \"84531A\", \"90214S\", \"37379B\", \"84464\", \"20957\", \"20796\", \"90185A\", \"84029D\", \"84803A\", \"90211A\", \"84926C\", \"23416\", \"35911B\", \"20968\", \"79144C\", \"35838A\", \"85114a\", \"84877A\", \"90029\", \"90065A\", \"85114b\", \"79144B\", \"90086\", \"20837\", \"84510a\", \"90159\", \"79403\", \"85128\", \"90210C\", \"47570b\", \"90178B\", \"84899F\", \"84255B\", \"84893\", \"20814\", \"90094\", \"21582\", \"35819B\", \"90130B\", \"72051S\", \"90129F\", \"23697\", \"84985B\", \"85070\", \"90090\", \"90040A\", \"84855\", \"47504F\", \"16202A\", \"84797a\", \"90000A\", \"84706F\", \"90144\", \"90003D\", \"20672\", \"72754A\", \"48103\", \"37506\", \"90085\", \"TEST001\", \"20890\", \"35824B\", \"90024B\", \"21018\", \"17014D\", \"20836\", \"84927E\", \"90058A\", \"84247N\", \"84690\", \"84247K\", \"37485\", \"90016A\", \"90185B\", \"21400\", \"90036F\", \"20827\", \"16201A\", \"51012C\", \"90210A\", \"90087\", \"90214A\", \"37492A\", \"84313A\", \"47574B\", \"22885\", \"84805A\", \"48179\", \"21543\", \"84744\", \"22883\", \"21368\", \"84247C\", \"90036A\", \"84807\", \"35793\", \"35817P\", \"72781\", \"20821\", \"22881\", \"85168A\", \"90056\", \"72225D\", \"47343A\", \"90123A\", \"90211B\", \"90124C\", \"62086A\", \"17090A\", \"84725\", \"72807b\", \"17013B\", \"90005A\", \"17011C\", \"16258B\", \"21639\", \"82585\", \"85039a\", \"90125D\", \"23149\", \"90019C\", \"35597B\", \"84461\", \"84966A\", \"90155\", \"23003\", \"72750D\", \"90186A\", \"84705C\", \"35833G\", \"71028B\", \"35809B\", \"90122B\", \"22884\", \"23446\", \"90164A\", \"90116\", \"16202C\", \"90170\", \"23447\", \"16256B\", \"35991\", \"84797b\", \"84629\", \"37483\", \"23036\", \"17084P\", \"21460\", \"84796a\", \"21226\", \"20736\", \"90199B\", \"47587A\", \"20891\", \"90133\", \"20940\", \"21369\", \"23580\", \"37508\", \"20855\", \"82553\", \"22880\", \"90210D\", \"23143\", \"23475\", \"82011A\", \"90210B\", \"10123C\", \"90119\", \"35818P\", \"90036C\", \"84621\", \"23465\", \"72739C\", \"84030c\", \"90129C\", \"46307\", \"84993B\", \"90181B\", \"DCGSSBOY\", \"79338\", \"21493\", \"90081A\", \"gift_0001_50\", \"47503H\", \"85232b\", \"90196B\", \"72801d\", \"90081C\", \"84597B\", \"84627\", \"84660c\", \"84371\", \"85179C\", \"22882\", \"84520b\", \"90035A\", \"47591A\", \"79328\", \"84482\", \"90073\", \"72799D\", \"85095\", \"90146\", \"17038\", \"84806A\", \"21268\", \"22876\", \"84613C\", \"72793\", \"90040B\", \"21032\", \"21370\", \"23476\", \"22877\", \"90096\", \"79303D\", \"22873\", \"85195\", \"21321\", \"90157\", \"47481\", \"20818\", \"72753D\", \"84625B\", \"90122C\", \"90129E\", \"44234\", \"90028\", \"23474\", \"90032\", \"22874\", \"84499\", \"84926F\", \"20980\", \"22868\", \"22875\", \"84924D\", \"23141\", \"16052\", \"84927F\", \"21193\", \"23137\", \"35979\", \"21372\", \"84966C\", \"21412\", \"75178\", \"35096A\", \"90122A\", \"84457\", \"20663\", \"47586A\", \"90163A\", \"23481\", \"21095\", \"85049g\", \"23410\", \"84977\", \"18096C\", \"82093\", \"84770\", \"37413\", \"90014C\", \"37444B\", \"20987\", \"72812\", \"23015\", \"22871\", \"21144\", \"23567\", \"20826\", \"84529A\", \"85147\", \"37422\", \"DCGS0076\", \"20670\", \"72801F\", \"16212\", \"90196A\", \"90185D\", \"21388\", \"21367\", \"20795\", \"47578A\", \"84192\", \"21697\", \"84508C\", \"DCGSSGIRL\", \"90098\", \"35920\", \"20869\", \"90115\", \"84882\", \"84800S\", \"17001\", \"35981C\", \"90030B\", \"22954\", \"90124A\", \"23440\", \"90035C\", \"47471\", \"79190D\", \"35645\", \"23430\", \"90129A\", \"20800\", \"21030\", \"84926A\", \"16254\", \"90209A\", \"23495\", \"47593A\", \"77081\", \"44235\", \"21196\", \"84661A\", \"84933B\", \"90036D\", \"84623\", \"62095B\", \"22872\", \"84906\", \"84219\", \"84671B\", \"90016B\", \"22889\", \"84838\", \"35638B\", \"46000U\", \"84522\", \"90160A\", \"90175B\", \"84933A\", \"84673A\", \"21309\", \"85167A\", \"84933C\", \"84795b\", \"21401\", \"85033S\", \"90197B\", \"23695\", \"84509E\", \"23478\", \"17091B\", \"23037\", \"20799\", \"84706A\", \"22878\", \"84902\", \"17012E\", \"85131C\", \"72739B\", \"35921\", \"90018A\", \"85024B\", \"35637C\", \"90148\", \"90070\", \"22257\", \"85089\", \"47583B\", \"90000D\", \"20688\", \"21402\", \"90173\", \"90201C\", \"23047\", \"17109A\", \"20847\", \"90129B\", \"37467\", \"84576\", \"21420\", \"84925A\", \"79303B\", \"75149N\", \"17011F\", \"72811\", \"21722\", \"84870B\", \"72130\", \"84249D\", \"22039\", \"90191\", \"85129B\", \"21306\", \"35004c\", \"85109\", \"20666\", \"84801B\", \"35914\", \"84535A\", \"84881\", \"90175C\", \"84809B\", \"84800M\", \"82011B\", \"35833P\", \"78033\", \"84870C\", \"84802A\", \"23421\", \"20950\", \"23420\", \"16216\", \"90014B\", \"20865\", \"72487\", \"84680\", \"84711B\", \"79190A\", \"35912B\", \"90178A\", \"90036E\", \"84402D\", \"21946\", \"23661\", \"46000R\", \"21038\", \"23579\", \"90164B\", \"35968\", \"85094\", \"90161A\", \"90019A\", \"35915A\", \"90013C\", \"47504G\", \"23575\", \"47503G\", \"84898F\", \"79336\", \"85026B\", \"84926D\", \"90201A\", \"84798A\", \"90134\", \"84741C\", \"85033G\", \"22870\", \"20906\", \"23459\", \"47562\", \"79191B\", \"90208\", \"20976\", \"84533B\", \"84292\", \"90002D\", \"90035B\", \"85097B\", \"16162L\", \"16258A\", \"16202B\", \"84081\", \"90082A\", \"85007\", \"84760S\", \"84429A\", \"23039\", \"23150\", \"23337\", \"16044\", \"79051A\", \"22869\", \"23116\", \"90201D\", \"84726\", \"84877D\", \"90158\", \"90180A\", \"84673B\", \"20889\", \"84497\", \"16156L\", \"90010A\", \"20857\", \"90120A\", \"23429\", \"23576\", \"84984C\", \"45016\", \"84932B\", \"90124B\", \"82076\", \"23415\", \"72801E\", \"84984D\", \"23339\", \"84510C\", \"72803B\", \"72780\", \"21252\", \"84595B\", \"16169F\", \"84422\", \"90149\", \"21341\", \"84711A\", \"84873A\", \"21698\", \"90206C\", \"85112\", \"84804A\", \"84529C\", \"37444A\", \"23045\", \"21336\", \"90013A\", \"35240\", \"21025\", \"84532B\", \"20851\", \"21736\", \"22032\", \"84007\", \"84967C\", \"46126A\", \"47579\", \"90201B\", \"21729\", \"84762A\", \"16008\", \"16207A\", \"72789\", \"20662\", \"90184A\", \"85230G\", \"21028\", \"84801A\", \"21520\", \"84966B\", \"22395\", \"16045\", \"84968e\", \"84802B\", \"23058\", \"84858B\", \"90082B\", \"21678\", \"37464\", \"84510F\", \"84859B\", \"23044\", \"79030A\", \"16161M\", \"90154\", \"16243B\", \"62096B\", \"84857C\", \"21027\", \"90013B\", \"21663\", \"84597C\", \"35004S\", \"90198B\", \"17164D\", \"84601A\", \"82081\", \"23548\", \"72225C\", \"23509\", \"84984A\", \"20621\", \"21757\", \"23023\", \"16218\", \"47422\", \"90120B\", \"72128\", \"16207B\", \"84782C\", \"84508B\", \"90145\", \"20616\", \"84972L\", \"72801D\", \"84948\", \"85211\", \"85204\", \"21536\", \"51020A\", \"23379\", \"85136B\", \"85014a\", \"84952A\", \"72799B\", \"35471A\", \"35911A\", \"79071B\", \"84884a\", \"90120C\", \"gift_0001_20\", \"40046A\", \"37492C\", \"90192\", \"23561\", \"72750C\", \"85030\", \"23422\", \"85091\", \"21518\", \"16244A\", \"85170B\", \"85027L\", \"22038\", \"23691\", \"22259\", \"72127\", \"84926E\", \"84901\", \"84798B\", \"23218\", \"84875D\", \"22407\", \"20793\", \"21459\", \"72132\", \"23466\", \"84876B\", \"90160B\", \"51020B\", \"16239\", \"22031\", \"84799\", \"84809A\", \"20864\", \"23117\", \"85230A\", \"35600D\", \"21132\", \"16219\", \"84877B\", \"90014A\", \"23560\", \"20845\", \"90010E\", \"37352\", \"20753\", \"23021\", \"22541\", \"84218\", \"84615\", \"35967\", \"84915\", \"20654\", \"21882\", \"23660\", \"84247L\", \"35810B\", \"21117\", \"79337\", \"84842\", \"84989B\", \"21734\", \"23136\", \"72807c\", \"23139\", \"90195B\", \"84706D\", \"84970l\", \"20868\", \"90114\", \"23336\", \"46118\", \"85090\", \"90160D\", \"20804\", \"22861\", \"72728\", \"16169P\", \"85226C\", \"84657\", \"16168M\", \"85179A\", \"84875B\", \"85023B\", \"85142\", \"84931A\", \"23060\", \"21160\", \"21418\", \"21403\", \"85039C\", \"71143\", \"72801C\", \"84984B\", \"21943\", \"84827\", \"90058B\", \"20653\", \"84804B\", \"84661B\", \"71270\", \"84414B\", \"20823\", \"16048\", \"23398\", \"21017\", \"22394\", \"20659\", \"21373\", \"90203\", \"84596K\", \"84592\", \"20943\", \"23074\", \"23043\", \"85119\", \"21339\", \"90175D\", \"35969\", \"72267\", \"23484\", \"20888\", \"23549\", \"84675\", \"37423\", \"85129C\", \"47021G\", \"20794\", \"84683\", \"84509c\", \"84805B\", \"21311\", \"84859C\", \"23473\", \"90120D\", \"85169C\", \"23457\", \"23016\", \"85129A\", \"20838\", \"21371\", \"35922\", \"84306\", \"23451\", \"85020\", \"16049\", \"37345\", \"23272\", \"20935\", \"47583A\", \"21881\", \"84773\", \"85071D\", \"16169C\", \"85014b\", \"23381\", \"84806B\", \"47559b\", \"23219\", \"84569C\", \"23069\", \"85086A\", \"23455\", \"90143\", \"22044\", \"85202\", \"84876D\", \"85169B\", \"17013D\", \"84932D\", \"23125\", \"21419\", \"20781\", \"84682\", \"23565\", \"16238\", \"47421\", \"23537\", \"47469\", \"21016\", \"85019C\", \"90195A\", \"84934\", \"84925D\", \"21553\", \"23499\", \"90010B\", \"21893\", \"21256\", \"85230B\", \"37444C\", \"21167\", \"21322\", \"23377\", \"21173\", \"84963B\", \"21304\", \"85113\", \"20695\", \"21223\", \"85092\", \"20849\", \"16236\", \"84569B\", \"84924A\", \"72122\", \"20689\", \"84707B\", \"82605\", \"85146\", \"22263\", \"84766\", \"85117\", \"84846A\", \"17109D\", \"85028S\", \"84932A\", \"82011C\", \"20863\", \"23425\", \"23520\", \"79190B\", \"85169D\", \"21440\", \"84932C\", \"85017C\", \"84563B\", \"62096A\", \"85028L\", \"gift_0001_30\", \"21416\", \"84858C\", \"20694\", \"35972\", \"79315W\", \"23018\", \"37351\", \"22538\", \"84859A\", \"18094C\", \"23408\", \"72772\", \"23180\", \"82095\", \"90199C\", \"90198A\", \"21764\", \"84507C\", \"16156N\", \"20655\", \"84051\", \"85218\", \"84596J\", \"85114c\", \"16012\", \"82616A\", \"22346\", \"21004\", \"71101E\", \"23456\", \"23471\", \"23027\", \"85230E\", \"15056p\", \"23019\", \"22043\", \"22092\", \"84964A\", \"23216\", \"84520D\", \"23453\", \"20696\", \"22054\", \"20819\", \"23492\", \"16169N\", \"47592A\", \"23224\", \"47594A\", \"21665\", \"35004P\", \"85186C\", \"16169M\", \"85160B\", \"85188B\", \"16047\", \"21816\", \"90184B\", \"84247G\", \"47597\", \"23042\", \"17181\", \"22391\", \"46776D\", \"17084N\", \"21350\", \"21003\", \"85185D\", \"21197\", \"21134\", \"20714\", \"17164B\", \"20618\", \"21298\", \"85215\", \"21307\", \"71403\", \"17109C\", \"23428\", \"84824\", \"22042\", \"84993A\", \"23482\", \"22056\", \"23547\", \"85168B\", \"21265\", \"23024\", \"23120\", \"21247\", \"17012D\", \"23597\", \"21441\", \"16169K\", \"85205B\", \"72023F\", \"84684\", \"37492D\", \"85203\", \"46776E\", \"20856\", \"37474\", \"21884\", \"21879\", \"75013B\", \"20898\", \"21750\", \"84916\", \"22036\", \"23187\", \"90184C\", \"21847\", \"22034\", \"21263\", \"62094B\", \"85084\", \"17165D\", \"90160C\", \"84986B\", \"85231E\", \"22033\", \"23458\", \"84865\", \"20862\", \"21308\", \"72753A\", \"72131\", \"84952B\", \"85096\", \"17012F\", \"72755D\", \"84689\", \"21319\", \"84931B\", \"35964\", \"84971L\", \"84584\", \"22981\", \"21674\", \"23222\", \"84917\", \"20763\", \"90082D\", \"84872a\", \"90161D\", \"84563A\", \"22486\", \"84869\", \"21386\", \"23487\", \"21740\", \"21443\", \"22345\", \"23070\", \"21442\", \"23055\", \"10134\", \"23325\", \"16015\", \"21344\", \"85186A\", \"20850\", \"21300\", \"21076\", \"22641\", \"84976\", \"85088\", \"84033\", \"82613A\", \"23140\", \"35915B\", \"21457\", \"35951\", \"84595E\", \"84569A\", \"20701\", \"20854\", \"23114\", \"85006\", \"21379\", \"22936\", \"23522\", \"79342B\", \"35095A\", \"20657\", \"23562\", \"21026\", \"21378\", \"ADJUST2\", \"21365\", \"23006\", \"85230F\", \"84708B\", \"23435\", \"84715\", \"47503F\", \"22100\", \"79030D\", \"21133\", \"84625D\", \"85135A\", \"21503\", \"21221\", \"21377\", \"23223\", \"84821\", \"23454\", \"23022\", \"90209C\", \"35647\", \"23025\", \"23324\", \"84653\", \"17165B\", \"85110\", \"72800A\", \"21194\", \"23124\", \"90209B\", \"16259\", \"72755C\", \"47581B\", \"21001\", \"84663A\", \"23123\", \"21415\", \"21554\", \"84761\", \"23282\", \"22638\", \"85131B\", \"84620\", \"35811A\", \"90161B\", \"84762C\", \"20833\", \"72750A\", \"23550\", \"84782A\", \"22124\", \"16244B\", \"84952C\", \"84029C\", \"90200A\", \"47594B\", \"23335\", \"22825\", \"90200B\", \"35095B\", \"85145\", \"21456\", \"23409\", \"22640\", \"20661\", \"22408\", \"20989\", \"37461\", \"85130C\", \"23106\", \"37494A\", \"21455\", \"85044\", \"72799C\", \"23115\", \"23568\", \"84847\", \"84712B\", \"45008C\", \"23519\", \"22447\", \"35915C\", \"23521\", \"72529W\", \"20910\", \"22058\", \"20997\", \"21015\", \"21454\", \"84632\", \"21723\", \"84247E\", \"20901\", \"85017A\", \"22229\", \"84534B\", \"84951B\", \"85188A\", \"84767\", \"84922\", \"47574A\", \"23186\", \"72801G\", \"23017\", \"84970s\", \"16011\", \"21222\", \"84849A\", \"17012A\", \"20769\", \"20897\", \"22344\", \"22135\", \"85187\", \"37333\", \"23071\", \"22289\", \"82613C\", \"85196\", \"21374\", \"21551\", \"21552\", \"85161\", \"90200E\", \"84826\", \"20699\", \"21635\", \"23004\", \"84920\", \"21185\", \"84951A\", \"85213\", \"21654\", \"20776\", \"84762B\", \"17039\", \"21255\", \"16046\", \"40018E\", \"23551\", \"23564\", \"85231L\", \"85121B\", \"20936\", \"84509a\", \"21719\", \"47367B\", \"21375\", \"47563A\", \"90161C\", \"21458\", \"84817\", \"84660A\", \"22820\", \"17107D\", \"84929\", \"85071C\", \"20894\", \"22510\", \"85208\", \"20756\", \"17033\", \"20941\", \"23423\", \"84578\", \"23220\", \"21376\", \"21320\", \"21393\", \"21478\", \"37424\", \"21318\", \"85166B\", \"20803\", \"84820\", \"21293\", \"21128\", \"21414\", \"85194S\", \"23002\", \"23099\", \"85165\", \"22547\", \"21338\", \"72799A\", \"84925F\", \"90200C\", \"23413\", \"23479\", \"20991\", \"21480\", \"17012B\", \"22248\", \"79323G\", \"23072\", \"84666\", \"20759\", \"84600\", \"84760L\", \"17109B\", \"23502\", \"84919\", \"21062\", \"21444\", \"20913\", \"37492B\", \"84974\", \"22647\", \"21270\", \"46000P\", \"85031B\", \"84660B\", \"23532\", \"90175A\", \"85121C\", \"85019A\", \"23338\", \"22164\", \"37330\", \"21335\", \"21147\", \"22707\", \"72349b\", \"21331\", \"21303\", \"23472\", \"21676\", \"82607A\", \"85226A\", \"35598B\", \"21264\", \"84086C\", \"46776C\", \"37482P\", \"20757\", \"21007\", \"90147\", \"85214\", \"21702\", \"85130B\", \"22143\", \"22102\", \"21724\", \"21220\", \"22703\", \"20903\", \"20831\", \"18007\", \"23178\", \"72800C\", \"84800L\", \"23179\", \"84664\", \"85111\", \"21720\", \"47504E\", \"85160A\", \"21299\", \"82001s\", \"22096\", \"84963A\", \"21129\", \"23183\", \"84816\", \"20775\", \"85189\", \"85031A\", \"22994\", \"35954\", \"23540\", \"20778\", \"20830\", \"85019B\", \"85032C\", \"84907\", \"84341B\", \"85124B\", \"23460\", \"21805\", \"72753B\", \"21641\", \"21636\", \"47589\", \"84466\", \"85032B\", \"85018D\", \"21726\", \"21208\", \"21060\", \"23514\", \"17012C\", \"20892\", \"23518\", \"20758\", \"71279\", \"85197\", \"20998\", \"23380\", \"21562\", \"85130D\", \"72814\", \"84873a\", \"22104\", \"20774\", \"23512\", \"22512\", \"21850\", \"21691\", \"21417\", \"84918\", \"84686\", \"82616B\", \"20878\", \"22108\", \"78124\", \"85071A\", \"85025B\", \"21427\", \"84964B\", \"85049e\", \"72484\", \"20773\", \"20705\", \"84660C\", \"82613B\", \"23517\", \"22529\", \"35958\", \"20617\", \"20730\", \"21127\", \"23533\", \"72586\", \"23281\", \"23121\", \"21250\", \"72750B\", \"21084\", \"23153\", \"21392\", \"47310M\", \"84625C\", \"23544\", \"85170C\", \"84905\", \"85126\", \"23107\", \"21836\", \"85124A\", \"85031C\", \"23452\", \"22420\", \"20619\", \"35923\", \"35653\", \"35599B\", \"84596L\", \"85104\", \"23545\", \"84709B\", \"84985A\", \"22247\", \"46775A\", \"84405A\", \"22643\", \"22717\", \"85180B\", \"23088\", \"21202\", \"23347\", \"22049\", \"20783\", \"21904\", \"22266\", \"21014\", \"21721\", \"20652\", \"22856\", \"22995\", \"82616C\", \"21664\", \"23419\", \"22860\", \"84908A\", \"23327\", \"84030e\", \"21814\", \"84965A\", \"22806\", \"85144\", \"22953\", \"84908B\", \"79191C\", \"20671\", \"22134\", \"35651\", \"21825\", \"23056\", \"22857\", \"37327\", \"85179B\", \"72815\", \"23331\", \"23516\", \"21725\", \"20840\", \"21827\", \"21779\", \"20839\", \"23113\", \"72800D\", \"22389\", \"22105\", \"20782\", \"23033\", \"21061\", \"72800F\", \"35646\", \"23433\", \"22821\", \"21269\", \"85163A\", \"23087\", \"21763\", \"85099f\", \"84791\", \"85078\", \"85008\", \"23041\", \"22511\", \"84923\", \"22997\", \"23102\", \"79323S\", \"22230\", \"20934\", \"22709\", \"23432\", \"84631\", \"85118\", \"21839\", \"85093\", \"20932\", \"21690\", \"84989A\", \"22233\", \"84707A\", \"84509C\", \"84559B\", \"21131\", \"84638\", \"21632\", \"23513\", \"37479B\", \"20755\", \"21010\", \"23225\", \"84358\", \"21758\", \"23375\", \"21666\", \"84967B\", \"84596E\", \"20615\", \"85131D\", \"23411\", \"47504H\", \"84750A\", \"22116\", \"17096\", \"21944\", \"22255\", \"23510\", \"22532\", \"20700\", \"37482B\", \"21040\", \"85224\", \"22598\", \"84750B\", \"85212\", \"84360\", \"20832\", \"23506\", \"17021\", \"22715\", \"21942\", \"21555\", \"22040\", \"84830\", \"23057\", \"21817\", \"21316\", \"23402\", \"21649\", \"23523\", \"20622\", \"20669\", \"23566\", \"20867\", \"21752\", \"21413\", \"72598\", \"23507\", \"84688\", \"21490\", \"85159A\", \"21312\", \"23431\", \"23269\", \"22718\", \"23508\", \"22253\", \"84910A\", \"23515\", \"22048\", \"23418\", \"85124C\", \"84823\", \"37475\", \"84678\", \"22264\", \"23026\", \"22814\", \"84687\", \"84674\", \"22924\", \"22903\", \"21425\", \"21806\", \"22615\", \"21815\", \"23444\", \"47503E\", \"22252\", \"20731\", \"21650\", \"84313B\", \"22256\", \"21396\", \"20798\", \"84815\", \"21130\", \"23142\", \"21366\", \"85129D\", \"85162A\", \"22761\", \"22403\", \"21279\", \"22808\", \"20771\", \"21261\", \"22265\", \"72232\", \"23598\", \"72819\", \"23138\", \"84625A\", \"22258\", \"84559A\", \"23539\", \"22216\", \"79066K\", \"20825\", \"21438\", \"84665\", \"20707\", \"21145\", \"40003\", \"21883\", \"21088\", \"20893\", \"23511\", \"22232\", \"22921\", \"23067\", \"21549\", \"22062\", \"79163\", \"20866\", \"85163B\", \"23462\", \"22280\", \"22290\", \"22268\", \"48173c\", \"85136A\", \"85130A\", \"77101A\", \"22929\", \"20733\", \"21253\", \"22923\", \"22919\", \"21759\", \"21689\", \"20777\", \"21248\", \"22999\", \"22214\", \"22181\", \"46775E\", \"21063\", \"20765\", \"85231G\", \"22701\", \"22267\", \"84609\", \"46776A\", \"85141\", \"21926\", \"21880\", \"17091A\", \"85170D\", \"16225\", \"35648\", \"85025C\", \"82613D\", \"20738\", \"22097\", \"85098B\", \"22543\", \"85200\", \"21842\", \"21277\", \"23373\", \"72800B\", \"23221\", \"23405\", \"21285\", \"84658\", \"20760\", \"15034\", \"72818\", \"22893\", \"22339\", \"21219\", \"20933\", \"21530\", \"22269\", \"21209\", \"84569D\", \"20993\", \"16235\", \"23538\", \"21580\", \"85032A\", \"22684\", \"22051\", \"23469\", \"23414\", \"21775\", \"22050\", \"20704\", \"47593B\", \"22481\", \"21059\", \"17129D\", \"23061\", \"23000\", \"84616\", \"22918\", \"85071B\", \"21945\", \"23249\", \"35598D\", \"84965B\", \"21634\", \"35649\", \"21281\", \"21278\", \"35599D\", \"20762\", \"35957\", \"35962\", \"23546\", \"84685\", \"84819\", \"22393\", \"23119\", \"23376\", \"84396\", \"46776B\", \"84562A\", \"47503K\", \"21190\", \"22250\", \"23250\", \"23470\", \"22916\", \"21532\", \"47503A\", \"21395\", \"22685\", \"23040\", \"21684\", \"85087\", \"22920\", \"22977\", \"22984\", \"85135B\", \"85017B\", \"22756\", \"21910\", \"21738\", \"23104\", \"23527\", \"90200D\", \"21198\", \"85032D\", \"85159B\", \"22093\", \"21011\", \"85169A\", \"20801\", \"22545\", \"22917\", \"21828\", \"21358\", \"85136C\", \"35004G\", \"20780\", \"21159\", \"22228\", \"22819\", \"23086\", \"22157\", \"23392\", \"21292\", \"22396\", \"21082\", \"84313C\", \"22287\", \"85135C\", \"22249\", \"22817\", \"84596G\", \"21644\", \"21065\", \"22316\", \"85036C\", \"21869\", \"35965\", \"23034\", \"35637A\", \"21317\", \"20761\", \"47591d\", \"22106\", \"23365\", \"84637\", \"22390\", \"22052\", \"21410\", \"23267\", \"21199\", \"21066\", \"85198\", \"84997a\", \"21661\", \"21276\", \"20734\", \"16033\", \"21426\", \"21280\", \"23559\", \"21760\", \"21051\", \"79030G\", \"21009\", \"23334\", \"85055\", \"21849\", \"85167B\", \"22683\", \"84510B\", \"21739\", \"23271\", \"21099\", \"22137\", \"84526\", \"84856L\", \"23528\", \"21807\", \"22815\", \"22682\", \"21399\", \"22982\", \"84659A\", \"85125\", \"22340\", \"72008\", \"21785\", \"21822\", \"21282\", \"85221\", \"84795D\", \"22915\", \"21146\", \"21275\", \"85177\", \"22322\", \"85194L\", \"21332\", \"23524\", \"85170A\", \"23226\", \"22288\", \"84789\", \"20768\", \"21542\", \"20772\", \"21002\", \"21851\", \"75131\", \"22608\", \"22337\", \"22681\", \"21092\", \"85036B\", \"21579\", \"21972\", \"21925\", \"22976\", \"84536B\", \"20766\", \"21610\", \"85180A\", \"15059A\", \"21383\", \"21289\", \"23287\", \"21631\", \"72803A\", \"21711\", \"22912\", \"85222\", \"23369\", \"15056bl\", \"22123\", \"22103\", \"20902\", \"20735\", \"22673\", \"35160\", \"22099\", \"20986\", \"35241\", \"90167\", \"23348\", \"20802\", \"21550\", \"21593\", \"22786\", \"35810A\", \"22260\", \"21286\", \"21675\", \"21867\", \"22517\", \"23280\", \"23217\", \"48195\", \"21837\", \"21162\", \"21801\", \"21541\", \"22705\", \"84619\", \"21284\", \"23483\", \"21793\", \"35471D\", \"23391\", \"21656\", \"22922\", \"21545\", \"23273\", \"21645\", \"37441\", \"21633\", \"23270\", \"22025\", \"22410\", \"23505\", \"22323\", \"21694\", \"21448\", \"84913B\", \"85049a\", \"23366\", \"21283\", \"35809A\", \"85131A\", \"46776F\", \"21927\", \"23368\", \"21157\", \"22319\", \"17129F\", \"18098c\", \"21382\", \"37342\", \"85039A\", \"82615\", \"22706\", \"21576\", \"85014C\", \"22679\", \"21446\", \"85060\", \"22934\", \"72817\", \"23181\", \"20996\", \"84795A\", \"20990\", \"21251\", \"84535B\", \"23214\", \"23073\", \"21895\", \"23244\", \"22254\", \"21637\", \"21652\", \"22035\", \"21090\", \"22770\", \"23122\", \"22026\", \"22516\", \"23372\", \"21205\", \"85232A\", \"84843\", \"20767\", \"23101\", \"21780\", \"22209\", \"20729\", \"23399\", \"84507B\", \"21189\", \"22446\", \"21163\", \"10125\", \"21548\", \"21662\", \"23096\", \"22546\", \"21000\", \"85127\", \"21294\", \"21357\", \"23155\", \"22975\", \"23317\", \"22422\", \"37343\", \"21158\", \"47591B\", \"72816\", \"84748\", \"21529\", \"21161\", \"23160\", \"47566b\", \"21096\", \"23148\", \"23228\", \"84797B\", \"22586\", \"85164B\", \"21384\", \"22680\", \"84327A\", \"22533\", \"22535\", \"22324\", \"85173\", \"22686\", \"23075\", \"16169E\", \"84006\", \"85162C\", \"70007\", \"23378\", \"21761\", \"23525\", \"21618\", \"21659\", \"22317\", \"21391\", \"21394\", \"79302M\", \"21841\", \"23090\", \"22858\", \"21091\", \"21241\", \"21547\", \"23359\", \"21613\", \"21085\", \"84856S\", \"20703\", \"21677\", \"22523\", \"21687\", \"22678\", \"23434\", \"23358\", \"21894\", \"85103\", \"23394\", \"23491\", \"46775D\", \"21581\", \"40001\", \"16016\", \"22307\", \"21287\", \"21445\", \"22522\", \"23094\", \"20684\", \"84519B\", \"79341\", \"21983\", \"85162B\", \"21043\", \"22932\", \"21773\", \"22587\", \"22363\", \"20984\", \"22985\", \"23235\", \"20716\", \"84459A\", \"85217\", \"22204\", \"22210\", \"22513\", \"21538\", \"22565\", \"84581\", \"23374\", \"21991\", \"22753\", \"21692\", \"21647\", \"85185B\", \"22343\", \"22614\", \"22211\", \"23145\", \"22098\", \"84676\", \"85231B\", \"22599\", \"22262\", \"79160\", \"23068\", \"20871\", \"35971\", \"84872A\", \"21629\", \"21348\", \"22559\", \"21389\", \"21630\", \"22496\", \"23357\", \"22438\", \"23315\", \"23289\", \"22521\", \"20846\", \"23268\", \"23274\", \"21612\", \"22520\", \"22832\", \"23529\", \"47591C\", \"22068\", \"22405\", \"21695\", \"22719\", \"21397\", \"35953\", \"22799\", \"21200\", \"23251\", \"22261\", \"85016\", \"22201\", \"84763\", \"79323GR\", \"22928\", \"22400\", \"23490\", \"20686\", \"21657\", \"23500\", \"21504\", \"23291\", \"22308\", \"22859\", \"84509G\", \"21077\", \"23227\", \"84990\", \"37476\", \"21058\", \"22279\", \"23152\", \"21802\", \"21356\", \"84796A\", \"84670\", \"40018F\", \"85049H\", \"21655\", \"21640\", \"22996\", \"21070\", \"21619\", \"23233\", \"51014L\", \"22935\", \"21865\", \"84854\", \"21803\", \"23046\", \"85099b\", \"22163\", \"72799F\", \"23079\", \"23020\", \"23213\", \"21291\", \"23066\", \"23161\", \"22023\", \"22714\", \"85216\", \"22338\", \"23302\", \"21359\", \"21643\", \"22677\", \"20764\", \"23005\", \"22695\", \"23031\", \"22708\", \"23252\", \"22515\", \"21421\", \"21905\", \"23370\", \"22931\", \"22913\", \"23445\", \"22802\", \"20931\", \"84691\", \"21611\", \"22182\", \"85039B\", \"22853\", \"22824\", \"21195\", \"23403\", \"20770\", \"22711\", \"21774\", \"21617\", \"23064\", \"85045\", \"22074\", \"17084R\", \"21620\", \"21710\", \"21476\", \"23501\", \"22514\", \"21681\", \"22069\", \"23438\", \"23093\", \"23326\", \"21398\", \"22286\", \"23048\", \"23128\", \"84469\", \"21686\", \"21125\", \"84818\", \"22716\", \"85183A\", \"23029\", \"15056n\", \"20658\", \"21638\", \"22024\", \"22336\", \"22933\", \"22948\", \"21464\", \"84913A\", \"23197\", \"21482\", \"23330\", \"22133\", \"85035A\", \"23360\", \"85172\", \"17091J\", \"22251\", \"21826\", \"22831\", \"21696\", \"23371\", \"22539\", \"21747\", \"22409\", \"85176\", \"16237\", \"22785\", \"21540\", \"84459B\", \"21819\", \"85199L\", \"21651\", \"22362\", \"21804\", \"21708\", \"84536A\", \"85106\", \"85114C\", \"21437\", \"23401\", \"22609\", \"23412\", \"85114A\", \"85107\", \"21824\", \"21873\", \"23436\", \"21947\", \"21126\", \"21468\", \"22246\", \"23437\", \"22453\", \"47570\", \"85034A\", \"85059\", \"23028\", \"22642\", \"35001G\", \"21615\", \"23498\", \"22421\", \"21789\", \"22990\", \"22973\", \"10133\", \"23400\", \"22986\", \"23265\", \"21924\", \"21741\", \"21187\", \"21973\", \"23406\", \"22321\", \"21642\", \"85116\", \"22537\", \"22448\", \"22613\", \"22566\", \"21274\", \"22828\", \"84795B\", \"21823\", \"21330\", \"22852\", \"22306\", \"22091\", \"23352\", \"21439\", \"22021\", \"21106\", \"84509F\", \"84840\", \"85036A\", \"21203\", \"21462\", \"85206B\", \"22540\", \"21792\", \"84509B\", \"22911\", \"85041\", \"22342\", \"22676\", \"22829\", \"21809\", \"23367\", \"23146\", \"21262\", \"22153\", \"22789\", \"85054\", \"23316\", \"21616\", \"21323\", \"21431\", \"22742\", \"23424\", \"23681\", \"21680\", \"21288\", \"20787\", \"84012\", \"21898\", \"21589\", \"85034C\", \"82567\", \"21653\", \"22146\", \"90062\", \"22270\", \"20668\", \"20960\", \"21215\", \"22415\", \"47503J\", \"85035B\", \"22046\", \"47585A\", \"21171\", \"84849D\", \"22439\", \"37502\", \"22231\", \"22313\", \"23054\", \"21204\", \"21808\", \"82597\", \"22094\", \"22758\", \"85049F\", \"21897\", \"85034B\", \"21422\", \"84754\", \"22190\", \"21923\", \"22937\", \"51014C\", \"72799E\", \"85049B\", \"85183B\", \"23407\", \"22735\", \"22471\", \"90057\", \"23292\", \"22500\", \"22713\", \"22028\", \"21742\", \"21788\", \"23264\", \"22152\", \"23333\", \"21424\", \"23489\", \"23164\", \"22479\", \"21188\", \"22495\", \"22524\", \"22101\", \"22436\", \"21224\", \"15058C\", \"23147\", \"22066\", \"23100\", \"23266\", \"22675\", \"22376\", \"84795C\", \"85035C\", \"23341\", \"21818\", \"22081\", \"23190\", \"21324\", \"22416\", \"72800E\", \"23396\", \"22650\", \"21728\", \"22217\", \"85132B\", \"22710\", \"21796\", \"22597\", \"21744\", \"22525\", \"85015\", \"23212\", \"22161\", \"84909A\", \"21360\", \"22482\", \"22651\", \"22145\", \"84519A\", \"22315\", \"23196\", \"22155\", \"47480\", \"21683\", \"22818\", \"21508\", \"85199S\", \"21682\", \"22930\", \"23427\", \"22184\", \"22914\", \"23504\", \"22671\", \"22949\", \"22897\", \"22983\", \"22293\", \"21465\", \"23345\", \"22177\", \"85184D\", \"23290\", \"21693\", \"21709\", \"22450\", \"22503\", \"23211\", \"21214\", \"22803\", \"22696\", \"21821\", \"22480\", \"22325\", \"79072\", \"21626\", \"22581\", \"21948\", \"20752\", \"22518\", \"22974\", \"22674\", \"22955\", \"22811\", \"23242\", \"85049D\", \"22664\", \"84997c\", \"21477\", \"21688\", \"22519\", \"22905\", \"22132\", \"84912A\", \"23231\", \"35001W\", \"22402\", \"22277\", \"84279B\", \"20985\", \"15058A\", \"15044C\", \"23390\", \"22576\", \"22755\", \"84944\", \"21354\", \"23329\", \"22712\", \"22925\", \"23461\", \"22067\", \"21206\", \"22208\", \"21765\", \"22129\", \"22927\", \"22037\", \"22461\", \"22375\", \"22754\", \"47504K\", \"23346\", \"22757\", \"21830\", \"22372\", \"21408\", \"22347\", \"21473\", \"22406\", \"20956\", \"21272\", \"23323\", \"23393\", \"82578\", \"84912B\", \"22700\", \"22702\", \"21786\", \"22805\", \"21705\", \"21628\", \"85227\", \"23342\", \"22762\", \"21820\", \"21519\", \"22816\", \"22194\", \"23230\", \"23051\", \"22281\", \"21333\", \"22473\", \"79164\", \"84596F\", \"22967\", \"23035\", \"22963\", \"21949\", \"22769\", \"22891\", \"85220\", \"21732\", \"84837\", \"21829\", \"22310\", \"23053\", \"21557\", \"84997d\", \"15058B\", \"21352\", \"21467\", \"22863\", \"84472\", \"23308\", \"23395\", \"21111\", \"37410\", \"84510A\", \"22047\", \"23239\", \"20992\", \"84849B\", \"84975\", \"22122\", \"44230\", \"18098C\", \"22773\", \"84828\", \"22572\", \"22944\", \"20702\", \"22136\", \"21917\", \"22154\", \"22794\", \"84813\", \"84797A\", \"84031B\", \"22764\", \"22223\", \"22792\", \"22419\", \"21211\", \"37501\", \"21123\", \"22972\", \"23354\", \"23156\", \"23014\", \"22477\", \"23210\", \"21039\", \"22183\", \"22172\", \"23536\", \"23350\", \"23065\", \"37340\", \"22320\", \"23426\", \"21902\", \"22428\", \"22459\", \"22440\", \"21469\", \"47505\", \"21364\", \"23388\", \"22309\", \"20786\", \"21679\", \"23232\", \"21327\", \"21507\", \"22939\", \"18097C\", \"23353\", \"23189\", \"23085\", \"21794\", \"21466\", \"22095\", \"22862\", \"22822\", \"20784\", \"22076\", \"22591\", \"82494l\", \"22334\", \"23111\", \"84352\", \"21179\", \"23332\", \"22176\", \"20886\", \"21784\", \"22452\", \"22531\", \"21191\", \"85040A\", \"22704\", \"23294\", \"84968F\", \"22603\", \"21509\", \"21054\", \"22902\", \"20785\", \"22166\", \"23497\", \"23191\", \"23013\", \"22823\", \"21246\", \"21866\", \"23091\", \"22398\", \"20692\", \"23092\", \"23127\", \"21845\", \"85232D\", \"23182\", \"22782\", \"72802B\", \"35924\", \"21795\", \"84356\", \"72802A\", \"84016\", \"85114B\", \"23542\", \"84558A\", \"23299\", \"22292\", \"85040B\", \"21648\", \"71038\", \"85049C\", \"22544\", \"21486\", \"22980\", \"22494\", \"22589\", \"23032\", \"22125\", \"22843\", \"22962\", \"21627\", \"22765\", \"23131\", \"23253\", \"21100\", \"21351\", \"22458\", \"22774\", \"21329\", \"22579\", \"22162\", \"21067\", \"21846\", \"22965\", \"22959\", \"21987\", \"22478\", \"22778\", \"23110\", \"22341\", \"21447\", \"23049\", \"21813\", \"23552\", \"22790\", \"46000M\", \"22475\", \"22057\", \"22536\", \"22272\", \"23557\", \"23486\", \"23130\", \"21812\", \"22797\", \"22612\", \"21192\", \"22118\", \"22788\", \"85123a\", \"23129\", \"21055\", \"23081\", \"21034\", \"23194\", \"22359\", \"85206A\", \"22053\", \"22245\", \"21743\", \"21717\", \"22777\", \"22284\", \"21474\", \"22445\", \"23193\", \"23340\", \"22731\", \"21349\", \"20981\", \"21901\", \"23255\", \"22127\", \"22314\", \"16161U\", \"22639\", \"23009\", \"84596B\", \"72349B\", \"21911\", \"23167\", \"23306\", \"21472\", \"21590\", \"84580\", \"23144\", \"23012\", \"22807\", \"22851\", \"23089\", \"22071\", \"21614\", \"23237\", \"21707\", \"23166\", \"22892\", \"21470\", \"70006\", \"21609\", \"84598\", \"22454\", \"22670\", \"22744\", \"21355\", \"20967\", \"21153\", \"22723\", \"23112\", \"23050\", \"79320\", \"20665\", \"20982\", \"22285\", \"21878\", \"22425\", \"22600\", \"21245\", \"22202\", \"21556\", \"21537\", \"85053\", \"47580\", \"22530\", \"23349\", \"22497\", \"22611\", \"15039\", \"21899\", \"84279P\", \"22291\", \"21056\", \"20674\", \"85063\", \"23163\", \"72807A\", \"22227\", \"21913\", \"23404\", \"21810\", \"23288\", \"22299\", \"84969\", \"51014A\", \"84968E\", \"21012\", \"22312\", \"23275\", \"23530\", \"23309\", \"22548\", \"22760\", \"21967\", \"21143\", \"21068\", \"23168\", \"22449\", \"37447\", \"20966\", \"22733\", \"22926\", \"21064\", \"84997b\", \"15044D\", \"84270\", \"21564\", \"22691\", \"21109\", \"22564\", \"23285\", \"22574\", \"22747\", \"22908\", \"23176\", \"22594\", \"21864\", \"10135\", \"21990\", \"22573\", \"84031A\", \"15044B\", \"22743\", \"82581\", \"22721\", \"21506\", \"72807B\", \"23241\", \"22451\", \"23184\", \"22736\", \"23286\", \"22474\", \"22442\", \"21069\", \"22107\", \"23159\", \"21916\", \"21811\", \"22562\", \"23157\", \"22601\", \"21534\", \"23558\", \"23569\", \"22672\", \"22305\", \"85049G\", \"22399\", \"22583\", \"23389\", \"22304\", \"23351\", \"22434\", \"20681\", \"22027\", \"21986\", \"22128\", \"20961\", \"21249\", \"23555\", \"23554\", \"21328\", \"22956\", \"23010\", \"23503\", \"22800\", \"21207\", \"20963\", \"22509\", \"23570\", \"47568\", \"22957\", \"46000S\", \"85184C\", \"22593\", \"23556\", \"21706\", \"22604\", \"23314\", \"23198\", \"21896\", \"23494\", \"23165\", \"23310\", \"84796B\", \"22688\", \"21713\", \"21112\", \"23397\", \"23234\", \"20977\", \"22318\", \"23295\", \"22426\", \"22276\", \"21578\", \"21544\", \"22075\", \"22732\", \"22610\", \"23263\", \"22218\", \"21471\", \"21495\", \"23162\", \"21872\", \"22374\", \"22412\", \"22168\", \"23132\", \"21718\", \"22894\", \"22117\", \"21071\", \"22998\", \"22433\", \"22472\", \"22896\", \"85132A\", \"22186\", \"22030\", \"84950\", \"22070\", \"21491\", \"21432\", \"37495\", \"35832\", \"22175\", \"22842\", \"21993\", \"84937\", \"22571\", \"22476\", \"37446\", \"23158\", \"22085\", \"84968D\", \"21363\", \"23135\", \"22335\", \"72756\", \"23485\", \"22775\", \"79029\", \"22801\", \"16161P\", \"20978\", \"23126\", \"22483\", \"21988\", \"22203\", \"23177\", \"22437\", \"21587\", \"20983\", \"23583\", \"22156\", \"23133\", \"22763\", \"22060\", \"85061W\", \"21528\", \"23531\", \"22443\", \"22534\", \"22602\", \"23205\", \"22653\", \"40016\", \"84971S\", \"21900\", \"22854\", \"72802C\", \"21703\", \"22826\", \"82599\", \"84968B\", \"21667\", \"22119\", \"79323LP\", \"23154\", \"22115\", \"22687\", \"21577\", \"22951\", \"85132C\", \"22971\", \"21313\", \"22200\", \"22361\", \"21452\", \"22660\", \"22241\", \"85178\", \"22332\", \"22441\", \"22167\", \"48197\", \"84509A\", \"23118\", \"22899\", \"23526\", \"22491\", \"22964\", \"23052\", \"23296\", \"22841\", \"23312\", \"21832\", \"22045\", \"22618\", \"21407\", \"85038\", \"22737\", \"21918\", \"21586\", \"21730\", \"22331\", \"21591\", \"21499\", \"23192\", \"21714\", \"22772\", \"22278\", \"22435\", \"22222\", \"84968A\", \"22848\", \"21584\", \"22849\", \"23172\", \"22582\", \"21078\", \"10002\", \"85047\", \"84832\", \"22196\", \"20751\", \"22364\", \"22855\", \"22979\", \"23169\", \"84884A\", \"22906\", \"22830\", \"23307\", \"22185\", \"22460\", \"84520B\", \"22063\", \"22578\", \"22148\", \"47559B\", \"22220\", \"21989\", \"11001\", \"22991\", \"23188\", \"23134\", \"23571\", \"22783\", \"22065\", \"23311\", \"23553\", \"47502\", \"21239\", \"47599B\", \"22596\", \"15060B\", \"21500\", \"21201\", \"79067\", \"16156S\", \"35004B\", \"21240\", \"85175\", \"22833\", \"22526\", \"22199\", \"23247\", \"22142\", \"22221\", \"85068\", \"22080\", \"85062\", \"23008\", \"23109\", \"23480\", \"21592\", \"21494\", \"85014D\", \"22430\", \"23229\", \"22575\", \"22661\", \"23297\", \"37500\", \"22059\", \"22432\", \"22898\", \"23541\", \"23103\", \"22377\", \"22780\", \"23215\", \"22431\", \"22746\", \"ADJUST\", \"23254\", \"37448\", \"21563\", \"22845\", \"22938\", \"22311\", \"22781\", \"22378\", \"21768\", \"22656\", \"22187\", \"22810\", \"20973\", \"37450\", \"23283\", \"85174\", \"22498\", \"23293\", \"21903\", \"22563\", \"23236\", \"23543\", \"21992\", \"22827\", \"21984\", \"21497\", \"23320\", \"23083\", \"21107\", \"21700\", \"22360\", \"22907\", \"22644\", \"85065\", \"22577\", \"21981\", \"21463\", \"22414\", \"22588\", \"22567\", \"23382\", \"21625\", \"22626\", \"21561\", \"21876\", \"22493\", \"22465\", \"72351A\", \"22029\", \"22282\", \"21114\", \"21737\", \"21746\", \"82580\", \"22489\", \"22550\", \"22945\", \"21361\", \"22739\", \"22779\", \"22224\", \"22528\", \"22798\", \"22242\", \"23204\", \"23007\", \"22796\", \"84968C\", \"22689\", \"22669\", \"21381\", \"20717\", \"22784\", \"22890\", \"22165\", \"23238\", \"21110\", \"21588\", \"22809\", \"21875\", \"22813\", \"84568\", \"22353\", \"22504\", \"21870\", \"21976\", \"22350\", \"22592\", \"21115\", \"84032B\", \"84508A\", \"20829\", \"21116\", \"72807C\", \"51008\", \"22055\", \"20675\", \"21238\", \"85067\", \"82551\", \"22738\", \"21769\", \"22628\", \"85049A\", \"21934\", \"85064\", \"23256\", \"22358\", \"22275\", \"21244\", \"23321\", \"22329\", \"22215\", \"21874\", \"48189\", \"22079\", \"23535\", \"23082\", \"22073\", \"21932\", \"23078\", \"22354\", \"20974\", \"23493\", \"22078\", \"21411\", \"21186\", \"21135\", \"22283\", \"23534\", \"21980\", \"22751\", \"85049E\", \"23322\", \"84839\", \"22212\", \"23318\", \"22895\", \"21042\", \"22989\", \"22942\", \"23439\", \"21715\", \"21735\", \"21985\", \"23319\", \"23080\", \"21777\", \"21658\", \"22839\", \"22244\", \"21933\", \"22371\", \"20747\", \"22992\", \"22141\", \"22741\", \"22767\", \"22357\", \"22110\", \"21041\", \"21745\", \"22978\", \"21243\", \"22072\", \"84032A\", \"22219\", \"23175\", \"22195\", \"84692\", \"22121\", \"21385\", \"21716\", \"84030E\", \"21749\", \"20970\", \"82552\", \"47570B\", \"35961\", \"22665\", \"21781\", \"79323P\", \"79000\", \"16014\", \"20979\", \"23171\", \"23076\", \"22429\", \"20677\", \"22180\", \"22549\", \"84792\", \"23582\", \"22745\", \"22327\", \"22300\", \"22131\", \"23170\", \"22840\", \"22904\", \"22089\", \"22970\", \"22380\", \"84880\", \"21033\", \"20682\", \"21531\", \"22120\", \"21756\", \"21488\", \"21892\", \"23208\", \"22748\", \"22725\", \"22302\", \"21974\", \"22771\", \"22645\", \"22349\", \"22966\", \"21086\", \"20754\", \"22064\", \"21982\", \"21624\", \"22418\", \"82001S\", \"21890\", \"22348\", \"22950\", \"22466\", \"21558\", \"22595\", \"22274\", \"22668\", \"22655\", \"21833\", \"22174\", \"21498\", \"20828\", \"21907\", \"72351B\", \"22130\", \"22812\", \"47599A\", \"21922\", \"22768\", \"21868\", \"22417\", \"22694\", \"22620\", \"20969\", \"21172\", \"23581\", \"15056P\", \"20975\", \"22649\", \"22151\", \"22663\", \"85042\", \"22468\", \"37370\", \"21787\", \"23300\", \"22844\", \"22795\", \"22988\", \"21260\", \"79323W\", \"21429\", \"22508\", \"22740\", \"22637\", \"22968\", \"22838\", \"22488\", \"84987\", \"47567B\", \"22243\", \"21428\", \"21154\", \"21242\", \"21326\", \"84212\", \"21937\", \"23174\", \"22192\", \"22750\", \"22791\", \"22729\", \"21670\", \"21124\", \"21671\", \"22631\", \"22301\", \"22623\", \"75049L\", \"22303\", \"22834\", \"62018\", \"22943\", \"22082\", \"23207\", \"22616\", \"22580\", \"21704\", \"22947\", \"22464\", \"22088\", \"21906\", \"22144\", \"84988\", \"23108\", \"22236\", \"22766\", \"22584\", \"21871\", \"21380\", \"22646\", \"21935\", \"22804\", \"20676\", \"15044A\", \"22198\", \"23328\", \"35400\", \"47556B\", \"22846\", \"22553\", \"22271\", \"C2\", \"22207\", \"22636\", \"21673\", \"23356\", \"23343\", \"21539\", \"21390\", \"22150\", \"23077\", \"22667\", \"22621\", \"21888\", \"22191\", \"22333\", \"21669\", \"22109\", \"21668\", \"23200\", \"85232B\", \"21098\", \"84380\", \"22444\", \"22627\", \"21257\", \"20748\", \"22295\", \"21169\", \"21259\", \"21672\", \"22606\", \"22485\", \"21770\", \"21912\", \"22179\", \"17003\", \"21877\", \"22635\", \"22946\", \"35970\", \"82582\", \"21094\", \"21165\", \"21975\", \"22170\", \"84050\", \"22730\", \"21122\", \"22692\", \"22173\", \"22634\", \"21844\", \"22909\", \"84378\", \"22365\", \"21891\", \"23313\", \"22749\", \"22690\", \"22487\", \"21155\", \"22940\", \"22367\", \"22193\", \"22759\", \"23301\", \"22619\", \"22662\", \"84375\", \"22993\", \"22296\", \"21533\", \"35004C\", \"72760B\", \"21535\", \"22273\", \"21164\", \"23240\", \"22776\", \"22652\", \"22366\", \"22147\", \"21156\", \"84467\", \"84970L\", \"21136\", \"84992\", \"21889\", \"20718\", \"47591D\", \"22557\", \"22297\", \"22654\", \"22847\", \"22352\", \"21914\", \"22560\", \"22061\", \"22505\", \"21430\", \"21035\", \"84945\", \"22837\", \"21121\", \"84949\", \"21340\", \"21484\", \"22561\", \"84947\", \"22169\", \"22555\", \"22427\", \"22041\", \"21108\", \"21908\", \"71053\", \"22633\", \"22952\", \"84997A\", \"22413\", \"48129\", \"22569\", \"22568\", \"21174\", \"22381\", \"21622\", \"22900\", \"22617\", \"22558\", \"22570\", \"22693\", \"21216\", \"37449\", \"20723\", \"21559\", \"85150\", \"22424\", \"48116\", \"21218\", \"23206\", \"22356\", \"22294\", \"85048\", \"22456\", \"23209\", \"23202\", \"47566B\", \"21213\", \"21210\", \"22499\", \"85014A\", \"22941\", \"84970S\", \"22969\", \"22632\", \"21936\", \"22585\", \"22556\", \"21258\", \"20749\", \"21791\", \"23243\", \"21314\", \"22607\", \"22171\", \"22113\", \"22554\", \"84406B\", \"48173C\", \"23344\", \"22605\", \"20972\", \"47590A\", \"22625\", \"21955\", \"22698\", \"21790\", \"21527\", \"21231\", \"22722\", \"23173\", \"22728\", \"84836\", \"84077\", \"20971\", \"21481\", \"37503\", \"84755\", \"22087\", \"22084\", \"21080\", \"22149\", \"22551\", \"20711\", \"82600\", \"48111\", \"22507\", \"23201\", \"22835\", \"71459\", \"22734\", \"84991\", \"20750\", \"22961\", \"72741\", \"21930\", \"22624\", \"20719\", \"82583\", \"84978\", \"21977\", \"23355\", \"22467\", \"82483\", \"48188\", \"22492\", \"22752\", \"23199\", \"47590B\", \"22867\", \"22501\", \"21217\", \"22866\", \"22158\", \"20679\", \"22659\", \"23245\", \"22697\", \"85014B\", \"48184\", \"22622\", \"84029G\", \"85152\", \"22077\", \"22385\", \"15036\", \"84997C\", \"22188\", \"22865\", \"22630\", \"22726\", \"22666\", \"21479\", \"22382\", \"22384\", \"84997B\", \"22379\", \"20724\", \"21755\", \"23284\", \"21524\", \"22720\", \"20726\", \"20712\", \"21166\", \"22727\", \"22699\", \"85066\", \"82486\", \"22629\", \"22960\", \"21485\", \"22328\", \"84078A\", \"71477\", \"22083\", \"84997D\", \"21175\", \"20713\", \"23203\", \"20728\", \"48185\", \"82482\", \"22138\", \"23298\", \"82494L\", \"22383\", \"21915\", \"20727\", \"22326\", \"22355\", \"21928\", \"15056BL\", \"48187\", \"21523\", \"84029E\", \"21754\", \"21731\", \"22457\", \"48194\", \"22090\", \"21232\", \"21929\", \"21733\", \"22469\", \"21181\", \"84946\", \"22139\", \"22111\", \"21623\", \"22178\", \"20914\", \"21212\", \"22189\", \"22470\", \"22411\", \"15056N\", \"85099C\", \"22112\", \"21621\", \"22910\", \"22502\", \"21843\", \"21931\", \"82484\", \"22114\", \"23084\", \"20685\", \"48138\", \"85099F\", \"21137\", \"20725\", \"84347\", \"22386\", \"22197\", \"79321\", \"POST\", \"22086\", \"84879\", \"47566\", \"85099B\", \"85123A\", \"DOT\", \"22423\"], \"xaxis\": \"x\", \"y\": [-260763.58000000002, -147614.08, -82796.32000000002, -35562.629, -13484.540000000005, -7933.43, -6065.7999999999965, -125.99999999999996, -67.5, -50.849999999999994, -45.3, -36.58300000000001, -33.9, -29.400000000000006, -20.28, -20.0, -17.0, -15.9, -14.790000000000001, -13.75, -11.9, -11.8, -10.17, -9.9, -5.95, -4.949999999999999, -4.25, -3.55, -2.55, -0.19, 0.0, 0.0, 0.0, 0.0, 0.0, 0.0, 0.0, 0.0, 0.0, 0.0, 0.0, 0.0, 0.0, 0.0, 0.0, 0.0, 0.0, 0.0, 0.0, 0.0, 0.0, 0.0, 0.0, 0.0, 0.0, 0.0, 0.0, 0.0, 0.0, 0.0, 0.0, 0.0, 0.0, 0.0, 0.0, 0.0, 0.0, 0.0, 0.0, 0.0, 0.0, 0.0, 0.0, 0.0, 0.0, 0.0, 0.0, 0.0, 0.0, 0.0, 0.0, 0.0, 0.0, 0.0, 0.0, 0.0, 0.0, 0.0, 0.0, 0.0, 0.0, 0.0, 0.0, 0.0, 0.0, 0.0, 0.0, 0.0, 0.0, 0.0, 0.0, 0.0, 0.0, 0.0, 0.0, 0.0, 0.0, 0.0, 0.0, 0.0, 0.0, 0.0, 0.0, 0.0, 0.0, 0.0, 0.0, 0.0, 0.0, 0.0, 0.0, 0.0, 0.0, 0.0, 0.0, 0.0, 0.0, 0.0, 0.0, 0.0, 0.0, 0.0, 0.0, 0.0, 0.0, 0.0, 0.0, 0.0, 0.0, 0.0, 0.0, 0.0, 0.0, 0.0, 0.0, 0.0, 0.0, 0.0, 0.0, 0.0, 0.0, 0.0, 0.0, 0.0, 0.0, 0.0, 0.0, 0.0, 0.0, 0.0, 0.0, 0.0, 0.0, 0.0, 0.0, 0.0, 0.0, 0.0, 0.0, 0.0, 0.0, 0.0, 0.0, 0.0, 0.0, 0.0, 0.0, 0.0, 0.0, 0.0, 0.0, 0.0, 0.0, 0.0, 0.0, 0.0, 0.0, 0.0, 0.0, 0.0, 0.0, 0.0, 0.0, 0.0, 0.0, 0.0, 0.0, 0.0, 0.0, 0.0, 0.0, 0.0, 0.0, 0.0, 0.0, 0.0, 0.0, 0.0, 0.0, 0.0, 0.0, 0.0, 0.0, 0.0, 0.0, 0.0, 0.0, 0.0, 0.0, 0.0, 0.0, 0.0, 0.0, 0.0, 0.0, 0.0, 0.0, 0.0, 0.0, 0.0, 0.0, 0.0, 0.0, 0.0, 0.0, 0.0, 0.0, 0.0, 0.0, 0.0, 0.0, 0.0, 0.0, 0.0, 0.0, 0.0, 0.0, 0.0, 0.0, 0.0, 0.0, 0.0, 0.0, 0.0, 0.0, 0.0, 0.0, 0.0, 0.0, 0.0, 0.0, 0.0, 0.0, 0.0, 0.0, 0.0, 0.0, 0.0, 0.0, 0.0, 0.0, 0.0, 0.0, 0.0, 0.0, 0.0, 0.0, 0.0, 0.0, 0.0, 0.0, 0.0, 0.0, 0.0, 0.0, 0.0, 0.0, 0.0, 0.0, 0.0, 0.0, 0.0, 0.0, 0.0, 0.0, 0.0, 0.0, 0.0, 0.0, 0.0, 0.0, 0.0, 0.0, 0.0, 0.0, 0.0, 0.0, 0.0, 0.0, 0.0, 0.0, 0.0, 0.0, 0.0, 0.0, 0.0, 0.0, 0.0, 0.0, 0.0, 0.0, 0.0, 0.0, 0.0, 0.0, 0.0, 0.0, 0.0, 0.0, 0.0, 0.0, 0.0, 0.0, 0.0, 0.0, 0.0, 0.0, 0.0, 0.0, 0.0, 0.0, 0.0, 0.0, 0.0, 0.0, 0.0, 0.0, 0.0, 0.0, 0.0, 0.0, 0.0, 0.0, 0.0, 0.0, 0.0, 0.0, 0.0, 0.0, 0.0, 0.0, 0.0, 0.0, 0.0, 0.0, 0.0, 0.0, 0.0, 0.0, 0.0, 0.0, 0.0, 0.0, 0.0, 0.0, 0.0, 0.0, 0.0, 0.0, 0.0, 0.0, 0.0, 0.0, 0.0, 0.0, 0.0, 0.0, 0.0, 0.0, 0.0, 0.0, 0.0, 0.0, 0.0, 0.0, 0.0, 0.0, 0.0, 0.0, 0.0, 0.0, 0.0, 0.0, 0.0, 0.0, 0.0, 0.0, 0.0, 0.0, 0.0, 0.0, 0.0, 0.0, 0.0, 7.105427357601002e-15, 0.38, 0.38, 0.83, 0.85, 1.0, 1.25, 1.25, 1.52, 1.65, 1.65, 1.65, 1.65, 1.66, 1.68, 1.69, 1.7, 1.7, 1.7, 1.71, 1.9, 1.9000000000000001, 1.95, 1.95, 1.95, 1.9500000000000002, 2.08, 2.15, 2.46, 2.46, 2.49, 2.5, 2.5, 2.5, 2.51, 2.51, 2.51, 2.52, 2.55, 2.55, 2.55, 2.55, 2.55, 2.55, 2.55, 2.57, 2.9, 2.91, 2.91, 2.91, 2.98, 3.25, 3.33, 3.38, 3.4, 3.43, 3.49, 3.69, 3.75, 3.75, 3.75, 3.78, 3.9, 3.9000000000000004, 4.13, 4.13, 4.2, 4.21, 4.25, 4.25, 4.25, 4.25, 4.3, 4.64, 4.65, 4.7299999999999995, 4.92, 4.92, 4.95, 4.96, 4.9799999999999995, 4.98, 5.02, 5.04, 5.04, 5.06, 5.06, 5.07, 5.09, 5.09, 5.1, 5.1, 5.17, 5.17, 5.200000000000001, 5.28, 5.32, 5.45, 5.46, 5.82, 5.82, 5.82, 5.859999999999999, 5.88, 5.88, 5.9, 5.9, 5.9, 5.9, 5.91, 5.95, 5.95, 5.95, 5.95, 6.04, 6.04, 6.24, 6.25, 6.25, 6.25, 6.25, 6.3, 6.300000000000001, 6.579999999999999, 6.6, 6.6, 6.64, 6.700000000000001, 6.75, 6.75, 6.799999999999999, 6.86, 6.959999999999999, 6.959999999999999, 7.410000000000001, 7.470000000000001, 7.4799999999999995, 7.5, 7.5, 7.5, 7.5, 7.78, 8.29, 8.29, 8.299999999999999, 8.4, 8.4, 8.46, 8.48, 8.49, 8.57, 8.65, 8.65, 8.67, 8.850000000000001, 8.850000000000001, 8.850000000000001, 8.850000000000001, 9.15, 9.24, 9.24, 9.57, 9.779999999999998, 9.94, 9.959999999999999, 9.959999999999999, 9.96, 9.96, 9.96, 9.96, 10.02, 10.12, 10.17, 10.17, 10.2, 10.23, 10.23, 10.23, 10.5, 10.5, 10.5, 10.530000000000001, 10.89, 10.9, 11.02, 11.100000000000001, 11.25, 11.25, 11.25, 11.26, 11.290000000000001, 11.64, 11.64, 11.780000000000001, 11.82, 11.98, 12.32, 12.399999999999999, 12.450000000000001, 12.48, 12.5, 12.61, 12.72, 12.72, 12.72, 12.72, 12.75, 12.75, 12.75, 12.75, 12.75, 12.78, 12.8, 12.849999999999998, 12.899999999999999, 13.0, 13.0, 13.28, 13.32, 13.370000000000001, 13.44, 13.44, 13.57, 13.57, 13.599999999999998, 13.65, 13.68, 13.75, 13.75, 13.82, 13.9, 13.9, 14.55, 14.75, 14.75, 14.85, 14.850000000000001, 14.92, 14.940000000000001, 15.0, 15.0, 15.010000000000002, 15.05, 15.12, 15.18, 15.24, 15.250000000000227, 15.299999999999999, 15.399999999999999, 15.44, 15.56, 15.63, 15.899999999999997, 15.9, 15.96, 16.11, 16.13, 16.13, 16.38, 16.58, 16.63, 16.63, 16.65, 16.8, 16.8, 16.8, 16.82, 16.84, 16.9, 16.94, 16.990000000000002, 17.12, 17.12, 17.3, 17.35, 17.36, 17.43, 17.53, 17.57, 17.849999999999998, 17.85, 17.85, 17.850000000000005, 17.88, 18.15, 18.150000000000002, 18.48, 18.69, 18.75, 19.089999999999996, 19.4, 19.5, 19.72, 19.8, 19.92, 19.92, 19.92, 19.92, 19.93, 19.970000000000002, 20.34, 20.4, 20.57, 20.65, 20.68, 20.85, 21.0, 21.249999999999996, 21.250000000000007, 21.45, 21.5, 22.049999999999994, 22.339999999999996, 22.41, 22.410000000000004, 22.5, 22.5, 22.5, 22.5, 22.560000000000002, 22.909999999999997, 22.950000000000006, 23.28, 23.52, 23.61, 23.64, 23.699999999999996, 23.75, 23.77, 23.8, 23.800000000000004, 24.16, 24.65, 24.7, 24.749999999999996, 24.869999999999997, 24.900000000000002, 25.0, 25.099999999999998, 25.27, 25.28, 25.28, 25.410000000000004, 25.410000000000004, 25.44, 25.45, 25.590000000000003, 25.67, 26.04, 26.040000000000003, 26.159999999999997, 26.189999999999998, 26.19, 26.25, 26.5, 26.7, 27.0, 27.040000000000003, 27.14, 27.39, 27.39, 27.519999999999996, 27.549999999999997, 27.71, 27.78, 28.05, 28.560000000000002, 28.91, 29.32, 29.48, 29.500000000000004, 29.750000000000004, 29.8, 29.809999999999995, 29.849999999999998, 29.899999999999995, 29.95, 29.959999999999997, 29.98, 30.0, 30.08, 30.160000000000004, 30.23, 30.45, 30.469999999999995, 30.6, 30.660000000000004, 30.810000000000006, 31.080000000000002, 31.199999999999996, 31.199999999999996, 31.8, 31.97999999999999, 32.27, 32.329999999999984, 32.37, 32.48, 32.589999999999996, 32.63, 33.1, 33.6, 33.75, 33.88, 33.96, 34.0, 34.620000000000005, 34.64999999999999, 34.650000000000006, 34.7, 34.82, 35.03999999999999, 35.089999999999996, 35.32999999999999, 35.330000000000005, 35.35, 35.449999999999996, 35.70000000000001, 35.87, 36.33, 36.6, 36.96, 36.96, 37.04000000000001, 37.14, 37.3, 37.5, 37.5, 37.61, 37.62, 37.620000000000005, 37.75, 37.98999999999999, 38.03999999999999, 38.11999999999999, 38.279999999999994, 38.31, 38.35, 38.72, 38.75, 39.07999999999999, 39.22999999999999, 39.52, 39.86999999999999, 39.95, 40.20000000000001, 40.339999999999996, 40.47, 40.72, 40.8, 40.8, 41.01, 41.14, 41.169999999999995, 41.21, 41.24999999999999, 41.65, 41.650000000000006, 41.650000000000006, 41.650000000000006, 41.809999999999995, 42.00000000000001, 42.08, 42.099999999999994, 42.5, 42.64, 42.70999999999997, 42.9, 42.919999999999995, 43.32, 43.35, 43.64999999999999, 43.75, 43.940000000000005, 44.19000000000001, 44.2, 44.25, 44.25000000000001, 44.28, 44.36999999999999, 44.55, 44.550000000000004, 44.75, 44.91000000000001, 45.0, 45.0, 45.0, 45.75000000000001, 45.76, 45.95, 46.1, 46.199999999999996, 46.25, 46.45000000000001, 46.5, 46.599999999999994, 46.800000000000004, 46.89000000000001, 46.93, 47.040000000000006, 47.120000000000005, 47.12000000000001, 47.2, 47.20000000000001, 47.43000000000002, 47.60000000000001, 48.08, 48.109999999999985, 48.300000000000026, 48.44999999999999, 48.75, 48.75, 49.14000000000001, 49.14000000000001, 49.580000000000005, 49.759999999999984, 49.80000000000002, 50.06, 50.40000000000001, 50.46000000000002, 50.599999999999994, 50.82, 50.87, 50.940000000000005, 50.98, 50.98, 50.99999999999999, 51.0, 51.14, 51.21999999999999, 51.25, 51.260000000000005, 51.66, 52.199999999999996, 52.699999999999996, 52.78, 52.78999999999999, 53.43000000000001, 53.54999999999999, 54.09, 54.45, 54.45000000000001, 54.510000000000005, 54.589999999999996, 54.620000000000005, 54.759999999999984, 55.0, 55.199999999999996, 55.22999999999996, 55.25, 55.48000000000002, 55.56999999999998, 55.769999999999996, 56.099999999999994, 56.16, 56.18000000000002, 56.25, 56.519999999999996, 57.0, 58.07, 58.10000000000001, 58.31000000000002, 58.42999999999997, 58.65, 58.83, 59.000000000000014, 59.06, 59.400000000000006, 59.50000000000001, 59.57, 59.650000000000006, 59.75, 59.75, 59.76000000000001, 59.92999999999997, 60.0, 60.67, 60.8, 61.07000000000001, 61.199999999999996, 61.3, 61.63999999999999, 61.760000000000005, 61.94, 62.0, 62.300000000000004, 62.35000000000001, 63.21, 63.27999999999999, 63.5, 63.58999999999998, 63.75, 63.75, 63.75, 63.75, 63.8, 63.96, 64.35, 64.56, 65.1, 65.10000000000001, 65.31, 65.44999999999999, 65.61999999999999, 65.75999999999999, 65.76, 65.94, 65.94000000000003, 66.0, 66.31, 66.55000000000001, 66.89, 67.5, 67.5, 67.5, 67.61, 67.64, 67.71000000000001, 67.82, 67.82, 67.85, 67.94, 67.97000000000001, 68.0, 68.0, 68.38, 68.52, 68.63, 69.18, 69.3, 69.62, 69.75, 69.96999999999998, 70.03, 70.22000000000001, 70.5, 70.87, 71.0, 71.17, 71.25, 71.39999999999999, 71.44, 71.46, 71.57999999999998, 71.9, 72.17999999999998, 72.25, 72.5, 72.67999999999999, 73.20000000000002, 73.26999999999997, 73.60000000000001, 73.66, 73.85999999999999, 73.99, 74.33, 74.38, 74.6, 74.75, 74.78999999999999, 74.97, 75.0, 75.0, 75.0, 75.31, 75.54, 75.80999999999997, 75.88000000000001, 76.23, 76.49999999999999, 76.49999999999999, 76.58000000000003, 76.6, 76.68000000000005, 76.70000000000002, 76.72000000000001, 76.97999999999998, 77.35000000000002, 78.11999999999999, 78.2, 78.80999999999999, 78.96, 79.14000000000001, 79.19000000000003, 79.19999999999999, 79.5, 79.57, 79.59, 79.60000000000001, 80.19999999999999, 80.31, 80.60000000000001, 80.62, 81.10000000000001, 81.56, 81.96000000000001, 82.44, 82.5, 82.51000000000005, 82.64, 82.74000000000001, 82.80000000000001, 82.81, 83.33, 83.69000000000003, 83.97000000000001, 84.26000000000003, 84.55, 84.56, 84.69, 84.75, 84.84, 84.89000000000003, 85.0, 85.0, 85.05000000000004, 85.17, 85.52999999999999, 85.9, 86.25, 86.58, 86.86000000000006, 86.95000000000003, 87.02, 87.36, 87.5, 87.54, 87.8, 87.83000000000001, 87.84999999999997, 88.05, 88.50000000000001, 88.50000000000001, 89.12, 89.2, 89.58000000000001, 89.85000000000001, 90.0, 90.30000000000001, 90.46000000000002, 90.5, 90.69000000000001, 90.94999999999999, 91.19000000000001, 91.24999999999999, 91.25, 91.38000000000001, 92.08999999999997, 92.16999999999999, 92.17999999999999, 92.82, 92.85000000000002, 93.36999999999999, 93.47, 93.89, 94.92000000000004, 94.95, 95.38000000000001, 95.4, 95.50000000000004, 95.69999999999997, 95.79, 95.83999999999997, 95.83999999999997, 96.60000000000001, 97.24000000000004, 97.35000000000001, 97.5, 97.5, 97.65000000000002, 97.89999999999999, 98.03999999999998, 98.05999999999997, 98.45, 98.53000000000004, 98.89999999999999, 99.07999999999994, 99.2, 99.22999999999993, 99.32000000000001, 99.46000000000004, 99.60000000000001, 100.15, 100.20000000000005, 100.31000000000002, 100.37, 100.79999999999998, 100.80000000000001, 101.00999999999999, 101.28999999999999, 101.35, 101.97, 102.5, 103.35000000000001, 103.53000000000003, 104.25, 104.77000000000001, 105.0, 105.4, 105.82000000000001, 105.84, 106.0, 106.27999999999997, 106.49000000000005, 106.59, 106.79999999999995, 107.07, 107.33000000000003, 107.68, 107.94000000000001, 108.68999999999994, 109.02000000000004, 109.14999999999999, 109.15000000000006, 109.39000000000001, 109.85, 110.46000000000001, 110.85, 111.34000000000003, 112.05, 112.19999999999999, 112.2799999999999, 112.32000000000001, 112.61999999999999, 112.78000000000002, 113.22, 113.27, 113.76, 113.84000000000002, 113.95, 114.26000000000003, 114.44999999999997, 114.72999999999999, 114.86, 115.05000000000001, 115.29000000000005, 115.32999999999996, 116.25, 116.3, 116.4, 116.61000000000001, 116.62000000000002, 116.82, 116.88, 117.00000000000004, 117.04999999999998, 117.77000000000001, 118.00000000000004, 118.24000000000004, 118.39000000000001, 118.39999999999999, 118.81000000000002, 119.06, 119.39999999999992, 119.89, 120.0, 120.08000000000001, 121.32999999999996, 121.53, 121.99999999999997, 122.31000000000002, 122.39999999999999, 122.57, 123.46999999999998, 123.75, 123.79000000000003, 123.90000000000005, 123.98000000000003, 124.83000000000003, 125.0, 125.71999999999998, 125.73, 126.17999999999999, 126.20999999999998, 126.29999999999998, 126.75, 126.82999999999998, 127.2, 127.5, 127.5, 128.40999999999997, 128.6000000000001, 128.64000000000004, 128.83, 129.04, 129.29000000000002, 129.35, 129.45000000000002, 129.59000000000003, 129.80000000000004, 130.04999999999998, 130.71, 130.82999999999996, 130.9, 131.15000000000003, 131.38, 131.38, 131.65000000000006, 131.89999999999998, 131.99999999999997, 132.00999999999988, 132.52000000000004, 132.58, 132.75, 133.23000000000002, 133.58000000000004, 133.85000000000005, 134.07999999999998, 134.4, 134.50000000000003, 135.68, 135.70000000000002, 135.8, 135.98, 135.98, 136.10000000000002, 136.44, 136.51, 136.87999999999985, 136.98999999999995, 137.26999999999998, 137.37, 137.43, 137.54000000000002, 138.45000000000002, 139.28, 139.4, 139.7999999999999, 139.95, 140.06000000000003, 140.07999999999998, 140.25, 140.49999999999997, 140.91000000000003, 141.23000000000002, 142.02999999999997, 142.64, 143.10000000000002, 143.37000000000003, 143.41000000000003, 144.04999999999995, 144.07, 144.07, 145.23999999999995, 146.03999999999994, 146.25, 146.38999999999996, 146.64999999999998, 147.05, 147.42000000000004, 147.50000000000003, 148.75000000000003, 148.87, 149.10000000000002, 149.75, 150.00999999999996, 150.20999999999998, 150.45, 150.46000000000006, 151.46999999999994, 151.63000000000002, 152.21999999999997, 152.70000000000002, 153.14, 153.6, 153.66999999999996, 154.52, 154.54999999999998, 155.07000000000005, 155.13, 155.15, 155.16, 155.41000000000005, 155.7, 156.65, 156.71999999999994, 156.75, 157.24, 157.33000000000004, 157.5, 157.60000000000002, 157.64000000000001, 157.95, 158.03, 158.04, 158.40999999999988, 158.60999999999999, 158.76, 158.77, 159.02000000000012, 159.9, 160.14999999999998, 160.24999999999994, 160.35999999999999, 160.45, 160.75, 160.79000000000002, 161.35, 161.77, 162.25000000000006, 163.23999999999995, 163.35000000000008, 164.77999999999994, 164.98, 165.08000000000004, 165.70000000000002, 166.08999999999997, 166.17999999999998, 166.21000000000004, 166.46999999999994, 166.59, 167.5199999999999, 168.07999999999996, 168.29999999999998, 168.37, 168.93000000000006, 169.17, 169.75000000000006, 169.8600000000001, 170.17, 170.70000000000002, 170.8, 170.83, 170.86999999999986, 171.10000000000002, 171.22000000000003, 172.38999999999996, 172.50999999999996, 172.55999999999992, 172.90999999999997, 173.10000000000005, 173.48999999999998, 174.13000000000008, 174.1599999999999, 175.02999999999992, 175.48, 175.60999999999993, 176.31, 176.31000000000003, 177.58999999999997, 177.66000000000005, 177.71, 178.02999999999997, 178.11000000000004, 178.48000000000002, 178.67000000000002, 179.56, 179.74999999999997, 179.85000000000002, 179.87999999999994, 179.88, 180.05000000000004, 180.46000000000004, 180.49999999999997, 181.06, 181.39000000000007, 181.5, 181.64999999999998, 181.70999999999998, 182.15999999999997, 182.28, 183.98000000000002, 184.20999999999998, 184.39, 184.59999999999997, 184.68, 184.76, 185.11, 185.18000000000026, 185.24999999999997, 185.64000000000001, 185.66, 186.64, 186.74, 186.76000000000002, 186.9100000000002, 186.95999999999984, 188.06999999999996, 188.20999999999998, 188.57999999999998, 188.77999999999992, 188.95000000000002, 189.52, 190.63, 191.41, 192.16999999999993, 192.25999999999996, 192.3, 192.64000000000001, 192.72000000000017, 193.04999999999998, 193.05999999999995, 194.01000000000005, 194.25000000000006, 194.50999999999993, 194.58, 194.9599999999999, 195.0, 196.26999999999995, 196.55, 196.70000000000005, 198.11, 198.20000000000005, 198.84000000000006, 198.98000000000002, 199.34999999999994, 199.44999999999993, 199.91999999999993, 201.0, 201.24, 201.73000000000002, 202.29999999999993, 202.34999999999988, 202.5, 202.62, 203.24, 203.73999999999992, 203.91999999999993, 204.36000000000004, 204.64, 204.74999999999997, 205.20000000000005, 206.02999999999986, 206.7, 206.9299999999999, 207.69000000000005, 207.85999999999999, 207.93000000000004, 208.0299999999998, 208.30999999999997, 209.36000000000004, 209.46999999999997, 210.0, 210.29000000000005, 210.37999999999982, 211.25000000000017, 211.42, 212.42, 212.5, 212.51999999999992, 212.85, 214.47, 214.99999999999994, 215.03000000000003, 215.30999999999992, 215.33999999999995, 215.34999999999994, 215.75999999999993, 215.93, 216.33, 216.70000000000005, 216.89999999999998, 217.11999999999992, 218.81999999999996, 218.89999999999998, 218.99, 219.45999999999998, 219.67, 220.01999999999995, 220.08999999999997, 220.20999999999995, 220.34999999999997, 220.75, 220.75000000000003, 220.93999999999997, 221.03, 221.09000000000015, 221.4, 221.48000000000002, 221.85, 222.14999999999998, 222.53, 223.73999999999987, 224.06, 224.39999999999998, 225.35, 225.74000000000012, 225.95, 226.15999999999997, 226.20000000000002, 226.49999999999994, 227.33, 227.33000000000004, 227.38000000000002, 227.48000000000002, 227.5399999999999, 228.98999999999995, 229.88999999999987, 230.24999999999997, 230.3899999999999, 230.54000000000013, 230.59000000000003, 231.47000000000014, 231.89999999999998, 232.3500000000001, 232.49999999999997, 232.62, 232.84999999999997, 232.89, 233.67, 233.6799999999999, 234.0499999999999, 234.27999999999994, 234.30000000000004, 234.34999999999997, 234.97999999999993, 235.88, 236.32999999999998, 236.45999999999992, 236.54999999999998, 236.73000000000002, 236.86999999999992, 237.22000000000017, 237.6, 237.7300000000002, 238.37999999999997, 238.68000000000004, 239.97000000000003, 242.17999999999998, 242.82999999999998, 243.84999999999997, 244.4700000000002, 245.61999999999998, 246.65000000000003, 246.82999999999998, 247.26, 247.63, 247.82999999999998, 248.00000000000003, 248.35999999999981, 249.32999999999993, 249.5399999999999, 249.9500000000001, 251.35000000000002, 252.29000000000005, 252.44999999999993, 252.69999999999996, 253.59000000000003, 254.2299999999999, 254.46999999999989, 254.73, 254.98000000000008, 255.55999999999995, 255.62, 255.85000000000002, 256.84000000000015, 257.1, 257.15000000000003, 257.3399999999999, 257.4, 257.55, 257.98999999999984, 259.24, 259.27, 260.52, 260.67, 261.04, 261.49, 261.5100000000001, 261.91, 262.4999999999999, 262.5899999999999, 262.71, 262.8, 263.59000000000003, 264.6600000000001, 264.66999999999996, 264.72, 265.7899999999999, 266.4400000000001, 266.54999999999995, 266.7099999999998, 267.3400000000001, 267.6, 268.23, 268.38000000000005, 268.5, 268.8, 268.80000000000007, 269.1000000000001, 269.77999999999986, 269.7999999999997, 270.27, 270.96, 271.88, 272.0199999999999, 272.1699999999999, 272.19000000000005, 272.31000000000006, 272.32999999999987, 272.55999999999983, 272.61, 272.90999999999997, 272.92000000000013, 273.47999999999985, 274.37, 275.62, 275.63, 275.87, 276.0, 276.06, 276.43, 277.49, 278.84, 280.4299999999998, 280.57999999999987, 280.6300000000001, 280.70999999999987, 281.17, 281.36999999999995, 281.44, 281.9500000000001, 282.58, 283.40000000000003, 283.49000000000007, 283.55, 284.4899999999998, 284.6799999999999, 287.57999999999987, 288.3500000000001, 288.4599999999999, 288.88, 289.3899999999998, 289.63, 290.33000000000004, 290.7200000000001, 290.78, 292.05, 292.0799999999998, 292.09, 292.4499999999999, 292.5, 292.8599999999999, 293.25, 293.33, 293.57, 293.69999999999993, 294.0, 294.3299999999999, 294.85, 295.08000000000004, 295.0800000000001, 295.63000000000005, 296.18, 296.34, 296.36999999999983, 296.5299999999999, 296.93000000000006, 297.04, 297.61, 297.99999999999983, 298.02, 298.89000000000004, 299.27999999999986, 299.36, 301.0, 301.10999999999984, 301.2000000000002, 301.81, 301.88, 303.67999999999984, 303.96000000000004, 304.65000000000003, 305.59000000000003, 305.66, 306.6, 306.65999999999997, 306.66999999999985, 307.12999999999994, 307.19999999999993, 308.53999999999996, 308.9900000000001, 309.15000000000003, 310.24, 310.44, 310.83, 311.29999999999984, 311.4699999999999, 311.5100000000001, 311.87, 312.13999999999993, 312.4299999999999, 312.5, 313.28999999999996, 313.75, 313.8099999999999, 313.85999999999996, 314.28999999999996, 314.35, 315.49000000000007, 315.65, 315.8, 317.0, 317.71999999999997, 319.0699999999998, 319.30000000000007, 322.52000000000004, 323.31999999999994, 323.3600000000001, 324.40000000000003, 324.48, 325.16, 325.86999999999995, 325.87999999999994, 326.0599999999999, 326.33000000000004, 326.3599999999999, 327.3500000000001, 328.38999999999993, 329.0699999999999, 329.71999999999997, 330.9, 331.13999999999993, 331.23, 331.60000000000014, 331.72999999999996, 332.2900000000001, 332.6, 332.86, 332.9, 333.0, 333.1300000000001, 333.23999999999995, 333.5, 333.61, 334.35, 336.5899999999998, 336.92999999999995, 337.0399999999999, 338.66, 339.2900000000002, 339.57, 340.0, 340.4100000000001, 340.45000000000005, 341.2299999999999, 341.35999999999984, 341.68000000000006, 342.26000000000005, 342.5, 342.59999999999997, 342.6199999999998, 343.33000000000004, 343.7200000000001, 344.39, 344.4499999999998, 345.0, 345.8500000000002, 346.93000000000006, 349.28999999999985, 350.84999999999985, 351.6, 352.15000000000003, 352.55, 352.64000000000027, 352.74999999999994, 352.8599999999998, 353.2099999999999, 353.36000000000007, 353.3899999999999, 353.45000000000005, 354.0400000000002, 354.2799999999998, 355.02000000000004, 355.05, 356.4, 357.70999999999987, 358.00000000000017, 358.08, 358.2599999999999, 358.8699999999998, 358.92999999999995, 358.96999999999986, 360.59, 361.0499999999997, 361.38, 362.65, 362.9399999999999, 362.96, 363.68999999999994, 365.2300000000001, 365.60999999999984, 365.76, 366.76, 366.81, 367.34999999999997, 367.35999999999996, 367.45000000000016, 369.78, 370.1000000000002, 370.3499999999998, 371.03999999999996, 371.25, 373.87999999999937, 374.08999999999986, 374.10000000000014, 374.12999999999977, 374.1399999999997, 375.0, 375.8, 376.0799999999999, 376.61000000000047, 376.9899999999998, 377.92999999999995, 378.03000000000003, 380.74000000000007, 380.89, 382.32, 383.22999999999996, 383.9099999999998, 384.0800000000001, 385.05, 385.46, 385.66999999999996, 386.3099999999998, 386.5499999999999, 388.0099999999998, 388.26, 388.74999999999994, 389.22, 389.2999999999999, 389.72999999999973, 392.3399999999999, 394.33, 394.84999999999997, 395.2100000000002, 396.5000000000001, 396.63999999999993, 397.7299999999996, 398.0400000000001, 398.38, 399.0, 399.09999999999985, 399.2999999999998, 399.92000000000013, 400.01000000000005, 400.04, 401.15999999999997, 401.23, 401.3000000000002, 401.3499999999998, 403.64000000000004, 403.93, 404.75000000000006, 404.90999999999997, 404.99999999999983, 406.5999999999999, 407.88000000000005, 407.9799999999999, 408.65999999999997, 408.9, 409.5, 410.03999999999996, 410.26000000000005, 410.6399999999999, 410.8499999999999, 411.09999999999997, 411.5199999999998, 412.65000000000015, 414.0199999999999, 414.0800000000001, 414.73999999999984, 414.84999999999997, 414.98000000000013, 415.23999999999984, 415.7000000000003, 416.01000000000016, 416.1399999999999, 417.57999999999987, 417.66999999999985, 417.72, 418.1200000000005, 418.22000000000025, 419.84999999999997, 419.98999999999984, 420.87000000000023, 421.8800000000001, 422.9000000000001, 422.98, 423.4599999999998, 423.5299999999999, 424.03, 425.34999999999974, 425.5699999999998, 425.7599999999998, 426.4099999999996, 427.44, 427.6100000000001, 428.0, 428.93999999999977, 429.44, 429.61999999999995, 430.34999999999997, 430.86, 431.0, 431.8000000000001, 432.3100000000003, 432.4299999999999, 432.75, 435.40999999999997, 435.74000000000007, 438.25000000000006, 439.0, 439.65, 441.77, 441.9900000000003, 443.07999999999987, 444.8699999999999, 445.87999999999977, 446.51000000000005, 447.2299999999999, 448.8799999999998, 450.39999999999986, 450.78000000000014, 450.84000000000003, 451.35, 451.5, 452.4599999999998, 452.7199999999997, 452.82, 453.7699999999999, 454.2999999999998, 454.31999999999994, 454.5200000000006, 454.97999999999985, 455.68, 455.84000000000015, 457.64999999999947, 459.8, 461.4100000000006, 461.81, 461.88, 462.15, 462.42, 462.50999999999976, 462.52000000000004, 462.6399999999999, 464.24000000000024, 465.23000000000013, 465.36, 465.81999999999965, 466.99999999999994, 467.65, 467.7100000000001, 468.06, 468.7899999999998, 469.09999999999974, 470.18000000000023, 470.79999999999984, 471.0600000000001, 472.06999999999994, 472.6499999999998, 474.40999999999997, 475.99999999999994, 476.3999999999999, 476.6999999999998, 477.88999999999993, 479.10999999999984, 479.36000000000064, 479.4100000000001, 480.11000000000007, 480.14999999999975, 481.0, 481.5, 481.70000000000005, 482.19000000000005, 482.2799999999997, 482.37999999999994, 482.7000000000001, 483.0299999999998, 483.75, 484.2099999999999, 484.75, 485.4499999999997, 487.49999999999983, 489.78, 490.80999999999995, 490.91999999999985, 491.29, 492.17, 493.9900000000003, 494.8700000000001, 495.8400000000001, 496.04, 496.27999999999986, 497.03999999999974, 497.70000000000005, 497.86000000000007, 498.3699999999997, 501.93, 502.00999999999965, 502.07000000000005, 502.2700000000001, 503.20999999999975, 504.55, 504.80000000000047, 504.97, 505.19, 505.4599999999995, 506.79999999999995, 507.21000000000004, 507.82999999999987, 507.90999999999997, 508.25000000000006, 508.26000000000005, 508.2900000000006, 509.0200000000001, 509.58, 509.65000000000003, 510.30000000000007, 510.7, 510.74, 511.88999999999993, 511.98000000000076, 512.75, 514.3899999999999, 516.1399999999999, 516.96, 518.0699999999996, 519.1999999999998, 521.3299999999998, 522.0500000000001, 522.0799999999997, 522.27, 522.9100000000003, 522.93, 523.1499999999995, 523.25, 523.4100000000007, 523.4300000000001, 525.0100000000001, 525.04, 526.01, 526.0500000000002, 526.4299999999998, 526.44, 528.1699999999998, 528.6799999999997, 528.7400000000001, 529.02, 529.5600000000002, 531.1699999999995, 531.36, 532.0, 532.4800000000002, 532.6899999999996, 533.5600000000001, 533.79, 534.4200000000001, 535.2799999999997, 535.4, 536.24, 536.8700000000002, 537.1800000000001, 537.9000000000002, 538.4399999999997, 539.1499999999997, 539.7599999999998, 539.89, 541.77, 542.1599999999999, 542.2999999999998, 542.7099999999998, 543.1099999999999, 543.51, 543.7999999999998, 544.5, 545.7199999999996, 545.7700000000003, 546.9599999999999, 547.35, 547.74, 548.1, 548.1099999999998, 548.6800000000002, 548.99, 549.52, 550.1799999999998, 550.6099999999999, 550.98, 551.4000000000001, 551.9800000000004, 552.7199999999999, 552.8499999999998, 554.13, 554.3300000000002, 554.8299999999999, 555.3000000000001, 555.4099999999999, 555.6, 556.0100000000001, 556.1899999999998, 557.4799999999997, 558.1199999999998, 558.6900000000002, 560.48, 561.05, 562.22, 562.68, 562.92, 563.3999999999997, 563.4499999999998, 564.1599999999997, 567.0, 567.7399999999999, 567.9500000000003, 568.0200000000001, 568.58, 568.5999999999998, 568.6799999999996, 568.71, 568.7300000000005, 569.4299999999998, 569.6999999999998, 570.0199999999998, 570.9300000000001, 571.77, 574.18, 574.19, 574.7100000000002, 574.8800000000002, 577.69, 578.3400000000005, 579.24, 580.06, 580.1000000000003, 580.2599999999998, 581.1299999999999, 581.9299999999998, 582.8700000000003, 582.94, 585.1999999999999, 585.65, 586.9999999999995, 587.2199999999999, 587.4899999999999, 587.7899999999998, 587.8000000000001, 588.6400000000001, 588.88, 589.43, 589.6700000000003, 590.4499999999999, 590.5000000000001, 591.4599999999999, 591.5, 591.5799999999999, 591.66, 591.8300000000003, 592.08, 592.5699999999999, 593.03, 593.43, 593.4300000000002, 593.5, 595.23, 596.6500000000001, 597.1400000000004, 599.2700000000003, 599.3799999999998, 600.1400000000002, 600.7499999999998, 600.9200000000004, 601.1700000000005, 601.6900000000002, 601.92, 602.6, 602.6800000000001, 603.6300000000003, 604.0099999999999, 604.3000000000001, 605.2099999999999, 605.2399999999998, 606.31, 606.9000000000003, 607.2100000000002, 607.7900000000001, 607.7900000000004, 608.1100000000001, 610.0899999999998, 610.5600000000001, 611.0699999999999, 611.0800000000002, 611.3799999999999, 611.5100000000001, 612.16, 612.5099999999999, 612.5500000000002, 613.53, 615.6599999999995, 615.6800000000005, 615.84, 616.1399999999999, 616.2099999999998, 617.0400000000003, 617.9199999999996, 619.2000000000002, 619.3399999999999, 619.5, 619.7499999999999, 620.7300000000001, 620.85, 621.7600000000001, 622.7200000000001, 623.1299999999999, 624.2100000000002, 624.2300000000001, 625.0699999999999, 625.2800000000001, 625.8000000000003, 626.74, 627.95, 628.4099999999997, 628.72, 629.0500000000001, 629.8799999999993, 629.9399999999986, 630.0, 630.7300000000001, 630.9700000000003, 631.5800000000002, 633.1800000000004, 635.21, 635.2399999999999, 635.38, 636.75, 637.3700000000002, 637.3999999999999, 637.6600000000001, 638.8000000000002, 638.9700000000005, 639.7100000000007, 640.95, 641.29, 641.3299999999999, 641.6800000000003, 641.6899999999999, 643.3799999999997, 643.8400000000004, 644.8800000000001, 645.01, 645.2099999999997, 645.3900000000003, 646.1399999999998, 647.6600000000002, 647.7499999999999, 647.7500000000003, 647.9100000000003, 648.61, 649.7399999999998, 649.8200000000002, 650.7599999999999, 652.7400000000004, 656.0999999999999, 656.2400000000002, 656.370000000001, 659.0000000000005, 659.5400000000001, 659.6100000000001, 660.5000000000001, 660.5600000000003, 660.7900000000009, 661.0199999999999, 661.3400000000001, 661.5, 662.1200000000002, 662.4099999999997, 662.87, 665.1699999999994, 666.2200000000004, 667.1400000000001, 667.2700000000001, 667.32, 669.25, 669.3800000000001, 669.62, 669.6999999999997, 669.7899999999998, 670.1099999999998, 670.5199999999993, 670.7899999999995, 670.9500000000002, 673.2099999999997, 674.6599999999997, 675.17, 676.2200000000003, 676.4800000000002, 676.9099999999999, 677.8899999999998, 678.5699999999999, 679.1299999999998, 679.5799999999998, 679.79, 679.9200000000001, 683.0499999999995, 683.1, 683.37, 684.2200000000003, 685.4600000000002, 685.8800000000007, 686.9700000000001, 687.6999999999998, 687.8000000000001, 689.0400000000003, 690.0, 690.24, 690.3299999999998, 690.49, 692.1600000000001, 693.1999999999997, 693.25, 693.3500000000004, 693.3800000000001, 693.8300000000003, 694.2499999999998, 696.0099999999999, 696.7499999999999, 696.88, 697.7999999999998, 698.6099999999996, 698.66, 699.2300000000001, 702.4500000000003, 702.5899999999996, 702.7900000000002, 702.9999999999998, 703.3999999999996, 703.54, 705.7399999999992, 706.0300000000002, 706.8600000000006, 709.1800000000001, 709.3900000000004, 709.54, 710.0300000000003, 710.71, 711.13, 711.2399999999999, 711.88, 712.0699999999999, 713.6200000000005, 713.8, 714.2, 714.5500000000003, 715.0599999999998, 715.0600000000003, 715.45, 715.5799999999998, 716.22, 716.2999999999997, 717.0299999999996, 717.2500000000002, 717.9900000000002, 720.2799999999994, 721.1900000000003, 721.49, 722.9799999999999, 723.1, 724.9100000000004, 726.7300000000004, 727.2199999999999, 727.4399999999999, 728.9000000000004, 728.9200000000008, 728.9700000000004, 730.3699999999999, 730.5000000000002, 730.6199999999989, 731.0500000000001, 731.53, 732.5100000000003, 732.6600000000007, 732.7899999999998, 734.7899999999998, 734.8900000000002, 734.9, 734.9399999999997, 736.2100000000005, 736.5700000000002, 738.4399999999999, 738.6900000000003, 740.0, 740.9400000000002, 741.6299999999993, 741.8899999999999, 742.5000000000005, 745.6499999999995, 745.7600000000001, 748.1900000000004, 748.2399999999999, 748.3200000000004, 748.53, 750.4800000000001, 750.6299999999997, 750.6799999999998, 750.9099999999993, 751.2999999999994, 751.3800000000002, 751.7500000000011, 751.9899999999998, 753.25, 753.7700000000001, 754.9599999999998, 755.0500000000003, 755.4200000000006, 755.5700000000003, 755.8500000000001, 756.0999999999996, 757.860000000001, 758.1799999999998, 758.3400000000013, 758.5099999999998, 758.77, 759.33, 761.2500000000003, 761.8499999999999, 762.95, 763.1, 763.9500000000002, 764.9200000000005, 765.02, 765.13, 766.1899999999998, 766.6599999999996, 767.4400000000003, 767.9000000000007, 769.6199999999999, 771.1999999999997, 773.7800000000004, 774.7499999999999, 774.8000000000001, 775.4300000000001, 775.5899999999997, 775.6599999999997, 776.76, 778.2800000000004, 778.6399999999996, 779.1400000000004, 780.9099999999996, 781.6400000000001, 782.8200000000007, 782.9999999999998, 783.1000000000005, 785.17, 786.2700000000002, 788.95, 791.0100000000003, 792.0699999999999, 792.3100000000001, 793.0600000000003, 793.3199999999999, 793.3699999999999, 793.69, 794.5200000000007, 795.7200000000012, 796.74, 796.7500000000005, 799.1000000000016, 799.3000000000001, 799.6100000000004, 800.0500000000006, 800.2300000000009, 800.6500000000012, 801.1, 801.6300000000003, 802.7300000000007, 802.87, 806.22, 808.22, 808.9799999999997, 810.2199999999999, 813.6199999999999, 813.78, 813.8600000000002, 814.02, 817.1700000000005, 818.3599999999999, 818.7100000000003, 819.0099999999992, 819.21, 819.7500000000003, 819.7700000000025, 819.7799999999993, 819.9500000000005, 821.1, 822.4800000000001, 822.9100000000002, 824.4400000000005, 824.6700000000001, 824.95, 825.7000000000003, 825.9500000000004, 827.1999999999996, 827.4300000000006, 828.359999999999, 828.99, 829.6600000000014, 831.6300000000001, 831.84, 833.1400000000011, 833.2900000000006, 833.5899999999991, 834.3099999999993, 837.7700000000004, 837.8799999999999, 838.6299999999999, 838.7100000000005, 840.9200000000002, 841.01, 841.3100000000001, 841.7500000000001, 843.2400000000002, 844.2000000000002, 844.7399999999998, 845.360000000001, 845.4200000000001, 847.5899999999991, 848.4399999999998, 849.0000000000002, 849.2400000000002, 849.6000000000007, 850.7199999999999, 851.629999999999, 851.6999999999992, 852.2299999999982, 852.5300000000001, 854.6500000000004, 855.32, 855.8400000000005, 856.6599999999999, 857.4000000000005, 857.4399999999995, 858.1500000000002, 858.6600000000001, 860.0199999999996, 860.3599999999997, 860.8400000000001, 860.9300000000004, 861.7300000000001, 861.8200000000004, 863.6599999999992, 864.1, 865.0399999999997, 865.2499999999999, 868.1400000000006, 868.2500000000005, 868.7900000000005, 871.0700000000004, 871.5300000000007, 872.1499999999996, 872.760000000001, 872.890000000002, 873.2500000000001, 877.8000000000001, 878.2099999999992, 878.8400000000001, 879.3100000000006, 880.2300000000007, 884.56, 884.7700000000002, 885.02, 887.0100000000015, 889.4299999999998, 889.76, 892.7000000000005, 895.38, 895.4200000000001, 896.0, 896.34, 896.41, 896.4399999999997, 897.1200000000013, 898.2800000000001, 898.72, 899.0199999999995, 899.4500000000006, 899.7899999999994, 899.9300000000003, 901.0, 901.0400000000012, 901.0600000000002, 901.5800000000005, 901.7999999999998, 901.91, 902.0400000000002, 902.9200000000011, 903.8800000000003, 904.3599999999999, 904.8199999999997, 905.26, 905.94, 907.3499999999992, 908.4300000000001, 909.0899999999996, 909.3700000000001, 909.870000000001, 909.9699999999996, 909.9700000000001, 911.7699999999999, 912.0599999999998, 913.3900000000001, 913.5199999999991, 913.54, 914.4999999999994, 914.6700000000002, 917.5500000000001, 917.5799999999979, 918.6800000000001, 921.6900000000007, 921.8800000000003, 924.0899999999997, 924.7700000000015, 924.9700000000003, 926.0099999999999, 926.1500000000004, 927.9600000000005, 928.7599999999998, 929.4699999999998, 929.9399999999995, 930.2300000000002, 930.4799999999997, 930.5999999999995, 930.8700000000009, 931.5100000000012, 931.8600000000001, 932.15, 932.9500000000005, 932.98, 934.2699999999983, 935.1499999999999, 935.5400000000009, 937.1700000000003, 937.7500000000002, 939.7999999999992, 940.7499999999993, 943.4400000000013, 945.6000000000016, 946.5500000000005, 947.06, 947.659999999999, 949.8900000000009, 952.4699999999998, 952.6899999999976, 953.2699999999993, 954.3199999999998, 956.3199999999994, 957.3299999999997, 957.6300000000005, 957.7299999999998, 959.5899999999998, 959.6400000000001, 959.6800000000002, 960.2599999999998, 961.1399999999975, 962.2499999999984, 962.3600000000014, 962.6299999999984, 962.7500000000011, 964.9100000000003, 965.5000000000002, 965.6800000000002, 965.9599999999997, 966.1699999999998, 966.2200000000006, 967.860000000001, 969.2300000000004, 969.4599999999997, 970.2800000000002, 970.4000000000002, 971.67, 973.3599999999994, 974.72, 975.6799999999984, 977.3200000000006, 978.7900000000001, 979.1500000000009, 979.74, 979.8100000000003, 981.22, 984.3900000000007, 986.0700000000003, 986.2599999999999, 987.2600000000006, 987.36, 987.9399999999999, 988.76, 989.4200000000009, 990.0, 990.6899999999993, 991.3800000000001, 992.0299999999983, 994.2400000000002, 995.5999999999996, 995.9900000000002, 996.3799999999999, 996.4500000000003, 996.5300000000003, 997.200000000001, 997.95, 998.0300000000003, 998.6400000000009, 999.2200000000007, 1000.8200000000011, 1002.5400000000006, 1003.4500000000003, 1004.1000000000005, 1004.2499999999989, 1005.6900000000002, 1005.9900000000001, 1006.1899999999996, 1006.3699999999998, 1007.5300000000001, 1007.7500000000002, 1007.9099999999993, 1008.4100000000001, 1009.5099999999996, 1011.6300000000001, 1016.7299999999994, 1017.4800000000014, 1019.8100000000007, 1019.8500000000008, 1020.7300000000004, 1020.8799999999994, 1020.9200000000003, 1022.0900000000007, 1023.1400000000018, 1024.49, 1025.6, 1026.3800000000003, 1026.8300000000008, 1027.1400000000017, 1027.28, 1029.4100000000003, 1029.9799999999998, 1031.0499999999993, 1031.4799999999996, 1033.2800000000002, 1033.8799999999997, 1034.8000000000004, 1035.75, 1035.77, 1036.5200000000018, 1038.16, 1039.6400000000006, 1041.0200000000007, 1041.0600000000006, 1041.1, 1041.4200000000008, 1042.1900000000005, 1042.3200000000002, 1043.7200000000007, 1044.3499999999985, 1045.16, 1046.4199999999998, 1047.1599999999999, 1048.51, 1050.0, 1050.2200000000003, 1050.7500000000002, 1051.0500000000002, 1052.2900000000004, 1052.3600000000013, 1052.4699999999998, 1052.5300000000007, 1053.9499999999991, 1054.6399999999996, 1057.7999999999997, 1060.1800000000007, 1060.6600000000008, 1061.2500000000005, 1061.8300000000002, 1062.279999999999, 1062.35, 1062.4200000000017, 1062.5600000000009, 1062.6399999999999, 1062.7500000000002, 1063.7700000000007, 1065.4399999999996, 1066.1099999999997, 1066.12, 1066.6599999999999, 1067.0100000000004, 1067.6000000000004, 1067.8100000000006, 1067.8399999999988, 1068.9100000000003, 1069.5700000000006, 1070.1999999999982, 1070.8200000000002, 1070.92, 1071.9100000000003, 1076.05, 1077.0799999999997, 1077.2800000000004, 1078.789999999998, 1078.7900000000002, 1078.8800000000003, 1080.4099999999999, 1080.8699999999997, 1083.17, 1086.650000000001, 1087.2699999999993, 1087.4000000000012, 1088.4699999999993, 1089.08, 1090.0200000000007, 1090.26, 1090.7500000000002, 1091.0400000000004, 1091.2200000000005, 1091.9700000000003, 1092.0900000000001, 1092.9999999999995, 1094.6099999999994, 1095.6300000000006, 1097.3300000000004, 1098.6200000000006, 1098.8599999999997, 1101.5500000000002, 1101.71, 1101.7800000000007, 1103.4999999999995, 1105.8000000000009, 1107.2599999999998, 1107.2800000000004, 1107.4300000000005, 1107.920000000001, 1108.0700000000018, 1108.759999999999, 1109.5, 1109.52, 1111.4700000000028, 1112.6600000000021, 1113.6600000000008, 1113.92, 1113.9300000000005, 1117.3, 1117.9399999999998, 1118.4400000000026, 1118.5300000000002, 1119.2199999999993, 1125.4699999999996, 1127.7200000000005, 1127.9099999999999, 1128.3999999999992, 1129.3599999999994, 1132.16, 1133.8299999999995, 1134.6500000000012, 1136.1899999999998, 1136.9099999999996, 1139.1999999999994, 1139.639999999999, 1140.6699999999985, 1144.1000000000029, 1144.1200000000001, 1144.3, 1144.3000000000002, 1147.37, 1148.0600000000002, 1149.0699999999997, 1151.0300000000007, 1151.0900000000004, 1151.3100000000002, 1152.8300000000008, 1153.200000000001, 1154.4300000000005, 1154.45, 1155.1100000000004, 1156.22, 1156.4499999999998, 1156.5099999999993, 1158.4700000000003, 1159.8999999999996, 1160.230000000001, 1160.5700000000004, 1162.1000000000015, 1163.1300000000015, 1163.2199999999987, 1164.2899999999995, 1164.5299999999997, 1164.9399999999996, 1164.980000000001, 1166.3, 1168.0800000000002, 1169.7499999999982, 1170.0500000000002, 1170.5100000000004, 1170.8399999999992, 1171.730000000002, 1171.9200000000008, 1173.879999999998, 1176.3600000000001, 1181.840000000001, 1182.5300000000009, 1182.820000000001, 1183.480000000001, 1183.6299999999992, 1184.6800000000012, 1184.7700000000013, 1185.0, 1186.9, 1190.5600000000002, 1195.8699999999997, 1196.3600000000004, 1198.0000000000005, 1198.83, 1199.0000000000002, 1199.1000000000004, 1200.8200000000002, 1200.9300000000003, 1201.2700000000004, 1203.5699999999993, 1203.5800000000006, 1203.9599999999998, 1207.7300000000007, 1208.800000000003, 1211.1599999999987, 1211.4300000000005, 1214.4299999999982, 1214.7000000000012, 1215.559999999999, 1216.3799999999983, 1218.4800000000005, 1219.8299999999988, 1221.3600000000004, 1222.6900000000005, 1226.0500000000004, 1227.510000000002, 1227.9499999999996, 1229.880000000001, 1231.6200000000022, 1232.58, 1233.5700000000002, 1233.7999999999993, 1239.940000000001, 1239.96, 1241.1699999999998, 1244.2099999999978, 1244.2099999999994, 1245.74, 1245.7700000000013, 1247.7700000000007, 1248.7399999999993, 1249.1100000000006, 1249.7400000000011, 1253.2200000000016, 1253.82, 1254.2400000000007, 1255.9100000000003, 1256.9400000000005, 1258.3400000000015, 1258.7199999999996, 1258.7800000000018, 1259.3900000000006, 1261.1100000000024, 1262.0899999999997, 1263.47, 1264.75, 1265.1000000000013, 1266.4999999999995, 1268.4100000000008, 1274.139999999999, 1274.4700000000003, 1275.62, 1276.0200000000036, 1276.5400000000013, 1279.0499999999997, 1279.7900000000002, 1281.9500000000016, 1282.9000000000003, 1283.470000000002, 1283.8100000000004, 1285.3600000000022, 1286.4300000000028, 1288.9699999999998, 1289.22, 1291.6500000000008, 1293.9400000000005, 1295.27, 1298.6399999999956, 1298.77, 1298.8900000000015, 1298.93, 1299.060000000001, 1300.879999999999, 1301.0600000000006, 1301.72, 1302.5400000000009, 1302.7899999999997, 1304.6100000000006, 1306.59, 1308.7399999999998, 1309.3900000000008, 1313.3900000000017, 1315.029999999998, 1315.730000000001, 1316.4299999999994, 1317.6700000000023, 1317.8100000000002, 1317.9099999999992, 1318.1499999999994, 1319.1799999999996, 1321.6800000000005, 1325.570000000001, 1328.3200000000004, 1329.4900000000002, 1331.089999999999, 1331.4600000000007, 1331.6600000000003, 1333.810000000001, 1334.1100000000006, 1334.3399999999983, 1334.4900000000011, 1336.3800000000017, 1336.760000000003, 1337.460000000001, 1338.5, 1338.6399999999999, 1338.9500000000007, 1342.6200000000015, 1343.5, 1343.6200000000013, 1343.8900000000003, 1349.340000000001, 1349.410000000002, 1351.18, 1351.4300000000007, 1352.7399999999993, 1352.8200000000002, 1353.6199999999988, 1354.3000000000002, 1354.8700000000051, 1358.1899999999991, 1358.5199999999995, 1359.95, 1361.5099999999986, 1362.9000000000005, 1363.279999999998, 1364.6499999999976, 1366.51, 1366.5300000000002, 1372.8600000000001, 1374.8800000000015, 1375.5, 1376.4099999999983, 1376.7600000000014, 1378.7699999999998, 1380.000000000003, 1380.2299999999977, 1380.5200000000002, 1386.0700000000033, 1386.210000000001, 1388.5900000000013, 1388.7400000000002, 1388.790000000001, 1389.2299999999998, 1389.8000000000002, 1390.2399999999998, 1390.3099999999988, 1391.7599999999998, 1392.2400000000002, 1393.3700000000008, 1394.0300000000004, 1394.8900000000015, 1395.2099999999975, 1396.4099999999994, 1396.4100000000008, 1396.7799999999957, 1397.1000000000029, 1397.1899999999998, 1397.2200000000023, 1399.8299999999995, 1402.3100000000022, 1405.42, 1406.0600000000002, 1406.2200000000014, 1409.2399999999996, 1409.9800000000005, 1410.610000000001, 1411.17, 1411.5000000000002, 1412.0800000000017, 1413.2200000000007, 1415.0500000000002, 1415.8199999999993, 1420.4300000000003, 1421.2199999999987, 1421.4500000000023, 1422.3200000000002, 1422.74, 1428.5500000000006, 1428.550000000005, 1431.5999999999967, 1435.18, 1435.2500000000005, 1435.5100000000016, 1437.3099999999995, 1438.6600000000026, 1439.9100000000024, 1442.3900000000006, 1442.6199999999983, 1443.9300000000026, 1446.5600000000002, 1447.5299999999972, 1448.6699999999992, 1450.2199999999998, 1451.1200000000033, 1451.5700000000002, 1451.7700000000004, 1452.0799999999997, 1457.1999999999998, 1457.3700000000008, 1458.6300000000015, 1459.47, 1460.2000000000007, 1461.6000000000022, 1463.59, 1464.3800000000006, 1467.2100000000032, 1468.92, 1471.0, 1471.000000000001, 1471.9500000000005, 1475.5399999999995, 1478.44, 1479.7000000000012, 1481.7799999999982, 1482.0600000000006, 1482.7399999999996, 1484.8299999999997, 1486.9200000000014, 1487.7700000000013, 1488.4399999999976, 1488.6500000000017, 1490.0, 1490.3800000000012, 1491.209999999997, 1491.2399999999998, 1491.7500000000011, 1491.8099999999993, 1491.980000000003, 1493.5300000000002, 1494.1800000000012, 1498.5499999999995, 1499.0500000000047, 1499.379999999999, 1502.34, 1502.3800000000015, 1503.6400000000006, 1504.1499999999996, 1504.4900000000007, 1510.689999999999, 1511.3999999999974, 1513.1300000000008, 1513.9300000000007, 1515.0200000000023, 1519.6699999999992, 1520.190000000001, 1520.2299999999996, 1521.3199999999974, 1524.789999999999, 1525.7100000000019, 1526.5300000000002, 1529.5399999999997, 1531.840000000001, 1532.9599999999982, 1533.1700000000003, 1533.180000000001, 1533.2800000000025, 1533.9600000000057, 1534.2800000000013, 1534.4200000000003, 1535.1300000000006, 1535.6400000000003, 1536.6700000000008, 1538.5300000000002, 1543.5100000000004, 1544.3899999999978, 1545.5000000000016, 1546.2499999999984, 1547.5399999999977, 1549.5700000000038, 1549.770000000001, 1550.3799999999974, 1550.960000000001, 1550.9700000000012, 1551.1, 1558.1599999999994, 1559.16, 1559.3700000000028, 1559.83, 1561.5700000000004, 1562.0700000000018, 1563.59, 1564.3200000000027, 1566.6700000000008, 1567.0, 1568.9800000000014, 1569.31, 1570.2399999999986, 1571.75, 1574.75, 1575.7300000000002, 1577.2800000000013, 1579.030000000001, 1581.0600000000009, 1583.520000000003, 1586.990000000003, 1587.0300000000004, 1588.8000000000043, 1589.0300000000004, 1589.5100000000004, 1590.6399999999994, 1590.7900000000022, 1591.090000000001, 1592.0900000000015, 1592.1100000000024, 1594.870000000002, 1595.1300000000012, 1595.2600000000016, 1600.56, 1600.9300000000003, 1603.4700000000028, 1604.6100000000035, 1607.589999999999, 1610.640000000004, 1611.6300000000017, 1612.5299999999966, 1613.3300000000027, 1613.820000000001, 1615.9700000000005, 1616.6900000000003, 1617.1, 1618.709999999998, 1620.0900000000029, 1620.3600000000001, 1622.9600000000003, 1623.1299999999992, 1625.12, 1627.3600000000013, 1631.1299999999985, 1632.3199999999993, 1633.7800000000009, 1636.500000000002, 1637.1700000000026, 1642.4499999999985, 1642.6499999999987, 1650.2999999999997, 1650.36, 1650.670000000004, 1655.9699999999943, 1656.2100000000007, 1660.0400000000004, 1663.8100000000027, 1663.9600000000007, 1666.6299999999978, 1667.7199999999982, 1669.639999999999, 1670.5499999999995, 1671.4499999999998, 1671.8200000000015, 1675.61, 1675.7300000000043, 1676.9900000000002, 1677.6000000000013, 1677.9500000000019, 1679.189999999996, 1679.5600000000024, 1682.009999999998, 1684.0100000000011, 1685.720000000001, 1686.2800000000047, 1687.7200000000007, 1693.24, 1693.5000000000016, 1694.7300000000018, 1695.6900000000019, 1697.3600000000004, 1698.12, 1698.6200000000013, 1699.1000000000013, 1700.5700000000004, 1701.229999999998, 1703.9700000000012, 1704.1900000000014, 1704.6100000000029, 1705.4300000000032, 1705.4400000000023, 1706.5, 1714.3500000000001, 1717.0300000000034, 1718.4600000000003, 1719.2199999999996, 1720.640000000002, 1722.4399999999928, 1722.4900000000011, 1724.870000000002, 1725.2600000000023, 1728.399999999995, 1730.0199999999973, 1732.7900000000016, 1734.1399999999974, 1736.4300000000007, 1737.0100000000016, 1741.609999999997, 1744.6100000000035, 1745.8499999999997, 1746.5399999999984, 1750.62, 1752.350000000002, 1752.9799999999987, 1754.289999999999, 1755.2800000000034, 1756.5100000000016, 1758.199999999999, 1758.4200000000035, 1758.760000000001, 1759.789999999998, 1766.74, 1766.9199999999967, 1775.560000000001, 1778.75, 1781.5099999999995, 1785.020000000002, 1787.2600000000014, 1787.4100000000017, 1789.6899999999969, 1792.1000000000008, 1794.5300000000018, 1795.5000000000023, 1796.0400000000002, 1796.120000000001, 1797.3400000000045, 1798.460000000003, 1801.9800000000007, 1803.6099999999974, 1804.9200000000012, 1809.6700000000046, 1810.2400000000014, 1811.3000000000002, 1811.5400000000045, 1812.4300000000003, 1815.2900000000013, 1816.7000000000016, 1817.7099999999994, 1818.7199999999987, 1818.819999999997, 1825.9100000000067, 1828.4999999999989, 1834.9100000000026, 1839.949999999999, 1839.96, 1840.2000000000025, 1841.6999999999998, 1842.0199999999988, 1842.42, 1844.7000000000007, 1845.0700000000004, 1845.1099999999994, 1846.850000000002, 1848.3100000000013, 1850.1800000000019, 1856.0500000000004, 1857.6500000000008, 1861.7200000000003, 1863.390000000003, 1865.7900000000006, 1868.7, 1870.7699999999973, 1872.080000000004, 1872.3100000000015, 1873.250000000003, 1873.3300000000002, 1873.4000000000005, 1874.47, 1878.6100000000024, 1878.850000000003, 1882.48, 1883.0900000000013, 1884.1700000000042, 1886.19, 1886.2200000000016, 1886.8300000000004, 1888.8999999999992, 1889.5100000000002, 1889.9099999999994, 1890.1700000000012, 1890.8000000000022, 1891.1000000000004, 1892.3799999999997, 1893.7499999999973, 1897.2299999999998, 1899.0100000000014, 1899.92, 1900.37, 1902.5199999999998, 1904.0900000000001, 1904.7099999999994, 1905.1499999999996, 1907.0800000000036, 1907.1299999999987, 1908.2400000000016, 1909.0300000000043, 1911.8500000000022, 1915.0800000000024, 1916.24, 1917.2299999999982, 1921.3099999999995, 1923.2800000000018, 1923.3499999999972, 1925.5399999999986, 1928.2499999999989, 1928.5699999999993, 1939.51, 1939.5100000000061, 1947.6500000000024, 1949.7100000000037, 1951.0700000000036, 1954.8000000000025, 1955.3700000000003, 1958.0799999999992, 1958.5600000000043, 1960.8099999999997, 1961.54, 1962.649999999999, 1969.0300000000034, 1969.900000000001, 1969.9100000000014, 1970.5800000000029, 1970.8900000000044, 1971.9100000000046, 1975.1699999999983, 1976.8900000000026, 1980.150000000001, 1980.2700000000011, 1983.5399999999975, 1985.2200000000012, 1985.4400000000032, 1985.6300000000012, 1988.4600000000032, 1992.8500000000013, 1993.140000000006, 1993.599999999999, 1995.5100000000027, 1996.4400000000014, 1998.7000000000014, 2000.600000000001, 2000.73, 2002.1900000000026, 2004.9999999999968, 2008.0700000000024, 2010.4300000000012, 2011.6499999999999, 2011.9900000000005, 2012.430000000001, 2016.2499999999977, 2019.8400000000008, 2020.0300000000016, 2022.4800000000023, 2024.4600000000005, 2024.720000000002, 2029.3400000000008, 2031.1599999999994, 2034.5, 2037.7100000000023, 2038.3099999999968, 2038.619999999999, 2039.7899999999997, 2040.8599999999988, 2041.3200000000027, 2041.9000000000062, 2044.0200000000004, 2044.1900000000007, 2044.3600000000015, 2044.5800000000004, 2045.3399999999947, 2047.7800000000016, 2049.109999999998, 2052.8700000000026, 2060.449999999999, 2060.6500000000005, 2062.5600000000004, 2064.3900000000003, 2066.6400000000003, 2068.300000000003, 2068.3700000000017, 2069.4000000000005, 2070.099999999997, 2070.5499999999993, 2072.95, 2077.0599999999986, 2078.8800000000015, 2080.9399999999982, 2085.7200000000003, 2088.4200000000014, 2089.0499999999975, 2091.430000000001, 2092.8899999999994, 2095.0, 2095.270000000001, 2096.070000000001, 2102.459999999999, 2104.920000000001, 2105.2199999999966, 2111.4900000000007, 2111.64, 2115.810000000003, 2116.010000000002, 2118.0500000000015, 2118.1900000000005, 2124.6700000000005, 2127.959999999998, 2129.5600000000004, 2130.3000000000015, 2131.4199999999887, 2133.6899999999914, 2134.0699999999983, 2137.7400000000025, 2140.3799999999983, 2142.5800000000017, 2144.31, 2144.340000000003, 2146.01, 2147.13, 2147.32, 2149.0000000000023, 2151.0, 2152.86, 2152.879999999996, 2155.73, 2155.770000000001, 2156.6000000000013, 2157.8499999999995, 2159.59, 2161.239999999996, 2173.050000000001, 2173.380000000001, 2175.3500000000026, 2176.2900000000027, 2180.230000000003, 2180.2500000000077, 2189.3200000000006, 2189.900000000001, 2194.2000000000016, 2196.6100000000006, 2198.260000000001, 2199.84, 2200.0100000000025, 2202.51, 2203.51, 2209.589999999999, 2211.390000000002, 2213.9699999999966, 2214.2299999999996, 2215.75, 2219.5100000000016, 2220.370000000001, 2223.9199999999933, 2224.8600000000024, 2225.0800000000017, 2227.42, 2236.7500000000023, 2237.7099999999996, 2238.2099999999987, 2245.2999999999965, 2248.02, 2248.76, 2249.4100000000003, 2250.44, 2251.3900000000003, 2253.5399999999977, 2254.699999999989, 2257.0, 2257.720000000003, 2259.4400000000037, 2263.93, 2277.71, 2279.709999999988, 2281.6999999999975, 2283.5199999999986, 2284.2700000000023, 2286.75, 2287.259999999994, 2287.550000000003, 2290.860000000002, 2291.9700000000007, 2293.910000000006, 2295.870000000001, 2296.150000000003, 2297.6600000000035, 2297.990000000001, 2305.150000000001, 2306.990000000001, 2309.9000000000015, 2310.150000000002, 2313.5300000000016, 2314.079999999996, 2316.620000000001, 2317.9800000000005, 2318.2000000000053, 2318.550000000003, 2318.590000000001, 2321.9499999999994, 2322.8099999999986, 2323.9200000000014, 2326.599999999998, 2327.5300000000007, 2327.929999999999, 2331.3499999999985, 2331.529999999998, 2333.6199999999985, 2333.7399999999993, 2335.7800000000025, 2335.9199999999996, 2336.120000000001, 2339.5400000000013, 2339.7999999999997, 2341.84, 2346.19, 2347.579999999997, 2348.2999999999993, 2348.640000000001, 2351.590000000002, 2355.4800000000005, 2365.1399999999994, 2365.6800000000067, 2371.130000000001, 2372.5700000000006, 2373.010000000001, 2373.3200000000006, 2373.6399999999994, 2375.4800000000037, 2376.519999999999, 2377.3100000000004, 2377.4199999999996, 2378.4799999999996, 2379.609999999993, 2385.990000000002, 2388.480000000003, 2394.2299999999987, 2394.890000000003, 2396.8400000000006, 2400.4, 2404.7900000000022, 2407.160000000001, 2409.2200000000003, 2409.319999999999, 2409.880000000003, 2410.1600000000003, 2412.770000000009, 2415.7200000000016, 2417.9000000000015, 2419.259999999996, 2420.0299999999966, 2423.9699999999993, 2427.2499999999995, 2433.439999999999, 2440.0, 2442.690000000002, 2445.5300000000025, 2445.8200000000024, 2445.8599999999997, 2446.0899999999974, 2446.5399999999995, 2447.9500000000016, 2448.860000000001, 2453.4100000000035, 2455.090000000002, 2456.1, 2456.2599999999998, 2458.46, 2459.0500000000006, 2459.159999999999, 2462.4500000000025, 2462.8299999999945, 2466.7499999999977, 2471.539999999997, 2475.0, 2475.02, 2476.2799999999984, 2477.5200000000023, 2480.1700000000014, 2484.639999999999, 2485.350000000004, 2491.029999999998, 2494.6199999999985, 2495.3499999999976, 2496.209999999999, 2498.429999999998, 2501.640000000002, 2503.579999999999, 2511.140000000001, 2516.3100000000004, 2520.3700000000013, 2524.4699999999975, 2526.69, 2528.6500000000046, 2531.6900000000005, 2535.1, 2536.629999999998, 2544.7100000000014, 2552.8499999999976, 2557.37, 2557.8300000000086, 2561.4699999999984, 2563.23, 2565.92, 2568.14, 2570.450000000009, 2570.9200000000023, 2589.6600000000003, 2591.699999999997, 2592.180000000001, 2598.7599999999998, 2599.2200000000003, 2601.6300000000037, 2601.9300000000007, 2604.750000000008, 2606.789999999998, 2608.640000000001, 2609.3200000000024, 2612.769999999999, 2613.1800000000017, 2615.1000000000026, 2616.7799999999975, 2618.369999999998, 2624.8000000000006, 2639.6799999999994, 2640.25, 2644.3100000000013, 2645.6399999999985, 2652.3199999999983, 2655.8100000000018, 2658.21, 2662.640000000002, 2662.690000000001, 2663.439999999998, 2663.8199999999993, 2665.8000000000006, 2668.0099999999998, 2669.6300000000047, 2670.8500000000017, 2671.4099999999976, 2675.8799999999997, 2678.330000000002, 2680.7599999999984, 2682.5299999999893, 2683.6499999999846, 2683.800000000003, 2687.8900000000026, 2693.310000000003, 2693.8199999999943, 2706.7000000000007, 2706.7900000000027, 2709.2299999999996, 2713.7000000000016, 2714.9600000000014, 2717.1500000000015, 2717.7399999999984, 2718.6999999999994, 2718.819999999998, 2721.500000000001, 2729.4499999999935, 2729.919999999999, 2733.3500000000026, 2734.9000000000046, 2741.8800000000015, 2742.5700000000024, 2743.780000000001, 2744.570000000003, 2744.6400000000017, 2746.539999999999, 2749.8500000000013, 2751.2900000000013, 2756.0099999999993, 2758.600000000005, 2758.7200000000003, 2760.540000000003, 2762.9199999999996, 2765.5299999999993, 2767.57, 2773.1099999999997, 2774.8499999999995, 2776.0000000000036, 2779.28, 2782.19, 2782.9300000000007, 2788.650000000002, 2788.660000000001, 2789.189999999995, 2790.8900000000017, 2796.8799999999956, 2797.55, 2800.3599999999983, 2805.6800000000003, 2809.8400000000033, 2811.459999999997, 2815.0100000000025, 2824.5200000000004, 2829.189999999999, 2832.9599999999978, 2833.379999999999, 2834.1800000000003, 2838.899999999991, 2839.1199999999817, 2845.369999999994, 2846.790000000004, 2847.4000000000055, 2850.18, 2853.9099999999935, 2856.5499999999975, 2857.640000000001, 2859.4500000000016, 2862.7800000000043, 2863.010000000002, 2869.7599999999834, 2874.8600000000033, 2879.389999999999, 2882.500000000002, 2884.410000000001, 2884.8100000000004, 2886.600000000001, 2887.599999999998, 2896.52, 2898.9199999999933, 2900.500000000001, 2903.0700000000024, 2920.820000000005, 2925.489999999999, 2926.6200000000053, 2935.059999999998, 2936.8300000000004, 2940.9799999999955, 2943.8999999999996, 2943.9000000000055, 2945.169999999998, 2952.6900000000046, 2954.3799999999874, 2954.4499999999944, 2961.2900000000054, 2967.5900000000015, 2975.569999999998, 2975.709999999999, 2980.95, 2982.960000000001, 2983.680000000005, 2984.2799999999984, 2991.6899999999996, 2993.159999999998, 2994.0299999999957, 2998.4800000000046, 3001.31, 3007.6899999999946, 3008.34, 3011.859999999998, 3018.969999999995, 3024.139999999998, 3024.4199999999996, 3027.3300000000017, 3032.9799999999996, 3036.9299999999957, 3038.0400000000004, 3040.139999999997, 3044.789999999994, 3047.080000000002, 3050.82, 3051.390000000006, 3051.9899999999857, 3060.860000000003, 3066.109999999999, 3073.0400000000045, 3074.500000000004, 3082.0699999999915, 3089.140000000001, 3090.0200000000023, 3091.0100000000048, 3091.1999999999794, 3096.829999999998, 3098.680000000002, 3105.989999999994, 3109.51, 3109.8400000000015, 3119.0799999999995, 3123.179999999988, 3124.3000000000015, 3125.439999999999, 3126.6800000000003, 3132.3599999999983, 3139.9500000000035, 3141.5000000000023, 3147.4000000000074, 3148.8799999999937, 3151.659999999999, 3153.2399999999943, 3156.399999999989, 3156.56, 3160.77, 3164.1899999999855, 3166.480000000003, 3169.160000000003, 3170.3299999999995, 3171.5699999999965, 3184.9100000000008, 3184.949999999998, 3185.25, 3190.3099999999818, 3190.8299999999904, 3195.100000000001, 3196.92, 3206.9900000000016, 3208.510000000005, 3209.780000000003, 3210.1699999999964, 3211.2500000000036, 3211.879999999995, 3212.4099999999967, 3213.0399999999977, 3213.7999999999965, 3216.780000000007, 3219.9299999999976, 3222.189999999999, 3229.3499999999995, 3234.04, 3235.5399999999995, 3237.2299999999873, 3251.3599999999988, 3254.3200000000024, 3256.9400000000014, 3258.309999999998, 3258.519999999998, 3266.4599999999996, 3267.499999999998, 3275.7699999999973, 3276.42, 3279.2100000000014, 3279.579999999999, 3279.950000000001, 3281.1500000000005, 3282.9600000000028, 3283.0, 3283.6900000000082, 3285.580000000009, 3288.02000000001, 3293.440000000004, 3295.9799999999973, 3303.7100000000005, 3304.9599999999937, 3306.2800000000016, 3307.800000000002, 3324.219999999993, 3334.1600000000003, 3339.2, 3344.370000000006, 3349.509999999995, 3355.049999999993, 3359.4900000000007, 3360.549999999999, 3361.2500000000005, 3364.440000000014, 3368.6900000000005, 3369.8300000000004, 3370.3000000000006, 3370.409999999996, 3372.8900000000012, 3374.4099999999958, 3375.559999999997, 3380.5100000000084, 3382.090000000007, 3387.9299999999985, 3391.929999999999, 3396.7800000000025, 3398.020000000002, 3404.8700000000063, 3409.0199999999977, 3417.8200000000006, 3418.330000000002, 3426.3300000000036, 3427.44, 3430.9599999999978, 3431.9699999999907, 3432.87, 3435.690000000012, 3436.329999999997, 3440.5800000000017, 3440.9900000000052, 3444.509999999999, 3445.3199999999974, 3448.220000000001, 3448.6899999999996, 3451.0300000000047, 3453.9999999999995, 3456.4699999999925, 3457.5, 3476.940000000013, 3485.3199999999797, 3491.0500000000015, 3495.8800000000033, 3497.600000000004, 3504.6199999999976, 3506.480000000001, 3506.629999999995, 3517.2899999999977, 3517.740000000001, 3521.7599999999957, 3522.870000000007, 3530.9199999999996, 3542.43000000001, 3542.5500000000006, 3545.549999999997, 3550.709999999996, 3556.0400000000004, 3565.4799999999973, 3566.1900000000123, 3567.460000000004, 3572.2499999999945, 3577.7999999999993, 3588.029999999998, 3590.7500000000027, 3591.9799999999955, 3610.5200000000004, 3611.9600000000064, 3617.26, 3620.2599999999984, 3622.76, 3624.509999999993, 3626.949999999978, 3627.4999999999977, 3630.4800000000005, 3632.4, 3641.8900000000003, 3642.9700000000025, 3651.9900000000075, 3654.41, 3655.0, 3655.9300000000026, 3672.389999999999, 3681.3200000000006, 3689.1499999999896, 3691.2599999999993, 3695.830000000003, 3699.6000000000017, 3701.259999999997, 3701.8199999999915, 3706.470000000009, 3712.299999999994, 3715.7000000000003, 3720.639999999999, 3722.1900000000005, 3736.29, 3740.809999999999, 3741.3699999999994, 3744.5900000000024, 3751.460000000001, 3752.029999999991, 3754.130000000001, 3762.220000000001, 3767.400000000005, 3782.3100000000054, 3783.8, 3786.3000000000015, 3788.75999999999, 3790.3000000000034, 3790.9100000000117, 3793.48000000001, 3799.620000000002, 3800.880000000007, 3803.989999999995, 3805.31, 3805.879999999989, 3807.029999999998, 3810.2999999999984, 3815.2300000000023, 3816.9600000000023, 3817.5300000000097, 3819.1500000000005, 3820.950000000002, 3821.4700000000016, 3824.20000000001, 3841.8700000000003, 3842.0599999999945, 3843.4600000000028, 3855.550000000004, 3857.1499999999883, 3861.42, 3863.660000000017, 3864.690000000003, 3864.7699999999995, 3865.430000000001, 3870.5100000000007, 3871.390000000004, 3872.090000000002, 3883.449999999996, 3883.9900000000007, 3884.0000000000005, 3899.799999999996, 3910.7799999999893, 3920.8400000000065, 3927.8500000000004, 3928.009999999983, 3930.27, 3945.8200000000006, 3951.6299999999987, 3958.1699999999964, 3963.509999999994, 3969.9899999999993, 3974.289999999997, 3974.94999999999, 3989.6600000000026, 3992.3900000000044, 3995.349999999997, 3996.5099999999957, 3997.0000000000014, 4001.3999999999487, 4003.119999999997, 4005.0199999999877, 4017.5600000000068, 4020.8899999999994, 4035.4399999999946, 4035.519999999998, 4039.5900000000015, 4041.910000000001, 4047.5000000000127, 4049.85, 4052.1199999999913, 4052.279999999998, 4053.880000000006, 4056.910000000004, 4058.3300000000036, 4058.839999999977, 4059.4100000000135, 4064.0199999999963, 4068.2999999999993, 4073.0299999999907, 4074.42, 4082.2400000000034, 4082.5199999999977, 4084.819999999994, 4100.399999999995, 4105.840000000017, 4110.820000000006, 4113.230000000011, 4115.319999999997, 4118.78, 4148.450000000007, 4161.310000000006, 4177.3600000000015, 4178.569999999995, 4183.809999999987, 4192.079999999997, 4193.499999999999, 4205.069999999993, 4209.190000000005, 4209.699999999996, 4221.280000000004, 4225.870000000001, 4236.169999999997, 4237.080000000004, 4239.399999999998, 4239.500000000005, 4245.939999999994, 4250.050000000004, 4250.489999999983, 4255.580000000005, 4263.829999999999, 4273.390000000003, 4274.67, 4274.730000000003, 4278.300000000002, 4280.280000000005, 4282.969999999987, 4284.599999999986, 4287.730000000013, 4290.979999999998, 4294.19999999999, 4296.249999999994, 4298.780000000003, 4298.869999999992, 4300.350000000004, 4300.84, 4316.659999999995, 4321.310000000008, 4324.679999999998, 4325.100000000008, 4328.079999999995, 4333.949999999994, 4338.780000000005, 4368.1800000000085, 4376.989999999994, 4386.830000000005, 4392.729999999996, 4396.240000000005, 4399.939999999993, 4400.820000000005, 4404.369999999995, 4415.409999999997, 4415.699999999997, 4418.2099999999955, 4423.009999999989, 4429.060000000004, 4430.880000000008, 4432.629999999993, 4438.169999999989, 4439.479999999999, 4446.500000000001, 4461.599999999991, 4462.560000000002, 4465.969999999996, 4478.800000000001, 4483.100000000004, 4483.160000000001, 4484.509999999995, 4487.7800000000025, 4489.580000000008, 4494.310000000003, 4508.589999999999, 4516.330000000013, 4516.9300000000085, 4518.520000000006, 4519.120000000001, 4524.6399999999985, 4534.319999999997, 4542.35999999999, 4547.070000000022, 4548.919999999988, 4556.640000000002, 4559.649999999999, 4569.08, 4570.710000000009, 4571.929999999993, 4577.519999999994, 4584.5999999999885, 4596.329999999998, 4599.119999999993, 4608.080000000005, 4628.850000000008, 4631.23000000001, 4631.329999999999, 4634.970000000011, 4652.989999999989, 4666.509999999979, 4673.390000000016, 4678.709999999989, 4682.179999999973, 4684.029999999998, 4694.509999999999, 4698.6900000000005, 4700.149999999998, 4704.2800000000025, 4705.970000000011, 4709.059999999983, 4710.8699999999935, 4714.790000000008, 4719.2999999999865, 4719.759999999999, 4721.269999999998, 4723.5700000000015, 4726.050000000001, 4726.099999999999, 4728.989999999993, 4734.259999999993, 4741.37, 4742.410000000003, 4747.90000000001, 4749.780000000009, 4757.400000000004, 4769.6, 4771.950000000012, 4772.239999999997, 4772.430000000007, 4775.770000000002, 4776.389999999996, 4782.790000000004, 4789.989999999967, 4801.6099999999915, 4802.089999999999, 4812.820000000012, 4815.639999999985, 4818.070000000001, 4830.530000000001, 4836.1299999999965, 4842.820000000005, 4845.699999999992, 4861.800000000001, 4864.620000000003, 4919.640000000014, 4925.120000000009, 4926.959999999991, 4944.370000000004, 4948.55, 4951.599999999983, 4953.200000000009, 4953.65999999999, 4961.799999999993, 4962.01, 4963.210000000002, 4967.820000000009, 4975.460000000001, 4975.599999999989, 4982.660000000005, 4991.0599999999995, 4993.1600000000035, 4997.279999999981, 4999.789999999993, 5000.600000000001, 5021.660000000013, 5024.199999999998, 5037.949999999999, 5042.210000000009, 5054.990000000004, 5060.709999999973, 5067.640000000003, 5069.289999999995, 5069.930000000019, 5085.920000000001, 5099.28999999999, 5103.140000000005, 5115.26000000001, 5122.680000000019, 5125.940000000005, 5127.660000000003, 5129.379999999995, 5129.8, 5143.690000000001, 5172.0199999999995, 5174.120000000002, 5178.659999999994, 5179.28, 5196.100000000001, 5209.070000000011, 5211.7799999999925, 5219.540000000003, 5239.030000000015, 5240.559999999994, 5241.809999999985, 5251.189999999994, 5253.22000000002, 5259.629999999983, 5268.4099999999835, 5283.519999999976, 5287.150000000009, 5294.200000000001, 5304.609999999997, 5312.5099999999975, 5318.149999999998, 5334.199999999998, 5346.219999999982, 5349.879999999999, 5351.540000000017, 5358.84, 5364.409999999992, 5376.719999999991, 5380.379999999996, 5393.1900000000105, 5405.719999999985, 5406.459999999996, 5412.379999999983, 5416.180000000001, 5424.810000000002, 5435.639999999995, 5436.519999999998, 5443.810000000005, 5451.7699999999895, 5452.610000000001, 5466.9, 5474.830000000008, 5477.589999999997, 5478.91999999997, 5480.039999999989, 5481.239999999993, 5483.039999999997, 5491.810000000003, 5493.150000000006, 5495.429999999979, 5497.329999999998, 5503.520000000001, 5517.1500000000015, 5520.619999999986, 5532.509999999999, 5545.760000000002, 5549.8199999999815, 5559.109999999997, 5561.299999999983, 5566.779999999995, 5585.009999999992, 5587.830000000004, 5591.84000000001, 5604.1399999999885, 5625.470000000004, 5628.800000000012, 5666.340000000009, 5667.379999999997, 5670.489999999991, 5692.5, 5699.7599999999975, 5719.659999999995, 5732.499999999985, 5777.119999999981, 5778.390000000001, 5780.479999999997, 5783.669999999955, 5784.6700000000055, 5791.870000000001, 5793.449999999992, 5801.789999999988, 5811.640000000016, 5816.399999999991, 5838.359999999996, 5856.569999999964, 5857.359999999972, 5877.229999999993, 5877.610000000011, 5880.470000000002, 5884.249999999981, 5889.210000000031, 5905.55999999999, 5905.639999999992, 5913.389999999996, 5922.18, 5925.540000000024, 5926.200000000005, 5933.589999999988, 5936.850000000013, 5941.090000000006, 5954.299999999997, 5963.229999999977, 5964.149999999999, 5964.890000000001, 5990.040000000001, 5997.079999999989, 6006.339999999992, 6057.640000000014, 6065.720000000001, 6066.179999999997, 6078.7500000000055, 6086.039999999997, 6087.649999999978, 6118.080000000001, 6125.34, 6137.340000000004, 6166.060000000009, 6173.860000000004, 6174.6899999999905, 6175.4900000000025, 6185.59, 6198.779999999997, 6201.349999999994, 6202.049999999989, 6206.229999999996, 6206.610000000011, 6207.310000000009, 6211.689999999989, 6214.349999999987, 6214.430000000008, 6223.0299999999825, 6231.610000000019, 6235.380000000002, 6238.949999999972, 6259.050000000008, 6284.4199999999855, 6291.989999999989, 6308.6699999999855, 6316.890000000003, 6324.05, 6331.189999999984, 6331.430000000006, 6340.580000000006, 6379.219999999982, 6380.059999999969, 6391.639999999992, 6398.38999999999, 6401.790000000007, 6409.689999999986, 6413.439999999993, 6414.88999999999, 6422.889999999987, 6427.970000000003, 6431.11, 6436.610000000005, 6443.95, 6448.220000000026, 6449.950000000026, 6457.150000000001, 6467.7999999999965, 6476.570000000031, 6478.180000000008, 6481.480000000007, 6516.359999999993, 6521.0, 6527.320000000009, 6531.129999999996, 6539.3, 6542.299999999995, 6556.080000000048, 6558.719999999992, 6567.17, 6574.909999999999, 6576.920000000005, 6597.390000000016, 6610.93999999998, 6613.259999999985, 6617.439999999999, 6617.479999999993, 6623.98000000001, 6634.859999999984, 6639.330000000016, 6658.540000000003, 6665.350000000001, 6665.580000000006, 6670.4, 6684.290000000007, 6698.820000000002, 6704.250000000003, 6717.210000000009, 6749.329999999986, 6749.749999999982, 6750.49999999999, 6757.009999999963, 6803.580000000023, 6807.410000000004, 6813.159999999995, 6818.880000000016, 6823.130000000001, 6829.839999999997, 6829.929999999967, 6833.720000000026, 6835.239999999999, 6849.160000000011, 6864.939999999999, 6879.7399999999725, 6879.79999999999, 6889.299999999985, 6890.399999999982, 6892.670000000009, 6893.020000000015, 6896.339999999986, 6921.5, 6922.04999999998, 6922.479999999965, 6924.620000000021, 6936.189999999961, 6945.930000000002, 6947.739999999994, 6969.43999999999, 6975.43000000002, 6985.08999999999, 7008.860000000002, 7010.840000000016, 7019.01, 7021.570000000016, 7025.0, 7028.809999999976, 7030.5, 7034.590000000013, 7040.480000000003, 7075.399999999975, 7116.609999999974, 7135.049999999962, 7162.909999999992, 7197.290000000001, 7197.639999999998, 7199.969999999972, 7204.16999999999, 7226.15999999998, 7233.139999999988, 7238.900000000033, 7251.369999999994, 7292.430000000006, 7297.419999999999, 7320.460000000002, 7347.220000000038, 7360.589999999988, 7360.590000000019, 7364.2500000000155, 7375.160000000001, 7380.76999999996, 7381.149999999994, 7387.160000000003, 7402.559999999986, 7405.870000000009, 7428.870000000045, 7489.139999999987, 7505.9599999999955, 7511.410000000001, 7547.869999999997, 7553.759999999995, 7556.140000000001, 7572.249999999978, 7578.020000000011, 7584.060000000001, 7590.690000000013, 7603.600000000019, 7656.99999999998, 7659.589999999983, 7680.239999999995, 7691.120000000007, 7696.119999999987, 7700.199999999993, 7703.730000000014, 7725.170000000006, 7732.119999999981, 7754.970000000003, 7759.959999999982, 7791.930000000008, 7804.650000000021, 7818.899999999954, 7872.039999999991, 7879.079999999984, 7881.059999999999, 7882.190000000051, 7902.379999999998, 7904.279999999991, 7915.779999999985, 7949.460000000021, 8035.830000000002, 8058.9800000000105, 8059.189999999949, 8074.680000000008, 8088.180000000028, 8094.269999999981, 8096.859999999997, 8125.200000000001, 8129.2399999999525, 8130.600000000011, 8133.340000000055, 8145.139999999987, 8156.1499999999805, 8175.539999999992, 8242.719999999998, 8294.630000000005, 8298.650000000003, 8302.32000000001, 8306.81, 8337.370000000019, 8391.549999999956, 8394.679999999998, 8399.680000000024, 8408.919999999996, 8409.300000000005, 8410.430000000002, 8415.379999999992, 8426.509999999977, 8452.389999999985, 8464.040000000008, 8474.35, 8475.349999999975, 8491.16999999997, 8493.34, 8496.169999999995, 8497.440000000015, 8498.28, 8500.36000000001, 8500.490000000007, 8525.920000000007, 8544.990000000056, 8549.449999999979, 8573.20000000001, 8651.799999999981, 8693.949999999993, 8715.01, 8755.559999999974, 8769.700000000004, 8785.280000000039, 8798.679999999971, 8805.819999999985, 8808.680000000011, 8934.269999999999, 8936.629999999996, 8941.610000000006, 8948.049999999965, 8967.55, 9001.639999999948, 9021.869999999954, 9068.12, 9083.459999999963, 9102.760000000018, 9121.989999999994, 9127.219999999976, 9133.549999999957, 9139.880000000006, 9184.470000000003, 9186.43999999999, 9204.310000000054, 9205.340000000018, 9249.859999999975, 9252.069999999994, 9253.670000000022, 9264.839999999976, 9268.820000000005, 9296.119999999986, 9301.220000000036, 9314.759999999986, 9315.520000000006, 9333.769999999999, 9374.649999999985, 9428.25, 9443.540000000017, 9488.679999999993, 9503.849999999951, 9506.23999999995, 9570.260000000007, 9615.920000000027, 9620.749999999987, 9650.819999999962, 9664.869999999992, 9667.479999999987, 9719.680000000006, 9749.369999999972, 9766.579999999987, 9828.569999999985, 9839.400000000003, 9887.37999999999, 9905.740000000018, 9930.759999999995, 9937.39000000002, 9942.57999999999, 9949.85999999998, 9978.209999999972, 9988.59999999997, 10010.770000000002, 10016.760000000093, 10019.489999999996, 10031.450000000003, 10041.389999999974, 10070.750000000016, 10073.499999999965, 10117.139999999998, 10161.909999999998, 10191.149999999989, 10207.219999999983, 10229.210000000001, 10234.42999999995, 10236.030000000008, 10248.520000000013, 10256.42000000003, 10281.660000000009, 10285.980000000003, 10302.819999999985, 10388.159999999965, 10390.390000000092, 10398.949999999988, 10415.949999999988, 10454.849999999931, 10464.690000000002, 10481.129999999976, 10487.169999999996, 10498.879999999985, 10527.50999999998, 10542.450000000084, 10568.860000000006, 10578.519999999933, 10589.750000000051, 10599.919999999938, 10606.339999999986, 10622.69999999999, 10630.129999999981, 10680.439999999975, 10735.569999999958, 10753.019999999953, 10770.339999999997, 10774.600000000024, 10788.31000000003, 10819.5, 10920.990000000029, 10957.099999999995, 10989.42, 11019.409999999974, 11024.330000000056, 11049.440000000035, 11049.640000000032, 11089.629999999961, 11101.220000000023, 11107.169999999973, 11108.85999999997, 11158.330000000027, 11196.190000000015, 11228.100000000079, 11313.149999999921, 11335.02999999998, 11381.369999999928, 11388.269999999951, 11406.27000000002, 11408.430000000038, 11419.470000000074, 11422.39, 11465.559999999905, 11482.110000000006, 11501.080000000013, 11507.440000000002, 11573.159999999969, 11584.089999999991, 11594.919999999984, 11612.110000000032, 11620.93999999998, 11623.93, 11627.619999999988, 11665.67999999996, 11675.289999999988, 11711.489999999956, 11728.280000000017, 11733.55999999998, 11762.460000000012, 11798.320000000009, 11798.99999999993, 11810.340000000044, 11819.05999999999, 11826.930000000042, 11866.969999999987, 11899.970000000092, 11906.17999999997, 11919.240000000018, 11949.410000000002, 12005.530000000033, 12022.309999999989, 12083.969999999983, 12127.709999999981, 12141.739999999994, 12187.34000000001, 12192.799999999997, 12237.070000000012, 12309.509999999937, 12327.50999999997, 12332.330000000047, 12377.560000000003, 12398.329999999962, 12440.800000000007, 12456.700000000004, 12593.570000000034, 12631.819999999976, 12700.599999999948, 12741.979999999956, 12779.720000000021, 12835.530000000042, 12890.580000000002, 12898.319999999927, 12911.290000000026, 12914.050000000034, 12925.390000000074, 12983.879999999941, 12985.419999999998, 13001.16999999999, 13023.640000000034, 13052.939999999993, 13062.469999999988, 13071.280000000033, 13077.409999999934, 13157.65999999995, 13166.480000000045, 13179.84999999994, 13220.500000000071, 13253.729999999965, 13254.849999999999, 13264.399999999961, 13291.369999999972, 13316.720000000016, 13331.259999999927, 13379.050000000092, 13386.0, 13399.660000000047, 13411.529999999997, 13424.110000000002, 13441.420000000038, 13473.269999999966, 13519.280000000086, 13569.219999999992, 13576.60000000005, 13645.769999999991, 13653.050000000056, 13749.35999999992, 13792.83999999994, 13818.199999999984, 13926.170000000051, 13944.850000000017, 13945.169999999902, 13946.870000000006, 13953.6499999999, 13963.430000000068, 13966.569999999976, 14071.789999999988, 14089.900000000012, 14290.469999999967, 14300.430000000017, 14317.979999999994, 14327.649999999925, 14371.849999999982, 14408.429999999922, 14448.509999999997, 14578.840000000055, 14614.089999999971, 14619.64999999999, 14683.489999999927, 14735.900000000054, 14743.41000000006, 14949.2, 15020.339999999973, 15094.919999999982, 15134.400000000065, 15220.39000000007, 15228.730000000007, 15277.209999999972, 15319.490000000074, 15326.760000000017, 15335.369999999872, 15339.03999999999, 15363.809999999987, 15376.289999999988, 15383.980000000156, 15386.849999999975, 15415.470000000052, 15445.310000000116, 15465.069999999978, 15496.279999999997, 15634.829999999956, 15768.960000000017, 15804.829999999974, 15897.419999999962, 15923.750000000058, 15930.419999999864, 15943.79000000001, 15992.66000000005, 16019.37999999997, 16162.83999999995, 16188.149999999956, 16223.569999999945, 16308.909999999905, 16383.420000000113, 16422.22999999997, 16443.659999999883, 16602.720000000136, 16612.93000000002, 16624.599999999977, 16687.899999999812, 16774.120000000123, 16800.500000000116, 16830.819999999927, 16844.33000000003, 17172.88, 17235.670000000002, 17282.74999999996, 17360.610000000048, 17397.76000000001, 17397.789999999866, 17409.52000000019, 17409.830000000027, 17442.56999999999, 17668.260000000006, 17675.470000000103, 17702.259999999922, 17720.34999999995, 17860.269999999997, 17942.040000000055, 17950.569999999756, 18018.099999999977, 18121.849999999962, 18231.619999999988, 18263.630000000023, 18321.41999999993, 18417.71999999999, 18476.07000000008, 18617.070000000003, 18736.829999999987, 18753.20999999995, 18871.359999999986, 18913.800000000017, 19120.589999999916, 19177.249999999978, 19190.44999999998, 19211.969999999903, 19225.61000000007, 19267.509999999882, 19272.980000000076, 19466.9100000001, 19470.090000000044, 19525.33000000009, 19571.230000000127, 19605.870000000006, 19629.69000000009, 19630.990000000013, 19754.330000000005, 19843.17999999998, 19856.51999999975, 19912.0199999999, 19946.839999999964, 19991.60999999996, 20010.39000000014, 20032.35999999989, 20115.459999999966, 20409.079999999998, 20416.830000000136, 20458.360000000073, 20519.839999999982, 20597.669999999667, 20603.279999999806, 20735.509999999907, 20779.009999999977, 20813.560000000096, 20814.829999999994, 20821.699999999968, 21083.269999999986, 21094.799999999967, 21382.479999999927, 21384.370000000006, 21410.349999999893, 21497.400000000038, 21685.90000000012, 21742.310000000085, 21868.99000000006, 22006.650000000045, 22018.01999999998, 22026.980000000316, 22273.450000000063, 22311.27000000015, 22455.840000000153, 22461.009999999937, 22497.779999999853, 22649.289999999924, 22704.760000000126, 22836.97999999994, 22968.620000000017, 22973.84999999981, 23005.750000000142, 23020.859999999964, 23051.02000000002, 23086.209999999905, 23131.700000000048, 23279.320000000007, 23328.78999999997, 23573.470000000067, 23598.449999999968, 23671.430000000037, 23745.829999999944, 23840.890000000018, 23864.020000000375, 23932.930000000222, 24188.390000000156, 24229.19999999992, 24365.659999999996, 24482.53000000009, 24663.519999999964, 24678.169999999955, 24898.21999999955, 24914.37999999996, 24923.0800000001, 24955.87999999999, 25059.700000000255, 25097.77000000013, 25180.930000000106, 25598.300000000192, 25610.85999999979, 26049.94999999987, 26116.59000000002, 26129.060000000158, 26442.010000000133, 26508.4600000001, 26814.14999999988, 26915.179999999957, 26935.23000000024, 26974.880000000034, 27216.270000000208, 27418.270000000226, 27798.29000000028, 27825.829999999678, 27912.079999999976, 27982.969999999987, 28180.49999999992, 28292.72000000007, 28317.099999999922, 28373.68000000032, 28424.95, 28473.54999999967, 28509.240000000274, 28696.890000000156, 28863.54000000017, 29026.550000000003, 29166.399999999867, 29294.38000000009, 29368.820000000116, 29641.440000000184, 29968.680000000222, 30167.040000000077, 30208.129999999965, 30560.22000000009, 30621.47000000011, 30756.449999999903, 31004.520000000546, 31018.83000000001, 31517.580000000187, 31604.59000000016, 31834.790000000074, 31873.250000000215, 32008.990000000096, 32023.930000000033, 32397.519999999815, 32672.529999999962, 33181.25, 33212.4600000001, 33378.80000000023, 33482.58999999996, 33833.50000000042, 33940.75000000002, 34049.14000000009, 34071.81000000002, 34604.229999999945, 35280.009999999784, 35342.79999999992, 35350.43999999997, 36565.39000000003, 36610.94000000028, 37413.43999999984, 37451.78000000014, 37582.280000000166, 37590.98000000011, 37613.85999999994, 37818.99000000024, 38154.99999999997, 38519.400000000474, 38624.350000000115, 38643.52000000017, 38647.74999999984, 38689.90999999994, 38733.85999999995, 39372.660000000025, 39978.51000000003, 40101.77999999988, 40605.84999999958, 40941.1100000002, 40991.380000000114, 41106.74000000014, 41425.66000000014, 41478.42999999917, 41893.40999999959, 42700.01999999982, 43471.04999999978, 43646.760000000206, 43812.799999999945, 44643.54000000015, 44875.579999999965, 46489.04999999983, 46559.14000000065, 47030.539999999935, 47172.75000000021, 47177.920000000195, 47409.68000000001, 47848.03999999934, 48081.790000000474, 48346.24999999996, 49461.12000000031, 49462.949999999895, 49655.24999999979, 49850.13000000069, 50451.76999999981, 50701.6600000006, 50779.919999999474, 50822.939999999835, 51140.309999999416, 51255.65999999965, 51623.529999999926, 52065.049999999756, 52319.959999999366, 52447.53999999918, 54430.00000000032, 54870.16999999974, 57483.930000001026, 57587.03999999968, 59721.440000000584, 60075.63999999955, 60124.53999999993, 60533.43999999959, 61074.250000000124, 61218.59999999996, 61574.65000000076, 62517.02000000016, 62722.54999999999, 66756.59000000026, 67219.08000000007, 67398.21999999994, 67976.57000000062, 69247.18000000008, 70909.09999999989, 73814.7200000003, 76244.93000000111, 80300.06999999928, 84854.16000000018, 112341.00000000001, 121662.13999999803, 131413.85000000024, 147948.49999999974, 181278.50999999617, 253720.02000000686, 322647.47000000015, 327813.65000000305], \"yaxis\": \"y\"}],                        {\"barmode\": \"relative\", \"legend\": {\"tracegroupgap\": 0}, \"margin\": {\"t\": 60}, \"template\": {\"data\": {\"bar\": [{\"error_x\": {\"color\": \"#2a3f5f\"}, \"error_y\": {\"color\": \"#2a3f5f\"}, \"marker\": {\"line\": {\"color\": \"#E5ECF6\", \"width\": 0.5}}, \"type\": \"bar\"}], \"barpolar\": [{\"marker\": {\"line\": {\"color\": \"#E5ECF6\", \"width\": 0.5}}, \"type\": \"barpolar\"}], \"carpet\": [{\"aaxis\": {\"endlinecolor\": \"#2a3f5f\", \"gridcolor\": \"white\", \"linecolor\": \"white\", \"minorgridcolor\": \"white\", \"startlinecolor\": \"#2a3f5f\"}, \"baxis\": {\"endlinecolor\": \"#2a3f5f\", \"gridcolor\": \"white\", \"linecolor\": \"white\", \"minorgridcolor\": \"white\", \"startlinecolor\": \"#2a3f5f\"}, \"type\": \"carpet\"}], \"choropleth\": [{\"colorbar\": {\"outlinewidth\": 0, \"ticks\": \"\"}, \"type\": \"choropleth\"}], \"contour\": [{\"colorbar\": {\"outlinewidth\": 0, \"ticks\": \"\"}, \"colorscale\": [[0.0, \"#0d0887\"], [0.1111111111111111, \"#46039f\"], [0.2222222222222222, \"#7201a8\"], [0.3333333333333333, \"#9c179e\"], [0.4444444444444444, \"#bd3786\"], [0.5555555555555556, \"#d8576b\"], [0.6666666666666666, \"#ed7953\"], [0.7777777777777778, \"#fb9f3a\"], [0.8888888888888888, \"#fdca26\"], [1.0, \"#f0f921\"]], \"type\": \"contour\"}], \"contourcarpet\": [{\"colorbar\": {\"outlinewidth\": 0, \"ticks\": \"\"}, \"type\": \"contourcarpet\"}], \"heatmap\": [{\"colorbar\": {\"outlinewidth\": 0, \"ticks\": \"\"}, \"colorscale\": [[0.0, \"#0d0887\"], [0.1111111111111111, \"#46039f\"], [0.2222222222222222, \"#7201a8\"], [0.3333333333333333, \"#9c179e\"], [0.4444444444444444, \"#bd3786\"], [0.5555555555555556, \"#d8576b\"], [0.6666666666666666, \"#ed7953\"], [0.7777777777777778, \"#fb9f3a\"], [0.8888888888888888, \"#fdca26\"], [1.0, \"#f0f921\"]], \"type\": \"heatmap\"}], \"heatmapgl\": [{\"colorbar\": {\"outlinewidth\": 0, \"ticks\": \"\"}, \"colorscale\": [[0.0, \"#0d0887\"], [0.1111111111111111, \"#46039f\"], [0.2222222222222222, \"#7201a8\"], [0.3333333333333333, \"#9c179e\"], [0.4444444444444444, \"#bd3786\"], [0.5555555555555556, \"#d8576b\"], [0.6666666666666666, \"#ed7953\"], [0.7777777777777778, \"#fb9f3a\"], [0.8888888888888888, \"#fdca26\"], [1.0, \"#f0f921\"]], \"type\": \"heatmapgl\"}], \"histogram\": [{\"marker\": {\"colorbar\": {\"outlinewidth\": 0, \"ticks\": \"\"}}, \"type\": \"histogram\"}], \"histogram2d\": [{\"colorbar\": {\"outlinewidth\": 0, \"ticks\": \"\"}, \"colorscale\": [[0.0, \"#0d0887\"], [0.1111111111111111, \"#46039f\"], [0.2222222222222222, \"#7201a8\"], [0.3333333333333333, \"#9c179e\"], [0.4444444444444444, \"#bd3786\"], [0.5555555555555556, \"#d8576b\"], [0.6666666666666666, \"#ed7953\"], [0.7777777777777778, \"#fb9f3a\"], [0.8888888888888888, \"#fdca26\"], [1.0, \"#f0f921\"]], \"type\": \"histogram2d\"}], \"histogram2dcontour\": [{\"colorbar\": {\"outlinewidth\": 0, \"ticks\": \"\"}, \"colorscale\": [[0.0, \"#0d0887\"], [0.1111111111111111, \"#46039f\"], [0.2222222222222222, \"#7201a8\"], [0.3333333333333333, \"#9c179e\"], [0.4444444444444444, \"#bd3786\"], [0.5555555555555556, \"#d8576b\"], [0.6666666666666666, \"#ed7953\"], [0.7777777777777778, \"#fb9f3a\"], [0.8888888888888888, \"#fdca26\"], [1.0, \"#f0f921\"]], \"type\": \"histogram2dcontour\"}], \"mesh3d\": [{\"colorbar\": {\"outlinewidth\": 0, \"ticks\": \"\"}, \"type\": \"mesh3d\"}], \"parcoords\": [{\"line\": {\"colorbar\": {\"outlinewidth\": 0, \"ticks\": \"\"}}, \"type\": \"parcoords\"}], \"pie\": [{\"automargin\": true, \"type\": \"pie\"}], \"scatter\": [{\"marker\": {\"colorbar\": {\"outlinewidth\": 0, \"ticks\": \"\"}}, \"type\": \"scatter\"}], \"scatter3d\": [{\"line\": {\"colorbar\": {\"outlinewidth\": 0, \"ticks\": \"\"}}, \"marker\": {\"colorbar\": {\"outlinewidth\": 0, \"ticks\": \"\"}}, \"type\": \"scatter3d\"}], \"scattercarpet\": [{\"marker\": {\"colorbar\": {\"outlinewidth\": 0, \"ticks\": \"\"}}, \"type\": \"scattercarpet\"}], \"scattergeo\": [{\"marker\": {\"colorbar\": {\"outlinewidth\": 0, \"ticks\": \"\"}}, \"type\": \"scattergeo\"}], \"scattergl\": [{\"marker\": {\"colorbar\": {\"outlinewidth\": 0, \"ticks\": \"\"}}, \"type\": \"scattergl\"}], \"scattermapbox\": [{\"marker\": {\"colorbar\": {\"outlinewidth\": 0, \"ticks\": \"\"}}, \"type\": \"scattermapbox\"}], \"scatterpolar\": [{\"marker\": {\"colorbar\": {\"outlinewidth\": 0, \"ticks\": \"\"}}, \"type\": \"scatterpolar\"}], \"scatterpolargl\": [{\"marker\": {\"colorbar\": {\"outlinewidth\": 0, \"ticks\": \"\"}}, \"type\": \"scatterpolargl\"}], \"scatterternary\": [{\"marker\": {\"colorbar\": {\"outlinewidth\": 0, \"ticks\": \"\"}}, \"type\": \"scatterternary\"}], \"surface\": [{\"colorbar\": {\"outlinewidth\": 0, \"ticks\": \"\"}, \"colorscale\": [[0.0, \"#0d0887\"], [0.1111111111111111, \"#46039f\"], [0.2222222222222222, \"#7201a8\"], [0.3333333333333333, \"#9c179e\"], [0.4444444444444444, \"#bd3786\"], [0.5555555555555556, \"#d8576b\"], [0.6666666666666666, \"#ed7953\"], [0.7777777777777778, \"#fb9f3a\"], [0.8888888888888888, \"#fdca26\"], [1.0, \"#f0f921\"]], \"type\": \"surface\"}], \"table\": [{\"cells\": {\"fill\": {\"color\": \"#EBF0F8\"}, \"line\": {\"color\": \"white\"}}, \"header\": {\"fill\": {\"color\": \"#C8D4E3\"}, \"line\": {\"color\": \"white\"}}, \"type\": \"table\"}]}, \"layout\": {\"annotationdefaults\": {\"arrowcolor\": \"#2a3f5f\", \"arrowhead\": 0, \"arrowwidth\": 1}, \"autotypenumbers\": \"strict\", \"coloraxis\": {\"colorbar\": {\"outlinewidth\": 0, \"ticks\": \"\"}}, \"colorscale\": {\"diverging\": [[0, \"#8e0152\"], [0.1, \"#c51b7d\"], [0.2, \"#de77ae\"], [0.3, \"#f1b6da\"], [0.4, \"#fde0ef\"], [0.5, \"#f7f7f7\"], [0.6, \"#e6f5d0\"], [0.7, \"#b8e186\"], [0.8, \"#7fbc41\"], [0.9, \"#4d9221\"], [1, \"#276419\"]], \"sequential\": [[0.0, \"#0d0887\"], [0.1111111111111111, \"#46039f\"], [0.2222222222222222, \"#7201a8\"], [0.3333333333333333, \"#9c179e\"], [0.4444444444444444, \"#bd3786\"], [0.5555555555555556, \"#d8576b\"], [0.6666666666666666, \"#ed7953\"], [0.7777777777777778, \"#fb9f3a\"], [0.8888888888888888, \"#fdca26\"], [1.0, \"#f0f921\"]], \"sequentialminus\": [[0.0, \"#0d0887\"], [0.1111111111111111, \"#46039f\"], [0.2222222222222222, \"#7201a8\"], [0.3333333333333333, \"#9c179e\"], [0.4444444444444444, \"#bd3786\"], [0.5555555555555556, \"#d8576b\"], [0.6666666666666666, \"#ed7953\"], [0.7777777777777778, \"#fb9f3a\"], [0.8888888888888888, \"#fdca26\"], [1.0, \"#f0f921\"]]}, \"colorway\": [\"#636efa\", \"#EF553B\", \"#00cc96\", \"#ab63fa\", \"#FFA15A\", \"#19d3f3\", \"#FF6692\", \"#B6E880\", \"#FF97FF\", \"#FECB52\"], \"font\": {\"color\": \"#2a3f5f\"}, \"geo\": {\"bgcolor\": \"white\", \"lakecolor\": \"white\", \"landcolor\": \"#E5ECF6\", \"showlakes\": true, \"showland\": true, \"subunitcolor\": \"white\"}, \"hoverlabel\": {\"align\": \"left\"}, \"hovermode\": \"closest\", \"mapbox\": {\"style\": \"light\"}, \"paper_bgcolor\": \"white\", \"plot_bgcolor\": \"#E5ECF6\", \"polar\": {\"angularaxis\": {\"gridcolor\": \"white\", \"linecolor\": \"white\", \"ticks\": \"\"}, \"bgcolor\": \"#E5ECF6\", \"radialaxis\": {\"gridcolor\": \"white\", \"linecolor\": \"white\", \"ticks\": \"\"}}, \"scene\": {\"xaxis\": {\"backgroundcolor\": \"#E5ECF6\", \"gridcolor\": \"white\", \"gridwidth\": 2, \"linecolor\": \"white\", \"showbackground\": true, \"ticks\": \"\", \"zerolinecolor\": \"white\"}, \"yaxis\": {\"backgroundcolor\": \"#E5ECF6\", \"gridcolor\": \"white\", \"gridwidth\": 2, \"linecolor\": \"white\", \"showbackground\": true, \"ticks\": \"\", \"zerolinecolor\": \"white\"}, \"zaxis\": {\"backgroundcolor\": \"#E5ECF6\", \"gridcolor\": \"white\", \"gridwidth\": 2, \"linecolor\": \"white\", \"showbackground\": true, \"ticks\": \"\", \"zerolinecolor\": \"white\"}}, \"shapedefaults\": {\"line\": {\"color\": \"#2a3f5f\"}}, \"ternary\": {\"aaxis\": {\"gridcolor\": \"white\", \"linecolor\": \"white\", \"ticks\": \"\"}, \"baxis\": {\"gridcolor\": \"white\", \"linecolor\": \"white\", \"ticks\": \"\"}, \"bgcolor\": \"#E5ECF6\", \"caxis\": {\"gridcolor\": \"white\", \"linecolor\": \"white\", \"ticks\": \"\"}}, \"title\": {\"x\": 0.05}, \"xaxis\": {\"automargin\": true, \"gridcolor\": \"white\", \"linecolor\": \"white\", \"ticks\": \"\", \"title\": {\"standoff\": 15}, \"zerolinecolor\": \"white\", \"zerolinewidth\": 2}, \"yaxis\": {\"automargin\": true, \"gridcolor\": \"white\", \"linecolor\": \"white\", \"ticks\": \"\", \"title\": {\"standoff\": 15}, \"zerolinecolor\": \"white\", \"zerolinewidth\": 2}}}, \"xaxis\": {\"anchor\": \"y\", \"domain\": [0.0, 1.0], \"title\": {\"text\": \"StockCode\"}}, \"yaxis\": {\"anchor\": \"x\", \"domain\": [0.0, 1.0], \"title\": {\"text\": \"ganancia\"}}},                        {\"responsive\": true}                    ).then(function(){\n",
              "                            \n",
              "var gd = document.getElementById('943d166d-f486-426f-802e-28d991498009');\n",
              "var x = new MutationObserver(function (mutations, observer) {{\n",
              "        var display = window.getComputedStyle(gd).display;\n",
              "        if (!display || display === 'none') {{\n",
              "            console.log([gd, 'removed!']);\n",
              "            Plotly.purge(gd);\n",
              "            observer.disconnect();\n",
              "        }}\n",
              "}});\n",
              "\n",
              "// Listen for the removal of the full notebook cells\n",
              "var notebookContainer = gd.closest('#notebook-container');\n",
              "if (notebookContainer) {{\n",
              "    x.observe(notebookContainer, {childList: true});\n",
              "}}\n",
              "\n",
              "// Listen for the clearing of the current output cell\n",
              "var outputEl = gd.closest('.output');\n",
              "if (outputEl) {{\n",
              "    x.observe(outputEl, {childList: true});\n",
              "}}\n",
              "\n",
              "                        })                };                            </script>        </div>\n",
              "</body>\n",
              "</html>"
            ]
          },
          "metadata": {
            "tags": []
          }
        }
      ]
    },
    {
      "cell_type": "code",
      "metadata": {
        "id": "Qkre1QYoaHlC"
      },
      "source": [
        "ganacia_best_30 = sum.tail(30)"
      ],
      "execution_count": 133,
      "outputs": []
    },
    {
      "cell_type": "code",
      "metadata": {
        "colab": {
          "base_uri": "https://localhost:8080/",
          "height": 542
        },
        "id": "G0zYs7HYaPCY",
        "outputId": "85876009-502a-474e-9895-8d0a123a6be7"
      },
      "source": [
        "fig = px.bar(ganacia_best_30, x='StockCode', y='ganancia')\n",
        "fig.show()"
      ],
      "execution_count": 134,
      "outputs": [
        {
          "output_type": "display_data",
          "data": {
            "text/html": [
              "<html>\n",
              "<head><meta charset=\"utf-8\" /></head>\n",
              "<body>\n",
              "    <div>            <script src=\"https://cdnjs.cloudflare.com/ajax/libs/mathjax/2.7.5/MathJax.js?config=TeX-AMS-MML_SVG\"></script><script type=\"text/javascript\">if (window.MathJax) {MathJax.Hub.Config({SVG: {font: \"STIX-Web\"}});}</script>                <script type=\"text/javascript\">window.PlotlyConfig = {MathJaxConfig: 'local'};</script>\n",
              "        <script src=\"https://cdn.plot.ly/plotly-latest.min.js\"></script>                <div id=\"1f1ad388-738a-4f72-ba10-6ebb38c9f7ed\" class=\"plotly-graph-div\" style=\"height:525px; width:100%;\"></div>            <script type=\"text/javascript\">                                    window.PLOTLYENV=window.PLOTLYENV || {};                                    if (document.getElementById(\"1f1ad388-738a-4f72-ba10-6ebb38c9f7ed\")) {                    Plotly.newPlot(                        \"1f1ad388-738a-4f72-ba10-6ebb38c9f7ed\",                        [{\"alignmentgroup\": \"True\", \"hovertemplate\": \"StockCode=%{x}<br>ganancia=%{y}<extra></extra>\", \"legendgroup\": \"\", \"marker\": {\"color\": \"#636efa\"}, \"name\": \"\", \"offsetgroup\": \"\", \"orientation\": \"v\", \"showlegend\": false, \"textposition\": \"auto\", \"type\": \"bar\", \"x\": [\"22470\", \"22411\", \"15056N\", \"85099C\", \"22112\", \"21621\", \"22910\", \"22502\", \"21843\", \"21931\", \"82484\", \"22114\", \"23084\", \"20685\", \"48138\", \"85099F\", \"21137\", \"20725\", \"84347\", \"22386\", \"22197\", \"79321\", \"POST\", \"22086\", \"84879\", \"47566\", \"85099B\", \"85123A\", \"DOT\", \"22423\"], \"xaxis\": \"x\", \"y\": [54870.16999999974, 57483.930000001026, 57587.03999999968, 59721.440000000584, 60075.63999999955, 60124.53999999993, 60533.43999999959, 61074.250000000124, 61218.59999999996, 61574.65000000076, 62517.02000000016, 62722.54999999999, 66756.59000000026, 67219.08000000007, 67398.21999999994, 67976.57000000062, 69247.18000000008, 70909.09999999989, 73814.7200000003, 76244.93000000111, 80300.06999999928, 84854.16000000018, 112341.00000000001, 121662.13999999803, 131413.85000000024, 147948.49999999974, 181278.50999999617, 253720.02000000686, 322647.47000000015, 327813.65000000305], \"yaxis\": \"y\"}],                        {\"barmode\": \"relative\", \"legend\": {\"tracegroupgap\": 0}, \"margin\": {\"t\": 60}, \"template\": {\"data\": {\"bar\": [{\"error_x\": {\"color\": \"#2a3f5f\"}, \"error_y\": {\"color\": \"#2a3f5f\"}, \"marker\": {\"line\": {\"color\": \"#E5ECF6\", \"width\": 0.5}}, \"type\": \"bar\"}], \"barpolar\": [{\"marker\": {\"line\": {\"color\": \"#E5ECF6\", \"width\": 0.5}}, \"type\": \"barpolar\"}], \"carpet\": [{\"aaxis\": {\"endlinecolor\": \"#2a3f5f\", \"gridcolor\": \"white\", \"linecolor\": \"white\", \"minorgridcolor\": \"white\", \"startlinecolor\": \"#2a3f5f\"}, \"baxis\": {\"endlinecolor\": \"#2a3f5f\", \"gridcolor\": \"white\", \"linecolor\": \"white\", \"minorgridcolor\": \"white\", \"startlinecolor\": \"#2a3f5f\"}, \"type\": \"carpet\"}], \"choropleth\": [{\"colorbar\": {\"outlinewidth\": 0, \"ticks\": \"\"}, \"type\": \"choropleth\"}], \"contour\": [{\"colorbar\": {\"outlinewidth\": 0, \"ticks\": \"\"}, \"colorscale\": [[0.0, \"#0d0887\"], [0.1111111111111111, \"#46039f\"], [0.2222222222222222, \"#7201a8\"], [0.3333333333333333, \"#9c179e\"], [0.4444444444444444, \"#bd3786\"], [0.5555555555555556, \"#d8576b\"], [0.6666666666666666, \"#ed7953\"], [0.7777777777777778, \"#fb9f3a\"], [0.8888888888888888, \"#fdca26\"], [1.0, \"#f0f921\"]], \"type\": \"contour\"}], \"contourcarpet\": [{\"colorbar\": {\"outlinewidth\": 0, \"ticks\": \"\"}, \"type\": \"contourcarpet\"}], \"heatmap\": [{\"colorbar\": {\"outlinewidth\": 0, \"ticks\": \"\"}, \"colorscale\": [[0.0, \"#0d0887\"], [0.1111111111111111, \"#46039f\"], [0.2222222222222222, \"#7201a8\"], [0.3333333333333333, \"#9c179e\"], [0.4444444444444444, \"#bd3786\"], [0.5555555555555556, \"#d8576b\"], [0.6666666666666666, \"#ed7953\"], [0.7777777777777778, \"#fb9f3a\"], [0.8888888888888888, \"#fdca26\"], [1.0, \"#f0f921\"]], \"type\": \"heatmap\"}], \"heatmapgl\": [{\"colorbar\": {\"outlinewidth\": 0, \"ticks\": \"\"}, \"colorscale\": [[0.0, \"#0d0887\"], [0.1111111111111111, \"#46039f\"], [0.2222222222222222, \"#7201a8\"], [0.3333333333333333, \"#9c179e\"], [0.4444444444444444, \"#bd3786\"], [0.5555555555555556, \"#d8576b\"], [0.6666666666666666, \"#ed7953\"], [0.7777777777777778, \"#fb9f3a\"], [0.8888888888888888, \"#fdca26\"], [1.0, \"#f0f921\"]], \"type\": \"heatmapgl\"}], \"histogram\": [{\"marker\": {\"colorbar\": {\"outlinewidth\": 0, \"ticks\": \"\"}}, \"type\": \"histogram\"}], \"histogram2d\": [{\"colorbar\": {\"outlinewidth\": 0, \"ticks\": \"\"}, \"colorscale\": [[0.0, \"#0d0887\"], [0.1111111111111111, \"#46039f\"], [0.2222222222222222, \"#7201a8\"], [0.3333333333333333, \"#9c179e\"], [0.4444444444444444, \"#bd3786\"], [0.5555555555555556, \"#d8576b\"], [0.6666666666666666, \"#ed7953\"], [0.7777777777777778, \"#fb9f3a\"], [0.8888888888888888, \"#fdca26\"], [1.0, \"#f0f921\"]], \"type\": \"histogram2d\"}], \"histogram2dcontour\": [{\"colorbar\": {\"outlinewidth\": 0, \"ticks\": \"\"}, \"colorscale\": [[0.0, \"#0d0887\"], [0.1111111111111111, \"#46039f\"], [0.2222222222222222, \"#7201a8\"], [0.3333333333333333, \"#9c179e\"], [0.4444444444444444, \"#bd3786\"], [0.5555555555555556, \"#d8576b\"], [0.6666666666666666, \"#ed7953\"], [0.7777777777777778, \"#fb9f3a\"], [0.8888888888888888, \"#fdca26\"], [1.0, \"#f0f921\"]], \"type\": \"histogram2dcontour\"}], \"mesh3d\": [{\"colorbar\": {\"outlinewidth\": 0, \"ticks\": \"\"}, \"type\": \"mesh3d\"}], \"parcoords\": [{\"line\": {\"colorbar\": {\"outlinewidth\": 0, \"ticks\": \"\"}}, \"type\": \"parcoords\"}], \"pie\": [{\"automargin\": true, \"type\": \"pie\"}], \"scatter\": [{\"marker\": {\"colorbar\": {\"outlinewidth\": 0, \"ticks\": \"\"}}, \"type\": \"scatter\"}], \"scatter3d\": [{\"line\": {\"colorbar\": {\"outlinewidth\": 0, \"ticks\": \"\"}}, \"marker\": {\"colorbar\": {\"outlinewidth\": 0, \"ticks\": \"\"}}, \"type\": \"scatter3d\"}], \"scattercarpet\": [{\"marker\": {\"colorbar\": {\"outlinewidth\": 0, \"ticks\": \"\"}}, \"type\": \"scattercarpet\"}], \"scattergeo\": [{\"marker\": {\"colorbar\": {\"outlinewidth\": 0, \"ticks\": \"\"}}, \"type\": \"scattergeo\"}], \"scattergl\": [{\"marker\": {\"colorbar\": {\"outlinewidth\": 0, \"ticks\": \"\"}}, \"type\": \"scattergl\"}], \"scattermapbox\": [{\"marker\": {\"colorbar\": {\"outlinewidth\": 0, \"ticks\": \"\"}}, \"type\": \"scattermapbox\"}], \"scatterpolar\": [{\"marker\": {\"colorbar\": {\"outlinewidth\": 0, \"ticks\": \"\"}}, \"type\": \"scatterpolar\"}], \"scatterpolargl\": [{\"marker\": {\"colorbar\": {\"outlinewidth\": 0, \"ticks\": \"\"}}, \"type\": \"scatterpolargl\"}], \"scatterternary\": [{\"marker\": {\"colorbar\": {\"outlinewidth\": 0, \"ticks\": \"\"}}, \"type\": \"scatterternary\"}], \"surface\": [{\"colorbar\": {\"outlinewidth\": 0, \"ticks\": \"\"}, \"colorscale\": [[0.0, \"#0d0887\"], [0.1111111111111111, \"#46039f\"], [0.2222222222222222, \"#7201a8\"], [0.3333333333333333, \"#9c179e\"], [0.4444444444444444, \"#bd3786\"], [0.5555555555555556, \"#d8576b\"], [0.6666666666666666, \"#ed7953\"], [0.7777777777777778, \"#fb9f3a\"], [0.8888888888888888, \"#fdca26\"], [1.0, \"#f0f921\"]], \"type\": \"surface\"}], \"table\": [{\"cells\": {\"fill\": {\"color\": \"#EBF0F8\"}, \"line\": {\"color\": \"white\"}}, \"header\": {\"fill\": {\"color\": \"#C8D4E3\"}, \"line\": {\"color\": \"white\"}}, \"type\": \"table\"}]}, \"layout\": {\"annotationdefaults\": {\"arrowcolor\": \"#2a3f5f\", \"arrowhead\": 0, \"arrowwidth\": 1}, \"autotypenumbers\": \"strict\", \"coloraxis\": {\"colorbar\": {\"outlinewidth\": 0, \"ticks\": \"\"}}, \"colorscale\": {\"diverging\": [[0, \"#8e0152\"], [0.1, \"#c51b7d\"], [0.2, \"#de77ae\"], [0.3, \"#f1b6da\"], [0.4, \"#fde0ef\"], [0.5, \"#f7f7f7\"], [0.6, \"#e6f5d0\"], [0.7, \"#b8e186\"], [0.8, \"#7fbc41\"], [0.9, \"#4d9221\"], [1, \"#276419\"]], \"sequential\": [[0.0, \"#0d0887\"], [0.1111111111111111, \"#46039f\"], [0.2222222222222222, \"#7201a8\"], [0.3333333333333333, \"#9c179e\"], [0.4444444444444444, \"#bd3786\"], [0.5555555555555556, \"#d8576b\"], [0.6666666666666666, \"#ed7953\"], [0.7777777777777778, \"#fb9f3a\"], [0.8888888888888888, \"#fdca26\"], [1.0, \"#f0f921\"]], \"sequentialminus\": [[0.0, \"#0d0887\"], [0.1111111111111111, \"#46039f\"], [0.2222222222222222, \"#7201a8\"], [0.3333333333333333, \"#9c179e\"], [0.4444444444444444, \"#bd3786\"], [0.5555555555555556, \"#d8576b\"], [0.6666666666666666, \"#ed7953\"], [0.7777777777777778, \"#fb9f3a\"], [0.8888888888888888, \"#fdca26\"], [1.0, \"#f0f921\"]]}, \"colorway\": [\"#636efa\", \"#EF553B\", \"#00cc96\", \"#ab63fa\", \"#FFA15A\", \"#19d3f3\", \"#FF6692\", \"#B6E880\", \"#FF97FF\", \"#FECB52\"], \"font\": {\"color\": \"#2a3f5f\"}, \"geo\": {\"bgcolor\": \"white\", \"lakecolor\": \"white\", \"landcolor\": \"#E5ECF6\", \"showlakes\": true, \"showland\": true, \"subunitcolor\": \"white\"}, \"hoverlabel\": {\"align\": \"left\"}, \"hovermode\": \"closest\", \"mapbox\": {\"style\": \"light\"}, \"paper_bgcolor\": \"white\", \"plot_bgcolor\": \"#E5ECF6\", \"polar\": {\"angularaxis\": {\"gridcolor\": \"white\", \"linecolor\": \"white\", \"ticks\": \"\"}, \"bgcolor\": \"#E5ECF6\", \"radialaxis\": {\"gridcolor\": \"white\", \"linecolor\": \"white\", \"ticks\": \"\"}}, \"scene\": {\"xaxis\": {\"backgroundcolor\": \"#E5ECF6\", \"gridcolor\": \"white\", \"gridwidth\": 2, \"linecolor\": \"white\", \"showbackground\": true, \"ticks\": \"\", \"zerolinecolor\": \"white\"}, \"yaxis\": {\"backgroundcolor\": \"#E5ECF6\", \"gridcolor\": \"white\", \"gridwidth\": 2, \"linecolor\": \"white\", \"showbackground\": true, \"ticks\": \"\", \"zerolinecolor\": \"white\"}, \"zaxis\": {\"backgroundcolor\": \"#E5ECF6\", \"gridcolor\": \"white\", \"gridwidth\": 2, \"linecolor\": \"white\", \"showbackground\": true, \"ticks\": \"\", \"zerolinecolor\": \"white\"}}, \"shapedefaults\": {\"line\": {\"color\": \"#2a3f5f\"}}, \"ternary\": {\"aaxis\": {\"gridcolor\": \"white\", \"linecolor\": \"white\", \"ticks\": \"\"}, \"baxis\": {\"gridcolor\": \"white\", \"linecolor\": \"white\", \"ticks\": \"\"}, \"bgcolor\": \"#E5ECF6\", \"caxis\": {\"gridcolor\": \"white\", \"linecolor\": \"white\", \"ticks\": \"\"}}, \"title\": {\"x\": 0.05}, \"xaxis\": {\"automargin\": true, \"gridcolor\": \"white\", \"linecolor\": \"white\", \"ticks\": \"\", \"title\": {\"standoff\": 15}, \"zerolinecolor\": \"white\", \"zerolinewidth\": 2}, \"yaxis\": {\"automargin\": true, \"gridcolor\": \"white\", \"linecolor\": \"white\", \"ticks\": \"\", \"title\": {\"standoff\": 15}, \"zerolinecolor\": \"white\", \"zerolinewidth\": 2}}}, \"xaxis\": {\"anchor\": \"y\", \"domain\": [0.0, 1.0], \"title\": {\"text\": \"StockCode\"}}, \"yaxis\": {\"anchor\": \"x\", \"domain\": [0.0, 1.0], \"title\": {\"text\": \"ganancia\"}}},                        {\"responsive\": true}                    ).then(function(){\n",
              "                            \n",
              "var gd = document.getElementById('1f1ad388-738a-4f72-ba10-6ebb38c9f7ed');\n",
              "var x = new MutationObserver(function (mutations, observer) {{\n",
              "        var display = window.getComputedStyle(gd).display;\n",
              "        if (!display || display === 'none') {{\n",
              "            console.log([gd, 'removed!']);\n",
              "            Plotly.purge(gd);\n",
              "            observer.disconnect();\n",
              "        }}\n",
              "}});\n",
              "\n",
              "// Listen for the removal of the full notebook cells\n",
              "var notebookContainer = gd.closest('#notebook-container');\n",
              "if (notebookContainer) {{\n",
              "    x.observe(notebookContainer, {childList: true});\n",
              "}}\n",
              "\n",
              "// Listen for the clearing of the current output cell\n",
              "var outputEl = gd.closest('.output');\n",
              "if (outputEl) {{\n",
              "    x.observe(outputEl, {childList: true});\n",
              "}}\n",
              "\n",
              "                        })                };                            </script>        </div>\n",
              "</body>\n",
              "</html>"
            ]
          },
          "metadata": {
            "tags": []
          }
        }
      ]
    },
    {
      "cell_type": "code",
      "metadata": {
        "colab": {
          "base_uri": "https://localhost:8080/"
        },
        "id": "u2i8byP1aq_n",
        "outputId": "8bd6f4bc-85ba-4b08-9cda-2502211e591d"
      },
      "source": [
        "best_30.merge(ganacia_best_30,on='StockCode')['StockCode']"
      ],
      "execution_count": 139,
      "outputs": [
        {
          "output_type": "execute_result",
          "data": {
            "text/plain": [
              "0    85099F\n",
              "1     22086\n",
              "2     22386\n",
              "3     20725\n",
              "4     22197\n",
              "5     84879\n",
              "6    85099B\n",
              "7    85123A\n",
              "Name: StockCode, dtype: object"
            ]
          },
          "metadata": {
            "tags": []
          },
          "execution_count": 139
        }
      ]
    },
    {
      "cell_type": "markdown",
      "metadata": {
        "id": "ZVVkZ5wCzrWh"
      },
      "source": [
        "**Justifique:**"
      ]
    },
    {
      "cell_type": "markdown",
      "metadata": {
        "id": "dy4iNwEIzsG2"
      },
      "source": [
        "Se repiten solo 7 de los 30 productos de cada clasificación. Lo anterior puede explicarse bajo la hipótesis que, en primer lugar, no se considera el precio de costo de los artículos, por lo que los artículos más caros estarían favorecidos en el ranking de ganacias, mientras que los artículos más vendidos usualmente poseen un precio bajo o moderado."
      ]
    },
    {
      "cell_type": "markdown",
      "metadata": {
        "id": "L2bnF6f0yOnC"
      },
      "source": [
        "### 1.3.2 Visualización del registro temporal "
      ]
    },
    {
      "cell_type": "markdown",
      "metadata": {
        "id": "wco_JAO1f7T_"
      },
      "source": [
        "El dueño del retail en su afán por saber más sobre los datos de su firma les solicita que grafiquen las ventas respecto al tiempo. Con esto les aclara que durante el día tienen muchas variaciones en sus ventas, por lo que les recomienda que consideren el registro temporal como `año-mes-día`. ¿Es posible observar datos extraños?, Comente lo que observa del gráfico.\n",
        "\n",
        "**Hint**: Para realizar esta task generen una función (quizás en el futuro les sea necesario 😮)."
      ]
    },
    {
      "cell_type": "code",
      "metadata": {
        "id": "SBr7gQOAkmGV"
      },
      "source": [
        "df['fecha'] = pd.to_datetime(df['InvoiceDate'],format = '%Y%m%d').dt.date"
      ],
      "execution_count": 151,
      "outputs": []
    },
    {
      "cell_type": "code",
      "metadata": {
        "id": "K_DcRGa_hl_f"
      },
      "source": [
        "grouped_date = df.groupby('fecha')"
      ],
      "execution_count": 153,
      "outputs": []
    },
    {
      "cell_type": "code",
      "metadata": {
        "id": "GbGOMIxZjpEB"
      },
      "source": [
        "suma_fecha = grouped_date.sum().reset_index()"
      ],
      "execution_count": 156,
      "outputs": []
    },
    {
      "cell_type": "code",
      "metadata": {
        "colab": {
          "base_uri": "https://localhost:8080/",
          "height": 542
        },
        "id": "ENi_8-l6kvoI",
        "outputId": "fb95498e-9b80-4d9f-8e66-f2c08f11fa12"
      },
      "source": [
        "fig = px.line(suma_fecha, x=\"fecha\", y=\"Quantity\")\n",
        "fig.show()"
      ],
      "execution_count": 160,
      "outputs": [
        {
          "output_type": "display_data",
          "data": {
            "text/html": [
              "<html>\n",
              "<head><meta charset=\"utf-8\" /></head>\n",
              "<body>\n",
              "    <div>            <script src=\"https://cdnjs.cloudflare.com/ajax/libs/mathjax/2.7.5/MathJax.js?config=TeX-AMS-MML_SVG\"></script><script type=\"text/javascript\">if (window.MathJax) {MathJax.Hub.Config({SVG: {font: \"STIX-Web\"}});}</script>                <script type=\"text/javascript\">window.PlotlyConfig = {MathJaxConfig: 'local'};</script>\n",
              "        <script src=\"https://cdn.plot.ly/plotly-latest.min.js\"></script>                <div id=\"72dfeac2-1eff-4893-8bac-4337efdc9814\" class=\"plotly-graph-div\" style=\"height:525px; width:100%;\"></div>            <script type=\"text/javascript\">                                    window.PLOTLYENV=window.PLOTLYENV || {};                                    if (document.getElementById(\"72dfeac2-1eff-4893-8bac-4337efdc9814\")) {                    Plotly.newPlot(                        \"72dfeac2-1eff-4893-8bac-4337efdc9814\",                        [{\"hovertemplate\": \"fecha=%{x}<br>Quantity=%{y}<extra></extra>\", \"legendgroup\": \"\", \"line\": {\"color\": \"#636efa\", \"dash\": \"solid\"}, \"mode\": \"lines\", \"name\": \"\", \"orientation\": \"v\", \"showlegend\": false, \"type\": \"scatter\", \"x\": [\"2009-12-01\", \"2009-12-02\", \"2009-12-03\", \"2009-12-04\", \"2009-12-05\", \"2009-12-06\", \"2009-12-07\", \"2009-12-08\", \"2009-12-09\", \"2009-12-10\", \"2009-12-11\", \"2009-12-13\", \"2009-12-14\", \"2009-12-15\", \"2009-12-16\", \"2009-12-17\", \"2009-12-18\", \"2009-12-20\", \"2009-12-21\", \"2009-12-22\", \"2009-12-23\", \"2010-01-04\", \"2010-01-05\", \"2010-01-06\", \"2010-01-07\", \"2010-01-08\", \"2010-01-10\", \"2010-01-11\", \"2010-01-12\", \"2010-01-13\", \"2010-01-14\", \"2010-01-15\", \"2010-01-17\", \"2010-01-18\", \"2010-01-19\", \"2010-01-20\", \"2010-01-21\", \"2010-01-22\", \"2010-01-24\", \"2010-01-25\", \"2010-01-26\", \"2010-01-27\", \"2010-01-28\", \"2010-01-29\", \"2010-01-31\", \"2010-02-01\", \"2010-02-02\", \"2010-02-03\", \"2010-02-04\", \"2010-02-05\", \"2010-02-07\", \"2010-02-08\", \"2010-02-09\", \"2010-02-10\", \"2010-02-11\", \"2010-02-12\", \"2010-02-14\", \"2010-02-15\", \"2010-02-16\", \"2010-02-17\", \"2010-02-18\", \"2010-02-19\", \"2010-02-21\", \"2010-02-22\", \"2010-02-23\", \"2010-02-24\", \"2010-02-25\", \"2010-02-26\", \"2010-02-28\", \"2010-03-01\", \"2010-03-02\", \"2010-03-03\", \"2010-03-04\", \"2010-03-05\", \"2010-03-07\", \"2010-03-08\", \"2010-03-09\", \"2010-03-10\", \"2010-03-11\", \"2010-03-12\", \"2010-03-14\", \"2010-03-15\", \"2010-03-16\", \"2010-03-17\", \"2010-03-18\", \"2010-03-19\", \"2010-03-21\", \"2010-03-22\", \"2010-03-23\", \"2010-03-24\", \"2010-03-25\", \"2010-03-26\", \"2010-03-28\", \"2010-03-29\", \"2010-03-30\", \"2010-03-31\", \"2010-04-01\", \"2010-04-06\", \"2010-04-07\", \"2010-04-08\", \"2010-04-09\", \"2010-04-11\", \"2010-04-12\", \"2010-04-13\", \"2010-04-14\", \"2010-04-15\", \"2010-04-16\", \"2010-04-18\", \"2010-04-19\", \"2010-04-20\", \"2010-04-21\", \"2010-04-22\", \"2010-04-23\", \"2010-04-25\", \"2010-04-26\", \"2010-04-27\", \"2010-04-28\", \"2010-04-29\", \"2010-04-30\", \"2010-05-02\", \"2010-05-04\", \"2010-05-05\", \"2010-05-06\", \"2010-05-07\", \"2010-05-09\", \"2010-05-10\", \"2010-05-11\", \"2010-05-12\", \"2010-05-13\", \"2010-05-14\", \"2010-05-16\", \"2010-05-17\", \"2010-05-18\", \"2010-05-19\", \"2010-05-20\", \"2010-05-21\", \"2010-05-23\", \"2010-05-24\", \"2010-05-25\", \"2010-05-26\", \"2010-05-27\", \"2010-05-28\", \"2010-05-30\", \"2010-06-01\", \"2010-06-02\", \"2010-06-03\", \"2010-06-04\", \"2010-06-06\", \"2010-06-07\", \"2010-06-08\", \"2010-06-09\", \"2010-06-10\", \"2010-06-11\", \"2010-06-13\", \"2010-06-14\", \"2010-06-15\", \"2010-06-16\", \"2010-06-17\", \"2010-06-18\", \"2010-06-20\", \"2010-06-21\", \"2010-06-22\", \"2010-06-23\", \"2010-06-24\", \"2010-06-25\", \"2010-06-27\", \"2010-06-28\", \"2010-06-29\", \"2010-06-30\", \"2010-07-01\", \"2010-07-02\", \"2010-07-04\", \"2010-07-05\", \"2010-07-06\", \"2010-07-07\", \"2010-07-08\", \"2010-07-09\", \"2010-07-11\", \"2010-07-12\", \"2010-07-13\", \"2010-07-14\", \"2010-07-15\", \"2010-07-16\", \"2010-07-18\", \"2010-07-19\", \"2010-07-20\", \"2010-07-21\", \"2010-07-22\", \"2010-07-23\", \"2010-07-25\", \"2010-07-26\", \"2010-07-27\", \"2010-07-28\", \"2010-07-29\", \"2010-07-30\", \"2010-08-01\", \"2010-08-02\", \"2010-08-03\", \"2010-08-04\", \"2010-08-05\", \"2010-08-06\", \"2010-08-08\", \"2010-08-09\", \"2010-08-10\", \"2010-08-11\", \"2010-08-12\", \"2010-08-13\", \"2010-08-15\", \"2010-08-16\", \"2010-08-17\", \"2010-08-18\", \"2010-08-19\", \"2010-08-20\", \"2010-08-22\", \"2010-08-23\", \"2010-08-24\", \"2010-08-25\", \"2010-08-26\", \"2010-08-27\", \"2010-08-29\", \"2010-08-31\", \"2010-09-01\", \"2010-09-02\", \"2010-09-03\", \"2010-09-05\", \"2010-09-06\", \"2010-09-07\", \"2010-09-08\", \"2010-09-09\", \"2010-09-10\", \"2010-09-12\", \"2010-09-13\", \"2010-09-14\", \"2010-09-15\", \"2010-09-16\", \"2010-09-17\", \"2010-09-19\", \"2010-09-20\", \"2010-09-21\", \"2010-09-22\", \"2010-09-23\", \"2010-09-24\", \"2010-09-26\", \"2010-09-27\", \"2010-09-28\", \"2010-09-29\", \"2010-09-30\", \"2010-10-01\", \"2010-10-03\", \"2010-10-04\", \"2010-10-05\", \"2010-10-06\", \"2010-10-07\", \"2010-10-08\", \"2010-10-10\", \"2010-10-11\", \"2010-10-12\", \"2010-10-13\", \"2010-10-14\", \"2010-10-15\", \"2010-10-17\", \"2010-10-18\", \"2010-10-19\", \"2010-10-20\", \"2010-10-21\", \"2010-10-22\", \"2010-10-24\", \"2010-10-25\", \"2010-10-26\", \"2010-10-27\", \"2010-10-28\", \"2010-10-29\", \"2010-10-31\", \"2010-11-01\", \"2010-11-02\", \"2010-11-03\", \"2010-11-04\", \"2010-11-05\", \"2010-11-07\", \"2010-11-08\", \"2010-11-09\", \"2010-11-10\", \"2010-11-11\", \"2010-11-12\", \"2010-11-14\", \"2010-11-15\", \"2010-11-16\", \"2010-11-17\", \"2010-11-18\", \"2010-11-19\", \"2010-11-21\", \"2010-11-22\", \"2010-11-23\", \"2010-11-24\", \"2010-11-25\", \"2010-11-26\", \"2010-11-28\", \"2010-11-29\", \"2010-11-30\", \"2010-12-01\", \"2010-12-02\", \"2010-12-03\", \"2010-12-05\", \"2010-12-06\", \"2010-12-07\", \"2010-12-08\", \"2010-12-09\", \"2010-12-10\", \"2010-12-12\", \"2010-12-13\", \"2010-12-14\", \"2010-12-15\", \"2010-12-16\", \"2010-12-17\", \"2010-12-19\", \"2010-12-20\", \"2010-12-21\", \"2010-12-22\", \"2010-12-23\", \"2011-01-04\", \"2011-01-05\", \"2011-01-06\", \"2011-01-07\", \"2011-01-09\", \"2011-01-10\", \"2011-01-11\", \"2011-01-12\", \"2011-01-13\", \"2011-01-14\", \"2011-01-16\", \"2011-01-17\", \"2011-01-18\", \"2011-01-19\", \"2011-01-20\", \"2011-01-21\", \"2011-01-23\", \"2011-01-24\", \"2011-01-25\", \"2011-01-26\", \"2011-01-27\", \"2011-01-28\", \"2011-01-30\", \"2011-01-31\", \"2011-02-01\", \"2011-02-02\", \"2011-02-03\", \"2011-02-04\", \"2011-02-06\", \"2011-02-07\", \"2011-02-08\", \"2011-02-09\", \"2011-02-10\", \"2011-02-11\", \"2011-02-13\", \"2011-02-14\", \"2011-02-15\", \"2011-02-16\", \"2011-02-17\", \"2011-02-18\", \"2011-02-20\", \"2011-02-21\", \"2011-02-22\", \"2011-02-23\", \"2011-02-24\", \"2011-02-25\", \"2011-02-27\", \"2011-02-28\", \"2011-03-01\", \"2011-03-02\", \"2011-03-03\", \"2011-03-04\", \"2011-03-06\", \"2011-03-07\", \"2011-03-08\", \"2011-03-09\", \"2011-03-10\", \"2011-03-11\", \"2011-03-13\", \"2011-03-14\", \"2011-03-15\", \"2011-03-16\", \"2011-03-17\", \"2011-03-18\", \"2011-03-20\", \"2011-03-21\", \"2011-03-22\", \"2011-03-23\", \"2011-03-24\", \"2011-03-25\", \"2011-03-27\", \"2011-03-28\", \"2011-03-29\", \"2011-03-30\", \"2011-03-31\", \"2011-04-01\", \"2011-04-03\", \"2011-04-04\", \"2011-04-05\", \"2011-04-06\", \"2011-04-07\", \"2011-04-08\", \"2011-04-10\", \"2011-04-11\", \"2011-04-12\", \"2011-04-13\", \"2011-04-14\", \"2011-04-15\", \"2011-04-17\", \"2011-04-18\", \"2011-04-19\", \"2011-04-20\", \"2011-04-21\", \"2011-04-26\", \"2011-04-27\", \"2011-04-28\", \"2011-05-01\", \"2011-05-03\", \"2011-05-04\", \"2011-05-05\", \"2011-05-06\", \"2011-05-08\", \"2011-05-09\", \"2011-05-10\", \"2011-05-11\", \"2011-05-12\", \"2011-05-13\", \"2011-05-15\", \"2011-05-16\", \"2011-05-17\", \"2011-05-18\", \"2011-05-19\", \"2011-05-20\", \"2011-05-22\", \"2011-05-23\", \"2011-05-24\", \"2011-05-25\", \"2011-05-26\", \"2011-05-27\", \"2011-05-29\", \"2011-05-31\", \"2011-06-01\", \"2011-06-02\", \"2011-06-03\", \"2011-06-05\", \"2011-06-06\", \"2011-06-07\", \"2011-06-08\", \"2011-06-09\", \"2011-06-10\", \"2011-06-12\", \"2011-06-13\", \"2011-06-14\", \"2011-06-15\", \"2011-06-16\", \"2011-06-17\", \"2011-06-19\", \"2011-06-20\", \"2011-06-21\", \"2011-06-22\", \"2011-06-23\", \"2011-06-24\", \"2011-06-26\", \"2011-06-27\", \"2011-06-28\", \"2011-06-29\", \"2011-06-30\", \"2011-07-01\", \"2011-07-03\", \"2011-07-04\", \"2011-07-05\", \"2011-07-06\", \"2011-07-07\", \"2011-07-08\", \"2011-07-10\", \"2011-07-11\", \"2011-07-12\", \"2011-07-13\", \"2011-07-14\", \"2011-07-15\", \"2011-07-17\", \"2011-07-18\", \"2011-07-19\", \"2011-07-20\", \"2011-07-21\", \"2011-07-22\", \"2011-07-24\", \"2011-07-25\", \"2011-07-26\", \"2011-07-27\", \"2011-07-28\", \"2011-07-29\", \"2011-07-31\", \"2011-08-01\", \"2011-08-02\", \"2011-08-03\", \"2011-08-04\", \"2011-08-05\", \"2011-08-07\", \"2011-08-08\", \"2011-08-09\", \"2011-08-10\", \"2011-08-11\", \"2011-08-12\", \"2011-08-14\", \"2011-08-15\", \"2011-08-16\", \"2011-08-17\", \"2011-08-18\", \"2011-08-19\", \"2011-08-21\", \"2011-08-22\", \"2011-08-23\", \"2011-08-24\", \"2011-08-25\", \"2011-08-26\", \"2011-08-28\", \"2011-08-30\", \"2011-08-31\", \"2011-09-01\", \"2011-09-02\", \"2011-09-04\", \"2011-09-05\", \"2011-09-06\", \"2011-09-07\", \"2011-09-08\", \"2011-09-09\", \"2011-09-11\", \"2011-09-12\", \"2011-09-13\", \"2011-09-14\", \"2011-09-15\", \"2011-09-16\", \"2011-09-18\", \"2011-09-19\", \"2011-09-20\", \"2011-09-21\", \"2011-09-22\", \"2011-09-23\", \"2011-09-25\", \"2011-09-26\", \"2011-09-27\", \"2011-09-28\", \"2011-09-29\", \"2011-09-30\", \"2011-10-02\", \"2011-10-03\", \"2011-10-04\", \"2011-10-05\", \"2011-10-06\", \"2011-10-07\", \"2011-10-09\", \"2011-10-10\", \"2011-10-11\", \"2011-10-12\", \"2011-10-13\", \"2011-10-14\", \"2011-10-16\", \"2011-10-17\", \"2011-10-18\", \"2011-10-19\", \"2011-10-20\", \"2011-10-21\", \"2011-10-23\", \"2011-10-24\", \"2011-10-25\", \"2011-10-26\", \"2011-10-27\", \"2011-10-28\", \"2011-10-30\", \"2011-10-31\", \"2011-11-01\", \"2011-11-02\", \"2011-11-03\", \"2011-11-04\", \"2011-11-06\", \"2011-11-07\", \"2011-11-08\", \"2011-11-09\", \"2011-11-10\", \"2011-11-11\", \"2011-11-13\", \"2011-11-14\", \"2011-11-15\", \"2011-11-16\", \"2011-11-17\", \"2011-11-18\", \"2011-11-20\", \"2011-11-21\", \"2011-11-22\", \"2011-11-23\", \"2011-11-24\", \"2011-11-25\", \"2011-11-27\", \"2011-11-28\", \"2011-11-29\", \"2011-11-30\", \"2011-12-01\", \"2011-12-02\", \"2011-12-04\", \"2011-12-05\", \"2011-12-06\", \"2011-12-07\", \"2011-12-08\", \"2011-12-09\"], \"xaxis\": \"x\", \"y\": [24022, 29942, 44896, 21001, 5033, 11561, 17361, 21842, 17546, 23086, 19458, 12533, 44268, 26372, 24658, 14802, 16970, 6225, 8519, 25810, 4183, 10856, 10544, 7496, 37995, 12673, 13407, 14032, 19642, 8112, 13294, 8514, 10039, 10187, 15079, 9370, 69247, 18078, 8890, 5331, 23340, 17553, 10912, 10023, 10749, 8811, 10826, 10119, 12049, 9120, 11136, 7782, 10706, 3492, 8756, 7528, 10904, 96763, 16353, 21062, 19593, 12234, 4734, 13121, 10207, 20476, 25333, 8841, 8456, 19631, 8587, 19130, 16632, 18110, 7597, 15452, 7703, 17478, 14229, 10527, 4953, 14923, 12501, 78804, 22594, 13152, 12370, 10634, 54411, 4474, 16345, 20457, 14560, 21721, 18897, 13498, 17137, 11594, 23363, 26603, 8652, 11689, 2293, 12647, 16067, 10699, 13861, 13023, 22027, 13474, 12408, 20550, 9598, 8400, 17977, 23468, 19017, 17207, 20217, 6297, 7118, 14254, 29547, 23517, 11962, 27749, -551, 17473, 17501, 12460, 10972, 13206, 24504, 9315, 15919, 8829, 13837, 33519, 12013, 18569, 17972, 11877, 6236, 8196, 11935, 16078, 6502, 14158, 26547, 25629, 23885, 9270, 19993, 11138, 15652, 18507, 18970, 13434, 8946, 4495, 12113, 6995, 16150, 12332, 8425, 10697, 27349, 21707, 19150, 9240, 8630, 5344, 15960, 11704, 14322, 11211, 13683, 5846, -10414, 9786, 14114, 26229, 13039, 9615, 18488, 11898, 12997, 13616, 13000, 11594, 13394, 13661, 13294, 13897, 8053, 9564, 11749, 15906, 10975, 62075, 9537, 8149, 98654, 19615, 3206, 18218, -31437, 17375, 8708, 18112, 22901, 22554, 18731, 13892, 13193, 17152, 16914, 16211, 7195, 8789, 13865, 12545, 20977, 31044, 7275, 13450, 15745, 9273, 8653, 10296, 9408, 27820, 11403, 20942, 12329, 11653, 13797, 24654, 36502, 13187, 22470, 26748, 12788, 123366, -63783, 21133, 24587, 22656, 20392, 23346, 30863, 21736, 29540, 41318, 12397, 25028, 28556, 40225, 36691, 21744, 18908, 18523, 24955, 24152, 17623, 21849, 15599, 14272, 25685, 16223, 7836, 25109, 16503, 11009, 11575, 21046, 58995, 4283, 18571, 33029, 32866, 34931, 34247, 23210, 17579, 37811, 36870, 28598, 21217, 25167, 18094, 19803, 23215, 26302, 37800, 17470, 16374, 39564, 24230, 53628, 42046, 29660, 32790, 42838, 49990, 45482, 36862, 20297, 10565, 17623, 20098, 18229, 29632, 16069, 3795, 14965, 15467, 3192, 5648, 7939, 18435, 22461, 16475, 8181, 9014, 29093, 10133, 10114, 23091, 4181, 13345, 8664, 17108, 8720, 14938, 5194, 11910, 14793, 10854, 10974, 17414, 3367, 12568, 15340, 9355, 16935, 11367, 2048, 8679, 10201, 7148, 11447, 9831, 2715, 13469, 22533, 15990, 14544, 8165, 5346, 21456, 21448, 13622, 11724, 9888, 4858, 9880, 12120, 8495, 18414, 13332, 4989, 13715, 6918, 4458, 15767, 10465, 2741, 16717, 8918, 12583, 20589, 13756, 14165, 10201, 14884, 11283, 18157, 13303, 4408, 13125, 32413, 19719, 16237, 17374, 5660, 13045, 14763, 8576, 10356, 9230, 5526, 13499, 15121, 18100, 17401, 12726, 8181, 22246, 14383, 17973, 18253, 15665, 17836, 13184, 3814, 11867, 15765, 17331, 19632, 10692, 12951, 17719, 16233, 36141, 15074, 4898, 14484, 26886, 18785, 17783, 15154, 12736, 16443, 15629, 11839, 16192, 16713, 4084, 11546, 10880, 13838, 7557, 13470, 9167, 18462, 20784, 30275, 8134, 9482, 9387, -13752, 29978, 18178, 11678, 15060, 15518, 7846, 15769, 14272, 9827, 3495, 9835, 19642, 11544, 21297, 7358, 3106, 15682, 21696, 19275, 18956, 11681, 4214, 14989, 13760, 16206, 16904, 6841, 11042, 14366, 26287, 16795, 19747, 10019, 17271, 15457, 13560, 13859, 29700, 11472, 20873, 9947, 15624, 15660, 37992, 12200, 5080, 13104, 15605, 14228, 40191, 11962, 3135, 10141, 11213, 23567, 33122, 10609, 8164, 15387, 15112, 29288, 13184, 17756, 6770, 10182, 6976, 27829, 10725, 10941, 23484, 14959, 16211, 16944, 16100, 21122, 17086, 36904, 9590, 29181, 15166, 8966, 28973, 43702, 19581, 32263, 21222, 19329, 14948, 21060, 25157, 26365, 22009, 8380, 24652, 18689, 46161, 31268, 30431, 7275, 25405, 20091, 15525, 17859, 17475, 8311, 30214, 28960, 19039, 40802, 24728, 7068, 21514, 24686, 20865, 32301, 23845, 20062, 4926, 16686, 28319, 34019, 33546, 23295, 27689, 26124, 36238, 38077, 28513, 20356, 45959, 30221, 29353, 30779, 23535, 19369, 24004, 35284, 37350, 23743, 31026, 11161, 28647, 30511, 26482, 26819, 26952, 12396, 44119, 29026, 39612, 34460, 12950], \"yaxis\": \"y\"}],                        {\"legend\": {\"tracegroupgap\": 0}, \"margin\": {\"t\": 60}, \"template\": {\"data\": {\"bar\": [{\"error_x\": {\"color\": \"#2a3f5f\"}, \"error_y\": {\"color\": \"#2a3f5f\"}, \"marker\": {\"line\": {\"color\": \"#E5ECF6\", \"width\": 0.5}}, \"type\": \"bar\"}], \"barpolar\": [{\"marker\": {\"line\": {\"color\": \"#E5ECF6\", \"width\": 0.5}}, \"type\": \"barpolar\"}], \"carpet\": [{\"aaxis\": {\"endlinecolor\": \"#2a3f5f\", \"gridcolor\": \"white\", \"linecolor\": \"white\", \"minorgridcolor\": \"white\", \"startlinecolor\": \"#2a3f5f\"}, \"baxis\": {\"endlinecolor\": \"#2a3f5f\", \"gridcolor\": \"white\", \"linecolor\": \"white\", \"minorgridcolor\": \"white\", \"startlinecolor\": \"#2a3f5f\"}, \"type\": \"carpet\"}], \"choropleth\": [{\"colorbar\": {\"outlinewidth\": 0, \"ticks\": \"\"}, \"type\": \"choropleth\"}], \"contour\": [{\"colorbar\": {\"outlinewidth\": 0, \"ticks\": \"\"}, \"colorscale\": [[0.0, \"#0d0887\"], [0.1111111111111111, \"#46039f\"], [0.2222222222222222, \"#7201a8\"], [0.3333333333333333, \"#9c179e\"], [0.4444444444444444, \"#bd3786\"], [0.5555555555555556, \"#d8576b\"], [0.6666666666666666, \"#ed7953\"], [0.7777777777777778, \"#fb9f3a\"], [0.8888888888888888, \"#fdca26\"], [1.0, \"#f0f921\"]], \"type\": \"contour\"}], \"contourcarpet\": [{\"colorbar\": {\"outlinewidth\": 0, \"ticks\": \"\"}, \"type\": \"contourcarpet\"}], \"heatmap\": [{\"colorbar\": {\"outlinewidth\": 0, \"ticks\": \"\"}, \"colorscale\": [[0.0, \"#0d0887\"], [0.1111111111111111, \"#46039f\"], [0.2222222222222222, \"#7201a8\"], [0.3333333333333333, \"#9c179e\"], [0.4444444444444444, \"#bd3786\"], [0.5555555555555556, \"#d8576b\"], [0.6666666666666666, \"#ed7953\"], [0.7777777777777778, \"#fb9f3a\"], [0.8888888888888888, \"#fdca26\"], [1.0, \"#f0f921\"]], \"type\": \"heatmap\"}], \"heatmapgl\": [{\"colorbar\": {\"outlinewidth\": 0, \"ticks\": \"\"}, \"colorscale\": [[0.0, \"#0d0887\"], [0.1111111111111111, \"#46039f\"], [0.2222222222222222, \"#7201a8\"], [0.3333333333333333, \"#9c179e\"], [0.4444444444444444, \"#bd3786\"], [0.5555555555555556, \"#d8576b\"], [0.6666666666666666, \"#ed7953\"], [0.7777777777777778, \"#fb9f3a\"], [0.8888888888888888, \"#fdca26\"], [1.0, \"#f0f921\"]], \"type\": \"heatmapgl\"}], \"histogram\": [{\"marker\": {\"colorbar\": {\"outlinewidth\": 0, \"ticks\": \"\"}}, \"type\": \"histogram\"}], \"histogram2d\": [{\"colorbar\": {\"outlinewidth\": 0, \"ticks\": \"\"}, \"colorscale\": [[0.0, \"#0d0887\"], [0.1111111111111111, \"#46039f\"], [0.2222222222222222, \"#7201a8\"], [0.3333333333333333, \"#9c179e\"], [0.4444444444444444, \"#bd3786\"], [0.5555555555555556, \"#d8576b\"], [0.6666666666666666, \"#ed7953\"], [0.7777777777777778, \"#fb9f3a\"], [0.8888888888888888, \"#fdca26\"], [1.0, \"#f0f921\"]], \"type\": \"histogram2d\"}], \"histogram2dcontour\": [{\"colorbar\": {\"outlinewidth\": 0, \"ticks\": \"\"}, \"colorscale\": [[0.0, \"#0d0887\"], [0.1111111111111111, \"#46039f\"], [0.2222222222222222, \"#7201a8\"], [0.3333333333333333, \"#9c179e\"], [0.4444444444444444, \"#bd3786\"], [0.5555555555555556, \"#d8576b\"], [0.6666666666666666, \"#ed7953\"], [0.7777777777777778, \"#fb9f3a\"], [0.8888888888888888, \"#fdca26\"], [1.0, \"#f0f921\"]], \"type\": \"histogram2dcontour\"}], \"mesh3d\": [{\"colorbar\": {\"outlinewidth\": 0, \"ticks\": \"\"}, \"type\": \"mesh3d\"}], \"parcoords\": [{\"line\": {\"colorbar\": {\"outlinewidth\": 0, \"ticks\": \"\"}}, \"type\": \"parcoords\"}], \"pie\": [{\"automargin\": true, \"type\": \"pie\"}], \"scatter\": [{\"marker\": {\"colorbar\": {\"outlinewidth\": 0, \"ticks\": \"\"}}, \"type\": \"scatter\"}], \"scatter3d\": [{\"line\": {\"colorbar\": {\"outlinewidth\": 0, \"ticks\": \"\"}}, \"marker\": {\"colorbar\": {\"outlinewidth\": 0, \"ticks\": \"\"}}, \"type\": \"scatter3d\"}], \"scattercarpet\": [{\"marker\": {\"colorbar\": {\"outlinewidth\": 0, \"ticks\": \"\"}}, \"type\": \"scattercarpet\"}], \"scattergeo\": [{\"marker\": {\"colorbar\": {\"outlinewidth\": 0, \"ticks\": \"\"}}, \"type\": \"scattergeo\"}], \"scattergl\": [{\"marker\": {\"colorbar\": {\"outlinewidth\": 0, \"ticks\": \"\"}}, \"type\": \"scattergl\"}], \"scattermapbox\": [{\"marker\": {\"colorbar\": {\"outlinewidth\": 0, \"ticks\": \"\"}}, \"type\": \"scattermapbox\"}], \"scatterpolar\": [{\"marker\": {\"colorbar\": {\"outlinewidth\": 0, \"ticks\": \"\"}}, \"type\": \"scatterpolar\"}], \"scatterpolargl\": [{\"marker\": {\"colorbar\": {\"outlinewidth\": 0, \"ticks\": \"\"}}, \"type\": \"scatterpolargl\"}], \"scatterternary\": [{\"marker\": {\"colorbar\": {\"outlinewidth\": 0, \"ticks\": \"\"}}, \"type\": \"scatterternary\"}], \"surface\": [{\"colorbar\": {\"outlinewidth\": 0, \"ticks\": \"\"}, \"colorscale\": [[0.0, \"#0d0887\"], [0.1111111111111111, \"#46039f\"], [0.2222222222222222, \"#7201a8\"], [0.3333333333333333, \"#9c179e\"], [0.4444444444444444, \"#bd3786\"], [0.5555555555555556, \"#d8576b\"], [0.6666666666666666, \"#ed7953\"], [0.7777777777777778, \"#fb9f3a\"], [0.8888888888888888, \"#fdca26\"], [1.0, \"#f0f921\"]], \"type\": \"surface\"}], \"table\": [{\"cells\": {\"fill\": {\"color\": \"#EBF0F8\"}, \"line\": {\"color\": \"white\"}}, \"header\": {\"fill\": {\"color\": \"#C8D4E3\"}, \"line\": {\"color\": \"white\"}}, \"type\": \"table\"}]}, \"layout\": {\"annotationdefaults\": {\"arrowcolor\": \"#2a3f5f\", \"arrowhead\": 0, \"arrowwidth\": 1}, \"autotypenumbers\": \"strict\", \"coloraxis\": {\"colorbar\": {\"outlinewidth\": 0, \"ticks\": \"\"}}, \"colorscale\": {\"diverging\": [[0, \"#8e0152\"], [0.1, \"#c51b7d\"], [0.2, \"#de77ae\"], [0.3, \"#f1b6da\"], [0.4, \"#fde0ef\"], [0.5, \"#f7f7f7\"], [0.6, \"#e6f5d0\"], [0.7, \"#b8e186\"], [0.8, \"#7fbc41\"], [0.9, \"#4d9221\"], [1, \"#276419\"]], \"sequential\": [[0.0, \"#0d0887\"], [0.1111111111111111, \"#46039f\"], [0.2222222222222222, \"#7201a8\"], [0.3333333333333333, \"#9c179e\"], [0.4444444444444444, \"#bd3786\"], [0.5555555555555556, \"#d8576b\"], [0.6666666666666666, \"#ed7953\"], [0.7777777777777778, \"#fb9f3a\"], [0.8888888888888888, \"#fdca26\"], [1.0, \"#f0f921\"]], \"sequentialminus\": [[0.0, \"#0d0887\"], [0.1111111111111111, \"#46039f\"], [0.2222222222222222, \"#7201a8\"], [0.3333333333333333, \"#9c179e\"], [0.4444444444444444, \"#bd3786\"], [0.5555555555555556, \"#d8576b\"], [0.6666666666666666, \"#ed7953\"], [0.7777777777777778, \"#fb9f3a\"], [0.8888888888888888, \"#fdca26\"], [1.0, \"#f0f921\"]]}, \"colorway\": [\"#636efa\", \"#EF553B\", \"#00cc96\", \"#ab63fa\", \"#FFA15A\", \"#19d3f3\", \"#FF6692\", \"#B6E880\", \"#FF97FF\", \"#FECB52\"], \"font\": {\"color\": \"#2a3f5f\"}, \"geo\": {\"bgcolor\": \"white\", \"lakecolor\": \"white\", \"landcolor\": \"#E5ECF6\", \"showlakes\": true, \"showland\": true, \"subunitcolor\": \"white\"}, \"hoverlabel\": {\"align\": \"left\"}, \"hovermode\": \"closest\", \"mapbox\": {\"style\": \"light\"}, \"paper_bgcolor\": \"white\", \"plot_bgcolor\": \"#E5ECF6\", \"polar\": {\"angularaxis\": {\"gridcolor\": \"white\", \"linecolor\": \"white\", \"ticks\": \"\"}, \"bgcolor\": \"#E5ECF6\", \"radialaxis\": {\"gridcolor\": \"white\", \"linecolor\": \"white\", \"ticks\": \"\"}}, \"scene\": {\"xaxis\": {\"backgroundcolor\": \"#E5ECF6\", \"gridcolor\": \"white\", \"gridwidth\": 2, \"linecolor\": \"white\", \"showbackground\": true, \"ticks\": \"\", \"zerolinecolor\": \"white\"}, \"yaxis\": {\"backgroundcolor\": \"#E5ECF6\", \"gridcolor\": \"white\", \"gridwidth\": 2, \"linecolor\": \"white\", \"showbackground\": true, \"ticks\": \"\", \"zerolinecolor\": \"white\"}, \"zaxis\": {\"backgroundcolor\": \"#E5ECF6\", \"gridcolor\": \"white\", \"gridwidth\": 2, \"linecolor\": \"white\", \"showbackground\": true, \"ticks\": \"\", \"zerolinecolor\": \"white\"}}, \"shapedefaults\": {\"line\": {\"color\": \"#2a3f5f\"}}, \"ternary\": {\"aaxis\": {\"gridcolor\": \"white\", \"linecolor\": \"white\", \"ticks\": \"\"}, \"baxis\": {\"gridcolor\": \"white\", \"linecolor\": \"white\", \"ticks\": \"\"}, \"bgcolor\": \"#E5ECF6\", \"caxis\": {\"gridcolor\": \"white\", \"linecolor\": \"white\", \"ticks\": \"\"}}, \"title\": {\"x\": 0.05}, \"xaxis\": {\"automargin\": true, \"gridcolor\": \"white\", \"linecolor\": \"white\", \"ticks\": \"\", \"title\": {\"standoff\": 15}, \"zerolinecolor\": \"white\", \"zerolinewidth\": 2}, \"yaxis\": {\"automargin\": true, \"gridcolor\": \"white\", \"linecolor\": \"white\", \"ticks\": \"\", \"title\": {\"standoff\": 15}, \"zerolinecolor\": \"white\", \"zerolinewidth\": 2}}}, \"xaxis\": {\"anchor\": \"y\", \"domain\": [0.0, 1.0], \"title\": {\"text\": \"fecha\"}}, \"yaxis\": {\"anchor\": \"x\", \"domain\": [0.0, 1.0], \"title\": {\"text\": \"Quantity\"}}},                        {\"responsive\": true}                    ).then(function(){\n",
              "                            \n",
              "var gd = document.getElementById('72dfeac2-1eff-4893-8bac-4337efdc9814');\n",
              "var x = new MutationObserver(function (mutations, observer) {{\n",
              "        var display = window.getComputedStyle(gd).display;\n",
              "        if (!display || display === 'none') {{\n",
              "            console.log([gd, 'removed!']);\n",
              "            Plotly.purge(gd);\n",
              "            observer.disconnect();\n",
              "        }}\n",
              "}});\n",
              "\n",
              "// Listen for the removal of the full notebook cells\n",
              "var notebookContainer = gd.closest('#notebook-container');\n",
              "if (notebookContainer) {{\n",
              "    x.observe(notebookContainer, {childList: true});\n",
              "}}\n",
              "\n",
              "// Listen for the clearing of the current output cell\n",
              "var outputEl = gd.closest('.output');\n",
              "if (outputEl) {{\n",
              "    x.observe(outputEl, {childList: true});\n",
              "}}\n",
              "\n",
              "                        })                };                            </script>        </div>\n",
              "</body>\n",
              "</html>"
            ]
          },
          "metadata": {
            "tags": []
          }
        }
      ]
    },
    {
      "cell_type": "code",
      "metadata": {
        "colab": {
          "base_uri": "https://localhost:8080/",
          "height": 542
        },
        "id": "x60HVCZXkSav",
        "outputId": "fefe69cc-fc07-4c56-b897-f1d1a941b24c"
      },
      "source": [
        "fig = px.line(suma_fecha, x=\"fecha\", y=\"ganancia\")\n",
        "fig.show()"
      ],
      "execution_count": 158,
      "outputs": [
        {
          "output_type": "display_data",
          "data": {
            "text/html": [
              "<html>\n",
              "<head><meta charset=\"utf-8\" /></head>\n",
              "<body>\n",
              "    <div>            <script src=\"https://cdnjs.cloudflare.com/ajax/libs/mathjax/2.7.5/MathJax.js?config=TeX-AMS-MML_SVG\"></script><script type=\"text/javascript\">if (window.MathJax) {MathJax.Hub.Config({SVG: {font: \"STIX-Web\"}});}</script>                <script type=\"text/javascript\">window.PlotlyConfig = {MathJaxConfig: 'local'};</script>\n",
              "        <script src=\"https://cdn.plot.ly/plotly-latest.min.js\"></script>                <div id=\"464f881a-c727-489c-a224-d7dce7572324\" class=\"plotly-graph-div\" style=\"height:525px; width:100%;\"></div>            <script type=\"text/javascript\">                                    window.PLOTLYENV=window.PLOTLYENV || {};                                    if (document.getElementById(\"464f881a-c727-489c-a224-d7dce7572324\")) {                    Plotly.newPlot(                        \"464f881a-c727-489c-a224-d7dce7572324\",                        [{\"hovertemplate\": \"fecha=%{x}<br>ganancia=%{y}<extra></extra>\", \"legendgroup\": \"\", \"line\": {\"color\": \"#636efa\", \"dash\": \"solid\"}, \"mode\": \"lines\", \"name\": \"\", \"orientation\": \"v\", \"showlegend\": false, \"type\": \"scatter\", \"x\": [\"2009-12-01\", \"2009-12-02\", \"2009-12-03\", \"2009-12-04\", \"2009-12-05\", \"2009-12-06\", \"2009-12-07\", \"2009-12-08\", \"2009-12-09\", \"2009-12-10\", \"2009-12-11\", \"2009-12-13\", \"2009-12-14\", \"2009-12-15\", \"2009-12-16\", \"2009-12-17\", \"2009-12-18\", \"2009-12-20\", \"2009-12-21\", \"2009-12-22\", \"2009-12-23\", \"2010-01-04\", \"2010-01-05\", \"2010-01-06\", \"2010-01-07\", \"2010-01-08\", \"2010-01-10\", \"2010-01-11\", \"2010-01-12\", \"2010-01-13\", \"2010-01-14\", \"2010-01-15\", \"2010-01-17\", \"2010-01-18\", \"2010-01-19\", \"2010-01-20\", \"2010-01-21\", \"2010-01-22\", \"2010-01-24\", \"2010-01-25\", \"2010-01-26\", \"2010-01-27\", \"2010-01-28\", \"2010-01-29\", \"2010-01-31\", \"2010-02-01\", \"2010-02-02\", \"2010-02-03\", \"2010-02-04\", \"2010-02-05\", \"2010-02-07\", \"2010-02-08\", \"2010-02-09\", \"2010-02-10\", \"2010-02-11\", \"2010-02-12\", \"2010-02-14\", \"2010-02-15\", \"2010-02-16\", \"2010-02-17\", \"2010-02-18\", \"2010-02-19\", \"2010-02-21\", \"2010-02-22\", \"2010-02-23\", \"2010-02-24\", \"2010-02-25\", \"2010-02-26\", \"2010-02-28\", \"2010-03-01\", \"2010-03-02\", \"2010-03-03\", \"2010-03-04\", \"2010-03-05\", \"2010-03-07\", \"2010-03-08\", \"2010-03-09\", \"2010-03-10\", \"2010-03-11\", \"2010-03-12\", \"2010-03-14\", \"2010-03-15\", \"2010-03-16\", \"2010-03-17\", \"2010-03-18\", \"2010-03-19\", \"2010-03-21\", \"2010-03-22\", \"2010-03-23\", \"2010-03-24\", \"2010-03-25\", \"2010-03-26\", \"2010-03-28\", \"2010-03-29\", \"2010-03-30\", \"2010-03-31\", \"2010-04-01\", \"2010-04-06\", \"2010-04-07\", \"2010-04-08\", \"2010-04-09\", \"2010-04-11\", \"2010-04-12\", \"2010-04-13\", \"2010-04-14\", \"2010-04-15\", \"2010-04-16\", \"2010-04-18\", \"2010-04-19\", \"2010-04-20\", \"2010-04-21\", \"2010-04-22\", \"2010-04-23\", \"2010-04-25\", \"2010-04-26\", \"2010-04-27\", \"2010-04-28\", \"2010-04-29\", \"2010-04-30\", \"2010-05-02\", \"2010-05-04\", \"2010-05-05\", \"2010-05-06\", \"2010-05-07\", \"2010-05-09\", \"2010-05-10\", \"2010-05-11\", \"2010-05-12\", \"2010-05-13\", \"2010-05-14\", \"2010-05-16\", \"2010-05-17\", \"2010-05-18\", \"2010-05-19\", \"2010-05-20\", \"2010-05-21\", \"2010-05-23\", \"2010-05-24\", \"2010-05-25\", \"2010-05-26\", \"2010-05-27\", \"2010-05-28\", \"2010-05-30\", \"2010-06-01\", \"2010-06-02\", \"2010-06-03\", \"2010-06-04\", \"2010-06-06\", \"2010-06-07\", \"2010-06-08\", \"2010-06-09\", \"2010-06-10\", \"2010-06-11\", \"2010-06-13\", \"2010-06-14\", \"2010-06-15\", \"2010-06-16\", \"2010-06-17\", \"2010-06-18\", \"2010-06-20\", \"2010-06-21\", \"2010-06-22\", \"2010-06-23\", \"2010-06-24\", \"2010-06-25\", \"2010-06-27\", \"2010-06-28\", \"2010-06-29\", \"2010-06-30\", \"2010-07-01\", \"2010-07-02\", \"2010-07-04\", \"2010-07-05\", \"2010-07-06\", \"2010-07-07\", \"2010-07-08\", \"2010-07-09\", \"2010-07-11\", \"2010-07-12\", \"2010-07-13\", \"2010-07-14\", \"2010-07-15\", \"2010-07-16\", \"2010-07-18\", \"2010-07-19\", \"2010-07-20\", \"2010-07-21\", \"2010-07-22\", \"2010-07-23\", \"2010-07-25\", \"2010-07-26\", \"2010-07-27\", \"2010-07-28\", \"2010-07-29\", \"2010-07-30\", \"2010-08-01\", \"2010-08-02\", \"2010-08-03\", \"2010-08-04\", \"2010-08-05\", \"2010-08-06\", \"2010-08-08\", \"2010-08-09\", \"2010-08-10\", \"2010-08-11\", \"2010-08-12\", \"2010-08-13\", \"2010-08-15\", \"2010-08-16\", \"2010-08-17\", \"2010-08-18\", \"2010-08-19\", \"2010-08-20\", \"2010-08-22\", \"2010-08-23\", \"2010-08-24\", \"2010-08-25\", \"2010-08-26\", \"2010-08-27\", \"2010-08-29\", \"2010-08-31\", \"2010-09-01\", \"2010-09-02\", \"2010-09-03\", \"2010-09-05\", \"2010-09-06\", \"2010-09-07\", \"2010-09-08\", \"2010-09-09\", \"2010-09-10\", \"2010-09-12\", \"2010-09-13\", \"2010-09-14\", \"2010-09-15\", \"2010-09-16\", \"2010-09-17\", \"2010-09-19\", \"2010-09-20\", \"2010-09-21\", \"2010-09-22\", \"2010-09-23\", \"2010-09-24\", \"2010-09-26\", \"2010-09-27\", \"2010-09-28\", \"2010-09-29\", \"2010-09-30\", \"2010-10-01\", \"2010-10-03\", \"2010-10-04\", \"2010-10-05\", \"2010-10-06\", \"2010-10-07\", \"2010-10-08\", \"2010-10-10\", \"2010-10-11\", \"2010-10-12\", \"2010-10-13\", \"2010-10-14\", \"2010-10-15\", \"2010-10-17\", \"2010-10-18\", \"2010-10-19\", \"2010-10-20\", \"2010-10-21\", \"2010-10-22\", \"2010-10-24\", \"2010-10-25\", \"2010-10-26\", \"2010-10-27\", \"2010-10-28\", \"2010-10-29\", \"2010-10-31\", \"2010-11-01\", \"2010-11-02\", \"2010-11-03\", \"2010-11-04\", \"2010-11-05\", \"2010-11-07\", \"2010-11-08\", \"2010-11-09\", \"2010-11-10\", \"2010-11-11\", \"2010-11-12\", \"2010-11-14\", \"2010-11-15\", \"2010-11-16\", \"2010-11-17\", \"2010-11-18\", \"2010-11-19\", \"2010-11-21\", \"2010-11-22\", \"2010-11-23\", \"2010-11-24\", \"2010-11-25\", \"2010-11-26\", \"2010-11-28\", \"2010-11-29\", \"2010-11-30\", \"2010-12-01\", \"2010-12-02\", \"2010-12-03\", \"2010-12-05\", \"2010-12-06\", \"2010-12-07\", \"2010-12-08\", \"2010-12-09\", \"2010-12-10\", \"2010-12-12\", \"2010-12-13\", \"2010-12-14\", \"2010-12-15\", \"2010-12-16\", \"2010-12-17\", \"2010-12-19\", \"2010-12-20\", \"2010-12-21\", \"2010-12-22\", \"2010-12-23\", \"2011-01-04\", \"2011-01-05\", \"2011-01-06\", \"2011-01-07\", \"2011-01-09\", \"2011-01-10\", \"2011-01-11\", \"2011-01-12\", \"2011-01-13\", \"2011-01-14\", \"2011-01-16\", \"2011-01-17\", \"2011-01-18\", \"2011-01-19\", \"2011-01-20\", \"2011-01-21\", \"2011-01-23\", \"2011-01-24\", \"2011-01-25\", \"2011-01-26\", \"2011-01-27\", \"2011-01-28\", \"2011-01-30\", \"2011-01-31\", \"2011-02-01\", \"2011-02-02\", \"2011-02-03\", \"2011-02-04\", \"2011-02-06\", \"2011-02-07\", \"2011-02-08\", \"2011-02-09\", \"2011-02-10\", \"2011-02-11\", \"2011-02-13\", \"2011-02-14\", \"2011-02-15\", \"2011-02-16\", \"2011-02-17\", \"2011-02-18\", \"2011-02-20\", \"2011-02-21\", \"2011-02-22\", \"2011-02-23\", \"2011-02-24\", \"2011-02-25\", \"2011-02-27\", \"2011-02-28\", \"2011-03-01\", \"2011-03-02\", \"2011-03-03\", \"2011-03-04\", \"2011-03-06\", \"2011-03-07\", \"2011-03-08\", \"2011-03-09\", \"2011-03-10\", \"2011-03-11\", \"2011-03-13\", \"2011-03-14\", \"2011-03-15\", \"2011-03-16\", \"2011-03-17\", \"2011-03-18\", \"2011-03-20\", \"2011-03-21\", \"2011-03-22\", \"2011-03-23\", \"2011-03-24\", \"2011-03-25\", \"2011-03-27\", \"2011-03-28\", \"2011-03-29\", \"2011-03-30\", \"2011-03-31\", \"2011-04-01\", \"2011-04-03\", \"2011-04-04\", \"2011-04-05\", \"2011-04-06\", \"2011-04-07\", \"2011-04-08\", \"2011-04-10\", \"2011-04-11\", \"2011-04-12\", \"2011-04-13\", \"2011-04-14\", \"2011-04-15\", \"2011-04-17\", \"2011-04-18\", \"2011-04-19\", \"2011-04-20\", \"2011-04-21\", \"2011-04-26\", \"2011-04-27\", \"2011-04-28\", \"2011-05-01\", \"2011-05-03\", \"2011-05-04\", \"2011-05-05\", \"2011-05-06\", \"2011-05-08\", \"2011-05-09\", \"2011-05-10\", \"2011-05-11\", \"2011-05-12\", \"2011-05-13\", \"2011-05-15\", \"2011-05-16\", \"2011-05-17\", \"2011-05-18\", \"2011-05-19\", \"2011-05-20\", \"2011-05-22\", \"2011-05-23\", \"2011-05-24\", \"2011-05-25\", \"2011-05-26\", \"2011-05-27\", \"2011-05-29\", \"2011-05-31\", \"2011-06-01\", \"2011-06-02\", \"2011-06-03\", \"2011-06-05\", \"2011-06-06\", \"2011-06-07\", \"2011-06-08\", \"2011-06-09\", \"2011-06-10\", \"2011-06-12\", \"2011-06-13\", \"2011-06-14\", \"2011-06-15\", \"2011-06-16\", \"2011-06-17\", \"2011-06-19\", \"2011-06-20\", \"2011-06-21\", \"2011-06-22\", \"2011-06-23\", \"2011-06-24\", \"2011-06-26\", \"2011-06-27\", \"2011-06-28\", \"2011-06-29\", \"2011-06-30\", \"2011-07-01\", \"2011-07-03\", \"2011-07-04\", \"2011-07-05\", \"2011-07-06\", \"2011-07-07\", \"2011-07-08\", \"2011-07-10\", \"2011-07-11\", \"2011-07-12\", \"2011-07-13\", \"2011-07-14\", \"2011-07-15\", \"2011-07-17\", \"2011-07-18\", \"2011-07-19\", \"2011-07-20\", \"2011-07-21\", \"2011-07-22\", \"2011-07-24\", \"2011-07-25\", \"2011-07-26\", \"2011-07-27\", \"2011-07-28\", \"2011-07-29\", \"2011-07-31\", \"2011-08-01\", \"2011-08-02\", \"2011-08-03\", \"2011-08-04\", \"2011-08-05\", \"2011-08-07\", \"2011-08-08\", \"2011-08-09\", \"2011-08-10\", \"2011-08-11\", \"2011-08-12\", \"2011-08-14\", \"2011-08-15\", \"2011-08-16\", \"2011-08-17\", \"2011-08-18\", \"2011-08-19\", \"2011-08-21\", \"2011-08-22\", \"2011-08-23\", \"2011-08-24\", \"2011-08-25\", \"2011-08-26\", \"2011-08-28\", \"2011-08-30\", \"2011-08-31\", \"2011-09-01\", \"2011-09-02\", \"2011-09-04\", \"2011-09-05\", \"2011-09-06\", \"2011-09-07\", \"2011-09-08\", \"2011-09-09\", \"2011-09-11\", \"2011-09-12\", \"2011-09-13\", \"2011-09-14\", \"2011-09-15\", \"2011-09-16\", \"2011-09-18\", \"2011-09-19\", \"2011-09-20\", \"2011-09-21\", \"2011-09-22\", \"2011-09-23\", \"2011-09-25\", \"2011-09-26\", \"2011-09-27\", \"2011-09-28\", \"2011-09-29\", \"2011-09-30\", \"2011-10-02\", \"2011-10-03\", \"2011-10-04\", \"2011-10-05\", \"2011-10-06\", \"2011-10-07\", \"2011-10-09\", \"2011-10-10\", \"2011-10-11\", \"2011-10-12\", \"2011-10-13\", \"2011-10-14\", \"2011-10-16\", \"2011-10-17\", \"2011-10-18\", \"2011-10-19\", \"2011-10-20\", \"2011-10-21\", \"2011-10-23\", \"2011-10-24\", \"2011-10-25\", \"2011-10-26\", \"2011-10-27\", \"2011-10-28\", \"2011-10-30\", \"2011-10-31\", \"2011-11-01\", \"2011-11-02\", \"2011-11-03\", \"2011-11-04\", \"2011-11-06\", \"2011-11-07\", \"2011-11-08\", \"2011-11-09\", \"2011-11-10\", \"2011-11-11\", \"2011-11-13\", \"2011-11-14\", \"2011-11-15\", \"2011-11-16\", \"2011-11-17\", \"2011-11-18\", \"2011-11-20\", \"2011-11-21\", \"2011-11-22\", \"2011-11-23\", \"2011-11-24\", \"2011-11-25\", \"2011-11-27\", \"2011-11-28\", \"2011-11-29\", \"2011-11-30\", \"2011-12-01\", \"2011-12-02\", \"2011-12-04\", \"2011-12-05\", \"2011-12-06\", \"2011-12-07\", \"2011-12-08\", \"2011-12-09\"], \"xaxis\": \"x\", \"y\": [53173.03000000023, 62763.58999999987, 68093.04999999984, 40346.39999999997, 9803.050000000001, 24317.200000000063, 44337.02000000027, 43743.14000000001, 40396.55000000004, 43342.479999999814, 38424.919999999955, 22065.990000000107, 72898.23999999955, 47636.66000000011, 52681.20000000018, 29317.79000000009, 42371.08000000001, 11335.230000000016, 14576.07000000006, 27481.74000000001, 10742.680000000002, 13200.600000000039, 19102.34000000003, 8746.179999999997, 72307.92000000004, 29516.63, 23519.919999999995, 37492.38999999997, 40690.82999999994, 19399.929999999935, 28543.280000000068, 13298.540000000043, 17565.940000000024, 21343.229999999992, 32987.87100000004, 16739.509999999987, 26967.89000000005, 34695.19000000009, 16043.85000000006, 22803.36000000008, 45406.84000000007, 28480.379999999925, 19238.16000000002, 17491.980999999992, 18450.130000000045, 19265.290999999987, 21002.99000000003, 21308.250999999986, 22659.880000000114, 20801.159999999974, 16823.770000000008, 15989.819999999998, 19608.090000000007, 9094.519999999968, 14968.640000000018, 11324.410000000013, 17751.500000000055, 41091.23099999991, 30953.129999999896, 22702.460000000076, 34229.360000000015, 27122.470000000005, 9321.781000000008, 26219.150000000085, 22561.38000000005, 32811.29100000004, 45406.680000000015, 13268.20099999998, 16805.97000000005, 25388.740000000016, 25677.44, 33890.13000000016, 31611.530000000028, 27684.730000000072, 19811.720000000136, 36830.01000000001, 19386.95000000002, 27133.66000000001, 24480.91000000007, 21474.25000000004, 9019.950000000004, 27378.741000000027, 23093.649999999958, 30616.960000000036, 40624.749999999985, 23632.02999999997, 20596.790000000063, 24706.200000000004, 32491.97000000006, 27177.730000000072, 32476.160000000084, 31942.910000000014, 22548.32000000012, 59139.87999999999, 37586.00999999983, 29446.639999999963, 30247.54000000008, 19029.420000000027, 34510.15999999997, 47209.46999999989, 16721.709999999992, 19889.470000000034, 25998.331000000053, 24983.04000000012, 26613.80000000009, 19257.020000000033, 18065.740000000013, 23404.870000000097, 45004.0499999999, 24754.710000000017, 27666.080000000056, 35827.21999999998, 14758.220000000001, 16418.319999999996, 35836.400000000016, 45883.41000000012, 32458.6600000001, -22212.609000000026, 28255.400000000016, 12033.880000000012, 21250.520000000004, 26828.560000000012, 52517.110000000044, 34942.80000000004, 23090.140000000014, 30412.309999999976, 28707.32000000007, 31284.61000000002, 28409.93, 11944.700000000017, 18132.550000000003, 24180.180000000095, 27392.34000000007, 17126.75000000008, 24073.21000000002, 26809.590000000106, 25039.430000000015, 34841.37999999998, 21740.810000000023, 35705.55999999998, 30880.76000000016, 17272.080000000013, 10706.31000000003, 15643.760000000004, 16132.870000000054, 27123.19000000005, 21220.379999999917, 25423.08000000012, 45335.8900000002, 51634.60999999995, 37543.74, 15602.330000000036, 33294.920000000035, 21480.840000000087, 23402.15000000005, 28232.779999999988, 31207.040000000092, 23993.610000000088, 18090.62000000003, 9100.680000000008, 21148.759999999984, 14665.080000000007, 27846.18999999995, 25088.889999999996, 17704.16999999998, 17571.82000000003, 45363.679999999746, 34569.21000000001, 31366.320000000072, 29951.800000000072, 16643.39000000002, 10485.710000000003, 32317.210000000126, 23299.09, 30244.53000000006, 18537.790000000026, 33758.27999999995, 7853.529999999986, 19601.000000000044, 20707.84999999999, 21401.58000000003, 51526.33999999994, 20483.33999999998, 15010.37, -13595.88, 24448.920000000016, 21555.029999999966, 26157.810000000096, 25102.99000000005, 17252.10000000007, 22796.269999999975, 26808.420000000075, 22982.000000000167, 34214.59000000007, 15692.300000000007, 30424.500000000025, 28982.540000000074, 26167.049999999996, 20624.20999999995, 23642.48000000008, 13645.209999999994, 14072.780000000015, 30884.33000000006, 34859.59, 21705.01999999996, 26697.410000000058, 36419.19000000006, 22016.98000000007, 20697.230000000018, 29989.010000000013, 37205.74999999982, 32624.300000000083, 25096.219999999965, 22703.210000000072, 21635.770000000048, 25468.880000000067, 30184.580000000034, 34606.93000000002, -1683.4999999999905, 14503.430000000018, 33603.239999999954, 22449.09999999997, 34760.66999999998, 36853.650000000125, 12370.7, 28546.57999999997, 27481.50999999999, 17422.900000000016, 23892.67000000002, 16553.520000000037, 15754.340000000017, 38184.3100000001, 21158.140000000047, 34557.67000000004, 26386.141000000105, 20453.130000000067, 23081.19000000006, 41699.62000000009, 61871.32999999991, 29604.740000000023, 36179.87999999996, 47665.38999999997, 21364.570000000025, 97814.69999999997, 33757.070000000065, 37750.23999999998, 46036.66999999994, 37751.000000000095, 38542.45000000007, 39071.090000000186, 53656.67000000009, 29985.44000000008, 52054.970000000045, 59501.470000000016, 23117.33000000012, 43093.90999999973, 49281.53999999985, 53125.55999999988, 86077.64999999992, 44510.119999999995, 32992.15000000025, 39594.54999999999, 44128.77000000013, 5799.660000000135, 38641.889999999934, 38915.350000000144, 28769.800000000094, 29146.11000000001, 45460.08999999981, 32917.19000000011, 23322.019999999997, 45431.299999999675, 30280.270000000266, 27173.320000000058, 41335.20000000002, 44283.089999999975, 88738.30999999939, 46070.07999999985, 31782.870000000254, 83788.85099999984, 58143.23999999971, 79721.71999999954, 61133.28999999977, 50597.03000000018, 29333.48000000013, 104983.54999999984, 71633.72000000028, 51233.61099999989, 44515.65999999969, 47210.63000000001, 32353.92000000018, 43078.55999999981, 53776.25000000032, 58089.979999999654, 71788.17999999953, 40206.44999999995, 27088.600000000155, 79069.76999999995, 55525.27999999962, 117271.11999999998, 92414.55999999902, 91240.91999999962, 62767.89999999923, 107720.36000000019, 90118.10000000104, 88379.67999999959, 105064.26000000033, 57404.91000000017, 17240.92000000005, 35379.34000000009, 42843.2900000002, 29443.69000000013, 48334.34999999993, 43534.19000000001, 7517.309999999991, 24741.750000000015, 47097.939999999915, 6134.569999999999, 11796.310000000025, 14950.480000000014, -1566.2299999999464, 37392.73999999999, 27233.140000000065, 15710.800000000023, 24191.639999999996, 67817.1300000002, 23958.77999999998, 20533.540000000005, 47377.2600000001, 7116.609999999981, 29256.000000000295, 18680.800000000003, 25585.81000000013, 17995.909999999974, 31978.440000000188, 10285.94999999997, 25555.620000000134, 27971.520000000113, 19493.320000000065, 21092.140000000076, 18567.76999999999, 6456.439999999991, 22364.650000000107, 28433.220000000023, 21048.45000000002, 23344.580000000096, 24994.170000000042, 3457.1099999999965, 25525.989999999983, 20728.14000000004, 16692.579999999976, 13427.539999999994, 20387.279999999984, 5535.399999999994, 26222.030000000173, 36842.58000000006, 24730.810000000085, 26361.87000000019, 15928.399999999987, 9578.890000000032, 23807.830000000176, 32292.62000000012, 26792.76000000015, 22655.830000000096, 18029.840000000007, 9491.049999999981, 21753.680000000186, 25471.71000000005, 18296.45, 35842.62000000009, 19474.8700000001, 9596.229999999987, 30525.58000000021, 25017.47000000018, 21907.120000000094, 25597.890000000112, 21995.28000000005, 4137.619999999995, 25864.590000000066, 20660.029999999955, 21182.640000000065, 38804.25000000005, 16770.459999999995, 21980.640000000098, 16370.270000000037, 31312.350000000228, 24029.070000000098, 36562.1000000001, 30656.03000000007, 8979.979999999996, 19207.030000000002, 70531.46999999978, 31489.25000000013, 31004.080000000187, 24391.78000000006, 6878.0999999999985, 25073.020000000182, 28353.83000000014, 17279.350000000064, 18229.00000000011, 23299.140000000112, 9363.879999999972, 22110.310000000063, 25124.250000000084, 23898.200000000023, 35295.580000000075, 28327.130999999976, 12704.299999999994, 32185.610000000288, 23837.650000000183, 28239.390000000025, 31198.60000000008, 30585.54000000015, 25590.56000000002, 21241.900000000063, 6964.659999999997, 19617.860000000135, 27462.300000000097, 28750.650000000238, 35714.58000000002, 18808.920000000046, 26060.43000000019, 45564.119999999915, 33240.36000000021, 59911.969999999856, 30744.07000000008, 9924.280000000004, 25279.77000000014, 53603.82999999985, 34337.29000000008, 34348.750000000015, 26256.520000000062, 24205.370000000046, 30739.550000000087, 37028.910000000054, 24152.280000000075, 33208.590000000026, 28232.19000000009, 7208.299999999988, 21967.96000000007, 20191.200000000124, 32502.010000000162, 16750.999999999996, 25520.35000000011, 16791.39, 37644.30000000004, 42940.90999999982, 45515.75000000025, 22540.659999999985, 12483.85999999999, 20372.930000000055, 40211.93000000002, 46139.179999999906, 34131.730000000054, 20800.72000000004, 22360.010000000104, 33493.4000000001, 22730.010000000064, 21794.940000000057, 24273.31000000014, 8619.880000000003, 6175.169999999984, 16823.859999999997, 34704.64000000011, 21775.43, 43834.550000000076, 13171.82000000001, 5977.139999999991, 44154.750000000226, 40334.9700000001, 26279.580000000125, 31357.72000000012, 26840.08000000012, 5692.069999999985, 22429.530000000123, 25892.040000000077, 11612.049999999948, 32575.960000000163, 14478.929999999933, 17174.660000000036, 28443.27000000024, 49316.780000000035, 27305.41000000014, 30957.06999999999, 20015.229999999978, 26476.200000000048, 26687.650000000176, 21271.30100000004, 25568.450000000106, 55706.880000000034, 18094.209999999955, 33486.359999999986, 21362.840000000022, 14947.269999999933, 27075.020000000168, 61028.6500000001, 21298.300000000094, 7464.1199999999935, 19987.149999999994, 26623.20000000008, 27474.220000000118, 72132.7900000002, 10049.47999999996, 5150.179999999998, 17205.54, 19103.710000000032, 49392.21999999998, 53225.669999999955, 17248.539999999994, 14549.210000000008, 27978.41000000003, 25756.30000000006, 37074.900000000045, 22458.880000000034, 25550.229999999978, 10784.779999999977, 31640.900000000096, 16117.999999999998, 37296.60000000006, 41745.07000000001, 17018.489999999998, 36844.04000000002, 28052.62000000006, 34125.65000000011, 26708.000000000106, 29317.690000000068, 35465.47000000012, 29039.310000000096, 54828.45000000007, 23360.660000000134, 62943.80999999994, 25858.060000000034, 15692.330000000029, 46212.21000000002, 109286.20999999993, 42944.070000000014, 57076.83000000002, 39426.48000000004, 31210.921000000104, 28642.27100000011, 35752.159999999916, 43383.03999999988, 43464.33000000008, 43992.84999999993, 11623.580000000014, 64214.78, 48240.839999999895, 75244.42999999986, 55306.27999999994, 47538.019999999815, 11922.239999999993, 44265.89000000009, 38267.75000000006, 29302.850000000173, 37067.17000000006, 35225.53999999997, 21605.440000000053, 47064.139999999956, 44637.84000000008, 36003.43000000002, 60793.13999999962, 62961.25999999998, 12302.410000000013, 38407.719999999965, 40807.49000000003, 37842.07999999995, 47480.1499999999, 39559.47000000007, 34545.28000000011, 48475.450000000164, 28741.55000000017, 45239.05999999982, 62816.54999999997, 60081.75999999989, 42912.400000000176, 70001.08000000009, 56647.659999999814, 62599.42999999966, 68956.24000000003, 54835.509999999995, 33520.22000000013, 112141.10999999994, 60594.229999999865, 64408.7000000001, 60329.719999999776, 48031.80000000006, 34902.01000000015, 48302.499999999796, 62307.31999999994, 78480.6999999997, 48080.27999999996, 50442.72000000002, 20571.500000000084, 55442.01999999994, 72219.2, 59150.97999999988, 51410.94999999973, 57086.059999999874, 24565.78000000009, 57751.31999999973, 54228.37000000012, 75076.21999999965, 81417.77999999982, 32149.529999999988], \"yaxis\": \"y\"}],                        {\"legend\": {\"tracegroupgap\": 0}, \"margin\": {\"t\": 60}, \"template\": {\"data\": {\"bar\": [{\"error_x\": {\"color\": \"#2a3f5f\"}, \"error_y\": {\"color\": \"#2a3f5f\"}, \"marker\": {\"line\": {\"color\": \"#E5ECF6\", \"width\": 0.5}}, \"type\": \"bar\"}], \"barpolar\": [{\"marker\": {\"line\": {\"color\": \"#E5ECF6\", \"width\": 0.5}}, \"type\": \"barpolar\"}], \"carpet\": [{\"aaxis\": {\"endlinecolor\": \"#2a3f5f\", \"gridcolor\": \"white\", \"linecolor\": \"white\", \"minorgridcolor\": \"white\", \"startlinecolor\": \"#2a3f5f\"}, \"baxis\": {\"endlinecolor\": \"#2a3f5f\", \"gridcolor\": \"white\", \"linecolor\": \"white\", \"minorgridcolor\": \"white\", \"startlinecolor\": \"#2a3f5f\"}, \"type\": \"carpet\"}], \"choropleth\": [{\"colorbar\": {\"outlinewidth\": 0, \"ticks\": \"\"}, \"type\": \"choropleth\"}], \"contour\": [{\"colorbar\": {\"outlinewidth\": 0, \"ticks\": \"\"}, \"colorscale\": [[0.0, \"#0d0887\"], [0.1111111111111111, \"#46039f\"], [0.2222222222222222, \"#7201a8\"], [0.3333333333333333, \"#9c179e\"], [0.4444444444444444, \"#bd3786\"], [0.5555555555555556, \"#d8576b\"], [0.6666666666666666, \"#ed7953\"], [0.7777777777777778, \"#fb9f3a\"], [0.8888888888888888, \"#fdca26\"], [1.0, \"#f0f921\"]], \"type\": \"contour\"}], \"contourcarpet\": [{\"colorbar\": {\"outlinewidth\": 0, \"ticks\": \"\"}, \"type\": \"contourcarpet\"}], \"heatmap\": [{\"colorbar\": {\"outlinewidth\": 0, \"ticks\": \"\"}, \"colorscale\": [[0.0, \"#0d0887\"], [0.1111111111111111, \"#46039f\"], [0.2222222222222222, \"#7201a8\"], [0.3333333333333333, \"#9c179e\"], [0.4444444444444444, \"#bd3786\"], [0.5555555555555556, \"#d8576b\"], [0.6666666666666666, \"#ed7953\"], [0.7777777777777778, \"#fb9f3a\"], [0.8888888888888888, \"#fdca26\"], [1.0, \"#f0f921\"]], \"type\": \"heatmap\"}], \"heatmapgl\": [{\"colorbar\": {\"outlinewidth\": 0, \"ticks\": \"\"}, \"colorscale\": [[0.0, \"#0d0887\"], [0.1111111111111111, \"#46039f\"], [0.2222222222222222, \"#7201a8\"], [0.3333333333333333, \"#9c179e\"], [0.4444444444444444, \"#bd3786\"], [0.5555555555555556, \"#d8576b\"], [0.6666666666666666, \"#ed7953\"], [0.7777777777777778, \"#fb9f3a\"], [0.8888888888888888, \"#fdca26\"], [1.0, \"#f0f921\"]], \"type\": \"heatmapgl\"}], \"histogram\": [{\"marker\": {\"colorbar\": {\"outlinewidth\": 0, \"ticks\": \"\"}}, \"type\": \"histogram\"}], \"histogram2d\": [{\"colorbar\": {\"outlinewidth\": 0, \"ticks\": \"\"}, \"colorscale\": [[0.0, \"#0d0887\"], [0.1111111111111111, \"#46039f\"], [0.2222222222222222, \"#7201a8\"], [0.3333333333333333, \"#9c179e\"], [0.4444444444444444, \"#bd3786\"], [0.5555555555555556, \"#d8576b\"], [0.6666666666666666, \"#ed7953\"], [0.7777777777777778, \"#fb9f3a\"], [0.8888888888888888, \"#fdca26\"], [1.0, \"#f0f921\"]], \"type\": \"histogram2d\"}], \"histogram2dcontour\": [{\"colorbar\": {\"outlinewidth\": 0, \"ticks\": \"\"}, \"colorscale\": [[0.0, \"#0d0887\"], [0.1111111111111111, \"#46039f\"], [0.2222222222222222, \"#7201a8\"], [0.3333333333333333, \"#9c179e\"], [0.4444444444444444, \"#bd3786\"], [0.5555555555555556, \"#d8576b\"], [0.6666666666666666, \"#ed7953\"], [0.7777777777777778, \"#fb9f3a\"], [0.8888888888888888, \"#fdca26\"], [1.0, \"#f0f921\"]], \"type\": \"histogram2dcontour\"}], \"mesh3d\": [{\"colorbar\": {\"outlinewidth\": 0, \"ticks\": \"\"}, \"type\": \"mesh3d\"}], \"parcoords\": [{\"line\": {\"colorbar\": {\"outlinewidth\": 0, \"ticks\": \"\"}}, \"type\": \"parcoords\"}], \"pie\": [{\"automargin\": true, \"type\": \"pie\"}], \"scatter\": [{\"marker\": {\"colorbar\": {\"outlinewidth\": 0, \"ticks\": \"\"}}, \"type\": \"scatter\"}], \"scatter3d\": [{\"line\": {\"colorbar\": {\"outlinewidth\": 0, \"ticks\": \"\"}}, \"marker\": {\"colorbar\": {\"outlinewidth\": 0, \"ticks\": \"\"}}, \"type\": \"scatter3d\"}], \"scattercarpet\": [{\"marker\": {\"colorbar\": {\"outlinewidth\": 0, \"ticks\": \"\"}}, \"type\": \"scattercarpet\"}], \"scattergeo\": [{\"marker\": {\"colorbar\": {\"outlinewidth\": 0, \"ticks\": \"\"}}, \"type\": \"scattergeo\"}], \"scattergl\": [{\"marker\": {\"colorbar\": {\"outlinewidth\": 0, \"ticks\": \"\"}}, \"type\": \"scattergl\"}], \"scattermapbox\": [{\"marker\": {\"colorbar\": {\"outlinewidth\": 0, \"ticks\": \"\"}}, \"type\": \"scattermapbox\"}], \"scatterpolar\": [{\"marker\": {\"colorbar\": {\"outlinewidth\": 0, \"ticks\": \"\"}}, \"type\": \"scatterpolar\"}], \"scatterpolargl\": [{\"marker\": {\"colorbar\": {\"outlinewidth\": 0, \"ticks\": \"\"}}, \"type\": \"scatterpolargl\"}], \"scatterternary\": [{\"marker\": {\"colorbar\": {\"outlinewidth\": 0, \"ticks\": \"\"}}, \"type\": \"scatterternary\"}], \"surface\": [{\"colorbar\": {\"outlinewidth\": 0, \"ticks\": \"\"}, \"colorscale\": [[0.0, \"#0d0887\"], [0.1111111111111111, \"#46039f\"], [0.2222222222222222, \"#7201a8\"], [0.3333333333333333, \"#9c179e\"], [0.4444444444444444, \"#bd3786\"], [0.5555555555555556, \"#d8576b\"], [0.6666666666666666, \"#ed7953\"], [0.7777777777777778, \"#fb9f3a\"], [0.8888888888888888, \"#fdca26\"], [1.0, \"#f0f921\"]], \"type\": \"surface\"}], \"table\": [{\"cells\": {\"fill\": {\"color\": \"#EBF0F8\"}, \"line\": {\"color\": \"white\"}}, \"header\": {\"fill\": {\"color\": \"#C8D4E3\"}, \"line\": {\"color\": \"white\"}}, \"type\": \"table\"}]}, \"layout\": {\"annotationdefaults\": {\"arrowcolor\": \"#2a3f5f\", \"arrowhead\": 0, \"arrowwidth\": 1}, \"autotypenumbers\": \"strict\", \"coloraxis\": {\"colorbar\": {\"outlinewidth\": 0, \"ticks\": \"\"}}, \"colorscale\": {\"diverging\": [[0, \"#8e0152\"], [0.1, \"#c51b7d\"], [0.2, \"#de77ae\"], [0.3, \"#f1b6da\"], [0.4, \"#fde0ef\"], [0.5, \"#f7f7f7\"], [0.6, \"#e6f5d0\"], [0.7, \"#b8e186\"], [0.8, \"#7fbc41\"], [0.9, \"#4d9221\"], [1, \"#276419\"]], \"sequential\": [[0.0, \"#0d0887\"], [0.1111111111111111, \"#46039f\"], [0.2222222222222222, \"#7201a8\"], [0.3333333333333333, \"#9c179e\"], [0.4444444444444444, \"#bd3786\"], [0.5555555555555556, \"#d8576b\"], [0.6666666666666666, \"#ed7953\"], [0.7777777777777778, \"#fb9f3a\"], [0.8888888888888888, \"#fdca26\"], [1.0, \"#f0f921\"]], \"sequentialminus\": [[0.0, \"#0d0887\"], [0.1111111111111111, \"#46039f\"], [0.2222222222222222, \"#7201a8\"], [0.3333333333333333, \"#9c179e\"], [0.4444444444444444, \"#bd3786\"], [0.5555555555555556, \"#d8576b\"], [0.6666666666666666, \"#ed7953\"], [0.7777777777777778, \"#fb9f3a\"], [0.8888888888888888, \"#fdca26\"], [1.0, \"#f0f921\"]]}, \"colorway\": [\"#636efa\", \"#EF553B\", \"#00cc96\", \"#ab63fa\", \"#FFA15A\", \"#19d3f3\", \"#FF6692\", \"#B6E880\", \"#FF97FF\", \"#FECB52\"], \"font\": {\"color\": \"#2a3f5f\"}, \"geo\": {\"bgcolor\": \"white\", \"lakecolor\": \"white\", \"landcolor\": \"#E5ECF6\", \"showlakes\": true, \"showland\": true, \"subunitcolor\": \"white\"}, \"hoverlabel\": {\"align\": \"left\"}, \"hovermode\": \"closest\", \"mapbox\": {\"style\": \"light\"}, \"paper_bgcolor\": \"white\", \"plot_bgcolor\": \"#E5ECF6\", \"polar\": {\"angularaxis\": {\"gridcolor\": \"white\", \"linecolor\": \"white\", \"ticks\": \"\"}, \"bgcolor\": \"#E5ECF6\", \"radialaxis\": {\"gridcolor\": \"white\", \"linecolor\": \"white\", \"ticks\": \"\"}}, \"scene\": {\"xaxis\": {\"backgroundcolor\": \"#E5ECF6\", \"gridcolor\": \"white\", \"gridwidth\": 2, \"linecolor\": \"white\", \"showbackground\": true, \"ticks\": \"\", \"zerolinecolor\": \"white\"}, \"yaxis\": {\"backgroundcolor\": \"#E5ECF6\", \"gridcolor\": \"white\", \"gridwidth\": 2, \"linecolor\": \"white\", \"showbackground\": true, \"ticks\": \"\", \"zerolinecolor\": \"white\"}, \"zaxis\": {\"backgroundcolor\": \"#E5ECF6\", \"gridcolor\": \"white\", \"gridwidth\": 2, \"linecolor\": \"white\", \"showbackground\": true, \"ticks\": \"\", \"zerolinecolor\": \"white\"}}, \"shapedefaults\": {\"line\": {\"color\": \"#2a3f5f\"}}, \"ternary\": {\"aaxis\": {\"gridcolor\": \"white\", \"linecolor\": \"white\", \"ticks\": \"\"}, \"baxis\": {\"gridcolor\": \"white\", \"linecolor\": \"white\", \"ticks\": \"\"}, \"bgcolor\": \"#E5ECF6\", \"caxis\": {\"gridcolor\": \"white\", \"linecolor\": \"white\", \"ticks\": \"\"}}, \"title\": {\"x\": 0.05}, \"xaxis\": {\"automargin\": true, \"gridcolor\": \"white\", \"linecolor\": \"white\", \"ticks\": \"\", \"title\": {\"standoff\": 15}, \"zerolinecolor\": \"white\", \"zerolinewidth\": 2}, \"yaxis\": {\"automargin\": true, \"gridcolor\": \"white\", \"linecolor\": \"white\", \"ticks\": \"\", \"title\": {\"standoff\": 15}, \"zerolinecolor\": \"white\", \"zerolinewidth\": 2}}}, \"xaxis\": {\"anchor\": \"y\", \"domain\": [0.0, 1.0], \"title\": {\"text\": \"fecha\"}}, \"yaxis\": {\"anchor\": \"x\", \"domain\": [0.0, 1.0], \"title\": {\"text\": \"ganancia\"}}},                        {\"responsive\": true}                    ).then(function(){\n",
              "                            \n",
              "var gd = document.getElementById('464f881a-c727-489c-a224-d7dce7572324');\n",
              "var x = new MutationObserver(function (mutations, observer) {{\n",
              "        var display = window.getComputedStyle(gd).display;\n",
              "        if (!display || display === 'none') {{\n",
              "            console.log([gd, 'removed!']);\n",
              "            Plotly.purge(gd);\n",
              "            observer.disconnect();\n",
              "        }}\n",
              "}});\n",
              "\n",
              "// Listen for the removal of the full notebook cells\n",
              "var notebookContainer = gd.closest('#notebook-container');\n",
              "if (notebookContainer) {{\n",
              "    x.observe(notebookContainer, {childList: true});\n",
              "}}\n",
              "\n",
              "// Listen for the clearing of the current output cell\n",
              "var outputEl = gd.closest('.output');\n",
              "if (outputEl) {{\n",
              "    x.observe(outputEl, {childList: true});\n",
              "}}\n",
              "\n",
              "                        })                };                            </script>        </div>\n",
              "</body>\n",
              "</html>"
            ]
          },
          "metadata": {
            "tags": []
          }
        }
      ]
    },
    {
      "cell_type": "markdown",
      "metadata": {
        "id": "zAqfng3Zz--G"
      },
      "source": [
        "**Justifique:**"
      ]
    },
    {
      "cell_type": "markdown",
      "metadata": {
        "id": "WRXqC9hcz_0T"
      },
      "source": [
        "En los gráficos se úede ver que hay datos extraños, se observan ganacias y cantidades de productos vendidos negativos, como también peaks muy altos (que se alejan mucho de la tendencia central)."
      ]
    },
    {
      "cell_type": "markdown",
      "metadata": {
        "id": "THmFfYs1AhAW"
      },
      "source": [
        "## 1.4 Limpieza de Datos [1,5 Puntos]\n",
        "Como pudo ver en 1.1, 1.2 y 1.3 los datos presentan valores \"extraños\", es por esto que se le solicita que realice una **función** que permita **limpiar el dataset**. Realice esta función en base observaciones propias y justifique su elección.\n",
        "\n",
        "Una vez realizada la función, **grafique nuevamente** el registro de ventas en el tiempo. ¿Es posible ver cambios?, Comente que observa."
      ]
    },
    {
      "cell_type": "code",
      "metadata": {
        "id": "6P9mTl4c2ent"
      },
      "source": [
        "#########################\n",
        "    Código Aquí\n",
        "#########################"
      ],
      "execution_count": null,
      "outputs": []
    },
    {
      "cell_type": "markdown",
      "metadata": {
        "id": "3OTtXZlP04VH"
      },
      "source": [
        "**Justificación de la limpieza:**"
      ]
    },
    {
      "cell_type": "markdown",
      "metadata": {
        "id": "rS3oGrlX06E3"
      },
      "source": [
        "```\n",
        "Escriba aquí su justificación\n",
        "```"
      ]
    },
    {
      "cell_type": "markdown",
      "metadata": {
        "id": "auJeF2YfGhZJ"
      },
      "source": [
        "**Comentarios sobre el gráfico:**"
      ]
    },
    {
      "cell_type": "markdown",
      "metadata": {
        "id": "3WTMfG9-Gl53"
      },
      "source": [
        "```\n",
        "Escriba aquí su justificación\n",
        "```"
      ]
    },
    {
      "cell_type": "markdown",
      "metadata": {
        "id": "wBirPKzpmLTF"
      },
      "source": [
        "### 1.4.1 Gráfico"
      ]
    },
    {
      "cell_type": "markdown",
      "metadata": {
        "id": "HnubWVrJ0bEI"
      },
      "source": [
        "**Justifique:**"
      ]
    },
    {
      "cell_type": "markdown",
      "metadata": {
        "id": "c6_j0KAal_Pz"
      },
      "source": [
        "```\n",
        "Escriba aquí su justificación\n",
        "```"
      ]
    },
    {
      "cell_type": "markdown",
      "metadata": {
        "id": "glCueKKBBSio"
      },
      "source": [
        "## 1.5 Creación de nuevas Caracteristicas [1.5 Puntos] "
      ]
    },
    {
      "cell_type": "markdown",
      "metadata": {
        "id": "O4ULhIsLaI2I"
      },
      "source": [
        "El area de ventas le comenta que existe una metodologia especial para realizar la segmentación de clientes, esta recive como nombre **LRMFP** y cada una de sus siglas se define como:\n",
        "\n",
        "- Length (L): Intervalo de tiempo, en días, entre la primera y la última visita del cliente. Mientras mas grande sea el valor, mas fiel es el cliente.\n",
        "- Recency (R): Indica la actualidad de la interacción de un cliente con la empresa, y da información sobre la tendencia a repetir la compra. Se define como: \n",
        "$$Recency(n)=\\dfrac{1}{n} \\sum^n_{i=1} date\\_diff(t_{fecha final}, t_{m-i+1})$$\n",
        "\n",
        " Donde $date\\_diff$ representa la diferencia en días entre la fecha de finalización del periodo de observación ($t_{fecha final}$), y la fecha de una visita del cliente cercana a $t_{fecha final}$, t_{m-i+1}; t_{m} es la última visita del cliente; y n es el número de visitas recientes del cliente consideradas.\n",
        "\n",
        "- Monetary (M): El término \"monetario\" se refiere a la cantidad media de dinero gastada por cada visita del cliente durante el período de observación y refleja la contribución del cliente a los ingresos de la empresa.\n",
        "\n",
        "- Frequency (F): Se refiere al número total de visitas del cliente durante el periodo de observación. Cuanto mayor sea la frecuencia, mayor será la fidelidad del cliente. \n",
        "\n",
        "- Periodicity (P): Representa si los clientes visitan las tiendas con regularidad.\n",
        "\n",
        "$$Periodicity(n)=std(IVT_1, ..., IVT_n)$$\n",
        "\n",
        "&nbsp;&nbsp; &nbsp;&nbsp;&nbsp;&nbsp;&nbsp;&nbsp;Donde $IVT$ denota el tiempo entre visitas y n representa el número de valores de tiempo entre visitas de un cliente.\n",
        " \n",
        "\n",
        "$$IVT_i=date\\_diff(t_{i+1},t)$$\n",
        "\n",
        "Diseñe una función que permita obtener las caracteristicas **LRMFP**. Para esto, no estará permitido el uso de iteradores, utilice todas las herramientas que les ofrece `pandas` para realizar esto. \n",
        "\n",
        "Una referencia interesante es [documento original](https://www.researchgate.net/publication/315979555_LRFMP_model_for_customer_segmentation_in_the_grocery_retail_industry_a_case_study) en donde se propone este método.\n"
      ]
    },
    {
      "cell_type": "code",
      "metadata": {
        "id": "cYRgTSCoa0Gi"
      },
      "source": [
        "#########################\n",
        "    Código Aquí\n",
        "#########################"
      ],
      "execution_count": null,
      "outputs": []
    },
    {
      "cell_type": "markdown",
      "metadata": {
        "id": "c1LR0it1crcQ"
      },
      "source": [
        "**Ejemplo de resultado Esperado:**"
      ]
    },
    {
      "cell_type": "markdown",
      "metadata": {
        "id": "a3UCIgqa2CNd"
      },
      "source": [
        "| Customer ID | Length | Recency | Frequency | Monetary | Periodicity |\n",
        "|------------:|-------:|--------:|----------:|---------:|------------:|\n",
        "|   12346.0   |    294 |      67 |        46 |   -64.68 |        37.0 |\n",
        "|   12347.0   |     37 |       3 |        71 |  1323.32 |         0.0 |\n",
        "|   12349.0   |    327 |      43 |       107 |  2646.99 |        78.0 |\n",
        "|   12352.0   |     16 |      11 |        18 |   343.80 |         0.0 |\n",
        "|   12356.0   |     44 |      16 |        84 |  3562.25 |        12.0 |"
      ]
    },
    {
      "cell_type": "markdown",
      "metadata": {
        "id": "wd-pwJA2c6ms"
      },
      "source": [
        "## 1.5.1 Visualización de información y Outliers [0,5]"
      ]
    },
    {
      "cell_type": "markdown",
      "metadata": {
        "id": "jwK2V3FSnIaG"
      },
      "source": [
        "Visualice las diferenes caracteristicas obtenidas y comente que observa de ellas. ¿Es posible observar valores anómalos?. Proponga un mecanísmo sencillo para solucionar este problema (NO LO IMPLEMENTE)."
      ]
    },
    {
      "cell_type": "markdown",
      "metadata": {
        "id": "sToo8VyV6lDm"
      },
      "source": [
        "**Justifique:**"
      ]
    },
    {
      "cell_type": "markdown",
      "metadata": {
        "id": "ccx4QbZD6mL1"
      },
      "source": [
        "```\n",
        "Escriba aquí su justificación\n",
        "```"
      ]
    },
    {
      "cell_type": "markdown",
      "metadata": {
        "id": "f03gxgZ_6cOm"
      },
      "source": [
        "### 1.5.1.1 Implementación del filtro de outliers [Bonus - 0,5 puntos]\n",
        "\n",
        "Implemente el filtro de outliers como un [Transformer](https://scikit-learn.org/stable/modules/generated/sklearn.preprocessing.FunctionTransformer.html) de `Scikit-learn`."
      ]
    },
    {
      "cell_type": "code",
      "metadata": {
        "id": "Up53HXvi6fDS"
      },
      "source": [
        "#########################\n",
        "    Código Aquí\n",
        "#########################"
      ],
      "execution_count": null,
      "outputs": []
    },
    {
      "cell_type": "markdown",
      "metadata": {
        "id": "TrKqpDimBqwL"
      },
      "source": [
        "## 1.6 Segmentación [1 Punto]\n",
        "\n"
      ]
    },
    {
      "cell_type": "markdown",
      "metadata": {
        "id": "ib3am9JA7nMQ"
      },
      "source": [
        "Finalmente *Don Mora* le pregunta si seria posible realizar una segmentación de los clientes con los nuevos datos generados, a lo que usted responde que **sí** y propone la utilización de Clusters para la segmentación.\n",
        "\n",
        "A continuación siga los pasos requeridos para obtener la segmentación de clientes."
      ]
    },
    {
      "cell_type": "markdown",
      "metadata": {
        "id": "LtaCIrvAgvxL"
      },
      "source": [
        "### 1.6.1 Estandarizar Caracteristicas"
      ]
    },
    {
      "cell_type": "markdown",
      "metadata": {
        "id": "s09o1ew8cDc3"
      },
      "source": [
        "Construya una función que nos permita estandarizar los atributos generados anteriormente. Para esto recuerde que una estandarización basica es:\n",
        "\n",
        "$$Z = \\dfrac{x-\\mu}{s}$$\n",
        "\n",
        "Con esto buscamos que cada atributo tenga un $\\mu$ igual a 0 y una $\\sigma$ igual a 1 (compruebe esto)."
      ]
    },
    {
      "cell_type": "code",
      "metadata": {
        "id": "C9Tc6dnSdX1l"
      },
      "source": [
        "#########################\n",
        "    Código Aquí\n",
        "#########################"
      ],
      "execution_count": null,
      "outputs": []
    },
    {
      "cell_type": "markdown",
      "metadata": {
        "id": "uITz_RYLnZJl"
      },
      "source": [
        "**Comprobación:**"
      ]
    },
    {
      "cell_type": "code",
      "metadata": {
        "colab": {
          "base_uri": "https://localhost:8080/"
        },
        "id": "gK-1zCz1hpQw",
        "outputId": "955c02dd-d10f-440c-99f1-1719683124f8"
      },
      "source": [
        "print(\"Promedio: \\n\",ccustomers.mean(),\"\\n\")\n",
        "print(\"Desviación estandar: \\n\",ccustomers.std())"
      ],
      "execution_count": null,
      "outputs": [
        {
          "output_type": "stream",
          "text": [
            "Promedio: \n",
            " Length         6.770260e-17\n",
            "Recency        2.733733e-17\n",
            "Frequency     -1.794012e-17\n",
            "Monetary       3.467400e-16\n",
            "Periodicity   -8.144246e-17\n",
            "dtype: float64 \n",
            "\n",
            "Desviación estandar: \n",
            " Length         1.0\n",
            "Recency        1.0\n",
            "Frequency      1.0\n",
            "Monetary       1.0\n",
            "Periodicity    1.0\n",
            "dtype: float64\n"
          ],
          "name": "stdout"
        }
      ]
    },
    {
      "cell_type": "markdown",
      "metadata": {
        "id": "RvG6MecDiDg_"
      },
      "source": [
        "### 1.6.2 Clustering"
      ]
    },
    {
      "cell_type": "markdown",
      "metadata": {
        "id": "mc8uvmpF8MiK"
      },
      "source": [
        "Estandarizados los datos un compañero de trabajo les facilita un Código para evaluar la cantidad de cluster óptimos para separar los datos. (Otra forma seria revisando la Silhoutte).\n",
        "\n",
        "En esta parte solo se le pedirá reemplazar la variable ```ccustomers``` por la del dataframe estandarizado."
      ]
    },
    {
      "cell_type": "code",
      "metadata": {
        "id": "WeuMq-j4HqCw",
        "colab": {
          "base_uri": "https://localhost:8080/",
          "height": 542
        },
        "outputId": "7e7be34a-7f19-41c3-f3f0-2075af76c7d0"
      },
      "source": [
        "# Usamos metodo del codo para escoger el k que mejor ajusta el cluster.\n",
        "elbow = pd.DataFrame(columns=['SSE','k'])\n",
        "for k in range(1, 21):\n",
        "    kmeans = KMeans(n_clusters=k, random_state=42)\n",
        "    kmeans.fit(ccustomers)\n",
        "    elbow = elbow.append({'SSE': kmeans.inertia_, 'k': k}, ignore_index=True)\n",
        "\n",
        "# Son ploteados los Resultados\n",
        "fig = go.Figure(data=[\n",
        "    go.Scatter(x = elbow.k, y=elbow.SSE, mode='lines'),\n",
        "    go.Scatter(x = elbow.k, y=elbow.SSE, mode='markers')\n",
        "])\n",
        "\n",
        "fig.update_layout(title=\"Evaluación de los Clusters (Metodo del Codo):\",\n",
        "                 xaxis_title = \"Numero de Clusters:\",\n",
        "                 yaxis_title = \"SSE\",\n",
        "                 showlegend=False)\n",
        "fig.show()"
      ],
      "execution_count": null,
      "outputs": [
        {
          "output_type": "display_data",
          "data": {
            "text/html": [
              "<html>\n",
              "<head><meta charset=\"utf-8\" /></head>\n",
              "<body>\n",
              "    <div>            <script src=\"https://cdnjs.cloudflare.com/ajax/libs/mathjax/2.7.5/MathJax.js?config=TeX-AMS-MML_SVG\"></script><script type=\"text/javascript\">if (window.MathJax) {MathJax.Hub.Config({SVG: {font: \"STIX-Web\"}});}</script>                <script type=\"text/javascript\">window.PlotlyConfig = {MathJaxConfig: 'local'};</script>\n",
              "        <script src=\"https://cdn.plot.ly/plotly-latest.min.js\"></script>                <div id=\"58ca0bb1-dd7f-4ee8-847e-057bb306c465\" class=\"plotly-graph-div\" style=\"height:525px; width:100%;\"></div>            <script type=\"text/javascript\">                                    window.PLOTLYENV=window.PLOTLYENV || {};                                    if (document.getElementById(\"58ca0bb1-dd7f-4ee8-847e-057bb306c465\")) {                    Plotly.newPlot(                        \"58ca0bb1-dd7f-4ee8-847e-057bb306c465\",                        [{\"mode\": \"lines\", \"type\": \"scatter\", \"x\": [1.0, 2.0, 3.0, 4.0, 5.0, 6.0, 7.0, 8.0, 9.0, 10.0, 11.0, 12.0, 13.0, 14.0, 15.0, 16.0, 17.0, 18.0, 19.0, 20.0], \"y\": [15590.00000000001, 11506.753807355582, 8818.543189661917, 7360.414198696613, 5771.158279759606, 4738.408100848937, 4135.546760865216, 3697.505226557867, 3360.8953235896197, 3056.866551513167, 2822.779137793811, 2617.8286667595667, 2456.5156542136065, 2329.845668118756, 2228.0534331632525, 2100.6216860843415, 2009.2215112402969, 1888.1678911239708, 1803.2954264525383, 1702.6260733104805]}, {\"mode\": \"markers\", \"type\": \"scatter\", \"x\": [1.0, 2.0, 3.0, 4.0, 5.0, 6.0, 7.0, 8.0, 9.0, 10.0, 11.0, 12.0, 13.0, 14.0, 15.0, 16.0, 17.0, 18.0, 19.0, 20.0], \"y\": [15590.00000000001, 11506.753807355582, 8818.543189661917, 7360.414198696613, 5771.158279759606, 4738.408100848937, 4135.546760865216, 3697.505226557867, 3360.8953235896197, 3056.866551513167, 2822.779137793811, 2617.8286667595667, 2456.5156542136065, 2329.845668118756, 2228.0534331632525, 2100.6216860843415, 2009.2215112402969, 1888.1678911239708, 1803.2954264525383, 1702.6260733104805]}],                        {\"showlegend\": false, \"template\": {\"data\": {\"bar\": [{\"error_x\": {\"color\": \"#2a3f5f\"}, \"error_y\": {\"color\": \"#2a3f5f\"}, \"marker\": {\"line\": {\"color\": \"#E5ECF6\", \"width\": 0.5}}, \"type\": \"bar\"}], \"barpolar\": [{\"marker\": {\"line\": {\"color\": \"#E5ECF6\", \"width\": 0.5}}, \"type\": \"barpolar\"}], \"carpet\": [{\"aaxis\": {\"endlinecolor\": \"#2a3f5f\", \"gridcolor\": \"white\", \"linecolor\": \"white\", \"minorgridcolor\": \"white\", \"startlinecolor\": \"#2a3f5f\"}, \"baxis\": {\"endlinecolor\": \"#2a3f5f\", \"gridcolor\": \"white\", \"linecolor\": \"white\", \"minorgridcolor\": \"white\", \"startlinecolor\": \"#2a3f5f\"}, \"type\": \"carpet\"}], \"choropleth\": [{\"colorbar\": {\"outlinewidth\": 0, \"ticks\": \"\"}, \"type\": \"choropleth\"}], \"contour\": [{\"colorbar\": {\"outlinewidth\": 0, \"ticks\": \"\"}, \"colorscale\": [[0.0, \"#0d0887\"], [0.1111111111111111, \"#46039f\"], [0.2222222222222222, \"#7201a8\"], [0.3333333333333333, \"#9c179e\"], [0.4444444444444444, \"#bd3786\"], [0.5555555555555556, \"#d8576b\"], [0.6666666666666666, \"#ed7953\"], [0.7777777777777778, \"#fb9f3a\"], [0.8888888888888888, \"#fdca26\"], [1.0, \"#f0f921\"]], \"type\": \"contour\"}], \"contourcarpet\": [{\"colorbar\": {\"outlinewidth\": 0, \"ticks\": \"\"}, \"type\": \"contourcarpet\"}], \"heatmap\": [{\"colorbar\": {\"outlinewidth\": 0, \"ticks\": \"\"}, \"colorscale\": [[0.0, \"#0d0887\"], [0.1111111111111111, \"#46039f\"], [0.2222222222222222, \"#7201a8\"], [0.3333333333333333, \"#9c179e\"], [0.4444444444444444, \"#bd3786\"], [0.5555555555555556, \"#d8576b\"], [0.6666666666666666, \"#ed7953\"], [0.7777777777777778, \"#fb9f3a\"], [0.8888888888888888, \"#fdca26\"], [1.0, \"#f0f921\"]], \"type\": \"heatmap\"}], \"heatmapgl\": [{\"colorbar\": {\"outlinewidth\": 0, \"ticks\": \"\"}, \"colorscale\": [[0.0, \"#0d0887\"], [0.1111111111111111, \"#46039f\"], [0.2222222222222222, \"#7201a8\"], [0.3333333333333333, \"#9c179e\"], [0.4444444444444444, \"#bd3786\"], [0.5555555555555556, \"#d8576b\"], [0.6666666666666666, \"#ed7953\"], [0.7777777777777778, \"#fb9f3a\"], [0.8888888888888888, \"#fdca26\"], [1.0, \"#f0f921\"]], \"type\": \"heatmapgl\"}], \"histogram\": [{\"marker\": {\"colorbar\": {\"outlinewidth\": 0, \"ticks\": \"\"}}, \"type\": \"histogram\"}], \"histogram2d\": [{\"colorbar\": {\"outlinewidth\": 0, \"ticks\": \"\"}, \"colorscale\": [[0.0, \"#0d0887\"], [0.1111111111111111, \"#46039f\"], [0.2222222222222222, \"#7201a8\"], [0.3333333333333333, \"#9c179e\"], [0.4444444444444444, \"#bd3786\"], [0.5555555555555556, \"#d8576b\"], [0.6666666666666666, \"#ed7953\"], [0.7777777777777778, \"#fb9f3a\"], [0.8888888888888888, \"#fdca26\"], [1.0, \"#f0f921\"]], \"type\": \"histogram2d\"}], \"histogram2dcontour\": [{\"colorbar\": {\"outlinewidth\": 0, \"ticks\": \"\"}, \"colorscale\": [[0.0, \"#0d0887\"], [0.1111111111111111, \"#46039f\"], [0.2222222222222222, \"#7201a8\"], [0.3333333333333333, \"#9c179e\"], [0.4444444444444444, \"#bd3786\"], [0.5555555555555556, \"#d8576b\"], [0.6666666666666666, \"#ed7953\"], [0.7777777777777778, \"#fb9f3a\"], [0.8888888888888888, \"#fdca26\"], [1.0, \"#f0f921\"]], \"type\": \"histogram2dcontour\"}], \"mesh3d\": [{\"colorbar\": {\"outlinewidth\": 0, \"ticks\": \"\"}, \"type\": \"mesh3d\"}], \"parcoords\": [{\"line\": {\"colorbar\": {\"outlinewidth\": 0, \"ticks\": \"\"}}, \"type\": \"parcoords\"}], \"pie\": [{\"automargin\": true, \"type\": \"pie\"}], \"scatter\": [{\"marker\": {\"colorbar\": {\"outlinewidth\": 0, \"ticks\": \"\"}}, \"type\": \"scatter\"}], \"scatter3d\": [{\"line\": {\"colorbar\": {\"outlinewidth\": 0, \"ticks\": \"\"}}, \"marker\": {\"colorbar\": {\"outlinewidth\": 0, \"ticks\": \"\"}}, \"type\": \"scatter3d\"}], \"scattercarpet\": [{\"marker\": {\"colorbar\": {\"outlinewidth\": 0, \"ticks\": \"\"}}, \"type\": \"scattercarpet\"}], \"scattergeo\": [{\"marker\": {\"colorbar\": {\"outlinewidth\": 0, \"ticks\": \"\"}}, \"type\": \"scattergeo\"}], \"scattergl\": [{\"marker\": {\"colorbar\": {\"outlinewidth\": 0, \"ticks\": \"\"}}, \"type\": \"scattergl\"}], \"scattermapbox\": [{\"marker\": {\"colorbar\": {\"outlinewidth\": 0, \"ticks\": \"\"}}, \"type\": \"scattermapbox\"}], \"scatterpolar\": [{\"marker\": {\"colorbar\": {\"outlinewidth\": 0, \"ticks\": \"\"}}, \"type\": \"scatterpolar\"}], \"scatterpolargl\": [{\"marker\": {\"colorbar\": {\"outlinewidth\": 0, \"ticks\": \"\"}}, \"type\": \"scatterpolargl\"}], \"scatterternary\": [{\"marker\": {\"colorbar\": {\"outlinewidth\": 0, \"ticks\": \"\"}}, \"type\": \"scatterternary\"}], \"surface\": [{\"colorbar\": {\"outlinewidth\": 0, \"ticks\": \"\"}, \"colorscale\": [[0.0, \"#0d0887\"], [0.1111111111111111, \"#46039f\"], [0.2222222222222222, \"#7201a8\"], [0.3333333333333333, \"#9c179e\"], [0.4444444444444444, \"#bd3786\"], [0.5555555555555556, \"#d8576b\"], [0.6666666666666666, \"#ed7953\"], [0.7777777777777778, \"#fb9f3a\"], [0.8888888888888888, \"#fdca26\"], [1.0, \"#f0f921\"]], \"type\": \"surface\"}], \"table\": [{\"cells\": {\"fill\": {\"color\": \"#EBF0F8\"}, \"line\": {\"color\": \"white\"}}, \"header\": {\"fill\": {\"color\": \"#C8D4E3\"}, \"line\": {\"color\": \"white\"}}, \"type\": \"table\"}]}, \"layout\": {\"annotationdefaults\": {\"arrowcolor\": \"#2a3f5f\", \"arrowhead\": 0, \"arrowwidth\": 1}, \"autotypenumbers\": \"strict\", \"coloraxis\": {\"colorbar\": {\"outlinewidth\": 0, \"ticks\": \"\"}}, \"colorscale\": {\"diverging\": [[0, \"#8e0152\"], [0.1, \"#c51b7d\"], [0.2, \"#de77ae\"], [0.3, \"#f1b6da\"], [0.4, \"#fde0ef\"], [0.5, \"#f7f7f7\"], [0.6, \"#e6f5d0\"], [0.7, \"#b8e186\"], [0.8, \"#7fbc41\"], [0.9, \"#4d9221\"], [1, \"#276419\"]], \"sequential\": [[0.0, \"#0d0887\"], [0.1111111111111111, \"#46039f\"], [0.2222222222222222, \"#7201a8\"], [0.3333333333333333, \"#9c179e\"], [0.4444444444444444, \"#bd3786\"], [0.5555555555555556, \"#d8576b\"], [0.6666666666666666, \"#ed7953\"], [0.7777777777777778, \"#fb9f3a\"], [0.8888888888888888, \"#fdca26\"], [1.0, \"#f0f921\"]], \"sequentialminus\": [[0.0, \"#0d0887\"], [0.1111111111111111, \"#46039f\"], [0.2222222222222222, \"#7201a8\"], [0.3333333333333333, \"#9c179e\"], [0.4444444444444444, \"#bd3786\"], [0.5555555555555556, \"#d8576b\"], [0.6666666666666666, \"#ed7953\"], [0.7777777777777778, \"#fb9f3a\"], [0.8888888888888888, \"#fdca26\"], [1.0, \"#f0f921\"]]}, \"colorway\": [\"#636efa\", \"#EF553B\", \"#00cc96\", \"#ab63fa\", \"#FFA15A\", \"#19d3f3\", \"#FF6692\", \"#B6E880\", \"#FF97FF\", \"#FECB52\"], \"font\": {\"color\": \"#2a3f5f\"}, \"geo\": {\"bgcolor\": \"white\", \"lakecolor\": \"white\", \"landcolor\": \"#E5ECF6\", \"showlakes\": true, \"showland\": true, \"subunitcolor\": \"white\"}, \"hoverlabel\": {\"align\": \"left\"}, \"hovermode\": \"closest\", \"mapbox\": {\"style\": \"light\"}, \"paper_bgcolor\": \"white\", \"plot_bgcolor\": \"#E5ECF6\", \"polar\": {\"angularaxis\": {\"gridcolor\": \"white\", \"linecolor\": \"white\", \"ticks\": \"\"}, \"bgcolor\": \"#E5ECF6\", \"radialaxis\": {\"gridcolor\": \"white\", \"linecolor\": \"white\", \"ticks\": \"\"}}, \"scene\": {\"xaxis\": {\"backgroundcolor\": \"#E5ECF6\", \"gridcolor\": \"white\", \"gridwidth\": 2, \"linecolor\": \"white\", \"showbackground\": true, \"ticks\": \"\", \"zerolinecolor\": \"white\"}, \"yaxis\": {\"backgroundcolor\": \"#E5ECF6\", \"gridcolor\": \"white\", \"gridwidth\": 2, \"linecolor\": \"white\", \"showbackground\": true, \"ticks\": \"\", \"zerolinecolor\": \"white\"}, \"zaxis\": {\"backgroundcolor\": \"#E5ECF6\", \"gridcolor\": \"white\", \"gridwidth\": 2, \"linecolor\": \"white\", \"showbackground\": true, \"ticks\": \"\", \"zerolinecolor\": \"white\"}}, \"shapedefaults\": {\"line\": {\"color\": \"#2a3f5f\"}}, \"ternary\": {\"aaxis\": {\"gridcolor\": \"white\", \"linecolor\": \"white\", \"ticks\": \"\"}, \"baxis\": {\"gridcolor\": \"white\", \"linecolor\": \"white\", \"ticks\": \"\"}, \"bgcolor\": \"#E5ECF6\", \"caxis\": {\"gridcolor\": \"white\", \"linecolor\": \"white\", \"ticks\": \"\"}}, \"title\": {\"x\": 0.05}, \"xaxis\": {\"automargin\": true, \"gridcolor\": \"white\", \"linecolor\": \"white\", \"ticks\": \"\", \"title\": {\"standoff\": 15}, \"zerolinecolor\": \"white\", \"zerolinewidth\": 2}, \"yaxis\": {\"automargin\": true, \"gridcolor\": \"white\", \"linecolor\": \"white\", \"ticks\": \"\", \"title\": {\"standoff\": 15}, \"zerolinecolor\": \"white\", \"zerolinewidth\": 2}}}, \"title\": {\"text\": \"Evaluaci\\u00f3n de los Clusters (Metodo del Codo):\"}, \"xaxis\": {\"title\": {\"text\": \"Numero de Clusters:\"}}, \"yaxis\": {\"title\": {\"text\": \"SSE\"}}},                        {\"responsive\": true}                    ).then(function(){\n",
              "                            \n",
              "var gd = document.getElementById('58ca0bb1-dd7f-4ee8-847e-057bb306c465');\n",
              "var x = new MutationObserver(function (mutations, observer) {{\n",
              "        var display = window.getComputedStyle(gd).display;\n",
              "        if (!display || display === 'none') {{\n",
              "            console.log([gd, 'removed!']);\n",
              "            Plotly.purge(gd);\n",
              "            observer.disconnect();\n",
              "        }}\n",
              "}});\n",
              "\n",
              "// Listen for the removal of the full notebook cells\n",
              "var notebookContainer = gd.closest('#notebook-container');\n",
              "if (notebookContainer) {{\n",
              "    x.observe(notebookContainer, {childList: true});\n",
              "}}\n",
              "\n",
              "// Listen for the clearing of the current output cell\n",
              "var outputEl = gd.closest('.output');\n",
              "if (outputEl) {{\n",
              "    x.observe(outputEl, {childList: true});\n",
              "}}\n",
              "\n",
              "                        })                };                            </script>        </div>\n",
              "</body>\n",
              "</html>"
            ]
          },
          "metadata": {
            "tags": []
          }
        }
      ]
    },
    {
      "cell_type": "markdown",
      "metadata": {
        "id": "orJ_Ab_lnXdF"
      },
      "source": [
        "### 1.6.3 Segmentación de Clientes 🎁"
      ]
    },
    {
      "cell_type": "markdown",
      "metadata": {
        "id": "eX_aDjLSmkWm"
      },
      "source": [
        "En base al gráfico anterior escoja un valor que encuentren correcto. Para esto cambie el valor de \"k\" en el codigo de mas abajo."
      ]
    },
    {
      "cell_type": "code",
      "metadata": {
        "colab": {
          "base_uri": "https://localhost:8080/"
        },
        "id": "1jVeBGzLF-KH",
        "outputId": "f80f617c-f41c-4482-92a8-595afb2ab350"
      },
      "source": [
        "k=6\n",
        "model = KMeans(n_clusters=k, random_state=80)\n",
        "model.fit(ccustomers)"
      ],
      "execution_count": null,
      "outputs": [
        {
          "output_type": "execute_result",
          "data": {
            "text/plain": [
              "KMeans(algorithm='auto', copy_x=True, init='k-means++', max_iter=300,\n",
              "       n_clusters=6, n_init=10, n_jobs=None, precompute_distances='auto',\n",
              "       random_state=80, tol=0.0001, verbose=0)"
            ]
          },
          "metadata": {
            "tags": []
          },
          "execution_count": 280
        }
      ]
    },
    {
      "cell_type": "markdown",
      "metadata": {
        "id": "uO-Q30uOn3_0"
      },
      "source": [
        "Genere una tabla con los promedios (o medianas) para cada uno de los atributos, agrupando estos por el clúster que pertenecen. ¿Es posible observar agrupaciones coherentes?, ¿Qué tipo de clientes posee el retail?, Justifique.\n"
      ]
    },
    {
      "cell_type": "code",
      "metadata": {
        "id": "fEclmCNRn1br"
      },
      "source": [
        "customers[\"Cluster\"] = model.labels_\n",
        "#########################\n",
        "    Código Aquí\n",
        "#########################"
      ],
      "execution_count": null,
      "outputs": []
    },
    {
      "cell_type": "markdown",
      "metadata": {
        "id": "qL3Bsm2eA-q2"
      },
      "source": [
        "**Justifique:**"
      ]
    },
    {
      "cell_type": "markdown",
      "metadata": {
        "id": "LZCmRoR9A-NH"
      },
      "source": [
        "```\n",
        "Escriba aquí su justificación\n",
        "```"
      ]
    },
    {
      "cell_type": "markdown",
      "metadata": {
        "id": "uV9HFAPSAr_c"
      },
      "source": [
        "\n",
        "**Respuesta Esperada:**"
      ]
    },
    {
      "cell_type": "markdown",
      "metadata": {
        "id": "95mazLVwASwy"
      },
      "source": [
        "|         | Length  | Recency   | Frequency | Monetary | Periodicity |       |\n",
        "|---------|---------|-----------|----------|-------------|-------|-------|\n",
        "|         | mean    | mean      | mean     | mean        | mean  | count |\n",
        "| Cluster |         |           |          |             |       |       |\n",
        "|    0    |   258.8 |      45.2 |     76.1 |      1107.7 | 107.6 |   449 |\n",
        "|    1    |    76.1 |     217.6 |     45.5 |       791.7 |  14.1 |   466 |\n",
        "|    2    |   368.5 |       4.8 |   2715.0 |    226621.6 |   4.2 |     4 |\n",
        "|    3    |    85.3 |      45.7 |     65.8 |      1047.0 |  10.5 |   987 |\n",
        "|    4    |   347.2 |      15.9 |   1658.0 |     35829.3 |   8.0 |    25 |\n",
        "|    5    |   298.0 |      29.8 |    183.8 |      3639.9 |  32.0 |  1188 |"
      ]
    },
    {
      "cell_type": "markdown",
      "metadata": {
        "id": "JytFvpuws1Kn"
      },
      "source": [
        "--------------------------------------------------------------------------------"
      ]
    },
    {
      "cell_type": "markdown",
      "metadata": {
        "id": "4I2Hb9hfe-SF"
      },
      "source": [
        "# 2 Clima Chileno ☀️"
      ]
    },
    {
      "cell_type": "code",
      "metadata": {
        "colab": {
          "base_uri": "https://localhost:8080/",
          "height": 348
        },
        "id": "ifKPsvVNxLVP",
        "outputId": "1e98d93c-2387-4ef8-dbae-556261572068"
      },
      "source": [
        "HTML('<p align=\"center\"><iframe width=\"560\" height=\"315\" src=\"https://www.youtube.com/embed/fGr-njYF_U0?rel=0&amp;controls=0&amp;showinfo=0\" frameborder=\"0\" allowfullscreen></iframe></p>')"
      ],
      "execution_count": null,
      "outputs": [
        {
          "output_type": "execute_result",
          "data": {
            "text/html": [
              "<p align=\"center\"><iframe width=\"560\" height=\"315\" src=\"https://www.youtube.com/embed/fGr-njYF_U0?rel=0&amp;controls=0&amp;showinfo=0\" frameborder=\"0\" allowfullscreen></iframe></p>"
            ],
            "text/plain": [
              "<IPython.core.display.HTML object>"
            ]
          },
          "metadata": {
            "tags": []
          },
          "execution_count": 11
        }
      ]
    },
    {
      "cell_type": "markdown",
      "metadata": {
        "id": "ksE6CSjyeF5w"
      },
      "source": [
        "## 2.1 Cargar Dataset"
      ]
    },
    {
      "cell_type": "markdown",
      "metadata": {
        "id": "acxRjVJTa87u"
      },
      "source": [
        "<p align=\"center\">\n",
        "  <img src=\"https://cdn.worldvectorlogo.com/logos/kiwi-3.svg\" width='150px'>\n",
        "</p>"
      ]
    },
    {
      "cell_type": "markdown",
      "metadata": {
        "id": "w_T3L2PrZgUV"
      },
      "source": [
        "`Kiguix`, Una prestigiosa empresa de software esta interesada en ingresar al mundo de la predicción del tiempo, por lo que se ha puesto en contacto con ustedes (unos expertos en Data Science) para analizar los datos.\n",
        "\n",
        "Para comenzar el administrador de ```Kiguix``` les entrega el dataset llamado ```cr2_tasDaily_2018.csv``` el que posee un gran registro de temperaturas obtenidas en mas de **300 estaciones metereologicas*** de Chile. Con esto les solicita si pueden explorar este dataset y ver si es posible observar caracteristicas relevantes de los datos.\n",
        "\n",
        "Como **primera Task** se le solicita cargar el archivo y mostrar una pequeña muestra del dataset a estudiar."
      ]
    },
    {
      "cell_type": "code",
      "metadata": {
        "id": "j_7aTixBd_t0"
      },
      "source": [
        "#########################\n",
        "    Código Aquí\n",
        "#########################"
      ],
      "execution_count": null,
      "outputs": []
    },
    {
      "cell_type": "markdown",
      "metadata": {
        "id": "VRdHpm219s8h"
      },
      "source": [
        "## 2.2 Exploración y limpieza de datos"
      ]
    },
    {
      "cell_type": "markdown",
      "metadata": {
        "id": "SKjUL_zMeih6"
      },
      "source": [
        "Cargado los datos, el administrador les consulta si es posible realizar un analisis de los datos en el estado que se encuentran. ¿Es posible observar información relevante al realizar un analisis exploratorio de los datos?. Recuerde justificar su respuesta en la casilla **Justifique**, utilice como argumento lo visto en la exploración de datos realizada."
      ]
    },
    {
      "cell_type": "markdown",
      "metadata": {
        "id": "PRmXl1Kk9zfL"
      },
      "source": [
        "### 2.2.1 ¿Es Posible Realizar en Este Estado un Análisis Exploratorio de los Datos? [0,5]\n"
      ]
    },
    {
      "cell_type": "code",
      "metadata": {
        "id": "GVDmdsRCgUl9"
      },
      "source": [
        "#########################\n",
        "    Código Aquí\n",
        "#########################"
      ],
      "execution_count": null,
      "outputs": []
    },
    {
      "cell_type": "markdown",
      "metadata": {
        "id": "P_HBa_GFgVVh"
      },
      "source": [
        "**Justificación**"
      ]
    },
    {
      "cell_type": "markdown",
      "metadata": {
        "id": "ulO-U75ygXPH"
      },
      "source": [
        "```\n",
        "Escriba aqui su respuesta\n",
        "```"
      ]
    },
    {
      "cell_type": "markdown",
      "metadata": {
        "id": "YD-7QdOu-OOd"
      },
      "source": [
        "### 2.2.2 Limpieza de datos [1 Punto]"
      ]
    },
    {
      "cell_type": "markdown",
      "metadata": {
        "id": "nBpkj9wViGzr"
      },
      "source": [
        "Omitiendo su respuesta anterior, el jefe de ```Kiguix``` les comenta que está interesado en generar un Dataset \"ordenado\" para las estaciones meteorológicas que llevan por **Nombre**:\n",
        "\n",
        "- 'Pichoy Valdivia Ad.'\n",
        "- 'Pudahuel Santiago'\n",
        "- 'Santo Domingo Ad.'\n",
        "- 'Juan Fernandez Estacion Meteorologica'\n",
        "- 'Futaleufu Ad.'\n",
        "- 'Santa Juana'\n",
        "- 'Lautaro Embalse'\n",
        "\n",
        "Con esto les solicita que creen un DataFrame con columnas que contengan (1) el año en que fue tomada la muestra, (2) el mes en que se tomó la muestra, (3) la fecha del año y mes en que se tomó la muestra, (4) altura a nivel del mar que se encuentra la estación, (5) latitud y (6) longitud de la estación, (7) el nombre de la estación meteorológica y (8) la temperatura promedio del mes. Su jefe es crítico en señalar que necesita las columnas en este orden y que deja en usted el cargo de tomar las asunciones de que valores omitir en el DataFrame. En caso de ser necesario justifique asunciones.\n",
        "\n"
      ]
    },
    {
      "cell_type": "markdown",
      "metadata": {
        "id": "soNbuUiFhMx3"
      },
      "source": [
        "**Ejemplo de tabla solicitada:**\n",
        "\n",
        "|      |   Year | Month     | Dates               |   altura |   latitud |   longitud | station                               |      Temp |\n",
        "|-----:|-------:|:----------|:--------------------|---------:|----------:|-----------:|:--------------------------------------|----------:|\n",
        "|    0 |   1961 | August    | 1961-08-01 00:00:00 |      347 |  -43.1889 |   -71.8525 | Futaleufu Ad.                         |  6.2      |\n",
        "|    1 |   1961 | December  | 1961-12-01 00:00:00 |      347 |  -43.1889 |   -71.8525 | Futaleufu Ad.                         | 13        |\n",
        "|    2 |   1963 | April     | 1963-04-01 00:00:00 |       35 |  -33.6367 |   -78.835  | Juan Fernandez Estacion Meteorologica | 17.9      |\n",
        "|    3 |   1965 | January   | 1965-01-01 00:00:00 |      560 |  -28.6672 |   -70.6625 | Santa Juana                           | 18.0818   |\n",
        "|    4 |   1965 | February  | 1965-02-01 00:00:00 |      347 |  -43.1889 |   -71.8525 | Futaleufu Ad.                         | 14.8      |\n",
        "|    5 |   1965 | February  | 1965-02-01 00:00:00 |      560 |  -28.6672 |   -70.6625 | Santa Juana                           | 21.8214   |\n",
        "|    6 |   1965 | March     | 1965-03-01 00:00:00 |      560 |  -28.6672 |   -70.6625 | Santa Juana                           | 20.7759   |\n",
        "|    7 |   1965 | April     | 1965-04-01 00:00:00 |      560 |  -28.6672 |   -70.6625 | Santa Juana                           | 18.244    |\n",
        "|    8 |   1965 | May       | 1965-05-01 00:00:00 |      560 |  -28.6672 |   -70.6625 | Santa Juana                           | 15.7233   |\n",
        "|    9 |   1965 | June      | 1965-06-01 00:00:00 |      560 |  -28.6672 |   -70.6625 | Santa Juana                           | 16.1467   |\n",
        "|   10 |   1965 | July      | 1965-07-01 00:00:00 |      560 |  -28.6672 |   -70.6625 | Santa Juana                           | 14.4516   |"
      ]
    },
    {
      "cell_type": "code",
      "metadata": {
        "id": "wTy9fzhmQnff"
      },
      "source": [
        "#########################\n",
        "    Código Aquí\n",
        "#########################"
      ],
      "execution_count": null,
      "outputs": []
    },
    {
      "cell_type": "markdown",
      "metadata": {
        "id": "5j2IHQ2ansyC"
      },
      "source": [
        "**Justifique:**"
      ]
    },
    {
      "cell_type": "markdown",
      "metadata": {
        "id": "mEylav_Bn0YQ"
      },
      "source": [
        "```\n",
        " Escriba aqui su respuesta\n",
        "```"
      ]
    },
    {
      "cell_type": "markdown",
      "metadata": {
        "id": "Z3tTEX6ynWfS"
      },
      "source": [
        "### 2.2.3 Nueva exploración de datos [1 Punto]"
      ]
    },
    {
      "cell_type": "markdown",
      "metadata": {
        "id": "FcNa0J7ZnmrJ"
      },
      "source": [
        "Visto que el nuevo DataFrame entrega una estructura mas ordenada de los datos se decide hacer una nueva exploración de los datos, para esto se les pide que:\n",
        "\n",
        "- Aplicar las 3 técnicas de EDA que usted estime conveniente.\n",
        "- Realicen un Box-plot temporal de los Datos utilizando plotly.\n",
        "- Graficar tendencia de la temperatura para cada uno de los meses del año.\n",
        "\n",
        "Comente que puede observar de los datos. ¿Es posible observar alguna tendencia o patron?. Justifique."
      ]
    },
    {
      "cell_type": "code",
      "metadata": {
        "colab": {
          "base_uri": "https://localhost:8080/",
          "height": 542
        },
        "id": "7CV0WkvzYysq",
        "outputId": "6815ffd8-98d8-42ca-a9d2-068da6bbc52a"
      },
      "source": [
        "#########################\n",
        "    Código Aquí\n",
        "#########################"
      ],
      "execution_count": null,
      "outputs": [
        {
          "output_type": "display_data",
          "data": {
            "text/html": [
              "<html>\n",
              "<head><meta charset=\"utf-8\" /></head>\n",
              "<body>\n",
              "    <div>            <script src=\"https://cdnjs.cloudflare.com/ajax/libs/mathjax/2.7.5/MathJax.js?config=TeX-AMS-MML_SVG\"></script><script type=\"text/javascript\">if (window.MathJax) {MathJax.Hub.Config({SVG: {font: \"STIX-Web\"}});}</script>                <script type=\"text/javascript\">window.PlotlyConfig = {MathJaxConfig: 'local'};</script>\n",
              "        <script src=\"https://cdn.plot.ly/plotly-latest.min.js\"></script>                <div id=\"6b385063-0543-48a6-88a9-6812b4db13d9\" class=\"plotly-graph-div\" style=\"height:525px; width:100%;\"></div>            <script type=\"text/javascript\">                                    window.PLOTLYENV=window.PLOTLYENV || {};                                    if (document.getElementById(\"6b385063-0543-48a6-88a9-6812b4db13d9\")) {                    Plotly.newPlot(                        \"6b385063-0543-48a6-88a9-6812b4db13d9\",                        [{\"alignmentgroup\": \"True\", \"hovertemplate\": \"Month=%{x}<br>Temp=%{y}<extra></extra>\", \"legendgroup\": \"\", \"marker\": {\"color\": \"#636efa\"}, \"name\": \"\", \"notched\": false, \"offsetgroup\": \"\", \"orientation\": \"v\", \"showlegend\": false, \"type\": \"box\", \"x\": [\"January\", \"February\", \"March\", \"April\", \"May\", \"June\", \"July\", \"August\", \"September\", \"October\", \"November\", \"December\", \"January\", \"February\", \"March\", \"April\", \"May\", \"June\", \"July\", \"August\", \"September\", \"October\", \"November\", \"December\", \"January\", \"February\", \"March\", \"April\", \"May\", \"June\", \"July\", \"August\", \"September\", \"October\", \"November\", \"February\", \"March\", \"April\", \"May\", \"June\", \"July\", \"August\", \"September\", \"October\", \"November\", \"December\", \"January\", \"February\", \"March\", \"April\", \"May\", \"June\", \"July\", \"August\", \"September\", \"October\", \"November\", \"December\", \"January\", \"February\", \"March\", \"April\", \"May\", \"June\", \"July\", \"August\", \"September\", \"October\", \"November\", \"December\", \"January\", \"February\", \"March\", \"April\", \"May\", \"June\", \"July\", \"August\", \"September\", \"October\", \"November\", \"December\", \"January\", \"February\", \"March\", \"April\", \"May\", \"June\", \"July\", \"August\", \"September\", \"October\", \"November\", \"December\", \"January\", \"February\", \"March\", \"April\", \"May\", \"June\", \"July\", \"August\", \"September\", \"October\", \"November\", \"December\", \"January\", \"February\", \"March\", \"April\", \"May\", \"June\", \"July\", \"August\", \"September\", \"October\", \"November\", \"December\", \"January\", \"February\", \"March\", \"April\", \"May\", \"June\", \"July\", \"August\", \"September\", \"October\", \"November\", \"December\", \"January\", \"February\", \"March\", \"April\", \"May\", \"June\", \"July\", \"August\", \"September\", \"October\", \"November\", \"December\", \"January\", \"February\", \"March\", \"April\", \"May\", \"June\", \"July\", \"August\", \"September\", \"October\", \"November\", \"December\", \"January\", \"February\", \"March\", \"April\", \"May\", \"June\", \"July\", \"August\", \"September\", \"October\", \"November\", \"December\", \"January\", \"February\", \"March\", \"April\", \"May\", \"June\", \"July\", \"August\", \"September\", \"October\", \"November\", \"December\", \"January\", \"February\", \"March\", \"April\", \"May\", \"June\", \"July\", \"August\", \"September\", \"October\", \"November\", \"December\", \"January\", \"February\", \"March\", \"April\", \"May\", \"June\", \"July\", \"August\", \"September\", \"October\", \"November\", \"December\", \"January\", \"February\", \"March\", \"April\", \"May\", \"June\", \"July\", \"August\", \"September\", \"October\", \"November\", \"December\", \"January\", \"February\", \"March\", \"April\", \"May\", \"June\", \"July\", \"August\", \"September\", \"October\", \"November\", \"December\", \"January\", \"February\", \"March\", \"April\", \"May\", \"June\", \"July\", \"August\", \"September\", \"October\", \"November\", \"December\", \"January\", \"February\", \"March\", \"April\", \"May\", \"June\", \"July\", \"August\", \"September\", \"October\", \"November\", \"December\", \"January\", \"February\", \"March\", \"April\", \"May\", \"June\", \"July\", \"August\", \"September\", \"October\", \"November\", \"December\", \"January\", \"February\", \"March\", \"April\", \"May\", \"June\", \"July\", \"August\", \"September\", \"October\", \"November\", \"December\", \"January\", \"February\", \"March\", \"April\", \"May\", \"June\", \"July\", \"August\", \"September\", \"October\", \"November\", \"December\", \"January\", \"February\", \"March\", \"April\", \"May\", \"June\", \"July\", \"August\", \"September\", \"October\", \"November\", \"December\", \"January\", \"February\", \"March\", \"April\", \"May\", \"June\", \"July\", \"August\", \"September\", \"October\", \"November\", \"December\", \"January\", \"February\", \"March\", \"April\", \"May\", \"June\", \"July\", \"August\", \"September\", \"October\", \"November\", \"December\", \"January\", \"February\", \"March\", \"April\", \"May\", \"June\", \"July\", \"August\", \"September\", \"October\", \"November\", \"December\", \"January\", \"February\", \"March\", \"April\", \"May\", \"June\", \"July\", \"August\", \"September\", \"October\", \"November\", \"December\", \"January\", \"February\", \"March\", \"April\", \"May\", \"June\", \"July\", \"August\", \"September\", \"October\", \"November\", \"December\", \"January\", \"February\", \"March\", \"April\", \"May\", \"June\", \"July\", \"August\", \"September\", \"October\", \"November\", \"December\", \"January\", \"February\", \"March\", \"April\", \"May\", \"June\", \"July\", \"August\", \"September\", \"October\", \"November\", \"December\", \"January\", \"February\", \"March\", \"April\", \"May\", \"June\", \"July\", \"August\", \"September\", \"October\", \"November\", \"December\", \"January\", \"February\", \"March\", \"April\", \"May\", \"June\", \"July\", \"August\", \"September\", \"October\", \"November\", \"December\", \"January\", \"February\", \"March\", \"April\", \"May\", \"June\", \"July\", \"August\", \"September\", \"October\", \"November\", \"December\", \"January\", \"February\", \"March\", \"April\", \"May\", \"June\", \"July\", \"August\", \"September\", \"October\", \"November\", \"December\", \"January\", \"February\", \"March\", \"April\", \"May\", \"June\", \"July\", \"August\", \"September\", \"October\", \"November\", \"December\", \"January\", \"February\", \"March\", \"April\", \"May\", \"June\", \"July\", \"August\", \"September\", \"October\", \"November\", \"December\", \"January\", \"February\", \"March\", \"April\", \"May\", \"June\", \"July\", \"August\", \"September\", \"October\", \"November\", \"December\", \"January\", \"February\", \"March\", \"April\", \"May\", \"June\", \"July\", \"August\", \"September\", \"October\", \"November\", \"December\", \"January\", \"February\", \"March\", \"April\", \"May\", \"June\", \"July\", \"August\", \"September\", \"October\", \"November\", \"December\", \"January\", \"February\", \"March\", \"April\", \"May\", \"June\", \"July\", \"August\", \"September\", \"October\", \"November\", \"December\", \"January\", \"February\", \"March\", \"April\", \"May\", \"June\", \"July\", \"August\", \"September\", \"October\", \"November\", \"December\", \"January\", \"February\", \"March\", \"April\", \"May\", \"June\", \"July\", \"August\", \"September\", \"October\", \"November\", \"December\", \"January\", \"February\", \"March\", \"April\", \"May\", \"June\", \"July\", \"August\", \"September\", \"October\", \"November\", \"December\", \"January\", \"February\", \"March\", \"April\", \"May\", \"June\", \"July\", \"August\", \"September\", \"October\", \"November\", \"December\", \"January\", \"February\", \"March\", \"April\", \"May\", \"June\", \"July\", \"August\", \"September\", \"October\", \"November\", \"December\", \"January\", \"February\", \"March\", \"April\", \"May\", \"June\", \"July\", \"August\", \"September\", \"October\", \"November\", \"December\", \"January\", \"February\", \"March\", \"April\", \"May\", \"June\", \"July\", \"August\", \"September\", \"October\", \"November\", \"December\", \"January\", \"February\", \"March\", \"April\", \"May\", \"June\", \"July\", \"August\", \"September\", \"October\", \"November\", \"December\", \"January\", \"February\", \"March\", \"April\", \"May\", \"June\", \"July\", \"August\", \"September\", \"October\", \"November\", \"December\", \"January\", \"February\", \"March\"], \"x0\": \" \", \"xaxis\": \"x\", \"y\": [18.65, 18.341176470588238, 16.761290322580642, 13.940000000000003, 10.670967741935485, 5.03103448275862, 5.693333333333333, 7.678571428571429, 9.258620689655173, 13.374193548387096, 16.223333333333333, 19.63, 20.806896551724137, 19.662068965517243, 16.19354838709678, 12.321739130434784, 10.364516129032257, 8.096666666666666, 7.993333333333334, 9.883333333333331, 11.676666666666666, 13.399999999999999, 17.59, 18.66896551724138, 20.858064516129033, 18.514285714285712, 15.886666666666665, 13.527586206896551, 10.622580645161289, 8.176666666666666, 8.669999999999998, 9.747999999999998, 11.583333333333337, 12.741935483870966, 15.79655172413793, 19.457142857142856, 17.041935483870965, 13.957142857142859, 10.151612903225807, 5.916666666666667, 6.845161290322583, 8.264516129032256, 10.746666666666668, 13.222580645161292, 16.120689655172413, 17.989655172413794, 18.479310344827585, 17.95925925925926, 15.648387096774192, 11.840000000000002, 10.42903225806452, 6.583333333333334, 9.02258064516129, 8.266666666666667, 10.375862068965516, 13.975862068965519, 18.463333333333335, 18.726666666666667, 21.196774193548386, 19.782142857142855, 16.85483870967742, 12.792857142857143, 11.339999999999998, 10.0, 6.164516129032258, 9.310000000000002, 11.528571428571425, 12.517857142857144, 15.653571428571427, 20.62962962962963, 21.412903225806456, 18.714285714285715, 16.725806451612904, 13.38, 10.896774193548387, 7.706666666666667, 7.6096774193548375, 8.245161290322581, 10.003333333333332, 12.651612903225805, 16.620689655172416, 18.216129032258063, 20.20645161290323, 17.760714285714286, 16.42258064516129, 12.156666666666666, 10.016129032258064, 6.746666666666666, 5.703225806451614, 8.309677419354838, 9.8, 13.390322580645156, 15.483333333333333, 17.60967741935484, 19.44193548387097, 18.139285714285712, 15.454838709677423, 12.663333333333334, 9.509677419354837, 7.400000000000001, 6.396774193548388, 7.429032258064517, 9.130000000000003, 12.709677419354843, 15.180000000000001, 18.81935483870968, 19.81935483870968, 18.17241379310345, 14.80322580645161, 11.041379310344823, 8.27741935483871, 7.023333333333335, 6.500000000000001, 8.061290322580648, 10.07333333333333, 13.470967741935484, 17.353333333333335, 19.380645161290325, 20.57741935483871, 18.96428571428571, 16.880645161290328, 14.056666666666668, 11.283870967741937, 7.773333333333335, 6.73548387096774, 8.258064516129032, 11.126666666666669, 13.387096774193548, 16.996666666666666, 18.65666666666667, 19.496774193548383, 18.896428571428572, 15.729032258064517, 12.466666666666665, 10.429032258064519, 7.9, 9.935483870967744, 7.529032258064517, 10.666666666666668, 14.393548387096772, 17.049999999999997, 19.532258064516128, 19.84193548387097, 18.417857142857144, 16.261290322580646, 12.516666666666667, 10.841935483870968, 5.556666666666668, 8.061290322580646, 10.348387096774196, 10.003333333333334, 13.538709677419359, 16.063333333333336, 19.196774193548393, 21.293548387096777, 20.106896551724134, 18.619354838709675, 13.533333333333335, 10.8, 7.996666666666666, 6.812903225806452, 8.196774193548388, 9.936666666666667, 13.058064516129031, 15.51333333333333, 18.890322580645165, 19.390322580645165, 19.45357142857143, 16.725806451612907, 13.713333333333333, 11.651612903225804, 7.309999999999999, 6.880645161290323, 9.119354838709677, 10.360000000000001, 12.512903225806454, 15.93, 18.693548387096783, 19.470967741935482, 18.639285714285712, 16.835483870967746, 13.073333333333329, 9.6, 8.95, 8.861290322580645, 9.458064516129031, 11.599999999999998, 13.07096774193548, 15.53, 19.59, 20.206451612903226, 20.15, 16.83870967741936, 13.790000000000001, 9.141935483870967, 5.7566666666666695, 6.090322580645163, 7.980645161290323, 9.23, 14.264516129032259, 17.340000000000007, 19.22580645161291, 20.425806451612903, 18.29310344827586, 16.690322580645162, 12.773333333333332, 7.951612903225804, 6.706666666666668, 7.370967741935484, 7.6258064516129025, 11.330000000000002, 14.374193548387096, 15.473333333333333, 18.687096774193545, 19.56774193548387, 19.45714285714286, 16.670967741935485, 12.386666666666665, 10.019354838709678, 8.98, 7.225806451612904, 7.716129032258063, 11.469999999999997, 13.764516129032259, 16.930000000000003, 18.803225806451614, 19.83225806451613, 19.310714285714283, 16.79032258064516, 13.096666666666668, 11.432258064516128, 8.923333333333336, 8.274193548387096, 9.593548387096773, 10.796666666666665, 15.525806451612903, 15.939999999999998, 20.51290322580645, 20.599999999999998, 20.43214285714286, 18.522580645161295, 13.846666666666666, 9.616129032258062, 8.65, 8.087096774193549, 9.203225806451615, 10.996666666666668, 14.49677419354839, 18.166666666666668, 19.796666666666667, 19.61612903225806, 19.84137931034483, 17.364516129032253, 13.683333333333335, 8.803225806451614, 7.103333333333333, 6.880645161290323, 8.535483870967742, 9.979999999999999, 14.541935483870969, 17.713333333333335, 19.46129032258065, 20.938709677419357, 20.671428571428574, 16.609677419354846, 13.726666666666668, 9.280645161290325, 7.556666666666664, 7.041935483870968, 9.222580645161292, 10.27, 13.545161290322584, 17.56, 19.664516129032254, 20.548387096774196, 18.960714285714285, 16.361290322580643, 13.333333333333332, 9.14838709677419, 7.633333333333335, 6.1645161290322585, 9.641935483870968, 11.083333333333334, 13.306451612903224, 16.729999999999997, 19.203225806451613, 19.880645161290325, 19.660714285714285, 17.064516129032267, 14.233333333333333, 12.203225806451611, 8.973333333333333, 7.52258064516129, 7.264516129032257, 11.97, 13.20967741935484, 16.536666666666665, 18.241935483870968, 20.66774193548387, 18.924137931034487, 17.751612903225805, 13.140000000000002, 10.351612903225805, 7.363333333333334, 6.1096774193548375, 8.867741935483872, 10.92, 14.212903225806452, 16.486666666666665, 18.79666666666667, 20.80645161290322, 19.83928571428572, 18.216129032258067, 13.83, 8.912903225806454, 8.806666666666667, 5.658064516129032, 8.261290322580646, 10.03, 13.580645161290322, 16.386666666666667, 19.209677419354836, 20.00967741935484, 18.724999999999998, 17.03548387096774, 14.36666666666667, 10.370967741935484, 9.050000000000002, 7.3838709677419345, 7.751612903225806, 12.336666666666666, 13.94838709677419, 17.29666666666667, 20.03870967741936, 20.493548387096773, 18.839285714285715, 17.129032258064516, 14.503333333333329, 11.725806451612904, 9.613333333333335, 6.803225806451613, 7.77741935483871, 11.460000000000003, 14.161290322580639, 16.836666666666666, 19.441935483870967, 19.49032258064516, 19.365517241379308, 17.625806451612906, 12.246666666666666, 9.564516129032256, 7.3933333333333335, 8.519354838709676, 8.938709677419356, 11.129999999999999, 14.251612903225809, 18.18333333333333, 19.348387096774196, 21.232258064516127, 19.971428571428568, 17.83225806451613, 15.196666666666665, 11.461290322580643, 9.229999999999999, 8.716129032258063, 10.490322580645161, 12.046666666666669, 12.874193548387098, 16.60333333333333, 18.74516129032259, 21.11290322580645, 18.925, 17.493548387096773, 13.903333333333334, 11.438709677419356, 8.623333333333333, 7.096774193548386, 8.632258064516128, 11.08, 15.932258064516128, 16.733333333333334, 20.1, 19.583870967741937, 19.98928571428571, 16.687096774193545, 13.606666666666667, 10.935483870967744, 8.79, 7.083870967741937, 9.261290322580642, 10.73, 13.596774193548386, 16.723333333333333, 18.85483870967742, 20.125806451612906, 18.775862068965516, 16.862068965517246, 13.44333333333333, 9.880645161290321, 8.649999999999999, 7.548387096774195, 9.19032258064516, 10.636666666666668, 14.000000000000002, 17.156666666666663, 20.05483870967742, 20.125806451612902, 20.921428571428578, 17.816129032258065, 13.370000000000001, 10.029032258064515, 7.326666666666668, 9.161290322580646, 9.748387096774193, 10.136666666666663, 14.519354838709676, 16.29666666666667, 20.51612903225806, 20.46451612903226, 19.614285714285717, 18.190322580645162, 12.96666666666667, 11.038709677419357, 7.209999999999999, 7.967741935483872, 9.85806451612903, 11.499999999999998, 13.729032258064517, 16.236666666666668, 18.687096774193545, 21.112903225806452, 19.360714285714288, 17.583870967741937, 13.630000000000003, 9.574193548387095, 10.226666666666665, 7.0032258064516135, 9.006451612903227, 11.956666666666667, 15.77741935483871, 18.14333333333333, 18.735483870967744, 20.535483870967745, 19.155172413793103, 18.15806451612903, 14.226666666666661, 9.180645161290323, 8.370000000000001, 8.158064516129032, 9.025806451612905, 11.896666666666665, 14.122580645161294, 16.836666666666662, 19.883870967741935, 20.43870967741936, 20.010714285714283, 18.0741935483871, 14.156666666666668, 9.94516129032258, 10.666666666666668, 8.296774193548387, 10.483870967741934, 10.393333333333333, 13.361290322580645, 17.33333333333334, 18.68387096774193, 21.07741935483871, 19.950000000000006, 16.858064516129033, 14.003333333333332, 11.335483870967742, 9.763333333333332, 9.674193548387096, 10.180645161290322, 12.356666666666666, 14.425806451612903, 16.886666666666667, 19.36774193548387, 20.623333333333335, 18.7, 17.599999999999998, 13.056666666666667, 8.8, 6.053333333333333, 6.983870967741933, 6.496774193548389, 10.266666666666664, 14.258064516129036, 17.466666666666665, 19.083870967741934, 21.26, 20.36896551724138, 18.151612903225807, 14.51, 11.08709677419355, 7.616666666666665, 8.290322580645164, 9.103225806451611, 11.633333333333331, 14.477419354838712, 18.3, 20.006451612903227, 21.613333333333333, 20.40714285714285, 19.25483870967742, 15.739999999999998, 12.01290322580645, 8.676666666666666, 7.974193548387095, 10.04193548387097, 10.309999999999999, 15.054838709677421, 16.389999999999997, 19.90322580645161, 21.660000000000004, 19.70714285714286, 18.56129032258064, 13.500000000000002, 11.164516129032261, 8.19, 5.796774193548386, 8.551612903225807, 11.583333333333332, 14.148387096774192, 17.51379310344828, 18.03225806451613, 21.218518518518522, 20.142857142857146, 17.812903225806448, 14.179999999999998, 10.406451612903227, 7.400000000000001, 6.719354838709677, 8.33548387096774, 12.906666666666666, 14.851612903225806, 17.833333333333332, 20.625806451612902, 21.112903225806456, 21.741379310344822, 20.125806451612902, 14.906666666666663, 12.429032258064519, 10.00666666666667, 7.567741935483871, 8.858064516129032, 12.086666666666666, 13.603225806451613, 18.080000000000002, 19.493548387096773, 21.254838709677422, 21.385714285714293, 18.103225806451615, 14.363333333333332, 10.767741935483869, 8.796666666666663, 7.823333333333332, 8.93225806451613, 11.376666666666665, 14.8741935483871, 17.353333333333335, 20.490322580645167, 21.806451612903224, 19.8, 17.78064516129032, 13.726666666666663, 11.63548387096774, 7.513333333333333, 8.780645161290325, 10.112903225806454, 11.473333333333333, 16.24838709677419, 17.51666666666667, 19.24838709677419, 21.825806451612902, 20.74285714285714, 20.129032258064516, 16.096666666666664, 11.751612903225807, 8.913333333333332, 8.738709677419356, 11.180645161290322, 12.513333333333334, 13.683870967741937, 16.81333333333333, 20.264516129032263, 21.299999999999994, 21.42068965517241, 18.59677419354839, 14.096666666666668, 12.27096774193548, 8.043333333333333, 8.716129032258063, 10.435483870967742, 13.150000000000002, 15.329032258064517, 19.143333333333334, 20.012903225806454, 23.71612903225807, 21.6, 18.719354838709677, 15.046666666666669, 10.706451612903226, 7.866666666666666, 7.9967741935483865, 8.838709677419354, 11.599999999999998, 14.132258064516131, 18.363333333333333, 21.022580645161295, 21.287096774193547, 20.960714285714285, 19.655555555555555], \"y0\": \" \", \"yaxis\": \"y\"}],                        {\"boxmode\": \"group\", \"legend\": {\"tracegroupgap\": 0}, \"margin\": {\"t\": 60}, \"template\": {\"data\": {\"bar\": [{\"error_x\": {\"color\": \"#2a3f5f\"}, \"error_y\": {\"color\": \"#2a3f5f\"}, \"marker\": {\"line\": {\"color\": \"#E5ECF6\", \"width\": 0.5}}, \"type\": \"bar\"}], \"barpolar\": [{\"marker\": {\"line\": {\"color\": \"#E5ECF6\", \"width\": 0.5}}, \"type\": \"barpolar\"}], \"carpet\": [{\"aaxis\": {\"endlinecolor\": \"#2a3f5f\", \"gridcolor\": \"white\", \"linecolor\": \"white\", \"minorgridcolor\": \"white\", \"startlinecolor\": \"#2a3f5f\"}, \"baxis\": {\"endlinecolor\": \"#2a3f5f\", \"gridcolor\": \"white\", \"linecolor\": \"white\", \"minorgridcolor\": \"white\", \"startlinecolor\": \"#2a3f5f\"}, \"type\": \"carpet\"}], \"choropleth\": [{\"colorbar\": {\"outlinewidth\": 0, \"ticks\": \"\"}, \"type\": \"choropleth\"}], \"contour\": [{\"colorbar\": {\"outlinewidth\": 0, \"ticks\": \"\"}, \"colorscale\": [[0.0, \"#0d0887\"], [0.1111111111111111, \"#46039f\"], [0.2222222222222222, \"#7201a8\"], [0.3333333333333333, \"#9c179e\"], [0.4444444444444444, \"#bd3786\"], [0.5555555555555556, \"#d8576b\"], [0.6666666666666666, \"#ed7953\"], [0.7777777777777778, \"#fb9f3a\"], [0.8888888888888888, \"#fdca26\"], [1.0, \"#f0f921\"]], \"type\": \"contour\"}], \"contourcarpet\": [{\"colorbar\": {\"outlinewidth\": 0, \"ticks\": \"\"}, \"type\": \"contourcarpet\"}], \"heatmap\": [{\"colorbar\": {\"outlinewidth\": 0, \"ticks\": \"\"}, \"colorscale\": [[0.0, \"#0d0887\"], [0.1111111111111111, \"#46039f\"], [0.2222222222222222, \"#7201a8\"], [0.3333333333333333, \"#9c179e\"], [0.4444444444444444, \"#bd3786\"], [0.5555555555555556, \"#d8576b\"], [0.6666666666666666, \"#ed7953\"], [0.7777777777777778, \"#fb9f3a\"], [0.8888888888888888, \"#fdca26\"], [1.0, \"#f0f921\"]], \"type\": \"heatmap\"}], \"heatmapgl\": [{\"colorbar\": {\"outlinewidth\": 0, \"ticks\": \"\"}, \"colorscale\": [[0.0, \"#0d0887\"], [0.1111111111111111, \"#46039f\"], [0.2222222222222222, \"#7201a8\"], [0.3333333333333333, \"#9c179e\"], [0.4444444444444444, \"#bd3786\"], [0.5555555555555556, \"#d8576b\"], [0.6666666666666666, \"#ed7953\"], [0.7777777777777778, \"#fb9f3a\"], [0.8888888888888888, \"#fdca26\"], [1.0, \"#f0f921\"]], \"type\": \"heatmapgl\"}], \"histogram\": [{\"marker\": {\"colorbar\": {\"outlinewidth\": 0, \"ticks\": \"\"}}, \"type\": \"histogram\"}], \"histogram2d\": [{\"colorbar\": {\"outlinewidth\": 0, \"ticks\": \"\"}, \"colorscale\": [[0.0, \"#0d0887\"], [0.1111111111111111, \"#46039f\"], [0.2222222222222222, \"#7201a8\"], [0.3333333333333333, \"#9c179e\"], [0.4444444444444444, \"#bd3786\"], [0.5555555555555556, \"#d8576b\"], [0.6666666666666666, \"#ed7953\"], [0.7777777777777778, \"#fb9f3a\"], [0.8888888888888888, \"#fdca26\"], [1.0, \"#f0f921\"]], \"type\": \"histogram2d\"}], \"histogram2dcontour\": [{\"colorbar\": {\"outlinewidth\": 0, \"ticks\": \"\"}, \"colorscale\": [[0.0, \"#0d0887\"], [0.1111111111111111, \"#46039f\"], [0.2222222222222222, \"#7201a8\"], [0.3333333333333333, \"#9c179e\"], [0.4444444444444444, \"#bd3786\"], [0.5555555555555556, \"#d8576b\"], [0.6666666666666666, \"#ed7953\"], [0.7777777777777778, \"#fb9f3a\"], [0.8888888888888888, \"#fdca26\"], [1.0, \"#f0f921\"]], \"type\": \"histogram2dcontour\"}], \"mesh3d\": [{\"colorbar\": {\"outlinewidth\": 0, \"ticks\": \"\"}, \"type\": \"mesh3d\"}], \"parcoords\": [{\"line\": {\"colorbar\": {\"outlinewidth\": 0, \"ticks\": \"\"}}, \"type\": \"parcoords\"}], \"pie\": [{\"automargin\": true, \"type\": \"pie\"}], \"scatter\": [{\"marker\": {\"colorbar\": {\"outlinewidth\": 0, \"ticks\": \"\"}}, \"type\": \"scatter\"}], \"scatter3d\": [{\"line\": {\"colorbar\": {\"outlinewidth\": 0, \"ticks\": \"\"}}, \"marker\": {\"colorbar\": {\"outlinewidth\": 0, \"ticks\": \"\"}}, \"type\": \"scatter3d\"}], \"scattercarpet\": [{\"marker\": {\"colorbar\": {\"outlinewidth\": 0, \"ticks\": \"\"}}, \"type\": \"scattercarpet\"}], \"scattergeo\": [{\"marker\": {\"colorbar\": {\"outlinewidth\": 0, \"ticks\": \"\"}}, \"type\": \"scattergeo\"}], \"scattergl\": [{\"marker\": {\"colorbar\": {\"outlinewidth\": 0, \"ticks\": \"\"}}, \"type\": \"scattergl\"}], \"scattermapbox\": [{\"marker\": {\"colorbar\": {\"outlinewidth\": 0, \"ticks\": \"\"}}, \"type\": \"scattermapbox\"}], \"scatterpolar\": [{\"marker\": {\"colorbar\": {\"outlinewidth\": 0, \"ticks\": \"\"}}, \"type\": \"scatterpolar\"}], \"scatterpolargl\": [{\"marker\": {\"colorbar\": {\"outlinewidth\": 0, \"ticks\": \"\"}}, \"type\": \"scatterpolargl\"}], \"scatterternary\": [{\"marker\": {\"colorbar\": {\"outlinewidth\": 0, \"ticks\": \"\"}}, \"type\": \"scatterternary\"}], \"surface\": [{\"colorbar\": {\"outlinewidth\": 0, \"ticks\": \"\"}, \"colorscale\": [[0.0, \"#0d0887\"], [0.1111111111111111, \"#46039f\"], [0.2222222222222222, \"#7201a8\"], [0.3333333333333333, \"#9c179e\"], [0.4444444444444444, \"#bd3786\"], [0.5555555555555556, \"#d8576b\"], [0.6666666666666666, \"#ed7953\"], [0.7777777777777778, \"#fb9f3a\"], [0.8888888888888888, \"#fdca26\"], [1.0, \"#f0f921\"]], \"type\": \"surface\"}], \"table\": [{\"cells\": {\"fill\": {\"color\": \"#EBF0F8\"}, \"line\": {\"color\": \"white\"}}, \"header\": {\"fill\": {\"color\": \"#C8D4E3\"}, \"line\": {\"color\": \"white\"}}, \"type\": \"table\"}]}, \"layout\": {\"annotationdefaults\": {\"arrowcolor\": \"#2a3f5f\", \"arrowhead\": 0, \"arrowwidth\": 1}, \"autotypenumbers\": \"strict\", \"coloraxis\": {\"colorbar\": {\"outlinewidth\": 0, \"ticks\": \"\"}}, \"colorscale\": {\"diverging\": [[0, \"#8e0152\"], [0.1, \"#c51b7d\"], [0.2, \"#de77ae\"], [0.3, \"#f1b6da\"], [0.4, \"#fde0ef\"], [0.5, \"#f7f7f7\"], [0.6, \"#e6f5d0\"], [0.7, \"#b8e186\"], [0.8, \"#7fbc41\"], [0.9, \"#4d9221\"], [1, \"#276419\"]], \"sequential\": [[0.0, \"#0d0887\"], [0.1111111111111111, \"#46039f\"], [0.2222222222222222, \"#7201a8\"], [0.3333333333333333, \"#9c179e\"], [0.4444444444444444, \"#bd3786\"], [0.5555555555555556, \"#d8576b\"], [0.6666666666666666, \"#ed7953\"], [0.7777777777777778, \"#fb9f3a\"], [0.8888888888888888, \"#fdca26\"], [1.0, \"#f0f921\"]], \"sequentialminus\": [[0.0, \"#0d0887\"], [0.1111111111111111, \"#46039f\"], [0.2222222222222222, \"#7201a8\"], [0.3333333333333333, \"#9c179e\"], [0.4444444444444444, \"#bd3786\"], [0.5555555555555556, \"#d8576b\"], [0.6666666666666666, \"#ed7953\"], [0.7777777777777778, \"#fb9f3a\"], [0.8888888888888888, \"#fdca26\"], [1.0, \"#f0f921\"]]}, \"colorway\": [\"#636efa\", \"#EF553B\", \"#00cc96\", \"#ab63fa\", \"#FFA15A\", \"#19d3f3\", \"#FF6692\", \"#B6E880\", \"#FF97FF\", \"#FECB52\"], \"font\": {\"color\": \"#2a3f5f\"}, \"geo\": {\"bgcolor\": \"white\", \"lakecolor\": \"white\", \"landcolor\": \"#E5ECF6\", \"showlakes\": true, \"showland\": true, \"subunitcolor\": \"white\"}, \"hoverlabel\": {\"align\": \"left\"}, \"hovermode\": \"closest\", \"mapbox\": {\"style\": \"light\"}, \"paper_bgcolor\": \"white\", \"plot_bgcolor\": \"#E5ECF6\", \"polar\": {\"angularaxis\": {\"gridcolor\": \"white\", \"linecolor\": \"white\", \"ticks\": \"\"}, \"bgcolor\": \"#E5ECF6\", \"radialaxis\": {\"gridcolor\": \"white\", \"linecolor\": \"white\", \"ticks\": \"\"}}, \"scene\": {\"xaxis\": {\"backgroundcolor\": \"#E5ECF6\", \"gridcolor\": \"white\", \"gridwidth\": 2, \"linecolor\": \"white\", \"showbackground\": true, \"ticks\": \"\", \"zerolinecolor\": \"white\"}, \"yaxis\": {\"backgroundcolor\": \"#E5ECF6\", \"gridcolor\": \"white\", \"gridwidth\": 2, \"linecolor\": \"white\", \"showbackground\": true, \"ticks\": \"\", \"zerolinecolor\": \"white\"}, \"zaxis\": {\"backgroundcolor\": \"#E5ECF6\", \"gridcolor\": \"white\", \"gridwidth\": 2, \"linecolor\": \"white\", \"showbackground\": true, \"ticks\": \"\", \"zerolinecolor\": \"white\"}}, \"shapedefaults\": {\"line\": {\"color\": \"#2a3f5f\"}}, \"ternary\": {\"aaxis\": {\"gridcolor\": \"white\", \"linecolor\": \"white\", \"ticks\": \"\"}, \"baxis\": {\"gridcolor\": \"white\", \"linecolor\": \"white\", \"ticks\": \"\"}, \"bgcolor\": \"#E5ECF6\", \"caxis\": {\"gridcolor\": \"white\", \"linecolor\": \"white\", \"ticks\": \"\"}}, \"title\": {\"x\": 0.05}, \"xaxis\": {\"automargin\": true, \"gridcolor\": \"white\", \"linecolor\": \"white\", \"ticks\": \"\", \"title\": {\"standoff\": 15}, \"zerolinecolor\": \"white\", \"zerolinewidth\": 2}, \"yaxis\": {\"automargin\": true, \"gridcolor\": \"white\", \"linecolor\": \"white\", \"ticks\": \"\", \"title\": {\"standoff\": 15}, \"zerolinecolor\": \"white\", \"zerolinewidth\": 2}}}, \"title\": {\"text\": \"BoxPlot de Temperaturas medias.\"}, \"xaxis\": {\"anchor\": \"y\", \"domain\": [0.0, 1.0], \"title\": {\"text\": \"Month\"}}, \"yaxis\": {\"anchor\": \"x\", \"domain\": [0.0, 1.0], \"title\": {\"text\": \"Temp\"}}},                        {\"responsive\": true}                    ).then(function(){\n",
              "                            \n",
              "var gd = document.getElementById('6b385063-0543-48a6-88a9-6812b4db13d9');\n",
              "var x = new MutationObserver(function (mutations, observer) {{\n",
              "        var display = window.getComputedStyle(gd).display;\n",
              "        if (!display || display === 'none') {{\n",
              "            console.log([gd, 'removed!']);\n",
              "            Plotly.purge(gd);\n",
              "            observer.disconnect();\n",
              "        }}\n",
              "}});\n",
              "\n",
              "// Listen for the removal of the full notebook cells\n",
              "var notebookContainer = gd.closest('#notebook-container');\n",
              "if (notebookContainer) {{\n",
              "    x.observe(notebookContainer, {childList: true});\n",
              "}}\n",
              "\n",
              "// Listen for the clearing of the current output cell\n",
              "var outputEl = gd.closest('.output');\n",
              "if (outputEl) {{\n",
              "    x.observe(outputEl, {childList: true});\n",
              "}}\n",
              "\n",
              "                        })                };                            </script>        </div>\n",
              "</body>\n",
              "</html>"
            ]
          },
          "metadata": {
            "tags": []
          }
        }
      ]
    },
    {
      "cell_type": "code",
      "metadata": {
        "colab": {
          "base_uri": "https://localhost:8080/",
          "height": 542
        },
        "id": "kmG_H7Yk_LtK",
        "outputId": "b98e2551-d647-40ff-c0c1-b56195a83b7c"
      },
      "source": [
        "#########################\n",
        "    Código Aquí\n",
        "#########################"
      ],
      "execution_count": null,
      "outputs": [
        {
          "output_type": "display_data",
          "data": {
            "text/html": [
              "<html>\n",
              "<head><meta charset=\"utf-8\" /></head>\n",
              "<body>\n",
              "    <div>            <script src=\"https://cdnjs.cloudflare.com/ajax/libs/mathjax/2.7.5/MathJax.js?config=TeX-AMS-MML_SVG\"></script><script type=\"text/javascript\">if (window.MathJax) {MathJax.Hub.Config({SVG: {font: \"STIX-Web\"}});}</script>                <script type=\"text/javascript\">window.PlotlyConfig = {MathJaxConfig: 'local'};</script>\n",
              "        <script src=\"https://cdn.plot.ly/plotly-latest.min.js\"></script>                <div id=\"965e627c-e109-4ea4-9c2a-526225067f29\" class=\"plotly-graph-div\" style=\"height:525px; width:100%;\"></div>            <script type=\"text/javascript\">                                    window.PLOTLYENV=window.PLOTLYENV || {};                                    if (document.getElementById(\"965e627c-e109-4ea4-9c2a-526225067f29\")) {                    Plotly.newPlot(                        \"965e627c-e109-4ea4-9c2a-526225067f29\",                        [{\"hovertemplate\": \"Month=January<br>Year=%{x}<br>Temp=%{y}<extra></extra>\", \"legendgroup\": \"\", \"line\": {\"color\": \"#636efa\", \"dash\": \"solid\"}, \"mode\": \"lines\", \"name\": \"\", \"orientation\": \"v\", \"showlegend\": false, \"type\": \"scatter\", \"x\": [1967, 1968, 1969, 1971, 1972, 1973, 1974, 1975, 1976, 1977, 1978, 1979, 1980, 1981, 1982, 1983, 1984, 1985, 1986, 1987, 1988, 1989, 1990, 1991, 1992, 1993, 1994, 1995, 1996, 1997, 1998, 1999, 2000, 2001, 2002, 2003, 2004, 2005, 2006, 2007, 2008, 2009, 2010, 2011, 2012, 2013, 2014, 2015, 2016, 2017, 2018], \"xaxis\": \"x9\", \"y\": [18.65, 20.806896551724137, 20.858064516129033, 18.479310344827585, 21.196774193548386, 21.412903225806456, 20.20645161290323, 19.44193548387097, 19.81935483870968, 20.57741935483871, 19.496774193548383, 19.84193548387097, 21.293548387096777, 19.390322580645165, 19.470967741935482, 20.206451612903226, 20.425806451612903, 19.56774193548387, 19.83225806451613, 20.599999999999998, 19.61612903225806, 20.938709677419357, 20.548387096774196, 19.880645161290325, 20.66774193548387, 20.80645161290322, 20.00967741935484, 20.493548387096773, 19.49032258064516, 21.232258064516127, 21.11290322580645, 19.583870967741937, 20.125806451612906, 20.125806451612902, 20.46451612903226, 21.112903225806452, 20.535483870967745, 20.43870967741936, 21.07741935483871, 20.623333333333335, 21.26, 21.613333333333333, 21.660000000000004, 21.218518518518522, 21.112903225806456, 21.254838709677422, 21.806451612903224, 21.825806451612902, 21.299999999999994, 23.71612903225807, 21.287096774193547], \"yaxis\": \"y9\"}, {\"hovertemplate\": \"Month=February<br>Year=%{x}<br>Temp=%{y}<extra></extra>\", \"legendgroup\": \"\", \"line\": {\"color\": \"#636efa\", \"dash\": \"solid\"}, \"mode\": \"lines\", \"name\": \"\", \"orientation\": \"v\", \"showlegend\": false, \"type\": \"scatter\", \"x\": [1967, 1968, 1969, 1970, 1971, 1972, 1973, 1974, 1975, 1976, 1977, 1978, 1979, 1980, 1981, 1982, 1983, 1984, 1985, 1986, 1987, 1988, 1989, 1990, 1991, 1992, 1993, 1994, 1995, 1996, 1997, 1998, 1999, 2000, 2001, 2002, 2003, 2004, 2005, 2006, 2007, 2008, 2009, 2010, 2011, 2012, 2013, 2014, 2015, 2016, 2017, 2018], \"xaxis\": \"x10\", \"y\": [18.341176470588238, 19.662068965517243, 18.514285714285712, 19.457142857142856, 17.95925925925926, 19.782142857142855, 18.714285714285715, 17.760714285714286, 18.139285714285712, 18.17241379310345, 18.96428571428571, 18.896428571428572, 18.417857142857144, 20.106896551724134, 19.45357142857143, 18.639285714285712, 20.15, 18.29310344827586, 19.45714285714286, 19.310714285714283, 20.43214285714286, 19.84137931034483, 20.671428571428574, 18.960714285714285, 19.660714285714285, 18.924137931034487, 19.83928571428572, 18.724999999999998, 18.839285714285715, 19.365517241379308, 19.971428571428568, 18.925, 19.98928571428571, 18.775862068965516, 20.921428571428578, 19.614285714285717, 19.360714285714288, 19.155172413793103, 20.010714285714283, 19.950000000000006, 18.7, 20.36896551724138, 20.40714285714285, 19.70714285714286, 20.142857142857146, 21.741379310344822, 21.385714285714293, 19.8, 20.74285714285714, 21.42068965517241, 21.6, 20.960714285714285], \"yaxis\": \"y10\"}, {\"hovertemplate\": \"Month=March<br>Year=%{x}<br>Temp=%{y}<extra></extra>\", \"legendgroup\": \"\", \"line\": {\"color\": \"#636efa\", \"dash\": \"solid\"}, \"mode\": \"lines\", \"name\": \"\", \"orientation\": \"v\", \"showlegend\": false, \"type\": \"scatter\", \"x\": [1967, 1968, 1969, 1970, 1971, 1972, 1973, 1974, 1975, 1976, 1977, 1978, 1979, 1980, 1981, 1982, 1983, 1984, 1985, 1986, 1987, 1988, 1989, 1990, 1991, 1992, 1993, 1994, 1995, 1996, 1997, 1998, 1999, 2000, 2001, 2002, 2003, 2004, 2005, 2006, 2007, 2008, 2009, 2010, 2011, 2012, 2013, 2014, 2015, 2016, 2017, 2018], \"xaxis\": \"x11\", \"y\": [16.761290322580642, 16.19354838709678, 15.886666666666665, 17.041935483870965, 15.648387096774192, 16.85483870967742, 16.725806451612904, 16.42258064516129, 15.454838709677423, 14.80322580645161, 16.880645161290328, 15.729032258064517, 16.261290322580646, 18.619354838709675, 16.725806451612907, 16.835483870967746, 16.83870967741936, 16.690322580645162, 16.670967741935485, 16.79032258064516, 18.522580645161295, 17.364516129032253, 16.609677419354846, 16.361290322580643, 17.064516129032267, 17.751612903225805, 18.216129032258067, 17.03548387096774, 17.129032258064516, 17.625806451612906, 17.83225806451613, 17.493548387096773, 16.687096774193545, 16.862068965517246, 17.816129032258065, 18.190322580645162, 17.583870967741937, 18.15806451612903, 18.0741935483871, 16.858064516129033, 17.599999999999998, 18.151612903225807, 19.25483870967742, 18.56129032258064, 17.812903225806448, 20.125806451612902, 18.103225806451615, 17.78064516129032, 20.129032258064516, 18.59677419354839, 18.719354838709677, 19.655555555555555], \"yaxis\": \"y11\"}, {\"hovertemplate\": \"Month=April<br>Year=%{x}<br>Temp=%{y}<extra></extra>\", \"legendgroup\": \"\", \"line\": {\"color\": \"#636efa\", \"dash\": \"solid\"}, \"mode\": \"lines\", \"name\": \"\", \"orientation\": \"v\", \"showlegend\": false, \"type\": \"scatter\", \"x\": [1967, 1968, 1969, 1970, 1971, 1972, 1973, 1974, 1975, 1976, 1977, 1978, 1979, 1980, 1981, 1982, 1983, 1984, 1985, 1986, 1987, 1988, 1989, 1990, 1991, 1992, 1993, 1994, 1995, 1996, 1997, 1998, 1999, 2000, 2001, 2002, 2003, 2004, 2005, 2006, 2007, 2008, 2009, 2010, 2011, 2012, 2013, 2014, 2015, 2016, 2017], \"xaxis\": \"x12\", \"y\": [13.940000000000003, 12.321739130434784, 13.527586206896551, 13.957142857142859, 11.840000000000002, 12.792857142857143, 13.38, 12.156666666666666, 12.663333333333334, 11.041379310344823, 14.056666666666668, 12.466666666666665, 12.516666666666667, 13.533333333333335, 13.713333333333333, 13.073333333333329, 13.790000000000001, 12.773333333333332, 12.386666666666665, 13.096666666666668, 13.846666666666666, 13.683333333333335, 13.726666666666668, 13.333333333333332, 14.233333333333333, 13.140000000000002, 13.83, 14.36666666666667, 14.503333333333329, 12.246666666666666, 15.196666666666665, 13.903333333333334, 13.606666666666667, 13.44333333333333, 13.370000000000001, 12.96666666666667, 13.630000000000003, 14.226666666666661, 14.156666666666668, 14.003333333333332, 13.056666666666667, 14.51, 15.739999999999998, 13.500000000000002, 14.179999999999998, 14.906666666666663, 14.363333333333332, 13.726666666666663, 16.096666666666664, 14.096666666666668, 15.046666666666669], \"yaxis\": \"y12\"}, {\"hovertemplate\": \"Month=May<br>Year=%{x}<br>Temp=%{y}<extra></extra>\", \"legendgroup\": \"\", \"line\": {\"color\": \"#636efa\", \"dash\": \"solid\"}, \"mode\": \"lines\", \"name\": \"\", \"orientation\": \"v\", \"showlegend\": false, \"type\": \"scatter\", \"x\": [1967, 1968, 1969, 1970, 1971, 1972, 1973, 1974, 1975, 1976, 1977, 1978, 1979, 1980, 1981, 1982, 1983, 1984, 1985, 1986, 1987, 1988, 1989, 1990, 1991, 1992, 1993, 1994, 1995, 1996, 1997, 1998, 1999, 2000, 2001, 2002, 2003, 2004, 2005, 2006, 2007, 2008, 2009, 2010, 2011, 2012, 2013, 2014, 2015, 2016, 2017], \"xaxis\": \"x5\", \"y\": [10.670967741935485, 10.364516129032257, 10.622580645161289, 10.151612903225807, 10.42903225806452, 11.339999999999998, 10.896774193548387, 10.016129032258064, 9.509677419354837, 8.27741935483871, 11.283870967741937, 10.429032258064519, 10.841935483870968, 10.8, 11.651612903225804, 9.6, 9.141935483870967, 7.951612903225804, 10.019354838709678, 11.432258064516128, 9.616129032258062, 8.803225806451614, 9.280645161290325, 9.14838709677419, 12.203225806451611, 10.351612903225805, 8.912903225806454, 10.370967741935484, 11.725806451612904, 9.564516129032256, 11.461290322580643, 11.438709677419356, 10.935483870967744, 9.880645161290321, 10.029032258064515, 11.038709677419357, 9.574193548387095, 9.180645161290323, 9.94516129032258, 11.335483870967742, 8.8, 11.08709677419355, 12.01290322580645, 11.164516129032261, 10.406451612903227, 12.429032258064519, 10.767741935483869, 11.63548387096774, 11.751612903225807, 12.27096774193548, 10.706451612903226], \"yaxis\": \"y5\"}, {\"hovertemplate\": \"Month=June<br>Year=%{x}<br>Temp=%{y}<extra></extra>\", \"legendgroup\": \"\", \"line\": {\"color\": \"#636efa\", \"dash\": \"solid\"}, \"mode\": \"lines\", \"name\": \"\", \"orientation\": \"v\", \"showlegend\": false, \"type\": \"scatter\", \"x\": [1967, 1968, 1969, 1970, 1971, 1972, 1973, 1974, 1975, 1976, 1977, 1978, 1979, 1980, 1981, 1982, 1983, 1984, 1985, 1986, 1987, 1988, 1989, 1990, 1991, 1992, 1993, 1994, 1995, 1996, 1997, 1998, 1999, 2000, 2001, 2002, 2003, 2004, 2005, 2006, 2007, 2008, 2009, 2010, 2011, 2012, 2013, 2014, 2015, 2016, 2017], \"xaxis\": \"x6\", \"y\": [5.03103448275862, 8.096666666666666, 8.176666666666666, 5.916666666666667, 6.583333333333334, 10.0, 7.706666666666667, 6.746666666666666, 7.400000000000001, 7.023333333333335, 7.773333333333335, 7.9, 5.556666666666668, 7.996666666666666, 7.309999999999999, 8.95, 5.7566666666666695, 6.706666666666668, 8.98, 8.923333333333336, 8.65, 7.103333333333333, 7.556666666666664, 7.633333333333335, 8.973333333333333, 7.363333333333334, 8.806666666666667, 9.050000000000002, 9.613333333333335, 7.3933333333333335, 9.229999999999999, 8.623333333333333, 8.79, 8.649999999999999, 7.326666666666668, 7.209999999999999, 10.226666666666665, 8.370000000000001, 10.666666666666668, 9.763333333333332, 6.053333333333333, 7.616666666666665, 8.676666666666666, 8.19, 7.400000000000001, 10.00666666666667, 8.796666666666663, 7.513333333333333, 8.913333333333332, 8.043333333333333, 7.866666666666666], \"yaxis\": \"y6\"}, {\"hovertemplate\": \"Month=July<br>Year=%{x}<br>Temp=%{y}<extra></extra>\", \"legendgroup\": \"\", \"line\": {\"color\": \"#636efa\", \"dash\": \"solid\"}, \"mode\": \"lines\", \"name\": \"\", \"orientation\": \"v\", \"showlegend\": false, \"type\": \"scatter\", \"x\": [1967, 1968, 1969, 1970, 1971, 1972, 1973, 1974, 1975, 1976, 1977, 1978, 1979, 1980, 1981, 1982, 1983, 1984, 1985, 1986, 1987, 1988, 1989, 1990, 1991, 1992, 1993, 1994, 1995, 1996, 1997, 1998, 1999, 2000, 2001, 2002, 2003, 2004, 2005, 2006, 2007, 2008, 2009, 2010, 2011, 2012, 2013, 2014, 2015, 2016, 2017], \"xaxis\": \"x7\", \"y\": [5.693333333333333, 7.993333333333334, 8.669999999999998, 6.845161290322583, 9.02258064516129, 6.164516129032258, 7.6096774193548375, 5.703225806451614, 6.396774193548388, 6.500000000000001, 6.73548387096774, 9.935483870967744, 8.061290322580646, 6.812903225806452, 6.880645161290323, 8.861290322580645, 6.090322580645163, 7.370967741935484, 7.225806451612904, 8.274193548387096, 8.087096774193549, 6.880645161290323, 7.041935483870968, 6.1645161290322585, 7.52258064516129, 6.1096774193548375, 5.658064516129032, 7.3838709677419345, 6.803225806451613, 8.519354838709676, 8.716129032258063, 7.096774193548386, 7.083870967741937, 7.548387096774195, 9.161290322580646, 7.967741935483872, 7.0032258064516135, 8.158064516129032, 8.296774193548387, 9.674193548387096, 6.983870967741933, 8.290322580645164, 7.974193548387095, 5.796774193548386, 6.719354838709677, 7.567741935483871, 7.823333333333332, 8.780645161290325, 8.738709677419356, 8.716129032258063, 7.9967741935483865], \"yaxis\": \"y7\"}, {\"hovertemplate\": \"Month=August<br>Year=%{x}<br>Temp=%{y}<extra></extra>\", \"legendgroup\": \"\", \"line\": {\"color\": \"#636efa\", \"dash\": \"solid\"}, \"mode\": \"lines\", \"name\": \"\", \"orientation\": \"v\", \"showlegend\": false, \"type\": \"scatter\", \"x\": [1967, 1968, 1969, 1970, 1971, 1972, 1973, 1974, 1975, 1976, 1977, 1978, 1979, 1980, 1981, 1982, 1983, 1984, 1985, 1986, 1987, 1988, 1989, 1990, 1991, 1992, 1993, 1994, 1995, 1996, 1997, 1998, 1999, 2000, 2001, 2002, 2003, 2004, 2005, 2006, 2007, 2008, 2009, 2010, 2011, 2012, 2013, 2014, 2015, 2016, 2017], \"xaxis\": \"x8\", \"y\": [7.678571428571429, 9.883333333333331, 9.747999999999998, 8.264516129032256, 8.266666666666667, 9.310000000000002, 8.245161290322581, 8.309677419354838, 7.429032258064517, 8.061290322580648, 8.258064516129032, 7.529032258064517, 10.348387096774196, 8.196774193548388, 9.119354838709677, 9.458064516129031, 7.980645161290323, 7.6258064516129025, 7.716129032258063, 9.593548387096773, 9.203225806451615, 8.535483870967742, 9.222580645161292, 9.641935483870968, 7.264516129032257, 8.867741935483872, 8.261290322580646, 7.751612903225806, 7.77741935483871, 8.938709677419356, 10.490322580645161, 8.632258064516128, 9.261290322580642, 9.19032258064516, 9.748387096774193, 9.85806451612903, 9.006451612903227, 9.025806451612905, 10.483870967741934, 10.180645161290322, 6.496774193548389, 9.103225806451611, 10.04193548387097, 8.551612903225807, 8.33548387096774, 8.858064516129032, 8.93225806451613, 10.112903225806454, 11.180645161290322, 10.435483870967742, 8.838709677419354], \"yaxis\": \"y8\"}, {\"hovertemplate\": \"Month=September<br>Year=%{x}<br>Temp=%{y}<extra></extra>\", \"legendgroup\": \"\", \"line\": {\"color\": \"#636efa\", \"dash\": \"solid\"}, \"mode\": \"lines\", \"name\": \"\", \"orientation\": \"v\", \"showlegend\": false, \"type\": \"scatter\", \"x\": [1967, 1968, 1969, 1970, 1971, 1972, 1973, 1974, 1975, 1976, 1977, 1978, 1979, 1980, 1981, 1982, 1983, 1984, 1985, 1986, 1987, 1988, 1989, 1990, 1991, 1992, 1993, 1994, 1995, 1996, 1997, 1998, 1999, 2000, 2001, 2002, 2003, 2004, 2005, 2006, 2007, 2008, 2009, 2010, 2011, 2012, 2013, 2014, 2015, 2016, 2017], \"xaxis\": \"x\", \"y\": [9.258620689655173, 11.676666666666666, 11.583333333333337, 10.746666666666668, 10.375862068965516, 11.528571428571425, 10.003333333333332, 9.8, 9.130000000000003, 10.07333333333333, 11.126666666666669, 10.666666666666668, 10.003333333333334, 9.936666666666667, 10.360000000000001, 11.599999999999998, 9.23, 11.330000000000002, 11.469999999999997, 10.796666666666665, 10.996666666666668, 9.979999999999999, 10.27, 11.083333333333334, 11.97, 10.92, 10.03, 12.336666666666666, 11.460000000000003, 11.129999999999999, 12.046666666666669, 11.08, 10.73, 10.636666666666668, 10.136666666666663, 11.499999999999998, 11.956666666666667, 11.896666666666665, 10.393333333333333, 12.356666666666666, 10.266666666666664, 11.633333333333331, 10.309999999999999, 11.583333333333332, 12.906666666666666, 12.086666666666666, 11.376666666666665, 11.473333333333333, 12.513333333333334, 13.150000000000002, 11.599999999999998], \"yaxis\": \"y\"}, {\"hovertemplate\": \"Month=October<br>Year=%{x}<br>Temp=%{y}<extra></extra>\", \"legendgroup\": \"\", \"line\": {\"color\": \"#636efa\", \"dash\": \"solid\"}, \"mode\": \"lines\", \"name\": \"\", \"orientation\": \"v\", \"showlegend\": false, \"type\": \"scatter\", \"x\": [1967, 1968, 1969, 1970, 1971, 1972, 1973, 1974, 1975, 1976, 1977, 1978, 1979, 1980, 1981, 1982, 1983, 1984, 1985, 1986, 1987, 1988, 1989, 1990, 1991, 1992, 1993, 1994, 1995, 1996, 1997, 1998, 1999, 2000, 2001, 2002, 2003, 2004, 2005, 2006, 2007, 2008, 2009, 2010, 2011, 2012, 2013, 2014, 2015, 2016, 2017], \"xaxis\": \"x2\", \"y\": [13.374193548387096, 13.399999999999999, 12.741935483870966, 13.222580645161292, 13.975862068965519, 12.517857142857144, 12.651612903225805, 13.390322580645156, 12.709677419354843, 13.470967741935484, 13.387096774193548, 14.393548387096772, 13.538709677419359, 13.058064516129031, 12.512903225806454, 13.07096774193548, 14.264516129032259, 14.374193548387096, 13.764516129032259, 15.525806451612903, 14.49677419354839, 14.541935483870969, 13.545161290322584, 13.306451612903224, 13.20967741935484, 14.212903225806452, 13.580645161290322, 13.94838709677419, 14.161290322580639, 14.251612903225809, 12.874193548387098, 15.932258064516128, 13.596774193548386, 14.000000000000002, 14.519354838709676, 13.729032258064517, 15.77741935483871, 14.122580645161294, 13.361290322580645, 14.425806451612903, 14.258064516129036, 14.477419354838712, 15.054838709677421, 14.148387096774192, 14.851612903225806, 13.603225806451613, 14.8741935483871, 16.24838709677419, 13.683870967741937, 15.329032258064517, 14.132258064516131], \"yaxis\": \"y2\"}, {\"hovertemplate\": \"Month=November<br>Year=%{x}<br>Temp=%{y}<extra></extra>\", \"legendgroup\": \"\", \"line\": {\"color\": \"#636efa\", \"dash\": \"solid\"}, \"mode\": \"lines\", \"name\": \"\", \"orientation\": \"v\", \"showlegend\": false, \"type\": \"scatter\", \"x\": [1967, 1968, 1969, 1970, 1971, 1972, 1973, 1974, 1975, 1976, 1977, 1978, 1979, 1980, 1981, 1982, 1983, 1984, 1985, 1986, 1987, 1988, 1989, 1990, 1991, 1992, 1993, 1994, 1995, 1996, 1997, 1998, 1999, 2000, 2001, 2002, 2003, 2004, 2005, 2006, 2007, 2008, 2009, 2010, 2011, 2012, 2013, 2014, 2015, 2016, 2017], \"xaxis\": \"x3\", \"y\": [16.223333333333333, 17.59, 15.79655172413793, 16.120689655172413, 18.463333333333335, 15.653571428571427, 16.620689655172416, 15.483333333333333, 15.180000000000001, 17.353333333333335, 16.996666666666666, 17.049999999999997, 16.063333333333336, 15.51333333333333, 15.93, 15.53, 17.340000000000007, 15.473333333333333, 16.930000000000003, 15.939999999999998, 18.166666666666668, 17.713333333333335, 17.56, 16.729999999999997, 16.536666666666665, 16.486666666666665, 16.386666666666667, 17.29666666666667, 16.836666666666666, 18.18333333333333, 16.60333333333333, 16.733333333333334, 16.723333333333333, 17.156666666666663, 16.29666666666667, 16.236666666666668, 18.14333333333333, 16.836666666666662, 17.33333333333334, 16.886666666666667, 17.466666666666665, 18.3, 16.389999999999997, 17.51379310344828, 17.833333333333332, 18.080000000000002, 17.353333333333335, 17.51666666666667, 16.81333333333333, 19.143333333333334, 18.363333333333333], \"yaxis\": \"y3\"}, {\"hovertemplate\": \"Month=December<br>Year=%{x}<br>Temp=%{y}<extra></extra>\", \"legendgroup\": \"\", \"line\": {\"color\": \"#636efa\", \"dash\": \"solid\"}, \"mode\": \"lines\", \"name\": \"\", \"orientation\": \"v\", \"showlegend\": false, \"type\": \"scatter\", \"x\": [1967, 1968, 1970, 1971, 1972, 1973, 1974, 1975, 1976, 1977, 1978, 1979, 1980, 1981, 1982, 1983, 1984, 1985, 1986, 1987, 1988, 1989, 1990, 1991, 1992, 1993, 1994, 1995, 1996, 1997, 1998, 1999, 2000, 2001, 2002, 2003, 2004, 2005, 2006, 2007, 2008, 2009, 2010, 2011, 2012, 2013, 2014, 2015, 2016, 2017], \"xaxis\": \"x4\", \"y\": [19.63, 18.66896551724138, 17.989655172413794, 18.726666666666667, 20.62962962962963, 18.216129032258063, 17.60967741935484, 18.81935483870968, 19.380645161290325, 18.65666666666667, 19.532258064516128, 19.196774193548393, 18.890322580645165, 18.693548387096783, 19.59, 19.22580645161291, 18.687096774193545, 18.803225806451614, 20.51290322580645, 19.796666666666667, 19.46129032258065, 19.664516129032254, 19.203225806451613, 18.241935483870968, 18.79666666666667, 19.209677419354836, 20.03870967741936, 19.441935483870967, 19.348387096774196, 18.74516129032259, 20.1, 18.85483870967742, 20.05483870967742, 20.51612903225806, 18.687096774193545, 18.735483870967744, 19.883870967741935, 18.68387096774193, 19.36774193548387, 19.083870967741934, 20.006451612903227, 19.90322580645161, 18.03225806451613, 20.625806451612902, 19.493548387096773, 20.490322580645167, 19.24838709677419, 20.264516129032263, 20.012903225806454, 21.022580645161295], \"yaxis\": \"y4\"}],                        {\"annotations\": [{\"font\": {}, \"showarrow\": false, \"text\": \"Month=September\", \"x\": 0.1175, \"xanchor\": \"center\", \"xref\": \"paper\", \"y\": 0.2866666666666666, \"yanchor\": \"bottom\", \"yref\": \"paper\"}, {\"font\": {}, \"showarrow\": false, \"text\": \"Month=October\", \"x\": 0.3725, \"xanchor\": \"center\", \"xref\": \"paper\", \"y\": 0.2866666666666666, \"yanchor\": \"bottom\", \"yref\": \"paper\"}, {\"font\": {}, \"showarrow\": false, \"text\": \"Month=November\", \"x\": 0.6275, \"xanchor\": \"center\", \"xref\": \"paper\", \"y\": 0.2866666666666666, \"yanchor\": \"bottom\", \"yref\": \"paper\"}, {\"font\": {}, \"showarrow\": false, \"text\": \"Month=December\", \"x\": 0.8824999999999998, \"xanchor\": \"center\", \"xref\": \"paper\", \"y\": 0.2866666666666666, \"yanchor\": \"bottom\", \"yref\": \"paper\"}, {\"font\": {}, \"showarrow\": false, \"text\": \"Month=May\", \"x\": 0.1175, \"xanchor\": \"center\", \"xref\": \"paper\", \"y\": 0.6433333333333333, \"yanchor\": \"bottom\", \"yref\": \"paper\"}, {\"font\": {}, \"showarrow\": false, \"text\": \"Month=June\", \"x\": 0.3725, \"xanchor\": \"center\", \"xref\": \"paper\", \"y\": 0.6433333333333333, \"yanchor\": \"bottom\", \"yref\": \"paper\"}, {\"font\": {}, \"showarrow\": false, \"text\": \"Month=July\", \"x\": 0.6275, \"xanchor\": \"center\", \"xref\": \"paper\", \"y\": 0.6433333333333333, \"yanchor\": \"bottom\", \"yref\": \"paper\"}, {\"font\": {}, \"showarrow\": false, \"text\": \"Month=August\", \"x\": 0.8824999999999998, \"xanchor\": \"center\", \"xref\": \"paper\", \"y\": 0.6433333333333333, \"yanchor\": \"bottom\", \"yref\": \"paper\"}, {\"font\": {}, \"showarrow\": false, \"text\": \"Month=January\", \"x\": 0.1175, \"xanchor\": \"center\", \"xref\": \"paper\", \"y\": 0.9999999999999999, \"yanchor\": \"bottom\", \"yref\": \"paper\"}, {\"font\": {}, \"showarrow\": false, \"text\": \"Month=February\", \"x\": 0.3725, \"xanchor\": \"center\", \"xref\": \"paper\", \"y\": 0.9999999999999999, \"yanchor\": \"bottom\", \"yref\": \"paper\"}, {\"font\": {}, \"showarrow\": false, \"text\": \"Month=March\", \"x\": 0.6275, \"xanchor\": \"center\", \"xref\": \"paper\", \"y\": 0.9999999999999999, \"yanchor\": \"bottom\", \"yref\": \"paper\"}, {\"font\": {}, \"showarrow\": false, \"text\": \"Month=April\", \"x\": 0.8824999999999998, \"xanchor\": \"center\", \"xref\": \"paper\", \"y\": 0.9999999999999999, \"yanchor\": \"bottom\", \"yref\": \"paper\"}], \"legend\": {\"tracegroupgap\": 0}, \"margin\": {\"t\": 60}, \"template\": {\"data\": {\"bar\": [{\"error_x\": {\"color\": \"#2a3f5f\"}, \"error_y\": {\"color\": \"#2a3f5f\"}, \"marker\": {\"line\": {\"color\": \"#E5ECF6\", \"width\": 0.5}}, \"type\": \"bar\"}], \"barpolar\": [{\"marker\": {\"line\": {\"color\": \"#E5ECF6\", \"width\": 0.5}}, \"type\": \"barpolar\"}], \"carpet\": [{\"aaxis\": {\"endlinecolor\": \"#2a3f5f\", \"gridcolor\": \"white\", \"linecolor\": \"white\", \"minorgridcolor\": \"white\", \"startlinecolor\": \"#2a3f5f\"}, \"baxis\": {\"endlinecolor\": \"#2a3f5f\", \"gridcolor\": \"white\", \"linecolor\": \"white\", \"minorgridcolor\": \"white\", \"startlinecolor\": \"#2a3f5f\"}, \"type\": \"carpet\"}], \"choropleth\": [{\"colorbar\": {\"outlinewidth\": 0, \"ticks\": \"\"}, \"type\": \"choropleth\"}], \"contour\": [{\"colorbar\": {\"outlinewidth\": 0, \"ticks\": \"\"}, \"colorscale\": [[0.0, \"#0d0887\"], [0.1111111111111111, \"#46039f\"], [0.2222222222222222, \"#7201a8\"], [0.3333333333333333, \"#9c179e\"], [0.4444444444444444, \"#bd3786\"], [0.5555555555555556, \"#d8576b\"], [0.6666666666666666, \"#ed7953\"], [0.7777777777777778, \"#fb9f3a\"], [0.8888888888888888, \"#fdca26\"], [1.0, \"#f0f921\"]], \"type\": \"contour\"}], \"contourcarpet\": [{\"colorbar\": {\"outlinewidth\": 0, \"ticks\": \"\"}, \"type\": \"contourcarpet\"}], \"heatmap\": [{\"colorbar\": {\"outlinewidth\": 0, \"ticks\": \"\"}, \"colorscale\": [[0.0, \"#0d0887\"], [0.1111111111111111, \"#46039f\"], [0.2222222222222222, \"#7201a8\"], [0.3333333333333333, \"#9c179e\"], [0.4444444444444444, \"#bd3786\"], [0.5555555555555556, \"#d8576b\"], [0.6666666666666666, \"#ed7953\"], [0.7777777777777778, \"#fb9f3a\"], [0.8888888888888888, \"#fdca26\"], [1.0, \"#f0f921\"]], \"type\": \"heatmap\"}], \"heatmapgl\": [{\"colorbar\": {\"outlinewidth\": 0, \"ticks\": \"\"}, \"colorscale\": [[0.0, \"#0d0887\"], [0.1111111111111111, \"#46039f\"], [0.2222222222222222, \"#7201a8\"], [0.3333333333333333, \"#9c179e\"], [0.4444444444444444, \"#bd3786\"], [0.5555555555555556, \"#d8576b\"], [0.6666666666666666, \"#ed7953\"], [0.7777777777777778, \"#fb9f3a\"], [0.8888888888888888, \"#fdca26\"], [1.0, \"#f0f921\"]], \"type\": \"heatmapgl\"}], \"histogram\": [{\"marker\": {\"colorbar\": {\"outlinewidth\": 0, \"ticks\": \"\"}}, \"type\": \"histogram\"}], \"histogram2d\": [{\"colorbar\": {\"outlinewidth\": 0, \"ticks\": \"\"}, \"colorscale\": [[0.0, \"#0d0887\"], [0.1111111111111111, \"#46039f\"], [0.2222222222222222, \"#7201a8\"], [0.3333333333333333, \"#9c179e\"], [0.4444444444444444, \"#bd3786\"], [0.5555555555555556, \"#d8576b\"], [0.6666666666666666, \"#ed7953\"], [0.7777777777777778, \"#fb9f3a\"], [0.8888888888888888, \"#fdca26\"], [1.0, \"#f0f921\"]], \"type\": \"histogram2d\"}], \"histogram2dcontour\": [{\"colorbar\": {\"outlinewidth\": 0, \"ticks\": \"\"}, \"colorscale\": [[0.0, \"#0d0887\"], [0.1111111111111111, \"#46039f\"], [0.2222222222222222, \"#7201a8\"], [0.3333333333333333, \"#9c179e\"], [0.4444444444444444, \"#bd3786\"], [0.5555555555555556, \"#d8576b\"], [0.6666666666666666, \"#ed7953\"], [0.7777777777777778, \"#fb9f3a\"], [0.8888888888888888, \"#fdca26\"], [1.0, \"#f0f921\"]], \"type\": \"histogram2dcontour\"}], \"mesh3d\": [{\"colorbar\": {\"outlinewidth\": 0, \"ticks\": \"\"}, \"type\": \"mesh3d\"}], \"parcoords\": [{\"line\": {\"colorbar\": {\"outlinewidth\": 0, \"ticks\": \"\"}}, \"type\": \"parcoords\"}], \"pie\": [{\"automargin\": true, \"type\": \"pie\"}], \"scatter\": [{\"marker\": {\"colorbar\": {\"outlinewidth\": 0, \"ticks\": \"\"}}, \"type\": \"scatter\"}], \"scatter3d\": [{\"line\": {\"colorbar\": {\"outlinewidth\": 0, \"ticks\": \"\"}}, \"marker\": {\"colorbar\": {\"outlinewidth\": 0, \"ticks\": \"\"}}, \"type\": \"scatter3d\"}], \"scattercarpet\": [{\"marker\": {\"colorbar\": {\"outlinewidth\": 0, \"ticks\": \"\"}}, \"type\": \"scattercarpet\"}], \"scattergeo\": [{\"marker\": {\"colorbar\": {\"outlinewidth\": 0, \"ticks\": \"\"}}, \"type\": \"scattergeo\"}], \"scattergl\": [{\"marker\": {\"colorbar\": {\"outlinewidth\": 0, \"ticks\": \"\"}}, \"type\": \"scattergl\"}], \"scattermapbox\": [{\"marker\": {\"colorbar\": {\"outlinewidth\": 0, \"ticks\": \"\"}}, \"type\": \"scattermapbox\"}], \"scatterpolar\": [{\"marker\": {\"colorbar\": {\"outlinewidth\": 0, \"ticks\": \"\"}}, \"type\": \"scatterpolar\"}], \"scatterpolargl\": [{\"marker\": {\"colorbar\": {\"outlinewidth\": 0, \"ticks\": \"\"}}, \"type\": \"scatterpolargl\"}], \"scatterternary\": [{\"marker\": {\"colorbar\": {\"outlinewidth\": 0, \"ticks\": \"\"}}, \"type\": \"scatterternary\"}], \"surface\": [{\"colorbar\": {\"outlinewidth\": 0, \"ticks\": \"\"}, \"colorscale\": [[0.0, \"#0d0887\"], [0.1111111111111111, \"#46039f\"], [0.2222222222222222, \"#7201a8\"], [0.3333333333333333, \"#9c179e\"], [0.4444444444444444, \"#bd3786\"], [0.5555555555555556, \"#d8576b\"], [0.6666666666666666, \"#ed7953\"], [0.7777777777777778, \"#fb9f3a\"], [0.8888888888888888, \"#fdca26\"], [1.0, \"#f0f921\"]], \"type\": \"surface\"}], \"table\": [{\"cells\": {\"fill\": {\"color\": \"#EBF0F8\"}, \"line\": {\"color\": \"white\"}}, \"header\": {\"fill\": {\"color\": \"#C8D4E3\"}, \"line\": {\"color\": \"white\"}}, \"type\": \"table\"}]}, \"layout\": {\"annotationdefaults\": {\"arrowcolor\": \"#2a3f5f\", \"arrowhead\": 0, \"arrowwidth\": 1}, \"autotypenumbers\": \"strict\", \"coloraxis\": {\"colorbar\": {\"outlinewidth\": 0, \"ticks\": \"\"}}, \"colorscale\": {\"diverging\": [[0, \"#8e0152\"], [0.1, \"#c51b7d\"], [0.2, \"#de77ae\"], [0.3, \"#f1b6da\"], [0.4, \"#fde0ef\"], [0.5, \"#f7f7f7\"], [0.6, \"#e6f5d0\"], [0.7, \"#b8e186\"], [0.8, \"#7fbc41\"], [0.9, \"#4d9221\"], [1, \"#276419\"]], \"sequential\": [[0.0, \"#0d0887\"], [0.1111111111111111, \"#46039f\"], [0.2222222222222222, \"#7201a8\"], [0.3333333333333333, \"#9c179e\"], [0.4444444444444444, \"#bd3786\"], [0.5555555555555556, \"#d8576b\"], [0.6666666666666666, \"#ed7953\"], [0.7777777777777778, \"#fb9f3a\"], [0.8888888888888888, \"#fdca26\"], [1.0, \"#f0f921\"]], \"sequentialminus\": [[0.0, \"#0d0887\"], [0.1111111111111111, \"#46039f\"], [0.2222222222222222, \"#7201a8\"], [0.3333333333333333, \"#9c179e\"], [0.4444444444444444, \"#bd3786\"], [0.5555555555555556, \"#d8576b\"], [0.6666666666666666, \"#ed7953\"], [0.7777777777777778, \"#fb9f3a\"], [0.8888888888888888, \"#fdca26\"], [1.0, \"#f0f921\"]]}, \"colorway\": [\"#636efa\", \"#EF553B\", \"#00cc96\", \"#ab63fa\", \"#FFA15A\", \"#19d3f3\", \"#FF6692\", \"#B6E880\", \"#FF97FF\", \"#FECB52\"], \"font\": {\"color\": \"#2a3f5f\"}, \"geo\": {\"bgcolor\": \"white\", \"lakecolor\": \"white\", \"landcolor\": \"#E5ECF6\", \"showlakes\": true, \"showland\": true, \"subunitcolor\": \"white\"}, \"hoverlabel\": {\"align\": \"left\"}, \"hovermode\": \"closest\", \"mapbox\": {\"style\": \"light\"}, \"paper_bgcolor\": \"white\", \"plot_bgcolor\": \"#E5ECF6\", \"polar\": {\"angularaxis\": {\"gridcolor\": \"white\", \"linecolor\": \"white\", \"ticks\": \"\"}, \"bgcolor\": \"#E5ECF6\", \"radialaxis\": {\"gridcolor\": \"white\", \"linecolor\": \"white\", \"ticks\": \"\"}}, \"scene\": {\"xaxis\": {\"backgroundcolor\": \"#E5ECF6\", \"gridcolor\": \"white\", \"gridwidth\": 2, \"linecolor\": \"white\", \"showbackground\": true, \"ticks\": \"\", \"zerolinecolor\": \"white\"}, \"yaxis\": {\"backgroundcolor\": \"#E5ECF6\", \"gridcolor\": \"white\", \"gridwidth\": 2, \"linecolor\": \"white\", \"showbackground\": true, \"ticks\": \"\", \"zerolinecolor\": \"white\"}, \"zaxis\": {\"backgroundcolor\": \"#E5ECF6\", \"gridcolor\": \"white\", \"gridwidth\": 2, \"linecolor\": \"white\", \"showbackground\": true, \"ticks\": \"\", \"zerolinecolor\": \"white\"}}, \"shapedefaults\": {\"line\": {\"color\": \"#2a3f5f\"}}, \"ternary\": {\"aaxis\": {\"gridcolor\": \"white\", \"linecolor\": \"white\", \"ticks\": \"\"}, \"baxis\": {\"gridcolor\": \"white\", \"linecolor\": \"white\", \"ticks\": \"\"}, \"bgcolor\": \"#E5ECF6\", \"caxis\": {\"gridcolor\": \"white\", \"linecolor\": \"white\", \"ticks\": \"\"}}, \"title\": {\"x\": 0.05}, \"xaxis\": {\"automargin\": true, \"gridcolor\": \"white\", \"linecolor\": \"white\", \"ticks\": \"\", \"title\": {\"standoff\": 15}, \"zerolinecolor\": \"white\", \"zerolinewidth\": 2}, \"yaxis\": {\"automargin\": true, \"gridcolor\": \"white\", \"linecolor\": \"white\", \"ticks\": \"\", \"title\": {\"standoff\": 15}, \"zerolinecolor\": \"white\", \"zerolinewidth\": 2}}}, \"title\": {\"text\": \"Monthly temprature throught history:\"}, \"xaxis\": {\"anchor\": \"y\", \"domain\": [0.0, 0.235], \"title\": {\"text\": \"Year\"}}, \"xaxis10\": {\"anchor\": \"y10\", \"domain\": [0.255, 0.49], \"matches\": \"x\", \"showticklabels\": false}, \"xaxis11\": {\"anchor\": \"y11\", \"domain\": [0.51, 0.745], \"matches\": \"x\", \"showticklabels\": false}, \"xaxis12\": {\"anchor\": \"y12\", \"domain\": [0.7649999999999999, 0.9999999999999999], \"matches\": \"x\", \"showticklabels\": false}, \"xaxis2\": {\"anchor\": \"y2\", \"domain\": [0.255, 0.49], \"matches\": \"x\", \"title\": {\"text\": \"Year\"}}, \"xaxis3\": {\"anchor\": \"y3\", \"domain\": [0.51, 0.745], \"matches\": \"x\", \"title\": {\"text\": \"Year\"}}, \"xaxis4\": {\"anchor\": \"y4\", \"domain\": [0.7649999999999999, 0.9999999999999999], \"matches\": \"x\", \"title\": {\"text\": \"Year\"}}, \"xaxis5\": {\"anchor\": \"y5\", \"domain\": [0.0, 0.235], \"matches\": \"x\", \"showticklabels\": false}, \"xaxis6\": {\"anchor\": \"y6\", \"domain\": [0.255, 0.49], \"matches\": \"x\", \"showticklabels\": false}, \"xaxis7\": {\"anchor\": \"y7\", \"domain\": [0.51, 0.745], \"matches\": \"x\", \"showticklabels\": false}, \"xaxis8\": {\"anchor\": \"y8\", \"domain\": [0.7649999999999999, 0.9999999999999999], \"matches\": \"x\", \"showticklabels\": false}, \"xaxis9\": {\"anchor\": \"y9\", \"domain\": [0.0, 0.235], \"matches\": \"x\", \"showticklabels\": false}, \"yaxis\": {\"anchor\": \"x\", \"domain\": [0.0, 0.2866666666666666], \"title\": {\"text\": \"Temp\"}}, \"yaxis10\": {\"anchor\": \"x10\", \"domain\": [0.7133333333333333, 0.9999999999999999], \"matches\": \"y\", \"showticklabels\": false}, \"yaxis11\": {\"anchor\": \"x11\", \"domain\": [0.7133333333333333, 0.9999999999999999], \"matches\": \"y\", \"showticklabels\": false}, \"yaxis12\": {\"anchor\": \"x12\", \"domain\": [0.7133333333333333, 0.9999999999999999], \"matches\": \"y\", \"showticklabels\": false}, \"yaxis2\": {\"anchor\": \"x2\", \"domain\": [0.0, 0.2866666666666666], \"matches\": \"y\", \"showticklabels\": false}, \"yaxis3\": {\"anchor\": \"x3\", \"domain\": [0.0, 0.2866666666666666], \"matches\": \"y\", \"showticklabels\": false}, \"yaxis4\": {\"anchor\": \"x4\", \"domain\": [0.0, 0.2866666666666666], \"matches\": \"y\", \"showticklabels\": false}, \"yaxis5\": {\"anchor\": \"x5\", \"domain\": [0.35666666666666663, 0.6433333333333333], \"matches\": \"y\", \"title\": {\"text\": \"Temp\"}}, \"yaxis6\": {\"anchor\": \"x6\", \"domain\": [0.35666666666666663, 0.6433333333333333], \"matches\": \"y\", \"showticklabels\": false}, \"yaxis7\": {\"anchor\": \"x7\", \"domain\": [0.35666666666666663, 0.6433333333333333], \"matches\": \"y\", \"showticklabels\": false}, \"yaxis8\": {\"anchor\": \"x8\", \"domain\": [0.35666666666666663, 0.6433333333333333], \"matches\": \"y\", \"showticklabels\": false}, \"yaxis9\": {\"anchor\": \"x9\", \"domain\": [0.7133333333333333, 0.9999999999999999], \"matches\": \"y\", \"title\": {\"text\": \"Temp\"}}},                        {\"responsive\": true}                    ).then(function(){\n",
              "                            \n",
              "var gd = document.getElementById('965e627c-e109-4ea4-9c2a-526225067f29');\n",
              "var x = new MutationObserver(function (mutations, observer) {{\n",
              "        var display = window.getComputedStyle(gd).display;\n",
              "        if (!display || display === 'none') {{\n",
              "            console.log([gd, 'removed!']);\n",
              "            Plotly.purge(gd);\n",
              "            observer.disconnect();\n",
              "        }}\n",
              "}});\n",
              "\n",
              "// Listen for the removal of the full notebook cells\n",
              "var notebookContainer = gd.closest('#notebook-container');\n",
              "if (notebookContainer) {{\n",
              "    x.observe(notebookContainer, {childList: true});\n",
              "}}\n",
              "\n",
              "// Listen for the clearing of the current output cell\n",
              "var outputEl = gd.closest('.output');\n",
              "if (outputEl) {{\n",
              "    x.observe(outputEl, {childList: true});\n",
              "}}\n",
              "\n",
              "                        })                };                            </script>        </div>\n",
              "</body>\n",
              "</html>"
            ]
          },
          "metadata": {
            "tags": []
          }
        }
      ]
    },
    {
      "cell_type": "markdown",
      "metadata": {
        "id": "K2E0pVxXpeeP"
      },
      "source": [
        "**Justifique:**"
      ]
    },
    {
      "cell_type": "markdown",
      "metadata": {
        "id": "pYz7VnY-pgzE"
      },
      "source": [
        "```\n",
        " Escriba aqui su respuesta\n",
        "```"
      ]
    },
    {
      "cell_type": "markdown",
      "metadata": {
        "id": "8Ura8MkBpEBs"
      },
      "source": [
        "### 2.2.3.1 Representación interesante [Bonus - 0,5 Puntos]\n",
        "\n",
        "\n",
        "Implemente la siguiente visualización y proponga otra que considere útil.\n",
        "Visite la referencia de [plotly](https://plotly.com/python) y [px.line](https://plotly.com/python/line-charts/) para mayor información."
      ]
    },
    {
      "cell_type": "code",
      "metadata": {
        "colab": {
          "base_uri": "https://localhost:8080/",
          "height": 542
        },
        "id": "_cH3NNWsMJ5K",
        "outputId": "266b26ff-4194-421c-b32d-d6ffbce0f2c9"
      },
      "source": [
        "#########################\n",
        "    Código Aquí\n",
        "#########################"
      ],
      "execution_count": null,
      "outputs": [
        {
          "output_type": "display_data",
          "data": {
            "text/html": [
              "<html>\n",
              "<head><meta charset=\"utf-8\" /></head>\n",
              "<body>\n",
              "    <div>            <script src=\"https://cdnjs.cloudflare.com/ajax/libs/mathjax/2.7.5/MathJax.js?config=TeX-AMS-MML_SVG\"></script><script type=\"text/javascript\">if (window.MathJax) {MathJax.Hub.Config({SVG: {font: \"STIX-Web\"}});}</script>                <script type=\"text/javascript\">window.PlotlyConfig = {MathJaxConfig: 'local'};</script>\n",
              "        <script src=\"https://cdn.plot.ly/plotly-latest.min.js\"></script>                <div id=\"65039a75-7471-4508-bd7a-dbd02fbbce22\" class=\"plotly-graph-div\" style=\"height:525px; width:100%;\"></div>            <script type=\"text/javascript\">                                    window.PLOTLYENV=window.PLOTLYENV || {};                                    if (document.getElementById(\"65039a75-7471-4508-bd7a-dbd02fbbce22\")) {                    Plotly.newPlot(                        \"65039a75-7471-4508-bd7a-dbd02fbbce22\",                        [{\"hovertemplate\": \"Year=1967<br>Month=%{x}<br>Temp=%{y}<extra></extra>\", \"legendgroup\": \"\", \"line\": {\"color\": \"#636efa\", \"dash\": \"solid\"}, \"mode\": \"lines\", \"name\": \"\", \"orientation\": \"v\", \"showlegend\": false, \"type\": \"scatter\", \"x\": [\"January\", \"February\", \"March\", \"April\", \"May\", \"June\", \"July\", \"August\", \"September\", \"October\", \"November\", \"December\"], \"xaxis\": \"x\", \"y\": [18.65, 18.341176470588238, 16.761290322580642, 13.940000000000003, 10.670967741935485, 5.03103448275862, 5.693333333333333, 7.678571428571429, 9.258620689655173, 13.374193548387096, 16.223333333333333, 19.63], \"yaxis\": \"y\"}],                        {\"legend\": {\"tracegroupgap\": 0}, \"margin\": {\"t\": 60}, \"sliders\": [{\"active\": 0, \"currentvalue\": {\"prefix\": \"Year=\"}, \"len\": 0.9, \"pad\": {\"b\": 10, \"t\": 60}, \"steps\": [{\"args\": [[\"1967\"], {\"frame\": {\"duration\": 0, \"redraw\": false}, \"fromcurrent\": true, \"mode\": \"immediate\", \"transition\": {\"duration\": 0, \"easing\": \"linear\"}}], \"label\": \"1967\", \"method\": \"animate\"}, {\"args\": [[\"1968\"], {\"frame\": {\"duration\": 0, \"redraw\": false}, \"fromcurrent\": true, \"mode\": \"immediate\", \"transition\": {\"duration\": 0, \"easing\": \"linear\"}}], \"label\": \"1968\", \"method\": \"animate\"}, {\"args\": [[\"1969\"], {\"frame\": {\"duration\": 0, \"redraw\": false}, \"fromcurrent\": true, \"mode\": \"immediate\", \"transition\": {\"duration\": 0, \"easing\": \"linear\"}}], \"label\": \"1969\", \"method\": \"animate\"}, {\"args\": [[\"1970\"], {\"frame\": {\"duration\": 0, \"redraw\": false}, \"fromcurrent\": true, \"mode\": \"immediate\", \"transition\": {\"duration\": 0, \"easing\": \"linear\"}}], \"label\": \"1970\", \"method\": \"animate\"}, {\"args\": [[\"1971\"], {\"frame\": {\"duration\": 0, \"redraw\": false}, \"fromcurrent\": true, \"mode\": \"immediate\", \"transition\": {\"duration\": 0, \"easing\": \"linear\"}}], \"label\": \"1971\", \"method\": \"animate\"}, {\"args\": [[\"1972\"], {\"frame\": {\"duration\": 0, \"redraw\": false}, \"fromcurrent\": true, \"mode\": \"immediate\", \"transition\": {\"duration\": 0, \"easing\": \"linear\"}}], \"label\": \"1972\", \"method\": \"animate\"}, {\"args\": [[\"1973\"], {\"frame\": {\"duration\": 0, \"redraw\": false}, \"fromcurrent\": true, \"mode\": \"immediate\", \"transition\": {\"duration\": 0, \"easing\": \"linear\"}}], \"label\": \"1973\", \"method\": \"animate\"}, {\"args\": [[\"1974\"], {\"frame\": {\"duration\": 0, \"redraw\": false}, \"fromcurrent\": true, \"mode\": \"immediate\", \"transition\": {\"duration\": 0, \"easing\": \"linear\"}}], \"label\": \"1974\", \"method\": \"animate\"}, {\"args\": [[\"1975\"], {\"frame\": {\"duration\": 0, \"redraw\": false}, \"fromcurrent\": true, \"mode\": \"immediate\", \"transition\": {\"duration\": 0, \"easing\": \"linear\"}}], \"label\": \"1975\", \"method\": \"animate\"}, {\"args\": [[\"1976\"], {\"frame\": {\"duration\": 0, \"redraw\": false}, \"fromcurrent\": true, \"mode\": \"immediate\", \"transition\": {\"duration\": 0, \"easing\": \"linear\"}}], \"label\": \"1976\", \"method\": \"animate\"}, {\"args\": [[\"1977\"], {\"frame\": {\"duration\": 0, \"redraw\": false}, \"fromcurrent\": true, \"mode\": \"immediate\", \"transition\": {\"duration\": 0, \"easing\": \"linear\"}}], \"label\": \"1977\", \"method\": \"animate\"}, {\"args\": [[\"1978\"], {\"frame\": {\"duration\": 0, \"redraw\": false}, \"fromcurrent\": true, \"mode\": \"immediate\", \"transition\": {\"duration\": 0, \"easing\": \"linear\"}}], \"label\": \"1978\", \"method\": \"animate\"}, {\"args\": [[\"1979\"], {\"frame\": {\"duration\": 0, \"redraw\": false}, \"fromcurrent\": true, \"mode\": \"immediate\", \"transition\": {\"duration\": 0, \"easing\": \"linear\"}}], \"label\": \"1979\", \"method\": \"animate\"}, {\"args\": [[\"1980\"], {\"frame\": {\"duration\": 0, \"redraw\": false}, \"fromcurrent\": true, \"mode\": \"immediate\", \"transition\": {\"duration\": 0, \"easing\": \"linear\"}}], \"label\": \"1980\", \"method\": \"animate\"}, {\"args\": [[\"1981\"], {\"frame\": {\"duration\": 0, \"redraw\": false}, \"fromcurrent\": true, \"mode\": \"immediate\", \"transition\": {\"duration\": 0, \"easing\": \"linear\"}}], \"label\": \"1981\", \"method\": \"animate\"}, {\"args\": [[\"1982\"], {\"frame\": {\"duration\": 0, \"redraw\": false}, \"fromcurrent\": true, \"mode\": \"immediate\", \"transition\": {\"duration\": 0, \"easing\": \"linear\"}}], \"label\": \"1982\", \"method\": \"animate\"}, {\"args\": [[\"1983\"], {\"frame\": {\"duration\": 0, \"redraw\": false}, \"fromcurrent\": true, \"mode\": \"immediate\", \"transition\": {\"duration\": 0, \"easing\": \"linear\"}}], \"label\": \"1983\", \"method\": \"animate\"}, {\"args\": [[\"1984\"], {\"frame\": {\"duration\": 0, \"redraw\": false}, \"fromcurrent\": true, \"mode\": \"immediate\", \"transition\": {\"duration\": 0, \"easing\": \"linear\"}}], \"label\": \"1984\", \"method\": \"animate\"}, {\"args\": [[\"1985\"], {\"frame\": {\"duration\": 0, \"redraw\": false}, \"fromcurrent\": true, \"mode\": \"immediate\", \"transition\": {\"duration\": 0, \"easing\": \"linear\"}}], \"label\": \"1985\", \"method\": \"animate\"}, {\"args\": [[\"1986\"], {\"frame\": {\"duration\": 0, \"redraw\": false}, \"fromcurrent\": true, \"mode\": \"immediate\", \"transition\": {\"duration\": 0, \"easing\": \"linear\"}}], \"label\": \"1986\", \"method\": \"animate\"}, {\"args\": [[\"1987\"], {\"frame\": {\"duration\": 0, \"redraw\": false}, \"fromcurrent\": true, \"mode\": \"immediate\", \"transition\": {\"duration\": 0, \"easing\": \"linear\"}}], \"label\": \"1987\", \"method\": \"animate\"}, {\"args\": [[\"1988\"], {\"frame\": {\"duration\": 0, \"redraw\": false}, \"fromcurrent\": true, \"mode\": \"immediate\", \"transition\": {\"duration\": 0, \"easing\": \"linear\"}}], \"label\": \"1988\", \"method\": \"animate\"}, {\"args\": [[\"1989\"], {\"frame\": {\"duration\": 0, \"redraw\": false}, \"fromcurrent\": true, \"mode\": \"immediate\", \"transition\": {\"duration\": 0, \"easing\": \"linear\"}}], \"label\": \"1989\", \"method\": \"animate\"}, {\"args\": [[\"1990\"], {\"frame\": {\"duration\": 0, \"redraw\": false}, \"fromcurrent\": true, \"mode\": \"immediate\", \"transition\": {\"duration\": 0, \"easing\": \"linear\"}}], \"label\": \"1990\", \"method\": \"animate\"}, {\"args\": [[\"1991\"], {\"frame\": {\"duration\": 0, \"redraw\": false}, \"fromcurrent\": true, \"mode\": \"immediate\", \"transition\": {\"duration\": 0, \"easing\": \"linear\"}}], \"label\": \"1991\", \"method\": \"animate\"}, {\"args\": [[\"1992\"], {\"frame\": {\"duration\": 0, \"redraw\": false}, \"fromcurrent\": true, \"mode\": \"immediate\", \"transition\": {\"duration\": 0, \"easing\": \"linear\"}}], \"label\": \"1992\", \"method\": \"animate\"}, {\"args\": [[\"1993\"], {\"frame\": {\"duration\": 0, \"redraw\": false}, \"fromcurrent\": true, \"mode\": \"immediate\", \"transition\": {\"duration\": 0, \"easing\": \"linear\"}}], \"label\": \"1993\", \"method\": \"animate\"}, {\"args\": [[\"1994\"], {\"frame\": {\"duration\": 0, \"redraw\": false}, \"fromcurrent\": true, \"mode\": \"immediate\", \"transition\": {\"duration\": 0, \"easing\": \"linear\"}}], \"label\": \"1994\", \"method\": \"animate\"}, {\"args\": [[\"1995\"], {\"frame\": {\"duration\": 0, \"redraw\": false}, \"fromcurrent\": true, \"mode\": \"immediate\", \"transition\": {\"duration\": 0, \"easing\": \"linear\"}}], \"label\": \"1995\", \"method\": \"animate\"}, {\"args\": [[\"1996\"], {\"frame\": {\"duration\": 0, \"redraw\": false}, \"fromcurrent\": true, \"mode\": \"immediate\", \"transition\": {\"duration\": 0, \"easing\": \"linear\"}}], \"label\": \"1996\", \"method\": \"animate\"}, {\"args\": [[\"1997\"], {\"frame\": {\"duration\": 0, \"redraw\": false}, \"fromcurrent\": true, \"mode\": \"immediate\", \"transition\": {\"duration\": 0, \"easing\": \"linear\"}}], \"label\": \"1997\", \"method\": \"animate\"}, {\"args\": [[\"1998\"], {\"frame\": {\"duration\": 0, \"redraw\": false}, \"fromcurrent\": true, \"mode\": \"immediate\", \"transition\": {\"duration\": 0, \"easing\": \"linear\"}}], \"label\": \"1998\", \"method\": \"animate\"}, {\"args\": [[\"1999\"], {\"frame\": {\"duration\": 0, \"redraw\": false}, \"fromcurrent\": true, \"mode\": \"immediate\", \"transition\": {\"duration\": 0, \"easing\": \"linear\"}}], \"label\": \"1999\", \"method\": \"animate\"}, {\"args\": [[\"2000\"], {\"frame\": {\"duration\": 0, \"redraw\": false}, \"fromcurrent\": true, \"mode\": \"immediate\", \"transition\": {\"duration\": 0, \"easing\": \"linear\"}}], \"label\": \"2000\", \"method\": \"animate\"}, {\"args\": [[\"2001\"], {\"frame\": {\"duration\": 0, \"redraw\": false}, \"fromcurrent\": true, \"mode\": \"immediate\", \"transition\": {\"duration\": 0, \"easing\": \"linear\"}}], \"label\": \"2001\", \"method\": \"animate\"}, {\"args\": [[\"2002\"], {\"frame\": {\"duration\": 0, \"redraw\": false}, \"fromcurrent\": true, \"mode\": \"immediate\", \"transition\": {\"duration\": 0, \"easing\": \"linear\"}}], \"label\": \"2002\", \"method\": \"animate\"}, {\"args\": [[\"2003\"], {\"frame\": {\"duration\": 0, \"redraw\": false}, \"fromcurrent\": true, \"mode\": \"immediate\", \"transition\": {\"duration\": 0, \"easing\": \"linear\"}}], \"label\": \"2003\", \"method\": \"animate\"}, {\"args\": [[\"2004\"], {\"frame\": {\"duration\": 0, \"redraw\": false}, \"fromcurrent\": true, \"mode\": \"immediate\", \"transition\": {\"duration\": 0, \"easing\": \"linear\"}}], \"label\": \"2004\", \"method\": \"animate\"}, {\"args\": [[\"2005\"], {\"frame\": {\"duration\": 0, \"redraw\": false}, \"fromcurrent\": true, \"mode\": \"immediate\", \"transition\": {\"duration\": 0, \"easing\": \"linear\"}}], \"label\": \"2005\", \"method\": \"animate\"}, {\"args\": [[\"2006\"], {\"frame\": {\"duration\": 0, \"redraw\": false}, \"fromcurrent\": true, \"mode\": \"immediate\", \"transition\": {\"duration\": 0, \"easing\": \"linear\"}}], \"label\": \"2006\", \"method\": \"animate\"}, {\"args\": [[\"2007\"], {\"frame\": {\"duration\": 0, \"redraw\": false}, \"fromcurrent\": true, \"mode\": \"immediate\", \"transition\": {\"duration\": 0, \"easing\": \"linear\"}}], \"label\": \"2007\", \"method\": \"animate\"}, {\"args\": [[\"2008\"], {\"frame\": {\"duration\": 0, \"redraw\": false}, \"fromcurrent\": true, \"mode\": \"immediate\", \"transition\": {\"duration\": 0, \"easing\": \"linear\"}}], \"label\": \"2008\", \"method\": \"animate\"}, {\"args\": [[\"2009\"], {\"frame\": {\"duration\": 0, \"redraw\": false}, \"fromcurrent\": true, \"mode\": \"immediate\", \"transition\": {\"duration\": 0, \"easing\": \"linear\"}}], \"label\": \"2009\", \"method\": \"animate\"}, {\"args\": [[\"2010\"], {\"frame\": {\"duration\": 0, \"redraw\": false}, \"fromcurrent\": true, \"mode\": \"immediate\", \"transition\": {\"duration\": 0, \"easing\": \"linear\"}}], \"label\": \"2010\", \"method\": \"animate\"}, {\"args\": [[\"2011\"], {\"frame\": {\"duration\": 0, \"redraw\": false}, \"fromcurrent\": true, \"mode\": \"immediate\", \"transition\": {\"duration\": 0, \"easing\": \"linear\"}}], \"label\": \"2011\", \"method\": \"animate\"}, {\"args\": [[\"2012\"], {\"frame\": {\"duration\": 0, \"redraw\": false}, \"fromcurrent\": true, \"mode\": \"immediate\", \"transition\": {\"duration\": 0, \"easing\": \"linear\"}}], \"label\": \"2012\", \"method\": \"animate\"}, {\"args\": [[\"2013\"], {\"frame\": {\"duration\": 0, \"redraw\": false}, \"fromcurrent\": true, \"mode\": \"immediate\", \"transition\": {\"duration\": 0, \"easing\": \"linear\"}}], \"label\": \"2013\", \"method\": \"animate\"}, {\"args\": [[\"2014\"], {\"frame\": {\"duration\": 0, \"redraw\": false}, \"fromcurrent\": true, \"mode\": \"immediate\", \"transition\": {\"duration\": 0, \"easing\": \"linear\"}}], \"label\": \"2014\", \"method\": \"animate\"}, {\"args\": [[\"2015\"], {\"frame\": {\"duration\": 0, \"redraw\": false}, \"fromcurrent\": true, \"mode\": \"immediate\", \"transition\": {\"duration\": 0, \"easing\": \"linear\"}}], \"label\": \"2015\", \"method\": \"animate\"}, {\"args\": [[\"2016\"], {\"frame\": {\"duration\": 0, \"redraw\": false}, \"fromcurrent\": true, \"mode\": \"immediate\", \"transition\": {\"duration\": 0, \"easing\": \"linear\"}}], \"label\": \"2016\", \"method\": \"animate\"}, {\"args\": [[\"2017\"], {\"frame\": {\"duration\": 0, \"redraw\": false}, \"fromcurrent\": true, \"mode\": \"immediate\", \"transition\": {\"duration\": 0, \"easing\": \"linear\"}}], \"label\": \"2017\", \"method\": \"animate\"}, {\"args\": [[\"2018\"], {\"frame\": {\"duration\": 0, \"redraw\": false}, \"fromcurrent\": true, \"mode\": \"immediate\", \"transition\": {\"duration\": 0, \"easing\": \"linear\"}}], \"label\": \"2018\", \"method\": \"animate\"}], \"x\": 0.1, \"xanchor\": \"left\", \"y\": 0, \"yanchor\": \"top\"}], \"template\": {\"data\": {\"bar\": [{\"error_x\": {\"color\": \"#2a3f5f\"}, \"error_y\": {\"color\": \"#2a3f5f\"}, \"marker\": {\"line\": {\"color\": \"#E5ECF6\", \"width\": 0.5}}, \"type\": \"bar\"}], \"barpolar\": [{\"marker\": {\"line\": {\"color\": \"#E5ECF6\", \"width\": 0.5}}, \"type\": \"barpolar\"}], \"carpet\": [{\"aaxis\": {\"endlinecolor\": \"#2a3f5f\", \"gridcolor\": \"white\", \"linecolor\": \"white\", \"minorgridcolor\": \"white\", \"startlinecolor\": \"#2a3f5f\"}, \"baxis\": {\"endlinecolor\": \"#2a3f5f\", \"gridcolor\": \"white\", \"linecolor\": \"white\", \"minorgridcolor\": \"white\", \"startlinecolor\": \"#2a3f5f\"}, \"type\": \"carpet\"}], \"choropleth\": [{\"colorbar\": {\"outlinewidth\": 0, \"ticks\": \"\"}, \"type\": \"choropleth\"}], \"contour\": [{\"colorbar\": {\"outlinewidth\": 0, \"ticks\": \"\"}, \"colorscale\": [[0.0, \"#0d0887\"], [0.1111111111111111, \"#46039f\"], [0.2222222222222222, \"#7201a8\"], [0.3333333333333333, \"#9c179e\"], [0.4444444444444444, \"#bd3786\"], [0.5555555555555556, \"#d8576b\"], [0.6666666666666666, \"#ed7953\"], [0.7777777777777778, \"#fb9f3a\"], [0.8888888888888888, \"#fdca26\"], [1.0, \"#f0f921\"]], \"type\": \"contour\"}], \"contourcarpet\": [{\"colorbar\": {\"outlinewidth\": 0, \"ticks\": \"\"}, \"type\": \"contourcarpet\"}], \"heatmap\": [{\"colorbar\": {\"outlinewidth\": 0, \"ticks\": \"\"}, \"colorscale\": [[0.0, \"#0d0887\"], [0.1111111111111111, \"#46039f\"], [0.2222222222222222, \"#7201a8\"], [0.3333333333333333, \"#9c179e\"], [0.4444444444444444, \"#bd3786\"], [0.5555555555555556, \"#d8576b\"], [0.6666666666666666, \"#ed7953\"], [0.7777777777777778, \"#fb9f3a\"], [0.8888888888888888, \"#fdca26\"], [1.0, \"#f0f921\"]], \"type\": \"heatmap\"}], \"heatmapgl\": [{\"colorbar\": {\"outlinewidth\": 0, \"ticks\": \"\"}, \"colorscale\": [[0.0, \"#0d0887\"], [0.1111111111111111, \"#46039f\"], [0.2222222222222222, \"#7201a8\"], [0.3333333333333333, \"#9c179e\"], [0.4444444444444444, \"#bd3786\"], [0.5555555555555556, \"#d8576b\"], [0.6666666666666666, \"#ed7953\"], [0.7777777777777778, \"#fb9f3a\"], [0.8888888888888888, \"#fdca26\"], [1.0, \"#f0f921\"]], \"type\": \"heatmapgl\"}], \"histogram\": [{\"marker\": {\"colorbar\": {\"outlinewidth\": 0, \"ticks\": \"\"}}, \"type\": \"histogram\"}], \"histogram2d\": [{\"colorbar\": {\"outlinewidth\": 0, \"ticks\": \"\"}, \"colorscale\": [[0.0, \"#0d0887\"], [0.1111111111111111, \"#46039f\"], [0.2222222222222222, \"#7201a8\"], [0.3333333333333333, \"#9c179e\"], [0.4444444444444444, \"#bd3786\"], [0.5555555555555556, \"#d8576b\"], [0.6666666666666666, \"#ed7953\"], [0.7777777777777778, \"#fb9f3a\"], [0.8888888888888888, \"#fdca26\"], [1.0, \"#f0f921\"]], \"type\": \"histogram2d\"}], \"histogram2dcontour\": [{\"colorbar\": {\"outlinewidth\": 0, \"ticks\": \"\"}, \"colorscale\": [[0.0, \"#0d0887\"], [0.1111111111111111, \"#46039f\"], [0.2222222222222222, \"#7201a8\"], [0.3333333333333333, \"#9c179e\"], [0.4444444444444444, \"#bd3786\"], [0.5555555555555556, \"#d8576b\"], [0.6666666666666666, \"#ed7953\"], [0.7777777777777778, \"#fb9f3a\"], [0.8888888888888888, \"#fdca26\"], [1.0, \"#f0f921\"]], \"type\": \"histogram2dcontour\"}], \"mesh3d\": [{\"colorbar\": {\"outlinewidth\": 0, \"ticks\": \"\"}, \"type\": \"mesh3d\"}], \"parcoords\": [{\"line\": {\"colorbar\": {\"outlinewidth\": 0, \"ticks\": \"\"}}, \"type\": \"parcoords\"}], \"pie\": [{\"automargin\": true, \"type\": \"pie\"}], \"scatter\": [{\"marker\": {\"colorbar\": {\"outlinewidth\": 0, \"ticks\": \"\"}}, \"type\": \"scatter\"}], \"scatter3d\": [{\"line\": {\"colorbar\": {\"outlinewidth\": 0, \"ticks\": \"\"}}, \"marker\": {\"colorbar\": {\"outlinewidth\": 0, \"ticks\": \"\"}}, \"type\": \"scatter3d\"}], \"scattercarpet\": [{\"marker\": {\"colorbar\": {\"outlinewidth\": 0, \"ticks\": \"\"}}, \"type\": \"scattercarpet\"}], \"scattergeo\": [{\"marker\": {\"colorbar\": {\"outlinewidth\": 0, \"ticks\": \"\"}}, \"type\": \"scattergeo\"}], \"scattergl\": [{\"marker\": {\"colorbar\": {\"outlinewidth\": 0, \"ticks\": \"\"}}, \"type\": \"scattergl\"}], \"scattermapbox\": [{\"marker\": {\"colorbar\": {\"outlinewidth\": 0, \"ticks\": \"\"}}, \"type\": \"scattermapbox\"}], \"scatterpolar\": [{\"marker\": {\"colorbar\": {\"outlinewidth\": 0, \"ticks\": \"\"}}, \"type\": \"scatterpolar\"}], \"scatterpolargl\": [{\"marker\": {\"colorbar\": {\"outlinewidth\": 0, \"ticks\": \"\"}}, \"type\": \"scatterpolargl\"}], \"scatterternary\": [{\"marker\": {\"colorbar\": {\"outlinewidth\": 0, \"ticks\": \"\"}}, \"type\": \"scatterternary\"}], \"surface\": [{\"colorbar\": {\"outlinewidth\": 0, \"ticks\": \"\"}, \"colorscale\": [[0.0, \"#0d0887\"], [0.1111111111111111, \"#46039f\"], [0.2222222222222222, \"#7201a8\"], [0.3333333333333333, \"#9c179e\"], [0.4444444444444444, \"#bd3786\"], [0.5555555555555556, \"#d8576b\"], [0.6666666666666666, \"#ed7953\"], [0.7777777777777778, \"#fb9f3a\"], [0.8888888888888888, \"#fdca26\"], [1.0, \"#f0f921\"]], \"type\": \"surface\"}], \"table\": [{\"cells\": {\"fill\": {\"color\": \"#EBF0F8\"}, \"line\": {\"color\": \"white\"}}, \"header\": {\"fill\": {\"color\": \"#C8D4E3\"}, \"line\": {\"color\": \"white\"}}, \"type\": \"table\"}]}, \"layout\": {\"annotationdefaults\": {\"arrowcolor\": \"#2a3f5f\", \"arrowhead\": 0, \"arrowwidth\": 1}, \"autotypenumbers\": \"strict\", \"coloraxis\": {\"colorbar\": {\"outlinewidth\": 0, \"ticks\": \"\"}}, \"colorscale\": {\"diverging\": [[0, \"#8e0152\"], [0.1, \"#c51b7d\"], [0.2, \"#de77ae\"], [0.3, \"#f1b6da\"], [0.4, \"#fde0ef\"], [0.5, \"#f7f7f7\"], [0.6, \"#e6f5d0\"], [0.7, \"#b8e186\"], [0.8, \"#7fbc41\"], [0.9, \"#4d9221\"], [1, \"#276419\"]], \"sequential\": [[0.0, \"#0d0887\"], [0.1111111111111111, \"#46039f\"], [0.2222222222222222, \"#7201a8\"], [0.3333333333333333, \"#9c179e\"], [0.4444444444444444, \"#bd3786\"], [0.5555555555555556, \"#d8576b\"], [0.6666666666666666, \"#ed7953\"], [0.7777777777777778, \"#fb9f3a\"], [0.8888888888888888, \"#fdca26\"], [1.0, \"#f0f921\"]], \"sequentialminus\": [[0.0, \"#0d0887\"], [0.1111111111111111, \"#46039f\"], [0.2222222222222222, \"#7201a8\"], [0.3333333333333333, \"#9c179e\"], [0.4444444444444444, \"#bd3786\"], [0.5555555555555556, \"#d8576b\"], [0.6666666666666666, \"#ed7953\"], [0.7777777777777778, \"#fb9f3a\"], [0.8888888888888888, \"#fdca26\"], [1.0, \"#f0f921\"]]}, \"colorway\": [\"#636efa\", \"#EF553B\", \"#00cc96\", \"#ab63fa\", \"#FFA15A\", \"#19d3f3\", \"#FF6692\", \"#B6E880\", \"#FF97FF\", \"#FECB52\"], \"font\": {\"color\": \"#2a3f5f\"}, \"geo\": {\"bgcolor\": \"white\", \"lakecolor\": \"white\", \"landcolor\": \"#E5ECF6\", \"showlakes\": true, \"showland\": true, \"subunitcolor\": \"white\"}, \"hoverlabel\": {\"align\": \"left\"}, \"hovermode\": \"closest\", \"mapbox\": {\"style\": \"light\"}, \"paper_bgcolor\": \"white\", \"plot_bgcolor\": \"#E5ECF6\", \"polar\": {\"angularaxis\": {\"gridcolor\": \"white\", \"linecolor\": \"white\", \"ticks\": \"\"}, \"bgcolor\": \"#E5ECF6\", \"radialaxis\": {\"gridcolor\": \"white\", \"linecolor\": \"white\", \"ticks\": \"\"}}, \"scene\": {\"xaxis\": {\"backgroundcolor\": \"#E5ECF6\", \"gridcolor\": \"white\", \"gridwidth\": 2, \"linecolor\": \"white\", \"showbackground\": true, \"ticks\": \"\", \"zerolinecolor\": \"white\"}, \"yaxis\": {\"backgroundcolor\": \"#E5ECF6\", \"gridcolor\": \"white\", \"gridwidth\": 2, \"linecolor\": \"white\", \"showbackground\": true, \"ticks\": \"\", \"zerolinecolor\": \"white\"}, \"zaxis\": {\"backgroundcolor\": \"#E5ECF6\", \"gridcolor\": \"white\", \"gridwidth\": 2, \"linecolor\": \"white\", \"showbackground\": true, \"ticks\": \"\", \"zerolinecolor\": \"white\"}}, \"shapedefaults\": {\"line\": {\"color\": \"#2a3f5f\"}}, \"ternary\": {\"aaxis\": {\"gridcolor\": \"white\", \"linecolor\": \"white\", \"ticks\": \"\"}, \"baxis\": {\"gridcolor\": \"white\", \"linecolor\": \"white\", \"ticks\": \"\"}, \"bgcolor\": \"#E5ECF6\", \"caxis\": {\"gridcolor\": \"white\", \"linecolor\": \"white\", \"ticks\": \"\"}}, \"title\": {\"x\": 0.05}, \"xaxis\": {\"automargin\": true, \"gridcolor\": \"white\", \"linecolor\": \"white\", \"ticks\": \"\", \"title\": {\"standoff\": 15}, \"zerolinecolor\": \"white\", \"zerolinewidth\": 2}, \"yaxis\": {\"automargin\": true, \"gridcolor\": \"white\", \"linecolor\": \"white\", \"ticks\": \"\", \"title\": {\"standoff\": 15}, \"zerolinecolor\": \"white\", \"zerolinewidth\": 2}}}, \"updatemenus\": [{\"buttons\": [{\"args\": [null, {\"frame\": {\"duration\": 500, \"redraw\": false}, \"fromcurrent\": true, \"mode\": \"immediate\", \"transition\": {\"duration\": 500, \"easing\": \"linear\"}}], \"label\": \"&#9654;\", \"method\": \"animate\"}, {\"args\": [[null], {\"frame\": {\"duration\": 0, \"redraw\": false}, \"fromcurrent\": true, \"mode\": \"immediate\", \"transition\": {\"duration\": 0, \"easing\": \"linear\"}}], \"label\": \"&#9724;\", \"method\": \"animate\"}], \"direction\": \"left\", \"pad\": {\"r\": 10, \"t\": 70}, \"showactive\": false, \"type\": \"buttons\", \"x\": 0.1, \"xanchor\": \"right\", \"y\": 0, \"yanchor\": \"top\"}], \"xaxis\": {\"anchor\": \"y\", \"domain\": [0.0, 1.0], \"title\": {\"text\": \"Month\"}}, \"yaxis\": {\"anchor\": \"x\", \"domain\": [0.0, 1.0], \"title\": {\"text\": \"Temp\"}}},                        {\"responsive\": true}                    ).then(function(){\n",
              "                            Plotly.addFrames('65039a75-7471-4508-bd7a-dbd02fbbce22', [{\"data\": [{\"hovertemplate\": \"Year=1967<br>Month=%{x}<br>Temp=%{y}<extra></extra>\", \"legendgroup\": \"\", \"line\": {\"color\": \"#636efa\", \"dash\": \"solid\"}, \"mode\": \"lines\", \"name\": \"\", \"orientation\": \"v\", \"showlegend\": false, \"x\": [\"January\", \"February\", \"March\", \"April\", \"May\", \"June\", \"July\", \"August\", \"September\", \"October\", \"November\", \"December\"], \"xaxis\": \"x\", \"y\": [18.65, 18.341176470588238, 16.761290322580642, 13.940000000000003, 10.670967741935485, 5.03103448275862, 5.693333333333333, 7.678571428571429, 9.258620689655173, 13.374193548387096, 16.223333333333333, 19.63], \"yaxis\": \"y\", \"type\": \"scatter\"}], \"name\": \"1967\"}, {\"data\": [{\"hovertemplate\": \"Year=1968<br>Month=%{x}<br>Temp=%{y}<extra></extra>\", \"legendgroup\": \"\", \"line\": {\"color\": \"#636efa\", \"dash\": \"solid\"}, \"mode\": \"lines\", \"name\": \"\", \"orientation\": \"v\", \"showlegend\": false, \"x\": [\"January\", \"February\", \"March\", \"April\", \"May\", \"June\", \"July\", \"August\", \"September\", \"October\", \"November\", \"December\"], \"xaxis\": \"x\", \"y\": [20.806896551724137, 19.662068965517243, 16.19354838709678, 12.321739130434784, 10.364516129032257, 8.096666666666666, 7.993333333333334, 9.883333333333331, 11.676666666666666, 13.399999999999999, 17.59, 18.66896551724138], \"yaxis\": \"y\", \"type\": \"scatter\"}], \"name\": \"1968\"}, {\"data\": [{\"hovertemplate\": \"Year=1969<br>Month=%{x}<br>Temp=%{y}<extra></extra>\", \"legendgroup\": \"\", \"line\": {\"color\": \"#636efa\", \"dash\": \"solid\"}, \"mode\": \"lines\", \"name\": \"\", \"orientation\": \"v\", \"showlegend\": false, \"x\": [\"January\", \"February\", \"March\", \"April\", \"May\", \"June\", \"July\", \"August\", \"September\", \"October\", \"November\"], \"xaxis\": \"x\", \"y\": [20.858064516129033, 18.514285714285712, 15.886666666666665, 13.527586206896551, 10.622580645161289, 8.176666666666666, 8.669999999999998, 9.747999999999998, 11.583333333333337, 12.741935483870966, 15.79655172413793], \"yaxis\": \"y\", \"type\": \"scatter\"}], \"name\": \"1969\"}, {\"data\": [{\"hovertemplate\": \"Year=1970<br>Month=%{x}<br>Temp=%{y}<extra></extra>\", \"legendgroup\": \"\", \"line\": {\"color\": \"#636efa\", \"dash\": \"solid\"}, \"mode\": \"lines\", \"name\": \"\", \"orientation\": \"v\", \"showlegend\": false, \"x\": [\"February\", \"March\", \"April\", \"May\", \"June\", \"July\", \"August\", \"September\", \"October\", \"November\", \"December\"], \"xaxis\": \"x\", \"y\": [19.457142857142856, 17.041935483870965, 13.957142857142859, 10.151612903225807, 5.916666666666667, 6.845161290322583, 8.264516129032256, 10.746666666666668, 13.222580645161292, 16.120689655172413, 17.989655172413794], \"yaxis\": \"y\", \"type\": \"scatter\"}], \"name\": \"1970\"}, {\"data\": [{\"hovertemplate\": \"Year=1971<br>Month=%{x}<br>Temp=%{y}<extra></extra>\", \"legendgroup\": \"\", \"line\": {\"color\": \"#636efa\", \"dash\": \"solid\"}, \"mode\": \"lines\", \"name\": \"\", \"orientation\": \"v\", \"showlegend\": false, \"x\": [\"January\", \"February\", \"March\", \"April\", \"May\", \"June\", \"July\", \"August\", \"September\", \"October\", \"November\", \"December\"], \"xaxis\": \"x\", \"y\": [18.479310344827585, 17.95925925925926, 15.648387096774192, 11.840000000000002, 10.42903225806452, 6.583333333333334, 9.02258064516129, 8.266666666666667, 10.375862068965516, 13.975862068965519, 18.463333333333335, 18.726666666666667], \"yaxis\": \"y\", \"type\": \"scatter\"}], \"name\": \"1971\"}, {\"data\": [{\"hovertemplate\": \"Year=1972<br>Month=%{x}<br>Temp=%{y}<extra></extra>\", \"legendgroup\": \"\", \"line\": {\"color\": \"#636efa\", \"dash\": \"solid\"}, \"mode\": \"lines\", \"name\": \"\", \"orientation\": \"v\", \"showlegend\": false, \"x\": [\"January\", \"February\", \"March\", \"April\", \"May\", \"June\", \"July\", \"August\", \"September\", \"October\", \"November\", \"December\"], \"xaxis\": \"x\", \"y\": [21.196774193548386, 19.782142857142855, 16.85483870967742, 12.792857142857143, 11.339999999999998, 10.0, 6.164516129032258, 9.310000000000002, 11.528571428571425, 12.517857142857144, 15.653571428571427, 20.62962962962963], \"yaxis\": \"y\", \"type\": \"scatter\"}], \"name\": \"1972\"}, {\"data\": [{\"hovertemplate\": \"Year=1973<br>Month=%{x}<br>Temp=%{y}<extra></extra>\", \"legendgroup\": \"\", \"line\": {\"color\": \"#636efa\", \"dash\": \"solid\"}, \"mode\": \"lines\", \"name\": \"\", \"orientation\": \"v\", \"showlegend\": false, \"x\": [\"January\", \"February\", \"March\", \"April\", \"May\", \"June\", \"July\", \"August\", \"September\", \"October\", \"November\", \"December\"], \"xaxis\": \"x\", \"y\": [21.412903225806456, 18.714285714285715, 16.725806451612904, 13.38, 10.896774193548387, 7.706666666666667, 7.6096774193548375, 8.245161290322581, 10.003333333333332, 12.651612903225805, 16.620689655172416, 18.216129032258063], \"yaxis\": \"y\", \"type\": \"scatter\"}], \"name\": \"1973\"}, {\"data\": [{\"hovertemplate\": \"Year=1974<br>Month=%{x}<br>Temp=%{y}<extra></extra>\", \"legendgroup\": \"\", \"line\": {\"color\": \"#636efa\", \"dash\": \"solid\"}, \"mode\": \"lines\", \"name\": \"\", \"orientation\": \"v\", \"showlegend\": false, \"x\": [\"January\", \"February\", \"March\", \"April\", \"May\", \"June\", \"July\", \"August\", \"September\", \"October\", \"November\", \"December\"], \"xaxis\": \"x\", \"y\": [20.20645161290323, 17.760714285714286, 16.42258064516129, 12.156666666666666, 10.016129032258064, 6.746666666666666, 5.703225806451614, 8.309677419354838, 9.8, 13.390322580645156, 15.483333333333333, 17.60967741935484], \"yaxis\": \"y\", \"type\": \"scatter\"}], \"name\": \"1974\"}, {\"data\": [{\"hovertemplate\": \"Year=1975<br>Month=%{x}<br>Temp=%{y}<extra></extra>\", \"legendgroup\": \"\", \"line\": {\"color\": \"#636efa\", \"dash\": \"solid\"}, \"mode\": \"lines\", \"name\": \"\", \"orientation\": \"v\", \"showlegend\": false, \"x\": [\"January\", \"February\", \"March\", \"April\", \"May\", \"June\", \"July\", \"August\", \"September\", \"October\", \"November\", \"December\"], \"xaxis\": \"x\", \"y\": [19.44193548387097, 18.139285714285712, 15.454838709677423, 12.663333333333334, 9.509677419354837, 7.400000000000001, 6.396774193548388, 7.429032258064517, 9.130000000000003, 12.709677419354843, 15.180000000000001, 18.81935483870968], \"yaxis\": \"y\", \"type\": \"scatter\"}], \"name\": \"1975\"}, {\"data\": [{\"hovertemplate\": \"Year=1976<br>Month=%{x}<br>Temp=%{y}<extra></extra>\", \"legendgroup\": \"\", \"line\": {\"color\": \"#636efa\", \"dash\": \"solid\"}, \"mode\": \"lines\", \"name\": \"\", \"orientation\": \"v\", \"showlegend\": false, \"x\": [\"January\", \"February\", \"March\", \"April\", \"May\", \"June\", \"July\", \"August\", \"September\", \"October\", \"November\", \"December\"], \"xaxis\": \"x\", \"y\": [19.81935483870968, 18.17241379310345, 14.80322580645161, 11.041379310344823, 8.27741935483871, 7.023333333333335, 6.500000000000001, 8.061290322580648, 10.07333333333333, 13.470967741935484, 17.353333333333335, 19.380645161290325], \"yaxis\": \"y\", \"type\": \"scatter\"}], \"name\": \"1976\"}, {\"data\": [{\"hovertemplate\": \"Year=1977<br>Month=%{x}<br>Temp=%{y}<extra></extra>\", \"legendgroup\": \"\", \"line\": {\"color\": \"#636efa\", \"dash\": \"solid\"}, \"mode\": \"lines\", \"name\": \"\", \"orientation\": \"v\", \"showlegend\": false, \"x\": [\"January\", \"February\", \"March\", \"April\", \"May\", \"June\", \"July\", \"August\", \"September\", \"October\", \"November\", \"December\"], \"xaxis\": \"x\", \"y\": [20.57741935483871, 18.96428571428571, 16.880645161290328, 14.056666666666668, 11.283870967741937, 7.773333333333335, 6.73548387096774, 8.258064516129032, 11.126666666666669, 13.387096774193548, 16.996666666666666, 18.65666666666667], \"yaxis\": \"y\", \"type\": \"scatter\"}], \"name\": \"1977\"}, {\"data\": [{\"hovertemplate\": \"Year=1978<br>Month=%{x}<br>Temp=%{y}<extra></extra>\", \"legendgroup\": \"\", \"line\": {\"color\": \"#636efa\", \"dash\": \"solid\"}, \"mode\": \"lines\", \"name\": \"\", \"orientation\": \"v\", \"showlegend\": false, \"x\": [\"January\", \"February\", \"March\", \"April\", \"May\", \"June\", \"July\", \"August\", \"September\", \"October\", \"November\", \"December\"], \"xaxis\": \"x\", \"y\": [19.496774193548383, 18.896428571428572, 15.729032258064517, 12.466666666666665, 10.429032258064519, 7.9, 9.935483870967744, 7.529032258064517, 10.666666666666668, 14.393548387096772, 17.049999999999997, 19.532258064516128], \"yaxis\": \"y\", \"type\": \"scatter\"}], \"name\": \"1978\"}, {\"data\": [{\"hovertemplate\": \"Year=1979<br>Month=%{x}<br>Temp=%{y}<extra></extra>\", \"legendgroup\": \"\", \"line\": {\"color\": \"#636efa\", \"dash\": \"solid\"}, \"mode\": \"lines\", \"name\": \"\", \"orientation\": \"v\", \"showlegend\": false, \"x\": [\"January\", \"February\", \"March\", \"April\", \"May\", \"June\", \"July\", \"August\", \"September\", \"October\", \"November\", \"December\"], \"xaxis\": \"x\", \"y\": [19.84193548387097, 18.417857142857144, 16.261290322580646, 12.516666666666667, 10.841935483870968, 5.556666666666668, 8.061290322580646, 10.348387096774196, 10.003333333333334, 13.538709677419359, 16.063333333333336, 19.196774193548393], \"yaxis\": \"y\", \"type\": \"scatter\"}], \"name\": \"1979\"}, {\"data\": [{\"hovertemplate\": \"Year=1980<br>Month=%{x}<br>Temp=%{y}<extra></extra>\", \"legendgroup\": \"\", \"line\": {\"color\": \"#636efa\", \"dash\": \"solid\"}, \"mode\": \"lines\", \"name\": \"\", \"orientation\": \"v\", \"showlegend\": false, \"x\": [\"January\", \"February\", \"March\", \"April\", \"May\", \"June\", \"July\", \"August\", \"September\", \"October\", \"November\", \"December\"], \"xaxis\": \"x\", \"y\": [21.293548387096777, 20.106896551724134, 18.619354838709675, 13.533333333333335, 10.8, 7.996666666666666, 6.812903225806452, 8.196774193548388, 9.936666666666667, 13.058064516129031, 15.51333333333333, 18.890322580645165], \"yaxis\": \"y\", \"type\": \"scatter\"}], \"name\": \"1980\"}, {\"data\": [{\"hovertemplate\": \"Year=1981<br>Month=%{x}<br>Temp=%{y}<extra></extra>\", \"legendgroup\": \"\", \"line\": {\"color\": \"#636efa\", \"dash\": \"solid\"}, \"mode\": \"lines\", \"name\": \"\", \"orientation\": \"v\", \"showlegend\": false, \"x\": [\"January\", \"February\", \"March\", \"April\", \"May\", \"June\", \"July\", \"August\", \"September\", \"October\", \"November\", \"December\"], \"xaxis\": \"x\", \"y\": [19.390322580645165, 19.45357142857143, 16.725806451612907, 13.713333333333333, 11.651612903225804, 7.309999999999999, 6.880645161290323, 9.119354838709677, 10.360000000000001, 12.512903225806454, 15.93, 18.693548387096783], \"yaxis\": \"y\", \"type\": \"scatter\"}], \"name\": \"1981\"}, {\"data\": [{\"hovertemplate\": \"Year=1982<br>Month=%{x}<br>Temp=%{y}<extra></extra>\", \"legendgroup\": \"\", \"line\": {\"color\": \"#636efa\", \"dash\": \"solid\"}, \"mode\": \"lines\", \"name\": \"\", \"orientation\": \"v\", \"showlegend\": false, \"x\": [\"January\", \"February\", \"March\", \"April\", \"May\", \"June\", \"July\", \"August\", \"September\", \"October\", \"November\", \"December\"], \"xaxis\": \"x\", \"y\": [19.470967741935482, 18.639285714285712, 16.835483870967746, 13.073333333333329, 9.6, 8.95, 8.861290322580645, 9.458064516129031, 11.599999999999998, 13.07096774193548, 15.53, 19.59], \"yaxis\": \"y\", \"type\": \"scatter\"}], \"name\": \"1982\"}, {\"data\": [{\"hovertemplate\": \"Year=1983<br>Month=%{x}<br>Temp=%{y}<extra></extra>\", \"legendgroup\": \"\", \"line\": {\"color\": \"#636efa\", \"dash\": \"solid\"}, \"mode\": \"lines\", \"name\": \"\", \"orientation\": \"v\", \"showlegend\": false, \"x\": [\"January\", \"February\", \"March\", \"April\", \"May\", \"June\", \"July\", \"August\", \"September\", \"October\", \"November\", \"December\"], \"xaxis\": \"x\", \"y\": [20.206451612903226, 20.15, 16.83870967741936, 13.790000000000001, 9.141935483870967, 5.7566666666666695, 6.090322580645163, 7.980645161290323, 9.23, 14.264516129032259, 17.340000000000007, 19.22580645161291], \"yaxis\": \"y\", \"type\": \"scatter\"}], \"name\": \"1983\"}, {\"data\": [{\"hovertemplate\": \"Year=1984<br>Month=%{x}<br>Temp=%{y}<extra></extra>\", \"legendgroup\": \"\", \"line\": {\"color\": \"#636efa\", \"dash\": \"solid\"}, \"mode\": \"lines\", \"name\": \"\", \"orientation\": \"v\", \"showlegend\": false, \"x\": [\"January\", \"February\", \"March\", \"April\", \"May\", \"June\", \"July\", \"August\", \"September\", \"October\", \"November\", \"December\"], \"xaxis\": \"x\", \"y\": [20.425806451612903, 18.29310344827586, 16.690322580645162, 12.773333333333332, 7.951612903225804, 6.706666666666668, 7.370967741935484, 7.6258064516129025, 11.330000000000002, 14.374193548387096, 15.473333333333333, 18.687096774193545], \"yaxis\": \"y\", \"type\": \"scatter\"}], \"name\": \"1984\"}, {\"data\": [{\"hovertemplate\": \"Year=1985<br>Month=%{x}<br>Temp=%{y}<extra></extra>\", \"legendgroup\": \"\", \"line\": {\"color\": \"#636efa\", \"dash\": \"solid\"}, \"mode\": \"lines\", \"name\": \"\", \"orientation\": \"v\", \"showlegend\": false, \"x\": [\"January\", \"February\", \"March\", \"April\", \"May\", \"June\", \"July\", \"August\", \"September\", \"October\", \"November\", \"December\"], \"xaxis\": \"x\", \"y\": [19.56774193548387, 19.45714285714286, 16.670967741935485, 12.386666666666665, 10.019354838709678, 8.98, 7.225806451612904, 7.716129032258063, 11.469999999999997, 13.764516129032259, 16.930000000000003, 18.803225806451614], \"yaxis\": \"y\", \"type\": \"scatter\"}], \"name\": \"1985\"}, {\"data\": [{\"hovertemplate\": \"Year=1986<br>Month=%{x}<br>Temp=%{y}<extra></extra>\", \"legendgroup\": \"\", \"line\": {\"color\": \"#636efa\", \"dash\": \"solid\"}, \"mode\": \"lines\", \"name\": \"\", \"orientation\": \"v\", \"showlegend\": false, \"x\": [\"January\", \"February\", \"March\", \"April\", \"May\", \"June\", \"July\", \"August\", \"September\", \"October\", \"November\", \"December\"], \"xaxis\": \"x\", \"y\": [19.83225806451613, 19.310714285714283, 16.79032258064516, 13.096666666666668, 11.432258064516128, 8.923333333333336, 8.274193548387096, 9.593548387096773, 10.796666666666665, 15.525806451612903, 15.939999999999998, 20.51290322580645], \"yaxis\": \"y\", \"type\": \"scatter\"}], \"name\": \"1986\"}, {\"data\": [{\"hovertemplate\": \"Year=1987<br>Month=%{x}<br>Temp=%{y}<extra></extra>\", \"legendgroup\": \"\", \"line\": {\"color\": \"#636efa\", \"dash\": \"solid\"}, \"mode\": \"lines\", \"name\": \"\", \"orientation\": \"v\", \"showlegend\": false, \"x\": [\"January\", \"February\", \"March\", \"April\", \"May\", \"June\", \"July\", \"August\", \"September\", \"October\", \"November\", \"December\"], \"xaxis\": \"x\", \"y\": [20.599999999999998, 20.43214285714286, 18.522580645161295, 13.846666666666666, 9.616129032258062, 8.65, 8.087096774193549, 9.203225806451615, 10.996666666666668, 14.49677419354839, 18.166666666666668, 19.796666666666667], \"yaxis\": \"y\", \"type\": \"scatter\"}], \"name\": \"1987\"}, {\"data\": [{\"hovertemplate\": \"Year=1988<br>Month=%{x}<br>Temp=%{y}<extra></extra>\", \"legendgroup\": \"\", \"line\": {\"color\": \"#636efa\", \"dash\": \"solid\"}, \"mode\": \"lines\", \"name\": \"\", \"orientation\": \"v\", \"showlegend\": false, \"x\": [\"January\", \"February\", \"March\", \"April\", \"May\", \"June\", \"July\", \"August\", \"September\", \"October\", \"November\", \"December\"], \"xaxis\": \"x\", \"y\": [19.61612903225806, 19.84137931034483, 17.364516129032253, 13.683333333333335, 8.803225806451614, 7.103333333333333, 6.880645161290323, 8.535483870967742, 9.979999999999999, 14.541935483870969, 17.713333333333335, 19.46129032258065], \"yaxis\": \"y\", \"type\": \"scatter\"}], \"name\": \"1988\"}, {\"data\": [{\"hovertemplate\": \"Year=1989<br>Month=%{x}<br>Temp=%{y}<extra></extra>\", \"legendgroup\": \"\", \"line\": {\"color\": \"#636efa\", \"dash\": \"solid\"}, \"mode\": \"lines\", \"name\": \"\", \"orientation\": \"v\", \"showlegend\": false, \"x\": [\"January\", \"February\", \"March\", \"April\", \"May\", \"June\", \"July\", \"August\", \"September\", \"October\", \"November\", \"December\"], \"xaxis\": \"x\", \"y\": [20.938709677419357, 20.671428571428574, 16.609677419354846, 13.726666666666668, 9.280645161290325, 7.556666666666664, 7.041935483870968, 9.222580645161292, 10.27, 13.545161290322584, 17.56, 19.664516129032254], \"yaxis\": \"y\", \"type\": \"scatter\"}], \"name\": \"1989\"}, {\"data\": [{\"hovertemplate\": \"Year=1990<br>Month=%{x}<br>Temp=%{y}<extra></extra>\", \"legendgroup\": \"\", \"line\": {\"color\": \"#636efa\", \"dash\": \"solid\"}, \"mode\": \"lines\", \"name\": \"\", \"orientation\": \"v\", \"showlegend\": false, \"x\": [\"January\", \"February\", \"March\", \"April\", \"May\", \"June\", \"July\", \"August\", \"September\", \"October\", \"November\", \"December\"], \"xaxis\": \"x\", \"y\": [20.548387096774196, 18.960714285714285, 16.361290322580643, 13.333333333333332, 9.14838709677419, 7.633333333333335, 6.1645161290322585, 9.641935483870968, 11.083333333333334, 13.306451612903224, 16.729999999999997, 19.203225806451613], \"yaxis\": \"y\", \"type\": \"scatter\"}], \"name\": \"1990\"}, {\"data\": [{\"hovertemplate\": \"Year=1991<br>Month=%{x}<br>Temp=%{y}<extra></extra>\", \"legendgroup\": \"\", \"line\": {\"color\": \"#636efa\", \"dash\": \"solid\"}, \"mode\": \"lines\", \"name\": \"\", \"orientation\": \"v\", \"showlegend\": false, \"x\": [\"January\", \"February\", \"March\", \"April\", \"May\", \"June\", \"July\", \"August\", \"September\", \"October\", \"November\", \"December\"], \"xaxis\": \"x\", \"y\": [19.880645161290325, 19.660714285714285, 17.064516129032267, 14.233333333333333, 12.203225806451611, 8.973333333333333, 7.52258064516129, 7.264516129032257, 11.97, 13.20967741935484, 16.536666666666665, 18.241935483870968], \"yaxis\": \"y\", \"type\": \"scatter\"}], \"name\": \"1991\"}, {\"data\": [{\"hovertemplate\": \"Year=1992<br>Month=%{x}<br>Temp=%{y}<extra></extra>\", \"legendgroup\": \"\", \"line\": {\"color\": \"#636efa\", \"dash\": \"solid\"}, \"mode\": \"lines\", \"name\": \"\", \"orientation\": \"v\", \"showlegend\": false, \"x\": [\"January\", \"February\", \"March\", \"April\", \"May\", \"June\", \"July\", \"August\", \"September\", \"October\", \"November\", \"December\"], \"xaxis\": \"x\", \"y\": [20.66774193548387, 18.924137931034487, 17.751612903225805, 13.140000000000002, 10.351612903225805, 7.363333333333334, 6.1096774193548375, 8.867741935483872, 10.92, 14.212903225806452, 16.486666666666665, 18.79666666666667], \"yaxis\": \"y\", \"type\": \"scatter\"}], \"name\": \"1992\"}, {\"data\": [{\"hovertemplate\": \"Year=1993<br>Month=%{x}<br>Temp=%{y}<extra></extra>\", \"legendgroup\": \"\", \"line\": {\"color\": \"#636efa\", \"dash\": \"solid\"}, \"mode\": \"lines\", \"name\": \"\", \"orientation\": \"v\", \"showlegend\": false, \"x\": [\"January\", \"February\", \"March\", \"April\", \"May\", \"June\", \"July\", \"August\", \"September\", \"October\", \"November\", \"December\"], \"xaxis\": \"x\", \"y\": [20.80645161290322, 19.83928571428572, 18.216129032258067, 13.83, 8.912903225806454, 8.806666666666667, 5.658064516129032, 8.261290322580646, 10.03, 13.580645161290322, 16.386666666666667, 19.209677419354836], \"yaxis\": \"y\", \"type\": \"scatter\"}], \"name\": \"1993\"}, {\"data\": [{\"hovertemplate\": \"Year=1994<br>Month=%{x}<br>Temp=%{y}<extra></extra>\", \"legendgroup\": \"\", \"line\": {\"color\": \"#636efa\", \"dash\": \"solid\"}, \"mode\": \"lines\", \"name\": \"\", \"orientation\": \"v\", \"showlegend\": false, \"x\": [\"January\", \"February\", \"March\", \"April\", \"May\", \"June\", \"July\", \"August\", \"September\", \"October\", \"November\", \"December\"], \"xaxis\": \"x\", \"y\": [20.00967741935484, 18.724999999999998, 17.03548387096774, 14.36666666666667, 10.370967741935484, 9.050000000000002, 7.3838709677419345, 7.751612903225806, 12.336666666666666, 13.94838709677419, 17.29666666666667, 20.03870967741936], \"yaxis\": \"y\", \"type\": \"scatter\"}], \"name\": \"1994\"}, {\"data\": [{\"hovertemplate\": \"Year=1995<br>Month=%{x}<br>Temp=%{y}<extra></extra>\", \"legendgroup\": \"\", \"line\": {\"color\": \"#636efa\", \"dash\": \"solid\"}, \"mode\": \"lines\", \"name\": \"\", \"orientation\": \"v\", \"showlegend\": false, \"x\": [\"January\", \"February\", \"March\", \"April\", \"May\", \"June\", \"July\", \"August\", \"September\", \"October\", \"November\", \"December\"], \"xaxis\": \"x\", \"y\": [20.493548387096773, 18.839285714285715, 17.129032258064516, 14.503333333333329, 11.725806451612904, 9.613333333333335, 6.803225806451613, 7.77741935483871, 11.460000000000003, 14.161290322580639, 16.836666666666666, 19.441935483870967], \"yaxis\": \"y\", \"type\": \"scatter\"}], \"name\": \"1995\"}, {\"data\": [{\"hovertemplate\": \"Year=1996<br>Month=%{x}<br>Temp=%{y}<extra></extra>\", \"legendgroup\": \"\", \"line\": {\"color\": \"#636efa\", \"dash\": \"solid\"}, \"mode\": \"lines\", \"name\": \"\", \"orientation\": \"v\", \"showlegend\": false, \"x\": [\"January\", \"February\", \"March\", \"April\", \"May\", \"June\", \"July\", \"August\", \"September\", \"October\", \"November\", \"December\"], \"xaxis\": \"x\", \"y\": [19.49032258064516, 19.365517241379308, 17.625806451612906, 12.246666666666666, 9.564516129032256, 7.3933333333333335, 8.519354838709676, 8.938709677419356, 11.129999999999999, 14.251612903225809, 18.18333333333333, 19.348387096774196], \"yaxis\": \"y\", \"type\": \"scatter\"}], \"name\": \"1996\"}, {\"data\": [{\"hovertemplate\": \"Year=1997<br>Month=%{x}<br>Temp=%{y}<extra></extra>\", \"legendgroup\": \"\", \"line\": {\"color\": \"#636efa\", \"dash\": \"solid\"}, \"mode\": \"lines\", \"name\": \"\", \"orientation\": \"v\", \"showlegend\": false, \"x\": [\"January\", \"February\", \"March\", \"April\", \"May\", \"June\", \"July\", \"August\", \"September\", \"October\", \"November\", \"December\"], \"xaxis\": \"x\", \"y\": [21.232258064516127, 19.971428571428568, 17.83225806451613, 15.196666666666665, 11.461290322580643, 9.229999999999999, 8.716129032258063, 10.490322580645161, 12.046666666666669, 12.874193548387098, 16.60333333333333, 18.74516129032259], \"yaxis\": \"y\", \"type\": \"scatter\"}], \"name\": \"1997\"}, {\"data\": [{\"hovertemplate\": \"Year=1998<br>Month=%{x}<br>Temp=%{y}<extra></extra>\", \"legendgroup\": \"\", \"line\": {\"color\": \"#636efa\", \"dash\": \"solid\"}, \"mode\": \"lines\", \"name\": \"\", \"orientation\": \"v\", \"showlegend\": false, \"x\": [\"January\", \"February\", \"March\", \"April\", \"May\", \"June\", \"July\", \"August\", \"September\", \"October\", \"November\", \"December\"], \"xaxis\": \"x\", \"y\": [21.11290322580645, 18.925, 17.493548387096773, 13.903333333333334, 11.438709677419356, 8.623333333333333, 7.096774193548386, 8.632258064516128, 11.08, 15.932258064516128, 16.733333333333334, 20.1], \"yaxis\": \"y\", \"type\": \"scatter\"}], \"name\": \"1998\"}, {\"data\": [{\"hovertemplate\": \"Year=1999<br>Month=%{x}<br>Temp=%{y}<extra></extra>\", \"legendgroup\": \"\", \"line\": {\"color\": \"#636efa\", \"dash\": \"solid\"}, \"mode\": \"lines\", \"name\": \"\", \"orientation\": \"v\", \"showlegend\": false, \"x\": [\"January\", \"February\", \"March\", \"April\", \"May\", \"June\", \"July\", \"August\", \"September\", \"October\", \"November\", \"December\"], \"xaxis\": \"x\", \"y\": [19.583870967741937, 19.98928571428571, 16.687096774193545, 13.606666666666667, 10.935483870967744, 8.79, 7.083870967741937, 9.261290322580642, 10.73, 13.596774193548386, 16.723333333333333, 18.85483870967742], \"yaxis\": \"y\", \"type\": \"scatter\"}], \"name\": \"1999\"}, {\"data\": [{\"hovertemplate\": \"Year=2000<br>Month=%{x}<br>Temp=%{y}<extra></extra>\", \"legendgroup\": \"\", \"line\": {\"color\": \"#636efa\", \"dash\": \"solid\"}, \"mode\": \"lines\", \"name\": \"\", \"orientation\": \"v\", \"showlegend\": false, \"x\": [\"January\", \"February\", \"March\", \"April\", \"May\", \"June\", \"July\", \"August\", \"September\", \"October\", \"November\", \"December\"], \"xaxis\": \"x\", \"y\": [20.125806451612906, 18.775862068965516, 16.862068965517246, 13.44333333333333, 9.880645161290321, 8.649999999999999, 7.548387096774195, 9.19032258064516, 10.636666666666668, 14.000000000000002, 17.156666666666663, 20.05483870967742], \"yaxis\": \"y\", \"type\": \"scatter\"}], \"name\": \"2000\"}, {\"data\": [{\"hovertemplate\": \"Year=2001<br>Month=%{x}<br>Temp=%{y}<extra></extra>\", \"legendgroup\": \"\", \"line\": {\"color\": \"#636efa\", \"dash\": \"solid\"}, \"mode\": \"lines\", \"name\": \"\", \"orientation\": \"v\", \"showlegend\": false, \"x\": [\"January\", \"February\", \"March\", \"April\", \"May\", \"June\", \"July\", \"August\", \"September\", \"October\", \"November\", \"December\"], \"xaxis\": \"x\", \"y\": [20.125806451612902, 20.921428571428578, 17.816129032258065, 13.370000000000001, 10.029032258064515, 7.326666666666668, 9.161290322580646, 9.748387096774193, 10.136666666666663, 14.519354838709676, 16.29666666666667, 20.51612903225806], \"yaxis\": \"y\", \"type\": \"scatter\"}], \"name\": \"2001\"}, {\"data\": [{\"hovertemplate\": \"Year=2002<br>Month=%{x}<br>Temp=%{y}<extra></extra>\", \"legendgroup\": \"\", \"line\": {\"color\": \"#636efa\", \"dash\": \"solid\"}, \"mode\": \"lines\", \"name\": \"\", \"orientation\": \"v\", \"showlegend\": false, \"x\": [\"January\", \"February\", \"March\", \"April\", \"May\", \"June\", \"July\", \"August\", \"September\", \"October\", \"November\", \"December\"], \"xaxis\": \"x\", \"y\": [20.46451612903226, 19.614285714285717, 18.190322580645162, 12.96666666666667, 11.038709677419357, 7.209999999999999, 7.967741935483872, 9.85806451612903, 11.499999999999998, 13.729032258064517, 16.236666666666668, 18.687096774193545], \"yaxis\": \"y\", \"type\": \"scatter\"}], \"name\": \"2002\"}, {\"data\": [{\"hovertemplate\": \"Year=2003<br>Month=%{x}<br>Temp=%{y}<extra></extra>\", \"legendgroup\": \"\", \"line\": {\"color\": \"#636efa\", \"dash\": \"solid\"}, \"mode\": \"lines\", \"name\": \"\", \"orientation\": \"v\", \"showlegend\": false, \"x\": [\"January\", \"February\", \"March\", \"April\", \"May\", \"June\", \"July\", \"August\", \"September\", \"October\", \"November\", \"December\"], \"xaxis\": \"x\", \"y\": [21.112903225806452, 19.360714285714288, 17.583870967741937, 13.630000000000003, 9.574193548387095, 10.226666666666665, 7.0032258064516135, 9.006451612903227, 11.956666666666667, 15.77741935483871, 18.14333333333333, 18.735483870967744], \"yaxis\": \"y\", \"type\": \"scatter\"}], \"name\": \"2003\"}, {\"data\": [{\"hovertemplate\": \"Year=2004<br>Month=%{x}<br>Temp=%{y}<extra></extra>\", \"legendgroup\": \"\", \"line\": {\"color\": \"#636efa\", \"dash\": \"solid\"}, \"mode\": \"lines\", \"name\": \"\", \"orientation\": \"v\", \"showlegend\": false, \"x\": [\"January\", \"February\", \"March\", \"April\", \"May\", \"June\", \"July\", \"August\", \"September\", \"October\", \"November\", \"December\"], \"xaxis\": \"x\", \"y\": [20.535483870967745, 19.155172413793103, 18.15806451612903, 14.226666666666661, 9.180645161290323, 8.370000000000001, 8.158064516129032, 9.025806451612905, 11.896666666666665, 14.122580645161294, 16.836666666666662, 19.883870967741935], \"yaxis\": \"y\", \"type\": \"scatter\"}], \"name\": \"2004\"}, {\"data\": [{\"hovertemplate\": \"Year=2005<br>Month=%{x}<br>Temp=%{y}<extra></extra>\", \"legendgroup\": \"\", \"line\": {\"color\": \"#636efa\", \"dash\": \"solid\"}, \"mode\": \"lines\", \"name\": \"\", \"orientation\": \"v\", \"showlegend\": false, \"x\": [\"January\", \"February\", \"March\", \"April\", \"May\", \"June\", \"July\", \"August\", \"September\", \"October\", \"November\", \"December\"], \"xaxis\": \"x\", \"y\": [20.43870967741936, 20.010714285714283, 18.0741935483871, 14.156666666666668, 9.94516129032258, 10.666666666666668, 8.296774193548387, 10.483870967741934, 10.393333333333333, 13.361290322580645, 17.33333333333334, 18.68387096774193], \"yaxis\": \"y\", \"type\": \"scatter\"}], \"name\": \"2005\"}, {\"data\": [{\"hovertemplate\": \"Year=2006<br>Month=%{x}<br>Temp=%{y}<extra></extra>\", \"legendgroup\": \"\", \"line\": {\"color\": \"#636efa\", \"dash\": \"solid\"}, \"mode\": \"lines\", \"name\": \"\", \"orientation\": \"v\", \"showlegend\": false, \"x\": [\"January\", \"February\", \"March\", \"April\", \"May\", \"June\", \"July\", \"August\", \"September\", \"October\", \"November\", \"December\"], \"xaxis\": \"x\", \"y\": [21.07741935483871, 19.950000000000006, 16.858064516129033, 14.003333333333332, 11.335483870967742, 9.763333333333332, 9.674193548387096, 10.180645161290322, 12.356666666666666, 14.425806451612903, 16.886666666666667, 19.36774193548387], \"yaxis\": \"y\", \"type\": \"scatter\"}], \"name\": \"2006\"}, {\"data\": [{\"hovertemplate\": \"Year=2007<br>Month=%{x}<br>Temp=%{y}<extra></extra>\", \"legendgroup\": \"\", \"line\": {\"color\": \"#636efa\", \"dash\": \"solid\"}, \"mode\": \"lines\", \"name\": \"\", \"orientation\": \"v\", \"showlegend\": false, \"x\": [\"January\", \"February\", \"March\", \"April\", \"May\", \"June\", \"July\", \"August\", \"September\", \"October\", \"November\", \"December\"], \"xaxis\": \"x\", \"y\": [20.623333333333335, 18.7, 17.599999999999998, 13.056666666666667, 8.8, 6.053333333333333, 6.983870967741933, 6.496774193548389, 10.266666666666664, 14.258064516129036, 17.466666666666665, 19.083870967741934], \"yaxis\": \"y\", \"type\": \"scatter\"}], \"name\": \"2007\"}, {\"data\": [{\"hovertemplate\": \"Year=2008<br>Month=%{x}<br>Temp=%{y}<extra></extra>\", \"legendgroup\": \"\", \"line\": {\"color\": \"#636efa\", \"dash\": \"solid\"}, \"mode\": \"lines\", \"name\": \"\", \"orientation\": \"v\", \"showlegend\": false, \"x\": [\"January\", \"February\", \"March\", \"April\", \"May\", \"June\", \"July\", \"August\", \"September\", \"October\", \"November\", \"December\"], \"xaxis\": \"x\", \"y\": [21.26, 20.36896551724138, 18.151612903225807, 14.51, 11.08709677419355, 7.616666666666665, 8.290322580645164, 9.103225806451611, 11.633333333333331, 14.477419354838712, 18.3, 20.006451612903227], \"yaxis\": \"y\", \"type\": \"scatter\"}], \"name\": \"2008\"}, {\"data\": [{\"hovertemplate\": \"Year=2009<br>Month=%{x}<br>Temp=%{y}<extra></extra>\", \"legendgroup\": \"\", \"line\": {\"color\": \"#636efa\", \"dash\": \"solid\"}, \"mode\": \"lines\", \"name\": \"\", \"orientation\": \"v\", \"showlegend\": false, \"x\": [\"January\", \"February\", \"March\", \"April\", \"May\", \"June\", \"July\", \"August\", \"September\", \"October\", \"November\", \"December\"], \"xaxis\": \"x\", \"y\": [21.613333333333333, 20.40714285714285, 19.25483870967742, 15.739999999999998, 12.01290322580645, 8.676666666666666, 7.974193548387095, 10.04193548387097, 10.309999999999999, 15.054838709677421, 16.389999999999997, 19.90322580645161], \"yaxis\": \"y\", \"type\": \"scatter\"}], \"name\": \"2009\"}, {\"data\": [{\"hovertemplate\": \"Year=2010<br>Month=%{x}<br>Temp=%{y}<extra></extra>\", \"legendgroup\": \"\", \"line\": {\"color\": \"#636efa\", \"dash\": \"solid\"}, \"mode\": \"lines\", \"name\": \"\", \"orientation\": \"v\", \"showlegend\": false, \"x\": [\"January\", \"February\", \"March\", \"April\", \"May\", \"June\", \"July\", \"August\", \"September\", \"October\", \"November\", \"December\"], \"xaxis\": \"x\", \"y\": [21.660000000000004, 19.70714285714286, 18.56129032258064, 13.500000000000002, 11.164516129032261, 8.19, 5.796774193548386, 8.551612903225807, 11.583333333333332, 14.148387096774192, 17.51379310344828, 18.03225806451613], \"yaxis\": \"y\", \"type\": \"scatter\"}], \"name\": \"2010\"}, {\"data\": [{\"hovertemplate\": \"Year=2011<br>Month=%{x}<br>Temp=%{y}<extra></extra>\", \"legendgroup\": \"\", \"line\": {\"color\": \"#636efa\", \"dash\": \"solid\"}, \"mode\": \"lines\", \"name\": \"\", \"orientation\": \"v\", \"showlegend\": false, \"x\": [\"January\", \"February\", \"March\", \"April\", \"May\", \"June\", \"July\", \"August\", \"September\", \"October\", \"November\", \"December\"], \"xaxis\": \"x\", \"y\": [21.218518518518522, 20.142857142857146, 17.812903225806448, 14.179999999999998, 10.406451612903227, 7.400000000000001, 6.719354838709677, 8.33548387096774, 12.906666666666666, 14.851612903225806, 17.833333333333332, 20.625806451612902], \"yaxis\": \"y\", \"type\": \"scatter\"}], \"name\": \"2011\"}, {\"data\": [{\"hovertemplate\": \"Year=2012<br>Month=%{x}<br>Temp=%{y}<extra></extra>\", \"legendgroup\": \"\", \"line\": {\"color\": \"#636efa\", \"dash\": \"solid\"}, \"mode\": \"lines\", \"name\": \"\", \"orientation\": \"v\", \"showlegend\": false, \"x\": [\"January\", \"February\", \"March\", \"April\", \"May\", \"June\", \"July\", \"August\", \"September\", \"October\", \"November\", \"December\"], \"xaxis\": \"x\", \"y\": [21.112903225806456, 21.741379310344822, 20.125806451612902, 14.906666666666663, 12.429032258064519, 10.00666666666667, 7.567741935483871, 8.858064516129032, 12.086666666666666, 13.603225806451613, 18.080000000000002, 19.493548387096773], \"yaxis\": \"y\", \"type\": \"scatter\"}], \"name\": \"2012\"}, {\"data\": [{\"hovertemplate\": \"Year=2013<br>Month=%{x}<br>Temp=%{y}<extra></extra>\", \"legendgroup\": \"\", \"line\": {\"color\": \"#636efa\", \"dash\": \"solid\"}, \"mode\": \"lines\", \"name\": \"\", \"orientation\": \"v\", \"showlegend\": false, \"x\": [\"January\", \"February\", \"March\", \"April\", \"May\", \"June\", \"July\", \"August\", \"September\", \"October\", \"November\", \"December\"], \"xaxis\": \"x\", \"y\": [21.254838709677422, 21.385714285714293, 18.103225806451615, 14.363333333333332, 10.767741935483869, 8.796666666666663, 7.823333333333332, 8.93225806451613, 11.376666666666665, 14.8741935483871, 17.353333333333335, 20.490322580645167], \"yaxis\": \"y\", \"type\": \"scatter\"}], \"name\": \"2013\"}, {\"data\": [{\"hovertemplate\": \"Year=2014<br>Month=%{x}<br>Temp=%{y}<extra></extra>\", \"legendgroup\": \"\", \"line\": {\"color\": \"#636efa\", \"dash\": \"solid\"}, \"mode\": \"lines\", \"name\": \"\", \"orientation\": \"v\", \"showlegend\": false, \"x\": [\"January\", \"February\", \"March\", \"April\", \"May\", \"June\", \"July\", \"August\", \"September\", \"October\", \"November\", \"December\"], \"xaxis\": \"x\", \"y\": [21.806451612903224, 19.8, 17.78064516129032, 13.726666666666663, 11.63548387096774, 7.513333333333333, 8.780645161290325, 10.112903225806454, 11.473333333333333, 16.24838709677419, 17.51666666666667, 19.24838709677419], \"yaxis\": \"y\", \"type\": \"scatter\"}], \"name\": \"2014\"}, {\"data\": [{\"hovertemplate\": \"Year=2015<br>Month=%{x}<br>Temp=%{y}<extra></extra>\", \"legendgroup\": \"\", \"line\": {\"color\": \"#636efa\", \"dash\": \"solid\"}, \"mode\": \"lines\", \"name\": \"\", \"orientation\": \"v\", \"showlegend\": false, \"x\": [\"January\", \"February\", \"March\", \"April\", \"May\", \"June\", \"July\", \"August\", \"September\", \"October\", \"November\", \"December\"], \"xaxis\": \"x\", \"y\": [21.825806451612902, 20.74285714285714, 20.129032258064516, 16.096666666666664, 11.751612903225807, 8.913333333333332, 8.738709677419356, 11.180645161290322, 12.513333333333334, 13.683870967741937, 16.81333333333333, 20.264516129032263], \"yaxis\": \"y\", \"type\": \"scatter\"}], \"name\": \"2015\"}, {\"data\": [{\"hovertemplate\": \"Year=2016<br>Month=%{x}<br>Temp=%{y}<extra></extra>\", \"legendgroup\": \"\", \"line\": {\"color\": \"#636efa\", \"dash\": \"solid\"}, \"mode\": \"lines\", \"name\": \"\", \"orientation\": \"v\", \"showlegend\": false, \"x\": [\"January\", \"February\", \"March\", \"April\", \"May\", \"June\", \"July\", \"August\", \"September\", \"October\", \"November\", \"December\"], \"xaxis\": \"x\", \"y\": [21.299999999999994, 21.42068965517241, 18.59677419354839, 14.096666666666668, 12.27096774193548, 8.043333333333333, 8.716129032258063, 10.435483870967742, 13.150000000000002, 15.329032258064517, 19.143333333333334, 20.012903225806454], \"yaxis\": \"y\", \"type\": \"scatter\"}], \"name\": \"2016\"}, {\"data\": [{\"hovertemplate\": \"Year=2017<br>Month=%{x}<br>Temp=%{y}<extra></extra>\", \"legendgroup\": \"\", \"line\": {\"color\": \"#636efa\", \"dash\": \"solid\"}, \"mode\": \"lines\", \"name\": \"\", \"orientation\": \"v\", \"showlegend\": false, \"x\": [\"January\", \"February\", \"March\", \"April\", \"May\", \"June\", \"July\", \"August\", \"September\", \"October\", \"November\", \"December\"], \"xaxis\": \"x\", \"y\": [23.71612903225807, 21.6, 18.719354838709677, 15.046666666666669, 10.706451612903226, 7.866666666666666, 7.9967741935483865, 8.838709677419354, 11.599999999999998, 14.132258064516131, 18.363333333333333, 21.022580645161295], \"yaxis\": \"y\", \"type\": \"scatter\"}], \"name\": \"2017\"}, {\"data\": [{\"hovertemplate\": \"Year=2018<br>Month=%{x}<br>Temp=%{y}<extra></extra>\", \"legendgroup\": \"\", \"line\": {\"color\": \"#636efa\", \"dash\": \"solid\"}, \"mode\": \"lines\", \"name\": \"\", \"orientation\": \"v\", \"showlegend\": false, \"x\": [\"January\", \"February\", \"March\"], \"xaxis\": \"x\", \"y\": [21.287096774193547, 20.960714285714285, 19.655555555555555], \"yaxis\": \"y\", \"type\": \"scatter\"}], \"name\": \"2018\"}]);\n",
              "                        }).then(function(){\n",
              "                            \n",
              "var gd = document.getElementById('65039a75-7471-4508-bd7a-dbd02fbbce22');\n",
              "var x = new MutationObserver(function (mutations, observer) {{\n",
              "        var display = window.getComputedStyle(gd).display;\n",
              "        if (!display || display === 'none') {{\n",
              "            console.log([gd, 'removed!']);\n",
              "            Plotly.purge(gd);\n",
              "            observer.disconnect();\n",
              "        }}\n",
              "}});\n",
              "\n",
              "// Listen for the removal of the full notebook cells\n",
              "var notebookContainer = gd.closest('#notebook-container');\n",
              "if (notebookContainer) {{\n",
              "    x.observe(notebookContainer, {childList: true});\n",
              "}}\n",
              "\n",
              "// Listen for the clearing of the current output cell\n",
              "var outputEl = gd.closest('.output');\n",
              "if (outputEl) {{\n",
              "    x.observe(outputEl, {childList: true});\n",
              "}}\n",
              "\n",
              "                        })                };                            </script>        </div>\n",
              "</body>\n",
              "</html>"
            ]
          },
          "metadata": {
            "tags": []
          }
        }
      ]
    },
    {
      "cell_type": "markdown",
      "metadata": {
        "id": "hAD3KT1ZjWoB"
      },
      "source": [
        "## 2.3 Pipeline y Predicción"
      ]
    },
    {
      "cell_type": "markdown",
      "metadata": {
        "id": "yAmW7t_cr2mx"
      },
      "source": [
        "### 2.3.1 Encoding [2 Puntos]"
      ]
    },
    {
      "cell_type": "markdown",
      "metadata": {
        "id": "vTWbZqEuqBfN"
      },
      "source": [
        "Contentos con su desempeño ```Kiguix``` les pide realizar su tarea más ambiciosa, la que consiste en crear un pipeline para predecir temperaturas futuras. Para esto les señala que desea realizar el siguiente encoding para las columnas del DataFrame creado en la sección ```2.2.2```:\n",
        "\n",
        "- Codificar el atributo categórico ```station```.\n",
        "- Obtener el MinMaxScaler de los atributos ```latitud```, ```longitud``` y ```altura```.\n",
        "- Realizar una codificación cíclica de ```Year``` y ```Month``` ([referencia de ayuda](https://stats.stackexchange.com/questions/311494/best-practice-for-encoding-datetime-in-machine-learning)).\n",
        "\n",
        "Para el caso de la codificación cíclica deberá crear una clase ```class CyclicalEncoding(BaseEstimator, TransformerMixin)``` para la codificación cíclica, por lo que se recomienda ver la [documentación](https://sklearn-template.readthedocs.io/en/latest/user_guide.html).\n",
        "\n",
        "\n"
      ]
    },
    {
      "cell_type": "code",
      "metadata": {
        "id": "rp7sVUopKc9h"
      },
      "source": [
        "#########################\n",
        "    Código Aquí\n",
        "#########################"
      ],
      "execution_count": null,
      "outputs": []
    },
    {
      "cell_type": "markdown",
      "metadata": {
        "id": "sqZvW1FFsKMN"
      },
      "source": [
        "### 2.3.2 Pipeline! [1 Punto]"
      ]
    },
    {
      "cell_type": "markdown",
      "metadata": {
        "id": "SkPF1JRcseXP"
      },
      "source": [
        "Realizado el encoding añadan este a un pipeline, anexando como último paso un modelo de regresión. Para el modelo de regresión puede escoger uno de su preferencia o escoger un ```DecisionTreeRegressor()``` o ```LogisticRegression()```. \n",
        "\n",
        "Hecho esto, ```Kiguix``` en su rol de querer saber fehacientemente el desempeño de este modelo le sugiere utilizar R2 score, el cual es un estadístico que nos permite visualizar que tan bien predice un modelo de regresión. ¿Que tal le va a la regresión?, ¿Sera coherente utilizar solo estos atributos para predicciones?, Justifique su respuesta."
      ]
    },
    {
      "cell_type": "code",
      "metadata": {
        "id": "bqOsLQF4jief"
      },
      "source": [
        "X_train, X_test, y_train, y_test = train_test_split(\n",
        "        dataset.drop(columns='Temp'),\n",
        "        dataset.Temp,\n",
        "        shuffle=True,\n",
        "        test_size=0.3,\n",
        "        random_state=42)\n",
        "\n",
        "##############################\n",
        "    Código Aquí Pipeline\n",
        "##############################\n",
        "\n",
        "pipeline.fit(X_train, y_train)\n",
        "predicted_regression = pipeline.predict(X_test)\n",
        "\n",
        "# Metrica util para medir regresiones\n",
        "R2score = r2_score(y_test, predicted_regression)"
      ],
      "execution_count": null,
      "outputs": []
    },
    {
      "cell_type": "markdown",
      "metadata": {
        "id": "IVV1D6ecx_Oy"
      },
      "source": [
        "**Justifique:**"
      ]
    },
    {
      "cell_type": "markdown",
      "metadata": {
        "id": "KFG73eoGyAqs"
      },
      "source": [
        "```\n",
        " Escriba aqui su respuesta\n",
        "```"
      ]
    },
    {
      "cell_type": "markdown",
      "metadata": {
        "id": "LCEygFAwsqFY"
      },
      "source": [
        "### 2.3.3 Predicción del Futuro 🔮 [0,5 Puntos]"
      ]
    },
    {
      "cell_type": "markdown",
      "metadata": {
        "id": "p94cskNzyanI"
      },
      "source": [
        "En su afán por el proyecto, el don *Dimadon Vallejos, CEO de `Kiguix`* les entrega el siguiente codigo para visualizar las predicciones. ¿Es coherente lo realizado?, comente."
      ]
    },
    {
      "cell_type": "code",
      "metadata": {
        "colab": {
          "base_uri": "https://localhost:8080/",
          "height": 421
        },
        "id": "6KdfGYXuKx1n",
        "outputId": "c8511e32-f455-4d45-c8d0-7ea0cd4f6188"
      },
      "source": [
        "# Filtramos ciudad\n",
        "data_santiago = dataframe_train[dataframe['station']=='Pudahuel Santiago']\n",
        "\n",
        "# Creamos Información para predecir los proximos años\n",
        "Prox_anho = data_santiago[data_santiago['Year']==2017][['Year', 'Month','Dates', 'altura', 'latitud',\t'longitud', 'station']]\n",
        "Prox_anho.Year.replace(2017,2018, inplace=True)\n",
        "\n",
        "# Definimos el regresor entrenado anteriormente\n",
        "rgr = regressor\n",
        "\n",
        "# Predecimos\n",
        "temp_2018 = rgr.predict(Prox_anho)\n",
        "\n",
        "# Generamos el nuevo DataFrame\n",
        "temp_2018 = {'Month':data_santiago['Month'].unique(), 'Temp':temp_2018}\n",
        "temp_2018=pd.DataFrame(temp_2018)\n",
        "temp_2018['Year'] = 2018\n",
        "temp_2018"
      ],
      "execution_count": null,
      "outputs": [
        {
          "output_type": "execute_result",
          "data": {
            "text/html": [
              "<div>\n",
              "<style scoped>\n",
              "    .dataframe tbody tr th:only-of-type {\n",
              "        vertical-align: middle;\n",
              "    }\n",
              "\n",
              "    .dataframe tbody tr th {\n",
              "        vertical-align: top;\n",
              "    }\n",
              "\n",
              "    .dataframe thead th {\n",
              "        text-align: right;\n",
              "    }\n",
              "</style>\n",
              "<table border=\"1\" class=\"dataframe\">\n",
              "  <thead>\n",
              "    <tr style=\"text-align: right;\">\n",
              "      <th></th>\n",
              "      <th>Month</th>\n",
              "      <th>Temp</th>\n",
              "      <th>Year</th>\n",
              "    </tr>\n",
              "  </thead>\n",
              "  <tbody>\n",
              "    <tr>\n",
              "      <th>0</th>\n",
              "      <td>1</td>\n",
              "      <td>17.654839</td>\n",
              "      <td>2018</td>\n",
              "    </tr>\n",
              "    <tr>\n",
              "      <th>1</th>\n",
              "      <td>2</td>\n",
              "      <td>17.879641</td>\n",
              "      <td>2018</td>\n",
              "    </tr>\n",
              "    <tr>\n",
              "      <th>2</th>\n",
              "      <td>3</td>\n",
              "      <td>14.263447</td>\n",
              "      <td>2018</td>\n",
              "    </tr>\n",
              "    <tr>\n",
              "      <th>3</th>\n",
              "      <td>4</td>\n",
              "      <td>11.925578</td>\n",
              "      <td>2018</td>\n",
              "    </tr>\n",
              "    <tr>\n",
              "      <th>4</th>\n",
              "      <td>5</td>\n",
              "      <td>9.131106</td>\n",
              "      <td>2018</td>\n",
              "    </tr>\n",
              "    <tr>\n",
              "      <th>5</th>\n",
              "      <td>6</td>\n",
              "      <td>7.234667</td>\n",
              "      <td>2018</td>\n",
              "    </tr>\n",
              "    <tr>\n",
              "      <th>6</th>\n",
              "      <td>7</td>\n",
              "      <td>9.131106</td>\n",
              "      <td>2018</td>\n",
              "    </tr>\n",
              "    <tr>\n",
              "      <th>7</th>\n",
              "      <td>8</td>\n",
              "      <td>11.925578</td>\n",
              "      <td>2018</td>\n",
              "    </tr>\n",
              "    <tr>\n",
              "      <th>8</th>\n",
              "      <td>9</td>\n",
              "      <td>14.263447</td>\n",
              "      <td>2018</td>\n",
              "    </tr>\n",
              "    <tr>\n",
              "      <th>9</th>\n",
              "      <td>11</td>\n",
              "      <td>17.654839</td>\n",
              "      <td>2018</td>\n",
              "    </tr>\n",
              "    <tr>\n",
              "      <th>10</th>\n",
              "      <td>10</td>\n",
              "      <td>17.879641</td>\n",
              "      <td>2018</td>\n",
              "    </tr>\n",
              "    <tr>\n",
              "      <th>11</th>\n",
              "      <td>12</td>\n",
              "      <td>19.136448</td>\n",
              "      <td>2018</td>\n",
              "    </tr>\n",
              "  </tbody>\n",
              "</table>\n",
              "</div>"
            ],
            "text/plain": [
              "    Month       Temp  Year\n",
              "0       1  17.654839  2018\n",
              "1       2  17.879641  2018\n",
              "2       3  14.263447  2018\n",
              "3       4  11.925578  2018\n",
              "4       5   9.131106  2018\n",
              "5       6   7.234667  2018\n",
              "6       7   9.131106  2018\n",
              "7       8  11.925578  2018\n",
              "8       9  14.263447  2018\n",
              "9      11  17.654839  2018\n",
              "10     10  17.879641  2018\n",
              "11     12  19.136448  2018"
            ]
          },
          "metadata": {
            "tags": []
          },
          "execution_count": 211
        }
      ]
    },
    {
      "cell_type": "code",
      "metadata": {
        "colab": {
          "base_uri": "https://localhost:8080/",
          "height": 542
        },
        "id": "WuiKknUEy-Dr",
        "outputId": "98683246-7e21-4dee-f129-72403ef48db3"
      },
      "source": [
        "import plotly.graph_objects as go\n",
        "\n",
        "forecasted_temp = pd.concat([data_santiago,temp_2018], sort=False).groupby(by='Year')['Temp'].mean().reset_index()\n",
        "fig = go.Figure(data=[\n",
        "    go.Scatter(x=forecasted_temp['Year'], y=forecasted_temp['Temp'], mode='lines'),\n",
        "    go.Scatter(x=forecasted_temp ['Year'], y=forecasted_temp['Temp'], mode='markers')\n",
        "])\n",
        "fig.update_layout(title='Temperatura predicha en el tiempo:',\n",
        "                 xaxis_title='Time', yaxis_title='Grados Celcius')\n",
        "fig.show()"
      ],
      "execution_count": null,
      "outputs": [
        {
          "output_type": "display_data",
          "data": {
            "text/html": [
              "<html>\n",
              "<head><meta charset=\"utf-8\" /></head>\n",
              "<body>\n",
              "    <div>            <script src=\"https://cdnjs.cloudflare.com/ajax/libs/mathjax/2.7.5/MathJax.js?config=TeX-AMS-MML_SVG\"></script><script type=\"text/javascript\">if (window.MathJax) {MathJax.Hub.Config({SVG: {font: \"STIX-Web\"}});}</script>                <script type=\"text/javascript\">window.PlotlyConfig = {MathJaxConfig: 'local'};</script>\n",
              "        <script src=\"https://cdn.plot.ly/plotly-latest.min.js\"></script>                <div id=\"ae0ea2f5-1c4f-4437-8006-2ea9bd7bb9fb\" class=\"plotly-graph-div\" style=\"height:525px; width:100%;\"></div>            <script type=\"text/javascript\">                                    window.PLOTLYENV=window.PLOTLYENV || {};                                    if (document.getElementById(\"ae0ea2f5-1c4f-4437-8006-2ea9bd7bb9fb\")) {                    Plotly.newPlot(                        \"ae0ea2f5-1c4f-4437-8006-2ea9bd7bb9fb\",                        [{\"mode\": \"lines\", \"type\": \"scatter\", \"x\": [1967, 1968, 1969, 1970, 1971, 1972, 1973, 1974, 1975, 1976, 1977, 1978, 1979, 1980, 1981, 1982, 1983, 1984, 1985, 1986, 1987, 1988, 1989, 1990, 1991, 1992, 1993, 1994, 1995, 1996, 1997, 1998, 1999, 2000, 2001, 2002, 2003, 2004, 2005, 2006, 2007, 2008, 2009, 2010, 2011, 2012, 2013, 2014, 2015, 2016, 2017, 2018], \"y\": [12.937710112595278, 13.88814455675388, 13.284151905195289, 12.701251847892562, 13.314191145168158, 13.980896555157308, 13.51525332379893, 12.800453789042498, 12.689492447516642, 12.831391360771226, 13.72473886328725, 13.668743599590373, 13.387348310291861, 13.729822024471636, 13.478424859190989, 13.723282770097285, 13.334587813620075, 13.141853602768508, 13.582629288274449, 14.169055939580131, 14.367884664618535, 13.627050426399704, 13.840665642601126, 13.50957565284178, 13.896762032770098, 13.63267457669015, 13.628148361495137, 14.026142473118279, 14.065406426011265, 13.838130021010999, 14.533309011776751, 14.255954301075265, 13.820209293394777, 13.860383141762453, 14.163963133640555, 13.9552585765489, 14.342577444956476, 14.129140711902116, 14.320382104454687, 14.656612903225806, 13.282437275985664, 14.567091212458287, 14.78158986175115, 14.03409233363349, 14.369415713716789, 15.0009751575825, 14.626802355350746, 14.63690860215054, 15.221143113159242, 15.209609442590533, 14.967410394265235, 15.332246844358487]}, {\"mode\": \"markers\", \"type\": \"scatter\", \"x\": [1967, 1968, 1969, 1970, 1971, 1972, 1973, 1974, 1975, 1976, 1977, 1978, 1979, 1980, 1981, 1982, 1983, 1984, 1985, 1986, 1987, 1988, 1989, 1990, 1991, 1992, 1993, 1994, 1995, 1996, 1997, 1998, 1999, 2000, 2001, 2002, 2003, 2004, 2005, 2006, 2007, 2008, 2009, 2010, 2011, 2012, 2013, 2014, 2015, 2016, 2017, 2018], \"y\": [12.937710112595278, 13.88814455675388, 13.284151905195289, 12.701251847892562, 13.314191145168158, 13.980896555157308, 13.51525332379893, 12.800453789042498, 12.689492447516642, 12.831391360771226, 13.72473886328725, 13.668743599590373, 13.387348310291861, 13.729822024471636, 13.478424859190989, 13.723282770097285, 13.334587813620075, 13.141853602768508, 13.582629288274449, 14.169055939580131, 14.367884664618535, 13.627050426399704, 13.840665642601126, 13.50957565284178, 13.896762032770098, 13.63267457669015, 13.628148361495137, 14.026142473118279, 14.065406426011265, 13.838130021010999, 14.533309011776751, 14.255954301075265, 13.820209293394777, 13.860383141762453, 14.163963133640555, 13.9552585765489, 14.342577444956476, 14.129140711902116, 14.320382104454687, 14.656612903225806, 13.282437275985664, 14.567091212458287, 14.78158986175115, 14.03409233363349, 14.369415713716789, 15.0009751575825, 14.626802355350746, 14.63690860215054, 15.221143113159242, 15.209609442590533, 14.967410394265235, 15.332246844358487]}],                        {\"template\": {\"data\": {\"bar\": [{\"error_x\": {\"color\": \"#2a3f5f\"}, \"error_y\": {\"color\": \"#2a3f5f\"}, \"marker\": {\"line\": {\"color\": \"#E5ECF6\", \"width\": 0.5}}, \"type\": \"bar\"}], \"barpolar\": [{\"marker\": {\"line\": {\"color\": \"#E5ECF6\", \"width\": 0.5}}, \"type\": \"barpolar\"}], \"carpet\": [{\"aaxis\": {\"endlinecolor\": \"#2a3f5f\", \"gridcolor\": \"white\", \"linecolor\": \"white\", \"minorgridcolor\": \"white\", \"startlinecolor\": \"#2a3f5f\"}, \"baxis\": {\"endlinecolor\": \"#2a3f5f\", \"gridcolor\": \"white\", \"linecolor\": \"white\", \"minorgridcolor\": \"white\", \"startlinecolor\": \"#2a3f5f\"}, \"type\": \"carpet\"}], \"choropleth\": [{\"colorbar\": {\"outlinewidth\": 0, \"ticks\": \"\"}, \"type\": \"choropleth\"}], \"contour\": [{\"colorbar\": {\"outlinewidth\": 0, \"ticks\": \"\"}, \"colorscale\": [[0.0, \"#0d0887\"], [0.1111111111111111, \"#46039f\"], [0.2222222222222222, \"#7201a8\"], [0.3333333333333333, \"#9c179e\"], [0.4444444444444444, \"#bd3786\"], [0.5555555555555556, \"#d8576b\"], [0.6666666666666666, \"#ed7953\"], [0.7777777777777778, \"#fb9f3a\"], [0.8888888888888888, \"#fdca26\"], [1.0, \"#f0f921\"]], \"type\": \"contour\"}], \"contourcarpet\": [{\"colorbar\": {\"outlinewidth\": 0, \"ticks\": \"\"}, \"type\": \"contourcarpet\"}], \"heatmap\": [{\"colorbar\": {\"outlinewidth\": 0, \"ticks\": \"\"}, \"colorscale\": [[0.0, \"#0d0887\"], [0.1111111111111111, \"#46039f\"], [0.2222222222222222, \"#7201a8\"], [0.3333333333333333, \"#9c179e\"], [0.4444444444444444, \"#bd3786\"], [0.5555555555555556, \"#d8576b\"], [0.6666666666666666, \"#ed7953\"], [0.7777777777777778, \"#fb9f3a\"], [0.8888888888888888, \"#fdca26\"], [1.0, \"#f0f921\"]], \"type\": \"heatmap\"}], \"heatmapgl\": [{\"colorbar\": {\"outlinewidth\": 0, \"ticks\": \"\"}, \"colorscale\": [[0.0, \"#0d0887\"], [0.1111111111111111, \"#46039f\"], [0.2222222222222222, \"#7201a8\"], [0.3333333333333333, \"#9c179e\"], [0.4444444444444444, \"#bd3786\"], [0.5555555555555556, \"#d8576b\"], [0.6666666666666666, \"#ed7953\"], [0.7777777777777778, \"#fb9f3a\"], [0.8888888888888888, \"#fdca26\"], [1.0, \"#f0f921\"]], \"type\": \"heatmapgl\"}], \"histogram\": [{\"marker\": {\"colorbar\": {\"outlinewidth\": 0, \"ticks\": \"\"}}, \"type\": \"histogram\"}], \"histogram2d\": [{\"colorbar\": {\"outlinewidth\": 0, \"ticks\": \"\"}, \"colorscale\": [[0.0, \"#0d0887\"], [0.1111111111111111, \"#46039f\"], [0.2222222222222222, \"#7201a8\"], [0.3333333333333333, \"#9c179e\"], [0.4444444444444444, \"#bd3786\"], [0.5555555555555556, \"#d8576b\"], [0.6666666666666666, \"#ed7953\"], [0.7777777777777778, \"#fb9f3a\"], [0.8888888888888888, \"#fdca26\"], [1.0, \"#f0f921\"]], \"type\": \"histogram2d\"}], \"histogram2dcontour\": [{\"colorbar\": {\"outlinewidth\": 0, \"ticks\": \"\"}, \"colorscale\": [[0.0, \"#0d0887\"], [0.1111111111111111, \"#46039f\"], [0.2222222222222222, \"#7201a8\"], [0.3333333333333333, \"#9c179e\"], [0.4444444444444444, \"#bd3786\"], [0.5555555555555556, \"#d8576b\"], [0.6666666666666666, \"#ed7953\"], [0.7777777777777778, \"#fb9f3a\"], [0.8888888888888888, \"#fdca26\"], [1.0, \"#f0f921\"]], \"type\": \"histogram2dcontour\"}], \"mesh3d\": [{\"colorbar\": {\"outlinewidth\": 0, \"ticks\": \"\"}, \"type\": \"mesh3d\"}], \"parcoords\": [{\"line\": {\"colorbar\": {\"outlinewidth\": 0, \"ticks\": \"\"}}, \"type\": \"parcoords\"}], \"pie\": [{\"automargin\": true, \"type\": \"pie\"}], \"scatter\": [{\"marker\": {\"colorbar\": {\"outlinewidth\": 0, \"ticks\": \"\"}}, \"type\": \"scatter\"}], \"scatter3d\": [{\"line\": {\"colorbar\": {\"outlinewidth\": 0, \"ticks\": \"\"}}, \"marker\": {\"colorbar\": {\"outlinewidth\": 0, \"ticks\": \"\"}}, \"type\": \"scatter3d\"}], \"scattercarpet\": [{\"marker\": {\"colorbar\": {\"outlinewidth\": 0, \"ticks\": \"\"}}, \"type\": \"scattercarpet\"}], \"scattergeo\": [{\"marker\": {\"colorbar\": {\"outlinewidth\": 0, \"ticks\": \"\"}}, \"type\": \"scattergeo\"}], \"scattergl\": [{\"marker\": {\"colorbar\": {\"outlinewidth\": 0, \"ticks\": \"\"}}, \"type\": \"scattergl\"}], \"scattermapbox\": [{\"marker\": {\"colorbar\": {\"outlinewidth\": 0, \"ticks\": \"\"}}, \"type\": \"scattermapbox\"}], \"scatterpolar\": [{\"marker\": {\"colorbar\": {\"outlinewidth\": 0, \"ticks\": \"\"}}, \"type\": \"scatterpolar\"}], \"scatterpolargl\": [{\"marker\": {\"colorbar\": {\"outlinewidth\": 0, \"ticks\": \"\"}}, \"type\": \"scatterpolargl\"}], \"scatterternary\": [{\"marker\": {\"colorbar\": {\"outlinewidth\": 0, \"ticks\": \"\"}}, \"type\": \"scatterternary\"}], \"surface\": [{\"colorbar\": {\"outlinewidth\": 0, \"ticks\": \"\"}, \"colorscale\": [[0.0, \"#0d0887\"], [0.1111111111111111, \"#46039f\"], [0.2222222222222222, \"#7201a8\"], [0.3333333333333333, \"#9c179e\"], [0.4444444444444444, \"#bd3786\"], [0.5555555555555556, \"#d8576b\"], [0.6666666666666666, \"#ed7953\"], [0.7777777777777778, \"#fb9f3a\"], [0.8888888888888888, \"#fdca26\"], [1.0, \"#f0f921\"]], \"type\": \"surface\"}], \"table\": [{\"cells\": {\"fill\": {\"color\": \"#EBF0F8\"}, \"line\": {\"color\": \"white\"}}, \"header\": {\"fill\": {\"color\": \"#C8D4E3\"}, \"line\": {\"color\": \"white\"}}, \"type\": \"table\"}]}, \"layout\": {\"annotationdefaults\": {\"arrowcolor\": \"#2a3f5f\", \"arrowhead\": 0, \"arrowwidth\": 1}, \"autotypenumbers\": \"strict\", \"coloraxis\": {\"colorbar\": {\"outlinewidth\": 0, \"ticks\": \"\"}}, \"colorscale\": {\"diverging\": [[0, \"#8e0152\"], [0.1, \"#c51b7d\"], [0.2, \"#de77ae\"], [0.3, \"#f1b6da\"], [0.4, \"#fde0ef\"], [0.5, \"#f7f7f7\"], [0.6, \"#e6f5d0\"], [0.7, \"#b8e186\"], [0.8, \"#7fbc41\"], [0.9, \"#4d9221\"], [1, \"#276419\"]], \"sequential\": [[0.0, \"#0d0887\"], [0.1111111111111111, \"#46039f\"], [0.2222222222222222, \"#7201a8\"], [0.3333333333333333, \"#9c179e\"], [0.4444444444444444, \"#bd3786\"], [0.5555555555555556, \"#d8576b\"], [0.6666666666666666, \"#ed7953\"], [0.7777777777777778, \"#fb9f3a\"], [0.8888888888888888, \"#fdca26\"], [1.0, \"#f0f921\"]], \"sequentialminus\": [[0.0, \"#0d0887\"], [0.1111111111111111, \"#46039f\"], [0.2222222222222222, \"#7201a8\"], [0.3333333333333333, \"#9c179e\"], [0.4444444444444444, \"#bd3786\"], [0.5555555555555556, \"#d8576b\"], [0.6666666666666666, \"#ed7953\"], [0.7777777777777778, \"#fb9f3a\"], [0.8888888888888888, \"#fdca26\"], [1.0, \"#f0f921\"]]}, \"colorway\": [\"#636efa\", \"#EF553B\", \"#00cc96\", \"#ab63fa\", \"#FFA15A\", \"#19d3f3\", \"#FF6692\", \"#B6E880\", \"#FF97FF\", \"#FECB52\"], \"font\": {\"color\": \"#2a3f5f\"}, \"geo\": {\"bgcolor\": \"white\", \"lakecolor\": \"white\", \"landcolor\": \"#E5ECF6\", \"showlakes\": true, \"showland\": true, \"subunitcolor\": \"white\"}, \"hoverlabel\": {\"align\": \"left\"}, \"hovermode\": \"closest\", \"mapbox\": {\"style\": \"light\"}, \"paper_bgcolor\": \"white\", \"plot_bgcolor\": \"#E5ECF6\", \"polar\": {\"angularaxis\": {\"gridcolor\": \"white\", \"linecolor\": \"white\", \"ticks\": \"\"}, \"bgcolor\": \"#E5ECF6\", \"radialaxis\": {\"gridcolor\": \"white\", \"linecolor\": \"white\", \"ticks\": \"\"}}, \"scene\": {\"xaxis\": {\"backgroundcolor\": \"#E5ECF6\", \"gridcolor\": \"white\", \"gridwidth\": 2, \"linecolor\": \"white\", \"showbackground\": true, \"ticks\": \"\", \"zerolinecolor\": \"white\"}, \"yaxis\": {\"backgroundcolor\": \"#E5ECF6\", \"gridcolor\": \"white\", \"gridwidth\": 2, \"linecolor\": \"white\", \"showbackground\": true, \"ticks\": \"\", \"zerolinecolor\": \"white\"}, \"zaxis\": {\"backgroundcolor\": \"#E5ECF6\", \"gridcolor\": \"white\", \"gridwidth\": 2, \"linecolor\": \"white\", \"showbackground\": true, \"ticks\": \"\", \"zerolinecolor\": \"white\"}}, \"shapedefaults\": {\"line\": {\"color\": \"#2a3f5f\"}}, \"ternary\": {\"aaxis\": {\"gridcolor\": \"white\", \"linecolor\": \"white\", \"ticks\": \"\"}, \"baxis\": {\"gridcolor\": \"white\", \"linecolor\": \"white\", \"ticks\": \"\"}, \"bgcolor\": \"#E5ECF6\", \"caxis\": {\"gridcolor\": \"white\", \"linecolor\": \"white\", \"ticks\": \"\"}}, \"title\": {\"x\": 0.05}, \"xaxis\": {\"automargin\": true, \"gridcolor\": \"white\", \"linecolor\": \"white\", \"ticks\": \"\", \"title\": {\"standoff\": 15}, \"zerolinecolor\": \"white\", \"zerolinewidth\": 2}, \"yaxis\": {\"automargin\": true, \"gridcolor\": \"white\", \"linecolor\": \"white\", \"ticks\": \"\", \"title\": {\"standoff\": 15}, \"zerolinecolor\": \"white\", \"zerolinewidth\": 2}}}, \"title\": {\"text\": \"Temperatura predicha en el tiempo:\"}, \"xaxis\": {\"title\": {\"text\": \"Time\"}}, \"yaxis\": {\"title\": {\"text\": \"Grados Celcius\"}}},                        {\"responsive\": true}                    ).then(function(){\n",
              "                            \n",
              "var gd = document.getElementById('ae0ea2f5-1c4f-4437-8006-2ea9bd7bb9fb');\n",
              "var x = new MutationObserver(function (mutations, observer) {{\n",
              "        var display = window.getComputedStyle(gd).display;\n",
              "        if (!display || display === 'none') {{\n",
              "            console.log([gd, 'removed!']);\n",
              "            Plotly.purge(gd);\n",
              "            observer.disconnect();\n",
              "        }}\n",
              "}});\n",
              "\n",
              "// Listen for the removal of the full notebook cells\n",
              "var notebookContainer = gd.closest('#notebook-container');\n",
              "if (notebookContainer) {{\n",
              "    x.observe(notebookContainer, {childList: true});\n",
              "}}\n",
              "\n",
              "// Listen for the clearing of the current output cell\n",
              "var outputEl = gd.closest('.output');\n",
              "if (outputEl) {{\n",
              "    x.observe(outputEl, {childList: true});\n",
              "}}\n",
              "\n",
              "                        })                };                            </script>        </div>\n",
              "</body>\n",
              "</html>"
            ]
          },
          "metadata": {
            "tags": []
          }
        }
      ]
    },
    {
      "cell_type": "markdown",
      "metadata": {
        "id": "jkZsqaXBzNTq"
      },
      "source": [
        "**Justifique:**"
      ]
    },
    {
      "cell_type": "markdown",
      "metadata": {
        "id": "AvaH_6ZFzQMD"
      },
      "source": [
        "```\n",
        " Escriba aqui su respuesta\n",
        "```"
      ]
    },
    {
      "cell_type": "markdown",
      "metadata": {
        "id": "Rg4ZMq8ezAH6"
      },
      "source": [
        "# Cierre\n",
        "Recuerden que la tarea tiene un plazo de entrega de dos semanas y que **los días de atraso son válidos para las tareas**. Cualquier duda de la tarea, no duden en contactarnos por mail o U-cursos.\n",
        "\n",
        "\n",
        "\n",
        "<p align=\"center\">\n",
        "  <img src=\"https://i.pinimg.com/originals/65/ae/27/65ae270df87c3c4adcea997e48f60852.gif\">\n",
        "</p>"
      ]
    }
  ]
}